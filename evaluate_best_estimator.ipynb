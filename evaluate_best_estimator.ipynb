{
  "nbformat": 4,
  "nbformat_minor": 0,
  "metadata": {
    "kernelspec": {
      "display_name": "Python 3",
      "language": "python",
      "name": "python3"
    },
    "language_info": {
      "codemirror_mode": {
        "name": "ipython",
        "version": 3
      },
      "file_extension": ".py",
      "mimetype": "text/x-python",
      "name": "python",
      "nbconvert_exporter": "python",
      "pygments_lexer": "ipython3",
      "version": "3.7.3-final"
    },
    "colab": {
      "name": "evaluate_best_estimator.ipynb",
      "provenance": [],
      "toc_visible": true,
      "machine_shape": "hm"
    }
  },
  "cells": [
    {
      "cell_type": "code",
      "metadata": {
        "id": "l2Nsc2FPzlk0"
      },
      "source": [
        ""
      ],
      "execution_count": null,
      "outputs": []
    },
    {
      "cell_type": "code",
      "metadata": {
        "id": "xIDyRkQZt55G",
        "colab": {
          "base_uri": "https://localhost:8080/"
        },
        "outputId": "c1e41475-dbbd-4b7d-88ee-7b0bff15e158"
      },
      "source": [
        "import os\n",
        "os.system(\"git clone https://github.com/soerenetler/squad-question-generation.git\")\n",
        "os.system(\"git clone https://github.com/soerenetler/spacy_target_answer.git\")\n",
        "os.system(\"git clone https://github.com/soerenetler/crf_target_answer.git\")\n",
        "\n",
        "from google.colab import drive\n",
        "drive.mount('/content/gdrive')"
      ],
      "execution_count": 1,
      "outputs": [
        {
          "output_type": "stream",
          "text": [
            "Mounted at /content/gdrive\n"
          ],
          "name": "stdout"
        }
      ]
    },
    {
      "cell_type": "code",
      "metadata": {
        "id": "2O_mec5mt8r0",
        "colab": {
          "base_uri": "https://localhost:8080/"
        },
        "outputId": "6bde5e56-e1a2-4a93-a513-c9d38f5b833e"
      },
      "source": [
        "!(cd squad-question-generation/; git pull)\n",
        "!(cd crf_target_answer/; git pull)"
      ],
      "execution_count": 2,
      "outputs": [
        {
          "output_type": "stream",
          "text": [
            "Already up to date.\n",
            "Already up to date.\n"
          ],
          "name": "stdout"
        }
      ]
    },
    {
      "cell_type": "code",
      "metadata": {
        "id": "liGvAyjXm7Os"
      },
      "source": [
        "!cp crf_target_answer/Custom.py Custom.py\n",
        "!cp crf_target_answer/model/evaluation_utils.py evaluation_utils.py"
      ],
      "execution_count": 3,
      "outputs": []
    },
    {
      "cell_type": "code",
      "metadata": {
        "id": "FkIAX_94uY8i",
        "colab": {
          "base_uri": "https://localhost:8080/"
        },
        "outputId": "82f2c2c9-8ba9-41e6-b936-09404e0f1906"
      },
      "source": [
        "!pip install -r crf_target_answer/requirements.txt --quiet"
      ],
      "execution_count": 4,
      "outputs": [
        {
          "output_type": "stream",
          "text": [
            "\u001b[K     |████████████████████████████████| 112kB 4.4MB/s \n",
            "\u001b[K     |████████████████████████████████| 747kB 6.4MB/s \n",
            "\u001b[?25h"
          ],
          "name": "stdout"
        }
      ]
    },
    {
      "cell_type": "code",
      "metadata": {
        "colab": {
          "base_uri": "https://localhost:8080/"
        },
        "id": "WoCcjgbQylYb",
        "outputId": "dc198e18-93b8-49ea-c9f1-ef554abced52"
      },
      "source": [
        "import joblib\n",
        "import eli5\n",
        "import pandas as pd\n",
        "#from FeatureTransformer import FeatureTransformer\n",
        "import pandas as pd\n",
        "import ast\n",
        "import spacy\n",
        "from Custom import *\n",
        "from sklearn_crfsuite import metrics\n",
        "from evaluation_utils import visualize_transitions, print_annotated_text, crf_roc_curve"
      ],
      "execution_count": 5,
      "outputs": [
        {
          "output_type": "stream",
          "text": [
            "/usr/local/lib/python3.7/dist-packages/sklearn/utils/deprecation.py:144: FutureWarning: The sklearn.feature_selection.base module is  deprecated in version 0.22 and will be removed in version 0.24. The corresponding classes / functions should instead be imported from sklearn.feature_selection. Anything that cannot be imported from sklearn.feature_selection is now part of the private API.\n",
            "  warnings.warn(message, FutureWarning)\n"
          ],
          "name": "stderr"
        }
      ]
    },
    {
      "cell_type": "code",
      "metadata": {
        "id": "QHNAfH_32vek"
      },
      "source": [
        "import json\n",
        "\n",
        "data_folder = \"/content/gdrive/MyDrive/mt-qg-data/01_data/preprocessedData/\"\n",
        "model_folder = \"/content/gdrive/MyDrive/mt-qg-data/00_models/crf_target_answer/\"\n",
        "dataset = \"squad\"\n",
        "NO_SAMPLES = None\n",
        "\n",
        "with open(data_folder + dataset+'/crf/'+str(NO_SAMPLES)+'_train_crf.txt') as f:\n",
        "  data_json = json.load(f)\n",
        "  train_feature = data_json[\"x\"]\n",
        "  y_train = data_json[\"y\"]\n",
        "  token_train = data_json[\"token\"]\n",
        "\n",
        "with open(data_folder + dataset+'/crf/'+str(NO_SAMPLES)+'_test_crf.txt') as f:\n",
        "  data_json = json.load(f)\n",
        "  test_feature = data_json[\"x\"]\n",
        "  y_test = data_json[\"y\"]\n",
        "  token_test = data_json[\"token\"]"
      ],
      "execution_count": 6,
      "outputs": []
    },
    {
      "cell_type": "code",
      "metadata": {
        "id": "iKhLZWTYJTgj"
      },
      "source": [
        "best_param={'c1': 0.1, 'c2': 1000}\n",
        "\n",
        "crf = Custom_CRF(algorithm='lbfgs',\n",
        "                  max_iterations=100,\n",
        "                  min_freq=5,\n",
        "                  all_possible_transitions=False,\n",
        "                 **best_param)"
      ],
      "execution_count": null,
      "outputs": []
    },
    {
      "cell_type": "code",
      "metadata": {
        "colab": {
          "base_uri": "https://localhost:8080/"
        },
        "id": "afzdVZGkJmAf",
        "outputId": "2a13082b-8066-41a9-c4d4-d6c287fe9b78"
      },
      "source": [
        "%%time\n",
        "crf.fit(train_feature, io2iob(y_train))"
      ],
      "execution_count": null,
      "outputs": [
        {
          "output_type": "stream",
          "text": [
            "CPU times: user 11min 24s, sys: 4.59 s, total: 11min 29s\n",
            "Wall time: 11min 27s\n"
          ],
          "name": "stdout"
        },
        {
          "output_type": "stream",
          "text": [
            "/usr/local/lib/python3.7/dist-packages/sklearn/base.py:197: FutureWarning: From version 0.24, get_params will raise an AttributeError if a parameter cannot be retrieved as an instance attribute. Previously it would return None.\n",
            "  FutureWarning)\n"
          ],
          "name": "stderr"
        },
        {
          "output_type": "execute_result",
          "data": {
            "text/plain": [
              "Custom_CRF(algorithm='lbfgs', all_possible_states=None,\n",
              "           all_possible_transitions=False, averaging=None, c=None, c1=0.1,\n",
              "           c2=1000, calibration_candidates=None, calibration_eta=None,\n",
              "           calibration_max_trials=None, calibration_rate=None,\n",
              "           calibration_samples=None, delta=None, epsilon=None,\n",
              "           error_sensitive=None, gamma=None, keep_tempfiles=None,\n",
              "           linesearch=None, max_iterations=100, max_linesearch=None, min_freq=5,\n",
              "           model_filename=None, num_memories=None, pa_type=None, period=None,\n",
              "           trainer_cls=None, variance=None, verbose=False)"
            ]
          },
          "metadata": {
            "tags": []
          },
          "execution_count": 54
        }
      ]
    },
    {
      "cell_type": "code",
      "metadata": {
        "colab": {
          "base_uri": "https://localhost:8080/"
        },
        "id": "WQzhOvaTJKP2",
        "outputId": "1b1922b0-527e-4a99-b485-bac8bff7d3ab"
      },
      "source": [
        "joblib.dump(crf, model_folder +dataset + \"/\" +  'final_estimator.pkl')"
      ],
      "execution_count": null,
      "outputs": [
        {
          "output_type": "execute_result",
          "data": {
            "text/plain": [
              "['/content/gdrive/MyDrive/mt-qg-data/00_models/crf_target_answer/squad/final_estimator.pkl']"
            ]
          },
          "metadata": {
            "tags": []
          },
          "execution_count": 55
        }
      ]
    },
    {
      "cell_type": "code",
      "metadata": {
        "id": "X6oOD4_cAVKP"
      },
      "source": [
        "crf=joblib.load(model_folder +dataset + \"/\" +  'final_estimator.pkl')"
      ],
      "execution_count": 7,
      "outputs": []
    },
    {
      "cell_type": "code",
      "metadata": {
        "id": "ASI7N_9TylYl"
      },
      "source": [
        "y_pred_test = crf.predict(test_feature)\n",
        "y_pred_test_marginals = crf.predict_proba(test_feature)\n",
        "\n",
        "y_pred_train = crf.predict(train_feature)\n",
        "y_pred_train_marginals = crf.predict_proba(train_feature)"
      ],
      "execution_count": 8,
      "outputs": []
    },
    {
      "cell_type": "code",
      "metadata": {
        "colab": {
          "base_uri": "https://localhost:8080/"
        },
        "id": "FA-jLZyJe_TD",
        "outputId": "9e303f4f-6a3f-481d-ffd8-c9335954b11b"
      },
      "source": [
        "print(y_pred_test_marginals[0])"
      ],
      "execution_count": 9,
      "outputs": [
        {
          "output_type": "stream",
          "text": [
            "[{'O': 0.9013635526499948, 'B-Answer': 0.08726312864114318, 'I-Answer': 0.011373318708862967}, {'O': 0.8270417766865454, 'B-Answer': 0.07885706205381528, 'I-Answer': 0.0941011612596402}, {'O': 0.9720620833415231, 'B-Answer': 0.0020879997096200564, 'I-Answer': 0.025849916948857663}, {'O': 0.9128417856537466, 'B-Answer': 0.05967830476751435, 'I-Answer': 0.02747990957873961}, {'O': 0.9642340970862331, 'B-Answer': 0.0025858221611750973, 'I-Answer': 0.03318008075259233}, {'O': 0.8821529828206551, 'B-Answer': 0.07974176527684594, 'I-Answer': 0.03810525190249952}, {'O': 0.9731387769591026, 'B-Answer': 0.0020718590572288103, 'I-Answer': 0.024789363983669207}, {'O': 0.9108063035166996, 'B-Answer': 0.06209891938764292, 'I-Answer': 0.02709477709565809}, {'O': 0.9607957656177788, 'B-Answer': 0.0029569210020774107, 'I-Answer': 0.03624731338014429}, {'O': 0.8752132753571715, 'B-Answer': 0.08188000801510335, 'I-Answer': 0.04290671662772536}, {'O': 0.9626424206178653, 'B-Answer': 0.0028741739184506817, 'I-Answer': 0.034483405463684204}, {'O': 0.8785257744960118, 'B-Answer': 0.08314168543853462, 'I-Answer': 0.038332540065453564}, {'O': 0.9569193567891626, 'B-Answer': 0.0029795207828940953, 'I-Answer': 0.04010112242794328}, {'O': 0.8570920735905919, 'B-Answer': 0.09556440959810146, 'I-Answer': 0.047343516811306614}, {'O': 0.9699799229874282, 'B-Answer': 0.0007759899066979361, 'I-Answer': 0.029244087105873773}, {'O': 0.9906235214383178, 'B-Answer': 0.002504647627768907, 'I-Answer': 0.00687183093391328}, {'O': 0.9441441632698225, 'B-Answer': 0.04617368156077129, 'I-Answer': 0.009682155169406032}, {'O': 0.9136120458138629, 'B-Answer': 0.037609110709447474, 'I-Answer': 0.048778843476689586}, {'O': 0.9591750031468885, 'B-Answer': 0.003539250498870867, 'I-Answer': 0.03728574635424069}, {'O': 0.9700260667910435, 'B-Answer': 0.006409305264277248, 'I-Answer': 0.023564627944679267}, {'O': 0.9134437667518955, 'B-Answer': 0.05303936043020952, 'I-Answer': 0.03351687281789495}, {'O': 0.7831419570073226, 'B-Answer': 0.12293798748381107, 'I-Answer': 0.09392005550886617}, {'O': 0.8157102009552145, 'B-Answer': 0.0015732964215329705, 'I-Answer': 0.18271650262325234}, {'O': 0.7934714846852964, 'B-Answer': 0.02522593908608978, 'I-Answer': 0.18130257622861395}, {'O': 0.8332711738026635, 'B-Answer': 0.004537388569132551, 'I-Answer': 0.16219143762820415}, {'O': 0.948642287899698, 'B-Answer': 0.004310447336986225, 'I-Answer': 0.04704726476331598}, {'O': 0.9431244343737119, 'B-Answer': 0.01014616879406825, 'I-Answer': 0.04672939683222023}, {'O': 0.9385803901637341, 'B-Answer': 0.005480045619991925, 'I-Answer': 0.05593956421627438}, {'O': 0.945383662968708, 'B-Answer': 0.008631587193661376, 'I-Answer': 0.04598474983763098}, {'O': 0.7894951737041528, 'B-Answer': 0.14548733504844547, 'I-Answer': 0.06501749124740187}, {'O': 0.938180798208255, 'B-Answer': 0.0016491114001764386, 'I-Answer': 0.0601700903915686}, {'O': 0.9134686605192894, 'B-Answer': 0.02309212406430849, 'I-Answer': 0.06343921541640216}, {'O': 0.8767071414144914, 'B-Answer': 0.0334951194487835, 'I-Answer': 0.08979773913672524}, {'O': 0.9140205015579608, 'B-Answer': 0.0037778712561978016, 'I-Answer': 0.0822016271858415}, {'O': 0.7685575355524543, 'B-Answer': 0.140511445140016, 'I-Answer': 0.09093101930752989}, {'O': 0.9777352154667746, 'B-Answer': 0.001888804452718691, 'I-Answer': 0.020375980080506867}]\n"
          ],
          "name": "stdout"
        }
      ]
    },
    {
      "cell_type": "code",
      "metadata": {
        "colab": {
          "base_uri": "https://localhost:8080/",
          "height": 479
        },
        "id": "QFSt8pomylYm",
        "outputId": "fb610290-bc90-4f64-90a7-c04daa3a552b"
      },
      "source": [
        "# Evaluate Standard Evaluation Metricies\n",
        "\n",
        "print(metrics.flat_classification_report(io2iob(y_test), y_pred_test, digits=5))\n",
        "crf_roc_curve(io2iob(y_test), y_pred_test_marginals)"
      ],
      "execution_count": 10,
      "outputs": [
        {
          "output_type": "stream",
          "text": [
            "              precision    recall  f1-score   support\n",
            "\n",
            "    B-Answer    0.47907   0.01275   0.02483      8080\n",
            "    I-Answer    0.55375   0.00619   0.01225     27451\n",
            "           O    0.80023   0.99839   0.88840    141383\n",
            "\n",
            "    accuracy                        0.79942    176914\n",
            "   macro avg    0.61102   0.33911   0.30849    176914\n",
            "weighted avg    0.74732   0.79942   0.71301    176914\n",
            "\n"
          ],
          "name": "stdout"
        },
        {
          "output_type": "display_data",
          "data": {
            "image/png": "[encoded data removed]",
            "text/plain": [
              "<Figure size 432x288 with 1 Axes>"
            ]
          },
          "metadata": {
            "tags": [],
            "needs_background": "light"
          }
        }
      ]
    },
    {
      "cell_type": "code",
      "metadata": {
        "colab": {
          "base_uri": "https://localhost:8080/",
          "height": 479
        },
        "id": "m93GNzpYylYm",
        "outputId": "031934f8-2d93-43ad-b4e5-c440bbb40af7"
      },
      "source": [
        "# Evaluate Standard Evaluation Metricies\n",
        "print(metrics.flat_classification_report(io2iob(y_train), y_pred_train, digits=5))\n",
        "crf_roc_curve(io2iob(y_train), y_pred_train_marginals)"
      ],
      "execution_count": 11,
      "outputs": [
        {
          "output_type": "stream",
          "text": [
            "              precision    recall  f1-score   support\n",
            "\n",
            "    B-Answer    0.50907   0.01867   0.03601     76656\n",
            "    I-Answer    0.52532   0.00957   0.01880    200480\n",
            "           O    0.86649   0.99833   0.92775   1778924\n",
            "\n",
            "    accuracy                        0.86540   2056060\n",
            "   macro avg    0.63363   0.34219   0.32752   2056060\n",
            "weighted avg    0.81990   0.86540   0.80588   2056060\n",
            "\n"
          ],
          "name": "stdout"
        },
        {
          "output_type": "display_data",
          "data": {
            "image/png": "[encoded data removed]",
            "text/plain": [
              "<Figure size 432x288 with 1 Axes>"
            ]
          },
          "metadata": {
            "tags": [],
            "needs_background": "light"
          }
        }
      ]
    },
    {
      "cell_type": "code",
      "metadata": {
        "colab": {
          "base_uri": "https://localhost:8080/",
          "height": 1000
        },
        "id": "VX7WucIaylYn",
        "outputId": "cd3299b7-3658-4e74-a1d4-da80366c63c6"
      },
      "source": [
        "eli5.show_weights(crf, top=100)"
      ],
      "execution_count": 12,
      "outputs": [
        {
          "output_type": "stream",
          "text": [
            "/usr/local/lib/python3.7/dist-packages/sklearn/base.py:197: FutureWarning: From version 0.24, get_params will raise an AttributeError if a parameter cannot be retrieved as an instance attribute. Previously it would return None.\n",
            "  FutureWarning)\n"
          ],
          "name": "stderr"
        },
        {
          "output_type": "execute_result",
          "data": {
            "text/html": [
              "\n",
              "    <style>\n",
              "    table.eli5-weights tr:hover {\n",
              "        filter: brightness(85%);\n",
              "    }\n",
              "</style>\n",
              "\n",
              "\n",
              "\n",
              "    \n",
              "\n",
              "    \n",
              "\n",
              "    \n",
              "        \n",
              "\n",
              "\n",
              "<table class=\"eli5-transition-features\" style=\"margin-bottom: 0.5em;\">\n",
              "    <thead>\n",
              "        <tr>\n",
              "            <td>From \\ To</td>\n",
              "            \n",
              "                <th>O</th>\n",
              "            \n",
              "                <th>B-Answer</th>\n",
              "            \n",
              "                <th>I-Answer</th>\n",
              "            \n",
              "        </tr>\n",
              "    </thead>\n",
              "    <tbody>\n",
              "        \n",
              "            \n",
              "                <tr>\n",
              "                    <th>O</th>\n",
              "                    \n",
              "                        <td style=\"background-color: hsl(120, 100.00%, 83.55%)\" title=\"O &rArr; O\">\n",
              "                            2.136\n",
              "                        </td>\n",
              "                    \n",
              "                        <td style=\"background-color: hsl(120, 100.00%, 81.90%)\" title=\"O &rArr; B-Answer\">\n",
              "                            2.447\n",
              "                        </td>\n",
              "                    \n",
              "                        <td style=\"background-color: hsl(0, 100.00%, 100.00%)\" title=\"O &rArr; I-Answer\">\n",
              "                            0.0\n",
              "                        </td>\n",
              "                    \n",
              "                </tr>\n",
              "            \n",
              "                <tr>\n",
              "                    <th>B-Answer</th>\n",
              "                    \n",
              "                        <td style=\"background-color: hsl(0, 100.00%, 85.12%)\" title=\"B-Answer &rArr; O\">\n",
              "                            -1.85\n",
              "                        </td>\n",
              "                    \n",
              "                        <td style=\"background-color: hsl(0, 100.00%, 100.00%)\" title=\"B-Answer &rArr; B-Answer\">\n",
              "                            0.0\n",
              "                        </td>\n",
              "                    \n",
              "                        <td style=\"background-color: hsl(120, 100.00%, 83.35%)\" title=\"B-Answer &rArr; I-Answer\">\n",
              "                            2.172\n",
              "                        </td>\n",
              "                    \n",
              "                </tr>\n",
              "            \n",
              "                <tr>\n",
              "                    <th>I-Answer</th>\n",
              "                    \n",
              "                        <td style=\"background-color: hsl(0, 100.00%, 84.00%)\" title=\"I-Answer &rArr; O\">\n",
              "                            -2.052\n",
              "                        </td>\n",
              "                    \n",
              "                        <td style=\"background-color: hsl(0, 100.00%, 100.00%)\" title=\"I-Answer &rArr; B-Answer\">\n",
              "                            0.0\n",
              "                        </td>\n",
              "                    \n",
              "                        <td style=\"background-color: hsl(120, 100.00%, 80.00%)\" title=\"I-Answer &rArr; I-Answer\">\n",
              "                            2.823\n",
              "                        </td>\n",
              "                    \n",
              "                </tr>\n",
              "            \n",
              "        \n",
              "    </tbody>\n",
              "</table>\n",
              "    \n",
              "\n",
              "    \n",
              "\n",
              "    \n",
              "\n",
              "    \n",
              "\n",
              "\n",
              "    \n",
              "\n",
              "    \n",
              "\n",
              "    \n",
              "\n",
              "    \n",
              "        \n",
              "\n",
              "    \n",
              "        <table class=\"eli5-weights-wrapper\" style=\"border-collapse: collapse; border: none; margin-bottom: 1.5em;\">\n",
              "            <tr>\n",
              "                \n",
              "                    <td style=\"padding: 0.5em; border: 1px solid black; text-align: center;\">\n",
              "                        <b>\n",
              "    \n",
              "        y=O\n",
              "    \n",
              "</b>\n",
              "\n",
              "top features\n",
              "                    </td>\n",
              "                \n",
              "                    <td style=\"padding: 0.5em; border: 1px solid black; text-align: center;\">\n",
              "                        <b>\n",
              "    \n",
              "        y=B-Answer\n",
              "    \n",
              "</b>\n",
              "\n",
              "top features\n",
              "                    </td>\n",
              "                \n",
              "                    <td style=\"padding: 0.5em; border: 1px solid black; text-align: center;\">\n",
              "                        <b>\n",
              "    \n",
              "        y=I-Answer\n",
              "    \n",
              "</b>\n",
              "\n",
              "top features\n",
              "                    </td>\n",
              "                \n",
              "            </tr>\n",
              "            <tr>\n",
              "                \n",
              "                    \n",
              "                        <td style=\"padding: 0px; border: 1px solid black; vertical-align: top;\">\n",
              "                            \n",
              "                                \n",
              "                                    \n",
              "                                    \n",
              "    \n",
              "    <table class=\"eli5-weights\"\n",
              "           style=\"border-collapse: collapse; border: none; margin-top: 0em; table-layout: auto; width: 100%;\">\n",
              "        <thead>\n",
              "        <tr style=\"border: none;\">\n",
              "            \n",
              "                <th style=\"padding: 0 1em 0 0.5em; text-align: right; border: none;\" title=\"Feature weights. Note that weights do not account for feature value scales, so if feature values have different scales, features with highest weights might not be the most important.\">\n",
              "                    Weight<sup>?</sup>\n",
              "                </th>\n",
              "            \n",
              "            <th style=\"padding: 0 0.5em 0 0.5em; text-align: left; border: none;\">Feature</th>\n",
              "            \n",
              "        </tr>\n",
              "        </thead>\n",
              "        <tbody>\n",
              "        \n",
              "            <tr style=\"background-color: hsl(120, 100.00%, 80.00%); border: none;\">\n",
              "    <td style=\"padding: 0 1em 0 0.5em; text-align: right; border: none;\">\n",
              "        +0.780\n",
              "    </td>\n",
              "    <td style=\"padding: 0 0.5em 0 0.5em; text-align: left; border: none;\">\n",
              "        1 EOS\n",
              "    </td>\n",
              "    \n",
              "</tr>\n",
              "        \n",
              "            <tr style=\"background-color: hsl(120, 100.00%, 81.75%); border: none;\">\n",
              "    <td style=\"padding: 0 1em 0 0.5em; text-align: right; border: none;\">\n",
              "        +0.684\n",
              "    </td>\n",
              "    <td style=\"padding: 0 0.5em 0 0.5em; text-align: left; border: none;\">\n",
              "        0:pos_:PUNCT\n",
              "    </td>\n",
              "    \n",
              "</tr>\n",
              "        \n",
              "            <tr style=\"background-color: hsl(120, 100.00%, 82.44%); border: none;\">\n",
              "    <td style=\"padding: 0 1em 0 0.5em; text-align: right; border: none;\">\n",
              "        +0.647\n",
              "    </td>\n",
              "    <td style=\"padding: 0 0.5em 0 0.5em; text-align: left; border: none;\">\n",
              "        0:word:.\n",
              "    </td>\n",
              "    \n",
              "</tr>\n",
              "        \n",
              "            <tr style=\"background-color: hsl(120, 100.00%, 82.83%); border: none;\">\n",
              "    <td style=\"padding: 0 1em 0 0.5em; text-align: right; border: none;\">\n",
              "        +0.627\n",
              "    </td>\n",
              "    <td style=\"padding: 0 0.5em 0 0.5em; text-align: left; border: none;\">\n",
              "        0:morph_PunctType:Peri\n",
              "    </td>\n",
              "    \n",
              "</tr>\n",
              "        \n",
              "            <tr style=\"background-color: hsl(120, 100.00%, 88.75%); border: none;\">\n",
              "    <td style=\"padding: 0 1em 0 0.5em; text-align: right; border: none;\">\n",
              "        +0.343\n",
              "    </td>\n",
              "    <td style=\"padding: 0 0.5em 0 0.5em; text-align: left; border: none;\">\n",
              "        -1:ent_iob_:I\n",
              "    </td>\n",
              "    \n",
              "</tr>\n",
              "        \n",
              "            <tr style=\"background-color: hsl(120, 100.00%, 90.69%); border: none;\">\n",
              "    <td style=\"padding: 0 1em 0 0.5em; text-align: right; border: none;\">\n",
              "        +0.262\n",
              "    </td>\n",
              "    <td style=\"padding: 0 0.5em 0 0.5em; text-align: left; border: none;\">\n",
              "        0:ent_iob_:O\n",
              "    </td>\n",
              "    \n",
              "</tr>\n",
              "        \n",
              "            <tr style=\"background-color: hsl(120, 100.00%, 91.36%); border: none;\">\n",
              "    <td style=\"padding: 0 1em 0 0.5em; text-align: right; border: none;\">\n",
              "        +0.235\n",
              "    </td>\n",
              "    <td style=\"padding: 0 0.5em 0 0.5em; text-align: left; border: none;\">\n",
              "        -1:dep_:pobj\n",
              "    </td>\n",
              "    \n",
              "</tr>\n",
              "        \n",
              "            <tr style=\"background-color: hsl(120, 100.00%, 92.06%); border: none;\">\n",
              "    <td style=\"padding: 0 1em 0 0.5em; text-align: right; border: none;\">\n",
              "        +0.208\n",
              "    </td>\n",
              "    <td style=\"padding: 0 0.5em 0 0.5em; text-align: left; border: none;\">\n",
              "        1:dep_:compound\n",
              "    </td>\n",
              "    \n",
              "</tr>\n",
              "        \n",
              "            <tr style=\"background-color: hsl(120, 100.00%, 92.32%); border: none;\">\n",
              "    <td style=\"padding: 0 1em 0 0.5em; text-align: right; border: none;\">\n",
              "        +0.199\n",
              "    </td>\n",
              "    <td style=\"padding: 0 0.5em 0 0.5em; text-align: left; border: none;\">\n",
              "        0:stop\n",
              "    </td>\n",
              "    \n",
              "</tr>\n",
              "        \n",
              "            <tr style=\"background-color: hsl(120, 100.00%, 92.44%); border: none;\">\n",
              "    <td style=\"padding: 0 1em 0 0.5em; text-align: right; border: none;\">\n",
              "        +0.194\n",
              "    </td>\n",
              "    <td style=\"padding: 0 0.5em 0 0.5em; text-align: left; border: none;\">\n",
              "        0:word:in\n",
              "    </td>\n",
              "    \n",
              "</tr>\n",
              "        \n",
              "            <tr style=\"background-color: hsl(120, 100.00%, 92.49%); border: none;\">\n",
              "    <td style=\"padding: 0 1em 0 0.5em; text-align: right; border: none;\">\n",
              "        +0.192\n",
              "    </td>\n",
              "    <td style=\"padding: 0 0.5em 0 0.5em; text-align: left; border: none;\">\n",
              "        -1:ent_type:CARDINAL\n",
              "    </td>\n",
              "    \n",
              "</tr>\n",
              "        \n",
              "            <tr style=\"background-color: hsl(120, 100.00%, 92.91%); border: none;\">\n",
              "    <td style=\"padding: 0 1em 0 0.5em; text-align: right; border: none;\">\n",
              "        +0.177\n",
              "    </td>\n",
              "    <td style=\"padding: 0 0.5em 0 0.5em; text-align: left; border: none;\">\n",
              "        -1:tag_:CD\n",
              "    </td>\n",
              "    \n",
              "</tr>\n",
              "        \n",
              "            <tr style=\"background-color: hsl(120, 100.00%, 92.91%); border: none;\">\n",
              "    <td style=\"padding: 0 1em 0 0.5em; text-align: right; border: none;\">\n",
              "        +0.177\n",
              "    </td>\n",
              "    <td style=\"padding: 0 0.5em 0 0.5em; text-align: left; border: none;\">\n",
              "        -1:pos_:NUM\n",
              "    </td>\n",
              "    \n",
              "</tr>\n",
              "        \n",
              "            <tr style=\"background-color: hsl(120, 100.00%, 92.91%); border: none;\">\n",
              "    <td style=\"padding: 0 1em 0 0.5em; text-align: right; border: none;\">\n",
              "        +0.177\n",
              "    </td>\n",
              "    <td style=\"padding: 0 0.5em 0 0.5em; text-align: left; border: none;\">\n",
              "        -1:morph_NumType:Card\n",
              "    </td>\n",
              "    \n",
              "</tr>\n",
              "        \n",
              "            <tr style=\"background-color: hsl(120, 100.00%, 93.30%); border: none;\">\n",
              "    <td style=\"padding: 0 1em 0 0.5em; text-align: right; border: none;\">\n",
              "        +0.164\n",
              "    </td>\n",
              "    <td style=\"padding: 0 0.5em 0 0.5em; text-align: left; border: none;\">\n",
              "        1:ent_iob_:I\n",
              "    </td>\n",
              "    \n",
              "</tr>\n",
              "        \n",
              "            <tr style=\"background-color: hsl(120, 100.00%, 93.52%); border: none;\">\n",
              "    <td style=\"padding: 0 1em 0 0.5em; text-align: right; border: none;\">\n",
              "        +0.156\n",
              "    </td>\n",
              "    <td style=\"padding: 0 0.5em 0 0.5em; text-align: left; border: none;\">\n",
              "        -1:prefix1:1\n",
              "    </td>\n",
              "    \n",
              "</tr>\n",
              "        \n",
              "            <tr style=\"background-color: hsl(120, 100.00%, 93.85%); border: none;\">\n",
              "    <td style=\"padding: 0 1em 0 0.5em; text-align: right; border: none;\">\n",
              "        +0.145\n",
              "    </td>\n",
              "    <td style=\"padding: 0 0.5em 0 0.5em; text-align: left; border: none;\">\n",
              "        -1:dep_:attr\n",
              "    </td>\n",
              "    \n",
              "</tr>\n",
              "        \n",
              "            <tr style=\"background-color: hsl(120, 100.00%, 93.87%); border: none;\">\n",
              "    <td style=\"padding: 0 1em 0 0.5em; text-align: right; border: none;\">\n",
              "        +0.144\n",
              "    </td>\n",
              "    <td style=\"padding: 0 0.5em 0 0.5em; text-align: left; border: none;\">\n",
              "        -1:dep_:nummod\n",
              "    </td>\n",
              "    \n",
              "</tr>\n",
              "        \n",
              "            <tr style=\"background-color: hsl(120, 100.00%, 93.96%); border: none;\">\n",
              "    <td style=\"padding: 0 1em 0 0.5em; text-align: right; border: none;\">\n",
              "        +0.141\n",
              "    </td>\n",
              "    <td style=\"padding: 0 0.5em 0 0.5em; text-align: left; border: none;\">\n",
              "        -1:word:%\n",
              "    </td>\n",
              "    \n",
              "</tr>\n",
              "        \n",
              "            <tr style=\"background-color: hsl(120, 100.00%, 93.97%); border: none;\">\n",
              "    <td style=\"padding: 0 1em 0 0.5em; text-align: right; border: none;\">\n",
              "        +0.141\n",
              "    </td>\n",
              "    <td style=\"padding: 0 0.5em 0 0.5em; text-align: left; border: none;\">\n",
              "        0:morph_PunctType:Comm\n",
              "    </td>\n",
              "    \n",
              "</tr>\n",
              "        \n",
              "            <tr style=\"background-color: hsl(120, 100.00%, 94.04%); border: none;\">\n",
              "    <td style=\"padding: 0 1em 0 0.5em; text-align: right; border: none;\">\n",
              "        +0.138\n",
              "    </td>\n",
              "    <td style=\"padding: 0 0.5em 0 0.5em; text-align: left; border: none;\">\n",
              "        0:word:,\n",
              "    </td>\n",
              "    \n",
              "</tr>\n",
              "        \n",
              "            <tr style=\"background-color: hsl(120, 100.00%, 94.05%); border: none;\">\n",
              "    <td style=\"padding: 0 1em 0 0.5em; text-align: right; border: none;\">\n",
              "        +0.138\n",
              "    </td>\n",
              "    <td style=\"padding: 0 0.5em 0 0.5em; text-align: left; border: none;\">\n",
              "        0:morph_VerbForm:Fin\n",
              "    </td>\n",
              "    \n",
              "</tr>\n",
              "        \n",
              "            <tr style=\"background-color: hsl(120, 100.00%, 94.12%); border: none;\">\n",
              "    <td style=\"padding: 0 1em 0 0.5em; text-align: right; border: none;\">\n",
              "        +0.136\n",
              "    </td>\n",
              "    <td style=\"padding: 0 0.5em 0 0.5em; text-align: left; border: none;\">\n",
              "        0:dep_:ROOT\n",
              "    </td>\n",
              "    \n",
              "</tr>\n",
              "        \n",
              "            <tr style=\"background-color: hsl(120, 100.00%, 94.50%); border: none;\">\n",
              "    <td style=\"padding: 0 1em 0 0.5em; text-align: right; border: none;\">\n",
              "        +0.123\n",
              "    </td>\n",
              "    <td style=\"padding: 0 0.5em 0 0.5em; text-align: left; border: none;\">\n",
              "        1:ent_iob_:B\n",
              "    </td>\n",
              "    \n",
              "</tr>\n",
              "        \n",
              "            <tr style=\"background-color: hsl(120, 100.00%, 94.59%); border: none;\">\n",
              "    <td style=\"padding: 0 1em 0 0.5em; text-align: right; border: none;\">\n",
              "        +0.120\n",
              "    </td>\n",
              "    <td style=\"padding: 0 0.5em 0 0.5em; text-align: left; border: none;\">\n",
              "        0:srl_ARGM-ADV:B\n",
              "    </td>\n",
              "    \n",
              "</tr>\n",
              "        \n",
              "            <tr style=\"background-color: hsl(120, 100.00%, 94.64%); border: none;\">\n",
              "    <td style=\"padding: 0 1em 0 0.5em; text-align: right; border: none;\">\n",
              "        +0.119\n",
              "    </td>\n",
              "    <td style=\"padding: 0 0.5em 0 0.5em; text-align: left; border: none;\">\n",
              "        0:oov\n",
              "    </td>\n",
              "    \n",
              "</tr>\n",
              "        \n",
              "            <tr style=\"background-color: hsl(120, 100.00%, 94.64%); border: none;\">\n",
              "    <td style=\"padding: 0 1em 0 0.5em; text-align: right; border: none;\">\n",
              "        +0.119\n",
              "    </td>\n",
              "    <td style=\"padding: 0 0.5em 0 0.5em; text-align: left; border: none;\">\n",
              "        bias\n",
              "    </td>\n",
              "    \n",
              "</tr>\n",
              "        \n",
              "            <tr style=\"background-color: hsl(120, 100.00%, 94.70%); border: none;\">\n",
              "    <td style=\"padding: 0 1em 0 0.5em; text-align: right; border: none;\">\n",
              "        +0.117\n",
              "    </td>\n",
              "    <td style=\"padding: 0 0.5em 0 0.5em; text-align: left; border: none;\">\n",
              "        -1 BOS\n",
              "    </td>\n",
              "    \n",
              "</tr>\n",
              "        \n",
              "            <tr style=\"background-color: hsl(120, 100.00%, 94.70%); border: none;\">\n",
              "    <td style=\"padding: 0 1em 0 0.5em; text-align: right; border: none;\">\n",
              "        +0.117\n",
              "    </td>\n",
              "    <td style=\"padding: 0 0.5em 0 0.5em; text-align: left; border: none;\">\n",
              "        AbsPos:0\n",
              "    </td>\n",
              "    \n",
              "</tr>\n",
              "        \n",
              "            <tr style=\"background-color: hsl(120, 100.00%, 94.75%); border: none;\">\n",
              "    <td style=\"padding: 0 1em 0 0.5em; text-align: right; border: none;\">\n",
              "        +0.115\n",
              "    </td>\n",
              "    <td style=\"padding: 0 0.5em 0 0.5em; text-align: left; border: none;\">\n",
              "        0:srl_iob:O\n",
              "    </td>\n",
              "    \n",
              "</tr>\n",
              "        \n",
              "            <tr style=\"background-color: hsl(120, 100.00%, 94.88%); border: none;\">\n",
              "    <td style=\"padding: 0 1em 0 0.5em; text-align: right; border: none;\">\n",
              "        +0.111\n",
              "    </td>\n",
              "    <td style=\"padding: 0 0.5em 0 0.5em; text-align: left; border: none;\">\n",
              "        0:morph_PunctType:Brck\n",
              "    </td>\n",
              "    \n",
              "</tr>\n",
              "        \n",
              "            <tr style=\"background-color: hsl(120, 100.00%, 94.94%); border: none;\">\n",
              "    <td style=\"padding: 0 1em 0 0.5em; text-align: right; border: none;\">\n",
              "        +0.110\n",
              "    </td>\n",
              "    <td style=\"padding: 0 0.5em 0 0.5em; text-align: left; border: none;\">\n",
              "        0:pos_:AUX\n",
              "    </td>\n",
              "    \n",
              "</tr>\n",
              "        \n",
              "            <tr style=\"background-color: hsl(120, 100.00%, 95.20%); border: none;\">\n",
              "    <td style=\"padding: 0 1em 0 0.5em; text-align: right; border: none;\">\n",
              "        +0.102\n",
              "    </td>\n",
              "    <td style=\"padding: 0 0.5em 0 0.5em; text-align: left; border: none;\">\n",
              "        -1:dep_:dobj\n",
              "    </td>\n",
              "    \n",
              "</tr>\n",
              "        \n",
              "            <tr style=\"background-color: hsl(120, 100.00%, 95.24%); border: none;\">\n",
              "    <td style=\"padding: 0 1em 0 0.5em; text-align: right; border: none;\">\n",
              "        +0.100\n",
              "    </td>\n",
              "    <td style=\"padding: 0 0.5em 0 0.5em; text-align: left; border: none;\">\n",
              "        0:tag_:IN\n",
              "    </td>\n",
              "    \n",
              "</tr>\n",
              "        \n",
              "            <tr style=\"background-color: hsl(120, 100.00%, 95.25%); border: none;\">\n",
              "    <td style=\"padding: 0 1em 0 0.5em; text-align: right; border: none;\">\n",
              "        +0.100\n",
              "    </td>\n",
              "    <td style=\"padding: 0 0.5em 0 0.5em; text-align: left; border: none;\">\n",
              "        0:word:as\n",
              "    </td>\n",
              "    \n",
              "</tr>\n",
              "        \n",
              "            <tr style=\"background-color: hsl(120, 100.00%, 95.40%); border: none;\">\n",
              "    <td style=\"padding: 0 1em 0 0.5em; text-align: right; border: none;\">\n",
              "        +0.096\n",
              "    </td>\n",
              "    <td style=\"padding: 0 0.5em 0 0.5em; text-align: left; border: none;\">\n",
              "        -1:dep_:appos\n",
              "    </td>\n",
              "    \n",
              "</tr>\n",
              "        \n",
              "            <tr style=\"background-color: hsl(120, 100.00%, 95.48%); border: none;\">\n",
              "    <td style=\"padding: 0 1em 0 0.5em; text-align: right; border: none;\">\n",
              "        +0.093\n",
              "    </td>\n",
              "    <td style=\"padding: 0 0.5em 0 0.5em; text-align: left; border: none;\">\n",
              "        -1:prefix2:19\n",
              "    </td>\n",
              "    \n",
              "</tr>\n",
              "        \n",
              "            <tr style=\"background-color: hsl(120, 100.00%, 95.49%); border: none;\">\n",
              "    <td style=\"padding: 0 1em 0 0.5em; text-align: right; border: none;\">\n",
              "        +0.093\n",
              "    </td>\n",
              "    <td style=\"padding: 0 0.5em 0 0.5em; text-align: left; border: none;\">\n",
              "        0:srl_V:B\n",
              "    </td>\n",
              "    \n",
              "</tr>\n",
              "        \n",
              "            <tr style=\"background-color: hsl(120, 100.00%, 95.52%); border: none;\">\n",
              "    <td style=\"padding: 0 1em 0 0.5em; text-align: right; border: none;\">\n",
              "        +0.092\n",
              "    </td>\n",
              "    <td style=\"padding: 0 0.5em 0 0.5em; text-align: left; border: none;\">\n",
              "        1:tag_:``\n",
              "    </td>\n",
              "    \n",
              "</tr>\n",
              "        \n",
              "            <tr style=\"background-color: hsl(120, 100.00%, 95.53%); border: none;\">\n",
              "    <td style=\"padding: 0 1em 0 0.5em; text-align: right; border: none;\">\n",
              "        +0.092\n",
              "    </td>\n",
              "    <td style=\"padding: 0 0.5em 0 0.5em; text-align: left; border: none;\">\n",
              "        -1:prefix3:mil\n",
              "    </td>\n",
              "    \n",
              "</tr>\n",
              "        \n",
              "            <tr style=\"background-color: hsl(120, 100.00%, 95.54%); border: none;\">\n",
              "    <td style=\"padding: 0 1em 0 0.5em; text-align: right; border: none;\">\n",
              "        +0.091\n",
              "    </td>\n",
              "    <td style=\"padding: 0 0.5em 0 0.5em; text-align: left; border: none;\">\n",
              "        -1:pos_:NOUN\n",
              "    </td>\n",
              "    \n",
              "</tr>\n",
              "        \n",
              "            <tr style=\"background-color: hsl(120, 100.00%, 95.59%); border: none;\">\n",
              "    <td style=\"padding: 0 1em 0 0.5em; text-align: right; border: none;\">\n",
              "        +0.090\n",
              "    </td>\n",
              "    <td style=\"padding: 0 0.5em 0 0.5em; text-align: left; border: none;\">\n",
              "        0:word:on\n",
              "    </td>\n",
              "    \n",
              "</tr>\n",
              "        \n",
              "            <tr style=\"background-color: hsl(120, 100.00%, 95.64%); border: none;\">\n",
              "    <td style=\"padding: 0 1em 0 0.5em; text-align: right; border: none;\">\n",
              "        +0.089\n",
              "    </td>\n",
              "    <td style=\"padding: 0 0.5em 0 0.5em; text-align: left; border: none;\">\n",
              "        -1:morph_Number:Sing\n",
              "    </td>\n",
              "    \n",
              "</tr>\n",
              "        \n",
              "            <tr style=\"background-color: hsl(120, 100.00%, 95.65%); border: none;\">\n",
              "    <td style=\"padding: 0 1em 0 0.5em; text-align: right; border: none;\">\n",
              "        +0.088\n",
              "    </td>\n",
              "    <td style=\"padding: 0 0.5em 0 0.5em; text-align: left; border: none;\">\n",
              "        0:pos_:ADP\n",
              "    </td>\n",
              "    \n",
              "</tr>\n",
              "        \n",
              "            <tr style=\"background-color: hsl(120, 100.00%, 95.66%); border: none;\">\n",
              "    <td style=\"padding: 0 1em 0 0.5em; text-align: right; border: none;\">\n",
              "        +0.088\n",
              "    </td>\n",
              "    <td style=\"padding: 0 0.5em 0 0.5em; text-align: left; border: none;\">\n",
              "        -1:shape_reduced:d,d\n",
              "    </td>\n",
              "    \n",
              "</tr>\n",
              "        \n",
              "            <tr style=\"background-color: hsl(120, 100.00%, 95.68%); border: none;\">\n",
              "    <td style=\"padding: 0 1em 0 0.5em; text-align: right; border: none;\">\n",
              "        +0.087\n",
              "    </td>\n",
              "    <td style=\"padding: 0 0.5em 0 0.5em; text-align: left; border: none;\">\n",
              "        0:tag_:VBD\n",
              "    </td>\n",
              "    \n",
              "</tr>\n",
              "        \n",
              "            <tr style=\"background-color: hsl(120, 100.00%, 95.71%); border: none;\">\n",
              "    <td style=\"padding: 0 1em 0 0.5em; text-align: right; border: none;\">\n",
              "        +0.086\n",
              "    </td>\n",
              "    <td style=\"padding: 0 0.5em 0 0.5em; text-align: left; border: none;\">\n",
              "        0:dep_:prep\n",
              "    </td>\n",
              "    \n",
              "</tr>\n",
              "        \n",
              "            <tr style=\"background-color: hsl(120, 100.00%, 95.72%); border: none;\">\n",
              "    <td style=\"padding: 0 1em 0 0.5em; text-align: right; border: none;\">\n",
              "        +0.086\n",
              "    </td>\n",
              "    <td style=\"padding: 0 0.5em 0 0.5em; text-align: left; border: none;\">\n",
              "        0:word:(\n",
              "    </td>\n",
              "    \n",
              "</tr>\n",
              "        \n",
              "            <tr style=\"background-color: hsl(120, 100.00%, 95.77%); border: none;\">\n",
              "    <td style=\"padding: 0 1em 0 0.5em; text-align: right; border: none;\">\n",
              "        +0.085\n",
              "    </td>\n",
              "    <td style=\"padding: 0 0.5em 0 0.5em; text-align: left; border: none;\">\n",
              "        0:morph_Tense:Pres\n",
              "    </td>\n",
              "    \n",
              "</tr>\n",
              "        \n",
              "            <tr style=\"background-color: hsl(120, 100.00%, 95.77%); border: none;\">\n",
              "    <td style=\"padding: 0 1em 0 0.5em; text-align: right; border: none;\">\n",
              "        +0.085\n",
              "    </td>\n",
              "    <td style=\"padding: 0 0.5em 0 0.5em; text-align: left; border: none;\">\n",
              "        -1:morph_NounType:Prop\n",
              "    </td>\n",
              "    \n",
              "</tr>\n",
              "        \n",
              "        \n",
              "            <tr style=\"background-color: hsl(120, 100.00%, 95.77%); border: none;\">\n",
              "                <td colspan=\"2\" style=\"padding: 0 0.5em 0 0.5em; text-align: center; border: none; white-space: nowrap;\">\n",
              "                    <i>&hellip; 107386 more positive &hellip;</i>\n",
              "                </td>\n",
              "            </tr>\n",
              "        \n",
              "\n",
              "        \n",
              "            <tr style=\"background-color: hsl(0, 100.00%, 95.55%); border: none;\">\n",
              "                <td colspan=\"2\" style=\"padding: 0 0.5em 0 0.5em; text-align: center; border: none; white-space: nowrap;\">\n",
              "                    <i>&hellip; 64896 more negative &hellip;</i>\n",
              "                </td>\n",
              "            </tr>\n",
              "        \n",
              "        \n",
              "            <tr style=\"background-color: hsl(0, 100.00%, 95.55%); border: none;\">\n",
              "    <td style=\"padding: 0 1em 0 0.5em; text-align: right; border: none;\">\n",
              "        -0.091\n",
              "    </td>\n",
              "    <td style=\"padding: 0 0.5em 0 0.5em; text-align: left; border: none;\">\n",
              "        1:tag_:WDT\n",
              "    </td>\n",
              "    \n",
              "</tr>\n",
              "        \n",
              "            <tr style=\"background-color: hsl(0, 100.00%, 95.32%); border: none;\">\n",
              "    <td style=\"padding: 0 1em 0 0.5em; text-align: right; border: none;\">\n",
              "        -0.098\n",
              "    </td>\n",
              "    <td style=\"padding: 0 0.5em 0 0.5em; text-align: left; border: none;\">\n",
              "        0:shape_reduced:d\n",
              "    </td>\n",
              "    \n",
              "</tr>\n",
              "        \n",
              "            <tr style=\"background-color: hsl(0, 100.00%, 95.23%); border: none;\">\n",
              "    <td style=\"padding: 0 1em 0 0.5em; text-align: right; border: none;\">\n",
              "        -0.100\n",
              "    </td>\n",
              "    <td style=\"padding: 0 0.5em 0 0.5em; text-align: left; border: none;\">\n",
              "        0:shape_reduced:Xx\n",
              "    </td>\n",
              "    \n",
              "</tr>\n",
              "        \n",
              "            <tr style=\"background-color: hsl(0, 100.00%, 95.11%); border: none;\">\n",
              "    <td style=\"padding: 0 1em 0 0.5em; text-align: right; border: none;\">\n",
              "        -0.104\n",
              "    </td>\n",
              "    <td style=\"padding: 0 0.5em 0 0.5em; text-align: left; border: none;\">\n",
              "        -1:pos_:ADP\n",
              "    </td>\n",
              "    \n",
              "</tr>\n",
              "        \n",
              "            <tr style=\"background-color: hsl(0, 100.00%, 95.11%); border: none;\">\n",
              "    <td style=\"padding: 0 1em 0 0.5em; text-align: right; border: none;\">\n",
              "        -0.104\n",
              "    </td>\n",
              "    <td style=\"padding: 0 0.5em 0 0.5em; text-align: left; border: none;\">\n",
              "        0:dep_:quantmod\n",
              "    </td>\n",
              "    \n",
              "</tr>\n",
              "        \n",
              "            <tr style=\"background-color: hsl(0, 100.00%, 95.10%); border: none;\">\n",
              "    <td style=\"padding: 0 1em 0 0.5em; text-align: right; border: none;\">\n",
              "        -0.104\n",
              "    </td>\n",
              "    <td style=\"padding: 0 0.5em 0 0.5em; text-align: left; border: none;\">\n",
              "        1:srl_ARGM-TMP:B\n",
              "    </td>\n",
              "    \n",
              "</tr>\n",
              "        \n",
              "            <tr style=\"background-color: hsl(0, 100.00%, 95.06%); border: none;\">\n",
              "    <td style=\"padding: 0 1em 0 0.5em; text-align: right; border: none;\">\n",
              "        -0.106\n",
              "    </td>\n",
              "    <td style=\"padding: 0 0.5em 0 0.5em; text-align: left; border: none;\">\n",
              "        1:morph_PunctSide:Fin\n",
              "    </td>\n",
              "    \n",
              "</tr>\n",
              "        \n",
              "            <tr style=\"background-color: hsl(0, 100.00%, 95.04%); border: none;\">\n",
              "    <td style=\"padding: 0 1em 0 0.5em; text-align: right; border: none;\">\n",
              "        -0.106\n",
              "    </td>\n",
              "    <td style=\"padding: 0 0.5em 0 0.5em; text-align: left; border: none;\">\n",
              "        1:word:,\n",
              "    </td>\n",
              "    \n",
              "</tr>\n",
              "        \n",
              "            <tr style=\"background-color: hsl(0, 100.00%, 94.99%); border: none;\">\n",
              "    <td style=\"padding: 0 1em 0 0.5em; text-align: right; border: none;\">\n",
              "        -0.108\n",
              "    </td>\n",
              "    <td style=\"padding: 0 0.5em 0 0.5em; text-align: left; border: none;\">\n",
              "        1:srl_iob:O\n",
              "    </td>\n",
              "    \n",
              "</tr>\n",
              "        \n",
              "            <tr style=\"background-color: hsl(0, 100.00%, 94.98%); border: none;\">\n",
              "    <td style=\"padding: 0 1em 0 0.5em; text-align: right; border: none;\">\n",
              "        -0.108\n",
              "    </td>\n",
              "    <td style=\"padding: 0 0.5em 0 0.5em; text-align: left; border: none;\">\n",
              "        1:morph_PunctType:Comm\n",
              "    </td>\n",
              "    \n",
              "</tr>\n",
              "        \n",
              "            <tr style=\"background-color: hsl(0, 100.00%, 94.93%); border: none;\">\n",
              "    <td style=\"padding: 0 1em 0 0.5em; text-align: right; border: none;\">\n",
              "        -0.110\n",
              "    </td>\n",
              "    <td style=\"padding: 0 0.5em 0 0.5em; text-align: left; border: none;\">\n",
              "        -1:dep_:quantmod\n",
              "    </td>\n",
              "    \n",
              "</tr>\n",
              "        \n",
              "            <tr style=\"background-color: hsl(0, 100.00%, 94.88%); border: none;\">\n",
              "    <td style=\"padding: 0 1em 0 0.5em; text-align: right; border: none;\">\n",
              "        -0.111\n",
              "    </td>\n",
              "    <td style=\"padding: 0 0.5em 0 0.5em; text-align: left; border: none;\">\n",
              "        1:morph_PunctType:Brck\n",
              "    </td>\n",
              "    \n",
              "</tr>\n",
              "        \n",
              "            <tr style=\"background-color: hsl(0, 100.00%, 94.88%); border: none;\">\n",
              "    <td style=\"padding: 0 1em 0 0.5em; text-align: right; border: none;\">\n",
              "        -0.111\n",
              "    </td>\n",
              "    <td style=\"padding: 0 0.5em 0 0.5em; text-align: left; border: none;\">\n",
              "        -1:srl_B\n",
              "    </td>\n",
              "    \n",
              "</tr>\n",
              "        \n",
              "            <tr style=\"background-color: hsl(0, 100.00%, 94.87%); border: none;\">\n",
              "    <td style=\"padding: 0 1em 0 0.5em; text-align: right; border: none;\">\n",
              "        -0.112\n",
              "    </td>\n",
              "    <td style=\"padding: 0 0.5em 0 0.5em; text-align: left; border: none;\">\n",
              "        0:tag_:NNP\n",
              "    </td>\n",
              "    \n",
              "</tr>\n",
              "        \n",
              "            <tr style=\"background-color: hsl(0, 100.00%, 94.83%); border: none;\">\n",
              "    <td style=\"padding: 0 1em 0 0.5em; text-align: right; border: none;\">\n",
              "        -0.113\n",
              "    </td>\n",
              "    <td style=\"padding: 0 0.5em 0 0.5em; text-align: left; border: none;\">\n",
              "        -1:morph_Tense:Pres\n",
              "    </td>\n",
              "    \n",
              "</tr>\n",
              "        \n",
              "            <tr style=\"background-color: hsl(0, 100.00%, 94.73%); border: none;\">\n",
              "    <td style=\"padding: 0 1em 0 0.5em; text-align: right; border: none;\">\n",
              "        -0.116\n",
              "    </td>\n",
              "    <td style=\"padding: 0 0.5em 0 0.5em; text-align: left; border: none;\">\n",
              "        0:shape_reduced:dx\n",
              "    </td>\n",
              "    \n",
              "</tr>\n",
              "        \n",
              "            <tr style=\"background-color: hsl(0, 100.00%, 94.69%); border: none;\">\n",
              "    <td style=\"padding: 0 1em 0 0.5em; text-align: right; border: none;\">\n",
              "        -0.117\n",
              "    </td>\n",
              "    <td style=\"padding: 0 0.5em 0 0.5em; text-align: left; border: none;\">\n",
              "        -1:dep_:compound\n",
              "    </td>\n",
              "    \n",
              "</tr>\n",
              "        \n",
              "            <tr style=\"background-color: hsl(0, 100.00%, 94.60%); border: none;\">\n",
              "    <td style=\"padding: 0 1em 0 0.5em; text-align: right; border: none;\">\n",
              "        -0.120\n",
              "    </td>\n",
              "    <td style=\"padding: 0 0.5em 0 0.5em; text-align: left; border: none;\">\n",
              "        -1:stop\n",
              "    </td>\n",
              "    \n",
              "</tr>\n",
              "        \n",
              "            <tr style=\"background-color: hsl(0, 100.00%, 94.53%); border: none;\">\n",
              "    <td style=\"padding: 0 1em 0 0.5em; text-align: right; border: none;\">\n",
              "        -0.122\n",
              "    </td>\n",
              "    <td style=\"padding: 0 0.5em 0 0.5em; text-align: left; border: none;\">\n",
              "        0:morph_Number:Sing\n",
              "    </td>\n",
              "    \n",
              "</tr>\n",
              "        \n",
              "            <tr style=\"background-color: hsl(0, 100.00%, 94.47%); border: none;\">\n",
              "    <td style=\"padding: 0 1em 0 0.5em; text-align: right; border: none;\">\n",
              "        -0.124\n",
              "    </td>\n",
              "    <td style=\"padding: 0 0.5em 0 0.5em; text-align: left; border: none;\">\n",
              "        0:pos_:NOUN\n",
              "    </td>\n",
              "    \n",
              "</tr>\n",
              "        \n",
              "            <tr style=\"background-color: hsl(0, 100.00%, 94.46%); border: none;\">\n",
              "    <td style=\"padding: 0 1em 0 0.5em; text-align: right; border: none;\">\n",
              "        -0.124\n",
              "    </td>\n",
              "    <td style=\"padding: 0 0.5em 0 0.5em; text-align: left; border: none;\">\n",
              "        -1:tag_:VB\n",
              "    </td>\n",
              "    \n",
              "</tr>\n",
              "        \n",
              "            <tr style=\"background-color: hsl(0, 100.00%, 94.46%); border: none;\">\n",
              "    <td style=\"padding: 0 1em 0 0.5em; text-align: right; border: none;\">\n",
              "        -0.124\n",
              "    </td>\n",
              "    <td style=\"padding: 0 0.5em 0 0.5em; text-align: left; border: none;\">\n",
              "        -1:morph_VerbForm:Inf\n",
              "    </td>\n",
              "    \n",
              "</tr>\n",
              "        \n",
              "            <tr style=\"background-color: hsl(0, 100.00%, 94.46%); border: none;\">\n",
              "    <td style=\"padding: 0 1em 0 0.5em; text-align: right; border: none;\">\n",
              "        -0.125\n",
              "    </td>\n",
              "    <td style=\"padding: 0 0.5em 0 0.5em; text-align: left; border: none;\">\n",
              "        -1:tag_:IN\n",
              "    </td>\n",
              "    \n",
              "</tr>\n",
              "        \n",
              "            <tr style=\"background-color: hsl(0, 100.00%, 94.36%); border: none;\">\n",
              "    <td style=\"padding: 0 1em 0 0.5em; text-align: right; border: none;\">\n",
              "        -0.128\n",
              "    </td>\n",
              "    <td style=\"padding: 0 0.5em 0 0.5em; text-align: left; border: none;\">\n",
              "        0:word:%\n",
              "    </td>\n",
              "    \n",
              "</tr>\n",
              "        \n",
              "            <tr style=\"background-color: hsl(0, 100.00%, 94.30%); border: none;\">\n",
              "    <td style=\"padding: 0 1em 0 0.5em; text-align: right; border: none;\">\n",
              "        -0.130\n",
              "    </td>\n",
              "    <td style=\"padding: 0 0.5em 0 0.5em; text-align: left; border: none;\">\n",
              "        1:word:in\n",
              "    </td>\n",
              "    \n",
              "</tr>\n",
              "        \n",
              "            <tr style=\"background-color: hsl(0, 100.00%, 94.29%); border: none;\">\n",
              "    <td style=\"padding: 0 1em 0 0.5em; text-align: right; border: none;\">\n",
              "        -0.130\n",
              "    </td>\n",
              "    <td style=\"padding: 0 0.5em 0 0.5em; text-align: left; border: none;\">\n",
              "        1:srl_type:V\n",
              "    </td>\n",
              "    \n",
              "</tr>\n",
              "        \n",
              "            <tr style=\"background-color: hsl(0, 100.00%, 94.16%); border: none;\">\n",
              "    <td style=\"padding: 0 1em 0 0.5em; text-align: right; border: none;\">\n",
              "        -0.134\n",
              "    </td>\n",
              "    <td style=\"padding: 0 0.5em 0 0.5em; text-align: left; border: none;\">\n",
              "        1:word:(\n",
              "    </td>\n",
              "    \n",
              "</tr>\n",
              "        \n",
              "            <tr style=\"background-color: hsl(0, 100.00%, 94.12%); border: none;\">\n",
              "    <td style=\"padding: 0 1em 0 0.5em; text-align: right; border: none;\">\n",
              "        -0.136\n",
              "    </td>\n",
              "    <td style=\"padding: 0 0.5em 0 0.5em; text-align: left; border: none;\">\n",
              "        0:shape_reduced:d,d\n",
              "    </td>\n",
              "    \n",
              "</tr>\n",
              "        \n",
              "            <tr style=\"background-color: hsl(0, 100.00%, 94.10%); border: none;\">\n",
              "    <td style=\"padding: 0 1em 0 0.5em; text-align: right; border: none;\">\n",
              "        -0.136\n",
              "    </td>\n",
              "    <td style=\"padding: 0 0.5em 0 0.5em; text-align: left; border: none;\">\n",
              "        0:prefix2:19\n",
              "    </td>\n",
              "    \n",
              "</tr>\n",
              "        \n",
              "            <tr style=\"background-color: hsl(0, 100.00%, 94.09%); border: none;\">\n",
              "    <td style=\"padding: 0 1em 0 0.5em; text-align: right; border: none;\">\n",
              "        -0.137\n",
              "    </td>\n",
              "    <td style=\"padding: 0 0.5em 0 0.5em; text-align: left; border: none;\">\n",
              "        1:tag_:-LRB-\n",
              "    </td>\n",
              "    \n",
              "</tr>\n",
              "        \n",
              "            <tr style=\"background-color: hsl(0, 100.00%, 93.72%); border: none;\">\n",
              "    <td style=\"padding: 0 1em 0 0.5em; text-align: right; border: none;\">\n",
              "        -0.149\n",
              "    </td>\n",
              "    <td style=\"padding: 0 0.5em 0 0.5em; text-align: left; border: none;\">\n",
              "        -1:pos_:PUNCT\n",
              "    </td>\n",
              "    \n",
              "</tr>\n",
              "        \n",
              "            <tr style=\"background-color: hsl(0, 100.00%, 93.64%); border: none;\">\n",
              "    <td style=\"padding: 0 1em 0 0.5em; text-align: right; border: none;\">\n",
              "        -0.152\n",
              "    </td>\n",
              "    <td style=\"padding: 0 0.5em 0 0.5em; text-align: left; border: none;\">\n",
              "        1:srl_iob:B\n",
              "    </td>\n",
              "    \n",
              "</tr>\n",
              "        \n",
              "            <tr style=\"background-color: hsl(0, 100.00%, 93.55%); border: none;\">\n",
              "    <td style=\"padding: 0 1em 0 0.5em; text-align: right; border: none;\">\n",
              "        -0.155\n",
              "    </td>\n",
              "    <td style=\"padding: 0 0.5em 0 0.5em; text-align: left; border: none;\">\n",
              "        0:srl_I\n",
              "    </td>\n",
              "    \n",
              "</tr>\n",
              "        \n",
              "            <tr style=\"background-color: hsl(0, 100.00%, 93.53%); border: none;\">\n",
              "    <td style=\"padding: 0 1em 0 0.5em; text-align: right; border: none;\">\n",
              "        -0.156\n",
              "    </td>\n",
              "    <td style=\"padding: 0 0.5em 0 0.5em; text-align: left; border: none;\">\n",
              "        0:morph_NounType:Prop\n",
              "    </td>\n",
              "    \n",
              "</tr>\n",
              "        \n",
              "            <tr style=\"background-color: hsl(0, 100.00%, 93.51%); border: none;\">\n",
              "    <td style=\"padding: 0 1em 0 0.5em; text-align: right; border: none;\">\n",
              "        -0.156\n",
              "    </td>\n",
              "    <td style=\"padding: 0 0.5em 0 0.5em; text-align: left; border: none;\">\n",
              "        0:pos_:PROPN\n",
              "    </td>\n",
              "    \n",
              "</tr>\n",
              "        \n",
              "            <tr style=\"background-color: hsl(0, 100.00%, 93.47%); border: none;\">\n",
              "    <td style=\"padding: 0 1em 0 0.5em; text-align: right; border: none;\">\n",
              "        -0.157\n",
              "    </td>\n",
              "    <td style=\"padding: 0 0.5em 0 0.5em; text-align: left; border: none;\">\n",
              "        0:dep_:oprd\n",
              "    </td>\n",
              "    \n",
              "</tr>\n",
              "        \n",
              "            <tr style=\"background-color: hsl(0, 100.00%, 93.08%); border: none;\">\n",
              "    <td style=\"padding: 0 1em 0 0.5em; text-align: right; border: none;\">\n",
              "        -0.171\n",
              "    </td>\n",
              "    <td style=\"padding: 0 0.5em 0 0.5em; text-align: left; border: none;\">\n",
              "        1:word:.\n",
              "    </td>\n",
              "    \n",
              "</tr>\n",
              "        \n",
              "            <tr style=\"background-color: hsl(0, 100.00%, 93.03%); border: none;\">\n",
              "    <td style=\"padding: 0 1em 0 0.5em; text-align: right; border: none;\">\n",
              "        -0.173\n",
              "    </td>\n",
              "    <td style=\"padding: 0 0.5em 0 0.5em; text-align: left; border: none;\">\n",
              "        1:morph_PunctType:Peri\n",
              "    </td>\n",
              "    \n",
              "</tr>\n",
              "        \n",
              "            <tr style=\"background-color: hsl(0, 100.00%, 92.75%); border: none;\">\n",
              "    <td style=\"padding: 0 1em 0 0.5em; text-align: right; border: none;\">\n",
              "        -0.183\n",
              "    </td>\n",
              "    <td style=\"padding: 0 0.5em 0 0.5em; text-align: left; border: none;\">\n",
              "        0:dep_:nummod\n",
              "    </td>\n",
              "    \n",
              "</tr>\n",
              "        \n",
              "            <tr style=\"background-color: hsl(0, 100.00%, 92.72%); border: none;\">\n",
              "    <td style=\"padding: 0 1em 0 0.5em; text-align: right; border: none;\">\n",
              "        -0.184\n",
              "    </td>\n",
              "    <td style=\"padding: 0 0.5em 0 0.5em; text-align: left; border: none;\">\n",
              "        0:ent_iob_:I\n",
              "    </td>\n",
              "    \n",
              "</tr>\n",
              "        \n",
              "            <tr style=\"background-color: hsl(0, 100.00%, 92.60%); border: none;\">\n",
              "    <td style=\"padding: 0 1em 0 0.5em; text-align: right; border: none;\">\n",
              "        -0.189\n",
              "    </td>\n",
              "    <td style=\"padding: 0 0.5em 0 0.5em; text-align: left; border: none;\">\n",
              "        0:dep_:pobj\n",
              "    </td>\n",
              "    \n",
              "</tr>\n",
              "        \n",
              "            <tr style=\"background-color: hsl(0, 100.00%, 92.18%); border: none;\">\n",
              "    <td style=\"padding: 0 1em 0 0.5em; text-align: right; border: none;\">\n",
              "        -0.204\n",
              "    </td>\n",
              "    <td style=\"padding: 0 0.5em 0 0.5em; text-align: left; border: none;\">\n",
              "        1:tag_:&#x27;&#x27;\n",
              "    </td>\n",
              "    \n",
              "</tr>\n",
              "        \n",
              "            <tr style=\"background-color: hsl(0, 100.00%, 92.12%); border: none;\">\n",
              "    <td style=\"padding: 0 1em 0 0.5em; text-align: right; border: none;\">\n",
              "        -0.206\n",
              "    </td>\n",
              "    <td style=\"padding: 0 0.5em 0 0.5em; text-align: left; border: none;\">\n",
              "        -1:tag_:``\n",
              "    </td>\n",
              "    \n",
              "</tr>\n",
              "        \n",
              "            <tr style=\"background-color: hsl(0, 100.00%, 90.93%); border: none;\">\n",
              "    <td style=\"padding: 0 1em 0 0.5em; text-align: right; border: none;\">\n",
              "        -0.252\n",
              "    </td>\n",
              "    <td style=\"padding: 0 0.5em 0 0.5em; text-align: left; border: none;\">\n",
              "        0:prefix1:1\n",
              "    </td>\n",
              "    \n",
              "</tr>\n",
              "        \n",
              "            <tr style=\"background-color: hsl(0, 100.00%, 90.83%); border: none;\">\n",
              "    <td style=\"padding: 0 1em 0 0.5em; text-align: right; border: none;\">\n",
              "        -0.256\n",
              "    </td>\n",
              "    <td style=\"padding: 0 0.5em 0 0.5em; text-align: left; border: none;\">\n",
              "        0:morph_NumType:Card\n",
              "    </td>\n",
              "    \n",
              "</tr>\n",
              "        \n",
              "            <tr style=\"background-color: hsl(0, 100.00%, 90.82%); border: none;\">\n",
              "    <td style=\"padding: 0 1em 0 0.5em; text-align: right; border: none;\">\n",
              "        -0.256\n",
              "    </td>\n",
              "    <td style=\"padding: 0 0.5em 0 0.5em; text-align: left; border: none;\">\n",
              "        0:tag_:CD\n",
              "    </td>\n",
              "    \n",
              "</tr>\n",
              "        \n",
              "            <tr style=\"background-color: hsl(0, 100.00%, 90.82%); border: none;\">\n",
              "    <td style=\"padding: 0 1em 0 0.5em; text-align: right; border: none;\">\n",
              "        -0.256\n",
              "    </td>\n",
              "    <td style=\"padding: 0 0.5em 0 0.5em; text-align: left; border: none;\">\n",
              "        0:pos_:NUM\n",
              "    </td>\n",
              "    \n",
              "</tr>\n",
              "        \n",
              "            <tr style=\"background-color: hsl(0, 100.00%, 90.68%); border: none;\">\n",
              "    <td style=\"padding: 0 1em 0 0.5em; text-align: right; border: none;\">\n",
              "        -0.262\n",
              "    </td>\n",
              "    <td style=\"padding: 0 0.5em 0 0.5em; text-align: left; border: none;\">\n",
              "        0:ent_type:CARDINAL\n",
              "    </td>\n",
              "    \n",
              "</tr>\n",
              "        \n",
              "            <tr style=\"background-color: hsl(0, 100.00%, 90.62%); border: none;\">\n",
              "    <td style=\"padding: 0 1em 0 0.5em; text-align: right; border: none;\">\n",
              "        -0.264\n",
              "    </td>\n",
              "    <td style=\"padding: 0 0.5em 0 0.5em; text-align: left; border: none;\">\n",
              "        0:dep_:appos\n",
              "    </td>\n",
              "    \n",
              "</tr>\n",
              "        \n",
              "            <tr style=\"background-color: hsl(0, 100.00%, 87.41%); border: none;\">\n",
              "    <td style=\"padding: 0 1em 0 0.5em; text-align: right; border: none;\">\n",
              "        -0.402\n",
              "    </td>\n",
              "    <td style=\"padding: 0 0.5em 0 0.5em; text-align: left; border: none;\">\n",
              "        1:pos_:PUNCT\n",
              "    </td>\n",
              "    \n",
              "</tr>\n",
              "        \n",
              "\n",
              "        </tbody>\n",
              "    </table>\n",
              "\n",
              "                                \n",
              "                            \n",
              "                        </td>\n",
              "                    \n",
              "                        <td style=\"padding: 0px; border: 1px solid black; vertical-align: top;\">\n",
              "                            \n",
              "                                \n",
              "                                    \n",
              "                                    \n",
              "    \n",
              "    <table class=\"eli5-weights\"\n",
              "           style=\"border-collapse: collapse; border: none; margin-top: 0em; table-layout: auto; width: 100%;\">\n",
              "        <thead>\n",
              "        <tr style=\"border: none;\">\n",
              "            \n",
              "                <th style=\"padding: 0 1em 0 0.5em; text-align: right; border: none;\" title=\"Feature weights. Note that weights do not account for feature value scales, so if feature values have different scales, features with highest weights might not be the most important.\">\n",
              "                    Weight<sup>?</sup>\n",
              "                </th>\n",
              "            \n",
              "            <th style=\"padding: 0 0.5em 0 0.5em; text-align: left; border: none;\">Feature</th>\n",
              "            \n",
              "        </tr>\n",
              "        </thead>\n",
              "        <tbody>\n",
              "        \n",
              "            <tr style=\"background-color: hsl(120, 100.00%, 89.17%); border: none;\">\n",
              "    <td style=\"padding: 0 1em 0 0.5em; text-align: right; border: none;\">\n",
              "        +0.325\n",
              "    </td>\n",
              "    <td style=\"padding: 0 0.5em 0 0.5em; text-align: left; border: none;\">\n",
              "        0:srl_B\n",
              "    </td>\n",
              "    \n",
              "</tr>\n",
              "        \n",
              "            <tr style=\"background-color: hsl(120, 100.00%, 90.08%); border: none;\">\n",
              "    <td style=\"padding: 0 1em 0 0.5em; text-align: right; border: none;\">\n",
              "        +0.286\n",
              "    </td>\n",
              "    <td style=\"padding: 0 0.5em 0 0.5em; text-align: left; border: none;\">\n",
              "        -1 BOS\n",
              "    </td>\n",
              "    \n",
              "</tr>\n",
              "        \n",
              "            <tr style=\"background-color: hsl(120, 100.00%, 90.08%); border: none;\">\n",
              "    <td style=\"padding: 0 1em 0 0.5em; text-align: right; border: none;\">\n",
              "        +0.286\n",
              "    </td>\n",
              "    <td style=\"padding: 0 0.5em 0 0.5em; text-align: left; border: none;\">\n",
              "        AbsPos:0\n",
              "    </td>\n",
              "    \n",
              "</tr>\n",
              "        \n",
              "            <tr style=\"background-color: hsl(120, 100.00%, 90.56%); border: none;\">\n",
              "    <td style=\"padding: 0 1em 0 0.5em; text-align: right; border: none;\">\n",
              "        +0.267\n",
              "    </td>\n",
              "    <td style=\"padding: 0 0.5em 0 0.5em; text-align: left; border: none;\">\n",
              "        0:morph_NumType:Card\n",
              "    </td>\n",
              "    \n",
              "</tr>\n",
              "        \n",
              "            <tr style=\"background-color: hsl(120, 100.00%, 90.56%); border: none;\">\n",
              "    <td style=\"padding: 0 1em 0 0.5em; text-align: right; border: none;\">\n",
              "        +0.267\n",
              "    </td>\n",
              "    <td style=\"padding: 0 0.5em 0 0.5em; text-align: left; border: none;\">\n",
              "        0:tag_:CD\n",
              "    </td>\n",
              "    \n",
              "</tr>\n",
              "        \n",
              "            <tr style=\"background-color: hsl(120, 100.00%, 90.56%); border: none;\">\n",
              "    <td style=\"padding: 0 1em 0 0.5em; text-align: right; border: none;\">\n",
              "        +0.267\n",
              "    </td>\n",
              "    <td style=\"padding: 0 0.5em 0 0.5em; text-align: left; border: none;\">\n",
              "        0:pos_:NUM\n",
              "    </td>\n",
              "    \n",
              "</tr>\n",
              "        \n",
              "            <tr style=\"background-color: hsl(120, 100.00%, 91.56%); border: none;\">\n",
              "    <td style=\"padding: 0 1em 0 0.5em; text-align: right; border: none;\">\n",
              "        +0.227\n",
              "    </td>\n",
              "    <td style=\"padding: 0 0.5em 0 0.5em; text-align: left; border: none;\">\n",
              "        0:shape_reduced:Xx\n",
              "    </td>\n",
              "    \n",
              "</tr>\n",
              "        \n",
              "            <tr style=\"background-color: hsl(120, 100.00%, 92.05%); border: none;\">\n",
              "    <td style=\"padding: 0 1em 0 0.5em; text-align: right; border: none;\">\n",
              "        +0.209\n",
              "    </td>\n",
              "    <td style=\"padding: 0 0.5em 0 0.5em; text-align: left; border: none;\">\n",
              "        1:ent_type:PERSON\n",
              "    </td>\n",
              "    \n",
              "</tr>\n",
              "        \n",
              "            <tr style=\"background-color: hsl(120, 100.00%, 92.36%); border: none;\">\n",
              "    <td style=\"padding: 0 1em 0 0.5em; text-align: right; border: none;\">\n",
              "        +0.197\n",
              "    </td>\n",
              "    <td style=\"padding: 0 0.5em 0 0.5em; text-align: left; border: none;\">\n",
              "        0:srl_ARG1:B\n",
              "    </td>\n",
              "    \n",
              "</tr>\n",
              "        \n",
              "            <tr style=\"background-color: hsl(120, 100.00%, 92.97%); border: none;\">\n",
              "    <td style=\"padding: 0 1em 0 0.5em; text-align: right; border: none;\">\n",
              "        +0.175\n",
              "    </td>\n",
              "    <td style=\"padding: 0 0.5em 0 0.5em; text-align: left; border: none;\">\n",
              "        -1:tag_:IN\n",
              "    </td>\n",
              "    \n",
              "</tr>\n",
              "        \n",
              "            <tr style=\"background-color: hsl(120, 100.00%, 93.02%); border: none;\">\n",
              "    <td style=\"padding: 0 1em 0 0.5em; text-align: right; border: none;\">\n",
              "        +0.173\n",
              "    </td>\n",
              "    <td style=\"padding: 0 0.5em 0 0.5em; text-align: left; border: none;\">\n",
              "        0:dep_:nummod\n",
              "    </td>\n",
              "    \n",
              "</tr>\n",
              "        \n",
              "            <tr style=\"background-color: hsl(120, 100.00%, 93.18%); border: none;\">\n",
              "    <td style=\"padding: 0 1em 0 0.5em; text-align: right; border: none;\">\n",
              "        +0.168\n",
              "    </td>\n",
              "    <td style=\"padding: 0 0.5em 0 0.5em; text-align: left; border: none;\">\n",
              "        0:prefix1:1\n",
              "    </td>\n",
              "    \n",
              "</tr>\n",
              "        \n",
              "            <tr style=\"background-color: hsl(120, 100.00%, 93.19%); border: none;\">\n",
              "    <td style=\"padding: 0 1em 0 0.5em; text-align: right; border: none;\">\n",
              "        +0.167\n",
              "    </td>\n",
              "    <td style=\"padding: 0 0.5em 0 0.5em; text-align: left; border: none;\">\n",
              "        0:ent_type:CARDINAL\n",
              "    </td>\n",
              "    \n",
              "</tr>\n",
              "        \n",
              "            <tr style=\"background-color: hsl(120, 100.00%, 93.26%); border: none;\">\n",
              "    <td style=\"padding: 0 1em 0 0.5em; text-align: right; border: none;\">\n",
              "        +0.165\n",
              "    </td>\n",
              "    <td style=\"padding: 0 0.5em 0 0.5em; text-align: left; border: none;\">\n",
              "        0:srl_ARG2:B\n",
              "    </td>\n",
              "    \n",
              "</tr>\n",
              "        \n",
              "            <tr style=\"background-color: hsl(120, 100.00%, 93.28%); border: none;\">\n",
              "    <td style=\"padding: 0 1em 0 0.5em; text-align: right; border: none;\">\n",
              "        +0.164\n",
              "    </td>\n",
              "    <td style=\"padding: 0 0.5em 0 0.5em; text-align: left; border: none;\">\n",
              "        -1:dep_:pobj\n",
              "    </td>\n",
              "    \n",
              "</tr>\n",
              "        \n",
              "            <tr style=\"background-color: hsl(120, 100.00%, 93.39%); border: none;\">\n",
              "    <td style=\"padding: 0 1em 0 0.5em; text-align: right; border: none;\">\n",
              "        +0.160\n",
              "    </td>\n",
              "    <td style=\"padding: 0 0.5em 0 0.5em; text-align: left; border: none;\">\n",
              "        -1:word:as\n",
              "    </td>\n",
              "    \n",
              "</tr>\n",
              "        \n",
              "            <tr style=\"background-color: hsl(120, 100.00%, 93.40%); border: none;\">\n",
              "    <td style=\"padding: 0 1em 0 0.5em; text-align: right; border: none;\">\n",
              "        +0.160\n",
              "    </td>\n",
              "    <td style=\"padding: 0 0.5em 0 0.5em; text-align: left; border: none;\">\n",
              "        -1:morph_PunctSide:Ini\n",
              "    </td>\n",
              "    \n",
              "</tr>\n",
              "        \n",
              "            <tr style=\"background-color: hsl(120, 100.00%, 93.67%); border: none;\">\n",
              "    <td style=\"padding: 0 1em 0 0.5em; text-align: right; border: none;\">\n",
              "        +0.151\n",
              "    </td>\n",
              "    <td style=\"padding: 0 0.5em 0 0.5em; text-align: left; border: none;\">\n",
              "        -1:pos_:ADP\n",
              "    </td>\n",
              "    \n",
              "</tr>\n",
              "        \n",
              "            <tr style=\"background-color: hsl(120, 100.00%, 93.79%); border: none;\">\n",
              "    <td style=\"padding: 0 1em 0 0.5em; text-align: right; border: none;\">\n",
              "        +0.147\n",
              "    </td>\n",
              "    <td style=\"padding: 0 0.5em 0 0.5em; text-align: left; border: none;\">\n",
              "        0:dep_:appos\n",
              "    </td>\n",
              "    \n",
              "</tr>\n",
              "        \n",
              "            <tr style=\"background-color: hsl(120, 100.00%, 93.99%); border: none;\">\n",
              "    <td style=\"padding: 0 1em 0 0.5em; text-align: right; border: none;\">\n",
              "        +0.140\n",
              "    </td>\n",
              "    <td style=\"padding: 0 0.5em 0 0.5em; text-align: left; border: none;\">\n",
              "        0:srl_ARG0:B\n",
              "    </td>\n",
              "    \n",
              "</tr>\n",
              "        \n",
              "            <tr style=\"background-color: hsl(120, 100.00%, 94.18%); border: none;\">\n",
              "    <td style=\"padding: 0 1em 0 0.5em; text-align: right; border: none;\">\n",
              "        +0.134\n",
              "    </td>\n",
              "    <td style=\"padding: 0 0.5em 0 0.5em; text-align: left; border: none;\">\n",
              "        -1:srl_ARG2:B\n",
              "    </td>\n",
              "    \n",
              "</tr>\n",
              "        \n",
              "            <tr style=\"background-color: hsl(120, 100.00%, 94.24%); border: none;\">\n",
              "    <td style=\"padding: 0 1em 0 0.5em; text-align: right; border: none;\">\n",
              "        +0.132\n",
              "    </td>\n",
              "    <td style=\"padding: 0 0.5em 0 0.5em; text-align: left; border: none;\">\n",
              "        -1:dep_:prep\n",
              "    </td>\n",
              "    \n",
              "</tr>\n",
              "        \n",
              "            <tr style=\"background-color: hsl(120, 100.00%, 94.66%); border: none;\">\n",
              "    <td style=\"padding: 0 1em 0 0.5em; text-align: right; border: none;\">\n",
              "        +0.118\n",
              "    </td>\n",
              "    <td style=\"padding: 0 0.5em 0 0.5em; text-align: left; border: none;\">\n",
              "        0:shape_reduced:dx\n",
              "    </td>\n",
              "    \n",
              "</tr>\n",
              "        \n",
              "            <tr style=\"background-color: hsl(120, 100.00%, 94.67%); border: none;\">\n",
              "    <td style=\"padding: 0 1em 0 0.5em; text-align: right; border: none;\">\n",
              "        +0.118\n",
              "    </td>\n",
              "    <td style=\"padding: 0 0.5em 0 0.5em; text-align: left; border: none;\">\n",
              "        1:dep_:appos\n",
              "    </td>\n",
              "    \n",
              "</tr>\n",
              "        \n",
              "            <tr style=\"background-color: hsl(120, 100.00%, 94.68%); border: none;\">\n",
              "    <td style=\"padding: 0 1em 0 0.5em; text-align: right; border: none;\">\n",
              "        +0.118\n",
              "    </td>\n",
              "    <td style=\"padding: 0 0.5em 0 0.5em; text-align: left; border: none;\">\n",
              "        -1:dep_:agent\n",
              "    </td>\n",
              "    \n",
              "</tr>\n",
              "        \n",
              "            <tr style=\"background-color: hsl(120, 100.00%, 94.69%); border: none;\">\n",
              "    <td style=\"padding: 0 1em 0 0.5em; text-align: right; border: none;\">\n",
              "        +0.117\n",
              "    </td>\n",
              "    <td style=\"padding: 0 0.5em 0 0.5em; text-align: left; border: none;\">\n",
              "        0:tag_:NNS\n",
              "    </td>\n",
              "    \n",
              "</tr>\n",
              "        \n",
              "            <tr style=\"background-color: hsl(120, 100.00%, 94.72%); border: none;\">\n",
              "    <td style=\"padding: 0 1em 0 0.5em; text-align: right; border: none;\">\n",
              "        +0.116\n",
              "    </td>\n",
              "    <td style=\"padding: 0 0.5em 0 0.5em; text-align: left; border: none;\">\n",
              "        0:dep_:quantmod\n",
              "    </td>\n",
              "    \n",
              "</tr>\n",
              "        \n",
              "            <tr style=\"background-color: hsl(120, 100.00%, 95.08%); border: none;\">\n",
              "    <td style=\"padding: 0 1em 0 0.5em; text-align: right; border: none;\">\n",
              "        +0.105\n",
              "    </td>\n",
              "    <td style=\"padding: 0 0.5em 0 0.5em; text-align: left; border: none;\">\n",
              "        0:tag_:``\n",
              "    </td>\n",
              "    \n",
              "</tr>\n",
              "        \n",
              "            <tr style=\"background-color: hsl(120, 100.00%, 95.15%); border: none;\">\n",
              "    <td style=\"padding: 0 1em 0 0.5em; text-align: right; border: none;\">\n",
              "        +0.103\n",
              "    </td>\n",
              "    <td style=\"padding: 0 0.5em 0 0.5em; text-align: left; border: none;\">\n",
              "        -1:dep_:nsubj\n",
              "    </td>\n",
              "    \n",
              "</tr>\n",
              "        \n",
              "            <tr style=\"background-color: hsl(120, 100.00%, 95.15%); border: none;\">\n",
              "    <td style=\"padding: 0 1em 0 0.5em; text-align: right; border: none;\">\n",
              "        +0.103\n",
              "    </td>\n",
              "    <td style=\"padding: 0 0.5em 0 0.5em; text-align: left; border: none;\">\n",
              "        0:pos_:NOUN\n",
              "    </td>\n",
              "    \n",
              "</tr>\n",
              "        \n",
              "            <tr style=\"background-color: hsl(120, 100.00%, 95.17%); border: none;\">\n",
              "    <td style=\"padding: 0 1em 0 0.5em; text-align: right; border: none;\">\n",
              "        +0.103\n",
              "    </td>\n",
              "    <td style=\"padding: 0 0.5em 0 0.5em; text-align: left; border: none;\">\n",
              "        {}:srl_verb:is\n",
              "    </td>\n",
              "    \n",
              "</tr>\n",
              "        \n",
              "            <tr style=\"background-color: hsl(120, 100.00%, 95.25%); border: none;\">\n",
              "    <td style=\"padding: 0 1em 0 0.5em; text-align: right; border: none;\">\n",
              "        +0.100\n",
              "    </td>\n",
              "    <td style=\"padding: 0 0.5em 0 0.5em; text-align: left; border: none;\">\n",
              "        0:ent_iob_:B\n",
              "    </td>\n",
              "    \n",
              "</tr>\n",
              "        \n",
              "            <tr style=\"background-color: hsl(120, 100.00%, 95.26%); border: none;\">\n",
              "    <td style=\"padding: 0 1em 0 0.5em; text-align: right; border: none;\">\n",
              "        +0.100\n",
              "    </td>\n",
              "    <td style=\"padding: 0 0.5em 0 0.5em; text-align: left; border: none;\">\n",
              "        0:srl_verb_ARG2:called\n",
              "    </td>\n",
              "    \n",
              "</tr>\n",
              "        \n",
              "            <tr style=\"background-color: hsl(120, 100.00%, 95.29%); border: none;\">\n",
              "    <td style=\"padding: 0 1em 0 0.5em; text-align: right; border: none;\">\n",
              "        +0.099\n",
              "    </td>\n",
              "    <td style=\"padding: 0 0.5em 0 0.5em; text-align: left; border: none;\">\n",
              "        -1:word:by\n",
              "    </td>\n",
              "    \n",
              "</tr>\n",
              "        \n",
              "            <tr style=\"background-color: hsl(120, 100.00%, 95.30%); border: none;\">\n",
              "    <td style=\"padding: 0 1em 0 0.5em; text-align: right; border: none;\">\n",
              "        +0.098\n",
              "    </td>\n",
              "    <td style=\"padding: 0 0.5em 0 0.5em; text-align: left; border: none;\">\n",
              "        -1:word:&quot;\n",
              "    </td>\n",
              "    \n",
              "</tr>\n",
              "        \n",
              "            <tr style=\"background-color: hsl(120, 100.00%, 95.31%); border: none;\">\n",
              "    <td style=\"padding: 0 1em 0 0.5em; text-align: right; border: none;\">\n",
              "        +0.098\n",
              "    </td>\n",
              "    <td style=\"padding: 0 0.5em 0 0.5em; text-align: left; border: none;\">\n",
              "        0:srl_verb_ARG1:is\n",
              "    </td>\n",
              "    \n",
              "</tr>\n",
              "        \n",
              "            <tr style=\"background-color: hsl(120, 100.00%, 95.31%); border: none;\">\n",
              "    <td style=\"padding: 0 1em 0 0.5em; text-align: right; border: none;\">\n",
              "        +0.098\n",
              "    </td>\n",
              "    <td style=\"padding: 0 0.5em 0 0.5em; text-align: left; border: none;\">\n",
              "        -1:dep_:ROOT\n",
              "    </td>\n",
              "    \n",
              "</tr>\n",
              "        \n",
              "            <tr style=\"background-color: hsl(120, 100.00%, 95.33%); border: none;\">\n",
              "    <td style=\"padding: 0 1em 0 0.5em; text-align: right; border: none;\">\n",
              "        +0.097\n",
              "    </td>\n",
              "    <td style=\"padding: 0 0.5em 0 0.5em; text-align: left; border: none;\">\n",
              "        -1:shape_reduced:x\n",
              "    </td>\n",
              "    \n",
              "</tr>\n",
              "        \n",
              "            <tr style=\"background-color: hsl(120, 100.00%, 95.35%); border: none;\">\n",
              "    <td style=\"padding: 0 1em 0 0.5em; text-align: right; border: none;\">\n",
              "        +0.097\n",
              "    </td>\n",
              "    <td style=\"padding: 0 0.5em 0 0.5em; text-align: left; border: none;\">\n",
              "        0:dep_:oprd\n",
              "    </td>\n",
              "    \n",
              "</tr>\n",
              "        \n",
              "            <tr style=\"background-color: hsl(120, 100.00%, 95.40%); border: none;\">\n",
              "    <td style=\"padding: 0 1em 0 0.5em; text-align: right; border: none;\">\n",
              "        +0.096\n",
              "    </td>\n",
              "    <td style=\"padding: 0 0.5em 0 0.5em; text-align: left; border: none;\">\n",
              "        -1:tag_:``\n",
              "    </td>\n",
              "    \n",
              "</tr>\n",
              "        \n",
              "            <tr style=\"background-color: hsl(120, 100.00%, 95.40%); border: none;\">\n",
              "    <td style=\"padding: 0 1em 0 0.5em; text-align: right; border: none;\">\n",
              "        +0.096\n",
              "    </td>\n",
              "    <td style=\"padding: 0 0.5em 0 0.5em; text-align: left; border: none;\">\n",
              "        1:dep_:nsubj\n",
              "    </td>\n",
              "    \n",
              "</tr>\n",
              "        \n",
              "            <tr style=\"background-color: hsl(120, 100.00%, 95.43%); border: none;\">\n",
              "    <td style=\"padding: 0 1em 0 0.5em; text-align: right; border: none;\">\n",
              "        +0.095\n",
              "    </td>\n",
              "    <td style=\"padding: 0 0.5em 0 0.5em; text-align: left; border: none;\">\n",
              "        0:shape_reduced:d\n",
              "    </td>\n",
              "    \n",
              "</tr>\n",
              "        \n",
              "            <tr style=\"background-color: hsl(120, 100.00%, 95.51%); border: none;\">\n",
              "    <td style=\"padding: 0 1em 0 0.5em; text-align: right; border: none;\">\n",
              "        +0.092\n",
              "    </td>\n",
              "    <td style=\"padding: 0 0.5em 0 0.5em; text-align: left; border: none;\">\n",
              "        -1:ent_iob_:B\n",
              "    </td>\n",
              "    \n",
              "</tr>\n",
              "        \n",
              "            <tr style=\"background-color: hsl(120, 100.00%, 95.54%); border: none;\">\n",
              "    <td style=\"padding: 0 1em 0 0.5em; text-align: right; border: none;\">\n",
              "        +0.092\n",
              "    </td>\n",
              "    <td style=\"padding: 0 0.5em 0 0.5em; text-align: left; border: none;\">\n",
              "        0:dep_:nmod\n",
              "    </td>\n",
              "    \n",
              "</tr>\n",
              "        \n",
              "            <tr style=\"background-color: hsl(120, 100.00%, 95.58%); border: none;\">\n",
              "    <td style=\"padding: 0 1em 0 0.5em; text-align: right; border: none;\">\n",
              "        +0.090\n",
              "    </td>\n",
              "    <td style=\"padding: 0 0.5em 0 0.5em; text-align: left; border: none;\">\n",
              "        0:srl_ARGM-TMP:B\n",
              "    </td>\n",
              "    \n",
              "</tr>\n",
              "        \n",
              "            <tr style=\"background-color: hsl(120, 100.00%, 95.58%); border: none;\">\n",
              "    <td style=\"padding: 0 1em 0 0.5em; text-align: right; border: none;\">\n",
              "        +0.090\n",
              "    </td>\n",
              "    <td style=\"padding: 0 0.5em 0 0.5em; text-align: left; border: none;\">\n",
              "        0:morph_Number:Sing\n",
              "    </td>\n",
              "    \n",
              "</tr>\n",
              "        \n",
              "        \n",
              "            <tr style=\"background-color: hsl(120, 100.00%, 95.58%); border: none;\">\n",
              "                <td colspan=\"2\" style=\"padding: 0 0.5em 0 0.5em; text-align: center; border: none; white-space: nowrap;\">\n",
              "                    <i>&hellip; 15920 more positive &hellip;</i>\n",
              "                </td>\n",
              "            </tr>\n",
              "        \n",
              "\n",
              "        \n",
              "            <tr style=\"background-color: hsl(0, 100.00%, 95.69%); border: none;\">\n",
              "                <td colspan=\"2\" style=\"padding: 0 0.5em 0 0.5em; text-align: center; border: none; white-space: nowrap;\">\n",
              "                    <i>&hellip; 9618 more negative &hellip;</i>\n",
              "                </td>\n",
              "            </tr>\n",
              "        \n",
              "        \n",
              "            <tr style=\"background-color: hsl(0, 100.00%, 95.69%); border: none;\">\n",
              "    <td style=\"padding: 0 1em 0 0.5em; text-align: right; border: none;\">\n",
              "        -0.087\n",
              "    </td>\n",
              "    <td style=\"padding: 0 0.5em 0 0.5em; text-align: left; border: none;\">\n",
              "        -1:pos_:ADJ\n",
              "    </td>\n",
              "    \n",
              "</tr>\n",
              "        \n",
              "            <tr style=\"background-color: hsl(0, 100.00%, 95.67%); border: none;\">\n",
              "    <td style=\"padding: 0 1em 0 0.5em; text-align: right; border: none;\">\n",
              "        -0.088\n",
              "    </td>\n",
              "    <td style=\"padding: 0 0.5em 0 0.5em; text-align: left; border: none;\">\n",
              "        0:morph_PunctSide:Fin\n",
              "    </td>\n",
              "    \n",
              "</tr>\n",
              "        \n",
              "            <tr style=\"background-color: hsl(0, 100.00%, 95.66%); border: none;\">\n",
              "    <td style=\"padding: 0 1em 0 0.5em; text-align: right; border: none;\">\n",
              "        -0.088\n",
              "    </td>\n",
              "    <td style=\"padding: 0 0.5em 0 0.5em; text-align: left; border: none;\">\n",
              "        1:alpha\n",
              "    </td>\n",
              "    \n",
              "</tr>\n",
              "        \n",
              "            <tr style=\"background-color: hsl(0, 100.00%, 95.64%); border: none;\">\n",
              "    <td style=\"padding: 0 1em 0 0.5em; text-align: right; border: none;\">\n",
              "        -0.089\n",
              "    </td>\n",
              "    <td style=\"padding: 0 0.5em 0 0.5em; text-align: left; border: none;\">\n",
              "        -1:dep_:nummod\n",
              "    </td>\n",
              "    \n",
              "</tr>\n",
              "        \n",
              "            <tr style=\"background-color: hsl(0, 100.00%, 95.55%); border: none;\">\n",
              "    <td style=\"padding: 0 1em 0 0.5em; text-align: right; border: none;\">\n",
              "        -0.091\n",
              "    </td>\n",
              "    <td style=\"padding: 0 0.5em 0 0.5em; text-align: left; border: none;\">\n",
              "        -1:tag_:JJ\n",
              "    </td>\n",
              "    \n",
              "</tr>\n",
              "        \n",
              "            <tr style=\"background-color: hsl(0, 100.00%, 95.52%); border: none;\">\n",
              "    <td style=\"padding: 0 1em 0 0.5em; text-align: right; border: none;\">\n",
              "        -0.092\n",
              "    </td>\n",
              "    <td style=\"padding: 0 0.5em 0 0.5em; text-align: left; border: none;\">\n",
              "        0:suffix1:t\n",
              "    </td>\n",
              "    \n",
              "</tr>\n",
              "        \n",
              "            <tr style=\"background-color: hsl(0, 100.00%, 95.43%); border: none;\">\n",
              "    <td style=\"padding: 0 1em 0 0.5em; text-align: right; border: none;\">\n",
              "        -0.095\n",
              "    </td>\n",
              "    <td style=\"padding: 0 0.5em 0 0.5em; text-align: left; border: none;\">\n",
              "        0:srl_ARGM-ADV:B\n",
              "    </td>\n",
              "    \n",
              "</tr>\n",
              "        \n",
              "            <tr style=\"background-color: hsl(0, 100.00%, 95.20%); border: none;\">\n",
              "    <td style=\"padding: 0 1em 0 0.5em; text-align: right; border: none;\">\n",
              "        -0.101\n",
              "    </td>\n",
              "    <td style=\"padding: 0 0.5em 0 0.5em; text-align: left; border: none;\">\n",
              "        -1:morph_Degree:Pos\n",
              "    </td>\n",
              "    \n",
              "</tr>\n",
              "        \n",
              "            <tr style=\"background-color: hsl(0, 100.00%, 95.20%); border: none;\">\n",
              "    <td style=\"padding: 0 1em 0 0.5em; text-align: right; border: none;\">\n",
              "        -0.101\n",
              "    </td>\n",
              "    <td style=\"padding: 0 0.5em 0 0.5em; text-align: left; border: none;\">\n",
              "        0:morph_VerbForm:Part\n",
              "    </td>\n",
              "    \n",
              "</tr>\n",
              "        \n",
              "            <tr style=\"background-color: hsl(0, 100.00%, 95.18%); border: none;\">\n",
              "    <td style=\"padding: 0 1em 0 0.5em; text-align: right; border: none;\">\n",
              "        -0.102\n",
              "    </td>\n",
              "    <td style=\"padding: 0 0.5em 0 0.5em; text-align: left; border: none;\">\n",
              "        0:word:and\n",
              "    </td>\n",
              "    \n",
              "</tr>\n",
              "        \n",
              "            <tr style=\"background-color: hsl(0, 100.00%, 95.17%); border: none;\">\n",
              "    <td style=\"padding: 0 1em 0 0.5em; text-align: right; border: none;\">\n",
              "        -0.103\n",
              "    </td>\n",
              "    <td style=\"padding: 0 0.5em 0 0.5em; text-align: left; border: none;\">\n",
              "        -1:srl_B\n",
              "    </td>\n",
              "    \n",
              "</tr>\n",
              "        \n",
              "            <tr style=\"background-color: hsl(0, 100.00%, 94.89%); border: none;\">\n",
              "    <td style=\"padding: 0 1em 0 0.5em; text-align: right; border: none;\">\n",
              "        -0.111\n",
              "    </td>\n",
              "    <td style=\"padding: 0 0.5em 0 0.5em; text-align: left; border: none;\">\n",
              "        0:suffix2:nd\n",
              "    </td>\n",
              "    \n",
              "</tr>\n",
              "        \n",
              "            <tr style=\"background-color: hsl(0, 100.00%, 94.85%); border: none;\">\n",
              "    <td style=\"padding: 0 1em 0 0.5em; text-align: right; border: none;\">\n",
              "        -0.112\n",
              "    </td>\n",
              "    <td style=\"padding: 0 0.5em 0 0.5em; text-align: left; border: none;\">\n",
              "        0:ent_type:QUANTITY\n",
              "    </td>\n",
              "    \n",
              "</tr>\n",
              "        \n",
              "            <tr style=\"background-color: hsl(0, 100.00%, 94.85%); border: none;\">\n",
              "    <td style=\"padding: 0 1em 0 0.5em; text-align: right; border: none;\">\n",
              "        -0.112\n",
              "    </td>\n",
              "    <td style=\"padding: 0 0.5em 0 0.5em; text-align: left; border: none;\">\n",
              "        -1:srl_ARG1:I\n",
              "    </td>\n",
              "    \n",
              "</tr>\n",
              "        \n",
              "            <tr style=\"background-color: hsl(0, 100.00%, 94.80%); border: none;\">\n",
              "    <td style=\"padding: 0 1em 0 0.5em; text-align: right; border: none;\">\n",
              "        -0.114\n",
              "    </td>\n",
              "    <td style=\"padding: 0 0.5em 0 0.5em; text-align: left; border: none;\">\n",
              "        0:pos_:CCONJ\n",
              "    </td>\n",
              "    \n",
              "</tr>\n",
              "        \n",
              "            <tr style=\"background-color: hsl(0, 100.00%, 94.80%); border: none;\">\n",
              "    <td style=\"padding: 0 1em 0 0.5em; text-align: right; border: none;\">\n",
              "        -0.114\n",
              "    </td>\n",
              "    <td style=\"padding: 0 0.5em 0 0.5em; text-align: left; border: none;\">\n",
              "        0:tag_:CC\n",
              "    </td>\n",
              "    \n",
              "</tr>\n",
              "        \n",
              "            <tr style=\"background-color: hsl(0, 100.00%, 94.80%); border: none;\">\n",
              "    <td style=\"padding: 0 1em 0 0.5em; text-align: right; border: none;\">\n",
              "        -0.114\n",
              "    </td>\n",
              "    <td style=\"padding: 0 0.5em 0 0.5em; text-align: left; border: none;\">\n",
              "        0:morph_ConjType:Cmp\n",
              "    </td>\n",
              "    \n",
              "</tr>\n",
              "        \n",
              "            <tr style=\"background-color: hsl(0, 100.00%, 94.80%); border: none;\">\n",
              "    <td style=\"padding: 0 1em 0 0.5em; text-align: right; border: none;\">\n",
              "        -0.114\n",
              "    </td>\n",
              "    <td style=\"padding: 0 0.5em 0 0.5em; text-align: left; border: none;\">\n",
              "        1:ent_type:GPE\n",
              "    </td>\n",
              "    \n",
              "</tr>\n",
              "        \n",
              "            <tr style=\"background-color: hsl(0, 100.00%, 94.52%); border: none;\">\n",
              "    <td style=\"padding: 0 1em 0 0.5em; text-align: right; border: none;\">\n",
              "        -0.123\n",
              "    </td>\n",
              "    <td style=\"padding: 0 0.5em 0 0.5em; text-align: left; border: none;\">\n",
              "        -1:morph_NumType:Card\n",
              "    </td>\n",
              "    \n",
              "</tr>\n",
              "        \n",
              "            <tr style=\"background-color: hsl(0, 100.00%, 94.52%); border: none;\">\n",
              "    <td style=\"padding: 0 1em 0 0.5em; text-align: right; border: none;\">\n",
              "        -0.123\n",
              "    </td>\n",
              "    <td style=\"padding: 0 0.5em 0 0.5em; text-align: left; border: none;\">\n",
              "        -1:pos_:NUM\n",
              "    </td>\n",
              "    \n",
              "</tr>\n",
              "        \n",
              "            <tr style=\"background-color: hsl(0, 100.00%, 94.52%); border: none;\">\n",
              "    <td style=\"padding: 0 1em 0 0.5em; text-align: right; border: none;\">\n",
              "        -0.123\n",
              "    </td>\n",
              "    <td style=\"padding: 0 0.5em 0 0.5em; text-align: left; border: none;\">\n",
              "        -1:tag_:CD\n",
              "    </td>\n",
              "    \n",
              "</tr>\n",
              "        \n",
              "            <tr style=\"background-color: hsl(0, 100.00%, 94.32%); border: none;\">\n",
              "    <td style=\"padding: 0 1em 0 0.5em; text-align: right; border: none;\">\n",
              "        -0.129\n",
              "    </td>\n",
              "    <td style=\"padding: 0 0.5em 0 0.5em; text-align: left; border: none;\">\n",
              "        -1:srl_ARG2:I\n",
              "    </td>\n",
              "    \n",
              "</tr>\n",
              "        \n",
              "            <tr style=\"background-color: hsl(0, 100.00%, 94.31%); border: none;\">\n",
              "    <td style=\"padding: 0 1em 0 0.5em; text-align: right; border: none;\">\n",
              "        -0.129\n",
              "    </td>\n",
              "    <td style=\"padding: 0 0.5em 0 0.5em; text-align: left; border: none;\">\n",
              "        1:ent_type:QUANTITY\n",
              "    </td>\n",
              "    \n",
              "</tr>\n",
              "        \n",
              "            <tr style=\"background-color: hsl(0, 100.00%, 94.19%); border: none;\">\n",
              "    <td style=\"padding: 0 1em 0 0.5em; text-align: right; border: none;\">\n",
              "        -0.133\n",
              "    </td>\n",
              "    <td style=\"padding: 0 0.5em 0 0.5em; text-align: left; border: none;\">\n",
              "        0:word:of\n",
              "    </td>\n",
              "    \n",
              "</tr>\n",
              "        \n",
              "            <tr style=\"background-color: hsl(0, 100.00%, 93.98%); border: none;\">\n",
              "    <td style=\"padding: 0 1em 0 0.5em; text-align: right; border: none;\">\n",
              "        -0.140\n",
              "    </td>\n",
              "    <td style=\"padding: 0 0.5em 0 0.5em; text-align: left; border: none;\">\n",
              "        0:dep_:cc\n",
              "    </td>\n",
              "    \n",
              "</tr>\n",
              "        \n",
              "            <tr style=\"background-color: hsl(0, 100.00%, 93.81%); border: none;\">\n",
              "    <td style=\"padding: 0 1em 0 0.5em; text-align: right; border: none;\">\n",
              "        -0.146\n",
              "    </td>\n",
              "    <td style=\"padding: 0 0.5em 0 0.5em; text-align: left; border: none;\">\n",
              "        -1:morph_PunctType:Dash\n",
              "    </td>\n",
              "    \n",
              "</tr>\n",
              "        \n",
              "            <tr style=\"background-color: hsl(0, 100.00%, 93.81%); border: none;\">\n",
              "    <td style=\"padding: 0 1em 0 0.5em; text-align: right; border: none;\">\n",
              "        -0.146\n",
              "    </td>\n",
              "    <td style=\"padding: 0 0.5em 0 0.5em; text-align: left; border: none;\">\n",
              "        -1:tag_:HYPH\n",
              "    </td>\n",
              "    \n",
              "</tr>\n",
              "        \n",
              "            <tr style=\"background-color: hsl(0, 100.00%, 93.74%); border: none;\">\n",
              "    <td style=\"padding: 0 1em 0 0.5em; text-align: right; border: none;\">\n",
              "        -0.148\n",
              "    </td>\n",
              "    <td style=\"padding: 0 0.5em 0 0.5em; text-align: left; border: none;\">\n",
              "        -1:word:-\n",
              "    </td>\n",
              "    \n",
              "</tr>\n",
              "        \n",
              "            <tr style=\"background-color: hsl(0, 100.00%, 93.67%); border: none;\">\n",
              "    <td style=\"padding: 0 1em 0 0.5em; text-align: right; border: none;\">\n",
              "        -0.151\n",
              "    </td>\n",
              "    <td style=\"padding: 0 0.5em 0 0.5em; text-align: left; border: none;\">\n",
              "        0:tag_:IN\n",
              "    </td>\n",
              "    \n",
              "</tr>\n",
              "        \n",
              "            <tr style=\"background-color: hsl(0, 100.00%, 93.62%); border: none;\">\n",
              "    <td style=\"padding: 0 1em 0 0.5em; text-align: right; border: none;\">\n",
              "        -0.152\n",
              "    </td>\n",
              "    <td style=\"padding: 0 0.5em 0 0.5em; text-align: left; border: none;\">\n",
              "        0:dep_:prep\n",
              "    </td>\n",
              "    \n",
              "</tr>\n",
              "        \n",
              "            <tr style=\"background-color: hsl(0, 100.00%, 93.59%); border: none;\">\n",
              "    <td style=\"padding: 0 1em 0 0.5em; text-align: right; border: none;\">\n",
              "        -0.154\n",
              "    </td>\n",
              "    <td style=\"padding: 0 0.5em 0 0.5em; text-align: left; border: none;\">\n",
              "        -1:srl_iob:B\n",
              "    </td>\n",
              "    \n",
              "</tr>\n",
              "        \n",
              "            <tr style=\"background-color: hsl(0, 100.00%, 93.58%); border: none;\">\n",
              "    <td style=\"padding: 0 1em 0 0.5em; text-align: right; border: none;\">\n",
              "        -0.154\n",
              "    </td>\n",
              "    <td style=\"padding: 0 0.5em 0 0.5em; text-align: left; border: none;\">\n",
              "        0:morph_PunctType:Comm\n",
              "    </td>\n",
              "    \n",
              "</tr>\n",
              "        \n",
              "            <tr style=\"background-color: hsl(0, 100.00%, 93.58%); border: none;\">\n",
              "    <td style=\"padding: 0 1em 0 0.5em; text-align: right; border: none;\">\n",
              "        -0.154\n",
              "    </td>\n",
              "    <td style=\"padding: 0 0.5em 0 0.5em; text-align: left; border: none;\">\n",
              "        0:word:,\n",
              "    </td>\n",
              "    \n",
              "</tr>\n",
              "        \n",
              "            <tr style=\"background-color: hsl(0, 100.00%, 93.37%); border: none;\">\n",
              "    <td style=\"padding: 0 1em 0 0.5em; text-align: right; border: none;\">\n",
              "        -0.161\n",
              "    </td>\n",
              "    <td style=\"padding: 0 0.5em 0 0.5em; text-align: left; border: none;\">\n",
              "        -1:tag_:NNP\n",
              "    </td>\n",
              "    \n",
              "</tr>\n",
              "        \n",
              "            <tr style=\"background-color: hsl(0, 100.00%, 93.33%); border: none;\">\n",
              "    <td style=\"padding: 0 1em 0 0.5em; text-align: right; border: none;\">\n",
              "        -0.162\n",
              "    </td>\n",
              "    <td style=\"padding: 0 0.5em 0 0.5em; text-align: left; border: none;\">\n",
              "        -1:dep_:amod\n",
              "    </td>\n",
              "    \n",
              "</tr>\n",
              "        \n",
              "            <tr style=\"background-color: hsl(0, 100.00%, 93.23%); border: none;\">\n",
              "    <td style=\"padding: 0 1em 0 0.5em; text-align: right; border: none;\">\n",
              "        -0.166\n",
              "    </td>\n",
              "    <td style=\"padding: 0 0.5em 0 0.5em; text-align: left; border: none;\">\n",
              "        0:pos_:ADP\n",
              "    </td>\n",
              "    \n",
              "</tr>\n",
              "        \n",
              "            <tr style=\"background-color: hsl(0, 100.00%, 93.19%); border: none;\">\n",
              "    <td style=\"padding: 0 1em 0 0.5em; text-align: right; border: none;\">\n",
              "        -0.167\n",
              "    </td>\n",
              "    <td style=\"padding: 0 0.5em 0 0.5em; text-align: left; border: none;\">\n",
              "        -1:alpha\n",
              "    </td>\n",
              "    \n",
              "</tr>\n",
              "        \n",
              "            <tr style=\"background-color: hsl(0, 100.00%, 93.17%); border: none;\">\n",
              "    <td style=\"padding: 0 1em 0 0.5em; text-align: right; border: none;\">\n",
              "        -0.168\n",
              "    </td>\n",
              "    <td style=\"padding: 0 0.5em 0 0.5em; text-align: left; border: none;\">\n",
              "        -1:morph_NounType:Prop\n",
              "    </td>\n",
              "    \n",
              "</tr>\n",
              "        \n",
              "            <tr style=\"background-color: hsl(0, 100.00%, 93.17%); border: none;\">\n",
              "    <td style=\"padding: 0 1em 0 0.5em; text-align: right; border: none;\">\n",
              "        -0.168\n",
              "    </td>\n",
              "    <td style=\"padding: 0 0.5em 0 0.5em; text-align: left; border: none;\">\n",
              "        -1:pos_:PROPN\n",
              "    </td>\n",
              "    \n",
              "</tr>\n",
              "        \n",
              "            <tr style=\"background-color: hsl(0, 100.00%, 92.79%); border: none;\">\n",
              "    <td style=\"padding: 0 1em 0 0.5em; text-align: right; border: none;\">\n",
              "        -0.181\n",
              "    </td>\n",
              "    <td style=\"padding: 0 0.5em 0 0.5em; text-align: left; border: none;\">\n",
              "        QuartilePos:3\n",
              "    </td>\n",
              "    \n",
              "</tr>\n",
              "        \n",
              "            <tr style=\"background-color: hsl(0, 100.00%, 92.66%); border: none;\">\n",
              "    <td style=\"padding: 0 1em 0 0.5em; text-align: right; border: none;\">\n",
              "        -0.186\n",
              "    </td>\n",
              "    <td style=\"padding: 0 0.5em 0 0.5em; text-align: left; border: none;\">\n",
              "        0:word:.\n",
              "    </td>\n",
              "    \n",
              "</tr>\n",
              "        \n",
              "            <tr style=\"background-color: hsl(0, 100.00%, 92.62%); border: none;\">\n",
              "    <td style=\"padding: 0 1em 0 0.5em; text-align: right; border: none;\">\n",
              "        -0.188\n",
              "    </td>\n",
              "    <td style=\"padding: 0 0.5em 0 0.5em; text-align: left; border: none;\">\n",
              "        0:morph_PunctType:Peri\n",
              "    </td>\n",
              "    \n",
              "</tr>\n",
              "        \n",
              "            <tr style=\"background-color: hsl(0, 100.00%, 92.28%); border: none;\">\n",
              "    <td style=\"padding: 0 1em 0 0.5em; text-align: right; border: none;\">\n",
              "        -0.200\n",
              "    </td>\n",
              "    <td style=\"padding: 0 0.5em 0 0.5em; text-align: left; border: none;\">\n",
              "        0:prefix1:o\n",
              "    </td>\n",
              "    \n",
              "</tr>\n",
              "        \n",
              "            <tr style=\"background-color: hsl(0, 100.00%, 92.02%); border: none;\">\n",
              "    <td style=\"padding: 0 1em 0 0.5em; text-align: right; border: none;\">\n",
              "        -0.210\n",
              "    </td>\n",
              "    <td style=\"padding: 0 0.5em 0 0.5em; text-align: left; border: none;\">\n",
              "        -1:srl_I\n",
              "    </td>\n",
              "    \n",
              "</tr>\n",
              "        \n",
              "            <tr style=\"background-color: hsl(0, 100.00%, 91.70%); border: none;\">\n",
              "    <td style=\"padding: 0 1em 0 0.5em; text-align: right; border: none;\">\n",
              "        -0.222\n",
              "    </td>\n",
              "    <td style=\"padding: 0 0.5em 0 0.5em; text-align: left; border: none;\">\n",
              "        0:dep_:conj\n",
              "    </td>\n",
              "    \n",
              "</tr>\n",
              "        \n",
              "            <tr style=\"background-color: hsl(0, 100.00%, 91.63%); border: none;\">\n",
              "    <td style=\"padding: 0 1em 0 0.5em; text-align: right; border: none;\">\n",
              "        -0.224\n",
              "    </td>\n",
              "    <td style=\"padding: 0 0.5em 0 0.5em; text-align: left; border: none;\">\n",
              "        1:dep_:conj\n",
              "    </td>\n",
              "    \n",
              "</tr>\n",
              "        \n",
              "            <tr style=\"background-color: hsl(0, 100.00%, 91.54%); border: none;\">\n",
              "    <td style=\"padding: 0 1em 0 0.5em; text-align: right; border: none;\">\n",
              "        -0.228\n",
              "    </td>\n",
              "    <td style=\"padding: 0 0.5em 0 0.5em; text-align: left; border: none;\">\n",
              "        0:ent_iob_:I\n",
              "    </td>\n",
              "    \n",
              "</tr>\n",
              "        \n",
              "            <tr style=\"background-color: hsl(0, 100.00%, 91.05%); border: none;\">\n",
              "    <td style=\"padding: 0 1em 0 0.5em; text-align: right; border: none;\">\n",
              "        -0.247\n",
              "    </td>\n",
              "    <td style=\"padding: 0 0.5em 0 0.5em; text-align: left; border: none;\">\n",
              "        0:shape_reduced:x\n",
              "    </td>\n",
              "    \n",
              "</tr>\n",
              "        \n",
              "            <tr style=\"background-color: hsl(0, 100.00%, 90.60%); border: none;\">\n",
              "    <td style=\"padding: 0 1em 0 0.5em; text-align: right; border: none;\">\n",
              "        -0.265\n",
              "    </td>\n",
              "    <td style=\"padding: 0 0.5em 0 0.5em; text-align: left; border: none;\">\n",
              "        -1:shape_reduced:Xx\n",
              "    </td>\n",
              "    \n",
              "</tr>\n",
              "        \n",
              "            <tr style=\"background-color: hsl(0, 100.00%, 89.84%); border: none;\">\n",
              "    <td style=\"padding: 0 1em 0 0.5em; text-align: right; border: none;\">\n",
              "        -0.296\n",
              "    </td>\n",
              "    <td style=\"padding: 0 0.5em 0 0.5em; text-align: left; border: none;\">\n",
              "        -1:dep_:compound\n",
              "    </td>\n",
              "    \n",
              "</tr>\n",
              "        \n",
              "            <tr style=\"background-color: hsl(0, 100.00%, 89.82%); border: none;\">\n",
              "    <td style=\"padding: 0 1em 0 0.5em; text-align: right; border: none;\">\n",
              "        -0.297\n",
              "    </td>\n",
              "    <td style=\"padding: 0 0.5em 0 0.5em; text-align: left; border: none;\">\n",
              "        1 EOS\n",
              "    </td>\n",
              "    \n",
              "</tr>\n",
              "        \n",
              "            <tr style=\"background-color: hsl(0, 100.00%, 89.50%); border: none;\">\n",
              "    <td style=\"padding: 0 1em 0 0.5em; text-align: right; border: none;\">\n",
              "        -0.311\n",
              "    </td>\n",
              "    <td style=\"padding: 0 0.5em 0 0.5em; text-align: left; border: none;\">\n",
              "        -1:ent_iob_:I\n",
              "    </td>\n",
              "    \n",
              "</tr>\n",
              "        \n",
              "            <tr style=\"background-color: hsl(0, 100.00%, 88.02%); border: none;\">\n",
              "    <td style=\"padding: 0 1em 0 0.5em; text-align: right; border: none;\">\n",
              "        -0.375\n",
              "    </td>\n",
              "    <td style=\"padding: 0 0.5em 0 0.5em; text-align: left; border: none;\">\n",
              "        0:stop\n",
              "    </td>\n",
              "    \n",
              "</tr>\n",
              "        \n",
              "            <tr style=\"background-color: hsl(0, 100.00%, 85.21%); border: none;\">\n",
              "    <td style=\"padding: 0 1em 0 0.5em; text-align: right; border: none;\">\n",
              "        -0.507\n",
              "    </td>\n",
              "    <td style=\"padding: 0 0.5em 0 0.5em; text-align: left; border: none;\">\n",
              "        0:pos_:PUNCT\n",
              "    </td>\n",
              "    \n",
              "</tr>\n",
              "        \n",
              "\n",
              "        </tbody>\n",
              "    </table>\n",
              "\n",
              "                                \n",
              "                            \n",
              "                        </td>\n",
              "                    \n",
              "                        <td style=\"padding: 0px; border: 1px solid black; vertical-align: top;\">\n",
              "                            \n",
              "                                \n",
              "                                    \n",
              "                                    \n",
              "    \n",
              "    <table class=\"eli5-weights\"\n",
              "           style=\"border-collapse: collapse; border: none; margin-top: 0em; table-layout: auto; width: 100%;\">\n",
              "        <thead>\n",
              "        <tr style=\"border: none;\">\n",
              "            \n",
              "                <th style=\"padding: 0 1em 0 0.5em; text-align: right; border: none;\" title=\"Feature weights. Note that weights do not account for feature value scales, so if feature values have different scales, features with highest weights might not be the most important.\">\n",
              "                    Weight<sup>?</sup>\n",
              "                </th>\n",
              "            \n",
              "            <th style=\"padding: 0 0.5em 0 0.5em; text-align: left; border: none;\">Feature</th>\n",
              "            \n",
              "        </tr>\n",
              "        </thead>\n",
              "        <tbody>\n",
              "        \n",
              "            <tr style=\"background-color: hsl(120, 100.00%, 87.75%); border: none;\">\n",
              "    <td style=\"padding: 0 1em 0 0.5em; text-align: right; border: none;\">\n",
              "        +0.387\n",
              "    </td>\n",
              "    <td style=\"padding: 0 0.5em 0 0.5em; text-align: left; border: none;\">\n",
              "        0:ent_iob_:I\n",
              "    </td>\n",
              "    \n",
              "</tr>\n",
              "        \n",
              "            <tr style=\"background-color: hsl(120, 100.00%, 90.46%); border: none;\">\n",
              "    <td style=\"padding: 0 1em 0 0.5em; text-align: right; border: none;\">\n",
              "        +0.271\n",
              "    </td>\n",
              "    <td style=\"padding: 0 0.5em 0 0.5em; text-align: left; border: none;\">\n",
              "        -1:dep_:compound\n",
              "    </td>\n",
              "    \n",
              "</tr>\n",
              "        \n",
              "            <tr style=\"background-color: hsl(120, 100.00%, 92.04%); border: none;\">\n",
              "    <td style=\"padding: 0 1em 0 0.5em; text-align: right; border: none;\">\n",
              "        +0.209\n",
              "    </td>\n",
              "    <td style=\"padding: 0 0.5em 0 0.5em; text-align: left; border: none;\">\n",
              "        1:tag_:&#x27;&#x27;\n",
              "    </td>\n",
              "    \n",
              "</tr>\n",
              "        \n",
              "            <tr style=\"background-color: hsl(120, 100.00%, 92.32%); border: none;\">\n",
              "    <td style=\"padding: 0 1em 0 0.5em; text-align: right; border: none;\">\n",
              "        +0.199\n",
              "    </td>\n",
              "    <td style=\"padding: 0 0.5em 0 0.5em; text-align: left; border: none;\">\n",
              "        1:morph_PunctType:Peri\n",
              "    </td>\n",
              "    \n",
              "</tr>\n",
              "        \n",
              "            <tr style=\"background-color: hsl(120, 100.00%, 92.36%); border: none;\">\n",
              "    <td style=\"padding: 0 1em 0 0.5em; text-align: right; border: none;\">\n",
              "        +0.197\n",
              "    </td>\n",
              "    <td style=\"padding: 0 0.5em 0 0.5em; text-align: left; border: none;\">\n",
              "        1:word:.\n",
              "    </td>\n",
              "    \n",
              "</tr>\n",
              "        \n",
              "            <tr style=\"background-color: hsl(120, 100.00%, 92.94%); border: none;\">\n",
              "    <td style=\"padding: 0 1em 0 0.5em; text-align: right; border: none;\">\n",
              "        +0.176\n",
              "    </td>\n",
              "    <td style=\"padding: 0 0.5em 0 0.5em; text-align: left; border: none;\">\n",
              "        0:tag_:HYPH\n",
              "    </td>\n",
              "    \n",
              "</tr>\n",
              "        \n",
              "            <tr style=\"background-color: hsl(120, 100.00%, 92.94%); border: none;\">\n",
              "    <td style=\"padding: 0 1em 0 0.5em; text-align: right; border: none;\">\n",
              "        +0.176\n",
              "    </td>\n",
              "    <td style=\"padding: 0 0.5em 0 0.5em; text-align: left; border: none;\">\n",
              "        0:morph_PunctType:Dash\n",
              "    </td>\n",
              "    \n",
              "</tr>\n",
              "        \n",
              "            <tr style=\"background-color: hsl(120, 100.00%, 92.97%); border: none;\">\n",
              "    <td style=\"padding: 0 1em 0 0.5em; text-align: right; border: none;\">\n",
              "        +0.175\n",
              "    </td>\n",
              "    <td style=\"padding: 0 0.5em 0 0.5em; text-align: left; border: none;\">\n",
              "        1:morph_PunctSide:Fin\n",
              "    </td>\n",
              "    \n",
              "</tr>\n",
              "        \n",
              "            <tr style=\"background-color: hsl(120, 100.00%, 93.55%); border: none;\">\n",
              "    <td style=\"padding: 0 1em 0 0.5em; text-align: right; border: none;\">\n",
              "        +0.155\n",
              "    </td>\n",
              "    <td style=\"padding: 0 0.5em 0 0.5em; text-align: left; border: none;\">\n",
              "        0:word:%\n",
              "    </td>\n",
              "    \n",
              "</tr>\n",
              "        \n",
              "            <tr style=\"background-color: hsl(120, 100.00%, 94.11%); border: none;\">\n",
              "    <td style=\"padding: 0 1em 0 0.5em; text-align: right; border: none;\">\n",
              "        +0.136\n",
              "    </td>\n",
              "    <td style=\"padding: 0 0.5em 0 0.5em; text-align: left; border: none;\">\n",
              "        0:dep_:pobj\n",
              "    </td>\n",
              "    \n",
              "</tr>\n",
              "        \n",
              "            <tr style=\"background-color: hsl(120, 100.00%, 94.17%); border: none;\">\n",
              "    <td style=\"padding: 0 1em 0 0.5em; text-align: right; border: none;\">\n",
              "        +0.134\n",
              "    </td>\n",
              "    <td style=\"padding: 0 0.5em 0 0.5em; text-align: left; border: none;\">\n",
              "        0:dep_:conj\n",
              "    </td>\n",
              "    \n",
              "</tr>\n",
              "        \n",
              "            <tr style=\"background-color: hsl(120, 100.00%, 94.19%); border: none;\">\n",
              "    <td style=\"padding: 0 1em 0 0.5em; text-align: right; border: none;\">\n",
              "        +0.133\n",
              "    </td>\n",
              "    <td style=\"padding: 0 0.5em 0 0.5em; text-align: left; border: none;\">\n",
              "        -1:srl_V:B\n",
              "    </td>\n",
              "    \n",
              "</tr>\n",
              "        \n",
              "            <tr style=\"background-color: hsl(120, 100.00%, 94.37%); border: none;\">\n",
              "    <td style=\"padding: 0 1em 0 0.5em; text-align: right; border: none;\">\n",
              "        +0.128\n",
              "    </td>\n",
              "    <td style=\"padding: 0 0.5em 0 0.5em; text-align: left; border: none;\">\n",
              "        -1:dep_:nmod\n",
              "    </td>\n",
              "    \n",
              "</tr>\n",
              "        \n",
              "            <tr style=\"background-color: hsl(120, 100.00%, 94.39%); border: none;\">\n",
              "    <td style=\"padding: 0 1em 0 0.5em; text-align: right; border: none;\">\n",
              "        +0.127\n",
              "    </td>\n",
              "    <td style=\"padding: 0 0.5em 0 0.5em; text-align: left; border: none;\">\n",
              "        -1:dep_:quantmod\n",
              "    </td>\n",
              "    \n",
              "</tr>\n",
              "        \n",
              "            <tr style=\"background-color: hsl(120, 100.00%, 94.57%); border: none;\">\n",
              "    <td style=\"padding: 0 1em 0 0.5em; text-align: right; border: none;\">\n",
              "        +0.121\n",
              "    </td>\n",
              "    <td style=\"padding: 0 0.5em 0 0.5em; text-align: left; border: none;\">\n",
              "        1:srl_ARGM-TMP:B\n",
              "    </td>\n",
              "    \n",
              "</tr>\n",
              "        \n",
              "            <tr style=\"background-color: hsl(120, 100.00%, 94.78%); border: none;\">\n",
              "    <td style=\"padding: 0 1em 0 0.5em; text-align: right; border: none;\">\n",
              "        +0.114\n",
              "    </td>\n",
              "    <td style=\"padding: 0 0.5em 0 0.5em; text-align: left; border: none;\">\n",
              "        1:srl_iob:B\n",
              "    </td>\n",
              "    \n",
              "</tr>\n",
              "        \n",
              "            <tr style=\"background-color: hsl(120, 100.00%, 94.96%); border: none;\">\n",
              "    <td style=\"padding: 0 1em 0 0.5em; text-align: right; border: none;\">\n",
              "        +0.109\n",
              "    </td>\n",
              "    <td style=\"padding: 0 0.5em 0 0.5em; text-align: left; border: none;\">\n",
              "        1:morph_PunctType:Comm\n",
              "    </td>\n",
              "    \n",
              "</tr>\n",
              "        \n",
              "            <tr style=\"background-color: hsl(120, 100.00%, 95.01%); border: none;\">\n",
              "    <td style=\"padding: 0 1em 0 0.5em; text-align: right; border: none;\">\n",
              "        +0.107\n",
              "    </td>\n",
              "    <td style=\"padding: 0 0.5em 0 0.5em; text-align: left; border: none;\">\n",
              "        1:word:,\n",
              "    </td>\n",
              "    \n",
              "</tr>\n",
              "        \n",
              "            <tr style=\"background-color: hsl(120, 100.00%, 95.03%); border: none;\">\n",
              "    <td style=\"padding: 0 1em 0 0.5em; text-align: right; border: none;\">\n",
              "        +0.107\n",
              "    </td>\n",
              "    <td style=\"padding: 0 0.5em 0 0.5em; text-align: left; border: none;\">\n",
              "        -1:morph_Case:Nom\n",
              "    </td>\n",
              "    \n",
              "</tr>\n",
              "        \n",
              "            <tr style=\"background-color: hsl(120, 100.00%, 95.11%); border: none;\">\n",
              "    <td style=\"padding: 0 1em 0 0.5em; text-align: right; border: none;\">\n",
              "        +0.104\n",
              "    </td>\n",
              "    <td style=\"padding: 0 0.5em 0 0.5em; text-align: left; border: none;\">\n",
              "        -1:word:-\n",
              "    </td>\n",
              "    \n",
              "</tr>\n",
              "        \n",
              "            <tr style=\"background-color: hsl(120, 100.00%, 95.16%); border: none;\">\n",
              "    <td style=\"padding: 0 1em 0 0.5em; text-align: right; border: none;\">\n",
              "        +0.103\n",
              "    </td>\n",
              "    <td style=\"padding: 0 0.5em 0 0.5em; text-align: left; border: none;\">\n",
              "        -1:pos_:PRON\n",
              "    </td>\n",
              "    \n",
              "</tr>\n",
              "        \n",
              "            <tr style=\"background-color: hsl(120, 100.00%, 95.31%); border: none;\">\n",
              "    <td style=\"padding: 0 1em 0 0.5em; text-align: right; border: none;\">\n",
              "        +0.098\n",
              "    </td>\n",
              "    <td style=\"padding: 0 0.5em 0 0.5em; text-align: left; border: none;\">\n",
              "        0:dep_:acomp\n",
              "    </td>\n",
              "    \n",
              "</tr>\n",
              "        \n",
              "            <tr style=\"background-color: hsl(120, 100.00%, 95.35%); border: none;\">\n",
              "    <td style=\"padding: 0 1em 0 0.5em; text-align: right; border: none;\">\n",
              "        +0.097\n",
              "    </td>\n",
              "    <td style=\"padding: 0 0.5em 0 0.5em; text-align: left; border: none;\">\n",
              "        -1:tag_:HYPH\n",
              "    </td>\n",
              "    \n",
              "</tr>\n",
              "        \n",
              "            <tr style=\"background-color: hsl(120, 100.00%, 95.35%); border: none;\">\n",
              "    <td style=\"padding: 0 1em 0 0.5em; text-align: right; border: none;\">\n",
              "        +0.097\n",
              "    </td>\n",
              "    <td style=\"padding: 0 0.5em 0 0.5em; text-align: left; border: none;\">\n",
              "        -1:morph_PunctType:Dash\n",
              "    </td>\n",
              "    \n",
              "</tr>\n",
              "        \n",
              "            <tr style=\"background-color: hsl(120, 100.00%, 95.44%); border: none;\">\n",
              "    <td style=\"padding: 0 1em 0 0.5em; text-align: right; border: none;\">\n",
              "        +0.094\n",
              "    </td>\n",
              "    <td style=\"padding: 0 0.5em 0 0.5em; text-align: left; border: none;\">\n",
              "        -1:tag_:PRP\n",
              "    </td>\n",
              "    \n",
              "</tr>\n",
              "        \n",
              "            <tr style=\"background-color: hsl(120, 100.00%, 95.64%); border: none;\">\n",
              "    <td style=\"padding: 0 1em 0 0.5em; text-align: right; border: none;\">\n",
              "        +0.089\n",
              "    </td>\n",
              "    <td style=\"padding: 0 0.5em 0 0.5em; text-align: left; border: none;\">\n",
              "        1:word:as\n",
              "    </td>\n",
              "    \n",
              "</tr>\n",
              "        \n",
              "            <tr style=\"background-color: hsl(120, 100.00%, 95.65%); border: none;\">\n",
              "    <td style=\"padding: 0 1em 0 0.5em; text-align: right; border: none;\">\n",
              "        +0.088\n",
              "    </td>\n",
              "    <td style=\"padding: 0 0.5em 0 0.5em; text-align: left; border: none;\">\n",
              "        -1:dep_:amod\n",
              "    </td>\n",
              "    \n",
              "</tr>\n",
              "        \n",
              "            <tr style=\"background-color: hsl(120, 100.00%, 95.77%); border: none;\">\n",
              "    <td style=\"padding: 0 1em 0 0.5em; text-align: right; border: none;\">\n",
              "        +0.085\n",
              "    </td>\n",
              "    <td style=\"padding: 0 0.5em 0 0.5em; text-align: left; border: none;\">\n",
              "        -1:pos_:SYM\n",
              "    </td>\n",
              "    \n",
              "</tr>\n",
              "        \n",
              "            <tr style=\"background-color: hsl(120, 100.00%, 95.99%); border: none;\">\n",
              "    <td style=\"padding: 0 1em 0 0.5em; text-align: right; border: none;\">\n",
              "        +0.078\n",
              "    </td>\n",
              "    <td style=\"padding: 0 0.5em 0 0.5em; text-align: left; border: none;\">\n",
              "        0:srl_I\n",
              "    </td>\n",
              "    \n",
              "</tr>\n",
              "        \n",
              "            <tr style=\"background-color: hsl(120, 100.00%, 96.09%); border: none;\">\n",
              "    <td style=\"padding: 0 1em 0 0.5em; text-align: right; border: none;\">\n",
              "        +0.076\n",
              "    </td>\n",
              "    <td style=\"padding: 0 0.5em 0 0.5em; text-align: left; border: none;\">\n",
              "        1:ent_type:GPE\n",
              "    </td>\n",
              "    \n",
              "</tr>\n",
              "        \n",
              "            <tr style=\"background-color: hsl(120, 100.00%, 96.11%); border: none;\">\n",
              "    <td style=\"padding: 0 1em 0 0.5em; text-align: right; border: none;\">\n",
              "        +0.075\n",
              "    </td>\n",
              "    <td style=\"padding: 0 0.5em 0 0.5em; text-align: left; border: none;\">\n",
              "        0:word:-\n",
              "    </td>\n",
              "    \n",
              "</tr>\n",
              "        \n",
              "            <tr style=\"background-color: hsl(120, 100.00%, 96.12%); border: none;\">\n",
              "    <td style=\"padding: 0 1em 0 0.5em; text-align: right; border: none;\">\n",
              "        +0.075\n",
              "    </td>\n",
              "    <td style=\"padding: 0 0.5em 0 0.5em; text-align: left; border: none;\">\n",
              "        0:srl_ARG0:I\n",
              "    </td>\n",
              "    \n",
              "</tr>\n",
              "        \n",
              "            <tr style=\"background-color: hsl(120, 100.00%, 96.12%); border: none;\">\n",
              "    <td style=\"padding: 0 1em 0 0.5em; text-align: right; border: none;\">\n",
              "        +0.075\n",
              "    </td>\n",
              "    <td style=\"padding: 0 0.5em 0 0.5em; text-align: left; border: none;\">\n",
              "        0:dep_:dobj\n",
              "    </td>\n",
              "    \n",
              "</tr>\n",
              "        \n",
              "            <tr style=\"background-color: hsl(120, 100.00%, 96.14%); border: none;\">\n",
              "    <td style=\"padding: 0 1em 0 0.5em; text-align: right; border: none;\">\n",
              "        +0.074\n",
              "    </td>\n",
              "    <td style=\"padding: 0 0.5em 0 0.5em; text-align: left; border: none;\">\n",
              "        1:tag_:WDT\n",
              "    </td>\n",
              "    \n",
              "</tr>\n",
              "        \n",
              "            <tr style=\"background-color: hsl(120, 100.00%, 96.15%); border: none;\">\n",
              "    <td style=\"padding: 0 1em 0 0.5em; text-align: right; border: none;\">\n",
              "        +0.074\n",
              "    </td>\n",
              "    <td style=\"padding: 0 0.5em 0 0.5em; text-align: left; border: none;\">\n",
              "        -1:morph_Aspect:Perf\n",
              "    </td>\n",
              "    \n",
              "</tr>\n",
              "        \n",
              "            <tr style=\"background-color: hsl(120, 100.00%, 96.18%); border: none;\">\n",
              "    <td style=\"padding: 0 1em 0 0.5em; text-align: right; border: none;\">\n",
              "        +0.073\n",
              "    </td>\n",
              "    <td style=\"padding: 0 0.5em 0 0.5em; text-align: left; border: none;\">\n",
              "        0:morph_NumType:Card\n",
              "    </td>\n",
              "    \n",
              "</tr>\n",
              "        \n",
              "            <tr style=\"background-color: hsl(120, 100.00%, 96.19%); border: none;\">\n",
              "    <td style=\"padding: 0 1em 0 0.5em; text-align: right; border: none;\">\n",
              "        +0.073\n",
              "    </td>\n",
              "    <td style=\"padding: 0 0.5em 0 0.5em; text-align: left; border: none;\">\n",
              "        1:dep_:acomp\n",
              "    </td>\n",
              "    \n",
              "</tr>\n",
              "        \n",
              "            <tr style=\"background-color: hsl(120, 100.00%, 96.19%); border: none;\">\n",
              "    <td style=\"padding: 0 1em 0 0.5em; text-align: right; border: none;\">\n",
              "        +0.073\n",
              "    </td>\n",
              "    <td style=\"padding: 0 0.5em 0 0.5em; text-align: left; border: none;\">\n",
              "        0:pos_:NUM\n",
              "    </td>\n",
              "    \n",
              "</tr>\n",
              "        \n",
              "            <tr style=\"background-color: hsl(120, 100.00%, 96.19%); border: none;\">\n",
              "    <td style=\"padding: 0 1em 0 0.5em; text-align: right; border: none;\">\n",
              "        +0.073\n",
              "    </td>\n",
              "    <td style=\"padding: 0 0.5em 0 0.5em; text-align: left; border: none;\">\n",
              "        0:tag_:CD\n",
              "    </td>\n",
              "    \n",
              "</tr>\n",
              "        \n",
              "            <tr style=\"background-color: hsl(120, 100.00%, 96.22%); border: none;\">\n",
              "    <td style=\"padding: 0 1em 0 0.5em; text-align: right; border: none;\">\n",
              "        +0.072\n",
              "    </td>\n",
              "    <td style=\"padding: 0 0.5em 0 0.5em; text-align: left; border: none;\">\n",
              "        1:srl_type:V\n",
              "    </td>\n",
              "    \n",
              "</tr>\n",
              "        \n",
              "            <tr style=\"background-color: hsl(120, 100.00%, 96.27%); border: none;\">\n",
              "    <td style=\"padding: 0 1em 0 0.5em; text-align: right; border: none;\">\n",
              "        +0.071\n",
              "    </td>\n",
              "    <td style=\"padding: 0 0.5em 0 0.5em; text-align: left; border: none;\">\n",
              "        1:word:in\n",
              "    </td>\n",
              "    \n",
              "</tr>\n",
              "        \n",
              "        \n",
              "            <tr style=\"background-color: hsl(120, 100.00%, 96.27%); border: none;\">\n",
              "                <td colspan=\"2\" style=\"padding: 0 0.5em 0 0.5em; text-align: center; border: none; white-space: nowrap;\">\n",
              "                    <i>&hellip; 35669 more positive &hellip;</i>\n",
              "                </td>\n",
              "            </tr>\n",
              "        \n",
              "\n",
              "        \n",
              "            <tr style=\"background-color: hsl(0, 100.00%, 96.26%); border: none;\">\n",
              "                <td colspan=\"2\" style=\"padding: 0 0.5em 0 0.5em; text-align: center; border: none; white-space: nowrap;\">\n",
              "                    <i>&hellip; 20077 more negative &hellip;</i>\n",
              "                </td>\n",
              "            </tr>\n",
              "        \n",
              "        \n",
              "            <tr style=\"background-color: hsl(0, 100.00%, 96.26%); border: none;\">\n",
              "    <td style=\"padding: 0 1em 0 0.5em; text-align: right; border: none;\">\n",
              "        -0.071\n",
              "    </td>\n",
              "    <td style=\"padding: 0 0.5em 0 0.5em; text-align: left; border: none;\">\n",
              "        1:shape_reduced:d\n",
              "    </td>\n",
              "    \n",
              "</tr>\n",
              "        \n",
              "            <tr style=\"background-color: hsl(0, 100.00%, 96.21%); border: none;\">\n",
              "    <td style=\"padding: 0 1em 0 0.5em; text-align: right; border: none;\">\n",
              "        -0.073\n",
              "    </td>\n",
              "    <td style=\"padding: 0 0.5em 0 0.5em; text-align: left; border: none;\">\n",
              "        0:morph_PunctType:Brck\n",
              "    </td>\n",
              "    \n",
              "</tr>\n",
              "        \n",
              "            <tr style=\"background-color: hsl(0, 100.00%, 96.20%); border: none;\">\n",
              "    <td style=\"padding: 0 1em 0 0.5em; text-align: right; border: none;\">\n",
              "        -0.073\n",
              "    </td>\n",
              "    <td style=\"padding: 0 0.5em 0 0.5em; text-align: left; border: none;\">\n",
              "        -1:shape_reduced:d,d\n",
              "    </td>\n",
              "    \n",
              "</tr>\n",
              "        \n",
              "            <tr style=\"background-color: hsl(0, 100.00%, 96.19%); border: none;\">\n",
              "    <td style=\"padding: 0 1em 0 0.5em; text-align: right; border: none;\">\n",
              "        -0.073\n",
              "    </td>\n",
              "    <td style=\"padding: 0 0.5em 0 0.5em; text-align: left; border: none;\">\n",
              "        0:pos_:AUX\n",
              "    </td>\n",
              "    \n",
              "</tr>\n",
              "        \n",
              "            <tr style=\"background-color: hsl(0, 100.00%, 96.13%); border: none;\">\n",
              "    <td style=\"padding: 0 1em 0 0.5em; text-align: right; border: none;\">\n",
              "        -0.075\n",
              "    </td>\n",
              "    <td style=\"padding: 0 0.5em 0 0.5em; text-align: left; border: none;\">\n",
              "        1:pos_:SYM\n",
              "    </td>\n",
              "    \n",
              "</tr>\n",
              "        \n",
              "            <tr style=\"background-color: hsl(0, 100.00%, 96.13%); border: none;\">\n",
              "    <td style=\"padding: 0 1em 0 0.5em; text-align: right; border: none;\">\n",
              "        -0.075\n",
              "    </td>\n",
              "    <td style=\"padding: 0 0.5em 0 0.5em; text-align: left; border: none;\">\n",
              "        -1:tag_:&#x27;&#x27;\n",
              "    </td>\n",
              "    \n",
              "</tr>\n",
              "        \n",
              "            <tr style=\"background-color: hsl(0, 100.00%, 96.12%); border: none;\">\n",
              "    <td style=\"padding: 0 1em 0 0.5em; text-align: right; border: none;\">\n",
              "        -0.075\n",
              "    </td>\n",
              "    <td style=\"padding: 0 0.5em 0 0.5em; text-align: left; border: none;\">\n",
              "        -1:prefix3:mil\n",
              "    </td>\n",
              "    \n",
              "</tr>\n",
              "        \n",
              "            <tr style=\"background-color: hsl(0, 100.00%, 96.05%); border: none;\">\n",
              "    <td style=\"padding: 0 1em 0 0.5em; text-align: right; border: none;\">\n",
              "        -0.077\n",
              "    </td>\n",
              "    <td style=\"padding: 0 0.5em 0 0.5em; text-align: left; border: none;\">\n",
              "        -1:prefix2:20\n",
              "    </td>\n",
              "    \n",
              "</tr>\n",
              "        \n",
              "            <tr style=\"background-color: hsl(0, 100.00%, 96.04%); border: none;\">\n",
              "    <td style=\"padding: 0 1em 0 0.5em; text-align: right; border: none;\">\n",
              "        -0.077\n",
              "    </td>\n",
              "    <td style=\"padding: 0 0.5em 0 0.5em; text-align: left; border: none;\">\n",
              "        1:srl_ARG0:I\n",
              "    </td>\n",
              "    \n",
              "</tr>\n",
              "        \n",
              "            <tr style=\"background-color: hsl(0, 100.00%, 96.01%); border: none;\">\n",
              "    <td style=\"padding: 0 1em 0 0.5em; text-align: right; border: none;\">\n",
              "        -0.078\n",
              "    </td>\n",
              "    <td style=\"padding: 0 0.5em 0 0.5em; text-align: left; border: none;\">\n",
              "        1:dep_:nummod\n",
              "    </td>\n",
              "    \n",
              "</tr>\n",
              "        \n",
              "            <tr style=\"background-color: hsl(0, 100.00%, 96.01%); border: none;\">\n",
              "    <td style=\"padding: 0 1em 0 0.5em; text-align: right; border: none;\">\n",
              "        -0.078\n",
              "    </td>\n",
              "    <td style=\"padding: 0 0.5em 0 0.5em; text-align: left; border: none;\">\n",
              "        -1:dep_:acomp\n",
              "    </td>\n",
              "    \n",
              "</tr>\n",
              "        \n",
              "            <tr style=\"background-color: hsl(0, 100.00%, 95.97%); border: none;\">\n",
              "    <td style=\"padding: 0 1em 0 0.5em; text-align: right; border: none;\">\n",
              "        -0.079\n",
              "    </td>\n",
              "    <td style=\"padding: 0 0.5em 0 0.5em; text-align: left; border: none;\">\n",
              "        0:morph_Tense:Pres\n",
              "    </td>\n",
              "    \n",
              "</tr>\n",
              "        \n",
              "            <tr style=\"background-color: hsl(0, 100.00%, 95.96%); border: none;\">\n",
              "    <td style=\"padding: 0 1em 0 0.5em; text-align: right; border: none;\">\n",
              "        -0.079\n",
              "    </td>\n",
              "    <td style=\"padding: 0 0.5em 0 0.5em; text-align: left; border: none;\">\n",
              "        -1:word:million\n",
              "    </td>\n",
              "    \n",
              "</tr>\n",
              "        \n",
              "            <tr style=\"background-color: hsl(0, 100.00%, 95.94%); border: none;\">\n",
              "    <td style=\"padding: 0 1em 0 0.5em; text-align: right; border: none;\">\n",
              "        -0.080\n",
              "    </td>\n",
              "    <td style=\"padding: 0 0.5em 0 0.5em; text-align: left; border: none;\">\n",
              "        1:tag_:``\n",
              "    </td>\n",
              "    \n",
              "</tr>\n",
              "        \n",
              "            <tr style=\"background-color: hsl(0, 100.00%, 95.93%); border: none;\">\n",
              "    <td style=\"padding: 0 1em 0 0.5em; text-align: right; border: none;\">\n",
              "        -0.080\n",
              "    </td>\n",
              "    <td style=\"padding: 0 0.5em 0 0.5em; text-align: left; border: none;\">\n",
              "        1:dep_:nsubjpass\n",
              "    </td>\n",
              "    \n",
              "</tr>\n",
              "        \n",
              "            <tr style=\"background-color: hsl(0, 100.00%, 95.92%); border: none;\">\n",
              "    <td style=\"padding: 0 1em 0 0.5em; text-align: right; border: none;\">\n",
              "        -0.080\n",
              "    </td>\n",
              "    <td style=\"padding: 0 0.5em 0 0.5em; text-align: left; border: none;\">\n",
              "        -1:pos_:PUNCT\n",
              "    </td>\n",
              "    \n",
              "</tr>\n",
              "        \n",
              "            <tr style=\"background-color: hsl(0, 100.00%, 95.91%); border: none;\">\n",
              "    <td style=\"padding: 0 1em 0 0.5em; text-align: right; border: none;\">\n",
              "        -0.081\n",
              "    </td>\n",
              "    <td style=\"padding: 0 0.5em 0 0.5em; text-align: left; border: none;\">\n",
              "        -1:word:by\n",
              "    </td>\n",
              "    \n",
              "</tr>\n",
              "        \n",
              "            <tr style=\"background-color: hsl(0, 100.00%, 95.73%); border: none;\">\n",
              "    <td style=\"padding: 0 1em 0 0.5em; text-align: right; border: none;\">\n",
              "        -0.086\n",
              "    </td>\n",
              "    <td style=\"padding: 0 0.5em 0 0.5em; text-align: left; border: none;\">\n",
              "        1:tag_:HYPH\n",
              "    </td>\n",
              "    \n",
              "</tr>\n",
              "        \n",
              "            <tr style=\"background-color: hsl(0, 100.00%, 95.73%); border: none;\">\n",
              "    <td style=\"padding: 0 1em 0 0.5em; text-align: right; border: none;\">\n",
              "        -0.086\n",
              "    </td>\n",
              "    <td style=\"padding: 0 0.5em 0 0.5em; text-align: left; border: none;\">\n",
              "        1:morph_PunctType:Dash\n",
              "    </td>\n",
              "    \n",
              "</tr>\n",
              "        \n",
              "            <tr style=\"background-color: hsl(0, 100.00%, 95.65%); border: none;\">\n",
              "    <td style=\"padding: 0 1em 0 0.5em; text-align: right; border: none;\">\n",
              "        -0.088\n",
              "    </td>\n",
              "    <td style=\"padding: 0 0.5em 0 0.5em; text-align: left; border: none;\">\n",
              "        1:pos_:NUM\n",
              "    </td>\n",
              "    \n",
              "</tr>\n",
              "        \n",
              "            <tr style=\"background-color: hsl(0, 100.00%, 95.65%); border: none;\">\n",
              "    <td style=\"padding: 0 1em 0 0.5em; text-align: right; border: none;\">\n",
              "        -0.088\n",
              "    </td>\n",
              "    <td style=\"padding: 0 0.5em 0 0.5em; text-align: left; border: none;\">\n",
              "        1:tag_:CD\n",
              "    </td>\n",
              "    \n",
              "</tr>\n",
              "        \n",
              "            <tr style=\"background-color: hsl(0, 100.00%, 95.62%); border: none;\">\n",
              "    <td style=\"padding: 0 1em 0 0.5em; text-align: right; border: none;\">\n",
              "        -0.089\n",
              "    </td>\n",
              "    <td style=\"padding: 0 0.5em 0 0.5em; text-align: left; border: none;\">\n",
              "        1:morph_NumType:Card\n",
              "    </td>\n",
              "    \n",
              "</tr>\n",
              "        \n",
              "            <tr style=\"background-color: hsl(0, 100.00%, 95.58%); border: none;\">\n",
              "    <td style=\"padding: 0 1em 0 0.5em; text-align: right; border: none;\">\n",
              "        -0.090\n",
              "    </td>\n",
              "    <td style=\"padding: 0 0.5em 0 0.5em; text-align: left; border: none;\">\n",
              "        1:ent_type:DATE\n",
              "    </td>\n",
              "    \n",
              "</tr>\n",
              "        \n",
              "            <tr style=\"background-color: hsl(0, 100.00%, 95.55%); border: none;\">\n",
              "    <td style=\"padding: 0 1em 0 0.5em; text-align: right; border: none;\">\n",
              "        -0.091\n",
              "    </td>\n",
              "    <td style=\"padding: 0 0.5em 0 0.5em; text-align: left; border: none;\">\n",
              "        0:oov\n",
              "    </td>\n",
              "    \n",
              "</tr>\n",
              "        \n",
              "            <tr style=\"background-color: hsl(0, 100.00%, 95.55%); border: none;\">\n",
              "    <td style=\"padding: 0 1em 0 0.5em; text-align: right; border: none;\">\n",
              "        -0.091\n",
              "    </td>\n",
              "    <td style=\"padding: 0 0.5em 0 0.5em; text-align: left; border: none;\">\n",
              "        bias\n",
              "    </td>\n",
              "    \n",
              "</tr>\n",
              "        \n",
              "            <tr style=\"background-color: hsl(0, 100.00%, 95.50%); border: none;\">\n",
              "    <td style=\"padding: 0 1em 0 0.5em; text-align: right; border: none;\">\n",
              "        -0.093\n",
              "    </td>\n",
              "    <td style=\"padding: 0 0.5em 0 0.5em; text-align: left; border: none;\">\n",
              "        -1:dep_:nsubj\n",
              "    </td>\n",
              "    \n",
              "</tr>\n",
              "        \n",
              "            <tr style=\"background-color: hsl(0, 100.00%, 95.48%); border: none;\">\n",
              "    <td style=\"padding: 0 1em 0 0.5em; text-align: right; border: none;\">\n",
              "        -0.093\n",
              "    </td>\n",
              "    <td style=\"padding: 0 0.5em 0 0.5em; text-align: left; border: none;\">\n",
              "        1:ent_iob_:I\n",
              "    </td>\n",
              "    \n",
              "</tr>\n",
              "        \n",
              "            <tr style=\"background-color: hsl(0, 100.00%, 95.42%); border: none;\">\n",
              "    <td style=\"padding: 0 1em 0 0.5em; text-align: right; border: none;\">\n",
              "        -0.095\n",
              "    </td>\n",
              "    <td style=\"padding: 0 0.5em 0 0.5em; text-align: left; border: none;\">\n",
              "        0:tag_:VBD\n",
              "    </td>\n",
              "    \n",
              "</tr>\n",
              "        \n",
              "            <tr style=\"background-color: hsl(0, 100.00%, 95.39%); border: none;\">\n",
              "    <td style=\"padding: 0 1em 0 0.5em; text-align: right; border: none;\">\n",
              "        -0.096\n",
              "    </td>\n",
              "    <td style=\"padding: 0 0.5em 0 0.5em; text-align: left; border: none;\">\n",
              "        1:word:-\n",
              "    </td>\n",
              "    \n",
              "</tr>\n",
              "        \n",
              "            <tr style=\"background-color: hsl(0, 100.00%, 95.37%); border: none;\">\n",
              "    <td style=\"padding: 0 1em 0 0.5em; text-align: right; border: none;\">\n",
              "        -0.096\n",
              "    </td>\n",
              "    <td style=\"padding: 0 0.5em 0 0.5em; text-align: left; border: none;\">\n",
              "        -1:dep_:agent\n",
              "    </td>\n",
              "    \n",
              "</tr>\n",
              "        \n",
              "            <tr style=\"background-color: hsl(0, 100.00%, 95.31%); border: none;\">\n",
              "    <td style=\"padding: 0 1em 0 0.5em; text-align: right; border: none;\">\n",
              "        -0.098\n",
              "    </td>\n",
              "    <td style=\"padding: 0 0.5em 0 0.5em; text-align: left; border: none;\">\n",
              "        -1:prefix2:19\n",
              "    </td>\n",
              "    \n",
              "</tr>\n",
              "        \n",
              "            <tr style=\"background-color: hsl(0, 100.00%, 95.29%); border: none;\">\n",
              "    <td style=\"padding: 0 1em 0 0.5em; text-align: right; border: none;\">\n",
              "        -0.099\n",
              "    </td>\n",
              "    <td style=\"padding: 0 0.5em 0 0.5em; text-align: left; border: none;\">\n",
              "        0:dep_:ROOT\n",
              "    </td>\n",
              "    \n",
              "</tr>\n",
              "        \n",
              "            <tr style=\"background-color: hsl(0, 100.00%, 95.22%); border: none;\">\n",
              "    <td style=\"padding: 0 1em 0 0.5em; text-align: right; border: none;\">\n",
              "        -0.101\n",
              "    </td>\n",
              "    <td style=\"padding: 0 0.5em 0 0.5em; text-align: left; border: none;\">\n",
              "        -1:dep_:attr\n",
              "    </td>\n",
              "    \n",
              "</tr>\n",
              "        \n",
              "            <tr style=\"background-color: hsl(0, 100.00%, 95.04%); border: none;\">\n",
              "    <td style=\"padding: 0 1em 0 0.5em; text-align: right; border: none;\">\n",
              "        -0.106\n",
              "    </td>\n",
              "    <td style=\"padding: 0 0.5em 0 0.5em; text-align: left; border: none;\">\n",
              "        1:ent_iob_:B\n",
              "    </td>\n",
              "    \n",
              "</tr>\n",
              "        \n",
              "            <tr style=\"background-color: hsl(0, 100.00%, 95.01%); border: none;\">\n",
              "    <td style=\"padding: 0 1em 0 0.5em; text-align: right; border: none;\">\n",
              "        -0.107\n",
              "    </td>\n",
              "    <td style=\"padding: 0 0.5em 0 0.5em; text-align: left; border: none;\">\n",
              "        -1:ent_iob_:I\n",
              "    </td>\n",
              "    \n",
              "</tr>\n",
              "        \n",
              "            <tr style=\"background-color: hsl(0, 100.00%, 94.69%); border: none;\">\n",
              "    <td style=\"padding: 0 1em 0 0.5em; text-align: right; border: none;\">\n",
              "        -0.117\n",
              "    </td>\n",
              "    <td style=\"padding: 0 0.5em 0 0.5em; text-align: left; border: none;\">\n",
              "        0:word:in\n",
              "    </td>\n",
              "    \n",
              "</tr>\n",
              "        \n",
              "            <tr style=\"background-color: hsl(0, 100.00%, 94.46%); border: none;\">\n",
              "    <td style=\"padding: 0 1em 0 0.5em; text-align: right; border: none;\">\n",
              "        -0.125\n",
              "    </td>\n",
              "    <td style=\"padding: 0 0.5em 0 0.5em; text-align: left; border: none;\">\n",
              "        1:dep_:appos\n",
              "    </td>\n",
              "    \n",
              "</tr>\n",
              "        \n",
              "            <tr style=\"background-color: hsl(0, 100.00%, 94.31%); border: none;\">\n",
              "    <td style=\"padding: 0 1em 0 0.5em; text-align: right; border: none;\">\n",
              "        -0.129\n",
              "    </td>\n",
              "    <td style=\"padding: 0 0.5em 0 0.5em; text-align: left; border: none;\">\n",
              "        1:dep_:quantmod\n",
              "    </td>\n",
              "    \n",
              "</tr>\n",
              "        \n",
              "            <tr style=\"background-color: hsl(0, 100.00%, 94.26%); border: none;\">\n",
              "    <td style=\"padding: 0 1em 0 0.5em; text-align: right; border: none;\">\n",
              "        -0.131\n",
              "    </td>\n",
              "    <td style=\"padding: 0 0.5em 0 0.5em; text-align: left; border: none;\">\n",
              "        -1:prefix1:1\n",
              "    </td>\n",
              "    \n",
              "</tr>\n",
              "        \n",
              "            <tr style=\"background-color: hsl(0, 100.00%, 94.20%); border: none;\">\n",
              "    <td style=\"padding: 0 1em 0 0.5em; text-align: right; border: none;\">\n",
              "        -0.133\n",
              "    </td>\n",
              "    <td style=\"padding: 0 0.5em 0 0.5em; text-align: left; border: none;\">\n",
              "        0:morph_VerbForm:Fin\n",
              "    </td>\n",
              "    \n",
              "</tr>\n",
              "        \n",
              "            <tr style=\"background-color: hsl(0, 100.00%, 94.18%); border: none;\">\n",
              "    <td style=\"padding: 0 1em 0 0.5em; text-align: right; border: none;\">\n",
              "        -0.134\n",
              "    </td>\n",
              "    <td style=\"padding: 0 0.5em 0 0.5em; text-align: left; border: none;\">\n",
              "        0:dep_:compound\n",
              "    </td>\n",
              "    \n",
              "</tr>\n",
              "        \n",
              "            <tr style=\"background-color: hsl(0, 100.00%, 94.10%); border: none;\">\n",
              "    <td style=\"padding: 0 1em 0 0.5em; text-align: right; border: none;\">\n",
              "        -0.136\n",
              "    </td>\n",
              "    <td style=\"padding: 0 0.5em 0 0.5em; text-align: left; border: none;\">\n",
              "        -1:word:%\n",
              "    </td>\n",
              "    \n",
              "</tr>\n",
              "        \n",
              "            <tr style=\"background-color: hsl(0, 100.00%, 94.07%); border: none;\">\n",
              "    <td style=\"padding: 0 1em 0 0.5em; text-align: right; border: none;\">\n",
              "        -0.137\n",
              "    </td>\n",
              "    <td style=\"padding: 0 0.5em 0 0.5em; text-align: left; border: none;\">\n",
              "        0:morph_PunctSide:Ini\n",
              "    </td>\n",
              "    \n",
              "</tr>\n",
              "        \n",
              "            <tr style=\"background-color: hsl(0, 100.00%, 93.77%); border: none;\">\n",
              "    <td style=\"padding: 0 1em 0 0.5em; text-align: right; border: none;\">\n",
              "        -0.147\n",
              "    </td>\n",
              "    <td style=\"padding: 0 0.5em 0 0.5em; text-align: left; border: none;\">\n",
              "        -1:ent_type:CARDINAL\n",
              "    </td>\n",
              "    \n",
              "</tr>\n",
              "        \n",
              "            <tr style=\"background-color: hsl(0, 100.00%, 93.45%); border: none;\">\n",
              "    <td style=\"padding: 0 1em 0 0.5em; text-align: right; border: none;\">\n",
              "        -0.158\n",
              "    </td>\n",
              "    <td style=\"padding: 0 0.5em 0 0.5em; text-align: left; border: none;\">\n",
              "        1:dep_:nmod\n",
              "    </td>\n",
              "    \n",
              "</tr>\n",
              "        \n",
              "            <tr style=\"background-color: hsl(0, 100.00%, 93.40%); border: none;\">\n",
              "    <td style=\"padding: 0 1em 0 0.5em; text-align: right; border: none;\">\n",
              "        -0.160\n",
              "    </td>\n",
              "    <td style=\"padding: 0 0.5em 0 0.5em; text-align: left; border: none;\">\n",
              "        1:ent_type:PERSON\n",
              "    </td>\n",
              "    \n",
              "</tr>\n",
              "        \n",
              "            <tr style=\"background-color: hsl(0, 100.00%, 93.08%); border: none;\">\n",
              "    <td style=\"padding: 0 1em 0 0.5em; text-align: right; border: none;\">\n",
              "        -0.171\n",
              "    </td>\n",
              "    <td style=\"padding: 0 0.5em 0 0.5em; text-align: left; border: none;\">\n",
              "        0:ent_iob_:O\n",
              "    </td>\n",
              "    \n",
              "</tr>\n",
              "        \n",
              "            <tr style=\"background-color: hsl(0, 100.00%, 92.96%); border: none;\">\n",
              "    <td style=\"padding: 0 1em 0 0.5em; text-align: right; border: none;\">\n",
              "        -0.175\n",
              "    </td>\n",
              "    <td style=\"padding: 0 0.5em 0 0.5em; text-align: left; border: none;\">\n",
              "        0:srl_ARG0:B\n",
              "    </td>\n",
              "    \n",
              "</tr>\n",
              "        \n",
              "            <tr style=\"background-color: hsl(0, 100.00%, 92.90%); border: none;\">\n",
              "    <td style=\"padding: 0 1em 0 0.5em; text-align: right; border: none;\">\n",
              "        -0.178\n",
              "    </td>\n",
              "    <td style=\"padding: 0 0.5em 0 0.5em; text-align: left; border: none;\">\n",
              "        0:srl_ARGM-TMP:B\n",
              "    </td>\n",
              "    \n",
              "</tr>\n",
              "        \n",
              "            <tr style=\"background-color: hsl(0, 100.00%, 92.58%); border: none;\">\n",
              "    <td style=\"padding: 0 1em 0 0.5em; text-align: right; border: none;\">\n",
              "        -0.189\n",
              "    </td>\n",
              "    <td style=\"padding: 0 0.5em 0 0.5em; text-align: left; border: none;\">\n",
              "        -1:dep_:pobj\n",
              "    </td>\n",
              "    \n",
              "</tr>\n",
              "        \n",
              "            <tr style=\"background-color: hsl(0, 100.00%, 92.11%); border: none;\">\n",
              "    <td style=\"padding: 0 1em 0 0.5em; text-align: right; border: none;\">\n",
              "        -0.206\n",
              "    </td>\n",
              "    <td style=\"padding: 0 0.5em 0 0.5em; text-align: left; border: none;\">\n",
              "        -1:dep_:dobj\n",
              "    </td>\n",
              "    \n",
              "</tr>\n",
              "        \n",
              "            <tr style=\"background-color: hsl(0, 100.00%, 91.58%); border: none;\">\n",
              "    <td style=\"padding: 0 1em 0 0.5em; text-align: right; border: none;\">\n",
              "        -0.226\n",
              "    </td>\n",
              "    <td style=\"padding: 0 0.5em 0 0.5em; text-align: left; border: none;\">\n",
              "        1:dep_:compound\n",
              "    </td>\n",
              "    \n",
              "</tr>\n",
              "        \n",
              "            <tr style=\"background-color: hsl(0, 100.00%, 91.09%); border: none;\">\n",
              "    <td style=\"padding: 0 1em 0 0.5em; text-align: right; border: none;\">\n",
              "        -0.245\n",
              "    </td>\n",
              "    <td style=\"padding: 0 0.5em 0 0.5em; text-align: left; border: none;\">\n",
              "        0:ent_iob_:B\n",
              "    </td>\n",
              "    \n",
              "</tr>\n",
              "        \n",
              "            <tr style=\"background-color: hsl(0, 100.00%, 91.08%); border: none;\">\n",
              "    <td style=\"padding: 0 1em 0 0.5em; text-align: right; border: none;\">\n",
              "        -0.246\n",
              "    </td>\n",
              "    <td style=\"padding: 0 0.5em 0 0.5em; text-align: left; border: none;\">\n",
              "        0:srl_B\n",
              "    </td>\n",
              "    \n",
              "</tr>\n",
              "        \n",
              "            <tr style=\"background-color: hsl(0, 100.00%, 89.60%); border: none;\">\n",
              "    <td style=\"padding: 0 1em 0 0.5em; text-align: right; border: none;\">\n",
              "        -0.306\n",
              "    </td>\n",
              "    <td style=\"padding: 0 0.5em 0 0.5em; text-align: left; border: none;\">\n",
              "        0:pos_:PUNCT\n",
              "    </td>\n",
              "    \n",
              "</tr>\n",
              "        \n",
              "            <tr style=\"background-color: hsl(0, 100.00%, 88.71%); border: none;\">\n",
              "    <td style=\"padding: 0 1em 0 0.5em; text-align: right; border: none;\">\n",
              "        -0.345\n",
              "    </td>\n",
              "    <td style=\"padding: 0 0.5em 0 0.5em; text-align: left; border: none;\">\n",
              "        0:srl_iob:B\n",
              "    </td>\n",
              "    \n",
              "</tr>\n",
              "        \n",
              "            <tr style=\"background-color: hsl(0, 100.00%, 87.01%); border: none;\">\n",
              "    <td style=\"padding: 0 1em 0 0.5em; text-align: right; border: none;\">\n",
              "        -0.421\n",
              "    </td>\n",
              "    <td style=\"padding: 0 0.5em 0 0.5em; text-align: left; border: none;\">\n",
              "        0:morph_PunctType:Peri\n",
              "    </td>\n",
              "    \n",
              "</tr>\n",
              "        \n",
              "            <tr style=\"background-color: hsl(0, 100.00%, 86.61%); border: none;\">\n",
              "    <td style=\"padding: 0 1em 0 0.5em; text-align: right; border: none;\">\n",
              "        -0.440\n",
              "    </td>\n",
              "    <td style=\"padding: 0 0.5em 0 0.5em; text-align: left; border: none;\">\n",
              "        0:word:.\n",
              "    </td>\n",
              "    \n",
              "</tr>\n",
              "        \n",
              "            <tr style=\"background-color: hsl(0, 100.00%, 84.27%); border: none;\">\n",
              "    <td style=\"padding: 0 1em 0 0.5em; text-align: right; border: none;\">\n",
              "        -0.553\n",
              "    </td>\n",
              "    <td style=\"padding: 0 0.5em 0 0.5em; text-align: left; border: none;\">\n",
              "        1 EOS\n",
              "    </td>\n",
              "    \n",
              "</tr>\n",
              "        \n",
              "\n",
              "        </tbody>\n",
              "    </table>\n",
              "\n",
              "                                \n",
              "                            \n",
              "                        </td>\n",
              "                    \n",
              "                \n",
              "            </tr>\n",
              "        </table>\n",
              "    \n",
              "\n",
              "    \n",
              "        \n",
              "\n",
              "\n",
              "    \n",
              "        \n",
              "\n",
              "\n",
              "    \n",
              "        \n",
              "\n",
              "\n",
              "    \n",
              "\n",
              "\n",
              "    \n",
              "\n",
              "    \n",
              "\n",
              "    \n",
              "\n",
              "\n",
              "    \n",
              "\n",
              "    \n",
              "\n",
              "    \n",
              "\n",
              "    \n",
              "\n",
              "    \n",
              "\n",
              "    \n",
              "\n",
              "\n",
              "    \n",
              "\n",
              "    \n",
              "\n",
              "    \n",
              "\n",
              "    \n",
              "\n",
              "    \n",
              "\n",
              "    \n",
              "\n",
              "\n",
              "\n"
            ],
            "text/plain": [
              "<IPython.core.display.HTML object>"
            ]
          },
          "metadata": {
            "tags": []
          },
          "execution_count": 12
        }
      ]
    },
    {
      "cell_type": "markdown",
      "metadata": {
        "id": "iUFkh2zBylYo"
      },
      "source": [
        "## ......."
      ]
    },
    {
      "cell_type": "code",
      "metadata": {
        "colab": {
          "base_uri": "https://localhost:8080/",
          "height": 36
        },
        "id": "ew6dypoFy1Y1",
        "outputId": "1e5be9cc-d0c2-44a6-d974-6c12efe42f8d"
      },
      "source": [
        ""
      ],
      "execution_count": null,
      "outputs": [
        {
          "output_type": "execute_result",
          "data": {
            "application/vnd.google.colaboratory.intrinsic+json": {
              "type": "string"
            },
            "text/plain": [
              "'I-Answer'"
            ]
          },
          "metadata": {
            "tags": []
          },
          "execution_count": 32
        }
      ]
    },
    {
      "cell_type": "code",
      "metadata": {
        "colab": {
          "base_uri": "https://localhost:8080/",
          "height": 1000
        },
        "id": "a9Jhw3hjsNn3",
        "outputId": "b1cd6c7c-cc36-4eeb-81b1-6b1b48ba8a3c"
      },
      "source": [
        "with open(\"./crf_results.txt\", 'a') as file:\n",
        "  for tokens, margials, y_pred, y in zip(token_test, y_pred_test_marginals, y_pred_test, io2iob(y_test)):\n",
        "    if not set(y_pred) == set([\"O\"]):\n",
        "      print()\n",
        "      print_annotated_text(tokens, margials, y)\n",
        "    for token, pred_, y_ in zip(tokens, y_pred, y):\n",
        "      file.write(\"{} {} {}\\n\".format(token, y_, pred_))\n",
        "    file.write(\"\\n\")"
      ],
      "execution_count": 20,
      "outputs": [
        {
          "output_type": "stream",
          "text": [
            "\n"
          ],
          "name": "stdout"
        },
        {
          "output_type": "display_data",
          "data": {
            "text/html": [
              "<span title=\"0.07737125655587095\" style=\"background-color:rgba(255, 0, 0, 0.07737125655587095);\"> The</span><span title=\"0.16596801666858726\" style=\"background-color:rgba(255, 0, 0, 0.16596801666858726);\"> Anglo</span><span title=\"0.14100279628183957\" style=\"background-color:rgba(255, 0, 0, 0.14100279628183957);\"> -</span><span title=\"0.14161045569727126\" style=\"background-color:rgba(255, 0, 0, 0.14161045569727126);\"> Norman</span><span title=\"0.10681604882019868\" style=\"background-color:rgba(255, 0, 0, 0.10681604882019868);\"> language</span><span title=\"0.0237311937067425\" style=\"background-color:rgba(255, 0, 0, 0.0237311937067425);\"> became</span><span title=\"0.05502623732982727\" style=\"background-color:rgba(255, 0, 0, 0.05502623732982727);\"> distinct</span><span title=\"0.03784628024148846\" style=\"background-color:rgba(255, 0, 0, 0.03784628024148846);\"> from</span><span title=\"0.0673882957262826\" style=\"background-color:rgba(255, 0, 0, 0.0673882957262826);\"> the</span><span title=\"0.21035991225008888\" style=\"background-color:rgba(255, 0, 0, 0.21035991225008888);\"> Latin</span><span title=\"0.1622284728002999\" style=\"background-color:rgba(255, 0, 0, 0.1622284728002999);\"> language</span><span title=\"0.03657611614109054\" style=\"background-color:rgba(255, 0, 0, 0.03657611614109054);\"> ,</span><span title=\"0.04286491565725897\" style=\"background-color:rgba(255, 0, 0, 0.04286491565725897);\"> something</span><span title=\"0.030781637049248387\" style=\"background-color:rgba(255, 0, 0, 0.030781637049248387);\"> that</span><span title=\"0.031075344153581423\" style=\"background-color:rgba(255, 0, 0, 0.031075344153581423);\"> was</span><span title=\"0.0706219833471575\" style=\"background-color:rgba(255, 0, 0, 0.0706219833471575);\"> the</span><span title=\"0.10731877751995741\" style=\"background-color:rgba(255, 0, 0, 0.10731877751995741);\"> subject</span><span title=\"0.07850341902935813\" style=\"background-color:rgba(255, 0, 0, 0.07850341902935813);\"> of</span><span title=\"0.09376565147846753\" style=\"background-color:rgba(255, 0, 0, 0.09376565147846753);\"> some</span><span title=\"0.11144231516390103\" style=\"background-color:rgba(255, 0, 0, 0.11144231516390103);\"> humour</span><span title=\"0.0752779655752707\" style=\"background-color:rgba(255, 0, 0, 0.0752779655752707);\"> by</span><span title=\"0.6113737684672055\" style=\"background-color:rgba(255, 0, 0, 0.6113737684672055);text-decoration: underline\"> Geoffrey</span><span title=\"0.5949503343043299\" style=\"background-color:rgba(255, 0, 0, 0.5949503343043299);text-decoration: underline\"> Chaucer</span><span title=\"0.0574529817729176\" style=\"background-color:rgba(255, 0, 0, 0.0574529817729176);\"> .</span>"
            ],
            "text/plain": [
              "<IPython.core.display.HTML object>"
            ]
          },
          "metadata": {
            "tags": []
          }
        },
        {
          "output_type": "stream",
          "text": [
            "\n"
          ],
          "name": "stdout"
        },
        {
          "output_type": "display_data",
          "data": {
            "text/html": [
              "<span title=\"0.10671683142073338\" style=\"background-color:rgba(255, 0, 0, 0.10671683142073338);\"> Richard</span><span title=\"0.01814431421802072\" style=\"background-color:rgba(255, 0, 0, 0.01814431421802072);\"> then</span><span title=\"0.013639655722401018\" style=\"background-color:rgba(255, 0, 0, 0.013639655722401018);\"> proceeded</span><span title=\"0.030954197738274097\" style=\"background-color:rgba(255, 0, 0, 0.030954197738274097);\"> to</span><span title=\"0.06174835626328638\" style=\"background-color:rgba(255, 0, 0, 0.06174835626328638);\"> conquer</span><span title=\"0.09592361269206587\" style=\"background-color:rgba(255, 0, 0, 0.09592361269206587);\"> the</span><span title=\"0.12083519958444232\" style=\"background-color:rgba(255, 0, 0, 0.12083519958444232);\"> whole</span><span title=\"0.12263858179007736\" style=\"background-color:rgba(255, 0, 0, 0.12263858179007736);\"> island</span><span title=\"0.013844104300081234\" style=\"background-color:rgba(255, 0, 0, 0.013844104300081234);\"> ,</span><span title=\"0.019688200475346217\" style=\"background-color:rgba(255, 0, 0, 0.019688200475346217);\"> his</span><span title=\"0.028707804671037493\" style=\"background-color:rgba(255, 0, 0, 0.028707804671037493);\"> troops</span><span title=\"0.01759377349642338\" style=\"background-color:rgba(255, 0, 0, 0.01759377349642338);\"> being</span><span title=\"0.02756335398329897\" style=\"background-color:rgba(255, 0, 0, 0.02756335398329897);\"> led</span><span title=\"0.04982903548899366\" style=\"background-color:rgba(255, 0, 0, 0.04982903548899366);\"> by</span><span title=\"0.6181553243270568\" style=\"background-color:rgba(255, 0, 0, 0.6181553243270568);text-decoration: underline\"> Guy</span><span title=\"0.6203810936897222\" style=\"background-color:rgba(255, 0, 0, 0.6203810936897222);text-decoration: underline\"> de</span><span title=\"0.6113113230756919\" style=\"background-color:rgba(255, 0, 0, 0.6113113230756919);text-decoration: underline\"> Lusignan</span><span title=\"0.06072918618582595\" style=\"background-color:rgba(255, 0, 0, 0.06072918618582595);\"> .</span>"
            ],
            "text/plain": [
              "<IPython.core.display.HTML object>"
            ]
          },
          "metadata": {
            "tags": []
          }
        },
        {
          "output_type": "stream",
          "text": [
            "\n"
          ],
          "name": "stdout"
        },
        {
          "output_type": "display_data",
          "data": {
            "text/html": [
              "<span title=\"0.03169929763944909\" style=\"background-color:rgba(255, 0, 0, 0.03169929763944909);\"> In</span><span title=\"0.3991184946736288\" style=\"background-color:rgba(255, 0, 0, 0.3991184946736288);\"> 1418</span><span title=\"0.01517340339792605\" style=\"background-color:rgba(255, 0, 0, 0.01517340339792605);\"> ,</span><span title=\"0.16630485726588476\" style=\"background-color:rgba(255, 0, 0, 0.16630485726588476);\"> Jean</span><span title=\"0.10982558987832594\" style=\"background-color:rgba(255, 0, 0, 0.10982558987832594);\"> 's</span><span title=\"0.1514296076595317\" style=\"background-color:rgba(255, 0, 0, 0.1514296076595317);\"> nephew</span><span title=\"0.3371332211003929\" style=\"background-color:rgba(255, 0, 0, 0.3371332211003929);text-decoration: underline\"> Maciot</span><span title=\"0.3455572140302565\" style=\"background-color:rgba(255, 0, 0, 0.3455572140302565);text-decoration: underline\"> de</span><span title=\"0.33804154947641535\" style=\"background-color:rgba(255, 0, 0, 0.33804154947641535);text-decoration: underline\"> Bethencourt</span><span title=\"0.0727913951102975\" style=\"background-color:rgba(255, 0, 0, 0.0727913951102975);\"> sold</span><span title=\"0.11467525148834656\" style=\"background-color:rgba(255, 0, 0, 0.11467525148834656);\"> the</span><span title=\"0.1396666965568303\" style=\"background-color:rgba(255, 0, 0, 0.1396666965568303);\"> rights</span><span title=\"0.08645272227266863\" style=\"background-color:rgba(255, 0, 0, 0.08645272227266863);\"> to</span><span title=\"0.0991879689522629\" style=\"background-color:rgba(255, 0, 0, 0.0991879689522629);\"> the</span><span title=\"0.10567389745277679\" style=\"background-color:rgba(255, 0, 0, 0.10567389745277679);\"> islands</span><span title=\"0.05039672117455895\" style=\"background-color:rgba(255, 0, 0, 0.05039672117455895);\"> to</span><span title=\"0.7039966717250582\" style=\"background-color:rgba(255, 0, 0, 0.7039966717250582);text-decoration: underline\"> Enrique</span><span title=\"0.7122645466193263\" style=\"background-color:rgba(255, 0, 0, 0.7122645466193263);text-decoration: underline\"> Pérez</span><span title=\"0.7109326946428922\" style=\"background-color:rgba(255, 0, 0, 0.7109326946428922);text-decoration: underline\"> de</span><span title=\"0.6985125254306683\" style=\"background-color:rgba(255, 0, 0, 0.6985125254306683);text-decoration: underline\"> Guzmán</span><span title=\"0.35528401537837534\" style=\"background-color:rgba(255, 0, 0, 0.35528401537837534);\"> ,</span><span title=\"0.44044008672437585\" style=\"background-color:rgba(255, 0, 0, 0.44044008672437585);\"> 2nd</span><span title=\"0.4630831125860829\" style=\"background-color:rgba(255, 0, 0, 0.4630831125860829);\"> Count</span><span title=\"0.39959094970913844\" style=\"background-color:rgba(255, 0, 0, 0.39959094970913844);\"> de</span><span title=\"0.4502996160442919\" style=\"background-color:rgba(255, 0, 0, 0.4502996160442919);\"> Niebla</span><span title=\"0.06701962798637157\" style=\"background-color:rgba(255, 0, 0, 0.06701962798637157);\"> .</span>"
            ],
            "text/plain": [
              "<IPython.core.display.HTML object>"
            ]
          },
          "metadata": {
            "tags": []
          }
        },
        {
          "output_type": "stream",
          "text": [
            "\n"
          ],
          "name": "stdout"
        },
        {
          "output_type": "display_data",
          "data": {
            "text/html": [
              "<span title=\"0.028705826519613842\" style=\"background-color:rgba(255, 0, 0, 0.028705826519613842);\"> For</span><span title=\"0.08804763025749898\" style=\"background-color:rgba(255, 0, 0, 0.08804763025749898);\"> small</span><span title=\"0.09262484597517573\" style=\"background-color:rgba(255, 0, 0, 0.09262484597517573);\"> n</span><span title=\"0.027642901276356775\" style=\"background-color:rgba(255, 0, 0, 0.027642901276356775);\"> ,</span><span title=\"0.05379471490643069\" style=\"background-color:rgba(255, 0, 0, 0.05379471490643069);\"> say</span><span title=\"0.6274393957773811\" style=\"background-color:rgba(255, 0, 0, 0.6274393957773811);\"> 100</span><span title=\"0.04808330369406456\" style=\"background-color:rgba(255, 0, 0, 0.04808330369406456);\"> ,</span><span title=\"0.04143768953325343\" style=\"background-color:rgba(255, 0, 0, 0.04143768953325343);\"> and</span><span title=\"0.05641240538528769\" style=\"background-color:rgba(255, 0, 0, 0.05641240538528769);\"> assuming</span><span title=\"0.05326412531230716\" style=\"background-color:rgba(255, 0, 0, 0.05326412531230716);\"> for</span><span title=\"0.07692442387575539\" style=\"background-color:rgba(255, 0, 0, 0.07692442387575539);\"> the</span><span title=\"0.09948558388226045\" style=\"background-color:rgba(255, 0, 0, 0.09948558388226045);\"> sake</span><span title=\"0.06175132715258394\" style=\"background-color:rgba(255, 0, 0, 0.06175132715258394);\"> of</span><span title=\"0.07679913754527552\" style=\"background-color:rgba(255, 0, 0, 0.07679913754527552);\"> example</span><span title=\"0.03731890723665987\" style=\"background-color:rgba(255, 0, 0, 0.03731890723665987);\"> that</span><span title=\"0.07471550815127567\" style=\"background-color:rgba(255, 0, 0, 0.07471550815127567);\"> the</span><span title=\"0.0975368510156204\" style=\"background-color:rgba(255, 0, 0, 0.0975368510156204);\"> computer</span><span title=\"0.059026497080905134\" style=\"background-color:rgba(255, 0, 0, 0.059026497080905134);\"> does</span><span title=\"0.557410258118366\" style=\"background-color:rgba(255, 0, 0, 0.557410258118366);\"> 1012</span><span title=\"0.22040118845433096\" style=\"background-color:rgba(255, 0, 0, 0.22040118845433096);\"> operations</span><span title=\"0.14707679434004872\" style=\"background-color:rgba(255, 0, 0, 0.14707679434004872);\"> each</span><span title=\"0.1510519150841508\" style=\"background-color:rgba(255, 0, 0, 0.1510519150841508);\"> second</span><span title=\"0.03923819297366948\" style=\"background-color:rgba(255, 0, 0, 0.03923819297366948);\"> ,</span><span title=\"0.05784753898867663\" style=\"background-color:rgba(255, 0, 0, 0.05784753898867663);\"> the</span><span title=\"0.07699355218135913\" style=\"background-color:rgba(255, 0, 0, 0.07699355218135913);\"> program</span><span title=\"0.028364499830201038\" style=\"background-color:rgba(255, 0, 0, 0.028364499830201038);\"> would</span><span title=\"0.03602060489473434\" style=\"background-color:rgba(255, 0, 0, 0.03602060489473434);\"> run</span><span title=\"0.04027450210989037\" style=\"background-color:rgba(255, 0, 0, 0.04027450210989037);\"> for</span><span title=\"0.19649918490089707\" style=\"background-color:rgba(255, 0, 0, 0.19649918490089707);\"> about</span><span title=\"0.3755758196889354\" style=\"background-color:rgba(255, 0, 0, 0.3755758196889354);\"> 4</span><span title=\"0.1902910258817174\" style=\"background-color:rgba(255, 0, 0, 0.1902910258817174);\"> ×</span><span title=\"0.4336003860845725\" style=\"background-color:rgba(255, 0, 0, 0.4336003860845725);\"> 1010</span><span title=\"0.25576840033136067\" style=\"background-color:rgba(255, 0, 0, 0.25576840033136067);\"> years</span><span title=\"0.06424101936144118\" style=\"background-color:rgba(255, 0, 0, 0.06424101936144118);\"> ,</span><span title=\"0.04412316536222002\" style=\"background-color:rgba(255, 0, 0, 0.04412316536222002);\"> which</span><span title=\"0.03704286025178368\" style=\"background-color:rgba(255, 0, 0, 0.03704286025178368);\"> is</span><span title=\"0.06448766998858838\" style=\"background-color:rgba(255, 0, 0, 0.06448766998858838);\"> the</span><span title=\"0.09178893691471801\" style=\"background-color:rgba(255, 0, 0, 0.09178893691471801);\"> same</span><span title=\"0.09546485794523106\" style=\"background-color:rgba(255, 0, 0, 0.09546485794523106);\"> order</span><span title=\"0.08014919317504571\" style=\"background-color:rgba(255, 0, 0, 0.08014919317504571);\"> of</span><span title=\"0.11321839679931567\" style=\"background-color:rgba(255, 0, 0, 0.11321839679931567);\"> magnitude</span><span title=\"0.06596690386021922\" style=\"background-color:rgba(255, 0, 0, 0.06596690386021922);\"> as</span><span title=\"0.09583139488434675\" style=\"background-color:rgba(255, 0, 0, 0.09583139488434675);\"> the</span><span title=\"0.12147864458543828\" style=\"background-color:rgba(255, 0, 0, 0.12147864458543828);\"> age</span><span title=\"0.09447662202362857\" style=\"background-color:rgba(255, 0, 0, 0.09447662202362857);\"> of</span><span title=\"0.12041079745390919\" style=\"background-color:rgba(255, 0, 0, 0.12041079745390919);\"> the</span><span title=\"0.14940587767319968\" style=\"background-color:rgba(255, 0, 0, 0.14940587767319968);\"> universe</span><span title=\"0.03064724743209998\" style=\"background-color:rgba(255, 0, 0, 0.03064724743209998);\"> .</span>"
            ],
            "text/plain": [
              "<IPython.core.display.HTML object>"
            ]
          },
          "metadata": {
            "tags": []
          }
        },
        {
          "output_type": "stream",
          "text": [
            "\n"
          ],
          "name": "stdout"
        },
        {
          "output_type": "display_data",
          "data": {
            "text/html": [
              "<span title=\"0.032010652624525265\" style=\"background-color:rgba(255, 0, 0, 0.032010652624525265);\"> To</span><span title=\"0.05164053892824595\" style=\"background-color:rgba(255, 0, 0, 0.05164053892824595);\"> the</span><span title=\"0.0797725213242162\" style=\"background-color:rgba(255, 0, 0, 0.0797725213242162);text-decoration: underline\"> south</span><span title=\"0.03378360062441865\" style=\"background-color:rgba(255, 0, 0, 0.03378360062441865);\"> and</span><span title=\"0.02605878565536721\" style=\"background-color:rgba(255, 0, 0, 0.02605878565536721);\"> with</span><span title=\"0.062484986361102154\" style=\"background-color:rgba(255, 0, 0, 0.062484986361102154);\"> a</span><span title=\"0.08727550648171425\" style=\"background-color:rgba(255, 0, 0, 0.08727550648171425);\"> population</span><span title=\"0.06180204182693235\" style=\"background-color:rgba(255, 0, 0, 0.06180204182693235);\"> of</span><span title=\"0.5498181594838291\" style=\"background-color:rgba(255, 0, 0, 0.5498181594838291);\"> 1,307,402</span><span title=\"0.025482549861641345\" style=\"background-color:rgba(255, 0, 0, 0.025482549861641345);\"> is</span><span title=\"0.5582114730333717\" style=\"background-color:rgba(255, 0, 0, 0.5582114730333717);text-decoration: underline\"> San</span><span title=\"0.5212562981497096\" style=\"background-color:rgba(255, 0, 0, 0.5212562981497096);text-decoration: underline\"> Diego</span><span title=\"0.10202413106646516\" style=\"background-color:rgba(255, 0, 0, 0.10202413106646516);\"> ,</span><span title=\"0.08698886719958741\" style=\"background-color:rgba(255, 0, 0, 0.08698886719958741);\"> the</span><span title=\"0.09749963193415034\" style=\"background-color:rgba(255, 0, 0, 0.09749963193415034);\"> second</span><span title=\"0.0771079666813242\" style=\"background-color:rgba(255, 0, 0, 0.0771079666813242);\"> most</span><span title=\"0.0925480155349983\" style=\"background-color:rgba(255, 0, 0, 0.0925480155349983);\"> populous</span><span title=\"0.09134524617839479\" style=\"background-color:rgba(255, 0, 0, 0.09134524617839479);\"> city</span><span title=\"0.05098961329214138\" style=\"background-color:rgba(255, 0, 0, 0.05098961329214138);\"> in</span><span title=\"0.07049373471774499\" style=\"background-color:rgba(255, 0, 0, 0.07049373471774499);\"> the</span><span title=\"0.09806225864999474\" style=\"background-color:rgba(255, 0, 0, 0.09806225864999474);\"> state</span><span title=\"0.05601519651513688\" style=\"background-color:rgba(255, 0, 0, 0.05601519651513688);\"> and</span><span title=\"0.061602781342694354\" style=\"background-color:rgba(255, 0, 0, 0.061602781342694354);\"> the</span><span title=\"0.09094985080537238\" style=\"background-color:rgba(255, 0, 0, 0.09094985080537238);\"> eighth</span><span title=\"0.07738640680943994\" style=\"background-color:rgba(255, 0, 0, 0.07738640680943994);\"> most</span><span title=\"0.08750661200358069\" style=\"background-color:rgba(255, 0, 0, 0.08750661200358069);\"> populous</span><span title=\"0.06870015089334618\" style=\"background-color:rgba(255, 0, 0, 0.06870015089334618);\"> in</span><span title=\"0.11013042072669207\" style=\"background-color:rgba(255, 0, 0, 0.11013042072669207);\"> the</span><span title=\"0.14767091766269597\" style=\"background-color:rgba(255, 0, 0, 0.14767091766269597);\"> nation</span><span title=\"0.025394464665412023\" style=\"background-color:rgba(255, 0, 0, 0.025394464665412023);\"> .</span>"
            ],
            "text/plain": [
              "<IPython.core.display.HTML object>"
            ]
          },
          "metadata": {
            "tags": []
          }
        },
        {
          "output_type": "stream",
          "text": [
            "\n"
          ],
          "name": "stdout"
        },
        {
          "output_type": "display_data",
          "data": {
            "text/html": [
              "<span title=\"0.050429043553855815\" style=\"background-color:rgba(255, 0, 0, 0.050429043553855815);\"> \"</span><span title=\"0.6841788646848042\" style=\"background-color:rgba(255, 0, 0, 0.6841788646848042);\"> Southern</span><span title=\"0.6561252722184745\" style=\"background-color:rgba(255, 0, 0, 0.6561252722184745);\"> California</span><span title=\"0.21065423334506045\" style=\"background-color:rgba(255, 0, 0, 0.21065423334506045);\"> \"</span><span title=\"0.08544789641880562\" style=\"background-color:rgba(255, 0, 0, 0.08544789641880562);\"> is</span><span title=\"0.11013845163155256\" style=\"background-color:rgba(255, 0, 0, 0.11013845163155256);\"> not</span><span title=\"0.15138485204863036\" style=\"background-color:rgba(255, 0, 0, 0.15138485204863036);\"> a</span><span title=\"0.27297738142523564\" style=\"background-color:rgba(255, 0, 0, 0.27297738142523564);\"> formal</span><span title=\"0.2808283276561622\" style=\"background-color:rgba(255, 0, 0, 0.2808283276561622);\"> geographic</span><span title=\"0.26778551581851356\" style=\"background-color:rgba(255, 0, 0, 0.26778551581851356);\"> designation</span><span title=\"0.06648353318865974\" style=\"background-color:rgba(255, 0, 0, 0.06648353318865974);\"> ,</span><span title=\"0.057986063484126674\" style=\"background-color:rgba(255, 0, 0, 0.057986063484126674);\"> and</span><span title=\"0.10980409184007808\" style=\"background-color:rgba(255, 0, 0, 0.10980409184007808);\"> definitions</span><span title=\"0.0735042650939203\" style=\"background-color:rgba(255, 0, 0, 0.0735042650939203);\"> of</span><span title=\"0.08571669048761897\" style=\"background-color:rgba(255, 0, 0, 0.08571669048761897);\"> what</span><span title=\"0.09071280710409697\" style=\"background-color:rgba(255, 0, 0, 0.09071280710409697);\"> constitutes</span><span title=\"0.17756642251724702\" style=\"background-color:rgba(255, 0, 0, 0.17756642251724702);\"> southern</span><span title=\"0.18095058674942005\" style=\"background-color:rgba(255, 0, 0, 0.18095058674942005);\"> California</span><span title=\"0.07542214113703977\" style=\"background-color:rgba(255, 0, 0, 0.07542214113703977);\"> vary</span><span title=\"0.045395933420152954\" style=\"background-color:rgba(255, 0, 0, 0.045395933420152954);\"> .</span>"
            ],
            "text/plain": [
              "<IPython.core.display.HTML object>"
            ]
          },
          "metadata": {
            "tags": []
          }
        },
        {
          "output_type": "stream",
          "text": [
            "\n"
          ],
          "name": "stdout"
        },
        {
          "output_type": "display_data",
          "data": {
            "text/html": [
              "<span title=\"0.024611887572219812\" style=\"background-color:rgba(255, 0, 0, 0.024611887572219812);\"> In</span><span title=\"0.05004694563558386\" style=\"background-color:rgba(255, 0, 0, 0.05004694563558386);\"> the</span><span title=\"0.09523731455728927\" style=\"background-color:rgba(255, 0, 0, 0.09523731455728927);\"> summers</span><span title=\"0.015090017395811547\" style=\"background-color:rgba(255, 0, 0, 0.015090017395811547);\"> ,</span><span title=\"0.13728663354187792\" style=\"background-color:rgba(255, 0, 0, 0.13728663354187792);\"> temperature</span><span title=\"0.12983337975890538\" style=\"background-color:rgba(255, 0, 0, 0.12983337975890538);\"> ranges</span><span title=\"0.030755632509488567\" style=\"background-color:rgba(255, 0, 0, 0.030755632509488567);\"> are</span><span title=\"0.725694829531852\" style=\"background-color:rgba(255, 0, 0, 0.725694829531852);\"> 90</span><span title=\"0.623580996759003\" style=\"background-color:rgba(255, 0, 0, 0.623580996759003);\"> -</span><span title=\"0.6101391665226858\" style=\"background-color:rgba(255, 0, 0, 0.6101391665226858);text-decoration: underline\"> 60</span><span title=\"0.21612555213723772\" style=\"background-color:rgba(255, 0, 0, 0.21612555213723772);text-decoration: underline\"> 's</span><span title=\"0.049874021491332715\" style=\"background-color:rgba(255, 0, 0, 0.049874021491332715);\"> while</span><span title=\"0.04142751938844177\" style=\"background-color:rgba(255, 0, 0, 0.04142751938844177);\"> as</span><span title=\"0.09201521153815728\" style=\"background-color:rgba(255, 0, 0, 0.09201521153815728);\"> winters</span><span title=\"0.0511395009340158\" style=\"background-color:rgba(255, 0, 0, 0.0511395009340158);\"> are</span><span title=\"0.6187075494567056\" style=\"background-color:rgba(255, 0, 0, 0.6187075494567056);text-decoration: underline\"> 70</span><span title=\"0.522448080864012\" style=\"background-color:rgba(255, 0, 0, 0.522448080864012);\"> -</span><span title=\"0.5204872582954221\" style=\"background-color:rgba(255, 0, 0, 0.5204872582954221);\"> 50</span><span title=\"0.22264464847795465\" style=\"background-color:rgba(255, 0, 0, 0.22264464847795465);\"> 's</span><span title=\"0.04214401387206645\" style=\"background-color:rgba(255, 0, 0, 0.04214401387206645);\"> ,</span><span title=\"0.04151847456291741\" style=\"background-color:rgba(255, 0, 0, 0.04151847456291741);\"> usually</span><span title=\"0.07005096877943515\" style=\"background-color:rgba(255, 0, 0, 0.07005096877943515);\"> all</span><span title=\"0.06987498110592016\" style=\"background-color:rgba(255, 0, 0, 0.06987498110592016);\"> of</span><span title=\"0.24507101353797217\" style=\"background-color:rgba(255, 0, 0, 0.24507101353797217);\"> Southern</span><span title=\"0.22427875935732683\" style=\"background-color:rgba(255, 0, 0, 0.22427875935732683);\"> California</span><span title=\"0.059329929943468834\" style=\"background-color:rgba(255, 0, 0, 0.059329929943468834);\"> have</span><span title=\"0.291205867961176\" style=\"background-color:rgba(255, 0, 0, 0.291205867961176);\"> Mediterranean</span><span title=\"0.25467913224157945\" style=\"background-color:rgba(255, 0, 0, 0.25467913224157945);\"> climate</span><span title=\"0.06053288787935397\" style=\"background-color:rgba(255, 0, 0, 0.06053288787935397);\"> .</span>"
            ],
            "text/plain": [
              "<IPython.core.display.HTML object>"
            ]
          },
          "metadata": {
            "tags": []
          }
        },
        {
          "output_type": "stream",
          "text": [
            "\n"
          ],
          "name": "stdout"
        },
        {
          "output_type": "display_data",
          "data": {
            "text/html": [
              "<span title=\"0.06349918066308226\" style=\"background-color:rgba(255, 0, 0, 0.06349918066308226);\"> The</span><span title=\"0.17920737843887552\" style=\"background-color:rgba(255, 0, 0, 0.17920737843887552);\"> United</span><span title=\"0.17613177121415852\" style=\"background-color:rgba(255, 0, 0, 0.17613177121415852);\"> Kingdom</span><span title=\"0.1130746532468023\" style=\"background-color:rgba(255, 0, 0, 0.1130746532468023);\"> operations</span><span title=\"0.029604055273583754\" style=\"background-color:rgba(255, 0, 0, 0.029604055273583754);\"> also</span><span title=\"0.022537267911267547\" style=\"background-color:rgba(255, 0, 0, 0.022537267911267547);\"> changed</span><span title=\"0.04700203377343992\" style=\"background-color:rgba(255, 0, 0, 0.04700203377343992);\"> the</span><span title=\"0.08522377282876394\" style=\"background-color:rgba(255, 0, 0, 0.08522377282876394);\"> company</span><span title=\"0.06334217281429674\" style=\"background-color:rgba(255, 0, 0, 0.06334217281429674);\"> name</span><span title=\"0.034805084860509344\" style=\"background-color:rgba(255, 0, 0, 0.034805084860509344);\"> from</span><span title=\"0.3441463486297993\" style=\"background-color:rgba(255, 0, 0, 0.3441463486297993);\"> British</span><span title=\"0.33191311365569665\" style=\"background-color:rgba(255, 0, 0, 0.33191311365569665);\"> Sky</span><span title=\"0.31485159996237844\" style=\"background-color:rgba(255, 0, 0, 0.31485159996237844);\"> Broadcasting</span><span title=\"0.25041306755519505\" style=\"background-color:rgba(255, 0, 0, 0.25041306755519505);\"> Limited</span><span title=\"0.08568637784292131\" style=\"background-color:rgba(255, 0, 0, 0.08568637784292131);\"> to</span><span title=\"0.7206048504010916\" style=\"background-color:rgba(255, 0, 0, 0.7206048504010916);text-decoration: underline\"> Sky</span><span title=\"0.7097105098344663\" style=\"background-color:rgba(255, 0, 0, 0.7097105098344663);text-decoration: underline\"> UK</span><span title=\"0.6802809322225768\" style=\"background-color:rgba(255, 0, 0, 0.6802809322225768);text-decoration: underline\"> Limited</span><span title=\"0.1763563173810636\" style=\"background-color:rgba(255, 0, 0, 0.1763563173810636);\"> ,</span><span title=\"0.151933201145045\" style=\"background-color:rgba(255, 0, 0, 0.151933201145045);\"> still</span><span title=\"0.14345428351405892\" style=\"background-color:rgba(255, 0, 0, 0.14345428351405892);\"> trading</span><span title=\"0.14057608565649204\" style=\"background-color:rgba(255, 0, 0, 0.14057608565649204);\"> as</span><span title=\"0.3132375300979525\" style=\"background-color:rgba(255, 0, 0, 0.3132375300979525);\"> Sky</span><span title=\"0.03197322701965384\" style=\"background-color:rgba(255, 0, 0, 0.03197322701965384);\"> .</span>"
            ],
            "text/plain": [
              "<IPython.core.display.HTML object>"
            ]
          },
          "metadata": {
            "tags": []
          }
        },
        {
          "output_type": "stream",
          "text": [
            "\n"
          ],
          "name": "stdout"
        },
        {
          "output_type": "display_data",
          "data": {
            "text/html": [
              "<span title=\"0.04435351746753361\" style=\"background-color:rgba(255, 0, 0, 0.04435351746753361);\"> It</span><span title=\"0.01478532014943173\" style=\"background-color:rgba(255, 0, 0, 0.01478532014943173);\"> is</span><span title=\"0.04867485380737858\" style=\"background-color:rgba(255, 0, 0, 0.04867485380737858);\"> the</span><span title=\"0.11956202747135458\" style=\"background-color:rgba(255, 0, 0, 0.11956202747135458);\"> UK</span><span title=\"0.06790723468933745\" style=\"background-color:rgba(255, 0, 0, 0.06790723468933745);\"> 's</span><span title=\"0.08027930133894941\" style=\"background-color:rgba(255, 0, 0, 0.08027930133894941);\"> largest</span><span title=\"0.10427971154272866\" style=\"background-color:rgba(255, 0, 0, 0.10427971154272866);\"> pay</span><span title=\"0.09287581162100794\" style=\"background-color:rgba(255, 0, 0, 0.09287581162100794);\"> -</span><span title=\"0.12125120127673106\" style=\"background-color:rgba(255, 0, 0, 0.12125120127673106);\"> TV</span><span title=\"0.1074862474056508\" style=\"background-color:rgba(255, 0, 0, 0.1074862474056508);\"> broadcaster</span><span title=\"0.06472061290722624\" style=\"background-color:rgba(255, 0, 0, 0.06472061290722624);\"> with</span><span title=\"0.6987093828489118\" style=\"background-color:rgba(255, 0, 0, 0.6987093828489118);text-decoration: underline\"> 11</span><span title=\"0.6097524850709461\" style=\"background-color:rgba(255, 0, 0, 0.6097524850709461);text-decoration: underline\"> million</span><span title=\"0.2579778483943554\" style=\"background-color:rgba(255, 0, 0, 0.2579778483943554);text-decoration: underline\"> customers</span><span title=\"0.15650165483721723\" style=\"background-color:rgba(255, 0, 0, 0.15650165483721723);\"> as</span><span title=\"0.1651613514475384\" style=\"background-color:rgba(255, 0, 0, 0.1651613514475384);\"> of</span><span title=\"0.43483710228187783\" style=\"background-color:rgba(255, 0, 0, 0.43483710228187783);\"> 2015</span><span title=\"0.02763238310012724\" style=\"background-color:rgba(255, 0, 0, 0.02763238310012724);\"> .</span>"
            ],
            "text/plain": [
              "<IPython.core.display.HTML object>"
            ]
          },
          "metadata": {
            "tags": []
          }
        },
        {
          "output_type": "stream",
          "text": [
            "\n"
          ],
          "name": "stdout"
        },
        {
          "output_type": "display_data",
          "data": {
            "text/html": [
              "<span title=\"0.03652730465916864\" style=\"background-color:rgba(255, 0, 0, 0.03652730465916864);\"> When</span><span title=\"0.2579853081443232\" style=\"background-color:rgba(255, 0, 0, 0.2579853081443232);text-decoration: underline\"> Sky</span><span title=\"0.24055530592291613\" style=\"background-color:rgba(255, 0, 0, 0.24055530592291613);text-decoration: underline\"> Digital</span><span title=\"0.04349369371295627\" style=\"background-color:rgba(255, 0, 0, 0.04349369371295627);\"> was</span><span title=\"0.04288337194335433\" style=\"background-color:rgba(255, 0, 0, 0.04288337194335433);\"> launched</span><span title=\"0.03238136439736414\" style=\"background-color:rgba(255, 0, 0, 0.03238136439736414);\"> in</span><span title=\"0.3727944611649969\" style=\"background-color:rgba(255, 0, 0, 0.3727944611649969);text-decoration: underline\"> 1998</span><span title=\"0.05398538429803581\" style=\"background-color:rgba(255, 0, 0, 0.05398538429803581);\"> the</span><span title=\"0.09261060324669604\" style=\"background-color:rgba(255, 0, 0, 0.09261060324669604);\"> new</span><span title=\"0.07442175289122212\" style=\"background-color:rgba(255, 0, 0, 0.07442175289122212);\"> service</span><span title=\"0.028243747568104008\" style=\"background-color:rgba(255, 0, 0, 0.028243747568104008);\"> used</span><span title=\"0.09286432253969072\" style=\"background-color:rgba(255, 0, 0, 0.09286432253969072);text-decoration: underline\"> the</span><span title=\"0.3368713383875126\" style=\"background-color:rgba(255, 0, 0, 0.3368713383875126);text-decoration: underline\"> Astra</span><span title=\"0.3007312164228567\" style=\"background-color:rgba(255, 0, 0, 0.3007312164228567);text-decoration: underline\"> 2A</span><span title=\"0.22241645919373873\" style=\"background-color:rgba(255, 0, 0, 0.22241645919373873);\"> satellite</span><span title=\"0.06921269748489564\" style=\"background-color:rgba(255, 0, 0, 0.06921269748489564);\"> which</span><span title=\"0.05385700962902913\" style=\"background-color:rgba(255, 0, 0, 0.05385700962902913);\"> was</span><span title=\"0.06918693446296578\" style=\"background-color:rgba(255, 0, 0, 0.06918693446296578);\"> located</span><span title=\"0.07753885021716991\" style=\"background-color:rgba(255, 0, 0, 0.07753885021716991);\"> at</span><span title=\"0.14469379717720893\" style=\"background-color:rgba(255, 0, 0, 0.14469379717720893);\"> the</span><span title=\"0.503559076514979\" style=\"background-color:rgba(255, 0, 0, 0.503559076514979);\"> 28.5</span><span title=\"0.4516930404418141\" style=\"background-color:rgba(255, 0, 0, 0.4516930404418141);\"> °</span><span title=\"0.4144115255853476\" style=\"background-color:rgba(255, 0, 0, 0.4144115255853476);\"> E</span><span title=\"0.4021401329127333\" style=\"background-color:rgba(255, 0, 0, 0.4021401329127333);\"> orbital</span><span title=\"0.3846494217671523\" style=\"background-color:rgba(255, 0, 0, 0.3846494217671523);\"> position</span><span title=\"0.11828615935403158\" style=\"background-color:rgba(255, 0, 0, 0.11828615935403158);\"> ,</span><span title=\"0.1029692224030295\" style=\"background-color:rgba(255, 0, 0, 0.1029692224030295);\"> unlike</span><span title=\"0.15656484631267603\" style=\"background-color:rgba(255, 0, 0, 0.15656484631267603);\"> the</span><span title=\"0.18207929744827064\" style=\"background-color:rgba(255, 0, 0, 0.18207929744827064);\"> analogue</span><span title=\"0.1686648003531458\" style=\"background-color:rgba(255, 0, 0, 0.1686648003531458);\"> service</span><span title=\"0.08717524934894523\" style=\"background-color:rgba(255, 0, 0, 0.08717524934894523);\"> which</span><span title=\"0.07555373420841946\" style=\"background-color:rgba(255, 0, 0, 0.07555373420841946);\"> was</span><span title=\"0.09258299239107184\" style=\"background-color:rgba(255, 0, 0, 0.09258299239107184);\"> broadcast</span><span title=\"0.10911262702947633\" style=\"background-color:rgba(255, 0, 0, 0.10911262702947633);\"> from</span><span title=\"0.7593040271866257\" style=\"background-color:rgba(255, 0, 0, 0.7593040271866257);\"> 19.2</span><span title=\"0.7041433582296845\" style=\"background-color:rgba(255, 0, 0, 0.7041433582296845);\"> °</span><span title=\"0.6979806925047349\" style=\"background-color:rgba(255, 0, 0, 0.6979806925047349);\"> E.</span>"
            ],
            "text/plain": [
              "<IPython.core.display.HTML object>"
            ]
          },
          "metadata": {
            "tags": []
          }
        },
        {
          "output_type": "stream",
          "text": [
            "\n"
          ],
          "name": "stdout"
        },
        {
          "output_type": "display_data",
          "data": {
            "text/html": [
              "<span title=\"0.10069209061877817\" style=\"background-color:rgba(255, 0, 0, 0.10069209061877817);\"> BSkyB</span><span title=\"0.021834111125446646\" style=\"background-color:rgba(255, 0, 0, 0.021834111125446646);\"> launched</span><span title=\"0.06430714552344907\" style=\"background-color:rgba(255, 0, 0, 0.06430714552344907);\"> its</span><span title=\"0.17090733425762514\" style=\"background-color:rgba(255, 0, 0, 0.17090733425762514);\"> HDTV</span><span title=\"0.16899945188751936\" style=\"background-color:rgba(255, 0, 0, 0.16899945188751936);\"> service</span><span title=\"0.09577795902902739\" style=\"background-color:rgba(255, 0, 0, 0.09577795902902739);\"> ,</span><span title=\"0.2041124363440065\" style=\"background-color:rgba(255, 0, 0, 0.2041124363440065);\"> Sky+</span><span title=\"0.20400558843372305\" style=\"background-color:rgba(255, 0, 0, 0.20400558843372305);\"> HD</span><span title=\"0.08121266489309399\" style=\"background-color:rgba(255, 0, 0, 0.08121266489309399);\"> ,</span><span title=\"0.06220261379498279\" style=\"background-color:rgba(255, 0, 0, 0.06220261379498279);text-decoration: underline\"> on</span><span title=\"0.6428770587740539\" style=\"background-color:rgba(255, 0, 0, 0.6428770587740539);text-decoration: underline\"> 22</span><span title=\"0.5925866842277725\" style=\"background-color:rgba(255, 0, 0, 0.5925866842277725);text-decoration: underline\"> May</span><span title=\"0.584376796348932\" style=\"background-color:rgba(255, 0, 0, 0.584376796348932);text-decoration: underline\"> 2006</span><span title=\"0.05214475730135605\" style=\"background-color:rgba(255, 0, 0, 0.05214475730135605);\"> .</span>"
            ],
            "text/plain": [
              "<IPython.core.display.HTML object>"
            ]
          },
          "metadata": {
            "tags": []
          }
        },
        {
          "output_type": "stream",
          "text": [
            "\n"
          ],
          "name": "stdout"
        },
        {
          "output_type": "display_data",
          "data": {
            "text/html": [
              "<span title=\"0.04275524366878156\" style=\"background-color:rgba(255, 0, 0, 0.04275524366878156);\"> Prior</span><span title=\"0.03527622786369028\" style=\"background-color:rgba(255, 0, 0, 0.03527622786369028);\"> to</span><span title=\"0.052811680258784896\" style=\"background-color:rgba(255, 0, 0, 0.052811680258784896);\"> its</span><span title=\"0.07703945259812309\" style=\"background-color:rgba(255, 0, 0, 0.07703945259812309);\"> launch</span><span title=\"0.010409985060740489\" style=\"background-color:rgba(255, 0, 0, 0.010409985060740489);\"> ,</span><span title=\"0.10190235730356768\" style=\"background-color:rgba(255, 0, 0, 0.10190235730356768);\"> BSkyB</span><span title=\"0.015201079100081965\" style=\"background-color:rgba(255, 0, 0, 0.015201079100081965);\"> claimed</span><span title=\"0.03513845773457165\" style=\"background-color:rgba(255, 0, 0, 0.03513845773457165);\"> that</span><span title=\"0.6446220492125956\" style=\"background-color:rgba(255, 0, 0, 0.6446220492125956);text-decoration: underline\"> 40,000</span><span title=\"0.2509556946591754\" style=\"background-color:rgba(255, 0, 0, 0.2509556946591754);\"> people</span><span title=\"0.16254167867202157\" style=\"background-color:rgba(255, 0, 0, 0.16254167867202157);\"> had</span><span title=\"0.16044092385312525\" style=\"background-color:rgba(255, 0, 0, 0.16044092385312525);\"> registered</span><span title=\"0.1701971559021723\" style=\"background-color:rgba(255, 0, 0, 0.1701971559021723);\"> to</span><span title=\"0.19853828395056947\" style=\"background-color:rgba(255, 0, 0, 0.19853828395056947);\"> receive</span><span title=\"0.2319689555486979\" style=\"background-color:rgba(255, 0, 0, 0.2319689555486979);\"> the</span><span title=\"0.3115247198337535\" style=\"background-color:rgba(255, 0, 0, 0.3115247198337535);\"> HD</span><span title=\"0.2955649302332466\" style=\"background-color:rgba(255, 0, 0, 0.2955649302332466);\"> service</span><span title=\"0.06228357628424092\" style=\"background-color:rgba(255, 0, 0, 0.06228357628424092);\"> .</span>"
            ],
            "text/plain": [
              "<IPython.core.display.HTML object>"
            ]
          },
          "metadata": {
            "tags": []
          }
        },
        {
          "output_type": "stream",
          "text": [
            "\n"
          ],
          "name": "stdout"
        },
        {
          "output_type": "display_data",
          "data": {
            "text/html": [
              "<span title=\"0.04921053981855671\" style=\"background-color:rgba(255, 0, 0, 0.04921053981855671);\"> Finally</span><span title=\"0.01168101464449006\" style=\"background-color:rgba(255, 0, 0, 0.01168101464449006);\"> ,</span><span title=\"0.045970829216515866\" style=\"background-color:rgba(255, 0, 0, 0.045970829216515866);\"> the</span><span title=\"0.11662555198294453\" style=\"background-color:rgba(255, 0, 0, 0.11662555198294453);text-decoration: underline\"> BBC</span><span title=\"0.013375606251430344\" style=\"background-color:rgba(255, 0, 0, 0.013375606251430344);\"> reported</span><span title=\"0.028992303954429713\" style=\"background-color:rgba(255, 0, 0, 0.028992303954429713);\"> that</span><span title=\"0.6852711418500655\" style=\"background-color:rgba(255, 0, 0, 0.6852711418500655);text-decoration: underline\"> 17,000</span><span title=\"0.18759551322231022\" style=\"background-color:rgba(255, 0, 0, 0.18759551322231022);\"> customers</span><span title=\"0.10859264024062219\" style=\"background-color:rgba(255, 0, 0, 0.10859264024062219);\"> had</span><span title=\"0.10492531622905978\" style=\"background-color:rgba(255, 0, 0, 0.10492531622905978);\"> yet</span><span title=\"0.0981408703382436\" style=\"background-color:rgba(255, 0, 0, 0.0981408703382436);\"> to</span><span title=\"0.11047794803074742\" style=\"background-color:rgba(255, 0, 0, 0.11047794803074742);\"> receive</span><span title=\"0.1315181673748257\" style=\"background-color:rgba(255, 0, 0, 0.1315181673748257);\"> the</span><span title=\"0.14870275758281548\" style=\"background-color:rgba(255, 0, 0, 0.14870275758281548);\"> service</span><span title=\"0.10403279888961617\" style=\"background-color:rgba(255, 0, 0, 0.10403279888961617);\"> due</span><span title=\"0.11071119516780387\" style=\"background-color:rgba(255, 0, 0, 0.11071119516780387);\"> to</span><span title=\"0.1485769517294698\" style=\"background-color:rgba(255, 0, 0, 0.1485769517294698);\"> failed</span><span title=\"0.19231003786843415\" style=\"background-color:rgba(255, 0, 0, 0.19231003786843415);\"> deliveries</span><span title=\"0.03537502449006885\" style=\"background-color:rgba(255, 0, 0, 0.03537502449006885);\"> .</span>"
            ],
            "text/plain": [
              "<IPython.core.display.HTML object>"
            ]
          },
          "metadata": {
            "tags": []
          }
        },
        {
          "output_type": "stream",
          "text": [
            "\n"
          ],
          "name": "stdout"
        },
        {
          "output_type": "display_data",
          "data": {
            "text/html": [
              "<span title=\"0.10222786536855247\" style=\"background-color:rgba(255, 0, 0, 0.10222786536855247);text-decoration: underline\"> BSkyB</span><span title=\"0.05891263552726107\" style=\"background-color:rgba(255, 0, 0, 0.05891263552726107);\"> 's</span><span title=\"0.08107790071660494\" style=\"background-color:rgba(255, 0, 0, 0.08107790071660494);\"> direct</span><span title=\"0.06510614166660618\" style=\"background-color:rgba(255, 0, 0, 0.06510614166660618);\"> -</span><span title=\"0.06089917876530613\" style=\"background-color:rgba(255, 0, 0, 0.06089917876530613);\"> to</span><span title=\"0.07459552908814257\" style=\"background-color:rgba(255, 0, 0, 0.07459552908814257);\"> -</span><span title=\"0.0853066435943747\" style=\"background-color:rgba(255, 0, 0, 0.0853066435943747);\"> home</span><span title=\"0.09315545648207779\" style=\"background-color:rgba(255, 0, 0, 0.09315545648207779);\"> satellite</span><span title=\"0.08836871370570516\" style=\"background-color:rgba(255, 0, 0, 0.08836871370570516);\"> service</span><span title=\"0.017436489245391033\" style=\"background-color:rgba(255, 0, 0, 0.017436489245391033);\"> became</span><span title=\"0.047091603724931784\" style=\"background-color:rgba(255, 0, 0, 0.047091603724931784);\"> available</span><span title=\"0.02290304337253459\" style=\"background-color:rgba(255, 0, 0, 0.02290304337253459);\"> in</span><span title=\"0.7174820322540483\" style=\"background-color:rgba(255, 0, 0, 0.7174820322540483);text-decoration: underline\"> 10</span><span title=\"0.6189247627314638\" style=\"background-color:rgba(255, 0, 0, 0.6189247627314638);text-decoration: underline\"> million</span><span title=\"0.26552097084837206\" style=\"background-color:rgba(255, 0, 0, 0.26552097084837206);\"> homes</span><span title=\"0.07249438474565116\" style=\"background-color:rgba(255, 0, 0, 0.07249438474565116);\"> in</span><span title=\"0.3905896114700668\" style=\"background-color:rgba(255, 0, 0, 0.3905896114700668);\"> 2010</span><span title=\"0.0165830190661318\" style=\"background-color:rgba(255, 0, 0, 0.0165830190661318);\"> ,</span><span title=\"0.11829852218176416\" style=\"background-color:rgba(255, 0, 0, 0.11829852218176416);\"> Europe</span><span title=\"0.08059483385460052\" style=\"background-color:rgba(255, 0, 0, 0.08059483385460052);\"> 's</span><span title=\"0.11645935895991538\" style=\"background-color:rgba(255, 0, 0, 0.11645935895991538);\"> first</span><span title=\"0.15438520498693556\" style=\"background-color:rgba(255, 0, 0, 0.15438520498693556);\"> pay</span><span title=\"0.14919546151989976\" style=\"background-color:rgba(255, 0, 0, 0.14919546151989976);\"> -</span><span title=\"0.19241467935057857\" style=\"background-color:rgba(255, 0, 0, 0.19241467935057857);\"> TV</span><span title=\"0.18676972342843817\" style=\"background-color:rgba(255, 0, 0, 0.18676972342843817);\"> platform</span><span title=\"0.11588457107660247\" style=\"background-color:rgba(255, 0, 0, 0.11588457107660247);\"> in</span><span title=\"0.1267325330237604\" style=\"background-color:rgba(255, 0, 0, 0.1267325330237604);\"> to</span><span title=\"0.14795910118567462\" style=\"background-color:rgba(255, 0, 0, 0.14795910118567462);\"> achieve</span><span title=\"0.17717238751790643\" style=\"background-color:rgba(255, 0, 0, 0.17717238751790643);\"> that</span><span title=\"0.20334763061446592\" style=\"background-color:rgba(255, 0, 0, 0.20334763061446592);\"> milestone</span><span title=\"0.03699896873053096\" style=\"background-color:rgba(255, 0, 0, 0.03699896873053096);\"> .</span>"
            ],
            "text/plain": [
              "<IPython.core.display.HTML object>"
            ]
          },
          "metadata": {
            "tags": []
          }
        },
        {
          "output_type": "stream",
          "text": [
            "\n"
          ],
          "name": "stdout"
        },
        {
          "output_type": "display_data",
          "data": {
            "text/html": [
              "<span title=\"0.03756616830454361\" style=\"background-color:rgba(255, 0, 0, 0.03756616830454361);\"> Prior</span><span title=\"0.02933434273080284\" style=\"background-color:rgba(255, 0, 0, 0.02933434273080284);\"> to</span><span title=\"0.06771415539258814\" style=\"background-color:rgba(255, 0, 0, 0.06771415539258814);\"> the</span><span title=\"0.2934694144305161\" style=\"background-color:rgba(255, 0, 0, 0.2934694144305161);\"> 2006</span><span title=\"0.16988049713850448\" style=\"background-color:rgba(255, 0, 0, 0.16988049713850448);\"> election</span><span title=\"0.02505792796198692\" style=\"background-color:rgba(255, 0, 0, 0.02505792796198692);\"> ,</span><span title=\"0.11998332407207711\" style=\"background-color:rgba(255, 0, 0, 0.11998332407207711);\"> the</span><span title=\"0.3023675789715551\" style=\"background-color:rgba(255, 0, 0, 0.3023675789715551);\"> Legislative</span><span title=\"0.2625709631354164\" style=\"background-color:rgba(255, 0, 0, 0.2625709631354164);\"> Council</span><span title=\"0.02947122208340883\" style=\"background-color:rgba(255, 0, 0, 0.02947122208340883);\"> consisted</span><span title=\"0.03146640603020838\" style=\"background-color:rgba(255, 0, 0, 0.03146640603020838);\"> of</span><span title=\"0.623295914360364\" style=\"background-color:rgba(255, 0, 0, 0.623295914360364);\"> 44</span><span title=\"0.22426057061100862\" style=\"background-color:rgba(255, 0, 0, 0.22426057061100862);\"> members</span><span title=\"0.12322470129179038\" style=\"background-color:rgba(255, 0, 0, 0.12322470129179038);\"> elected</span><span title=\"0.10891861569761752\" style=\"background-color:rgba(255, 0, 0, 0.10891861569761752);\"> to</span><span title=\"0.33121979843254834\" style=\"background-color:rgba(255, 0, 0, 0.33121979843254834);\"> eight</span><span title=\"0.21123376196046628\" style=\"background-color:rgba(255, 0, 0, 0.21123376196046628);\"> -</span><span title=\"0.20448065113643085\" style=\"background-color:rgba(255, 0, 0, 0.20448065113643085);\"> year</span><span title=\"0.14140452445289267\" style=\"background-color:rgba(255, 0, 0, 0.14140452445289267);\"> terms</span><span title=\"0.07108705494730422\" style=\"background-color:rgba(255, 0, 0, 0.07108705494730422);\"> from</span><span title=\"0.38724034825450115\" style=\"background-color:rgba(255, 0, 0, 0.38724034825450115);\"> 22</span><span title=\"0.2732966015026675\" style=\"background-color:rgba(255, 0, 0, 0.2732966015026675);\"> two</span><span title=\"0.1909715964037551\" style=\"background-color:rgba(255, 0, 0, 0.1909715964037551);\"> -</span><span title=\"0.22380008348226477\" style=\"background-color:rgba(255, 0, 0, 0.22380008348226477);\"> member</span><span title=\"0.22935871435039074\" style=\"background-color:rgba(255, 0, 0, 0.22935871435039074);\"> electorates</span><span title=\"0.03902770569319142\" style=\"background-color:rgba(255, 0, 0, 0.03902770569319142);\"> .</span>"
            ],
            "text/plain": [
              "<IPython.core.display.HTML object>"
            ]
          },
          "metadata": {
            "tags": []
          }
        },
        {
          "output_type": "stream",
          "text": [
            "\n"
          ],
          "name": "stdout"
        },
        {
          "output_type": "display_data",
          "data": {
            "text/html": [
              "<span title=\"0.045482486564704556\" style=\"background-color:rgba(255, 0, 0, 0.045482486564704556);\"> The</span><span title=\"0.0628320078633163\" style=\"background-color:rgba(255, 0, 0, 0.0628320078633163);\"> first</span><span title=\"0.05874048197510035\" style=\"background-color:rgba(255, 0, 0, 0.05874048197510035);\"> settlement</span><span title=\"0.028581273410164136\" style=\"background-color:rgba(255, 0, 0, 0.028581273410164136);\"> in</span><span title=\"0.04264397194835736\" style=\"background-color:rgba(255, 0, 0, 0.04264397194835736);\"> the</span><span title=\"0.05941219075682383\" style=\"background-color:rgba(255, 0, 0, 0.05941219075682383);\"> area</span><span title=\"0.012771883653930978\" style=\"background-color:rgba(255, 0, 0, 0.012771883653930978);\"> occurred</span><span title=\"0.017411905151775414\" style=\"background-color:rgba(255, 0, 0, 0.017411905151775414);\"> in</span><span title=\"0.39142435046435564\" style=\"background-color:rgba(255, 0, 0, 0.39142435046435564);text-decoration: underline\"> 1803</span><span title=\"0.05453098410042019\" style=\"background-color:rgba(255, 0, 0, 0.05453098410042019);\"> at</span><span title=\"0.44595935081215554\" style=\"background-color:rgba(255, 0, 0, 0.44595935081215554);text-decoration: underline\"> Sullivan</span><span title=\"0.4304726958628781\" style=\"background-color:rgba(255, 0, 0, 0.4304726958628781);text-decoration: underline\"> Bay</span><span title=\"0.045186963349911076\" style=\"background-color:rgba(255, 0, 0, 0.045186963349911076);\"> ,</span><span title=\"0.030466187684261202\" style=\"background-color:rgba(255, 0, 0, 0.030466187684261202);\"> and</span><span title=\"0.04703618056636821\" style=\"background-color:rgba(255, 0, 0, 0.04703618056636821);\"> much</span><span title=\"0.03850770511948101\" style=\"background-color:rgba(255, 0, 0, 0.03850770511948101);\"> of</span><span title=\"0.044760948463900066\" style=\"background-color:rgba(255, 0, 0, 0.044760948463900066);\"> what</span><span title=\"0.033206007977018795\" style=\"background-color:rgba(255, 0, 0, 0.033206007977018795);\"> is</span><span title=\"0.04119488034912505\" style=\"background-color:rgba(255, 0, 0, 0.04119488034912505);\"> now</span><span title=\"0.11749891528310732\" style=\"background-color:rgba(255, 0, 0, 0.11749891528310732);\"> Victoria</span><span title=\"0.026543451566607715\" style=\"background-color:rgba(255, 0, 0, 0.026543451566607715);\"> was</span><span title=\"0.03660755998642365\" style=\"background-color:rgba(255, 0, 0, 0.03660755998642365);\"> included</span><span title=\"0.03924995228215666\" style=\"background-color:rgba(255, 0, 0, 0.03924995228215666);\"> in</span><span title=\"0.1396203655511738\" style=\"background-color:rgba(255, 0, 0, 0.1396203655511738);\"> the</span><span title=\"0.2798431450611042\" style=\"background-color:rgba(255, 0, 0, 0.2798431450611042);\"> Port</span><span title=\"0.27433116180948874\" style=\"background-color:rgba(255, 0, 0, 0.27433116180948874);\"> Phillip</span><span title=\"0.25546162352105956\" style=\"background-color:rgba(255, 0, 0, 0.25546162352105956);\"> District</span><span title=\"0.036490926549346055\" style=\"background-color:rgba(255, 0, 0, 0.036490926549346055);\"> in</span><span title=\"0.6243086626319642\" style=\"background-color:rgba(255, 0, 0, 0.6243086626319642);\"> 1836</span><span title=\"0.11932187505142568\" style=\"background-color:rgba(255, 0, 0, 0.11932187505142568);\"> ,</span><span title=\"0.13305913581412637\" style=\"background-color:rgba(255, 0, 0, 0.13305913581412637);\"> an</span><span title=\"0.19729294707180942\" style=\"background-color:rgba(255, 0, 0, 0.19729294707180942);\"> administrative</span><span title=\"0.20569186641970688\" style=\"background-color:rgba(255, 0, 0, 0.20569186641970688);\"> division</span><span title=\"0.17419927167363355\" style=\"background-color:rgba(255, 0, 0, 0.17419927167363355);\"> of</span><span title=\"0.4154427812711099\" style=\"background-color:rgba(255, 0, 0, 0.4154427812711099);text-decoration: underline\"> New</span><span title=\"0.43548948167085955\" style=\"background-color:rgba(255, 0, 0, 0.43548948167085955);text-decoration: underline\"> South</span><span title=\"0.4250286256193376\" style=\"background-color:rgba(255, 0, 0, 0.4250286256193376);text-decoration: underline\"> Wales</span><span title=\"0.046849454665236274\" style=\"background-color:rgba(255, 0, 0, 0.046849454665236274);\"> .</span>"
            ],
            "text/plain": [
              "<IPython.core.display.HTML object>"
            ]
          },
          "metadata": {
            "tags": []
          }
        },
        {
          "output_type": "stream",
          "text": [
            "\n"
          ],
          "name": "stdout"
        },
        {
          "output_type": "display_data",
          "data": {
            "text/html": [
              "<span title=\"0.1363076169755777\" style=\"background-color:rgba(255, 0, 0, 0.1363076169755777);\"> Victoria</span><span title=\"0.018202125988590525\" style=\"background-color:rgba(255, 0, 0, 0.018202125988590525);\"> was</span><span title=\"0.03319672454579767\" style=\"background-color:rgba(255, 0, 0, 0.03319672454579767);\"> officially</span><span title=\"0.047340551801567515\" style=\"background-color:rgba(255, 0, 0, 0.047340551801567515);\"> created</span><span title=\"0.1036461205989884\" style=\"background-color:rgba(255, 0, 0, 0.1036461205989884);\"> a</span><span title=\"0.16795310761996313\" style=\"background-color:rgba(255, 0, 0, 0.16795310761996313);\"> separate</span><span title=\"0.158508818549766\" style=\"background-color:rgba(255, 0, 0, 0.158508818549766);\"> colony</span><span title=\"0.07305624883296649\" style=\"background-color:rgba(255, 0, 0, 0.07305624883296649);\"> in</span><span title=\"0.5692588049000994\" style=\"background-color:rgba(255, 0, 0, 0.5692588049000994);\"> 1851</span><span title=\"0.048632969300862576\" style=\"background-color:rgba(255, 0, 0, 0.048632969300862576);\"> ,</span><span title=\"0.04354138344048591\" style=\"background-color:rgba(255, 0, 0, 0.04354138344048591);\"> and</span><span title=\"0.062365312330334446\" style=\"background-color:rgba(255, 0, 0, 0.062365312330334446);\"> achieved</span><span title=\"0.18617137258304234\" style=\"background-color:rgba(255, 0, 0, 0.18617137258304234);\"> self</span><span title=\"0.1704060113610058\" style=\"background-color:rgba(255, 0, 0, 0.1704060113610058);\"> -</span><span title=\"0.16428159901976097\" style=\"background-color:rgba(255, 0, 0, 0.16428159901976097);\"> government</span><span title=\"0.07166247162704892\" style=\"background-color:rgba(255, 0, 0, 0.07166247162704892);\"> in</span><span title=\"0.5211179466393296\" style=\"background-color:rgba(255, 0, 0, 0.5211179466393296);\"> 1855</span><span title=\"0.028813327740329433\" style=\"background-color:rgba(255, 0, 0, 0.028813327740329433);\"> .</span>"
            ],
            "text/plain": [
              "<IPython.core.display.HTML object>"
            ]
          },
          "metadata": {
            "tags": []
          }
        },
        {
          "output_type": "stream",
          "text": [
            "\n"
          ],
          "name": "stdout"
        },
        {
          "output_type": "display_data",
          "data": {
            "text/html": [
              "<span title=\"0.023117884923753048\" style=\"background-color:rgba(255, 0, 0, 0.023117884923753048);\"> In</span><span title=\"0.1579069694242364\" style=\"background-color:rgba(255, 0, 0, 0.1579069694242364);\"> ten</span><span title=\"0.12078169460152835\" style=\"background-color:rgba(255, 0, 0, 0.12078169460152835);\"> years</span><span title=\"0.04959715579886452\" style=\"background-color:rgba(255, 0, 0, 0.04959715579886452);\"> the</span><span title=\"0.08800650314389395\" style=\"background-color:rgba(255, 0, 0, 0.08800650314389395);\"> population</span><span title=\"0.06354180760058228\" style=\"background-color:rgba(255, 0, 0, 0.06354180760058228);\"> of</span><span title=\"0.16668326149046822\" style=\"background-color:rgba(255, 0, 0, 0.16668326149046822);\"> Victoria</span><span title=\"0.018162058696854548\" style=\"background-color:rgba(255, 0, 0, 0.018162058696854548);\"> increased</span><span title=\"0.039855710597868306\" style=\"background-color:rgba(255, 0, 0, 0.039855710597868306);text-decoration: underline\"> sevenfold</span><span title=\"0.054925974682913756\" style=\"background-color:rgba(255, 0, 0, 0.054925974682913756);\"> from</span><span title=\"0.4453777380018657\" style=\"background-color:rgba(255, 0, 0, 0.4453777380018657);text-decoration: underline\"> 76,000</span><span title=\"0.09107442120353708\" style=\"background-color:rgba(255, 0, 0, 0.09107442120353708);text-decoration: underline\"> to</span><span title=\"0.5669139665981413\" style=\"background-color:rgba(255, 0, 0, 0.5669139665981413);text-decoration: underline\"> 540,000</span><span title=\"0.02422887339004701\" style=\"background-color:rgba(255, 0, 0, 0.02422887339004701);\"> .</span>"
            ],
            "text/plain": [
              "<IPython.core.display.HTML object>"
            ]
          },
          "metadata": {
            "tags": []
          }
        },
        {
          "output_type": "stream",
          "text": [
            "\n"
          ],
          "name": "stdout"
        },
        {
          "output_type": "display_data",
          "data": {
            "text/html": [
              "<span title=\"0.28358505605214557\" style=\"background-color:rgba(255, 0, 0, 0.28358505605214557);\"> Blacklipped</span><span title=\"0.29153785066078486\" style=\"background-color:rgba(255, 0, 0, 0.29153785066078486);\"> abalone</span><span title=\"0.07223460100716958\" style=\"background-color:rgba(255, 0, 0, 0.07223460100716958);\"> is</span><span title=\"0.11967495350834506\" style=\"background-color:rgba(255, 0, 0, 0.11967495350834506);\"> the</span><span title=\"0.1660166535022052\" style=\"background-color:rgba(255, 0, 0, 0.1660166535022052);\"> mainstay</span><span title=\"0.12136512031430634\" style=\"background-color:rgba(255, 0, 0, 0.12136512031430634);\"> of</span><span title=\"0.15287574168028908\" style=\"background-color:rgba(255, 0, 0, 0.15287574168028908);\"> the</span><span title=\"0.18638175430743825\" style=\"background-color:rgba(255, 0, 0, 0.18638175430743825);\"> catch</span><span title=\"0.029801941909476496\" style=\"background-color:rgba(255, 0, 0, 0.029801941909476496);\"> ,</span><span title=\"0.04303095242879565\" style=\"background-color:rgba(255, 0, 0, 0.04303095242879565);\"> bringing</span><span title=\"0.056572514649254245\" style=\"background-color:rgba(255, 0, 0, 0.056572514649254245);\"> in</span><span title=\"0.5766246099921025\" style=\"background-color:rgba(255, 0, 0, 0.5766246099921025);\"> A$</span><span title=\"0.749704983584693\" style=\"background-color:rgba(255, 0, 0, 0.749704983584693);\"> 46</span><span title=\"0.7055051066848367\" style=\"background-color:rgba(255, 0, 0, 0.7055051066848367);\"> million</span><span title=\"0.0932257104028433\" style=\"background-color:rgba(255, 0, 0, 0.0932257104028433);\"> ,</span><span title=\"0.08912338973594207\" style=\"background-color:rgba(255, 0, 0, 0.08912338973594207);\"> followed</span><span title=\"0.09841383445092969\" style=\"background-color:rgba(255, 0, 0, 0.09841383445092969);\"> by</span><span title=\"0.22064196106367984\" style=\"background-color:rgba(255, 0, 0, 0.22064196106367984);\"> southern</span><span title=\"0.23343513708266092\" style=\"background-color:rgba(255, 0, 0, 0.23343513708266092);\"> rock</span><span title=\"0.2300587171094462\" style=\"background-color:rgba(255, 0, 0, 0.2300587171094462);\"> lobster</span><span title=\"0.21590890015965317\" style=\"background-color:rgba(255, 0, 0, 0.21590890015965317);\"> worth</span><span title=\"0.3195119176829753\" style=\"background-color:rgba(255, 0, 0, 0.3195119176829753);\"> A$</span><span title=\"0.5255430797420577\" style=\"background-color:rgba(255, 0, 0, 0.5255430797420577);\"> 13.7</span><span title=\"0.49952307469491203\" style=\"background-color:rgba(255, 0, 0, 0.49952307469491203);\"> million</span><span title=\"0.03760454975652411\" style=\"background-color:rgba(255, 0, 0, 0.03760454975652411);\"> .</span>"
            ],
            "text/plain": [
              "<IPython.core.display.HTML object>"
            ]
          },
          "metadata": {
            "tags": []
          }
        },
        {
          "output_type": "stream",
          "text": [
            "\n"
          ],
          "name": "stdout"
        },
        {
          "output_type": "display_data",
          "data": {
            "text/html": [
              "<span title=\"0.09916906166369445\" style=\"background-color:rgba(255, 0, 0, 0.09916906166369445);\"> The</span><span title=\"0.13842795584186932\" style=\"background-color:rgba(255, 0, 0, 0.13842795584186932);\"> current</span><span title=\"0.16336235852138253\" style=\"background-color:rgba(255, 0, 0, 0.16336235852138253);\"> Premier</span><span title=\"0.1266843256234968\" style=\"background-color:rgba(255, 0, 0, 0.1266843256234968);\"> of</span><span title=\"0.298647348126123\" style=\"background-color:rgba(255, 0, 0, 0.298647348126123);\"> Victoria</span><span title=\"0.025708114912273195\" style=\"background-color:rgba(255, 0, 0, 0.025708114912273195);\"> is</span><span title=\"0.6998390956360357\" style=\"background-color:rgba(255, 0, 0, 0.6998390956360357);text-decoration: underline\"> Daniel</span><span title=\"0.6642566240646793\" style=\"background-color:rgba(255, 0, 0, 0.6642566240646793);text-decoration: underline\"> Andrews</span><span title=\"0.07311047609508693\" style=\"background-color:rgba(255, 0, 0, 0.07311047609508693);\"> .</span>"
            ],
            "text/plain": [
              "<IPython.core.display.HTML object>"
            ]
          },
          "metadata": {
            "tags": []
          }
        },
        {
          "output_type": "stream",
          "text": [
            "\n"
          ],
          "name": "stdout"
        },
        {
          "output_type": "display_data",
          "data": {
            "text/html": [
              "<span title=\"0.057156345800167034\" style=\"background-color:rgba(255, 0, 0, 0.057156345800167034);\"> During</span><span title=\"0.19029818017349787\" style=\"background-color:rgba(255, 0, 0, 0.19029818017349787);\"> 2003–04</span><span title=\"0.01461266210043831\" style=\"background-color:rgba(255, 0, 0, 0.01461266210043831);\"> ,</span><span title=\"0.05513025896661622\" style=\"background-color:rgba(255, 0, 0, 0.05513025896661622);\"> the</span><span title=\"0.11770222009268103\" style=\"background-color:rgba(255, 0, 0, 0.11770222009268103);\"> gross</span><span title=\"0.10979222738251185\" style=\"background-color:rgba(255, 0, 0, 0.10979222738251185);\"> value</span><span title=\"0.08635728497588996\" style=\"background-color:rgba(255, 0, 0, 0.08635728497588996);\"> of</span><span title=\"0.21727492153831068\" style=\"background-color:rgba(255, 0, 0, 0.21727492153831068);\"> Victorian</span><span title=\"0.19246321616184783\" style=\"background-color:rgba(255, 0, 0, 0.19246321616184783);\"> agricultural</span><span title=\"0.17856064383198195\" style=\"background-color:rgba(255, 0, 0, 0.17856064383198195);\"> production</span><span title=\"0.03303643013073588\" style=\"background-color:rgba(255, 0, 0, 0.03303643013073588);\"> increased</span><span title=\"0.044404531852029\" style=\"background-color:rgba(255, 0, 0, 0.044404531852029);\"> by</span><span title=\"0.7051970185324965\" style=\"background-color:rgba(255, 0, 0, 0.7051970185324965);text-decoration: underline\"> 17</span><span title=\"0.5010379935333085\" style=\"background-color:rgba(255, 0, 0, 0.5010379935333085);text-decoration: underline\"> %</span><span title=\"0.20343239384837614\" style=\"background-color:rgba(255, 0, 0, 0.20343239384837614);\"> to</span><span title=\"0.5772969712384114\" style=\"background-color:rgba(255, 0, 0, 0.5772969712384114);text-decoration: underline\"> $</span><span title=\"0.6938470477108902\" style=\"background-color:rgba(255, 0, 0, 0.6938470477108902);text-decoration: underline\"> 8.7</span><span title=\"0.6788799958000283\" style=\"background-color:rgba(255, 0, 0, 0.6788799958000283);text-decoration: underline\"> billion</span><span title=\"0.04961205686600652\" style=\"background-color:rgba(255, 0, 0, 0.04961205686600652);\"> .</span>"
            ],
            "text/plain": [
              "<IPython.core.display.HTML object>"
            ]
          },
          "metadata": {
            "tags": []
          }
        },
        {
          "output_type": "stream",
          "text": [
            "\n"
          ],
          "name": "stdout"
        },
        {
          "output_type": "display_data",
          "data": {
            "text/html": [
              "<span title=\"0.2983070347385072\" style=\"background-color:rgba(255, 0, 0, 0.2983070347385072);\"> Huguenot</span><span title=\"0.20807242088491523\" style=\"background-color:rgba(255, 0, 0, 0.20807242088491523);\"> numbers</span><span title=\"0.04316350471843775\" style=\"background-color:rgba(255, 0, 0, 0.04316350471843775);\"> peaked</span><span title=\"0.04688671752477417\" style=\"background-color:rgba(255, 0, 0, 0.04688671752477417);\"> near</span><span title=\"0.05920895939530259\" style=\"background-color:rgba(255, 0, 0, 0.05920895939530259);\"> an</span><span title=\"0.08161206584635415\" style=\"background-color:rgba(255, 0, 0, 0.08161206584635415);\"> estimated</span><span title=\"0.2303631383395031\" style=\"background-color:rgba(255, 0, 0, 0.2303631383395031);text-decoration: underline\"> two</span><span title=\"0.23466854349586677\" style=\"background-color:rgba(255, 0, 0, 0.23466854349586677);text-decoration: underline\"> million</span><span title=\"0.03807911167647812\" style=\"background-color:rgba(255, 0, 0, 0.03807911167647812);\"> by</span><span title=\"0.5867648678409537\" style=\"background-color:rgba(255, 0, 0, 0.5867648678409537);text-decoration: underline\"> 1562</span><span title=\"0.025968434931502336\" style=\"background-color:rgba(255, 0, 0, 0.025968434931502336);\"> ,</span><span title=\"0.03664739652889985\" style=\"background-color:rgba(255, 0, 0, 0.03664739652889985);\"> concentrated</span><span title=\"0.05414264241444751\" style=\"background-color:rgba(255, 0, 0, 0.05414264241444751);\"> mainly</span><span title=\"0.05452923001513634\" style=\"background-color:rgba(255, 0, 0, 0.05452923001513634);\"> in</span><span title=\"0.10016702259840753\" style=\"background-color:rgba(255, 0, 0, 0.10016702259840753);text-decoration: underline\"> the</span><span title=\"0.17903255628311332\" style=\"background-color:rgba(255, 0, 0, 0.17903255628311332);text-decoration: underline\"> southern</span><span title=\"0.16864478754423803\" style=\"background-color:rgba(255, 0, 0, 0.16864478754423803);text-decoration: underline\"> and</span><span title=\"0.19275574508461213\" style=\"background-color:rgba(255, 0, 0, 0.19275574508461213);text-decoration: underline\"> central</span><span title=\"0.179536461534803\" style=\"background-color:rgba(255, 0, 0, 0.179536461534803);text-decoration: underline\"> parts</span><span title=\"0.1438083179945977\" style=\"background-color:rgba(255, 0, 0, 0.1438083179945977);text-decoration: underline\"> of</span><span title=\"0.27141188315828746\" style=\"background-color:rgba(255, 0, 0, 0.27141188315828746);text-decoration: underline\"> France</span><span title=\"0.08141485034457094\" style=\"background-color:rgba(255, 0, 0, 0.08141485034457094);text-decoration: underline\"> ,</span><span title=\"0.09973904133963023\" style=\"background-color:rgba(255, 0, 0, 0.09973904133963023);text-decoration: underline\"> about</span><span title=\"0.19275655990488658\" style=\"background-color:rgba(255, 0, 0, 0.19275655990488658);text-decoration: underline\"> one</span><span title=\"0.14987572287098427\" style=\"background-color:rgba(255, 0, 0, 0.14987572287098427);text-decoration: underline\"> -</span><span title=\"0.17000424858210958\" style=\"background-color:rgba(255, 0, 0, 0.17000424858210958);text-decoration: underline\"> eighth</span><span title=\"0.1531873879959974\" style=\"background-color:rgba(255, 0, 0, 0.1531873879959974);text-decoration: underline\"> the</span><span title=\"0.1753857664665756\" style=\"background-color:rgba(255, 0, 0, 0.1753857664665756);text-decoration: underline\"> number</span><span title=\"0.15973778669435407\" style=\"background-color:rgba(255, 0, 0, 0.15973778669435407);\"> of</span><span title=\"0.44126979787749215\" style=\"background-color:rgba(255, 0, 0, 0.44126979787749215);text-decoration: underline\"> French</span><span title=\"0.4382961713727836\" style=\"background-color:rgba(255, 0, 0, 0.4382961713727836);text-decoration: underline\"> Catholics</span><span title=\"0.04132712752843956\" style=\"background-color:rgba(255, 0, 0, 0.04132712752843956);\"> .</span>"
            ],
            "text/plain": [
              "<IPython.core.display.HTML object>"
            ]
          },
          "metadata": {
            "tags": []
          }
        },
        {
          "output_type": "stream",
          "text": [
            "\n"
          ],
          "name": "stdout"
        },
        {
          "output_type": "display_data",
          "data": {
            "text/html": [
              "<span title=\"0.04605594918593407\" style=\"background-color:rgba(255, 0, 0, 0.04605594918593407);\"> The</span><span title=\"0.06832114585310188\" style=\"background-color:rgba(255, 0, 0, 0.06832114585310188);\"> first</span><span title=\"0.08988689392077624\" style=\"background-color:rgba(255, 0, 0, 0.08988689392077624);\"> Huguenot</span><span title=\"0.0447955265480974\" style=\"background-color:rgba(255, 0, 0, 0.0447955265480974);\"> to</span><span title=\"0.05097599631202009\" style=\"background-color:rgba(255, 0, 0, 0.05097599631202009);\"> arrive</span><span title=\"0.049657523076439176\" style=\"background-color:rgba(255, 0, 0, 0.049657523076439176);\"> at</span><span title=\"0.09660090732912352\" style=\"background-color:rgba(255, 0, 0, 0.09660090732912352);\"> the</span><span title=\"0.16737697663666817\" style=\"background-color:rgba(255, 0, 0, 0.16737697663666817);\"> Cape</span><span title=\"0.12318945485316668\" style=\"background-color:rgba(255, 0, 0, 0.12318945485316668);\"> of</span><span title=\"0.19846181322494844\" style=\"background-color:rgba(255, 0, 0, 0.19846181322494844);\"> Good</span><span title=\"0.18269237660389775\" style=\"background-color:rgba(255, 0, 0, 0.18269237660389775);\"> Hope</span><span title=\"0.01908747345897504\" style=\"background-color:rgba(255, 0, 0, 0.01908747345897504);\"> was</span><span title=\"0.054673282767624266\" style=\"background-color:rgba(255, 0, 0, 0.054673282767624266);\"> however</span><span title=\"0.7759690608259504\" style=\"background-color:rgba(255, 0, 0, 0.7759690608259504);text-decoration: underline\"> Maria</span><span title=\"0.7757572654691569\" style=\"background-color:rgba(255, 0, 0, 0.7757572654691569);text-decoration: underline\"> de</span><span title=\"0.7665360348181491\" style=\"background-color:rgba(255, 0, 0, 0.7665360348181491);text-decoration: underline\"> la</span><span title=\"0.7418714044769319\" style=\"background-color:rgba(255, 0, 0, 0.7418714044769319);text-decoration: underline\"> Queillerie</span><span title=\"0.4023745293175086\" style=\"background-color:rgba(255, 0, 0, 0.4023745293175086);\"> ,</span><span title=\"0.41507726193859873\" style=\"background-color:rgba(255, 0, 0, 0.41507726193859873);\"> wife</span><span title=\"0.3638855921185593\" style=\"background-color:rgba(255, 0, 0, 0.3638855921185593);\"> of</span><span title=\"0.49305660154799125\" style=\"background-color:rgba(255, 0, 0, 0.49305660154799125);\"> commander</span><span title=\"0.6830396573875535\" style=\"background-color:rgba(255, 0, 0, 0.6830396573875535);text-decoration: underline\"> Jan</span><span title=\"0.6981176510828624\" style=\"background-color:rgba(255, 0, 0, 0.6981176510828624);text-decoration: underline\"> van</span><span title=\"0.6906161021253803\" style=\"background-color:rgba(255, 0, 0, 0.6906161021253803);text-decoration: underline\"> Riebeeck</span><span title=\"0.3154898373676761\" style=\"background-color:rgba(255, 0, 0, 0.3154898373676761);\"> (</span><span title=\"0.308952857943182\" style=\"background-color:rgba(255, 0, 0, 0.308952857943182);\"> and</span><span title=\"0.32683487691371016\" style=\"background-color:rgba(255, 0, 0, 0.32683487691371016);\"> daughter</span><span title=\"0.28396628914595506\" style=\"background-color:rgba(255, 0, 0, 0.28396628914595506);\"> of</span><span title=\"0.3114687896692457\" style=\"background-color:rgba(255, 0, 0, 0.3114687896692457);\"> a</span><span title=\"0.436368976137639\" style=\"background-color:rgba(255, 0, 0, 0.436368976137639);text-decoration: underline\"> Walloon</span><span title=\"0.4136341867588378\" style=\"background-color:rgba(255, 0, 0, 0.4136341867588378);text-decoration: underline\"> church</span><span title=\"0.39972444384256556\" style=\"background-color:rgba(255, 0, 0, 0.39972444384256556);text-decoration: underline\"> minister</span><span title=\"0.15880112438540034\" style=\"background-color:rgba(255, 0, 0, 0.15880112438540034);\"> )</span><span title=\"0.06135676614891576\" style=\"background-color:rgba(255, 0, 0, 0.06135676614891576);\"> ,</span><span title=\"0.052878186133593096\" style=\"background-color:rgba(255, 0, 0, 0.052878186133593096);\"> who</span><span title=\"0.05429032703621462\" style=\"background-color:rgba(255, 0, 0, 0.05429032703621462);\"> arrived</span><span title=\"0.05782633274605935\" style=\"background-color:rgba(255, 0, 0, 0.05782633274605935);\"> on</span><span title=\"0.4611810671205939\" style=\"background-color:rgba(255, 0, 0, 0.4611810671205939);\"> 6</span><span title=\"0.4105507662026247\" style=\"background-color:rgba(255, 0, 0, 0.4105507662026247);\"> April</span><span title=\"0.382219747234544\" style=\"background-color:rgba(255, 0, 0, 0.382219747234544);\"> 1652</span><span title=\"0.14389378636890984\" style=\"background-color:rgba(255, 0, 0, 0.14389378636890984);\"> to</span><span title=\"0.1428980705216055\" style=\"background-color:rgba(255, 0, 0, 0.1428980705216055);\"> establish</span><span title=\"0.1562031497332116\" style=\"background-color:rgba(255, 0, 0, 0.1562031497332116);\"> a</span><span title=\"0.1536066751262629\" style=\"background-color:rgba(255, 0, 0, 0.1536066751262629);\"> settlement</span><span title=\"0.09300568365731632\" style=\"background-color:rgba(255, 0, 0, 0.09300568365731632);\"> at</span><span title=\"0.11667981003125757\" style=\"background-color:rgba(255, 0, 0, 0.11667981003125757);\"> what</span><span title=\"0.10867568537229537\" style=\"background-color:rgba(255, 0, 0, 0.10867568537229537);\"> is</span><span title=\"0.1601026565527529\" style=\"background-color:rgba(255, 0, 0, 0.1601026565527529);\"> today</span><span title=\"0.2811934164035665\" style=\"background-color:rgba(255, 0, 0, 0.2811934164035665);text-decoration: underline\"> Cape</span><span title=\"0.2849692572360977\" style=\"background-color:rgba(255, 0, 0, 0.2849692572360977);text-decoration: underline\"> Town</span><span title=\"0.033980936683665475\" style=\"background-color:rgba(255, 0, 0, 0.033980936683665475);\"> .</span>"
            ],
            "text/plain": [
              "<IPython.core.display.HTML object>"
            ]
          },
          "metadata": {
            "tags": []
          }
        },
        {
          "output_type": "stream",
          "text": [
            "\n"
          ],
          "name": "stdout"
        },
        {
          "output_type": "display_data",
          "data": {
            "text/html": [
              "<span title=\"0.028700594817396154\" style=\"background-color:rgba(255, 0, 0, 0.028700594817396154);\"> Barred</span><span title=\"0.03460104742833317\" style=\"background-color:rgba(255, 0, 0, 0.03460104742833317);\"> by</span><span title=\"0.07465073924120678\" style=\"background-color:rgba(255, 0, 0, 0.07465073924120678);\"> the</span><span title=\"0.09106359702304964\" style=\"background-color:rgba(255, 0, 0, 0.09106359702304964);\"> government</span><span title=\"0.04638437670729808\" style=\"background-color:rgba(255, 0, 0, 0.04638437670729808);\"> from</span><span title=\"0.09855338198745052\" style=\"background-color:rgba(255, 0, 0, 0.09855338198745052);\"> settling</span><span title=\"0.09584079517983037\" style=\"background-color:rgba(255, 0, 0, 0.09584079517983037);\"> in</span><span title=\"0.33990714128257216\" style=\"background-color:rgba(255, 0, 0, 0.33990714128257216);\"> New</span><span title=\"0.33587739955959617\" style=\"background-color:rgba(255, 0, 0, 0.33587739955959617);\"> France</span><span title=\"0.029276033291562253\" style=\"background-color:rgba(255, 0, 0, 0.029276033291562253);\"> ,</span><span title=\"0.18650126386594384\" style=\"background-color:rgba(255, 0, 0, 0.18650126386594384);\"> Huguenots</span><span title=\"0.10490028708273318\" style=\"background-color:rgba(255, 0, 0, 0.10490028708273318);\"> led</span><span title=\"0.10997003321644991\" style=\"background-color:rgba(255, 0, 0, 0.10997003321644991);\"> by</span><span title=\"0.6097439136377019\" style=\"background-color:rgba(255, 0, 0, 0.6097439136377019);text-decoration: underline\"> Jessé</span><span title=\"0.602225945737408\" style=\"background-color:rgba(255, 0, 0, 0.602225945737408);text-decoration: underline\"> de</span><span title=\"0.5822202224444252\" style=\"background-color:rgba(255, 0, 0, 0.5822202224444252);text-decoration: underline\"> Forest</span><span title=\"0.045683944316633196\" style=\"background-color:rgba(255, 0, 0, 0.045683944316633196);\"> ,</span><span title=\"0.032660798584054\" style=\"background-color:rgba(255, 0, 0, 0.032660798584054);\"> sailed</span><span title=\"0.03671932085065505\" style=\"background-color:rgba(255, 0, 0, 0.03671932085065505);\"> to</span><span title=\"0.22731514197894906\" style=\"background-color:rgba(255, 0, 0, 0.22731514197894906);\"> North</span><span title=\"0.20359711369354488\" style=\"background-color:rgba(255, 0, 0, 0.20359711369354488);\"> America</span><span title=\"0.027209071429729493\" style=\"background-color:rgba(255, 0, 0, 0.027209071429729493);\"> in</span><span title=\"0.418936418882214\" style=\"background-color:rgba(255, 0, 0, 0.418936418882214);text-decoration: underline\"> 1624</span><span title=\"0.05428303955458548\" style=\"background-color:rgba(255, 0, 0, 0.05428303955458548);\"> and</span><span title=\"0.045460056052965284\" style=\"background-color:rgba(255, 0, 0, 0.045460056052965284);\"> settled</span><span title=\"0.04057247325331649\" style=\"background-color:rgba(255, 0, 0, 0.04057247325331649);\"> instead</span><span title=\"0.029640919350958386\" style=\"background-color:rgba(255, 0, 0, 0.029640919350958386);\"> in</span><span title=\"0.10104006898380916\" style=\"background-color:rgba(255, 0, 0, 0.10104006898380916);\"> the</span><span title=\"0.18298535328695287\" style=\"background-color:rgba(255, 0, 0, 0.18298535328695287);\"> Dutch</span><span title=\"0.1643513659415262\" style=\"background-color:rgba(255, 0, 0, 0.1643513659415262);\"> colony</span><span title=\"0.13453765795205438\" style=\"background-color:rgba(255, 0, 0, 0.13453765795205438);\"> of</span><span title=\"0.29165748481311204\" style=\"background-color:rgba(255, 0, 0, 0.29165748481311204);\"> New</span><span title=\"0.2880873319184267\" style=\"background-color:rgba(255, 0, 0, 0.2880873319184267);\"> Netherland</span><span title=\"0.041126300191211586\" style=\"background-color:rgba(255, 0, 0, 0.041126300191211586);\"> (</span><span title=\"0.04499848826839606\" style=\"background-color:rgba(255, 0, 0, 0.04499848826839606);\"> later</span><span title=\"0.05069157950616166\" style=\"background-color:rgba(255, 0, 0, 0.05069157950616166);\"> incorporated</span><span title=\"0.06326804834656773\" style=\"background-color:rgba(255, 0, 0, 0.06326804834656773);\"> into</span><span title=\"0.26711700940585736\" style=\"background-color:rgba(255, 0, 0, 0.26711700940585736);\"> New</span><span title=\"0.25932180126174575\" style=\"background-color:rgba(255, 0, 0, 0.25932180126174575);\"> York</span><span title=\"0.16480880165782083\" style=\"background-color:rgba(255, 0, 0, 0.16480880165782083);\"> and</span><span title=\"0.26250945259598685\" style=\"background-color:rgba(255, 0, 0, 0.26250945259598685);text-decoration: underline\"> New</span><span title=\"0.25993293843155607\" style=\"background-color:rgba(255, 0, 0, 0.25993293843155607);text-decoration: underline\"> Jersey</span><span title=\"0.07260710588403711\" style=\"background-color:rgba(255, 0, 0, 0.07260710588403711);\"> )</span><span title=\"0.03708997200850879\" style=\"background-color:rgba(255, 0, 0, 0.03708997200850879);\"> ;</span><span title=\"0.03387879261559662\" style=\"background-color:rgba(255, 0, 0, 0.03387879261559662);\"> as</span><span title=\"0.04076852490227345\" style=\"background-color:rgba(255, 0, 0, 0.04076852490227345);\"> well</span><span title=\"0.03985422575826019\" style=\"background-color:rgba(255, 0, 0, 0.03985422575826019);\"> as</span><span title=\"0.3144053002473249\" style=\"background-color:rgba(255, 0, 0, 0.3144053002473249);text-decoration: underline\"> Great</span><span title=\"0.291028650624701\" style=\"background-color:rgba(255, 0, 0, 0.291028650624701);text-decoration: underline\"> Britain</span><span title=\"0.2336122018140624\" style=\"background-color:rgba(255, 0, 0, 0.2336122018140624);\"> 's</span><span title=\"0.20020945322739409\" style=\"background-color:rgba(255, 0, 0, 0.20020945322739409);\"> colonies</span><span title=\"0.09477605442563156\" style=\"background-color:rgba(255, 0, 0, 0.09477605442563156);\"> ,</span><span title=\"0.12148318709026441\" style=\"background-color:rgba(255, 0, 0, 0.12148318709026441);\"> including</span><span title=\"0.23626908153339196\" style=\"background-color:rgba(255, 0, 0, 0.23626908153339196);\"> Nova</span><span title=\"0.2533530286614226\" style=\"background-color:rgba(255, 0, 0, 0.2533530286614226);\"> Scotia</span><span title=\"0.024888599229162315\" style=\"background-color:rgba(255, 0, 0, 0.024888599229162315);\"> .</span>"
            ],
            "text/plain": [
              "<IPython.core.display.HTML object>"
            ]
          },
          "metadata": {
            "tags": []
          }
        },
        {
          "output_type": "stream",
          "text": [
            "\n"
          ],
          "name": "stdout"
        },
        {
          "output_type": "display_data",
          "data": {
            "text/html": [
              "<span title=\"0.061819599204372674\" style=\"background-color:rgba(255, 0, 0, 0.061819599204372674);\"> The</span><span title=\"0.06991904673230774\" style=\"background-color:rgba(255, 0, 0, 0.06991904673230774);\"> warfare</span><span title=\"0.014295145104520936\" style=\"background-color:rgba(255, 0, 0, 0.014295145104520936);\"> was</span><span title=\"0.019956789430141064\" style=\"background-color:rgba(255, 0, 0, 0.019956789430141064);\"> definitively</span><span title=\"0.022541901250788934\" style=\"background-color:rgba(255, 0, 0, 0.022541901250788934);\"> quelled</span><span title=\"0.028415860349273406\" style=\"background-color:rgba(255, 0, 0, 0.028415860349273406);\"> in</span><span title=\"0.5926011347880811\" style=\"background-color:rgba(255, 0, 0, 0.5926011347880811);text-decoration: underline\"> 1598</span><span title=\"0.06629563316342812\" style=\"background-color:rgba(255, 0, 0, 0.06629563316342812);\"> ,</span><span title=\"0.08097864907035583\" style=\"background-color:rgba(255, 0, 0, 0.08097864907035583);\"> when</span><span title=\"0.25800261546089254\" style=\"background-color:rgba(255, 0, 0, 0.25800261546089254);text-decoration: underline\"> Henry</span><span title=\"0.21015999204601668\" style=\"background-color:rgba(255, 0, 0, 0.21015999204601668);text-decoration: underline\"> of</span><span title=\"0.2892357103349412\" style=\"background-color:rgba(255, 0, 0, 0.2892357103349412);text-decoration: underline\"> Navarre</span><span title=\"0.055509148242250714\" style=\"background-color:rgba(255, 0, 0, 0.055509148242250714);\"> ,</span><span title=\"0.046181625716092085\" style=\"background-color:rgba(255, 0, 0, 0.046181625716092085);\"> having</span><span title=\"0.044264140706128\" style=\"background-color:rgba(255, 0, 0, 0.044264140706128);\"> succeeded</span><span title=\"0.04379063321657804\" style=\"background-color:rgba(255, 0, 0, 0.04379063321657804);\"> to</span><span title=\"0.06343095046528817\" style=\"background-color:rgba(255, 0, 0, 0.06343095046528817);\"> the</span><span title=\"0.1257903461011582\" style=\"background-color:rgba(255, 0, 0, 0.1257903461011582);\"> French</span><span title=\"0.10798210832291674\" style=\"background-color:rgba(255, 0, 0, 0.10798210832291674);\"> throne</span><span title=\"0.07266592238616314\" style=\"background-color:rgba(255, 0, 0, 0.07266592238616314);\"> as</span><span title=\"0.28605802715946194\" style=\"background-color:rgba(255, 0, 0, 0.28605802715946194);\"> Henry</span><span title=\"0.25754021445049347\" style=\"background-color:rgba(255, 0, 0, 0.25754021445049347);\"> IV</span><span title=\"0.10292640726712103\" style=\"background-color:rgba(255, 0, 0, 0.10292640726712103);\"> ,</span><span title=\"0.09269806962146192\" style=\"background-color:rgba(255, 0, 0, 0.09269806962146192);\"> and</span><span title=\"0.094843523035244\" style=\"background-color:rgba(255, 0, 0, 0.094843523035244);\"> having</span><span title=\"0.09900793538602368\" style=\"background-color:rgba(255, 0, 0, 0.09900793538602368);\"> recanted</span><span title=\"0.19797831980808295\" style=\"background-color:rgba(255, 0, 0, 0.19797831980808295);text-decoration: underline\"> Protestantism</span><span title=\"0.07787305546786069\" style=\"background-color:rgba(255, 0, 0, 0.07787305546786069);\"> in</span><span title=\"0.12122036830768768\" style=\"background-color:rgba(255, 0, 0, 0.12122036830768768);\"> favour</span><span title=\"0.09371218184763237\" style=\"background-color:rgba(255, 0, 0, 0.09371218184763237);\"> of</span><span title=\"0.237470725973556\" style=\"background-color:rgba(255, 0, 0, 0.237470725973556);\"> Roman</span><span title=\"0.2272026802980093\" style=\"background-color:rgba(255, 0, 0, 0.2272026802980093);\"> Catholicism</span><span title=\"0.06412012663244317\" style=\"background-color:rgba(255, 0, 0, 0.06412012663244317);\"> ,</span><span title=\"0.07280035316923368\" style=\"background-color:rgba(255, 0, 0, 0.07280035316923368);\"> issued</span><span title=\"0.17371988549235118\" style=\"background-color:rgba(255, 0, 0, 0.17371988549235118);\"> the</span><span title=\"0.274320595695245\" style=\"background-color:rgba(255, 0, 0, 0.274320595695245);\"> Edict</span><span title=\"0.23968499380622146\" style=\"background-color:rgba(255, 0, 0, 0.23968499380622146);\"> of</span><span title=\"0.29169261645146805\" style=\"background-color:rgba(255, 0, 0, 0.29169261645146805);\"> Nantes</span><span title=\"0.027410026496263392\" style=\"background-color:rgba(255, 0, 0, 0.027410026496263392);\"> .</span>"
            ],
            "text/plain": [
              "<IPython.core.display.HTML object>"
            ]
          },
          "metadata": {
            "tags": []
          }
        },
        {
          "output_type": "stream",
          "text": [
            "\n"
          ],
          "name": "stdout"
        },
        {
          "output_type": "display_data",
          "data": {
            "text/html": [
              "<span title=\"0.6320923615454678\" style=\"background-color:rgba(255, 0, 0, 0.6320923615454678);text-decoration: underline\"> Four</span><span title=\"0.568329755240455\" style=\"background-color:rgba(255, 0, 0, 0.568329755240455);text-decoration: underline\"> thousand</span><span title=\"0.0615262572632716\" style=\"background-color:rgba(255, 0, 0, 0.0615262572632716);\"> emigrated</span><span title=\"0.05026051372101589\" style=\"background-color:rgba(255, 0, 0, 0.05026051372101589);\"> to</span><span title=\"0.10289383482450226\" style=\"background-color:rgba(255, 0, 0, 0.10289383482450226);\"> the</span><span title=\"0.22744191511984332\" style=\"background-color:rgba(255, 0, 0, 0.22744191511984332);\"> North</span><span title=\"0.22731605695817775\" style=\"background-color:rgba(255, 0, 0, 0.22731605695817775);\"> American</span><span title=\"0.19602197740047392\" style=\"background-color:rgba(255, 0, 0, 0.19602197740047392);\"> colonies</span><span title=\"0.05989869489803838\" style=\"background-color:rgba(255, 0, 0, 0.05989869489803838);\"> ,</span><span title=\"0.06243590094536827\" style=\"background-color:rgba(255, 0, 0, 0.06243590094536827);\"> where</span><span title=\"0.0755130820714832\" style=\"background-color:rgba(255, 0, 0, 0.0755130820714832);\"> they</span><span title=\"0.0857223939280097\" style=\"background-color:rgba(255, 0, 0, 0.0857223939280097);\"> settled</span><span title=\"0.07782953485888872\" style=\"background-color:rgba(255, 0, 0, 0.07782953485888872);\"> in</span><span title=\"0.2603169960648605\" style=\"background-color:rgba(255, 0, 0, 0.2603169960648605);\"> New</span><span title=\"0.2569775604261002\" style=\"background-color:rgba(255, 0, 0, 0.2569775604261002);\"> York</span><span title=\"0.1665041275483948\" style=\"background-color:rgba(255, 0, 0, 0.1665041275483948);\"> and</span><span title=\"0.2272985173064977\" style=\"background-color:rgba(255, 0, 0, 0.2272985173064977);\"> Virginia</span><span title=\"0.06847578053386988\" style=\"background-color:rgba(255, 0, 0, 0.06847578053386988);\"> ,</span><span title=\"0.07110460388505391\" style=\"background-color:rgba(255, 0, 0, 0.07110460388505391);\"> especially</span><span title=\"0.033425867242270466\" style=\"background-color:rgba(255, 0, 0, 0.033425867242270466);\"> .</span>"
            ],
            "text/plain": [
              "<IPython.core.display.HTML object>"
            ]
          },
          "metadata": {
            "tags": []
          }
        },
        {
          "output_type": "stream",
          "text": [
            "\n"
          ],
          "name": "stdout"
        },
        {
          "output_type": "display_data",
          "data": {
            "text/html": [
              "<span title=\"0.3898169653450326\" style=\"background-color:rgba(255, 0, 0, 0.3898169653450326);text-decoration: underline\"> Paul</span><span title=\"0.34759698908868825\" style=\"background-color:rgba(255, 0, 0, 0.34759698908868825);text-decoration: underline\"> Revere</span><span title=\"0.045288774685204924\" style=\"background-color:rgba(255, 0, 0, 0.045288774685204924);\"> was</span><span title=\"0.04235823985286112\" style=\"background-color:rgba(255, 0, 0, 0.04235823985286112);\"> descended</span><span title=\"0.05336706131863758\" style=\"background-color:rgba(255, 0, 0, 0.05336706131863758);\"> from</span><span title=\"0.37343192287158344\" style=\"background-color:rgba(255, 0, 0, 0.37343192287158344);\"> Huguenot</span><span title=\"0.2694357160109751\" style=\"background-color:rgba(255, 0, 0, 0.2694357160109751);\"> refugees</span><span title=\"0.03925552394846221\" style=\"background-color:rgba(255, 0, 0, 0.03925552394846221);\"> ,</span><span title=\"0.019286413596270847\" style=\"background-color:rgba(255, 0, 0, 0.019286413596270847);\"> as</span><span title=\"0.030887004656016043\" style=\"background-color:rgba(255, 0, 0, 0.030887004656016043);\"> was</span><span title=\"0.655537896370906\" style=\"background-color:rgba(255, 0, 0, 0.655537896370906);text-decoration: underline\"> Henry</span><span title=\"0.610694107966924\" style=\"background-color:rgba(255, 0, 0, 0.610694107966924);text-decoration: underline\"> Laurens</span><span title=\"0.08337527899034783\" style=\"background-color:rgba(255, 0, 0, 0.08337527899034783);\"> ,</span><span title=\"0.05455162795987499\" style=\"background-color:rgba(255, 0, 0, 0.05455162795987499);\"> who</span><span title=\"0.05311979863032196\" style=\"background-color:rgba(255, 0, 0, 0.05311979863032196);\"> signed</span><span title=\"0.11848122335402825\" style=\"background-color:rgba(255, 0, 0, 0.11848122335402825);\"> the</span><span title=\"0.1917325743463429\" style=\"background-color:rgba(255, 0, 0, 0.1917325743463429);\"> Articles</span><span title=\"0.1445231640758481\" style=\"background-color:rgba(255, 0, 0, 0.1445231640758481);\"> of</span><span title=\"0.17877166027786365\" style=\"background-color:rgba(255, 0, 0, 0.17877166027786365);\"> Confederation</span><span title=\"0.07189887954228888\" style=\"background-color:rgba(255, 0, 0, 0.07189887954228888);\"> for</span><span title=\"0.2386024014477678\" style=\"background-color:rgba(255, 0, 0, 0.2386024014477678);\"> South</span><span title=\"0.22895154566696782\" style=\"background-color:rgba(255, 0, 0, 0.22895154566696782);\"> Carolina</span><span title=\"0.04080702862770455\" style=\"background-color:rgba(255, 0, 0, 0.04080702862770455);\"> ;</span><span title=\"0.35296332899477106\" style=\"background-color:rgba(255, 0, 0, 0.35296332899477106);\"> Jack</span><span title=\"0.3432576779695397\" style=\"background-color:rgba(255, 0, 0, 0.3432576779695397);\"> Jouett</span><span title=\"0.04765155091012579\" style=\"background-color:rgba(255, 0, 0, 0.04765155091012579);\"> ,</span><span title=\"0.02812275842401758\" style=\"background-color:rgba(255, 0, 0, 0.02812275842401758);\"> who</span><span title=\"0.02268824720995094\" style=\"background-color:rgba(255, 0, 0, 0.02268824720995094);\"> made</span><span title=\"0.036247187943030876\" style=\"background-color:rgba(255, 0, 0, 0.036247187943030876);\"> the</span><span title=\"0.05119486338562039\" style=\"background-color:rgba(255, 0, 0, 0.05119486338562039);\"> ride</span><span title=\"0.02934171764303381\" style=\"background-color:rgba(255, 0, 0, 0.02934171764303381);\"> from</span><span title=\"0.2724453188152885\" style=\"background-color:rgba(255, 0, 0, 0.2724453188152885);\"> Cuckoo</span><span title=\"0.23798572331680706\" style=\"background-color:rgba(255, 0, 0, 0.23798572331680706);\"> Tavern</span><span title=\"0.0888849211014828\" style=\"background-color:rgba(255, 0, 0, 0.0888849211014828);\"> to</span><span title=\"0.09807668333877569\" style=\"background-color:rgba(255, 0, 0, 0.09807668333877569);\"> warn</span><span title=\"0.35979944161942656\" style=\"background-color:rgba(255, 0, 0, 0.35979944161942656);\"> Thomas</span><span title=\"0.3267940931499748\" style=\"background-color:rgba(255, 0, 0, 0.3267940931499748);\"> Jefferson</span><span title=\"0.1418238547410384\" style=\"background-color:rgba(255, 0, 0, 0.1418238547410384);\"> and</span><span title=\"0.11610815402953412\" style=\"background-color:rgba(255, 0, 0, 0.11610815402953412);\"> others</span><span title=\"0.05553647457483296\" style=\"background-color:rgba(255, 0, 0, 0.05553647457483296);\"> that</span><span title=\"0.2613655687041962\" style=\"background-color:rgba(255, 0, 0, 0.2613655687041962);\"> Tarleton</span><span title=\"0.14337459851827378\" style=\"background-color:rgba(255, 0, 0, 0.14337459851827378);\"> and</span><span title=\"0.13896071603019586\" style=\"background-color:rgba(255, 0, 0, 0.13896071603019586);\"> his</span><span title=\"0.13131004689331727\" style=\"background-color:rgba(255, 0, 0, 0.13131004689331727);\"> men</span><span title=\"0.07358345514909341\" style=\"background-color:rgba(255, 0, 0, 0.07358345514909341);\"> were</span><span title=\"0.0732708440933011\" style=\"background-color:rgba(255, 0, 0, 0.0732708440933011);\"> on</span><span title=\"0.07978770956134883\" style=\"background-color:rgba(255, 0, 0, 0.07978770956134883);\"> their</span><span title=\"0.08098428866514411\" style=\"background-color:rgba(255, 0, 0, 0.08098428866514411);\"> way</span><span title=\"0.04286882676340376\" style=\"background-color:rgba(255, 0, 0, 0.04286882676340376);\"> to</span><span title=\"0.04397187637264347\" style=\"background-color:rgba(255, 0, 0, 0.04397187637264347);\"> arrest</span><span title=\"0.04813026611667697\" style=\"background-color:rgba(255, 0, 0, 0.04813026611667697);\"> him</span><span title=\"0.048186691244359224\" style=\"background-color:rgba(255, 0, 0, 0.048186691244359224);\"> for</span><span title=\"0.08451860660434783\" style=\"background-color:rgba(255, 0, 0, 0.08451860660434783);\"> crimes</span><span title=\"0.04879466396672911\" style=\"background-color:rgba(255, 0, 0, 0.04879466396672911);\"> against</span><span title=\"0.06884050569514717\" style=\"background-color:rgba(255, 0, 0, 0.06884050569514717);\"> the</span><span title=\"0.09657595035646604\" style=\"background-color:rgba(255, 0, 0, 0.09657595035646604);\"> king</span><span title=\"0.044275388352937865\" style=\"background-color:rgba(255, 0, 0, 0.044275388352937865);\"> ;</span><span title=\"0.18193581890355348\" style=\"background-color:rgba(255, 0, 0, 0.18193581890355348);\"> Francis</span><span title=\"0.17891023985242918\" style=\"background-color:rgba(255, 0, 0, 0.17891023985242918);\"> Marion</span><span title=\"0.03570061212237875\" style=\"background-color:rgba(255, 0, 0, 0.03570061212237875);\"> ,</span><span title=\"0.031005636794888974\" style=\"background-color:rgba(255, 0, 0, 0.031005636794888974);\"> and</span><span title=\"0.03611266173823765\" style=\"background-color:rgba(255, 0, 0, 0.03611266173823765);\"> a</span><span title=\"0.04318053011581219\" style=\"background-color:rgba(255, 0, 0, 0.04318053011581219);\"> number</span><span title=\"0.030806725372134584\" style=\"background-color:rgba(255, 0, 0, 0.030806725372134584);\"> of</span><span title=\"0.04312756999950601\" style=\"background-color:rgba(255, 0, 0, 0.04312756999950601);\"> other</span><span title=\"0.045974440086683166\" style=\"background-color:rgba(255, 0, 0, 0.045974440086683166);\"> leaders</span><span title=\"0.02936491636324288\" style=\"background-color:rgba(255, 0, 0, 0.02936491636324288);\"> of</span><span title=\"0.07553302164457912\" style=\"background-color:rgba(255, 0, 0, 0.07553302164457912);\"> the</span><span title=\"0.16307225516865823\" style=\"background-color:rgba(255, 0, 0, 0.16307225516865823);\"> American</span><span title=\"0.154231070375829\" style=\"background-color:rgba(255, 0, 0, 0.154231070375829);\"> Revolution</span><span title=\"0.08689400210143759\" style=\"background-color:rgba(255, 0, 0, 0.08689400210143759);\"> and</span><span title=\"0.10001623872519416\" style=\"background-color:rgba(255, 0, 0, 0.10001623872519416);\"> later</span><span title=\"0.11131691453796459\" style=\"background-color:rgba(255, 0, 0, 0.11131691453796459);\"> statesmen</span><span title=\"0.027649349024958803\" style=\"background-color:rgba(255, 0, 0, 0.027649349024958803);\"> .</span>"
            ],
            "text/plain": [
              "<IPython.core.display.HTML object>"
            ]
          },
          "metadata": {
            "tags": []
          }
        },
        {
          "output_type": "stream",
          "text": [
            "\n"
          ],
          "name": "stdout"
        },
        {
          "output_type": "display_data",
          "data": {
            "text/html": [
              "<span title=\"0.020636869883517144\" style=\"background-color:rgba(255, 0, 0, 0.020636869883517144);\"> After</span><span title=\"0.030663241018521338\" style=\"background-color:rgba(255, 0, 0, 0.030663241018521338);\"> this</span><span title=\"0.009991510790580993\" style=\"background-color:rgba(255, 0, 0, 0.009991510790580993);\"> ,</span><span title=\"0.2160702025014169\" style=\"background-color:rgba(255, 0, 0, 0.2160702025014169);\"> Huguenots</span><span title=\"0.028094796601058333\" style=\"background-color:rgba(255, 0, 0, 0.028094796601058333);\"> (</span><span title=\"0.022276020369500715\" style=\"background-color:rgba(255, 0, 0, 0.022276020369500715);\"> with</span><span title=\"0.10192380699717422\" style=\"background-color:rgba(255, 0, 0, 0.10192380699717422);\"> estimates</span><span title=\"0.04290734862019735\" style=\"background-color:rgba(255, 0, 0, 0.04290734862019735);\"> ranging</span><span title=\"0.0593377901662762\" style=\"background-color:rgba(255, 0, 0, 0.0593377901662762);\"> from</span><span title=\"0.38003330880865327\" style=\"background-color:rgba(255, 0, 0, 0.38003330880865327);text-decoration: underline\"> 200,000</span><span title=\"0.060206122773203787\" style=\"background-color:rgba(255, 0, 0, 0.060206122773203787);\"> to</span><span title=\"0.5586551368311897\" style=\"background-color:rgba(255, 0, 0, 0.5586551368311897);text-decoration: underline\"> 1,000,000</span><span title=\"0.02349912896980038\" style=\"background-color:rgba(255, 0, 0, 0.02349912896980038);\"> )</span><span title=\"0.016033113478966667\" style=\"background-color:rgba(255, 0, 0, 0.016033113478966667);\"> fled</span><span title=\"0.030411432903551843\" style=\"background-color:rgba(255, 0, 0, 0.030411432903551843);\"> to</span><span title=\"0.09932069637226741\" style=\"background-color:rgba(255, 0, 0, 0.09932069637226741);\"> surrounding</span><span title=\"0.21331247844244028\" style=\"background-color:rgba(255, 0, 0, 0.21331247844244028);\"> Protestant</span><span title=\"0.1951562785063186\" style=\"background-color:rgba(255, 0, 0, 0.1951562785063186);\"> countries</span><span title=\"0.12316053112115499\" style=\"background-color:rgba(255, 0, 0, 0.12316053112115499);\"> :</span><span title=\"0.2294549163088131\" style=\"background-color:rgba(255, 0, 0, 0.2294549163088131);\"> England</span><span title=\"0.10509466075094856\" style=\"background-color:rgba(255, 0, 0, 0.10509466075094856);\"> ,</span><span title=\"0.1238179766615552\" style=\"background-color:rgba(255, 0, 0, 0.1238179766615552);\"> the</span><span title=\"0.21606155371429236\" style=\"background-color:rgba(255, 0, 0, 0.21606155371429236);\"> Netherlands</span><span title=\"0.11022574498606917\" style=\"background-color:rgba(255, 0, 0, 0.11022574498606917);\"> ,</span><span title=\"0.17794877833619804\" style=\"background-color:rgba(255, 0, 0, 0.17794877833619804);\"> Switzerland</span><span title=\"0.09040411677034786\" style=\"background-color:rgba(255, 0, 0, 0.09040411677034786);\"> ,</span><span title=\"0.15070449190602994\" style=\"background-color:rgba(255, 0, 0, 0.15070449190602994);\"> Norway</span><span title=\"0.06766034304998109\" style=\"background-color:rgba(255, 0, 0, 0.06766034304998109);\"> ,</span><span title=\"0.1319814177232743\" style=\"background-color:rgba(255, 0, 0, 0.1319814177232743);\"> Denmark</span><span title=\"0.04573933536964828\" style=\"background-color:rgba(255, 0, 0, 0.04573933536964828);\"> ,</span><span title=\"0.045015737467023226\" style=\"background-color:rgba(255, 0, 0, 0.045015737467023226);\"> and</span><span title=\"0.09651273656159293\" style=\"background-color:rgba(255, 0, 0, 0.09651273656159293);text-decoration: underline\"> Prussia</span><span title=\"0.023113878078340415\" style=\"background-color:rgba(255, 0, 0, 0.023113878078340415);\"> —</span><span title=\"0.04396639860666411\" style=\"background-color:rgba(255, 0, 0, 0.04396639860666411);\"> whose</span><span title=\"0.12172823023503104\" style=\"background-color:rgba(255, 0, 0, 0.12172823023503104);\"> Calvinist</span><span title=\"0.14326738648665346\" style=\"background-color:rgba(255, 0, 0, 0.14326738648665346);text-decoration: underline\"> Great</span><span title=\"0.15799351534105124\" style=\"background-color:rgba(255, 0, 0, 0.15799351534105124);text-decoration: underline\"> Elector</span><span title=\"0.20445003419575497\" style=\"background-color:rgba(255, 0, 0, 0.20445003419575497);text-decoration: underline\"> Frederick</span><span title=\"0.19979616133376188\" style=\"background-color:rgba(255, 0, 0, 0.19979616133376188);text-decoration: underline\"> William</span><span title=\"0.08429013050844042\" style=\"background-color:rgba(255, 0, 0, 0.08429013050844042);\"> welcomed</span><span title=\"0.08308546043627166\" style=\"background-color:rgba(255, 0, 0, 0.08308546043627166);\"> them</span><span title=\"0.08414753510488815\" style=\"background-color:rgba(255, 0, 0, 0.08414753510488815);\"> to</span><span title=\"0.09508647630739525\" style=\"background-color:rgba(255, 0, 0, 0.09508647630739525);\"> help</span><span title=\"0.12359884723272233\" style=\"background-color:rgba(255, 0, 0, 0.12359884723272233);\"> rebuild</span><span title=\"0.14525419088382294\" style=\"background-color:rgba(255, 0, 0, 0.14525419088382294);\"> his</span><span title=\"0.19359790836402146\" style=\"background-color:rgba(255, 0, 0, 0.19359790836402146);\"> war</span><span title=\"0.18444913706613764\" style=\"background-color:rgba(255, 0, 0, 0.18444913706613764);\"> -</span><span title=\"0.20167703807947351\" style=\"background-color:rgba(255, 0, 0, 0.20167703807947351);\"> ravaged</span><span title=\"0.20460663271980384\" style=\"background-color:rgba(255, 0, 0, 0.20460663271980384);\"> and</span><span title=\"0.21220486874977867\" style=\"background-color:rgba(255, 0, 0, 0.21220486874977867);\"> underpopulated</span><span title=\"0.19932882616842917\" style=\"background-color:rgba(255, 0, 0, 0.19932882616842917);\"> country</span><span title=\"0.05460975467452008\" style=\"background-color:rgba(255, 0, 0, 0.05460975467452008);\"> .</span>"
            ],
            "text/plain": [
              "<IPython.core.display.HTML object>"
            ]
          },
          "metadata": {
            "tags": []
          }
        },
        {
          "output_type": "stream",
          "text": [
            "\n"
          ],
          "name": "stdout"
        },
        {
          "output_type": "display_data",
          "data": {
            "text/html": [
              "<span title=\"0.15210590250095984\" style=\"background-color:rgba(255, 0, 0, 0.15210590250095984);text-decoration: underline\"> Hundreds</span><span title=\"0.06060811164739339\" style=\"background-color:rgba(255, 0, 0, 0.06060811164739339);\"> of</span><span title=\"0.13375656894881752\" style=\"background-color:rgba(255, 0, 0, 0.13375656894881752);\"> French</span><span title=\"0.10126931622828136\" style=\"background-color:rgba(255, 0, 0, 0.10126931622828136);\"> soldiers</span><span title=\"0.021930733777616545\" style=\"background-color:rgba(255, 0, 0, 0.021930733777616545);\"> were</span><span title=\"0.030535550871114238\" style=\"background-color:rgba(255, 0, 0, 0.030535550871114238);\"> stranded</span><span title=\"0.02746075630709898\" style=\"background-color:rgba(255, 0, 0, 0.02746075630709898);\"> and</span><span title=\"0.03026784023345875\" style=\"background-color:rgba(255, 0, 0, 0.03026784023345875);\"> surrendered</span><span title=\"0.029468359124784543\" style=\"background-color:rgba(255, 0, 0, 0.029468359124784543);\"> to</span><span title=\"0.08102571061888947\" style=\"background-color:rgba(255, 0, 0, 0.08102571061888947);\"> the</span><span title=\"0.08612446098030954\" style=\"background-color:rgba(255, 0, 0, 0.08612446098030954);\"> numerically</span><span title=\"0.10478499173836084\" style=\"background-color:rgba(255, 0, 0, 0.10478499173836084);\"> inferior</span><span title=\"0.12053092179934405\" style=\"background-color:rgba(255, 0, 0, 0.12053092179934405);text-decoration: underline\"> Spanish</span><span title=\"0.09741273130586327\" style=\"background-color:rgba(255, 0, 0, 0.09741273130586327);\"> forces</span><span title=\"0.060418404299691496\" style=\"background-color:rgba(255, 0, 0, 0.060418404299691496);\"> led</span><span title=\"0.08145028194728043\" style=\"background-color:rgba(255, 0, 0, 0.08145028194728043);\"> by</span><span title=\"0.5941956177066878\" style=\"background-color:rgba(255, 0, 0, 0.5941956177066878);\"> Pedro</span><span title=\"0.5732693139402715\" style=\"background-color:rgba(255, 0, 0, 0.5732693139402715);\"> Menendez</span><span title=\"0.05821238740886543\" style=\"background-color:rgba(255, 0, 0, 0.05821238740886543);\"> .</span>"
            ],
            "text/plain": [
              "<IPython.core.display.HTML object>"
            ]
          },
          "metadata": {
            "tags": []
          }
        },
        {
          "output_type": "stream",
          "text": [
            "\n"
          ],
          "name": "stdout"
        },
        {
          "output_type": "display_data",
          "data": {
            "text/html": [
              "<span title=\"0.01907534379730288\" style=\"background-color:rgba(255, 0, 0, 0.01907534379730288);\"> In</span><span title=\"0.3132842865403548\" style=\"background-color:rgba(255, 0, 0, 0.3132842865403548);text-decoration: underline\"> 1565</span><span title=\"0.06559412811625305\" style=\"background-color:rgba(255, 0, 0, 0.06559412811625305);\"> the</span><span title=\"0.1494631428074686\" style=\"background-color:rgba(255, 0, 0, 0.1494631428074686);\"> Spanish</span><span title=\"0.028484219297529693\" style=\"background-color:rgba(255, 0, 0, 0.028484219297529693);\"> decided</span><span title=\"0.053727729010132036\" style=\"background-color:rgba(255, 0, 0, 0.053727729010132036);\"> to</span><span title=\"0.09913750949612492\" style=\"background-color:rgba(255, 0, 0, 0.09913750949612492);\"> enforce</span><span title=\"0.13066427775549155\" style=\"background-color:rgba(255, 0, 0, 0.13066427775549155);\"> their</span><span title=\"0.1594037195757399\" style=\"background-color:rgba(255, 0, 0, 0.1594037195757399);\"> claim</span><span title=\"0.12553013062083523\" style=\"background-color:rgba(255, 0, 0, 0.12553013062083523);\"> to</span><span title=\"0.4851203233154965\" style=\"background-color:rgba(255, 0, 0, 0.4851203233154965);\"> La</span><span title=\"0.4761329943366928\" style=\"background-color:rgba(255, 0, 0, 0.4761329943366928);\"> Florida</span><span title=\"0.06184675327135118\" style=\"background-color:rgba(255, 0, 0, 0.06184675327135118);\"> ,</span><span title=\"0.04255136144171196\" style=\"background-color:rgba(255, 0, 0, 0.04255136144171196);\"> and</span><span title=\"0.04765256876648558\" style=\"background-color:rgba(255, 0, 0, 0.04765256876648558);\"> sent</span><span title=\"0.6293941187455925\" style=\"background-color:rgba(255, 0, 0, 0.6293941187455925);text-decoration: underline\"> Pedro</span><span title=\"0.6339501649184407\" style=\"background-color:rgba(255, 0, 0, 0.6339501649184407);text-decoration: underline\"> Menéndez</span><span title=\"0.6131765166801729\" style=\"background-color:rgba(255, 0, 0, 0.6131765166801729);text-decoration: underline\"> de</span><span title=\"0.5795223871221348\" style=\"background-color:rgba(255, 0, 0, 0.5795223871221348);text-decoration: underline\"> Avilés</span><span title=\"0.08703352602689166\" style=\"background-color:rgba(255, 0, 0, 0.08703352602689166);\"> ,</span><span title=\"0.06077832844151019\" style=\"background-color:rgba(255, 0, 0, 0.06077832844151019);\"> who</span><span title=\"0.05578678727814233\" style=\"background-color:rgba(255, 0, 0, 0.05578678727814233);\"> established</span><span title=\"0.07813532539544815\" style=\"background-color:rgba(255, 0, 0, 0.07813532539544815);\"> the</span><span title=\"0.09816348594528844\" style=\"background-color:rgba(255, 0, 0, 0.09816348594528844);\"> settlement</span><span title=\"0.07323225034043271\" style=\"background-color:rgba(255, 0, 0, 0.07323225034043271);\"> of</span><span title=\"0.19288929598849286\" style=\"background-color:rgba(255, 0, 0, 0.19288929598849286);\"> St.</span><span title=\"0.190907736308607\" style=\"background-color:rgba(255, 0, 0, 0.190907736308607);\"> Augustine</span><span title=\"0.10094797146810415\" style=\"background-color:rgba(255, 0, 0, 0.10094797146810415);\"> near</span><span title=\"0.2674330952208425\" style=\"background-color:rgba(255, 0, 0, 0.2674330952208425);\"> Fort</span><span title=\"0.27395394264919815\" style=\"background-color:rgba(255, 0, 0, 0.27395394264919815);\"> Caroline</span><span title=\"0.02964727176190419\" style=\"background-color:rgba(255, 0, 0, 0.02964727176190419);\"> .</span>"
            ],
            "text/plain": [
              "<IPython.core.display.HTML object>"
            ]
          },
          "metadata": {
            "tags": []
          }
        },
        {
          "output_type": "stream",
          "text": [
            "\n"
          ],
          "name": "stdout"
        },
        {
          "output_type": "display_data",
          "data": {
            "text/html": [
              "<span title=\"0.6198052101583019\" style=\"background-color:rgba(255, 0, 0, 0.6198052101583019);text-decoration: underline\"> Andrew</span><span title=\"0.6022173926273097\" style=\"background-color:rgba(255, 0, 0, 0.6022173926273097);text-decoration: underline\"> Lortie</span><span title=\"0.1033225380029278\" style=\"background-color:rgba(255, 0, 0, 0.1033225380029278);\"> (</span><span title=\"0.09728087073718283\" style=\"background-color:rgba(255, 0, 0, 0.09728087073718283);\"> born</span><span title=\"0.3814266324749334\" style=\"background-color:rgba(255, 0, 0, 0.3814266324749334);\"> André</span><span title=\"0.37291310745386314\" style=\"background-color:rgba(255, 0, 0, 0.37291310745386314);\"> Lortie</span><span title=\"0.09112502735725686\" style=\"background-color:rgba(255, 0, 0, 0.09112502735725686);\"> )</span><span title=\"0.041009295219663115\" style=\"background-color:rgba(255, 0, 0, 0.041009295219663115);\"> ,</span><span title=\"0.05854437575568991\" style=\"background-color:rgba(255, 0, 0, 0.05854437575568991);\"> a</span><span title=\"0.10834645546245038\" style=\"background-color:rgba(255, 0, 0, 0.10834645546245038);\"> leading</span><span title=\"0.3738670407333934\" style=\"background-color:rgba(255, 0, 0, 0.3738670407333934);\"> Huguenot</span><span title=\"0.3343689509184889\" style=\"background-color:rgba(255, 0, 0, 0.3343689509184889);\"> theologian</span><span title=\"0.27559691179261797\" style=\"background-color:rgba(255, 0, 0, 0.27559691179261797);\"> and</span><span title=\"0.26364174295469395\" style=\"background-color:rgba(255, 0, 0, 0.26364174295469395);\"> writer</span><span title=\"0.1625391461124677\" style=\"background-color:rgba(255, 0, 0, 0.1625391461124677);\"> who</span><span title=\"0.14202806668218007\" style=\"background-color:rgba(255, 0, 0, 0.14202806668218007);\"> led</span><span title=\"0.1442578646793257\" style=\"background-color:rgba(255, 0, 0, 0.1442578646793257);\"> the</span><span title=\"0.16605123865455948\" style=\"background-color:rgba(255, 0, 0, 0.16605123865455948);\"> exiled</span><span title=\"0.1763446808222951\" style=\"background-color:rgba(255, 0, 0, 0.1763446808222951);\"> community</span><span title=\"0.10661171880248961\" style=\"background-color:rgba(255, 0, 0, 0.10661171880248961);\"> in</span><span title=\"0.20584696952396525\" style=\"background-color:rgba(255, 0, 0, 0.20584696952396525);\"> London</span><span title=\"0.01800063778114979\" style=\"background-color:rgba(255, 0, 0, 0.01800063778114979);\"> ,</span><span title=\"0.012666390303343038\" style=\"background-color:rgba(255, 0, 0, 0.012666390303343038);\"> became</span><span title=\"0.048797694673684805\" style=\"background-color:rgba(255, 0, 0, 0.048797694673684805);\"> known</span><span title=\"0.048075944940914224\" style=\"background-color:rgba(255, 0, 0, 0.048075944940914224);\"> for</span><span title=\"0.18160139935884403\" style=\"background-color:rgba(255, 0, 0, 0.18160139935884403);\"> articulating</span><span title=\"0.23165445151853098\" style=\"background-color:rgba(255, 0, 0, 0.23165445151853098);\"> their</span><span title=\"0.27496253576388213\" style=\"background-color:rgba(255, 0, 0, 0.27496253576388213);\"> criticism</span><span title=\"0.22759831637983036\" style=\"background-color:rgba(255, 0, 0, 0.22759831637983036);\"> of</span><span title=\"0.26240347759460797\" style=\"background-color:rgba(255, 0, 0, 0.26240347759460797);text-decoration: underline\"> the</span><span title=\"0.3645742051990739\" style=\"background-color:rgba(255, 0, 0, 0.3645742051990739);text-decoration: underline\"> Pope</span><span title=\"0.29048763826562246\" style=\"background-color:rgba(255, 0, 0, 0.29048763826562246);text-decoration: underline\"> and</span><span title=\"0.3071676950904558\" style=\"background-color:rgba(255, 0, 0, 0.3071676950904558);text-decoration: underline\"> the</span><span title=\"0.3279627806567999\" style=\"background-color:rgba(255, 0, 0, 0.3279627806567999);text-decoration: underline\"> doctrine</span><span title=\"0.28167163559522224\" style=\"background-color:rgba(255, 0, 0, 0.28167163559522224);text-decoration: underline\"> of</span><span title=\"0.29535690298071066\" style=\"background-color:rgba(255, 0, 0, 0.29535690298071066);text-decoration: underline\"> transubstantiation</span><span title=\"0.17027531522242775\" style=\"background-color:rgba(255, 0, 0, 0.17027531522242775);text-decoration: underline\"> during</span><span title=\"0.16950849968783022\" style=\"background-color:rgba(255, 0, 0, 0.16950849968783022);text-decoration: underline\"> Mass.</span>"
            ],
            "text/plain": [
              "<IPython.core.display.HTML object>"
            ]
          },
          "metadata": {
            "tags": []
          }
        },
        {
          "output_type": "stream",
          "text": [
            "\n"
          ],
          "name": "stdout"
        },
        {
          "output_type": "display_data",
          "data": {
            "text/html": [
              "<span title=\"0.5586635785785223\" style=\"background-color:rgba(255, 0, 0, 0.5586635785785223);text-decoration: underline\"> William</span><span title=\"0.5205048220584996\" style=\"background-color:rgba(255, 0, 0, 0.5205048220584996);text-decoration: underline\"> Farel</span><span title=\"0.03860077804247466\" style=\"background-color:rgba(255, 0, 0, 0.03860077804247466);\"> was</span><span title=\"0.07976971530505067\" style=\"background-color:rgba(255, 0, 0, 0.07976971530505067);\"> a</span><span title=\"0.09791776407486934\" style=\"background-color:rgba(255, 0, 0, 0.09791776407486934);\"> student</span><span title=\"0.05968158687569175\" style=\"background-color:rgba(255, 0, 0, 0.05968158687569175);\"> of</span><span title=\"0.17339628209015234\" style=\"background-color:rgba(255, 0, 0, 0.17339628209015234);\"> Lefevre</span><span title=\"0.04834338929234203\" style=\"background-color:rgba(255, 0, 0, 0.04834338929234203);\"> who</span><span title=\"0.04921827477773253\" style=\"background-color:rgba(255, 0, 0, 0.04921827477773253);\"> went</span><span title=\"0.04710675398152159\" style=\"background-color:rgba(255, 0, 0, 0.04710675398152159);\"> on</span><span title=\"0.06361389821572588\" style=\"background-color:rgba(255, 0, 0, 0.06361389821572588);\"> to</span><span title=\"0.07592313629960612\" style=\"background-color:rgba(255, 0, 0, 0.07592313629960612);\"> become</span><span title=\"0.11743405842052498\" style=\"background-color:rgba(255, 0, 0, 0.11743405842052498);\"> a</span><span title=\"0.1444514666774298\" style=\"background-color:rgba(255, 0, 0, 0.1444514666774298);\"> leader</span><span title=\"0.1167101548161023\" style=\"background-color:rgba(255, 0, 0, 0.1167101548161023);\"> of</span><span title=\"0.1912704262731818\" style=\"background-color:rgba(255, 0, 0, 0.1912704262731818);\"> the</span><span title=\"0.3428957442295316\" style=\"background-color:rgba(255, 0, 0, 0.3428957442295316);\"> Swiss</span><span title=\"0.32414065743581744\" style=\"background-color:rgba(255, 0, 0, 0.32414065743581744);\"> Reformation</span><span title=\"0.054411641875140956\" style=\"background-color:rgba(255, 0, 0, 0.054411641875140956);\"> ,</span><span title=\"0.06421473162973518\" style=\"background-color:rgba(255, 0, 0, 0.06421473162973518);\"> establishing</span><span title=\"0.09689607557209792\" style=\"background-color:rgba(255, 0, 0, 0.09689607557209792);\"> a</span><span title=\"0.17515547821717084\" style=\"background-color:rgba(255, 0, 0, 0.17515547821717084);\"> Protestant</span><span title=\"0.15718259570308193\" style=\"background-color:rgba(255, 0, 0, 0.15718259570308193);\"> government</span><span title=\"0.11338087449371877\" style=\"background-color:rgba(255, 0, 0, 0.11338087449371877);\"> in</span><span title=\"0.2682405892411841\" style=\"background-color:rgba(255, 0, 0, 0.2682405892411841);\"> Geneva</span><span title=\"0.024230206585265163\" style=\"background-color:rgba(255, 0, 0, 0.024230206585265163);\"> .</span>"
            ],
            "text/plain": [
              "<IPython.core.display.HTML object>"
            ]
          },
          "metadata": {
            "tags": []
          }
        },
        {
          "output_type": "stream",
          "text": [
            "\n"
          ],
          "name": "stdout"
        },
        {
          "output_type": "display_data",
          "data": {
            "text/html": [
              "<span title=\"0.15930567851766078\" style=\"background-color:rgba(255, 0, 0, 0.15930567851766078);\"> One</span><span title=\"0.05054663056394092\" style=\"background-color:rgba(255, 0, 0, 0.05054663056394092);\"> of</span><span title=\"0.05458172523889329\" style=\"background-color:rgba(255, 0, 0, 0.05458172523889329);\"> the</span><span title=\"0.053543045114588926\" style=\"background-color:rgba(255, 0, 0, 0.053543045114588926);\"> most</span><span title=\"0.07160910785074183\" style=\"background-color:rgba(255, 0, 0, 0.07160910785074183);\"> prominent</span><span title=\"0.13057496942408414\" style=\"background-color:rgba(255, 0, 0, 0.13057496942408414);\"> Huguenot</span><span title=\"0.10374589247183595\" style=\"background-color:rgba(255, 0, 0, 0.10374589247183595);\"> refugees</span><span title=\"0.05314387681552189\" style=\"background-color:rgba(255, 0, 0, 0.05314387681552189);\"> in</span><span title=\"0.07654055215330521\" style=\"background-color:rgba(255, 0, 0, 0.07654055215330521);\"> the</span><span title=\"0.1570719657286161\" style=\"background-color:rgba(255, 0, 0, 0.1570719657286161);\"> Netherlands</span><span title=\"0.01732910268391389\" style=\"background-color:rgba(255, 0, 0, 0.01732910268391389);\"> was</span><span title=\"0.6309646896558954\" style=\"background-color:rgba(255, 0, 0, 0.6309646896558954);text-decoration: underline\"> Pierre</span><span title=\"0.6081341806919782\" style=\"background-color:rgba(255, 0, 0, 0.6081341806919782);text-decoration: underline\"> Bayle</span><span title=\"0.06854901855920861\" style=\"background-color:rgba(255, 0, 0, 0.06854901855920861);\"> .</span>"
            ],
            "text/plain": [
              "<IPython.core.display.HTML object>"
            ]
          },
          "metadata": {
            "tags": []
          }
        },
        {
          "output_type": "stream",
          "text": [
            "\n"
          ],
          "name": "stdout"
        },
        {
          "output_type": "display_data",
          "data": {
            "text/html": [
              "<span title=\"0.6890609234577442\" style=\"background-color:rgba(255, 0, 0, 0.6890609234577442);text-decoration: underline\"> Frederick</span><span title=\"0.6706862333500893\" style=\"background-color:rgba(255, 0, 0, 0.6706862333500893);text-decoration: underline\"> William</span><span title=\"0.3170651587582346\" style=\"background-color:rgba(255, 0, 0, 0.3170651587582346);\"> ,</span><span title=\"0.3786682264154579\" style=\"background-color:rgba(255, 0, 0, 0.3786682264154579);\"> Elector</span><span title=\"0.2979567253052616\" style=\"background-color:rgba(255, 0, 0, 0.2979567253052616);\"> of</span><span title=\"0.37562888847851816\" style=\"background-color:rgba(255, 0, 0, 0.37562888847851816);\"> Brandenburg</span><span title=\"0.08517941493667061\" style=\"background-color:rgba(255, 0, 0, 0.08517941493667061);\"> ,</span><span title=\"0.034414078763830014\" style=\"background-color:rgba(255, 0, 0, 0.034414078763830014);\"> invited</span><span title=\"0.11881323190307022\" style=\"background-color:rgba(255, 0, 0, 0.11881323190307022);\"> Huguenots</span><span title=\"0.03500452344027131\" style=\"background-color:rgba(255, 0, 0, 0.03500452344027131);\"> to</span><span title=\"0.059186091571966686\" style=\"background-color:rgba(255, 0, 0, 0.059186091571966686);\"> settle</span><span title=\"0.05015918890209528\" style=\"background-color:rgba(255, 0, 0, 0.05015918890209528);\"> in</span><span title=\"0.07152168845157722\" style=\"background-color:rgba(255, 0, 0, 0.07152168845157722);\"> his</span><span title=\"0.08951864042362141\" style=\"background-color:rgba(255, 0, 0, 0.08951864042362141);\"> realms</span><span title=\"0.01731075799144718\" style=\"background-color:rgba(255, 0, 0, 0.01731075799144718);\"> ,</span><span title=\"0.01867706358170903\" style=\"background-color:rgba(255, 0, 0, 0.01867706358170903);\"> and</span><span title=\"0.059257160554378394\" style=\"background-color:rgba(255, 0, 0, 0.059257160554378394);\"> a</span><span title=\"0.08824405127451015\" style=\"background-color:rgba(255, 0, 0, 0.08824405127451015);\"> number</span><span title=\"0.06778451520223261\" style=\"background-color:rgba(255, 0, 0, 0.06778451520223261);\"> of</span><span title=\"0.07887137314525555\" style=\"background-color:rgba(255, 0, 0, 0.07887137314525555);\"> their</span><span title=\"0.084016433601273\" style=\"background-color:rgba(255, 0, 0, 0.084016433601273);\"> descendants</span><span title=\"0.04514293816197566\" style=\"background-color:rgba(255, 0, 0, 0.04514293816197566);\"> rose</span><span title=\"0.050559982295978995\" style=\"background-color:rgba(255, 0, 0, 0.050559982295978995);\"> to</span><span title=\"0.10572314605416819\" style=\"background-color:rgba(255, 0, 0, 0.10572314605416819);\"> positions</span><span title=\"0.07529413792441719\" style=\"background-color:rgba(255, 0, 0, 0.07529413792441719);\"> of</span><span title=\"0.11008164425238534\" style=\"background-color:rgba(255, 0, 0, 0.11008164425238534);\"> prominence</span><span title=\"0.06468963323957687\" style=\"background-color:rgba(255, 0, 0, 0.06468963323957687);\"> in</span><span title=\"0.20650962092513603\" style=\"background-color:rgba(255, 0, 0, 0.20650962092513603);\"> Prussia</span><span title=\"0.020379105689042068\" style=\"background-color:rgba(255, 0, 0, 0.020379105689042068);\"> .</span>"
            ],
            "text/plain": [
              "<IPython.core.display.HTML object>"
            ]
          },
          "metadata": {
            "tags": []
          }
        },
        {
          "output_type": "stream",
          "text": [
            "\n"
          ],
          "name": "stdout"
        },
        {
          "output_type": "display_data",
          "data": {
            "text/html": [
              "<span title=\"0.1596722213581622\" style=\"background-color:rgba(255, 0, 0, 0.1596722213581622);\"> Early</span><span title=\"0.13921366213666383\" style=\"background-color:rgba(255, 0, 0, 0.13921366213666383);\"> versions</span><span title=\"0.025174886396764674\" style=\"background-color:rgba(255, 0, 0, 0.025174886396764674);\"> were</span><span title=\"0.025869681940301054\" style=\"background-color:rgba(255, 0, 0, 0.025869681940301054);\"> in</span><span title=\"0.07035308110238941\" style=\"background-color:rgba(255, 0, 0, 0.07035308110238941);\"> use</span><span title=\"0.01921822198134822\" style=\"background-color:rgba(255, 0, 0, 0.01921822198134822);\"> by</span><span title=\"0.5393222296368917\" style=\"background-color:rgba(255, 0, 0, 0.5393222296368917);text-decoration: underline\"> 1851</span><span title=\"0.01585333415149204\" style=\"background-color:rgba(255, 0, 0, 0.01585333415149204);\"> ,</span><span title=\"0.01463104612815128\" style=\"background-color:rgba(255, 0, 0, 0.01463104612815128);\"> but</span><span title=\"0.04136146053335708\" style=\"background-color:rgba(255, 0, 0, 0.04136146053335708);\"> the</span><span title=\"0.04999101600288028\" style=\"background-color:rgba(255, 0, 0, 0.04999101600288028);\"> most</span><span title=\"0.0648038321223859\" style=\"background-color:rgba(255, 0, 0, 0.0648038321223859);\"> successful</span><span title=\"0.059415415934286016\" style=\"background-color:rgba(255, 0, 0, 0.059415415934286016);\"> indicator</span><span title=\"0.029035167538497976\" style=\"background-color:rgba(255, 0, 0, 0.029035167538497976);\"> was</span><span title=\"0.043867941707619484\" style=\"background-color:rgba(255, 0, 0, 0.043867941707619484);\"> developed</span><span title=\"0.05094788669260296\" style=\"background-color:rgba(255, 0, 0, 0.05094788669260296);\"> for</span><span title=\"0.10204571880179458\" style=\"background-color:rgba(255, 0, 0, 0.10204571880179458);\"> the</span><span title=\"0.18753142689456195\" style=\"background-color:rgba(255, 0, 0, 0.18753142689456195);\"> high</span><span title=\"0.21371867667400796\" style=\"background-color:rgba(255, 0, 0, 0.21371867667400796);\"> speed</span><span title=\"0.23254944893504653\" style=\"background-color:rgba(255, 0, 0, 0.23254944893504653);\"> engine</span><span title=\"0.22165058610896138\" style=\"background-color:rgba(255, 0, 0, 0.22165058610896138);\"> inventor</span><span title=\"0.15598693644194622\" style=\"background-color:rgba(255, 0, 0, 0.15598693644194622);\"> and</span><span title=\"0.16980170237323366\" style=\"background-color:rgba(255, 0, 0, 0.16980170237323366);\"> manufacturer</span><span title=\"0.2567793719943351\" style=\"background-color:rgba(255, 0, 0, 0.2567793719943351);text-decoration: underline\"> Charles</span><span title=\"0.22828210345102193\" style=\"background-color:rgba(255, 0, 0, 0.22828210345102193);text-decoration: underline\"> Porter</span><span title=\"0.06708170646173403\" style=\"background-color:rgba(255, 0, 0, 0.06708170646173403);\"> by</span><span title=\"0.5524197655888108\" style=\"background-color:rgba(255, 0, 0, 0.5524197655888108);text-decoration: underline\"> Charles</span><span title=\"0.4810496691882044\" style=\"background-color:rgba(255, 0, 0, 0.4810496691882044);text-decoration: underline\"> Richard</span><span title=\"0.17806652107790366\" style=\"background-color:rgba(255, 0, 0, 0.17806652107790366);\"> and</span><span title=\"0.15218369152286526\" style=\"background-color:rgba(255, 0, 0, 0.15218369152286526);\"> exhibited</span><span title=\"0.128793613362939\" style=\"background-color:rgba(255, 0, 0, 0.128793613362939);\"> at</span><span title=\"0.34199454418857356\" style=\"background-color:rgba(255, 0, 0, 0.34199454418857356);text-decoration: underline\"> London</span><span title=\"0.3138311164668528\" style=\"background-color:rgba(255, 0, 0, 0.3138311164668528);text-decoration: underline\"> Exhibition</span><span title=\"0.06889008906774696\" style=\"background-color:rgba(255, 0, 0, 0.06889008906774696);\"> in</span><span title=\"0.49535292333974756\" style=\"background-color:rgba(255, 0, 0, 0.49535292333974756);\"> 1862</span><span title=\"0.026889305771496244\" style=\"background-color:rgba(255, 0, 0, 0.026889305771496244);\"> .</span>"
            ],
            "text/plain": [
              "<IPython.core.display.HTML object>"
            ]
          },
          "metadata": {
            "tags": []
          }
        },
        {
          "output_type": "stream",
          "text": [
            "\n"
          ],
          "name": "stdout"
        },
        {
          "output_type": "display_data",
          "data": {
            "text/html": [
              "<span title=\"0.03915495099591664\" style=\"background-color:rgba(255, 0, 0, 0.03915495099591664);text-decoration: underline\"> Who</span><span title=\"0.02306458584041822\" style=\"background-color:rgba(255, 0, 0, 0.02306458584041822);text-decoration: underline\"> Can</span><span title=\"0.02473991173914597\" style=\"background-color:rgba(255, 0, 0, 0.02473991173914597);\"> in</span><span title=\"0.5303637815388738\" style=\"background-color:rgba(255, 0, 0, 0.5303637815388738);\"> 1808</span><span title=\"0.030103477135405173\" style=\"background-color:rgba(255, 0, 0, 0.030103477135405173);\"> .</span>"
            ],
            "text/plain": [
              "<IPython.core.display.HTML object>"
            ]
          },
          "metadata": {
            "tags": []
          }
        },
        {
          "output_type": "stream",
          "text": [
            "\n"
          ],
          "name": "stdout"
        },
        {
          "output_type": "display_data",
          "data": {
            "text/html": [
              "<span title=\"0.03228067222722093\" style=\"background-color:rgba(255, 0, 0, 0.03228067222722093);\"> It</span><span title=\"0.012780982131196645\" style=\"background-color:rgba(255, 0, 0, 0.012780982131196645);\"> is</span><span title=\"0.020159186481175928\" style=\"background-color:rgba(255, 0, 0, 0.020159186481175928);\"> named</span><span title=\"0.059545899472056726\" style=\"background-color:rgba(255, 0, 0, 0.059545899472056726);\"> after</span><span title=\"0.7396977471988235\" style=\"background-color:rgba(255, 0, 0, 0.7396977471988235);\"> William</span><span title=\"0.7344789196215876\" style=\"background-color:rgba(255, 0, 0, 0.7344789196215876);\"> John</span><span title=\"0.7244715095667636\" style=\"background-color:rgba(255, 0, 0, 0.7244715095667636);\"> Macquorn</span><span title=\"0.6936034143305461\" style=\"background-color:rgba(255, 0, 0, 0.6936034143305461);\"> Rankine</span><span title=\"0.19827502734315205\" style=\"background-color:rgba(255, 0, 0, 0.19827502734315205);\"> ,</span><span title=\"0.2020156985691458\" style=\"background-color:rgba(255, 0, 0, 0.2020156985691458);\"> a</span><span title=\"0.3120435930506679\" style=\"background-color:rgba(255, 0, 0, 0.3120435930506679);text-decoration: underline\"> Scottish</span><span title=\"0.2848824424422497\" style=\"background-color:rgba(255, 0, 0, 0.2848824424422497);\"> polymath</span><span title=\"0.0773191664911656\" style=\"background-color:rgba(255, 0, 0, 0.0773191664911656);\"> .</span>"
            ],
            "text/plain": [
              "<IPython.core.display.HTML object>"
            ]
          },
          "metadata": {
            "tags": []
          }
        },
        {
          "output_type": "stream",
          "text": [
            "\n"
          ],
          "name": "stdout"
        },
        {
          "output_type": "display_data",
          "data": {
            "text/html": [
              "<span title=\"0.1861585514729699\" style=\"background-color:rgba(255, 0, 0, 0.1861585514729699);\"> Watt</span><span title=\"0.1365898968963528\" style=\"background-color:rgba(255, 0, 0, 0.1365898968963528);\"> 's</span><span title=\"0.1528083221414842\" style=\"background-color:rgba(255, 0, 0, 0.1528083221414842);\"> original</span><span title=\"0.16160055468627418\" style=\"background-color:rgba(255, 0, 0, 0.16160055468627418);\"> low</span><span title=\"0.14657248248882512\" style=\"background-color:rgba(255, 0, 0, 0.14657248248882512);\"> -</span><span title=\"0.16798649338666707\" style=\"background-color:rgba(255, 0, 0, 0.16798649338666707);\"> pressure</span><span title=\"0.15674395826295162\" style=\"background-color:rgba(255, 0, 0, 0.15674395826295162);\"> designs</span><span title=\"0.042116452734038565\" style=\"background-color:rgba(255, 0, 0, 0.042116452734038565);\"> were</span><span title=\"0.07870640329056854\" style=\"background-color:rgba(255, 0, 0, 0.07870640329056854);\"> able</span><span title=\"0.07303954018100108\" style=\"background-color:rgba(255, 0, 0, 0.07303954018100108);\"> to</span><span title=\"0.09695473590212668\" style=\"background-color:rgba(255, 0, 0, 0.09695473590212668);\"> deliver</span><span title=\"0.13210978259175807\" style=\"background-color:rgba(255, 0, 0, 0.13210978259175807);\"> duty</span><span title=\"0.09035373577812\" style=\"background-color:rgba(255, 0, 0, 0.09035373577812);\"> as</span><span title=\"0.11351856713501181\" style=\"background-color:rgba(255, 0, 0, 0.11351856713501181);\"> high</span><span title=\"0.09602979253021278\" style=\"background-color:rgba(255, 0, 0, 0.09602979253021278);\"> as</span><span title=\"0.7111398230761211\" style=\"background-color:rgba(255, 0, 0, 0.7111398230761211);\"> 25</span><span title=\"0.6818998059770406\" style=\"background-color:rgba(255, 0, 0, 0.6818998059770406);\"> million</span><span title=\"0.02123642246884688\" style=\"background-color:rgba(255, 0, 0, 0.02123642246884688);\"> ,</span><span title=\"0.01578547035648335\" style=\"background-color:rgba(255, 0, 0, 0.01578547035648335);\"> but</span><span title=\"0.02174246656000648\" style=\"background-color:rgba(255, 0, 0, 0.02174246656000648);\"> averaged</span><span title=\"0.06742694910093991\" style=\"background-color:rgba(255, 0, 0, 0.06742694910093991);\"> about</span><span title=\"0.5584563676265909\" style=\"background-color:rgba(255, 0, 0, 0.5584563676265909);text-decoration: underline\"> 17</span><span title=\"0.024945724130777454\" style=\"background-color:rgba(255, 0, 0, 0.024945724130777454);text-decoration: underline\"> .</span>"
            ],
            "text/plain": [
              "<IPython.core.display.HTML object>"
            ]
          },
          "metadata": {
            "tags": []
          }
        },
        {
          "output_type": "stream",
          "text": [
            "\n"
          ],
          "name": "stdout"
        },
        {
          "output_type": "display_data",
          "data": {
            "text/html": [
              "<span title=\"0.25201291285523253\" style=\"background-color:rgba(255, 0, 0, 0.25201291285523253);\"> Early</span><span title=\"0.27053913573419164\" style=\"background-color:rgba(255, 0, 0, 0.27053913573419164);\"> Watt</span><span title=\"0.23415932075652854\" style=\"background-color:rgba(255, 0, 0, 0.23415932075652854);\"> engines</span><span title=\"0.11788799803008802\" style=\"background-color:rgba(255, 0, 0, 0.11788799803008802);\"> equipped</span><span title=\"0.10419096273839377\" style=\"background-color:rgba(255, 0, 0, 0.10419096273839377);\"> with</span><span title=\"0.20690979658543607\" style=\"background-color:rgba(255, 0, 0, 0.20690979658543607);\"> high</span><span title=\"0.17243906418053173\" style=\"background-color:rgba(255, 0, 0, 0.17243906418053173);\"> -</span><span title=\"0.18375171497455997\" style=\"background-color:rgba(255, 0, 0, 0.18375171497455997);\"> pressure</span><span title=\"0.16302397475696465\" style=\"background-color:rgba(255, 0, 0, 0.16302397475696465);\"> steam</span><span title=\"0.03740749790982341\" style=\"background-color:rgba(255, 0, 0, 0.03740749790982341);\"> improved</span><span title=\"0.04130376187085561\" style=\"background-color:rgba(255, 0, 0, 0.04130376187085561);\"> this</span><span title=\"0.046749284714805266\" style=\"background-color:rgba(255, 0, 0, 0.046749284714805266);\"> to</span><span title=\"0.7911395091325627\" style=\"background-color:rgba(255, 0, 0, 0.7911395091325627);\"> 65</span><span title=\"0.7600804016451607\" style=\"background-color:rgba(255, 0, 0, 0.7600804016451607);\"> million</span><span title=\"0.0372631958730722\" style=\"background-color:rgba(255, 0, 0, 0.0372631958730722);\"> .</span>"
            ],
            "text/plain": [
              "<IPython.core.display.HTML object>"
            ]
          },
          "metadata": {
            "tags": []
          }
        },
        {
          "output_type": "stream",
          "text": [
            "\n"
          ],
          "name": "stdout"
        },
        {
          "output_type": "display_data",
          "data": {
            "text/html": [
              "<span title=\"0.0425315977327248\" style=\"background-color:rgba(255, 0, 0, 0.0425315977327248);\"> The</span><span title=\"0.05919919875949036\" style=\"background-color:rgba(255, 0, 0, 0.05919919875949036);\"> first</span><span title=\"0.06523585959990895\" style=\"background-color:rgba(255, 0, 0, 0.06523585959990895);\"> commercial</span><span title=\"0.08527388831692888\" style=\"background-color:rgba(255, 0, 0, 0.08527388831692888);\"> steam</span><span title=\"0.06347027265673216\" style=\"background-color:rgba(255, 0, 0, 0.06347027265673216);\"> -</span><span title=\"0.06817695266427856\" style=\"background-color:rgba(255, 0, 0, 0.06817695266427856);\"> powered</span><span title=\"0.0849702712126212\" style=\"background-color:rgba(255, 0, 0, 0.0849702712126212);\"> device</span><span title=\"0.03998767478742736\" style=\"background-color:rgba(255, 0, 0, 0.03998767478742736);\"> was</span><span title=\"0.18348244687970994\" style=\"background-color:rgba(255, 0, 0, 0.18348244687970994);\"> a</span><span title=\"0.2846037958593088\" style=\"background-color:rgba(255, 0, 0, 0.2846037958593088);text-decoration: underline\"> water</span><span title=\"0.2664451043419329\" style=\"background-color:rgba(255, 0, 0, 0.2664451043419329);text-decoration: underline\"> pump</span><span title=\"0.09505317158141806\" style=\"background-color:rgba(255, 0, 0, 0.09505317158141806);\"> ,</span><span title=\"0.08468073320072636\" style=\"background-color:rgba(255, 0, 0, 0.08468073320072636);\"> developed</span><span title=\"0.0666472872535102\" style=\"background-color:rgba(255, 0, 0, 0.0666472872535102);\"> in</span><span title=\"0.34242434757671547\" style=\"background-color:rgba(255, 0, 0, 0.34242434757671547);text-decoration: underline\"> 1698</span><span title=\"0.09506078119341643\" style=\"background-color:rgba(255, 0, 0, 0.09506078119341643);\"> by</span><span title=\"0.6298581963719256\" style=\"background-color:rgba(255, 0, 0, 0.6298581963719256);text-decoration: underline\"> Thomas</span><span title=\"0.6106271813595826\" style=\"background-color:rgba(255, 0, 0, 0.6106271813595826);text-decoration: underline\"> Savery</span><span title=\"0.06691896167437278\" style=\"background-color:rgba(255, 0, 0, 0.06691896167437278);text-decoration: underline\"> .</span>"
            ],
            "text/plain": [
              "<IPython.core.display.HTML object>"
            ]
          },
          "metadata": {
            "tags": []
          }
        },
        {
          "output_type": "stream",
          "text": [
            "\n"
          ],
          "name": "stdout"
        },
        {
          "output_type": "display_data",
          "data": {
            "text/html": [
              "<span title=\"0.2831755830239836\" style=\"background-color:rgba(255, 0, 0, 0.2831755830239836);\"> Gas</span><span title=\"0.25365692451372707\" style=\"background-color:rgba(255, 0, 0, 0.25365692451372707);\"> turbines</span><span title=\"0.057166446727121005\" style=\"background-color:rgba(255, 0, 0, 0.057166446727121005);\"> ,</span><span title=\"0.048455487467666924\" style=\"background-color:rgba(255, 0, 0, 0.048455487467666924);\"> for</span><span title=\"0.10461192677099905\" style=\"background-color:rgba(255, 0, 0, 0.10461192677099905);\"> instance</span><span title=\"0.021423318797747833\" style=\"background-color:rgba(255, 0, 0, 0.021423318797747833);\"> ,</span><span title=\"0.02935595856464687\" style=\"background-color:rgba(255, 0, 0, 0.02935595856464687);\"> have</span><span title=\"0.24321187889881485\" style=\"background-color:rgba(255, 0, 0, 0.24321187889881485);\"> turbine</span><span title=\"0.25784655549807267\" style=\"background-color:rgba(255, 0, 0, 0.25784655549807267);\"> entry</span><span title=\"0.23757124886040115\" style=\"background-color:rgba(255, 0, 0, 0.23757124886040115);\"> temperatures</span><span title=\"0.2002621235564738\" style=\"background-color:rgba(255, 0, 0, 0.2002621235564738);\"> approaching</span><span title=\"0.6881936593245129\" style=\"background-color:rgba(255, 0, 0, 0.6881936593245129);text-decoration: underline\"> 1500</span><span title=\"0.6021222203550217\" style=\"background-color:rgba(255, 0, 0, 0.6021222203550217);text-decoration: underline\"> °</span><span title=\"0.5745844873073724\" style=\"background-color:rgba(255, 0, 0, 0.5745844873073724);text-decoration: underline\"> C</span><span title=\"0.07809966646984146\" style=\"background-color:rgba(255, 0, 0, 0.07809966646984146);\"> .</span>"
            ],
            "text/plain": [
              "<IPython.core.display.HTML object>"
            ]
          },
          "metadata": {
            "tags": []
          }
        },
        {
          "output_type": "stream",
          "text": [
            "\n"
          ],
          "name": "stdout"
        },
        {
          "output_type": "display_data",
          "data": {
            "text/html": [
              "<span title=\"0.13815455359974038\" style=\"background-color:rgba(255, 0, 0, 0.13815455359974038);text-decoration: underline\"> Priestley</span><span title=\"0.013937556267251433\" style=\"background-color:rgba(255, 0, 0, 0.013937556267251433);\"> published</span><span title=\"0.032745290455054164\" style=\"background-color:rgba(255, 0, 0, 0.032745290455054164);\"> his</span><span title=\"0.04930326222094659\" style=\"background-color:rgba(255, 0, 0, 0.04930326222094659);\"> findings</span><span title=\"0.012058658945889675\" style=\"background-color:rgba(255, 0, 0, 0.012058658945889675);\"> in</span><span title=\"0.4596959757669635\" style=\"background-color:rgba(255, 0, 0, 0.4596959757669635);text-decoration: underline\"> 1775</span><span title=\"0.0446461324971467\" style=\"background-color:rgba(255, 0, 0, 0.0446461324971467);\"> in</span><span title=\"0.16680377986372924\" style=\"background-color:rgba(255, 0, 0, 0.16680377986372924);\"> a</span><span title=\"0.19648183843499034\" style=\"background-color:rgba(255, 0, 0, 0.19648183843499034);\"> paper</span><span title=\"0.1730645805184337\" style=\"background-color:rgba(255, 0, 0, 0.1730645805184337);\"> titled</span><span title=\"0.34908216618370735\" style=\"background-color:rgba(255, 0, 0, 0.34908216618370735);text-decoration: underline\"> \"</span><span title=\"0.5627020384227082\" style=\"background-color:rgba(255, 0, 0, 0.5627020384227082);text-decoration: underline\"> An</span><span title=\"0.5952707171551832\" style=\"background-color:rgba(255, 0, 0, 0.5952707171551832);text-decoration: underline\"> Account</span><span title=\"0.5577410917608169\" style=\"background-color:rgba(255, 0, 0, 0.5577410917608169);text-decoration: underline\"> of</span><span title=\"0.5894765193800104\" style=\"background-color:rgba(255, 0, 0, 0.5894765193800104);text-decoration: underline\"> Further</span><span title=\"0.5786574152402851\" style=\"background-color:rgba(255, 0, 0, 0.5786574152402851);text-decoration: underline\"> Discoveries</span><span title=\"0.4609307419503886\" style=\"background-color:rgba(255, 0, 0, 0.4609307419503886);text-decoration: underline\"> in</span><span title=\"0.4745532955216764\" style=\"background-color:rgba(255, 0, 0, 0.4745532955216764);text-decoration: underline\"> Air</span><span title=\"0.19856473062565297\" style=\"background-color:rgba(255, 0, 0, 0.19856473062565297);text-decoration: underline\"> \"</span><span title=\"0.0905142326301828\" style=\"background-color:rgba(255, 0, 0, 0.0905142326301828);\"> which</span><span title=\"0.07055539339127244\" style=\"background-color:rgba(255, 0, 0, 0.07055539339127244);\"> was</span><span title=\"0.08201047963567396\" style=\"background-color:rgba(255, 0, 0, 0.08201047963567396);\"> included</span><span title=\"0.08299670069443041\" style=\"background-color:rgba(255, 0, 0, 0.08299670069443041);\"> in</span><span title=\"0.13016155459072723\" style=\"background-color:rgba(255, 0, 0, 0.13016155459072723);\"> the</span><span title=\"0.20262805136745177\" style=\"background-color:rgba(255, 0, 0, 0.20262805136745177);\"> second</span><span title=\"0.196106761025556\" style=\"background-color:rgba(255, 0, 0, 0.196106761025556);\"> volume</span><span title=\"0.1584836053096804\" style=\"background-color:rgba(255, 0, 0, 0.1584836053096804);\"> of</span><span title=\"0.21847827808739437\" style=\"background-color:rgba(255, 0, 0, 0.21847827808739437);\"> his</span><span title=\"0.2514644088562117\" style=\"background-color:rgba(255, 0, 0, 0.2514644088562117);\"> book</span><span title=\"0.26354951120000336\" style=\"background-color:rgba(255, 0, 0, 0.26354951120000336);\"> titled</span><span title=\"0.7108361481923016\" style=\"background-color:rgba(255, 0, 0, 0.7108361481923016);\"> Experiments</span><span title=\"0.6968656578073883\" style=\"background-color:rgba(255, 0, 0, 0.6968656578073883);\"> and</span><span title=\"0.7152944794165149\" style=\"background-color:rgba(255, 0, 0, 0.7152944794165149);\"> Observations</span><span title=\"0.6602356955162236\" style=\"background-color:rgba(255, 0, 0, 0.6602356955162236);\"> on</span><span title=\"0.7012103327353185\" style=\"background-color:rgba(255, 0, 0, 0.7012103327353185);\"> Different</span><span title=\"0.6887914632011045\" style=\"background-color:rgba(255, 0, 0, 0.6887914632011045);\"> Kinds</span><span title=\"0.6308548479058229\" style=\"background-color:rgba(255, 0, 0, 0.6308548479058229);\"> of</span><span title=\"0.6391045056852778\" style=\"background-color:rgba(255, 0, 0, 0.6391045056852778);\"> Air</span><span title=\"0.07767697105189994\" style=\"background-color:rgba(255, 0, 0, 0.07767697105189994);\"> .</span>"
            ],
            "text/plain": [
              "<IPython.core.display.HTML object>"
            ]
          },
          "metadata": {
            "tags": []
          }
        },
        {
          "output_type": "stream",
          "text": [
            "\n"
          ],
          "name": "stdout"
        },
        {
          "output_type": "display_data",
          "data": {
            "text/html": [
              "<span title=\"0.09512670277220604\" style=\"background-color:rgba(255, 0, 0, 0.09512670277220604);\"> Oxygen</span><span title=\"0.014759306458104225\" style=\"background-color:rgba(255, 0, 0, 0.014759306458104225);\"> was</span><span title=\"0.02052010476492612\" style=\"background-color:rgba(255, 0, 0, 0.02052010476492612);\"> discovered</span><span title=\"0.03265427931271902\" style=\"background-color:rgba(255, 0, 0, 0.03265427931271902);\"> independently</span><span title=\"0.05285992478821648\" style=\"background-color:rgba(255, 0, 0, 0.05285992478821648);\"> by</span><span title=\"0.7079751589998509\" style=\"background-color:rgba(255, 0, 0, 0.7079751589998509);\"> Carl</span><span title=\"0.6859202181827392\" style=\"background-color:rgba(255, 0, 0, 0.6859202181827392);\"> Wilhelm</span><span title=\"0.6535187877879022\" style=\"background-color:rgba(255, 0, 0, 0.6535187877879022);\"> Scheele</span><span title=\"0.08695785973636853\" style=\"background-color:rgba(255, 0, 0, 0.08695785973636853);\"> ,</span><span title=\"0.06907751064992772\" style=\"background-color:rgba(255, 0, 0, 0.06907751064992772);\"> in</span><span title=\"0.2971789278668079\" style=\"background-color:rgba(255, 0, 0, 0.2971789278668079);\"> Uppsala</span><span title=\"0.03323156817269271\" style=\"background-color:rgba(255, 0, 0, 0.03323156817269271);\"> ,</span><span title=\"0.03289322104626042\" style=\"background-color:rgba(255, 0, 0, 0.03289322104626042);\"> in</span><span title=\"0.4752347298420537\" style=\"background-color:rgba(255, 0, 0, 0.4752347298420537);text-decoration: underline\"> 1773</span><span title=\"0.17510736670908292\" style=\"background-color:rgba(255, 0, 0, 0.17510736670908292);text-decoration: underline\"> or</span><span title=\"0.17643688257417667\" style=\"background-color:rgba(255, 0, 0, 0.17643688257417667);text-decoration: underline\"> earlier</span><span title=\"0.07145800287539683\" style=\"background-color:rgba(255, 0, 0, 0.07145800287539683);\"> ,</span><span title=\"0.06151916637771579\" style=\"background-color:rgba(255, 0, 0, 0.06151916637771579);\"> and</span><span title=\"0.2744951324843483\" style=\"background-color:rgba(255, 0, 0, 0.2744951324843483);\"> Joseph</span><span title=\"0.24493178980315725\" style=\"background-color:rgba(255, 0, 0, 0.24493178980315725);\"> Priestley</span><span title=\"0.09475885820709944\" style=\"background-color:rgba(255, 0, 0, 0.09475885820709944);\"> in</span><span title=\"0.24466028545271634\" style=\"background-color:rgba(255, 0, 0, 0.24466028545271634);\"> Wiltshire</span><span title=\"0.03134542288124855\" style=\"background-color:rgba(255, 0, 0, 0.03134542288124855);\"> ,</span><span title=\"0.02693009283735895\" style=\"background-color:rgba(255, 0, 0, 0.02693009283735895);\"> in</span><span title=\"0.47505223665106494\" style=\"background-color:rgba(255, 0, 0, 0.47505223665106494);text-decoration: underline\"> 1774</span><span title=\"0.01605757218378942\" style=\"background-color:rgba(255, 0, 0, 0.01605757218378942);\"> ,</span><span title=\"0.014785706304882925\" style=\"background-color:rgba(255, 0, 0, 0.014785706304882925);\"> but</span><span title=\"0.18485970661685802\" style=\"background-color:rgba(255, 0, 0, 0.18485970661685802);\"> Priestley</span><span title=\"0.03181889364351087\" style=\"background-color:rgba(255, 0, 0, 0.03181889364351087);\"> is</span><span title=\"0.03215324930103091\" style=\"background-color:rgba(255, 0, 0, 0.03215324930103091);\"> often</span><span title=\"0.033628902946178596\" style=\"background-color:rgba(255, 0, 0, 0.033628902946178596);\"> given</span><span title=\"0.043420390491028825\" style=\"background-color:rgba(255, 0, 0, 0.043420390491028825);\"> priority</span><span title=\"0.018832098070923217\" style=\"background-color:rgba(255, 0, 0, 0.018832098070923217);\"> because</span><span title=\"0.036200614451160795\" style=\"background-color:rgba(255, 0, 0, 0.036200614451160795);text-decoration: underline\"> his</span><span title=\"0.03882589127763057\" style=\"background-color:rgba(255, 0, 0, 0.03882589127763057);text-decoration: underline\"> work</span><span title=\"0.0182587982413583\" style=\"background-color:rgba(255, 0, 0, 0.0182587982413583);text-decoration: underline\"> was</span><span title=\"0.026254790637512408\" style=\"background-color:rgba(255, 0, 0, 0.026254790637512408);text-decoration: underline\"> published</span><span title=\"0.03596560331279387\" style=\"background-color:rgba(255, 0, 0, 0.03596560331279387);text-decoration: underline\"> first</span><span title=\"0.018560226165849906\" style=\"background-color:rgba(255, 0, 0, 0.018560226165849906);\"> .</span>"
            ],
            "text/plain": [
              "<IPython.core.display.HTML object>"
            ]
          },
          "metadata": {
            "tags": []
          }
        },
        {
          "output_type": "stream",
          "text": [
            "\n"
          ],
          "name": "stdout"
        },
        {
          "output_type": "display_data",
          "data": {
            "text/html": [
              "<span title=\"0.06324592921096538\" style=\"background-color:rgba(255, 0, 0, 0.06324592921096538);\"> The</span><span title=\"0.07357704628373504\" style=\"background-color:rgba(255, 0, 0, 0.07357704628373504);\"> name</span><span title=\"0.0773240672750909\" style=\"background-color:rgba(255, 0, 0, 0.0773240672750909);\"> oxygen</span><span title=\"0.016485664472126908\" style=\"background-color:rgba(255, 0, 0, 0.016485664472126908);\"> was</span><span title=\"0.022551682423484907\" style=\"background-color:rgba(255, 0, 0, 0.022551682423484907);\"> coined</span><span title=\"0.022661943583157956\" style=\"background-color:rgba(255, 0, 0, 0.022661943583157956);\"> in</span><span title=\"0.37183768031847375\" style=\"background-color:rgba(255, 0, 0, 0.37183768031847375);\"> 1777</span><span title=\"0.056243746421009856\" style=\"background-color:rgba(255, 0, 0, 0.056243746421009856);\"> by</span><span title=\"0.6667357057583944\" style=\"background-color:rgba(255, 0, 0, 0.6667357057583944);text-decoration: underline\"> Antoine</span><span title=\"0.6255419089143195\" style=\"background-color:rgba(255, 0, 0, 0.6255419089143195);text-decoration: underline\"> Lavoisier</span><span title=\"0.12210472690152152\" style=\"background-color:rgba(255, 0, 0, 0.12210472690152152);\"> ,</span><span title=\"0.11982467803485139\" style=\"background-color:rgba(255, 0, 0, 0.11982467803485139);\"> whose</span><span title=\"0.13398007730153108\" style=\"background-color:rgba(255, 0, 0, 0.13398007730153108);\"> experiments</span><span title=\"0.09088887148060376\" style=\"background-color:rgba(255, 0, 0, 0.09088887148060376);\"> with</span><span title=\"0.11808774289829516\" style=\"background-color:rgba(255, 0, 0, 0.11808774289829516);\"> oxygen</span><span title=\"0.07139701904902378\" style=\"background-color:rgba(255, 0, 0, 0.07139701904902378);\"> helped</span><span title=\"0.08635605375286809\" style=\"background-color:rgba(255, 0, 0, 0.08635605375286809);\"> to</span><span title=\"0.11785018106457104\" style=\"background-color:rgba(255, 0, 0, 0.11785018106457104);\"> discredit</span><span title=\"0.1519840941392817\" style=\"background-color:rgba(255, 0, 0, 0.1519840941392817);\"> the</span><span title=\"0.18365309730148566\" style=\"background-color:rgba(255, 0, 0, 0.18365309730148566);\"> then</span><span title=\"0.19993070694075096\" style=\"background-color:rgba(255, 0, 0, 0.19993070694075096);\"> -</span><span title=\"0.2494724854226673\" style=\"background-color:rgba(255, 0, 0, 0.2494724854226673);\"> popular</span><span title=\"0.2887089856474158\" style=\"background-color:rgba(255, 0, 0, 0.2887089856474158);text-decoration: underline\"> phlogiston</span><span title=\"0.29373521269559555\" style=\"background-color:rgba(255, 0, 0, 0.29373521269559555);text-decoration: underline\"> theory</span><span title=\"0.2725746004131835\" style=\"background-color:rgba(255, 0, 0, 0.2725746004131835);text-decoration: underline\"> of</span><span title=\"0.32342141164136984\" style=\"background-color:rgba(255, 0, 0, 0.32342141164136984);text-decoration: underline\"> combustion</span><span title=\"0.2701945968310166\" style=\"background-color:rgba(255, 0, 0, 0.2701945968310166);text-decoration: underline\"> and</span><span title=\"0.2793595610577955\" style=\"background-color:rgba(255, 0, 0, 0.2793595610577955);text-decoration: underline\"> corrosion</span><span title=\"0.06526658365424044\" style=\"background-color:rgba(255, 0, 0, 0.06526658365424044);\"> .</span>"
            ],
            "text/plain": [
              "<IPython.core.display.HTML object>"
            ]
          },
          "metadata": {
            "tags": []
          }
        },
        {
          "output_type": "stream",
          "text": [
            "\n"
          ],
          "name": "stdout"
        },
        {
          "output_type": "display_data",
          "data": {
            "text/html": [
              "<span title=\"0.049180521487369525\" style=\"background-color:rgba(255, 0, 0, 0.049180521487369525);\"> Later</span><span title=\"0.015844524807899028\" style=\"background-color:rgba(255, 0, 0, 0.015844524807899028);\"> ,</span><span title=\"0.021921313592717137\" style=\"background-color:rgba(255, 0, 0, 0.021921313592717137);\"> in</span><span title=\"0.5377992493916349\" style=\"background-color:rgba(255, 0, 0, 0.5377992493916349);\"> 1901</span><span title=\"0.02531272807681605\" style=\"background-color:rgba(255, 0, 0, 0.02531272807681605);\"> ,</span><span title=\"0.1463037639832947\" style=\"background-color:rgba(255, 0, 0, 0.1463037639832947);text-decoration: underline\"> oxyacetylene</span><span title=\"0.13693125696801506\" style=\"background-color:rgba(255, 0, 0, 0.13693125696801506);text-decoration: underline\"> welding</span><span title=\"0.03762549081924868\" style=\"background-color:rgba(255, 0, 0, 0.03762549081924868);\"> was</span><span title=\"0.03918314875201842\" style=\"background-color:rgba(255, 0, 0, 0.03918314875201842);\"> demonstrated</span><span title=\"0.03571474920880631\" style=\"background-color:rgba(255, 0, 0, 0.03571474920880631);\"> for</span><span title=\"0.058808684964992\" style=\"background-color:rgba(255, 0, 0, 0.058808684964992);\"> the</span><span title=\"0.08972535551544034\" style=\"background-color:rgba(255, 0, 0, 0.08972535551544034);\"> first</span><span title=\"0.09008667033778862\" style=\"background-color:rgba(255, 0, 0, 0.09008667033778862);\"> time</span><span title=\"0.06809169047062177\" style=\"background-color:rgba(255, 0, 0, 0.06809169047062177);\"> by</span><span title=\"0.18448483444548966\" style=\"background-color:rgba(255, 0, 0, 0.18448483444548966);\"> burning</span><span title=\"0.24991318052526487\" style=\"background-color:rgba(255, 0, 0, 0.24991318052526487);\"> a</span><span title=\"0.3043297144185747\" style=\"background-color:rgba(255, 0, 0, 0.3043297144185747);\"> mixture</span><span title=\"0.2685503790409156\" style=\"background-color:rgba(255, 0, 0, 0.2685503790409156);\"> of</span><span title=\"0.32748281328152884\" style=\"background-color:rgba(255, 0, 0, 0.32748281328152884);\"> acetylene</span><span title=\"0.27402422932086345\" style=\"background-color:rgba(255, 0, 0, 0.27402422932086345);\"> and</span><span title=\"0.29090827380879025\" style=\"background-color:rgba(255, 0, 0, 0.29090827380879025);\"> compressed</span><span title=\"0.2972755455200254\" style=\"background-color:rgba(255, 0, 0, 0.2972755455200254);\"> O</span><span title=\"0.2604925277839716\" style=\"background-color:rgba(255, 0, 0, 0.2604925277839716);\"> <<LINEBREAK>></span><span title=\"0.2942723931371463\" style=\"background-color:rgba(255, 0, 0, 0.2942723931371463);\"> 2</span><span title=\"0.051237230105303344\" style=\"background-color:rgba(255, 0, 0, 0.051237230105303344);\"> .</span>"
            ],
            "text/plain": [
              "<IPython.core.display.HTML object>"
            ]
          },
          "metadata": {
            "tags": []
          }
        },
        {
          "output_type": "stream",
          "text": [
            "\n"
          ],
          "name": "stdout"
        },
        {
          "output_type": "display_data",
          "data": {
            "text/html": [
              "<span title=\"0.06892030933571862\" style=\"background-color:rgba(255, 0, 0, 0.06892030933571862);text-decoration: underline\"> Oxygen</span><span title=\"0.03472117847398207\" style=\"background-color:rgba(255, 0, 0, 0.03472117847398207);\"> condenses</span><span title=\"0.04431123214630618\" style=\"background-color:rgba(255, 0, 0, 0.04431123214630618);\"> at</span><span title=\"0.41726159983182215\" style=\"background-color:rgba(255, 0, 0, 0.41726159983182215);text-decoration: underline\"> 90.20</span><span title=\"0.3321456627633086\" style=\"background-color:rgba(255, 0, 0, 0.3321456627633086);text-decoration: underline\"> K</span><span title=\"0.06705852227242368\" style=\"background-color:rgba(255, 0, 0, 0.06705852227242368);text-decoration: underline\"> (</span><span title=\"0.3146236986137083\" style=\"background-color:rgba(255, 0, 0, 0.3146236986137083);text-decoration: underline\"> −182.95</span><span title=\"0.2855982692630814\" style=\"background-color:rgba(255, 0, 0, 0.2855982692630814);text-decoration: underline\"> °</span><span title=\"0.2927356531491147\" style=\"background-color:rgba(255, 0, 0, 0.2927356531491147);text-decoration: underline\"> C</span><span title=\"0.13461607467173664\" style=\"background-color:rgba(255, 0, 0, 0.13461607467173664);text-decoration: underline\"> ,</span><span title=\"0.8255895454841341\" style=\"background-color:rgba(255, 0, 0, 0.8255895454841341);text-decoration: underline\"> −297.31</span>"
            ],
            "text/plain": [
              "<IPython.core.display.HTML object>"
            ]
          },
          "metadata": {
            "tags": []
          }
        },
        {
          "output_type": "stream",
          "text": [
            "\n"
          ],
          "name": "stdout"
        },
        {
          "output_type": "display_data",
          "data": {
            "text/html": [
              "<span title=\"0.06572354388548717\" style=\"background-color:rgba(255, 0, 0, 0.06572354388548717);\"> The</span><span title=\"0.07983807139433732\" style=\"background-color:rgba(255, 0, 0, 0.07983807139433732);\"> other</span><span title=\"0.09640212860071337\" style=\"background-color:rgba(255, 0, 0, 0.09640212860071337);text-decoration: underline\"> major</span><span title=\"0.09851300172882305\" style=\"background-color:rgba(255, 0, 0, 0.09851300172882305);text-decoration: underline\"> method</span><span title=\"0.07591376058203131\" style=\"background-color:rgba(255, 0, 0, 0.07591376058203131);\"> of</span><span title=\"0.12103437100454029\" style=\"background-color:rgba(255, 0, 0, 0.12103437100454029);\"> producing</span><span title=\"0.24202354960494948\" style=\"background-color:rgba(255, 0, 0, 0.24202354960494948);\"> O</span><span title=\"0.2514119150236476\" style=\"background-color:rgba(255, 0, 0, 0.2514119150236476);\"> <<LINEBREAK>></span><span title=\"0.31660048623446146\" style=\"background-color:rgba(255, 0, 0, 0.31660048623446146);\"> 2</span><span title=\"0.2216198667718916\" style=\"background-color:rgba(255, 0, 0, 0.2216198667718916);\"> gas</span><span title=\"0.11087409690177248\" style=\"background-color:rgba(255, 0, 0, 0.11087409690177248);\"> involves</span><span title=\"0.22892194559249562\" style=\"background-color:rgba(255, 0, 0, 0.22892194559249562);text-decoration: underline\"> passing</span><span title=\"0.2978890164216964\" style=\"background-color:rgba(255, 0, 0, 0.2978890164216964);text-decoration: underline\"> a</span><span title=\"0.32814656020679905\" style=\"background-color:rgba(255, 0, 0, 0.32814656020679905);text-decoration: underline\"> stream</span><span title=\"0.28838832401985026\" style=\"background-color:rgba(255, 0, 0, 0.28838832401985026);text-decoration: underline\"> of</span><span title=\"0.35030673098223725\" style=\"background-color:rgba(255, 0, 0, 0.35030673098223725);text-decoration: underline\"> clean</span><span title=\"0.2908144268667834\" style=\"background-color:rgba(255, 0, 0, 0.2908144268667834);text-decoration: underline\"> ,</span><span title=\"0.34787172020086593\" style=\"background-color:rgba(255, 0, 0, 0.34787172020086593);text-decoration: underline\"> dry</span><span title=\"0.35206264876410565\" style=\"background-color:rgba(255, 0, 0, 0.35206264876410565);text-decoration: underline\"> air</span><span title=\"0.3172801305784269\" style=\"background-color:rgba(255, 0, 0, 0.3172801305784269);text-decoration: underline\"> through</span><span title=\"0.41917705610770384\" style=\"background-color:rgba(255, 0, 0, 0.41917705610770384);text-decoration: underline\"> one</span><span title=\"0.3862503567905637\" style=\"background-color:rgba(255, 0, 0, 0.3862503567905637);text-decoration: underline\"> bed</span><span title=\"0.34300738731172387\" style=\"background-color:rgba(255, 0, 0, 0.34300738731172387);text-decoration: underline\"> of</span><span title=\"0.44129772186235355\" style=\"background-color:rgba(255, 0, 0, 0.44129772186235355);text-decoration: underline\"> a</span><span title=\"0.4877389659831416\" style=\"background-color:rgba(255, 0, 0, 0.4877389659831416);text-decoration: underline\"> pair</span><span title=\"0.44369875551029403\" style=\"background-color:rgba(255, 0, 0, 0.44369875551029403);text-decoration: underline\"> of</span><span title=\"0.5214716794576287\" style=\"background-color:rgba(255, 0, 0, 0.5214716794576287);text-decoration: underline\"> identical</span><span title=\"0.521931566757261\" style=\"background-color:rgba(255, 0, 0, 0.521931566757261);text-decoration: underline\"> zeolite</span><span title=\"0.5033379989321052\" style=\"background-color:rgba(255, 0, 0, 0.5033379989321052);text-decoration: underline\"> molecular</span><span title=\"0.47472563442713717\" style=\"background-color:rgba(255, 0, 0, 0.47472563442713717);text-decoration: underline\"> sieves</span><span title=\"0.16919981441016765\" style=\"background-color:rgba(255, 0, 0, 0.16919981441016765);text-decoration: underline\"> ,</span><span title=\"0.12940871227389483\" style=\"background-color:rgba(255, 0, 0, 0.12940871227389483);text-decoration: underline\"> which</span><span title=\"0.13364331659517592\" style=\"background-color:rgba(255, 0, 0, 0.13364331659517592);text-decoration: underline\"> absorbs</span><span title=\"0.17273325551224905\" style=\"background-color:rgba(255, 0, 0, 0.17273325551224905);text-decoration: underline\"> the</span><span title=\"0.2034800756949154\" style=\"background-color:rgba(255, 0, 0, 0.2034800756949154);text-decoration: underline\"> nitrogen</span><span title=\"0.145067375532316\" style=\"background-color:rgba(255, 0, 0, 0.145067375532316);\"> and</span><span title=\"0.13874304544020102\" style=\"background-color:rgba(255, 0, 0, 0.13874304544020102);\"> delivers</span><span title=\"0.16229068986375955\" style=\"background-color:rgba(255, 0, 0, 0.16229068986375955);\"> a</span><span title=\"0.20061033917003748\" style=\"background-color:rgba(255, 0, 0, 0.20061033917003748);\"> gas</span><span title=\"0.17478527241753916\" style=\"background-color:rgba(255, 0, 0, 0.17478527241753916);\"> stream</span><span title=\"0.10608439846431086\" style=\"background-color:rgba(255, 0, 0, 0.10608439846431086);\"> that</span><span title=\"0.10455622035402772\" style=\"background-color:rgba(255, 0, 0, 0.10455622035402772);\"> is</span><span title=\"0.7809344958230288\" style=\"background-color:rgba(255, 0, 0, 0.7809344958230288);text-decoration: underline\"> 90</span><span title=\"0.7400083957785468\" style=\"background-color:rgba(255, 0, 0, 0.7400083957785468);text-decoration: underline\"> %</span><span title=\"0.6771317874523672\" style=\"background-color:rgba(255, 0, 0, 0.6771317874523672);text-decoration: underline\"> to</span><span title=\"0.7671972074182228\" style=\"background-color:rgba(255, 0, 0, 0.7671972074182228);text-decoration: underline\"> 93</span><span title=\"0.6655405893703866\" style=\"background-color:rgba(255, 0, 0, 0.6655405893703866);text-decoration: underline\"> %</span><span title=\"0.5281360001030124\" style=\"background-color:rgba(255, 0, 0, 0.5281360001030124);\"> O</span><span title=\"0.45627001200933853\" style=\"background-color:rgba(255, 0, 0, 0.45627001200933853);\"> <<LINEBREAK>></span><span title=\"0.42732469703272863\" style=\"background-color:rgba(255, 0, 0, 0.42732469703272863);\"> 2</span><span title=\"0.07567176809837824\" style=\"background-color:rgba(255, 0, 0, 0.07567176809837824);\"> .</span>"
            ],
            "text/plain": [
              "<IPython.core.display.HTML object>"
            ]
          },
          "metadata": {
            "tags": []
          }
        },
        {
          "output_type": "stream",
          "text": [
            "\n"
          ],
          "name": "stdout"
        },
        {
          "output_type": "display_data",
          "data": {
            "text/html": [
              "<span title=\"0.03566966405410166\" style=\"background-color:rgba(255, 0, 0, 0.03566966405410166);\"> You</span><span title=\"0.02490305867433243\" style=\"background-color:rgba(255, 0, 0, 0.02490305867433243);\"> 've</span><span title=\"0.031801729203615035\" style=\"background-color:rgba(255, 0, 0, 0.031801729203615035);\"> [</span><span title=\"0.14818117523243488\" style=\"background-color:rgba(255, 0, 0, 0.14818117523243488);\"> Western</span><span title=\"0.11408475157324778\" style=\"background-color:rgba(255, 0, 0, 0.11408475157324778);\"> nations</span><span title=\"0.03653830782749708\" style=\"background-color:rgba(255, 0, 0, 0.03653830782749708);\"> ]</span><span title=\"0.03578229150935604\" style=\"background-color:rgba(255, 0, 0, 0.03578229150935604);\"> increased</span><span title=\"0.08371853722472969\" style=\"background-color:rgba(255, 0, 0, 0.08371853722472969);\"> the</span><span title=\"0.10874744841671351\" style=\"background-color:rgba(255, 0, 0, 0.10874744841671351);\"> price</span><span title=\"0.06962427677556353\" style=\"background-color:rgba(255, 0, 0, 0.06962427677556353);\"> of</span><span title=\"0.10769540718860254\" style=\"background-color:rgba(255, 0, 0, 0.10769540718860254);\"> the</span><span title=\"0.11734639746080658\" style=\"background-color:rgba(255, 0, 0, 0.11734639746080658);\"> wheat</span><span title=\"0.07662419847908374\" style=\"background-color:rgba(255, 0, 0, 0.07662419847908374);\"> you</span><span title=\"0.07588970640109899\" style=\"background-color:rgba(255, 0, 0, 0.07588970640109899);\"> sell</span><span title=\"0.07010076038344687\" style=\"background-color:rgba(255, 0, 0, 0.07010076038344687);\"> us</span><span title=\"0.0683770506550283\" style=\"background-color:rgba(255, 0, 0, 0.0683770506550283);\"> by</span><span title=\"0.6863335409104571\" style=\"background-color:rgba(255, 0, 0, 0.6863335409104571);text-decoration: underline\"> 300</span><span title=\"0.5278122946880055\" style=\"background-color:rgba(255, 0, 0, 0.5278122946880055);text-decoration: underline\"> percent</span><span title=\"0.11073659955919783\" style=\"background-color:rgba(255, 0, 0, 0.11073659955919783);\"> ,</span><span title=\"0.11438769567046131\" style=\"background-color:rgba(255, 0, 0, 0.11438769567046131);\"> and</span><span title=\"0.13362094181502554\" style=\"background-color:rgba(255, 0, 0, 0.13362094181502554);\"> the</span><span title=\"0.142457278619362\" style=\"background-color:rgba(255, 0, 0, 0.142457278619362);\"> same</span><span title=\"0.1351102119969566\" style=\"background-color:rgba(255, 0, 0, 0.1351102119969566);\"> for</span><span title=\"0.19738084341244916\" style=\"background-color:rgba(255, 0, 0, 0.19738084341244916);\"> sugar</span><span title=\"0.16168227812772454\" style=\"background-color:rgba(255, 0, 0, 0.16168227812772454);\"> and</span><span title=\"0.17484036142867226\" style=\"background-color:rgba(255, 0, 0, 0.17484036142867226);\"> cement</span><span title=\"0.09210813443125937\" style=\"background-color:rgba(255, 0, 0, 0.09210813443125937);\"> ...</span>"
            ],
            "text/plain": [
              "<IPython.core.display.HTML object>"
            ]
          },
          "metadata": {
            "tags": []
          }
        },
        {
          "output_type": "stream",
          "text": [
            "\n"
          ],
          "name": "stdout"
        },
        {
          "output_type": "display_data",
          "data": {
            "text/html": [
              "<span title=\"0.015513019361746212\" style=\"background-color:rgba(255, 0, 0, 0.015513019361746212);text-decoration: underline\"> In</span><span title=\"0.03857154357086831\" style=\"background-color:rgba(255, 0, 0, 0.03857154357086831);text-decoration: underline\"> response</span><span title=\"0.021183622615906568\" style=\"background-color:rgba(255, 0, 0, 0.021183622615906568);text-decoration: underline\"> to</span><span title=\"0.12206029865223166\" style=\"background-color:rgba(255, 0, 0, 0.12206029865223166);text-decoration: underline\"> American</span><span title=\"0.09834941570492885\" style=\"background-color:rgba(255, 0, 0, 0.09834941570492885);text-decoration: underline\"> aid</span><span title=\"0.06806304102475011\" style=\"background-color:rgba(255, 0, 0, 0.06806304102475011);text-decoration: underline\"> to</span><span title=\"0.2167155759555534\" style=\"background-color:rgba(255, 0, 0, 0.2167155759555534);text-decoration: underline\"> Israel</span><span title=\"0.02484154455872705\" style=\"background-color:rgba(255, 0, 0, 0.02484154455872705);\"> ,</span><span title=\"0.03579282684816673\" style=\"background-color:rgba(255, 0, 0, 0.03579282684816673);\"> on</span><span title=\"0.4983399714399397\" style=\"background-color:rgba(255, 0, 0, 0.4983399714399397);text-decoration: underline\"> October</span><span title=\"0.5304424145403431\" style=\"background-color:rgba(255, 0, 0, 0.5304424145403431);text-decoration: underline\"> 16</span><span title=\"0.31902757221874456\" style=\"background-color:rgba(255, 0, 0, 0.31902757221874456);text-decoration: underline\"> ,</span><span title=\"0.4973168908234483\" style=\"background-color:rgba(255, 0, 0, 0.4973168908234483);text-decoration: underline\"> 1973</span><span title=\"0.022906204972184784\" style=\"background-color:rgba(255, 0, 0, 0.022906204972184784);text-decoration: underline\"> ,</span><span title=\"0.1020123666215603\" style=\"background-color:rgba(255, 0, 0, 0.1020123666215603);text-decoration: underline\"> OPEC</span><span title=\"0.022070596863443755\" style=\"background-color:rgba(255, 0, 0, 0.022070596863443755);text-decoration: underline\"> raised</span><span title=\"0.04501030664322578\" style=\"background-color:rgba(255, 0, 0, 0.04501030664322578);text-decoration: underline\"> the</span><span title=\"0.0824285416186407\" style=\"background-color:rgba(255, 0, 0, 0.0824285416186407);text-decoration: underline\"> posted</span><span title=\"0.11074591493300992\" style=\"background-color:rgba(255, 0, 0, 0.11074591493300992);text-decoration: underline\"> price</span><span title=\"0.08669049455143531\" style=\"background-color:rgba(255, 0, 0, 0.08669049455143531);text-decoration: underline\"> of</span><span title=\"0.10310424455249995\" style=\"background-color:rgba(255, 0, 0, 0.10310424455249995);text-decoration: underline\"> oil</span><span title=\"0.05122263446687353\" style=\"background-color:rgba(255, 0, 0, 0.05122263446687353);text-decoration: underline\"> by</span><span title=\"0.7241753786499145\" style=\"background-color:rgba(255, 0, 0, 0.7241753786499145);text-decoration: underline\"> 70</span><span title=\"0.6054121727110235\" style=\"background-color:rgba(255, 0, 0, 0.6054121727110235);text-decoration: underline\"> %</span><span title=\"0.06502974081826352\" style=\"background-color:rgba(255, 0, 0, 0.06502974081826352);text-decoration: underline\"> ,</span><span title=\"0.053568495310873\" style=\"background-color:rgba(255, 0, 0, 0.053568495310873);text-decoration: underline\"> to</span><span title=\"0.16259642515133843\" style=\"background-color:rgba(255, 0, 0, 0.16259642515133843);text-decoration: underline\"> $</span><span title=\"0.22565936554823376\" style=\"background-color:rgba(255, 0, 0, 0.22565936554823376);text-decoration: underline\"> 5.11</span><span title=\"0.15296828645745703\" style=\"background-color:rgba(255, 0, 0, 0.15296828645745703);text-decoration: underline\"> a</span><span title=\"0.17517642018747331\" style=\"background-color:rgba(255, 0, 0, 0.17517642018747331);text-decoration: underline\"> barrel</span><span title=\"0.04564859618894191\" style=\"background-color:rgba(255, 0, 0, 0.04564859618894191);\"> .</span>"
            ],
            "text/plain": [
              "<IPython.core.display.HTML object>"
            ]
          },
          "metadata": {
            "tags": []
          }
        },
        {
          "output_type": "stream",
          "text": [
            "\n"
          ],
          "name": "stdout"
        },
        {
          "output_type": "display_data",
          "data": {
            "text/html": [
              "<span title=\"0.06528115331713064\" style=\"background-color:rgba(255, 0, 0, 0.06528115331713064);\"> His</span><span title=\"0.07962107194488305\" style=\"background-color:rgba(255, 0, 0, 0.07962107194488305);\"> successor</span><span title=\"0.03958585397168654\" style=\"background-color:rgba(255, 0, 0, 0.03958585397168654);\"> ,</span><span title=\"0.3617661980192356\" style=\"background-color:rgba(255, 0, 0, 0.3617661980192356);text-decoration: underline\"> Ted</span><span title=\"0.3577249574873032\" style=\"background-color:rgba(255, 0, 0, 0.3577249574873032);text-decoration: underline\"> Heath</span><span title=\"0.07618979581286717\" style=\"background-color:rgba(255, 0, 0, 0.07618979581286717);\"> ,</span><span title=\"0.03992725085487847\" style=\"background-color:rgba(255, 0, 0, 0.03992725085487847);\"> reversed</span><span title=\"0.05983391975262104\" style=\"background-color:rgba(255, 0, 0, 0.05983391975262104);\"> this</span><span title=\"0.07866266026473182\" style=\"background-color:rgba(255, 0, 0, 0.07866266026473182);\"> policy</span><span title=\"0.028675529172859305\" style=\"background-color:rgba(255, 0, 0, 0.028675529172859305);\"> in</span><span title=\"0.5786163146613653\" style=\"background-color:rgba(255, 0, 0, 0.5786163146613653);\"> 1970</span><span title=\"0.014296554575622632\" style=\"background-color:rgba(255, 0, 0, 0.014296554575622632);\"> ,</span><span title=\"0.01684875887537958\" style=\"background-color:rgba(255, 0, 0, 0.01684875887537958);\"> calling</span><span title=\"0.021572298138033102\" style=\"background-color:rgba(255, 0, 0, 0.021572298138033102);\"> for</span><span title=\"0.1097778436190268\" style=\"background-color:rgba(255, 0, 0, 0.1097778436190268);text-decoration: underline\"> Israel</span><span title=\"0.05347861156467442\" style=\"background-color:rgba(255, 0, 0, 0.05347861156467442);\"> to</span><span title=\"0.059116681209618646\" style=\"background-color:rgba(255, 0, 0, 0.059116681209618646);text-decoration: underline\"> withdraw</span><span title=\"0.05895297533017974\" style=\"background-color:rgba(255, 0, 0, 0.05895297533017974);text-decoration: underline\"> to</span><span title=\"0.07345339983771178\" style=\"background-color:rgba(255, 0, 0, 0.07345339983771178);text-decoration: underline\"> its</span><span title=\"0.11397075290978684\" style=\"background-color:rgba(255, 0, 0, 0.11397075290978684);text-decoration: underline\"> pre-1967</span><span title=\"0.12143064105976616\" style=\"background-color:rgba(255, 0, 0, 0.12143064105976616);text-decoration: underline\"> borders</span><span title=\"0.02262081155686537\" style=\"background-color:rgba(255, 0, 0, 0.02262081155686537);\"> .</span>"
            ],
            "text/plain": [
              "<IPython.core.display.HTML object>"
            ]
          },
          "metadata": {
            "tags": []
          }
        },
        {
          "output_type": "stream",
          "text": [
            "\n"
          ],
          "name": "stdout"
        },
        {
          "output_type": "display_data",
          "data": {
            "text/html": [
              "<span title=\"0.08094992057239322\" style=\"background-color:rgba(255, 0, 0, 0.08094992057239322);\"> Development</span><span title=\"0.0465484127400601\" style=\"background-color:rgba(255, 0, 0, 0.0465484127400601);\"> of</span><span title=\"0.09724720776122711\" style=\"background-color:rgba(255, 0, 0, 0.09724720776122711);\"> the</span><span title=\"0.26079384497523783\" style=\"background-color:rgba(255, 0, 0, 0.26079384497523783);\"> Strategic</span><span title=\"0.2508337137133657\" style=\"background-color:rgba(255, 0, 0, 0.2508337137133657);\"> Petroleum</span><span title=\"0.23714056893344193\" style=\"background-color:rgba(255, 0, 0, 0.23714056893344193);\"> Reserve</span><span title=\"0.03357879636620684\" style=\"background-color:rgba(255, 0, 0, 0.03357879636620684);\"> began</span><span title=\"0.035883915976979486\" style=\"background-color:rgba(255, 0, 0, 0.035883915976979486);\"> in</span><span title=\"0.592385942939794\" style=\"background-color:rgba(255, 0, 0, 0.592385942939794);\"> 1975</span><span title=\"0.02771019282591697\" style=\"background-color:rgba(255, 0, 0, 0.02771019282591697);\"> ,</span><span title=\"0.02360748964786336\" style=\"background-color:rgba(255, 0, 0, 0.02360748964786336);\"> and</span><span title=\"0.02393772914918853\" style=\"background-color:rgba(255, 0, 0, 0.02393772914918853);\"> in</span><span title=\"0.46495849396842137\" style=\"background-color:rgba(255, 0, 0, 0.46495849396842137);text-decoration: underline\"> 1977</span><span title=\"0.11434294214579066\" style=\"background-color:rgba(255, 0, 0, 0.11434294214579066);\"> the</span><span title=\"0.1806883096292788\" style=\"background-color:rgba(255, 0, 0, 0.1806883096292788);\"> cabinet</span><span title=\"0.14142790901337543\" style=\"background-color:rgba(255, 0, 0, 0.14142790901337543);\"> -</span><span title=\"0.15017073553201848\" style=\"background-color:rgba(255, 0, 0, 0.15017073553201848);\"> level</span><span title=\"0.16208130416332675\" style=\"background-color:rgba(255, 0, 0, 0.16208130416332675);\"> Department</span><span title=\"0.11639386029845755\" style=\"background-color:rgba(255, 0, 0, 0.11639386029845755);\"> of</span><span title=\"0.1713604691815226\" style=\"background-color:rgba(255, 0, 0, 0.1713604691815226);\"> Energy</span><span title=\"0.0477789530364161\" style=\"background-color:rgba(255, 0, 0, 0.0477789530364161);\"> was</span><span title=\"0.056709286239385044\" style=\"background-color:rgba(255, 0, 0, 0.056709286239385044);\"> created</span><span title=\"0.026594546420773583\" style=\"background-color:rgba(255, 0, 0, 0.026594546420773583);\"> ,</span><span title=\"0.028260839510769888\" style=\"background-color:rgba(255, 0, 0, 0.028260839510769888);\"> followed</span><span title=\"0.04551083791203152\" style=\"background-color:rgba(255, 0, 0, 0.04551083791203152);\"> by</span><span title=\"0.26336330234338196\" style=\"background-color:rgba(255, 0, 0, 0.26336330234338196);\"> the</span><span title=\"0.467638080460219\" style=\"background-color:rgba(255, 0, 0, 0.467638080460219);\"> National</span><span title=\"0.4693767898549856\" style=\"background-color:rgba(255, 0, 0, 0.4693767898549856);\"> Energy</span><span title=\"0.4505655173364906\" style=\"background-color:rgba(255, 0, 0, 0.4505655173364906);\"> Act</span><span title=\"0.3619283271931174\" style=\"background-color:rgba(255, 0, 0, 0.3619283271931174);\"> of</span><span title=\"0.33359716175539683\" style=\"background-color:rgba(255, 0, 0, 0.33359716175539683);\"> 1978.[citation</span><span title=\"0.22809080006425306\" style=\"background-color:rgba(255, 0, 0, 0.22809080006425306);\"> needed</span><span title=\"0.20361264802565632\" style=\"background-color:rgba(255, 0, 0, 0.20361264802565632);\"> ]</span>"
            ],
            "text/plain": [
              "<IPython.core.display.HTML object>"
            ]
          },
          "metadata": {
            "tags": []
          }
        },
        {
          "output_type": "stream",
          "text": [
            "\n"
          ],
          "name": "stdout"
        },
        {
          "output_type": "display_data",
          "data": {
            "text/html": [
              "<span title=\"0.5032518776297019\" style=\"background-color:rgba(255, 0, 0, 0.5032518776297019);text-decoration: underline\"> 71</span><span title=\"0.3472812275855043\" style=\"background-color:rgba(255, 0, 0, 0.3472812275855043);text-decoration: underline\"> %</span><span title=\"0.14825185838505736\" style=\"background-color:rgba(255, 0, 0, 0.14825185838505736);\"> of</span><span title=\"0.12980058153617594\" style=\"background-color:rgba(255, 0, 0, 0.12980058153617594);\"> its</span><span title=\"0.11319506764832571\" style=\"background-color:rgba(255, 0, 0, 0.11319506764832571);\"> imported</span><span title=\"0.11320878284211017\" style=\"background-color:rgba(255, 0, 0, 0.11320878284211017);\"> oil</span><span title=\"0.040318194204697066\" style=\"background-color:rgba(255, 0, 0, 0.040318194204697066);\"> came</span><span title=\"0.051702142790996525\" style=\"background-color:rgba(255, 0, 0, 0.051702142790996525);\"> from</span><span title=\"0.17391223789728058\" style=\"background-color:rgba(255, 0, 0, 0.17391223789728058);\"> the</span><span title=\"0.2983727931811246\" style=\"background-color:rgba(255, 0, 0, 0.2983727931811246);\"> Middle</span><span title=\"0.2695292241205319\" style=\"background-color:rgba(255, 0, 0, 0.2695292241205319);\"> East</span><span title=\"0.07730203131216924\" style=\"background-color:rgba(255, 0, 0, 0.07730203131216924);\"> in</span><span title=\"0.5837661333993117\" style=\"background-color:rgba(255, 0, 0, 0.5837661333993117);\"> 1970</span><span title=\"0.029271466160136917\" style=\"background-color:rgba(255, 0, 0, 0.029271466160136917);\"> .</span>"
            ],
            "text/plain": [
              "<IPython.core.display.HTML object>"
            ]
          },
          "metadata": {
            "tags": []
          }
        },
        {
          "output_type": "stream",
          "text": [
            "\n"
          ],
          "name": "stdout"
        },
        {
          "output_type": "display_data",
          "data": {
            "text/html": [
              "<span title=\"0.08425313202742958\" style=\"background-color:rgba(255, 0, 0, 0.08425313202742958);text-decoration: underline\"> An</span><span title=\"0.10062250705783737\" style=\"background-color:rgba(255, 0, 0, 0.10062250705783737);text-decoration: underline\"> increase</span><span title=\"0.051875101439046375\" style=\"background-color:rgba(255, 0, 0, 0.051875101439046375);text-decoration: underline\"> in</span><span title=\"0.0755465433240516\" style=\"background-color:rgba(255, 0, 0, 0.0755465433240516);text-decoration: underline\"> imported</span><span title=\"0.10004892648890784\" style=\"background-color:rgba(255, 0, 0, 0.10004892648890784);text-decoration: underline\"> cars</span><span title=\"0.045985258679815184\" style=\"background-color:rgba(255, 0, 0, 0.045985258679815184);text-decoration: underline\"> into</span><span title=\"0.1919761591466274\" style=\"background-color:rgba(255, 0, 0, 0.1919761591466274);text-decoration: underline\"> North</span><span title=\"0.16957705974871262\" style=\"background-color:rgba(255, 0, 0, 0.16957705974871262);text-decoration: underline\"> America</span><span title=\"0.036445338156458895\" style=\"background-color:rgba(255, 0, 0, 0.036445338156458895);\"> forced</span><span title=\"0.6457470273541653\" style=\"background-color:rgba(255, 0, 0, 0.6457470273541653);\"> General</span><span title=\"0.6276058242302397\" style=\"background-color:rgba(255, 0, 0, 0.6276058242302397);\"> Motors</span><span title=\"0.21283175502884236\" style=\"background-color:rgba(255, 0, 0, 0.21283175502884236);\"> ,</span><span title=\"0.27688740009513824\" style=\"background-color:rgba(255, 0, 0, 0.27688740009513824);\"> Ford</span><span title=\"0.2076601824860033\" style=\"background-color:rgba(255, 0, 0, 0.2076601824860033);\"> and</span><span title=\"0.2482407338540496\" style=\"background-color:rgba(255, 0, 0, 0.2482407338540496);\"> Chrysler</span><span title=\"0.1853699590674188\" style=\"background-color:rgba(255, 0, 0, 0.1853699590674188);\"> to</span><span title=\"0.254060571594437\" style=\"background-color:rgba(255, 0, 0, 0.254060571594437);text-decoration: underline\"> introduce</span><span title=\"0.3777731090953853\" style=\"background-color:rgba(255, 0, 0, 0.3777731090953853);text-decoration: underline\"> smaller</span><span title=\"0.3698062699118131\" style=\"background-color:rgba(255, 0, 0, 0.3698062699118131);text-decoration: underline\"> and</span><span title=\"0.4041944783734533\" style=\"background-color:rgba(255, 0, 0, 0.4041944783734533);text-decoration: underline\"> fuel</span><span title=\"0.35930628482133575\" style=\"background-color:rgba(255, 0, 0, 0.35930628482133575);text-decoration: underline\"> -</span><span title=\"0.3561393822221326\" style=\"background-color:rgba(255, 0, 0, 0.3561393822221326);text-decoration: underline\"> efficient</span><span title=\"0.32583463078174263\" style=\"background-color:rgba(255, 0, 0, 0.32583463078174263);text-decoration: underline\"> models</span><span title=\"0.25087849557161257\" style=\"background-color:rgba(255, 0, 0, 0.25087849557161257);text-decoration: underline\"> for</span><span title=\"0.31211500232780687\" style=\"background-color:rgba(255, 0, 0, 0.31211500232780687);text-decoration: underline\"> domestic</span><span title=\"0.2958533118068805\" style=\"background-color:rgba(255, 0, 0, 0.2958533118068805);text-decoration: underline\"> sales</span><span title=\"0.055368765370152256\" style=\"background-color:rgba(255, 0, 0, 0.055368765370152256);\"> .</span>"
            ],
            "text/plain": [
              "<IPython.core.display.HTML object>"
            ]
          },
          "metadata": {
            "tags": []
          }
        },
        {
          "output_type": "stream",
          "text": [
            "\n"
          ],
          "name": "stdout"
        },
        {
          "output_type": "display_data",
          "data": {
            "text/html": [
              "<span title=\"0.21210877850813684\" style=\"background-color:rgba(255, 0, 0, 0.21210877850813684);\"> Federal</span><span title=\"0.21079775656162905\" style=\"background-color:rgba(255, 0, 0, 0.21079775656162905);\"> safety</span><span title=\"0.19241481819359035\" style=\"background-color:rgba(255, 0, 0, 0.19241481819359035);\"> standards</span><span title=\"0.04537676412183309\" style=\"background-color:rgba(255, 0, 0, 0.04537676412183309);\"> ,</span><span title=\"0.03826307162657439\" style=\"background-color:rgba(255, 0, 0, 0.03826307162657439);\"> such</span><span title=\"0.028674282657403263\" style=\"background-color:rgba(255, 0, 0, 0.028674282657403263);\"> as</span><span title=\"0.7560370369990018\" style=\"background-color:rgba(255, 0, 0, 0.7560370369990018);\"> NHTSA</span><span title=\"0.7889265235185545\" style=\"background-color:rgba(255, 0, 0, 0.7889265235185545);\"> Federal</span><span title=\"0.793306798874601\" style=\"background-color:rgba(255, 0, 0, 0.793306798874601);\"> Motor</span><span title=\"0.7952627777304004\" style=\"background-color:rgba(255, 0, 0, 0.7952627777304004);\"> Vehicle</span><span title=\"0.7963448286553737\" style=\"background-color:rgba(255, 0, 0, 0.7963448286553737);\"> Safety</span><span title=\"0.7839249223518006\" style=\"background-color:rgba(255, 0, 0, 0.7839249223518006);\"> Standard</span><span title=\"0.7488457961204159\" style=\"background-color:rgba(255, 0, 0, 0.7488457961204159);\"> 215</span><span title=\"0.12558507492511556\" style=\"background-color:rgba(255, 0, 0, 0.12558507492511556);\"> (</span><span title=\"0.1033928808808261\" style=\"background-color:rgba(255, 0, 0, 0.1033928808808261);\"> pertaining</span><span title=\"0.10329945933555013\" style=\"background-color:rgba(255, 0, 0, 0.10329945933555013);\"> to</span><span title=\"0.19985653359770694\" style=\"background-color:rgba(255, 0, 0, 0.19985653359770694);\"> safety</span><span title=\"0.19615234809359647\" style=\"background-color:rgba(255, 0, 0, 0.19615234809359647);\"> bumpers</span><span title=\"0.07690109503088856\" style=\"background-color:rgba(255, 0, 0, 0.07690109503088856);\"> )</span><span title=\"0.044672111009350784\" style=\"background-color:rgba(255, 0, 0, 0.044672111009350784);\"> ,</span><span title=\"0.04411731841626793\" style=\"background-color:rgba(255, 0, 0, 0.04411731841626793);\"> and</span><span title=\"0.05307343293068551\" style=\"background-color:rgba(255, 0, 0, 0.05307343293068551);\"> compacts</span><span title=\"0.027803511935586698\" style=\"background-color:rgba(255, 0, 0, 0.027803511935586698);\"> like</span><span title=\"0.035759481968017134\" style=\"background-color:rgba(255, 0, 0, 0.035759481968017134);text-decoration: underline\"> the</span><span title=\"0.2737611287105365\" style=\"background-color:rgba(255, 0, 0, 0.2737611287105365);text-decoration: underline\"> 1974</span><span title=\"0.15430086672504278\" style=\"background-color:rgba(255, 0, 0, 0.15430086672504278);text-decoration: underline\"> Mustang</span><span title=\"0.13983075348593518\" style=\"background-color:rgba(255, 0, 0, 0.13983075348593518);text-decoration: underline\"> I</span><span title=\"0.03734519284078753\" style=\"background-color:rgba(255, 0, 0, 0.03734519284078753);\"> were</span><span title=\"0.08067832181685597\" style=\"background-color:rgba(255, 0, 0, 0.08067832181685597);\"> a</span><span title=\"0.10753438469303755\" style=\"background-color:rgba(255, 0, 0, 0.10753438469303755);\"> prelude</span><span title=\"0.07158213232909813\" style=\"background-color:rgba(255, 0, 0, 0.07158213232909813);\"> to</span><span title=\"0.10136244854943735\" style=\"background-color:rgba(255, 0, 0, 0.10136244854943735);text-decoration: underline\"> the</span><span title=\"0.20091160586349047\" style=\"background-color:rgba(255, 0, 0, 0.20091160586349047);text-decoration: underline\"> DOT</span><span title=\"0.15258352929891272\" style=\"background-color:rgba(255, 0, 0, 0.15258352929891272);text-decoration: underline\"> \"</span><span title=\"0.23225204356039897\" style=\"background-color:rgba(255, 0, 0, 0.23225204356039897);text-decoration: underline\"> downsize</span><span title=\"0.19535217091217616\" style=\"background-color:rgba(255, 0, 0, 0.19535217091217616);text-decoration: underline\"> \"</span><span title=\"0.1944131186382053\" style=\"background-color:rgba(255, 0, 0, 0.1944131186382053);text-decoration: underline\"> revision</span><span title=\"0.1511631521257783\" style=\"background-color:rgba(255, 0, 0, 0.1511631521257783);\"> of</span><span title=\"0.21971111975265356\" style=\"background-color:rgba(255, 0, 0, 0.21971111975265356);\"> vehicle</span><span title=\"0.20889807394888424\" style=\"background-color:rgba(255, 0, 0, 0.20889807394888424);\"> categories</span><span title=\"0.03648929536590197\" style=\"background-color:rgba(255, 0, 0, 0.03648929536590197);\"> .</span>"
            ],
            "text/plain": [
              "<IPython.core.display.HTML object>"
            ]
          },
          "metadata": {
            "tags": []
          }
        },
        {
          "output_type": "stream",
          "text": [
            "\n"
          ],
          "name": "stdout"
        },
        {
          "output_type": "display_data",
          "data": {
            "text/html": [
              "<span title=\"0.09738726458004694\" style=\"background-color:rgba(255, 0, 0, 0.09738726458004694);\"> OPEC</span><span title=\"0.024550038861298785\" style=\"background-color:rgba(255, 0, 0, 0.024550038861298785);\"> soon</span><span title=\"0.020002048214736765\" style=\"background-color:rgba(255, 0, 0, 0.020002048214736765);\"> lost</span><span title=\"0.04454919555932027\" style=\"background-color:rgba(255, 0, 0, 0.04454919555932027);\"> its</span><span title=\"0.08699507388460741\" style=\"background-color:rgba(255, 0, 0, 0.08699507388460741);\"> preeminent</span><span title=\"0.09601950995170953\" style=\"background-color:rgba(255, 0, 0, 0.09601950995170953);\"> position</span><span title=\"0.023096857207223806\" style=\"background-color:rgba(255, 0, 0, 0.023096857207223806);\"> ,</span><span title=\"0.023251408306750047\" style=\"background-color:rgba(255, 0, 0, 0.023251408306750047);\"> and</span><span title=\"0.03221457224987094\" style=\"background-color:rgba(255, 0, 0, 0.03221457224987094);\"> in</span><span title=\"0.5638723792169831\" style=\"background-color:rgba(255, 0, 0, 0.5638723792169831);text-decoration: underline\"> 1981</span><span title=\"0.022458447566735717\" style=\"background-color:rgba(255, 0, 0, 0.022458447566735717);\"> ,</span><span title=\"0.036642522796730366\" style=\"background-color:rgba(255, 0, 0, 0.036642522796730366);\"> its</span><span title=\"0.051820512107280156\" style=\"background-color:rgba(255, 0, 0, 0.051820512107280156);\"> production</span><span title=\"0.018187250967602226\" style=\"background-color:rgba(255, 0, 0, 0.018187250967602226);\"> was</span><span title=\"0.029050805540476652\" style=\"background-color:rgba(255, 0, 0, 0.029050805540476652);\"> surpassed</span><span title=\"0.03499379998312069\" style=\"background-color:rgba(255, 0, 0, 0.03499379998312069);\"> by</span><span title=\"0.060816249524377766\" style=\"background-color:rgba(255, 0, 0, 0.060816249524377766);\"> that</span><span title=\"0.05823284373911393\" style=\"background-color:rgba(255, 0, 0, 0.05823284373911393);\"> of</span><span title=\"0.09667706579714454\" style=\"background-color:rgba(255, 0, 0, 0.09667706579714454);\"> other</span><span title=\"0.11144941740919669\" style=\"background-color:rgba(255, 0, 0, 0.11144941740919669);\"> countries</span><span title=\"0.022644418673095718\" style=\"background-color:rgba(255, 0, 0, 0.022644418673095718);\"> .</span>"
            ],
            "text/plain": [
              "<IPython.core.display.HTML object>"
            ]
          },
          "metadata": {
            "tags": []
          }
        },
        {
          "output_type": "stream",
          "text": [
            "\n"
          ],
          "name": "stdout"
        },
        {
          "output_type": "display_data",
          "data": {
            "text/html": [
              "<span title=\"0.02960405542987793\" style=\"background-color:rgba(255, 0, 0, 0.02960405542987793);\"> Since</span><span title=\"0.03609997737025029\" style=\"background-color:rgba(255, 0, 0, 0.03609997737025029);\"> its</span><span title=\"0.05777440332199077\" style=\"background-color:rgba(255, 0, 0, 0.05777440332199077);\"> establishment</span><span title=\"0.010780312849277262\" style=\"background-color:rgba(255, 0, 0, 0.010780312849277262);\"> ,</span><span title=\"0.0679763397663534\" style=\"background-color:rgba(255, 0, 0, 0.0679763397663534);\"> more</span><span title=\"0.10412982647137675\" style=\"background-color:rgba(255, 0, 0, 0.10412982647137675);\"> member</span><span title=\"0.09965224207898464\" style=\"background-color:rgba(255, 0, 0, 0.09965224207898464);\"> states</span><span title=\"0.03499760502208878\" style=\"background-color:rgba(255, 0, 0, 0.03499760502208878);\"> have</span><span title=\"0.05082692854537059\" style=\"background-color:rgba(255, 0, 0, 0.05082692854537059);\"> joined</span><span title=\"0.06912799474726698\" style=\"background-color:rgba(255, 0, 0, 0.06912799474726698);\"> through</span><span title=\"0.1228956877578297\" style=\"background-color:rgba(255, 0, 0, 0.1228956877578297);\"> a</span><span title=\"0.15397858858933774\" style=\"background-color:rgba(255, 0, 0, 0.15397858858933774);\"> series</span><span title=\"0.11903323654123617\" style=\"background-color:rgba(255, 0, 0, 0.11903323654123617);\"> of</span><span title=\"0.2070807580175501\" style=\"background-color:rgba(255, 0, 0, 0.2070807580175501);\"> accession</span><span title=\"0.1972015610093986\" style=\"background-color:rgba(255, 0, 0, 0.1972015610093986);\"> treaties</span><span title=\"0.06921524868520848\" style=\"background-color:rgba(255, 0, 0, 0.06921524868520848);\"> ,</span><span title=\"0.06766959660175184\" style=\"background-color:rgba(255, 0, 0, 0.06766959660175184);\"> from</span><span title=\"0.10469002623537829\" style=\"background-color:rgba(255, 0, 0, 0.10469002623537829);\"> the</span><span title=\"0.20965851541522418\" style=\"background-color:rgba(255, 0, 0, 0.20965851541522418);\"> UK</span><span title=\"0.08173211440669091\" style=\"background-color:rgba(255, 0, 0, 0.08173211440669091);\"> ,</span><span title=\"0.15003377170274715\" style=\"background-color:rgba(255, 0, 0, 0.15003377170274715);\"> Ireland</span><span title=\"0.0571834364322846\" style=\"background-color:rgba(255, 0, 0, 0.0571834364322846);\"> ,</span><span title=\"0.13694759615844432\" style=\"background-color:rgba(255, 0, 0, 0.13694759615844432);\"> Denmark</span><span title=\"0.08043656268243522\" style=\"background-color:rgba(255, 0, 0, 0.08043656268243522);\"> and</span><span title=\"0.13185500083145713\" style=\"background-color:rgba(255, 0, 0, 0.13185500083145713);\"> Norway</span><span title=\"0.05618885248323395\" style=\"background-color:rgba(255, 0, 0, 0.05618885248323395);text-decoration: underline\"> in</span><span title=\"0.582181522975062\" style=\"background-color:rgba(255, 0, 0, 0.582181522975062);text-decoration: underline\"> 1972</span><span title=\"0.030755309554214297\" style=\"background-color:rgba(255, 0, 0, 0.030755309554214297);text-decoration: underline\"> (</span><span title=\"0.030631892734405405\" style=\"background-color:rgba(255, 0, 0, 0.030631892734405405);text-decoration: underline\"> though</span><span title=\"0.2012456227740328\" style=\"background-color:rgba(255, 0, 0, 0.2012456227740328);text-decoration: underline\"> Norway</span><span title=\"0.11355396008944119\" style=\"background-color:rgba(255, 0, 0, 0.11355396008944119);text-decoration: underline\"> did</span><span title=\"0.13167390721648947\" style=\"background-color:rgba(255, 0, 0, 0.13167390721648947);text-decoration: underline\"> not</span><span title=\"0.14688130754679915\" style=\"background-color:rgba(255, 0, 0, 0.14688130754679915);text-decoration: underline\"> end</span><span title=\"0.14331717503984\" style=\"background-color:rgba(255, 0, 0, 0.14331717503984);text-decoration: underline\"> up</span><span title=\"0.10523940876089191\" style=\"background-color:rgba(255, 0, 0, 0.10523940876089191);text-decoration: underline\"> joining</span><span title=\"0.0790820872116072\" style=\"background-color:rgba(255, 0, 0, 0.0790820872116072);text-decoration: underline\"> )</span><span title=\"0.0508827795766316\" style=\"background-color:rgba(255, 0, 0, 0.0508827795766316);\"> ,</span><span title=\"0.11243061958028613\" style=\"background-color:rgba(255, 0, 0, 0.11243061958028613);\"> Greece</span><span title=\"0.05550266153288777\" style=\"background-color:rgba(255, 0, 0, 0.05550266153288777);\"> in</span><span title=\"0.5486035175479144\" style=\"background-color:rgba(255, 0, 0, 0.5486035175479144);\"> 1979</span><span title=\"0.10028499745217347\" style=\"background-color:rgba(255, 0, 0, 0.10028499745217347);\"> ,</span><span title=\"0.19826311684175318\" style=\"background-color:rgba(255, 0, 0, 0.19826311684175318);\"> Spain</span><span title=\"0.1438922293879483\" style=\"background-color:rgba(255, 0, 0, 0.1438922293879483);\"> and</span><span title=\"0.2858350896514945\" style=\"background-color:rgba(255, 0, 0, 0.2858350896514945);\"> Portugal</span><span title=\"0.3148399695032045\" style=\"background-color:rgba(255, 0, 0, 0.3148399695032045);text-decoration: underline\"> 1985</span><span title=\"0.11812479737490142\" style=\"background-color:rgba(255, 0, 0, 0.11812479737490142);\"> ,</span><span title=\"0.20562307956965592\" style=\"background-color:rgba(255, 0, 0, 0.20562307956965592);\"> Austria</span><span title=\"0.09281280882471743\" style=\"background-color:rgba(255, 0, 0, 0.09281280882471743);\"> ,</span><span title=\"0.16464895345894165\" style=\"background-color:rgba(255, 0, 0, 0.16464895345894165);\"> Finland</span><span title=\"0.06918590415984043\" style=\"background-color:rgba(255, 0, 0, 0.06918590415984043);\"> ,</span><span title=\"0.14700303473132748\" style=\"background-color:rgba(255, 0, 0, 0.14700303473132748);\"> Norway</span><span title=\"0.09699245172415225\" style=\"background-color:rgba(255, 0, 0, 0.09699245172415225);\"> and</span><span title=\"0.16242580414774382\" style=\"background-color:rgba(255, 0, 0, 0.16242580414774382);\"> Sweden</span><span title=\"0.07120810212292229\" style=\"background-color:rgba(255, 0, 0, 0.07120810212292229);\"> in</span><span title=\"0.5558587216582038\" style=\"background-color:rgba(255, 0, 0, 0.5558587216582038);\"> 1994</span><span title=\"0.023489096909704816\" style=\"background-color:rgba(255, 0, 0, 0.023489096909704816);\"> (</span><span title=\"0.019622794778165118\" style=\"background-color:rgba(255, 0, 0, 0.019622794778165118);\"> though</span><span title=\"0.026053542082649005\" style=\"background-color:rgba(255, 0, 0, 0.026053542082649005);\"> again</span><span title=\"0.12361674361890268\" style=\"background-color:rgba(255, 0, 0, 0.12361674361890268);\"> Norway</span><span title=\"0.059896384621539456\" style=\"background-color:rgba(255, 0, 0, 0.059896384621539456);\"> failed</span><span title=\"0.08162988646133337\" style=\"background-color:rgba(255, 0, 0, 0.08162988646133337);\"> to</span><span title=\"0.112499005027418\" style=\"background-color:rgba(255, 0, 0, 0.112499005027418);\"> join</span><span title=\"0.08905305044802998\" style=\"background-color:rgba(255, 0, 0, 0.08905305044802998);\"> ,</span><span title=\"0.11263627480650107\" style=\"background-color:rgba(255, 0, 0, 0.11263627480650107);\"> because</span><span title=\"0.14364724228498651\" style=\"background-color:rgba(255, 0, 0, 0.14364724228498651);\"> of</span><span title=\"0.1993287666699604\" style=\"background-color:rgba(255, 0, 0, 0.1993287666699604);\"> lack</span><span title=\"0.16007965023228696\" style=\"background-color:rgba(255, 0, 0, 0.16007965023228696);\"> of</span><span title=\"0.1958305437022291\" style=\"background-color:rgba(255, 0, 0, 0.1958305437022291);\"> support</span><span title=\"0.12685314441951429\" style=\"background-color:rgba(255, 0, 0, 0.12685314441951429);\"> in</span><span title=\"0.16365521650970336\" style=\"background-color:rgba(255, 0, 0, 0.16365521650970336);\"> the</span><span title=\"0.2087863758879811\" style=\"background-color:rgba(255, 0, 0, 0.2087863758879811);\"> referendum</span><span title=\"0.10387543760836264\" style=\"background-color:rgba(255, 0, 0, 0.10387543760836264);\"> )</span><span title=\"0.07545109227623097\" style=\"background-color:rgba(255, 0, 0, 0.07545109227623097);\"> ,</span><span title=\"0.1449324500574557\" style=\"background-color:rgba(255, 0, 0, 0.1449324500574557);\"> the</span><span title=\"0.31797814980894223\" style=\"background-color:rgba(255, 0, 0, 0.31797814980894223);\"> Czech</span><span title=\"0.3151858081742597\" style=\"background-color:rgba(255, 0, 0, 0.3151858081742597);\"> Republic</span><span title=\"0.16843654737973854\" style=\"background-color:rgba(255, 0, 0, 0.16843654737973854);\"> ,</span><span title=\"0.2501437808191977\" style=\"background-color:rgba(255, 0, 0, 0.2501437808191977);\"> Cyprus</span><span title=\"0.12403529383509172\" style=\"background-color:rgba(255, 0, 0, 0.12403529383509172);\"> ,</span><span title=\"0.20732255104713193\" style=\"background-color:rgba(255, 0, 0, 0.20732255104713193);\"> Estonia</span><span title=\"0.10826309447596669\" style=\"background-color:rgba(255, 0, 0, 0.10826309447596669);\"> ,</span><span title=\"0.19809519615550789\" style=\"background-color:rgba(255, 0, 0, 0.19809519615550789);\"> Hungary</span><span title=\"0.10354891031165282\" style=\"background-color:rgba(255, 0, 0, 0.10354891031165282);\"> ,</span><span title=\"0.1859728533170727\" style=\"background-color:rgba(255, 0, 0, 0.1859728533170727);\"> Latvia</span><span title=\"0.09767643419512878\" style=\"background-color:rgba(255, 0, 0, 0.09767643419512878);\"> ,</span><span title=\"0.19159970864716364\" style=\"background-color:rgba(255, 0, 0, 0.19159970864716364);\"> Lithuania</span><span title=\"0.0974870853490804\" style=\"background-color:rgba(255, 0, 0, 0.0974870853490804);\"> ,</span><span title=\"0.19208008174462843\" style=\"background-color:rgba(255, 0, 0, 0.19208008174462843);\"> Malta</span><span title=\"0.09689210682312338\" style=\"background-color:rgba(255, 0, 0, 0.09689210682312338);\"> ,</span><span title=\"0.17107106214300144\" style=\"background-color:rgba(255, 0, 0, 0.17107106214300144);\"> Poland</span><span title=\"0.08988608066461472\" style=\"background-color:rgba(255, 0, 0, 0.08988608066461472);\"> ,</span><span title=\"0.18230320310354653\" style=\"background-color:rgba(255, 0, 0, 0.18230320310354653);\"> Slovakia</span><span title=\"0.12772042106179157\" style=\"background-color:rgba(255, 0, 0, 0.12772042106179157);\"> and</span><span title=\"0.18728811424081696\" style=\"background-color:rgba(255, 0, 0, 0.18728811424081696);\"> Slovenia</span><span title=\"0.09567564980012624\" style=\"background-color:rgba(255, 0, 0, 0.09567564980012624);\"> in</span><span title=\"0.3686664493856105\" style=\"background-color:rgba(255, 0, 0, 0.3686664493856105);\"> 2004</span><span title=\"0.07693932445778152\" style=\"background-color:rgba(255, 0, 0, 0.07693932445778152);\"> ,</span><span title=\"0.1538477761432766\" style=\"background-color:rgba(255, 0, 0, 0.1538477761432766);\"> Romania</span><span title=\"0.09918888561614524\" style=\"background-color:rgba(255, 0, 0, 0.09918888561614524);\"> and</span><span title=\"0.1495053272228733\" style=\"background-color:rgba(255, 0, 0, 0.1495053272228733);\"> Bulgaria</span><span title=\"0.06541528090720465\" style=\"background-color:rgba(255, 0, 0, 0.06541528090720465);\"> in</span><span title=\"0.340737076603316\" style=\"background-color:rgba(255, 0, 0, 0.340737076603316);\"> 2007</span><span title=\"0.14104774297888648\" style=\"background-color:rgba(255, 0, 0, 0.14104774297888648);\"> and</span><span title=\"0.19792878257646238\" style=\"background-color:rgba(255, 0, 0, 0.19792878257646238);\"> Croatia</span><span title=\"0.10333202487872473\" style=\"background-color:rgba(255, 0, 0, 0.10333202487872473);\"> in</span><span title=\"0.3595612124144574\" style=\"background-color:rgba(255, 0, 0, 0.3595612124144574);\"> 2013</span><span title=\"0.02505855800236471\" style=\"background-color:rgba(255, 0, 0, 0.02505855800236471);\"> .</span>"
            ],
            "text/plain": [
              "<IPython.core.display.HTML object>"
            ]
          },
          "metadata": {
            "tags": []
          }
        },
        {
          "output_type": "stream",
          "text": [
            "\n"
          ],
          "name": "stdout"
        },
        {
          "output_type": "display_data",
          "data": {
            "text/html": [
              "<span title=\"0.47082954586126263\" style=\"background-color:rgba(255, 0, 0, 0.47082954586126263);\"> TEU</span><span title=\"0.46743602628513126\" style=\"background-color:rgba(255, 0, 0, 0.46743602628513126);\"> article</span><span title=\"0.4977294917526581\" style=\"background-color:rgba(255, 0, 0, 0.4977294917526581);\"> 16(4</span><span title=\"0.21903213296497676\" style=\"background-color:rgba(255, 0, 0, 0.21903213296497676);\"> )</span><span title=\"0.19112652997237842\" style=\"background-color:rgba(255, 0, 0, 0.19112652997237842);\"> and</span><span title=\"0.24842766233047875\" style=\"background-color:rgba(255, 0, 0, 0.24842766233047875);\"> TFEU</span><span title=\"0.2310232798864911\" style=\"background-color:rgba(255, 0, 0, 0.2310232798864911);\"> article</span><span title=\"0.2852392991089544\" style=\"background-color:rgba(255, 0, 0, 0.2852392991089544);\"> 238(3</span><span title=\"0.0808311992581677\" style=\"background-color:rgba(255, 0, 0, 0.0808311992581677);\"> )</span><span title=\"0.036913650456183715\" style=\"background-color:rgba(255, 0, 0, 0.036913650456183715);\"> define</span><span title=\"0.05031836405180498\" style=\"background-color:rgba(255, 0, 0, 0.05031836405180498);\"> this</span><span title=\"0.08434019887379343\" style=\"background-color:rgba(255, 0, 0, 0.08434019887379343);\"> to</span><span title=\"0.1840945715618338\" style=\"background-color:rgba(255, 0, 0, 0.1840945715618338);\"> mean</span><span title=\"0.3945755844497601\" style=\"background-color:rgba(255, 0, 0, 0.3945755844497601);text-decoration: underline\"> at</span><span title=\"0.4986015978103008\" style=\"background-color:rgba(255, 0, 0, 0.4986015978103008);text-decoration: underline\"> least</span><span title=\"0.6350752826601884\" style=\"background-color:rgba(255, 0, 0, 0.6350752826601884);text-decoration: underline\"> 55</span><span title=\"0.5981713248895415\" style=\"background-color:rgba(255, 0, 0, 0.5981713248895415);text-decoration: underline\"> per</span><span title=\"0.5806864483286944\" style=\"background-color:rgba(255, 0, 0, 0.5806864483286944);text-decoration: underline\"> cent</span><span title=\"0.4504277831060062\" style=\"background-color:rgba(255, 0, 0, 0.4504277831060062);text-decoration: underline\"> of</span><span title=\"0.4728862914525943\" style=\"background-color:rgba(255, 0, 0, 0.4728862914525943);text-decoration: underline\"> the</span><span title=\"0.6181741640812755\" style=\"background-color:rgba(255, 0, 0, 0.6181741640812755);text-decoration: underline\"> Council</span><span title=\"0.577937753327929\" style=\"background-color:rgba(255, 0, 0, 0.577937753327929);text-decoration: underline\"> members</span><span title=\"0.35830194998111237\" style=\"background-color:rgba(255, 0, 0, 0.35830194998111237);text-decoration: underline\"> (</span><span title=\"0.3619863858270385\" style=\"background-color:rgba(255, 0, 0, 0.3619863858270385);text-decoration: underline\"> not</span><span title=\"0.3745308702100738\" style=\"background-color:rgba(255, 0, 0, 0.3745308702100738);text-decoration: underline\"> votes</span><span title=\"0.16829336896470878\" style=\"background-color:rgba(255, 0, 0, 0.16829336896470878);text-decoration: underline\"> )</span><span title=\"0.13933840832061867\" style=\"background-color:rgba(255, 0, 0, 0.13933840832061867);text-decoration: underline\"> representing</span><span title=\"0.44578034359032714\" style=\"background-color:rgba(255, 0, 0, 0.44578034359032714);text-decoration: underline\"> 65</span><span title=\"0.3633314960417475\" style=\"background-color:rgba(255, 0, 0, 0.3633314960417475);text-decoration: underline\"> per</span><span title=\"0.2896384584470608\" style=\"background-color:rgba(255, 0, 0, 0.2896384584470608);text-decoration: underline\"> cent</span><span title=\"0.19282079883736059\" style=\"background-color:rgba(255, 0, 0, 0.19282079883736059);text-decoration: underline\"> of</span><span title=\"0.18508838212208376\" style=\"background-color:rgba(255, 0, 0, 0.18508838212208376);text-decoration: underline\"> the</span><span title=\"0.18039451856678512\" style=\"background-color:rgba(255, 0, 0, 0.18039451856678512);text-decoration: underline\"> population</span><span title=\"0.10642033417996251\" style=\"background-color:rgba(255, 0, 0, 0.10642033417996251);text-decoration: underline\"> of</span><span title=\"0.10885980888546677\" style=\"background-color:rgba(255, 0, 0, 0.10885980888546677);text-decoration: underline\"> the</span><span title=\"0.16038601203661695\" style=\"background-color:rgba(255, 0, 0, 0.16038601203661695);text-decoration: underline\"> EU</span><span title=\"0.018287145118470367\" style=\"background-color:rgba(255, 0, 0, 0.018287145118470367);\"> :</span><span title=\"0.027551425052122984\" style=\"background-color:rgba(255, 0, 0, 0.027551425052122984);\"> currently</span><span title=\"0.03584772906112499\" style=\"background-color:rgba(255, 0, 0, 0.03584772906112499);\"> this</span><span title=\"0.053957978135444506\" style=\"background-color:rgba(255, 0, 0, 0.053957978135444506);\"> means</span><span title=\"0.3168899622565679\" style=\"background-color:rgba(255, 0, 0, 0.3168899622565679);\"> around</span><span title=\"0.7387364869999729\" style=\"background-color:rgba(255, 0, 0, 0.7387364869999729);text-decoration: underline\"> 74</span><span title=\"0.702478019286539\" style=\"background-color:rgba(255, 0, 0, 0.702478019286539);text-decoration: underline\"> per</span><span title=\"0.7010241482165601\" style=\"background-color:rgba(255, 0, 0, 0.7010241482165601);text-decoration: underline\"> cent</span><span title=\"0.5808332811117976\" style=\"background-color:rgba(255, 0, 0, 0.5808332811117976);text-decoration: underline\"> ,</span><span title=\"0.5803587254299463\" style=\"background-color:rgba(255, 0, 0, 0.5803587254299463);text-decoration: underline\"> or</span><span title=\"0.6293920710704693\" style=\"background-color:rgba(255, 0, 0, 0.6293920710704693);text-decoration: underline\"> 260</span><span title=\"0.5609291180444929\" style=\"background-color:rgba(255, 0, 0, 0.5609291180444929);text-decoration: underline\"> of</span><span title=\"0.5771646614823418\" style=\"background-color:rgba(255, 0, 0, 0.5771646614823418);text-decoration: underline\"> the</span><span title=\"0.6563310311748697\" style=\"background-color:rgba(255, 0, 0, 0.6563310311748697);text-decoration: underline\"> 352</span><span title=\"0.5700797366558837\" style=\"background-color:rgba(255, 0, 0, 0.5700797366558837);text-decoration: underline\"> votes</span><span title=\"0.06807616255990998\" style=\"background-color:rgba(255, 0, 0, 0.06807616255990998);\"> .</span>"
            ],
            "text/plain": [
              "<IPython.core.display.HTML object>"
            ]
          },
          "metadata": {
            "tags": []
          }
        },
        {
          "output_type": "stream",
          "text": [
            "\n"
          ],
          "name": "stdout"
        },
        {
          "output_type": "display_data",
          "data": {
            "text/html": [
              "<span title=\"0.18429652365670648\" style=\"background-color:rgba(255, 0, 0, 0.18429652365670648);text-decoration: underline\"> The</span><span title=\"0.3119127293036499\" style=\"background-color:rgba(255, 0, 0, 0.3119127293036499);text-decoration: underline\"> Italian</span><span title=\"0.3023771379263044\" style=\"background-color:rgba(255, 0, 0, 0.3023771379263044);text-decoration: underline\"> Constitutional</span><span title=\"0.28259930492669244\" style=\"background-color:rgba(255, 0, 0, 0.28259930492669244);text-decoration: underline\"> Court</span><span title=\"0.042657299848738485\" style=\"background-color:rgba(255, 0, 0, 0.042657299848738485);\"> gave</span><span title=\"0.0668339259124488\" style=\"background-color:rgba(255, 0, 0, 0.0668339259124488);\"> an</span><span title=\"0.08083508650419532\" style=\"background-color:rgba(255, 0, 0, 0.08083508650419532);\"> opinion</span><span title=\"0.04131214556058029\" style=\"background-color:rgba(255, 0, 0, 0.04131214556058029);\"> that</span><span title=\"0.06335623897038492\" style=\"background-color:rgba(255, 0, 0, 0.06335623897038492);text-decoration: underline\"> because</span><span title=\"0.12407989138874698\" style=\"background-color:rgba(255, 0, 0, 0.12407989138874698);text-decoration: underline\"> the</span><span title=\"0.18770331936704454\" style=\"background-color:rgba(255, 0, 0, 0.18770331936704454);text-decoration: underline\"> nationalisation</span><span title=\"0.16670190733855605\" style=\"background-color:rgba(255, 0, 0, 0.16670190733855605);text-decoration: underline\"> law</span><span title=\"0.09878978170656294\" style=\"background-color:rgba(255, 0, 0, 0.09878978170656294);text-decoration: underline\"> was</span><span title=\"0.11577291208478672\" style=\"background-color:rgba(255, 0, 0, 0.11577291208478672);text-decoration: underline\"> from</span><span title=\"0.6116977501782653\" style=\"background-color:rgba(255, 0, 0, 0.6116977501782653);text-decoration: underline\"> 1962</span><span title=\"0.0817339632317915\" style=\"background-color:rgba(255, 0, 0, 0.0817339632317915);text-decoration: underline\"> ,</span><span title=\"0.07778811706322877\" style=\"background-color:rgba(255, 0, 0, 0.07778811706322877);text-decoration: underline\"> and</span><span title=\"0.1144483659041236\" style=\"background-color:rgba(255, 0, 0, 0.1144483659041236);text-decoration: underline\"> the</span><span title=\"0.13507906900348116\" style=\"background-color:rgba(255, 0, 0, 0.13507906900348116);text-decoration: underline\"> treaty</span><span title=\"0.08449705488311487\" style=\"background-color:rgba(255, 0, 0, 0.08449705488311487);text-decoration: underline\"> was</span><span title=\"0.0808832584479327\" style=\"background-color:rgba(255, 0, 0, 0.0808832584479327);text-decoration: underline\"> in</span><span title=\"0.11400813388721774\" style=\"background-color:rgba(255, 0, 0, 0.11400813388721774);text-decoration: underline\"> force</span><span title=\"0.057640574338773336\" style=\"background-color:rgba(255, 0, 0, 0.057640574338773336);text-decoration: underline\"> from</span><span title=\"0.4007676881021862\" style=\"background-color:rgba(255, 0, 0, 0.4007676881021862);text-decoration: underline\"> 1958</span><span title=\"0.024953014698729147\" style=\"background-color:rgba(255, 0, 0, 0.024953014698729147);text-decoration: underline\"> ,</span><span title=\"0.11575991941857659\" style=\"background-color:rgba(255, 0, 0, 0.11575991941857659);text-decoration: underline\"> Costa</span><span title=\"0.05727087295040259\" style=\"background-color:rgba(255, 0, 0, 0.05727087295040259);text-decoration: underline\"> had</span><span title=\"0.09903607616816437\" style=\"background-color:rgba(255, 0, 0, 0.09903607616816437);text-decoration: underline\"> no</span><span title=\"0.13192062517076342\" style=\"background-color:rgba(255, 0, 0, 0.13192062517076342);text-decoration: underline\"> claim</span><span title=\"0.026482259341098744\" style=\"background-color:rgba(255, 0, 0, 0.026482259341098744);\"> .</span>"
            ],
            "text/plain": [
              "<IPython.core.display.HTML object>"
            ]
          },
          "metadata": {
            "tags": []
          }
        },
        {
          "output_type": "stream",
          "text": [
            "\n"
          ],
          "name": "stdout"
        },
        {
          "output_type": "display_data",
          "data": {
            "text/html": [
              "<span title=\"0.2580427652253589\" style=\"background-color:rgba(255, 0, 0, 0.2580427652253589);\"> The</span><span title=\"0.35570477401478107\" style=\"background-color:rgba(255, 0, 0, 0.35570477401478107);\"> Court</span><span title=\"0.31556067567092083\" style=\"background-color:rgba(255, 0, 0, 0.31556067567092083);\"> of</span><span title=\"0.3781229171210045\" style=\"background-color:rgba(255, 0, 0, 0.3781229171210045);\"> Justice</span><span title=\"0.04377388523448611\" style=\"background-color:rgba(255, 0, 0, 0.04377388523448611);\"> ,</span><span title=\"0.05032973013166297\" style=\"background-color:rgba(255, 0, 0, 0.05032973013166297);\"> repeating</span><span title=\"0.06878602762113846\" style=\"background-color:rgba(255, 0, 0, 0.06878602762113846);\"> its</span><span title=\"0.08605714404354214\" style=\"background-color:rgba(255, 0, 0, 0.08605714404354214);\"> view</span><span title=\"0.046912770927591066\" style=\"background-color:rgba(255, 0, 0, 0.046912770927591066);\"> in</span><span title=\"0.6064758233848941\" style=\"background-color:rgba(255, 0, 0, 0.6064758233848941);\"> Van</span><span title=\"0.6306073748753728\" style=\"background-color:rgba(255, 0, 0, 0.6306073748753728);\"> Gend</span><span title=\"0.6303603558982795\" style=\"background-color:rgba(255, 0, 0, 0.6303603558982795);\"> en</span><span title=\"0.6123829934061177\" style=\"background-color:rgba(255, 0, 0, 0.6123829934061177);\"> Loos</span><span title=\"0.06829697926989693\" style=\"background-color:rgba(255, 0, 0, 0.06829697926989693);\"> ,</span><span title=\"0.061933116910468905\" style=\"background-color:rgba(255, 0, 0, 0.061933116910468905);\"> said</span><span title=\"0.22505713029771282\" style=\"background-color:rgba(255, 0, 0, 0.22505713029771282);\"> member</span><span title=\"0.22599956263042484\" style=\"background-color:rgba(255, 0, 0, 0.22599956263042484);\"> states</span><span title=\"0.15236325203116693\" style=\"background-color:rgba(255, 0, 0, 0.15236325203116693);\"> \"</span><span title=\"0.20100670121540945\" style=\"background-color:rgba(255, 0, 0, 0.20100670121540945);\"> albeit</span><span title=\"0.19484551933963998\" style=\"background-color:rgba(255, 0, 0, 0.19484551933963998);\"> within</span><span title=\"0.26206268892551676\" style=\"background-color:rgba(255, 0, 0, 0.26206268892551676);\"> limited</span><span title=\"0.2608866568785818\" style=\"background-color:rgba(255, 0, 0, 0.2608866568785818);\"> spheres</span><span title=\"0.1258736641278515\" style=\"background-color:rgba(255, 0, 0, 0.1258736641278515);\"> ,</span><span title=\"0.11958994496503766\" style=\"background-color:rgba(255, 0, 0, 0.11958994496503766);\"> have</span><span title=\"0.15773548240738852\" style=\"background-color:rgba(255, 0, 0, 0.15773548240738852);\"> restricted</span><span title=\"0.1937189080510611\" style=\"background-color:rgba(255, 0, 0, 0.1937189080510611);\"> their</span><span title=\"0.25471040414628165\" style=\"background-color:rgba(255, 0, 0, 0.25471040414628165);\"> sovereign</span><span title=\"0.2527503372498021\" style=\"background-color:rgba(255, 0, 0, 0.2527503372498021);\"> rights</span><span title=\"0.20658518171108822\" style=\"background-color:rgba(255, 0, 0, 0.20658518171108822);\"> and</span><span title=\"0.2155404366352047\" style=\"background-color:rgba(255, 0, 0, 0.2155404366352047);\"> created</span><span title=\"0.2472630300445314\" style=\"background-color:rgba(255, 0, 0, 0.2472630300445314);\"> a</span><span title=\"0.27185429429056746\" style=\"background-color:rgba(255, 0, 0, 0.27185429429056746);\"> body</span><span title=\"0.23055033101037442\" style=\"background-color:rgba(255, 0, 0, 0.23055033101037442);\"> of</span><span title=\"0.24988998910574667\" style=\"background-color:rgba(255, 0, 0, 0.24988998910574667);\"> law</span><span title=\"0.19714702548011145\" style=\"background-color:rgba(255, 0, 0, 0.19714702548011145);\"> applicable</span><span title=\"0.1781406788469924\" style=\"background-color:rgba(255, 0, 0, 0.1781406788469924);\"> both</span><span title=\"0.17068828678610445\" style=\"background-color:rgba(255, 0, 0, 0.17068828678610445);\"> to</span><span title=\"0.18319293756438804\" style=\"background-color:rgba(255, 0, 0, 0.18319293756438804);\"> their</span><span title=\"0.2066361887064216\" style=\"background-color:rgba(255, 0, 0, 0.2066361887064216);\"> nationals</span><span title=\"0.15760556246828886\" style=\"background-color:rgba(255, 0, 0, 0.15760556246828886);\"> and</span><span title=\"0.15670498009818185\" style=\"background-color:rgba(255, 0, 0, 0.15670498009818185);\"> to</span><span title=\"0.15405181685785432\" style=\"background-color:rgba(255, 0, 0, 0.15405181685785432);\"> themselves</span><span title=\"0.08624935138621453\" style=\"background-color:rgba(255, 0, 0, 0.08624935138621453);\"> \"</span><span title=\"0.07265689079187884\" style=\"background-color:rgba(255, 0, 0, 0.07265689079187884);\"> on</span><span title=\"0.09993264095385379\" style=\"background-color:rgba(255, 0, 0, 0.09993264095385379);\"> the</span><span title=\"0.11741476247318566\" style=\"background-color:rgba(255, 0, 0, 0.11741476247318566);\"> \"</span><span title=\"0.17495800233472492\" style=\"background-color:rgba(255, 0, 0, 0.17495800233472492);\"> basis</span><span title=\"0.1471634966221311\" style=\"background-color:rgba(255, 0, 0, 0.1471634966221311);\"> of</span><span title=\"0.1888246030744516\" style=\"background-color:rgba(255, 0, 0, 0.1888246030744516);\"> reciprocity</span><span title=\"0.08136200058531332\" style=\"background-color:rgba(255, 0, 0, 0.08136200058531332);\"> \"</span><span title=\"0.030139640451075048\" style=\"background-color:rgba(255, 0, 0, 0.030139640451075048);\"> .</span>"
            ],
            "text/plain": [
              "<IPython.core.display.HTML object>"
            ]
          },
          "metadata": {
            "tags": []
          }
        },
        {
          "output_type": "stream",
          "text": [
            "\n"
          ],
          "name": "stdout"
        },
        {
          "output_type": "display_data",
          "data": {
            "text/html": [
              "<span title=\"0.2085982206204953\" style=\"background-color:rgba(255, 0, 0, 0.2085982206204953);\"> German</span><span title=\"0.15927766636450835\" style=\"background-color:rgba(255, 0, 0, 0.15927766636450835);\"> liqueurs</span><span title=\"0.0357927142731081\" style=\"background-color:rgba(255, 0, 0, 0.0357927142731081);\"> were</span><span title=\"0.1610224113803584\" style=\"background-color:rgba(255, 0, 0, 0.1610224113803584);\"> over</span><span title=\"0.4667374198559596\" style=\"background-color:rgba(255, 0, 0, 0.4667374198559596);\"> 25</span><span title=\"0.32770938092626767\" style=\"background-color:rgba(255, 0, 0, 0.32770938092626767);\"> per</span><span title=\"0.3141563351382941\" style=\"background-color:rgba(255, 0, 0, 0.3141563351382941);\"> cent</span><span title=\"0.24688747292159458\" style=\"background-color:rgba(255, 0, 0, 0.24688747292159458);\"> alcohol</span><span title=\"0.04366608809118626\" style=\"background-color:rgba(255, 0, 0, 0.04366608809118626);\"> ,</span><span title=\"0.035202083245342145\" style=\"background-color:rgba(255, 0, 0, 0.035202083245342145);\"> but</span><span title=\"0.6168634707794651\" style=\"background-color:rgba(255, 0, 0, 0.6168634707794651);\"> Cassis</span><span title=\"0.610176604168005\" style=\"background-color:rgba(255, 0, 0, 0.610176604168005);\"> de</span><span title=\"0.578548607014589\" style=\"background-color:rgba(255, 0, 0, 0.578548607014589);\"> Dijon</span><span title=\"0.13522928203831452\" style=\"background-color:rgba(255, 0, 0, 0.13522928203831452);\"> ,</span><span title=\"0.10059536058002524\" style=\"background-color:rgba(255, 0, 0, 0.10059536058002524);\"> which</span><span title=\"0.33246390374476886\" style=\"background-color:rgba(255, 0, 0, 0.33246390374476886);\"> Rewe</span><span title=\"0.2946754296490474\" style=\"background-color:rgba(255, 0, 0, 0.2946754296490474);\"> -</span><span title=\"0.3159737815834177\" style=\"background-color:rgba(255, 0, 0, 0.3159737815834177);\"> Zentrale</span><span title=\"0.2838232762747842\" style=\"background-color:rgba(255, 0, 0, 0.2838232762747842);\"> AG</span><span title=\"0.14436477928129895\" style=\"background-color:rgba(255, 0, 0, 0.14436477928129895);\"> wished</span><span title=\"0.14802262905661562\" style=\"background-color:rgba(255, 0, 0, 0.14802262905661562);\"> to</span><span title=\"0.1572219165598637\" style=\"background-color:rgba(255, 0, 0, 0.1572219165598637);\"> import</span><span title=\"0.15835425423656066\" style=\"background-color:rgba(255, 0, 0, 0.15835425423656066);\"> from</span><span title=\"0.3005333852851878\" style=\"background-color:rgba(255, 0, 0, 0.3005333852851878);text-decoration: underline\"> France</span><span title=\"0.03583275573743826\" style=\"background-color:rgba(255, 0, 0, 0.03583275573743826);\"> ,</span><span title=\"0.022704663125818696\" style=\"background-color:rgba(255, 0, 0, 0.022704663125818696);\"> only</span><span title=\"0.03714946377147909\" style=\"background-color:rgba(255, 0, 0, 0.03714946377147909);\"> had</span><span title=\"0.4110736967385799\" style=\"background-color:rgba(255, 0, 0, 0.4110736967385799);\"> 15</span><span title=\"0.32400462928463386\" style=\"background-color:rgba(255, 0, 0, 0.32400462928463386);\"> to</span><span title=\"0.3896754487263261\" style=\"background-color:rgba(255, 0, 0, 0.3896754487263261);\"> 20</span><span title=\"0.3353124585639372\" style=\"background-color:rgba(255, 0, 0, 0.3353124585639372);\"> per</span><span title=\"0.309531512700989\" style=\"background-color:rgba(255, 0, 0, 0.309531512700989);\"> cent</span><span title=\"0.28550269853002436\" style=\"background-color:rgba(255, 0, 0, 0.28550269853002436);\"> alcohol</span><span title=\"0.06522937759952796\" style=\"background-color:rgba(255, 0, 0, 0.06522937759952796);\"> .</span>"
            ],
            "text/plain": [
              "<IPython.core.display.HTML object>"
            ]
          },
          "metadata": {
            "tags": []
          }
        },
        {
          "output_type": "stream",
          "text": [
            "\n"
          ],
          "name": "stdout"
        },
        {
          "output_type": "display_data",
          "data": {
            "text/html": [
              "<span title=\"0.02372513507218739\" style=\"background-color:rgba(255, 0, 0, 0.02372513507218739);\"> It</span><span title=\"0.016485238337550816\" style=\"background-color:rgba(255, 0, 0, 0.016485238337550816);\"> bought</span><span title=\"0.08508533433221248\" style=\"background-color:rgba(255, 0, 0, 0.08508533433221248);\"> fake</span><span title=\"0.09124491209515602\" style=\"background-color:rgba(255, 0, 0, 0.09124491209515602);\"> laser</span><span title=\"0.0942813538530302\" style=\"background-color:rgba(255, 0, 0, 0.0942813538530302);\"> gun</span><span title=\"0.07594653423396629\" style=\"background-color:rgba(255, 0, 0, 0.07594653423396629);\"> services</span><span title=\"0.0193820672757217\" style=\"background-color:rgba(255, 0, 0, 0.0193820672757217);\"> from</span><span title=\"0.0918131375463084\" style=\"background-color:rgba(255, 0, 0, 0.0918131375463084);\"> a</span><span title=\"0.1495422162846451\" style=\"background-color:rgba(255, 0, 0, 0.1495422162846451);\"> UK</span><span title=\"0.10955224850376469\" style=\"background-color:rgba(255, 0, 0, 0.10955224850376469);\"> firm</span><span title=\"0.07691188379003272\" style=\"background-color:rgba(255, 0, 0, 0.07691188379003272);\"> called</span><span title=\"0.6352053874494993\" style=\"background-color:rgba(255, 0, 0, 0.6352053874494993);\"> Pulsar</span><span title=\"0.6079924305433464\" style=\"background-color:rgba(255, 0, 0, 0.6079924305433464);\"> Ltd</span><span title=\"0.07035275828851059\" style=\"background-color:rgba(255, 0, 0, 0.07035275828851059);\"> ,</span><span title=\"0.04788868406425158\" style=\"background-color:rgba(255, 0, 0, 0.04788868406425158);\"> but</span><span title=\"0.07229442866128849\" style=\"background-color:rgba(255, 0, 0, 0.07229442866128849);\"> residents</span><span title=\"0.029601337003762013\" style=\"background-color:rgba(255, 0, 0, 0.029601337003762013);\"> had</span><span title=\"0.03548265745875999\" style=\"background-color:rgba(255, 0, 0, 0.03548265745875999);\"> protested</span><span title=\"0.040789107837722695\" style=\"background-color:rgba(255, 0, 0, 0.040789107837722695);\"> against</span><span title=\"0.06849981896053209\" style=\"background-color:rgba(255, 0, 0, 0.06849981896053209);\"> \"</span><span title=\"0.09040956205558583\" style=\"background-color:rgba(255, 0, 0, 0.09040956205558583);\"> playing</span><span title=\"0.10878038644928863\" style=\"background-color:rgba(255, 0, 0, 0.10878038644928863);\"> at</span><span title=\"0.17114723441170587\" style=\"background-color:rgba(255, 0, 0, 0.17114723441170587);\"> killing</span><span title=\"0.1509379438478122\" style=\"background-color:rgba(255, 0, 0, 0.1509379438478122);\"> \"</span><span title=\"0.15594362425229283\" style=\"background-color:rgba(255, 0, 0, 0.15594362425229283);\"> entertainment</span><span title=\"0.03233601928442312\" style=\"background-color:rgba(255, 0, 0, 0.03233601928442312);\"> .</span>"
            ],
            "text/plain": [
              "<IPython.core.display.HTML object>"
            ]
          },
          "metadata": {
            "tags": []
          }
        },
        {
          "output_type": "stream",
          "text": [
            "\n"
          ],
          "name": "stdout"
        },
        {
          "output_type": "display_data",
          "data": {
            "text/html": [
              "<span title=\"0.020987691564538884\" style=\"background-color:rgba(255, 0, 0, 0.020987691564538884);\"> By</span><span title=\"0.3581533726019339\" style=\"background-color:rgba(255, 0, 0, 0.3581533726019339);\"> 1900</span><span title=\"0.050393695796939114\" style=\"background-color:rgba(255, 0, 0, 0.050393695796939114);\"> the</span><span title=\"0.07334574970952157\" style=\"background-color:rgba(255, 0, 0, 0.07334574970952157);\"> population</span><span title=\"0.017032268756763586\" style=\"background-color:rgba(255, 0, 0, 0.017032268756763586);\"> had</span><span title=\"0.023829106804296098\" style=\"background-color:rgba(255, 0, 0, 0.023829106804296098);\"> fallen</span><span title=\"0.040898298075068756\" style=\"background-color:rgba(255, 0, 0, 0.040898298075068756);\"> to</span><span title=\"0.6092897981441168\" style=\"background-color:rgba(255, 0, 0, 0.6092897981441168);\"> 1</span><span title=\"0.5296681980942749\" style=\"background-color:rgba(255, 0, 0, 0.5296681980942749);\"> million</span><span title=\"0.05708025192784852\" style=\"background-color:rgba(255, 0, 0, 0.05708025192784852);\"> and</span><span title=\"0.04172538398500927\" style=\"background-color:rgba(255, 0, 0, 0.04172538398500927);\"> by</span><span title=\"0.09424802442347738\" style=\"background-color:rgba(255, 0, 0, 0.09424802442347738);\"> the</span><span title=\"0.14202284597365827\" style=\"background-color:rgba(255, 0, 0, 0.14202284597365827);\"> early</span><span title=\"0.153630938347977\" style=\"background-color:rgba(255, 0, 0, 0.153630938347977);text-decoration: underline\"> 1980s</span><span title=\"0.04769774020117616\" style=\"background-color:rgba(255, 0, 0, 0.04769774020117616);\"> it</span><span title=\"0.051144386889971596\" style=\"background-color:rgba(255, 0, 0, 0.051144386889971596);\"> was</span><span title=\"0.15947606076734494\" style=\"background-color:rgba(255, 0, 0, 0.15947606076734494);text-decoration: underline\"> less</span><span title=\"0.18465267098316498\" style=\"background-color:rgba(255, 0, 0, 0.18465267098316498);text-decoration: underline\"> than</span><span title=\"0.3529292981205263\" style=\"background-color:rgba(255, 0, 0, 0.3529292981205263);text-decoration: underline\"> 200,000</span><span title=\"0.028653105626076862\" style=\"background-color:rgba(255, 0, 0, 0.028653105626076862);text-decoration: underline\"> .</span>"
            ],
            "text/plain": [
              "<IPython.core.display.HTML object>"
            ]
          },
          "metadata": {
            "tags": []
          }
        },
        {
          "output_type": "stream",
          "text": [
            "\n"
          ],
          "name": "stdout"
        },
        {
          "output_type": "display_data",
          "data": {
            "text/html": [
              "<span title=\"0.024989947172431477\" style=\"background-color:rgba(255, 0, 0, 0.024989947172431477);\"> In</span><span title=\"0.04624291382604119\" style=\"background-color:rgba(255, 0, 0, 0.04624291382604119);\"> the</span><span title=\"0.0699363778402284\" style=\"background-color:rgba(255, 0, 0, 0.0699363778402284);\"> region</span><span title=\"0.04018613380964233\" style=\"background-color:rgba(255, 0, 0, 0.04018613380964233);\"> of</span><span title=\"0.07174545208717131\" style=\"background-color:rgba(255, 0, 0, 0.07174545208717131);\"> the</span><span title=\"0.2272900461792692\" style=\"background-color:rgba(255, 0, 0, 0.2272900461792692);text-decoration: underline\"> Xingu</span><span title=\"0.18173836669210908\" style=\"background-color:rgba(255, 0, 0, 0.18173836669210908);text-decoration: underline\"> tribe</span><span title=\"0.04351197538986722\" style=\"background-color:rgba(255, 0, 0, 0.04351197538986722);\"> ,</span><span title=\"0.07169723254380903\" style=\"background-color:rgba(255, 0, 0, 0.07169723254380903);\"> remains</span><span title=\"0.04256513970560081\" style=\"background-color:rgba(255, 0, 0, 0.04256513970560081);\"> of</span><span title=\"0.052292670290357404\" style=\"background-color:rgba(255, 0, 0, 0.052292670290357404);\"> some</span><span title=\"0.04437472432824072\" style=\"background-color:rgba(255, 0, 0, 0.04437472432824072);\"> of</span><span title=\"0.05620774901827287\" style=\"background-color:rgba(255, 0, 0, 0.05620774901827287);\"> these</span><span title=\"0.07506044131074048\" style=\"background-color:rgba(255, 0, 0, 0.07506044131074048);\"> large</span><span title=\"0.07601184120086113\" style=\"background-color:rgba(255, 0, 0, 0.07601184120086113);\"> settlements</span><span title=\"0.03707633412972704\" style=\"background-color:rgba(255, 0, 0, 0.03707633412972704);\"> in</span><span title=\"0.054464054537072586\" style=\"background-color:rgba(255, 0, 0, 0.054464054537072586);\"> the</span><span title=\"0.07132466592320305\" style=\"background-color:rgba(255, 0, 0, 0.07132466592320305);\"> middle</span><span title=\"0.038658941275079385\" style=\"background-color:rgba(255, 0, 0, 0.038658941275079385);\"> of</span><span title=\"0.05012754001857626\" style=\"background-color:rgba(255, 0, 0, 0.05012754001857626);\"> the</span><span title=\"0.1155133958052249\" style=\"background-color:rgba(255, 0, 0, 0.1155133958052249);\"> Amazon</span><span title=\"0.08234225923270612\" style=\"background-color:rgba(255, 0, 0, 0.08234225923270612);\"> forest</span><span title=\"0.02248041616287481\" style=\"background-color:rgba(255, 0, 0, 0.02248041616287481);\"> were</span><span title=\"0.027255371898862856\" style=\"background-color:rgba(255, 0, 0, 0.027255371898862856);\"> found</span><span title=\"0.024262403368490407\" style=\"background-color:rgba(255, 0, 0, 0.024262403368490407);\"> in</span><span title=\"0.23198427221027831\" style=\"background-color:rgba(255, 0, 0, 0.23198427221027831);\"> 2003</span><span title=\"0.03803864845890317\" style=\"background-color:rgba(255, 0, 0, 0.03803864845890317);\"> by</span><span title=\"0.6379257461049737\" style=\"background-color:rgba(255, 0, 0, 0.6379257461049737);text-decoration: underline\"> Michael</span><span title=\"0.595396338303929\" style=\"background-color:rgba(255, 0, 0, 0.595396338303929);text-decoration: underline\"> Heckenberger</span><span title=\"0.4337673909996476\" style=\"background-color:rgba(255, 0, 0, 0.4337673909996476);text-decoration: underline\"> and</span><span title=\"0.4308528332083832\" style=\"background-color:rgba(255, 0, 0, 0.4308528332083832);text-decoration: underline\"> colleagues</span><span title=\"0.36617929000989075\" style=\"background-color:rgba(255, 0, 0, 0.36617929000989075);text-decoration: underline\"> of</span><span title=\"0.4210810236614466\" style=\"background-color:rgba(255, 0, 0, 0.4210810236614466);text-decoration: underline\"> the</span><span title=\"0.5202414234999575\" style=\"background-color:rgba(255, 0, 0, 0.5202414234999575);text-decoration: underline\"> University</span><span title=\"0.4750103284110122\" style=\"background-color:rgba(255, 0, 0, 0.4750103284110122);text-decoration: underline\"> of</span><span title=\"0.523664203797459\" style=\"background-color:rgba(255, 0, 0, 0.523664203797459);text-decoration: underline\"> Florida</span><span title=\"0.07061050080656726\" style=\"background-color:rgba(255, 0, 0, 0.07061050080656726);\"> .</span>"
            ],
            "text/plain": [
              "<IPython.core.display.HTML object>"
            ]
          },
          "metadata": {
            "tags": []
          }
        },
        {
          "output_type": "stream",
          "text": [
            "\n"
          ],
          "name": "stdout"
        },
        {
          "output_type": "display_data",
          "data": {
            "text/html": [
              "<span title=\"0.06390610013414265\" style=\"background-color:rgba(255, 0, 0, 0.06390610013414265);\"> The</span><span title=\"0.09487837530856498\" style=\"background-color:rgba(255, 0, 0, 0.09487837530856498);\"> total</span><span title=\"0.09361126236200967\" style=\"background-color:rgba(255, 0, 0, 0.09361126236200967);\"> number</span><span title=\"0.08279192441879392\" style=\"background-color:rgba(255, 0, 0, 0.08279192441879392);\"> of</span><span title=\"0.16362895739136085\" style=\"background-color:rgba(255, 0, 0, 0.16362895739136085);\"> tree</span><span title=\"0.14710705455784578\" style=\"background-color:rgba(255, 0, 0, 0.14710705455784578);\"> species</span><span title=\"0.07729136315686684\" style=\"background-color:rgba(255, 0, 0, 0.07729136315686684);\"> in</span><span title=\"0.100734225423386\" style=\"background-color:rgba(255, 0, 0, 0.100734225423386);\"> the</span><span title=\"0.12821377700071498\" style=\"background-color:rgba(255, 0, 0, 0.12821377700071498);\"> region</span><span title=\"0.02898875109761393\" style=\"background-color:rgba(255, 0, 0, 0.02898875109761393);\"> is</span><span title=\"0.041192056118880896\" style=\"background-color:rgba(255, 0, 0, 0.041192056118880896);\"> estimated</span><span title=\"0.08352119895485813\" style=\"background-color:rgba(255, 0, 0, 0.08352119895485813);\"> at</span><span title=\"0.7265282125512731\" style=\"background-color:rgba(255, 0, 0, 0.7265282125512731);\"> 16,000</span><span title=\"0.023808673256513094\" style=\"background-color:rgba(255, 0, 0, 0.023808673256513094);\"> .</span>"
            ],
            "text/plain": [
              "<IPython.core.display.HTML object>"
            ]
          },
          "metadata": {
            "tags": []
          }
        },
        {
          "output_type": "stream",
          "text": [
            "\n"
          ],
          "name": "stdout"
        },
        {
          "output_type": "display_data",
          "data": {
            "text/html": [
              "<span title=\"0.032943898366804274\" style=\"background-color:rgba(255, 0, 0, 0.032943898366804274);\"> If</span><span title=\"0.09589654405988522\" style=\"background-color:rgba(255, 0, 0, 0.09589654405988522);\"> food</span><span title=\"0.03128386787946557\" style=\"background-color:rgba(255, 0, 0, 0.03128386787946557);\"> is</span><span title=\"0.085861369278494\" style=\"background-color:rgba(255, 0, 0, 0.085861369278494);\"> plentiful</span><span title=\"0.025501068369650156\" style=\"background-color:rgba(255, 0, 0, 0.025501068369650156);\"> ,</span><span title=\"0.04317539045204709\" style=\"background-color:rgba(255, 0, 0, 0.04317539045204709);\"> they</span><span title=\"0.0478441165501025\" style=\"background-color:rgba(255, 0, 0, 0.0478441165501025);\"> can</span><span title=\"0.08854672346546938\" style=\"background-color:rgba(255, 0, 0, 0.08854672346546938);\"> eat</span><span title=\"0.8018056579853359\" style=\"background-color:rgba(255, 0, 0, 0.8018056579853359);text-decoration: underline\"> 10</span><span title=\"0.5790152330844002\" style=\"background-color:rgba(255, 0, 0, 0.5790152330844002);text-decoration: underline\"> times</span><span title=\"0.5456150256777792\" style=\"background-color:rgba(255, 0, 0, 0.5456150256777792);text-decoration: underline\"> their</span><span title=\"0.552678354299091\" style=\"background-color:rgba(255, 0, 0, 0.552678354299091);text-decoration: underline\"> own</span><span title=\"0.5337010450805333\" style=\"background-color:rgba(255, 0, 0, 0.5337010450805333);text-decoration: underline\"> weight</span><span title=\"0.43785889431213887\" style=\"background-color:rgba(255, 0, 0, 0.43785889431213887);\"> per</span><span title=\"0.43989003627126055\" style=\"background-color:rgba(255, 0, 0, 0.43989003627126055);\"> day</span><span title=\"0.0906811607063221\" style=\"background-color:rgba(255, 0, 0, 0.0906811607063221);\"> .</span>"
            ],
            "text/plain": [
              "<IPython.core.display.HTML object>"
            ]
          },
          "metadata": {
            "tags": []
          }
        },
        {
          "output_type": "stream",
          "text": [
            "\n"
          ],
          "name": "stdout"
        },
        {
          "output_type": "display_data",
          "data": {
            "text/html": [
              "<span title=\"0.01954357332291825\" style=\"background-color:rgba(255, 0, 0, 0.01954357332291825);\"> As</span><span title=\"0.032624341827513\" style=\"background-color:rgba(255, 0, 0, 0.032624341827513);\"> of</span><span title=\"0.32681818715298855\" style=\"background-color:rgba(255, 0, 0, 0.32681818715298855);\"> 2015</span><span title=\"0.009927132441015927\" style=\"background-color:rgba(255, 0, 0, 0.009927132441015927);\"> ,</span><span title=\"0.02897776070027908\" style=\"background-color:rgba(255, 0, 0, 0.02897776070027908);\"> the</span><span title=\"0.0502445645297698\" style=\"background-color:rgba(255, 0, 0, 0.0502445645297698);\"> city</span><span title=\"0.04231549235925745\" style=\"background-color:rgba(255, 0, 0, 0.04231549235925745);\"> 's</span><span title=\"0.0572572622873853\" style=\"background-color:rgba(255, 0, 0, 0.0572572622873853);\"> population</span><span title=\"0.013835229819679376\" style=\"background-color:rgba(255, 0, 0, 0.013835229819679376);\"> was</span><span title=\"0.5411106887354517\" style=\"background-color:rgba(255, 0, 0, 0.5411106887354517);text-decoration: underline\"> 520,159</span><span title=\"0.028217912803960174\" style=\"background-color:rgba(255, 0, 0, 0.028217912803960174);\"> ,</span><span title=\"0.03933899495309378\" style=\"background-color:rgba(255, 0, 0, 0.03933899495309378);\"> making</span><span title=\"0.045943668532231224\" style=\"background-color:rgba(255, 0, 0, 0.045943668532231224);\"> it</span><span title=\"0.052948956024271576\" style=\"background-color:rgba(255, 0, 0, 0.052948956024271576);\"> the</span><span title=\"0.0817289349762535\" style=\"background-color:rgba(255, 0, 0, 0.0817289349762535);\"> fifth</span><span title=\"0.06578364393344673\" style=\"background-color:rgba(255, 0, 0, 0.06578364393344673);\"> -</span><span title=\"0.0659063467738693\" style=\"background-color:rgba(255, 0, 0, 0.0659063467738693);\"> largest</span><span title=\"0.06597985179131761\" style=\"background-color:rgba(255, 0, 0, 0.06597985179131761);\"> city</span><span title=\"0.04682135861851248\" style=\"background-color:rgba(255, 0, 0, 0.04682135861851248);\"> in</span><span title=\"0.16419624341077058\" style=\"background-color:rgba(255, 0, 0, 0.16419624341077058);\"> California</span><span title=\"0.02405106990455192\" style=\"background-color:rgba(255, 0, 0, 0.02405106990455192);\"> ,</span><span title=\"0.02912725293093523\" style=\"background-color:rgba(255, 0, 0, 0.02912725293093523);\"> the</span><span title=\"0.04065909274102599\" style=\"background-color:rgba(255, 0, 0, 0.04065909274102599);\"> largest</span><span title=\"0.040948329310552777\" style=\"background-color:rgba(255, 0, 0, 0.040948329310552777);\"> inland</span><span title=\"0.04309497340179842\" style=\"background-color:rgba(255, 0, 0, 0.04309497340179842);\"> city</span><span title=\"0.025104018039903035\" style=\"background-color:rgba(255, 0, 0, 0.025104018039903035);\"> in</span><span title=\"0.1299371589152577\" style=\"background-color:rgba(255, 0, 0, 0.1299371589152577);\"> California</span><span title=\"0.04709375763132613\" style=\"background-color:rgba(255, 0, 0, 0.04709375763132613);\"> and</span><span title=\"0.05339782652040713\" style=\"background-color:rgba(255, 0, 0, 0.05339782652040713);\"> the</span><span title=\"0.09559385661607085\" style=\"background-color:rgba(255, 0, 0, 0.09559385661607085);\"> 34th</span><span title=\"0.07869930037345033\" style=\"background-color:rgba(255, 0, 0, 0.07869930037345033);\"> -</span><span title=\"0.07705040772012708\" style=\"background-color:rgba(255, 0, 0, 0.07705040772012708);\"> largest</span><span title=\"0.05761674442747855\" style=\"background-color:rgba(255, 0, 0, 0.05761674442747855);\"> in</span><span title=\"0.08458653912274021\" style=\"background-color:rgba(255, 0, 0, 0.08458653912274021);\"> the</span><span title=\"0.11433077572697495\" style=\"background-color:rgba(255, 0, 0, 0.11433077572697495);\"> nation</span><span title=\"0.019806219224199083\" style=\"background-color:rgba(255, 0, 0, 0.019806219224199083);\"> .</span>"
            ],
            "text/plain": [
              "<IPython.core.display.HTML object>"
            ]
          },
          "metadata": {
            "tags": []
          }
        },
        {
          "output_type": "stream",
          "text": [
            "\n"
          ],
          "name": "stdout"
        },
        {
          "output_type": "display_data",
          "data": {
            "text/html": [
              "<span title=\"0.03159006261103191\" style=\"background-color:rgba(255, 0, 0, 0.03159006261103191);\"> In</span><span title=\"0.44894222509244985\" style=\"background-color:rgba(255, 0, 0, 0.44894222509244985);text-decoration: underline\"> 1976</span><span title=\"0.015205599571797073\" style=\"background-color:rgba(255, 0, 0, 0.015205599571797073);\"> ,</span><span title=\"0.1152150416501295\" style=\"background-color:rgba(255, 0, 0, 0.1152150416501295);\"> BankAmericard</span><span title=\"0.023649385435545102\" style=\"background-color:rgba(255, 0, 0, 0.023649385435545102);\"> was</span><span title=\"0.04211571912360604\" style=\"background-color:rgba(255, 0, 0, 0.04211571912360604);\"> renamed</span><span title=\"0.041483671724895074\" style=\"background-color:rgba(255, 0, 0, 0.041483671724895074);\"> and</span><span title=\"0.04893883117293476\" style=\"background-color:rgba(255, 0, 0, 0.04893883117293476);\"> spun</span><span title=\"0.044448549174794794\" style=\"background-color:rgba(255, 0, 0, 0.044448549174794794);\"> off</span><span title=\"0.03744420583782007\" style=\"background-color:rgba(255, 0, 0, 0.03744420583782007);\"> into</span><span title=\"0.08619664200123829\" style=\"background-color:rgba(255, 0, 0, 0.08619664200123829);\"> a</span><span title=\"0.10290605185213539\" style=\"background-color:rgba(255, 0, 0, 0.10290605185213539);\"> separate</span><span title=\"0.08877481547842456\" style=\"background-color:rgba(255, 0, 0, 0.08877481547842456);\"> company</span><span title=\"0.051318830771773946\" style=\"background-color:rgba(255, 0, 0, 0.051318830771773946);\"> known</span><span title=\"0.07891311714839752\" style=\"background-color:rgba(255, 0, 0, 0.07891311714839752);\"> today</span><span title=\"0.06677424990932154\" style=\"background-color:rgba(255, 0, 0, 0.06677424990932154);\"> as</span><span title=\"0.8041091578921262\" style=\"background-color:rgba(255, 0, 0, 0.8041091578921262);text-decoration: underline\"> Visa</span><span title=\"0.811962861264177\" style=\"background-color:rgba(255, 0, 0, 0.811962861264177);text-decoration: underline\"> Inc.</span>"
            ],
            "text/plain": [
              "<IPython.core.display.HTML object>"
            ]
          },
          "metadata": {
            "tags": []
          }
        },
        {
          "output_type": "stream",
          "text": [
            "\n"
          ],
          "name": "stdout"
        },
        {
          "output_type": "display_data",
          "data": {
            "text/html": [
              "<span title=\"0.5807008156965312\" style=\"background-color:rgba(255, 0, 0, 0.5807008156965312);\"> Woodward</span><span title=\"0.5654060889050038\" style=\"background-color:rgba(255, 0, 0, 0.5654060889050038);\"> Park</span><span title=\"0.09532712651817173\" style=\"background-color:rgba(255, 0, 0, 0.09532712651817173);\"> ,</span><span title=\"0.0538516448583628\" style=\"background-color:rgba(255, 0, 0, 0.0538516448583628);\"> which</span><span title=\"0.05187179162121007\" style=\"background-color:rgba(255, 0, 0, 0.05187179162121007);\"> features</span><span title=\"0.13081096852758015\" style=\"background-color:rgba(255, 0, 0, 0.13081096852758015);\"> the</span><span title=\"0.3664327067701727\" style=\"background-color:rgba(255, 0, 0, 0.3664327067701727);text-decoration: underline\"> Shinzen</span><span title=\"0.3715152232569864\" style=\"background-color:rgba(255, 0, 0, 0.3715152232569864);text-decoration: underline\"> Japanese</span><span title=\"0.3636629672755611\" style=\"background-color:rgba(255, 0, 0, 0.3636629672755611);text-decoration: underline\"> Gardens</span><span title=\"0.14252257088815232\" style=\"background-color:rgba(255, 0, 0, 0.14252257088815232);\"> ,</span><span title=\"0.20618304055229048\" style=\"background-color:rgba(255, 0, 0, 0.20618304055229048);\"> numerous</span><span title=\"0.23459186685147657\" style=\"background-color:rgba(255, 0, 0, 0.23459186685147657);\"> picnic</span><span title=\"0.23102647458094214\" style=\"background-color:rgba(255, 0, 0, 0.23102647458094214);\"> areas</span><span title=\"0.19212722070950072\" style=\"background-color:rgba(255, 0, 0, 0.19212722070950072);\"> and</span><span title=\"0.2367933494013797\" style=\"background-color:rgba(255, 0, 0, 0.2367933494013797);text-decoration: underline\"> several</span><span title=\"0.24617953713405363\" style=\"background-color:rgba(255, 0, 0, 0.24617953713405363);text-decoration: underline\"> miles</span><span title=\"0.18094817929555654\" style=\"background-color:rgba(255, 0, 0, 0.18094817929555654);\"> of</span><span title=\"0.22409765017389582\" style=\"background-color:rgba(255, 0, 0, 0.22409765017389582);\"> trails</span><span title=\"0.04896044288207873\" style=\"background-color:rgba(255, 0, 0, 0.04896044288207873);\"> ,</span><span title=\"0.02349934283097069\" style=\"background-color:rgba(255, 0, 0, 0.02349934283097069);\"> is</span><span title=\"0.03706199007676469\" style=\"background-color:rgba(255, 0, 0, 0.03706199007676469);\"> in</span><span title=\"0.3034535887269327\" style=\"background-color:rgba(255, 0, 0, 0.3034535887269327);\"> North</span><span title=\"0.26697819090438957\" style=\"background-color:rgba(255, 0, 0, 0.26697819090438957);\"> Fresno</span><span title=\"0.10322509567944269\" style=\"background-color:rgba(255, 0, 0, 0.10322509567944269);\"> and</span><span title=\"0.08316148371434252\" style=\"background-color:rgba(255, 0, 0, 0.08316148371434252);\"> is</span><span title=\"0.10669626874423423\" style=\"background-color:rgba(255, 0, 0, 0.10669626874423423);\"> adjacent</span><span title=\"0.08730260541944143\" style=\"background-color:rgba(255, 0, 0, 0.08730260541944143);\"> to</span><span title=\"0.16166424477357258\" style=\"background-color:rgba(255, 0, 0, 0.16166424477357258);\"> the</span><span title=\"0.35069883368833576\" style=\"background-color:rgba(255, 0, 0, 0.35069883368833576);\"> San</span><span title=\"0.35963756505208466\" style=\"background-color:rgba(255, 0, 0, 0.35963756505208466);\"> Joaquin</span><span title=\"0.3746977996565059\" style=\"background-color:rgba(255, 0, 0, 0.3746977996565059);\"> River</span><span title=\"0.37006804796147474\" style=\"background-color:rgba(255, 0, 0, 0.37006804796147474);\"> Parkway</span><span title=\"0.041279679756078644\" style=\"background-color:rgba(255, 0, 0, 0.041279679756078644);\"> .</span>"
            ],
            "text/plain": [
              "<IPython.core.display.HTML object>"
            ]
          },
          "metadata": {
            "tags": []
          }
        },
        {
          "output_type": "stream",
          "text": [
            "\n"
          ],
          "name": "stdout"
        },
        {
          "output_type": "display_data",
          "data": {
            "text/html": [
              "<span title=\"0.5684996367674281\" style=\"background-color:rgba(255, 0, 0, 0.5684996367674281);text-decoration: underline\"> Kearney</span><span title=\"0.5450423503879621\" style=\"background-color:rgba(255, 0, 0, 0.5450423503879621);text-decoration: underline\"> Park</span><span title=\"0.04167630952061081\" style=\"background-color:rgba(255, 0, 0, 0.04167630952061081);\"> is</span><span title=\"0.06127429656215085\" style=\"background-color:rgba(255, 0, 0, 0.06127429656215085);\"> the</span><span title=\"0.06873260663787026\" style=\"background-color:rgba(255, 0, 0, 0.06873260663787026);\"> largest</span><span title=\"0.044570714407154384\" style=\"background-color:rgba(255, 0, 0, 0.044570714407154384);\"> of</span><span title=\"0.06763241107398293\" style=\"background-color:rgba(255, 0, 0, 0.06763241107398293);\"> the</span><span title=\"0.20183169635211407\" style=\"background-color:rgba(255, 0, 0, 0.20183169635211407);\"> Fresno</span><span title=\"0.14759825320010678\" style=\"background-color:rgba(255, 0, 0, 0.14759825320010678);\"> region</span><span title=\"0.12393882752189211\" style=\"background-color:rgba(255, 0, 0, 0.12393882752189211);\"> 's</span><span title=\"0.15742395142945736\" style=\"background-color:rgba(255, 0, 0, 0.15742395142945736);\"> park</span><span title=\"0.15171077048212592\" style=\"background-color:rgba(255, 0, 0, 0.15171077048212592);\"> system</span><span title=\"0.06630614178637505\" style=\"background-color:rgba(255, 0, 0, 0.06630614178637505);\"> and</span><span title=\"0.054877529403354636\" style=\"background-color:rgba(255, 0, 0, 0.054877529403354636);\"> is</span><span title=\"0.10198426573383917\" style=\"background-color:rgba(255, 0, 0, 0.10198426573383917);\"> home</span><span title=\"0.06160323236981045\" style=\"background-color:rgba(255, 0, 0, 0.06160323236981045);\"> to</span><span title=\"0.146710844206308\" style=\"background-color:rgba(255, 0, 0, 0.146710844206308);\"> historic</span><span title=\"0.2068875049202457\" style=\"background-color:rgba(255, 0, 0, 0.2068875049202457);text-decoration: underline\"> Kearney</span><span title=\"0.20485667162329282\" style=\"background-color:rgba(255, 0, 0, 0.20485667162329282);text-decoration: underline\"> Mansion</span><span title=\"0.06711415947397076\" style=\"background-color:rgba(255, 0, 0, 0.06711415947397076);\"> and</span><span title=\"0.07105116896897172\" style=\"background-color:rgba(255, 0, 0, 0.07105116896897172);\"> plays</span><span title=\"0.09604225558434035\" style=\"background-color:rgba(255, 0, 0, 0.09604225558434035);\"> host</span><span title=\"0.05883589559512225\" style=\"background-color:rgba(255, 0, 0, 0.05883589559512225);\"> to</span><span title=\"0.11796287412150268\" style=\"background-color:rgba(255, 0, 0, 0.11796287412150268);\"> the</span><span title=\"0.2674279647626985\" style=\"background-color:rgba(255, 0, 0, 0.2674279647626985);\"> annual</span><span title=\"0.3613765118247238\" style=\"background-color:rgba(255, 0, 0, 0.3613765118247238);\"> Civil</span><span title=\"0.36697756786169233\" style=\"background-color:rgba(255, 0, 0, 0.36697756786169233);\"> War</span><span title=\"0.3273770901442758\" style=\"background-color:rgba(255, 0, 0, 0.3273770901442758);\"> Revisited</span><span title=\"0.15674446000170794\" style=\"background-color:rgba(255, 0, 0, 0.15674446000170794);\"> ,</span><span title=\"0.15528014356740225\" style=\"background-color:rgba(255, 0, 0, 0.15528014356740225);\"> the</span><span title=\"0.17732681695114244\" style=\"background-color:rgba(255, 0, 0, 0.17732681695114244);\"> largest</span><span title=\"0.17529681080827755\" style=\"background-color:rgba(255, 0, 0, 0.17529681080827755);\"> reenactment</span><span title=\"0.14280244137983492\" style=\"background-color:rgba(255, 0, 0, 0.14280244137983492);\"> of</span><span title=\"0.2077482963545534\" style=\"background-color:rgba(255, 0, 0, 0.2077482963545534);\"> the</span><span title=\"0.3392290533384677\" style=\"background-color:rgba(255, 0, 0, 0.3392290533384677);\"> Civil</span><span title=\"0.3215805804588679\" style=\"background-color:rgba(255, 0, 0, 0.3215805804588679);\"> War</span><span title=\"0.17850732933899885\" style=\"background-color:rgba(255, 0, 0, 0.17850732933899885);\"> in</span><span title=\"0.21263407657974576\" style=\"background-color:rgba(255, 0, 0, 0.21263407657974576);\"> the</span><span title=\"0.2639826977587963\" style=\"background-color:rgba(255, 0, 0, 0.2639826977587963);\"> west</span><span title=\"0.2723028072628226\" style=\"background-color:rgba(255, 0, 0, 0.2723028072628226);\"> coast</span><span title=\"0.24421140651973142\" style=\"background-color:rgba(255, 0, 0, 0.24421140651973142);\"> of</span><span title=\"0.29326913518321285\" style=\"background-color:rgba(255, 0, 0, 0.29326913518321285);\"> the</span><span title=\"0.5343852397923959\" style=\"background-color:rgba(255, 0, 0, 0.5343852397923959);\"> U.S.</span>"
            ],
            "text/plain": [
              "<IPython.core.display.HTML object>"
            ]
          },
          "metadata": {
            "tags": []
          }
        },
        {
          "output_type": "stream",
          "text": [
            "\n"
          ],
          "name": "stdout"
        },
        {
          "output_type": "display_data",
          "data": {
            "text/html": [
              "<span title=\"0.04043454281841644\" style=\"background-color:rgba(255, 0, 0, 0.04043454281841644);\"> It</span><span title=\"0.009519639110533207\" style=\"background-color:rgba(255, 0, 0, 0.009519639110533207);\"> is</span><span title=\"0.01922396889382743\" style=\"background-color:rgba(255, 0, 0, 0.01922396889382743);\"> also</span><span title=\"0.035073986556740724\" style=\"background-color:rgba(255, 0, 0, 0.035073986556740724);\"> the</span><span title=\"0.07147429702981624\" style=\"background-color:rgba(255, 0, 0, 0.07147429702981624);\"> home</span><span title=\"0.044986823500366445\" style=\"background-color:rgba(255, 0, 0, 0.044986823500366445);\"> of</span><span title=\"0.2379015657115785\" style=\"background-color:rgba(255, 0, 0, 0.2379015657115785);\"> the</span><span title=\"0.5107157304181114\" style=\"background-color:rgba(255, 0, 0, 0.5107157304181114);text-decoration: underline\"> Sunnyside</span><span title=\"0.5046210131748055\" style=\"background-color:rgba(255, 0, 0, 0.5046210131748055);\"> Country</span><span title=\"0.4891095058644776\" style=\"background-color:rgba(255, 0, 0, 0.4891095058644776);\"> Club</span><span title=\"0.08514576391553685\" style=\"background-color:rgba(255, 0, 0, 0.08514576391553685);\"> ,</span><span title=\"0.060840270337723976\" style=\"background-color:rgba(255, 0, 0, 0.060840270337723976);\"> which</span><span title=\"0.07137710373621474\" style=\"background-color:rgba(255, 0, 0, 0.07137710373621474);\"> maintains</span><span title=\"0.11804543668621485\" style=\"background-color:rgba(255, 0, 0, 0.11804543668621485);\"> a</span><span title=\"0.16233439547239556\" style=\"background-color:rgba(255, 0, 0, 0.16233439547239556);\"> golf</span><span title=\"0.13901301403619182\" style=\"background-color:rgba(255, 0, 0, 0.13901301403619182);\"> course</span><span title=\"0.09151363545289212\" style=\"background-color:rgba(255, 0, 0, 0.09151363545289212);\"> designed</span><span title=\"0.09972672868722378\" style=\"background-color:rgba(255, 0, 0, 0.09972672868722378);\"> by</span><span title=\"0.71581653357491\" style=\"background-color:rgba(255, 0, 0, 0.71581653357491);text-decoration: underline\"> William</span><span title=\"0.7163156126881443\" style=\"background-color:rgba(255, 0, 0, 0.7163156126881443);text-decoration: underline\"> P.</span><span title=\"0.7005020662668948\" style=\"background-color:rgba(255, 0, 0, 0.7005020662668948);text-decoration: underline\"> Bell</span><span title=\"0.06299148608518582\" style=\"background-color:rgba(255, 0, 0, 0.06299148608518582);\"> .</span>"
            ],
            "text/plain": [
              "<IPython.core.display.HTML object>"
            ]
          },
          "metadata": {
            "tags": []
          }
        },
        {
          "output_type": "stream",
          "text": [
            "\n"
          ],
          "name": "stdout"
        },
        {
          "output_type": "display_data",
          "data": {
            "text/html": [
              "<span title=\"0.020111738322788716\" style=\"background-color:rgba(255, 0, 0, 0.020111738322788716);\"> Also</span><span title=\"0.01678297759058022\" style=\"background-color:rgba(255, 0, 0, 0.01678297759058022);\"> in</span><span title=\"0.14834149363509558\" style=\"background-color:rgba(255, 0, 0, 0.14834149363509558);\"> the</span><span title=\"0.3216685188124125\" style=\"background-color:rgba(255, 0, 0, 0.3216685188124125);\"> Tower</span><span title=\"0.3064694891774161\" style=\"background-color:rgba(255, 0, 0, 0.3064694891774161);\"> District</span><span title=\"0.029319000593066923\" style=\"background-color:rgba(255, 0, 0, 0.029319000593066923);\"> is</span><span title=\"0.6346670196981531\" style=\"background-color:rgba(255, 0, 0, 0.6346670196981531);\"> Good</span><span title=\"0.6217412802984948\" style=\"background-color:rgba(255, 0, 0, 0.6217412802984948);\"> Company</span><span title=\"0.5792066303944607\" style=\"background-color:rgba(255, 0, 0, 0.5792066303944607);\"> Players</span><span title=\"0.5055528722561085\" style=\"background-color:rgba(255, 0, 0, 0.5055528722561085);\"> '</span><span title=\"0.5591194954817555\" style=\"background-color:rgba(255, 0, 0, 0.5591194954817555);\"> 2nd</span><span title=\"0.590333536951866\" style=\"background-color:rgba(255, 0, 0, 0.590333536951866);\"> Space</span><span title=\"0.5715272757523163\" style=\"background-color:rgba(255, 0, 0, 0.5715272757523163);\"> Theatre</span><span title=\"0.08047410583141591\" style=\"background-color:rgba(255, 0, 0, 0.08047410583141591);\"> .</span>"
            ],
            "text/plain": [
              "<IPython.core.display.HTML object>"
            ]
          },
          "metadata": {
            "tags": []
          }
        },
        {
          "output_type": "stream",
          "text": [
            "\n"
          ],
          "name": "stdout"
        },
        {
          "output_type": "display_data",
          "data": {
            "text/html": [
              "<span title=\"0.1298854880049409\" style=\"background-color:rgba(255, 0, 0, 0.1298854880049409);\"> The</span><span title=\"0.1560921429349178\" style=\"background-color:rgba(255, 0, 0, 0.1560921429349178);\"> park</span><span title=\"0.04666662459125791\" style=\"background-color:rgba(255, 0, 0, 0.04666662459125791);\"> is</span><span title=\"0.16306374513468858\" style=\"background-color:rgba(255, 0, 0, 0.16306374513468858);\"> open</span><span title=\"0.34186441746491397\" style=\"background-color:rgba(255, 0, 0, 0.34186441746491397);text-decoration: underline\"> April</span><span title=\"0.32591202612391906\" style=\"background-color:rgba(255, 0, 0, 0.32591202612391906);text-decoration: underline\"> through</span><span title=\"0.4195139380842243\" style=\"background-color:rgba(255, 0, 0, 0.4195139380842243);text-decoration: underline\"> October</span><span title=\"0.23196233786860784\" style=\"background-color:rgba(255, 0, 0, 0.23196233786860784);text-decoration: underline\"> ,</span><span title=\"0.626376441413208\" style=\"background-color:rgba(255, 0, 0, 0.626376441413208);text-decoration: underline\"> 6</span><span title=\"0.5937657860134147\" style=\"background-color:rgba(255, 0, 0, 0.5937657860134147);text-decoration: underline\"> am</span><span title=\"0.5916865209347014\" style=\"background-color:rgba(255, 0, 0, 0.5916865209347014);text-decoration: underline\"> to</span><span title=\"0.8228518316834712\" style=\"background-color:rgba(255, 0, 0, 0.8228518316834712);text-decoration: underline\"> 10</span><span title=\"0.7921390949152286\" style=\"background-color:rgba(255, 0, 0, 0.7921390949152286);text-decoration: underline\"> pm</span>"
            ],
            "text/plain": [
              "<IPython.core.display.HTML object>"
            ]
          },
          "metadata": {
            "tags": []
          }
        },
        {
          "output_type": "stream",
          "text": [
            "\n"
          ],
          "name": "stdout"
        },
        {
          "output_type": "display_data",
          "data": {
            "text/html": [
              "<span title=\"0.074408517263408\" style=\"background-color:rgba(255, 0, 0, 0.074408517263408);\"> The</span><span title=\"0.11270626233769951\" style=\"background-color:rgba(255, 0, 0, 0.11270626233769951);\"> racial</span><span title=\"0.10714236297379437\" style=\"background-color:rgba(255, 0, 0, 0.10714236297379437);\"> makeup</span><span title=\"0.08287807534136568\" style=\"background-color:rgba(255, 0, 0, 0.08287807534136568);\"> of</span><span title=\"0.18788333976585792\" style=\"background-color:rgba(255, 0, 0, 0.18788333976585792);\"> Fresno</span><span title=\"0.018423227554979976\" style=\"background-color:rgba(255, 0, 0, 0.018423227554979976);\"> was</span><span title=\"0.6333333563069596\" style=\"background-color:rgba(255, 0, 0, 0.6333333563069596);\"> 245,306</span><span title=\"0.10724747467742837\" style=\"background-color:rgba(255, 0, 0, 0.10724747467742837);\"> (</span><span title=\"0.5424115514521609\" style=\"background-color:rgba(255, 0, 0, 0.5424115514521609);text-decoration: underline\"> 49.6</span><span title=\"0.4890898383033088\" style=\"background-color:rgba(255, 0, 0, 0.4890898383033088);text-decoration: underline\"> %</span><span title=\"0.18630795448322415\" style=\"background-color:rgba(255, 0, 0, 0.18630795448322415);\"> )</span><span title=\"0.2295083065911223\" style=\"background-color:rgba(255, 0, 0, 0.2295083065911223);\"> White</span><span title=\"0.09645430481331228\" style=\"background-color:rgba(255, 0, 0, 0.09645430481331228);\"> ,</span><span title=\"0.45483345811166304\" style=\"background-color:rgba(255, 0, 0, 0.45483345811166304);\"> 40,960</span><span title=\"0.08034210009767341\" style=\"background-color:rgba(255, 0, 0, 0.08034210009767341);\"> (</span><span title=\"0.5274782700555994\" style=\"background-color:rgba(255, 0, 0, 0.5274782700555994);\"> 8.3</span><span title=\"0.4764903861058037\" style=\"background-color:rgba(255, 0, 0, 0.4764903861058037);\"> %</span><span title=\"0.19115803526511543\" style=\"background-color:rgba(255, 0, 0, 0.19115803526511543);\"> )</span><span title=\"0.33951898567172434\" style=\"background-color:rgba(255, 0, 0, 0.33951898567172434);\"> African</span><span title=\"0.3408377603232861\" style=\"background-color:rgba(255, 0, 0, 0.3408377603232861);\"> American</span><span title=\"0.12677225411474127\" style=\"background-color:rgba(255, 0, 0, 0.12677225411474127);\"> ,</span><span title=\"0.4473178730070092\" style=\"background-color:rgba(255, 0, 0, 0.4473178730070092);text-decoration: underline\"> 8,525</span><span title=\"0.07211361323070477\" style=\"background-color:rgba(255, 0, 0, 0.07211361323070477);\"> (</span><span title=\"0.5051707438536052\" style=\"background-color:rgba(255, 0, 0, 0.5051707438536052);\"> 1.7</span><span title=\"0.4245307194703173\" style=\"background-color:rgba(255, 0, 0, 0.4245307194703173);\"> %</span><span title=\"0.15228273449095245\" style=\"background-color:rgba(255, 0, 0, 0.15228273449095245);\"> )</span><span title=\"0.29766684112973096\" style=\"background-color:rgba(255, 0, 0, 0.29766684112973096);\"> Native</span><span title=\"0.30049299949832475\" style=\"background-color:rgba(255, 0, 0, 0.30049299949832475);\"> American</span><span title=\"0.1212356449709468\" style=\"background-color:rgba(255, 0, 0, 0.1212356449709468);\"> ,</span><span title=\"0.422550503053056\" style=\"background-color:rgba(255, 0, 0, 0.422550503053056);text-decoration: underline\"> 62,528</span><span title=\"0.0846017512099006\" style=\"background-color:rgba(255, 0, 0, 0.0846017512099006);text-decoration: underline\"> (</span><span title=\"0.5713167768131567\" style=\"background-color:rgba(255, 0, 0, 0.5713167768131567);text-decoration: underline\"> 12.6</span><span title=\"0.5173282921162159\" style=\"background-color:rgba(255, 0, 0, 0.5173282921162159);text-decoration: underline\"> %</span><span title=\"0.32339920750965623\" style=\"background-color:rgba(255, 0, 0, 0.32339920750965623);text-decoration: underline\"> )</span>"
            ],
            "text/plain": [
              "<IPython.core.display.HTML object>"
            ]
          },
          "metadata": {
            "tags": []
          }
        },
        {
          "output_type": "stream",
          "text": [
            "\n"
          ],
          "name": "stdout"
        },
        {
          "output_type": "display_data",
          "data": {
            "text/html": [
              "<span title=\"0.025163468093894643\" style=\"background-color:rgba(255, 0, 0, 0.025163468093894643);\"> There</span><span title=\"0.01803485815695439\" style=\"background-color:rgba(255, 0, 0, 0.01803485815695439);\"> were</span><span title=\"0.6766078149452182\" style=\"background-color:rgba(255, 0, 0, 0.6766078149452182);text-decoration: underline\"> 12,843</span><span title=\"0.09292643924461802\" style=\"background-color:rgba(255, 0, 0, 0.09292643924461802);text-decoration: underline\"> (</span><span title=\"0.40601038659642796\" style=\"background-color:rgba(255, 0, 0, 0.40601038659642796);text-decoration: underline\"> 8.1</span><span title=\"0.3536236734573545\" style=\"background-color:rgba(255, 0, 0, 0.3536236734573545);text-decoration: underline\"> %</span><span title=\"0.1421434631363307\" style=\"background-color:rgba(255, 0, 0, 0.1421434631363307);text-decoration: underline\"> )</span><span title=\"0.1722847785065494\" style=\"background-color:rgba(255, 0, 0, 0.1722847785065494);\"> unmarried</span><span title=\"0.19886545983285858\" style=\"background-color:rgba(255, 0, 0, 0.19886545983285858);\"> opposite</span><span title=\"0.1954134131697994\" style=\"background-color:rgba(255, 0, 0, 0.1954134131697994);\"> -</span><span title=\"0.23409640024596484\" style=\"background-color:rgba(255, 0, 0, 0.23409640024596484);\"> sex</span><span title=\"0.22655574577741597\" style=\"background-color:rgba(255, 0, 0, 0.22655574577741597);\"> partnerships</span><span title=\"0.11967581385238422\" style=\"background-color:rgba(255, 0, 0, 0.11967581385238422);\"> ,</span><span title=\"0.12270678655077781\" style=\"background-color:rgba(255, 0, 0, 0.12270678655077781);\"> and</span><span title=\"0.5066933628569161\" style=\"background-color:rgba(255, 0, 0, 0.5066933628569161);text-decoration: underline\"> 1,388</span><span title=\"0.08114088384385204\" style=\"background-color:rgba(255, 0, 0, 0.08114088384385204);text-decoration: underline\"> (</span><span title=\"0.34518841085431734\" style=\"background-color:rgba(255, 0, 0, 0.34518841085431734);text-decoration: underline\"> 0.9</span><span title=\"0.3042433522632303\" style=\"background-color:rgba(255, 0, 0, 0.3042433522632303);text-decoration: underline\"> %</span><span title=\"0.12069272800247761\" style=\"background-color:rgba(255, 0, 0, 0.12069272800247761);text-decoration: underline\"> )</span><span title=\"0.13589064211762497\" style=\"background-color:rgba(255, 0, 0, 0.13589064211762497);\"> same</span><span title=\"0.14847858386620452\" style=\"background-color:rgba(255, 0, 0, 0.14847858386620452);\"> -</span><span title=\"0.18484855829125352\" style=\"background-color:rgba(255, 0, 0, 0.18484855829125352);\"> sex</span><span title=\"0.19758066754954962\" style=\"background-color:rgba(255, 0, 0, 0.19758066754954962);\"> married</span><span title=\"0.21985890177731793\" style=\"background-color:rgba(255, 0, 0, 0.21985890177731793);\"> couples</span><span title=\"0.18861579673355205\" style=\"background-color:rgba(255, 0, 0, 0.18861579673355205);\"> or</span><span title=\"0.20333465760886665\" style=\"background-color:rgba(255, 0, 0, 0.20333465760886665);\"> partnerships</span><span title=\"0.04230228316332125\" style=\"background-color:rgba(255, 0, 0, 0.04230228316332125);\"> .</span>"
            ],
            "text/plain": [
              "<IPython.core.display.HTML object>"
            ]
          },
          "metadata": {
            "tags": []
          }
        },
        {
          "output_type": "stream",
          "text": [
            "\n"
          ],
          "name": "stdout"
        },
        {
          "output_type": "display_data",
          "data": {
            "text/html": [
              "<span title=\"0.46609406725401625\" style=\"background-color:rgba(255, 0, 0, 0.46609406725401625);text-decoration: underline\"> 35,064</span><span title=\"0.22889340130119948\" style=\"background-color:rgba(255, 0, 0, 0.22889340130119948);text-decoration: underline\"> households</span><span title=\"0.10093967951938317\" style=\"background-color:rgba(255, 0, 0, 0.10093967951938317);text-decoration: underline\"> (</span><span title=\"0.3931281762234633\" style=\"background-color:rgba(255, 0, 0, 0.3931281762234633);text-decoration: underline\"> 22.1</span><span title=\"0.33667709951415764\" style=\"background-color:rgba(255, 0, 0, 0.33667709951415764);text-decoration: underline\"> %</span><span title=\"0.062320133034508694\" style=\"background-color:rgba(255, 0, 0, 0.062320133034508694);text-decoration: underline\"> )</span><span title=\"0.020237027453698132\" style=\"background-color:rgba(255, 0, 0, 0.020237027453698132);\"> were</span><span title=\"0.02457086452870904\" style=\"background-color:rgba(255, 0, 0, 0.02457086452870904);\"> made</span><span title=\"0.034134232376980225\" style=\"background-color:rgba(255, 0, 0, 0.034134232376980225);\"> up</span><span title=\"0.04365690477240877\" style=\"background-color:rgba(255, 0, 0, 0.04365690477240877);\"> of</span><span title=\"0.11483241209926728\" style=\"background-color:rgba(255, 0, 0, 0.11483241209926728);\"> individuals</span><span title=\"0.048227445020024254\" style=\"background-color:rgba(255, 0, 0, 0.048227445020024254);\"> and</span><span title=\"0.6381985616032919\" style=\"background-color:rgba(255, 0, 0, 0.6381985616032919);\"> 12,344</span><span title=\"0.10440133352530982\" style=\"background-color:rgba(255, 0, 0, 0.10440133352530982);\"> (</span><span title=\"0.5158570220971369\" style=\"background-color:rgba(255, 0, 0, 0.5158570220971369);\"> 7.8</span><span title=\"0.45330629210809453\" style=\"background-color:rgba(255, 0, 0, 0.45330629210809453);\"> %</span><span title=\"0.08038386734676645\" style=\"background-color:rgba(255, 0, 0, 0.08038386734676645);\"> )</span><span title=\"0.0388074300775514\" style=\"background-color:rgba(255, 0, 0, 0.0388074300775514);\"> had</span><span title=\"0.05427876751399947\" style=\"background-color:rgba(255, 0, 0, 0.05427876751399947);\"> someone</span><span title=\"0.05691787279774661\" style=\"background-color:rgba(255, 0, 0, 0.05691787279774661);\"> living</span><span title=\"0.06294036880228902\" style=\"background-color:rgba(255, 0, 0, 0.06294036880228902);\"> alone</span><span title=\"0.05891120757159309\" style=\"background-color:rgba(255, 0, 0, 0.05891120757159309);\"> who</span><span title=\"0.05780470523682692\" style=\"background-color:rgba(255, 0, 0, 0.05780470523682692);\"> was</span><span title=\"0.5444117492721856\" style=\"background-color:rgba(255, 0, 0, 0.5444117492721856);\"> 65</span><span title=\"0.44974049741155203\" style=\"background-color:rgba(255, 0, 0, 0.44974049741155203);\"> years</span><span title=\"0.38938848035833445\" style=\"background-color:rgba(255, 0, 0, 0.38938848035833445);\"> of</span><span title=\"0.39263052529177456\" style=\"background-color:rgba(255, 0, 0, 0.39263052529177456);\"> age</span><span title=\"0.25865265648920116\" style=\"background-color:rgba(255, 0, 0, 0.25865265648920116);\"> or</span><span title=\"0.24843230102421204\" style=\"background-color:rgba(255, 0, 0, 0.24843230102421204);\"> older</span><span title=\"0.07761956675943422\" style=\"background-color:rgba(255, 0, 0, 0.07761956675943422);\"> .</span>"
            ],
            "text/plain": [
              "<IPython.core.display.HTML object>"
            ]
          },
          "metadata": {
            "tags": []
          }
        },
        {
          "output_type": "stream",
          "text": [
            "\n"
          ],
          "name": "stdout"
        },
        {
          "output_type": "display_data",
          "data": {
            "text/html": [
              "<span title=\"0.49318983626195534\" style=\"background-color:rgba(255, 0, 0, 0.49318983626195534);text-decoration: underline\"> State</span><span title=\"0.5466447151645246\" style=\"background-color:rgba(255, 0, 0, 0.5466447151645246);text-decoration: underline\"> Route</span><span title=\"0.6675193900425598\" style=\"background-color:rgba(255, 0, 0, 0.6675193900425598);text-decoration: underline\"> 41</span>"
            ],
            "text/plain": [
              "<IPython.core.display.HTML object>"
            ]
          },
          "metadata": {
            "tags": []
          }
        },
        {
          "output_type": "stream",
          "text": [
            "\n"
          ],
          "name": "stdout"
        },
        {
          "output_type": "display_data",
          "data": {
            "text/html": [
              "<span title=\"0.1940665016852966\" style=\"background-color:rgba(255, 0, 0, 0.1940665016852966);\"> Passenger</span><span title=\"0.18396882856346036\" style=\"background-color:rgba(255, 0, 0, 0.18396882856346036);\"> rail</span><span title=\"0.1663648772014988\" style=\"background-color:rgba(255, 0, 0, 0.1663648772014988);\"> service</span><span title=\"0.04734011311592365\" style=\"background-color:rgba(255, 0, 0, 0.04734011311592365);\"> is</span><span title=\"0.04937807442963149\" style=\"background-color:rgba(255, 0, 0, 0.04937807442963149);\"> provided</span><span title=\"0.0753803492215777\" style=\"background-color:rgba(255, 0, 0, 0.0753803492215777);\"> by</span><span title=\"0.7134539106653439\" style=\"background-color:rgba(255, 0, 0, 0.7134539106653439);text-decoration: underline\"> Amtrak</span><span title=\"0.7116634370416625\" style=\"background-color:rgba(255, 0, 0, 0.7116634370416625);text-decoration: underline\"> San</span><span title=\"0.6886871102553094\" style=\"background-color:rgba(255, 0, 0, 0.6886871102553094);text-decoration: underline\"> Joaquins</span><span title=\"0.07956886294486393\" style=\"background-color:rgba(255, 0, 0, 0.07956886294486393);\"> .</span>"
            ],
            "text/plain": [
              "<IPython.core.display.HTML object>"
            ]
          },
          "metadata": {
            "tags": []
          }
        },
        {
          "output_type": "stream",
          "text": [
            "\n"
          ],
          "name": "stdout"
        },
        {
          "output_type": "display_data",
          "data": {
            "text/html": [
              "<span title=\"0.025582523906474086\" style=\"background-color:rgba(255, 0, 0, 0.025582523906474086);\"> He</span><span title=\"0.01455938342072265\" style=\"background-color:rgba(255, 0, 0, 0.01455938342072265);\"> gave</span><span title=\"0.0457990912643167\" style=\"background-color:rgba(255, 0, 0, 0.0457990912643167);\"> a</span><span title=\"0.0676774206264528\" style=\"background-color:rgba(255, 0, 0, 0.0676774206264528);\"> talk</span><span title=\"0.03799731419338588\" style=\"background-color:rgba(255, 0, 0, 0.03799731419338588);\"> on</span><span title=\"0.06269389070145084\" style=\"background-color:rgba(255, 0, 0, 0.06269389070145084);\"> the</span><span title=\"0.09236955072215156\" style=\"background-color:rgba(255, 0, 0, 0.09236955072215156);\"> proposal</span><span title=\"0.025273944631099186\" style=\"background-color:rgba(255, 0, 0, 0.025273944631099186);\"> in</span><span title=\"0.572658879204562\" style=\"background-color:rgba(255, 0, 0, 0.572658879204562);\"> 1966</span><span title=\"0.022266417380362287\" style=\"background-color:rgba(255, 0, 0, 0.022266417380362287);\"> ,</span><span title=\"0.021076344846341195\" style=\"background-color:rgba(255, 0, 0, 0.021076344846341195);text-decoration: underline\"> after</span><span title=\"0.030578370902192807\" style=\"background-color:rgba(255, 0, 0, 0.030578370902192807);text-decoration: underline\"> which</span><span title=\"0.07505596950780005\" style=\"background-color:rgba(255, 0, 0, 0.07505596950780005);text-decoration: underline\"> a</span><span title=\"0.1146099797013569\" style=\"background-color:rgba(255, 0, 0, 0.1146099797013569);text-decoration: underline\"> person</span><span title=\"0.09116380096481909\" style=\"background-color:rgba(255, 0, 0, 0.09116380096481909);text-decoration: underline\"> from</span><span title=\"0.1914136321056651\" style=\"background-color:rgba(255, 0, 0, 0.1914136321056651);text-decoration: underline\"> the</span><span title=\"0.3054241047987082\" style=\"background-color:rgba(255, 0, 0, 0.3054241047987082);text-decoration: underline\"> Ministry</span><span title=\"0.25487365865232026\" style=\"background-color:rgba(255, 0, 0, 0.25487365865232026);text-decoration: underline\"> of</span><span title=\"0.32304310354874277\" style=\"background-color:rgba(255, 0, 0, 0.32304310354874277);text-decoration: underline\"> Defence</span><span title=\"0.06228997244181014\" style=\"background-color:rgba(255, 0, 0, 0.06228997244181014);text-decoration: underline\"> (</span><span title=\"0.13975281637532316\" style=\"background-color:rgba(255, 0, 0, 0.13975281637532316);text-decoration: underline\"> MoD</span><span title=\"0.027104016511699143\" style=\"background-color:rgba(255, 0, 0, 0.027104016511699143);text-decoration: underline\"> )</span><span title=\"0.016616876901394965\" style=\"background-color:rgba(255, 0, 0, 0.016616876901394965);text-decoration: underline\"> told</span><span title=\"0.021247344999358958\" style=\"background-color:rgba(255, 0, 0, 0.021247344999358958);text-decoration: underline\"> him</span><span title=\"0.037253371352389736\" style=\"background-color:rgba(255, 0, 0, 0.037253371352389736);text-decoration: underline\"> about</span><span title=\"0.17227428689210553\" style=\"background-color:rgba(255, 0, 0, 0.17227428689210553);text-decoration: underline\"> Baran</span><span title=\"0.12348028598928655\" style=\"background-color:rgba(255, 0, 0, 0.12348028598928655);text-decoration: underline\"> 's</span><span title=\"0.1383232351080938\" style=\"background-color:rgba(255, 0, 0, 0.1383232351080938);text-decoration: underline\"> work</span><span title=\"0.027350295606409305\" style=\"background-color:rgba(255, 0, 0, 0.027350295606409305);text-decoration: underline\"> .</span>"
            ],
            "text/plain": [
              "<IPython.core.display.HTML object>"
            ]
          },
          "metadata": {
            "tags": []
          }
        },
        {
          "output_type": "stream",
          "text": [
            "\n"
          ],
          "name": "stdout"
        },
        {
          "output_type": "display_data",
          "data": {
            "text/html": [
              "<span title=\"0.18795500774139912\" style=\"background-color:rgba(255, 0, 0, 0.18795500774139912);\"> ARPANET</span><span title=\"0.11032411521064216\" style=\"background-color:rgba(255, 0, 0, 0.11032411521064216);\"> and</span><span title=\"0.21994520522938804\" style=\"background-color:rgba(255, 0, 0, 0.21994520522938804);\"> SITA</span><span title=\"0.20870149339146316\" style=\"background-color:rgba(255, 0, 0, 0.20870149339146316);\"> HLN</span><span title=\"0.03314962702663382\" style=\"background-color:rgba(255, 0, 0, 0.03314962702663382);\"> became</span><span title=\"0.07137119997877353\" style=\"background-color:rgba(255, 0, 0, 0.07137119997877353);\"> operational</span><span title=\"0.04192419054577827\" style=\"background-color:rgba(255, 0, 0, 0.04192419054577827);\"> in</span><span title=\"0.5921926825552476\" style=\"background-color:rgba(255, 0, 0, 0.5921926825552476);text-decoration: underline\"> 1969</span><span title=\"0.02588317493395669\" style=\"background-color:rgba(255, 0, 0, 0.02588317493395669);\"> .</span>"
            ],
            "text/plain": [
              "<IPython.core.display.HTML object>"
            ]
          },
          "metadata": {
            "tags": []
          }
        },
        {
          "output_type": "stream",
          "text": [
            "\n"
          ],
          "name": "stdout"
        },
        {
          "output_type": "display_data",
          "data": {
            "text/html": [
              "<span title=\"0.09851834803447033\" style=\"background-color:rgba(255, 0, 0, 0.09851834803447033);\"> The</span><span title=\"0.14693798987796133\" style=\"background-color:rgba(255, 0, 0, 0.14693798987796133);text-decoration: underline\"> CYCLADES</span><span title=\"0.1319270068846866\" style=\"background-color:rgba(255, 0, 0, 0.1319270068846866);text-decoration: underline\"> packet</span><span title=\"0.13174011787501044\" style=\"background-color:rgba(255, 0, 0, 0.13174011787501044);text-decoration: underline\"> switching</span><span title=\"0.13647251132544966\" style=\"background-color:rgba(255, 0, 0, 0.13647251132544966);text-decoration: underline\"> network</span><span title=\"0.023975417007318752\" style=\"background-color:rgba(255, 0, 0, 0.023975417007318752);\"> was</span><span title=\"0.08268434831517929\" style=\"background-color:rgba(255, 0, 0, 0.08268434831517929);\"> a</span><span title=\"0.19342911908066632\" style=\"background-color:rgba(255, 0, 0, 0.19342911908066632);\"> French</span><span title=\"0.17123772992647943\" style=\"background-color:rgba(255, 0, 0, 0.17123772992647943);\"> research</span><span title=\"0.15943522843960242\" style=\"background-color:rgba(255, 0, 0, 0.15943522843960242);\"> network</span><span title=\"0.13018402927404474\" style=\"background-color:rgba(255, 0, 0, 0.13018402927404474);\"> designed</span><span title=\"0.12412354336717424\" style=\"background-color:rgba(255, 0, 0, 0.12412354336717424);\"> and</span><span title=\"0.12357638992249603\" style=\"background-color:rgba(255, 0, 0, 0.12357638992249603);\"> directed</span><span title=\"0.12868355662290654\" style=\"background-color:rgba(255, 0, 0, 0.12868355662290654);\"> by</span><span title=\"0.6536321345441645\" style=\"background-color:rgba(255, 0, 0, 0.6536321345441645);text-decoration: underline\"> Louis</span><span title=\"0.6324962108573666\" style=\"background-color:rgba(255, 0, 0, 0.6324962108573666);text-decoration: underline\"> Pouzin</span><span title=\"0.058434386860624084\" style=\"background-color:rgba(255, 0, 0, 0.058434386860624084);\"> .</span>"
            ],
            "text/plain": [
              "<IPython.core.display.HTML object>"
            ]
          },
          "metadata": {
            "tags": []
          }
        },
        {
          "output_type": "stream",
          "text": [
            "\n"
          ],
          "name": "stdout"
        },
        {
          "output_type": "display_data",
          "data": {
            "text/html": [
              "<span title=\"0.25731011721007857\" style=\"background-color:rgba(255, 0, 0, 0.25731011721007857);\"> DECnet</span><span title=\"0.023922711707914976\" style=\"background-color:rgba(255, 0, 0, 0.023922711707914976);\"> is</span><span title=\"0.08772934260855736\" style=\"background-color:rgba(255, 0, 0, 0.08772934260855736);text-decoration: underline\"> a</span><span title=\"0.11604079142416937\" style=\"background-color:rgba(255, 0, 0, 0.11604079142416937);text-decoration: underline\"> suite</span><span title=\"0.07092970798749636\" style=\"background-color:rgba(255, 0, 0, 0.07092970798749636);text-decoration: underline\"> of</span><span title=\"0.14002297404365566\" style=\"background-color:rgba(255, 0, 0, 0.14002297404365566);text-decoration: underline\"> network</span><span title=\"0.11681996624234736\" style=\"background-color:rgba(255, 0, 0, 0.11681996624234736);text-decoration: underline\"> protocols</span><span title=\"0.0716119885488493\" style=\"background-color:rgba(255, 0, 0, 0.0716119885488493);text-decoration: underline\"> created</span><span title=\"0.08593146626681858\" style=\"background-color:rgba(255, 0, 0, 0.08593146626681858);text-decoration: underline\"> by</span><span title=\"0.6213823978869155\" style=\"background-color:rgba(255, 0, 0, 0.6213823978869155);text-decoration: underline\"> Digital</span><span title=\"0.61693761215708\" style=\"background-color:rgba(255, 0, 0, 0.61693761215708);text-decoration: underline\"> Equipment</span><span title=\"0.593699537980598\" style=\"background-color:rgba(255, 0, 0, 0.593699537980598);text-decoration: underline\"> Corporation</span><span title=\"0.09151773828534562\" style=\"background-color:rgba(255, 0, 0, 0.09151773828534562);\"> ,</span><span title=\"0.07678135509693526\" style=\"background-color:rgba(255, 0, 0, 0.07678135509693526);\"> originally</span><span title=\"0.07763990835941607\" style=\"background-color:rgba(255, 0, 0, 0.07763990835941607);\"> released</span><span title=\"0.065998020237398\" style=\"background-color:rgba(255, 0, 0, 0.065998020237398);\"> in</span><span title=\"0.45319602833752476\" style=\"background-color:rgba(255, 0, 0, 0.45319602833752476);\"> 1975</span><span title=\"0.09991493996044767\" style=\"background-color:rgba(255, 0, 0, 0.09991493996044767);\"> in</span><span title=\"0.13170539551141508\" style=\"background-color:rgba(255, 0, 0, 0.13170539551141508);\"> order</span><span title=\"0.10497938908541364\" style=\"background-color:rgba(255, 0, 0, 0.10497938908541364);text-decoration: underline\"> to</span><span title=\"0.13313054844255834\" style=\"background-color:rgba(255, 0, 0, 0.13313054844255834);text-decoration: underline\"> connect</span><span title=\"0.41791575440843765\" style=\"background-color:rgba(255, 0, 0, 0.41791575440843765);text-decoration: underline\"> two</span><span title=\"0.36820171842213373\" style=\"background-color:rgba(255, 0, 0, 0.36820171842213373);text-decoration: underline\"> PDP-11</span><span title=\"0.32126296031309926\" style=\"background-color:rgba(255, 0, 0, 0.32126296031309926);text-decoration: underline\"> minicomputers</span><span title=\"0.055023158697887854\" style=\"background-color:rgba(255, 0, 0, 0.055023158697887854);\"> .</span>"
            ],
            "text/plain": [
              "<IPython.core.display.HTML object>"
            ]
          },
          "metadata": {
            "tags": []
          }
        },
        {
          "output_type": "stream",
          "text": [
            "\n"
          ],
          "name": "stdout"
        },
        {
          "output_type": "display_data",
          "data": {
            "text/html": [
              "<span title=\"0.07511873973116558\" style=\"background-color:rgba(255, 0, 0, 0.07511873973116558);\"> The</span><span title=\"0.14670982341245858\" style=\"background-color:rgba(255, 0, 0, 0.14670982341245858);\"> DECnet</span><span title=\"0.1077690638149696\" style=\"background-color:rgba(255, 0, 0, 0.1077690638149696);\"> protocols</span><span title=\"0.025948296876438987\" style=\"background-color:rgba(255, 0, 0, 0.025948296876438987);\"> were</span><span title=\"0.027234618471250426\" style=\"background-color:rgba(255, 0, 0, 0.027234618471250426);text-decoration: underline\"> designed</span><span title=\"0.042362495736396166\" style=\"background-color:rgba(255, 0, 0, 0.042362495736396166);text-decoration: underline\"> entirely</span><span title=\"0.06325451012783281\" style=\"background-color:rgba(255, 0, 0, 0.06325451012783281);text-decoration: underline\"> by</span><span title=\"0.718569843279379\" style=\"background-color:rgba(255, 0, 0, 0.718569843279379);text-decoration: underline\"> Digital</span><span title=\"0.7135949992035903\" style=\"background-color:rgba(255, 0, 0, 0.7135949992035903);text-decoration: underline\"> Equipment</span><span title=\"0.6917594492774074\" style=\"background-color:rgba(255, 0, 0, 0.6917594492774074);text-decoration: underline\"> Corporation</span><span title=\"0.0753989277491651\" style=\"background-color:rgba(255, 0, 0, 0.0753989277491651);\"> .</span>"
            ],
            "text/plain": [
              "<IPython.core.display.HTML object>"
            ]
          },
          "metadata": {
            "tags": []
          }
        },
        {
          "output_type": "stream",
          "text": [
            "\n"
          ],
          "name": "stdout"
        },
        {
          "output_type": "display_data",
          "data": {
            "text/html": [
              "<span title=\"0.13820375915264158\" style=\"background-color:rgba(255, 0, 0, 0.13820375915264158);text-decoration: underline\"> Telenet</span><span title=\"0.021124813927058304\" style=\"background-color:rgba(255, 0, 0, 0.021124813927058304);text-decoration: underline\"> was</span><span title=\"0.026746652871383524\" style=\"background-color:rgba(255, 0, 0, 0.026746652871383524);text-decoration: underline\"> incorporated</span><span title=\"0.027941591934058176\" style=\"background-color:rgba(255, 0, 0, 0.027941591934058176);text-decoration: underline\"> in</span><span title=\"0.4762470746942301\" style=\"background-color:rgba(255, 0, 0, 0.4762470746942301);text-decoration: underline\"> 1973</span><span title=\"0.06891576574443983\" style=\"background-color:rgba(255, 0, 0, 0.06891576574443983);text-decoration: underline\"> and</span><span title=\"0.06806818056423823\" style=\"background-color:rgba(255, 0, 0, 0.06806818056423823);text-decoration: underline\"> started</span><span title=\"0.08921515633092465\" style=\"background-color:rgba(255, 0, 0, 0.08921515633092465);text-decoration: underline\"> operations</span><span title=\"0.04797417757883522\" style=\"background-color:rgba(255, 0, 0, 0.04797417757883522);text-decoration: underline\"> in</span><span title=\"0.5679707347813355\" style=\"background-color:rgba(255, 0, 0, 0.5679707347813355);text-decoration: underline\"> 1975</span><span title=\"0.028306976689814432\" style=\"background-color:rgba(255, 0, 0, 0.028306976689814432);text-decoration: underline\"> .</span>"
            ],
            "text/plain": [
              "<IPython.core.display.HTML object>"
            ]
          },
          "metadata": {
            "tags": []
          }
        },
        {
          "output_type": "stream",
          "text": [
            "\n"
          ],
          "name": "stdout"
        },
        {
          "output_type": "display_data",
          "data": {
            "text/html": [
              "<span title=\"0.019613845420292007\" style=\"background-color:rgba(255, 0, 0, 0.019613845420292007);\"> In</span><span title=\"0.06464935048125084\" style=\"background-color:rgba(255, 0, 0, 0.06464935048125084);\"> total</span><span title=\"0.008834069759261452\" style=\"background-color:rgba(255, 0, 0, 0.008834069759261452);\"> ,</span><span title=\"0.04959658618027462\" style=\"background-color:rgba(255, 0, 0, 0.04959658618027462);\"> the</span><span title=\"0.07531328377429708\" style=\"background-color:rgba(255, 0, 0, 0.07531328377429708);\"> plague</span><span title=\"0.023285022774626275\" style=\"background-color:rgba(255, 0, 0, 0.023285022774626275);\"> reduced</span><span title=\"0.05705217034459719\" style=\"background-color:rgba(255, 0, 0, 0.05705217034459719);\"> the</span><span title=\"0.09706712616056562\" style=\"background-color:rgba(255, 0, 0, 0.09706712616056562);\"> world</span><span title=\"0.08446784523132363\" style=\"background-color:rgba(255, 0, 0, 0.08446784523132363);\"> population</span><span title=\"0.029803963376477484\" style=\"background-color:rgba(255, 0, 0, 0.029803963376477484);\"> from</span><span title=\"0.05289500072339512\" style=\"background-color:rgba(255, 0, 0, 0.05289500072339512);\"> an</span><span title=\"0.0880934206126848\" style=\"background-color:rgba(255, 0, 0, 0.0880934206126848);\"> estimated</span><span title=\"0.36305118156743427\" style=\"background-color:rgba(255, 0, 0, 0.36305118156743427);\"> 450</span><span title=\"0.30984845022434576\" style=\"background-color:rgba(255, 0, 0, 0.30984845022434576);\"> million</span><span title=\"0.1182524410285658\" style=\"background-color:rgba(255, 0, 0, 0.1182524410285658);\"> down</span><span title=\"0.09708606479201008\" style=\"background-color:rgba(255, 0, 0, 0.09708606479201008);\"> to</span><span title=\"0.710831891876934\" style=\"background-color:rgba(255, 0, 0, 0.710831891876934);\"> 350–375</span><span title=\"0.6717502696215363\" style=\"background-color:rgba(255, 0, 0, 0.6717502696215363);\"> million</span><span title=\"0.06250474127003107\" style=\"background-color:rgba(255, 0, 0, 0.06250474127003107);\"> in</span><span title=\"0.18513588292520095\" style=\"background-color:rgba(255, 0, 0, 0.18513588292520095);\"> the</span><span title=\"0.39299360318569465\" style=\"background-color:rgba(255, 0, 0, 0.39299360318569465);\"> 14th</span><span title=\"0.37900933966662165\" style=\"background-color:rgba(255, 0, 0, 0.37900933966662165);\"> century</span><span title=\"0.04173835521771574\" style=\"background-color:rgba(255, 0, 0, 0.04173835521771574);\"> .</span>"
            ],
            "text/plain": [
              "<IPython.core.display.HTML object>"
            ]
          },
          "metadata": {
            "tags": []
          }
        },
        {
          "output_type": "stream",
          "text": [
            "\n"
          ],
          "name": "stdout"
        },
        {
          "output_type": "display_data",
          "data": {
            "text/html": [
              "<span title=\"0.21246059292054628\" style=\"background-color:rgba(255, 0, 0, 0.21246059292054628);\"> Pneumonic</span><span title=\"0.18053679693278762\" style=\"background-color:rgba(255, 0, 0, 0.18053679693278762);\"> plague</span><span title=\"0.053139010593533514\" style=\"background-color:rgba(255, 0, 0, 0.053139010593533514);\"> has</span><span title=\"0.13780341910659208\" style=\"background-color:rgba(255, 0, 0, 0.13780341910659208);\"> a</span><span title=\"0.2264161213760007\" style=\"background-color:rgba(255, 0, 0, 0.2264161213760007);\"> mortality</span><span title=\"0.21155532367560886\" style=\"background-color:rgba(255, 0, 0, 0.21155532367560886);\"> rate</span><span title=\"0.18103221168293884\" style=\"background-color:rgba(255, 0, 0, 0.18103221168293884);\"> of</span><span title=\"0.6980701994700548\" style=\"background-color:rgba(255, 0, 0, 0.6980701994700548);text-decoration: underline\"> 90</span><span title=\"0.6611407051122566\" style=\"background-color:rgba(255, 0, 0, 0.6611407051122566);text-decoration: underline\"> to</span><span title=\"0.7222328476993499\" style=\"background-color:rgba(255, 0, 0, 0.7222328476993499);text-decoration: underline\"> 95</span><span title=\"0.6426748615421163\" style=\"background-color:rgba(255, 0, 0, 0.6426748615421163);text-decoration: underline\"> percent</span><span title=\"0.06908497171990875\" style=\"background-color:rgba(255, 0, 0, 0.06908497171990875);\"> .</span>"
            ],
            "text/plain": [
              "<IPython.core.display.HTML object>"
            ]
          },
          "metadata": {
            "tags": []
          }
        },
        {
          "output_type": "stream",
          "text": [
            "\n"
          ],
          "name": "stdout"
        },
        {
          "output_type": "display_data",
          "data": {
            "text/html": [
              "<span title=\"0.057980292237923975\" style=\"background-color:rgba(255, 0, 0, 0.057980292237923975);\"> The</span><span title=\"0.08402273851384671\" style=\"background-color:rgba(255, 0, 0, 0.08402273851384671);\"> plague</span><span title=\"0.06896102795501782\" style=\"background-color:rgba(255, 0, 0, 0.06896102795501782);\"> theory</span><span title=\"0.012054939768846503\" style=\"background-color:rgba(255, 0, 0, 0.012054939768846503);\"> was</span><span title=\"0.019066057276557392\" style=\"background-color:rgba(255, 0, 0, 0.019066057276557392);\"> first</span><span title=\"0.027328811527691604\" style=\"background-color:rgba(255, 0, 0, 0.027328811527691604);\"> significantly</span><span title=\"0.02709852431828251\" style=\"background-color:rgba(255, 0, 0, 0.02709852431828251);\"> challenged</span><span title=\"0.037572635361175534\" style=\"background-color:rgba(255, 0, 0, 0.037572635361175534);\"> by</span><span title=\"0.06964650254176197\" style=\"background-color:rgba(255, 0, 0, 0.06964650254176197);\"> the</span><span title=\"0.0779896464142364\" style=\"background-color:rgba(255, 0, 0, 0.0779896464142364);\"> work</span><span title=\"0.03962463854437249\" style=\"background-color:rgba(255, 0, 0, 0.03962463854437249);\"> of</span><span title=\"0.23127249711935385\" style=\"background-color:rgba(255, 0, 0, 0.23127249711935385);text-decoration: underline\"> British</span><span title=\"0.20778859511845552\" style=\"background-color:rgba(255, 0, 0, 0.20778859511845552);text-decoration: underline\"> bacteriologist</span><span title=\"0.33116782074043016\" style=\"background-color:rgba(255, 0, 0, 0.33116782074043016);text-decoration: underline\"> J.</span><span title=\"0.3553777747914418\" style=\"background-color:rgba(255, 0, 0, 0.3553777747914418);text-decoration: underline\"> F.</span><span title=\"0.3544215613486984\" style=\"background-color:rgba(255, 0, 0, 0.3544215613486984);text-decoration: underline\"> D.</span><span title=\"0.3351022275074897\" style=\"background-color:rgba(255, 0, 0, 0.3351022275074897);text-decoration: underline\"> Shrewsbury</span><span title=\"0.03538441943386245\" style=\"background-color:rgba(255, 0, 0, 0.03538441943386245);\"> in</span><span title=\"0.6468184377586805\" style=\"background-color:rgba(255, 0, 0, 0.6468184377586805);\"> 1970</span><span title=\"0.04213788924261942\" style=\"background-color:rgba(255, 0, 0, 0.04213788924261942);\"> ,</span><span title=\"0.03056825657952857\" style=\"background-color:rgba(255, 0, 0, 0.03056825657952857);\"> who</span><span title=\"0.02743890627371321\" style=\"background-color:rgba(255, 0, 0, 0.02743890627371321);\"> noted</span><span title=\"0.03186737286837361\" style=\"background-color:rgba(255, 0, 0, 0.03186737286837361);\"> that</span><span title=\"0.06711701470762649\" style=\"background-color:rgba(255, 0, 0, 0.06711701470762649);text-decoration: underline\"> the</span><span title=\"0.10080184235321513\" style=\"background-color:rgba(255, 0, 0, 0.10080184235321513);text-decoration: underline\"> reported</span><span title=\"0.1243929788409242\" style=\"background-color:rgba(255, 0, 0, 0.1243929788409242);text-decoration: underline\"> rates</span><span title=\"0.09648888893876563\" style=\"background-color:rgba(255, 0, 0, 0.09648888893876563);text-decoration: underline\"> of</span><span title=\"0.1344049953916212\" style=\"background-color:rgba(255, 0, 0, 0.1344049953916212);text-decoration: underline\"> mortality</span><span title=\"0.06712580585029246\" style=\"background-color:rgba(255, 0, 0, 0.06712580585029246);text-decoration: underline\"> in</span><span title=\"0.11218216146434762\" style=\"background-color:rgba(255, 0, 0, 0.11218216146434762);text-decoration: underline\"> rural</span><span title=\"0.09871547262086261\" style=\"background-color:rgba(255, 0, 0, 0.09871547262086261);text-decoration: underline\"> areas</span><span title=\"0.05524551994634582\" style=\"background-color:rgba(255, 0, 0, 0.05524551994634582);text-decoration: underline\"> during</span><span title=\"0.07005298145249517\" style=\"background-color:rgba(255, 0, 0, 0.07005298145249517);text-decoration: underline\"> the</span><span title=\"0.2526867142568757\" style=\"background-color:rgba(255, 0, 0, 0.2526867142568757);text-decoration: underline\"> 14th</span><span title=\"0.22387573729364052\" style=\"background-color:rgba(255, 0, 0, 0.22387573729364052);text-decoration: underline\"> -</span><span title=\"0.23217653862864474\" style=\"background-color:rgba(255, 0, 0, 0.23217653862864474);text-decoration: underline\"> century</span><span title=\"0.1909105848717263\" style=\"background-color:rgba(255, 0, 0, 0.1909105848717263);text-decoration: underline\"> pandemic</span><span title=\"0.10878620251903036\" style=\"background-color:rgba(255, 0, 0, 0.10878620251903036);text-decoration: underline\"> were</span><span title=\"0.12430278895645233\" style=\"background-color:rgba(255, 0, 0, 0.12430278895645233);text-decoration: underline\"> inconsistent</span><span title=\"0.09846983151340524\" style=\"background-color:rgba(255, 0, 0, 0.09846983151340524);text-decoration: underline\"> with</span><span title=\"0.11301792334546583\" style=\"background-color:rgba(255, 0, 0, 0.11301792334546583);text-decoration: underline\"> the</span><span title=\"0.14909787091318322\" style=\"background-color:rgba(255, 0, 0, 0.14909787091318322);text-decoration: underline\"> modern</span><span title=\"0.14999192932738944\" style=\"background-color:rgba(255, 0, 0, 0.14999192932738944);text-decoration: underline\"> bubonic</span><span title=\"0.1446204796465744\" style=\"background-color:rgba(255, 0, 0, 0.1446204796465744);text-decoration: underline\"> plague</span><span title=\"0.024695372816092045\" style=\"background-color:rgba(255, 0, 0, 0.024695372816092045);\"> ,</span><span title=\"0.022613909236997052\" style=\"background-color:rgba(255, 0, 0, 0.022613909236997052);\"> leading</span><span title=\"0.023992822497167603\" style=\"background-color:rgba(255, 0, 0, 0.023992822497167603);\"> him</span><span title=\"0.02783839587916878\" style=\"background-color:rgba(255, 0, 0, 0.02783839587916878);\"> to</span><span title=\"0.03791115818119547\" style=\"background-color:rgba(255, 0, 0, 0.03791115818119547);\"> conclude</span><span title=\"0.03957937130983075\" style=\"background-color:rgba(255, 0, 0, 0.03957937130983075);\"> that</span><span title=\"0.13036190121291708\" style=\"background-color:rgba(255, 0, 0, 0.13036190121291708);text-decoration: underline\"> contemporary</span><span title=\"0.11965090681086389\" style=\"background-color:rgba(255, 0, 0, 0.11965090681086389);text-decoration: underline\"> accounts</span><span title=\"0.07834626963541881\" style=\"background-color:rgba(255, 0, 0, 0.07834626963541881);text-decoration: underline\"> were</span><span title=\"0.10818147550528837\" style=\"background-color:rgba(255, 0, 0, 0.10818147550528837);text-decoration: underline\"> exaggerations</span><span title=\"0.024005561658424726\" style=\"background-color:rgba(255, 0, 0, 0.024005561658424726);\"> .</span>"
            ],
            "text/plain": [
              "<IPython.core.display.HTML object>"
            ]
          },
          "metadata": {
            "tags": []
          }
        },
        {
          "output_type": "stream",
          "text": [
            "\n"
          ],
          "name": "stdout"
        },
        {
          "output_type": "display_data",
          "data": {
            "text/html": [
              "<span title=\"0.14332374277006044\" style=\"background-color:rgba(255, 0, 0, 0.14332374277006044);\"> Hutton</span><span title=\"0.01605377849257772\" style=\"background-color:rgba(255, 0, 0, 0.01605377849257772);\"> published</span><span title=\"0.05620141436065308\" style=\"background-color:rgba(255, 0, 0, 0.05620141436065308);\"> a</span><span title=\"0.22427707981759093\" style=\"background-color:rgba(255, 0, 0, 0.22427707981759093);\"> two</span><span title=\"0.11169291409386785\" style=\"background-color:rgba(255, 0, 0, 0.11169291409386785);\"> -</span><span title=\"0.13633510290639486\" style=\"background-color:rgba(255, 0, 0, 0.13633510290639486);\"> volume</span><span title=\"0.12772214811713983\" style=\"background-color:rgba(255, 0, 0, 0.12772214811713983);\"> version</span><span title=\"0.08722414865126314\" style=\"background-color:rgba(255, 0, 0, 0.08722414865126314);\"> of</span><span title=\"0.10012247548225511\" style=\"background-color:rgba(255, 0, 0, 0.10012247548225511);\"> his</span><span title=\"0.106677606375391\" style=\"background-color:rgba(255, 0, 0, 0.106677606375391);\"> ideas</span><span title=\"0.033196893438227106\" style=\"background-color:rgba(255, 0, 0, 0.033196893438227106);text-decoration: underline\"> in</span><span title=\"0.6200603456897488\" style=\"background-color:rgba(255, 0, 0, 0.6200603456897488);text-decoration: underline\"> 1795</span><span title=\"0.05242001229759431\" style=\"background-color:rgba(255, 0, 0, 0.05242001229759431);\"> (</span><span title=\"0.24190702280897136\" style=\"background-color:rgba(255, 0, 0, 0.24190702280897136);\"> Vol</span><span title=\"0.20562887758947251\" style=\"background-color:rgba(255, 0, 0, 0.20562887758947251);\"> .</span><span title=\"0.30005497438387946\" style=\"background-color:rgba(255, 0, 0, 0.30005497438387946);\"> 1</span><span title=\"0.1266818993559265\" style=\"background-color:rgba(255, 0, 0, 0.1266818993559265);\"> ,</span><span title=\"0.23608193867735366\" style=\"background-color:rgba(255, 0, 0, 0.23608193867735366);\"> Vol</span><span title=\"0.1786960744724151\" style=\"background-color:rgba(255, 0, 0, 0.1786960744724151);\"> .</span><span title=\"0.2614402606874856\" style=\"background-color:rgba(255, 0, 0, 0.2614402606874856);\"> 2</span><span title=\"0.051356473195436896\" style=\"background-color:rgba(255, 0, 0, 0.051356473195436896);\"> )</span><span title=\"0.021396324265504627\" style=\"background-color:rgba(255, 0, 0, 0.021396324265504627);\"> .</span>"
            ],
            "text/plain": [
              "<IPython.core.display.HTML object>"
            ]
          },
          "metadata": {
            "tags": []
          }
        },
        {
          "output_type": "stream",
          "text": [
            "\n"
          ],
          "name": "stdout"
        },
        {
          "output_type": "display_data",
          "data": {
            "text/html": [
              "<span title=\"0.050729144262045986\" style=\"background-color:rgba(255, 0, 0, 0.050729144262045986);text-decoration: underline\"> The</span><span title=\"0.07639615303993702\" style=\"background-color:rgba(255, 0, 0, 0.07639615303993702);text-decoration: underline\"> first</span><span title=\"0.09110825918918054\" style=\"background-color:rgba(255, 0, 0, 0.09110825918918054);text-decoration: underline\"> geological</span><span title=\"0.08923816874374732\" style=\"background-color:rgba(255, 0, 0, 0.08923816874374732);text-decoration: underline\"> map</span><span title=\"0.06625067066928121\" style=\"background-color:rgba(255, 0, 0, 0.06625067066928121);text-decoration: underline\"> of</span><span title=\"0.07945065679013602\" style=\"background-color:rgba(255, 0, 0, 0.07945065679013602);text-decoration: underline\"> the</span><span title=\"0.12100652932283727\" style=\"background-color:rgba(255, 0, 0, 0.12100652932283727);text-decoration: underline\"> U.S.</span><span title=\"0.014527116710103599\" style=\"background-color:rgba(255, 0, 0, 0.014527116710103599);\"> was</span><span title=\"0.02134844787142757\" style=\"background-color:rgba(255, 0, 0, 0.02134844787142757);\"> produced</span><span title=\"0.022413815068106753\" style=\"background-color:rgba(255, 0, 0, 0.022413815068106753);text-decoration: underline\"> in</span><span title=\"0.3572571319480075\" style=\"background-color:rgba(255, 0, 0, 0.3572571319480075);text-decoration: underline\"> 1809</span><span title=\"0.05835116571731078\" style=\"background-color:rgba(255, 0, 0, 0.05835116571731078);\"> by</span><span title=\"0.6813087678453275\" style=\"background-color:rgba(255, 0, 0, 0.6813087678453275);text-decoration: underline\"> William</span><span title=\"0.6529489761882906\" style=\"background-color:rgba(255, 0, 0, 0.6529489761882906);text-decoration: underline\"> Maclure</span><span title=\"0.06713634499186374\" style=\"background-color:rgba(255, 0, 0, 0.06713634499186374);\"> .</span>"
            ],
            "text/plain": [
              "<IPython.core.display.HTML object>"
            ]
          },
          "metadata": {
            "tags": []
          }
        },
        {
          "output_type": "stream",
          "text": [
            "\n"
          ],
          "name": "stdout"
        },
        {
          "output_type": "display_data",
          "data": {
            "text/html": [
              "<span title=\"0.06131087077356879\" style=\"background-color:rgba(255, 0, 0, 0.06131087077356879);\"> The</span><span title=\"0.22521390042019634\" style=\"background-color:rgba(255, 0, 0, 0.22521390042019634);\"> Latin</span><span title=\"0.1876860049505008\" style=\"background-color:rgba(255, 0, 0, 0.1876860049505008);\"> translation</span><span title=\"0.5752733433935852\" style=\"background-color:rgba(255, 0, 0, 0.5752733433935852);text-decoration: underline\"> De</span><span title=\"0.6650004111149306\" style=\"background-color:rgba(255, 0, 0, 0.6650004111149306);text-decoration: underline\"> Materia</span><span title=\"0.7063041214295692\" style=\"background-color:rgba(255, 0, 0, 0.7063041214295692);text-decoration: underline\"> Medica</span>"
            ],
            "text/plain": [
              "<IPython.core.display.HTML object>"
            ]
          },
          "metadata": {
            "tags": []
          }
        },
        {
          "output_type": "stream",
          "text": [
            "\n"
          ],
          "name": "stdout"
        },
        {
          "output_type": "display_data",
          "data": {
            "text/html": [
              "<span title=\"0.6526079917149115\" style=\"background-color:rgba(255, 0, 0, 0.6526079917149115);\"> Sabur</span><span title=\"0.6401249634677234\" style=\"background-color:rgba(255, 0, 0, 0.6401249634677234);\"> Ibn</span><span title=\"0.6056461213299806\" style=\"background-color:rgba(255, 0, 0, 0.6056461213299806);\"> Sahl</span><span title=\"0.1950975047701957\" style=\"background-color:rgba(255, 0, 0, 0.1950975047701957);\"> (</span><span title=\"0.21774159436832483\" style=\"background-color:rgba(255, 0, 0, 0.21774159436832483);\"> d</span><span title=\"0.2695648170743329\" style=\"background-color:rgba(255, 0, 0, 0.2695648170743329);\"> 869</span><span title=\"0.10205837439534243\" style=\"background-color:rgba(255, 0, 0, 0.10205837439534243);\"> )</span><span title=\"0.03009510852120384\" style=\"background-color:rgba(255, 0, 0, 0.03009510852120384);\"> ,</span><span title=\"0.01800187897778671\" style=\"background-color:rgba(255, 0, 0, 0.01800187897778671);\"> was</span><span title=\"0.012113641426375289\" style=\"background-color:rgba(255, 0, 0, 0.012113641426375289);\"> ,</span><span title=\"0.02104168244215199\" style=\"background-color:rgba(255, 0, 0, 0.02104168244215199);\"> however</span><span title=\"0.009861876439302378\" style=\"background-color:rgba(255, 0, 0, 0.009861876439302378);\"> ,</span><span title=\"0.05984395470661721\" style=\"background-color:rgba(255, 0, 0, 0.05984395470661721);\"> the</span><span title=\"0.14712342722530386\" style=\"background-color:rgba(255, 0, 0, 0.14712342722530386);\"> first</span><span title=\"0.13670440728398886\" style=\"background-color:rgba(255, 0, 0, 0.13670440728398886);\"> physician</span><span title=\"0.10496927502433756\" style=\"background-color:rgba(255, 0, 0, 0.10496927502433756);\"> to</span><span title=\"0.12405826610281519\" style=\"background-color:rgba(255, 0, 0, 0.12405826610281519);\"> initiate</span><span title=\"0.1721151898679475\" style=\"background-color:rgba(255, 0, 0, 0.1721151898679475);\"> pharmacopoedia</span><span title=\"0.03285836656824492\" style=\"background-color:rgba(255, 0, 0, 0.03285836656824492);\"> ,</span><span title=\"0.05697237083659998\" style=\"background-color:rgba(255, 0, 0, 0.05697237083659998);\"> describing</span><span title=\"0.08593887522168253\" style=\"background-color:rgba(255, 0, 0, 0.08593887522168253);\"> a</span><span title=\"0.13037970556994888\" style=\"background-color:rgba(255, 0, 0, 0.13037970556994888);\"> large</span><span title=\"0.13464548339452106\" style=\"background-color:rgba(255, 0, 0, 0.13464548339452106);\"> variety</span><span title=\"0.11982337648646242\" style=\"background-color:rgba(255, 0, 0, 0.11982337648646242);\"> of</span><span title=\"0.1725255361694845\" style=\"background-color:rgba(255, 0, 0, 0.1725255361694845);\"> drugs</span><span title=\"0.13466288279057892\" style=\"background-color:rgba(255, 0, 0, 0.13466288279057892);\"> and</span><span title=\"0.14715670816098442\" style=\"background-color:rgba(255, 0, 0, 0.14715670816098442);\"> remedies</span><span title=\"0.11646508785187713\" style=\"background-color:rgba(255, 0, 0, 0.11646508785187713);\"> for</span><span title=\"0.15381799062498733\" style=\"background-color:rgba(255, 0, 0, 0.15381799062498733);\"> ailments</span><span title=\"0.025708507135216916\" style=\"background-color:rgba(255, 0, 0, 0.025708507135216916);\"> .</span>"
            ],
            "text/plain": [
              "<IPython.core.display.HTML object>"
            ]
          },
          "metadata": {
            "tags": []
          }
        },
        {
          "output_type": "stream",
          "text": [
            "\n"
          ],
          "name": "stdout"
        },
        {
          "output_type": "display_data",
          "data": {
            "text/html": [
              "<span title=\"0.5963993770821832\" style=\"background-color:rgba(255, 0, 0, 0.5963993770821832);\"> Al</span><span title=\"0.5507850088236036\" style=\"background-color:rgba(255, 0, 0, 0.5507850088236036);\"> -</span><span title=\"0.5565916950168825\" style=\"background-color:rgba(255, 0, 0, 0.5565916950168825);\"> Biruni</span><span title=\"0.15342929769318756\" style=\"background-color:rgba(255, 0, 0, 0.15342929769318756);\"> (</span><span title=\"0.2938618175661054\" style=\"background-color:rgba(255, 0, 0, 0.2938618175661054);\"> 973–1050</span><span title=\"0.06726697609796074\" style=\"background-color:rgba(255, 0, 0, 0.06726697609796074);\"> )</span><span title=\"0.02020337757209424\" style=\"background-color:rgba(255, 0, 0, 0.02020337757209424);\"> wrote</span><span title=\"0.11320827056962253\" style=\"background-color:rgba(255, 0, 0, 0.11320827056962253);\"> one</span><span title=\"0.047988344517300836\" style=\"background-color:rgba(255, 0, 0, 0.047988344517300836);\"> of</span><span title=\"0.05953592770196229\" style=\"background-color:rgba(255, 0, 0, 0.05953592770196229);\"> the</span><span title=\"0.06333471949288398\" style=\"background-color:rgba(255, 0, 0, 0.06333471949288398);\"> most</span><span title=\"0.08515217412393514\" style=\"background-color:rgba(255, 0, 0, 0.08515217412393514);\"> valuable</span><span title=\"0.12162235731661233\" style=\"background-color:rgba(255, 0, 0, 0.12162235731661233);\"> Islamic</span><span title=\"0.10965554845062128\" style=\"background-color:rgba(255, 0, 0, 0.10965554845062128);\"> works</span><span title=\"0.08490168570842035\" style=\"background-color:rgba(255, 0, 0, 0.08490168570842035);\"> on</span><span title=\"0.1466066785589126\" style=\"background-color:rgba(255, 0, 0, 0.1466066785589126);\"> pharmacology</span><span title=\"0.044872928016715746\" style=\"background-color:rgba(255, 0, 0, 0.044872928016715746);\"> ,</span><span title=\"0.08200681062003592\" style=\"background-color:rgba(255, 0, 0, 0.08200681062003592);\"> entitled</span><span title=\"0.7169899463785704\" style=\"background-color:rgba(255, 0, 0, 0.7169899463785704);\"> Kitab</span><span title=\"0.7358343813596901\" style=\"background-color:rgba(255, 0, 0, 0.7358343813596901);\"> al</span><span title=\"0.7119433484382149\" style=\"background-color:rgba(255, 0, 0, 0.7119433484382149);\"> -</span><span title=\"0.7142586225468741\" style=\"background-color:rgba(255, 0, 0, 0.7142586225468741);\"> Saydalah</span><span title=\"0.3011970711212351\" style=\"background-color:rgba(255, 0, 0, 0.3011970711212351);\"> (</span><span title=\"0.3290831928621874\" style=\"background-color:rgba(255, 0, 0, 0.3290831928621874);\"> The</span><span title=\"0.39619351779783696\" style=\"background-color:rgba(255, 0, 0, 0.39619351779783696);\"> Book</span><span title=\"0.34589062432923895\" style=\"background-color:rgba(255, 0, 0, 0.34589062432923895);\"> of</span><span title=\"0.39643380173415543\" style=\"background-color:rgba(255, 0, 0, 0.39643380173415543);\"> Drugs</span><span title=\"0.13242676823787802\" style=\"background-color:rgba(255, 0, 0, 0.13242676823787802);\"> )</span><span title=\"0.042816752308615084\" style=\"background-color:rgba(255, 0, 0, 0.042816752308615084);\"> ,</span><span title=\"0.024989938995424687\" style=\"background-color:rgba(255, 0, 0, 0.024989938995424687);\"> in</span><span title=\"0.022785670035096205\" style=\"background-color:rgba(255, 0, 0, 0.022785670035096205);\"> which</span><span title=\"0.023924760737054032\" style=\"background-color:rgba(255, 0, 0, 0.023924760737054032);\"> he</span><span title=\"0.03442503740194542\" style=\"background-color:rgba(255, 0, 0, 0.03442503740194542);\"> detailed</span><span title=\"0.0677788371004163\" style=\"background-color:rgba(255, 0, 0, 0.0677788371004163);\"> the</span><span title=\"0.09605940541063931\" style=\"background-color:rgba(255, 0, 0, 0.09605940541063931);\"> properties</span><span title=\"0.07475120120827528\" style=\"background-color:rgba(255, 0, 0, 0.07475120120827528);\"> of</span><span title=\"0.12429806047232428\" style=\"background-color:rgba(255, 0, 0, 0.12429806047232428);\"> drugs</span><span title=\"0.07817523905418443\" style=\"background-color:rgba(255, 0, 0, 0.07817523905418443);\"> and</span><span title=\"0.08531982480681388\" style=\"background-color:rgba(255, 0, 0, 0.08531982480681388);\"> outlined</span><span title=\"0.11261113216146736\" style=\"background-color:rgba(255, 0, 0, 0.11261113216146736);\"> the</span><span title=\"0.149351694983423\" style=\"background-color:rgba(255, 0, 0, 0.149351694983423);\"> role</span><span title=\"0.13174794682051985\" style=\"background-color:rgba(255, 0, 0, 0.13174794682051985);\"> of</span><span title=\"0.19552655565477273\" style=\"background-color:rgba(255, 0, 0, 0.19552655565477273);\"> pharmacy</span><span title=\"0.15404317033142545\" style=\"background-color:rgba(255, 0, 0, 0.15404317033142545);\"> and</span><span title=\"0.1719752290172753\" style=\"background-color:rgba(255, 0, 0, 0.1719752290172753);\"> the</span><span title=\"0.19745127684088537\" style=\"background-color:rgba(255, 0, 0, 0.19745127684088537);\"> functions</span><span title=\"0.1638794406550792\" style=\"background-color:rgba(255, 0, 0, 0.1638794406550792);\"> and</span><span title=\"0.1732461592924443\" style=\"background-color:rgba(255, 0, 0, 0.1732461592924443);\"> duties</span><span title=\"0.1409796844871857\" style=\"background-color:rgba(255, 0, 0, 0.1409796844871857);\"> of</span><span title=\"0.16794135182877873\" style=\"background-color:rgba(255, 0, 0, 0.16794135182877873);\"> the</span><span title=\"0.1975406378489138\" style=\"background-color:rgba(255, 0, 0, 0.1975406378489138);\"> pharmacist</span><span title=\"0.03740784726679896\" style=\"background-color:rgba(255, 0, 0, 0.03740784726679896);\"> .</span>"
            ],
            "text/plain": [
              "<IPython.core.display.HTML object>"
            ]
          },
          "metadata": {
            "tags": []
          }
        },
        {
          "output_type": "stream",
          "text": [
            "\n"
          ],
          "name": "stdout"
        },
        {
          "output_type": "display_data",
          "data": {
            "text/html": [
              "<span title=\"0.09207722146080892\" style=\"background-color:rgba(255, 0, 0, 0.09207722146080892);\"> Percent</span><span title=\"0.06139713818238064\" style=\"background-color:rgba(255, 0, 0, 0.06139713818238064);\"> of</span><span title=\"0.0935522864981722\" style=\"background-color:rgba(255, 0, 0, 0.0935522864981722);\"> students</span><span title=\"0.042059733371305176\" style=\"background-color:rgba(255, 0, 0, 0.042059733371305176);\"> in</span><span title=\"0.09825731388402506\" style=\"background-color:rgba(255, 0, 0, 0.09825731388402506);\"> private</span><span title=\"0.10963461194602592\" style=\"background-color:rgba(255, 0, 0, 0.10963461194602592);\"> high</span><span title=\"0.10698259156383881\" style=\"background-color:rgba(255, 0, 0, 0.10698259156383881);\"> schools</span><span title=\"0.03639899781157227\" style=\"background-color:rgba(255, 0, 0, 0.03639899781157227);\"> reached</span><span title=\"0.7147114503177052\" style=\"background-color:rgba(255, 0, 0, 0.7147114503177052);text-decoration: underline\"> 11.1</span><span title=\"0.6167627097191706\" style=\"background-color:rgba(255, 0, 0, 0.6167627097191706);text-decoration: underline\"> %</span><span title=\"0.06284655639486077\" style=\"background-color:rgba(255, 0, 0, 0.06284655639486077);\"> .</span>"
            ],
            "text/plain": [
              "<IPython.core.display.HTML object>"
            ]
          },
          "metadata": {
            "tags": []
          }
        },
        {
          "output_type": "stream",
          "text": [
            "\n"
          ],
          "name": "stdout"
        },
        {
          "output_type": "display_data",
          "data": {
            "text/html": [
              "<span title=\"0.1196521827388454\" style=\"background-color:rgba(255, 0, 0, 0.1196521827388454);\"> Teachers</span><span title=\"0.0814053727832405\" style=\"background-color:rgba(255, 0, 0, 0.0814053727832405);\"> at</span><span title=\"0.17394019357054916\" style=\"background-color:rgba(255, 0, 0, 0.17394019357054916);\"> Ersatzschulen</span><span title=\"0.036443176783683744\" style=\"background-color:rgba(255, 0, 0, 0.036443176783683744);\"> must</span><span title=\"0.04559650885009917\" style=\"background-color:rgba(255, 0, 0, 0.04559650885009917);\"> have</span><span title=\"0.06729687492733444\" style=\"background-color:rgba(255, 0, 0, 0.06729687492733444);\"> at</span><span title=\"0.09990583110686696\" style=\"background-color:rgba(255, 0, 0, 0.09990583110686696);\"> least</span><span title=\"0.10611060916299973\" style=\"background-color:rgba(255, 0, 0, 0.10611060916299973);\"> the</span><span title=\"0.13424505077118648\" style=\"background-color:rgba(255, 0, 0, 0.13424505077118648);\"> same</span><span title=\"0.14101619131582593\" style=\"background-color:rgba(255, 0, 0, 0.14101619131582593);\"> education</span><span title=\"0.10021882301015538\" style=\"background-color:rgba(255, 0, 0, 0.10021882301015538);\"> and</span><span title=\"0.10023256714693218\" style=\"background-color:rgba(255, 0, 0, 0.10023256714693218);\"> at</span><span title=\"0.11734000381517426\" style=\"background-color:rgba(255, 0, 0, 0.11734000381517426);\"> least</span><span title=\"0.12330140922836214\" style=\"background-color:rgba(255, 0, 0, 0.12330140922836214);\"> the</span><span title=\"0.14628934033453472\" style=\"background-color:rgba(255, 0, 0, 0.14628934033453472);\"> same</span><span title=\"0.14715799644322686\" style=\"background-color:rgba(255, 0, 0, 0.14715799644322686);\"> wages</span><span title=\"0.11095131902591938\" style=\"background-color:rgba(255, 0, 0, 0.11095131902591938);\"> as</span><span title=\"0.1487350190368762\" style=\"background-color:rgba(255, 0, 0, 0.1487350190368762);\"> teachers</span><span title=\"0.09565473175048465\" style=\"background-color:rgba(255, 0, 0, 0.09565473175048465);\"> at</span><span title=\"0.1636288544657461\" style=\"background-color:rgba(255, 0, 0, 0.1636288544657461);\"> public</span><span title=\"0.1528028029349924\" style=\"background-color:rgba(255, 0, 0, 0.1528028029349924);\"> schools</span><span title=\"0.03072347969559744\" style=\"background-color:rgba(255, 0, 0, 0.03072347969559744);\"> ,</span><span title=\"0.06943411383276624\" style=\"background-color:rgba(255, 0, 0, 0.06943411383276624);\"> an</span><span title=\"0.13095911504734592\" style=\"background-color:rgba(255, 0, 0, 0.13095911504734592);\"> Ersatzschule</span><span title=\"0.04209347869043116\" style=\"background-color:rgba(255, 0, 0, 0.04209347869043116);\"> must</span><span title=\"0.0475283003991646\" style=\"background-color:rgba(255, 0, 0, 0.0475283003991646);\"> have</span><span title=\"0.0670121460120014\" style=\"background-color:rgba(255, 0, 0, 0.0670121460120014);\"> at</span><span title=\"0.09569635550262227\" style=\"background-color:rgba(255, 0, 0, 0.09569635550262227);\"> least</span><span title=\"0.09921128811164963\" style=\"background-color:rgba(255, 0, 0, 0.09921128811164963);\"> the</span><span title=\"0.12470566901923846\" style=\"background-color:rgba(255, 0, 0, 0.12470566901923846);\"> same</span><span title=\"0.1443251119957934\" style=\"background-color:rgba(255, 0, 0, 0.1443251119957934);\"> academic</span><span title=\"0.13614974621940484\" style=\"background-color:rgba(255, 0, 0, 0.13614974621940484);\"> standards</span><span title=\"0.0838520946524422\" style=\"background-color:rgba(255, 0, 0, 0.0838520946524422);\"> as</span><span title=\"0.11388698607066466\" style=\"background-color:rgba(255, 0, 0, 0.11388698607066466);\"> a</span><span title=\"0.14666910652567064\" style=\"background-color:rgba(255, 0, 0, 0.14666910652567064);\"> public</span><span title=\"0.14260375834700617\" style=\"background-color:rgba(255, 0, 0, 0.14260375834700617);\"> school</span><span title=\"0.09687973371478306\" style=\"background-color:rgba(255, 0, 0, 0.09687973371478306);\"> and</span><span title=\"0.6535898094600053\" style=\"background-color:rgba(255, 0, 0, 0.6535898094600053);\"> Article</span><span title=\"0.6855955713826043\" style=\"background-color:rgba(255, 0, 0, 0.6855955713826043);\"> 7</span><span title=\"0.5285974010438446\" style=\"background-color:rgba(255, 0, 0, 0.5285974010438446);\"> ,</span><span title=\"0.6061597231801851\" style=\"background-color:rgba(255, 0, 0, 0.6061597231801851);\"> Paragraph</span><span title=\"0.5880680567174231\" style=\"background-color:rgba(255, 0, 0, 0.5880680567174231);\"> 4</span><span title=\"0.5128863918549917\" style=\"background-color:rgba(255, 0, 0, 0.5128863918549917);\"> of</span><span title=\"0.5178898702146525\" style=\"background-color:rgba(255, 0, 0, 0.5178898702146525);\"> the</span><span title=\"0.5392732496421843\" style=\"background-color:rgba(255, 0, 0, 0.5392732496421843);\"> Grundgesetz</span><span title=\"0.08548469675995692\" style=\"background-color:rgba(255, 0, 0, 0.08548469675995692);\"> ,</span><span title=\"0.06005801664476717\" style=\"background-color:rgba(255, 0, 0, 0.06005801664476717);\"> also</span><span title=\"0.06946966299395883\" style=\"background-color:rgba(255, 0, 0, 0.06946966299395883);\"> forbids</span><span title=\"0.119331942399815\" style=\"background-color:rgba(255, 0, 0, 0.119331942399815);\"> segregation</span><span title=\"0.0930056712329973\" style=\"background-color:rgba(255, 0, 0, 0.0930056712329973);\"> of</span><span title=\"0.1169408750923765\" style=\"background-color:rgba(255, 0, 0, 0.1169408750923765);\"> pupils</span><span title=\"0.07592883844498083\" style=\"background-color:rgba(255, 0, 0, 0.07592883844498083);\"> according</span><span title=\"0.07770283103313547\" style=\"background-color:rgba(255, 0, 0, 0.07770283103313547);\"> to</span><span title=\"0.09876898448272428\" style=\"background-color:rgba(255, 0, 0, 0.09876898448272428);\"> the</span><span title=\"0.12099927626160656\" style=\"background-color:rgba(255, 0, 0, 0.12099927626160656);\"> means</span><span title=\"0.09090352299070482\" style=\"background-color:rgba(255, 0, 0, 0.09090352299070482);\"> of</span><span title=\"0.10760509085168883\" style=\"background-color:rgba(255, 0, 0, 0.10760509085168883);\"> their</span><span title=\"0.1293508124402952\" style=\"background-color:rgba(255, 0, 0, 0.1293508124402952);\"> parents</span><span title=\"0.013034875780812855\" style=\"background-color:rgba(255, 0, 0, 0.013034875780812855);\"> (</span><span title=\"0.01752630349192283\" style=\"background-color:rgba(255, 0, 0, 0.01752630349192283);\"> the</span><span title=\"0.036614128649903\" style=\"background-color:rgba(255, 0, 0, 0.036614128649903);\"> so</span><span title=\"0.03592316383885896\" style=\"background-color:rgba(255, 0, 0, 0.03592316383885896);\"> -</span><span title=\"0.0525445678716061\" style=\"background-color:rgba(255, 0, 0, 0.0525445678716061);\"> called</span><span title=\"0.3089562473688208\" style=\"background-color:rgba(255, 0, 0, 0.3089562473688208);text-decoration: underline\"> Sonderungsverbot</span><span title=\"0.09859255941647219\" style=\"background-color:rgba(255, 0, 0, 0.09859255941647219);\"> )</span><span title=\"0.03520415755530916\" style=\"background-color:rgba(255, 0, 0, 0.03520415755530916);\"> .</span>"
            ],
            "text/plain": [
              "<IPython.core.display.HTML object>"
            ]
          },
          "metadata": {
            "tags": []
          }
        },
        {
          "output_type": "stream",
          "text": [
            "\n"
          ],
          "name": "stdout"
        },
        {
          "output_type": "display_data",
          "data": {
            "text/html": [
              "<span title=\"0.023177757862454913\" style=\"background-color:rgba(255, 0, 0, 0.023177757862454913);\"> After</span><span title=\"0.10248828438285931\" style=\"background-color:rgba(255, 0, 0, 0.10248828438285931);\"> Malaysia</span><span title=\"0.06021172748612896\" style=\"background-color:rgba(255, 0, 0, 0.06021172748612896);\"> 's</span><span title=\"0.07569801110588206\" style=\"background-color:rgba(255, 0, 0, 0.07569801110588206);\"> independence</span><span title=\"0.0405108183495485\" style=\"background-color:rgba(255, 0, 0, 0.0405108183495485);\"> in</span><span title=\"0.5451567830980285\" style=\"background-color:rgba(255, 0, 0, 0.5451567830980285);text-decoration: underline\"> 1957</span><span title=\"0.025072537700163964\" style=\"background-color:rgba(255, 0, 0, 0.025072537700163964);\"> ,</span><span title=\"0.08068875834539682\" style=\"background-color:rgba(255, 0, 0, 0.08068875834539682);text-decoration: underline\"> the</span><span title=\"0.11062739449550404\" style=\"background-color:rgba(255, 0, 0, 0.11062739449550404);text-decoration: underline\"> government</span><span title=\"0.036896852584611506\" style=\"background-color:rgba(255, 0, 0, 0.036896852584611506);text-decoration: underline\"> instructed</span><span title=\"0.09840998926167674\" style=\"background-color:rgba(255, 0, 0, 0.09840998926167674);text-decoration: underline\"> all</span><span title=\"0.11012212150662044\" style=\"background-color:rgba(255, 0, 0, 0.11012212150662044);text-decoration: underline\"> schools</span><span title=\"0.06742955482669874\" style=\"background-color:rgba(255, 0, 0, 0.06742955482669874);text-decoration: underline\"> to</span><span title=\"0.12599259628563597\" style=\"background-color:rgba(255, 0, 0, 0.12599259628563597);text-decoration: underline\"> surrender</span><span title=\"0.1589095703583181\" style=\"background-color:rgba(255, 0, 0, 0.1589095703583181);text-decoration: underline\"> their</span><span title=\"0.18249546538703565\" style=\"background-color:rgba(255, 0, 0, 0.18249546538703565);text-decoration: underline\"> properties</span><span title=\"0.13521102069771165\" style=\"background-color:rgba(255, 0, 0, 0.13521102069771165);text-decoration: underline\"> and</span><span title=\"0.1367535514292673\" style=\"background-color:rgba(255, 0, 0, 0.1367535514292673);text-decoration: underline\"> be</span><span title=\"0.13736368712454355\" style=\"background-color:rgba(255, 0, 0, 0.13736368712454355);text-decoration: underline\"> assimilated</span><span title=\"0.12202774041540512\" style=\"background-color:rgba(255, 0, 0, 0.12202774041540512);\"> into</span><span title=\"0.15128421449932877\" style=\"background-color:rgba(255, 0, 0, 0.15128421449932877);\"> the</span><span title=\"0.36350563073682784\" style=\"background-color:rgba(255, 0, 0, 0.36350563073682784);text-decoration: underline\"> National</span><span title=\"0.37295959246970517\" style=\"background-color:rgba(255, 0, 0, 0.37295959246970517);text-decoration: underline\"> School</span><span title=\"0.32760739019995694\" style=\"background-color:rgba(255, 0, 0, 0.32760739019995694);\"> system</span><span title=\"0.054821951282874565\" style=\"background-color:rgba(255, 0, 0, 0.054821951282874565);\"> .</span>"
            ],
            "text/plain": [
              "<IPython.core.display.HTML object>"
            ]
          },
          "metadata": {
            "tags": []
          }
        },
        {
          "output_type": "stream",
          "text": [
            "\n"
          ],
          "name": "stdout"
        },
        {
          "output_type": "display_data",
          "data": {
            "text/html": [
              "<span title=\"0.07579137859940172\" style=\"background-color:rgba(255, 0, 0, 0.07579137859940172);\"> The</span><span title=\"0.1496357973873382\" style=\"background-color:rgba(255, 0, 0, 0.1496357973873382);\"> Swedish</span><span title=\"0.11739556804421677\" style=\"background-color:rgba(255, 0, 0, 0.11739556804421677);\"> system</span><span title=\"0.0315025993822827\" style=\"background-color:rgba(255, 0, 0, 0.0315025993822827);\"> has</span><span title=\"0.030606533214550886\" style=\"background-color:rgba(255, 0, 0, 0.030606533214550886);\"> been</span><span title=\"0.03281435234641924\" style=\"background-color:rgba(255, 0, 0, 0.03281435234641924);\"> recommended</span><span title=\"0.06213799754628091\" style=\"background-color:rgba(255, 0, 0, 0.06213799754628091);\"> to</span><span title=\"0.7119636531918834\" style=\"background-color:rgba(255, 0, 0, 0.7119636531918834);\"> Barack</span><span title=\"0.6804033308703862\" style=\"background-color:rgba(255, 0, 0, 0.6804033308703862);\"> Obama</span><span title=\"0.07567090627807102\" style=\"background-color:rgba(255, 0, 0, 0.07567090627807102);\"> .</span>"
            ],
            "text/plain": [
              "<IPython.core.display.HTML object>"
            ]
          },
          "metadata": {
            "tags": []
          }
        },
        {
          "output_type": "stream",
          "text": [
            "\n"
          ],
          "name": "stdout"
        },
        {
          "output_type": "display_data",
          "data": {
            "text/html": [
              "<span title=\"0.02132078208026734\" style=\"background-color:rgba(255, 0, 0, 0.02132078208026734);\"> Established</span><span title=\"0.02003600803221104\" style=\"background-color:rgba(255, 0, 0, 0.02003600803221104);\"> originally</span><span title=\"0.025832375138254537\" style=\"background-color:rgba(255, 0, 0, 0.025832375138254537);\"> by</span><span title=\"0.06241897464486247\" style=\"background-color:rgba(255, 0, 0, 0.06241897464486247);\"> the</span><span title=\"0.20319346463456686\" style=\"background-color:rgba(255, 0, 0, 0.20319346463456686);\"> Massachusetts</span><span title=\"0.14923694623890663\" style=\"background-color:rgba(255, 0, 0, 0.14923694623890663);\"> legislature</span><span title=\"0.074607779008386\" style=\"background-color:rgba(255, 0, 0, 0.074607779008386);\"> and</span><span title=\"0.0690594908842994\" style=\"background-color:rgba(255, 0, 0, 0.0690594908842994);\"> soon</span><span title=\"0.053115221727608845\" style=\"background-color:rgba(255, 0, 0, 0.053115221727608845);\"> thereafter</span><span title=\"0.04629732905126683\" style=\"background-color:rgba(255, 0, 0, 0.04629732905126683);\"> named</span><span title=\"0.06118313923519568\" style=\"background-color:rgba(255, 0, 0, 0.06118313923519568);\"> for</span><span title=\"0.6616566915627758\" style=\"background-color:rgba(255, 0, 0, 0.6616566915627758);text-decoration: underline\"> John</span><span title=\"0.6227905392633806\" style=\"background-color:rgba(255, 0, 0, 0.6227905392633806);text-decoration: underline\"> Harvard</span><span title=\"0.10243179007986758\" style=\"background-color:rgba(255, 0, 0, 0.10243179007986758);\"> (</span><span title=\"0.0927352479294778\" style=\"background-color:rgba(255, 0, 0, 0.0927352479294778);\"> its</span><span title=\"0.13252695666098052\" style=\"background-color:rgba(255, 0, 0, 0.13252695666098052);\"> first</span><span title=\"0.147106636606018\" style=\"background-color:rgba(255, 0, 0, 0.147106636606018);\"> benefactor</span><span title=\"0.061140567628817824\" style=\"background-color:rgba(255, 0, 0, 0.061140567628817824);\"> )</span><span title=\"0.01884878286997868\" style=\"background-color:rgba(255, 0, 0, 0.01884878286997868);\"> ,</span><span title=\"0.2518998984924778\" style=\"background-color:rgba(255, 0, 0, 0.2518998984924778);\"> Harvard</span><span title=\"0.0655411320403094\" style=\"background-color:rgba(255, 0, 0, 0.0655411320403094);\"> is</span><span title=\"0.1887824835720865\" style=\"background-color:rgba(255, 0, 0, 0.1887824835720865);text-decoration: underline\"> the</span><span title=\"0.3499712473742305\" style=\"background-color:rgba(255, 0, 0, 0.3499712473742305);text-decoration: underline\"> United</span><span title=\"0.3193616117445531\" style=\"background-color:rgba(255, 0, 0, 0.3193616117445531);text-decoration: underline\"> States</span><span title=\"0.2581744941047846\" style=\"background-color:rgba(255, 0, 0, 0.2581744941047846);text-decoration: underline\"> '</span><span title=\"0.22119856117770254\" style=\"background-color:rgba(255, 0, 0, 0.22119856117770254);text-decoration: underline\"> oldest</span><span title=\"0.20975973248201063\" style=\"background-color:rgba(255, 0, 0, 0.20975973248201063);text-decoration: underline\"> institution</span><span title=\"0.17008483974024152\" style=\"background-color:rgba(255, 0, 0, 0.17008483974024152);text-decoration: underline\"> of</span><span title=\"0.22566682293783832\" style=\"background-color:rgba(255, 0, 0, 0.22566682293783832);text-decoration: underline\"> higher</span><span title=\"0.22015953905905727\" style=\"background-color:rgba(255, 0, 0, 0.22015953905905727);text-decoration: underline\"> learning</span><span title=\"0.06477481226263805\" style=\"background-color:rgba(255, 0, 0, 0.06477481226263805);\"> ,</span><span title=\"0.05705733270138799\" style=\"background-color:rgba(255, 0, 0, 0.05705733270138799);\"> and</span><span title=\"0.1978143613399332\" style=\"background-color:rgba(255, 0, 0, 0.1978143613399332);\"> the</span><span title=\"0.46070316162057967\" style=\"background-color:rgba(255, 0, 0, 0.46070316162057967);\"> Harvard</span><span title=\"0.4341727174580468\" style=\"background-color:rgba(255, 0, 0, 0.4341727174580468);\"> Corporation</span><span title=\"0.11552558945663985\" style=\"background-color:rgba(255, 0, 0, 0.11552558945663985);\"> (</span><span title=\"0.1204739362135518\" style=\"background-color:rgba(255, 0, 0, 0.1204739362135518);\"> formally</span><span title=\"0.09752346155343511\" style=\"background-color:rgba(255, 0, 0, 0.09752346155343511);\"> ,</span><span title=\"0.1303319676580169\" style=\"background-color:rgba(255, 0, 0, 0.1303319676580169);\"> the</span><span title=\"0.24235111765513467\" style=\"background-color:rgba(255, 0, 0, 0.24235111765513467);\"> President</span><span title=\"0.19506627131791107\" style=\"background-color:rgba(255, 0, 0, 0.19506627131791107);\"> and</span><span title=\"0.22032982614722485\" style=\"background-color:rgba(255, 0, 0, 0.22032982614722485);\"> Fellows</span><span title=\"0.16821810695851575\" style=\"background-color:rgba(255, 0, 0, 0.16821810695851575);\"> of</span><span title=\"0.39244718631862613\" style=\"background-color:rgba(255, 0, 0, 0.39244718631862613);\"> Harvard</span><span title=\"0.3790890551128111\" style=\"background-color:rgba(255, 0, 0, 0.3790890551128111);\"> College</span><span title=\"0.06431455360161063\" style=\"background-color:rgba(255, 0, 0, 0.06431455360161063);\"> )</span><span title=\"0.029078886281673856\" style=\"background-color:rgba(255, 0, 0, 0.029078886281673856);\"> is</span><span title=\"0.045417708351128704\" style=\"background-color:rgba(255, 0, 0, 0.045417708351128704);\"> its</span><span title=\"0.0773955434781441\" style=\"background-color:rgba(255, 0, 0, 0.0773955434781441);\"> first</span><span title=\"0.08577401107093127\" style=\"background-color:rgba(255, 0, 0, 0.08577401107093127);\"> chartered</span><span title=\"0.1253423931373686\" style=\"background-color:rgba(255, 0, 0, 0.1253423931373686);\"> corporation</span><span title=\"0.028917397209513425\" style=\"background-color:rgba(255, 0, 0, 0.028917397209513425);\"> .</span>"
            ],
            "text/plain": [
              "<IPython.core.display.HTML object>"
            ]
          },
          "metadata": {
            "tags": []
          }
        },
        {
          "output_type": "stream",
          "text": [
            "\n"
          ],
          "name": "stdout"
        },
        {
          "output_type": "display_data",
          "data": {
            "text/html": [
              "<span title=\"0.6692944728208359\" style=\"background-color:rgba(255, 0, 0, 0.6692944728208359);text-decoration: underline\"> Charles</span><span title=\"0.6617912052622487\" style=\"background-color:rgba(255, 0, 0, 0.6617912052622487);text-decoration: underline\"> W.</span><span title=\"0.6380514724213959\" style=\"background-color:rgba(255, 0, 0, 0.6380514724213959);text-decoration: underline\"> Eliot</span><span title=\"0.22793637218842525\" style=\"background-color:rgba(255, 0, 0, 0.22793637218842525);\"> ,</span><span title=\"0.24494704619442365\" style=\"background-color:rgba(255, 0, 0, 0.24494704619442365);\"> president</span><span title=\"0.3708938484623474\" style=\"background-color:rgba(255, 0, 0, 0.3708938484623474);text-decoration: underline\"> 1869–1909</span><span title=\"0.06284943878149102\" style=\"background-color:rgba(255, 0, 0, 0.06284943878149102);\"> ,</span><span title=\"0.0405926463783368\" style=\"background-color:rgba(255, 0, 0, 0.0405926463783368);\"> eliminated</span><span title=\"0.06602456355631421\" style=\"background-color:rgba(255, 0, 0, 0.06602456355631421);\"> the</span><span title=\"0.10248748194508733\" style=\"background-color:rgba(255, 0, 0, 0.10248748194508733);\"> favored</span><span title=\"0.13084060412541765\" style=\"background-color:rgba(255, 0, 0, 0.13084060412541765);\"> position</span><span title=\"0.09440903543219065\" style=\"background-color:rgba(255, 0, 0, 0.09440903543219065);\"> of</span><span title=\"0.19134671181691798\" style=\"background-color:rgba(255, 0, 0, 0.19134671181691798);\"> Christianity</span><span title=\"0.053003163770526926\" style=\"background-color:rgba(255, 0, 0, 0.053003163770526926);\"> from</span><span title=\"0.10524790120782204\" style=\"background-color:rgba(255, 0, 0, 0.10524790120782204);\"> the</span><span title=\"0.13234414674897987\" style=\"background-color:rgba(255, 0, 0, 0.13234414674897987);\"> curriculum</span><span title=\"0.04855465321442041\" style=\"background-color:rgba(255, 0, 0, 0.04855465321442041);\"> while</span><span title=\"0.0754025591322754\" style=\"background-color:rgba(255, 0, 0, 0.0754025591322754);\"> opening</span><span title=\"0.08738730494728644\" style=\"background-color:rgba(255, 0, 0, 0.08738730494728644);\"> it</span><span title=\"0.0993803839413926\" style=\"background-color:rgba(255, 0, 0, 0.0993803839413926);\"> to</span><span title=\"0.21243198814326936\" style=\"background-color:rgba(255, 0, 0, 0.21243198814326936);text-decoration: underline\"> student</span><span title=\"0.26199597241954603\" style=\"background-color:rgba(255, 0, 0, 0.26199597241954603);text-decoration: underline\"> self</span><span title=\"0.2586914693624042\" style=\"background-color:rgba(255, 0, 0, 0.2586914693624042);text-decoration: underline\"> -</span><span title=\"0.2713501644500172\" style=\"background-color:rgba(255, 0, 0, 0.2713501644500172);text-decoration: underline\"> direction</span><span title=\"0.04941419469855814\" style=\"background-color:rgba(255, 0, 0, 0.04941419469855814);\"> .</span>"
            ],
            "text/plain": [
              "<IPython.core.display.HTML object>"
            ]
          },
          "metadata": {
            "tags": []
          }
        },
        {
          "output_type": "stream",
          "text": [
            "\n"
          ],
          "name": "stdout"
        },
        {
          "output_type": "display_data",
          "data": {
            "text/html": [
              "<span title=\"0.03459754416262582\" style=\"background-color:rgba(255, 0, 0, 0.03459754416262582);\"> Derived</span><span title=\"0.04511945849862294\" style=\"background-color:rgba(255, 0, 0, 0.04511945849862294);\"> from</span><span title=\"0.6777975595377099\" style=\"background-color:rgba(255, 0, 0, 0.6777975595377099);text-decoration: underline\"> William</span><span title=\"0.6772117073345604\" style=\"background-color:rgba(255, 0, 0, 0.6772117073345604);text-decoration: underline\"> Ellery</span><span title=\"0.6456583132293766\" style=\"background-color:rgba(255, 0, 0, 0.6456583132293766);text-decoration: underline\"> Channing</span><span title=\"0.41648063528752066\" style=\"background-color:rgba(255, 0, 0, 0.41648063528752066);text-decoration: underline\"> and</span><span title=\"0.6950926867180371\" style=\"background-color:rgba(255, 0, 0, 0.6950926867180371);text-decoration: underline\"> Ralph</span><span title=\"0.6959362911845889\" style=\"background-color:rgba(255, 0, 0, 0.6959362911845889);text-decoration: underline\"> Waldo</span><span title=\"0.6670029360187866\" style=\"background-color:rgba(255, 0, 0, 0.6670029360187866);text-decoration: underline\"> Emerson</span><span title=\"0.0832629176868383\" style=\"background-color:rgba(255, 0, 0, 0.0832629176868383);\"> ,</span><span title=\"0.09557666883068615\" style=\"background-color:rgba(255, 0, 0, 0.09557666883068615);\"> these</span><span title=\"0.11266612038551693\" style=\"background-color:rgba(255, 0, 0, 0.11266612038551693);\"> convictions</span><span title=\"0.06451712561164655\" style=\"background-color:rgba(255, 0, 0, 0.06451712561164655);\"> were</span><span title=\"0.09347560327419766\" style=\"background-color:rgba(255, 0, 0, 0.09347560327419766);\"> focused</span><span title=\"0.14089534007422752\" style=\"background-color:rgba(255, 0, 0, 0.14089534007422752);\"> on</span><span title=\"0.28675856962471513\" style=\"background-color:rgba(255, 0, 0, 0.28675856962471513);text-decoration: underline\"> the</span><span title=\"0.39625015508729716\" style=\"background-color:rgba(255, 0, 0, 0.39625015508729716);text-decoration: underline\"> dignity</span><span title=\"0.36462479591541497\" style=\"background-color:rgba(255, 0, 0, 0.36462479591541497);text-decoration: underline\"> and</span><span title=\"0.39645477674232144\" style=\"background-color:rgba(255, 0, 0, 0.39645477674232144);text-decoration: underline\"> worth</span><span title=\"0.37465688540320496\" style=\"background-color:rgba(255, 0, 0, 0.37465688540320496);text-decoration: underline\"> of</span><span title=\"0.47640754056868995\" style=\"background-color:rgba(255, 0, 0, 0.47640754056868995);text-decoration: underline\"> human</span><span title=\"0.4733505554685175\" style=\"background-color:rgba(255, 0, 0, 0.4733505554685175);text-decoration: underline\"> nature</span><span title=\"0.3371799675058345\" style=\"background-color:rgba(255, 0, 0, 0.3371799675058345);text-decoration: underline\"> ,</span><span title=\"0.3600499765313755\" style=\"background-color:rgba(255, 0, 0, 0.3600499765313755);text-decoration: underline\"> the</span><span title=\"0.40940865237479585\" style=\"background-color:rgba(255, 0, 0, 0.40940865237479585);text-decoration: underline\"> right</span><span title=\"0.36838058820500713\" style=\"background-color:rgba(255, 0, 0, 0.36838058820500713);text-decoration: underline\"> and</span><span title=\"0.37765961219690514\" style=\"background-color:rgba(255, 0, 0, 0.37765961219690514);text-decoration: underline\"> ability</span><span title=\"0.321025357310907\" style=\"background-color:rgba(255, 0, 0, 0.321025357310907);text-decoration: underline\"> of</span><span title=\"0.3472057856957178\" style=\"background-color:rgba(255, 0, 0, 0.3472057856957178);text-decoration: underline\"> each</span><span title=\"0.3535157488803788\" style=\"background-color:rgba(255, 0, 0, 0.3535157488803788);text-decoration: underline\"> person</span><span title=\"0.27559869548007593\" style=\"background-color:rgba(255, 0, 0, 0.27559869548007593);text-decoration: underline\"> to</span><span title=\"0.29421220595099884\" style=\"background-color:rgba(255, 0, 0, 0.29421220595099884);text-decoration: underline\"> perceive</span><span title=\"0.31898207242904403\" style=\"background-color:rgba(255, 0, 0, 0.31898207242904403);text-decoration: underline\"> truth</span><span title=\"0.1815169094826591\" style=\"background-color:rgba(255, 0, 0, 0.1815169094826591);text-decoration: underline\"> ,</span><span title=\"0.1670467876318112\" style=\"background-color:rgba(255, 0, 0, 0.1670467876318112);text-decoration: underline\"> and</span><span title=\"0.17654491591778998\" style=\"background-color:rgba(255, 0, 0, 0.17654491591778998);text-decoration: underline\"> the</span><span title=\"0.20379144105259356\" style=\"background-color:rgba(255, 0, 0, 0.20379144105259356);text-decoration: underline\"> indwelling</span><span title=\"0.26290070160454004\" style=\"background-color:rgba(255, 0, 0, 0.26290070160454004);text-decoration: underline\"> God</span><span title=\"0.18196192997063096\" style=\"background-color:rgba(255, 0, 0, 0.18196192997063096);text-decoration: underline\"> in</span><span title=\"0.19945182766539032\" style=\"background-color:rgba(255, 0, 0, 0.19945182766539032);text-decoration: underline\"> each</span><span title=\"0.21176400354680644\" style=\"background-color:rgba(255, 0, 0, 0.21176400354680644);text-decoration: underline\"> person</span><span title=\"0.04121215862355853\" style=\"background-color:rgba(255, 0, 0, 0.04121215862355853);\"> .</span>"
            ],
            "text/plain": [
              "<IPython.core.display.HTML object>"
            ]
          },
          "metadata": {
            "tags": []
          }
        },
        {
          "output_type": "stream",
          "text": [
            "\n"
          ],
          "name": "stdout"
        },
        {
          "output_type": "display_data",
          "data": {
            "text/html": [
              "<span title=\"0.03173101215022795\" style=\"background-color:rgba(255, 0, 0, 0.03173101215022795);\"> In</span><span title=\"0.3427813504203533\" style=\"background-color:rgba(255, 0, 0, 0.3427813504203533);\"> December</span><span title=\"0.35719450253233465\" style=\"background-color:rgba(255, 0, 0, 0.35719450253233465);\"> 2008</span><span title=\"0.021070453235527645\" style=\"background-color:rgba(255, 0, 0, 0.021070453235527645);\"> ,</span><span title=\"0.1536117815153718\" style=\"background-color:rgba(255, 0, 0, 0.1536117815153718);\"> Harvard</span><span title=\"0.02273325249419984\" style=\"background-color:rgba(255, 0, 0, 0.02273325249419984);\"> announced</span><span title=\"0.03164627174309972\" style=\"background-color:rgba(255, 0, 0, 0.03164627174309972);\"> that</span><span title=\"0.08225944711660327\" style=\"background-color:rgba(255, 0, 0, 0.08225944711660327);\"> its</span><span title=\"0.10239538732559082\" style=\"background-color:rgba(255, 0, 0, 0.10239538732559082);\"> endowment</span><span title=\"0.07878124922849149\" style=\"background-color:rgba(255, 0, 0, 0.07878124922849149);\"> had</span><span title=\"0.12121335188455215\" style=\"background-color:rgba(255, 0, 0, 0.12121335188455215);\"> lost</span><span title=\"0.7249724949330252\" style=\"background-color:rgba(255, 0, 0, 0.7249724949330252);\"> 22</span><span title=\"0.6512719456833812\" style=\"background-color:rgba(255, 0, 0, 0.6512719456833812);\"> %</span><span title=\"0.2439437257874496\" style=\"background-color:rgba(255, 0, 0, 0.2439437257874496);\"> (</span><span title=\"0.26721973000648763\" style=\"background-color:rgba(255, 0, 0, 0.26721973000648763);\"> approximately</span><span title=\"0.4182977796656657\" style=\"background-color:rgba(255, 0, 0, 0.4182977796656657);text-decoration: underline\"> $</span><span title=\"0.5487694185837568\" style=\"background-color:rgba(255, 0, 0, 0.5487694185837568);text-decoration: underline\"> 8</span><span title=\"0.5257815757111833\" style=\"background-color:rgba(255, 0, 0, 0.5257815757111833);text-decoration: underline\"> billion</span><span title=\"0.18481601726066937\" style=\"background-color:rgba(255, 0, 0, 0.18481601726066937);\"> )</span><span title=\"0.13414857965823623\" style=\"background-color:rgba(255, 0, 0, 0.13414857965823623);\"> from</span><span title=\"0.3247927653940785\" style=\"background-color:rgba(255, 0, 0, 0.3247927653940785);\"> July</span><span title=\"0.2762934233456646\" style=\"background-color:rgba(255, 0, 0, 0.2762934233456646);\"> to</span><span title=\"0.3740415362908174\" style=\"background-color:rgba(255, 0, 0, 0.3740415362908174);\"> October</span><span title=\"0.3655983247757244\" style=\"background-color:rgba(255, 0, 0, 0.3655983247757244);\"> 2008</span><span title=\"0.07680165518444837\" style=\"background-color:rgba(255, 0, 0, 0.07680165518444837);\"> ,</span><span title=\"0.09316894748033239\" style=\"background-color:rgba(255, 0, 0, 0.09316894748033239);\"> necessitating</span><span title=\"0.17661929184518518\" style=\"background-color:rgba(255, 0, 0, 0.17661929184518518);\"> budget</span><span title=\"0.1790625906651884\" style=\"background-color:rgba(255, 0, 0, 0.1790625906651884);\"> cuts</span><span title=\"0.03347863941115761\" style=\"background-color:rgba(255, 0, 0, 0.03347863941115761);\"> .</span>"
            ],
            "text/plain": [
              "<IPython.core.display.HTML object>"
            ]
          },
          "metadata": {
            "tags": []
          }
        },
        {
          "output_type": "stream",
          "text": [
            "\n"
          ],
          "name": "stdout"
        },
        {
          "output_type": "display_data",
          "data": {
            "text/html": [
              "<span title=\"0.029686696200765278\" style=\"background-color:rgba(255, 0, 0, 0.029686696200765278);\"> However</span><span title=\"0.010488677881507699\" style=\"background-color:rgba(255, 0, 0, 0.010488677881507699);\"> ,</span><span title=\"0.035430036264158006\" style=\"background-color:rgba(255, 0, 0, 0.035430036264158006);\"> the</span><span title=\"0.06778492056404836\" style=\"background-color:rgba(255, 0, 0, 0.06778492056404836);\"> university</span><span title=\"0.01582420967403386\" style=\"background-color:rgba(255, 0, 0, 0.01582420967403386);\"> did</span><span title=\"0.025371600623582034\" style=\"background-color:rgba(255, 0, 0, 0.025371600623582034);\"> eventually</span><span title=\"0.04326912551558773\" style=\"background-color:rgba(255, 0, 0, 0.04326912551558773);\"> reduce</span><span title=\"0.06520324741230825\" style=\"background-color:rgba(255, 0, 0, 0.06520324741230825);\"> its</span><span title=\"0.17542415388419746\" style=\"background-color:rgba(255, 0, 0, 0.17542415388419746);\"> South</span><span title=\"0.16777673988494768\" style=\"background-color:rgba(255, 0, 0, 0.16777673988494768);\"> African</span><span title=\"0.12024641133028477\" style=\"background-color:rgba(255, 0, 0, 0.12024641133028477);\"> holdings</span><span title=\"0.07366471114073157\" style=\"background-color:rgba(255, 0, 0, 0.07366471114073157);\"> by</span><span title=\"0.7141650260835571\" style=\"background-color:rgba(255, 0, 0, 0.7141650260835571);text-decoration: underline\"> $</span><span title=\"0.8077389066921256\" style=\"background-color:rgba(255, 0, 0, 0.8077389066921256);text-decoration: underline\"> 230</span><span title=\"0.7744032714533298\" style=\"background-color:rgba(255, 0, 0, 0.7744032714533298);text-decoration: underline\"> million</span><span title=\"0.08116164718939956\" style=\"background-color:rgba(255, 0, 0, 0.08116164718939956);\"> (</span><span title=\"0.07618408910689009\" style=\"background-color:rgba(255, 0, 0, 0.07618408910689009);\"> out</span><span title=\"0.09025548731502714\" style=\"background-color:rgba(255, 0, 0, 0.09025548731502714);\"> of</span><span title=\"0.5032771057453744\" style=\"background-color:rgba(255, 0, 0, 0.5032771057453744);text-decoration: underline\"> $</span><span title=\"0.6660808775824518\" style=\"background-color:rgba(255, 0, 0, 0.6660808775824518);text-decoration: underline\"> 400</span><span title=\"0.6299216987334388\" style=\"background-color:rgba(255, 0, 0, 0.6299216987334388);text-decoration: underline\"> million</span><span title=\"0.05764199606885045\" style=\"background-color:rgba(255, 0, 0, 0.05764199606885045);\"> )</span><span title=\"0.030321950590314378\" style=\"background-color:rgba(255, 0, 0, 0.030321950590314378);\"> in</span><span title=\"0.06324994632697528\" style=\"background-color:rgba(255, 0, 0, 0.06324994632697528);\"> response</span><span title=\"0.03914821192373479\" style=\"background-color:rgba(255, 0, 0, 0.03914821192373479);\"> to</span><span title=\"0.06733017365658375\" style=\"background-color:rgba(255, 0, 0, 0.06733017365658375);\"> the</span><span title=\"0.09852475927480087\" style=\"background-color:rgba(255, 0, 0, 0.09852475927480087);\"> pressure</span><span title=\"0.02109676551365312\" style=\"background-color:rgba(255, 0, 0, 0.02109676551365312);\"> .</span>"
            ],
            "text/plain": [
              "<IPython.core.display.HTML object>"
            ]
          },
          "metadata": {
            "tags": []
          }
        },
        {
          "output_type": "stream",
          "text": [
            "\n"
          ],
          "name": "stdout"
        },
        {
          "output_type": "display_data",
          "data": {
            "text/html": [
              "<span title=\"0.03661480834118454\" style=\"background-color:rgba(255, 0, 0, 0.03661480834118454);\"> Seeking</span><span title=\"0.042487063286933004\" style=\"background-color:rgba(255, 0, 0, 0.042487063286933004);\"> to</span><span title=\"0.06881011862984801\" style=\"background-color:rgba(255, 0, 0, 0.06881011862984801);\"> reduce</span><span title=\"0.10630302204654858\" style=\"background-color:rgba(255, 0, 0, 0.10630302204654858);\"> the</span><span title=\"0.1584559880376079\" style=\"background-color:rgba(255, 0, 0, 0.1584559880376079);\"> alarming</span><span title=\"0.1426529945058982\" style=\"background-color:rgba(255, 0, 0, 0.1426529945058982);\"> number</span><span title=\"0.11861324681778937\" style=\"background-color:rgba(255, 0, 0, 0.11861324681778937);\"> of</span><span title=\"0.1706562969750583\" style=\"background-color:rgba(255, 0, 0, 0.1706562969750583);\"> deaths</span><span title=\"0.11300563714189696\" style=\"background-color:rgba(255, 0, 0, 0.11300563714189696);\"> and</span><span title=\"0.13534382831957126\" style=\"background-color:rgba(255, 0, 0, 0.13534382831957126);\"> serious</span><span title=\"0.131375629251629\" style=\"background-color:rgba(255, 0, 0, 0.131375629251629);\"> injuries</span><span title=\"0.08343532413555901\" style=\"background-color:rgba(255, 0, 0, 0.08343532413555901);\"> in</span><span title=\"0.10909077811046429\" style=\"background-color:rgba(255, 0, 0, 0.10909077811046429);\"> the</span><span title=\"0.14123427595854576\" style=\"background-color:rgba(255, 0, 0, 0.14123427595854576);\"> sport</span><span title=\"0.026640500606166018\" style=\"background-color:rgba(255, 0, 0, 0.026640500606166018);\"> ,</span><span title=\"0.5808051130753926\" style=\"background-color:rgba(255, 0, 0, 0.5808051130753926);\"> Walter</span><span title=\"0.5626862477696973\" style=\"background-color:rgba(255, 0, 0, 0.5626862477696973);\"> Camp</span><span title=\"0.10499392946627145\" style=\"background-color:rgba(255, 0, 0, 0.10499392946627145);\"> (</span><span title=\"0.11195014045672486\" style=\"background-color:rgba(255, 0, 0, 0.11195014045672486);text-decoration: underline\"> former</span><span title=\"0.11515994076089692\" style=\"background-color:rgba(255, 0, 0, 0.11515994076089692);text-decoration: underline\"> captain</span><span title=\"0.07606618776213533\" style=\"background-color:rgba(255, 0, 0, 0.07606618776213533);text-decoration: underline\"> of</span><span title=\"0.09418329266122671\" style=\"background-color:rgba(255, 0, 0, 0.09418329266122671);text-decoration: underline\"> the</span><span title=\"0.2310902731493258\" style=\"background-color:rgba(255, 0, 0, 0.2310902731493258);text-decoration: underline\"> Yale</span><span title=\"0.20629282408665\" style=\"background-color:rgba(255, 0, 0, 0.20629282408665);text-decoration: underline\"> football</span><span title=\"0.20276364318893736\" style=\"background-color:rgba(255, 0, 0, 0.20276364318893736);text-decoration: underline\"> team</span><span title=\"0.07768909320150999\" style=\"background-color:rgba(255, 0, 0, 0.07768909320150999);\"> )</span><span title=\"0.0313157864737955\" style=\"background-color:rgba(255, 0, 0, 0.0313157864737955);\"> ,</span><span title=\"0.026464463271464858\" style=\"background-color:rgba(255, 0, 0, 0.026464463271464858);\"> suggested</span><span title=\"0.07909713062326795\" style=\"background-color:rgba(255, 0, 0, 0.07909713062326795);\"> widening</span><span title=\"0.11634158981815393\" style=\"background-color:rgba(255, 0, 0, 0.11634158981815393);\"> the</span><span title=\"0.13747960386427377\" style=\"background-color:rgba(255, 0, 0, 0.13747960386427377);\"> field</span><span title=\"0.1129070068741149\" style=\"background-color:rgba(255, 0, 0, 0.1129070068741149);\"> to</span><span title=\"0.12931586923506966\" style=\"background-color:rgba(255, 0, 0, 0.12931586923506966);\"> open</span><span title=\"0.13479532050693857\" style=\"background-color:rgba(255, 0, 0, 0.13479532050693857);\"> up</span><span title=\"0.15421278231623692\" style=\"background-color:rgba(255, 0, 0, 0.15421278231623692);\"> the</span><span title=\"0.17571253709037105\" style=\"background-color:rgba(255, 0, 0, 0.17571253709037105);\"> game</span><span title=\"0.03948239488949079\" style=\"background-color:rgba(255, 0, 0, 0.03948239488949079);\"> .</span>"
            ],
            "text/plain": [
              "<IPython.core.display.HTML object>"
            ]
          },
          "metadata": {
            "tags": []
          }
        },
        {
          "output_type": "stream",
          "text": [
            "\n"
          ],
          "name": "stdout"
        },
        {
          "output_type": "display_data",
          "data": {
            "text/html": [
              "<span title=\"0.03178526768484252\" style=\"background-color:rgba(255, 0, 0, 0.03178526768484252);\"> A</span><span title=\"0.04617191835085707\" style=\"background-color:rgba(255, 0, 0, 0.04617191835085707);\"> platted</span><span title=\"0.039135745772757906\" style=\"background-color:rgba(255, 0, 0, 0.039135745772757906);\"> town</span><span title=\"0.01087265941585506\" style=\"background-color:rgba(255, 0, 0, 0.01087265941585506);\"> was</span><span title=\"0.02141445758461054\" style=\"background-color:rgba(255, 0, 0, 0.02141445758461054);\"> established</span><span title=\"0.029783100755670512\" style=\"background-color:rgba(255, 0, 0, 0.029783100755670512);\"> there</span><span title=\"0.0351759129061979\" style=\"background-color:rgba(255, 0, 0, 0.0351759129061979);\"> in</span><span title=\"0.5629207270283535\" style=\"background-color:rgba(255, 0, 0, 0.5629207270283535);\"> 1822</span><span title=\"0.027342570215835114\" style=\"background-color:rgba(255, 0, 0, 0.027342570215835114);\"> ,</span><span title=\"0.0869000722905793\" style=\"background-color:rgba(255, 0, 0, 0.0869000722905793);\"> a</span><span title=\"0.12469820501871064\" style=\"background-color:rgba(255, 0, 0, 0.12469820501871064);\"> year</span><span title=\"0.06881116418277015\" style=\"background-color:rgba(255, 0, 0, 0.06881116418277015);\"> after</span><span title=\"0.1781878738476842\" style=\"background-color:rgba(255, 0, 0, 0.1781878738476842);\"> the</span><span title=\"0.3152342409272451\" style=\"background-color:rgba(255, 0, 0, 0.3152342409272451);\"> United</span><span title=\"0.28565607793871095\" style=\"background-color:rgba(255, 0, 0, 0.28565607793871095);\"> States</span><span title=\"0.14627392320820803\" style=\"background-color:rgba(255, 0, 0, 0.14627392320820803);\"> gained</span><span title=\"0.2362414387620444\" style=\"background-color:rgba(255, 0, 0, 0.2362414387620444);\"> Florida</span><span title=\"0.1352927318117055\" style=\"background-color:rgba(255, 0, 0, 0.1352927318117055);\"> from</span><span title=\"0.2983596583562719\" style=\"background-color:rgba(255, 0, 0, 0.2983596583562719);\"> Spain</span><span title=\"0.02346909756125745\" style=\"background-color:rgba(255, 0, 0, 0.02346909756125745);\"> ;</span><span title=\"0.021323695971207306\" style=\"background-color:rgba(255, 0, 0, 0.021323695971207306);\"> it</span><span title=\"0.01540058831261884\" style=\"background-color:rgba(255, 0, 0, 0.01540058831261884);\"> was</span><span title=\"0.02343127108883218\" style=\"background-color:rgba(255, 0, 0, 0.02343127108883218);\"> named</span><span title=\"0.06617359368781404\" style=\"background-color:rgba(255, 0, 0, 0.06617359368781404);\"> after</span><span title=\"0.5909788133262435\" style=\"background-color:rgba(255, 0, 0, 0.5909788133262435);text-decoration: underline\"> Andrew</span><span title=\"0.56310662084346\" style=\"background-color:rgba(255, 0, 0, 0.56310662084346);text-decoration: underline\"> Jackson</span><span title=\"0.15597442801887765\" style=\"background-color:rgba(255, 0, 0, 0.15597442801887765);\"> ,</span><span title=\"0.16025242172675855\" style=\"background-color:rgba(255, 0, 0, 0.16025242172675855);\"> the</span><span title=\"0.2194352242255879\" style=\"background-color:rgba(255, 0, 0, 0.2194352242255879);\"> first</span><span title=\"0.25868276931058454\" style=\"background-color:rgba(255, 0, 0, 0.25868276931058454);\"> military</span><span title=\"0.2703539958497676\" style=\"background-color:rgba(255, 0, 0, 0.2703539958497676);\"> governor</span><span title=\"0.2443315568569912\" style=\"background-color:rgba(255, 0, 0, 0.2443315568569912);\"> of</span><span title=\"0.3335794545034346\" style=\"background-color:rgba(255, 0, 0, 0.3335794545034346);\"> the</span><span title=\"0.47101545825371194\" style=\"background-color:rgba(255, 0, 0, 0.47101545825371194);\"> Florida</span><span title=\"0.44735490474314765\" style=\"background-color:rgba(255, 0, 0, 0.44735490474314765);\"> Territory</span><span title=\"0.28721998612320987\" style=\"background-color:rgba(255, 0, 0, 0.28721998612320987);\"> and</span><span title=\"0.3268869065029791\" style=\"background-color:rgba(255, 0, 0, 0.3268869065029791);\"> seventh</span><span title=\"0.31447391436715144\" style=\"background-color:rgba(255, 0, 0, 0.31447391436715144);\"> President</span><span title=\"0.2634142447539682\" style=\"background-color:rgba(255, 0, 0, 0.2634142447539682);\"> of</span><span title=\"0.31534016754520144\" style=\"background-color:rgba(255, 0, 0, 0.31534016754520144);\"> the</span><span title=\"0.4242104701703644\" style=\"background-color:rgba(255, 0, 0, 0.4242104701703644);\"> United</span><span title=\"0.41115051624557175\" style=\"background-color:rgba(255, 0, 0, 0.41115051624557175);\"> States</span><span title=\"0.04126910922309207\" style=\"background-color:rgba(255, 0, 0, 0.04126910922309207);\"> .</span>"
            ],
            "text/plain": [
              "<IPython.core.display.HTML object>"
            ]
          },
          "metadata": {
            "tags": []
          }
        },
        {
          "output_type": "stream",
          "text": [
            "\n"
          ],
          "name": "stdout"
        },
        {
          "output_type": "display_data",
          "data": {
            "text/html": [
              "<span title=\"0.09762557100705269\" style=\"background-color:rgba(255, 0, 0, 0.09762557100705269);\"> The</span><span title=\"0.1081937794569797\" style=\"background-color:rgba(255, 0, 0, 0.1081937794569797);\"> location</span><span title=\"0.07415958811086917\" style=\"background-color:rgba(255, 0, 0, 0.07415958811086917);\"> of</span><span title=\"0.3583572180810888\" style=\"background-color:rgba(255, 0, 0, 0.3583572180810888);text-decoration: underline\"> Fort</span><span title=\"0.3514815515943379\" style=\"background-color:rgba(255, 0, 0, 0.3514815515943379);text-decoration: underline\"> Caroline</span><span title=\"0.03701454693409028\" style=\"background-color:rgba(255, 0, 0, 0.03701454693409028);\"> is</span><span title=\"0.0901169319685164\" style=\"background-color:rgba(255, 0, 0, 0.0901169319685164);\"> subject</span><span title=\"0.06553476472539978\" style=\"background-color:rgba(255, 0, 0, 0.06553476472539978);\"> to</span><span title=\"0.10103084041941665\" style=\"background-color:rgba(255, 0, 0, 0.10103084041941665);\"> debate</span><span title=\"0.03327636400163566\" style=\"background-color:rgba(255, 0, 0, 0.03327636400163566);\"> but</span><span title=\"0.0848325751314505\" style=\"background-color:rgba(255, 0, 0, 0.0848325751314505);\"> a</span><span title=\"0.10638078194740266\" style=\"background-color:rgba(255, 0, 0, 0.10638078194740266);\"> reconstruction</span><span title=\"0.06996096678745278\" style=\"background-color:rgba(255, 0, 0, 0.06996096678745278);\"> of</span><span title=\"0.07985964240427691\" style=\"background-color:rgba(255, 0, 0, 0.07985964240427691);\"> the</span><span title=\"0.08944758965319666\" style=\"background-color:rgba(255, 0, 0, 0.08944758965319666);\"> fort</span><span title=\"0.02725083052901749\" style=\"background-color:rgba(255, 0, 0, 0.02725083052901749);\"> was</span><span title=\"0.037515055071616545\" style=\"background-color:rgba(255, 0, 0, 0.037515055071616545);\"> established</span><span title=\"0.041425282206948515\" style=\"background-color:rgba(255, 0, 0, 0.041425282206948515);\"> on</span><span title=\"0.1399164485474513\" style=\"background-color:rgba(255, 0, 0, 0.1399164485474513);\"> the</span><span title=\"0.25888567574812665\" style=\"background-color:rgba(255, 0, 0, 0.25888567574812665);\"> St.</span><span title=\"0.26371851322322265\" style=\"background-color:rgba(255, 0, 0, 0.26371851322322265);\"> Johns</span><span title=\"0.2509428950769293\" style=\"background-color:rgba(255, 0, 0, 0.2509428950769293);\"> River</span><span title=\"0.06304802168198846\" style=\"background-color:rgba(255, 0, 0, 0.06304802168198846);\"> in</span><span title=\"0.5727115619654752\" style=\"background-color:rgba(255, 0, 0, 0.5727115619654752);text-decoration: underline\"> 1964</span><span title=\"0.027190677638185085\" style=\"background-color:rgba(255, 0, 0, 0.027190677638185085);\"> .</span>"
            ],
            "text/plain": [
              "<IPython.core.display.HTML object>"
            ]
          },
          "metadata": {
            "tags": []
          }
        },
        {
          "output_type": "stream",
          "text": [
            "\n"
          ],
          "name": "stdout"
        },
        {
          "output_type": "display_data",
          "data": {
            "text/html": [
              "<span title=\"0.12406621727920848\" style=\"background-color:rgba(255, 0, 0, 0.12406621727920848);\"> Britain</span><span title=\"0.020704031429000208\" style=\"background-color:rgba(255, 0, 0, 0.020704031429000208);\"> ceded</span><span title=\"0.06472227699268986\" style=\"background-color:rgba(255, 0, 0, 0.06472227699268986);\"> control</span><span title=\"0.0453337713913717\" style=\"background-color:rgba(255, 0, 0, 0.0453337713913717);\"> of</span><span title=\"0.06344691045681317\" style=\"background-color:rgba(255, 0, 0, 0.06344691045681317);\"> the</span><span title=\"0.08165637325177985\" style=\"background-color:rgba(255, 0, 0, 0.08165637325177985);\"> territory</span><span title=\"0.05055671423126924\" style=\"background-color:rgba(255, 0, 0, 0.05055671423126924);\"> back</span><span title=\"0.061957056755250615\" style=\"background-color:rgba(255, 0, 0, 0.061957056755250615);\"> to</span><span title=\"0.2029831205448341\" style=\"background-color:rgba(255, 0, 0, 0.2029831205448341);text-decoration: underline\"> Spain</span><span title=\"0.027958331773594653\" style=\"background-color:rgba(255, 0, 0, 0.027958331773594653);\"> in</span><span title=\"0.5517870755104373\" style=\"background-color:rgba(255, 0, 0, 0.5517870755104373);\"> 1783</span><span title=\"0.030120115493837894\" style=\"background-color:rgba(255, 0, 0, 0.030120115493837894);\"> ,</span><span title=\"0.032489092005496364\" style=\"background-color:rgba(255, 0, 0, 0.032489092005496364);\"> after</span><span title=\"0.055454207772392905\" style=\"background-color:rgba(255, 0, 0, 0.055454207772392905);\"> its</span><span title=\"0.07621396890456276\" style=\"background-color:rgba(255, 0, 0, 0.07621396890456276);\"> defeat</span><span title=\"0.0456450194985563\" style=\"background-color:rgba(255, 0, 0, 0.0456450194985563);\"> in</span><span title=\"0.14110165449881534\" style=\"background-color:rgba(255, 0, 0, 0.14110165449881534);\"> the</span><span title=\"0.33619747864531413\" style=\"background-color:rgba(255, 0, 0, 0.33619747864531413);\"> American</span><span title=\"0.3460673711110195\" style=\"background-color:rgba(255, 0, 0, 0.3460673711110195);\"> Revolutionary</span><span title=\"0.34256163996159733\" style=\"background-color:rgba(255, 0, 0, 0.34256163996159733);\"> War</span><span title=\"0.04820749085002655\" style=\"background-color:rgba(255, 0, 0, 0.04820749085002655);\"> ,</span><span title=\"0.039432722222832284\" style=\"background-color:rgba(255, 0, 0, 0.039432722222832284);\"> and</span><span title=\"0.06710469631190205\" style=\"background-color:rgba(255, 0, 0, 0.06710469631190205);\"> the</span><span title=\"0.0836817307168274\" style=\"background-color:rgba(255, 0, 0, 0.0836817307168274);\"> settlement</span><span title=\"0.04503144201048496\" style=\"background-color:rgba(255, 0, 0, 0.04503144201048496);\"> at</span><span title=\"0.08094342835213553\" style=\"background-color:rgba(255, 0, 0, 0.08094342835213553);\"> the</span><span title=\"0.1661139382264534\" style=\"background-color:rgba(255, 0, 0, 0.1661139382264534);\"> Cow</span><span title=\"0.1445376729978642\" style=\"background-color:rgba(255, 0, 0, 0.1445376729978642);\"> Ford</span><span title=\"0.043418653641662176\" style=\"background-color:rgba(255, 0, 0, 0.043418653641662176);\"> continued</span><span title=\"0.04754224753229339\" style=\"background-color:rgba(255, 0, 0, 0.04754224753229339);\"> to</span><span title=\"0.06546187659536652\" style=\"background-color:rgba(255, 0, 0, 0.06546187659536652);\"> grow</span><span title=\"0.03673992273769158\" style=\"background-color:rgba(255, 0, 0, 0.03673992273769158);\"> .</span>"
            ],
            "text/plain": [
              "<IPython.core.display.HTML object>"
            ]
          },
          "metadata": {
            "tags": []
          }
        },
        {
          "output_type": "stream",
          "text": [
            "\n"
          ],
          "name": "stdout"
        },
        {
          "output_type": "display_data",
          "data": {
            "text/html": [
              "<span title=\"0.031641201355019855\" style=\"background-color:rgba(255, 0, 0, 0.031641201355019855);\"> They</span><span title=\"0.027451576800608682\" style=\"background-color:rgba(255, 0, 0, 0.027451576800608682);\"> soon</span><span title=\"0.019536063680055844\" style=\"background-color:rgba(255, 0, 0, 0.019536063680055844);\"> named</span><span title=\"0.057246137676944836\" style=\"background-color:rgba(255, 0, 0, 0.057246137676944836);\"> the</span><span title=\"0.09110262931395752\" style=\"background-color:rgba(255, 0, 0, 0.09110262931395752);\"> town</span><span title=\"0.128692972621141\" style=\"background-color:rgba(255, 0, 0, 0.128692972621141);text-decoration: underline\"> Jacksonville</span><span title=\"0.028518793761936487\" style=\"background-color:rgba(255, 0, 0, 0.028518793761936487);\"> ,</span><span title=\"0.06865568131572133\" style=\"background-color:rgba(255, 0, 0, 0.06865568131572133);\"> after</span><span title=\"0.6502782408641371\" style=\"background-color:rgba(255, 0, 0, 0.6502782408641371);\"> Andrew</span><span title=\"0.6320340508170703\" style=\"background-color:rgba(255, 0, 0, 0.6320340508170703);\"> Jackson</span><span title=\"0.06274973967287528\" style=\"background-color:rgba(255, 0, 0, 0.06274973967287528);\"> .</span>"
            ],
            "text/plain": [
              "<IPython.core.display.HTML object>"
            ]
          },
          "metadata": {
            "tags": []
          }
        },
        {
          "output_type": "stream",
          "text": [
            "\n"
          ],
          "name": "stdout"
        },
        {
          "output_type": "display_data",
          "data": {
            "text/html": [
              "<span title=\"0.028848430790141835\" style=\"background-color:rgba(255, 0, 0, 0.028848430790141835);\"> According</span><span title=\"0.027079914881282086\" style=\"background-color:rgba(255, 0, 0, 0.027079914881282086);\"> to</span><span title=\"0.08088747665755167\" style=\"background-color:rgba(255, 0, 0, 0.08088747665755167);\"> the</span><span title=\"0.21840319470182895\" style=\"background-color:rgba(255, 0, 0, 0.21840319470182895);\"> United</span><span title=\"0.22079925590990776\" style=\"background-color:rgba(255, 0, 0, 0.22079925590990776);\"> States</span><span title=\"0.226770611888127\" style=\"background-color:rgba(255, 0, 0, 0.226770611888127);\"> Census</span><span title=\"0.21956172048905243\" style=\"background-color:rgba(255, 0, 0, 0.21956172048905243);\"> Bureau</span><span title=\"0.019084131274288027\" style=\"background-color:rgba(255, 0, 0, 0.019084131274288027);\"> ,</span><span title=\"0.03785091239618242\" style=\"background-color:rgba(255, 0, 0, 0.03785091239618242);\"> the</span><span title=\"0.06735919775305856\" style=\"background-color:rgba(255, 0, 0, 0.06735919775305856);\"> city</span><span title=\"0.032043462761592055\" style=\"background-color:rgba(255, 0, 0, 0.032043462761592055);\"> has</span><span title=\"0.09921383493411354\" style=\"background-color:rgba(255, 0, 0, 0.09921383493411354);\"> a</span><span title=\"0.15689839331141486\" style=\"background-color:rgba(255, 0, 0, 0.15689839331141486);\"> total</span><span title=\"0.1465176598806635\" style=\"background-color:rgba(255, 0, 0, 0.1465176598806635);\"> area</span><span title=\"0.11997529593644447\" style=\"background-color:rgba(255, 0, 0, 0.11997529593644447);\"> of</span><span title=\"0.4740556213310855\" style=\"background-color:rgba(255, 0, 0, 0.4740556213310855);text-decoration: underline\"> 874.3</span><span title=\"0.43073095004169154\" style=\"background-color:rgba(255, 0, 0, 0.43073095004169154);text-decoration: underline\"> square</span><span title=\"0.42127378379731073\" style=\"background-color:rgba(255, 0, 0, 0.42127378379731073);text-decoration: underline\"> miles</span><span title=\"0.07334481084840154\" style=\"background-color:rgba(255, 0, 0, 0.07334481084840154);\"> (</span><span title=\"0.28293117461120754\" style=\"background-color:rgba(255, 0, 0, 0.28293117461120754);\"> 2,264</span><span title=\"0.2537053827870307\" style=\"background-color:rgba(255, 0, 0, 0.2537053827870307);\"> km2</span><span title=\"0.10347632811348884\" style=\"background-color:rgba(255, 0, 0, 0.10347632811348884);\"> )</span><span title=\"0.01764881628492475\" style=\"background-color:rgba(255, 0, 0, 0.01764881628492475);\"> ,</span><span title=\"0.0332502664464186\" style=\"background-color:rgba(255, 0, 0, 0.0332502664464186);\"> making</span><span title=\"0.161015135520493\" style=\"background-color:rgba(255, 0, 0, 0.161015135520493);text-decoration: underline\"> Jacksonville</span><span title=\"0.08944352265538834\" style=\"background-color:rgba(255, 0, 0, 0.08944352265538834);\"> the</span><span title=\"0.0940872321380834\" style=\"background-color:rgba(255, 0, 0, 0.0940872321380834);\"> largest</span><span title=\"0.0888173506767487\" style=\"background-color:rgba(255, 0, 0, 0.0888173506767487);\"> city</span><span title=\"0.06273763722281805\" style=\"background-color:rgba(255, 0, 0, 0.06273763722281805);\"> in</span><span title=\"0.10468649833056738\" style=\"background-color:rgba(255, 0, 0, 0.10468649833056738);\"> land</span><span title=\"0.10082063530324852\" style=\"background-color:rgba(255, 0, 0, 0.10082063530324852);\"> area</span><span title=\"0.056660123963393386\" style=\"background-color:rgba(255, 0, 0, 0.056660123963393386);\"> in</span><span title=\"0.08327745680342011\" style=\"background-color:rgba(255, 0, 0, 0.08327745680342011);\"> the</span><span title=\"0.13540038296438273\" style=\"background-color:rgba(255, 0, 0, 0.13540038296438273);\"> contiguous</span><span title=\"0.19134671860749478\" style=\"background-color:rgba(255, 0, 0, 0.19134671860749478);\"> United</span><span title=\"0.19942810949730264\" style=\"background-color:rgba(255, 0, 0, 0.19942810949730264);\"> States</span><span title=\"0.01883799767555757\" style=\"background-color:rgba(255, 0, 0, 0.01883799767555757);\"> ;</span><span title=\"0.01617730005544252\" style=\"background-color:rgba(255, 0, 0, 0.01617730005544252);\"> of</span><span title=\"0.03212317090882977\" style=\"background-color:rgba(255, 0, 0, 0.03212317090882977);\"> this</span><span title=\"0.01235657905116803\" style=\"background-color:rgba(255, 0, 0, 0.01235657905116803);\"> ,</span><span title=\"0.6423732212751798\" style=\"background-color:rgba(255, 0, 0, 0.6423732212751798);\"> 86.66</span><span title=\"0.5589272041815255\" style=\"background-color:rgba(255, 0, 0, 0.5589272041815255);\"> %</span><span title=\"0.13081673661796858\" style=\"background-color:rgba(255, 0, 0, 0.13081673661796858);\"> (</span><span title=\"0.2733444925343423\" style=\"background-color:rgba(255, 0, 0, 0.2733444925343423);\"> 757.7</span><span title=\"0.2519923870162515\" style=\"background-color:rgba(255, 0, 0, 0.2519923870162515);\"> sq</span><span title=\"0.2554258746768228\" style=\"background-color:rgba(255, 0, 0, 0.2554258746768228);\"> mi</span><span title=\"0.17982113545226497\" style=\"background-color:rgba(255, 0, 0, 0.17982113545226497);\"> or</span><span title=\"0.3803796608871894\" style=\"background-color:rgba(255, 0, 0, 0.3803796608871894);\"> 1,962</span><span title=\"0.31327748229113767\" style=\"background-color:rgba(255, 0, 0, 0.31327748229113767);\"> km2</span><span title=\"0.06945896942063945\" style=\"background-color:rgba(255, 0, 0, 0.06945896942063945);\"> )</span><span title=\"0.030780277161089893\" style=\"background-color:rgba(255, 0, 0, 0.030780277161089893);\"> is</span><span title=\"0.08546635489597225\" style=\"background-color:rgba(255, 0, 0, 0.08546635489597225);\"> land</span><span title=\"0.042789537750710545\" style=\"background-color:rgba(255, 0, 0, 0.042789537750710545);\"> and</span><span title=\"0.03640223603522917\" style=\"background-color:rgba(255, 0, 0, 0.03640223603522917);\"> ;</span><span title=\"0.5983803417001838\" style=\"background-color:rgba(255, 0, 0, 0.5983803417001838);text-decoration: underline\"> 13.34</span><span title=\"0.4864766946250672\" style=\"background-color:rgba(255, 0, 0, 0.4864766946250672);text-decoration: underline\"> %</span><span title=\"0.10820530033039566\" style=\"background-color:rgba(255, 0, 0, 0.10820530033039566);\"> (</span><span title=\"0.26220049859534034\" style=\"background-color:rgba(255, 0, 0, 0.26220049859534034);\"> 116.7</span><span title=\"0.22628828669710804\" style=\"background-color:rgba(255, 0, 0, 0.22628828669710804);\"> sq</span><span title=\"0.23173753357891202\" style=\"background-color:rgba(255, 0, 0, 0.23173753357891202);\"> mi</span><span title=\"0.16745303713801107\" style=\"background-color:rgba(255, 0, 0, 0.16745303713801107);\"> or</span><span title=\"0.35358114223660475\" style=\"background-color:rgba(255, 0, 0, 0.35358114223660475);\"> 302</span><span title=\"0.31837467102484185\" style=\"background-color:rgba(255, 0, 0, 0.31837467102484185);\"> km2</span><span title=\"0.0896748723730026\" style=\"background-color:rgba(255, 0, 0, 0.0896748723730026);\"> )</span><span title=\"0.061414912799360205\" style=\"background-color:rgba(255, 0, 0, 0.061414912799360205);\"> is</span><span title=\"0.12812951726481056\" style=\"background-color:rgba(255, 0, 0, 0.12812951726481056);text-decoration: underline\"> water</span><span title=\"0.03590404852956378\" style=\"background-color:rgba(255, 0, 0, 0.03590404852956378);\"> .</span>"
            ],
            "text/plain": [
              "<IPython.core.display.HTML object>"
            ]
          },
          "metadata": {
            "tags": []
          }
        },
        {
          "output_type": "stream",
          "text": [
            "\n"
          ],
          "name": "stdout"
        },
        {
          "output_type": "display_data",
          "data": {
            "text/html": [
              "<span title=\"0.04589438748237535\" style=\"background-color:rgba(255, 0, 0, 0.04589438748237535);\"> Similarly</span><span title=\"0.015984270987574663\" style=\"background-color:rgba(255, 0, 0, 0.015984270987574663);\"> ,</span><span title=\"0.20267760386948486\" style=\"background-color:rgba(255, 0, 0, 0.20267760386948486);\"> four</span><span title=\"0.1281770358653091\" style=\"background-color:rgba(255, 0, 0, 0.1281770358653091);\"> years</span><span title=\"0.08437552936931932\" style=\"background-color:rgba(255, 0, 0, 0.08437552936931932);\"> prior</span><span title=\"0.049001746343757605\" style=\"background-color:rgba(255, 0, 0, 0.049001746343757605);\"> to</span><span title=\"0.056541564702112496\" style=\"background-color:rgba(255, 0, 0, 0.056541564702112496);\"> this</span><span title=\"0.012042055355239032\" style=\"background-color:rgba(255, 0, 0, 0.012042055355239032);\"> ,</span><span title=\"0.12945100628654843\" style=\"background-color:rgba(255, 0, 0, 0.12945100628654843);\"> Jacksonville</span><span title=\"0.016351068675499753\" style=\"background-color:rgba(255, 0, 0, 0.016351068675499753);\"> was</span><span title=\"0.021270402298971647\" style=\"background-color:rgba(255, 0, 0, 0.021270402298971647);\"> inundated</span><span title=\"0.03792304109377738\" style=\"background-color:rgba(255, 0, 0, 0.03792304109377738);\"> by</span><span title=\"0.7409343167380842\" style=\"background-color:rgba(255, 0, 0, 0.7409343167380842);\"> Hurricane</span><span title=\"0.6985093576020657\" style=\"background-color:rgba(255, 0, 0, 0.6985093576020657);\"> Frances</span><span title=\"0.4421666518201668\" style=\"background-color:rgba(255, 0, 0, 0.4421666518201668);\"> and</span><span title=\"0.5644288641473335\" style=\"background-color:rgba(255, 0, 0, 0.5644288641473335);\"> Hurricane</span><span title=\"0.5408869189196566\" style=\"background-color:rgba(255, 0, 0, 0.5408869189196566);\"> Jeanne</span><span title=\"0.11622920244822695\" style=\"background-color:rgba(255, 0, 0, 0.11622920244822695);\"> ,</span><span title=\"0.06996131872936999\" style=\"background-color:rgba(255, 0, 0, 0.06996131872936999);\"> which</span><span title=\"0.06390157707653059\" style=\"background-color:rgba(255, 0, 0, 0.06390157707653059);\"> made</span><span title=\"0.08972547500815481\" style=\"background-color:rgba(255, 0, 0, 0.08972547500815481);\"> landfall</span><span title=\"0.08385889508885802\" style=\"background-color:rgba(255, 0, 0, 0.08385889508885802);\"> south</span><span title=\"0.08890211464173091\" style=\"background-color:rgba(255, 0, 0, 0.08890211464173091);\"> of</span><span title=\"0.11657343719436984\" style=\"background-color:rgba(255, 0, 0, 0.11657343719436984);\"> the</span><span title=\"0.1454919248602714\" style=\"background-color:rgba(255, 0, 0, 0.1454919248602714);\"> area</span><span title=\"0.028440274011127427\" style=\"background-color:rgba(255, 0, 0, 0.028440274011127427);\"> .</span>"
            ],
            "text/plain": [
              "<IPython.core.display.HTML object>"
            ]
          },
          "metadata": {
            "tags": []
          }
        },
        {
          "output_type": "stream",
          "text": [
            "\n"
          ],
          "name": "stdout"
        },
        {
          "output_type": "display_data",
          "data": {
            "text/html": [
              "<span title=\"0.029967164547267597\" style=\"background-color:rgba(255, 0, 0, 0.029967164547267597);\"> On</span><span title=\"0.24963017028087353\" style=\"background-color:rgba(255, 0, 0, 0.24963017028087353);\"> May</span><span title=\"0.2731384256852441\" style=\"background-color:rgba(255, 0, 0, 0.2731384256852441);\"> 28</span><span title=\"0.1382131828543033\" style=\"background-color:rgba(255, 0, 0, 0.1382131828543033);\"> ,</span><span title=\"0.24641727782549686\" style=\"background-color:rgba(255, 0, 0, 0.24641727782549686);\"> 2012</span><span title=\"0.013979449419802392\" style=\"background-color:rgba(255, 0, 0, 0.013979449419802392);\"> ,</span><span title=\"0.1480831154278812\" style=\"background-color:rgba(255, 0, 0, 0.1480831154278812);\"> Jacksonville</span><span title=\"0.017956870832097637\" style=\"background-color:rgba(255, 0, 0, 0.017956870832097637);\"> was</span><span title=\"0.02347235548669493\" style=\"background-color:rgba(255, 0, 0, 0.02347235548669493);\"> hit</span><span title=\"0.04760175435297534\" style=\"background-color:rgba(255, 0, 0, 0.04760175435297534);\"> by</span><span title=\"0.6455803555621834\" style=\"background-color:rgba(255, 0, 0, 0.6455803555621834);text-decoration: underline\"> Tropical</span><span title=\"0.6291767548703524\" style=\"background-color:rgba(255, 0, 0, 0.6291767548703524);text-decoration: underline\"> Storm</span><span title=\"0.596700806640127\" style=\"background-color:rgba(255, 0, 0, 0.596700806640127);text-decoration: underline\"> Beryl</span><span title=\"0.06795802649516841\" style=\"background-color:rgba(255, 0, 0, 0.06795802649516841);\"> ,</span><span title=\"0.06523757627754528\" style=\"background-color:rgba(255, 0, 0, 0.06523757627754528);\"> packing</span><span title=\"0.09253697807497896\" style=\"background-color:rgba(255, 0, 0, 0.09253697807497896);\"> winds</span><span title=\"0.05535941460478528\" style=\"background-color:rgba(255, 0, 0, 0.05535941460478528);\"> up</span><span title=\"0.05659718233637148\" style=\"background-color:rgba(255, 0, 0, 0.05659718233637148);\"> to</span><span title=\"0.4865324503210264\" style=\"background-color:rgba(255, 0, 0, 0.4865324503210264);\"> 70</span><span title=\"0.40185106926029973\" style=\"background-color:rgba(255, 0, 0, 0.40185106926029973);\"> miles</span><span title=\"0.3039210473243268\" style=\"background-color:rgba(255, 0, 0, 0.3039210473243268);\"> per</span><span title=\"0.319390749264568\" style=\"background-color:rgba(255, 0, 0, 0.319390749264568);\"> hour</span><span title=\"0.07055064326714647\" style=\"background-color:rgba(255, 0, 0, 0.07055064326714647);\"> (</span><span title=\"0.2396657289185612\" style=\"background-color:rgba(255, 0, 0, 0.2396657289185612);\"> 113</span><span title=\"0.17013176411319178\" style=\"background-color:rgba(255, 0, 0, 0.17013176411319178);\"> km</span><span title=\"0.14133359356566566\" style=\"background-color:rgba(255, 0, 0, 0.14133359356566566);\"> /</span><span title=\"0.13932579362401176\" style=\"background-color:rgba(255, 0, 0, 0.13932579362401176);\"> h</span><span title=\"0.04821765770270751\" style=\"background-color:rgba(255, 0, 0, 0.04821765770270751);\"> )</span><span title=\"0.019272360731913903\" style=\"background-color:rgba(255, 0, 0, 0.019272360731913903);\"> which</span><span title=\"0.022902484261008903\" style=\"background-color:rgba(255, 0, 0, 0.022902484261008903);\"> made</span><span title=\"0.05389063851517013\" style=\"background-color:rgba(255, 0, 0, 0.05389063851517013);\"> landfall</span><span title=\"0.048936355374261484\" style=\"background-color:rgba(255, 0, 0, 0.048936355374261484);\"> near</span><span title=\"0.22782552316811155\" style=\"background-color:rgba(255, 0, 0, 0.22782552316811155);\"> Jacksonville</span><span title=\"0.23252618660077445\" style=\"background-color:rgba(255, 0, 0, 0.23252618660077445);\"> Beach</span><span title=\"0.025012529207115202\" style=\"background-color:rgba(255, 0, 0, 0.025012529207115202);\"> .</span>"
            ],
            "text/plain": [
              "<IPython.core.display.HTML object>"
            ]
          },
          "metadata": {
            "tags": []
          }
        },
        {
          "output_type": "stream",
          "text": [
            "\n"
          ],
          "name": "stdout"
        },
        {
          "output_type": "display_data",
          "data": {
            "text/html": [
              "<span title=\"0.09150523831859217\" style=\"background-color:rgba(255, 0, 0, 0.09150523831859217);\"> The</span><span title=\"0.13020613111676027\" style=\"background-color:rgba(255, 0, 0, 0.13020613111676027);\"> median</span><span title=\"0.12274241887368009\" style=\"background-color:rgba(255, 0, 0, 0.12274241887368009);\"> age</span><span title=\"0.035601912207255934\" style=\"background-color:rgba(255, 0, 0, 0.035601912207255934);\"> was</span><span title=\"0.6704352410264446\" style=\"background-color:rgba(255, 0, 0, 0.6704352410264446);\"> 35.5</span><span title=\"0.5848612946821169\" style=\"background-color:rgba(255, 0, 0, 0.5848612946821169);\"> years</span><span title=\"0.0688339544159583\" style=\"background-color:rgba(255, 0, 0, 0.0688339544159583);\"> .</span>"
            ],
            "text/plain": [
              "<IPython.core.display.HTML object>"
            ]
          },
          "metadata": {
            "tags": []
          }
        },
        {
          "output_type": "stream",
          "text": [
            "\n"
          ],
          "name": "stdout"
        },
        {
          "output_type": "display_data",
          "data": {
            "text/html": [
              "<span title=\"0.5673450144188782\" style=\"background-color:rgba(255, 0, 0, 0.5673450144188782);text-decoration: underline\"> Thomas</span><span title=\"0.5452820773157508\" style=\"background-color:rgba(255, 0, 0, 0.5452820773157508);text-decoration: underline\"> Sowell</span><span title=\"0.07021204701294488\" style=\"background-color:rgba(255, 0, 0, 0.07021204701294488);\"> ,</span><span title=\"0.04611314808828346\" style=\"background-color:rgba(255, 0, 0, 0.04611314808828346);\"> in</span><span title=\"0.07862120793964786\" style=\"background-color:rgba(255, 0, 0, 0.07862120793964786);\"> his</span><span title=\"0.12960708985561037\" style=\"background-color:rgba(255, 0, 0, 0.12960708985561037);\"> book</span><span title=\"0.28239968935593657\" style=\"background-color:rgba(255, 0, 0, 0.28239968935593657);\"> Knowledge</span><span title=\"0.25735530942218127\" style=\"background-color:rgba(255, 0, 0, 0.25735530942218127);\"> and</span><span title=\"0.2881239639562138\" style=\"background-color:rgba(255, 0, 0, 0.2881239639562138);\"> Decisions</span><span title=\"0.03737768360690307\" style=\"background-color:rgba(255, 0, 0, 0.03737768360690307);\"> ,</span><span title=\"0.02542374090838411\" style=\"background-color:rgba(255, 0, 0, 0.02542374090838411);\"> claims</span><span title=\"0.026451731918304036\" style=\"background-color:rgba(255, 0, 0, 0.026451731918304036);\"> that</span><span title=\"0.06505692709540563\" style=\"background-color:rgba(255, 0, 0, 0.06505692709540563);\"> this</span><span title=\"0.07856502286049105\" style=\"background-color:rgba(255, 0, 0, 0.07856502286049105);\"> difference</span><span title=\"0.04061086360898082\" style=\"background-color:rgba(255, 0, 0, 0.04061086360898082);\"> is</span><span title=\"0.06979284529949101\" style=\"background-color:rgba(255, 0, 0, 0.06979284529949101);\"> due</span><span title=\"0.05849738122154602\" style=\"background-color:rgba(255, 0, 0, 0.05849738122154602);\"> to</span><span title=\"0.12319012932187748\" style=\"background-color:rgba(255, 0, 0, 0.12319012932187748);text-decoration: underline\"> women</span><span title=\"0.10188595419912094\" style=\"background-color:rgba(255, 0, 0, 0.10188595419912094);text-decoration: underline\"> not</span><span title=\"0.11447561039795942\" style=\"background-color:rgba(255, 0, 0, 0.11447561039795942);text-decoration: underline\"> taking</span><span title=\"0.14258450153705643\" style=\"background-color:rgba(255, 0, 0, 0.14258450153705643);text-decoration: underline\"> jobs</span><span title=\"0.10991657087263326\" style=\"background-color:rgba(255, 0, 0, 0.10991657087263326);text-decoration: underline\"> due</span><span title=\"0.12853217385199178\" style=\"background-color:rgba(255, 0, 0, 0.12853217385199178);text-decoration: underline\"> to</span><span title=\"0.18573361456914667\" style=\"background-color:rgba(255, 0, 0, 0.18573361456914667);text-decoration: underline\"> marriage</span><span title=\"0.14668433681878168\" style=\"background-color:rgba(255, 0, 0, 0.14668433681878168);text-decoration: underline\"> or</span><span title=\"0.15983431126695846\" style=\"background-color:rgba(255, 0, 0, 0.15983431126695846);text-decoration: underline\"> pregnancy</span><span title=\"0.027409551204271864\" style=\"background-color:rgba(255, 0, 0, 0.027409551204271864);\"> ,</span><span title=\"0.02035229688640695\" style=\"background-color:rgba(255, 0, 0, 0.02035229688640695);\"> but</span><span title=\"0.09426977148328933\" style=\"background-color:rgba(255, 0, 0, 0.09426977148328933);\"> income</span><span title=\"0.07740765779041608\" style=\"background-color:rgba(255, 0, 0, 0.07740765779041608);\"> studies</span><span title=\"0.02758872969331146\" style=\"background-color:rgba(255, 0, 0, 0.02758872969331146);\"> show</span><span title=\"0.030046139326739905\" style=\"background-color:rgba(255, 0, 0, 0.030046139326739905);\"> that</span><span title=\"0.05197142489356742\" style=\"background-color:rgba(255, 0, 0, 0.05197142489356742);\"> that</span><span title=\"0.05344839361797802\" style=\"background-color:rgba(255, 0, 0, 0.05344839361797802);\"> does</span><span title=\"0.07551886374494073\" style=\"background-color:rgba(255, 0, 0, 0.07551886374494073);\"> not</span><span title=\"0.0959448909598779\" style=\"background-color:rgba(255, 0, 0, 0.0959448909598779);\"> explain</span><span title=\"0.12632193608985282\" style=\"background-color:rgba(255, 0, 0, 0.12632193608985282);\"> the</span><span title=\"0.17236186764506578\" style=\"background-color:rgba(255, 0, 0, 0.17236186764506578);\"> entire</span><span title=\"0.16621610871725526\" style=\"background-color:rgba(255, 0, 0, 0.16621610871725526);\"> difference</span><span title=\"0.03883861292490739\" style=\"background-color:rgba(255, 0, 0, 0.03883861292490739);\"> .</span>"
            ],
            "text/plain": [
              "<IPython.core.display.HTML object>"
            ]
          },
          "metadata": {
            "tags": []
          }
        },
        {
          "output_type": "stream",
          "text": [
            "\n"
          ],
          "name": "stdout"
        },
        {
          "output_type": "display_data",
          "data": {
            "text/html": [
              "<span title=\"0.019359944693603644\" style=\"background-color:rgba(255, 0, 0, 0.019359944693603644);\"> With</span><span title=\"0.1092314823367887\" style=\"background-color:rgba(255, 0, 0, 0.1092314823367887);\"> Harper</span><span title=\"0.06551588310058415\" style=\"background-color:rgba(255, 0, 0, 0.06551588310058415);\"> 's</span><span title=\"0.08531177433426351\" style=\"background-color:rgba(255, 0, 0, 0.08531177433426351);\"> vision</span><span title=\"0.04904282461797004\" style=\"background-color:rgba(255, 0, 0, 0.04904282461797004);\"> in</span><span title=\"0.11034652564242754\" style=\"background-color:rgba(255, 0, 0, 0.11034652564242754);\"> mind</span><span title=\"0.012850153357341637\" style=\"background-color:rgba(255, 0, 0, 0.012850153357341637);\"> ,</span><span title=\"0.09430904831400189\" style=\"background-color:rgba(255, 0, 0, 0.09430904831400189);\"> the</span><span title=\"0.190506223421111\" style=\"background-color:rgba(255, 0, 0, 0.190506223421111);\"> University</span><span title=\"0.1331457964788863\" style=\"background-color:rgba(255, 0, 0, 0.1331457964788863);\"> of</span><span title=\"0.16696080887645545\" style=\"background-color:rgba(255, 0, 0, 0.16696080887645545);\"> Chicago</span><span title=\"0.016083085798906698\" style=\"background-color:rgba(255, 0, 0, 0.016083085798906698);\"> also</span><span title=\"0.008594263227654043\" style=\"background-color:rgba(255, 0, 0, 0.008594263227654043);\"> became</span><span title=\"0.08992719830624452\" style=\"background-color:rgba(255, 0, 0, 0.08992719830624452);\"> one</span><span title=\"0.029112602444176926\" style=\"background-color:rgba(255, 0, 0, 0.029112602444176926);\"> of</span><span title=\"0.049415641565007766\" style=\"background-color:rgba(255, 0, 0, 0.049415641565007766);\"> the</span><span title=\"0.3124672544184142\" style=\"background-color:rgba(255, 0, 0, 0.3124672544184142);\"> 14</span><span title=\"0.07916023147186546\" style=\"background-color:rgba(255, 0, 0, 0.07916023147186546);\"> founding</span><span title=\"0.09532235415093632\" style=\"background-color:rgba(255, 0, 0, 0.09532235415093632);\"> members</span><span title=\"0.05571978209668192\" style=\"background-color:rgba(255, 0, 0, 0.05571978209668192);\"> of</span><span title=\"0.14018719530401855\" style=\"background-color:rgba(255, 0, 0, 0.14018719530401855);\"> the</span><span title=\"0.20305185681926322\" style=\"background-color:rgba(255, 0, 0, 0.20305185681926322);\"> Association</span><span title=\"0.14914522832958702\" style=\"background-color:rgba(255, 0, 0, 0.14914522832958702);\"> of</span><span title=\"0.2125876016070888\" style=\"background-color:rgba(255, 0, 0, 0.2125876016070888);\"> American</span><span title=\"0.20436070474276996\" style=\"background-color:rgba(255, 0, 0, 0.20436070474276996);\"> Universities</span><span title=\"0.03960601640613452\" style=\"background-color:rgba(255, 0, 0, 0.03960601640613452);\"> ,</span><span title=\"0.05028574618475588\" style=\"background-color:rgba(255, 0, 0, 0.05028574618475588);\"> an</span><span title=\"0.09657434548277483\" style=\"background-color:rgba(255, 0, 0, 0.09657434548277483);\"> international</span><span title=\"0.09598422455199793\" style=\"background-color:rgba(255, 0, 0, 0.09598422455199793);\"> organization</span><span title=\"0.07295808220351753\" style=\"background-color:rgba(255, 0, 0, 0.07295808220351753);\"> of</span><span title=\"0.11764297991242326\" style=\"background-color:rgba(255, 0, 0, 0.11764297991242326);\"> leading</span><span title=\"0.1357171769002336\" style=\"background-color:rgba(255, 0, 0, 0.1357171769002336);\"> research</span><span title=\"0.13977353115515384\" style=\"background-color:rgba(255, 0, 0, 0.13977353115515384);\"> universities</span><span title=\"0.040022227747586535\" style=\"background-color:rgba(255, 0, 0, 0.040022227747586535);\"> ,</span><span title=\"0.03191744549542267\" style=\"background-color:rgba(255, 0, 0, 0.03191744549542267);\"> in</span><span title=\"0.573355322394353\" style=\"background-color:rgba(255, 0, 0, 0.573355322394353);text-decoration: underline\"> 1900</span><span title=\"0.022254825117965775\" style=\"background-color:rgba(255, 0, 0, 0.022254825117965775);\"> .</span>"
            ],
            "text/plain": [
              "<IPython.core.display.HTML object>"
            ]
          },
          "metadata": {
            "tags": []
          }
        },
        {
          "output_type": "stream",
          "text": [
            "\n"
          ],
          "name": "stdout"
        },
        {
          "output_type": "display_data",
          "data": {
            "text/html": [
              "<span title=\"0.13724021954085042\" style=\"background-color:rgba(255, 0, 0, 0.13724021954085042);\"> The</span><span title=\"0.20848040994865696\" style=\"background-color:rgba(255, 0, 0, 0.20848040994865696);\"> University</span><span title=\"0.16926127360467771\" style=\"background-color:rgba(255, 0, 0, 0.16926127360467771);\"> of</span><span title=\"0.20686574739381644\" style=\"background-color:rgba(255, 0, 0, 0.20686574739381644);\"> Chicago</span><span title=\"0.02539509741983662\" style=\"background-color:rgba(255, 0, 0, 0.02539509741983662);\"> was</span><span title=\"0.04221636853203838\" style=\"background-color:rgba(255, 0, 0, 0.04221636853203838);\"> created</span><span title=\"0.039979914176073245\" style=\"background-color:rgba(255, 0, 0, 0.039979914176073245);\"> and</span><span title=\"0.0467443959590858\" style=\"background-color:rgba(255, 0, 0, 0.0467443959590858);\"> incorporated</span><span title=\"0.0469756602648052\" style=\"background-color:rgba(255, 0, 0, 0.0469756602648052);\"> as</span><span title=\"0.10338060625915796\" style=\"background-color:rgba(255, 0, 0, 0.10338060625915796);\"> a</span><span title=\"0.1406382800651707\" style=\"background-color:rgba(255, 0, 0, 0.1406382800651707);\"> coeducational</span><span title=\"0.08965158222285628\" style=\"background-color:rgba(255, 0, 0, 0.08965158222285628);\"> ,</span><span title=\"0.11713238465119806\" style=\"background-color:rgba(255, 0, 0, 0.11713238465119806);\"> secular</span><span title=\"0.1080979323147894\" style=\"background-color:rgba(255, 0, 0, 0.1080979323147894);\"> institution</span><span title=\"0.027144475898751966\" style=\"background-color:rgba(255, 0, 0, 0.027144475898751966);\"> in</span><span title=\"0.36195694877721385\" style=\"background-color:rgba(255, 0, 0, 0.36195694877721385);text-decoration: underline\"> 1890</span><span title=\"0.051187800124950424\" style=\"background-color:rgba(255, 0, 0, 0.051187800124950424);\"> by</span><span title=\"0.17881061626395175\" style=\"background-color:rgba(255, 0, 0, 0.17881061626395175);\"> the</span><span title=\"0.31205303155467734\" style=\"background-color:rgba(255, 0, 0, 0.31205303155467734);\"> American</span><span title=\"0.30841033327909934\" style=\"background-color:rgba(255, 0, 0, 0.30841033327909934);\"> Baptist</span><span title=\"0.30633760570737983\" style=\"background-color:rgba(255, 0, 0, 0.30633760570737983);\"> Education</span><span title=\"0.28229255838851236\" style=\"background-color:rgba(255, 0, 0, 0.28229255838851236);\"> Society</span><span title=\"0.10986574674441389\" style=\"background-color:rgba(255, 0, 0, 0.10986574674441389);\"> and</span><span title=\"0.11080202671995588\" style=\"background-color:rgba(255, 0, 0, 0.11080202671995588);\"> a</span><span title=\"0.11220305524043289\" style=\"background-color:rgba(255, 0, 0, 0.11220305524043289);\"> donation</span><span title=\"0.059434109008299416\" style=\"background-color:rgba(255, 0, 0, 0.059434109008299416);\"> from</span><span title=\"0.11168927460917374\" style=\"background-color:rgba(255, 0, 0, 0.11168927460917374);\"> oil</span><span title=\"0.10266911028064572\" style=\"background-color:rgba(255, 0, 0, 0.10266911028064572);\"> magnate</span><span title=\"0.06649350263535915\" style=\"background-color:rgba(255, 0, 0, 0.06649350263535915);\"> and</span><span title=\"0.08295028583727712\" style=\"background-color:rgba(255, 0, 0, 0.08295028583727712);\"> philanthropist</span><span title=\"0.17509289795045704\" style=\"background-color:rgba(255, 0, 0, 0.17509289795045704);\"> John</span><span title=\"0.16316666634754873\" style=\"background-color:rgba(255, 0, 0, 0.16316666634754873);\"> D.</span><span title=\"0.14608824338025822\" style=\"background-color:rgba(255, 0, 0, 0.14608824338025822);\"> Rockefeller</span><span title=\"0.033627614038947755\" style=\"background-color:rgba(255, 0, 0, 0.033627614038947755);\"> on</span><span title=\"0.0665098300016505\" style=\"background-color:rgba(255, 0, 0, 0.0665098300016505);\"> land</span><span title=\"0.033709815871973976\" style=\"background-color:rgba(255, 0, 0, 0.033709815871973976);\"> donated</span><span title=\"0.05522785994586255\" style=\"background-color:rgba(255, 0, 0, 0.05522785994586255);\"> by</span><span title=\"0.622410850566124\" style=\"background-color:rgba(255, 0, 0, 0.622410850566124);text-decoration: underline\"> Marshall</span><span title=\"0.5873842567794324\" style=\"background-color:rgba(255, 0, 0, 0.5873842567794324);text-decoration: underline\"> Field</span><span title=\"0.062476974958292325\" style=\"background-color:rgba(255, 0, 0, 0.062476974958292325);\"> .</span>"
            ],
            "text/plain": [
              "<IPython.core.display.HTML object>"
            ]
          },
          "metadata": {
            "tags": []
          }
        },
        {
          "output_type": "stream",
          "text": [
            "\n"
          ],
          "name": "stdout"
        },
        {
          "output_type": "display_data",
          "data": {
            "text/html": [
              "<span title=\"0.07013482889175131\" style=\"background-color:rgba(255, 0, 0, 0.07013482889175131);\"> The</span><span title=\"0.09664302184766578\" style=\"background-color:rgba(255, 0, 0, 0.09664302184766578);\"> original</span><span title=\"0.1026514824035336\" style=\"background-color:rgba(255, 0, 0, 0.1026514824035336);\"> physical</span><span title=\"0.09431999580665074\" style=\"background-color:rgba(255, 0, 0, 0.09431999580665074);\"> campus</span><span title=\"0.024234753319350176\" style=\"background-color:rgba(255, 0, 0, 0.024234753319350176);\"> was</span><span title=\"0.03363456481598951\" style=\"background-color:rgba(255, 0, 0, 0.03363456481598951);\"> financed</span><span title=\"0.05268205629573176\" style=\"background-color:rgba(255, 0, 0, 0.05268205629573176);\"> by</span><span title=\"0.14547997869093662\" style=\"background-color:rgba(255, 0, 0, 0.14547997869093662);text-decoration: underline\"> donations</span><span title=\"0.06970663716686688\" style=\"background-color:rgba(255, 0, 0, 0.06970663716686688);text-decoration: underline\"> from</span><span title=\"0.13339515363086857\" style=\"background-color:rgba(255, 0, 0, 0.13339515363086857);text-decoration: underline\"> wealthy</span><span title=\"0.14786442497017924\" style=\"background-color:rgba(255, 0, 0, 0.14786442497017924);text-decoration: underline\"> Chicagoans</span><span title=\"0.05448046952997991\" style=\"background-color:rgba(255, 0, 0, 0.05448046952997991);\"> like</span><span title=\"0.6447208027198842\" style=\"background-color:rgba(255, 0, 0, 0.6447208027198842);text-decoration: underline\"> Silas</span><span title=\"0.6132846426801419\" style=\"background-color:rgba(255, 0, 0, 0.6132846426801419);text-decoration: underline\"> B.</span><span title=\"0.5657435684092613\" style=\"background-color:rgba(255, 0, 0, 0.5657435684092613);text-decoration: underline\"> Cobb</span><span title=\"0.16285105160351573\" style=\"background-color:rgba(255, 0, 0, 0.16285105160351573);\"> who</span><span title=\"0.13071982014989308\" style=\"background-color:rgba(255, 0, 0, 0.13071982014989308);\"> provided</span><span title=\"0.14236247110686734\" style=\"background-color:rgba(255, 0, 0, 0.14236247110686734);\"> the</span><span title=\"0.15171916442853972\" style=\"background-color:rgba(255, 0, 0, 0.15171916442853972);\"> funds</span><span title=\"0.08984093553732884\" style=\"background-color:rgba(255, 0, 0, 0.08984093553732884);\"> for</span><span title=\"0.10410199362443717\" style=\"background-color:rgba(255, 0, 0, 0.10410199362443717);\"> the</span><span title=\"0.12246485450536812\" style=\"background-color:rgba(255, 0, 0, 0.12246485450536812);\"> campus</span><span title=\"0.10829369253751985\" style=\"background-color:rgba(255, 0, 0, 0.10829369253751985);\"> '</span><span title=\"0.12608528250760437\" style=\"background-color:rgba(255, 0, 0, 0.12608528250760437);\"> first</span><span title=\"0.13545346094652297\" style=\"background-color:rgba(255, 0, 0, 0.13545346094652297);\"> building</span><span title=\"0.06670496004164751\" style=\"background-color:rgba(255, 0, 0, 0.06670496004164751);\"> ,</span><span title=\"0.27720651810467084\" style=\"background-color:rgba(255, 0, 0, 0.27720651810467084);text-decoration: underline\"> Cobb</span><span title=\"0.30256571651244674\" style=\"background-color:rgba(255, 0, 0, 0.30256571651244674);text-decoration: underline\"> Lecture</span><span title=\"0.30074356017935705\" style=\"background-color:rgba(255, 0, 0, 0.30074356017935705);text-decoration: underline\"> Hall</span><span title=\"0.08178773601382701\" style=\"background-color:rgba(255, 0, 0, 0.08178773601382701);\"> ,</span><span title=\"0.06506793074052857\" style=\"background-color:rgba(255, 0, 0, 0.06506793074052857);\"> and</span><span title=\"0.07187184074268066\" style=\"background-color:rgba(255, 0, 0, 0.07187184074268066);\"> matched</span><span title=\"0.3459285140218678\" style=\"background-color:rgba(255, 0, 0, 0.3459285140218678);\"> Marshall</span><span title=\"0.3296010925841523\" style=\"background-color:rgba(255, 0, 0, 0.3296010925841523);\"> Field</span><span title=\"0.2798637192665273\" style=\"background-color:rgba(255, 0, 0, 0.2798637192665273);\"> 's</span><span title=\"0.24461768050621768\" style=\"background-color:rgba(255, 0, 0, 0.24461768050621768);\"> pledge</span><span title=\"0.20629319431788012\" style=\"background-color:rgba(255, 0, 0, 0.20629319431788012);\"> of</span><span title=\"0.3552168697820478\" style=\"background-color:rgba(255, 0, 0, 0.3552168697820478);text-decoration: underline\"> $</span><span title=\"0.4778576622165181\" style=\"background-color:rgba(255, 0, 0, 0.4778576622165181);text-decoration: underline\"> 100,000</span><span title=\"0.02755273485598466\" style=\"background-color:rgba(255, 0, 0, 0.02755273485598466);\"> .</span>"
            ],
            "text/plain": [
              "<IPython.core.display.HTML object>"
            ]
          },
          "metadata": {
            "tags": []
          }
        },
        {
          "output_type": "stream",
          "text": [
            "\n"
          ],
          "name": "stdout"
        },
        {
          "output_type": "display_data",
          "data": {
            "text/html": [
              "<span title=\"0.6039245310920279\" style=\"background-color:rgba(255, 0, 0, 0.6039245310920279);\"> Adolphus</span><span title=\"0.6066366820612524\" style=\"background-color:rgba(255, 0, 0, 0.6066366820612524);\"> Clay</span><span title=\"0.5693291026369985\" style=\"background-color:rgba(255, 0, 0, 0.5693291026369985);\"> Bartlett</span><span title=\"0.4245664667763584\" style=\"background-color:rgba(255, 0, 0, 0.4245664667763584);\"> and</span><span title=\"0.6027922812125308\" style=\"background-color:rgba(255, 0, 0, 0.6027922812125308);\"> Leon</span><span title=\"0.5821008967062542\" style=\"background-color:rgba(255, 0, 0, 0.5821008967062542);\"> Mandel</span><span title=\"0.08265827788138365\" style=\"background-color:rgba(255, 0, 0, 0.08265827788138365);\"> ,</span><span title=\"0.06086995809315994\" style=\"background-color:rgba(255, 0, 0, 0.06086995809315994);\"> who</span><span title=\"0.06377761521594302\" style=\"background-color:rgba(255, 0, 0, 0.06377761521594302);\"> funded</span><span title=\"0.13063879820644017\" style=\"background-color:rgba(255, 0, 0, 0.13063879820644017);\"> the</span><span title=\"0.19454259274314384\" style=\"background-color:rgba(255, 0, 0, 0.19454259274314384);\"> construction</span><span title=\"0.1686906210289577\" style=\"background-color:rgba(255, 0, 0, 0.1686906210289577);\"> of</span><span title=\"0.220118146066526\" style=\"background-color:rgba(255, 0, 0, 0.220118146066526);\"> the</span><span title=\"0.28283904088732337\" style=\"background-color:rgba(255, 0, 0, 0.28283904088732337);\"> gymnasium</span><span title=\"0.22934239295376008\" style=\"background-color:rgba(255, 0, 0, 0.22934239295376008);\"> and</span><span title=\"0.27100328751460806\" style=\"background-color:rgba(255, 0, 0, 0.27100328751460806);\"> assembly</span><span title=\"0.2642696500771896\" style=\"background-color:rgba(255, 0, 0, 0.2642696500771896);\"> hall</span><span title=\"0.0833219873246964\" style=\"background-color:rgba(255, 0, 0, 0.0833219873246964);\"> ,</span><span title=\"0.07310749343259991\" style=\"background-color:rgba(255, 0, 0, 0.07310749343259991);\"> and</span><span title=\"0.37130040393937885\" style=\"background-color:rgba(255, 0, 0, 0.37130040393937885);\"> George</span><span title=\"0.3470839751326973\" style=\"background-color:rgba(255, 0, 0, 0.3470839751326973);\"> C.</span><span title=\"0.31309299713097727\" style=\"background-color:rgba(255, 0, 0, 0.31309299713097727);\"> Walker</span><span title=\"0.16707326821942364\" style=\"background-color:rgba(255, 0, 0, 0.16707326821942364);\"> of</span><span title=\"0.22173129523456853\" style=\"background-color:rgba(255, 0, 0, 0.22173129523456853);\"> the</span><span title=\"0.3630342197708924\" style=\"background-color:rgba(255, 0, 0, 0.3630342197708924);\"> Walker</span><span title=\"0.342648495770039\" style=\"background-color:rgba(255, 0, 0, 0.342648495770039);\"> Museum</span><span title=\"0.05911088292794363\" style=\"background-color:rgba(255, 0, 0, 0.05911088292794363);\"> ,</span><span title=\"0.11570032540574013\" style=\"background-color:rgba(255, 0, 0, 0.11570032540574013);\"> a</span><span title=\"0.17222799702262825\" style=\"background-color:rgba(255, 0, 0, 0.17222799702262825);\"> relative</span><span title=\"0.1214063222373824\" style=\"background-color:rgba(255, 0, 0, 0.1214063222373824);\"> of</span><span title=\"0.21314106163790247\" style=\"background-color:rgba(255, 0, 0, 0.21314106163790247);\"> Cobb</span><span title=\"0.047758807104811965\" style=\"background-color:rgba(255, 0, 0, 0.047758807104811965);\"> who</span><span title=\"0.04666921392529189\" style=\"background-color:rgba(255, 0, 0, 0.04666921392529189);\"> encouraged</span><span title=\"0.07239181719411011\" style=\"background-color:rgba(255, 0, 0, 0.07239181719411011);\"> his</span><span title=\"0.11879071836226329\" style=\"background-color:rgba(255, 0, 0, 0.11879071836226329);\"> inaugural</span><span title=\"0.1206983269635927\" style=\"background-color:rgba(255, 0, 0, 0.1206983269635927);\"> donation</span><span title=\"0.0921890417734806\" style=\"background-color:rgba(255, 0, 0, 0.0921890417734806);\"> for</span><span title=\"0.1303709096076816\" style=\"background-color:rgba(255, 0, 0, 0.1303709096076816);\"> facilities</span><span title=\"0.023153312673864376\" style=\"background-color:rgba(255, 0, 0, 0.023153312673864376);\"> .</span>"
            ],
            "text/plain": [
              "<IPython.core.display.HTML object>"
            ]
          },
          "metadata": {
            "tags": []
          }
        },
        {
          "output_type": "stream",
          "text": [
            "\n"
          ],
          "name": "stdout"
        },
        {
          "output_type": "display_data",
          "data": {
            "text/html": [
              "<span title=\"0.07400286162444711\" style=\"background-color:rgba(255, 0, 0, 0.07400286162444711);\"> The</span><span title=\"0.08265424822730598\" style=\"background-color:rgba(255, 0, 0, 0.08265424822730598);\"> program</span><span title=\"0.026254328715205787\" style=\"background-color:rgba(255, 0, 0, 0.026254328715205787);text-decoration: underline\"> passed</span><span title=\"0.02849680832488788\" style=\"background-color:rgba(255, 0, 0, 0.02849680832488788);\"> into</span><span title=\"0.07175316115495997\" style=\"background-color:rgba(255, 0, 0, 0.07175316115495997);\"> history</span><span title=\"0.030407545246625235\" style=\"background-color:rgba(255, 0, 0, 0.030407545246625235);\"> by</span><span title=\"0.5816941836334737\" style=\"background-color:rgba(255, 0, 0, 0.5816941836334737);text-decoration: underline\"> 1910</span><span title=\"0.024158773379440755\" style=\"background-color:rgba(255, 0, 0, 0.024158773379440755);\"> .</span>"
            ],
            "text/plain": [
              "<IPython.core.display.HTML object>"
            ]
          },
          "metadata": {
            "tags": []
          }
        },
        {
          "output_type": "stream",
          "text": [
            "\n"
          ],
          "name": "stdout"
        },
        {
          "output_type": "display_data",
          "data": {
            "text/html": [
              "<span title=\"0.07109914684592715\" style=\"background-color:rgba(255, 0, 0, 0.07109914684592715);\"> The</span><span title=\"0.0845195853567213\" style=\"background-color:rgba(255, 0, 0, 0.0845195853567213);\"> university</span><span title=\"0.027723745746270588\" style=\"background-color:rgba(255, 0, 0, 0.027723745746270588);\"> experienced</span><span title=\"0.05324650022151842\" style=\"background-color:rgba(255, 0, 0, 0.05324650022151842);\"> its</span><span title=\"0.08025208423356328\" style=\"background-color:rgba(255, 0, 0, 0.08025208423356328);\"> share</span><span title=\"0.0610892370330563\" style=\"background-color:rgba(255, 0, 0, 0.0610892370330563);\"> of</span><span title=\"0.1148782305519803\" style=\"background-color:rgba(255, 0, 0, 0.1148782305519803);\"> student</span><span title=\"0.11136865838153409\" style=\"background-color:rgba(255, 0, 0, 0.11136865838153409);\"> unrest</span><span title=\"0.05721679317260274\" style=\"background-color:rgba(255, 0, 0, 0.05721679317260274);\"> during</span><span title=\"0.18851443550438363\" style=\"background-color:rgba(255, 0, 0, 0.18851443550438363);\"> the</span><span title=\"0.387776496349195\" style=\"background-color:rgba(255, 0, 0, 0.387776496349195);text-decoration: underline\"> 1960s</span><span title=\"0.02182491668890953\" style=\"background-color:rgba(255, 0, 0, 0.02182491668890953);\"> ,</span><span title=\"0.02589568584183579\" style=\"background-color:rgba(255, 0, 0, 0.02589568584183579);\"> beginning</span><span title=\"0.031084166096689056\" style=\"background-color:rgba(255, 0, 0, 0.031084166096689056);\"> in</span><span title=\"0.5726718883701454\" style=\"background-color:rgba(255, 0, 0, 0.5726718883701454);text-decoration: underline\"> 1962</span><span title=\"0.03983111380570552\" style=\"background-color:rgba(255, 0, 0, 0.03983111380570552);\"> ,</span><span title=\"0.03944460747363593\" style=\"background-color:rgba(255, 0, 0, 0.03944460747363593);\"> when</span><span title=\"0.0558342488681\" style=\"background-color:rgba(255, 0, 0, 0.0558342488681);\"> students</span><span title=\"0.03926032914140784\" style=\"background-color:rgba(255, 0, 0, 0.03926032914140784);\"> occupied</span><span title=\"0.21450572157150147\" style=\"background-color:rgba(255, 0, 0, 0.21450572157150147);text-decoration: underline\"> President</span><span title=\"0.2407668116789258\" style=\"background-color:rgba(255, 0, 0, 0.2407668116789258);text-decoration: underline\"> George</span><span title=\"0.23169176413643564\" style=\"background-color:rgba(255, 0, 0, 0.23169176413643564);text-decoration: underline\"> Beadle</span><span title=\"0.14624238784372207\" style=\"background-color:rgba(255, 0, 0, 0.14624238784372207);\"> 's</span><span title=\"0.13581351441431247\" style=\"background-color:rgba(255, 0, 0, 0.13581351441431247);\"> office</span><span title=\"0.07404236447067818\" style=\"background-color:rgba(255, 0, 0, 0.07404236447067818);\"> in</span><span title=\"0.09994272660734252\" style=\"background-color:rgba(255, 0, 0, 0.09994272660734252);\"> a</span><span title=\"0.11182514512854524\" style=\"background-color:rgba(255, 0, 0, 0.11182514512854524);\"> protest</span><span title=\"0.08370347305055419\" style=\"background-color:rgba(255, 0, 0, 0.08370347305055419);\"> over</span><span title=\"0.10151815120447547\" style=\"background-color:rgba(255, 0, 0, 0.10151815120447547);text-decoration: underline\"> the</span><span title=\"0.12144371493074747\" style=\"background-color:rgba(255, 0, 0, 0.12144371493074747);text-decoration: underline\"> university</span><span title=\"0.1113192254791947\" style=\"background-color:rgba(255, 0, 0, 0.1113192254791947);text-decoration: underline\"> 's</span><span title=\"0.12198422397157549\" style=\"background-color:rgba(255, 0, 0, 0.12198422397157549);text-decoration: underline\"> off</span><span title=\"0.14274603067013783\" style=\"background-color:rgba(255, 0, 0, 0.14274603067013783);text-decoration: underline\"> -</span><span title=\"0.16122355381331788\" style=\"background-color:rgba(255, 0, 0, 0.16122355381331788);text-decoration: underline\"> campus</span><span title=\"0.17735260989637092\" style=\"background-color:rgba(255, 0, 0, 0.17735260989637092);text-decoration: underline\"> rental</span><span title=\"0.1911302620495001\" style=\"background-color:rgba(255, 0, 0, 0.1911302620495001);text-decoration: underline\"> policies</span><span title=\"0.03402598350909054\" style=\"background-color:rgba(255, 0, 0, 0.03402598350909054);text-decoration: underline\"> .</span>"
            ],
            "text/plain": [
              "<IPython.core.display.HTML object>"
            ]
          },
          "metadata": {
            "tags": []
          }
        },
        {
          "output_type": "stream",
          "text": [
            "\n"
          ],
          "name": "stdout"
        },
        {
          "output_type": "display_data",
          "data": {
            "text/html": [
              "<span title=\"0.01481625491303116\" style=\"background-color:rgba(255, 0, 0, 0.01481625491303116);\"> As</span><span title=\"0.021311229712072593\" style=\"background-color:rgba(255, 0, 0, 0.021311229712072593);\"> of</span><span title=\"0.22508685347298896\" style=\"background-color:rgba(255, 0, 0, 0.22508685347298896);\"> August</span><span title=\"0.15682536800570546\" style=\"background-color:rgba(255, 0, 0, 0.15682536800570546);\"> 2009[update</span><span title=\"0.03211718039074299\" style=\"background-color:rgba(255, 0, 0, 0.03211718039074299);\"> ]</span><span title=\"0.0172420487669833\" style=\"background-color:rgba(255, 0, 0, 0.0172420487669833);\"> ,</span><span title=\"0.1281173000551986\" style=\"background-color:rgba(255, 0, 0, 0.1281173000551986);\"> the</span><span title=\"0.25847016639098774\" style=\"background-color:rgba(255, 0, 0, 0.25847016639098774);\"> Chairman</span><span title=\"0.1937827724642598\" style=\"background-color:rgba(255, 0, 0, 0.1937827724642598);\"> of</span><span title=\"0.23641314995787205\" style=\"background-color:rgba(255, 0, 0, 0.23641314995787205);\"> the</span><span title=\"0.3289312103960255\" style=\"background-color:rgba(255, 0, 0, 0.3289312103960255);\"> Board</span><span title=\"0.25615925929918776\" style=\"background-color:rgba(255, 0, 0, 0.25615925929918776);\"> of</span><span title=\"0.3434226044359525\" style=\"background-color:rgba(255, 0, 0, 0.3434226044359525);\"> Trustees</span><span title=\"0.04867433182766098\" style=\"background-color:rgba(255, 0, 0, 0.04867433182766098);\"> is</span><span title=\"0.6112657680147418\" style=\"background-color:rgba(255, 0, 0, 0.6112657680147418);text-decoration: underline\"> Andrew</span><span title=\"0.5834503095651915\" style=\"background-color:rgba(255, 0, 0, 0.5834503095651915);text-decoration: underline\"> Alper</span><span title=\"0.08031898836489196\" style=\"background-color:rgba(255, 0, 0, 0.08031898836489196);\"> ,</span><span title=\"0.06258140661460536\" style=\"background-color:rgba(255, 0, 0, 0.06258140661460536);\"> and</span><span title=\"0.10761700465283403\" style=\"background-color:rgba(255, 0, 0, 0.10761700465283403);\"> the</span><span title=\"0.16901424666277784\" style=\"background-color:rgba(255, 0, 0, 0.16901424666277784);\"> President</span><span title=\"0.10794640240517461\" style=\"background-color:rgba(255, 0, 0, 0.10794640240517461);\"> of</span><span title=\"0.11590052764191006\" style=\"background-color:rgba(255, 0, 0, 0.11590052764191006);\"> the</span><span title=\"0.12699182763308486\" style=\"background-color:rgba(255, 0, 0, 0.12699182763308486);\"> university</span><span title=\"0.05211737390242026\" style=\"background-color:rgba(255, 0, 0, 0.05211737390242026);\"> is</span><span title=\"0.5785848411390259\" style=\"background-color:rgba(255, 0, 0, 0.5785848411390259);text-decoration: underline\"> Robert</span><span title=\"0.5546925415619152\" style=\"background-color:rgba(255, 0, 0, 0.5546925415619152);text-decoration: underline\"> Zimmer</span><span title=\"0.06633529813014155\" style=\"background-color:rgba(255, 0, 0, 0.06633529813014155);\"> .</span>"
            ],
            "text/plain": [
              "<IPython.core.display.HTML object>"
            ]
          },
          "metadata": {
            "tags": []
          }
        },
        {
          "output_type": "stream",
          "text": [
            "\n"
          ],
          "name": "stdout"
        },
        {
          "output_type": "display_data",
          "data": {
            "text/html": [
              "<span title=\"0.15094737015189633\" style=\"background-color:rgba(255, 0, 0, 0.15094737015189633);text-decoration: underline\"> Isaacs</span><span title=\"0.01795269266067579\" style=\"background-color:rgba(255, 0, 0, 0.01795269266067579);\"> was</span><span title=\"0.026610489833440255\" style=\"background-color:rgba(255, 0, 0, 0.026610489833440255);\"> replaced</span><span title=\"0.03828347630709738\" style=\"background-color:rgba(255, 0, 0, 0.03828347630709738);\"> as</span><span title=\"0.1848854101556406\" style=\"background-color:rgba(255, 0, 0, 0.1848854101556406);\"> Provost</span><span title=\"0.029502246958468103\" style=\"background-color:rgba(255, 0, 0, 0.029502246958468103);\"> in</span><span title=\"0.2588413215182492\" style=\"background-color:rgba(255, 0, 0, 0.2588413215182492);\"> March</span><span title=\"0.21049306256923128\" style=\"background-color:rgba(255, 0, 0, 0.21049306256923128);\"> 2016</span><span title=\"0.053106337247568115\" style=\"background-color:rgba(255, 0, 0, 0.053106337247568115);\"> by</span><span title=\"0.6585813215619749\" style=\"background-color:rgba(255, 0, 0, 0.6585813215619749);text-decoration: underline\"> Daniel</span><span title=\"0.6264460123513812\" style=\"background-color:rgba(255, 0, 0, 0.6264460123513812);text-decoration: underline\"> Diermeier</span><span title=\"0.06991702751679087\" style=\"background-color:rgba(255, 0, 0, 0.06991702751679087);\"> .</span>"
            ],
            "text/plain": [
              "<IPython.core.display.HTML object>"
            ]
          },
          "metadata": {
            "tags": []
          }
        },
        {
          "output_type": "stream",
          "text": [
            "\n"
          ],
          "name": "stdout"
        },
        {
          "output_type": "display_data",
          "data": {
            "text/html": [
              "<span title=\"0.16157595502587582\" style=\"background-color:rgba(255, 0, 0, 0.16157595502587582);text-decoration: underline\"> REM</span><span title=\"0.1278383420694234\" style=\"background-color:rgba(255, 0, 0, 0.1278383420694234);\"> sleep</span><span title=\"0.03337856763846671\" style=\"background-color:rgba(255, 0, 0, 0.03337856763846671);\"> was</span><span title=\"0.036411382733658196\" style=\"background-color:rgba(255, 0, 0, 0.036411382733658196);\"> discovered</span><span title=\"0.040274627506143815\" style=\"background-color:rgba(255, 0, 0, 0.040274627506143815);\"> at</span><span title=\"0.06537422660670389\" style=\"background-color:rgba(255, 0, 0, 0.06537422660670389);\"> the</span><span title=\"0.08914124932753119\" style=\"background-color:rgba(255, 0, 0, 0.08914124932753119);\"> university</span><span title=\"0.02401467368208076\" style=\"background-color:rgba(255, 0, 0, 0.02401467368208076);\"> in</span><span title=\"0.3843228495932126\" style=\"background-color:rgba(255, 0, 0, 0.3843228495932126);text-decoration: underline\"> 1953</span><span title=\"0.05131703606977366\" style=\"background-color:rgba(255, 0, 0, 0.05131703606977366);\"> by</span><span title=\"0.6477217561760162\" style=\"background-color:rgba(255, 0, 0, 0.6477217561760162);\"> Nathaniel</span><span title=\"0.604960992599609\" style=\"background-color:rgba(255, 0, 0, 0.604960992599609);\"> Kleitman</span><span title=\"0.4057920250898103\" style=\"background-color:rgba(255, 0, 0, 0.4057920250898103);\"> and</span><span title=\"0.5881846969517692\" style=\"background-color:rgba(255, 0, 0, 0.5881846969517692);\"> Eugene</span><span title=\"0.5733103544615618\" style=\"background-color:rgba(255, 0, 0, 0.5733103544615618);\"> Aserinsky</span><span title=\"0.08621178783612853\" style=\"background-color:rgba(255, 0, 0, 0.08621178783612853);\"> .</span>"
            ],
            "text/plain": [
              "<IPython.core.display.HTML object>"
            ]
          },
          "metadata": {
            "tags": []
          }
        },
        {
          "output_type": "stream",
          "text": [
            "\n"
          ],
          "name": "stdout"
        },
        {
          "output_type": "display_data",
          "data": {
            "text/html": [
              "<span title=\"0.13402300236540138\" style=\"background-color:rgba(255, 0, 0, 0.13402300236540138);\"> The</span><span title=\"0.23021321868364863\" style=\"background-color:rgba(255, 0, 0, 0.23021321868364863);\"> Logan</span><span title=\"0.19960328794011709\" style=\"background-color:rgba(255, 0, 0, 0.19960328794011709);\"> Center</span><span title=\"0.023131674508480214\" style=\"background-color:rgba(255, 0, 0, 0.023131674508480214);\"> was</span><span title=\"0.02689925346548319\" style=\"background-color:rgba(255, 0, 0, 0.02689925346548319);\"> designed</span><span title=\"0.05744294187108415\" style=\"background-color:rgba(255, 0, 0, 0.05744294187108415);\"> by</span><span title=\"0.6493711319728432\" style=\"background-color:rgba(255, 0, 0, 0.6493711319728432);\"> Tod</span><span title=\"0.610700278359598\" style=\"background-color:rgba(255, 0, 0, 0.610700278359598);\"> Williams</span><span title=\"0.4108688945006201\" style=\"background-color:rgba(255, 0, 0, 0.4108688945006201);\"> and</span><span title=\"0.5998715177918597\" style=\"background-color:rgba(255, 0, 0, 0.5998715177918597);\"> Billie</span><span title=\"0.5821130444491139\" style=\"background-color:rgba(255, 0, 0, 0.5821130444491139);\"> Tsien</span><span title=\"0.08764150470275983\" style=\"background-color:rgba(255, 0, 0, 0.08764150470275983);\"> .</span>"
            ],
            "text/plain": [
              "<IPython.core.display.HTML object>"
            ]
          },
          "metadata": {
            "tags": []
          }
        },
        {
          "output_type": "stream",
          "text": [
            "\n"
          ],
          "name": "stdout"
        },
        {
          "output_type": "display_data",
          "data": {
            "text/html": [
              "<span title=\"0.06399152206421457\" style=\"background-color:rgba(255, 0, 0, 0.06399152206421457);\"> The</span><span title=\"0.1156992556569018\" style=\"background-color:rgba(255, 0, 0, 0.1156992556569018);\"> middle</span><span title=\"0.2318157863561533\" style=\"background-color:rgba(255, 0, 0, 0.2318157863561533);\"> 50</span><span title=\"0.18361340912968155\" style=\"background-color:rgba(255, 0, 0, 0.18361340912968155);\"> %</span><span title=\"0.12406824793143671\" style=\"background-color:rgba(255, 0, 0, 0.12406824793143671);\"> band</span><span title=\"0.08570471052994341\" style=\"background-color:rgba(255, 0, 0, 0.08570471052994341);\"> of</span><span title=\"0.18689028247485234\" style=\"background-color:rgba(255, 0, 0, 0.18689028247485234);\"> SAT</span><span title=\"0.13564604472203856\" style=\"background-color:rgba(255, 0, 0, 0.13564604472203856);\"> scores</span><span title=\"0.07149249562377641\" style=\"background-color:rgba(255, 0, 0, 0.07149249562377641);\"> for</span><span title=\"0.0940349203815852\" style=\"background-color:rgba(255, 0, 0, 0.0940349203815852);\"> the</span><span title=\"0.14412344176113256\" style=\"background-color:rgba(255, 0, 0, 0.14412344176113256);\"> undergraduate</span><span title=\"0.138043273184592\" style=\"background-color:rgba(255, 0, 0, 0.138043273184592);\"> class</span><span title=\"0.09821231444405802\" style=\"background-color:rgba(255, 0, 0, 0.09821231444405802);\"> of</span><span title=\"0.3419936098367162\" style=\"background-color:rgba(255, 0, 0, 0.3419936098367162);\"> 2015</span><span title=\"0.0474330629795886\" style=\"background-color:rgba(255, 0, 0, 0.0474330629795886);\"> ,</span><span title=\"0.0744565694446504\" style=\"background-color:rgba(255, 0, 0, 0.0744565694446504);\"> excluding</span><span title=\"0.08938857134593231\" style=\"background-color:rgba(255, 0, 0, 0.08938857134593231);\"> the</span><span title=\"0.15702911020615895\" style=\"background-color:rgba(255, 0, 0, 0.15702911020615895);\"> writing</span><span title=\"0.15985613472000446\" style=\"background-color:rgba(255, 0, 0, 0.15985613472000446);\"> section</span><span title=\"0.03283467388127645\" style=\"background-color:rgba(255, 0, 0, 0.03283467388127645);\"> ,</span><span title=\"0.021253024068014374\" style=\"background-color:rgba(255, 0, 0, 0.021253024068014374);\"> was</span><span title=\"0.5943668671534305\" style=\"background-color:rgba(255, 0, 0, 0.5943668671534305);\"> 1420–1530</span><span title=\"0.02268687181346067\" style=\"background-color:rgba(255, 0, 0, 0.02268687181346067);\"> ,</span><span title=\"0.03512328160750239\" style=\"background-color:rgba(255, 0, 0, 0.03512328160750239);\"> the</span><span title=\"0.07244767693832245\" style=\"background-color:rgba(255, 0, 0, 0.07244767693832245);\"> average</span><span title=\"0.10064292806137015\" style=\"background-color:rgba(255, 0, 0, 0.10064292806137015);\"> MCAT</span><span title=\"0.07828956508249107\" style=\"background-color:rgba(255, 0, 0, 0.07828956508249107);\"> score</span><span title=\"0.047447995429621914\" style=\"background-color:rgba(255, 0, 0, 0.047447995429621914);\"> for</span><span title=\"0.0777652978618044\" style=\"background-color:rgba(255, 0, 0, 0.0777652978618044);\"> entering</span><span title=\"0.08920203422177042\" style=\"background-color:rgba(255, 0, 0, 0.08920203422177042);\"> students</span><span title=\"0.03880888256761886\" style=\"background-color:rgba(255, 0, 0, 0.03880888256761886);\"> in</span><span title=\"0.09117327430352792\" style=\"background-color:rgba(255, 0, 0, 0.09117327430352792);\"> the</span><span title=\"0.20263300505559\" style=\"background-color:rgba(255, 0, 0, 0.20263300505559);\"> Pritzker</span><span title=\"0.18853585919342003\" style=\"background-color:rgba(255, 0, 0, 0.18853585919342003);\"> School</span><span title=\"0.14468938885541632\" style=\"background-color:rgba(255, 0, 0, 0.14468938885541632);\"> of</span><span title=\"0.186925272289398\" style=\"background-color:rgba(255, 0, 0, 0.186925272289398);\"> Medicine</span><span title=\"0.03408823610182354\" style=\"background-color:rgba(255, 0, 0, 0.03408823610182354);\"> in</span><span title=\"0.15104812358983105\" style=\"background-color:rgba(255, 0, 0, 0.15104812358983105);\"> 2011</span><span title=\"0.019064617127245036\" style=\"background-color:rgba(255, 0, 0, 0.019064617127245036);\"> was</span><span title=\"0.4403404586196685\" style=\"background-color:rgba(255, 0, 0, 0.4403404586196685);\"> 36</span><span title=\"0.027313939738199365\" style=\"background-color:rgba(255, 0, 0, 0.027313939738199365);\"> ,</span><span title=\"0.019958275799488848\" style=\"background-color:rgba(255, 0, 0, 0.019958275799488848);\"> and</span><span title=\"0.038918547419921706\" style=\"background-color:rgba(255, 0, 0, 0.038918547419921706);\"> the</span><span title=\"0.07509690192446075\" style=\"background-color:rgba(255, 0, 0, 0.07509690192446075);\"> median</span><span title=\"0.0907157417291753\" style=\"background-color:rgba(255, 0, 0, 0.0907157417291753);\"> LSAT</span><span title=\"0.06852489931988147\" style=\"background-color:rgba(255, 0, 0, 0.06852489931988147);\"> score</span><span title=\"0.035831844011605475\" style=\"background-color:rgba(255, 0, 0, 0.035831844011605475);\"> for</span><span title=\"0.05303641470692569\" style=\"background-color:rgba(255, 0, 0, 0.05303641470692569);\"> entering</span><span title=\"0.06484413845878753\" style=\"background-color:rgba(255, 0, 0, 0.06484413845878753);\"> students</span><span title=\"0.027408748697764506\" style=\"background-color:rgba(255, 0, 0, 0.027408748697764506);\"> in</span><span title=\"0.07667745074859077\" style=\"background-color:rgba(255, 0, 0, 0.07667745074859077);\"> the</span><span title=\"0.15696007539064727\" style=\"background-color:rgba(255, 0, 0, 0.15696007539064727);\"> Law</span><span title=\"0.14238347991518344\" style=\"background-color:rgba(255, 0, 0, 0.14238347991518344);\"> School</span><span title=\"0.026769079632460606\" style=\"background-color:rgba(255, 0, 0, 0.026769079632460606);\"> in</span><span title=\"0.13622867259064458\" style=\"background-color:rgba(255, 0, 0, 0.13622867259064458);\"> 2011</span><span title=\"0.021600515478214864\" style=\"background-color:rgba(255, 0, 0, 0.021600515478214864);\"> was</span><span title=\"0.5614196647073502\" style=\"background-color:rgba(255, 0, 0, 0.5614196647073502);\"> 171</span><span title=\"0.030440511157610678\" style=\"background-color:rgba(255, 0, 0, 0.030440511157610678);\"> .</span>"
            ],
            "text/plain": [
              "<IPython.core.display.HTML object>"
            ]
          },
          "metadata": {
            "tags": []
          }
        },
        {
          "output_type": "stream",
          "text": [
            "\n"
          ],
          "name": "stdout"
        },
        {
          "output_type": "display_data",
          "data": {
            "text/html": [
              "<span title=\"0.09885657117083002\" style=\"background-color:rgba(255, 0, 0, 0.09885657117083002);\"> Its</span><span title=\"0.1463761471110398\" style=\"background-color:rgba(255, 0, 0, 0.1463761471110398);\"> annual</span><span title=\"0.1525771753900037\" style=\"background-color:rgba(255, 0, 0, 0.1525771753900037);\"> budget</span><span title=\"0.06117301362641773\" style=\"background-color:rgba(255, 0, 0, 0.06117301362641773);\"> is</span><span title=\"0.17634642297886063\" style=\"background-color:rgba(255, 0, 0, 0.17634642297886063);text-decoration: underline\"> greater</span><span title=\"0.15666963500394127\" style=\"background-color:rgba(255, 0, 0, 0.15666963500394127);text-decoration: underline\"> than</span><span title=\"0.618467289783156\" style=\"background-color:rgba(255, 0, 0, 0.618467289783156);text-decoration: underline\"> $</span><span title=\"0.7923639856906124\" style=\"background-color:rgba(255, 0, 0, 0.7923639856906124);text-decoration: underline\"> 2</span><span title=\"0.7746608218422807\" style=\"background-color:rgba(255, 0, 0, 0.7746608218422807);text-decoration: underline\"> million</span><span title=\"0.041280454455150814\" style=\"background-color:rgba(255, 0, 0, 0.041280454455150814);\"> .</span>"
            ],
            "text/plain": [
              "<IPython.core.display.HTML object>"
            ]
          },
          "metadata": {
            "tags": []
          }
        },
        {
          "output_type": "stream",
          "text": [
            "\n"
          ],
          "name": "stdout"
        },
        {
          "output_type": "display_data",
          "data": {
            "text/html": [
              "<span title=\"0.02547023165656056\" style=\"background-color:rgba(255, 0, 0, 0.02547023165656056);\"> It</span><span title=\"0.007758982875662238\" style=\"background-color:rgba(255, 0, 0, 0.007758982875662238);\"> was</span><span title=\"0.04399300944320614\" style=\"background-color:rgba(255, 0, 0, 0.04399300944320614);\"> the</span><span title=\"0.08597860732072385\" style=\"background-color:rgba(255, 0, 0, 0.08597860732072385);\"> first</span><span title=\"0.08499078680296672\" style=\"background-color:rgba(255, 0, 0, 0.08499078680296672);\"> foreign</span><span title=\"0.08012488435311407\" style=\"background-color:rgba(255, 0, 0, 0.08012488435311407);\"> dynasty</span><span title=\"0.053229556373639034\" style=\"background-color:rgba(255, 0, 0, 0.053229556373639034);\"> to</span><span title=\"0.06786218242773326\" style=\"background-color:rgba(255, 0, 0, 0.06786218242773326);\"> rule</span><span title=\"0.0822231757583905\" style=\"background-color:rgba(255, 0, 0, 0.0822231757583905);\"> all</span><span title=\"0.0741916433052466\" style=\"background-color:rgba(255, 0, 0, 0.0741916433052466);\"> of</span><span title=\"0.19607441431318007\" style=\"background-color:rgba(255, 0, 0, 0.19607441431318007);\"> China</span><span title=\"0.04109574002971274\" style=\"background-color:rgba(255, 0, 0, 0.04109574002971274);\"> and</span><span title=\"0.03700840753119906\" style=\"background-color:rgba(255, 0, 0, 0.03700840753119906);\"> lasted</span><span title=\"0.04401214041984852\" style=\"background-color:rgba(255, 0, 0, 0.04401214041984852);\"> until</span><span title=\"0.6639476643127274\" style=\"background-color:rgba(255, 0, 0, 0.6639476643127274);\"> 1368</span><span title=\"0.05264060217087361\" style=\"background-color:rgba(255, 0, 0, 0.05264060217087361);\"> ,</span><span title=\"0.03804594165974023\" style=\"background-color:rgba(255, 0, 0, 0.03804594165974023);\"> after</span><span title=\"0.036200364314990886\" style=\"background-color:rgba(255, 0, 0, 0.036200364314990886);\"> which</span><span title=\"0.055674194305838046\" style=\"background-color:rgba(255, 0, 0, 0.055674194305838046);\"> its</span><span title=\"0.17222308445872947\" style=\"background-color:rgba(255, 0, 0, 0.17222308445872947);\"> Genghisid</span><span title=\"0.13781188285244017\" style=\"background-color:rgba(255, 0, 0, 0.13781188285244017);\"> rulers</span><span title=\"0.09202972935471315\" style=\"background-color:rgba(255, 0, 0, 0.09202972935471315);\"> returned</span><span title=\"0.08970138585887985\" style=\"background-color:rgba(255, 0, 0, 0.08970138585887985);\"> to</span><span title=\"0.1071581063397878\" style=\"background-color:rgba(255, 0, 0, 0.1071581063397878);\"> their</span><span title=\"0.17694617332720605\" style=\"background-color:rgba(255, 0, 0, 0.17694617332720605);\"> Mongolian</span><span title=\"0.1534952142059567\" style=\"background-color:rgba(255, 0, 0, 0.1534952142059567);\"> homeland</span><span title=\"0.1027763194738495\" style=\"background-color:rgba(255, 0, 0, 0.1027763194738495);\"> and</span><span title=\"0.09182799939148031\" style=\"background-color:rgba(255, 0, 0, 0.09182799939148031);\"> continued</span><span title=\"0.09095173634731182\" style=\"background-color:rgba(255, 0, 0, 0.09095173634731182);\"> to</span><span title=\"0.10847727312389793\" style=\"background-color:rgba(255, 0, 0, 0.10847727312389793);\"> rule</span><span title=\"0.19010976198681753\" style=\"background-color:rgba(255, 0, 0, 0.19010976198681753);\"> the</span><span title=\"0.38896004482267876\" style=\"background-color:rgba(255, 0, 0, 0.38896004482267876);\"> Northern</span><span title=\"0.3846853422253868\" style=\"background-color:rgba(255, 0, 0, 0.3846853422253868);\"> Yuan</span><span title=\"0.3617304816917174\" style=\"background-color:rgba(255, 0, 0, 0.3617304816917174);\"> dynasty</span><span title=\"0.04680357550313211\" style=\"background-color:rgba(255, 0, 0, 0.04680357550313211);\"> .</span>"
            ],
            "text/plain": [
              "<IPython.core.display.HTML object>"
            ]
          },
          "metadata": {
            "tags": []
          }
        },
        {
          "output_type": "stream",
          "text": [
            "\n"
          ],
          "name": "stdout"
        },
        {
          "output_type": "display_data",
          "data": {
            "text/html": [
              "<span title=\"0.05829225239027966\" style=\"background-color:rgba(255, 0, 0, 0.05829225239027966);\"> The</span><span title=\"0.06862077708376638\" style=\"background-color:rgba(255, 0, 0, 0.06862077708376638);\"> dynasty</span><span title=\"0.011855277829064767\" style=\"background-color:rgba(255, 0, 0, 0.011855277829064767);\"> was</span><span title=\"0.016584722184649032\" style=\"background-color:rgba(255, 0, 0, 0.016584722184649032);\"> established</span><span title=\"0.0475614178913846\" style=\"background-color:rgba(255, 0, 0, 0.0475614178913846);\"> by</span><span title=\"0.6310769269556078\" style=\"background-color:rgba(255, 0, 0, 0.6310769269556078);\"> Kublai</span><span title=\"0.5763618797551876\" style=\"background-color:rgba(255, 0, 0, 0.5763618797551876);\"> Khan</span><span title=\"0.04926520919075943\" style=\"background-color:rgba(255, 0, 0, 0.04926520919075943);\"> ,</span><span title=\"0.02986202856205876\" style=\"background-color:rgba(255, 0, 0, 0.02986202856205876);\"> yet</span><span title=\"0.025477137986243105\" style=\"background-color:rgba(255, 0, 0, 0.025477137986243105);\"> he</span><span title=\"0.020682505578758788\" style=\"background-color:rgba(255, 0, 0, 0.020682505578758788);\"> placed</span><span title=\"0.031716891253632605\" style=\"background-color:rgba(255, 0, 0, 0.031716891253632605);\"> his</span><span title=\"0.08285963641829265\" style=\"background-color:rgba(255, 0, 0, 0.08285963641829265);\"> grandfather</span><span title=\"0.17599332305212045\" style=\"background-color:rgba(255, 0, 0, 0.17599332305212045);text-decoration: underline\"> Genghis</span><span title=\"0.15197953963388766\" style=\"background-color:rgba(255, 0, 0, 0.15197953963388766);text-decoration: underline\"> Khan</span><span title=\"0.04928273924815329\" style=\"background-color:rgba(255, 0, 0, 0.04928273924815329);\"> on</span><span title=\"0.0880935145357308\" style=\"background-color:rgba(255, 0, 0, 0.0880935145357308);\"> the</span><span title=\"0.11676747760361747\" style=\"background-color:rgba(255, 0, 0, 0.11676747760361747);\"> imperial</span><span title=\"0.10094799840113591\" style=\"background-color:rgba(255, 0, 0, 0.10094799840113591);\"> records</span><span title=\"0.03919438972000368\" style=\"background-color:rgba(255, 0, 0, 0.03919438972000368);\"> as</span><span title=\"0.07633341350467757\" style=\"background-color:rgba(255, 0, 0, 0.07633341350467757);\"> the</span><span title=\"0.11026555016195855\" style=\"background-color:rgba(255, 0, 0, 0.11026555016195855);\"> official</span><span title=\"0.10843895032401156\" style=\"background-color:rgba(255, 0, 0, 0.10843895032401156);\"> founder</span><span title=\"0.08206578428330523\" style=\"background-color:rgba(255, 0, 0, 0.08206578428330523);\"> of</span><span title=\"0.10913338933163852\" style=\"background-color:rgba(255, 0, 0, 0.10913338933163852);\"> the</span><span title=\"0.13815469695409943\" style=\"background-color:rgba(255, 0, 0, 0.13815469695409943);\"> dynasty</span><span title=\"0.10144755196544837\" style=\"background-color:rgba(255, 0, 0, 0.10144755196544837);\"> as</span><span title=\"0.21392875839470232\" style=\"background-color:rgba(255, 0, 0, 0.21392875839470232);\"> Taizu.[b</span><span title=\"0.11516305462038776\" style=\"background-color:rgba(255, 0, 0, 0.11516305462038776);\"> ]</span>"
            ],
            "text/plain": [
              "<IPython.core.display.HTML object>"
            ]
          },
          "metadata": {
            "tags": []
          }
        },
        {
          "output_type": "stream",
          "text": [
            "\n"
          ],
          "name": "stdout"
        },
        {
          "output_type": "display_data",
          "data": {
            "text/html": [
              "<span title=\"0.07564858041530438\" style=\"background-color:rgba(255, 0, 0, 0.07564858041530438);\"> The</span><span title=\"0.0867471469435312\" style=\"background-color:rgba(255, 0, 0, 0.0867471469435312);\"> counterpart</span><span title=\"0.04735826480729057\" style=\"background-color:rgba(255, 0, 0, 0.04735826480729057);\"> in</span><span title=\"0.19207731179251858\" style=\"background-color:rgba(255, 0, 0, 0.19207731179251858);\"> Mongolian</span><span title=\"0.15031871540826772\" style=\"background-color:rgba(255, 0, 0, 0.15031871540826772);\"> language</span><span title=\"0.02417459954575855\" style=\"background-color:rgba(255, 0, 0, 0.02417459954575855);\"> was</span><span title=\"0.6888626522696046\" style=\"background-color:rgba(255, 0, 0, 0.6888626522696046);text-decoration: underline\"> Dai</span><span title=\"0.6727827328257606\" style=\"background-color:rgba(255, 0, 0, 0.6727827328257606);text-decoration: underline\"> Ön</span><span title=\"0.6243806410403278\" style=\"background-color:rgba(255, 0, 0, 0.6243806410403278);text-decoration: underline\"> Ulus</span><span title=\"0.08806688449982757\" style=\"background-color:rgba(255, 0, 0, 0.08806688449982757);text-decoration: underline\"> ,</span><span title=\"0.06197803846918102\" style=\"background-color:rgba(255, 0, 0, 0.06197803846918102);text-decoration: underline\"> also</span><span title=\"0.059767836197003925\" style=\"background-color:rgba(255, 0, 0, 0.059767836197003925);text-decoration: underline\"> rendered</span><span title=\"0.06867967611147491\" style=\"background-color:rgba(255, 0, 0, 0.06867967611147491);text-decoration: underline\"> as</span><span title=\"0.7044054881778649\" style=\"background-color:rgba(255, 0, 0, 0.7044054881778649);text-decoration: underline\"> Ikh</span><span title=\"0.7016734180053502\" style=\"background-color:rgba(255, 0, 0, 0.7016734180053502);text-decoration: underline\"> Yuan</span><span title=\"0.677795932343888\" style=\"background-color:rgba(255, 0, 0, 0.677795932343888);text-decoration: underline\"> Üls</span><span title=\"0.5338577788119396\" style=\"background-color:rgba(255, 0, 0, 0.5338577788119396);text-decoration: underline\"> or</span><span title=\"0.8187313165573658\" style=\"background-color:rgba(255, 0, 0, 0.8187313165573658);text-decoration: underline\"> Yekhe</span><span title=\"0.8337473085961038\" style=\"background-color:rgba(255, 0, 0, 0.8337473085961038);text-decoration: underline\"> Yuan</span>"
            ],
            "text/plain": [
              "<IPython.core.display.HTML object>"
            ]
          },
          "metadata": {
            "tags": []
          }
        },
        {
          "output_type": "stream",
          "text": [
            "\n"
          ],
          "name": "stdout"
        },
        {
          "output_type": "display_data",
          "data": {
            "text/html": [
              "<span title=\"0.16349142489176346\" style=\"background-color:rgba(255, 0, 0, 0.16349142489176346);text-decoration: underline\"> Great</span><span title=\"0.16941433947809587\" style=\"background-color:rgba(255, 0, 0, 0.16941433947809587);text-decoration: underline\"> Mongol</span><span title=\"0.16406225214347311\" style=\"background-color:rgba(255, 0, 0, 0.16406225214347311);text-decoration: underline\"> State</span><span title=\"0.07836086437425444\" style=\"background-color:rgba(255, 0, 0, 0.07836086437425444);\"> \"</span><span title=\"0.041175738105854065\" style=\"background-color:rgba(255, 0, 0, 0.041175738105854065);\"> )</span><span title=\"0.01543290452704086\" style=\"background-color:rgba(255, 0, 0, 0.01543290452704086);\"> ,</span><span title=\"0.017993974245015205\" style=\"background-color:rgba(255, 0, 0, 0.017993974245015205);\"> resulting</span><span title=\"0.0514166614540288\" style=\"background-color:rgba(255, 0, 0, 0.0514166614540288);\"> in</span><span title=\"0.849822067364445\" style=\"background-color:rgba(255, 0, 0, 0.849822067364445);\"> Dai</span><span title=\"0.8696799941742208\" style=\"background-color:rgba(255, 0, 0, 0.8696799941742208);\"> Ön</span><span title=\"0.884634599726992\" style=\"background-color:rgba(255, 0, 0, 0.884634599726992);\"> Yeke</span><span title=\"0.8914142753779868\" style=\"background-color:rgba(255, 0, 0, 0.8914142753779868);\"> Mongghul</span>"
            ],
            "text/plain": [
              "<IPython.core.display.HTML object>"
            ]
          },
          "metadata": {
            "tags": []
          }
        },
        {
          "output_type": "stream",
          "text": [
            "\n"
          ],
          "name": "stdout"
        },
        {
          "output_type": "display_data",
          "data": {
            "text/html": [
              "<span title=\"0.5950788749631841\" style=\"background-color:rgba(255, 0, 0, 0.5950788749631841);\"> Genghis</span><span title=\"0.5444483423575085\" style=\"background-color:rgba(255, 0, 0, 0.5444483423575085);\"> Khan</span><span title=\"0.07605886542504903\" style=\"background-color:rgba(255, 0, 0, 0.07605886542504903);\"> united</span><span title=\"0.1050178309179639\" style=\"background-color:rgba(255, 0, 0, 0.1050178309179639);text-decoration: underline\"> the</span><span title=\"0.27196417352340974\" style=\"background-color:rgba(255, 0, 0, 0.27196417352340974);text-decoration: underline\"> Mongol</span><span title=\"0.22065701375209446\" style=\"background-color:rgba(255, 0, 0, 0.22065701375209446);text-decoration: underline\"> and</span><span title=\"0.28198129770636243\" style=\"background-color:rgba(255, 0, 0, 0.28198129770636243);text-decoration: underline\"> Turkic</span><span title=\"0.23087589697568772\" style=\"background-color:rgba(255, 0, 0, 0.23087589697568772);text-decoration: underline\"> tribes</span><span title=\"0.16997566554910146\" style=\"background-color:rgba(255, 0, 0, 0.16997566554910146);\"> of</span><span title=\"0.17805010175979552\" style=\"background-color:rgba(255, 0, 0, 0.17805010175979552);\"> the</span><span title=\"0.19022328270181296\" style=\"background-color:rgba(255, 0, 0, 0.19022328270181296);\"> steppes</span><span title=\"0.081538305047785\" style=\"background-color:rgba(255, 0, 0, 0.081538305047785);\"> and</span><span title=\"0.07094037752932372\" style=\"background-color:rgba(255, 0, 0, 0.07094037752932372);\"> became</span><span title=\"0.21695300421206654\" style=\"background-color:rgba(255, 0, 0, 0.21695300421206654);\"> Great</span><span title=\"0.18707731702241204\" style=\"background-color:rgba(255, 0, 0, 0.18707731702241204);\"> Khan</span><span title=\"0.0729553624927961\" style=\"background-color:rgba(255, 0, 0, 0.0729553624927961);\"> in</span><span title=\"0.5148529868999454\" style=\"background-color:rgba(255, 0, 0, 0.5148529868999454);text-decoration: underline\"> 1206</span><span title=\"0.030189614265459488\" style=\"background-color:rgba(255, 0, 0, 0.030189614265459488);\"> .</span>"
            ],
            "text/plain": [
              "<IPython.core.display.HTML object>"
            ]
          },
          "metadata": {
            "tags": []
          }
        },
        {
          "output_type": "stream",
          "text": [
            "\n"
          ],
          "name": "stdout"
        },
        {
          "output_type": "display_data",
          "data": {
            "text/html": [
              "<span title=\"0.49180059617482835\" style=\"background-color:rgba(255, 0, 0, 0.49180059617482835);\"> Liu</span><span title=\"0.45818325920776526\" style=\"background-color:rgba(255, 0, 0, 0.45818325920776526);\"> Heima</span><span title=\"0.2696638778366396\" style=\"background-color:rgba(255, 0, 0, 0.2696638778366396);\"> and</span><span title=\"0.4430689959306736\" style=\"background-color:rgba(255, 0, 0, 0.4430689959306736);\"> Shi</span><span title=\"0.4146049412703474\" style=\"background-color:rgba(255, 0, 0, 0.4146049412703474);\"> Tianze</span><span title=\"0.10052239580781795\" style=\"background-color:rgba(255, 0, 0, 0.10052239580781795);\"> served</span><span title=\"0.5932486341122872\" style=\"background-color:rgba(255, 0, 0, 0.5932486341122872);\"> Ogödei</span><span title=\"0.5808107588913917\" style=\"background-color:rgba(255, 0, 0, 0.5808107588913917);\"> Khan</span><span title=\"0.061389809795206064\" style=\"background-color:rgba(255, 0, 0, 0.061389809795206064);\"> .</span>"
            ],
            "text/plain": [
              "<IPython.core.display.HTML object>"
            ]
          },
          "metadata": {
            "tags": []
          }
        },
        {
          "output_type": "stream",
          "text": [
            "\n"
          ],
          "name": "stdout"
        },
        {
          "output_type": "display_data",
          "data": {
            "text/html": [
              "<span title=\"0.05912350306406368\" style=\"background-color:rgba(255, 0, 0, 0.05912350306406368);\"> His</span><span title=\"0.06443236575736938\" style=\"background-color:rgba(255, 0, 0, 0.06443236575736938);\"> father</span><span title=\"0.017264420475468695\" style=\"background-color:rgba(255, 0, 0, 0.017264420475468695);\"> was</span><span title=\"0.6118981696666572\" style=\"background-color:rgba(255, 0, 0, 0.6118981696666572);text-decoration: underline\"> Shi</span><span title=\"0.5827269037037396\" style=\"background-color:rgba(255, 0, 0, 0.5827269037037396);text-decoration: underline\"> Bingzhi</span><span title=\"0.1329823997453741\" style=\"background-color:rgba(255, 0, 0, 0.1329823997453741);\"> (</span><span title=\"0.11139243971903197\" style=\"background-color:rgba(255, 0, 0, 0.11139243971903197);\"> 史秉直</span><span title=\"0.09967686132492212\" style=\"background-color:rgba(255, 0, 0, 0.09967686132492212);\"> ,</span><span title=\"0.26227401125458116\" style=\"background-color:rgba(255, 0, 0, 0.26227401125458116);\"> Shih</span><span title=\"0.2773953153512768\" style=\"background-color:rgba(255, 0, 0, 0.2773953153512768);\"> Ping</span><span title=\"0.2530916821730474\" style=\"background-color:rgba(255, 0, 0, 0.2530916821730474);\"> -</span><span title=\"0.2662827882293055\" style=\"background-color:rgba(255, 0, 0, 0.2662827882293055);\"> chih</span><span title=\"0.1291480704934553\" style=\"background-color:rgba(255, 0, 0, 0.1291480704934553);\"> )</span><span title=\"0.0360181003331072\" style=\"background-color:rgba(255, 0, 0, 0.0360181003331072);\"> .</span>"
            ],
            "text/plain": [
              "<IPython.core.display.HTML object>"
            ]
          },
          "metadata": {
            "tags": []
          }
        },
        {
          "output_type": "stream",
          "text": [
            "\n"
          ],
          "name": "stdout"
        },
        {
          "output_type": "display_data",
          "data": {
            "text/html": [
              "<span title=\"0.649462520580839\" style=\"background-color:rgba(255, 0, 0, 0.649462520580839);\"> Zhang</span><span title=\"0.6786751998831342\" style=\"background-color:rgba(255, 0, 0, 0.6786751998831342);\"> Rou</span>"
            ],
            "text/plain": [
              "<IPython.core.display.HTML object>"
            ]
          },
          "metadata": {
            "tags": []
          }
        },
        {
          "output_type": "stream",
          "text": [
            "\n"
          ],
          "name": "stdout"
        },
        {
          "output_type": "display_data",
          "data": {
            "text/html": [
              "<span title=\"0.23626183646327917\" style=\"background-color:rgba(255, 0, 0, 0.23626183646327917);\"> Chagaan</span><span title=\"0.0904792284543065\" style=\"background-color:rgba(255, 0, 0, 0.0904792284543065);\"> (</span><span title=\"0.17434514068568907\" style=\"background-color:rgba(255, 0, 0, 0.17434514068568907);\"> Tsagaan</span><span title=\"0.06529683464836969\" style=\"background-color:rgba(255, 0, 0, 0.06529683464836969);\"> )</span><span title=\"0.058719546736776124\" style=\"background-color:rgba(255, 0, 0, 0.058719546736776124);\"> and</span><span title=\"0.14964613746979138\" style=\"background-color:rgba(255, 0, 0, 0.14964613746979138);\"> Zhang</span><span title=\"0.12450946467821711\" style=\"background-color:rgba(255, 0, 0, 0.12450946467821711);\"> Rou</span><span title=\"0.04608777032518152\" style=\"background-color:rgba(255, 0, 0, 0.04608777032518152);\"> jointly</span><span title=\"0.03217130545457812\" style=\"background-color:rgba(255, 0, 0, 0.03217130545457812);\"> launched</span><span title=\"0.05432052879567412\" style=\"background-color:rgba(255, 0, 0, 0.05432052879567412);\"> an</span><span title=\"0.06950578982293182\" style=\"background-color:rgba(255, 0, 0, 0.06950578982293182);\"> attack</span><span title=\"0.03239803585679278\" style=\"background-color:rgba(255, 0, 0, 0.03239803585679278);\"> on</span><span title=\"0.08150434555902587\" style=\"background-color:rgba(255, 0, 0, 0.08150434555902587);text-decoration: underline\"> the</span><span title=\"0.17876376624184864\" style=\"background-color:rgba(255, 0, 0, 0.17876376624184864);text-decoration: underline\"> Song</span><span title=\"0.12269465191648277\" style=\"background-color:rgba(255, 0, 0, 0.12269465191648277);text-decoration: underline\"> dynasty</span><span title=\"0.08715111367542915\" style=\"background-color:rgba(255, 0, 0, 0.08715111367542915);\"> ordered</span><span title=\"0.11016577057910446\" style=\"background-color:rgba(255, 0, 0, 0.11016577057910446);\"> by</span><span title=\"0.6146504700996263\" style=\"background-color:rgba(255, 0, 0, 0.6146504700996263);\"> Töregene</span><span title=\"0.6028584467427761\" style=\"background-color:rgba(255, 0, 0, 0.6028584467427761);\"> Khatun</span><span title=\"0.05623945204333493\" style=\"background-color:rgba(255, 0, 0, 0.05623945204333493);\"> .</span>"
            ],
            "text/plain": [
              "<IPython.core.display.HTML object>"
            ]
          },
          "metadata": {
            "tags": []
          }
        },
        {
          "output_type": "stream",
          "text": [
            "\n"
          ],
          "name": "stdout"
        },
        {
          "output_type": "display_data",
          "data": {
            "text/html": [
              "<span title=\"0.2964526903582115\" style=\"background-color:rgba(255, 0, 0, 0.2964526903582115);\"> Mongol</span><span title=\"0.21516049373154994\" style=\"background-color:rgba(255, 0, 0, 0.21516049373154994);\"> rule</span><span title=\"0.045106764259716145\" style=\"background-color:rgba(255, 0, 0, 0.045106764259716145);\"> was</span><span title=\"0.07573352262772004\" style=\"background-color:rgba(255, 0, 0, 0.07573352262772004);\"> cosmopolitan</span><span title=\"0.04746072656788669\" style=\"background-color:rgba(255, 0, 0, 0.04746072656788669);\"> under</span><span title=\"0.5927729205530814\" style=\"background-color:rgba(255, 0, 0, 0.5927729205530814);\"> Kublai</span><span title=\"0.5669312419807485\" style=\"background-color:rgba(255, 0, 0, 0.5669312419807485);\"> Khan</span><span title=\"0.05479512832087\" style=\"background-color:rgba(255, 0, 0, 0.05479512832087);\"> .</span>"
            ],
            "text/plain": [
              "<IPython.core.display.HTML object>"
            ]
          },
          "metadata": {
            "tags": []
          }
        },
        {
          "output_type": "stream",
          "text": [
            "\n"
          ],
          "name": "stdout"
        },
        {
          "output_type": "display_data",
          "data": {
            "text/html": [
              "<span title=\"0.02074458720228009\" style=\"background-color:rgba(255, 0, 0, 0.02074458720228009);\"> He</span><span title=\"0.008131855366557732\" style=\"background-color:rgba(255, 0, 0, 0.008131855366557732);\"> had</span><span title=\"0.009182792430592706\" style=\"background-color:rgba(255, 0, 0, 0.009182792430592706);\"> been</span><span title=\"0.015442922264084424\" style=\"background-color:rgba(255, 0, 0, 0.015442922264084424);\"> mentored</span><span title=\"0.044360890680664525\" style=\"background-color:rgba(255, 0, 0, 0.044360890680664525);\"> by</span><span title=\"0.6397952102795319\" style=\"background-color:rgba(255, 0, 0, 0.6397952102795319);text-decoration: underline\"> Li</span><span title=\"0.5960060127865433\" style=\"background-color:rgba(255, 0, 0, 0.5960060127865433);text-decoration: underline\"> Meng</span><span title=\"0.1545871638154721\" style=\"background-color:rgba(255, 0, 0, 0.1545871638154721);\"> ,</span><span title=\"0.1601716083555865\" style=\"background-color:rgba(255, 0, 0, 0.1601716083555865);\"> a</span><span title=\"0.2708283668790295\" style=\"background-color:rgba(255, 0, 0, 0.2708283668790295);\"> Confucian</span><span title=\"0.2493668641204644\" style=\"background-color:rgba(255, 0, 0, 0.2493668641204644);\"> academic</span><span title=\"0.06424015391613697\" style=\"background-color:rgba(255, 0, 0, 0.06424015391613697);\"> .</span>"
            ],
            "text/plain": [
              "<IPython.core.display.HTML object>"
            ]
          },
          "metadata": {
            "tags": []
          }
        },
        {
          "output_type": "stream",
          "text": [
            "\n"
          ],
          "name": "stdout"
        },
        {
          "output_type": "display_data",
          "data": {
            "text/html": [
              "<span title=\"0.03519033769391931\" style=\"background-color:rgba(255, 0, 0, 0.03519033769391931);\"> Afterwards</span><span title=\"0.011640448638363263\" style=\"background-color:rgba(255, 0, 0, 0.011640448638363263);\"> ,</span><span title=\"0.4785758186283274\" style=\"background-color:rgba(255, 0, 0, 0.4785758186283274);\"> Tugh</span><span title=\"0.4415844556532135\" style=\"background-color:rgba(255, 0, 0, 0.4415844556532135);\"> Temür</span><span title=\"0.06704750726452408\" style=\"background-color:rgba(255, 0, 0, 0.06704750726452408);\"> abdicated</span><span title=\"0.05682330424574368\" style=\"background-color:rgba(255, 0, 0, 0.05682330424574368);\"> in</span><span title=\"0.10125619842349712\" style=\"background-color:rgba(255, 0, 0, 0.10125619842349712);\"> favour</span><span title=\"0.04871662942793853\" style=\"background-color:rgba(255, 0, 0, 0.04871662942793853);\"> of</span><span title=\"0.08110433574225477\" style=\"background-color:rgba(255, 0, 0, 0.08110433574225477);\"> his</span><span title=\"0.11753693076953542\" style=\"background-color:rgba(255, 0, 0, 0.11753693076953542);\"> brother</span><span title=\"0.2042069568380394\" style=\"background-color:rgba(255, 0, 0, 0.2042069568380394);\"> Kusala</span><span title=\"0.03831121914513281\" style=\"background-color:rgba(255, 0, 0, 0.03831121914513281);\"> ,</span><span title=\"0.035148294289210215\" style=\"background-color:rgba(255, 0, 0, 0.035148294289210215);\"> who</span><span title=\"0.02872358741010455\" style=\"background-color:rgba(255, 0, 0, 0.02872358741010455);\"> was</span><span title=\"0.042438267677003316\" style=\"background-color:rgba(255, 0, 0, 0.042438267677003316);\"> backed</span><span title=\"0.06463945842243336\" style=\"background-color:rgba(255, 0, 0, 0.06463945842243336);\"> by</span><span title=\"0.6688420000940507\" style=\"background-color:rgba(255, 0, 0, 0.6688420000940507);\"> Chagatai</span><span title=\"0.6604008157709758\" style=\"background-color:rgba(255, 0, 0, 0.6604008157709758);\"> Khan</span><span title=\"0.639001197079637\" style=\"background-color:rgba(255, 0, 0, 0.639001197079637);\"> Eljigidey</span><span title=\"0.07013653086383179\" style=\"background-color:rgba(255, 0, 0, 0.07013653086383179);\"> ,</span><span title=\"0.04779429328075481\" style=\"background-color:rgba(255, 0, 0, 0.04779429328075481);\"> and</span><span title=\"0.04563557577432577\" style=\"background-color:rgba(255, 0, 0, 0.04563557577432577);\"> announced</span><span title=\"0.16704743704118147\" style=\"background-color:rgba(255, 0, 0, 0.16704743704118147);\"> Khanbaliq</span><span title=\"0.11342360545535227\" style=\"background-color:rgba(255, 0, 0, 0.11342360545535227);\"> 's</span><span title=\"0.10204160093813615\" style=\"background-color:rgba(255, 0, 0, 0.10204160093813615);\"> intent</span><span title=\"0.06513607105599914\" style=\"background-color:rgba(255, 0, 0, 0.06513607105599914);\"> to</span><span title=\"0.06481205843541576\" style=\"background-color:rgba(255, 0, 0, 0.06481205843541576);\"> welcome</span><span title=\"0.07197511402175379\" style=\"background-color:rgba(255, 0, 0, 0.07197511402175379);\"> him</span><span title=\"0.03131632169971611\" style=\"background-color:rgba(255, 0, 0, 0.03131632169971611);\"> .</span>"
            ],
            "text/plain": [
              "<IPython.core.display.HTML object>"
            ]
          },
          "metadata": {
            "tags": []
          }
        },
        {
          "output_type": "stream",
          "text": [
            "\n"
          ],
          "name": "stdout"
        },
        {
          "output_type": "display_data",
          "data": {
            "text/html": [
              "<span title=\"0.02396059597623498\" style=\"background-color:rgba(255, 0, 0, 0.02396059597623498);\"> He</span><span title=\"0.00884797203529526\" style=\"background-color:rgba(255, 0, 0, 0.00884797203529526);\"> was</span><span title=\"0.016769325546671494\" style=\"background-color:rgba(255, 0, 0, 0.016769325546671494);\"> supposedly</span><span title=\"0.01974225937531427\" style=\"background-color:rgba(255, 0, 0, 0.01974225937531427);\"> killed</span><span title=\"0.028002774713446636\" style=\"background-color:rgba(255, 0, 0, 0.028002774713446636);\"> with</span><span title=\"0.0795158611777498\" style=\"background-color:rgba(255, 0, 0, 0.0795158611777498);\"> poison</span><span title=\"0.03448994206719187\" style=\"background-color:rgba(255, 0, 0, 0.03448994206719187);\"> by</span><span title=\"0.6356037573010578\" style=\"background-color:rgba(255, 0, 0, 0.6356037573010578);text-decoration: underline\"> El</span><span title=\"0.5902913603665149\" style=\"background-color:rgba(255, 0, 0, 0.5902913603665149);text-decoration: underline\"> Temür</span><span title=\"0.06850506708192838\" style=\"background-color:rgba(255, 0, 0, 0.06850506708192838);\"> ,</span><span title=\"0.050534757179040345\" style=\"background-color:rgba(255, 0, 0, 0.050534757179040345);\"> and</span><span title=\"0.43940243963376124\" style=\"background-color:rgba(255, 0, 0, 0.43940243963376124);text-decoration: underline\"> Tugh</span><span title=\"0.3923438928977655\" style=\"background-color:rgba(255, 0, 0, 0.3923438928977655);text-decoration: underline\"> Temür</span><span title=\"0.12173443914080896\" style=\"background-color:rgba(255, 0, 0, 0.12173443914080896);\"> then</span><span title=\"0.11502738371351225\" style=\"background-color:rgba(255, 0, 0, 0.11502738371351225);\"> remounted</span><span title=\"0.14476001614747463\" style=\"background-color:rgba(255, 0, 0, 0.14476001614747463);\"> the</span><span title=\"0.18293872294100277\" style=\"background-color:rgba(255, 0, 0, 0.18293872294100277);\"> throne</span><span title=\"0.04178305516836828\" style=\"background-color:rgba(255, 0, 0, 0.04178305516836828);\"> .</span>"
            ],
            "text/plain": [
              "<IPython.core.display.HTML object>"
            ]
          },
          "metadata": {
            "tags": []
          }
        },
        {
          "output_type": "stream",
          "text": [
            "\n"
          ],
          "name": "stdout"
        },
        {
          "output_type": "display_data",
          "data": {
            "text/html": [
              "<span title=\"0.021126293184610186\" style=\"background-color:rgba(255, 0, 0, 0.021126293184610186);\"> Due</span><span title=\"0.026619238503288577\" style=\"background-color:rgba(255, 0, 0, 0.026619238503288577);\"> to</span><span title=\"0.04618099356160056\" style=\"background-color:rgba(255, 0, 0, 0.04618099356160056);\"> the</span><span title=\"0.06346214123711023\" style=\"background-color:rgba(255, 0, 0, 0.06346214123711023);\"> fact</span><span title=\"0.029227258875013738\" style=\"background-color:rgba(255, 0, 0, 0.029227258875013738);\"> that</span><span title=\"0.06918872251513872\" style=\"background-color:rgba(255, 0, 0, 0.06918872251513872);\"> the</span><span title=\"0.09092000498189409\" style=\"background-color:rgba(255, 0, 0, 0.09092000498189409);\"> bureaucracy</span><span title=\"0.036150798235234684\" style=\"background-color:rgba(255, 0, 0, 0.036150798235234684);\"> was</span><span title=\"0.04400193696293686\" style=\"background-color:rgba(255, 0, 0, 0.04400193696293686);\"> dominated</span><span title=\"0.06469738635312161\" style=\"background-color:rgba(255, 0, 0, 0.06469738635312161);\"> by</span><span title=\"0.5935077576822265\" style=\"background-color:rgba(255, 0, 0, 0.5935077576822265);\"> El</span><span title=\"0.5554407201031087\" style=\"background-color:rgba(255, 0, 0, 0.5554407201031087);\"> Temür</span><span title=\"0.05163867970767032\" style=\"background-color:rgba(255, 0, 0, 0.05163867970767032);\"> ,</span><span title=\"0.35562827795494967\" style=\"background-color:rgba(255, 0, 0, 0.35562827795494967);\"> Tugh</span><span title=\"0.3167043585434399\" style=\"background-color:rgba(255, 0, 0, 0.3167043585434399);\"> Temür</span><span title=\"0.04466275439642168\" style=\"background-color:rgba(255, 0, 0, 0.04466275439642168);\"> is</span><span title=\"0.03880597901283435\" style=\"background-color:rgba(255, 0, 0, 0.03880597901283435);\"> known</span><span title=\"0.03443366283723322\" style=\"background-color:rgba(255, 0, 0, 0.03443366283723322);\"> for</span><span title=\"0.061990142128534986\" style=\"background-color:rgba(255, 0, 0, 0.061990142128534986);text-decoration: underline\"> his</span><span title=\"0.08101548743082557\" style=\"background-color:rgba(255, 0, 0, 0.08101548743082557);text-decoration: underline\"> cultural</span><span title=\"0.07894498137066339\" style=\"background-color:rgba(255, 0, 0, 0.07894498137066339);text-decoration: underline\"> contribution</span><span title=\"0.04173972067345418\" style=\"background-color:rgba(255, 0, 0, 0.04173972067345418);\"> instead</span><span title=\"0.023271336354499815\" style=\"background-color:rgba(255, 0, 0, 0.023271336354499815);\"> .</span>"
            ],
            "text/plain": [
              "<IPython.core.display.HTML object>"
            ]
          },
          "metadata": {
            "tags": []
          }
        },
        {
          "output_type": "stream",
          "text": [
            "\n"
          ],
          "name": "stdout"
        },
        {
          "output_type": "display_data",
          "data": {
            "text/html": [
              "<span title=\"0.02919883993136563\" style=\"background-color:rgba(255, 0, 0, 0.02919883993136563);\"> Nevertheless</span><span title=\"0.007633395735468057\" style=\"background-color:rgba(255, 0, 0, 0.007633395735468057);\"> ,</span><span title=\"0.04242140059351779\" style=\"background-color:rgba(255, 0, 0, 0.04242140059351779);\"> a</span><span title=\"0.06099872657439359\" style=\"background-color:rgba(255, 0, 0, 0.06099872657439359);\"> few</span><span title=\"0.052925061688641355\" style=\"background-color:rgba(255, 0, 0, 0.052925061688641355);\"> other</span><span title=\"0.09685404175213494\" style=\"background-color:rgba(255, 0, 0, 0.09685404175213494);\"> Yuan</span><span title=\"0.07162915157198319\" style=\"background-color:rgba(255, 0, 0, 0.07162915157198319);\"> emperors</span><span title=\"0.03396484699066585\" style=\"background-color:rgba(255, 0, 0, 0.03396484699066585);\"> actively</span><span title=\"0.041792231772334196\" style=\"background-color:rgba(255, 0, 0, 0.041792231772334196);\"> sponsored</span><span title=\"0.12290453001304308\" style=\"background-color:rgba(255, 0, 0, 0.12290453001304308);\"> cultural</span><span title=\"0.11598770819615566\" style=\"background-color:rgba(255, 0, 0, 0.11598770819615566);\"> activities</span><span title=\"0.022297676063639374\" style=\"background-color:rgba(255, 0, 0, 0.022297676063639374);\"> ;</span><span title=\"0.048447315905351784\" style=\"background-color:rgba(255, 0, 0, 0.048447315905351784);\"> an</span><span title=\"0.07346244234869717\" style=\"background-color:rgba(255, 0, 0, 0.07346244234869717);\"> example</span><span title=\"0.022477913413872723\" style=\"background-color:rgba(255, 0, 0, 0.022477913413872723);\"> is</span><span title=\"0.7321905064370727\" style=\"background-color:rgba(255, 0, 0, 0.7321905064370727);text-decoration: underline\"> Tugh</span><span title=\"0.7057186493582502\" style=\"background-color:rgba(255, 0, 0, 0.7057186493582502);text-decoration: underline\"> Temur</span><span title=\"0.21652175508043892\" style=\"background-color:rgba(255, 0, 0, 0.21652175508043892);\"> (</span><span title=\"0.34481708937842037\" style=\"background-color:rgba(255, 0, 0, 0.34481708937842037);text-decoration: underline\"> Emperor</span><span title=\"0.33422064761814024\" style=\"background-color:rgba(255, 0, 0, 0.33422064761814024);text-decoration: underline\"> Wenzong</span><span title=\"0.16594530071397484\" style=\"background-color:rgba(255, 0, 0, 0.16594530071397484);\"> )</span><span title=\"0.07438472230912849\" style=\"background-color:rgba(255, 0, 0, 0.07438472230912849);\"> ,</span><span title=\"0.06488721695314402\" style=\"background-color:rgba(255, 0, 0, 0.06488721695314402);\"> who</span><span title=\"0.07051298511215758\" style=\"background-color:rgba(255, 0, 0, 0.07051298511215758);\"> wrote</span><span title=\"0.11409251117333488\" style=\"background-color:rgba(255, 0, 0, 0.11409251117333488);\"> poetry</span><span title=\"0.045236126986757906\" style=\"background-color:rgba(255, 0, 0, 0.045236126986757906);\"> ,</span><span title=\"0.04803004269666209\" style=\"background-color:rgba(255, 0, 0, 0.04803004269666209);\"> painted</span><span title=\"0.030213272248624714\" style=\"background-color:rgba(255, 0, 0, 0.030213272248624714);\"> ,</span><span title=\"0.03759525352716961\" style=\"background-color:rgba(255, 0, 0, 0.03759525352716961);\"> read</span><span title=\"0.18468884530049515\" style=\"background-color:rgba(255, 0, 0, 0.18468884530049515);\"> Chinese</span><span title=\"0.18729009689039783\" style=\"background-color:rgba(255, 0, 0, 0.18729009689039783);\"> classical</span><span title=\"0.18264885388704194\" style=\"background-color:rgba(255, 0, 0, 0.18264885388704194);\"> texts</span><span title=\"0.07520576512816146\" style=\"background-color:rgba(255, 0, 0, 0.07520576512816146);\"> ,</span><span title=\"0.06622490036249239\" style=\"background-color:rgba(255, 0, 0, 0.06622490036249239);\"> and</span><span title=\"0.06782130623745282\" style=\"background-color:rgba(255, 0, 0, 0.06782130623745282);\"> ordered</span><span title=\"0.08568614300283733\" style=\"background-color:rgba(255, 0, 0, 0.08568614300283733);\"> the</span><span title=\"0.11944390870598366\" style=\"background-color:rgba(255, 0, 0, 0.11944390870598366);\"> compilation</span><span title=\"0.0925685368909945\" style=\"background-color:rgba(255, 0, 0, 0.0925685368909945);\"> of</span><span title=\"0.13451658115475873\" style=\"background-color:rgba(255, 0, 0, 0.13451658115475873);\"> books</span><span title=\"0.02418528069260221\" style=\"background-color:rgba(255, 0, 0, 0.02418528069260221);\"> .</span>"
            ],
            "text/plain": [
              "<IPython.core.display.HTML object>"
            ]
          },
          "metadata": {
            "tags": []
          }
        },
        {
          "output_type": "stream",
          "text": [
            "\n"
          ],
          "name": "stdout"
        },
        {
          "output_type": "display_data",
          "data": {
            "text/html": [
              "<span title=\"0.12001491774852929\" style=\"background-color:rgba(255, 0, 0, 0.12001491774852929);\"> The</span><span title=\"0.20206481240749552\" style=\"background-color:rgba(255, 0, 0, 0.20206481240749552);\"> Mongol</span><span title=\"0.1328829248080068\" style=\"background-color:rgba(255, 0, 0, 0.1328829248080068);\"> appointed</span><span title=\"0.19923913355371725\" style=\"background-color:rgba(255, 0, 0, 0.19923913355371725);\"> Governor</span><span title=\"0.15994681691626253\" style=\"background-color:rgba(255, 0, 0, 0.15994681691626253);\"> of</span><span title=\"0.23109653269696942\" style=\"background-color:rgba(255, 0, 0, 0.23109653269696942);\"> Samarqand</span><span title=\"0.0694467542314005\" style=\"background-color:rgba(255, 0, 0, 0.0694467542314005);\"> was</span><span title=\"0.2723803919708408\" style=\"background-color:rgba(255, 0, 0, 0.2723803919708408);text-decoration: underline\"> a</span><span title=\"0.5437144277410108\" style=\"background-color:rgba(255, 0, 0, 0.5437144277410108);text-decoration: underline\"> Qara</span><span title=\"0.48201868720006724\" style=\"background-color:rgba(255, 0, 0, 0.48201868720006724);text-decoration: underline\"> -</span><span title=\"0.489697293187284\" style=\"background-color:rgba(255, 0, 0, 0.489697293187284);text-decoration: underline\"> Khitay</span><span title=\"0.13604334055951423\" style=\"background-color:rgba(255, 0, 0, 0.13604334055951423);text-decoration: underline\"> (</span><span title=\"0.24550149695359913\" style=\"background-color:rgba(255, 0, 0, 0.24550149695359913);text-decoration: underline\"> Khitan</span><span title=\"0.0654410556556404\" style=\"background-color:rgba(255, 0, 0, 0.0654410556556404);\"> )</span><span title=\"0.020736329782479412\" style=\"background-color:rgba(255, 0, 0, 0.020736329782479412);\"> ,</span><span title=\"0.03217890412125929\" style=\"background-color:rgba(255, 0, 0, 0.03217890412125929);\"> held</span><span title=\"0.061631117655676165\" style=\"background-color:rgba(255, 0, 0, 0.061631117655676165);\"> the</span><span title=\"0.11217619077325236\" style=\"background-color:rgba(255, 0, 0, 0.11217619077325236);\"> title</span><span title=\"0.1515832649311292\" style=\"background-color:rgba(255, 0, 0, 0.1515832649311292);\"> Taishi</span><span title=\"0.020580596090596048\" style=\"background-color:rgba(255, 0, 0, 0.020580596090596048);\"> ,</span><span title=\"0.03075480983832722\" style=\"background-color:rgba(255, 0, 0, 0.03075480983832722);\"> familiar</span><span title=\"0.018058130849530153\" style=\"background-color:rgba(255, 0, 0, 0.018058130849530153);\"> with</span><span title=\"0.07348302739097877\" style=\"background-color:rgba(255, 0, 0, 0.07348302739097877);\"> Chinese</span><span title=\"0.04235268160324897\" style=\"background-color:rgba(255, 0, 0, 0.04235268160324897);\"> culture</span><span title=\"0.02547562967730516\" style=\"background-color:rgba(255, 0, 0, 0.02547562967730516);\"> his</span><span title=\"0.03229395701757336\" style=\"background-color:rgba(255, 0, 0, 0.03229395701757336);\"> name</span><span title=\"0.024697985641292663\" style=\"background-color:rgba(255, 0, 0, 0.024697985641292663);\"> was</span><span title=\"0.6565485185383827\" style=\"background-color:rgba(255, 0, 0, 0.6565485185383827);text-decoration: underline\"> Ahai</span>"
            ],
            "text/plain": [
              "<IPython.core.display.HTML object>"
            ]
          },
          "metadata": {
            "tags": []
          }
        },
        {
          "output_type": "stream",
          "text": [
            "\n"
          ],
          "name": "stdout"
        },
        {
          "output_type": "display_data",
          "data": {
            "text/html": [
              "<span title=\"0.0898440762427452\" style=\"background-color:rgba(255, 0, 0, 0.0898440762427452);\"> Viruses</span><span title=\"0.02073518630899051\" style=\"background-color:rgba(255, 0, 0, 0.02073518630899051);\"> were</span><span title=\"0.02839143228230631\" style=\"background-color:rgba(255, 0, 0, 0.02839143228230631);\"> confirmed</span><span title=\"0.04394888654354531\" style=\"background-color:rgba(255, 0, 0, 0.04394888654354531);\"> as</span><span title=\"0.16987135799988748\" style=\"background-color:rgba(255, 0, 0, 0.16987135799988748);\"> human</span><span title=\"0.1431034908430551\" style=\"background-color:rgba(255, 0, 0, 0.1431034908430551);\"> pathogens</span><span title=\"0.04977369575846109\" style=\"background-color:rgba(255, 0, 0, 0.04977369575846109);\"> in</span><span title=\"0.5677080299595736\" style=\"background-color:rgba(255, 0, 0, 0.5677080299595736);text-decoration: underline\"> 1901</span><span title=\"0.037149295292005426\" style=\"background-color:rgba(255, 0, 0, 0.037149295292005426);\"> ,</span><span title=\"0.044948420503886685\" style=\"background-color:rgba(255, 0, 0, 0.044948420503886685);\"> with</span><span title=\"0.09163371247208785\" style=\"background-color:rgba(255, 0, 0, 0.09163371247208785);\"> the</span><span title=\"0.1236313610857594\" style=\"background-color:rgba(255, 0, 0, 0.1236313610857594);\"> discovery</span><span title=\"0.08694527976864094\" style=\"background-color:rgba(255, 0, 0, 0.08694527976864094);\"> of</span><span title=\"0.11458483291547072\" style=\"background-color:rgba(255, 0, 0, 0.11458483291547072);\"> the</span><span title=\"0.19365347463651528\" style=\"background-color:rgba(255, 0, 0, 0.19365347463651528);text-decoration: underline\"> yellow</span><span title=\"0.2144862854407719\" style=\"background-color:rgba(255, 0, 0, 0.2144862854407719);text-decoration: underline\"> fever</span><span title=\"0.20490364183022286\" style=\"background-color:rgba(255, 0, 0, 0.20490364183022286);text-decoration: underline\"> virus</span><span title=\"0.13817551351502771\" style=\"background-color:rgba(255, 0, 0, 0.13817551351502771);\"> by</span><span title=\"0.5515164588326521\" style=\"background-color:rgba(255, 0, 0, 0.5515164588326521);\"> Walter</span><span title=\"0.5358950239865458\" style=\"background-color:rgba(255, 0, 0, 0.5358950239865458);\"> Reed</span><span title=\"0.06515708192512482\" style=\"background-color:rgba(255, 0, 0, 0.06515708192512482);\"> .</span>"
            ],
            "text/plain": [
              "<IPython.core.display.HTML object>"
            ]
          },
          "metadata": {
            "tags": []
          }
        },
        {
          "output_type": "stream",
          "text": [
            "\n"
          ],
          "name": "stdout"
        },
        {
          "output_type": "display_data",
          "data": {
            "text/html": [
              "<span title=\"0.026921180380564264\" style=\"background-color:rgba(255, 0, 0, 0.026921180380564264);\"> In</span><span title=\"0.10197061427750273\" style=\"background-color:rgba(255, 0, 0, 0.10197061427750273);\"> the</span><span title=\"0.19982708293743764\" style=\"background-color:rgba(255, 0, 0, 0.19982708293743764);\"> mid-1950s</span><span title=\"0.015929095980511444\" style=\"background-color:rgba(255, 0, 0, 0.015929095980511444);\"> ,</span><span title=\"0.6905233780979145\" style=\"background-color:rgba(255, 0, 0, 0.6905233780979145);text-decoration: underline\"> Frank</span><span title=\"0.6588046091525868\" style=\"background-color:rgba(255, 0, 0, 0.6588046091525868);text-decoration: underline\"> Burnet</span><span title=\"0.06668501702769557\" style=\"background-color:rgba(255, 0, 0, 0.06668501702769557);\"> ,</span><span title=\"0.035014793155285884\" style=\"background-color:rgba(255, 0, 0, 0.035014793155285884);\"> inspired</span><span title=\"0.03143411162702445\" style=\"background-color:rgba(255, 0, 0, 0.03143411162702445);\"> by</span><span title=\"0.0817834352266732\" style=\"background-color:rgba(255, 0, 0, 0.0817834352266732);\"> a</span><span title=\"0.08738051426670226\" style=\"background-color:rgba(255, 0, 0, 0.08738051426670226);\"> suggestion</span><span title=\"0.044761438052587615\" style=\"background-color:rgba(255, 0, 0, 0.044761438052587615);\"> made</span><span title=\"0.06638747413981927\" style=\"background-color:rgba(255, 0, 0, 0.06638747413981927);\"> by</span><span title=\"0.5686125750793515\" style=\"background-color:rgba(255, 0, 0, 0.5686125750793515);text-decoration: underline\"> Niels</span><span title=\"0.5382311765412536\" style=\"background-color:rgba(255, 0, 0, 0.5382311765412536);text-decoration: underline\"> Jerne</span><span title=\"0.06956276264662456\" style=\"background-color:rgba(255, 0, 0, 0.06956276264662456);\"> ,</span><span title=\"0.07091454612250714\" style=\"background-color:rgba(255, 0, 0, 0.07091454612250714);\"> formulated</span><span title=\"0.1368445766203165\" style=\"background-color:rgba(255, 0, 0, 0.1368445766203165);\"> the</span><span title=\"0.2619040032291952\" style=\"background-color:rgba(255, 0, 0, 0.2619040032291952);text-decoration: underline\"> clonal</span><span title=\"0.2813681744760457\" style=\"background-color:rgba(255, 0, 0, 0.2813681744760457);text-decoration: underline\"> selection</span><span title=\"0.27579638489118236\" style=\"background-color:rgba(255, 0, 0, 0.27579638489118236);text-decoration: underline\"> theory</span><span title=\"0.14980252182923315\" style=\"background-color:rgba(255, 0, 0, 0.14980252182923315);\"> (</span><span title=\"0.1905313249084418\" style=\"background-color:rgba(255, 0, 0, 0.1905313249084418);\"> CST</span><span title=\"0.09800842822402688\" style=\"background-color:rgba(255, 0, 0, 0.09800842822402688);\"> )</span><span title=\"0.093056962417139\" style=\"background-color:rgba(255, 0, 0, 0.093056962417139);\"> of</span><span title=\"0.13478716923583808\" style=\"background-color:rgba(255, 0, 0, 0.13478716923583808);\"> immunity</span><span title=\"0.027465257281760348\" style=\"background-color:rgba(255, 0, 0, 0.027465257281760348);\"> .</span>"
            ],
            "text/plain": [
              "<IPython.core.display.HTML object>"
            ]
          },
          "metadata": {
            "tags": []
          }
        },
        {
          "output_type": "stream",
          "text": [
            "\n"
          ],
          "name": "stdout"
        },
        {
          "output_type": "display_data",
          "data": {
            "text/html": [
              "<span title=\"0.030500785469400018\" style=\"background-color:rgba(255, 0, 0, 0.030500785469400018);\"> According</span><span title=\"0.029717601276295552\" style=\"background-color:rgba(255, 0, 0, 0.029717601276295552);\"> to</span><span title=\"0.09023530076512264\" style=\"background-color:rgba(255, 0, 0, 0.09023530076512264);\"> the</span><span title=\"0.14162990413677456\" style=\"background-color:rgba(255, 0, 0, 0.14162990413677456);\"> cellular</span><span title=\"0.1397691343115586\" style=\"background-color:rgba(255, 0, 0, 0.1397691343115586);\"> theory</span><span title=\"0.11174670298419037\" style=\"background-color:rgba(255, 0, 0, 0.11174670298419037);\"> of</span><span title=\"0.1545079698716805\" style=\"background-color:rgba(255, 0, 0, 0.1545079698716805);\"> immunity</span><span title=\"0.037502717635324596\" style=\"background-color:rgba(255, 0, 0, 0.037502717635324596);\"> ,</span><span title=\"0.036823522155536775\" style=\"background-color:rgba(255, 0, 0, 0.036823522155536775);\"> represented</span><span title=\"0.02976935447101004\" style=\"background-color:rgba(255, 0, 0, 0.02976935447101004);\"> in</span><span title=\"0.0547288416473552\" style=\"background-color:rgba(255, 0, 0, 0.0547288416473552);\"> particular</span><span title=\"0.048976316472925496\" style=\"background-color:rgba(255, 0, 0, 0.048976316472925496);\"> by</span><span title=\"0.5969304237830166\" style=\"background-color:rgba(255, 0, 0, 0.5969304237830166);text-decoration: underline\"> Elie</span><span title=\"0.5666104700021032\" style=\"background-color:rgba(255, 0, 0, 0.5666104700021032);text-decoration: underline\"> Metchnikoff</span><span title=\"0.10327501313156649\" style=\"background-color:rgba(255, 0, 0, 0.10327501313156649);\"> ,</span><span title=\"0.08502771080012769\" style=\"background-color:rgba(255, 0, 0, 0.08502771080012769);\"> it</span><span title=\"0.06800550156012708\" style=\"background-color:rgba(255, 0, 0, 0.06800550156012708);\"> was</span><span title=\"0.17583654483546823\" style=\"background-color:rgba(255, 0, 0, 0.17583654483546823);\"> cells</span><span title=\"0.09360437350327287\" style=\"background-color:rgba(255, 0, 0, 0.09360437350327287);\"> –</span><span title=\"0.10541371701457482\" style=\"background-color:rgba(255, 0, 0, 0.10541371701457482);\"> more</span><span title=\"0.10539552000158763\" style=\"background-color:rgba(255, 0, 0, 0.10539552000158763);\"> precisely</span><span title=\"0.07558784130888169\" style=\"background-color:rgba(255, 0, 0, 0.07558784130888169);\"> ,</span><span title=\"0.08544697805597297\" style=\"background-color:rgba(255, 0, 0, 0.08544697805597297);text-decoration: underline\"> phagocytes</span><span title=\"0.03404168598536487\" style=\"background-color:rgba(255, 0, 0, 0.03404168598536487);\"> –</span><span title=\"0.0393846470259506\" style=\"background-color:rgba(255, 0, 0, 0.0393846470259506);\"> that</span><span title=\"0.04336984834607805\" style=\"background-color:rgba(255, 0, 0, 0.04336984834607805);\"> were</span><span title=\"0.08052812518103539\" style=\"background-color:rgba(255, 0, 0, 0.08052812518103539);\"> responsible</span><span title=\"0.07287389401026562\" style=\"background-color:rgba(255, 0, 0, 0.07287389401026562);\"> for</span><span title=\"0.13286644448923715\" style=\"background-color:rgba(255, 0, 0, 0.13286644448923715);\"> immune</span><span title=\"0.13526578286156654\" style=\"background-color:rgba(255, 0, 0, 0.13526578286156654);\"> responses</span><span title=\"0.025876112374164744\" style=\"background-color:rgba(255, 0, 0, 0.025876112374164744);\"> .</span>"
            ],
            "text/plain": [
              "<IPython.core.display.HTML object>"
            ]
          },
          "metadata": {
            "tags": []
          }
        },
        {
          "output_type": "stream",
          "text": [
            "\n"
          ],
          "name": "stdout"
        },
        {
          "output_type": "display_data",
          "data": {
            "text/html": [
              "<span title=\"0.06688949716362891\" style=\"background-color:rgba(255, 0, 0, 0.06688949716362891);\"> The</span><span title=\"0.09534577681056433\" style=\"background-color:rgba(255, 0, 0, 0.09534577681056433);\"> previous</span><span title=\"0.0875266303973446\" style=\"background-color:rgba(255, 0, 0, 0.0875266303973446);\"> chairs</span><span title=\"0.01591668598838444\" style=\"background-color:rgba(255, 0, 0, 0.01591668598838444);\"> were</span><span title=\"0.6359234556076092\" style=\"background-color:rgba(255, 0, 0, 0.6359234556076092);\"> Rajendra</span><span title=\"0.6203912233653934\" style=\"background-color:rgba(255, 0, 0, 0.6203912233653934);\"> K.</span><span title=\"0.5870895606795394\" style=\"background-color:rgba(255, 0, 0, 0.5870895606795394);\"> Pachauri</span><span title=\"0.12438254228445476\" style=\"background-color:rgba(255, 0, 0, 0.12438254228445476);\"> ,</span><span title=\"0.11297024078120983\" style=\"background-color:rgba(255, 0, 0, 0.11297024078120983);\"> elected</span><span title=\"0.09124534329658149\" style=\"background-color:rgba(255, 0, 0, 0.09124534329658149);\"> in</span><span title=\"0.29136591285136443\" style=\"background-color:rgba(255, 0, 0, 0.29136591285136443);\"> May</span><span title=\"0.3025962706636627\" style=\"background-color:rgba(255, 0, 0, 0.3025962706636627);\"> 2002</span><span title=\"0.0669597715694418\" style=\"background-color:rgba(255, 0, 0, 0.0669597715694418);\"> ;</span><span title=\"0.2151390338580237\" style=\"background-color:rgba(255, 0, 0, 0.2151390338580237);\"> Robert</span><span title=\"0.2051919497101018\" style=\"background-color:rgba(255, 0, 0, 0.2051919497101018);\"> Watson</span><span title=\"0.08492520102838878\" style=\"background-color:rgba(255, 0, 0, 0.08492520102838878);\"> in</span><span title=\"0.4668079371749425\" style=\"background-color:rgba(255, 0, 0, 0.4668079371749425);\"> 1997</span><span title=\"0.06916392416358863\" style=\"background-color:rgba(255, 0, 0, 0.06916392416358863);\"> ;</span><span title=\"0.06993797396159904\" style=\"background-color:rgba(255, 0, 0, 0.06993797396159904);\"> and</span><span title=\"0.25448846879320497\" style=\"background-color:rgba(255, 0, 0, 0.25448846879320497);text-decoration: underline\"> Bert</span><span title=\"0.24400876923939574\" style=\"background-color:rgba(255, 0, 0, 0.24400876923939574);text-decoration: underline\"> Bolin</span><span title=\"0.12205379386319089\" style=\"background-color:rgba(255, 0, 0, 0.12205379386319089);\"> in</span><span title=\"0.5129872126612363\" style=\"background-color:rgba(255, 0, 0, 0.5129872126612363);\"> 1988</span><span title=\"0.023037200663036054\" style=\"background-color:rgba(255, 0, 0, 0.023037200663036054);\"> .</span>"
            ],
            "text/plain": [
              "<IPython.core.display.HTML object>"
            ]
          },
          "metadata": {
            "tags": []
          }
        },
        {
          "output_type": "stream",
          "text": [
            "\n"
          ],
          "name": "stdout"
        },
        {
          "output_type": "display_data",
          "data": {
            "text/html": [
              "<span title=\"0.12384479287298815\" style=\"background-color:rgba(255, 0, 0, 0.12384479287298815);\"> The</span><span title=\"0.15110497282172036\" style=\"background-color:rgba(255, 0, 0, 0.15110497282172036);\"> organisation</span><span title=\"0.052100438141571705\" style=\"background-color:rgba(255, 0, 0, 0.052100438141571705);\"> is</span><span title=\"0.06698853915475111\" style=\"background-color:rgba(255, 0, 0, 0.06698853915475111);\"> required</span><span title=\"0.10965291443965017\" style=\"background-color:rgba(255, 0, 0, 0.10965291443965017);\"> to</span><span title=\"0.15288677818583873\" style=\"background-color:rgba(255, 0, 0, 0.15288677818583873);\"> comply</span><span title=\"0.1889364752361694\" style=\"background-color:rgba(255, 0, 0, 0.1889364752361694);\"> with</span><span title=\"0.43109639934995314\" style=\"background-color:rgba(255, 0, 0, 0.43109639934995314);text-decoration: underline\"> the</span><span title=\"0.7635575124835516\" style=\"background-color:rgba(255, 0, 0, 0.7635575124835516);text-decoration: underline\"> Financial</span><span title=\"0.7661851943262026\" style=\"background-color:rgba(255, 0, 0, 0.7661851943262026);text-decoration: underline\"> Regulations</span><span title=\"0.7240041220239263\" style=\"background-color:rgba(255, 0, 0, 0.7240041220239263);text-decoration: underline\"> and</span><span title=\"0.7361821861011438\" style=\"background-color:rgba(255, 0, 0, 0.7361821861011438);text-decoration: underline\"> Rules</span><span title=\"0.670418977207809\" style=\"background-color:rgba(255, 0, 0, 0.670418977207809);text-decoration: underline\"> of</span><span title=\"0.661747826687527\" style=\"background-color:rgba(255, 0, 0, 0.661747826687527);text-decoration: underline\"> the</span><span title=\"0.6593364282890615\" style=\"background-color:rgba(255, 0, 0, 0.6593364282890615);text-decoration: underline\"> WMO</span><span title=\"0.08582133235230677\" style=\"background-color:rgba(255, 0, 0, 0.08582133235230677);\"> .</span>"
            ],
            "text/plain": [
              "<IPython.core.display.HTML object>"
            ]
          },
          "metadata": {
            "tags": []
          }
        },
        {
          "output_type": "stream",
          "text": [
            "\n"
          ],
          "name": "stdout"
        },
        {
          "output_type": "display_data",
          "data": {
            "text/html": [
              "<span title=\"0.6669295186845866\" style=\"background-color:rgba(255, 0, 0, 0.6669295186845866);text-decoration: underline\"> John</span><span title=\"0.6365350075688275\" style=\"background-color:rgba(255, 0, 0, 0.6365350075688275);text-decoration: underline\"> Houghton</span><span title=\"0.10307423519563003\" style=\"background-color:rgba(255, 0, 0, 0.10307423519563003);text-decoration: underline\"> ,</span><span title=\"0.07812829922584352\" style=\"background-color:rgba(255, 0, 0, 0.07812829922584352);\"> who</span><span title=\"0.05928282867914538\" style=\"background-color:rgba(255, 0, 0, 0.05928282867914538);\"> was</span><span title=\"0.14169055388659446\" style=\"background-color:rgba(255, 0, 0, 0.14169055388659446);text-decoration: underline\"> a</span><span title=\"0.2536761075569691\" style=\"background-color:rgba(255, 0, 0, 0.2536761075569691);text-decoration: underline\"> co</span><span title=\"0.2388239740028847\" style=\"background-color:rgba(255, 0, 0, 0.2388239740028847);text-decoration: underline\"> -</span><span title=\"0.2511518318693182\" style=\"background-color:rgba(255, 0, 0, 0.2511518318693182);text-decoration: underline\"> chair</span><span title=\"0.21366278508302156\" style=\"background-color:rgba(255, 0, 0, 0.21366278508302156);text-decoration: underline\"> of</span><span title=\"0.44288507809869837\" style=\"background-color:rgba(255, 0, 0, 0.44288507809869837);text-decoration: underline\"> TAR</span><span title=\"0.43695541106017544\" style=\"background-color:rgba(255, 0, 0, 0.43695541106017544);text-decoration: underline\"> WGI</span><span title=\"0.061687904709416985\" style=\"background-color:rgba(255, 0, 0, 0.061687904709416985);\"> ,</span><span title=\"0.03387220049078396\" style=\"background-color:rgba(255, 0, 0, 0.03387220049078396);\"> has</span><span title=\"0.036786237559047696\" style=\"background-color:rgba(255, 0, 0, 0.036786237559047696);\"> responded</span><span title=\"0.049383574153877785\" style=\"background-color:rgba(255, 0, 0, 0.049383574153877785);\"> to</span><span title=\"0.19536923780898094\" style=\"background-color:rgba(255, 0, 0, 0.19536923780898094);\"> Lindzen</span><span title=\"0.11682080516267106\" style=\"background-color:rgba(255, 0, 0, 0.11682080516267106);\"> 's</span><span title=\"0.11796181427420614\" style=\"background-color:rgba(255, 0, 0, 0.11796181427420614);\"> criticisms</span><span title=\"0.08145409070056465\" style=\"background-color:rgba(255, 0, 0, 0.08145409070056465);\"> of</span><span title=\"0.10138391159639122\" style=\"background-color:rgba(255, 0, 0, 0.10138391159639122);\"> the</span><span title=\"0.18055601252150932\" style=\"background-color:rgba(255, 0, 0, 0.18055601252150932);\"> SPM</span><span title=\"0.023193078643773013\" style=\"background-color:rgba(255, 0, 0, 0.023193078643773013);\"> .</span>"
            ],
            "text/plain": [
              "<IPython.core.display.HTML object>"
            ]
          },
          "metadata": {
            "tags": []
          }
        },
        {
          "output_type": "stream",
          "text": [
            "\n"
          ],
          "name": "stdout"
        },
        {
          "output_type": "display_data",
          "data": {
            "text/html": [
              "<span title=\"0.042954382528746456\" style=\"background-color:rgba(255, 0, 0, 0.042954382528746456);\"> When</span><span title=\"0.06641465593841694\" style=\"background-color:rgba(255, 0, 0, 0.06641465593841694);\"> the</span><span title=\"0.09299135066162006\" style=\"background-color:rgba(255, 0, 0, 0.09299135066162006);\"> researchers</span><span title=\"0.0855614812863242\" style=\"background-color:rgba(255, 0, 0, 0.0855614812863242);\"> '</span><span title=\"0.0855881191986206\" style=\"background-color:rgba(255, 0, 0, 0.0855881191986206);\"> analysis</span><span title=\"0.034808913384308\" style=\"background-color:rgba(255, 0, 0, 0.034808913384308);\"> was</span><span title=\"0.03725970859337166\" style=\"background-color:rgba(255, 0, 0, 0.03725970859337166);\"> \"</span><span title=\"0.05620716702229813\" style=\"background-color:rgba(255, 0, 0, 0.05620716702229813);\"> applied</span><span title=\"0.06424936192224578\" style=\"background-color:rgba(255, 0, 0, 0.06424936192224578);\"> to</span><span title=\"0.13731864290882007\" style=\"background-color:rgba(255, 0, 0, 0.13731864290882007);\"> the</span><span title=\"0.17435882619036158\" style=\"background-color:rgba(255, 0, 0, 0.17435882619036158);\"> possible</span><span title=\"0.16092843236171642\" style=\"background-color:rgba(255, 0, 0, 0.16092843236171642);\"> scenarios</span><span title=\"0.11597866224698035\" style=\"background-color:rgba(255, 0, 0, 0.11597866224698035);\"> outlined</span><span title=\"0.13132416813433676\" style=\"background-color:rgba(255, 0, 0, 0.13132416813433676);\"> by</span><span title=\"0.28735048909310656\" style=\"background-color:rgba(255, 0, 0, 0.28735048909310656);\"> the</span><span title=\"0.4890245486221094\" style=\"background-color:rgba(255, 0, 0, 0.4890245486221094);\"> Intergovernmental</span><span title=\"0.4786434673120295\" style=\"background-color:rgba(255, 0, 0, 0.4786434673120295);\"> Panel</span><span title=\"0.40801646469246017\" style=\"background-color:rgba(255, 0, 0, 0.40801646469246017);\"> on</span><span title=\"0.5162392220754386\" style=\"background-color:rgba(255, 0, 0, 0.5162392220754386);\"> Climate</span><span title=\"0.5042973911738162\" style=\"background-color:rgba(255, 0, 0, 0.5042973911738162);\"> Change</span><span title=\"0.13136198902260834\" style=\"background-color:rgba(255, 0, 0, 0.13136198902260834);\"> (</span><span title=\"0.20088723955978613\" style=\"background-color:rgba(255, 0, 0, 0.20088723955978613);\"> IPCC</span><span title=\"0.062339196497728885\" style=\"background-color:rgba(255, 0, 0, 0.062339196497728885);\"> )</span><span title=\"0.015055068758791637\" style=\"background-color:rgba(255, 0, 0, 0.015055068758791637);\"> ,</span><span title=\"0.03655434142569044\" style=\"background-color:rgba(255, 0, 0, 0.03655434142569044);\"> the</span><span title=\"0.05393333933433178\" style=\"background-color:rgba(255, 0, 0, 0.05393333933433178);\"> researchers</span><span title=\"0.015486700697497642\" style=\"background-color:rgba(255, 0, 0, 0.015486700697497642);\"> found</span><span title=\"0.019109634166689933\" style=\"background-color:rgba(255, 0, 0, 0.019109634166689933);\"> that</span><span title=\"0.03504310535225156\" style=\"background-color:rgba(255, 0, 0, 0.03504310535225156);\"> in</span><span title=\"0.2907002786269218\" style=\"background-color:rgba(255, 0, 0, 0.2907002786269218);\"> 2100</span><span title=\"0.20364730810660095\" style=\"background-color:rgba(255, 0, 0, 0.20364730810660095);\"> sea</span><span title=\"0.20692266570327217\" style=\"background-color:rgba(255, 0, 0, 0.20692266570327217);\"> levels</span><span title=\"0.16739573813549696\" style=\"background-color:rgba(255, 0, 0, 0.16739573813549696);\"> would</span><span title=\"0.2006422652065528\" style=\"background-color:rgba(255, 0, 0, 0.2006422652065528);\"> be</span><span title=\"0.6247003357384635\" style=\"background-color:rgba(255, 0, 0, 0.6247003357384635);text-decoration: underline\"> 0.5–1.4</span><span title=\"0.607023864717212\" style=\"background-color:rgba(255, 0, 0, 0.607023864717212);text-decoration: underline\"> m</span>"
            ],
            "text/plain": [
              "<IPython.core.display.HTML object>"
            ]
          },
          "metadata": {
            "tags": []
          }
        },
        {
          "output_type": "stream",
          "text": [
            "\n"
          ],
          "name": "stdout"
        },
        {
          "output_type": "display_data",
          "data": {
            "text/html": [
              "<span title=\"0.029718359951170895\" style=\"background-color:rgba(255, 0, 0, 0.029718359951170895);\"> However</span><span title=\"0.010116640161330986\" style=\"background-color:rgba(255, 0, 0, 0.010116640161330986);\"> ,</span><span title=\"0.037486771703615175\" style=\"background-color:rgba(255, 0, 0, 0.037486771703615175);\"> the</span><span title=\"0.049619993669476885\" style=\"background-color:rgba(255, 0, 0, 0.049619993669476885);\"> very</span><span title=\"0.06656076343123242\" style=\"background-color:rgba(255, 0, 0, 0.06656076343123242);\"> next</span><span title=\"0.11237810750160662\" style=\"background-color:rgba(255, 0, 0, 0.11237810750160662);\"> Fermat</span><span title=\"0.10155863608576904\" style=\"background-color:rgba(255, 0, 0, 0.10155863608576904);\"> number</span><span title=\"0.3365364664530093\" style=\"background-color:rgba(255, 0, 0, 0.3365364664530093);\"> 232</span><span title=\"0.19361987917851134\" style=\"background-color:rgba(255, 0, 0, 0.19361987917851134);\"> +</span><span title=\"0.25255733262687524\" style=\"background-color:rgba(255, 0, 0, 0.25255733262687524);\"> 1</span><span title=\"0.047098840098931595\" style=\"background-color:rgba(255, 0, 0, 0.047098840098931595);\"> is</span><span title=\"0.1449147177349544\" style=\"background-color:rgba(255, 0, 0, 0.1449147177349544);\"> composite</span><span title=\"0.02628374216907441\" style=\"background-color:rgba(255, 0, 0, 0.02628374216907441);\"> (</span><span title=\"0.14099541375235877\" style=\"background-color:rgba(255, 0, 0, 0.14099541375235877);\"> one</span><span title=\"0.067129188638074\" style=\"background-color:rgba(255, 0, 0, 0.067129188638074);\"> of</span><span title=\"0.07591608190098664\" style=\"background-color:rgba(255, 0, 0, 0.07591608190098664);\"> its</span><span title=\"0.09783613543808456\" style=\"background-color:rgba(255, 0, 0, 0.09783613543808456);\"> prime</span><span title=\"0.09425757081136482\" style=\"background-color:rgba(255, 0, 0, 0.09425757081136482);\"> factors</span><span title=\"0.03349940206255844\" style=\"background-color:rgba(255, 0, 0, 0.03349940206255844);\"> is</span><span title=\"0.5573388032586296\" style=\"background-color:rgba(255, 0, 0, 0.5573388032586296);\"> 641</span><span title=\"0.05783015587063749\" style=\"background-color:rgba(255, 0, 0, 0.05783015587063749);\"> )</span><span title=\"0.016177925976683192\" style=\"background-color:rgba(255, 0, 0, 0.016177925976683192);\"> ,</span><span title=\"0.013936553084749557\" style=\"background-color:rgba(255, 0, 0, 0.013936553084749557);\"> as</span><span title=\"0.16865710350234797\" style=\"background-color:rgba(255, 0, 0, 0.16865710350234797);\"> Euler</span><span title=\"0.05429816246339174\" style=\"background-color:rgba(255, 0, 0, 0.05429816246339174);\"> discovered</span><span title=\"0.06043085482586269\" style=\"background-color:rgba(255, 0, 0, 0.06043085482586269);\"> later</span><span title=\"0.0245979066164467\" style=\"background-color:rgba(255, 0, 0, 0.0245979066164467);\"> ,</span><span title=\"0.02100890558982848\" style=\"background-color:rgba(255, 0, 0, 0.02100890558982848);\"> and</span><span title=\"0.01899990567699216\" style=\"background-color:rgba(255, 0, 0, 0.01899990567699216);\"> in</span><span title=\"0.053820342508542306\" style=\"background-color:rgba(255, 0, 0, 0.053820342508542306);\"> fact</span><span title=\"0.03259651607622467\" style=\"background-color:rgba(255, 0, 0, 0.03259651607622467);\"> no</span><span title=\"0.05343093205953702\" style=\"background-color:rgba(255, 0, 0, 0.05343093205953702);\"> further</span><span title=\"0.08249775229909484\" style=\"background-color:rgba(255, 0, 0, 0.08249775229909484);\"> Fermat</span><span title=\"0.06182363214499014\" style=\"background-color:rgba(255, 0, 0, 0.06182363214499014);\"> numbers</span><span title=\"0.021386761913943772\" style=\"background-color:rgba(255, 0, 0, 0.021386761913943772);\"> are</span><span title=\"0.026342468122210964\" style=\"background-color:rgba(255, 0, 0, 0.026342468122210964);\"> known</span><span title=\"0.03243311624978945\" style=\"background-color:rgba(255, 0, 0, 0.03243311624978945);\"> to</span><span title=\"0.04438639069088989\" style=\"background-color:rgba(255, 0, 0, 0.04438639069088989);\"> be</span><span title=\"0.07809789448648644\" style=\"background-color:rgba(255, 0, 0, 0.07809789448648644);\"> prime</span><span title=\"0.0260389545749018\" style=\"background-color:rgba(255, 0, 0, 0.0260389545749018);\"> .</span>"
            ],
            "text/plain": [
              "<IPython.core.display.HTML object>"
            ]
          },
          "metadata": {
            "tags": []
          }
        },
        {
          "output_type": "stream",
          "text": [
            "\n"
          ],
          "name": "stdout"
        },
        {
          "output_type": "display_data",
          "data": {
            "text/html": [
              "<span title=\"0.03765885480665436\" style=\"background-color:rgba(255, 0, 0, 0.03765885480665436);\"> What</span><span title=\"0.014910753359177522\" style=\"background-color:rgba(255, 0, 0, 0.014910753359177522);\"> is</span><span title=\"0.05014422972346517\" style=\"background-color:rgba(255, 0, 0, 0.05014422972346517);\"> more</span><span title=\"0.01374198051659739\" style=\"background-color:rgba(255, 0, 0, 0.01374198051659739);\"> ,</span><span title=\"0.047711563848751214\" style=\"background-color:rgba(255, 0, 0, 0.047711563848751214);\"> the</span><span title=\"0.0777888365630573\" style=\"background-color:rgba(255, 0, 0, 0.0777888365630573);\"> primes</span><span title=\"0.02697993460700535\" style=\"background-color:rgba(255, 0, 0, 0.02697993460700535);\"> are</span><span title=\"0.04514778322420748\" style=\"background-color:rgba(255, 0, 0, 0.04514778322420748);\"> distributed</span><span title=\"0.06068850751451081\" style=\"background-color:rgba(255, 0, 0, 0.06068850751451081);\"> equally</span><span title=\"0.062205435863824765\" style=\"background-color:rgba(255, 0, 0, 0.062205435863824765);\"> among</span><span title=\"0.0955509387328561\" style=\"background-color:rgba(255, 0, 0, 0.0955509387328561);\"> those</span><span title=\"0.10280736295440474\" style=\"background-color:rgba(255, 0, 0, 0.10280736295440474);\"> rows</span><span title=\"0.03203395829918515\" style=\"background-color:rgba(255, 0, 0, 0.03203395829918515);\"> in</span><span title=\"0.06946716245874077\" style=\"background-color:rgba(255, 0, 0, 0.06946716245874077);\"> the</span><span title=\"0.116118555104888\" style=\"background-color:rgba(255, 0, 0, 0.116118555104888);\"> long</span><span title=\"0.11232347035309939\" style=\"background-color:rgba(255, 0, 0, 0.11232347035309939);\"> run</span><span title=\"0.04430348941235074\" style=\"background-color:rgba(255, 0, 0, 0.04430348941235074);\"> —</span><span title=\"0.12809195588915426\" style=\"background-color:rgba(255, 0, 0, 0.12809195588915426);\"> the</span><span title=\"0.17038686697527405\" style=\"background-color:rgba(255, 0, 0, 0.17038686697527405);\"> density</span><span title=\"0.12869140063640622\" style=\"background-color:rgba(255, 0, 0, 0.12869140063640622);\"> of</span><span title=\"0.14748870856688456\" style=\"background-color:rgba(255, 0, 0, 0.14748870856688456);\"> all</span><span title=\"0.1503405425670314\" style=\"background-color:rgba(255, 0, 0, 0.1503405425670314);\"> primes</span><span title=\"0.1136294673039343\" style=\"background-color:rgba(255, 0, 0, 0.1136294673039343);\"> congruent</span><span title=\"0.10942958288364513\" style=\"background-color:rgba(255, 0, 0, 0.10942958288364513);\"> a</span><span title=\"0.15112163387111302\" style=\"background-color:rgba(255, 0, 0, 0.15112163387111302);\"> modulo</span><span title=\"0.21834688714009948\" style=\"background-color:rgba(255, 0, 0, 0.21834688714009948);\"> 9</span><span title=\"0.04660903837569413\" style=\"background-color:rgba(255, 0, 0, 0.04660903837569413);\"> is</span><span title=\"0.5875368098055564\" style=\"background-color:rgba(255, 0, 0, 0.5875368098055564);text-decoration: underline\"> 1/6</span><span title=\"0.036573264852033986\" style=\"background-color:rgba(255, 0, 0, 0.036573264852033986);\"> .</span>"
            ],
            "text/plain": [
              "<IPython.core.display.HTML object>"
            ]
          },
          "metadata": {
            "tags": []
          }
        },
        {
          "output_type": "stream",
          "text": [
            "\n"
          ],
          "name": "stdout"
        },
        {
          "output_type": "display_data",
          "data": {
            "text/html": [
              "<span title=\"0.08682602291431732\" style=\"background-color:rgba(255, 0, 0, 0.08682602291431732);\"> The</span><span title=\"0.15344554336247768\" style=\"background-color:rgba(255, 0, 0, 0.15344554336247768);\"> unproven</span><span title=\"0.21679297634868772\" style=\"background-color:rgba(255, 0, 0, 0.21679297634868772);\"> Riemann</span><span title=\"0.1809789089567061\" style=\"background-color:rgba(255, 0, 0, 0.1809789089567061);\"> hypothesis</span><span title=\"0.05126175851452965\" style=\"background-color:rgba(255, 0, 0, 0.05126175851452965);\"> ,</span><span title=\"0.03813956384729631\" style=\"background-color:rgba(255, 0, 0, 0.03813956384729631);\"> dating</span><span title=\"0.052828764443893284\" style=\"background-color:rgba(255, 0, 0, 0.052828764443893284);\"> from</span><span title=\"0.5872758873369929\" style=\"background-color:rgba(255, 0, 0, 0.5872758873369929);text-decoration: underline\"> 1859</span><span title=\"0.0323033399512853\" style=\"background-color:rgba(255, 0, 0, 0.0323033399512853);\"> ,</span><span title=\"0.030804363725749295\" style=\"background-color:rgba(255, 0, 0, 0.030804363725749295);\"> states</span><span title=\"0.04385012814728621\" style=\"background-color:rgba(255, 0, 0, 0.04385012814728621);\"> that</span><span title=\"0.0597135418753911\" style=\"background-color:rgba(255, 0, 0, 0.0597135418753911);\"> except</span><span title=\"0.07324964452165902\" style=\"background-color:rgba(255, 0, 0, 0.07324964452165902);\"> for</span><span title=\"0.14166613771968217\" style=\"background-color:rgba(255, 0, 0, 0.14166613771968217);text-decoration: underline\"> s</span><span title=\"0.1594195318966179\" style=\"background-color:rgba(255, 0, 0, 0.1594195318966179);text-decoration: underline\"> =</span><span title=\"0.2533478180089934\" style=\"background-color:rgba(255, 0, 0, 0.2533478180089934);text-decoration: underline\"> −2</span><span title=\"0.12313554567433219\" style=\"background-color:rgba(255, 0, 0, 0.12313554567433219);text-decoration: underline\"> ,</span><span title=\"0.20752828027384068\" style=\"background-color:rgba(255, 0, 0, 0.20752828027384068);text-decoration: underline\"> −4</span><span title=\"0.05987311619249097\" style=\"background-color:rgba(255, 0, 0, 0.05987311619249097);text-decoration: underline\"> ,</span><span title=\"0.052601035962590456\" style=\"background-color:rgba(255, 0, 0, 0.052601035962590456);text-decoration: underline\"> ...</span><span title=\"0.03771959764687969\" style=\"background-color:rgba(255, 0, 0, 0.03771959764687969);text-decoration: underline\"> ,</span><span title=\"0.08228960338705585\" style=\"background-color:rgba(255, 0, 0, 0.08228960338705585);\"> all</span><span title=\"0.11172635234018123\" style=\"background-color:rgba(255, 0, 0, 0.11172635234018123);\"> zeroes</span><span title=\"0.09244743712629987\" style=\"background-color:rgba(255, 0, 0, 0.09244743712629987);\"> of</span><span title=\"0.11786678460579592\" style=\"background-color:rgba(255, 0, 0, 0.11786678460579592);\"> the</span><span title=\"0.13016702674879563\" style=\"background-color:rgba(255, 0, 0, 0.13016702674879563);\"> ζ</span><span title=\"0.15483227625562912\" style=\"background-color:rgba(255, 0, 0, 0.15483227625562912);\"> -</span><span title=\"0.16258205713659765\" style=\"background-color:rgba(255, 0, 0, 0.16258205713659765);\"> function</span><span title=\"0.11319218865539449\" style=\"background-color:rgba(255, 0, 0, 0.11319218865539449);\"> have</span><span title=\"0.22118850335989415\" style=\"background-color:rgba(255, 0, 0, 0.22118850335989415);\"> real</span><span title=\"0.2133891230667848\" style=\"background-color:rgba(255, 0, 0, 0.2133891230667848);\"> part</span><span title=\"0.20865500478875817\" style=\"background-color:rgba(255, 0, 0, 0.20865500478875817);\"> equal</span><span title=\"0.19585106595804191\" style=\"background-color:rgba(255, 0, 0, 0.19585106595804191);\"> to</span><span title=\"0.38289355910821204\" style=\"background-color:rgba(255, 0, 0, 0.38289355910821204);\"> 1/2</span><span title=\"0.03742097834814405\" style=\"background-color:rgba(255, 0, 0, 0.03742097834814405);\"> .</span>"
            ],
            "text/plain": [
              "<IPython.core.display.HTML object>"
            ]
          },
          "metadata": {
            "tags": []
          }
        },
        {
          "output_type": "stream",
          "text": [
            "\n"
          ],
          "name": "stdout"
        },
        {
          "output_type": "display_data",
          "data": {
            "text/html": [
              "<span title=\"0.02087452183096017\" style=\"background-color:rgba(255, 0, 0, 0.02087452183096017);\"> In</span><span title=\"0.04256267491937425\" style=\"background-color:rgba(255, 0, 0, 0.04256267491937425);\"> works</span><span title=\"0.02542483273738548\" style=\"background-color:rgba(255, 0, 0, 0.02542483273738548);\"> such</span><span title=\"0.0263616032812899\" style=\"background-color:rgba(255, 0, 0, 0.0263616032812899);\"> as</span><span title=\"0.5906193258506904\" style=\"background-color:rgba(255, 0, 0, 0.5906193258506904);text-decoration: underline\"> La</span><span title=\"0.5993943192228988\" style=\"background-color:rgba(255, 0, 0, 0.5993943192228988);text-decoration: underline\"> Nativité</span><span title=\"0.5980703911680018\" style=\"background-color:rgba(255, 0, 0, 0.5980703911680018);text-decoration: underline\"> du</span><span title=\"0.5849994301309538\" style=\"background-color:rgba(255, 0, 0, 0.5849994301309538);text-decoration: underline\"> Seigneur</span><span title=\"0.11980988358681309\" style=\"background-color:rgba(255, 0, 0, 0.11980988358681309);\"> (</span><span title=\"0.39675507023012924\" style=\"background-color:rgba(255, 0, 0, 0.39675507023012924);\"> 1935</span><span title=\"0.06071060503961449\" style=\"background-color:rgba(255, 0, 0, 0.06071060503961449);\"> )</span><span title=\"0.050538780251794375\" style=\"background-color:rgba(255, 0, 0, 0.050538780251794375);\"> and</span><span title=\"0.5093718593339549\" style=\"background-color:rgba(255, 0, 0, 0.5093718593339549);text-decoration: underline\"> Quatre</span><span title=\"0.48101393551666394\" style=\"background-color:rgba(255, 0, 0, 0.48101393551666394);text-decoration: underline\"> études</span><span title=\"0.4864236172132169\" style=\"background-color:rgba(255, 0, 0, 0.4864236172132169);text-decoration: underline\"> de</span><span title=\"0.5012668208361597\" style=\"background-color:rgba(255, 0, 0, 0.5012668208361597);text-decoration: underline\"> rythme</span><span title=\"0.16353188784859576\" style=\"background-color:rgba(255, 0, 0, 0.16353188784859576);\"> (</span><span title=\"0.312513361550725\" style=\"background-color:rgba(255, 0, 0, 0.312513361550725);\"> 1949–50</span><span title=\"0.06140063861962581\" style=\"background-color:rgba(255, 0, 0, 0.06140063861962581);\"> )</span><span title=\"0.013954442717500286\" style=\"background-color:rgba(255, 0, 0, 0.013954442717500286);\"> ,</span><span title=\"0.019727378567517738\" style=\"background-color:rgba(255, 0, 0, 0.019727378567517738);\"> he</span><span title=\"0.02976367479472933\" style=\"background-color:rgba(255, 0, 0, 0.02976367479472933);\"> simultaneously</span><span title=\"0.03566319658218582\" style=\"background-color:rgba(255, 0, 0, 0.03566319658218582);\"> employs</span><span title=\"0.0762049004729975\" style=\"background-color:rgba(255, 0, 0, 0.0762049004729975);\"> motifs</span><span title=\"0.032495562740666784\" style=\"background-color:rgba(255, 0, 0, 0.032495562740666784);\"> with</span><span title=\"0.07233054951748383\" style=\"background-color:rgba(255, 0, 0, 0.07233054951748383);\"> lengths</span><span title=\"0.0358858119051318\" style=\"background-color:rgba(255, 0, 0, 0.0358858119051318);\"> given</span><span title=\"0.03655417393402087\" style=\"background-color:rgba(255, 0, 0, 0.03655417393402087);\"> by</span><span title=\"0.07660448457173472\" style=\"background-color:rgba(255, 0, 0, 0.07660448457173472);\"> different</span><span title=\"0.0711281204769342\" style=\"background-color:rgba(255, 0, 0, 0.0711281204769342);\"> prime</span><span title=\"0.06394492699968919\" style=\"background-color:rgba(255, 0, 0, 0.06394492699968919);\"> numbers</span><span title=\"0.039585855201190775\" style=\"background-color:rgba(255, 0, 0, 0.039585855201190775);\"> to</span><span title=\"0.06961817638439645\" style=\"background-color:rgba(255, 0, 0, 0.06961817638439645);\"> create</span><span title=\"0.12005767635612447\" style=\"background-color:rgba(255, 0, 0, 0.12005767635612447);\"> unpredictable</span><span title=\"0.10565462818592156\" style=\"background-color:rgba(255, 0, 0, 0.10565462818592156);\"> rhythms</span><span title=\"0.030748942901857056\" style=\"background-color:rgba(255, 0, 0, 0.030748942901857056);\"> :</span><span title=\"0.06993684133400556\" style=\"background-color:rgba(255, 0, 0, 0.06993684133400556);\"> the</span><span title=\"0.13885383174995922\" style=\"background-color:rgba(255, 0, 0, 0.13885383174995922);\"> primes</span><span title=\"0.3452655593986804\" style=\"background-color:rgba(255, 0, 0, 0.3452655593986804);\"> 41</span><span title=\"0.0997104740274902\" style=\"background-color:rgba(255, 0, 0, 0.0997104740274902);\"> ,</span><span title=\"0.26313694691209355\" style=\"background-color:rgba(255, 0, 0, 0.26313694691209355);\"> 43</span><span title=\"0.056284888455290706\" style=\"background-color:rgba(255, 0, 0, 0.056284888455290706);\"> ,</span><span title=\"0.18850316822591795\" style=\"background-color:rgba(255, 0, 0, 0.18850316822591795);\"> 47</span><span title=\"0.07573183760199577\" style=\"background-color:rgba(255, 0, 0, 0.07573183760199577);\"> and</span><span title=\"0.1694664351309945\" style=\"background-color:rgba(255, 0, 0, 0.1694664351309945);\"> 53</span><span title=\"0.03463026170857061\" style=\"background-color:rgba(255, 0, 0, 0.03463026170857061);\"> appear</span><span title=\"0.038776121101913946\" style=\"background-color:rgba(255, 0, 0, 0.038776121101913946);\"> in</span><span title=\"0.06903624481922509\" style=\"background-color:rgba(255, 0, 0, 0.06903624481922509);text-decoration: underline\"> the</span><span title=\"0.10432735198513854\" style=\"background-color:rgba(255, 0, 0, 0.10432735198513854);text-decoration: underline\"> third</span><span title=\"0.10819392002440892\" style=\"background-color:rgba(255, 0, 0, 0.10819392002440892);text-decoration: underline\"> étude</span><span title=\"0.021308778275946533\" style=\"background-color:rgba(255, 0, 0, 0.021308778275946533);\"> ,</span><span title=\"0.025803128953403445\" style=\"background-color:rgba(255, 0, 0, 0.025803128953403445);\"> \"</span><span title=\"0.5033492260998844\" style=\"background-color:rgba(255, 0, 0, 0.5033492260998844);\"> Neumes</span><span title=\"0.47332597491548833\" style=\"background-color:rgba(255, 0, 0, 0.47332597491548833);\"> rythmiques</span><span title=\"0.22640156439982853\" style=\"background-color:rgba(255, 0, 0, 0.22640156439982853);\"> \"</span><span title=\"0.07518951890512815\" style=\"background-color:rgba(255, 0, 0, 0.07518951890512815);\"> .</span>"
            ],
            "text/plain": [
              "<IPython.core.display.HTML object>"
            ]
          },
          "metadata": {
            "tags": []
          }
        },
        {
          "output_type": "stream",
          "text": [
            "\n"
          ],
          "name": "stdout"
        },
        {
          "output_type": "display_data",
          "data": {
            "text/html": [
              "<span title=\"0.03582269990801189\" style=\"background-color:rgba(255, 0, 0, 0.03582269990801189);\"> From</span><span title=\"0.14404768854017194\" style=\"background-color:rgba(255, 0, 0, 0.14404768854017194);\"> Wijk</span><span title=\"0.048620432852663854\" style=\"background-color:rgba(255, 0, 0, 0.048620432852663854);\"> bij</span><span title=\"0.25613302351488765\" style=\"background-color:rgba(255, 0, 0, 0.25613302351488765);\"> Duurstede</span><span title=\"0.020831366986813808\" style=\"background-color:rgba(255, 0, 0, 0.020831366986813808);\"> ,</span><span title=\"0.04238592598121147\" style=\"background-color:rgba(255, 0, 0, 0.04238592598121147);\"> the</span><span title=\"0.07720742490267425\" style=\"background-color:rgba(255, 0, 0, 0.07720742490267425);\"> old</span><span title=\"0.07879096842221726\" style=\"background-color:rgba(255, 0, 0, 0.07879096842221726);\"> north</span><span title=\"0.07030200539792184\" style=\"background-color:rgba(255, 0, 0, 0.07030200539792184);\"> branch</span><span title=\"0.04868649988421647\" style=\"background-color:rgba(255, 0, 0, 0.04868649988421647);\"> of</span><span title=\"0.06464068921404684\" style=\"background-color:rgba(255, 0, 0, 0.06464068921404684);\"> the</span><span title=\"0.15358680576042816\" style=\"background-color:rgba(255, 0, 0, 0.15358680576042816);\"> Rhine</span><span title=\"0.023208220680936913\" style=\"background-color:rgba(255, 0, 0, 0.023208220680936913);\"> is</span><span title=\"0.04505493472475447\" style=\"background-color:rgba(255, 0, 0, 0.04505493472475447);\"> called</span><span title=\"0.7085231305972861\" style=\"background-color:rgba(255, 0, 0, 0.7085231305972861);text-decoration: underline\"> Kromme</span><span title=\"0.6836502927248072\" style=\"background-color:rgba(255, 0, 0, 0.6836502927248072);text-decoration: underline\"> Rijn</span><span title=\"0.20100860701696088\" style=\"background-color:rgba(255, 0, 0, 0.20100860701696088);\"> (</span><span title=\"0.18906659983839644\" style=\"background-color:rgba(255, 0, 0, 0.18906659983839644);\"> \"</span><span title=\"0.673507752532989\" style=\"background-color:rgba(255, 0, 0, 0.673507752532989);text-decoration: underline\"> Bent</span><span title=\"0.6726567919301907\" style=\"background-color:rgba(255, 0, 0, 0.6726567919301907);text-decoration: underline\"> Rhine</span><span title=\"0.44200548994225747\" style=\"background-color:rgba(255, 0, 0, 0.44200548994225747);\"> \"</span><span title=\"0.2613315711975189\" style=\"background-color:rgba(255, 0, 0, 0.2613315711975189);\"> )</span><span title=\"0.2471018883723819\" style=\"background-color:rgba(255, 0, 0, 0.2471018883723819);\"> past</span><span title=\"0.3974916484762515\" style=\"background-color:rgba(255, 0, 0, 0.3974916484762515);\"> Utrecht</span><span title=\"0.16178682700983454\" style=\"background-color:rgba(255, 0, 0, 0.16178682700983454);\"> ,</span><span title=\"0.17420592723346232\" style=\"background-color:rgba(255, 0, 0, 0.17420592723346232);\"> first</span><span title=\"0.41488450265825016\" style=\"background-color:rgba(255, 0, 0, 0.41488450265825016);\"> Leidse</span><span title=\"0.4164606731031786\" style=\"background-color:rgba(255, 0, 0, 0.4164606731031786);\"> Rijn</span><span title=\"0.17055901807956633\" style=\"background-color:rgba(255, 0, 0, 0.17055901807956633);\"> (</span><span title=\"0.20343638346952594\" style=\"background-color:rgba(255, 0, 0, 0.20343638346952594);\"> \"</span><span title=\"0.476349138414543\" style=\"background-color:rgba(255, 0, 0, 0.476349138414543);\"> Rhine</span><span title=\"0.4085343637380944\" style=\"background-color:rgba(255, 0, 0, 0.4085343637380944);\"> of</span><span title=\"0.5167212039722249\" style=\"background-color:rgba(255, 0, 0, 0.5167212039722249);\"> Leiden</span><span title=\"0.232951465216288\" style=\"background-color:rgba(255, 0, 0, 0.232951465216288);\"> \"</span><span title=\"0.14448365092913346\" style=\"background-color:rgba(255, 0, 0, 0.14448365092913346);\"> )</span><span title=\"0.12129537383178604\" style=\"background-color:rgba(255, 0, 0, 0.12129537383178604);\"> and</span><span title=\"0.12547300452614904\" style=\"background-color:rgba(255, 0, 0, 0.12547300452614904);\"> then</span><span title=\"0.10341103634941679\" style=\"background-color:rgba(255, 0, 0, 0.10341103634941679);\"> ,</span><span title=\"0.3342383347797649\" style=\"background-color:rgba(255, 0, 0, 0.3342383347797649);text-decoration: underline\"> Oude</span><span title=\"0.3475563404773625\" style=\"background-color:rgba(255, 0, 0, 0.3475563404773625);text-decoration: underline\"> Rijn</span><span title=\"0.09548990251088868\" style=\"background-color:rgba(255, 0, 0, 0.09548990251088868);\"> (</span><span title=\"0.10445835446433419\" style=\"background-color:rgba(255, 0, 0, 0.10445835446433419);\"> \"</span><span title=\"0.536305759196064\" style=\"background-color:rgba(255, 0, 0, 0.536305759196064);text-decoration: underline\"> Old</span><span title=\"0.5377764913299055\" style=\"background-color:rgba(255, 0, 0, 0.5377764913299055);text-decoration: underline\"> Rhine</span><span title=\"0.3100161924984801\" style=\"background-color:rgba(255, 0, 0, 0.3100161924984801);\"> \"</span><span title=\"0.13442126478945085\" style=\"background-color:rgba(255, 0, 0, 0.13442126478945085);\"> )</span><span title=\"0.03935049139263047\" style=\"background-color:rgba(255, 0, 0, 0.03935049139263047);\"> .</span>"
            ],
            "text/plain": [
              "<IPython.core.display.HTML object>"
            ]
          },
          "metadata": {
            "tags": []
          }
        },
        {
          "output_type": "stream",
          "text": [
            "\n"
          ],
          "name": "stdout"
        },
        {
          "output_type": "display_data",
          "data": {
            "text/html": [
              "<span title=\"0.15413466745024385\" style=\"background-color:rgba(255, 0, 0, 0.15413466745024385);\"> The</span><span title=\"0.2084747435024637\" style=\"background-color:rgba(255, 0, 0, 0.2084747435024637);\"> Confederation</span><span title=\"0.16059949942543442\" style=\"background-color:rgba(255, 0, 0, 0.16059949942543442);\"> of</span><span title=\"0.16833468501927062\" style=\"background-color:rgba(255, 0, 0, 0.16833468501927062);\"> the</span><span title=\"0.19479171305611334\" style=\"background-color:rgba(255, 0, 0, 0.19479171305611334);\"> Rhine</span><span title=\"0.017621567432739245\" style=\"background-color:rgba(255, 0, 0, 0.017621567432739245);\"> was</span><span title=\"0.024283339749937953\" style=\"background-color:rgba(255, 0, 0, 0.024283339749937953);\"> established</span><span title=\"0.05764859818085655\" style=\"background-color:rgba(255, 0, 0, 0.05764859818085655);\"> by</span><span title=\"0.3216609122556622\" style=\"background-color:rgba(255, 0, 0, 0.3216609122556622);text-decoration: underline\"> Napoleon</span><span title=\"0.02227986782579055\" style=\"background-color:rgba(255, 0, 0, 0.02227986782579055);\"> ,</span><span title=\"0.020357453404914957\" style=\"background-color:rgba(255, 0, 0, 0.020357453404914957);\"> as</span><span title=\"0.060487839917195016\" style=\"background-color:rgba(255, 0, 0, 0.060487839917195016);\"> a</span><span title=\"0.14281380352992956\" style=\"background-color:rgba(255, 0, 0, 0.14281380352992956);\"> French</span><span title=\"0.13343415305722517\" style=\"background-color:rgba(255, 0, 0, 0.13343415305722517);\"> client</span><span title=\"0.1367579303538451\" style=\"background-color:rgba(255, 0, 0, 0.1367579303538451);\"> state</span><span title=\"0.028640754649415092\" style=\"background-color:rgba(255, 0, 0, 0.028640754649415092);\"> ,</span><span title=\"0.02247945679244477\" style=\"background-color:rgba(255, 0, 0, 0.02247945679244477);\"> in</span><span title=\"0.44293485904760405\" style=\"background-color:rgba(255, 0, 0, 0.44293485904760405);text-decoration: underline\"> 1806</span><span title=\"0.05409793872984247\" style=\"background-color:rgba(255, 0, 0, 0.05409793872984247);\"> and</span><span title=\"0.044367243647574425\" style=\"background-color:rgba(255, 0, 0, 0.044367243647574425);\"> lasted</span><span title=\"0.04800640272818875\" style=\"background-color:rgba(255, 0, 0, 0.04800640272818875);\"> until</span><span title=\"0.6639959182962907\" style=\"background-color:rgba(255, 0, 0, 0.6639959182962907);text-decoration: underline\"> 1814</span><span title=\"0.05733972831008149\" style=\"background-color:rgba(255, 0, 0, 0.05733972831008149);\"> ,</span><span title=\"0.04923836279878792\" style=\"background-color:rgba(255, 0, 0, 0.04923836279878792);\"> during</span><span title=\"0.05141057245670443\" style=\"background-color:rgba(255, 0, 0, 0.05141057245670443);\"> which</span><span title=\"0.07017478662003257\" style=\"background-color:rgba(255, 0, 0, 0.07017478662003257);\"> time</span><span title=\"0.06309926849592548\" style=\"background-color:rgba(255, 0, 0, 0.06309926849592548);\"> it</span><span title=\"0.07555128051131914\" style=\"background-color:rgba(255, 0, 0, 0.07555128051131914);\"> served</span><span title=\"0.08237105235609395\" style=\"background-color:rgba(255, 0, 0, 0.08237105235609395);\"> as</span><span title=\"0.13503269173276994\" style=\"background-color:rgba(255, 0, 0, 0.13503269173276994);\"> a</span><span title=\"0.1798092280607016\" style=\"background-color:rgba(255, 0, 0, 0.1798092280607016);\"> significant</span><span title=\"0.18761336286468824\" style=\"background-color:rgba(255, 0, 0, 0.18761336286468824);\"> source</span><span title=\"0.16029844724650155\" style=\"background-color:rgba(255, 0, 0, 0.16029844724650155);\"> of</span><span title=\"0.19834312158544065\" style=\"background-color:rgba(255, 0, 0, 0.19834312158544065);\"> resources</span><span title=\"0.14752006715299243\" style=\"background-color:rgba(255, 0, 0, 0.14752006715299243);\"> and</span><span title=\"0.16766500477233953\" style=\"background-color:rgba(255, 0, 0, 0.16766500477233953);\"> military</span><span title=\"0.14821541389362342\" style=\"background-color:rgba(255, 0, 0, 0.14821541389362342);\"> manpower</span><span title=\"0.10176719889454096\" style=\"background-color:rgba(255, 0, 0, 0.10176719889454096);\"> for</span><span title=\"0.11881149701999905\" style=\"background-color:rgba(255, 0, 0, 0.11881149701999905);\"> the</span><span title=\"0.19208057190667485\" style=\"background-color:rgba(255, 0, 0, 0.19208057190667485);\"> First</span><span title=\"0.20499129408468048\" style=\"background-color:rgba(255, 0, 0, 0.20499129408468048);\"> French</span><span title=\"0.2046018310065702\" style=\"background-color:rgba(255, 0, 0, 0.2046018310065702);\"> Empire</span><span title=\"0.033168990173577766\" style=\"background-color:rgba(255, 0, 0, 0.033168990173577766);\"> .</span>"
            ],
            "text/plain": [
              "<IPython.core.display.HTML object>"
            ]
          },
          "metadata": {
            "tags": []
          }
        },
        {
          "output_type": "stream",
          "text": [
            "\n"
          ],
          "name": "stdout"
        },
        {
          "output_type": "display_data",
          "data": {
            "text/html": [
              "<span title=\"0.07906425424031052\" style=\"background-color:rgba(255, 0, 0, 0.07906425424031052);\"> The</span><span title=\"0.0882819034053018\" style=\"background-color:rgba(255, 0, 0, 0.0882819034053018);\"> allies</span><span title=\"0.02497380946478292\" style=\"background-color:rgba(255, 0, 0, 0.02497380946478292);\"> left</span><span title=\"0.06682479606676874\" style=\"background-color:rgba(255, 0, 0, 0.06682479606676874);\"> the</span><span title=\"0.18081491324329593\" style=\"background-color:rgba(255, 0, 0, 0.18081491324329593);\"> Rhineland</span><span title=\"0.019222854731668227\" style=\"background-color:rgba(255, 0, 0, 0.019222854731668227);\"> ,</span><span title=\"0.01917010533780837\" style=\"background-color:rgba(255, 0, 0, 0.01917010533780837);\"> in</span><span title=\"0.49356272031690107\" style=\"background-color:rgba(255, 0, 0, 0.49356272031690107);text-decoration: underline\"> 1930</span><span title=\"0.04371803324045388\" style=\"background-color:rgba(255, 0, 0, 0.04371803324045388);\"> and</span><span title=\"0.0670716746961494\" style=\"background-color:rgba(255, 0, 0, 0.0670716746961494);\"> the</span><span title=\"0.17302595032249246\" style=\"background-color:rgba(255, 0, 0, 0.17302595032249246);\"> German</span><span title=\"0.11066928855677702\" style=\"background-color:rgba(255, 0, 0, 0.11066928855677702);\"> army</span><span title=\"0.03533904792391278\" style=\"background-color:rgba(255, 0, 0, 0.03533904792391278);\"> re</span><span title=\"0.03459253534703476\" style=\"background-color:rgba(255, 0, 0, 0.03459253534703476);\"> -</span><span title=\"0.025873779677646383\" style=\"background-color:rgba(255, 0, 0, 0.025873779677646383);\"> occupied</span><span title=\"0.03004196016135071\" style=\"background-color:rgba(255, 0, 0, 0.03004196016135071);\"> it</span><span title=\"0.029083742524482616\" style=\"background-color:rgba(255, 0, 0, 0.029083742524482616);\"> in</span><span title=\"0.5305664180663074\" style=\"background-color:rgba(255, 0, 0, 0.5305664180663074);text-decoration: underline\"> 1936</span><span title=\"0.017506184741435754\" style=\"background-color:rgba(255, 0, 0, 0.017506184741435754);\"> ,</span><span title=\"0.01484666547208112\" style=\"background-color:rgba(255, 0, 0, 0.01484666547208112);\"> which</span><span title=\"0.014915520028720507\" style=\"background-color:rgba(255, 0, 0, 0.014915520028720507);\"> was</span><span title=\"0.04807516038643585\" style=\"background-color:rgba(255, 0, 0, 0.04807516038643585);\"> enormously</span><span title=\"0.0657885084727031\" style=\"background-color:rgba(255, 0, 0, 0.0657885084727031);\"> popular</span><span title=\"0.045663585258123834\" style=\"background-color:rgba(255, 0, 0, 0.045663585258123834);\"> in</span><span title=\"0.18824966985186994\" style=\"background-color:rgba(255, 0, 0, 0.18824966985186994);\"> Germany</span><span title=\"0.017281539306368145\" style=\"background-color:rgba(255, 0, 0, 0.017281539306368145);\"> .</span>"
            ],
            "text/plain": [
              "<IPython.core.display.HTML object>"
            ]
          },
          "metadata": {
            "tags": []
          }
        },
        {
          "output_type": "stream",
          "text": [
            "\n"
          ],
          "name": "stdout"
        },
        {
          "output_type": "display_data",
          "data": {
            "text/html": [
              "<span title=\"0.03976137645887698\" style=\"background-color:rgba(255, 0, 0, 0.03976137645887698);\"> The</span><span title=\"0.05678937843567645\" style=\"background-color:rgba(255, 0, 0, 0.05678937843567645);\"> first</span><span title=\"0.055088530858265525\" style=\"background-color:rgba(255, 0, 0, 0.055088530858265525);\"> meeting</span><span title=\"0.03566179781941152\" style=\"background-color:rgba(255, 0, 0, 0.03566179781941152);\"> of</span><span title=\"0.04756254972759642\" style=\"background-color:rgba(255, 0, 0, 0.04756254972759642);\"> the</span><span title=\"0.06888306433236024\" style=\"background-color:rgba(255, 0, 0, 0.06888306433236024);text-decoration: underline\"> new</span><span title=\"0.08724692498441462\" style=\"background-color:rgba(255, 0, 0, 0.08724692498441462);text-decoration: underline\"> Parliament</span><span title=\"0.013921965667492101\" style=\"background-color:rgba(255, 0, 0, 0.013921965667492101);\"> took</span><span title=\"0.04599522880960499\" style=\"background-color:rgba(255, 0, 0, 0.04599522880960499);\"> place</span><span title=\"0.023352829200569504\" style=\"background-color:rgba(255, 0, 0, 0.023352829200569504);\"> on</span><span title=\"0.6556769609182308\" style=\"background-color:rgba(255, 0, 0, 0.6556769609182308);\"> 12</span><span title=\"0.5777340067896196\" style=\"background-color:rgba(255, 0, 0, 0.5777340067896196);\"> May</span><span title=\"0.5891195765663869\" style=\"background-color:rgba(255, 0, 0, 0.5891195765663869);\"> 1999</span><span title=\"0.038815094746114144\" style=\"background-color:rgba(255, 0, 0, 0.038815094746114144);\"> .</span>"
            ],
            "text/plain": [
              "<IPython.core.display.HTML object>"
            ]
          },
          "metadata": {
            "tags": []
          }
        },
        {
          "output_type": "stream",
          "text": [
            "\n"
          ],
          "name": "stdout"
        },
        {
          "output_type": "display_data",
          "data": {
            "text/html": [
              "<span title=\"0.3296063632808452\" style=\"background-color:rgba(255, 0, 0, 0.3296063632808452);text-decoration: underline\"> Queen</span><span title=\"0.3481514229414671\" style=\"background-color:rgba(255, 0, 0, 0.3481514229414671);text-decoration: underline\"> Elizabeth</span><span title=\"0.32660743316707913\" style=\"background-color:rgba(255, 0, 0, 0.32660743316707913);text-decoration: underline\"> II</span><span title=\"0.04669573493172197\" style=\"background-color:rgba(255, 0, 0, 0.04669573493172197);\"> opened</span><span title=\"0.0680652269824895\" style=\"background-color:rgba(255, 0, 0, 0.0680652269824895);\"> the</span><span title=\"0.11151302340781512\" style=\"background-color:rgba(255, 0, 0, 0.11151302340781512);\"> new</span><span title=\"0.10230947616300862\" style=\"background-color:rgba(255, 0, 0, 0.10230947616300862);\"> building</span><span title=\"0.051333614102124364\" style=\"background-color:rgba(255, 0, 0, 0.051333614102124364);\"> on</span><span title=\"0.6220765986070148\" style=\"background-color:rgba(255, 0, 0, 0.6220765986070148);text-decoration: underline\"> 9</span><span title=\"0.5948579467854204\" style=\"background-color:rgba(255, 0, 0, 0.5948579467854204);text-decoration: underline\"> October</span><span title=\"0.586716906715591\" style=\"background-color:rgba(255, 0, 0, 0.586716906715591);text-decoration: underline\"> 2004</span><span title=\"0.04998054579596912\" style=\"background-color:rgba(255, 0, 0, 0.04998054579596912);\"> .</span>"
            ],
            "text/plain": [
              "<IPython.core.display.HTML object>"
            ]
          },
          "metadata": {
            "tags": []
          }
        },
        {
          "output_type": "stream",
          "text": [
            "\n"
          ],
          "name": "stdout"
        },
        {
          "output_type": "display_data",
          "data": {
            "text/html": [
              "<span title=\"0.026550172140680763\" style=\"background-color:rgba(255, 0, 0, 0.026550172140680763);\"> There</span><span title=\"0.014976310808826998\" style=\"background-color:rgba(255, 0, 0, 0.014976310808826998);\"> are</span><span title=\"0.6111091871662655\" style=\"background-color:rgba(255, 0, 0, 0.6111091871662655);text-decoration: underline\"> 131</span><span title=\"0.21450437677806966\" style=\"background-color:rgba(255, 0, 0, 0.21450437677806966);\"> seats</span><span title=\"0.11538872773080161\" style=\"background-color:rgba(255, 0, 0, 0.11538872773080161);\"> in</span><span title=\"0.13357850384556164\" style=\"background-color:rgba(255, 0, 0, 0.13357850384556164);\"> the</span><span title=\"0.1851376079613345\" style=\"background-color:rgba(255, 0, 0, 0.1851376079613345);text-decoration: underline\"> debating</span><span title=\"0.19647489862143183\" style=\"background-color:rgba(255, 0, 0, 0.19647489862143183);\"> chamber</span><span title=\"0.04894171505565443\" style=\"background-color:rgba(255, 0, 0, 0.04894171505565443);\"> .</span>"
            ],
            "text/plain": [
              "<IPython.core.display.HTML object>"
            ]
          },
          "metadata": {
            "tags": []
          }
        },
        {
          "output_type": "stream",
          "text": [
            "\n"
          ],
          "name": "stdout"
        },
        {
          "output_type": "display_data",
          "data": {
            "text/html": [
              "<span title=\"0.4494894163511807\" style=\"background-color:rgba(255, 0, 0, 0.4494894163511807);text-decoration: underline\"> The</span><span title=\"0.6766374373826627\" style=\"background-color:rgba(255, 0, 0, 0.6766374373826627);text-decoration: underline\"> Scotland</span><span title=\"0.6565511278763111\" style=\"background-color:rgba(255, 0, 0, 0.6565511278763111);text-decoration: underline\"> Act</span><span title=\"0.6419333570774562\" style=\"background-color:rgba(255, 0, 0, 0.6419333570774562);text-decoration: underline\"> 1998</span><span title=\"0.06701837044586094\" style=\"background-color:rgba(255, 0, 0, 0.06701837044586094);\"> ,</span><span title=\"0.04700074440453136\" style=\"background-color:rgba(255, 0, 0, 0.04700074440453136);\"> which</span><span title=\"0.032066246396556086\" style=\"background-color:rgba(255, 0, 0, 0.032066246396556086);\"> was</span><span title=\"0.047121358765475484\" style=\"background-color:rgba(255, 0, 0, 0.047121358765475484);\"> passed</span><span title=\"0.056336715913104934\" style=\"background-color:rgba(255, 0, 0, 0.056336715913104934);\"> by</span><span title=\"0.14901736376766794\" style=\"background-color:rgba(255, 0, 0, 0.14901736376766794);text-decoration: underline\"> the</span><span title=\"0.2302800278317801\" style=\"background-color:rgba(255, 0, 0, 0.2302800278317801);text-decoration: underline\"> Parliament</span><span title=\"0.17782216634319517\" style=\"background-color:rgba(255, 0, 0, 0.17782216634319517);text-decoration: underline\"> of</span><span title=\"0.2042763410683294\" style=\"background-color:rgba(255, 0, 0, 0.2042763410683294);text-decoration: underline\"> the</span><span title=\"0.2916872714032768\" style=\"background-color:rgba(255, 0, 0, 0.2916872714032768);text-decoration: underline\"> United</span><span title=\"0.2858158004755325\" style=\"background-color:rgba(255, 0, 0, 0.2858158004755325);text-decoration: underline\"> Kingdom</span><span title=\"0.17329025478241158\" style=\"background-color:rgba(255, 0, 0, 0.17329025478241158);\"> and</span><span title=\"0.17342401943039473\" style=\"background-color:rgba(255, 0, 0, 0.17342401943039473);\"> given</span><span title=\"0.20026454803475216\" style=\"background-color:rgba(255, 0, 0, 0.20026454803475216);\"> royal</span><span title=\"0.17105878855088902\" style=\"background-color:rgba(255, 0, 0, 0.17105878855088902);\"> assent</span><span title=\"0.09129813547221687\" style=\"background-color:rgba(255, 0, 0, 0.09129813547221687);\"> by</span><span title=\"0.3548497817360412\" style=\"background-color:rgba(255, 0, 0, 0.3548497817360412);text-decoration: underline\"> Queen</span><span title=\"0.3492783115496281\" style=\"background-color:rgba(255, 0, 0, 0.3492783115496281);text-decoration: underline\"> Elizabeth</span><span title=\"0.32827564528552544\" style=\"background-color:rgba(255, 0, 0, 0.32827564528552544);text-decoration: underline\"> II</span><span title=\"0.10079518815851127\" style=\"background-color:rgba(255, 0, 0, 0.10079518815851127);\"> on</span><span title=\"0.5769160350649657\" style=\"background-color:rgba(255, 0, 0, 0.5769160350649657);\"> 19</span><span title=\"0.5032501938196724\" style=\"background-color:rgba(255, 0, 0, 0.5032501938196724);\"> November</span><span title=\"0.5055099751294323\" style=\"background-color:rgba(255, 0, 0, 0.5055099751294323);\"> 1998</span><span title=\"0.0780295421059823\" style=\"background-color:rgba(255, 0, 0, 0.0780295421059823);\"> ,</span><span title=\"0.07640877998414516\" style=\"background-color:rgba(255, 0, 0, 0.07640877998414516);\"> governs</span><span title=\"0.13762666629473103\" style=\"background-color:rgba(255, 0, 0, 0.13762666629473103);\"> the</span><span title=\"0.17719759749611763\" style=\"background-color:rgba(255, 0, 0, 0.17719759749611763);\"> functions</span><span title=\"0.12650750938762295\" style=\"background-color:rgba(255, 0, 0, 0.12650750938762295);\"> and</span><span title=\"0.13163033998435647\" style=\"background-color:rgba(255, 0, 0, 0.13163033998435647);\"> role</span><span title=\"0.09412907493981852\" style=\"background-color:rgba(255, 0, 0, 0.09412907493981852);\"> of</span><span title=\"0.1284105557989114\" style=\"background-color:rgba(255, 0, 0, 0.1284105557989114);\"> the</span><span title=\"0.2040938959475032\" style=\"background-color:rgba(255, 0, 0, 0.2040938959475032);\"> Scottish</span><span title=\"0.18014860624496534\" style=\"background-color:rgba(255, 0, 0, 0.18014860624496534);\"> Parliament</span><span title=\"0.06355477553756435\" style=\"background-color:rgba(255, 0, 0, 0.06355477553756435);\"> and</span><span title=\"0.06568216262175487\" style=\"background-color:rgba(255, 0, 0, 0.06568216262175487);\"> delimits</span><span title=\"0.08212288799834246\" style=\"background-color:rgba(255, 0, 0, 0.08212288799834246);\"> its</span><span title=\"0.13178245776879807\" style=\"background-color:rgba(255, 0, 0, 0.13178245776879807);\"> legislative</span><span title=\"0.1306464714360197\" style=\"background-color:rgba(255, 0, 0, 0.1306464714360197);\"> competence</span><span title=\"0.030471026472637545\" style=\"background-color:rgba(255, 0, 0, 0.030471026472637545);\"> .</span>"
            ],
            "text/plain": [
              "<IPython.core.display.HTML object>"
            ]
          },
          "metadata": {
            "tags": []
          }
        },
        {
          "output_type": "stream",
          "text": [
            "\n"
          ],
          "name": "stdout"
        },
        {
          "output_type": "display_data",
          "data": {
            "text/html": [
              "<span title=\"0.02687917154645593\" style=\"background-color:rgba(255, 0, 0, 0.02687917154645593);\"> He</span><span title=\"0.014560577334436747\" style=\"background-color:rgba(255, 0, 0, 0.014560577334436747);\"> came</span><span title=\"0.031042362498929554\" style=\"background-color:rgba(255, 0, 0, 0.031042362498929554);\"> back</span><span title=\"0.037702912388565046\" style=\"background-color:rgba(255, 0, 0, 0.037702912388565046);\"> to</span><span title=\"0.15789998997214438\" style=\"background-color:rgba(255, 0, 0, 0.15789998997214438);\"> Lahore</span><span title=\"0.027232741848321345\" style=\"background-color:rgba(255, 0, 0, 0.027232741848321345);\"> in</span><span title=\"0.5471316454609398\" style=\"background-color:rgba(255, 0, 0, 0.5471316454609398);text-decoration: underline\"> 1908</span><span title=\"0.02386090825873548\" style=\"background-color:rgba(255, 0, 0, 0.02386090825873548);\"> .</span>"
            ],
            "text/plain": [
              "<IPython.core.display.HTML object>"
            ]
          },
          "metadata": {
            "tags": []
          }
        },
        {
          "output_type": "stream",
          "text": [
            "\n"
          ],
          "name": "stdout"
        },
        {
          "output_type": "display_data",
          "data": {
            "text/html": [
              "<span title=\"0.01577457822732782\" style=\"background-color:rgba(255, 0, 0, 0.01577457822732782);\"> While</span><span title=\"0.11492382391221247\" style=\"background-color:rgba(255, 0, 0, 0.11492382391221247);text-decoration: underline\"> Qutb</span><span title=\"0.060085883178107445\" style=\"background-color:rgba(255, 0, 0, 0.060085883178107445);text-decoration: underline\"> 's</span><span title=\"0.0629586458519346\" style=\"background-color:rgba(255, 0, 0, 0.0629586458519346);\"> ideas</span><span title=\"0.01361095727437615\" style=\"background-color:rgba(255, 0, 0, 0.01361095727437615);\"> became</span><span title=\"0.02939104673894126\" style=\"background-color:rgba(255, 0, 0, 0.02939104673894126);\"> increasingly</span><span title=\"0.04825482188105311\" style=\"background-color:rgba(255, 0, 0, 0.04825482188105311);\"> radical</span><span title=\"0.01468082026038069\" style=\"background-color:rgba(255, 0, 0, 0.01468082026038069);\"> during</span><span title=\"0.024882021157047206\" style=\"background-color:rgba(255, 0, 0, 0.024882021157047206);\"> his</span><span title=\"0.034836369694473436\" style=\"background-color:rgba(255, 0, 0, 0.034836369694473436);\"> imprisonment</span><span title=\"0.02683226487358321\" style=\"background-color:rgba(255, 0, 0, 0.02683226487358321);\"> prior</span><span title=\"0.026127306752555087\" style=\"background-color:rgba(255, 0, 0, 0.026127306752555087);\"> to</span><span title=\"0.042891921644671545\" style=\"background-color:rgba(255, 0, 0, 0.042891921644671545);\"> his</span><span title=\"0.05695002889258919\" style=\"background-color:rgba(255, 0, 0, 0.05695002889258919);\"> execution</span><span title=\"0.033119918325050936\" style=\"background-color:rgba(255, 0, 0, 0.033119918325050936);\"> in</span><span title=\"0.5291158526603695\" style=\"background-color:rgba(255, 0, 0, 0.5291158526603695);text-decoration: underline\"> 1966</span><span title=\"0.03619793324139489\" style=\"background-color:rgba(255, 0, 0, 0.03619793324139489);\"> ,</span><span title=\"0.09611909305711364\" style=\"background-color:rgba(255, 0, 0, 0.09611909305711364);\"> the</span><span title=\"0.14926399379936267\" style=\"background-color:rgba(255, 0, 0, 0.14926399379936267);\"> leadership</span><span title=\"0.11934331259317194\" style=\"background-color:rgba(255, 0, 0, 0.11934331259317194);\"> of</span><span title=\"0.14453089021644108\" style=\"background-color:rgba(255, 0, 0, 0.14453089021644108);text-decoration: underline\"> the</span><span title=\"0.2433555664231675\" style=\"background-color:rgba(255, 0, 0, 0.2433555664231675);text-decoration: underline\"> Brotherhood</span><span title=\"0.05669068984567935\" style=\"background-color:rgba(255, 0, 0, 0.05669068984567935);\"> ,</span><span title=\"0.05613935111387401\" style=\"background-color:rgba(255, 0, 0, 0.05613935111387401);\"> led</span><span title=\"0.0776682341357437\" style=\"background-color:rgba(255, 0, 0, 0.0776682341357437);\"> by</span><span title=\"0.6344904002829785\" style=\"background-color:rgba(255, 0, 0, 0.6344904002829785);\"> Hasan</span><span title=\"0.6297406372486501\" style=\"background-color:rgba(255, 0, 0, 0.6297406372486501);\"> al</span><span title=\"0.6000976548631269\" style=\"background-color:rgba(255, 0, 0, 0.6000976548631269);\"> -</span><span title=\"0.6012762190496461\" style=\"background-color:rgba(255, 0, 0, 0.6012762190496461);\"> Hudaybi</span><span title=\"0.13087868338754638\" style=\"background-color:rgba(255, 0, 0, 0.13087868338754638);\"> ,</span><span title=\"0.13419146379225744\" style=\"background-color:rgba(255, 0, 0, 0.13419146379225744);\"> remained</span><span title=\"0.2350361976886406\" style=\"background-color:rgba(255, 0, 0, 0.2350361976886406);\"> moderate</span><span title=\"0.22363858228215247\" style=\"background-color:rgba(255, 0, 0, 0.22363858228215247);\"> and</span><span title=\"0.247149978650627\" style=\"background-color:rgba(255, 0, 0, 0.247149978650627);\"> interested</span><span title=\"0.2197805213321844\" style=\"background-color:rgba(255, 0, 0, 0.2197805213321844);\"> in</span><span title=\"0.32165753832025945\" style=\"background-color:rgba(255, 0, 0, 0.32165753832025945);\"> political</span><span title=\"0.3208062216464463\" style=\"background-color:rgba(255, 0, 0, 0.3208062216464463);\"> negotiation</span><span title=\"0.2668658942029099\" style=\"background-color:rgba(255, 0, 0, 0.2668658942029099);\"> and</span><span title=\"0.2803170493809167\" style=\"background-color:rgba(255, 0, 0, 0.2803170493809167);\"> activism</span><span title=\"0.06926652687390203\" style=\"background-color:rgba(255, 0, 0, 0.06926652687390203);\"> .</span>"
            ],
            "text/plain": [
              "<IPython.core.display.HTML object>"
            ]
          },
          "metadata": {
            "tags": []
          }
        },
        {
          "output_type": "stream",
          "text": [
            "\n"
          ],
          "name": "stdout"
        },
        {
          "output_type": "display_data",
          "data": {
            "text/html": [
              "<span title=\"0.03985598062238736\" style=\"background-color:rgba(255, 0, 0, 0.03985598062238736);\"> Its</span><span title=\"0.046682019734875464\" style=\"background-color:rgba(255, 0, 0, 0.046682019734875464);\"> views</span><span title=\"0.011061589690025212\" style=\"background-color:rgba(255, 0, 0, 0.011061589690025212);\"> were</span><span title=\"0.016922926003193586\" style=\"background-color:rgba(255, 0, 0, 0.016922926003193586);\"> outlined</span><span title=\"0.020573874313526967\" style=\"background-color:rgba(255, 0, 0, 0.020573874313526967);\"> in</span><span title=\"0.10250222189263819\" style=\"background-color:rgba(255, 0, 0, 0.10250222189263819);\"> a</span><span title=\"0.112414256184586\" style=\"background-color:rgba(255, 0, 0, 0.112414256184586);\"> pamphlet</span><span title=\"0.06721223129881009\" style=\"background-color:rgba(255, 0, 0, 0.06721223129881009);\"> written</span><span title=\"0.08206793150373232\" style=\"background-color:rgba(255, 0, 0, 0.08206793150373232);\"> by</span><span title=\"0.6548491735580191\" style=\"background-color:rgba(255, 0, 0, 0.6548491735580191);text-decoration: underline\"> Muhammad</span><span title=\"0.6476217349494671\" style=\"background-color:rgba(255, 0, 0, 0.6476217349494671);text-decoration: underline\"> Abd</span><span title=\"0.6391929475577879\" style=\"background-color:rgba(255, 0, 0, 0.6391929475577879);text-decoration: underline\"> al</span><span title=\"0.5997256080468945\" style=\"background-color:rgba(255, 0, 0, 0.5997256080468945);text-decoration: underline\"> -</span><span title=\"0.6285237627645001\" style=\"background-color:rgba(255, 0, 0, 0.6285237627645001);text-decoration: underline\"> Salaam</span><span title=\"0.6004206311534147\" style=\"background-color:rgba(255, 0, 0, 0.6004206311534147);text-decoration: underline\"> Farag</span><span title=\"0.09103442873388237\" style=\"background-color:rgba(255, 0, 0, 0.09103442873388237);\"> ,</span><span title=\"0.055372374441113655\" style=\"background-color:rgba(255, 0, 0, 0.055372374441113655);\"> in</span><span title=\"0.04759205814738407\" style=\"background-color:rgba(255, 0, 0, 0.04759205814738407);\"> which</span><span title=\"0.05076933789230739\" style=\"background-color:rgba(255, 0, 0, 0.05076933789230739);\"> he</span><span title=\"0.06767869619277453\" style=\"background-color:rgba(255, 0, 0, 0.06767869619277453);\"> states</span><span title=\"0.09529525482677384\" style=\"background-color:rgba(255, 0, 0, 0.09529525482677384);\"> :</span>"
            ],
            "text/plain": [
              "<IPython.core.display.HTML object>"
            ]
          },
          "metadata": {
            "tags": []
          }
        },
        {
          "output_type": "stream",
          "text": [
            "\n"
          ],
          "name": "stdout"
        },
        {
          "output_type": "display_data",
          "data": {
            "text/html": [
              "<span title=\"0.014785616895299057\" style=\"background-color:rgba(255, 0, 0, 0.014785616895299057);\"> For</span><span title=\"0.025537226610081006\" style=\"background-color:rgba(255, 0, 0, 0.025537226610081006);\"> some</span><span title=\"0.044150238923012425\" style=\"background-color:rgba(255, 0, 0, 0.044150238923012425);\"> decades</span><span title=\"0.025458621320321864\" style=\"background-color:rgba(255, 0, 0, 0.025458621320321864);\"> prior</span><span title=\"0.026090935199969932\" style=\"background-color:rgba(255, 0, 0, 0.026090935199969932);\"> to</span><span title=\"0.0896710732307704\" style=\"background-color:rgba(255, 0, 0, 0.0896710732307704);\"> the</span><span title=\"0.20746703651193993\" style=\"background-color:rgba(255, 0, 0, 0.20746703651193993);\"> First</span><span title=\"0.22004286438459214\" style=\"background-color:rgba(255, 0, 0, 0.22004286438459214);\"> Palestine</span><span title=\"0.21138672631203914\" style=\"background-color:rgba(255, 0, 0, 0.21138672631203914);\"> Intifada</span><span title=\"0.07610342240416489\" style=\"background-color:rgba(255, 0, 0, 0.07610342240416489);\"> in</span><span title=\"0.5604635205059191\" style=\"background-color:rgba(255, 0, 0, 0.5604635205059191);\"> 1987</span><span title=\"0.015131246005396403\" style=\"background-color:rgba(255, 0, 0, 0.015131246005396403);\"> ,</span><span title=\"0.13497745692750204\" style=\"background-color:rgba(255, 0, 0, 0.13497745692750204);\"> the</span><span title=\"0.3332752747368411\" style=\"background-color:rgba(255, 0, 0, 0.3332752747368411);\"> Muslim</span><span title=\"0.2935201772407748\" style=\"background-color:rgba(255, 0, 0, 0.2935201772407748);\"> Brotherhood</span><span title=\"0.13868788581468824\" style=\"background-color:rgba(255, 0, 0, 0.13868788581468824);\"> in</span><span title=\"0.21353521909189804\" style=\"background-color:rgba(255, 0, 0, 0.21353521909189804);\"> Palestine</span><span title=\"0.028408292861420888\" style=\"background-color:rgba(255, 0, 0, 0.028408292861420888);\"> took</span><span title=\"0.06079225741739735\" style=\"background-color:rgba(255, 0, 0, 0.06079225741739735);\"> a</span><span title=\"0.0773646017481589\" style=\"background-color:rgba(255, 0, 0, 0.0773646017481589);\"> \"</span><span title=\"0.1287598005774591\" style=\"background-color:rgba(255, 0, 0, 0.1287598005774591);text-decoration: underline\"> quiescent</span><span title=\"0.08287984962424934\" style=\"background-color:rgba(255, 0, 0, 0.08287984962424934);\"> \"</span><span title=\"0.08726601177133621\" style=\"background-color:rgba(255, 0, 0, 0.08726601177133621);\"> stance</span><span title=\"0.05899223935329643\" style=\"background-color:rgba(255, 0, 0, 0.05899223935329643);\"> towards</span><span title=\"0.17974124267222452\" style=\"background-color:rgba(255, 0, 0, 0.17974124267222452);\"> Israel</span><span title=\"0.016697149070539628\" style=\"background-color:rgba(255, 0, 0, 0.016697149070539628);\"> ,</span><span title=\"0.05155609169152056\" style=\"background-color:rgba(255, 0, 0, 0.05155609169152056);\"> focusing</span><span title=\"0.07415048171203338\" style=\"background-color:rgba(255, 0, 0, 0.07415048171203338);\"> on</span><span title=\"0.1690211622388662\" style=\"background-color:rgba(255, 0, 0, 0.1690211622388662);\"> preaching</span><span title=\"0.09189527202692503\" style=\"background-color:rgba(255, 0, 0, 0.09189527202692503);\"> ,</span><span title=\"0.1217370887133766\" style=\"background-color:rgba(255, 0, 0, 0.1217370887133766);\"> education</span><span title=\"0.10295032326716713\" style=\"background-color:rgba(255, 0, 0, 0.10295032326716713);\"> and</span><span title=\"0.14813859349476105\" style=\"background-color:rgba(255, 0, 0, 0.14813859349476105);\"> social</span><span title=\"0.14374086660194596\" style=\"background-color:rgba(255, 0, 0, 0.14374086660194596);\"> services</span><span title=\"0.05620537053810069\" style=\"background-color:rgba(255, 0, 0, 0.05620537053810069);\"> ,</span><span title=\"0.04725330638412059\" style=\"background-color:rgba(255, 0, 0, 0.04725330638412059);\"> and</span><span title=\"0.045681268502084205\" style=\"background-color:rgba(255, 0, 0, 0.045681268502084205);\"> benefiting</span><span title=\"0.04290941190229467\" style=\"background-color:rgba(255, 0, 0, 0.04290941190229467);\"> from</span><span title=\"0.13722515805491398\" style=\"background-color:rgba(255, 0, 0, 0.13722515805491398);\"> Israel</span><span title=\"0.0947959882728822\" style=\"background-color:rgba(255, 0, 0, 0.0947959882728822);\"> 's</span><span title=\"0.10803301714507396\" style=\"background-color:rgba(255, 0, 0, 0.10803301714507396);\"> \"</span><span title=\"0.16767018320743754\" style=\"background-color:rgba(255, 0, 0, 0.16767018320743754);\"> indulgence</span><span title=\"0.07383703920926919\" style=\"background-color:rgba(255, 0, 0, 0.07383703920926919);\"> \"</span><span title=\"0.07451943187864463\" style=\"background-color:rgba(255, 0, 0, 0.07451943187864463);\"> to</span><span title=\"0.09397463698908971\" style=\"background-color:rgba(255, 0, 0, 0.09397463698908971);\"> build</span><span title=\"0.11047927948134781\" style=\"background-color:rgba(255, 0, 0, 0.11047927948134781);\"> up</span><span title=\"0.1555430466163604\" style=\"background-color:rgba(255, 0, 0, 0.1555430466163604);\"> a</span><span title=\"0.18667911409070134\" style=\"background-color:rgba(255, 0, 0, 0.18667911409070134);\"> network</span><span title=\"0.16723746437892967\" style=\"background-color:rgba(255, 0, 0, 0.16723746437892967);\"> of</span><span title=\"0.22235630292263242\" style=\"background-color:rgba(255, 0, 0, 0.22235630292263242);\"> mosques</span><span title=\"0.182351331085906\" style=\"background-color:rgba(255, 0, 0, 0.182351331085906);\"> and</span><span title=\"0.2192340886169805\" style=\"background-color:rgba(255, 0, 0, 0.2192340886169805);\"> charitable</span><span title=\"0.21428958943066304\" style=\"background-color:rgba(255, 0, 0, 0.21428958943066304);\"> organizations</span><span title=\"0.046901674234503664\" style=\"background-color:rgba(255, 0, 0, 0.046901674234503664);\"> .</span>"
            ],
            "text/plain": [
              "<IPython.core.display.HTML object>"
            ]
          },
          "metadata": {
            "tags": []
          }
        },
        {
          "output_type": "stream",
          "text": [
            "\n"
          ],
          "name": "stdout"
        },
        {
          "output_type": "display_data",
          "data": {
            "text/html": [
              "<span title=\"0.02300839484750901\" style=\"background-color:rgba(255, 0, 0, 0.02300839484750901);\"> Founded</span><span title=\"0.01343454955523321\" style=\"background-color:rgba(255, 0, 0, 0.01343454955523321);\"> as</span><span title=\"0.04537466654249009\" style=\"background-color:rgba(255, 0, 0, 0.04537466654249009);\"> a</span><span title=\"0.07196138357937604\" style=\"background-color:rgba(255, 0, 0, 0.07196138357937604);\"> broad</span><span title=\"0.09796797932160543\" style=\"background-color:rgba(255, 0, 0, 0.09796797932160543);\"> Islamist</span><span title=\"0.08984363147997476\" style=\"background-color:rgba(255, 0, 0, 0.08984363147997476);\"> coalition</span><span title=\"0.01937043860489642\" style=\"background-color:rgba(255, 0, 0, 0.01937043860489642);\"> in</span><span title=\"0.3850702728169428\" style=\"background-color:rgba(255, 0, 0, 0.3850702728169428);text-decoration: underline\"> 1989</span><span title=\"0.027583282913837784\" style=\"background-color:rgba(255, 0, 0, 0.027583282913837784);\"> it</span><span title=\"0.01904692017395808\" style=\"background-color:rgba(255, 0, 0, 0.01904692017395808);\"> was</span><span title=\"0.028654651458633162\" style=\"background-color:rgba(255, 0, 0, 0.028654651458633162);\"> led</span><span title=\"0.0628079323628624\" style=\"background-color:rgba(255, 0, 0, 0.0628079323628624);\"> by</span><span title=\"0.6918267987158997\" style=\"background-color:rgba(255, 0, 0, 0.6918267987158997);\"> Abbassi</span><span title=\"0.6558289382278989\" style=\"background-color:rgba(255, 0, 0, 0.6558289382278989);\"> Madani</span><span title=\"0.2087893426988465\" style=\"background-color:rgba(255, 0, 0, 0.2087893426988465);\"> ,</span><span title=\"0.19313010468138297\" style=\"background-color:rgba(255, 0, 0, 0.19313010468138297);\"> and</span><span title=\"0.20640853434863077\" style=\"background-color:rgba(255, 0, 0, 0.20640853434863077);\"> a</span><span title=\"0.2523745923425249\" style=\"background-color:rgba(255, 0, 0, 0.2523745923425249);\"> charismatic</span><span title=\"0.2733564511335127\" style=\"background-color:rgba(255, 0, 0, 0.2733564511335127);\"> Islamist</span><span title=\"0.2641736842037429\" style=\"background-color:rgba(255, 0, 0, 0.2641736842037429);\"> young</span><span title=\"0.2568158816354196\" style=\"background-color:rgba(255, 0, 0, 0.2568158816354196);\"> preacher</span><span title=\"0.1490052389911504\" style=\"background-color:rgba(255, 0, 0, 0.1490052389911504);\"> ,</span><span title=\"0.46719502318294026\" style=\"background-color:rgba(255, 0, 0, 0.46719502318294026);\"> Ali</span><span title=\"0.4625897619489862\" style=\"background-color:rgba(255, 0, 0, 0.4625897619489862);\"> Belhadj</span><span title=\"0.06532086750534703\" style=\"background-color:rgba(255, 0, 0, 0.06532086750534703);\"> .</span>"
            ],
            "text/plain": [
              "<IPython.core.display.HTML object>"
            ]
          },
          "metadata": {
            "tags": []
          }
        },
        {
          "output_type": "stream",
          "text": [
            "\n"
          ],
          "name": "stdout"
        },
        {
          "output_type": "display_data",
          "data": {
            "text/html": [
              "<span title=\"0.5834604628787773\" style=\"background-color:rgba(255, 0, 0, 0.5834604628787773);\"> Zia</span>"
            ],
            "text/plain": [
              "<IPython.core.display.HTML object>"
            ]
          },
          "metadata": {
            "tags": []
          }
        },
        {
          "output_type": "stream",
          "text": [
            "\n"
          ],
          "name": "stdout"
        },
        {
          "output_type": "display_data",
          "data": {
            "text/html": [
              "<span title=\"0.14236206232224627\" style=\"background-color:rgba(255, 0, 0, 0.14236206232224627);\"> al</span><span title=\"0.11778881130046229\" style=\"background-color:rgba(255, 0, 0, 0.11778881130046229);\"> -</span><span title=\"0.14665102596984636\" style=\"background-color:rgba(255, 0, 0, 0.14665102596984636);\"> Tawhid</span><span title=\"0.14283258897305426\" style=\"background-color:rgba(255, 0, 0, 0.14283258897305426);\"> wal</span><span title=\"0.12178871152016998\" style=\"background-color:rgba(255, 0, 0, 0.12178871152016998);\"> -</span><span title=\"0.1273355754243358\" style=\"background-color:rgba(255, 0, 0, 0.1273355754243358);\"> Jihad</span><span title=\"0.02840076484752519\" style=\"background-color:rgba(255, 0, 0, 0.02840076484752519);\"> in</span><span title=\"0.5315616361544478\" style=\"background-color:rgba(255, 0, 0, 0.5315616361544478);\"> 1999</span><span title=\"0.014726823044240205\" style=\"background-color:rgba(255, 0, 0, 0.014726823044240205);\"> ,</span><span title=\"0.025845123318405033\" style=\"background-color:rgba(255, 0, 0, 0.025845123318405033);\"> it</span><span title=\"0.02779933065753102\" style=\"background-color:rgba(255, 0, 0, 0.02779933065753102);\"> pledged</span><span title=\"0.06579644217617253\" style=\"background-color:rgba(255, 0, 0, 0.06579644217617253);\"> allegiance</span><span title=\"0.04648564160417602\" style=\"background-color:rgba(255, 0, 0, 0.04648564160417602);\"> to</span><span title=\"0.24597314027097572\" style=\"background-color:rgba(255, 0, 0, 0.24597314027097572);\"> al</span><span title=\"0.22091734955698683\" style=\"background-color:rgba(255, 0, 0, 0.22091734955698683);\"> -</span><span title=\"0.2347101077105843\" style=\"background-color:rgba(255, 0, 0, 0.2347101077105843);\"> Qaeda</span><span title=\"0.08424266573739025\" style=\"background-color:rgba(255, 0, 0, 0.08424266573739025);\"> in</span><span title=\"0.3896402803520756\" style=\"background-color:rgba(255, 0, 0, 0.3896402803520756);text-decoration: underline\"> 2004</span><span title=\"0.014802988661549422\" style=\"background-color:rgba(255, 0, 0, 0.014802988661549422);\"> ,</span><span title=\"0.014784268669134917\" style=\"background-color:rgba(255, 0, 0, 0.014784268669134917);\"> participated</span><span title=\"0.012553109105992746\" style=\"background-color:rgba(255, 0, 0, 0.012553109105992746);\"> in</span><span title=\"0.061288835859289806\" style=\"background-color:rgba(255, 0, 0, 0.061288835859289806);\"> the</span><span title=\"0.12075605797353181\" style=\"background-color:rgba(255, 0, 0, 0.12075605797353181);\"> Iraqi</span><span title=\"0.08663147723366908\" style=\"background-color:rgba(255, 0, 0, 0.08663147723366908);\"> insurgency</span><span title=\"0.035364647836438425\" style=\"background-color:rgba(255, 0, 0, 0.035364647836438425);\"> that</span><span title=\"0.03571450628093466\" style=\"background-color:rgba(255, 0, 0, 0.03571450628093466);\"> followed</span><span title=\"0.062266216562466926\" style=\"background-color:rgba(255, 0, 0, 0.062266216562466926);\"> the</span><span title=\"0.37278286235925173\" style=\"background-color:rgba(255, 0, 0, 0.37278286235925173);text-decoration: underline\"> March</span><span title=\"0.3677477306575055\" style=\"background-color:rgba(255, 0, 0, 0.3677477306575055);text-decoration: underline\"> 2003</span><span title=\"0.18257451240429953\" style=\"background-color:rgba(255, 0, 0, 0.18257451240429953);\"> invasion</span><span title=\"0.13037852972734035\" style=\"background-color:rgba(255, 0, 0, 0.13037852972734035);\"> of</span><span title=\"0.19562531447207382\" style=\"background-color:rgba(255, 0, 0, 0.19562531447207382);\"> Iraq</span><span title=\"0.08336234337690902\" style=\"background-color:rgba(255, 0, 0, 0.08336234337690902);\"> by</span><span title=\"0.18557544092322287\" style=\"background-color:rgba(255, 0, 0, 0.18557544092322287);\"> Western</span><span title=\"0.14998097700279808\" style=\"background-color:rgba(255, 0, 0, 0.14998097700279808);\"> forces</span><span title=\"0.021099246380410736\" style=\"background-color:rgba(255, 0, 0, 0.021099246380410736);\"> ,</span><span title=\"0.021909302729624342\" style=\"background-color:rgba(255, 0, 0, 0.021909302729624342);\"> joined</span><span title=\"0.035638221108283116\" style=\"background-color:rgba(255, 0, 0, 0.035638221108283116);\"> the</span><span title=\"0.05851921553309275\" style=\"background-color:rgba(255, 0, 0, 0.05851921553309275);\"> fight</span><span title=\"0.016428476642045955\" style=\"background-color:rgba(255, 0, 0, 0.016428476642045955);\"> in</span><span title=\"0.168059288973734\" style=\"background-color:rgba(255, 0, 0, 0.168059288973734);\"> the</span><span title=\"0.28990214771314565\" style=\"background-color:rgba(255, 0, 0, 0.28990214771314565);\"> Syrian</span><span title=\"0.27161283089921173\" style=\"background-color:rgba(255, 0, 0, 0.27161283089921173);\"> Civil</span><span title=\"0.2468897615782525\" style=\"background-color:rgba(255, 0, 0, 0.2468897615782525);\"> War</span><span title=\"0.09618290482150617\" style=\"background-color:rgba(255, 0, 0, 0.09618290482150617);\"> beginning</span><span title=\"0.07125013299213587\" style=\"background-color:rgba(255, 0, 0, 0.07125013299213587);\"> in</span><span title=\"0.38747089579740035\" style=\"background-color:rgba(255, 0, 0, 0.38747089579740035);text-decoration: underline\"> March</span><span title=\"0.36416124595500154\" style=\"background-color:rgba(255, 0, 0, 0.36416124595500154);text-decoration: underline\"> 2011</span><span title=\"0.031734086154282026\" style=\"background-color:rgba(255, 0, 0, 0.031734086154282026);\"> ,</span><span title=\"0.023293540606141947\" style=\"background-color:rgba(255, 0, 0, 0.023293540606141947);\"> and</span><span title=\"0.01600615958025063\" style=\"background-color:rgba(255, 0, 0, 0.01600615958025063);\"> was</span><span title=\"0.021380145673709362\" style=\"background-color:rgba(255, 0, 0, 0.021380145673709362);\"> expelled</span><span title=\"0.029155613864020023\" style=\"background-color:rgba(255, 0, 0, 0.029155613864020023);\"> from</span><span title=\"0.5044607005802182\" style=\"background-color:rgba(255, 0, 0, 0.5044607005802182);\"> al</span><span title=\"0.45424630693332785\" style=\"background-color:rgba(255, 0, 0, 0.45424630693332785);\"> -</span><span title=\"0.4450065143638924\" style=\"background-color:rgba(255, 0, 0, 0.4450065143638924);\"> Qaeda</span><span title=\"0.07071683490617689\" style=\"background-color:rgba(255, 0, 0, 0.07071683490617689);\"> in</span><span title=\"0.41544722382234434\" style=\"background-color:rgba(255, 0, 0, 0.41544722382234434);\"> early</span><span title=\"0.47785733277956044\" style=\"background-color:rgba(255, 0, 0, 0.47785733277956044);\"> 2014</span><span title=\"0.060548811271589606\" style=\"background-color:rgba(255, 0, 0, 0.060548811271589606);\"> ,</span><span title=\"0.026658611347555802\" style=\"background-color:rgba(255, 0, 0, 0.026658611347555802);\"> (</span><span title=\"0.020842667233516892\" style=\"background-color:rgba(255, 0, 0, 0.020842667233516892);\"> which</span><span title=\"0.03478479357610166\" style=\"background-color:rgba(255, 0, 0, 0.03478479357610166);\"> complained</span><span title=\"0.0548636543090491\" style=\"background-color:rgba(255, 0, 0, 0.0548636543090491);\"> of</span><span title=\"0.0950357888447789\" style=\"background-color:rgba(255, 0, 0, 0.0950357888447789);text-decoration: underline\"> its</span><span title=\"0.12327106327775875\" style=\"background-color:rgba(255, 0, 0, 0.12327106327775875);text-decoration: underline\"> failure</span><span title=\"0.11429073305773603\" style=\"background-color:rgba(255, 0, 0, 0.11429073305773603);text-decoration: underline\"> to</span><span title=\"0.1548330663488376\" style=\"background-color:rgba(255, 0, 0, 0.1548330663488376);text-decoration: underline\"> consult</span><span title=\"0.16613348238543135\" style=\"background-color:rgba(255, 0, 0, 0.16613348238543135);text-decoration: underline\"> and</span><span title=\"0.1786371484497439\" style=\"background-color:rgba(255, 0, 0, 0.1786371484497439);text-decoration: underline\"> \"</span><span title=\"0.2528135539867426\" style=\"background-color:rgba(255, 0, 0, 0.2528135539867426);text-decoration: underline\"> notorious</span><span title=\"0.25071452006102163\" style=\"background-color:rgba(255, 0, 0, 0.25071452006102163);text-decoration: underline\"> intransigence</span><span title=\"0.14549151523961557\" style=\"background-color:rgba(255, 0, 0, 0.14549151523961557);text-decoration: underline\"> \"</span><span title=\"0.08460518778610757\" style=\"background-color:rgba(255, 0, 0, 0.08460518778610757);\"> )</span><span title=\"0.02713555628702551\" style=\"background-color:rgba(255, 0, 0, 0.02713555628702551);\"> .</span>"
            ],
            "text/plain": [
              "<IPython.core.display.HTML object>"
            ]
          },
          "metadata": {
            "tags": []
          }
        },
        {
          "output_type": "stream",
          "text": [
            "\n"
          ],
          "name": "stdout"
        },
        {
          "output_type": "display_data",
          "data": {
            "text/html": [
              "<span title=\"0.20763008692059293\" style=\"background-color:rgba(255, 0, 0, 0.20763008692059293);\"> Orientalism</span><span title=\"0.028499208847693195\" style=\"background-color:rgba(255, 0, 0, 0.028499208847693195);\"> ,</span><span title=\"0.01964275698691033\" style=\"background-color:rgba(255, 0, 0, 0.01964275698691033);\"> as</span><span title=\"0.031714550735331366\" style=\"background-color:rgba(255, 0, 0, 0.031714550735331366);\"> theorized</span><span title=\"0.052132496533038065\" style=\"background-color:rgba(255, 0, 0, 0.052132496533038065);\"> by</span><span title=\"0.6016766210323321\" style=\"background-color:rgba(255, 0, 0, 0.6016766210323321);\"> Edward</span><span title=\"0.579104731936388\" style=\"background-color:rgba(255, 0, 0, 0.579104731936388);\"> Said</span><span title=\"0.06313480696677061\" style=\"background-color:rgba(255, 0, 0, 0.06313480696677061);\"> ,</span><span title=\"0.04909883242676813\" style=\"background-color:rgba(255, 0, 0, 0.04909883242676813);\"> refers</span><span title=\"0.052108474643620936\" style=\"background-color:rgba(255, 0, 0, 0.052108474643620936);\"> to</span><span title=\"0.09937504432230823\" style=\"background-color:rgba(255, 0, 0, 0.09937504432230823);\"> how</span><span title=\"0.11792047002316385\" style=\"background-color:rgba(255, 0, 0, 0.11792047002316385);\"> the</span><span title=\"0.1782050695805396\" style=\"background-color:rgba(255, 0, 0, 0.1782050695805396);\"> West</span><span title=\"0.10775580181449969\" style=\"background-color:rgba(255, 0, 0, 0.10775580181449969);\"> developed</span><span title=\"0.14774615066183636\" style=\"background-color:rgba(255, 0, 0, 0.14774615066183636);text-decoration: underline\"> an</span><span title=\"0.21062364061536173\" style=\"background-color:rgba(255, 0, 0, 0.21062364061536173);text-decoration: underline\"> imaginative</span><span title=\"0.20134892314731748\" style=\"background-color:rgba(255, 0, 0, 0.20134892314731748);text-decoration: underline\"> geography</span><span title=\"0.15910677620287672\" style=\"background-color:rgba(255, 0, 0, 0.15910677620287672);\"> of</span><span title=\"0.17411549103340088\" style=\"background-color:rgba(255, 0, 0, 0.17411549103340088);\"> the</span><span title=\"0.24502043577204613\" style=\"background-color:rgba(255, 0, 0, 0.24502043577204613);\"> East</span><span title=\"0.0326832520369922\" style=\"background-color:rgba(255, 0, 0, 0.0326832520369922);\"> .</span>"
            ],
            "text/plain": [
              "<IPython.core.display.HTML object>"
            ]
          },
          "metadata": {
            "tags": []
          }
        },
        {
          "output_type": "stream",
          "text": [
            "\n"
          ],
          "name": "stdout"
        },
        {
          "output_type": "display_data",
          "data": {
            "text/html": [
              "<span title=\"0.025557214634000774\" style=\"background-color:rgba(255, 0, 0, 0.025557214634000774);\"> It</span><span title=\"0.013580845840569226\" style=\"background-color:rgba(255, 0, 0, 0.013580845840569226);\"> was</span><span title=\"0.03147608890481864\" style=\"background-color:rgba(255, 0, 0, 0.03147608890481864);\"> shortly</span><span title=\"0.042701153145644606\" style=\"background-color:rgba(255, 0, 0, 0.042701153145644606);\"> appropriated</span><span title=\"0.07936307969313391\" style=\"background-color:rgba(255, 0, 0, 0.07936307969313391);\"> by</span><span title=\"0.19337467078131354\" style=\"background-color:rgba(255, 0, 0, 0.19337467078131354);\"> supporters</span><span title=\"0.1424363497700846\" style=\"background-color:rgba(255, 0, 0, 0.1424363497700846);\"> of</span><span title=\"0.18687551605335617\" style=\"background-color:rgba(255, 0, 0, 0.18687551605335617);\"> \"</span><span title=\"0.2655405903433413\" style=\"background-color:rgba(255, 0, 0, 0.2655405903433413);\"> imperialism</span><span title=\"0.07194677872892631\" style=\"background-color:rgba(255, 0, 0, 0.07194677872892631);\"> \"</span><span title=\"0.06389604961681508\" style=\"background-color:rgba(255, 0, 0, 0.06389604961681508);\"> such</span><span title=\"0.0574622671790294\" style=\"background-color:rgba(255, 0, 0, 0.0574622671790294);\"> as</span><span title=\"0.5815107339396797\" style=\"background-color:rgba(255, 0, 0, 0.5815107339396797);\"> Joseph</span><span title=\"0.561607954237564\" style=\"background-color:rgba(255, 0, 0, 0.561607954237564);\"> Chamberlain</span><span title=\"0.057216458778709595\" style=\"background-color:rgba(255, 0, 0, 0.057216458778709595);\"> .</span>"
            ],
            "text/plain": [
              "<IPython.core.display.HTML object>"
            ]
          },
          "metadata": {
            "tags": []
          }
        },
        {
          "output_type": "stream",
          "text": [
            "\n"
          ],
          "name": "stdout"
        },
        {
          "output_type": "display_data",
          "data": {
            "text/html": [
              "<span title=\"0.05284655687531693\" style=\"background-color:rgba(255, 0, 0, 0.05284655687531693);\"> Much</span><span title=\"0.04278692130942447\" style=\"background-color:rgba(255, 0, 0, 0.04278692130942447);\"> of</span><span title=\"0.06037361821526123\" style=\"background-color:rgba(255, 0, 0, 0.06037361821526123);\"> the</span><span title=\"0.07848638806781712\" style=\"background-color:rgba(255, 0, 0, 0.07848638806781712);\"> debate</span><span title=\"0.012516324479684149\" style=\"background-color:rgba(255, 0, 0, 0.012516324479684149);\"> was</span><span title=\"0.019849978215924373\" style=\"background-color:rgba(255, 0, 0, 0.019849978215924373);\"> pioneered</span><span title=\"0.029932476142638734\" style=\"background-color:rgba(255, 0, 0, 0.029932476142638734);\"> by</span><span title=\"0.0933952302085871\" style=\"background-color:rgba(255, 0, 0, 0.0933952302085871);\"> such</span><span title=\"0.08941617694885899\" style=\"background-color:rgba(255, 0, 0, 0.08941617694885899);\"> theorists</span><span title=\"0.05829581195171163\" style=\"background-color:rgba(255, 0, 0, 0.05829581195171163);\"> as</span><span title=\"0.6254965588814198\" style=\"background-color:rgba(255, 0, 0, 0.6254965588814198);\"> J.</span><span title=\"0.6380846838481887\" style=\"background-color:rgba(255, 0, 0, 0.6380846838481887);\"> A.</span><span title=\"0.6249571894141666\" style=\"background-color:rgba(255, 0, 0, 0.6249571894141666);\"> Hobson</span><span title=\"0.1709170460405055\" style=\"background-color:rgba(255, 0, 0, 0.1709170460405055);\"> (</span><span title=\"0.38737144266922163\" style=\"background-color:rgba(255, 0, 0, 0.38737144266922163);\"> 1858–1940</span><span title=\"0.1129580595917019\" style=\"background-color:rgba(255, 0, 0, 0.1129580595917019);\"> )</span><span title=\"0.07497644402204476\" style=\"background-color:rgba(255, 0, 0, 0.07497644402204476);\"> ,</span><span title=\"0.36989276624371636\" style=\"background-color:rgba(255, 0, 0, 0.36989276624371636);\"> Joseph</span><span title=\"0.3659812658057932\" style=\"background-color:rgba(255, 0, 0, 0.3659812658057932);\"> Schumpeter</span><span title=\"0.11724665307077246\" style=\"background-color:rgba(255, 0, 0, 0.11724665307077246);\"> (</span><span title=\"0.2735846215840775\" style=\"background-color:rgba(255, 0, 0, 0.2735846215840775);\"> 1883–1950</span><span title=\"0.09144052723095143\" style=\"background-color:rgba(255, 0, 0, 0.09144052723095143);\"> )</span><span title=\"0.06774796553447206\" style=\"background-color:rgba(255, 0, 0, 0.06774796553447206);\"> ,</span><span title=\"0.3448955380532671\" style=\"background-color:rgba(255, 0, 0, 0.3448955380532671);\"> Thorstein</span><span title=\"0.3470729830413568\" style=\"background-color:rgba(255, 0, 0, 0.3470729830413568);\"> Veblen</span><span title=\"0.11203228787936656\" style=\"background-color:rgba(255, 0, 0, 0.11203228787936656);\"> (</span><span title=\"0.2658925173745499\" style=\"background-color:rgba(255, 0, 0, 0.2658925173745499);\"> 1857–1929</span><span title=\"0.08259836503523175\" style=\"background-color:rgba(255, 0, 0, 0.08259836503523175);\"> )</span><span title=\"0.05453106653918717\" style=\"background-color:rgba(255, 0, 0, 0.05453106653918717);\"> ,</span><span title=\"0.0670630495144209\" style=\"background-color:rgba(255, 0, 0, 0.0670630495144209);\"> and</span><span title=\"0.30657972450636684\" style=\"background-color:rgba(255, 0, 0, 0.30657972450636684);\"> Norman</span><span title=\"0.30311058386066625\" style=\"background-color:rgba(255, 0, 0, 0.30311058386066625);\"> Angell</span><span title=\"0.09562122359861583\" style=\"background-color:rgba(255, 0, 0, 0.09562122359861583);\"> (</span><span title=\"0.22831832649222533\" style=\"background-color:rgba(255, 0, 0, 0.22831832649222533);\"> 1872–1967</span><span title=\"0.061496250417695825\" style=\"background-color:rgba(255, 0, 0, 0.061496250417695825);\"> )</span><span title=\"0.02149246347019842\" style=\"background-color:rgba(255, 0, 0, 0.02149246347019842);\"> .</span>"
            ],
            "text/plain": [
              "<IPython.core.display.HTML object>"
            ]
          },
          "metadata": {
            "tags": []
          }
        },
        {
          "output_type": "stream",
          "text": [
            "\n"
          ],
          "name": "stdout"
        },
        {
          "output_type": "display_data",
          "data": {
            "text/html": [
              "<span title=\"0.11470226844259186\" style=\"background-color:rgba(255, 0, 0, 0.11470226844259186);\"> Nearly</span><span title=\"0.11984772384280855\" style=\"background-color:rgba(255, 0, 0, 0.11984772384280855);\"> all</span><span title=\"0.11331430091715201\" style=\"background-color:rgba(255, 0, 0, 0.11331430091715201);\"> of</span><span title=\"0.2162545872740309\" style=\"background-color:rgba(255, 0, 0, 0.2162545872740309);\"> France</span><span title=\"0.15401596310306667\" style=\"background-color:rgba(255, 0, 0, 0.15401596310306667);\"> 's</span><span title=\"0.1572877283762922\" style=\"background-color:rgba(255, 0, 0, 0.1572877283762922);\"> colonies</span><span title=\"0.0429763912497477\" style=\"background-color:rgba(255, 0, 0, 0.0429763912497477);\"> gained</span><span title=\"0.07342182409018588\" style=\"background-color:rgba(255, 0, 0, 0.07342182409018588);\"> independence</span><span title=\"0.034314152188447425\" style=\"background-color:rgba(255, 0, 0, 0.034314152188447425);\"> by</span><span title=\"0.6319243427572359\" style=\"background-color:rgba(255, 0, 0, 0.6319243427572359);text-decoration: underline\"> 1960</span><span title=\"0.031701141027295175\" style=\"background-color:rgba(255, 0, 0, 0.031701141027295175);\"> ,</span><span title=\"0.03561812417754109\" style=\"background-color:rgba(255, 0, 0, 0.03561812417754109);\"> but</span><span title=\"0.20368387712065367\" style=\"background-color:rgba(255, 0, 0, 0.20368387712065367);\"> France</span><span title=\"0.13931974549824905\" style=\"background-color:rgba(255, 0, 0, 0.13931974549824905);\"> retained</span><span title=\"0.26391336932088694\" style=\"background-color:rgba(255, 0, 0, 0.26391336932088694);\"> great</span><span title=\"0.3113027076893632\" style=\"background-color:rgba(255, 0, 0, 0.3113027076893632);\"> financial</span><span title=\"0.3033175219926146\" style=\"background-color:rgba(255, 0, 0, 0.3033175219926146);\"> and</span><span title=\"0.32795694684429666\" style=\"background-color:rgba(255, 0, 0, 0.32795694684429666);\"> diplomatic</span><span title=\"0.2998840821954559\" style=\"background-color:rgba(255, 0, 0, 0.2998840821954559);\"> influence</span><span title=\"0.0713446855284484\" style=\"background-color:rgba(255, 0, 0, 0.0713446855284484);\"> .</span>"
            ],
            "text/plain": [
              "<IPython.core.display.HTML object>"
            ]
          },
          "metadata": {
            "tags": []
          }
        },
        {
          "output_type": "stream",
          "text": [
            "\n"
          ],
          "name": "stdout"
        },
        {
          "output_type": "display_data",
          "data": {
            "text/html": [
              "<span title=\"0.02368808679895819\" style=\"background-color:rgba(255, 0, 0, 0.02368808679895819);\"> As</span><span title=\"0.04969307583612499\" style=\"background-color:rgba(255, 0, 0, 0.04969307583612499);\"> a</span><span title=\"0.0710888261462849\" style=\"background-color:rgba(255, 0, 0, 0.0710888261462849);\"> result</span><span title=\"0.05068812735726274\" style=\"background-color:rgba(255, 0, 0, 0.05068812735726274);\"> of</span><span title=\"0.1142512359434548\" style=\"background-color:rgba(255, 0, 0, 0.1142512359434548);\"> the</span><span title=\"0.25249170224224393\" style=\"background-color:rgba(255, 0, 0, 0.25249170224224393);\"> Russo</span><span title=\"0.22624661998657114\" style=\"background-color:rgba(255, 0, 0, 0.22624661998657114);\"> -</span><span title=\"0.2472489791722841\" style=\"background-color:rgba(255, 0, 0, 0.2472489791722841);\"> Japanese</span><span title=\"0.24384834109216055\" style=\"background-color:rgba(255, 0, 0, 0.24384834109216055);\"> War</span><span title=\"0.10170819440850329\" style=\"background-color:rgba(255, 0, 0, 0.10170819440850329);\"> in</span><span title=\"0.5678023989481632\" style=\"background-color:rgba(255, 0, 0, 0.5678023989481632);\"> 1905</span><span title=\"0.020743869107113365\" style=\"background-color:rgba(255, 0, 0, 0.020743869107113365);\"> ,</span><span title=\"0.12487785663441096\" style=\"background-color:rgba(255, 0, 0, 0.12487785663441096);text-decoration: underline\"> Japan</span><span title=\"0.020175597632298155\" style=\"background-color:rgba(255, 0, 0, 0.020175597632298155);text-decoration: underline\"> took</span><span title=\"0.039715153382917784\" style=\"background-color:rgba(255, 0, 0, 0.039715153382917784);text-decoration: underline\"> part</span><span title=\"0.03292850444933051\" style=\"background-color:rgba(255, 0, 0, 0.03292850444933051);text-decoration: underline\"> of</span><span title=\"0.1850904817445508\" style=\"background-color:rgba(255, 0, 0, 0.1850904817445508);text-decoration: underline\"> Sakhalin</span><span title=\"0.1652172736734407\" style=\"background-color:rgba(255, 0, 0, 0.1652172736734407);text-decoration: underline\"> Island</span><span title=\"0.053724092622964924\" style=\"background-color:rgba(255, 0, 0, 0.053724092622964924);text-decoration: underline\"> from</span><span title=\"0.2998497250053823\" style=\"background-color:rgba(255, 0, 0, 0.2998497250053823);text-decoration: underline\"> Russia</span><span title=\"0.02296646637344386\" style=\"background-color:rgba(255, 0, 0, 0.02296646637344386);\"> .</span>"
            ],
            "text/plain": [
              "<IPython.core.display.HTML object>"
            ]
          },
          "metadata": {
            "tags": []
          }
        },
        {
          "output_type": "stream",
          "text": [
            "\n"
          ],
          "name": "stdout"
        },
        {
          "output_type": "display_data",
          "data": {
            "text/html": [
              "<span title=\"0.13197519045822603\" style=\"background-color:rgba(255, 0, 0, 0.13197519045822603);\"> Korea</span><span title=\"0.02158350957280574\" style=\"background-color:rgba(255, 0, 0, 0.02158350957280574);\"> was</span><span title=\"0.03247690520497474\" style=\"background-color:rgba(255, 0, 0, 0.03247690520497474);\"> annexed</span><span title=\"0.04369890488326908\" style=\"background-color:rgba(255, 0, 0, 0.04369890488326908);\"> in</span><span title=\"0.5605526533767924\" style=\"background-color:rgba(255, 0, 0, 0.5605526533767924);\"> 1910</span><span title=\"0.025515130687070217\" style=\"background-color:rgba(255, 0, 0, 0.025515130687070217);\"> .</span>"
            ],
            "text/plain": [
              "<IPython.core.display.HTML object>"
            ]
          },
          "metadata": {
            "tags": []
          }
        },
        {
          "output_type": "stream",
          "text": [
            "\n"
          ],
          "name": "stdout"
        },
        {
          "output_type": "display_data",
          "data": {
            "text/html": [
              "<span title=\"0.02376171279718044\" style=\"background-color:rgba(255, 0, 0, 0.02376171279718044);\"> During</span><span title=\"0.054701699650586355\" style=\"background-color:rgba(255, 0, 0, 0.054701699650586355);\"> the</span><span title=\"0.1775618016318949\" style=\"background-color:rgba(255, 0, 0, 0.1775618016318949);\"> Second</span><span title=\"0.17383151010944808\" style=\"background-color:rgba(255, 0, 0, 0.17383151010944808);\"> Sino</span><span title=\"0.1514347030998257\" style=\"background-color:rgba(255, 0, 0, 0.1514347030998257);\"> -</span><span title=\"0.1825597367315184\" style=\"background-color:rgba(255, 0, 0, 0.1825597367315184);\"> Japanese</span><span title=\"0.17224889780083377\" style=\"background-color:rgba(255, 0, 0, 0.17224889780083377);\"> War</span><span title=\"0.0648173079319355\" style=\"background-color:rgba(255, 0, 0, 0.0648173079319355);\"> in</span><span title=\"0.546751226918252\" style=\"background-color:rgba(255, 0, 0, 0.546751226918252);\"> 1937</span><span title=\"0.0177542052523424\" style=\"background-color:rgba(255, 0, 0, 0.0177542052523424);\"> ,</span><span title=\"0.14986520032888762\" style=\"background-color:rgba(255, 0, 0, 0.14986520032888762);\"> Japan</span><span title=\"0.09773407241574301\" style=\"background-color:rgba(255, 0, 0, 0.09773407241574301);\"> 's</span><span title=\"0.10483532233742447\" style=\"background-color:rgba(255, 0, 0, 0.10483532233742447);\"> military</span><span title=\"0.022563260735934936\" style=\"background-color:rgba(255, 0, 0, 0.022563260735934936);\"> invaded</span><span title=\"0.08567721796881456\" style=\"background-color:rgba(255, 0, 0, 0.08567721796881456);\"> central</span><span title=\"0.11763490509356375\" style=\"background-color:rgba(255, 0, 0, 0.11763490509356375);\"> China</span><span title=\"0.037918002964990885\" style=\"background-color:rgba(255, 0, 0, 0.037918002964990885);\"> and</span><span title=\"0.04262257546639635\" style=\"background-color:rgba(255, 0, 0, 0.04262257546639635);\"> by</span><span title=\"0.08252724346094308\" style=\"background-color:rgba(255, 0, 0, 0.08252724346094308);\"> the</span><span title=\"0.10419584388978483\" style=\"background-color:rgba(255, 0, 0, 0.10419584388978483);\"> end</span><span title=\"0.07494744249065122\" style=\"background-color:rgba(255, 0, 0, 0.07494744249065122);\"> of</span><span title=\"0.15941856006934235\" style=\"background-color:rgba(255, 0, 0, 0.15941856006934235);\"> the</span><span title=\"0.3242319068433841\" style=\"background-color:rgba(255, 0, 0, 0.3242319068433841);\"> Pacific</span><span title=\"0.30096675607223505\" style=\"background-color:rgba(255, 0, 0, 0.30096675607223505);\"> War</span><span title=\"0.03221496772255483\" style=\"background-color:rgba(255, 0, 0, 0.03221496772255483);\"> ,</span><span title=\"0.11735238578514859\" style=\"background-color:rgba(255, 0, 0, 0.11735238578514859);\"> Japan</span><span title=\"0.02645135181300451\" style=\"background-color:rgba(255, 0, 0, 0.02645135181300451);\"> had</span><span title=\"0.029189463444208464\" style=\"background-color:rgba(255, 0, 0, 0.029189463444208464);\"> conquered</span><span title=\"0.03991741365265158\" style=\"background-color:rgba(255, 0, 0, 0.03991741365265158);\"> much</span><span title=\"0.033191143591034075\" style=\"background-color:rgba(255, 0, 0, 0.033191143591034075);\"> of</span><span title=\"0.12990084787771045\" style=\"background-color:rgba(255, 0, 0, 0.12990084787771045);\"> the</span><span title=\"0.26998822602529676\" style=\"background-color:rgba(255, 0, 0, 0.26998822602529676);\"> Far</span><span title=\"0.2522507323888359\" style=\"background-color:rgba(255, 0, 0, 0.2522507323888359);\"> East</span><span title=\"0.04401750070032514\" style=\"background-color:rgba(255, 0, 0, 0.04401750070032514);\"> ,</span><span title=\"0.05336506566713052\" style=\"background-color:rgba(255, 0, 0, 0.05336506566713052);\"> including</span><span title=\"0.37879168387397927\" style=\"background-color:rgba(255, 0, 0, 0.37879168387397927);\"> Hong</span><span title=\"0.3740364487980923\" style=\"background-color:rgba(255, 0, 0, 0.3740364487980923);\"> Kong</span><span title=\"0.13637227033683133\" style=\"background-color:rgba(255, 0, 0, 0.13637227033683133);\"> ,</span><span title=\"0.19329287005267184\" style=\"background-color:rgba(255, 0, 0, 0.19329287005267184);\"> Vietnam</span><span title=\"0.08911284673659747\" style=\"background-color:rgba(255, 0, 0, 0.08911284673659747);\"> ,</span><span title=\"0.15314094004912707\" style=\"background-color:rgba(255, 0, 0, 0.15314094004912707);\"> Cambodia</span><span title=\"0.06701708635121324\" style=\"background-color:rgba(255, 0, 0, 0.06701708635121324);\"> ,</span><span title=\"0.1289558226241487\" style=\"background-color:rgba(255, 0, 0, 0.1289558226241487);\"> Myanmar</span><span title=\"0.048623431226012356\" style=\"background-color:rgba(255, 0, 0, 0.048623431226012356);\"> ,</span><span title=\"0.06228604346448232\" style=\"background-color:rgba(255, 0, 0, 0.06228604346448232);\"> the</span><span title=\"0.1457227290824698\" style=\"background-color:rgba(255, 0, 0, 0.1457227290824698);\"> Philippines</span><span title=\"0.04805845393188387\" style=\"background-color:rgba(255, 0, 0, 0.04805845393188387);\"> ,</span><span title=\"0.0965566730951126\" style=\"background-color:rgba(255, 0, 0, 0.0965566730951126);\"> Indonesia</span><span title=\"0.02672873072535632\" style=\"background-color:rgba(255, 0, 0, 0.02672873072535632);\"> ,</span><span title=\"0.03076996840620698\" style=\"background-color:rgba(255, 0, 0, 0.03076996840620698);\"> part</span><span title=\"0.026145001485036474\" style=\"background-color:rgba(255, 0, 0, 0.026145001485036474);\"> of</span><span title=\"0.1271693326593765\" style=\"background-color:rgba(255, 0, 0, 0.1271693326593765);\"> New</span><span title=\"0.12320305498590632\" style=\"background-color:rgba(255, 0, 0, 0.12320305498590632);\"> Guinea</span><span title=\"0.054594555313568036\" style=\"background-color:rgba(255, 0, 0, 0.054594555313568036);\"> and</span><span title=\"0.05823976018368151\" style=\"background-color:rgba(255, 0, 0, 0.05823976018368151);\"> some</span><span title=\"0.06173795837948602\" style=\"background-color:rgba(255, 0, 0, 0.06173795837948602);\"> islands</span><span title=\"0.0452084690495449\" style=\"background-color:rgba(255, 0, 0, 0.0452084690495449);\"> of</span><span title=\"0.10342218440398099\" style=\"background-color:rgba(255, 0, 0, 0.10342218440398099);\"> the</span><span title=\"0.26579899220107184\" style=\"background-color:rgba(255, 0, 0, 0.26579899220107184);\"> Pacific</span><span title=\"0.2558609163947497\" style=\"background-color:rgba(255, 0, 0, 0.2558609163947497);\"> Ocean</span><span title=\"0.027913952499689015\" style=\"background-color:rgba(255, 0, 0, 0.027913952499689015);\"> .</span>"
            ],
            "text/plain": [
              "<IPython.core.display.HTML object>"
            ]
          },
          "metadata": {
            "tags": []
          }
        },
        {
          "output_type": "stream",
          "text": [
            "\n"
          ],
          "name": "stdout"
        },
        {
          "output_type": "display_data",
          "data": {
            "text/html": [
              "<span title=\"0.22265465311474653\" style=\"background-color:rgba(255, 0, 0, 0.22265465311474653);text-decoration: underline\"> Bolshevik</span><span title=\"0.14543598438775704\" style=\"background-color:rgba(255, 0, 0, 0.14543598438775704);text-decoration: underline\"> leaders</span><span title=\"0.03089654772990787\" style=\"background-color:rgba(255, 0, 0, 0.03089654772990787);\"> had</span><span title=\"0.03425212665001871\" style=\"background-color:rgba(255, 0, 0, 0.03425212665001871);\"> effectively</span><span title=\"0.04339864119932551\" style=\"background-color:rgba(255, 0, 0, 0.04339864119932551);\"> reestablished</span><span title=\"0.0720829729519532\" style=\"background-color:rgba(255, 0, 0, 0.0720829729519532);\"> a</span><span title=\"0.0870997496451988\" style=\"background-color:rgba(255, 0, 0, 0.0870997496451988);\"> polity</span><span title=\"0.040396508631990444\" style=\"background-color:rgba(255, 0, 0, 0.040396508631990444);\"> with</span><span title=\"0.056801323843127804\" style=\"background-color:rgba(255, 0, 0, 0.056801323843127804);\"> roughly</span><span title=\"0.05562702207448204\" style=\"background-color:rgba(255, 0, 0, 0.05562702207448204);\"> the</span><span title=\"0.06696227905894785\" style=\"background-color:rgba(255, 0, 0, 0.06696227905894785);\"> same</span><span title=\"0.06685546901035039\" style=\"background-color:rgba(255, 0, 0, 0.06685546901035039);\"> extent</span><span title=\"0.031012839779854508\" style=\"background-color:rgba(255, 0, 0, 0.031012839779854508);\"> as</span><span title=\"0.03792333706847342\" style=\"background-color:rgba(255, 0, 0, 0.03792333706847342);\"> that</span><span title=\"0.04731723163639151\" style=\"background-color:rgba(255, 0, 0, 0.04731723163639151);\"> empire</span><span title=\"0.020499785574218287\" style=\"background-color:rgba(255, 0, 0, 0.020499785574218287);\"> by</span><span title=\"0.5801440883237121\" style=\"background-color:rgba(255, 0, 0, 0.5801440883237121);\"> 1921</span><span title=\"0.018868747495997866\" style=\"background-color:rgba(255, 0, 0, 0.018868747495997866);\"> ,</span><span title=\"0.02009117001780305\" style=\"background-color:rgba(255, 0, 0, 0.02009117001780305);\"> however</span><span title=\"0.020824666427210533\" style=\"background-color:rgba(255, 0, 0, 0.020824666427210533);\"> with</span><span title=\"0.04165541792855168\" style=\"background-color:rgba(255, 0, 0, 0.04165541792855168);\"> an</span><span title=\"0.06825961511885081\" style=\"background-color:rgba(255, 0, 0, 0.06825961511885081);\"> internationalist</span><span title=\"0.06788353594682753\" style=\"background-color:rgba(255, 0, 0, 0.06788353594682753);\"> ideology</span><span title=\"0.016618304510934555\" style=\"background-color:rgba(255, 0, 0, 0.016618304510934555);\"> :</span><span title=\"0.15037097061579383\" style=\"background-color:rgba(255, 0, 0, 0.15037097061579383);text-decoration: underline\"> Lenin</span><span title=\"0.03696010720952141\" style=\"background-color:rgba(255, 0, 0, 0.03696010720952141);\"> in</span><span title=\"0.052969905431119346\" style=\"background-color:rgba(255, 0, 0, 0.052969905431119346);\"> particular</span><span title=\"0.03668799925175129\" style=\"background-color:rgba(255, 0, 0, 0.03668799925175129);\"> asserted</span><span title=\"0.08408723893839712\" style=\"background-color:rgba(255, 0, 0, 0.08408723893839712);\"> the</span><span title=\"0.11678642458420517\" style=\"background-color:rgba(255, 0, 0, 0.11678642458420517);\"> right</span><span title=\"0.08265584500037482\" style=\"background-color:rgba(255, 0, 0, 0.08265584500037482);\"> to</span><span title=\"0.15186092108702912\" style=\"background-color:rgba(255, 0, 0, 0.15186092108702912);\"> limited</span><span title=\"0.16543191257946976\" style=\"background-color:rgba(255, 0, 0, 0.16543191257946976);\"> self</span><span title=\"0.1464253466139256\" style=\"background-color:rgba(255, 0, 0, 0.1464253466139256);\"> -</span><span title=\"0.14144238928251895\" style=\"background-color:rgba(255, 0, 0, 0.14144238928251895);\"> determination</span><span title=\"0.07959176157919504\" style=\"background-color:rgba(255, 0, 0, 0.07959176157919504);\"> for</span><span title=\"0.11389716536452185\" style=\"background-color:rgba(255, 0, 0, 0.11389716536452185);\"> national</span><span title=\"0.10380532554473301\" style=\"background-color:rgba(255, 0, 0, 0.10380532554473301);\"> minorities</span><span title=\"0.05589135760389741\" style=\"background-color:rgba(255, 0, 0, 0.05589135760389741);\"> within</span><span title=\"0.0709200025079563\" style=\"background-color:rgba(255, 0, 0, 0.0709200025079563);\"> the</span><span title=\"0.09869287457798716\" style=\"background-color:rgba(255, 0, 0, 0.09869287457798716);\"> new</span><span title=\"0.10471620387820584\" style=\"background-color:rgba(255, 0, 0, 0.10471620387820584);\"> territory</span><span title=\"0.023929582202642203\" style=\"background-color:rgba(255, 0, 0, 0.023929582202642203);\"> .</span>"
            ],
            "text/plain": [
              "<IPython.core.display.HTML object>"
            ]
          },
          "metadata": {
            "tags": []
          }
        },
        {
          "output_type": "stream",
          "text": [
            "\n"
          ],
          "name": "stdout"
        },
        {
          "output_type": "display_data",
          "data": {
            "text/html": [
              "<span title=\"0.026120190940923046\" style=\"background-color:rgba(255, 0, 0, 0.026120190940923046);\"> Never</span><span title=\"0.030118694863427203\" style=\"background-color:rgba(255, 0, 0, 0.030118694863427203);\"> formally</span><span title=\"0.031490639467195096\" style=\"background-color:rgba(255, 0, 0, 0.031490639467195096);\"> revoked</span><span title=\"0.01450773623619991\" style=\"background-color:rgba(255, 0, 0, 0.01450773623619991);\"> ,</span><span title=\"0.01992412278642744\" style=\"background-color:rgba(255, 0, 0, 0.01992412278642744);\"> it</span><span title=\"0.021675159535160207\" style=\"background-color:rgba(255, 0, 0, 0.021675159535160207);\"> stopped</span><span title=\"0.03538772689476079\" style=\"background-color:rgba(255, 0, 0, 0.03538772689476079);\"> being</span><span title=\"0.0532012178756926\" style=\"background-color:rgba(255, 0, 0, 0.0532012178756926);\"> implemented</span><span title=\"0.05935239068015391\" style=\"background-color:rgba(255, 0, 0, 0.05935239068015391);\"> after</span><span title=\"0.565056664758165\" style=\"background-color:rgba(255, 0, 0, 0.565056664758165);text-decoration: underline\"> 1932</span><span title=\"0.028221146337136942\" style=\"background-color:rgba(255, 0, 0, 0.028221146337136942);\"> .</span>"
            ],
            "text/plain": [
              "<IPython.core.display.HTML object>"
            ]
          },
          "metadata": {
            "tags": []
          }
        },
        {
          "output_type": "stream",
          "text": [
            "\n"
          ],
          "name": "stdout"
        },
        {
          "output_type": "display_data",
          "data": {
            "text/html": [
              "<span title=\"0.018152231874837926\" style=\"background-color:rgba(255, 0, 0, 0.018152231874837926);\"> In</span><span title=\"0.03209027555888852\" style=\"background-color:rgba(255, 0, 0, 0.03209027555888852);\"> his</span><span title=\"0.044892282209522225\" style=\"background-color:rgba(255, 0, 0, 0.044892282209522225);\"> speech</span><span title=\"0.028330585749042746\" style=\"background-color:rgba(255, 0, 0, 0.028330585749042746);\"> on</span><span title=\"0.06289851545494332\" style=\"background-color:rgba(255, 0, 0, 0.06289851545494332);\"> the</span><span title=\"0.18386013281172092\" style=\"background-color:rgba(255, 0, 0, 0.18386013281172092);\"> UN</span><span title=\"0.15401475889262958\" style=\"background-color:rgba(255, 0, 0, 0.15401475889262958);\"> conference</span><span title=\"0.09276532706731216\" style=\"background-color:rgba(255, 0, 0, 0.09276532706731216);\"> in</span><span title=\"0.5724799658061619\" style=\"background-color:rgba(255, 0, 0, 0.5724799658061619);\"> 1960</span><span title=\"0.01925184479764947\" style=\"background-color:rgba(255, 0, 0, 0.01925184479764947);\"> ,</span><span title=\"0.031841909336790104\" style=\"background-color:rgba(255, 0, 0, 0.031841909336790104);\"> he</span><span title=\"0.037604703738069796\" style=\"background-color:rgba(255, 0, 0, 0.037604703738069796);\"> announced</span><span title=\"0.10991529635307609\" style=\"background-color:rgba(255, 0, 0, 0.10991529635307609);\"> the</span><span title=\"0.157850505888863\" style=\"background-color:rgba(255, 0, 0, 0.157850505888863);\"> continuation</span><span title=\"0.12847546731264553\" style=\"background-color:rgba(255, 0, 0, 0.12847546731264553);\"> of</span><span title=\"0.16195953229750712\" style=\"background-color:rgba(255, 0, 0, 0.16195953229750712);\"> the</span><span title=\"0.190521856410791\" style=\"background-color:rgba(255, 0, 0, 0.190521856410791);\"> war</span><span title=\"0.1499946485013685\" style=\"background-color:rgba(255, 0, 0, 0.1499946485013685);\"> on</span><span title=\"0.20919360534593545\" style=\"background-color:rgba(255, 0, 0, 0.20919360534593545);\"> imperialism</span><span title=\"0.028931807552916328\" style=\"background-color:rgba(255, 0, 0, 0.028931807552916328);\"> ,</span><span title=\"0.033204117604523346\" style=\"background-color:rgba(255, 0, 0, 0.033204117604523346);\"> stating</span><span title=\"0.0452813217459225\" style=\"background-color:rgba(255, 0, 0, 0.0452813217459225);\"> that</span><span title=\"0.09455822190234803\" style=\"background-color:rgba(255, 0, 0, 0.09455822190234803);\"> soon</span><span title=\"0.16272864682031168\" style=\"background-color:rgba(255, 0, 0, 0.16272864682031168);\"> the</span><span title=\"0.22488333329557758\" style=\"background-color:rgba(255, 0, 0, 0.22488333329557758);\"> people</span><span title=\"0.20863264519756988\" style=\"background-color:rgba(255, 0, 0, 0.20863264519756988);\"> of</span><span title=\"0.28034588727991094\" style=\"background-color:rgba(255, 0, 0, 0.28034588727991094);\"> different</span><span title=\"0.28078573434234366\" style=\"background-color:rgba(255, 0, 0, 0.28078573434234366);\"> countries</span><span title=\"0.2222696618758546\" style=\"background-color:rgba(255, 0, 0, 0.2222696618758546);\"> will</span><span title=\"0.25011164517955536\" style=\"background-color:rgba(255, 0, 0, 0.25011164517955536);\"> come</span><span title=\"0.2691717500094547\" style=\"background-color:rgba(255, 0, 0, 0.2691717500094547);\"> together</span><span title=\"0.2687845720064688\" style=\"background-color:rgba(255, 0, 0, 0.2687845720064688);\"> and</span><span title=\"0.28851138171445645\" style=\"background-color:rgba(255, 0, 0, 0.28851138171445645);\"> overthrow</span><span title=\"0.2941696677626294\" style=\"background-color:rgba(255, 0, 0, 0.2941696677626294);\"> their</span><span title=\"0.32308926882041544\" style=\"background-color:rgba(255, 0, 0, 0.32308926882041544);\"> imperialist</span><span title=\"0.3096079997839396\" style=\"background-color:rgba(255, 0, 0, 0.3096079997839396);\"> leaders</span><span title=\"0.061733985716566214\" style=\"background-color:rgba(255, 0, 0, 0.061733985716566214);\"> .</span>"
            ],
            "text/plain": [
              "<IPython.core.display.HTML object>"
            ]
          },
          "metadata": {
            "tags": []
          }
        },
        {
          "output_type": "stream",
          "text": [
            "\n"
          ],
          "name": "stdout"
        },
        {
          "output_type": "display_data",
          "data": {
            "text/html": [
              "<span title=\"0.08111375653160996\" style=\"background-color:rgba(255, 0, 0, 0.08111375653160996);text-decoration: underline\"> The</span><span title=\"0.1623609127213773\" style=\"background-color:rgba(255, 0, 0, 0.1623609127213773);text-decoration: underline\"> British</span><span title=\"0.139209198011692\" style=\"background-color:rgba(255, 0, 0, 0.139209198011692);text-decoration: underline\"> spirit</span><span title=\"0.1142661740776712\" style=\"background-color:rgba(255, 0, 0, 0.1142661740776712);text-decoration: underline\"> of</span><span title=\"0.14349509324090073\" style=\"background-color:rgba(255, 0, 0, 0.14349509324090073);text-decoration: underline\"> imperialism</span><span title=\"0.019540113301213472\" style=\"background-color:rgba(255, 0, 0, 0.019540113301213472);\"> was</span><span title=\"0.0239674674575975\" style=\"background-color:rgba(255, 0, 0, 0.0239674674575975);\"> expressed</span><span title=\"0.05385824136362706\" style=\"background-color:rgba(255, 0, 0, 0.05385824136362706);\"> by</span><span title=\"0.6178398853431888\" style=\"background-color:rgba(255, 0, 0, 0.6178398853431888);\"> Joseph</span><span title=\"0.5641822374044309\" style=\"background-color:rgba(255, 0, 0, 0.5641822374044309);\"> Chamberlain</span><span title=\"0.3220325524344197\" style=\"background-color:rgba(255, 0, 0, 0.3220325524344197);\"> and</span><span title=\"0.4265502739555158\" style=\"background-color:rgba(255, 0, 0, 0.4265502739555158);\"> Lord</span><span title=\"0.4051480727049229\" style=\"background-color:rgba(255, 0, 0, 0.4051480727049229);\"> Rosebury</span><span title=\"0.08716375428412414\" style=\"background-color:rgba(255, 0, 0, 0.08716375428412414);\"> ,</span><span title=\"0.06253745366297722\" style=\"background-color:rgba(255, 0, 0, 0.06253745366297722);\"> and</span><span title=\"0.056316619373327916\" style=\"background-color:rgba(255, 0, 0, 0.056316619373327916);\"> implemented</span><span title=\"0.03844864181512703\" style=\"background-color:rgba(255, 0, 0, 0.03844864181512703);\"> in</span><span title=\"0.13924071898093632\" style=\"background-color:rgba(255, 0, 0, 0.13924071898093632);\"> Africa</span><span title=\"0.03938484200693145\" style=\"background-color:rgba(255, 0, 0, 0.03938484200693145);\"> by</span><span title=\"0.6433161319843873\" style=\"background-color:rgba(255, 0, 0, 0.6433161319843873);\"> Cecil</span><span title=\"0.6123050348772436\" style=\"background-color:rgba(255, 0, 0, 0.6123050348772436);\"> Rhodes</span><span title=\"0.058791012329989525\" style=\"background-color:rgba(255, 0, 0, 0.058791012329989525);\"> .</span>"
            ],
            "text/plain": [
              "<IPython.core.display.HTML object>"
            ]
          },
          "metadata": {
            "tags": []
          }
        },
        {
          "output_type": "stream",
          "text": [
            "\n"
          ],
          "name": "stdout"
        },
        {
          "output_type": "display_data",
          "data": {
            "text/html": [
              "<span title=\"0.11248516511365791\" style=\"background-color:rgba(255, 0, 0, 0.11248516511365791);\"> American</span><span title=\"0.09670498555474061\" style=\"background-color:rgba(255, 0, 0, 0.09670498555474061);\"> foreign</span><span title=\"0.0919498210770193\" style=\"background-color:rgba(255, 0, 0, 0.0919498210770193);\"> policy</span><span title=\"0.030024550965577705\" style=\"background-color:rgba(255, 0, 0, 0.030024550965577705);\"> was</span><span title=\"0.04059842832868951\" style=\"background-color:rgba(255, 0, 0, 0.04059842832868951);\"> denounced</span><span title=\"0.055716463410663095\" style=\"background-color:rgba(255, 0, 0, 0.055716463410663095);\"> as</span><span title=\"0.1363510135197073\" style=\"background-color:rgba(255, 0, 0, 0.1363510135197073);text-decoration: underline\"> a</span><span title=\"0.14621562062122775\" style=\"background-color:rgba(255, 0, 0, 0.14621562062122775);text-decoration: underline\"> \"</span><span title=\"0.2069468276862397\" style=\"background-color:rgba(255, 0, 0, 0.2069468276862397);text-decoration: underline\"> racket</span><span title=\"0.05122376455368698\" style=\"background-color:rgba(255, 0, 0, 0.05122376455368698);text-decoration: underline\"> \"</span><span title=\"0.05106436002503913\" style=\"background-color:rgba(255, 0, 0, 0.05106436002503913);\"> by</span><span title=\"0.6449867448197382\" style=\"background-color:rgba(255, 0, 0, 0.6449867448197382);\"> Smedley</span><span title=\"0.6034822498298653\" style=\"background-color:rgba(255, 0, 0, 0.6034822498298653);\"> Butler</span><span title=\"0.1546680482828401\" style=\"background-color:rgba(255, 0, 0, 0.1546680482828401);\"> ,</span><span title=\"0.15322885480733683\" style=\"background-color:rgba(255, 0, 0, 0.15322885480733683);\"> an</span><span title=\"0.24983661404664156\" style=\"background-color:rgba(255, 0, 0, 0.24983661404664156);\"> American</span><span title=\"0.2375034517381939\" style=\"background-color:rgba(255, 0, 0, 0.2375034517381939);\"> general</span><span title=\"0.06667713045835828\" style=\"background-color:rgba(255, 0, 0, 0.06667713045835828);\"> .</span>"
            ],
            "text/plain": [
              "<IPython.core.display.HTML object>"
            ]
          },
          "metadata": {
            "tags": []
          }
        },
        {
          "output_type": "stream",
          "text": [
            "\n"
          ],
          "name": "stdout"
        },
        {
          "output_type": "display_data",
          "data": {
            "text/html": [
              "<span title=\"0.27480462597033706\" style=\"background-color:rgba(255, 0, 0, 0.27480462597033706);\"> Three</span><span title=\"0.16077277565740458\" style=\"background-color:rgba(255, 0, 0, 0.16077277565740458);\"> years</span><span title=\"0.10835228445548802\" style=\"background-color:rgba(255, 0, 0, 0.10835228445548802);\"> later</span><span title=\"0.042411703273716975\" style=\"background-color:rgba(255, 0, 0, 0.042411703273716975);\"> in</span><span title=\"0.5466849149240852\" style=\"background-color:rgba(255, 0, 0, 0.5466849149240852);text-decoration: underline\"> 1917</span><span title=\"0.016331030844136774\" style=\"background-color:rgba(255, 0, 0, 0.016331030844136774);\"> ,</span><span title=\"0.024787995160236047\" style=\"background-color:rgba(255, 0, 0, 0.024787995160236047);\"> he</span><span title=\"0.016195175439909823\" style=\"background-color:rgba(255, 0, 0, 0.016195175439909823);\"> was</span><span title=\"0.025910338388023237\" style=\"background-color:rgba(255, 0, 0, 0.025910338388023237);\"> appointed</span><span title=\"0.038883208336927585\" style=\"background-color:rgba(255, 0, 0, 0.038883208336927585);\"> to</span><span title=\"0.08031592712958088\" style=\"background-color:rgba(255, 0, 0, 0.08031592712958088);\"> then</span><span title=\"0.21094564032138247\" style=\"background-color:rgba(255, 0, 0, 0.21094564032138247);\"> President</span><span title=\"0.25172275340094674\" style=\"background-color:rgba(255, 0, 0, 0.25172275340094674);\"> Woodrow</span><span title=\"0.2500737758441726\" style=\"background-color:rgba(255, 0, 0, 0.2500737758441726);\"> Wilson</span><span title=\"0.17925315677052603\" style=\"background-color:rgba(255, 0, 0, 0.17925315677052603);\"> 's</span><span title=\"0.18031635837292379\" style=\"background-color:rgba(255, 0, 0, 0.18031635837292379);\"> inquiry</span><span title=\"0.10854466095482347\" style=\"background-color:rgba(255, 0, 0, 0.10854466095482347);\"> in</span><span title=\"0.506699610795684\" style=\"background-color:rgba(255, 0, 0, 0.506699610795684);text-decoration: underline\"> 1917</span><span title=\"0.02458056238320403\" style=\"background-color:rgba(255, 0, 0, 0.02458056238320403);\"> .</span>"
            ],
            "text/plain": [
              "<IPython.core.display.HTML object>"
            ]
          },
          "metadata": {
            "tags": []
          }
        },
        {
          "output_type": "stream",
          "text": [
            "\n"
          ],
          "name": "stdout"
        },
        {
          "output_type": "display_data",
          "data": {
            "text/html": [
              "<span title=\"0.040767252756217835\" style=\"background-color:rgba(255, 0, 0, 0.040767252756217835);\"> Its</span><span title=\"0.05392423537241263\" style=\"background-color:rgba(255, 0, 0, 0.05392423537241263);\"> population</span><span title=\"0.008826770370798053\" style=\"background-color:rgba(255, 0, 0, 0.008826770370798053);\"> is</span><span title=\"0.014700358170206443\" style=\"background-color:rgba(255, 0, 0, 0.014700358170206443);\"> estimated</span><span title=\"0.03818757651576624\" style=\"background-color:rgba(255, 0, 0, 0.03818757651576624);\"> at</span><span title=\"0.7467029110432405\" style=\"background-color:rgba(255, 0, 0, 0.7467029110432405);\"> 1.740</span><span title=\"0.6264079371649837\" style=\"background-color:rgba(255, 0, 0, 0.6264079371649837);\"> million</span><span title=\"0.18566923877213226\" style=\"background-color:rgba(255, 0, 0, 0.18566923877213226);\"> residents</span><span title=\"0.08628418302522897\" style=\"background-color:rgba(255, 0, 0, 0.08628418302522897);\"> within</span><span title=\"0.18609138411293952\" style=\"background-color:rgba(255, 0, 0, 0.18609138411293952);\"> a</span><span title=\"0.23592143177652591\" style=\"background-color:rgba(255, 0, 0, 0.23592143177652591);\"> greater</span><span title=\"0.2341530314600238\" style=\"background-color:rgba(255, 0, 0, 0.2341530314600238);\"> metropolitan</span><span title=\"0.2172306664431596\" style=\"background-color:rgba(255, 0, 0, 0.2172306664431596);\"> area</span><span title=\"0.1564552637646186\" style=\"background-color:rgba(255, 0, 0, 0.1564552637646186);\"> of</span><span title=\"0.6778917074788247\" style=\"background-color:rgba(255, 0, 0, 0.6778917074788247);text-decoration: underline\"> 2.666</span><span title=\"0.6354929701648936\" style=\"background-color:rgba(255, 0, 0, 0.6354929701648936);text-decoration: underline\"> million</span><span title=\"0.2919245708308754\" style=\"background-color:rgba(255, 0, 0, 0.2919245708308754);text-decoration: underline\"> residents</span><span title=\"0.05222157794048789\" style=\"background-color:rgba(255, 0, 0, 0.05222157794048789);\"> ,</span><span title=\"0.02716190713083095\" style=\"background-color:rgba(255, 0, 0, 0.02716190713083095);\"> which</span><span title=\"0.035373839558001365\" style=\"background-color:rgba(255, 0, 0, 0.035373839558001365);\"> makes</span><span title=\"0.1389036576828\" style=\"background-color:rgba(255, 0, 0, 0.1389036576828);\"> Warsaw</span><span title=\"0.06584391784409543\" style=\"background-color:rgba(255, 0, 0, 0.06584391784409543);\"> the</span><span title=\"0.08768253169692994\" style=\"background-color:rgba(255, 0, 0, 0.08768253169692994);text-decoration: underline\"> 9th</span><span title=\"0.06747310949057432\" style=\"background-color:rgba(255, 0, 0, 0.06747310949057432);\"> most</span><span title=\"0.057201255999908204\" style=\"background-color:rgba(255, 0, 0, 0.057201255999908204);\"> -</span><span title=\"0.0649466809608114\" style=\"background-color:rgba(255, 0, 0, 0.0649466809608114);\"> populous</span><span title=\"0.0685963070752837\" style=\"background-color:rgba(255, 0, 0, 0.0685963070752837);\"> capital</span><span title=\"0.06763082221570818\" style=\"background-color:rgba(255, 0, 0, 0.06763082221570818);\"> city</span><span title=\"0.0476396694033973\" style=\"background-color:rgba(255, 0, 0, 0.0476396694033973);\"> in</span><span title=\"0.11907272660538012\" style=\"background-color:rgba(255, 0, 0, 0.11907272660538012);\"> the</span><span title=\"0.25081380124065994\" style=\"background-color:rgba(255, 0, 0, 0.25081380124065994);\"> European</span><span title=\"0.24778491767937452\" style=\"background-color:rgba(255, 0, 0, 0.24778491767937452);\"> Union</span><span title=\"0.025615140074904966\" style=\"background-color:rgba(255, 0, 0, 0.025615140074904966);\"> .</span>"
            ],
            "text/plain": [
              "<IPython.core.display.HTML object>"
            ]
          },
          "metadata": {
            "tags": []
          }
        },
        {
          "output_type": "stream",
          "text": [
            "\n"
          ],
          "name": "stdout"
        },
        {
          "output_type": "display_data",
          "data": {
            "text/html": [
              "<span title=\"0.13938326196830014\" style=\"background-color:rgba(255, 0, 0, 0.13938326196830014);\"> Warsaw</span><span title=\"0.031027516829041667\" style=\"background-color:rgba(255, 0, 0, 0.031027516829041667);\"> remained</span><span title=\"0.0628758323147742\" style=\"background-color:rgba(255, 0, 0, 0.0628758323147742);\"> the</span><span title=\"0.11333634657004174\" style=\"background-color:rgba(255, 0, 0, 0.11333634657004174);\"> capital</span><span title=\"0.09185410505021925\" style=\"background-color:rgba(255, 0, 0, 0.09185410505021925);\"> of</span><span title=\"0.1344861838818591\" style=\"background-color:rgba(255, 0, 0, 0.1344861838818591);\"> the</span><span title=\"0.26310603150670586\" style=\"background-color:rgba(255, 0, 0, 0.26310603150670586);\"> Polish</span><span title=\"0.22500820789373835\" style=\"background-color:rgba(255, 0, 0, 0.22500820789373835);\"> –</span><span title=\"0.304258345538799\" style=\"background-color:rgba(255, 0, 0, 0.304258345538799);\"> Lithuanian</span><span title=\"0.26915577918250877\" style=\"background-color:rgba(255, 0, 0, 0.26915577918250877);\"> Commonwealth</span><span title=\"0.0463930426480296\" style=\"background-color:rgba(255, 0, 0, 0.0463930426480296);text-decoration: underline\"> until</span><span title=\"0.5610044219151187\" style=\"background-color:rgba(255, 0, 0, 0.5610044219151187);text-decoration: underline\"> 1796</span><span title=\"0.04830431262038128\" style=\"background-color:rgba(255, 0, 0, 0.04830431262038128);\"> ,</span><span title=\"0.04589504603330105\" style=\"background-color:rgba(255, 0, 0, 0.04589504603330105);\"> when</span><span title=\"0.05519904079448271\" style=\"background-color:rgba(255, 0, 0, 0.05519904079448271);\"> it</span><span title=\"0.052890247004177784\" style=\"background-color:rgba(255, 0, 0, 0.052890247004177784);\"> was</span><span title=\"0.07135645475313715\" style=\"background-color:rgba(255, 0, 0, 0.07135645475313715);\"> annexed</span><span title=\"0.0892926646165983\" style=\"background-color:rgba(255, 0, 0, 0.0892926646165983);\"> by</span><span title=\"0.18427692189427133\" style=\"background-color:rgba(255, 0, 0, 0.18427692189427133);\"> the</span><span title=\"0.2678356828075841\" style=\"background-color:rgba(255, 0, 0, 0.2678356828075841);text-decoration: underline\"> Kingdom</span><span title=\"0.21304444907754752\" style=\"background-color:rgba(255, 0, 0, 0.21304444907754752);text-decoration: underline\"> of</span><span title=\"0.23685938603681775\" style=\"background-color:rgba(255, 0, 0, 0.23685938603681775);text-decoration: underline\"> Prussia</span><span title=\"0.11121500048440983\" style=\"background-color:rgba(255, 0, 0, 0.11121500048440983);\"> to</span><span title=\"0.12235323665051862\" style=\"background-color:rgba(255, 0, 0, 0.12235323665051862);\"> become</span><span title=\"0.168031681292722\" style=\"background-color:rgba(255, 0, 0, 0.168031681292722);\"> the</span><span title=\"0.20406200783097533\" style=\"background-color:rgba(255, 0, 0, 0.20406200783097533);\"> capital</span><span title=\"0.17566717529806664\" style=\"background-color:rgba(255, 0, 0, 0.17566717529806664);\"> of</span><span title=\"0.20317321156597726\" style=\"background-color:rgba(255, 0, 0, 0.20317321156597726);\"> the</span><span title=\"0.22983140871795993\" style=\"background-color:rgba(255, 0, 0, 0.22983140871795993);\"> province</span><span title=\"0.1997867119814982\" style=\"background-color:rgba(255, 0, 0, 0.1997867119814982);\"> of</span><span title=\"0.4078904752013193\" style=\"background-color:rgba(255, 0, 0, 0.4078904752013193);\"> South</span><span title=\"0.4107641965964129\" style=\"background-color:rgba(255, 0, 0, 0.4107641965964129);\"> Prussia</span><span title=\"0.03828336740454531\" style=\"background-color:rgba(255, 0, 0, 0.03828336740454531);\"> .</span>"
            ],
            "text/plain": [
              "<IPython.core.display.HTML object>"
            ]
          },
          "metadata": {
            "tags": []
          }
        },
        {
          "output_type": "stream",
          "text": [
            "\n"
          ],
          "name": "stdout"
        },
        {
          "output_type": "display_data",
          "data": {
            "text/html": [
              "<span title=\"0.032367368855857406\" style=\"background-color:rgba(255, 0, 0, 0.032367368855857406);\"> When</span><span title=\"0.045921471100226145\" style=\"background-color:rgba(255, 0, 0, 0.045921471100226145);\"> the</span><span title=\"0.06236191485346977\" style=\"background-color:rgba(255, 0, 0, 0.06236191485346977);\"> order</span><span title=\"0.022788393278033694\" style=\"background-color:rgba(255, 0, 0, 0.022788393278033694);\"> came</span><span title=\"0.028365367930097217\" style=\"background-color:rgba(255, 0, 0, 0.028365367930097217);\"> to</span><span title=\"0.048053470445882485\" style=\"background-color:rgba(255, 0, 0, 0.048053470445882485);\"> annihilate</span><span title=\"0.07658598748585713\" style=\"background-color:rgba(255, 0, 0, 0.07658598748585713);\"> the</span><span title=\"0.09302019766782216\" style=\"background-color:rgba(255, 0, 0, 0.09302019766782216);\"> ghetto</span><span title=\"0.046083982354674126\" style=\"background-color:rgba(255, 0, 0, 0.046083982354674126);\"> as</span><span title=\"0.0621764627001829\" style=\"background-color:rgba(255, 0, 0, 0.0621764627001829);\"> part</span><span title=\"0.039179209760524886\" style=\"background-color:rgba(255, 0, 0, 0.039179209760524886);\"> of</span><span title=\"0.17729133098447067\" style=\"background-color:rgba(255, 0, 0, 0.17729133098447067);\"> Hitler</span><span title=\"0.11265040974591174\" style=\"background-color:rgba(255, 0, 0, 0.11265040974591174);\"> 's</span><span title=\"0.12399607262533328\" style=\"background-color:rgba(255, 0, 0, 0.12399607262533328);\"> \"</span><span title=\"0.40351225907749055\" style=\"background-color:rgba(255, 0, 0, 0.40351225907749055);\"> Final</span><span title=\"0.38221270480465647\" style=\"background-color:rgba(255, 0, 0, 0.38221270480465647);\"> Solution</span><span title=\"0.12933547277210666\" style=\"background-color:rgba(255, 0, 0, 0.12933547277210666);\"> \"</span><span title=\"0.10667798330940394\" style=\"background-color:rgba(255, 0, 0, 0.10667798330940394);\"> on</span><span title=\"0.6160157566874561\" style=\"background-color:rgba(255, 0, 0, 0.6160157566874561);text-decoration: underline\"> 19</span><span title=\"0.5498774478760473\" style=\"background-color:rgba(255, 0, 0, 0.5498774478760473);text-decoration: underline\"> April</span><span title=\"0.5490079226087645\" style=\"background-color:rgba(255, 0, 0, 0.5490079226087645);text-decoration: underline\"> 1943</span><span title=\"0.026069991392345514\" style=\"background-color:rgba(255, 0, 0, 0.026069991392345514);\"> ,</span><span title=\"0.13859657663119102\" style=\"background-color:rgba(255, 0, 0, 0.13859657663119102);\"> Jewish</span><span title=\"0.09302402769258902\" style=\"background-color:rgba(255, 0, 0, 0.09302402769258902);\"> fighters</span><span title=\"0.046126532145379096\" style=\"background-color:rgba(255, 0, 0, 0.046126532145379096);\"> launched</span><span title=\"0.1621605879753292\" style=\"background-color:rgba(255, 0, 0, 0.1621605879753292);\"> the</span><span title=\"0.40311792389272927\" style=\"background-color:rgba(255, 0, 0, 0.40311792389272927);\"> Warsaw</span><span title=\"0.40349307418951125\" style=\"background-color:rgba(255, 0, 0, 0.40349307418951125);\"> Ghetto</span><span title=\"0.38953384426119797\" style=\"background-color:rgba(255, 0, 0, 0.38953384426119797);\"> Uprising</span><span title=\"0.050891837503670184\" style=\"background-color:rgba(255, 0, 0, 0.050891837503670184);\"> .</span>"
            ],
            "text/plain": [
              "<IPython.core.display.HTML object>"
            ]
          },
          "metadata": {
            "tags": []
          }
        },
        {
          "output_type": "stream",
          "text": [
            "\n"
          ],
          "name": "stdout"
        },
        {
          "output_type": "display_data",
          "data": {
            "text/html": [
              "<span title=\"0.03367243140903302\" style=\"background-color:rgba(255, 0, 0, 0.03367243140903302);\"> In</span><span title=\"0.4614013284726982\" style=\"background-color:rgba(255, 0, 0, 0.4614013284726982);text-decoration: underline\"> 1979</span><span title=\"0.017019796736783718\" style=\"background-color:rgba(255, 0, 0, 0.017019796736783718);\"> ,</span><span title=\"0.09521424936590943\" style=\"background-color:rgba(255, 0, 0, 0.09521424936590943);text-decoration: underline\"> less</span><span title=\"0.09600353338070637\" style=\"background-color:rgba(255, 0, 0, 0.09600353338070637);text-decoration: underline\"> than</span><span title=\"0.11580262946125472\" style=\"background-color:rgba(255, 0, 0, 0.11580262946125472);text-decoration: underline\"> a</span><span title=\"0.11416648711276312\" style=\"background-color:rgba(255, 0, 0, 0.11416648711276312);text-decoration: underline\"> year</span><span title=\"0.05987181167017839\" style=\"background-color:rgba(255, 0, 0, 0.05987181167017839);\"> after</span><span title=\"0.074186833241645\" style=\"background-color:rgba(255, 0, 0, 0.074186833241645);\"> becoming</span><span title=\"0.13463230859867004\" style=\"background-color:rgba(255, 0, 0, 0.13463230859867004);\"> pope</span><span title=\"0.020168616591656245\" style=\"background-color:rgba(255, 0, 0, 0.020168616591656245);\"> ,</span><span title=\"0.6060037809610721\" style=\"background-color:rgba(255, 0, 0, 0.6060037809610721);\"> John</span><span title=\"0.5545355430508399\" style=\"background-color:rgba(255, 0, 0, 0.5545355430508399);\"> Paul</span><span title=\"0.1343649645764683\" style=\"background-color:rgba(255, 0, 0, 0.1343649645764683);\"> celebrated</span><span title=\"0.22388124406151874\" style=\"background-color:rgba(255, 0, 0, 0.22388124406151874);\"> Mass</span><span title=\"0.07266759555705136\" style=\"background-color:rgba(255, 0, 0, 0.07266759555705136);\"> in</span><span title=\"0.43016253099702484\" style=\"background-color:rgba(255, 0, 0, 0.43016253099702484);text-decoration: underline\"> Victory</span><span title=\"0.39363144307336595\" style=\"background-color:rgba(255, 0, 0, 0.39363144307336595);text-decoration: underline\"> Square</span><span title=\"0.1401977346527227\" style=\"background-color:rgba(255, 0, 0, 0.1401977346527227);\"> in</span><span title=\"0.2313062980492066\" style=\"background-color:rgba(255, 0, 0, 0.2313062980492066);\"> Warsaw</span><span title=\"0.0657267760910571\" style=\"background-color:rgba(255, 0, 0, 0.0657267760910571);\"> and</span><span title=\"0.05035647802348925\" style=\"background-color:rgba(255, 0, 0, 0.05035647802348925);\"> ended</span><span title=\"0.054766326236456775\" style=\"background-color:rgba(255, 0, 0, 0.054766326236456775);\"> his</span><span title=\"0.061917739315527257\" style=\"background-color:rgba(255, 0, 0, 0.061917739315527257);\"> sermon</span><span title=\"0.0374336243439199\" style=\"background-color:rgba(255, 0, 0, 0.0374336243439199);\"> with</span><span title=\"0.093748772072791\" style=\"background-color:rgba(255, 0, 0, 0.093748772072791);\"> a</span><span title=\"0.10080235579435952\" style=\"background-color:rgba(255, 0, 0, 0.10080235579435952);\"> call</span><span title=\"0.08575783802247072\" style=\"background-color:rgba(255, 0, 0, 0.08575783802247072);\"> to</span><span title=\"0.09386105274826792\" style=\"background-color:rgba(255, 0, 0, 0.09386105274826792);\"> \"</span><span title=\"0.18510827047966244\" style=\"background-color:rgba(255, 0, 0, 0.18510827047966244);\"> renew</span><span title=\"0.24973725057951984\" style=\"background-color:rgba(255, 0, 0, 0.24973725057951984);\"> the</span><span title=\"0.2820051440677161\" style=\"background-color:rgba(255, 0, 0, 0.2820051440677161);\"> face</span><span title=\"0.15629664165071974\" style=\"background-color:rgba(255, 0, 0, 0.15629664165071974);\"> \"</span><span title=\"0.14184337798972446\" style=\"background-color:rgba(255, 0, 0, 0.14184337798972446);\"> of</span><span title=\"0.22541540259632922\" style=\"background-color:rgba(255, 0, 0, 0.22541540259632922);\"> Poland</span><span title=\"0.10188984117619425\" style=\"background-color:rgba(255, 0, 0, 0.10188984117619425);\"> :</span><span title=\"0.14184307973118165\" style=\"background-color:rgba(255, 0, 0, 0.14184307973118165);\"> Let</span><span title=\"0.22182704948036483\" style=\"background-color:rgba(255, 0, 0, 0.22182704948036483);\"> Thy</span><span title=\"0.2540073297688004\" style=\"background-color:rgba(255, 0, 0, 0.2540073297688004);\"> Spirit</span><span title=\"0.2119875612606233\" style=\"background-color:rgba(255, 0, 0, 0.2119875612606233);\"> descend</span><span title=\"0.1724505342945047\" style=\"background-color:rgba(255, 0, 0, 0.1724505342945047);\"> !</span>"
            ],
            "text/plain": [
              "<IPython.core.display.HTML object>"
            ]
          },
          "metadata": {
            "tags": []
          }
        },
        {
          "output_type": "stream",
          "text": [
            "\n"
          ],
          "name": "stdout"
        },
        {
          "output_type": "display_data",
          "data": {
            "text/html": [
              "<span title=\"0.09256270835229044\" style=\"background-color:rgba(255, 0, 0, 0.09256270835229044);\"> The</span><span title=\"0.13007133303128768\" style=\"background-color:rgba(255, 0, 0, 0.13007133303128768);\"> significant</span><span title=\"0.12801332155265938\" style=\"background-color:rgba(255, 0, 0, 0.12801332155265938);\"> element</span><span title=\"0.10384880936908088\" style=\"background-color:rgba(255, 0, 0, 0.10384880936908088);\"> of</span><span title=\"0.1373923063821784\" style=\"background-color:rgba(255, 0, 0, 0.1373923063821784);\"> the</span><span title=\"0.17559432707131803\" style=\"background-color:rgba(255, 0, 0, 0.17559432707131803);\"> relief</span><span title=\"0.06014683485773398\" style=\"background-color:rgba(255, 0, 0, 0.06014683485773398);\"> ,</span><span title=\"0.046923018240267414\" style=\"background-color:rgba(255, 0, 0, 0.046923018240267414);\"> in</span><span title=\"0.06382393765616275\" style=\"background-color:rgba(255, 0, 0, 0.06382393765616275);\"> this</span><span title=\"0.07325236906110535\" style=\"background-color:rgba(255, 0, 0, 0.07325236906110535);\"> part</span><span title=\"0.06776508602402648\" style=\"background-color:rgba(255, 0, 0, 0.06776508602402648);\"> of</span><span title=\"0.24302134403218636\" style=\"background-color:rgba(255, 0, 0, 0.24302134403218636);\"> Warsaw</span><span title=\"0.0319073597466093\" style=\"background-color:rgba(255, 0, 0, 0.0319073597466093);\"> ,</span><span title=\"0.01937449361015407\" style=\"background-color:rgba(255, 0, 0, 0.01937449361015407);\"> is</span><span title=\"0.06964039477637247\" style=\"background-color:rgba(255, 0, 0, 0.06964039477637247);\"> the</span><span title=\"0.10588297598918285\" style=\"background-color:rgba(255, 0, 0, 0.10588297598918285);\"> edge</span><span title=\"0.06865597105540898\" style=\"background-color:rgba(255, 0, 0, 0.06865597105540898);\"> of</span><span title=\"0.1956774509769108\" style=\"background-color:rgba(255, 0, 0, 0.1956774509769108);\"> moraine</span><span title=\"0.16416120949239532\" style=\"background-color:rgba(255, 0, 0, 0.16416120949239532);\"> plateau</span><span title=\"0.11513463431396025\" style=\"background-color:rgba(255, 0, 0, 0.11513463431396025);\"> called</span><span title=\"0.628250345029172\" style=\"background-color:rgba(255, 0, 0, 0.628250345029172);text-decoration: underline\"> Warsaw</span><span title=\"0.6147537530046006\" style=\"background-color:rgba(255, 0, 0, 0.6147537530046006);text-decoration: underline\"> Escarpment</span><span title=\"0.07719190242341126\" style=\"background-color:rgba(255, 0, 0, 0.07719190242341126);\"> .</span>"
            ],
            "text/plain": [
              "<IPython.core.display.HTML object>"
            ]
          },
          "metadata": {
            "tags": []
          }
        },
        {
          "output_type": "stream",
          "text": [
            "\n"
          ],
          "name": "stdout"
        },
        {
          "output_type": "display_data",
          "data": {
            "text/html": [
              "<span title=\"0.014495519694834928\" style=\"background-color:rgba(255, 0, 0, 0.014495519694834928);\"> In</span><span title=\"0.04859651209618683\" style=\"background-color:rgba(255, 0, 0, 0.04859651209618683);\"> the</span><span title=\"0.16087069094150377\" style=\"background-color:rgba(255, 0, 0, 0.16087069094150377);\"> 19th</span><span title=\"0.10685380128156727\" style=\"background-color:rgba(255, 0, 0, 0.10685380128156727);\"> century</span><span title=\"0.077769650524031\" style=\"background-color:rgba(255, 0, 0, 0.077769650524031);\"> the</span><span title=\"0.2984952799474978\" style=\"background-color:rgba(255, 0, 0, 0.2984952799474978);\"> Krasiński</span><span title=\"0.2828811772368564\" style=\"background-color:rgba(255, 0, 0, 0.2828811772368564);\"> Palace</span><span title=\"0.2651282374571443\" style=\"background-color:rgba(255, 0, 0, 0.2651282374571443);\"> Garden</span><span title=\"0.04738722765751272\" style=\"background-color:rgba(255, 0, 0, 0.04738722765751272);\"> was</span><span title=\"0.04992976585913205\" style=\"background-color:rgba(255, 0, 0, 0.04992976585913205);\"> remodelled</span><span title=\"0.09429012372619525\" style=\"background-color:rgba(255, 0, 0, 0.09429012372619525);\"> by</span><span title=\"0.6791844291931597\" style=\"background-color:rgba(255, 0, 0, 0.6791844291931597);\"> Franciszek</span><span title=\"0.646757987077728\" style=\"background-color:rgba(255, 0, 0, 0.646757987077728);\"> Szanior</span><span title=\"0.07042903137715632\" style=\"background-color:rgba(255, 0, 0, 0.07042903137715632);\"> .</span>"
            ],
            "text/plain": [
              "<IPython.core.display.HTML object>"
            ]
          },
          "metadata": {
            "tags": []
          }
        },
        {
          "output_type": "stream",
          "text": [
            "\n"
          ],
          "name": "stdout"
        },
        {
          "output_type": "display_data",
          "data": {
            "text/html": [
              "<span title=\"0.05897062601529253\" style=\"background-color:rgba(255, 0, 0, 0.05897062601529253);\"> The</span><span title=\"0.07046855066169491\" style=\"background-color:rgba(255, 0, 0, 0.07046855066169491);\"> oldest</span><span title=\"0.0716239919965789\" style=\"background-color:rgba(255, 0, 0, 0.0716239919965789);\"> park</span><span title=\"0.04509960069496093\" style=\"background-color:rgba(255, 0, 0, 0.04509960069496093);\"> in</span><span title=\"0.18944723300769653\" style=\"background-color:rgba(255, 0, 0, 0.18944723300769653);\"> Praga</span><span title=\"0.030374395805622106\" style=\"background-color:rgba(255, 0, 0, 0.030374395805622106);\"> ,</span><span title=\"0.0660364923342813\" style=\"background-color:rgba(255, 0, 0, 0.0660364923342813);\"> the</span><span title=\"0.26183807916790425\" style=\"background-color:rgba(255, 0, 0, 0.26183807916790425);\"> Praga</span><span title=\"0.24528360031843746\" style=\"background-color:rgba(255, 0, 0, 0.24528360031843746);\"> Park</span><span title=\"0.03933609050778533\" style=\"background-color:rgba(255, 0, 0, 0.03933609050778533);\"> ,</span><span title=\"0.019231595420794938\" style=\"background-color:rgba(255, 0, 0, 0.019231595420794938);\"> was</span><span title=\"0.02664046262165099\" style=\"background-color:rgba(255, 0, 0, 0.02664046262165099);\"> established</span><span title=\"0.03213172610882235\" style=\"background-color:rgba(255, 0, 0, 0.03213172610882235);\"> in</span><span title=\"0.30753414016290614\" style=\"background-color:rgba(255, 0, 0, 0.30753414016290614);\"> 1865–1871</span><span title=\"0.05553071015077172\" style=\"background-color:rgba(255, 0, 0, 0.05553071015077172);\"> and</span><span title=\"0.051110400498959686\" style=\"background-color:rgba(255, 0, 0, 0.051110400498959686);\"> designed</span><span title=\"0.06295521411623259\" style=\"background-color:rgba(255, 0, 0, 0.06295521411623259);\"> by</span><span title=\"0.6681142248503327\" style=\"background-color:rgba(255, 0, 0, 0.6681142248503327);\"> Jan</span><span title=\"0.639503546354148\" style=\"background-color:rgba(255, 0, 0, 0.639503546354148);\"> Dobrowolski</span><span title=\"0.0669587931234674\" style=\"background-color:rgba(255, 0, 0, 0.0669587931234674);\"> .</span>"
            ],
            "text/plain": [
              "<IPython.core.display.HTML object>"
            ]
          },
          "metadata": {
            "tags": []
          }
        },
        {
          "output_type": "stream",
          "text": [
            "\n"
          ],
          "name": "stdout"
        },
        {
          "output_type": "display_data",
          "data": {
            "text/html": [
              "<span title=\"0.27972139435729293\" style=\"background-color:rgba(255, 0, 0, 0.27972139435729293);\"> Eight</span><span title=\"0.18872810686657282\" style=\"background-color:rgba(255, 0, 0, 0.18872810686657282);\"> years</span><span title=\"0.1461839281063411\" style=\"background-color:rgba(255, 0, 0, 0.1461839281063411);\"> later</span><span title=\"0.034865178154984265\" style=\"background-color:rgba(255, 0, 0, 0.034865178154984265);\"> ,</span><span title=\"0.027716472451930447\" style=\"background-color:rgba(255, 0, 0, 0.027716472451930447);\"> in</span><span title=\"0.530298294903483\" style=\"background-color:rgba(255, 0, 0, 0.530298294903483);\"> 1909</span><span title=\"0.01770316567529562\" style=\"background-color:rgba(255, 0, 0, 0.01770316567529562);\"> ,</span><span title=\"0.022509497579418412\" style=\"background-color:rgba(255, 0, 0, 0.022509497579418412);\"> there</span><span title=\"0.021318883090616587\" style=\"background-color:rgba(255, 0, 0, 0.021318883090616587);\"> were</span><span title=\"0.4785381223633964\" style=\"background-color:rgba(255, 0, 0, 0.4785381223633964);\"> 281,754</span><span title=\"0.2970171891149571\" style=\"background-color:rgba(255, 0, 0, 0.2970171891149571);\"> Jews</span><span title=\"0.10126157637277801\" style=\"background-color:rgba(255, 0, 0, 0.10126157637277801);\"> (</span><span title=\"0.4694007982733446\" style=\"background-color:rgba(255, 0, 0, 0.4694007982733446);\"> 36.9</span><span title=\"0.414724984608762\" style=\"background-color:rgba(255, 0, 0, 0.414724984608762);\"> %</span><span title=\"0.13532073256780705\" style=\"background-color:rgba(255, 0, 0, 0.13532073256780705);\"> )</span><span title=\"0.07799675906231313\" style=\"background-color:rgba(255, 0, 0, 0.07799675906231313);\"> ,</span><span title=\"0.33896146191708576\" style=\"background-color:rgba(255, 0, 0, 0.33896146191708576);\"> 18,189</span><span title=\"0.18996760613803348\" style=\"background-color:rgba(255, 0, 0, 0.18996760613803348);\"> Protestants</span><span title=\"0.07966374909717629\" style=\"background-color:rgba(255, 0, 0, 0.07966374909717629);\"> (</span><span title=\"0.40919215869693604\" style=\"background-color:rgba(255, 0, 0, 0.40919215869693604);\"> 2.4</span><span title=\"0.3644856216123146\" style=\"background-color:rgba(255, 0, 0, 0.3644856216123146);\"> %</span><span title=\"0.12475711445111806\" style=\"background-color:rgba(255, 0, 0, 0.12475711445111806);\"> )</span><span title=\"0.11192963556900291\" style=\"background-color:rgba(255, 0, 0, 0.11192963556900291);\"> and</span><span title=\"0.28277471675753085\" style=\"background-color:rgba(255, 0, 0, 0.28277471675753085);\"> 2,818</span><span title=\"0.1985127508365179\" style=\"background-color:rgba(255, 0, 0, 0.1985127508365179);\"> Mariavites</span><span title=\"0.07762521810765403\" style=\"background-color:rgba(255, 0, 0, 0.07762521810765403);\"> (</span><span title=\"0.3681772530263733\" style=\"background-color:rgba(255, 0, 0, 0.3681772530263733);\"> 0.4</span><span title=\"0.32909011742358946\" style=\"background-color:rgba(255, 0, 0, 0.32909011742358946);\"> %</span><span title=\"0.10864055612141381\" style=\"background-color:rgba(255, 0, 0, 0.10864055612141381);\"> )</span><span title=\"0.029983864978816853\" style=\"background-color:rgba(255, 0, 0, 0.029983864978816853);\"> .</span>"
            ],
            "text/plain": [
              "<IPython.core.display.HTML object>"
            ]
          },
          "metadata": {
            "tags": []
          }
        },
        {
          "output_type": "stream",
          "text": [
            "\n"
          ],
          "name": "stdout"
        },
        {
          "output_type": "display_data",
          "data": {
            "text/html": [
              "<span title=\"0.042373015401289044\" style=\"background-color:rgba(255, 0, 0, 0.042373015401289044);\"> The</span><span title=\"0.05887023892930571\" style=\"background-color:rgba(255, 0, 0, 0.05887023892930571);\"> first</span><span title=\"0.1168393603192624\" style=\"background-color:rgba(255, 0, 0, 0.1168393603192624);\"> Warsaw</span><span title=\"0.10145898223085023\" style=\"background-color:rgba(255, 0, 0, 0.10145898223085023);\"> President</span><span title=\"0.017890109392928844\" style=\"background-color:rgba(255, 0, 0, 0.017890109392928844);\"> was</span><span title=\"0.6520547820749416\" style=\"background-color:rgba(255, 0, 0, 0.6520547820749416);text-decoration: underline\"> Jan</span><span title=\"0.6420727660670269\" style=\"background-color:rgba(255, 0, 0, 0.6420727660670269);text-decoration: underline\"> Andrzej</span><span title=\"0.6010679559970535\" style=\"background-color:rgba(255, 0, 0, 0.6010679559970535);text-decoration: underline\"> Menich</span><span title=\"0.13630790662573283\" style=\"background-color:rgba(255, 0, 0, 0.13630790662573283);\"> (</span><span title=\"0.3927088979032509\" style=\"background-color:rgba(255, 0, 0, 0.3927088979032509);text-decoration: underline\"> 1695–1696</span><span title=\"0.0904814327981104\" style=\"background-color:rgba(255, 0, 0, 0.0904814327981104);\"> )</span><span title=\"0.026808347733731544\" style=\"background-color:rgba(255, 0, 0, 0.026808347733731544);\"> .</span>"
            ],
            "text/plain": [
              "<IPython.core.display.HTML object>"
            ]
          },
          "metadata": {
            "tags": []
          }
        },
        {
          "output_type": "stream",
          "text": [
            "\n"
          ],
          "name": "stdout"
        },
        {
          "output_type": "display_data",
          "data": {
            "text/html": [
              "<span title=\"0.1366486934948503\" style=\"background-color:rgba(255, 0, 0, 0.1366486934948503);\"> Total</span><span title=\"0.12164631016021776\" style=\"background-color:rgba(255, 0, 0, 0.12164631016021776);\"> nominal</span><span title=\"0.11269451670641865\" style=\"background-color:rgba(255, 0, 0, 0.11269451670641865);\"> GDP</span><span title=\"0.07351420455355379\" style=\"background-color:rgba(255, 0, 0, 0.07351420455355379);\"> of</span><span title=\"0.0793898628790693\" style=\"background-color:rgba(255, 0, 0, 0.0793898628790693);\"> the</span><span title=\"0.09751042923081431\" style=\"background-color:rgba(255, 0, 0, 0.09751042923081431);\"> city</span><span title=\"0.020882290434688384\" style=\"background-color:rgba(255, 0, 0, 0.020882290434688384);\"> in</span><span title=\"0.2481500797850131\" style=\"background-color:rgba(255, 0, 0, 0.2481500797850131);\"> 2010</span><span title=\"0.009122502078321609\" style=\"background-color:rgba(255, 0, 0, 0.009122502078321609);\"> amounted</span><span title=\"0.01956040048536648\" style=\"background-color:rgba(255, 0, 0, 0.01956040048536648);\"> to</span><span title=\"0.8477699525743906\" style=\"background-color:rgba(255, 0, 0, 0.8477699525743906);text-decoration: underline\"> 191.766</span><span title=\"0.7821614258793382\" style=\"background-color:rgba(255, 0, 0, 0.7821614258793382);text-decoration: underline\"> billion</span><span title=\"0.6674627926870914\" style=\"background-color:rgba(255, 0, 0, 0.6674627926870914);text-decoration: underline\"> PLN</span><span title=\"0.16154866315077865\" style=\"background-color:rgba(255, 0, 0, 0.16154866315077865);\"> ,</span><span title=\"0.4244909125045628\" style=\"background-color:rgba(255, 0, 0, 0.4244909125045628);\"> 111696</span><span title=\"0.3040822800639512\" style=\"background-color:rgba(255, 0, 0, 0.3040822800639512);\"> PLN</span><span title=\"0.1880242206254702\" style=\"background-color:rgba(255, 0, 0, 0.1880242206254702);\"> per</span><span title=\"0.21220883152102074\" style=\"background-color:rgba(255, 0, 0, 0.21220883152102074);\"> capita</span><span title=\"0.0434978956754035\" style=\"background-color:rgba(255, 0, 0, 0.0434978956754035);\"> ,</span><span title=\"0.029948153449510333\" style=\"background-color:rgba(255, 0, 0, 0.029948153449510333);\"> which</span><span title=\"0.03506862911841392\" style=\"background-color:rgba(255, 0, 0, 0.03506862911841392);\"> was</span><span title=\"0.489862069468305\" style=\"background-color:rgba(255, 0, 0, 0.489862069468305);\"> 301,1</span><span title=\"0.3627939214816634\" style=\"background-color:rgba(255, 0, 0, 0.3627939214816634);\"> %</span><span title=\"0.22634105517571165\" style=\"background-color:rgba(255, 0, 0, 0.22634105517571165);\"> of</span><span title=\"0.3279258232743675\" style=\"background-color:rgba(255, 0, 0, 0.3279258232743675);\"> Polish</span><span title=\"0.294351347831992\" style=\"background-color:rgba(255, 0, 0, 0.294351347831992);\"> average</span><span title=\"0.053535909027108544\" style=\"background-color:rgba(255, 0, 0, 0.053535909027108544);\"> .</span>"
            ],
            "text/plain": [
              "<IPython.core.display.HTML object>"
            ]
          },
          "metadata": {
            "tags": []
          }
        },
        {
          "output_type": "stream",
          "text": [
            "\n"
          ],
          "name": "stdout"
        },
        {
          "output_type": "display_data",
          "data": {
            "text/html": [
              "<span title=\"0.12059646667171463\" style=\"background-color:rgba(255, 0, 0, 0.12059646667171463);\"> The</span><span title=\"0.20223816362573044\" style=\"background-color:rgba(255, 0, 0, 0.20223816362573044);\"> FSO</span><span title=\"0.19896443013583173\" style=\"background-color:rgba(255, 0, 0, 0.19896443013583173);\"> Car</span><span title=\"0.18728852146948705\" style=\"background-color:rgba(255, 0, 0, 0.18728852146948705);\"> Factory</span><span title=\"0.032312003919966914\" style=\"background-color:rgba(255, 0, 0, 0.032312003919966914);\"> was</span><span title=\"0.03961304229127773\" style=\"background-color:rgba(255, 0, 0, 0.03961304229127773);\"> established</span><span title=\"0.04896816882513606\" style=\"background-color:rgba(255, 0, 0, 0.04896816882513606);\"> in</span><span title=\"0.5680419504429243\" style=\"background-color:rgba(255, 0, 0, 0.5680419504429243);text-decoration: underline\"> 1951</span><span title=\"0.02791383695141778\" style=\"background-color:rgba(255, 0, 0, 0.02791383695141778);\"> .</span>"
            ],
            "text/plain": [
              "<IPython.core.display.HTML object>"
            ]
          },
          "metadata": {
            "tags": []
          }
        },
        {
          "output_type": "stream",
          "text": [
            "\n"
          ],
          "name": "stdout"
        },
        {
          "output_type": "display_data",
          "data": {
            "text/html": [
              "<span title=\"0.14322149836103654\" style=\"background-color:rgba(255, 0, 0, 0.14322149836103654);\"> The</span><span title=\"0.21744056665482947\" style=\"background-color:rgba(255, 0, 0, 0.21744056665482947);\"> University</span><span title=\"0.17862495424853417\" style=\"background-color:rgba(255, 0, 0, 0.17862495424853417);\"> of</span><span title=\"0.2112054304228721\" style=\"background-color:rgba(255, 0, 0, 0.2112054304228721);\"> Warsaw</span><span title=\"0.019323059784736855\" style=\"background-color:rgba(255, 0, 0, 0.019323059784736855);\"> was</span><span title=\"0.02498108284123873\" style=\"background-color:rgba(255, 0, 0, 0.02498108284123873);\"> established</span><span title=\"0.029648955583394823\" style=\"background-color:rgba(255, 0, 0, 0.029648955583394823);\"> in</span><span title=\"0.6160744652524077\" style=\"background-color:rgba(255, 0, 0, 0.6160744652524077);text-decoration: underline\"> 1816</span><span title=\"0.05960778211211033\" style=\"background-color:rgba(255, 0, 0, 0.05960778211211033);\"> ,</span><span title=\"0.06374125899328392\" style=\"background-color:rgba(255, 0, 0, 0.06374125899328392);\"> when</span><span title=\"0.11073514601066042\" style=\"background-color:rgba(255, 0, 0, 0.11073514601066042);\"> the</span><span title=\"0.14949783776292977\" style=\"background-color:rgba(255, 0, 0, 0.14949783776292977);\"> partitions</span><span title=\"0.11303450313530142\" style=\"background-color:rgba(255, 0, 0, 0.11303450313530142);\"> of</span><span title=\"0.18504771445608048\" style=\"background-color:rgba(255, 0, 0, 0.18504771445608048);\"> Poland</span><span title=\"0.08366818973069008\" style=\"background-color:rgba(255, 0, 0, 0.08366818973069008);\"> separated</span><span title=\"0.1568915625707505\" style=\"background-color:rgba(255, 0, 0, 0.1568915625707505);\"> Warsaw</span><span title=\"0.08918938566523493\" style=\"background-color:rgba(255, 0, 0, 0.08918938566523493);\"> from</span><span title=\"0.12950505710031382\" style=\"background-color:rgba(255, 0, 0, 0.12950505710031382);\"> the</span><span title=\"0.15395676903976352\" style=\"background-color:rgba(255, 0, 0, 0.15395676903976352);\"> oldest</span><span title=\"0.14196277228045784\" style=\"background-color:rgba(255, 0, 0, 0.14196277228045784);\"> and</span><span title=\"0.15103596373811973\" style=\"background-color:rgba(255, 0, 0, 0.15103596373811973);\"> most</span><span title=\"0.17228325502028297\" style=\"background-color:rgba(255, 0, 0, 0.17228325502028297);\"> influential</span><span title=\"0.20512280181359116\" style=\"background-color:rgba(255, 0, 0, 0.20512280181359116);\"> Polish</span><span title=\"0.2055673794722693\" style=\"background-color:rgba(255, 0, 0, 0.2055673794722693);\"> academic</span><span title=\"0.20607037766456973\" style=\"background-color:rgba(255, 0, 0, 0.20607037766456973);\"> center</span><span title=\"0.08170990670076693\" style=\"background-color:rgba(255, 0, 0, 0.08170990670076693);\"> ,</span><span title=\"0.07660701715260441\" style=\"background-color:rgba(255, 0, 0, 0.07660701715260441);\"> in</span><span title=\"0.21989388866977302\" style=\"background-color:rgba(255, 0, 0, 0.21989388866977302);\"> Kraków</span><span title=\"0.02386907907596711\" style=\"background-color:rgba(255, 0, 0, 0.02386907907596711);\"> .</span>"
            ],
            "text/plain": [
              "<IPython.core.display.HTML object>"
            ]
          },
          "metadata": {
            "tags": []
          }
        },
        {
          "output_type": "stream",
          "text": [
            "\n"
          ],
          "name": "stdout"
        },
        {
          "output_type": "display_data",
          "data": {
            "text/html": [
              "<span title=\"0.6369271726735578\" style=\"background-color:rgba(255, 0, 0, 0.6369271726735578);text-decoration: underline\"> Warsaw</span><span title=\"0.6309772350581685\" style=\"background-color:rgba(255, 0, 0, 0.6309772350581685);text-decoration: underline\"> University</span><span title=\"0.5611080582560612\" style=\"background-color:rgba(255, 0, 0, 0.5611080582560612);text-decoration: underline\"> of</span><span title=\"0.5842665747462291\" style=\"background-color:rgba(255, 0, 0, 0.5842665747462291);text-decoration: underline\"> Technology</span><span title=\"0.04889927255102213\" style=\"background-color:rgba(255, 0, 0, 0.04889927255102213);\"> is</span><span title=\"0.10072222170953937\" style=\"background-color:rgba(255, 0, 0, 0.10072222170953937);\"> the</span><span title=\"0.21187671600480523\" style=\"background-color:rgba(255, 0, 0, 0.21187671600480523);\"> second</span><span title=\"0.20524062726099865\" style=\"background-color:rgba(255, 0, 0, 0.20524062726099865);\"> academic</span><span title=\"0.20088083977471602\" style=\"background-color:rgba(255, 0, 0, 0.20088083977471602);\"> school</span><span title=\"0.16446672112992156\" style=\"background-color:rgba(255, 0, 0, 0.16446672112992156);\"> of</span><span title=\"0.20789999974509712\" style=\"background-color:rgba(255, 0, 0, 0.20789999974509712);\"> technology</span><span title=\"0.11973461066085937\" style=\"background-color:rgba(255, 0, 0, 0.11973461066085937);\"> in</span><span title=\"0.15681542441801075\" style=\"background-color:rgba(255, 0, 0, 0.15681542441801075);\"> the</span><span title=\"0.19519823182306711\" style=\"background-color:rgba(255, 0, 0, 0.19519823182306711);\"> country</span><span title=\"0.07739623815565304\" style=\"background-color:rgba(255, 0, 0, 0.07739623815565304);\"> ,</span><span title=\"0.07044745747129481\" style=\"background-color:rgba(255, 0, 0, 0.07044745747129481);\"> and</span><span title=\"0.10985122098319053\" style=\"background-color:rgba(255, 0, 0, 0.10985122098319053);\"> one</span><span title=\"0.05699160822982049\" style=\"background-color:rgba(255, 0, 0, 0.05699160822982049);\"> of</span><span title=\"0.06922583283491915\" style=\"background-color:rgba(255, 0, 0, 0.06922583283491915);\"> the</span><span title=\"0.07514341635837675\" style=\"background-color:rgba(255, 0, 0, 0.07514341635837675);\"> largest</span><span title=\"0.0419068800854904\" style=\"background-color:rgba(255, 0, 0, 0.0419068800854904);\"> in</span><span title=\"0.30506229514671696\" style=\"background-color:rgba(255, 0, 0, 0.30506229514671696);\"> East</span><span title=\"0.2667572432494013\" style=\"background-color:rgba(255, 0, 0, 0.2667572432494013);\"> -</span><span title=\"0.2971727590783524\" style=\"background-color:rgba(255, 0, 0, 0.2971727590783524);\"> Central</span><span title=\"0.2849696340222458\" style=\"background-color:rgba(255, 0, 0, 0.2849696340222458);\"> Europe</span><span title=\"0.027230451386529818\" style=\"background-color:rgba(255, 0, 0, 0.027230451386529818);\"> ,</span><span title=\"0.0880574796943795\" style=\"background-color:rgba(255, 0, 0, 0.0880574796943795);\"> employing</span><span title=\"0.5513169396099329\" style=\"background-color:rgba(255, 0, 0, 0.5513169396099329);text-decoration: underline\"> 2,000</span><span title=\"0.28166061664038694\" style=\"background-color:rgba(255, 0, 0, 0.28166061664038694);\"> professors</span><span title=\"0.0534729653430424\" style=\"background-color:rgba(255, 0, 0, 0.0534729653430424);\"> .</span>"
            ],
            "text/plain": [
              "<IPython.core.display.HTML object>"
            ]
          },
          "metadata": {
            "tags": []
          }
        },
        {
          "output_type": "stream",
          "text": [
            "\n"
          ],
          "name": "stdout"
        },
        {
          "output_type": "display_data",
          "data": {
            "text/html": [
              "<span title=\"0.029517194080078562\" style=\"background-color:rgba(255, 0, 0, 0.029517194080078562);\"> The</span><span title=\"0.026491292815800115\" style=\"background-color:rgba(255, 0, 0, 0.026491292815800115);\"> building</span><span title=\"0.008898951919273718\" style=\"background-color:rgba(255, 0, 0, 0.008898951919273718);\"> was</span><span title=\"0.016209703088693652\" style=\"background-color:rgba(255, 0, 0, 0.016209703088693652);\"> designed</span><span title=\"0.03609616729110309\" style=\"background-color:rgba(255, 0, 0, 0.03609616729110309);\"> by</span><span title=\"0.28129898770223677\" style=\"background-color:rgba(255, 0, 0, 0.28129898770223677);text-decoration: underline\"> architects</span><span title=\"0.3983547955225425\" style=\"background-color:rgba(255, 0, 0, 0.3983547955225425);\"> Marek</span><span title=\"0.38211099579263175\" style=\"background-color:rgba(255, 0, 0, 0.38211099579263175);\"> Budzyński</span><span title=\"0.19661815492408624\" style=\"background-color:rgba(255, 0, 0, 0.19661815492408624);\"> and</span><span title=\"0.3725150273517446\" style=\"background-color:rgba(255, 0, 0, 0.3725150273517446);\"> Zbigniew</span><span title=\"0.3466557134327863\" style=\"background-color:rgba(255, 0, 0, 0.3466557134327863);\"> Badowski</span><span title=\"0.1622162989490467\" style=\"background-color:rgba(255, 0, 0, 0.1622162989490467);\"> and</span><span title=\"0.14738644458185662\" style=\"background-color:rgba(255, 0, 0, 0.14738644458185662);\"> opened</span><span title=\"0.12599601148404319\" style=\"background-color:rgba(255, 0, 0, 0.12599601148404319);\"> on</span><span title=\"0.6747803575743474\" style=\"background-color:rgba(255, 0, 0, 0.6747803575743474);\"> 15</span><span title=\"0.6099635609460939\" style=\"background-color:rgba(255, 0, 0, 0.6099635609460939);\"> December</span><span title=\"0.6062806275305225\" style=\"background-color:rgba(255, 0, 0, 0.6062806275305225);\"> 1999</span><span title=\"0.04474579011729713\" style=\"background-color:rgba(255, 0, 0, 0.04474579011729713);\"> .</span>"
            ],
            "text/plain": [
              "<IPython.core.display.HTML object>"
            ]
          },
          "metadata": {
            "tags": []
          }
        },
        {
          "output_type": "stream",
          "text": [
            "\n"
          ],
          "name": "stdout"
        },
        {
          "output_type": "display_data",
          "data": {
            "text/html": [
              "<span title=\"0.12806125917443342\" style=\"background-color:rgba(255, 0, 0, 0.12806125917443342);\"> The</span><span title=\"0.24784181137086223\" style=\"background-color:rgba(255, 0, 0, 0.24784181137086223);\"> University</span><span title=\"0.23968596887986598\" style=\"background-color:rgba(255, 0, 0, 0.23968596887986598);\"> Library</span><span title=\"0.19870367459811514\" style=\"background-color:rgba(255, 0, 0, 0.19870367459811514);\"> garden</span><span title=\"0.0623339870901381\" style=\"background-color:rgba(255, 0, 0, 0.0623339870901381);\"> ,</span><span title=\"0.048525346905135235\" style=\"background-color:rgba(255, 0, 0, 0.048525346905135235);\"> designed</span><span title=\"0.06350800552402389\" style=\"background-color:rgba(255, 0, 0, 0.06350800552402389);\"> by</span><span title=\"0.5957599704696568\" style=\"background-color:rgba(255, 0, 0, 0.5957599704696568);text-decoration: underline\"> Irena</span><span title=\"0.569430669295452\" style=\"background-color:rgba(255, 0, 0, 0.569430669295452);text-decoration: underline\"> Bajerska</span><span title=\"0.058775075311725364\" style=\"background-color:rgba(255, 0, 0, 0.058775075311725364);\"> ,</span><span title=\"0.03511780267943995\" style=\"background-color:rgba(255, 0, 0, 0.03511780267943995);\"> was</span><span title=\"0.041983131990770584\" style=\"background-color:rgba(255, 0, 0, 0.041983131990770584);\"> opened</span><span title=\"0.052496143673252976\" style=\"background-color:rgba(255, 0, 0, 0.052496143673252976);\"> on</span><span title=\"0.6295675904068027\" style=\"background-color:rgba(255, 0, 0, 0.6295675904068027);\"> 12</span><span title=\"0.563115346566736\" style=\"background-color:rgba(255, 0, 0, 0.563115346566736);\"> June</span><span title=\"0.5449270003924748\" style=\"background-color:rgba(255, 0, 0, 0.5449270003924748);\"> 2002</span><span title=\"0.051845607709326696\" style=\"background-color:rgba(255, 0, 0, 0.051845607709326696);\"> .</span>"
            ],
            "text/plain": [
              "<IPython.core.display.HTML object>"
            ]
          },
          "metadata": {
            "tags": []
          }
        },
        {
          "output_type": "stream",
          "text": [
            "\n"
          ],
          "name": "stdout"
        },
        {
          "output_type": "display_data",
          "data": {
            "text/html": [
              "<span title=\"0.030708580981842808\" style=\"background-color:rgba(255, 0, 0, 0.030708580981842808);\"> Dating</span><span title=\"0.026274306575378034\" style=\"background-color:rgba(255, 0, 0, 0.026274306575378034);\"> back</span><span title=\"0.026560810176859413\" style=\"background-color:rgba(255, 0, 0, 0.026560810176859413);\"> to</span><span title=\"0.3412964351631592\" style=\"background-color:rgba(255, 0, 0, 0.3412964351631592);\"> 1936</span><span title=\"0.17888110003153973\" style=\"background-color:rgba(255, 0, 0, 0.17888110003153973);\"> Warsaw</span><span title=\"0.2095550720638179\" style=\"background-color:rgba(255, 0, 0, 0.2095550720638179);\"> Historical</span><span title=\"0.18720315215450486\" style=\"background-color:rgba(255, 0, 0, 0.18720315215450486);\"> Museum</span><span title=\"0.04761656233828901\" style=\"background-color:rgba(255, 0, 0, 0.04761656233828901);\"> contains</span><span title=\"0.6735270745556275\" style=\"background-color:rgba(255, 0, 0, 0.6735270745556275);text-decoration: underline\"> 60</span><span title=\"0.33374145859429416\" style=\"background-color:rgba(255, 0, 0, 0.33374145859429416);\"> rooms</span><span title=\"0.16833040890747433\" style=\"background-color:rgba(255, 0, 0, 0.16833040890747433);\"> which</span><span title=\"0.16385348871846475\" style=\"background-color:rgba(255, 0, 0, 0.16385348871846475);\"> host</span><span title=\"0.20213979058118187\" style=\"background-color:rgba(255, 0, 0, 0.20213979058118187);\"> a</span><span title=\"0.23716604469184757\" style=\"background-color:rgba(255, 0, 0, 0.23716604469184757);\"> permanent</span><span title=\"0.22303878819980583\" style=\"background-color:rgba(255, 0, 0, 0.22303878819980583);\"> exhibition</span><span title=\"0.17547801108361857\" style=\"background-color:rgba(255, 0, 0, 0.17547801108361857);\"> of</span><span title=\"0.19227601029805236\" style=\"background-color:rgba(255, 0, 0, 0.19227601029805236);\"> the</span><span title=\"0.21162609917524952\" style=\"background-color:rgba(255, 0, 0, 0.21162609917524952);\"> history</span><span title=\"0.16380188910476623\" style=\"background-color:rgba(255, 0, 0, 0.16380188910476623);\"> of</span><span title=\"0.24229346925781398\" style=\"background-color:rgba(255, 0, 0, 0.24229346925781398);\"> Warsaw</span><span title=\"0.13550667283530873\" style=\"background-color:rgba(255, 0, 0, 0.13550667283530873);\"> from</span><span title=\"0.1458446998771503\" style=\"background-color:rgba(255, 0, 0, 0.1458446998771503);\"> its</span><span title=\"0.15476182772720787\" style=\"background-color:rgba(255, 0, 0, 0.15476182772720787);\"> origins</span><span title=\"0.12090654288091394\" style=\"background-color:rgba(255, 0, 0, 0.12090654288091394);\"> until</span><span title=\"0.15390260870006855\" style=\"background-color:rgba(255, 0, 0, 0.15390260870006855);\"> today</span><span title=\"0.03278432369686348\" style=\"background-color:rgba(255, 0, 0, 0.03278432369686348);\"> .</span>"
            ],
            "text/plain": [
              "<IPython.core.display.HTML object>"
            ]
          },
          "metadata": {
            "tags": []
          }
        },
        {
          "output_type": "stream",
          "text": [
            "\n"
          ],
          "name": "stdout"
        },
        {
          "output_type": "display_data",
          "data": {
            "text/html": [
              "<span title=\"0.021270150047203586\" style=\"background-color:rgba(255, 0, 0, 0.021270150047203586);\"> They</span><span title=\"0.013680703531334486\" style=\"background-color:rgba(255, 0, 0, 0.013680703531334486);\"> also</span><span title=\"0.012271156141731129\" style=\"background-color:rgba(255, 0, 0, 0.012271156141731129);\"> won</span><span title=\"0.041532205367762365\" style=\"background-color:rgba(255, 0, 0, 0.041532205367762365);\"> the</span><span title=\"0.0716750327156534\" style=\"background-color:rgba(255, 0, 0, 0.0716750327156534);\"> country</span><span title=\"0.06270112460598139\" style=\"background-color:rgba(255, 0, 0, 0.06270112460598139);\"> ’s</span><span title=\"0.07520912888659695\" style=\"background-color:rgba(255, 0, 0, 0.07520912888659695);\"> championship</span><span title=\"0.022197059771151915\" style=\"background-color:rgba(255, 0, 0, 0.022197059771151915);\"> in</span><span title=\"0.5445749491345431\" style=\"background-color:rgba(255, 0, 0, 0.5445749491345431);text-decoration: underline\"> 1946</span><span title=\"0.021563661644073744\" style=\"background-color:rgba(255, 0, 0, 0.021563661644073744);\"> ,</span><span title=\"0.017110433490948814\" style=\"background-color:rgba(255, 0, 0, 0.017110433490948814);\"> and</span><span title=\"0.021553946549719705\" style=\"background-color:rgba(255, 0, 0, 0.021553946549719705);\"> won</span><span title=\"0.03999065904028705\" style=\"background-color:rgba(255, 0, 0, 0.03999065904028705);\"> the</span><span title=\"0.06053331791410046\" style=\"background-color:rgba(255, 0, 0, 0.06053331791410046);\"> cup</span><span title=\"0.03142385684406401\" style=\"background-color:rgba(255, 0, 0, 0.03142385684406401);text-decoration: underline\"> twice</span><span title=\"0.032741288603489085\" style=\"background-color:rgba(255, 0, 0, 0.032741288603489085);\"> as</span><span title=\"0.039345349477955927\" style=\"background-color:rgba(255, 0, 0, 0.039345349477955927);\"> well</span><span title=\"0.021787523219289992\" style=\"background-color:rgba(255, 0, 0, 0.021787523219289992);\"> .</span>"
            ],
            "text/plain": [
              "<IPython.core.display.HTML object>"
            ]
          },
          "metadata": {
            "tags": []
          }
        },
        {
          "output_type": "stream",
          "text": [
            "\n"
          ],
          "name": "stdout"
        },
        {
          "output_type": "display_data",
          "data": {
            "text/html": [
              "<span title=\"0.14431602670266414\" style=\"background-color:rgba(255, 0, 0, 0.14431602670266414);\"> One</span><span title=\"0.04149208607156884\" style=\"background-color:rgba(255, 0, 0, 0.04149208607156884);\"> of</span><span title=\"0.056589513210287753\" style=\"background-color:rgba(255, 0, 0, 0.056589513210287753);\"> the</span><span title=\"0.06123389908893004\" style=\"background-color:rgba(255, 0, 0, 0.06123389908893004);\"> most</span><span title=\"0.08616407483312565\" style=\"background-color:rgba(255, 0, 0, 0.08616407483312565);\"> famous</span><span title=\"0.08176920833730641\" style=\"background-color:rgba(255, 0, 0, 0.08176920833730641);\"> people</span><span title=\"0.04470957703051104\" style=\"background-color:rgba(255, 0, 0, 0.04470957703051104);\"> born</span><span title=\"0.03956656830279673\" style=\"background-color:rgba(255, 0, 0, 0.03956656830279673);\"> in</span><span title=\"0.1315773643756164\" style=\"background-color:rgba(255, 0, 0, 0.1315773643756164);\"> Warsaw</span><span title=\"0.010953307475822922\" style=\"background-color:rgba(255, 0, 0, 0.010953307475822922);\"> was</span><span title=\"0.8128420371337719\" style=\"background-color:rgba(255, 0, 0, 0.8128420371337719);text-decoration: underline\"> Maria</span><span title=\"0.7925462360914823\" style=\"background-color:rgba(255, 0, 0, 0.7925462360914823);text-decoration: underline\"> Skłodowska</span><span title=\"0.7127472472491141\" style=\"background-color:rgba(255, 0, 0, 0.7127472472491141);text-decoration: underline\"> -</span><span title=\"0.6885348375944201\" style=\"background-color:rgba(255, 0, 0, 0.6885348375944201);text-decoration: underline\"> Curie</span><span title=\"0.12357116261025777\" style=\"background-color:rgba(255, 0, 0, 0.12357116261025777);\"> ,</span><span title=\"0.09099017384465945\" style=\"background-color:rgba(255, 0, 0, 0.09099017384465945);\"> who</span><span title=\"0.0844180450063759\" style=\"background-color:rgba(255, 0, 0, 0.0844180450063759);\"> achieved</span><span title=\"0.1376490497660038\" style=\"background-color:rgba(255, 0, 0, 0.1376490497660038);\"> international</span><span title=\"0.12198497629007996\" style=\"background-color:rgba(255, 0, 0, 0.12198497629007996);\"> recognition</span><span title=\"0.06588048138690705\" style=\"background-color:rgba(255, 0, 0, 0.06588048138690705);\"> for</span><span title=\"0.0735050602202409\" style=\"background-color:rgba(255, 0, 0, 0.0735050602202409);\"> her</span><span title=\"0.08035449128225967\" style=\"background-color:rgba(255, 0, 0, 0.08035449128225967);\"> research</span><span title=\"0.051095788035041605\" style=\"background-color:rgba(255, 0, 0, 0.051095788035041605);\"> on</span><span title=\"0.08864212088801383\" style=\"background-color:rgba(255, 0, 0, 0.08864212088801383);\"> radioactivity</span><span title=\"0.04222629576660122\" style=\"background-color:rgba(255, 0, 0, 0.04222629576660122);\"> and</span><span title=\"0.036469569165621496\" style=\"background-color:rgba(255, 0, 0, 0.036469569165621496);\"> was</span><span title=\"0.05618747337344474\" style=\"background-color:rgba(255, 0, 0, 0.05618747337344474);\"> the</span><span title=\"0.0934811525676795\" style=\"background-color:rgba(255, 0, 0, 0.0934811525676795);\"> first</span><span title=\"0.09878976447488774\" style=\"background-color:rgba(255, 0, 0, 0.09878976447488774);\"> female</span><span title=\"0.09634492473140549\" style=\"background-color:rgba(255, 0, 0, 0.09634492473140549);\"> recipient</span><span title=\"0.07650352963287449\" style=\"background-color:rgba(255, 0, 0, 0.07650352963287449);\"> of</span><span title=\"0.16969020674229404\" style=\"background-color:rgba(255, 0, 0, 0.16969020674229404);\"> the</span><span title=\"0.3516556617548757\" style=\"background-color:rgba(255, 0, 0, 0.3516556617548757);text-decoration: underline\"> Nobel</span><span title=\"0.3399165915500485\" style=\"background-color:rgba(255, 0, 0, 0.3399165915500485);text-decoration: underline\"> Prize</span><span title=\"0.03943820781470296\" style=\"background-color:rgba(255, 0, 0, 0.03943820781470296);\"> .</span>"
            ],
            "text/plain": [
              "<IPython.core.display.HTML object>"
            ]
          },
          "metadata": {
            "tags": []
          }
        },
        {
          "output_type": "stream",
          "text": [
            "\n"
          ],
          "name": "stdout"
        },
        {
          "output_type": "display_data",
          "data": {
            "text/html": [
              "<span title=\"0.1270008931632894\" style=\"background-color:rgba(255, 0, 0, 0.1270008931632894);text-decoration: underline\"> Famous</span><span title=\"0.09745662080181657\" style=\"background-color:rgba(255, 0, 0, 0.09745662080181657);text-decoration: underline\"> musicians</span><span title=\"0.035609903366974574\" style=\"background-color:rgba(255, 0, 0, 0.035609903366974574);\"> include</span><span title=\"0.5815740673190604\" style=\"background-color:rgba(255, 0, 0, 0.5815740673190604);\"> Władysław</span><span title=\"0.5476676516947027\" style=\"background-color:rgba(255, 0, 0, 0.5476676516947027);\"> Szpilman</span><span title=\"0.36538770104467116\" style=\"background-color:rgba(255, 0, 0, 0.36538770104467116);\"> and</span><span title=\"0.5784775217576817\" style=\"background-color:rgba(255, 0, 0, 0.5784775217576817);\"> Frédéric</span><span title=\"0.5632147056348595\" style=\"background-color:rgba(255, 0, 0, 0.5632147056348595);\"> Chopin</span><span title=\"0.06929220739213915\" style=\"background-color:rgba(255, 0, 0, 0.06929220739213915);\"> .</span>"
            ],
            "text/plain": [
              "<IPython.core.display.HTML object>"
            ]
          },
          "metadata": {
            "tags": []
          }
        },
        {
          "output_type": "stream",
          "text": [
            "\n"
          ],
          "name": "stdout"
        },
        {
          "output_type": "display_data",
          "data": {
            "text/html": [
              "<span title=\"0.4378022699634784\" style=\"background-color:rgba(255, 0, 0, 0.4378022699634784);\"> Nathan</span><span title=\"0.40576240893731874\" style=\"background-color:rgba(255, 0, 0, 0.40576240893731874);\"> Alterman</span><span title=\"0.08035780179428256\" style=\"background-color:rgba(255, 0, 0, 0.08035780179428256);\"> ,</span><span title=\"0.07409455498589505\" style=\"background-color:rgba(255, 0, 0, 0.07409455498589505);\"> the</span><span title=\"0.1556823216708892\" style=\"background-color:rgba(255, 0, 0, 0.1556823216708892);\"> Israeli</span><span title=\"0.13555100959269123\" style=\"background-color:rgba(255, 0, 0, 0.13555100959269123);text-decoration: underline\"> poet</span><span title=\"0.04130426910943438\" style=\"background-color:rgba(255, 0, 0, 0.04130426910943438);\"> ,</span><span title=\"0.0266258056606183\" style=\"background-color:rgba(255, 0, 0, 0.0266258056606183);\"> was</span><span title=\"0.04205095971210921\" style=\"background-color:rgba(255, 0, 0, 0.04205095971210921);\"> born</span><span title=\"0.05106135178920877\" style=\"background-color:rgba(255, 0, 0, 0.05106135178920877);\"> in</span><span title=\"0.25750656944133044\" style=\"background-color:rgba(255, 0, 0, 0.25750656944133044);\"> Warsaw</span><span title=\"0.02166685311688392\" style=\"background-color:rgba(255, 0, 0, 0.02166685311688392);\"> ,</span><span title=\"0.01343137058501315\" style=\"background-color:rgba(255, 0, 0, 0.01343137058501315);\"> as</span><span title=\"0.028354366819097823\" style=\"background-color:rgba(255, 0, 0, 0.028354366819097823);\"> was</span><span title=\"0.6438951715336539\" style=\"background-color:rgba(255, 0, 0, 0.6438951715336539);\"> Moshe</span><span title=\"0.6044761637849627\" style=\"background-color:rgba(255, 0, 0, 0.6044761637849627);\"> Vilenski</span><span title=\"0.15914546340499924\" style=\"background-color:rgba(255, 0, 0, 0.15914546340499924);\"> ,</span><span title=\"0.1499656533061586\" style=\"background-color:rgba(255, 0, 0, 0.1499656533061586);\"> the</span><span title=\"0.24509329136068525\" style=\"background-color:rgba(255, 0, 0, 0.24509329136068525);\"> Israeli</span><span title=\"0.23364912026690102\" style=\"background-color:rgba(255, 0, 0, 0.23364912026690102);\"> composer</span><span title=\"0.15479655773154002\" style=\"background-color:rgba(255, 0, 0, 0.15479655773154002);\"> ,</span><span title=\"0.16813956167596947\" style=\"background-color:rgba(255, 0, 0, 0.16813956167596947);\"> lyricist</span><span title=\"0.10279947816447353\" style=\"background-color:rgba(255, 0, 0, 0.10279947816447353);\"> ,</span><span title=\"0.10152143427740125\" style=\"background-color:rgba(255, 0, 0, 0.10152143427740125);\"> and</span><span title=\"0.11614702830457511\" style=\"background-color:rgba(255, 0, 0, 0.11614702830457511);\"> pianist</span><span title=\"0.03447945266188597\" style=\"background-color:rgba(255, 0, 0, 0.03447945266188597);\"> ,</span><span title=\"0.02503912220395661\" style=\"background-color:rgba(255, 0, 0, 0.02503912220395661);\"> who</span><span title=\"0.02692390093834588\" style=\"background-color:rgba(255, 0, 0, 0.02692390093834588);\"> studied</span><span title=\"0.04819130304342963\" style=\"background-color:rgba(255, 0, 0, 0.04819130304342963);\"> music</span><span title=\"0.03524979872380387\" style=\"background-color:rgba(255, 0, 0, 0.03524979872380387);\"> at</span><span title=\"0.11731338691681777\" style=\"background-color:rgba(255, 0, 0, 0.11731338691681777);\"> the</span><span title=\"0.26460744292752436\" style=\"background-color:rgba(255, 0, 0, 0.26460744292752436);\"> Warsaw</span><span title=\"0.2651389464782818\" style=\"background-color:rgba(255, 0, 0, 0.2651389464782818);\"> Conservatory</span><span title=\"0.02892581437578589\" style=\"background-color:rgba(255, 0, 0, 0.02892581437578589);\"> .</span>"
            ],
            "text/plain": [
              "<IPython.core.display.HTML object>"
            ]
          },
          "metadata": {
            "tags": []
          }
        },
        {
          "output_type": "stream",
          "text": [
            "\n"
          ],
          "name": "stdout"
        },
        {
          "output_type": "display_data",
          "data": {
            "text/html": [
              "<span title=\"0.15169501969632548\" style=\"background-color:rgba(255, 0, 0, 0.15169501969632548);\"> Warsaw</span><span title=\"0.012109430537912197\" style=\"background-color:rgba(255, 0, 0, 0.012109430537912197);\"> was</span><span title=\"0.0371669433236915\" style=\"background-color:rgba(255, 0, 0, 0.0371669433236915);\"> the</span><span title=\"0.06987476723922438\" style=\"background-color:rgba(255, 0, 0, 0.06987476723922438);\"> beloved</span><span title=\"0.05592499157234893\" style=\"background-color:rgba(255, 0, 0, 0.05592499157234893);\"> city</span><span title=\"0.03353099289993085\" style=\"background-color:rgba(255, 0, 0, 0.03353099289993085);\"> of</span><span title=\"0.5999576143767948\" style=\"background-color:rgba(255, 0, 0, 0.5999576143767948);text-decoration: underline\"> Isaac</span><span title=\"0.576886709926426\" style=\"background-color:rgba(255, 0, 0, 0.576886709926426);text-decoration: underline\"> Bashevis</span><span title=\"0.5395316217921564\" style=\"background-color:rgba(255, 0, 0, 0.5395316217921564);text-decoration: underline\"> Singer</span><span title=\"0.062458365845411035\" style=\"background-color:rgba(255, 0, 0, 0.062458365845411035);\"> ,</span><span title=\"0.029786154291479395\" style=\"background-color:rgba(255, 0, 0, 0.029786154291479395);\"> which</span><span title=\"0.024665708378676342\" style=\"background-color:rgba(255, 0, 0, 0.024665708378676342);\"> he</span><span title=\"0.024710842386186524\" style=\"background-color:rgba(255, 0, 0, 0.024710842386186524);\"> described</span><span title=\"0.018343672791735748\" style=\"background-color:rgba(255, 0, 0, 0.018343672791735748);\"> in</span><span title=\"0.0381994697997911\" style=\"background-color:rgba(255, 0, 0, 0.0381994697997911);\"> many</span><span title=\"0.02944662830677842\" style=\"background-color:rgba(255, 0, 0, 0.02944662830677842);\"> of</span><span title=\"0.051201210010740725\" style=\"background-color:rgba(255, 0, 0, 0.051201210010740725);\"> his</span><span title=\"0.07241499764601227\" style=\"background-color:rgba(255, 0, 0, 0.07241499764601227);\"> novels</span><span title=\"0.05330333547662009\" style=\"background-color:rgba(255, 0, 0, 0.05330333547662009);\"> :</span>"
            ],
            "text/plain": [
              "<IPython.core.display.HTML object>"
            ]
          },
          "metadata": {
            "tags": []
          }
        },
        {
          "output_type": "stream",
          "text": [
            "\n"
          ],
          "name": "stdout"
        },
        {
          "output_type": "display_data",
          "data": {
            "text/html": [
              "<span title=\"0.06912448665672248\" style=\"background-color:rgba(255, 0, 0, 0.06912448665672248);\"> Orders</span><span title=\"0.036767647167545714\" style=\"background-color:rgba(255, 0, 0, 0.036767647167545714);\"> for</span><span title=\"0.054130685356477165\" style=\"background-color:rgba(255, 0, 0, 0.054130685356477165);\"> the</span><span title=\"0.07423065578152875\" style=\"background-color:rgba(255, 0, 0, 0.07423065578152875);text-decoration: underline\"> deportation</span><span title=\"0.014174221027143927\" style=\"background-color:rgba(255, 0, 0, 0.014174221027143927);\"> were</span><span title=\"0.0226590795589176\" style=\"background-color:rgba(255, 0, 0, 0.0226590795589176);\"> given</span><span title=\"0.05785069439384702\" style=\"background-color:rgba(255, 0, 0, 0.05785069439384702);\"> by</span><span title=\"0.7367789687356286\" style=\"background-color:rgba(255, 0, 0, 0.7367789687356286);\"> William</span><span title=\"0.7071831892289953\" style=\"background-color:rgba(255, 0, 0, 0.7071831892289953);\"> Shirley</span><span title=\"0.27570461229443555\" style=\"background-color:rgba(255, 0, 0, 0.27570461229443555);\"> ,</span><span title=\"0.38032632843943887\" style=\"background-color:rgba(255, 0, 0, 0.38032632843943887);\"> Commander</span><span title=\"0.2853740821443253\" style=\"background-color:rgba(255, 0, 0, 0.2853740821443253);\"> -</span><span title=\"0.2600501446666764\" style=\"background-color:rgba(255, 0, 0, 0.2600501446666764);\"> in</span><span title=\"0.2811990737880515\" style=\"background-color:rgba(255, 0, 0, 0.2811990737880515);\"> -</span><span title=\"0.31857202643294424\" style=\"background-color:rgba(255, 0, 0, 0.31857202643294424);\"> Chief</span><span title=\"0.13677516560650915\" style=\"background-color:rgba(255, 0, 0, 0.13677516560650915);\"> ,</span><span title=\"0.29125321857781233\" style=\"background-color:rgba(255, 0, 0, 0.29125321857781233);\"> North</span><span title=\"0.2951653240014318\" style=\"background-color:rgba(255, 0, 0, 0.2951653240014318);\"> America</span><span title=\"0.10204372286584436\" style=\"background-color:rgba(255, 0, 0, 0.10204372286584436);\"> ,</span><span title=\"0.10213173971216218\" style=\"background-color:rgba(255, 0, 0, 0.10213173971216218);\"> without</span><span title=\"0.16722271552979764\" style=\"background-color:rgba(255, 0, 0, 0.16722271552979764);\"> direction</span><span title=\"0.12432873327194806\" style=\"background-color:rgba(255, 0, 0, 0.12432873327194806);\"> from</span><span title=\"0.38323486864524126\" style=\"background-color:rgba(255, 0, 0, 0.38323486864524126);\"> Great</span><span title=\"0.3770826243230682\" style=\"background-color:rgba(255, 0, 0, 0.3770826243230682);\"> Britain</span><span title=\"0.04103284175111369\" style=\"background-color:rgba(255, 0, 0, 0.04103284175111369);\"> .</span>"
            ],
            "text/plain": [
              "<IPython.core.display.HTML object>"
            ]
          },
          "metadata": {
            "tags": []
          }
        },
        {
          "output_type": "stream",
          "text": [
            "\n"
          ],
          "name": "stdout"
        },
        {
          "output_type": "display_data",
          "data": {
            "text/html": [
              "<span title=\"0.6169768786165788\" style=\"background-color:rgba(255, 0, 0, 0.6169768786165788);text-decoration: underline\"> William</span><span title=\"0.573130442121182\" style=\"background-color:rgba(255, 0, 0, 0.573130442121182);text-decoration: underline\"> Pitt</span><span title=\"0.06547213809788857\" style=\"background-color:rgba(255, 0, 0, 0.06547213809788857);\"> came</span><span title=\"0.057047594016444776\" style=\"background-color:rgba(255, 0, 0, 0.057047594016444776);\"> to</span><span title=\"0.12665049535327916\" style=\"background-color:rgba(255, 0, 0, 0.12665049535327916);\"> power</span><span title=\"0.035545079169474136\" style=\"background-color:rgba(255, 0, 0, 0.035545079169474136);\"> and</span><span title=\"0.04549754792365627\" style=\"background-color:rgba(255, 0, 0, 0.04549754792365627);text-decoration: underline\"> significantly</span><span title=\"0.05338488924720276\" style=\"background-color:rgba(255, 0, 0, 0.05338488924720276);text-decoration: underline\"> increased</span><span title=\"0.19347531134978077\" style=\"background-color:rgba(255, 0, 0, 0.19347531134978077);\"> British</span><span title=\"0.17476074605195335\" style=\"background-color:rgba(255, 0, 0, 0.17476074605195335);\"> military</span><span title=\"0.14685836185088916\" style=\"background-color:rgba(255, 0, 0, 0.14685836185088916);\"> resources</span><span title=\"0.06891655071094188\" style=\"background-color:rgba(255, 0, 0, 0.06891655071094188);\"> in</span><span title=\"0.08060192490223225\" style=\"background-color:rgba(255, 0, 0, 0.08060192490223225);\"> the</span><span title=\"0.09081454053322582\" style=\"background-color:rgba(255, 0, 0, 0.09081454053322582);\"> colonies</span><span title=\"0.020759052771454373\" style=\"background-color:rgba(255, 0, 0, 0.020759052771454373);\"> at</span><span title=\"0.05383463107413897\" style=\"background-color:rgba(255, 0, 0, 0.05383463107413897);\"> a</span><span title=\"0.06602955555932172\" style=\"background-color:rgba(255, 0, 0, 0.06602955555932172);\"> time</span><span title=\"0.0382655520311698\" style=\"background-color:rgba(255, 0, 0, 0.0382655520311698);\"> when</span><span title=\"0.1604951963941293\" style=\"background-color:rgba(255, 0, 0, 0.1604951963941293);text-decoration: underline\"> France</span><span title=\"0.08700920984543672\" style=\"background-color:rgba(255, 0, 0, 0.08700920984543672);text-decoration: underline\"> was</span><span title=\"0.1382344458000611\" style=\"background-color:rgba(255, 0, 0, 0.1382344458000611);text-decoration: underline\"> unwilling</span><span title=\"0.12537373201494828\" style=\"background-color:rgba(255, 0, 0, 0.12537373201494828);text-decoration: underline\"> to</span><span title=\"0.14381790156668559\" style=\"background-color:rgba(255, 0, 0, 0.14381790156668559);text-decoration: underline\"> risk</span><span title=\"0.19957823298587501\" style=\"background-color:rgba(255, 0, 0, 0.19957823298587501);text-decoration: underline\"> large</span><span title=\"0.18526464253576932\" style=\"background-color:rgba(255, 0, 0, 0.18526464253576932);text-decoration: underline\"> convoys</span><span title=\"0.1333079349167173\" style=\"background-color:rgba(255, 0, 0, 0.1333079349167173);text-decoration: underline\"> to</span><span title=\"0.1494492975547934\" style=\"background-color:rgba(255, 0, 0, 0.1494492975547934);text-decoration: underline\"> aid</span><span title=\"0.16408170923430843\" style=\"background-color:rgba(255, 0, 0, 0.16408170923430843);text-decoration: underline\"> the</span><span title=\"0.18087336906685675\" style=\"background-color:rgba(255, 0, 0, 0.18087336906685675);text-decoration: underline\"> limited</span><span title=\"0.17566854993203437\" style=\"background-color:rgba(255, 0, 0, 0.17566854993203437);text-decoration: underline\"> forces</span><span title=\"0.12607659562550066\" style=\"background-color:rgba(255, 0, 0, 0.12607659562550066);text-decoration: underline\"> it</span><span title=\"0.12609628295870806\" style=\"background-color:rgba(255, 0, 0, 0.12609628295870806);text-decoration: underline\"> had</span><span title=\"0.12566420055562083\" style=\"background-color:rgba(255, 0, 0, 0.12566420055562083);text-decoration: underline\"> in</span><span title=\"0.3279973055736517\" style=\"background-color:rgba(255, 0, 0, 0.3279973055736517);text-decoration: underline\"> New</span><span title=\"0.3367158683977332\" style=\"background-color:rgba(255, 0, 0, 0.3367158683977332);text-decoration: underline\"> France</span><span title=\"0.031486096984233734\" style=\"background-color:rgba(255, 0, 0, 0.031486096984233734);\"> .</span>"
            ],
            "text/plain": [
              "<IPython.core.display.HTML object>"
            ]
          },
          "metadata": {
            "tags": []
          }
        },
        {
          "output_type": "stream",
          "text": [
            "\n"
          ],
          "name": "stdout"
        },
        {
          "output_type": "display_data",
          "data": {
            "text/html": [
              "<span title=\"0.6950171056577342\" style=\"background-color:rgba(255, 0, 0, 0.6950171056577342);\"> Seven</span><span title=\"0.606018794651797\" style=\"background-color:rgba(255, 0, 0, 0.606018794651797);\"> Years</span><span title=\"0.1935445679630652\" style=\"background-color:rgba(255, 0, 0, 0.1935445679630652);\"> \"</span><span title=\"0.07418659072181295\" style=\"background-color:rgba(255, 0, 0, 0.07418659072181295);\"> refers</span><span title=\"0.08448791919851073\" style=\"background-color:rgba(255, 0, 0, 0.08448791919851073);\"> to</span><span title=\"0.14196001227707175\" style=\"background-color:rgba(255, 0, 0, 0.14196001227707175);\"> events</span><span title=\"0.07378649376464258\" style=\"background-color:rgba(255, 0, 0, 0.07378649376464258);\"> in</span><span title=\"0.22677351530500778\" style=\"background-color:rgba(255, 0, 0, 0.22677351530500778);\"> Europe</span><span title=\"0.06383486100213784\" style=\"background-color:rgba(255, 0, 0, 0.06383486100213784);\"> ,</span><span title=\"0.06974443787563062\" style=\"background-color:rgba(255, 0, 0, 0.06974443787563062);\"> from</span><span title=\"0.12020563879602603\" style=\"background-color:rgba(255, 0, 0, 0.12020563879602603);text-decoration: underline\"> the</span><span title=\"0.17807923982190782\" style=\"background-color:rgba(255, 0, 0, 0.17807923982190782);text-decoration: underline\"> official</span><span title=\"0.18144375665816123\" style=\"background-color:rgba(255, 0, 0, 0.18144375665816123);text-decoration: underline\"> declaration</span><span title=\"0.14409502255267456\" style=\"background-color:rgba(255, 0, 0, 0.14409502255267456);text-decoration: underline\"> of</span><span title=\"0.17021951870711005\" style=\"background-color:rgba(255, 0, 0, 0.17021951870711005);text-decoration: underline\"> war</span><span title=\"0.09436482984978951\" style=\"background-color:rgba(255, 0, 0, 0.09436482984978951);text-decoration: underline\"> in</span><span title=\"0.37812039633223404\" style=\"background-color:rgba(255, 0, 0, 0.37812039633223404);text-decoration: underline\"> 1756</span><span title=\"0.14994069646193586\" style=\"background-color:rgba(255, 0, 0, 0.14994069646193586);text-decoration: underline\"> to</span><span title=\"0.1806860484398659\" style=\"background-color:rgba(255, 0, 0, 0.1806860484398659);text-decoration: underline\"> the</span><span title=\"0.2165287133759404\" style=\"background-color:rgba(255, 0, 0, 0.2165287133759404);text-decoration: underline\"> signing</span><span title=\"0.1777463409692503\" style=\"background-color:rgba(255, 0, 0, 0.1777463409692503);text-decoration: underline\"> of</span><span title=\"0.21242181069196842\" style=\"background-color:rgba(255, 0, 0, 0.21242181069196842);text-decoration: underline\"> the</span><span title=\"0.2646482977438518\" style=\"background-color:rgba(255, 0, 0, 0.2646482977438518);text-decoration: underline\"> peace</span><span title=\"0.25687583454643087\" style=\"background-color:rgba(255, 0, 0, 0.25687583454643087);text-decoration: underline\"> treaty</span><span title=\"0.1763105348276491\" style=\"background-color:rgba(255, 0, 0, 0.1763105348276491);text-decoration: underline\"> in</span><span title=\"0.5296685500791383\" style=\"background-color:rgba(255, 0, 0, 0.5296685500791383);text-decoration: underline\"> 1763</span><span title=\"0.031019793633377188\" style=\"background-color:rgba(255, 0, 0, 0.031019793633377188);\"> .</span>"
            ],
            "text/plain": [
              "<IPython.core.display.HTML object>"
            ]
          },
          "metadata": {
            "tags": []
          }
        },
        {
          "output_type": "stream",
          "text": [
            "\n"
          ],
          "name": "stdout"
        },
        {
          "output_type": "display_data",
          "data": {
            "text/html": [
              "<span title=\"0.6576190913302149\" style=\"background-color:rgba(255, 0, 0, 0.6576190913302149);\"> William</span><span title=\"0.6273090091384261\" style=\"background-color:rgba(255, 0, 0, 0.6273090091384261);\"> Shirley</span><span title=\"0.17185436637577098\" style=\"background-color:rgba(255, 0, 0, 0.17185436637577098);\"> ,</span><span title=\"0.164915410132001\" style=\"background-color:rgba(255, 0, 0, 0.164915410132001);\"> the</span><span title=\"0.2112339836218587\" style=\"background-color:rgba(255, 0, 0, 0.2112339836218587);\"> expansionist</span><span title=\"0.21355389701789848\" style=\"background-color:rgba(255, 0, 0, 0.21355389701789848);\"> governor</span><span title=\"0.17165253512504872\" style=\"background-color:rgba(255, 0, 0, 0.17165253512504872);\"> of</span><span title=\"0.22075241091811243\" style=\"background-color:rgba(255, 0, 0, 0.22075241091811243);\"> the</span><span title=\"0.2891953102266617\" style=\"background-color:rgba(255, 0, 0, 0.2891953102266617);\"> Province</span><span title=\"0.23178366005488182\" style=\"background-color:rgba(255, 0, 0, 0.23178366005488182);\"> of</span><span title=\"0.32827571897698266\" style=\"background-color:rgba(255, 0, 0, 0.32827571897698266);\"> Massachusetts</span><span title=\"0.3089445438517727\" style=\"background-color:rgba(255, 0, 0, 0.3089445438517727);\"> Bay</span><span title=\"0.0640578508542768\" style=\"background-color:rgba(255, 0, 0, 0.0640578508542768);\"> ,</span><span title=\"0.022450451301797347\" style=\"background-color:rgba(255, 0, 0, 0.022450451301797347);\"> was</span><span title=\"0.06777124340111618\" style=\"background-color:rgba(255, 0, 0, 0.06777124340111618);\"> particularly</span><span title=\"0.0970387883543484\" style=\"background-color:rgba(255, 0, 0, 0.0970387883543484);text-decoration: underline\"> forceful</span><span title=\"0.016794361481245957\" style=\"background-color:rgba(255, 0, 0, 0.016794361481245957);\"> ,</span><span title=\"0.02474235070513205\" style=\"background-color:rgba(255, 0, 0, 0.02474235070513205);\"> stating</span><span title=\"0.03185680696915822\" style=\"background-color:rgba(255, 0, 0, 0.03185680696915822);\"> that</span><span title=\"0.2282096342087762\" style=\"background-color:rgba(255, 0, 0, 0.2282096342087762);text-decoration: underline\"> British</span><span title=\"0.1813623380574622\" style=\"background-color:rgba(255, 0, 0, 0.1813623380574622);text-decoration: underline\"> colonists</span><span title=\"0.11418969167127248\" style=\"background-color:rgba(255, 0, 0, 0.11418969167127248);text-decoration: underline\"> would</span><span title=\"0.11512644271995515\" style=\"background-color:rgba(255, 0, 0, 0.11512644271995515);text-decoration: underline\"> not</span><span title=\"0.10939363537613267\" style=\"background-color:rgba(255, 0, 0, 0.10939363537613267);text-decoration: underline\"> be</span><span title=\"0.1189538998582691\" style=\"background-color:rgba(255, 0, 0, 0.1189538998582691);text-decoration: underline\"> safe</span><span title=\"0.060640278845279554\" style=\"background-color:rgba(255, 0, 0, 0.060640278845279554);text-decoration: underline\"> as</span><span title=\"0.05401109601805488\" style=\"background-color:rgba(255, 0, 0, 0.05401109601805488);text-decoration: underline\"> long</span><span title=\"0.03434023622226964\" style=\"background-color:rgba(255, 0, 0, 0.03434023622226964);text-decoration: underline\"> as</span><span title=\"0.05856824197699277\" style=\"background-color:rgba(255, 0, 0, 0.05856824197699277);text-decoration: underline\"> the</span><span title=\"0.0924959301270588\" style=\"background-color:rgba(255, 0, 0, 0.0924959301270588);text-decoration: underline\"> French</span><span title=\"0.04599769905366802\" style=\"background-color:rgba(255, 0, 0, 0.04599769905366802);text-decoration: underline\"> were</span><span title=\"0.07211164952724396\" style=\"background-color:rgba(255, 0, 0, 0.07211164952724396);text-decoration: underline\"> present</span><span title=\"0.02231659556943876\" style=\"background-color:rgba(255, 0, 0, 0.02231659556943876);\"> .</span>"
            ],
            "text/plain": [
              "<IPython.core.display.HTML object>"
            ]
          },
          "metadata": {
            "tags": []
          }
        },
        {
          "output_type": "stream",
          "text": [
            "\n"
          ],
          "name": "stdout"
        },
        {
          "output_type": "display_data",
          "data": {
            "text/html": [
              "<span title=\"0.0317634348921258\" style=\"background-color:rgba(255, 0, 0, 0.0317634348921258);\"> On</span><span title=\"0.3105191610152987\" style=\"background-color:rgba(255, 0, 0, 0.3105191610152987);\"> March</span><span title=\"0.3339477248731472\" style=\"background-color:rgba(255, 0, 0, 0.3339477248731472);\"> 17</span><span title=\"0.16630802962599175\" style=\"background-color:rgba(255, 0, 0, 0.16630802962599175);\"> ,</span><span title=\"0.3608691314961502\" style=\"background-color:rgba(255, 0, 0, 0.3608691314961502);\"> 1752</span><span title=\"0.03132027525245517\" style=\"background-color:rgba(255, 0, 0, 0.03132027525245517);\"> ,</span><span title=\"0.12534495872556467\" style=\"background-color:rgba(255, 0, 0, 0.12534495872556467);\"> the</span><span title=\"0.37567053908576997\" style=\"background-color:rgba(255, 0, 0, 0.37567053908576997);\"> Governor</span><span title=\"0.33024390991564206\" style=\"background-color:rgba(255, 0, 0, 0.33024390991564206);\"> -</span><span title=\"0.37103923416241097\" style=\"background-color:rgba(255, 0, 0, 0.37103923416241097);\"> General</span><span title=\"0.3125757779500478\" style=\"background-color:rgba(255, 0, 0, 0.3125757779500478);\"> of</span><span title=\"0.4443354626013509\" style=\"background-color:rgba(255, 0, 0, 0.4443354626013509);\"> New</span><span title=\"0.42072960462439934\" style=\"background-color:rgba(255, 0, 0, 0.42072960462439934);\"> France</span><span title=\"0.18020530288399159\" style=\"background-color:rgba(255, 0, 0, 0.18020530288399159);\"> ,</span><span title=\"0.3288101598468932\" style=\"background-color:rgba(255, 0, 0, 0.3288101598468932);text-decoration: underline\"> Marquis</span><span title=\"0.34282968634254657\" style=\"background-color:rgba(255, 0, 0, 0.34282968634254657);text-decoration: underline\"> de</span><span title=\"0.37269976291809775\" style=\"background-color:rgba(255, 0, 0, 0.37269976291809775);text-decoration: underline\"> la</span><span title=\"0.3692420142844031\" style=\"background-color:rgba(255, 0, 0, 0.3692420142844031);text-decoration: underline\"> Jonquière</span><span title=\"0.048817051614671585\" style=\"background-color:rgba(255, 0, 0, 0.048817051614671585);\"> ,</span><span title=\"0.036290824286692044\" style=\"background-color:rgba(255, 0, 0, 0.036290824286692044);\"> died</span><span title=\"0.027676015874091894\" style=\"background-color:rgba(255, 0, 0, 0.027676015874091894);\"> and</span><span title=\"0.020707362032499017\" style=\"background-color:rgba(255, 0, 0, 0.020707362032499017);\"> was</span><span title=\"0.03035322147180318\" style=\"background-color:rgba(255, 0, 0, 0.03035322147180318);\"> temporarily</span><span title=\"0.03166490138709428\" style=\"background-color:rgba(255, 0, 0, 0.03166490138709428);\"> replaced</span><span title=\"0.04576567726260222\" style=\"background-color:rgba(255, 0, 0, 0.04576567726260222);\"> by</span><span title=\"0.6647013281454673\" style=\"background-color:rgba(255, 0, 0, 0.6647013281454673);\"> Charles</span><span title=\"0.6288191331794069\" style=\"background-color:rgba(255, 0, 0, 0.6288191331794069);\"> le</span><span title=\"0.6129714519089196\" style=\"background-color:rgba(255, 0, 0, 0.6129714519089196);\"> Moyne</span><span title=\"0.5829561972521936\" style=\"background-color:rgba(255, 0, 0, 0.5829561972521936);\"> de</span><span title=\"0.5743728851908346\" style=\"background-color:rgba(255, 0, 0, 0.5743728851908346);\"> Longueuil</span><span title=\"0.0629999024911357\" style=\"background-color:rgba(255, 0, 0, 0.0629999024911357);\"> .</span>"
            ],
            "text/plain": [
              "<IPython.core.display.HTML object>"
            ]
          },
          "metadata": {
            "tags": []
          }
        },
        {
          "output_type": "stream",
          "text": [
            "\n"
          ],
          "name": "stdout"
        },
        {
          "output_type": "display_data",
          "data": {
            "text/html": [
              "<span title=\"0.02622726048893729\" style=\"background-color:rgba(255, 0, 0, 0.02622726048893729);\"> He</span><span title=\"0.010139116016273654\" style=\"background-color:rgba(255, 0, 0, 0.010139116016273654);\"> was</span><span title=\"0.014189259458903425\" style=\"background-color:rgba(255, 0, 0, 0.014189259458903425);\"> then</span><span title=\"0.018681260015883362\" style=\"background-color:rgba(255, 0, 0, 0.018681260015883362);\"> ordered</span><span title=\"0.057076061530693466\" style=\"background-color:rgba(255, 0, 0, 0.057076061530693466);\"> by</span><span title=\"0.7280565633554507\" style=\"background-color:rgba(255, 0, 0, 0.7280565633554507);text-decoration: underline\"> William</span><span title=\"0.693354890098752\" style=\"background-color:rgba(255, 0, 0, 0.693354890098752);text-decoration: underline\"> Pitt</span><span title=\"0.20171462194665157\" style=\"background-color:rgba(255, 0, 0, 0.20171462194665157);\"> ,</span><span title=\"0.2079888838531415\" style=\"background-color:rgba(255, 0, 0, 0.2079888838531415);\"> the</span><span title=\"0.29444278821322745\" style=\"background-color:rgba(255, 0, 0, 0.29444278821322745);\"> Secretary</span><span title=\"0.2012133709689159\" style=\"background-color:rgba(255, 0, 0, 0.2012133709689159);\"> of</span><span title=\"0.280659098870217\" style=\"background-color:rgba(255, 0, 0, 0.280659098870217);\"> State</span><span title=\"0.17023211873010682\" style=\"background-color:rgba(255, 0, 0, 0.17023211873010682);\"> responsible</span><span title=\"0.14326414875802304\" style=\"background-color:rgba(255, 0, 0, 0.14326414875802304);\"> for</span><span title=\"0.16439252270298732\" style=\"background-color:rgba(255, 0, 0, 0.16439252270298732);\"> the</span><span title=\"0.18746743372662628\" style=\"background-color:rgba(255, 0, 0, 0.18746743372662628);\"> colonies</span><span title=\"0.03558556456970346\" style=\"background-color:rgba(255, 0, 0, 0.03558556456970346);\"> ,</span><span title=\"0.031108935444514395\" style=\"background-color:rgba(255, 0, 0, 0.031108935444514395);\"> to</span><span title=\"0.04801295934763687\" style=\"background-color:rgba(255, 0, 0, 0.04801295934763687);\"> attack</span><span title=\"0.11281359705199707\" style=\"background-color:rgba(255, 0, 0, 0.11281359705199707);\"> Louisbourg</span><span title=\"0.04759836237132184\" style=\"background-color:rgba(255, 0, 0, 0.04759836237132184);\"> first</span><span title=\"0.02337710493184298\" style=\"background-color:rgba(255, 0, 0, 0.02337710493184298);\"> .</span>"
            ],
            "text/plain": [
              "<IPython.core.display.HTML object>"
            ]
          },
          "metadata": {
            "tags": []
          }
        },
        {
          "output_type": "stream",
          "text": [
            "\n"
          ],
          "name": "stdout"
        },
        {
          "output_type": "display_data",
          "data": {
            "text/html": [
              "<span title=\"0.15274752962692245\" style=\"background-color:rgba(255, 0, 0, 0.15274752962692245);text-decoration: underline\"> Abercrombie</span><span title=\"0.022325840348268934\" style=\"background-color:rgba(255, 0, 0, 0.022325840348268934);text-decoration: underline\"> was</span><span title=\"0.03317645792730821\" style=\"background-color:rgba(255, 0, 0, 0.03317645792730821);text-decoration: underline\"> recalled</span><span title=\"0.030406848820197147\" style=\"background-color:rgba(255, 0, 0, 0.030406848820197147);text-decoration: underline\"> and</span><span title=\"0.0340531382790829\" style=\"background-color:rgba(255, 0, 0, 0.0340531382790829);text-decoration: underline\"> replaced</span><span title=\"0.05243203953622487\" style=\"background-color:rgba(255, 0, 0, 0.05243203953622487);text-decoration: underline\"> by</span><span title=\"0.6985568826484001\" style=\"background-color:rgba(255, 0, 0, 0.6985568826484001);text-decoration: underline\"> Jeffery</span><span title=\"0.6513751956349543\" style=\"background-color:rgba(255, 0, 0, 0.6513751956349543);text-decoration: underline\"> Amherst</span><span title=\"0.2365101624189998\" style=\"background-color:rgba(255, 0, 0, 0.2365101624189998);text-decoration: underline\"> ,</span><span title=\"0.2555737270049148\" style=\"background-color:rgba(255, 0, 0, 0.2555737270049148);text-decoration: underline\"> victor</span><span title=\"0.20039135339932115\" style=\"background-color:rgba(255, 0, 0, 0.20039135339932115);text-decoration: underline\"> at</span><span title=\"0.29434253310069197\" style=\"background-color:rgba(255, 0, 0, 0.29434253310069197);text-decoration: underline\"> Louisbourg</span><span title=\"0.0463343992994215\" style=\"background-color:rgba(255, 0, 0, 0.0463343992994215);text-decoration: underline\"> .</span>"
            ],
            "text/plain": [
              "<IPython.core.display.HTML object>"
            ]
          },
          "metadata": {
            "tags": []
          }
        },
        {
          "output_type": "stream",
          "text": [
            "\n"
          ],
          "name": "stdout"
        },
        {
          "output_type": "display_data",
          "data": {
            "text/html": [
              "<span title=\"0.06511704522402681\" style=\"background-color:rgba(255, 0, 0, 0.06511704522402681);\"> The</span><span title=\"0.07303659120898079\" style=\"background-color:rgba(255, 0, 0, 0.07303659120898079);\"> war</span><span title=\"0.03181142233521727\" style=\"background-color:rgba(255, 0, 0, 0.03181142233521727);\"> in</span><span title=\"0.13664327818737906\" style=\"background-color:rgba(255, 0, 0, 0.13664327818737906);\"> North</span><span title=\"0.11828821742902554\" style=\"background-color:rgba(255, 0, 0, 0.11828821742902554);\"> America</span><span title=\"0.01920833750139169\" style=\"background-color:rgba(255, 0, 0, 0.01920833750139169);\"> officially</span><span title=\"0.01742691800954027\" style=\"background-color:rgba(255, 0, 0, 0.01742691800954027);\"> ended</span><span title=\"0.026225582357681583\" style=\"background-color:rgba(255, 0, 0, 0.026225582357681583);\"> with</span><span title=\"0.08080775770256693\" style=\"background-color:rgba(255, 0, 0, 0.08080775770256693);\"> the</span><span title=\"0.11729248483957011\" style=\"background-color:rgba(255, 0, 0, 0.11729248483957011);text-decoration: underline\"> signing</span><span title=\"0.08640043961860172\" style=\"background-color:rgba(255, 0, 0, 0.08640043961860172);text-decoration: underline\"> of</span><span title=\"0.12333330481607374\" style=\"background-color:rgba(255, 0, 0, 0.12333330481607374);text-decoration: underline\"> the</span><span title=\"0.19906231836896493\" style=\"background-color:rgba(255, 0, 0, 0.19906231836896493);text-decoration: underline\"> Treaty</span><span title=\"0.1311371849203532\" style=\"background-color:rgba(255, 0, 0, 0.1311371849203532);text-decoration: underline\"> of</span><span title=\"0.1968181939706995\" style=\"background-color:rgba(255, 0, 0, 0.1968181939706995);text-decoration: underline\"> Paris</span><span title=\"0.0982594729320564\" style=\"background-color:rgba(255, 0, 0, 0.0982594729320564);text-decoration: underline\"> on</span><span title=\"0.6402808027654822\" style=\"background-color:rgba(255, 0, 0, 0.6402808027654822);text-decoration: underline\"> 10</span><span title=\"0.566797522135851\" style=\"background-color:rgba(255, 0, 0, 0.566797522135851);text-decoration: underline\"> February</span><span title=\"0.5587458445236674\" style=\"background-color:rgba(255, 0, 0, 0.5587458445236674);text-decoration: underline\"> 1763</span><span title=\"0.065005779148313\" style=\"background-color:rgba(255, 0, 0, 0.065005779148313);\"> ,</span><span title=\"0.05682733744030024\" style=\"background-color:rgba(255, 0, 0, 0.05682733744030024);\"> and</span><span title=\"0.10267903475196105\" style=\"background-color:rgba(255, 0, 0, 0.10267903475196105);\"> war</span><span title=\"0.06537302965368229\" style=\"background-color:rgba(255, 0, 0, 0.06537302965368229);\"> in</span><span title=\"0.08268649555619316\" style=\"background-color:rgba(255, 0, 0, 0.08268649555619316);\"> the</span><span title=\"0.16137780411817726\" style=\"background-color:rgba(255, 0, 0, 0.16137780411817726);\"> European</span><span title=\"0.1411227345405067\" style=\"background-color:rgba(255, 0, 0, 0.1411227345405067);\"> theatre</span><span title=\"0.11015038834859511\" style=\"background-color:rgba(255, 0, 0, 0.11015038834859511);\"> of</span><span title=\"0.18039366790185443\" style=\"background-color:rgba(255, 0, 0, 0.18039366790185443);\"> the</span><span title=\"0.44461180075874307\" style=\"background-color:rgba(255, 0, 0, 0.44461180075874307);\"> Seven</span><span title=\"0.39321463350244396\" style=\"background-color:rgba(255, 0, 0, 0.39321463350244396);\"> Years</span><span title=\"0.3352720556432307\" style=\"background-color:rgba(255, 0, 0, 0.3352720556432307);\"> '</span><span title=\"0.31725996438976894\" style=\"background-color:rgba(255, 0, 0, 0.31725996438976894);\"> War</span><span title=\"0.08380402631816906\" style=\"background-color:rgba(255, 0, 0, 0.08380402631816906);\"> was</span><span title=\"0.08654520301851436\" style=\"background-color:rgba(255, 0, 0, 0.08654520301851436);\"> settled</span><span title=\"0.09755716184443965\" style=\"background-color:rgba(255, 0, 0, 0.09755716184443965);\"> by</span><span title=\"0.2317982845873499\" style=\"background-color:rgba(255, 0, 0, 0.2317982845873499);\"> the</span><span title=\"0.3185931379408871\" style=\"background-color:rgba(255, 0, 0, 0.3185931379408871);text-decoration: underline\"> Treaty</span><span title=\"0.24895925533847227\" style=\"background-color:rgba(255, 0, 0, 0.24895925533847227);text-decoration: underline\"> of</span><span title=\"0.2783911239279925\" style=\"background-color:rgba(255, 0, 0, 0.2783911239279925);text-decoration: underline\"> Hubertusburg</span><span title=\"0.08345183676522078\" style=\"background-color:rgba(255, 0, 0, 0.08345183676522078);text-decoration: underline\"> on</span><span title=\"0.6340564403265356\" style=\"background-color:rgba(255, 0, 0, 0.6340564403265356);text-decoration: underline\"> 15</span><span title=\"0.5655494496503134\" style=\"background-color:rgba(255, 0, 0, 0.5655494496503134);text-decoration: underline\"> February</span><span title=\"0.5567979856024649\" style=\"background-color:rgba(255, 0, 0, 0.5567979856024649);text-decoration: underline\"> 1763</span><span title=\"0.047307974111817704\" style=\"background-color:rgba(255, 0, 0, 0.047307974111817704);\"> .</span>"
            ],
            "text/plain": [
              "<IPython.core.display.HTML object>"
            ]
          },
          "metadata": {
            "tags": []
          }
        },
        {
          "output_type": "stream",
          "text": [
            "\n"
          ],
          "name": "stdout"
        },
        {
          "output_type": "display_data",
          "data": {
            "text/html": [
              "<span title=\"0.09087917554177939\" style=\"background-color:rgba(255, 0, 0, 0.09087917554177939);\"> The</span><span title=\"0.10993535053035547\" style=\"background-color:rgba(255, 0, 0, 0.10993535053035547);\"> shortcomings</span><span title=\"0.08761198779243932\" style=\"background-color:rgba(255, 0, 0, 0.08761198779243932);\"> of</span><span title=\"0.1832670534186276\" style=\"background-color:rgba(255, 0, 0, 0.1832670534186276);\"> Aristotelian</span><span title=\"0.16192597490058314\" style=\"background-color:rgba(255, 0, 0, 0.16192597490058314);\"> physics</span><span title=\"0.0430171499384916\" style=\"background-color:rgba(255, 0, 0, 0.0430171499384916);\"> would</span><span title=\"0.04532513824179888\" style=\"background-color:rgba(255, 0, 0, 0.04532513824179888);\"> not</span><span title=\"0.04258492257633048\" style=\"background-color:rgba(255, 0, 0, 0.04258492257633048);\"> be</span><span title=\"0.05382805033436375\" style=\"background-color:rgba(255, 0, 0, 0.05382805033436375);\"> fully</span><span title=\"0.05208904681344118\" style=\"background-color:rgba(255, 0, 0, 0.05208904681344118);\"> corrected</span><span title=\"0.05282703390403808\" style=\"background-color:rgba(255, 0, 0, 0.05282703390403808);\"> until</span><span title=\"0.07885150789085027\" style=\"background-color:rgba(255, 0, 0, 0.07885150789085027);text-decoration: underline\"> the</span><span title=\"0.2772059797845656\" style=\"background-color:rgba(255, 0, 0, 0.2772059797845656);text-decoration: underline\"> 17th</span><span title=\"0.2535841152149244\" style=\"background-color:rgba(255, 0, 0, 0.2535841152149244);text-decoration: underline\"> century</span><span title=\"0.18659505434618315\" style=\"background-color:rgba(255, 0, 0, 0.18659505434618315);\"> work</span><span title=\"0.12092113680990352\" style=\"background-color:rgba(255, 0, 0, 0.12092113680990352);\"> of</span><span title=\"0.622040102051159\" style=\"background-color:rgba(255, 0, 0, 0.622040102051159);text-decoration: underline\"> Galileo</span><span title=\"0.5921334789951922\" style=\"background-color:rgba(255, 0, 0, 0.5921334789951922);text-decoration: underline\"> Galilei</span><span title=\"0.08191106491073175\" style=\"background-color:rgba(255, 0, 0, 0.08191106491073175);text-decoration: underline\"> ,</span><span title=\"0.06186186789559853\" style=\"background-color:rgba(255, 0, 0, 0.06186186789559853);\"> who</span><span title=\"0.04405885245117205\" style=\"background-color:rgba(255, 0, 0, 0.04405885245117205);\"> was</span><span title=\"0.05027428464955571\" style=\"background-color:rgba(255, 0, 0, 0.05027428464955571);\"> influenced</span><span title=\"0.053773426163835666\" style=\"background-color:rgba(255, 0, 0, 0.053773426163835666);\"> by</span><span title=\"0.08625036265579608\" style=\"background-color:rgba(255, 0, 0, 0.08625036265579608);\"> the</span><span title=\"0.1742541545487271\" style=\"background-color:rgba(255, 0, 0, 0.1742541545487271);\"> late</span><span title=\"0.20618325290162093\" style=\"background-color:rgba(255, 0, 0, 0.20618325290162093);\"> Medieval</span><span title=\"0.16871376312843084\" style=\"background-color:rgba(255, 0, 0, 0.16871376312843084);\"> idea</span><span title=\"0.10409615853102223\" style=\"background-color:rgba(255, 0, 0, 0.10409615853102223);\"> that</span><span title=\"0.12854936271151665\" style=\"background-color:rgba(255, 0, 0, 0.12854936271151665);\"> objects</span><span title=\"0.09056081443776243\" style=\"background-color:rgba(255, 0, 0, 0.09056081443776243);\"> in</span><span title=\"0.12882798369216436\" style=\"background-color:rgba(255, 0, 0, 0.12882798369216436);\"> forced</span><span title=\"0.1493636154940605\" style=\"background-color:rgba(255, 0, 0, 0.1493636154940605);\"> motion</span><span title=\"0.11082217310881402\" style=\"background-color:rgba(255, 0, 0, 0.11082217310881402);\"> carried</span><span title=\"0.15721154048656616\" style=\"background-color:rgba(255, 0, 0, 0.15721154048656616);text-decoration: underline\"> an</span><span title=\"0.20769253891574416\" style=\"background-color:rgba(255, 0, 0, 0.20769253891574416);text-decoration: underline\"> innate</span><span title=\"0.2096635306066351\" style=\"background-color:rgba(255, 0, 0, 0.2096635306066351);text-decoration: underline\"> force</span><span title=\"0.18652637293443788\" style=\"background-color:rgba(255, 0, 0, 0.18652637293443788);text-decoration: underline\"> of</span><span title=\"0.21769584067821038\" style=\"background-color:rgba(255, 0, 0, 0.21769584067821038);text-decoration: underline\"> impetus</span><span title=\"0.03960082075956964\" style=\"background-color:rgba(255, 0, 0, 0.03960082075956964);\"> .</span>"
            ],
            "text/plain": [
              "<IPython.core.display.HTML object>"
            ]
          },
          "metadata": {
            "tags": []
          }
        },
        {
          "output_type": "stream",
          "text": [
            "\n"
          ],
          "name": "stdout"
        },
        {
          "output_type": "display_data",
          "data": {
            "text/html": [
              "<span title=\"0.03573647788738831\" style=\"background-color:rgba(255, 0, 0, 0.03573647788738831);text-decoration: underline\"> The</span><span title=\"0.06661550942343131\" style=\"background-color:rgba(255, 0, 0, 0.06661550942343131);text-decoration: underline\"> stress</span><span title=\"0.05468592082621898\" style=\"background-color:rgba(255, 0, 0, 0.05468592082621898);text-decoration: underline\"> tensor</span><span title=\"0.027165965133585608\" style=\"background-color:rgba(255, 0, 0, 0.027165965133585608);\"> accounts</span><span title=\"0.023064330113392026\" style=\"background-color:rgba(255, 0, 0, 0.023064330113392026);\"> for</span><span title=\"0.11579584577516878\" style=\"background-color:rgba(255, 0, 0, 0.11579584577516878);\"> forces</span><span title=\"0.03163249595525305\" style=\"background-color:rgba(255, 0, 0, 0.03163249595525305);\"> that</span><span title=\"0.04618300936651577\" style=\"background-color:rgba(255, 0, 0, 0.04618300936651577);\"> cause</span><span title=\"0.13364837921857683\" style=\"background-color:rgba(255, 0, 0, 0.13364837921857683);\"> all</span><span title=\"0.17244736968711594\" style=\"background-color:rgba(255, 0, 0, 0.17244736968711594);\"> strains</span><span title=\"0.061407267371317645\" style=\"background-color:rgba(255, 0, 0, 0.061407267371317645);\"> (</span><span title=\"0.08858369681726641\" style=\"background-color:rgba(255, 0, 0, 0.08858369681726641);text-decoration: underline\"> deformations</span><span title=\"0.023646800816446142\" style=\"background-color:rgba(255, 0, 0, 0.023646800816446142);\"> )</span><span title=\"0.022642723892541582\" style=\"background-color:rgba(255, 0, 0, 0.022642723892541582);\"> including</span><span title=\"0.038615147886839826\" style=\"background-color:rgba(255, 0, 0, 0.038615147886839826);\"> also</span><span title=\"0.11901700106435148\" style=\"background-color:rgba(255, 0, 0, 0.11901700106435148);\"> tensile</span><span title=\"0.13809774168413697\" style=\"background-color:rgba(255, 0, 0, 0.13809774168413697);\"> stresses</span><span title=\"0.10998637976565295\" style=\"background-color:rgba(255, 0, 0, 0.10998637976565295);\"> and</span><span title=\"0.1947122365961086\" style=\"background-color:rgba(255, 0, 0, 0.1947122365961086);\"> compressions.:133–134:38</span><span title=\"0.12494866812529642\" style=\"background-color:rgba(255, 0, 0, 0.12494866812529642);\"> -</span><span title=\"0.31329458805814975\" style=\"background-color:rgba(255, 0, 0, 0.31329458805814975);\"> 1–38</span><span title=\"0.2303543287210725\" style=\"background-color:rgba(255, 0, 0, 0.2303543287210725);\"> -</span><span title=\"0.6808933738999517\" style=\"background-color:rgba(255, 0, 0, 0.6808933738999517);\"> 11</span>"
            ],
            "text/plain": [
              "<IPython.core.display.HTML object>"
            ]
          },
          "metadata": {
            "tags": []
          }
        }
      ]
    },
    {
      "cell_type": "code",
      "metadata": {
        "colab": {
          "base_uri": "https://localhost:8080/",
          "height": 319
        },
        "id": "jUsqpW98ylYp",
        "outputId": "dab8a3f9-7ef3-4801-f099-b07bd23f014a"
      },
      "source": [
        "# Print one example output\n",
        "paragraph = nlp(\"A Japan-exclusive manga series based on Twilight Princess, penned and illustrated by Akira Himekawa, was first released on February 8, 2016. The series is available solely via publisher Shogakukan's MangaOne mobile application. While the manga adaptation began almost ten years after the initial release of the game on which it is based, it launched only a month before the release of the high-definition remake.\")\n",
        "y_true = ['O', 'I', 'O', 'O', 'O', 'O', 'O', 'O', 'O', 'O', 'O', 'O', 'O', 'O', 'O', 'I', 'I', 'O', 'O', 'O', 'O', 'O', 'I', 'I', 'I', 'I', 'O', 'O', 'O', 'O', 'O', 'O', 'O', 'O', 'I', 'O', 'O', 'I', 'O', 'O', 'O', 'O', 'O', 'O', 'O', 'O', 'O', 'O', 'O', 'O', 'O', 'O', 'O', 'O', 'O', 'O', 'O', 'O', 'O', 'O', 'O', 'O', 'O', 'O', 'O', 'O', 'O', 'O', 'O', 'O', 'O', 'O', 'O', 'O', 'O', 'O']\n",
        "\n",
        "tokens =[token.text for token in paragraph]\n",
        "y_pred = model.predict_marginals_single(text2features(paragraph, pos_features=POS_FEATURES, ent_type_features=ENT_TYPE_FEATURES, lemma_features=LEMMA_FEATURES, is_features=IS_FEATURES, position_features=POSITION_FEATURES, bias=BIAS, begin=BEGIN, end=END))\n",
        "print_annotated_text(tokens, y_pred, y_trues=y_true)"
      ],
      "execution_count": null,
      "outputs": [
        {
          "output_type": "error",
          "ename": "NameError",
          "evalue": "ignored",
          "traceback": [
            "\u001b[0;31m---------------------------------------------------------------------------\u001b[0m",
            "\u001b[0;31mNameError\u001b[0m                                 Traceback (most recent call last)",
            "\u001b[0;32m<ipython-input-15-6279ec041d82>\u001b[0m in \u001b[0;36m<module>\u001b[0;34m()\u001b[0m\n\u001b[1;32m      1\u001b[0m \u001b[0;31m# Print one example output\u001b[0m\u001b[0;34m\u001b[0m\u001b[0;34m\u001b[0m\u001b[0;34m\u001b[0m\u001b[0m\n\u001b[0;32m----> 2\u001b[0;31m \u001b[0mparagraph\u001b[0m \u001b[0;34m=\u001b[0m \u001b[0mnlp\u001b[0m\u001b[0;34m(\u001b[0m\u001b[0;34m\"A Japan-exclusive manga series based on Twilight Princess, penned and illustrated by Akira Himekawa, was first released on February 8, 2016. The series is available solely via publisher Shogakukan's MangaOne mobile application. While the manga adaptation began almost ten years after the initial release of the game on which it is based, it launched only a month before the release of the high-definition remake.\"\u001b[0m\u001b[0;34m)\u001b[0m\u001b[0;34m\u001b[0m\u001b[0;34m\u001b[0m\u001b[0m\n\u001b[0m\u001b[1;32m      3\u001b[0m \u001b[0my_true\u001b[0m \u001b[0;34m=\u001b[0m \u001b[0;34m[\u001b[0m\u001b[0;34m'O'\u001b[0m\u001b[0;34m,\u001b[0m \u001b[0;34m'I'\u001b[0m\u001b[0;34m,\u001b[0m \u001b[0;34m'O'\u001b[0m\u001b[0;34m,\u001b[0m \u001b[0;34m'O'\u001b[0m\u001b[0;34m,\u001b[0m \u001b[0;34m'O'\u001b[0m\u001b[0;34m,\u001b[0m \u001b[0;34m'O'\u001b[0m\u001b[0;34m,\u001b[0m \u001b[0;34m'O'\u001b[0m\u001b[0;34m,\u001b[0m \u001b[0;34m'O'\u001b[0m\u001b[0;34m,\u001b[0m \u001b[0;34m'O'\u001b[0m\u001b[0;34m,\u001b[0m \u001b[0;34m'O'\u001b[0m\u001b[0;34m,\u001b[0m \u001b[0;34m'O'\u001b[0m\u001b[0;34m,\u001b[0m \u001b[0;34m'O'\u001b[0m\u001b[0;34m,\u001b[0m \u001b[0;34m'O'\u001b[0m\u001b[0;34m,\u001b[0m \u001b[0;34m'O'\u001b[0m\u001b[0;34m,\u001b[0m \u001b[0;34m'O'\u001b[0m\u001b[0;34m,\u001b[0m \u001b[0;34m'I'\u001b[0m\u001b[0;34m,\u001b[0m \u001b[0;34m'I'\u001b[0m\u001b[0;34m,\u001b[0m \u001b[0;34m'O'\u001b[0m\u001b[0;34m,\u001b[0m \u001b[0;34m'O'\u001b[0m\u001b[0;34m,\u001b[0m \u001b[0;34m'O'\u001b[0m\u001b[0;34m,\u001b[0m \u001b[0;34m'O'\u001b[0m\u001b[0;34m,\u001b[0m \u001b[0;34m'O'\u001b[0m\u001b[0;34m,\u001b[0m \u001b[0;34m'I'\u001b[0m\u001b[0;34m,\u001b[0m \u001b[0;34m'I'\u001b[0m\u001b[0;34m,\u001b[0m \u001b[0;34m'I'\u001b[0m\u001b[0;34m,\u001b[0m \u001b[0;34m'I'\u001b[0m\u001b[0;34m,\u001b[0m \u001b[0;34m'O'\u001b[0m\u001b[0;34m,\u001b[0m \u001b[0;34m'O'\u001b[0m\u001b[0;34m,\u001b[0m \u001b[0;34m'O'\u001b[0m\u001b[0;34m,\u001b[0m \u001b[0;34m'O'\u001b[0m\u001b[0;34m,\u001b[0m \u001b[0;34m'O'\u001b[0m\u001b[0;34m,\u001b[0m \u001b[0;34m'O'\u001b[0m\u001b[0;34m,\u001b[0m \u001b[0;34m'O'\u001b[0m\u001b[0;34m,\u001b[0m \u001b[0;34m'O'\u001b[0m\u001b[0;34m,\u001b[0m \u001b[0;34m'I'\u001b[0m\u001b[0;34m,\u001b[0m \u001b[0;34m'O'\u001b[0m\u001b[0;34m,\u001b[0m \u001b[0;34m'O'\u001b[0m\u001b[0;34m,\u001b[0m \u001b[0;34m'I'\u001b[0m\u001b[0;34m,\u001b[0m \u001b[0;34m'O'\u001b[0m\u001b[0;34m,\u001b[0m \u001b[0;34m'O'\u001b[0m\u001b[0;34m,\u001b[0m \u001b[0;34m'O'\u001b[0m\u001b[0;34m,\u001b[0m \u001b[0;34m'O'\u001b[0m\u001b[0;34m,\u001b[0m \u001b[0;34m'O'\u001b[0m\u001b[0;34m,\u001b[0m \u001b[0;34m'O'\u001b[0m\u001b[0;34m,\u001b[0m \u001b[0;34m'O'\u001b[0m\u001b[0;34m,\u001b[0m \u001b[0;34m'O'\u001b[0m\u001b[0;34m,\u001b[0m \u001b[0;34m'O'\u001b[0m\u001b[0;34m,\u001b[0m \u001b[0;34m'O'\u001b[0m\u001b[0;34m,\u001b[0m \u001b[0;34m'O'\u001b[0m\u001b[0;34m,\u001b[0m \u001b[0;34m'O'\u001b[0m\u001b[0;34m,\u001b[0m \u001b[0;34m'O'\u001b[0m\u001b[0;34m,\u001b[0m \u001b[0;34m'O'\u001b[0m\u001b[0;34m,\u001b[0m \u001b[0;34m'O'\u001b[0m\u001b[0;34m,\u001b[0m \u001b[0;34m'O'\u001b[0m\u001b[0;34m,\u001b[0m \u001b[0;34m'O'\u001b[0m\u001b[0;34m,\u001b[0m \u001b[0;34m'O'\u001b[0m\u001b[0;34m,\u001b[0m \u001b[0;34m'O'\u001b[0m\u001b[0;34m,\u001b[0m \u001b[0;34m'O'\u001b[0m\u001b[0;34m,\u001b[0m \u001b[0;34m'O'\u001b[0m\u001b[0;34m,\u001b[0m \u001b[0;34m'O'\u001b[0m\u001b[0;34m,\u001b[0m \u001b[0;34m'O'\u001b[0m\u001b[0;34m,\u001b[0m \u001b[0;34m'O'\u001b[0m\u001b[0;34m,\u001b[0m \u001b[0;34m'O'\u001b[0m\u001b[0;34m,\u001b[0m \u001b[0;34m'O'\u001b[0m\u001b[0;34m,\u001b[0m \u001b[0;34m'O'\u001b[0m\u001b[0;34m,\u001b[0m \u001b[0;34m'O'\u001b[0m\u001b[0;34m,\u001b[0m \u001b[0;34m'O'\u001b[0m\u001b[0;34m,\u001b[0m \u001b[0;34m'O'\u001b[0m\u001b[0;34m,\u001b[0m \u001b[0;34m'O'\u001b[0m\u001b[0;34m,\u001b[0m \u001b[0;34m'O'\u001b[0m\u001b[0;34m,\u001b[0m \u001b[0;34m'O'\u001b[0m\u001b[0;34m,\u001b[0m \u001b[0;34m'O'\u001b[0m\u001b[0;34m,\u001b[0m \u001b[0;34m'O'\u001b[0m\u001b[0;34m,\u001b[0m \u001b[0;34m'O'\u001b[0m\u001b[0;34m,\u001b[0m \u001b[0;34m'O'\u001b[0m\u001b[0;34m,\u001b[0m \u001b[0;34m'O'\u001b[0m\u001b[0;34m]\u001b[0m\u001b[0;34m\u001b[0m\u001b[0;34m\u001b[0m\u001b[0m\n\u001b[1;32m      4\u001b[0m \u001b[0;34m\u001b[0m\u001b[0m\n\u001b[1;32m      5\u001b[0m \u001b[0mtokens\u001b[0m \u001b[0;34m=\u001b[0m\u001b[0;34m[\u001b[0m\u001b[0mtoken\u001b[0m\u001b[0;34m.\u001b[0m\u001b[0mtext\u001b[0m \u001b[0;32mfor\u001b[0m \u001b[0mtoken\u001b[0m \u001b[0;32min\u001b[0m \u001b[0mparagraph\u001b[0m\u001b[0;34m]\u001b[0m\u001b[0;34m\u001b[0m\u001b[0;34m\u001b[0m\u001b[0m\n",
            "\u001b[0;31mNameError\u001b[0m: name 'nlp' is not defined"
          ]
        }
      ]
    },
    {
      "cell_type": "code",
      "metadata": {
        "id": "eakqMsl1ylYp"
      },
      "source": [
        "# Print 100 randomly sampled text\n",
        "from IPython.display import Latex\n",
        "for index, row in df_askable_paragraph_test.iterrows(): #.sample(n=100, random_state=1)\n",
        "    if nlp(row[\"paragraph_context\"])[:3].text == \"The Norman dynasty\":\n",
        "        paragraph = nlp(row[\"paragraph_context\"])\n",
        "        y_true = row[\"askable_tokens\"]\n",
        "        tokens =[token.text for token in paragraph]\n",
        "        y_pred = model.predict_marginals_single(text2features(paragraph, pos_features=POS_FEATURES, ent_type_features=ENT_TYPE_FEATURES, lemma_features=LEMMA_FEATURES, is_features=IS_FEATURES, position_features=POSITION_FEATURES, bias=BIAS, begin=BEGIN, end=END))\n",
        "\n",
        "        print_annotated_text(tokens, y_pred, y_trues=y_true)\n",
        "        Latex(print_annotated_text_latex(tokens, y_pred, y_trues=y_true))"
      ],
      "execution_count": null,
      "outputs": []
    },
    {
      "cell_type": "code",
      "metadata": {
        "id": "kkDyCc7bylYq"
      },
      "source": [
        ""
      ],
      "execution_count": null,
      "outputs": []
    }
  ]
}