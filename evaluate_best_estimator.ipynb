{
  "nbformat": 4,
  "nbformat_minor": 0,
  "metadata": {
    "kernelspec": {
      "display_name": "Python 3",
      "language": "python",
      "name": "python3"
    },
    "language_info": {
      "codemirror_mode": {
        "name": "ipython",
        "version": 3
      },
      "file_extension": ".py",
      "mimetype": "text/x-python",
      "name": "python",
      "nbconvert_exporter": "python",
      "pygments_lexer": "ipython3",
      "version": "3.7.3-final"
    },
    "colab": {
      "name": "evaluate_best_estimator.ipynb",
      "provenance": [],
      "machine_shape": "hm"
    }
  },
  "cells": [
    {
      "cell_type": "code",
      "metadata": {
        "id": "l2Nsc2FPzlk0"
      },
      "source": [
        ""
      ],
      "execution_count": null,
      "outputs": []
    },
    {
      "cell_type": "code",
      "metadata": {
        "id": "xIDyRkQZt55G",
        "colab": {
          "base_uri": "https://localhost:8080/"
        },
        "outputId": "11623abf-eda4-4666-81d9-da5124f7ffe6"
      },
      "source": [
        "import os\n",
        "os.system(\"git clone https://github.com/soerenetler/squad-question-generation.git\")\n",
        "os.system(\"git clone https://github.com/soerenetler/spacy_target_answer.git\")\n",
        "os.system(\"git clone https://github.com/soerenetler/crf_target_answer.git\")\n",
        "\n",
        "from google.colab import drive\n",
        "drive.mount('/content/gdrive')"
      ],
      "execution_count": 47,
      "outputs": [
        {
          "output_type": "stream",
          "text": [
            "Drive already mounted at /content/gdrive; to attempt to forcibly remount, call drive.mount(\"/content/gdrive\", force_remount=True).\n"
          ],
          "name": "stdout"
        }
      ]
    },
    {
      "cell_type": "code",
      "metadata": {
        "id": "2O_mec5mt8r0",
        "colab": {
          "base_uri": "https://localhost:8080/"
        },
        "outputId": "0d7533e2-afec-46f2-fd2b-8705ecef383d"
      },
      "source": [
        "!(cd squad-question-generation/; git pull)\n",
        "!(cd crf_target_answer/; git pull)"
      ],
      "execution_count": 48,
      "outputs": [
        {
          "output_type": "stream",
          "text": [
            "Already up to date.\n",
            "Already up to date.\n"
          ],
          "name": "stdout"
        }
      ]
    },
    {
      "cell_type": "code",
      "metadata": {
        "id": "liGvAyjXm7Os"
      },
      "source": [
        "!cp crf_target_answer/Custom.py Custom.py\n",
        "!cp crf_target_answer/model/evaluation_utils.py evaluation_utils.py"
      ],
      "execution_count": 49,
      "outputs": []
    },
    {
      "cell_type": "code",
      "metadata": {
        "id": "FkIAX_94uY8i"
      },
      "source": [
        "!pip install -r crf_target_answer/requirements.txt --quiet"
      ],
      "execution_count": 50,
      "outputs": []
    },
    {
      "cell_type": "code",
      "metadata": {
        "id": "WoCcjgbQylYb"
      },
      "source": [
        "import joblib\n",
        "import eli5\n",
        "import pandas as pd\n",
        "#from FeatureTransformer import FeatureTransformer\n",
        "import pandas as pd\n",
        "import ast\n",
        "import spacy\n",
        "from Custom import *\n",
        "from sklearn_crfsuite import metrics\n",
        "from evaluation_utils import visualize_transitions, print_annotated_text, crf_roc_curve"
      ],
      "execution_count": 51,
      "outputs": []
    },
    {
      "cell_type": "code",
      "metadata": {
        "id": "QHNAfH_32vek"
      },
      "source": [
        "import json\n",
        "\n",
        "data_folder = \"/content/gdrive/MyDrive/mt-qg-data/01_data/preprocessedData/\"\n",
        "model_folder = \"/content/gdrive/MyDrive/mt-qg-data/00_models/crf_target_answer/\"\n",
        "dataset = \"squad\"\n",
        "NO_SAMPLES = None\n",
        "\n",
        "with open(data_folder + dataset+'/crf/'+str(NO_SAMPLES)+'_train_crf.txt') as f:\n",
        "  data_json = json.load(f)\n",
        "  train_feature = data_json[\"x\"]\n",
        "  y_train = data_json[\"y\"]\n",
        "  token_train = data_json[\"token\"]\n",
        "\n",
        "with open(data_folder + dataset+'/crf/'+str(NO_SAMPLES)+'_test_crf.txt') as f:\n",
        "  data_json = json.load(f)\n",
        "  test_feature = data_json[\"x\"]\n",
        "  y_test = data_json[\"y\"]\n",
        "  token_test = data_json[\"token\"]"
      ],
      "execution_count": 52,
      "outputs": []
    },
    {
      "cell_type": "code",
      "metadata": {
        "id": "iKhLZWTYJTgj"
      },
      "source": [
        "best_param={'c1': 0.1, 'c2': 1000}\n",
        "\n",
        "crf = Custom_CRF(algorithm='lbfgs',\n",
        "                  max_iterations=100,\n",
        "                  min_freq=5,\n",
        "                  all_possible_transitions=False,\n",
        "                 **best_param)"
      ],
      "execution_count": 53,
      "outputs": []
    },
    {
      "cell_type": "code",
      "metadata": {
        "colab": {
          "base_uri": "https://localhost:8080/"
        },
        "id": "afzdVZGkJmAf",
        "outputId": "2a13082b-8066-41a9-c4d4-d6c287fe9b78"
      },
      "source": [
        "%%time\n",
        "crf.fit(train_feature, io2iob(y_train))"
      ],
      "execution_count": 54,
      "outputs": [
        {
          "output_type": "stream",
          "text": [
            "CPU times: user 11min 24s, sys: 4.59 s, total: 11min 29s\n",
            "Wall time: 11min 27s\n"
          ],
          "name": "stdout"
        },
        {
          "output_type": "stream",
          "text": [
            "/usr/local/lib/python3.7/dist-packages/sklearn/base.py:197: FutureWarning: From version 0.24, get_params will raise an AttributeError if a parameter cannot be retrieved as an instance attribute. Previously it would return None.\n",
            "  FutureWarning)\n"
          ],
          "name": "stderr"
        },
        {
          "output_type": "execute_result",
          "data": {
            "text/plain": [
              "Custom_CRF(algorithm='lbfgs', all_possible_states=None,\n",
              "           all_possible_transitions=False, averaging=None, c=None, c1=0.1,\n",
              "           c2=1000, calibration_candidates=None, calibration_eta=None,\n",
              "           calibration_max_trials=None, calibration_rate=None,\n",
              "           calibration_samples=None, delta=None, epsilon=None,\n",
              "           error_sensitive=None, gamma=None, keep_tempfiles=None,\n",
              "           linesearch=None, max_iterations=100, max_linesearch=None, min_freq=5,\n",
              "           model_filename=None, num_memories=None, pa_type=None, period=None,\n",
              "           trainer_cls=None, variance=None, verbose=False)"
            ]
          },
          "metadata": {
            "tags": []
          },
          "execution_count": 54
        }
      ]
    },
    {
      "cell_type": "code",
      "metadata": {
        "colab": {
          "base_uri": "https://localhost:8080/"
        },
        "id": "WQzhOvaTJKP2",
        "outputId": "1b1922b0-527e-4a99-b485-bac8bff7d3ab"
      },
      "source": [
        "joblib.dump(crf, model_folder +dataset + \"/\" +  'final_estimator.pkl')"
      ],
      "execution_count": 55,
      "outputs": [
        {
          "output_type": "execute_result",
          "data": {
            "text/plain": [
              "['/content/gdrive/MyDrive/mt-qg-data/00_models/crf_target_answer/squad/final_estimator.pkl']"
            ]
          },
          "metadata": {
            "tags": []
          },
          "execution_count": 55
        }
      ]
    },
    {
      "cell_type": "code",
      "metadata": {
        "id": "ASI7N_9TylYl"
      },
      "source": [
        "y_pred_test = crf.predict(test_feature)\n",
        "y_pred_test_marginals = crf.predict_proba(test_feature)\n",
        "\n",
        "y_pred_train = crf.predict(train_feature)\n",
        "y_pred_train_marginals = crf.predict_proba(train_feature)"
      ],
      "execution_count": 40,
      "outputs": []
    },
    {
      "cell_type": "code",
      "metadata": {
        "id": "FA-jLZyJe_TD",
        "outputId": "a8283132-9688-495f-81ff-f6dad10be2d8",
        "colab": {
          "base_uri": "https://localhost:8080/"
        }
      },
      "source": [
        "print(y_pred_test_marginals[0])"
      ],
      "execution_count": 41,
      "outputs": [
        {
          "output_type": "stream",
          "text": [
            "[{'O': 0.9124330897662901, 'B-Answer': 0.07714857775480988, 'I-Answer': 0.01041833247889888}, {'O': 0.8355818391272444, 'B-Answer': 0.07848447532174592, 'I-Answer': 0.08593368555100869}, {'O': 0.9702893989460393, 'B-Answer': 0.0021998765602840704, 'I-Answer': 0.0275107244936759}, {'O': 0.9002633958292768, 'B-Answer': 0.06873606978778826, 'I-Answer': 0.031000534382934385}, {'O': 0.9631977702261774, 'B-Answer': 0.0024800979498409283, 'I-Answer': 0.03432213182398095}, {'O': 0.8965855553268464, 'B-Answer': 0.06481756333309652, 'I-Answer': 0.03859688134005638}, {'O': 0.9686979431316283, 'B-Answer': 0.0025641764277194424, 'I-Answer': 0.028737880440651356}, {'O': 0.9030193720538973, 'B-Answer': 0.06291046856214695, 'I-Answer': 0.034070159383955016}, {'O': 0.9569021877991145, 'B-Answer': 0.00304664843468746, 'I-Answer': 0.040051163766197474}, {'O': 0.8858198994320107, 'B-Answer': 0.0672834428387206, 'I-Answer': 0.046896657729268036}, {'O': 0.9542837186850387, 'B-Answer': 0.0035402179529121073, 'I-Answer': 0.042176063362048474}, {'O': 0.8708427416488582, 'B-Answer': 0.0787526117684385, 'I-Answer': 0.050404646582702536}, {'O': 0.9514413355066242, 'B-Answer': 0.002608070747837519, 'I-Answer': 0.045950593745537505}, {'O': 0.8674168090544441, 'B-Answer': 0.07958823141550503, 'I-Answer': 0.052994959530050234}, {'O': 0.9709703854877393, 'B-Answer': 0.0008831814402953118, 'I-Answer': 0.028146433071964645}, {'O': 0.9903794959826817, 'B-Answer': 0.0027282872074027866, 'I-Answer': 0.006892216809914647}, {'O': 0.9476106320978044, 'B-Answer': 0.04358682036531949, 'I-Answer': 0.008802547536875293}, {'O': 0.9079003617331658, 'B-Answer': 0.04322763903763897, 'I-Answer': 0.048871999229194295}, {'O': 0.9457285845443302, 'B-Answer': 0.006256819573000146, 'I-Answer': 0.04801459588266898}, {'O': 0.953005676432808, 'B-Answer': 0.01046308597641857, 'I-Answer': 0.03653123759077272}, {'O': 0.8698934825060319, 'B-Answer': 0.07422653696583506, 'I-Answer': 0.055879980528132464}, {'O': 0.7123912027138896, 'B-Answer': 0.14169453896252324, 'I-Answer': 0.14591425832358684}, {'O': 0.7332832916836384, 'B-Answer': 0.002564968364896535, 'I-Answer': 0.26415173995146474}, {'O': 0.7165319865397749, 'B-Answer': 0.027251834248355547, 'I-Answer': 0.2562161792118691}, {'O': 0.7622226915263315, 'B-Answer': 0.007029275337196126, 'I-Answer': 0.23074803313647185}, {'O': 0.9213485392547428, 'B-Answer': 0.004527826971679117, 'I-Answer': 0.0741236337735777}, {'O': 0.9173601946613636, 'B-Answer': 0.015168491661903644, 'I-Answer': 0.06747131367673234}, {'O': 0.9184857911647136, 'B-Answer': 0.007262864516296465, 'I-Answer': 0.0742513443189896}, {'O': 0.9367768968923255, 'B-Answer': 0.008781936460942988, 'I-Answer': 0.05444116664673135}, {'O': 0.7760524452034926, 'B-Answer': 0.14882988405885808, 'I-Answer': 0.07511767073764931}, {'O': 0.9430776769434543, 'B-Answer': 0.0013924213203694881, 'I-Answer': 0.05552990173617596}, {'O': 0.9296531570945916, 'B-Answer': 0.015693598421755422, 'I-Answer': 0.05465324448365295}, {'O': 0.8971596778705061, 'B-Answer': 0.03042041177865934, 'I-Answer': 0.07241991035083471}, {'O': 0.9320630643229817, 'B-Answer': 0.00405387202594518, 'I-Answer': 0.06388306365107337}, {'O': 0.7942794506275821, 'B-Answer': 0.1279323528435676, 'I-Answer': 0.07778819652885044}, {'O': 0.9814524209418206, 'B-Answer': 0.0015855138922188873, 'I-Answer': 0.016962065165960542}]\n"
          ],
          "name": "stdout"
        }
      ]
    },
    {
      "cell_type": "code",
      "metadata": {
        "colab": {
          "base_uri": "https://localhost:8080/",
          "height": 479
        },
        "id": "QFSt8pomylYm",
        "outputId": "6d12462b-7ed3-4e3a-af19-59f3ebfc1c35"
      },
      "source": [
        "# Evaluate Standard Evaluation Metricies\n",
        "\n",
        "print(metrics.flat_classification_report(io2iob(y_test), y_pred_test, digits=5))\n",
        "crf_roc_curve(io2iob(y_test), y_pred_test_marginals)"
      ],
      "execution_count": 42,
      "outputs": [
        {
          "output_type": "stream",
          "text": [
            "              precision    recall  f1-score   support\n",
            "\n",
            "    B-Answer    0.46154   0.00594   0.01173      8080\n",
            "    I-Answer    0.53254   0.00328   0.00652     27451\n",
            "           O    0.79968   0.99911   0.88834    141383\n",
            "\n",
            "    accuracy                        0.79923    176914\n",
            "   macro avg    0.59792   0.33611   0.30220    176914\n",
            "weighted avg    0.74279   0.79923   0.71148    176914\n",
            "\n"
          ],
          "name": "stdout"
        },
        {
          "output_type": "display_data",
          "data": {
            "image/png": "[encoded data removed]",
            "text/plain": [
              "<Figure size 432x288 with 1 Axes>"
            ]
          },
          "metadata": {
            "tags": [],
            "needs_background": "light"
          }
        }
      ]
    },
    {
      "cell_type": "code",
      "metadata": {
        "colab": {
          "base_uri": "https://localhost:8080/",
          "height": 479
        },
        "id": "m93GNzpYylYm",
        "outputId": "19d40c80-2d47-45c6-8a81-45a88db7258a"
      },
      "source": [
        "# Evaluate Standard Evaluation Metricies\n",
        "print(metrics.flat_classification_report(io2iob(y_train), y_pred_train, digits=5))\n",
        "crf_roc_curve(io2iob(y_train), y_pred_train_marginals)"
      ],
      "execution_count": 43,
      "outputs": [
        {
          "output_type": "stream",
          "text": [
            "              precision    recall  f1-score   support\n",
            "\n",
            "    B-Answer    0.48722   0.00821   0.01614     76656\n",
            "    I-Answer    0.44704   0.00562   0.01110    200480\n",
            "           O    0.86585   0.99889   0.92762   1778924\n",
            "\n",
            "    accuracy                        0.86510   2056060\n",
            "   macro avg    0.60004   0.33757   0.31829   2056060\n",
            "weighted avg    0.81090   0.86510   0.80427   2056060\n",
            "\n"
          ],
          "name": "stdout"
        },
        {
          "output_type": "display_data",
          "data": {
            "image/png": "[encoded data removed]",
            "text/plain": [
              "<Figure size 432x288 with 1 Axes>"
            ]
          },
          "metadata": {
            "tags": [],
            "needs_background": "light"
          }
        }
      ]
    },
    {
      "cell_type": "code",
      "metadata": {
        "colab": {
          "base_uri": "https://localhost:8080/",
          "height": 1000
        },
        "id": "VX7WucIaylYn",
        "outputId": "da62e033-85d0-40e8-9dce-de14c8826c86"
      },
      "source": [
        "eli5.show_weights(crf, top=100)"
      ],
      "execution_count": 44,
      "outputs": [
        {
          "output_type": "stream",
          "text": [
            "/usr/local/lib/python3.7/dist-packages/sklearn/base.py:197: FutureWarning: From version 0.24, get_params will raise an AttributeError if a parameter cannot be retrieved as an instance attribute. Previously it would return None.\n",
            "  FutureWarning)\n"
          ],
          "name": "stderr"
        },
        {
          "output_type": "execute_result",
          "data": {
            "text/html": [
              "\n",
              "    <style>\n",
              "    table.eli5-weights tr:hover {\n",
              "        filter: brightness(85%);\n",
              "    }\n",
              "</style>\n",
              "\n",
              "\n",
              "\n",
              "    \n",
              "\n",
              "    \n",
              "\n",
              "    \n",
              "        \n",
              "\n",
              "\n",
              "<table class=\"eli5-transition-features\" style=\"margin-bottom: 0.5em;\">\n",
              "    <thead>\n",
              "        <tr>\n",
              "            <td>From \\ To</td>\n",
              "            \n",
              "                <th>O</th>\n",
              "            \n",
              "                <th>B-Answer</th>\n",
              "            \n",
              "                <th>I-Answer</th>\n",
              "            \n",
              "        </tr>\n",
              "    </thead>\n",
              "    <tbody>\n",
              "        \n",
              "            \n",
              "                <tr>\n",
              "                    <th>O</th>\n",
              "                    \n",
              "                        <td style=\"background-color: hsl(120, 100.00%, 85.88%)\" title=\"O &rArr; O\">\n",
              "                            1.974\n",
              "                        </td>\n",
              "                    \n",
              "                        <td style=\"background-color: hsl(120, 100.00%, 84.97%)\" title=\"O &rArr; B-Answer\">\n",
              "                            2.158\n",
              "                        </td>\n",
              "                    \n",
              "                        <td style=\"background-color: hsl(0, 100.00%, 100.00%)\" title=\"O &rArr; I-Answer\">\n",
              "                            0.0\n",
              "                        </td>\n",
              "                    \n",
              "                </tr>\n",
              "            \n",
              "                <tr>\n",
              "                    <th>B-Answer</th>\n",
              "                    \n",
              "                        <td style=\"background-color: hsl(0, 100.00%, 87.03%)\" title=\"B-Answer &rArr; O\">\n",
              "                            -1.749\n",
              "                        </td>\n",
              "                    \n",
              "                        <td style=\"background-color: hsl(0, 100.00%, 100.00%)\" title=\"B-Answer &rArr; B-Answer\">\n",
              "                            0.0\n",
              "                        </td>\n",
              "                    \n",
              "                        <td style=\"background-color: hsl(120, 100.00%, 83.80%)\" title=\"B-Answer &rArr; I-Answer\">\n",
              "                            2.403\n",
              "                        </td>\n",
              "                    \n",
              "                </tr>\n",
              "            \n",
              "                <tr>\n",
              "                    <th>I-Answer</th>\n",
              "                    \n",
              "                        <td style=\"background-color: hsl(0, 100.00%, 87.14%)\" title=\"I-Answer &rArr; O\">\n",
              "                            -1.728\n",
              "                        </td>\n",
              "                    \n",
              "                        <td style=\"background-color: hsl(0, 100.00%, 100.00%)\" title=\"I-Answer &rArr; B-Answer\">\n",
              "                            0.0\n",
              "                        </td>\n",
              "                    \n",
              "                        <td style=\"background-color: hsl(120, 100.00%, 80.00%)\" title=\"I-Answer &rArr; I-Answer\">\n",
              "                            3.246\n",
              "                        </td>\n",
              "                    \n",
              "                </tr>\n",
              "            \n",
              "        \n",
              "    </tbody>\n",
              "</table>\n",
              "    \n",
              "\n",
              "    \n",
              "\n",
              "    \n",
              "\n",
              "    \n",
              "\n",
              "\n",
              "    \n",
              "\n",
              "    \n",
              "\n",
              "    \n",
              "\n",
              "    \n",
              "        \n",
              "\n",
              "    \n",
              "        <table class=\"eli5-weights-wrapper\" style=\"border-collapse: collapse; border: none; margin-bottom: 1.5em;\">\n",
              "            <tr>\n",
              "                \n",
              "                    <td style=\"padding: 0.5em; border: 1px solid black; text-align: center;\">\n",
              "                        <b>\n",
              "    \n",
              "        y=O\n",
              "    \n",
              "</b>\n",
              "\n",
              "top features\n",
              "                    </td>\n",
              "                \n",
              "                    <td style=\"padding: 0.5em; border: 1px solid black; text-align: center;\">\n",
              "                        <b>\n",
              "    \n",
              "        y=B-Answer\n",
              "    \n",
              "</b>\n",
              "\n",
              "top features\n",
              "                    </td>\n",
              "                \n",
              "                    <td style=\"padding: 0.5em; border: 1px solid black; text-align: center;\">\n",
              "                        <b>\n",
              "    \n",
              "        y=I-Answer\n",
              "    \n",
              "</b>\n",
              "\n",
              "top features\n",
              "                    </td>\n",
              "                \n",
              "            </tr>\n",
              "            <tr>\n",
              "                \n",
              "                    \n",
              "                        <td style=\"padding: 0px; border: 1px solid black; vertical-align: top;\">\n",
              "                            \n",
              "                                \n",
              "                                    \n",
              "                                    \n",
              "    \n",
              "    <table class=\"eli5-weights\"\n",
              "           style=\"border-collapse: collapse; border: none; margin-top: 0em; table-layout: auto; width: 100%;\">\n",
              "        <thead>\n",
              "        <tr style=\"border: none;\">\n",
              "            \n",
              "                <th style=\"padding: 0 1em 0 0.5em; text-align: right; border: none;\" title=\"Feature weights. Note that weights do not account for feature value scales, so if feature values have different scales, features with highest weights might not be the most important.\">\n",
              "                    Weight<sup>?</sup>\n",
              "                </th>\n",
              "            \n",
              "            <th style=\"padding: 0 0.5em 0 0.5em; text-align: left; border: none;\">Feature</th>\n",
              "            \n",
              "        </tr>\n",
              "        </thead>\n",
              "        <tbody>\n",
              "        \n",
              "            <tr style=\"background-color: hsl(120, 100.00%, 80.00%); border: none;\">\n",
              "    <td style=\"padding: 0 1em 0 0.5em; text-align: right; border: none;\">\n",
              "        +0.720\n",
              "    </td>\n",
              "    <td style=\"padding: 0 0.5em 0 0.5em; text-align: left; border: none;\">\n",
              "        1 EOS\n",
              "    </td>\n",
              "    \n",
              "</tr>\n",
              "        \n",
              "            <tr style=\"background-color: hsl(120, 100.00%, 80.28%); border: none;\">\n",
              "    <td style=\"padding: 0 1em 0 0.5em; text-align: right; border: none;\">\n",
              "        +0.705\n",
              "    </td>\n",
              "    <td style=\"padding: 0 0.5em 0 0.5em; text-align: left; border: none;\">\n",
              "        0:pos_:PUNCT\n",
              "    </td>\n",
              "    \n",
              "</tr>\n",
              "        \n",
              "            <tr style=\"background-color: hsl(120, 100.00%, 81.61%); border: none;\">\n",
              "    <td style=\"padding: 0 1em 0 0.5em; text-align: right; border: none;\">\n",
              "        +0.638\n",
              "    </td>\n",
              "    <td style=\"padding: 0 0.5em 0 0.5em; text-align: left; border: none;\">\n",
              "        0:word:.\n",
              "    </td>\n",
              "    \n",
              "</tr>\n",
              "        \n",
              "            <tr style=\"background-color: hsl(120, 100.00%, 81.89%); border: none;\">\n",
              "    <td style=\"padding: 0 1em 0 0.5em; text-align: right; border: none;\">\n",
              "        +0.624\n",
              "    </td>\n",
              "    <td style=\"padding: 0 0.5em 0 0.5em; text-align: left; border: none;\">\n",
              "        0:morph_PunctType:Peri\n",
              "    </td>\n",
              "    \n",
              "</tr>\n",
              "        \n",
              "            <tr style=\"background-color: hsl(120, 100.00%, 88.72%); border: none;\">\n",
              "    <td style=\"padding: 0 1em 0 0.5em; text-align: right; border: none;\">\n",
              "        +0.317\n",
              "    </td>\n",
              "    <td style=\"padding: 0 0.5em 0 0.5em; text-align: left; border: none;\">\n",
              "        0:ent_iob_:O\n",
              "    </td>\n",
              "    \n",
              "</tr>\n",
              "        \n",
              "            <tr style=\"background-color: hsl(120, 100.00%, 89.24%); border: none;\">\n",
              "    <td style=\"padding: 0 1em 0 0.5em; text-align: right; border: none;\">\n",
              "        +0.297\n",
              "    </td>\n",
              "    <td style=\"padding: 0 0.5em 0 0.5em; text-align: left; border: none;\">\n",
              "        -1:dep_:pobj\n",
              "    </td>\n",
              "    \n",
              "</tr>\n",
              "        \n",
              "            <tr style=\"background-color: hsl(120, 100.00%, 89.93%); border: none;\">\n",
              "    <td style=\"padding: 0 1em 0 0.5em; text-align: right; border: none;\">\n",
              "        +0.270\n",
              "    </td>\n",
              "    <td style=\"padding: 0 0.5em 0 0.5em; text-align: left; border: none;\">\n",
              "        -1:ent_iob_:I\n",
              "    </td>\n",
              "    \n",
              "</tr>\n",
              "        \n",
              "            <tr style=\"background-color: hsl(120, 100.00%, 90.52%); border: none;\">\n",
              "    <td style=\"padding: 0 1em 0 0.5em; text-align: right; border: none;\">\n",
              "        +0.248\n",
              "    </td>\n",
              "    <td style=\"padding: 0 0.5em 0 0.5em; text-align: left; border: none;\">\n",
              "        0:stop\n",
              "    </td>\n",
              "    \n",
              "</tr>\n",
              "        \n",
              "            <tr style=\"background-color: hsl(120, 100.00%, 91.12%); border: none;\">\n",
              "    <td style=\"padding: 0 1em 0 0.5em; text-align: right; border: none;\">\n",
              "        +0.226\n",
              "    </td>\n",
              "    <td style=\"padding: 0 0.5em 0 0.5em; text-align: left; border: none;\">\n",
              "        1:ent_iob_:B\n",
              "    </td>\n",
              "    \n",
              "</tr>\n",
              "        \n",
              "            <tr style=\"background-color: hsl(120, 100.00%, 92.46%); border: none;\">\n",
              "    <td style=\"padding: 0 1em 0 0.5em; text-align: right; border: none;\">\n",
              "        +0.178\n",
              "    </td>\n",
              "    <td style=\"padding: 0 0.5em 0 0.5em; text-align: left; border: none;\">\n",
              "        -1:tag_:CD\n",
              "    </td>\n",
              "    \n",
              "</tr>\n",
              "        \n",
              "            <tr style=\"background-color: hsl(120, 100.00%, 92.46%); border: none;\">\n",
              "    <td style=\"padding: 0 1em 0 0.5em; text-align: right; border: none;\">\n",
              "        +0.178\n",
              "    </td>\n",
              "    <td style=\"padding: 0 0.5em 0 0.5em; text-align: left; border: none;\">\n",
              "        -1:pos_:NUM\n",
              "    </td>\n",
              "    \n",
              "</tr>\n",
              "        \n",
              "            <tr style=\"background-color: hsl(120, 100.00%, 92.47%); border: none;\">\n",
              "    <td style=\"padding: 0 1em 0 0.5em; text-align: right; border: none;\">\n",
              "        +0.178\n",
              "    </td>\n",
              "    <td style=\"padding: 0 0.5em 0 0.5em; text-align: left; border: none;\">\n",
              "        -1:morph_NumType:Card\n",
              "    </td>\n",
              "    \n",
              "</tr>\n",
              "        \n",
              "            <tr style=\"background-color: hsl(120, 100.00%, 92.58%); border: none;\">\n",
              "    <td style=\"padding: 0 1em 0 0.5em; text-align: right; border: none;\">\n",
              "        +0.175\n",
              "    </td>\n",
              "    <td style=\"padding: 0 0.5em 0 0.5em; text-align: left; border: none;\">\n",
              "        -1:ent_type:CARDINAL\n",
              "    </td>\n",
              "    \n",
              "</tr>\n",
              "        \n",
              "            <tr style=\"background-color: hsl(120, 100.00%, 92.99%); border: none;\">\n",
              "    <td style=\"padding: 0 1em 0 0.5em; text-align: right; border: none;\">\n",
              "        +0.161\n",
              "    </td>\n",
              "    <td style=\"padding: 0 0.5em 0 0.5em; text-align: left; border: none;\">\n",
              "        0:morph_VerbForm:Fin\n",
              "    </td>\n",
              "    \n",
              "</tr>\n",
              "        \n",
              "            <tr style=\"background-color: hsl(120, 100.00%, 93.15%); border: none;\">\n",
              "    <td style=\"padding: 0 1em 0 0.5em; text-align: right; border: none;\">\n",
              "        +0.156\n",
              "    </td>\n",
              "    <td style=\"padding: 0 0.5em 0 0.5em; text-align: left; border: none;\">\n",
              "        AbsPos:0\n",
              "    </td>\n",
              "    \n",
              "</tr>\n",
              "        \n",
              "            <tr style=\"background-color: hsl(120, 100.00%, 93.15%); border: none;\">\n",
              "    <td style=\"padding: 0 1em 0 0.5em; text-align: right; border: none;\">\n",
              "        +0.156\n",
              "    </td>\n",
              "    <td style=\"padding: 0 0.5em 0 0.5em; text-align: left; border: none;\">\n",
              "        -1 BOS\n",
              "    </td>\n",
              "    \n",
              "</tr>\n",
              "        \n",
              "            <tr style=\"background-color: hsl(120, 100.00%, 93.20%); border: none;\">\n",
              "    <td style=\"padding: 0 1em 0 0.5em; text-align: right; border: none;\">\n",
              "        +0.154\n",
              "    </td>\n",
              "    <td style=\"padding: 0 0.5em 0 0.5em; text-align: left; border: none;\">\n",
              "        0:morph_PunctType:Comm\n",
              "    </td>\n",
              "    \n",
              "</tr>\n",
              "        \n",
              "            <tr style=\"background-color: hsl(120, 100.00%, 93.28%); border: none;\">\n",
              "    <td style=\"padding: 0 1em 0 0.5em; text-align: right; border: none;\">\n",
              "        +0.151\n",
              "    </td>\n",
              "    <td style=\"padding: 0 0.5em 0 0.5em; text-align: left; border: none;\">\n",
              "        0:dep_:ROOT\n",
              "    </td>\n",
              "    \n",
              "</tr>\n",
              "        \n",
              "            <tr style=\"background-color: hsl(120, 100.00%, 93.30%); border: none;\">\n",
              "    <td style=\"padding: 0 1em 0 0.5em; text-align: right; border: none;\">\n",
              "        +0.151\n",
              "    </td>\n",
              "    <td style=\"padding: 0 0.5em 0 0.5em; text-align: left; border: none;\">\n",
              "        0:word:,\n",
              "    </td>\n",
              "    \n",
              "</tr>\n",
              "        \n",
              "            <tr style=\"background-color: hsl(120, 100.00%, 93.36%); border: none;\">\n",
              "    <td style=\"padding: 0 1em 0 0.5em; text-align: right; border: none;\">\n",
              "        +0.149\n",
              "    </td>\n",
              "    <td style=\"padding: 0 0.5em 0 0.5em; text-align: left; border: none;\">\n",
              "        0:srl_iob:O\n",
              "    </td>\n",
              "    \n",
              "</tr>\n",
              "        \n",
              "            <tr style=\"background-color: hsl(120, 100.00%, 93.83%); border: none;\">\n",
              "    <td style=\"padding: 0 1em 0 0.5em; text-align: right; border: none;\">\n",
              "        +0.134\n",
              "    </td>\n",
              "    <td style=\"padding: 0 0.5em 0 0.5em; text-align: left; border: none;\">\n",
              "        0:dep_:prep\n",
              "    </td>\n",
              "    \n",
              "</tr>\n",
              "        \n",
              "            <tr style=\"background-color: hsl(120, 100.00%, 94.07%); border: none;\">\n",
              "    <td style=\"padding: 0 1em 0 0.5em; text-align: right; border: none;\">\n",
              "        +0.127\n",
              "    </td>\n",
              "    <td style=\"padding: 0 0.5em 0 0.5em; text-align: left; border: none;\">\n",
              "        0:tag_:VBD\n",
              "    </td>\n",
              "    \n",
              "</tr>\n",
              "        \n",
              "            <tr style=\"background-color: hsl(120, 100.00%, 94.12%); border: none;\">\n",
              "    <td style=\"padding: 0 1em 0 0.5em; text-align: right; border: none;\">\n",
              "        +0.125\n",
              "    </td>\n",
              "    <td style=\"padding: 0 0.5em 0 0.5em; text-align: left; border: none;\">\n",
              "        -1:pos_:NOUN\n",
              "    </td>\n",
              "    \n",
              "</tr>\n",
              "        \n",
              "            <tr style=\"background-color: hsl(120, 100.00%, 94.18%); border: none;\">\n",
              "    <td style=\"padding: 0 1em 0 0.5em; text-align: right; border: none;\">\n",
              "        +0.123\n",
              "    </td>\n",
              "    <td style=\"padding: 0 0.5em 0 0.5em; text-align: left; border: none;\">\n",
              "        -1:prefix1:1\n",
              "    </td>\n",
              "    \n",
              "</tr>\n",
              "        \n",
              "            <tr style=\"background-color: hsl(120, 100.00%, 94.34%); border: none;\">\n",
              "    <td style=\"padding: 0 1em 0 0.5em; text-align: right; border: none;\">\n",
              "        +0.119\n",
              "    </td>\n",
              "    <td style=\"padding: 0 0.5em 0 0.5em; text-align: left; border: none;\">\n",
              "        0:morph_PunctType:Brck\n",
              "    </td>\n",
              "    \n",
              "</tr>\n",
              "        \n",
              "            <tr style=\"background-color: hsl(120, 100.00%, 94.40%); border: none;\">\n",
              "    <td style=\"padding: 0 1em 0 0.5em; text-align: right; border: none;\">\n",
              "        +0.117\n",
              "    </td>\n",
              "    <td style=\"padding: 0 0.5em 0 0.5em; text-align: left; border: none;\">\n",
              "        0:pos_:ADP\n",
              "    </td>\n",
              "    \n",
              "</tr>\n",
              "        \n",
              "            <tr style=\"background-color: hsl(120, 100.00%, 94.41%); border: none;\">\n",
              "    <td style=\"padding: 0 1em 0 0.5em; text-align: right; border: none;\">\n",
              "        +0.116\n",
              "    </td>\n",
              "    <td style=\"padding: 0 0.5em 0 0.5em; text-align: left; border: none;\">\n",
              "        0:tag_:IN\n",
              "    </td>\n",
              "    \n",
              "</tr>\n",
              "        \n",
              "            <tr style=\"background-color: hsl(120, 100.00%, 94.49%); border: none;\">\n",
              "    <td style=\"padding: 0 1em 0 0.5em; text-align: right; border: none;\">\n",
              "        +0.114\n",
              "    </td>\n",
              "    <td style=\"padding: 0 0.5em 0 0.5em; text-align: left; border: none;\">\n",
              "        -1:morph_NounType:Prop\n",
              "    </td>\n",
              "    \n",
              "</tr>\n",
              "        \n",
              "            <tr style=\"background-color: hsl(120, 100.00%, 94.50%); border: none;\">\n",
              "    <td style=\"padding: 0 1em 0 0.5em; text-align: right; border: none;\">\n",
              "        +0.114\n",
              "    </td>\n",
              "    <td style=\"padding: 0 0.5em 0 0.5em; text-align: left; border: none;\">\n",
              "        -1:pos_:PROPN\n",
              "    </td>\n",
              "    \n",
              "</tr>\n",
              "        \n",
              "            <tr style=\"background-color: hsl(120, 100.00%, 94.70%); border: none;\">\n",
              "    <td style=\"padding: 0 1em 0 0.5em; text-align: right; border: none;\">\n",
              "        +0.108\n",
              "    </td>\n",
              "    <td style=\"padding: 0 0.5em 0 0.5em; text-align: left; border: none;\">\n",
              "        0:oov\n",
              "    </td>\n",
              "    \n",
              "</tr>\n",
              "        \n",
              "            <tr style=\"background-color: hsl(120, 100.00%, 94.70%); border: none;\">\n",
              "    <td style=\"padding: 0 1em 0 0.5em; text-align: right; border: none;\">\n",
              "        +0.108\n",
              "    </td>\n",
              "    <td style=\"padding: 0 0.5em 0 0.5em; text-align: left; border: none;\">\n",
              "        bias\n",
              "    </td>\n",
              "    \n",
              "</tr>\n",
              "        \n",
              "            <tr style=\"background-color: hsl(120, 100.00%, 94.78%); border: none;\">\n",
              "    <td style=\"padding: 0 1em 0 0.5em; text-align: right; border: none;\">\n",
              "        +0.106\n",
              "    </td>\n",
              "    <td style=\"padding: 0 0.5em 0 0.5em; text-align: left; border: none;\">\n",
              "        -1:tag_:NNP\n",
              "    </td>\n",
              "    \n",
              "</tr>\n",
              "        \n",
              "            <tr style=\"background-color: hsl(120, 100.00%, 94.97%); border: none;\">\n",
              "    <td style=\"padding: 0 1em 0 0.5em; text-align: right; border: none;\">\n",
              "        +0.100\n",
              "    </td>\n",
              "    <td style=\"padding: 0 0.5em 0 0.5em; text-align: left; border: none;\">\n",
              "        -1:dep_:appos\n",
              "    </td>\n",
              "    \n",
              "</tr>\n",
              "        \n",
              "            <tr style=\"background-color: hsl(120, 100.00%, 94.98%); border: none;\">\n",
              "    <td style=\"padding: 0 1em 0 0.5em; text-align: right; border: none;\">\n",
              "        +0.100\n",
              "    </td>\n",
              "    <td style=\"padding: 0 0.5em 0 0.5em; text-align: left; border: none;\">\n",
              "        QuartilePos:3\n",
              "    </td>\n",
              "    \n",
              "</tr>\n",
              "        \n",
              "            <tr style=\"background-color: hsl(120, 100.00%, 95.02%); border: none;\">\n",
              "    <td style=\"padding: 0 1em 0 0.5em; text-align: right; border: none;\">\n",
              "        +0.099\n",
              "    </td>\n",
              "    <td style=\"padding: 0 0.5em 0 0.5em; text-align: left; border: none;\">\n",
              "        -1:dep_:dobj\n",
              "    </td>\n",
              "    \n",
              "</tr>\n",
              "        \n",
              "            <tr style=\"background-color: hsl(120, 100.00%, 95.09%); border: none;\">\n",
              "    <td style=\"padding: 0 1em 0 0.5em; text-align: right; border: none;\">\n",
              "        +0.097\n",
              "    </td>\n",
              "    <td style=\"padding: 0 0.5em 0 0.5em; text-align: left; border: none;\">\n",
              "        -1:dep_:conj\n",
              "    </td>\n",
              "    \n",
              "</tr>\n",
              "        \n",
              "            <tr style=\"background-color: hsl(120, 100.00%, 95.14%); border: none;\">\n",
              "    <td style=\"padding: 0 1em 0 0.5em; text-align: right; border: none;\">\n",
              "        +0.095\n",
              "    </td>\n",
              "    <td style=\"padding: 0 0.5em 0 0.5em; text-align: left; border: none;\">\n",
              "        0:tag_:-LRB-\n",
              "    </td>\n",
              "    \n",
              "</tr>\n",
              "        \n",
              "            <tr style=\"background-color: hsl(120, 100.00%, 95.18%); border: none;\">\n",
              "    <td style=\"padding: 0 1em 0 0.5em; text-align: right; border: none;\">\n",
              "        +0.094\n",
              "    </td>\n",
              "    <td style=\"padding: 0 0.5em 0 0.5em; text-align: left; border: none;\">\n",
              "        0:word:(\n",
              "    </td>\n",
              "    \n",
              "</tr>\n",
              "        \n",
              "            <tr style=\"background-color: hsl(120, 100.00%, 95.28%); border: none;\">\n",
              "    <td style=\"padding: 0 1em 0 0.5em; text-align: right; border: none;\">\n",
              "        +0.091\n",
              "    </td>\n",
              "    <td style=\"padding: 0 0.5em 0 0.5em; text-align: left; border: none;\">\n",
              "        0:pos_:AUX\n",
              "    </td>\n",
              "    \n",
              "</tr>\n",
              "        \n",
              "            <tr style=\"background-color: hsl(120, 100.00%, 95.30%); border: none;\">\n",
              "    <td style=\"padding: 0 1em 0 0.5em; text-align: right; border: none;\">\n",
              "        +0.091\n",
              "    </td>\n",
              "    <td style=\"padding: 0 0.5em 0 0.5em; text-align: left; border: none;\">\n",
              "        -1:dep_:nummod\n",
              "    </td>\n",
              "    \n",
              "</tr>\n",
              "        \n",
              "            <tr style=\"background-color: hsl(120, 100.00%, 95.32%); border: none;\">\n",
              "    <td style=\"padding: 0 1em 0 0.5em; text-align: right; border: none;\">\n",
              "        +0.090\n",
              "    </td>\n",
              "    <td style=\"padding: 0 0.5em 0 0.5em; text-align: left; border: none;\">\n",
              "        0:srl_V:B\n",
              "    </td>\n",
              "    \n",
              "</tr>\n",
              "        \n",
              "            <tr style=\"background-color: hsl(120, 100.00%, 95.36%); border: none;\">\n",
              "    <td style=\"padding: 0 1em 0 0.5em; text-align: right; border: none;\">\n",
              "        +0.089\n",
              "    </td>\n",
              "    <td style=\"padding: 0 0.5em 0 0.5em; text-align: left; border: none;\">\n",
              "        -1:word:%\n",
              "    </td>\n",
              "    \n",
              "</tr>\n",
              "        \n",
              "            <tr style=\"background-color: hsl(120, 100.00%, 95.37%); border: none;\">\n",
              "    <td style=\"padding: 0 1em 0 0.5em; text-align: right; border: none;\">\n",
              "        +0.089\n",
              "    </td>\n",
              "    <td style=\"padding: 0 0.5em 0 0.5em; text-align: left; border: none;\">\n",
              "        0:morph_PronType:Dem\n",
              "    </td>\n",
              "    \n",
              "</tr>\n",
              "        \n",
              "            <tr style=\"background-color: hsl(120, 100.00%, 95.40%); border: none;\">\n",
              "    <td style=\"padding: 0 1em 0 0.5em; text-align: right; border: none;\">\n",
              "        +0.088\n",
              "    </td>\n",
              "    <td style=\"padding: 0 0.5em 0 0.5em; text-align: left; border: none;\">\n",
              "        0:morph_Tense:Past\n",
              "    </td>\n",
              "    \n",
              "</tr>\n",
              "        \n",
              "            <tr style=\"background-color: hsl(120, 100.00%, 95.41%); border: none;\">\n",
              "    <td style=\"padding: 0 1em 0 0.5em; text-align: right; border: none;\">\n",
              "        +0.088\n",
              "    </td>\n",
              "    <td style=\"padding: 0 0.5em 0 0.5em; text-align: left; border: none;\">\n",
              "        -1:morph_Number:Plur\n",
              "    </td>\n",
              "    \n",
              "</tr>\n",
              "        \n",
              "            <tr style=\"background-color: hsl(120, 100.00%, 95.47%); border: none;\">\n",
              "    <td style=\"padding: 0 1em 0 0.5em; text-align: right; border: none;\">\n",
              "        +0.086\n",
              "    </td>\n",
              "    <td style=\"padding: 0 0.5em 0 0.5em; text-align: left; border: none;\">\n",
              "        -1:srl_ARGM-ADV:B\n",
              "    </td>\n",
              "    \n",
              "</tr>\n",
              "        \n",
              "            <tr style=\"background-color: hsl(120, 100.00%, 95.48%); border: none;\">\n",
              "    <td style=\"padding: 0 1em 0 0.5em; text-align: right; border: none;\">\n",
              "        +0.086\n",
              "    </td>\n",
              "    <td style=\"padding: 0 0.5em 0 0.5em; text-align: left; border: none;\">\n",
              "        -1:dep_:attr\n",
              "    </td>\n",
              "    \n",
              "</tr>\n",
              "        \n",
              "            <tr style=\"background-color: hsl(120, 100.00%, 95.53%); border: none;\">\n",
              "    <td style=\"padding: 0 1em 0 0.5em; text-align: right; border: none;\">\n",
              "        +0.085\n",
              "    </td>\n",
              "    <td style=\"padding: 0 0.5em 0 0.5em; text-align: left; border: none;\">\n",
              "        -1:srl_ARGM-TMP:B\n",
              "    </td>\n",
              "    \n",
              "</tr>\n",
              "        \n",
              "            <tr style=\"background-color: hsl(120, 100.00%, 95.57%); border: none;\">\n",
              "    <td style=\"padding: 0 1em 0 0.5em; text-align: right; border: none;\">\n",
              "        +0.084\n",
              "    </td>\n",
              "    <td style=\"padding: 0 0.5em 0 0.5em; text-align: left; border: none;\">\n",
              "        0:srl_iob:B\n",
              "    </td>\n",
              "    \n",
              "</tr>\n",
              "        \n",
              "            <tr style=\"background-color: hsl(120, 100.00%, 95.59%); border: none;\">\n",
              "    <td style=\"padding: 0 1em 0 0.5em; text-align: right; border: none;\">\n",
              "        +0.083\n",
              "    </td>\n",
              "    <td style=\"padding: 0 0.5em 0 0.5em; text-align: left; border: none;\">\n",
              "        -1:morph_Number:Sing\n",
              "    </td>\n",
              "    \n",
              "</tr>\n",
              "        \n",
              "            <tr style=\"background-color: hsl(120, 100.00%, 95.66%); border: none;\">\n",
              "    <td style=\"padding: 0 1em 0 0.5em; text-align: right; border: none;\">\n",
              "        +0.081\n",
              "    </td>\n",
              "    <td style=\"padding: 0 0.5em 0 0.5em; text-align: left; border: none;\">\n",
              "        1:dep_:compound\n",
              "    </td>\n",
              "    \n",
              "</tr>\n",
              "        \n",
              "            <tr style=\"background-color: hsl(120, 100.00%, 95.68%); border: none;\">\n",
              "    <td style=\"padding: 0 1em 0 0.5em; text-align: right; border: none;\">\n",
              "        +0.081\n",
              "    </td>\n",
              "    <td style=\"padding: 0 0.5em 0 0.5em; text-align: left; border: none;\">\n",
              "        -1:shape_reduced:d\n",
              "    </td>\n",
              "    \n",
              "</tr>\n",
              "        \n",
              "            <tr style=\"background-color: hsl(120, 100.00%, 95.68%); border: none;\">\n",
              "    <td style=\"padding: 0 1em 0 0.5em; text-align: right; border: none;\">\n",
              "        +0.081\n",
              "    </td>\n",
              "    <td style=\"padding: 0 0.5em 0 0.5em; text-align: left; border: none;\">\n",
              "        0:morph_Mood:Ind\n",
              "    </td>\n",
              "    \n",
              "</tr>\n",
              "        \n",
              "            <tr style=\"background-color: hsl(120, 100.00%, 95.69%); border: none;\">\n",
              "    <td style=\"padding: 0 1em 0 0.5em; text-align: right; border: none;\">\n",
              "        +0.080\n",
              "    </td>\n",
              "    <td style=\"padding: 0 0.5em 0 0.5em; text-align: left; border: none;\">\n",
              "        1:ent_type:DATE\n",
              "    </td>\n",
              "    \n",
              "</tr>\n",
              "        \n",
              "            <tr style=\"background-color: hsl(120, 100.00%, 95.84%); border: none;\">\n",
              "    <td style=\"padding: 0 1em 0 0.5em; text-align: right; border: none;\">\n",
              "        +0.076\n",
              "    </td>\n",
              "    <td style=\"padding: 0 0.5em 0 0.5em; text-align: left; border: none;\">\n",
              "        0:suffix2:ch\n",
              "    </td>\n",
              "    \n",
              "</tr>\n",
              "        \n",
              "            <tr style=\"background-color: hsl(120, 100.00%, 95.86%); border: none;\">\n",
              "    <td style=\"padding: 0 1em 0 0.5em; text-align: right; border: none;\">\n",
              "        +0.076\n",
              "    </td>\n",
              "    <td style=\"padding: 0 0.5em 0 0.5em; text-align: left; border: none;\">\n",
              "        0:dep_:poss\n",
              "    </td>\n",
              "    \n",
              "</tr>\n",
              "        \n",
              "            <tr style=\"background-color: hsl(120, 100.00%, 95.89%); border: none;\">\n",
              "    <td style=\"padding: 0 1em 0 0.5em; text-align: right; border: none;\">\n",
              "        +0.075\n",
              "    </td>\n",
              "    <td style=\"padding: 0 0.5em 0 0.5em; text-align: left; border: none;\">\n",
              "        -1:oov\n",
              "    </td>\n",
              "    \n",
              "</tr>\n",
              "        \n",
              "        \n",
              "            <tr style=\"background-color: hsl(120, 100.00%, 95.89%); border: none;\">\n",
              "                <td colspan=\"2\" style=\"padding: 0 0.5em 0 0.5em; text-align: center; border: none; white-space: nowrap;\">\n",
              "                    <i>&hellip; 736 more positive &hellip;</i>\n",
              "                </td>\n",
              "            </tr>\n",
              "        \n",
              "\n",
              "        \n",
              "            <tr style=\"background-color: hsl(0, 100.00%, 95.83%); border: none;\">\n",
              "                <td colspan=\"2\" style=\"padding: 0 0.5em 0 0.5em; text-align: center; border: none; white-space: nowrap;\">\n",
              "                    <i>&hellip; 530 more negative &hellip;</i>\n",
              "                </td>\n",
              "            </tr>\n",
              "        \n",
              "        \n",
              "            <tr style=\"background-color: hsl(0, 100.00%, 95.83%); border: none;\">\n",
              "    <td style=\"padding: 0 1em 0 0.5em; text-align: right; border: none;\">\n",
              "        -0.076\n",
              "    </td>\n",
              "    <td style=\"padding: 0 0.5em 0 0.5em; text-align: left; border: none;\">\n",
              "        1:srl_ARGM-TMP:B\n",
              "    </td>\n",
              "    \n",
              "</tr>\n",
              "        \n",
              "            <tr style=\"background-color: hsl(0, 100.00%, 95.74%); border: none;\">\n",
              "    <td style=\"padding: 0 1em 0 0.5em; text-align: right; border: none;\">\n",
              "        -0.079\n",
              "    </td>\n",
              "    <td style=\"padding: 0 0.5em 0 0.5em; text-align: left; border: none;\">\n",
              "        -1:stop\n",
              "    </td>\n",
              "    \n",
              "</tr>\n",
              "        \n",
              "            <tr style=\"background-color: hsl(0, 100.00%, 95.74%); border: none;\">\n",
              "    <td style=\"padding: 0 1em 0 0.5em; text-align: right; border: none;\">\n",
              "        -0.079\n",
              "    </td>\n",
              "    <td style=\"padding: 0 0.5em 0 0.5em; text-align: left; border: none;\">\n",
              "        1:morph_PunctSide:Fin\n",
              "    </td>\n",
              "    \n",
              "</tr>\n",
              "        \n",
              "            <tr style=\"background-color: hsl(0, 100.00%, 95.63%); border: none;\">\n",
              "    <td style=\"padding: 0 1em 0 0.5em; text-align: right; border: none;\">\n",
              "        -0.082\n",
              "    </td>\n",
              "    <td style=\"padding: 0 0.5em 0 0.5em; text-align: left; border: none;\">\n",
              "        0:prefix2:19\n",
              "    </td>\n",
              "    \n",
              "</tr>\n",
              "        \n",
              "            <tr style=\"background-color: hsl(0, 100.00%, 95.46%); border: none;\">\n",
              "    <td style=\"padding: 0 1em 0 0.5em; text-align: right; border: none;\">\n",
              "        -0.086\n",
              "    </td>\n",
              "    <td style=\"padding: 0 0.5em 0 0.5em; text-align: left; border: none;\">\n",
              "        -1:morph_PunctSide:Ini\n",
              "    </td>\n",
              "    \n",
              "</tr>\n",
              "        \n",
              "            <tr style=\"background-color: hsl(0, 100.00%, 95.41%); border: none;\">\n",
              "    <td style=\"padding: 0 1em 0 0.5em; text-align: right; border: none;\">\n",
              "        -0.088\n",
              "    </td>\n",
              "    <td style=\"padding: 0 0.5em 0 0.5em; text-align: left; border: none;\">\n",
              "        1:srl_type:V\n",
              "    </td>\n",
              "    \n",
              "</tr>\n",
              "        \n",
              "            <tr style=\"background-color: hsl(0, 100.00%, 95.38%); border: none;\">\n",
              "    <td style=\"padding: 0 1em 0 0.5em; text-align: right; border: none;\">\n",
              "        -0.089\n",
              "    </td>\n",
              "    <td style=\"padding: 0 0.5em 0 0.5em; text-align: left; border: none;\">\n",
              "        0:tag_:NNP\n",
              "    </td>\n",
              "    \n",
              "</tr>\n",
              "        \n",
              "            <tr style=\"background-color: hsl(0, 100.00%, 95.31%); border: none;\">\n",
              "    <td style=\"padding: 0 1em 0 0.5em; text-align: right; border: none;\">\n",
              "        -0.091\n",
              "    </td>\n",
              "    <td style=\"padding: 0 0.5em 0 0.5em; text-align: left; border: none;\">\n",
              "        0:shape_reduced:d\n",
              "    </td>\n",
              "    \n",
              "</tr>\n",
              "        \n",
              "            <tr style=\"background-color: hsl(0, 100.00%, 95.29%); border: none;\">\n",
              "    <td style=\"padding: 0 1em 0 0.5em; text-align: right; border: none;\">\n",
              "        -0.091\n",
              "    </td>\n",
              "    <td style=\"padding: 0 0.5em 0 0.5em; text-align: left; border: none;\">\n",
              "        0:dep_:quantmod\n",
              "    </td>\n",
              "    \n",
              "</tr>\n",
              "        \n",
              "            <tr style=\"background-color: hsl(0, 100.00%, 95.28%); border: none;\">\n",
              "    <td style=\"padding: 0 1em 0 0.5em; text-align: right; border: none;\">\n",
              "        -0.091\n",
              "    </td>\n",
              "    <td style=\"padding: 0 0.5em 0 0.5em; text-align: left; border: none;\">\n",
              "        -1:pos_:ADP\n",
              "    </td>\n",
              "    \n",
              "</tr>\n",
              "        \n",
              "            <tr style=\"background-color: hsl(0, 100.00%, 95.09%); border: none;\">\n",
              "    <td style=\"padding: 0 1em 0 0.5em; text-align: right; border: none;\">\n",
              "        -0.097\n",
              "    </td>\n",
              "    <td style=\"padding: 0 0.5em 0 0.5em; text-align: left; border: none;\">\n",
              "        0:ent_iob_:I\n",
              "    </td>\n",
              "    \n",
              "</tr>\n",
              "        \n",
              "            <tr style=\"background-color: hsl(0, 100.00%, 95.05%); border: none;\">\n",
              "    <td style=\"padding: 0 1em 0 0.5em; text-align: right; border: none;\">\n",
              "        -0.098\n",
              "    </td>\n",
              "    <td style=\"padding: 0 0.5em 0 0.5em; text-align: left; border: none;\">\n",
              "        0:shape_reduced:dx\n",
              "    </td>\n",
              "    \n",
              "</tr>\n",
              "        \n",
              "            <tr style=\"background-color: hsl(0, 100.00%, 94.99%); border: none;\">\n",
              "    <td style=\"padding: 0 1em 0 0.5em; text-align: right; border: none;\">\n",
              "        -0.100\n",
              "    </td>\n",
              "    <td style=\"padding: 0 0.5em 0 0.5em; text-align: left; border: none;\">\n",
              "        0:pos_:NOUN\n",
              "    </td>\n",
              "    \n",
              "</tr>\n",
              "        \n",
              "            <tr style=\"background-color: hsl(0, 100.00%, 94.90%); border: none;\">\n",
              "    <td style=\"padding: 0 1em 0 0.5em; text-align: right; border: none;\">\n",
              "        -0.102\n",
              "    </td>\n",
              "    <td style=\"padding: 0 0.5em 0 0.5em; text-align: left; border: none;\">\n",
              "        -1:dep_:quantmod\n",
              "    </td>\n",
              "    \n",
              "</tr>\n",
              "        \n",
              "            <tr style=\"background-color: hsl(0, 100.00%, 94.86%); border: none;\">\n",
              "    <td style=\"padding: 0 1em 0 0.5em; text-align: right; border: none;\">\n",
              "        -0.103\n",
              "    </td>\n",
              "    <td style=\"padding: 0 0.5em 0 0.5em; text-align: left; border: none;\">\n",
              "        -1:tag_:IN\n",
              "    </td>\n",
              "    \n",
              "</tr>\n",
              "        \n",
              "            <tr style=\"background-color: hsl(0, 100.00%, 94.74%); border: none;\">\n",
              "    <td style=\"padding: 0 1em 0 0.5em; text-align: right; border: none;\">\n",
              "        -0.107\n",
              "    </td>\n",
              "    <td style=\"padding: 0 0.5em 0 0.5em; text-align: left; border: none;\">\n",
              "        0:morph_NounType:Prop\n",
              "    </td>\n",
              "    \n",
              "</tr>\n",
              "        \n",
              "            <tr style=\"background-color: hsl(0, 100.00%, 94.73%); border: none;\">\n",
              "    <td style=\"padding: 0 1em 0 0.5em; text-align: right; border: none;\">\n",
              "        -0.107\n",
              "    </td>\n",
              "    <td style=\"padding: 0 0.5em 0 0.5em; text-align: left; border: none;\">\n",
              "        0:pos_:PROPN\n",
              "    </td>\n",
              "    \n",
              "</tr>\n",
              "        \n",
              "            <tr style=\"background-color: hsl(0, 100.00%, 94.71%); border: none;\">\n",
              "    <td style=\"padding: 0 1em 0 0.5em; text-align: right; border: none;\">\n",
              "        -0.108\n",
              "    </td>\n",
              "    <td style=\"padding: 0 0.5em 0 0.5em; text-align: left; border: none;\">\n",
              "        1:srl_iob:O\n",
              "    </td>\n",
              "    \n",
              "</tr>\n",
              "        \n",
              "            <tr style=\"background-color: hsl(0, 100.00%, 94.69%); border: none;\">\n",
              "    <td style=\"padding: 0 1em 0 0.5em; text-align: right; border: none;\">\n",
              "        -0.108\n",
              "    </td>\n",
              "    <td style=\"padding: 0 0.5em 0 0.5em; text-align: left; border: none;\">\n",
              "        0:dep_:nsubj\n",
              "    </td>\n",
              "    \n",
              "</tr>\n",
              "        \n",
              "            <tr style=\"background-color: hsl(0, 100.00%, 94.64%); border: none;\">\n",
              "    <td style=\"padding: 0 1em 0 0.5em; text-align: right; border: none;\">\n",
              "        -0.110\n",
              "    </td>\n",
              "    <td style=\"padding: 0 0.5em 0 0.5em; text-align: left; border: none;\">\n",
              "        1:morph_Mood:Ind\n",
              "    </td>\n",
              "    \n",
              "</tr>\n",
              "        \n",
              "            <tr style=\"background-color: hsl(0, 100.00%, 94.62%); border: none;\">\n",
              "    <td style=\"padding: 0 1em 0 0.5em; text-align: right; border: none;\">\n",
              "        -0.110\n",
              "    </td>\n",
              "    <td style=\"padding: 0 0.5em 0 0.5em; text-align: left; border: none;\">\n",
              "        1:word:,\n",
              "    </td>\n",
              "    \n",
              "</tr>\n",
              "        \n",
              "            <tr style=\"background-color: hsl(0, 100.00%, 94.50%); border: none;\">\n",
              "    <td style=\"padding: 0 1em 0 0.5em; text-align: right; border: none;\">\n",
              "        -0.114\n",
              "    </td>\n",
              "    <td style=\"padding: 0 0.5em 0 0.5em; text-align: left; border: none;\">\n",
              "        1:tag_:&#x27;&#x27;\n",
              "    </td>\n",
              "    \n",
              "</tr>\n",
              "        \n",
              "            <tr style=\"background-color: hsl(0, 100.00%, 94.43%); border: none;\">\n",
              "    <td style=\"padding: 0 1em 0 0.5em; text-align: right; border: none;\">\n",
              "        -0.116\n",
              "    </td>\n",
              "    <td style=\"padding: 0 0.5em 0 0.5em; text-align: left; border: none;\">\n",
              "        1:word:in\n",
              "    </td>\n",
              "    \n",
              "</tr>\n",
              "        \n",
              "            <tr style=\"background-color: hsl(0, 100.00%, 94.35%); border: none;\">\n",
              "    <td style=\"padding: 0 1em 0 0.5em; text-align: right; border: none;\">\n",
              "        -0.118\n",
              "    </td>\n",
              "    <td style=\"padding: 0 0.5em 0 0.5em; text-align: left; border: none;\">\n",
              "        1:morph_PunctType:Comm\n",
              "    </td>\n",
              "    \n",
              "</tr>\n",
              "        \n",
              "            <tr style=\"background-color: hsl(0, 100.00%, 94.21%); border: none;\">\n",
              "    <td style=\"padding: 0 1em 0 0.5em; text-align: right; border: none;\">\n",
              "        -0.122\n",
              "    </td>\n",
              "    <td style=\"padding: 0 0.5em 0 0.5em; text-align: left; border: none;\">\n",
              "        -1:srl_B\n",
              "    </td>\n",
              "    \n",
              "</tr>\n",
              "        \n",
              "            <tr style=\"background-color: hsl(0, 100.00%, 94.03%); border: none;\">\n",
              "    <td style=\"padding: 0 1em 0 0.5em; text-align: right; border: none;\">\n",
              "        -0.128\n",
              "    </td>\n",
              "    <td style=\"padding: 0 0.5em 0 0.5em; text-align: left; border: none;\">\n",
              "        0:dep_:oprd\n",
              "    </td>\n",
              "    \n",
              "</tr>\n",
              "        \n",
              "            <tr style=\"background-color: hsl(0, 100.00%, 93.80%); border: none;\">\n",
              "    <td style=\"padding: 0 1em 0 0.5em; text-align: right; border: none;\">\n",
              "        -0.135\n",
              "    </td>\n",
              "    <td style=\"padding: 0 0.5em 0 0.5em; text-align: left; border: none;\">\n",
              "        0:morph_Number:Sing\n",
              "    </td>\n",
              "    \n",
              "</tr>\n",
              "        \n",
              "            <tr style=\"background-color: hsl(0, 100.00%, 93.74%); border: none;\">\n",
              "    <td style=\"padding: 0 1em 0 0.5em; text-align: right; border: none;\">\n",
              "        -0.137\n",
              "    </td>\n",
              "    <td style=\"padding: 0 0.5em 0 0.5em; text-align: left; border: none;\">\n",
              "        1:pos_:AUX\n",
              "    </td>\n",
              "    \n",
              "</tr>\n",
              "        \n",
              "            <tr style=\"background-color: hsl(0, 100.00%, 93.55%); border: none;\">\n",
              "    <td style=\"padding: 0 1em 0 0.5em; text-align: right; border: none;\">\n",
              "        -0.143\n",
              "    </td>\n",
              "    <td style=\"padding: 0 0.5em 0 0.5em; text-align: left; border: none;\">\n",
              "        1:word:.\n",
              "    </td>\n",
              "    \n",
              "</tr>\n",
              "        \n",
              "            <tr style=\"background-color: hsl(0, 100.00%, 93.45%); border: none;\">\n",
              "    <td style=\"padding: 0 1em 0 0.5em; text-align: right; border: none;\">\n",
              "        -0.146\n",
              "    </td>\n",
              "    <td style=\"padding: 0 0.5em 0 0.5em; text-align: left; border: none;\">\n",
              "        -1:tag_:``\n",
              "    </td>\n",
              "    \n",
              "</tr>\n",
              "        \n",
              "            <tr style=\"background-color: hsl(0, 100.00%, 93.40%); border: none;\">\n",
              "    <td style=\"padding: 0 1em 0 0.5em; text-align: right; border: none;\">\n",
              "        -0.148\n",
              "    </td>\n",
              "    <td style=\"padding: 0 0.5em 0 0.5em; text-align: left; border: none;\">\n",
              "        1:morph_PunctType:Peri\n",
              "    </td>\n",
              "    \n",
              "</tr>\n",
              "        \n",
              "            <tr style=\"background-color: hsl(0, 100.00%, 93.12%); border: none;\">\n",
              "    <td style=\"padding: 0 1em 0 0.5em; text-align: right; border: none;\">\n",
              "        -0.157\n",
              "    </td>\n",
              "    <td style=\"padding: 0 0.5em 0 0.5em; text-align: left; border: none;\">\n",
              "        0:srl_I\n",
              "    </td>\n",
              "    \n",
              "</tr>\n",
              "        \n",
              "            <tr style=\"background-color: hsl(0, 100.00%, 93.05%); border: none;\">\n",
              "    <td style=\"padding: 0 1em 0 0.5em; text-align: right; border: none;\">\n",
              "        -0.159\n",
              "    </td>\n",
              "    <td style=\"padding: 0 0.5em 0 0.5em; text-align: left; border: none;\">\n",
              "        1:srl_iob:B\n",
              "    </td>\n",
              "    \n",
              "</tr>\n",
              "        \n",
              "            <tr style=\"background-color: hsl(0, 100.00%, 92.85%); border: none;\">\n",
              "    <td style=\"padding: 0 1em 0 0.5em; text-align: right; border: none;\">\n",
              "        -0.166\n",
              "    </td>\n",
              "    <td style=\"padding: 0 0.5em 0 0.5em; text-align: left; border: none;\">\n",
              "        0:prefix1:1\n",
              "    </td>\n",
              "    \n",
              "</tr>\n",
              "        \n",
              "            <tr style=\"background-color: hsl(0, 100.00%, 92.45%); border: none;\">\n",
              "    <td style=\"padding: 0 1em 0 0.5em; text-align: right; border: none;\">\n",
              "        -0.179\n",
              "    </td>\n",
              "    <td style=\"padding: 0 0.5em 0 0.5em; text-align: left; border: none;\">\n",
              "        0:shape_reduced:Xx\n",
              "    </td>\n",
              "    \n",
              "</tr>\n",
              "        \n",
              "            <tr style=\"background-color: hsl(0, 100.00%, 92.37%); border: none;\">\n",
              "    <td style=\"padding: 0 1em 0 0.5em; text-align: right; border: none;\">\n",
              "        -0.182\n",
              "    </td>\n",
              "    <td style=\"padding: 0 0.5em 0 0.5em; text-align: left; border: none;\">\n",
              "        0:ent_type:CARDINAL\n",
              "    </td>\n",
              "    \n",
              "</tr>\n",
              "        \n",
              "            <tr style=\"background-color: hsl(0, 100.00%, 92.08%); border: none;\">\n",
              "    <td style=\"padding: 0 1em 0 0.5em; text-align: right; border: none;\">\n",
              "        -0.192\n",
              "    </td>\n",
              "    <td style=\"padding: 0 0.5em 0 0.5em; text-align: left; border: none;\">\n",
              "        0:dep_:nummod\n",
              "    </td>\n",
              "    \n",
              "</tr>\n",
              "        \n",
              "            <tr style=\"background-color: hsl(0, 100.00%, 90.97%); border: none;\">\n",
              "    <td style=\"padding: 0 1em 0 0.5em; text-align: right; border: none;\">\n",
              "        -0.231\n",
              "    </td>\n",
              "    <td style=\"padding: 0 0.5em 0 0.5em; text-align: left; border: none;\">\n",
              "        0:morph_NumType:Card\n",
              "    </td>\n",
              "    \n",
              "</tr>\n",
              "        \n",
              "            <tr style=\"background-color: hsl(0, 100.00%, 90.97%); border: none;\">\n",
              "    <td style=\"padding: 0 1em 0 0.5em; text-align: right; border: none;\">\n",
              "        -0.231\n",
              "    </td>\n",
              "    <td style=\"padding: 0 0.5em 0 0.5em; text-align: left; border: none;\">\n",
              "        0:tag_:CD\n",
              "    </td>\n",
              "    \n",
              "</tr>\n",
              "        \n",
              "            <tr style=\"background-color: hsl(0, 100.00%, 90.97%); border: none;\">\n",
              "    <td style=\"padding: 0 1em 0 0.5em; text-align: right; border: none;\">\n",
              "        -0.231\n",
              "    </td>\n",
              "    <td style=\"padding: 0 0.5em 0 0.5em; text-align: left; border: none;\">\n",
              "        0:pos_:NUM\n",
              "    </td>\n",
              "    \n",
              "</tr>\n",
              "        \n",
              "            <tr style=\"background-color: hsl(0, 100.00%, 90.36%); border: none;\">\n",
              "    <td style=\"padding: 0 1em 0 0.5em; text-align: right; border: none;\">\n",
              "        -0.254\n",
              "    </td>\n",
              "    <td style=\"padding: 0 0.5em 0 0.5em; text-align: left; border: none;\">\n",
              "        1:pos_:PUNCT\n",
              "    </td>\n",
              "    \n",
              "</tr>\n",
              "        \n",
              "            <tr style=\"background-color: hsl(0, 100.00%, 89.15%); border: none;\">\n",
              "    <td style=\"padding: 0 1em 0 0.5em; text-align: right; border: none;\">\n",
              "        -0.300\n",
              "    </td>\n",
              "    <td style=\"padding: 0 0.5em 0 0.5em; text-align: left; border: none;\">\n",
              "        0:dep_:appos\n",
              "    </td>\n",
              "    \n",
              "</tr>\n",
              "        \n",
              "            <tr style=\"background-color: hsl(0, 100.00%, 88.26%); border: none;\">\n",
              "    <td style=\"padding: 0 1em 0 0.5em; text-align: right; border: none;\">\n",
              "        -0.336\n",
              "    </td>\n",
              "    <td style=\"padding: 0 0.5em 0 0.5em; text-align: left; border: none;\">\n",
              "        0:dep_:pobj\n",
              "    </td>\n",
              "    \n",
              "</tr>\n",
              "        \n",
              "\n",
              "        </tbody>\n",
              "    </table>\n",
              "\n",
              "                                \n",
              "                            \n",
              "                        </td>\n",
              "                    \n",
              "                        <td style=\"padding: 0px; border: 1px solid black; vertical-align: top;\">\n",
              "                            \n",
              "                                \n",
              "                                    \n",
              "                                    \n",
              "    \n",
              "    <table class=\"eli5-weights\"\n",
              "           style=\"border-collapse: collapse; border: none; margin-top: 0em; table-layout: auto; width: 100%;\">\n",
              "        <thead>\n",
              "        <tr style=\"border: none;\">\n",
              "            \n",
              "                <th style=\"padding: 0 1em 0 0.5em; text-align: right; border: none;\" title=\"Feature weights. Note that weights do not account for feature value scales, so if feature values have different scales, features with highest weights might not be the most important.\">\n",
              "                    Weight<sup>?</sup>\n",
              "                </th>\n",
              "            \n",
              "            <th style=\"padding: 0 0.5em 0 0.5em; text-align: left; border: none;\">Feature</th>\n",
              "            \n",
              "        </tr>\n",
              "        </thead>\n",
              "        <tbody>\n",
              "        \n",
              "            <tr style=\"background-color: hsl(120, 100.00%, 88.41%); border: none;\">\n",
              "    <td style=\"padding: 0 1em 0 0.5em; text-align: right; border: none;\">\n",
              "        +0.330\n",
              "    </td>\n",
              "    <td style=\"padding: 0 0.5em 0 0.5em; text-align: left; border: none;\">\n",
              "        0:srl_B\n",
              "    </td>\n",
              "    \n",
              "</tr>\n",
              "        \n",
              "            <tr style=\"background-color: hsl(120, 100.00%, 89.77%); border: none;\">\n",
              "    <td style=\"padding: 0 1em 0 0.5em; text-align: right; border: none;\">\n",
              "        +0.276\n",
              "    </td>\n",
              "    <td style=\"padding: 0 0.5em 0 0.5em; text-align: left; border: none;\">\n",
              "        0:morph_NumType:Card\n",
              "    </td>\n",
              "    \n",
              "</tr>\n",
              "        \n",
              "            <tr style=\"background-color: hsl(120, 100.00%, 89.77%); border: none;\">\n",
              "    <td style=\"padding: 0 1em 0 0.5em; text-align: right; border: none;\">\n",
              "        +0.276\n",
              "    </td>\n",
              "    <td style=\"padding: 0 0.5em 0 0.5em; text-align: left; border: none;\">\n",
              "        0:pos_:NUM\n",
              "    </td>\n",
              "    \n",
              "</tr>\n",
              "        \n",
              "            <tr style=\"background-color: hsl(120, 100.00%, 89.77%); border: none;\">\n",
              "    <td style=\"padding: 0 1em 0 0.5em; text-align: right; border: none;\">\n",
              "        +0.276\n",
              "    </td>\n",
              "    <td style=\"padding: 0 0.5em 0 0.5em; text-align: left; border: none;\">\n",
              "        0:tag_:CD\n",
              "    </td>\n",
              "    \n",
              "</tr>\n",
              "        \n",
              "            <tr style=\"background-color: hsl(120, 100.00%, 89.95%); border: none;\">\n",
              "    <td style=\"padding: 0 1em 0 0.5em; text-align: right; border: none;\">\n",
              "        +0.269\n",
              "    </td>\n",
              "    <td style=\"padding: 0 0.5em 0 0.5em; text-align: left; border: none;\">\n",
              "        0:srl_ARG1:B\n",
              "    </td>\n",
              "    \n",
              "</tr>\n",
              "        \n",
              "            <tr style=\"background-color: hsl(120, 100.00%, 90.72%); border: none;\">\n",
              "    <td style=\"padding: 0 1em 0 0.5em; text-align: right; border: none;\">\n",
              "        +0.240\n",
              "    </td>\n",
              "    <td style=\"padding: 0 0.5em 0 0.5em; text-align: left; border: none;\">\n",
              "        0:prefix1:1\n",
              "    </td>\n",
              "    \n",
              "</tr>\n",
              "        \n",
              "            <tr style=\"background-color: hsl(120, 100.00%, 92.05%); border: none;\">\n",
              "    <td style=\"padding: 0 1em 0 0.5em; text-align: right; border: none;\">\n",
              "        +0.193\n",
              "    </td>\n",
              "    <td style=\"padding: 0 0.5em 0 0.5em; text-align: left; border: none;\">\n",
              "        AbsPos:0\n",
              "    </td>\n",
              "    \n",
              "</tr>\n",
              "        \n",
              "            <tr style=\"background-color: hsl(120, 100.00%, 92.05%); border: none;\">\n",
              "    <td style=\"padding: 0 1em 0 0.5em; text-align: right; border: none;\">\n",
              "        +0.193\n",
              "    </td>\n",
              "    <td style=\"padding: 0 0.5em 0 0.5em; text-align: left; border: none;\">\n",
              "        -1 BOS\n",
              "    </td>\n",
              "    \n",
              "</tr>\n",
              "        \n",
              "            <tr style=\"background-color: hsl(120, 100.00%, 92.34%); border: none;\">\n",
              "    <td style=\"padding: 0 1em 0 0.5em; text-align: right; border: none;\">\n",
              "        +0.183\n",
              "    </td>\n",
              "    <td style=\"padding: 0 0.5em 0 0.5em; text-align: left; border: none;\">\n",
              "        -1:word:as\n",
              "    </td>\n",
              "    \n",
              "</tr>\n",
              "        \n",
              "            <tr style=\"background-color: hsl(120, 100.00%, 92.43%); border: none;\">\n",
              "    <td style=\"padding: 0 1em 0 0.5em; text-align: right; border: none;\">\n",
              "        +0.179\n",
              "    </td>\n",
              "    <td style=\"padding: 0 0.5em 0 0.5em; text-align: left; border: none;\">\n",
              "        0:dep_:nummod\n",
              "    </td>\n",
              "    \n",
              "</tr>\n",
              "        \n",
              "            <tr style=\"background-color: hsl(120, 100.00%, 92.45%); border: none;\">\n",
              "    <td style=\"padding: 0 1em 0 0.5em; text-align: right; border: none;\">\n",
              "        +0.179\n",
              "    </td>\n",
              "    <td style=\"padding: 0 0.5em 0 0.5em; text-align: left; border: none;\">\n",
              "        0:srl_ARG0:B\n",
              "    </td>\n",
              "    \n",
              "</tr>\n",
              "        \n",
              "            <tr style=\"background-color: hsl(120, 100.00%, 92.61%); border: none;\">\n",
              "    <td style=\"padding: 0 1em 0 0.5em; text-align: right; border: none;\">\n",
              "        +0.174\n",
              "    </td>\n",
              "    <td style=\"padding: 0 0.5em 0 0.5em; text-align: left; border: none;\">\n",
              "        -1:morph_PunctSide:Ini\n",
              "    </td>\n",
              "    \n",
              "</tr>\n",
              "        \n",
              "            <tr style=\"background-color: hsl(120, 100.00%, 92.76%); border: none;\">\n",
              "    <td style=\"padding: 0 1em 0 0.5em; text-align: right; border: none;\">\n",
              "        +0.169\n",
              "    </td>\n",
              "    <td style=\"padding: 0 0.5em 0 0.5em; text-align: left; border: none;\">\n",
              "        -1:tag_:IN\n",
              "    </td>\n",
              "    \n",
              "</tr>\n",
              "        \n",
              "            <tr style=\"background-color: hsl(120, 100.00%, 93.00%); border: none;\">\n",
              "    <td style=\"padding: 0 1em 0 0.5em; text-align: right; border: none;\">\n",
              "        +0.161\n",
              "    </td>\n",
              "    <td style=\"padding: 0 0.5em 0 0.5em; text-align: left; border: none;\">\n",
              "        0:shape_reduced:Xx\n",
              "    </td>\n",
              "    \n",
              "</tr>\n",
              "        \n",
              "            <tr style=\"background-color: hsl(120, 100.00%, 93.40%); border: none;\">\n",
              "    <td style=\"padding: 0 1em 0 0.5em; text-align: right; border: none;\">\n",
              "        +0.148\n",
              "    </td>\n",
              "    <td style=\"padding: 0 0.5em 0 0.5em; text-align: left; border: none;\">\n",
              "        1:ent_type:PERSON\n",
              "    </td>\n",
              "    \n",
              "</tr>\n",
              "        \n",
              "            <tr style=\"background-color: hsl(120, 100.00%, 93.50%); border: none;\">\n",
              "    <td style=\"padding: 0 1em 0 0.5em; text-align: right; border: none;\">\n",
              "        +0.145\n",
              "    </td>\n",
              "    <td style=\"padding: 0 0.5em 0 0.5em; text-align: left; border: none;\">\n",
              "        0:ent_type:CARDINAL\n",
              "    </td>\n",
              "    \n",
              "</tr>\n",
              "        \n",
              "            <tr style=\"background-color: hsl(120, 100.00%, 93.50%); border: none;\">\n",
              "    <td style=\"padding: 0 1em 0 0.5em; text-align: right; border: none;\">\n",
              "        +0.144\n",
              "    </td>\n",
              "    <td style=\"padding: 0 0.5em 0 0.5em; text-align: left; border: none;\">\n",
              "        0:pos_:NOUN\n",
              "    </td>\n",
              "    \n",
              "</tr>\n",
              "        \n",
              "            <tr style=\"background-color: hsl(120, 100.00%, 93.51%); border: none;\">\n",
              "    <td style=\"padding: 0 1em 0 0.5em; text-align: right; border: none;\">\n",
              "        +0.144\n",
              "    </td>\n",
              "    <td style=\"padding: 0 0.5em 0 0.5em; text-align: left; border: none;\">\n",
              "        0:dep_:appos\n",
              "    </td>\n",
              "    \n",
              "</tr>\n",
              "        \n",
              "            <tr style=\"background-color: hsl(120, 100.00%, 93.85%); border: none;\">\n",
              "    <td style=\"padding: 0 1em 0 0.5em; text-align: right; border: none;\">\n",
              "        +0.133\n",
              "    </td>\n",
              "    <td style=\"padding: 0 0.5em 0 0.5em; text-align: left; border: none;\">\n",
              "        0:srl_ARG2:B\n",
              "    </td>\n",
              "    \n",
              "</tr>\n",
              "        \n",
              "            <tr style=\"background-color: hsl(120, 100.00%, 94.17%); border: none;\">\n",
              "    <td style=\"padding: 0 1em 0 0.5em; text-align: right; border: none;\">\n",
              "        +0.124\n",
              "    </td>\n",
              "    <td style=\"padding: 0 0.5em 0 0.5em; text-align: left; border: none;\">\n",
              "        -1:stop\n",
              "    </td>\n",
              "    \n",
              "</tr>\n",
              "        \n",
              "            <tr style=\"background-color: hsl(120, 100.00%, 94.19%); border: none;\">\n",
              "    <td style=\"padding: 0 1em 0 0.5em; text-align: right; border: none;\">\n",
              "        +0.123\n",
              "    </td>\n",
              "    <td style=\"padding: 0 0.5em 0 0.5em; text-align: left; border: none;\">\n",
              "        -1:tag_:``\n",
              "    </td>\n",
              "    \n",
              "</tr>\n",
              "        \n",
              "            <tr style=\"background-color: hsl(120, 100.00%, 94.21%); border: none;\">\n",
              "    <td style=\"padding: 0 1em 0 0.5em; text-align: right; border: none;\">\n",
              "        +0.123\n",
              "    </td>\n",
              "    <td style=\"padding: 0 0.5em 0 0.5em; text-align: left; border: none;\">\n",
              "        -1:suffix1:y\n",
              "    </td>\n",
              "    \n",
              "</tr>\n",
              "        \n",
              "            <tr style=\"background-color: hsl(120, 100.00%, 94.29%); border: none;\">\n",
              "    <td style=\"padding: 0 1em 0 0.5em; text-align: right; border: none;\">\n",
              "        +0.120\n",
              "    </td>\n",
              "    <td style=\"padding: 0 0.5em 0 0.5em; text-align: left; border: none;\">\n",
              "        -1:dep_:pobj\n",
              "    </td>\n",
              "    \n",
              "</tr>\n",
              "        \n",
              "            <tr style=\"background-color: hsl(120, 100.00%, 94.44%); border: none;\">\n",
              "    <td style=\"padding: 0 1em 0 0.5em; text-align: right; border: none;\">\n",
              "        +0.116\n",
              "    </td>\n",
              "    <td style=\"padding: 0 0.5em 0 0.5em; text-align: left; border: none;\">\n",
              "        0:morph_NounType:Prop\n",
              "    </td>\n",
              "    \n",
              "</tr>\n",
              "        \n",
              "            <tr style=\"background-color: hsl(120, 100.00%, 94.48%); border: none;\">\n",
              "    <td style=\"padding: 0 1em 0 0.5em; text-align: right; border: none;\">\n",
              "        +0.115\n",
              "    </td>\n",
              "    <td style=\"padding: 0 0.5em 0 0.5em; text-align: left; border: none;\">\n",
              "        0:pos_:PROPN\n",
              "    </td>\n",
              "    \n",
              "</tr>\n",
              "        \n",
              "            <tr style=\"background-color: hsl(120, 100.00%, 94.66%); border: none;\">\n",
              "    <td style=\"padding: 0 1em 0 0.5em; text-align: right; border: none;\">\n",
              "        +0.109\n",
              "    </td>\n",
              "    <td style=\"padding: 0 0.5em 0 0.5em; text-align: left; border: none;\">\n",
              "        0:dep_:quantmod\n",
              "    </td>\n",
              "    \n",
              "</tr>\n",
              "        \n",
              "            <tr style=\"background-color: hsl(120, 100.00%, 94.83%); border: none;\">\n",
              "    <td style=\"padding: 0 1em 0 0.5em; text-align: right; border: none;\">\n",
              "        +0.104\n",
              "    </td>\n",
              "    <td style=\"padding: 0 0.5em 0 0.5em; text-align: left; border: none;\">\n",
              "        -1:srl_ARG2:B\n",
              "    </td>\n",
              "    \n",
              "</tr>\n",
              "        \n",
              "            <tr style=\"background-color: hsl(120, 100.00%, 94.91%); border: none;\">\n",
              "    <td style=\"padding: 0 1em 0 0.5em; text-align: right; border: none;\">\n",
              "        +0.102\n",
              "    </td>\n",
              "    <td style=\"padding: 0 0.5em 0 0.5em; text-align: left; border: none;\">\n",
              "        0:tag_:``\n",
              "    </td>\n",
              "    \n",
              "</tr>\n",
              "        \n",
              "            <tr style=\"background-color: hsl(120, 100.00%, 95.01%); border: none;\">\n",
              "    <td style=\"padding: 0 1em 0 0.5em; text-align: right; border: none;\">\n",
              "        +0.099\n",
              "    </td>\n",
              "    <td style=\"padding: 0 0.5em 0 0.5em; text-align: left; border: none;\">\n",
              "        0:srl_verb_ARG2:called\n",
              "    </td>\n",
              "    \n",
              "</tr>\n",
              "        \n",
              "            <tr style=\"background-color: hsl(120, 100.00%, 95.10%); border: none;\">\n",
              "    <td style=\"padding: 0 1em 0 0.5em; text-align: right; border: none;\">\n",
              "        +0.096\n",
              "    </td>\n",
              "    <td style=\"padding: 0 0.5em 0 0.5em; text-align: left; border: none;\">\n",
              "        -1:word:&quot;\n",
              "    </td>\n",
              "    \n",
              "</tr>\n",
              "        \n",
              "            <tr style=\"background-color: hsl(120, 100.00%, 95.22%); border: none;\">\n",
              "    <td style=\"padding: 0 1em 0 0.5em; text-align: right; border: none;\">\n",
              "        +0.093\n",
              "    </td>\n",
              "    <td style=\"padding: 0 0.5em 0 0.5em; text-align: left; border: none;\">\n",
              "        -1:dep_:ROOT\n",
              "    </td>\n",
              "    \n",
              "</tr>\n",
              "        \n",
              "            <tr style=\"background-color: hsl(120, 100.00%, 95.22%); border: none;\">\n",
              "    <td style=\"padding: 0 1em 0 0.5em; text-align: right; border: none;\">\n",
              "        +0.093\n",
              "    </td>\n",
              "    <td style=\"padding: 0 0.5em 0 0.5em; text-align: left; border: none;\">\n",
              "        -1:pos_:ADP\n",
              "    </td>\n",
              "    \n",
              "</tr>\n",
              "        \n",
              "            <tr style=\"background-color: hsl(120, 100.00%, 95.24%); border: none;\">\n",
              "    <td style=\"padding: 0 1em 0 0.5em; text-align: right; border: none;\">\n",
              "        +0.093\n",
              "    </td>\n",
              "    <td style=\"padding: 0 0.5em 0 0.5em; text-align: left; border: none;\">\n",
              "        -1:morph_PunctType:Quot\n",
              "    </td>\n",
              "    \n",
              "</tr>\n",
              "        \n",
              "            <tr style=\"background-color: hsl(120, 100.00%, 95.40%); border: none;\">\n",
              "    <td style=\"padding: 0 1em 0 0.5em; text-align: right; border: none;\">\n",
              "        +0.088\n",
              "    </td>\n",
              "    <td style=\"padding: 0 0.5em 0 0.5em; text-align: left; border: none;\">\n",
              "        -1:dep_:agent\n",
              "    </td>\n",
              "    \n",
              "</tr>\n",
              "        \n",
              "            <tr style=\"background-color: hsl(120, 100.00%, 95.45%); border: none;\">\n",
              "    <td style=\"padding: 0 1em 0 0.5em; text-align: right; border: none;\">\n",
              "        +0.087\n",
              "    </td>\n",
              "    <td style=\"padding: 0 0.5em 0 0.5em; text-align: left; border: none;\">\n",
              "        0:shape_reduced:dx\n",
              "    </td>\n",
              "    \n",
              "</tr>\n",
              "        \n",
              "            <tr style=\"background-color: hsl(120, 100.00%, 95.47%); border: none;\">\n",
              "    <td style=\"padding: 0 1em 0 0.5em; text-align: right; border: none;\">\n",
              "        +0.086\n",
              "    </td>\n",
              "    <td style=\"padding: 0 0.5em 0 0.5em; text-align: left; border: none;\">\n",
              "        0:dep_:amod\n",
              "    </td>\n",
              "    \n",
              "</tr>\n",
              "        \n",
              "            <tr style=\"background-color: hsl(120, 100.00%, 95.55%); border: none;\">\n",
              "    <td style=\"padding: 0 1em 0 0.5em; text-align: right; border: none;\">\n",
              "        +0.084\n",
              "    </td>\n",
              "    <td style=\"padding: 0 0.5em 0 0.5em; text-align: left; border: none;\">\n",
              "        0:shape_reduced:d\n",
              "    </td>\n",
              "    \n",
              "</tr>\n",
              "        \n",
              "            <tr style=\"background-color: hsl(120, 100.00%, 95.68%); border: none;\">\n",
              "    <td style=\"padding: 0 1em 0 0.5em; text-align: right; border: none;\">\n",
              "        +0.081\n",
              "    </td>\n",
              "    <td style=\"padding: 0 0.5em 0 0.5em; text-align: left; border: none;\">\n",
              "        0:dep_:nmod\n",
              "    </td>\n",
              "    \n",
              "</tr>\n",
              "        \n",
              "            <tr style=\"background-color: hsl(120, 100.00%, 95.72%); border: none;\">\n",
              "    <td style=\"padding: 0 1em 0 0.5em; text-align: right; border: none;\">\n",
              "        +0.080\n",
              "    </td>\n",
              "    <td style=\"padding: 0 0.5em 0 0.5em; text-align: left; border: none;\">\n",
              "        1:dep_:appos\n",
              "    </td>\n",
              "    \n",
              "</tr>\n",
              "        \n",
              "            <tr style=\"background-color: hsl(120, 100.00%, 95.74%); border: none;\">\n",
              "    <td style=\"padding: 0 1em 0 0.5em; text-align: right; border: none;\">\n",
              "        +0.079\n",
              "    </td>\n",
              "    <td style=\"padding: 0 0.5em 0 0.5em; text-align: left; border: none;\">\n",
              "        0:suffix1:a\n",
              "    </td>\n",
              "    \n",
              "</tr>\n",
              "        \n",
              "            <tr style=\"background-color: hsl(120, 100.00%, 95.78%); border: none;\">\n",
              "    <td style=\"padding: 0 1em 0 0.5em; text-align: right; border: none;\">\n",
              "        +0.078\n",
              "    </td>\n",
              "    <td style=\"padding: 0 0.5em 0 0.5em; text-align: left; border: none;\">\n",
              "        -1:morph_Tense:Pres\n",
              "    </td>\n",
              "    \n",
              "</tr>\n",
              "        \n",
              "            <tr style=\"background-color: hsl(120, 100.00%, 95.85%); border: none;\">\n",
              "    <td style=\"padding: 0 1em 0 0.5em; text-align: right; border: none;\">\n",
              "        +0.076\n",
              "    </td>\n",
              "    <td style=\"padding: 0 0.5em 0 0.5em; text-align: left; border: none;\">\n",
              "        0:prefix2:19\n",
              "    </td>\n",
              "    \n",
              "</tr>\n",
              "        \n",
              "            <tr style=\"background-color: hsl(120, 100.00%, 95.89%); border: none;\">\n",
              "    <td style=\"padding: 0 1em 0 0.5em; text-align: right; border: none;\">\n",
              "        +0.075\n",
              "    </td>\n",
              "    <td style=\"padding: 0 0.5em 0 0.5em; text-align: left; border: none;\">\n",
              "        0:tag_:NNP\n",
              "    </td>\n",
              "    \n",
              "</tr>\n",
              "        \n",
              "            <tr style=\"background-color: hsl(120, 100.00%, 95.99%); border: none;\">\n",
              "    <td style=\"padding: 0 1em 0 0.5em; text-align: right; border: none;\">\n",
              "        +0.073\n",
              "    </td>\n",
              "    <td style=\"padding: 0 0.5em 0 0.5em; text-align: left; border: none;\">\n",
              "        0:pos_:ADJ\n",
              "    </td>\n",
              "    \n",
              "</tr>\n",
              "        \n",
              "            <tr style=\"background-color: hsl(120, 100.00%, 95.99%); border: none;\">\n",
              "    <td style=\"padding: 0 1em 0 0.5em; text-align: right; border: none;\">\n",
              "        +0.072\n",
              "    </td>\n",
              "    <td style=\"padding: 0 0.5em 0 0.5em; text-align: left; border: none;\">\n",
              "        1:srl_iob:B\n",
              "    </td>\n",
              "    \n",
              "</tr>\n",
              "        \n",
              "            <tr style=\"background-color: hsl(120, 100.00%, 96.00%); border: none;\">\n",
              "    <td style=\"padding: 0 1em 0 0.5em; text-align: right; border: none;\">\n",
              "        +0.072\n",
              "    </td>\n",
              "    <td style=\"padding: 0 0.5em 0 0.5em; text-align: left; border: none;\">\n",
              "        0:dep_:compound\n",
              "    </td>\n",
              "    \n",
              "</tr>\n",
              "        \n",
              "        \n",
              "            <tr style=\"background-color: hsl(120, 100.00%, 96.00%); border: none;\">\n",
              "                <td colspan=\"2\" style=\"padding: 0 0.5em 0 0.5em; text-align: center; border: none; white-space: nowrap;\">\n",
              "                    <i>&hellip; 286 more positive &hellip;</i>\n",
              "                </td>\n",
              "            </tr>\n",
              "        \n",
              "\n",
              "        \n",
              "            <tr style=\"background-color: hsl(0, 100.00%, 95.94%); border: none;\">\n",
              "                <td colspan=\"2\" style=\"padding: 0 0.5em 0 0.5em; text-align: center; border: none; white-space: nowrap;\">\n",
              "                    <i>&hellip; 212 more negative &hellip;</i>\n",
              "                </td>\n",
              "            </tr>\n",
              "        \n",
              "        \n",
              "            <tr style=\"background-color: hsl(0, 100.00%, 95.94%); border: none;\">\n",
              "    <td style=\"padding: 0 1em 0 0.5em; text-align: right; border: none;\">\n",
              "        -0.074\n",
              "    </td>\n",
              "    <td style=\"padding: 0 0.5em 0 0.5em; text-align: left; border: none;\">\n",
              "        -1:tag_:JJ\n",
              "    </td>\n",
              "    \n",
              "</tr>\n",
              "        \n",
              "            <tr style=\"background-color: hsl(0, 100.00%, 95.94%); border: none;\">\n",
              "    <td style=\"padding: 0 1em 0 0.5em; text-align: right; border: none;\">\n",
              "        -0.074\n",
              "    </td>\n",
              "    <td style=\"padding: 0 0.5em 0 0.5em; text-align: left; border: none;\">\n",
              "        0:morph_Person:3\n",
              "    </td>\n",
              "    \n",
              "</tr>\n",
              "        \n",
              "            <tr style=\"background-color: hsl(0, 100.00%, 95.84%); border: none;\">\n",
              "    <td style=\"padding: 0 1em 0 0.5em; text-align: right; border: none;\">\n",
              "        -0.076\n",
              "    </td>\n",
              "    <td style=\"padding: 0 0.5em 0 0.5em; text-align: left; border: none;\">\n",
              "        0:pos_:ADP\n",
              "    </td>\n",
              "    \n",
              "</tr>\n",
              "        \n",
              "            <tr style=\"background-color: hsl(0, 100.00%, 95.76%); border: none;\">\n",
              "    <td style=\"padding: 0 1em 0 0.5em; text-align: right; border: none;\">\n",
              "        -0.079\n",
              "    </td>\n",
              "    <td style=\"padding: 0 0.5em 0 0.5em; text-align: left; border: none;\">\n",
              "        0:word:and\n",
              "    </td>\n",
              "    \n",
              "</tr>\n",
              "        \n",
              "            <tr style=\"background-color: hsl(0, 100.00%, 95.49%); border: none;\">\n",
              "    <td style=\"padding: 0 1em 0 0.5em; text-align: right; border: none;\">\n",
              "        -0.086\n",
              "    </td>\n",
              "    <td style=\"padding: 0 0.5em 0 0.5em; text-align: left; border: none;\">\n",
              "        -1:srl_iob:I\n",
              "    </td>\n",
              "    \n",
              "</tr>\n",
              "        \n",
              "            <tr style=\"background-color: hsl(0, 100.00%, 95.48%); border: none;\">\n",
              "    <td style=\"padding: 0 1em 0 0.5em; text-align: right; border: none;\">\n",
              "        -0.086\n",
              "    </td>\n",
              "    <td style=\"padding: 0 0.5em 0 0.5em; text-align: left; border: none;\">\n",
              "        0:ent_type:QUANTITY\n",
              "    </td>\n",
              "    \n",
              "</tr>\n",
              "        \n",
              "            <tr style=\"background-color: hsl(0, 100.00%, 95.39%); border: none;\">\n",
              "    <td style=\"padding: 0 1em 0 0.5em; text-align: right; border: none;\">\n",
              "        -0.088\n",
              "    </td>\n",
              "    <td style=\"padding: 0 0.5em 0 0.5em; text-align: left; border: none;\">\n",
              "        0:dep_:conj\n",
              "    </td>\n",
              "    \n",
              "</tr>\n",
              "        \n",
              "            <tr style=\"background-color: hsl(0, 100.00%, 95.31%); border: none;\">\n",
              "    <td style=\"padding: 0 1em 0 0.5em; text-align: right; border: none;\">\n",
              "        -0.091\n",
              "    </td>\n",
              "    <td style=\"padding: 0 0.5em 0 0.5em; text-align: left; border: none;\">\n",
              "        -1:morph_Degree:Pos\n",
              "    </td>\n",
              "    \n",
              "</tr>\n",
              "        \n",
              "            <tr style=\"background-color: hsl(0, 100.00%, 95.27%); border: none;\">\n",
              "    <td style=\"padding: 0 1em 0 0.5em; text-align: right; border: none;\">\n",
              "        -0.092\n",
              "    </td>\n",
              "    <td style=\"padding: 0 0.5em 0 0.5em; text-align: left; border: none;\">\n",
              "        -1:morph_NumType:Card\n",
              "    </td>\n",
              "    \n",
              "</tr>\n",
              "        \n",
              "            <tr style=\"background-color: hsl(0, 100.00%, 95.27%); border: none;\">\n",
              "    <td style=\"padding: 0 1em 0 0.5em; text-align: right; border: none;\">\n",
              "        -0.092\n",
              "    </td>\n",
              "    <td style=\"padding: 0 0.5em 0 0.5em; text-align: left; border: none;\">\n",
              "        -1:pos_:NUM\n",
              "    </td>\n",
              "    \n",
              "</tr>\n",
              "        \n",
              "            <tr style=\"background-color: hsl(0, 100.00%, 95.27%); border: none;\">\n",
              "    <td style=\"padding: 0 1em 0 0.5em; text-align: right; border: none;\">\n",
              "        -0.092\n",
              "    </td>\n",
              "    <td style=\"padding: 0 0.5em 0 0.5em; text-align: left; border: none;\">\n",
              "        -1:tag_:CD\n",
              "    </td>\n",
              "    \n",
              "</tr>\n",
              "        \n",
              "            <tr style=\"background-color: hsl(0, 100.00%, 95.27%); border: none;\">\n",
              "    <td style=\"padding: 0 1em 0 0.5em; text-align: right; border: none;\">\n",
              "        -0.092\n",
              "    </td>\n",
              "    <td style=\"padding: 0 0.5em 0 0.5em; text-align: left; border: none;\">\n",
              "        0:word:of\n",
              "    </td>\n",
              "    \n",
              "</tr>\n",
              "        \n",
              "            <tr style=\"background-color: hsl(0, 100.00%, 95.26%); border: none;\">\n",
              "    <td style=\"padding: 0 1em 0 0.5em; text-align: right; border: none;\">\n",
              "        -0.092\n",
              "    </td>\n",
              "    <td style=\"padding: 0 0.5em 0 0.5em; text-align: left; border: none;\">\n",
              "        1:ent_type:QUANTITY\n",
              "    </td>\n",
              "    \n",
              "</tr>\n",
              "        \n",
              "            <tr style=\"background-color: hsl(0, 100.00%, 95.21%); border: none;\">\n",
              "    <td style=\"padding: 0 1em 0 0.5em; text-align: right; border: none;\">\n",
              "        -0.093\n",
              "    </td>\n",
              "    <td style=\"padding: 0 0.5em 0 0.5em; text-align: left; border: none;\">\n",
              "        bias\n",
              "    </td>\n",
              "    \n",
              "</tr>\n",
              "        \n",
              "            <tr style=\"background-color: hsl(0, 100.00%, 95.21%); border: none;\">\n",
              "    <td style=\"padding: 0 1em 0 0.5em; text-align: right; border: none;\">\n",
              "        -0.093\n",
              "    </td>\n",
              "    <td style=\"padding: 0 0.5em 0 0.5em; text-align: left; border: none;\">\n",
              "        0:oov\n",
              "    </td>\n",
              "    \n",
              "</tr>\n",
              "        \n",
              "            <tr style=\"background-color: hsl(0, 100.00%, 95.19%); border: none;\">\n",
              "    <td style=\"padding: 0 1em 0 0.5em; text-align: right; border: none;\">\n",
              "        -0.094\n",
              "    </td>\n",
              "    <td style=\"padding: 0 0.5em 0 0.5em; text-align: left; border: none;\">\n",
              "        0:dep_:cc\n",
              "    </td>\n",
              "    \n",
              "</tr>\n",
              "        \n",
              "            <tr style=\"background-color: hsl(0, 100.00%, 95.13%); border: none;\">\n",
              "    <td style=\"padding: 0 1em 0 0.5em; text-align: right; border: none;\">\n",
              "        -0.096\n",
              "    </td>\n",
              "    <td style=\"padding: 0 0.5em 0 0.5em; text-align: left; border: none;\">\n",
              "        -1:srl_ARG2:I\n",
              "    </td>\n",
              "    \n",
              "</tr>\n",
              "        \n",
              "            <tr style=\"background-color: hsl(0, 100.00%, 95.12%); border: none;\">\n",
              "    <td style=\"padding: 0 1em 0 0.5em; text-align: right; border: none;\">\n",
              "        -0.096\n",
              "    </td>\n",
              "    <td style=\"padding: 0 0.5em 0 0.5em; text-align: left; border: none;\">\n",
              "        0:ent_type:ORG\n",
              "    </td>\n",
              "    \n",
              "</tr>\n",
              "        \n",
              "            <tr style=\"background-color: hsl(0, 100.00%, 95.09%); border: none;\">\n",
              "    <td style=\"padding: 0 1em 0 0.5em; text-align: right; border: none;\">\n",
              "        -0.097\n",
              "    </td>\n",
              "    <td style=\"padding: 0 0.5em 0 0.5em; text-align: left; border: none;\">\n",
              "        0:ent_type:GPE\n",
              "    </td>\n",
              "    \n",
              "</tr>\n",
              "        \n",
              "            <tr style=\"background-color: hsl(0, 100.00%, 94.99%); border: none;\">\n",
              "    <td style=\"padding: 0 1em 0 0.5em; text-align: right; border: none;\">\n",
              "        -0.099\n",
              "    </td>\n",
              "    <td style=\"padding: 0 0.5em 0 0.5em; text-align: left; border: none;\">\n",
              "        -1:srl_iob:B\n",
              "    </td>\n",
              "    \n",
              "</tr>\n",
              "        \n",
              "            <tr style=\"background-color: hsl(0, 100.00%, 94.86%); border: none;\">\n",
              "    <td style=\"padding: 0 1em 0 0.5em; text-align: right; border: none;\">\n",
              "        -0.103\n",
              "    </td>\n",
              "    <td style=\"padding: 0 0.5em 0 0.5em; text-align: left; border: none;\">\n",
              "        0:pos_:CCONJ\n",
              "    </td>\n",
              "    \n",
              "</tr>\n",
              "        \n",
              "            <tr style=\"background-color: hsl(0, 100.00%, 94.86%); border: none;\">\n",
              "    <td style=\"padding: 0 1em 0 0.5em; text-align: right; border: none;\">\n",
              "        -0.103\n",
              "    </td>\n",
              "    <td style=\"padding: 0 0.5em 0 0.5em; text-align: left; border: none;\">\n",
              "        0:morph_ConjType:Cmp\n",
              "    </td>\n",
              "    \n",
              "</tr>\n",
              "        \n",
              "            <tr style=\"background-color: hsl(0, 100.00%, 94.86%); border: none;\">\n",
              "    <td style=\"padding: 0 1em 0 0.5em; text-align: right; border: none;\">\n",
              "        -0.103\n",
              "    </td>\n",
              "    <td style=\"padding: 0 0.5em 0 0.5em; text-align: left; border: none;\">\n",
              "        0:tag_:CC\n",
              "    </td>\n",
              "    \n",
              "</tr>\n",
              "        \n",
              "            <tr style=\"background-color: hsl(0, 100.00%, 94.62%); border: none;\">\n",
              "    <td style=\"padding: 0 1em 0 0.5em; text-align: right; border: none;\">\n",
              "        -0.110\n",
              "    </td>\n",
              "    <td style=\"padding: 0 0.5em 0 0.5em; text-align: left; border: none;\">\n",
              "        -1:srl_ARG1:I\n",
              "    </td>\n",
              "    \n",
              "</tr>\n",
              "        \n",
              "            <tr style=\"background-color: hsl(0, 100.00%, 94.62%); border: none;\">\n",
              "    <td style=\"padding: 0 1em 0 0.5em; text-align: right; border: none;\">\n",
              "        -0.110\n",
              "    </td>\n",
              "    <td style=\"padding: 0 0.5em 0 0.5em; text-align: left; border: none;\">\n",
              "        -1:pos_:ADJ\n",
              "    </td>\n",
              "    \n",
              "</tr>\n",
              "        \n",
              "            <tr style=\"background-color: hsl(0, 100.00%, 94.48%); border: none;\">\n",
              "    <td style=\"padding: 0 1em 0 0.5em; text-align: right; border: none;\">\n",
              "        -0.114\n",
              "    </td>\n",
              "    <td style=\"padding: 0 0.5em 0 0.5em; text-align: left; border: none;\">\n",
              "        0:ent_type:NORP\n",
              "    </td>\n",
              "    \n",
              "</tr>\n",
              "        \n",
              "            <tr style=\"background-color: hsl(0, 100.00%, 94.37%); border: none;\">\n",
              "    <td style=\"padding: 0 1em 0 0.5em; text-align: right; border: none;\">\n",
              "        -0.118\n",
              "    </td>\n",
              "    <td style=\"padding: 0 0.5em 0 0.5em; text-align: left; border: none;\">\n",
              "        1:ent_type:GPE\n",
              "    </td>\n",
              "    \n",
              "</tr>\n",
              "        \n",
              "            <tr style=\"background-color: hsl(0, 100.00%, 94.18%); border: none;\">\n",
              "    <td style=\"padding: 0 1em 0 0.5em; text-align: right; border: none;\">\n",
              "        -0.123\n",
              "    </td>\n",
              "    <td style=\"padding: 0 0.5em 0 0.5em; text-align: left; border: none;\">\n",
              "        -1:alpha\n",
              "    </td>\n",
              "    \n",
              "</tr>\n",
              "        \n",
              "            <tr style=\"background-color: hsl(0, 100.00%, 94.15%); border: none;\">\n",
              "    <td style=\"padding: 0 1em 0 0.5em; text-align: right; border: none;\">\n",
              "        -0.124\n",
              "    </td>\n",
              "    <td style=\"padding: 0 0.5em 0 0.5em; text-align: left; border: none;\">\n",
              "        QuartilePos:3\n",
              "    </td>\n",
              "    \n",
              "</tr>\n",
              "        \n",
              "            <tr style=\"background-color: hsl(0, 100.00%, 94.12%); border: none;\">\n",
              "    <td style=\"padding: 0 1em 0 0.5em; text-align: right; border: none;\">\n",
              "        -0.125\n",
              "    </td>\n",
              "    <td style=\"padding: 0 0.5em 0 0.5em; text-align: left; border: none;\">\n",
              "        -1:oov\n",
              "    </td>\n",
              "    \n",
              "</tr>\n",
              "        \n",
              "            <tr style=\"background-color: hsl(0, 100.00%, 93.96%); border: none;\">\n",
              "    <td style=\"padding: 0 1em 0 0.5em; text-align: right; border: none;\">\n",
              "        -0.130\n",
              "    </td>\n",
              "    <td style=\"padding: 0 0.5em 0 0.5em; text-align: left; border: none;\">\n",
              "        0:tag_:IN\n",
              "    </td>\n",
              "    \n",
              "</tr>\n",
              "        \n",
              "            <tr style=\"background-color: hsl(0, 100.00%, 93.95%); border: none;\">\n",
              "    <td style=\"padding: 0 1em 0 0.5em; text-align: right; border: none;\">\n",
              "        -0.131\n",
              "    </td>\n",
              "    <td style=\"padding: 0 0.5em 0 0.5em; text-align: left; border: none;\">\n",
              "        -1:tag_:HYPH\n",
              "    </td>\n",
              "    \n",
              "</tr>\n",
              "        \n",
              "            <tr style=\"background-color: hsl(0, 100.00%, 93.95%); border: none;\">\n",
              "    <td style=\"padding: 0 1em 0 0.5em; text-align: right; border: none;\">\n",
              "        -0.131\n",
              "    </td>\n",
              "    <td style=\"padding: 0 0.5em 0 0.5em; text-align: left; border: none;\">\n",
              "        -1:morph_PunctType:Dash\n",
              "    </td>\n",
              "    \n",
              "</tr>\n",
              "        \n",
              "            <tr style=\"background-color: hsl(0, 100.00%, 93.94%); border: none;\">\n",
              "    <td style=\"padding: 0 1em 0 0.5em; text-align: right; border: none;\">\n",
              "        -0.131\n",
              "    </td>\n",
              "    <td style=\"padding: 0 0.5em 0 0.5em; text-align: left; border: none;\">\n",
              "        0:dep_:prep\n",
              "    </td>\n",
              "    \n",
              "</tr>\n",
              "        \n",
              "            <tr style=\"background-color: hsl(0, 100.00%, 93.93%); border: none;\">\n",
              "    <td style=\"padding: 0 1em 0 0.5em; text-align: right; border: none;\">\n",
              "        -0.131\n",
              "    </td>\n",
              "    <td style=\"padding: 0 0.5em 0 0.5em; text-align: left; border: none;\">\n",
              "        0:morph_PunctType:Peri\n",
              "    </td>\n",
              "    \n",
              "</tr>\n",
              "        \n",
              "            <tr style=\"background-color: hsl(0, 100.00%, 93.92%); border: none;\">\n",
              "    <td style=\"padding: 0 1em 0 0.5em; text-align: right; border: none;\">\n",
              "        -0.131\n",
              "    </td>\n",
              "    <td style=\"padding: 0 0.5em 0 0.5em; text-align: left; border: none;\">\n",
              "        0:word:,\n",
              "    </td>\n",
              "    \n",
              "</tr>\n",
              "        \n",
              "            <tr style=\"background-color: hsl(0, 100.00%, 93.88%); border: none;\">\n",
              "    <td style=\"padding: 0 1em 0 0.5em; text-align: right; border: none;\">\n",
              "        -0.133\n",
              "    </td>\n",
              "    <td style=\"padding: 0 0.5em 0 0.5em; text-align: left; border: none;\">\n",
              "        -1:word:-\n",
              "    </td>\n",
              "    \n",
              "</tr>\n",
              "        \n",
              "            <tr style=\"background-color: hsl(0, 100.00%, 93.88%); border: none;\">\n",
              "    <td style=\"padding: 0 1em 0 0.5em; text-align: right; border: none;\">\n",
              "        -0.133\n",
              "    </td>\n",
              "    <td style=\"padding: 0 0.5em 0 0.5em; text-align: left; border: none;\">\n",
              "        0:morph_PunctType:Comm\n",
              "    </td>\n",
              "    \n",
              "</tr>\n",
              "        \n",
              "            <tr style=\"background-color: hsl(0, 100.00%, 93.42%); border: none;\">\n",
              "    <td style=\"padding: 0 1em 0 0.5em; text-align: right; border: none;\">\n",
              "        -0.147\n",
              "    </td>\n",
              "    <td style=\"padding: 0 0.5em 0 0.5em; text-align: left; border: none;\">\n",
              "        0:word:.\n",
              "    </td>\n",
              "    \n",
              "</tr>\n",
              "        \n",
              "            <tr style=\"background-color: hsl(0, 100.00%, 92.82%); border: none;\">\n",
              "    <td style=\"padding: 0 1em 0 0.5em; text-align: right; border: none;\">\n",
              "        -0.166\n",
              "    </td>\n",
              "    <td style=\"padding: 0 0.5em 0 0.5em; text-align: left; border: none;\">\n",
              "        -1:tag_:NNP\n",
              "    </td>\n",
              "    \n",
              "</tr>\n",
              "        \n",
              "            <tr style=\"background-color: hsl(0, 100.00%, 92.63%); border: none;\">\n",
              "    <td style=\"padding: 0 1em 0 0.5em; text-align: right; border: none;\">\n",
              "        -0.173\n",
              "    </td>\n",
              "    <td style=\"padding: 0 0.5em 0 0.5em; text-align: left; border: none;\">\n",
              "        -1:morph_NounType:Prop\n",
              "    </td>\n",
              "    \n",
              "</tr>\n",
              "        \n",
              "            <tr style=\"background-color: hsl(0, 100.00%, 92.63%); border: none;\">\n",
              "    <td style=\"padding: 0 1em 0 0.5em; text-align: right; border: none;\">\n",
              "        -0.173\n",
              "    </td>\n",
              "    <td style=\"padding: 0 0.5em 0 0.5em; text-align: left; border: none;\">\n",
              "        -1:pos_:PROPN\n",
              "    </td>\n",
              "    \n",
              "</tr>\n",
              "        \n",
              "            <tr style=\"background-color: hsl(0, 100.00%, 92.28%); border: none;\">\n",
              "    <td style=\"padding: 0 1em 0 0.5em; text-align: right; border: none;\">\n",
              "        -0.185\n",
              "    </td>\n",
              "    <td style=\"padding: 0 0.5em 0 0.5em; text-align: left; border: none;\">\n",
              "        0:shape_reduced:x\n",
              "    </td>\n",
              "    \n",
              "</tr>\n",
              "        \n",
              "            <tr style=\"background-color: hsl(0, 100.00%, 92.17%); border: none;\">\n",
              "    <td style=\"padding: 0 1em 0 0.5em; text-align: right; border: none;\">\n",
              "        -0.188\n",
              "    </td>\n",
              "    <td style=\"padding: 0 0.5em 0 0.5em; text-align: left; border: none;\">\n",
              "        -1:srl_I\n",
              "    </td>\n",
              "    \n",
              "</tr>\n",
              "        \n",
              "            <tr style=\"background-color: hsl(0, 100.00%, 92.11%); border: none;\">\n",
              "    <td style=\"padding: 0 1em 0 0.5em; text-align: right; border: none;\">\n",
              "        -0.191\n",
              "    </td>\n",
              "    <td style=\"padding: 0 0.5em 0 0.5em; text-align: left; border: none;\">\n",
              "        0:prefix1:o\n",
              "    </td>\n",
              "    \n",
              "</tr>\n",
              "        \n",
              "            <tr style=\"background-color: hsl(0, 100.00%, 92.11%); border: none;\">\n",
              "    <td style=\"padding: 0 1em 0 0.5em; text-align: right; border: none;\">\n",
              "        -0.191\n",
              "    </td>\n",
              "    <td style=\"padding: 0 0.5em 0 0.5em; text-align: left; border: none;\">\n",
              "        -1:dep_:amod\n",
              "    </td>\n",
              "    \n",
              "</tr>\n",
              "        \n",
              "            <tr style=\"background-color: hsl(0, 100.00%, 91.99%); border: none;\">\n",
              "    <td style=\"padding: 0 1em 0 0.5em; text-align: right; border: none;\">\n",
              "        -0.195\n",
              "    </td>\n",
              "    <td style=\"padding: 0 0.5em 0 0.5em; text-align: left; border: none;\">\n",
              "        1:dep_:conj\n",
              "    </td>\n",
              "    \n",
              "</tr>\n",
              "        \n",
              "            <tr style=\"background-color: hsl(0, 100.00%, 91.88%); border: none;\">\n",
              "    <td style=\"padding: 0 1em 0 0.5em; text-align: right; border: none;\">\n",
              "        -0.198\n",
              "    </td>\n",
              "    <td style=\"padding: 0 0.5em 0 0.5em; text-align: left; border: none;\">\n",
              "        1 EOS\n",
              "    </td>\n",
              "    \n",
              "</tr>\n",
              "        \n",
              "            <tr style=\"background-color: hsl(0, 100.00%, 91.11%); border: none;\">\n",
              "    <td style=\"padding: 0 1em 0 0.5em; text-align: right; border: none;\">\n",
              "        -0.226\n",
              "    </td>\n",
              "    <td style=\"padding: 0 0.5em 0 0.5em; text-align: left; border: none;\">\n",
              "        0:ent_iob_:I\n",
              "    </td>\n",
              "    \n",
              "</tr>\n",
              "        \n",
              "            <tr style=\"background-color: hsl(0, 100.00%, 91.01%); border: none;\">\n",
              "    <td style=\"padding: 0 1em 0 0.5em; text-align: right; border: none;\">\n",
              "        -0.230\n",
              "    </td>\n",
              "    <td style=\"padding: 0 0.5em 0 0.5em; text-align: left; border: none;\">\n",
              "        -1:dep_:compound\n",
              "    </td>\n",
              "    \n",
              "</tr>\n",
              "        \n",
              "            <tr style=\"background-color: hsl(0, 100.00%, 89.20%); border: none;\">\n",
              "    <td style=\"padding: 0 1em 0 0.5em; text-align: right; border: none;\">\n",
              "        -0.299\n",
              "    </td>\n",
              "    <td style=\"padding: 0 0.5em 0 0.5em; text-align: left; border: none;\">\n",
              "        -1:ent_iob_:I\n",
              "    </td>\n",
              "    \n",
              "</tr>\n",
              "        \n",
              "            <tr style=\"background-color: hsl(0, 100.00%, 89.08%); border: none;\">\n",
              "    <td style=\"padding: 0 1em 0 0.5em; text-align: right; border: none;\">\n",
              "        -0.303\n",
              "    </td>\n",
              "    <td style=\"padding: 0 0.5em 0 0.5em; text-align: left; border: none;\">\n",
              "        -1:shape_reduced:Xx\n",
              "    </td>\n",
              "    \n",
              "</tr>\n",
              "        \n",
              "            <tr style=\"background-color: hsl(0, 100.00%, 87.29%); border: none;\">\n",
              "    <td style=\"padding: 0 1em 0 0.5em; text-align: right; border: none;\">\n",
              "        -0.377\n",
              "    </td>\n",
              "    <td style=\"padding: 0 0.5em 0 0.5em; text-align: left; border: none;\">\n",
              "        0:pos_:PUNCT\n",
              "    </td>\n",
              "    \n",
              "</tr>\n",
              "        \n",
              "            <tr style=\"background-color: hsl(0, 100.00%, 86.78%); border: none;\">\n",
              "    <td style=\"padding: 0 1em 0 0.5em; text-align: right; border: none;\">\n",
              "        -0.398\n",
              "    </td>\n",
              "    <td style=\"padding: 0 0.5em 0 0.5em; text-align: left; border: none;\">\n",
              "        0:stop\n",
              "    </td>\n",
              "    \n",
              "</tr>\n",
              "        \n",
              "\n",
              "        </tbody>\n",
              "    </table>\n",
              "\n",
              "                                \n",
              "                            \n",
              "                        </td>\n",
              "                    \n",
              "                        <td style=\"padding: 0px; border: 1px solid black; vertical-align: top;\">\n",
              "                            \n",
              "                                \n",
              "                                    \n",
              "                                    \n",
              "    \n",
              "    <table class=\"eli5-weights\"\n",
              "           style=\"border-collapse: collapse; border: none; margin-top: 0em; table-layout: auto; width: 100%;\">\n",
              "        <thead>\n",
              "        <tr style=\"border: none;\">\n",
              "            \n",
              "                <th style=\"padding: 0 1em 0 0.5em; text-align: right; border: none;\" title=\"Feature weights. Note that weights do not account for feature value scales, so if feature values have different scales, features with highest weights might not be the most important.\">\n",
              "                    Weight<sup>?</sup>\n",
              "                </th>\n",
              "            \n",
              "            <th style=\"padding: 0 0.5em 0 0.5em; text-align: left; border: none;\">Feature</th>\n",
              "            \n",
              "        </tr>\n",
              "        </thead>\n",
              "        <tbody>\n",
              "        \n",
              "            <tr style=\"background-color: hsl(120, 100.00%, 87.38%); border: none;\">\n",
              "    <td style=\"padding: 0 1em 0 0.5em; text-align: right; border: none;\">\n",
              "        +0.373\n",
              "    </td>\n",
              "    <td style=\"padding: 0 0.5em 0 0.5em; text-align: left; border: none;\">\n",
              "        0:ent_iob_:I\n",
              "    </td>\n",
              "    \n",
              "</tr>\n",
              "        \n",
              "            <tr style=\"background-color: hsl(120, 100.00%, 89.84%); border: none;\">\n",
              "    <td style=\"padding: 0 1em 0 0.5em; text-align: right; border: none;\">\n",
              "        +0.273\n",
              "    </td>\n",
              "    <td style=\"padding: 0 0.5em 0 0.5em; text-align: left; border: none;\">\n",
              "        -1:dep_:compound\n",
              "    </td>\n",
              "    \n",
              "</tr>\n",
              "        \n",
              "            <tr style=\"background-color: hsl(120, 100.00%, 91.79%); border: none;\">\n",
              "    <td style=\"padding: 0 1em 0 0.5em; text-align: right; border: none;\">\n",
              "        +0.202\n",
              "    </td>\n",
              "    <td style=\"padding: 0 0.5em 0 0.5em; text-align: left; border: none;\">\n",
              "        0:dep_:conj\n",
              "    </td>\n",
              "    \n",
              "</tr>\n",
              "        \n",
              "            <tr style=\"background-color: hsl(120, 100.00%, 93.18%); border: none;\">\n",
              "    <td style=\"padding: 0 1em 0 0.5em; text-align: right; border: none;\">\n",
              "        +0.155\n",
              "    </td>\n",
              "    <td style=\"padding: 0 0.5em 0 0.5em; text-align: left; border: none;\">\n",
              "        1:morph_PunctType:Peri\n",
              "    </td>\n",
              "    \n",
              "</tr>\n",
              "        \n",
              "            <tr style=\"background-color: hsl(120, 100.00%, 93.21%); border: none;\">\n",
              "    <td style=\"padding: 0 1em 0 0.5em; text-align: right; border: none;\">\n",
              "        +0.154\n",
              "    </td>\n",
              "    <td style=\"padding: 0 0.5em 0 0.5em; text-align: left; border: none;\">\n",
              "        1:word:.\n",
              "    </td>\n",
              "    \n",
              "</tr>\n",
              "        \n",
              "            <tr style=\"background-color: hsl(120, 100.00%, 94.34%); border: none;\">\n",
              "    <td style=\"padding: 0 1em 0 0.5em; text-align: right; border: none;\">\n",
              "        +0.118\n",
              "    </td>\n",
              "    <td style=\"padding: 0 0.5em 0 0.5em; text-align: left; border: none;\">\n",
              "        1:tag_:&#x27;&#x27;\n",
              "    </td>\n",
              "    \n",
              "</tr>\n",
              "        \n",
              "            <tr style=\"background-color: hsl(120, 100.00%, 94.36%); border: none;\">\n",
              "    <td style=\"padding: 0 1em 0 0.5em; text-align: right; border: none;\">\n",
              "        +0.118\n",
              "    </td>\n",
              "    <td style=\"padding: 0 0.5em 0 0.5em; text-align: left; border: none;\">\n",
              "        1:dep_:conj\n",
              "    </td>\n",
              "    \n",
              "</tr>\n",
              "        \n",
              "            <tr style=\"background-color: hsl(120, 100.00%, 94.43%); border: none;\">\n",
              "    <td style=\"padding: 0 1em 0 0.5em; text-align: right; border: none;\">\n",
              "        +0.116\n",
              "    </td>\n",
              "    <td style=\"padding: 0 0.5em 0 0.5em; text-align: left; border: none;\">\n",
              "        -1:dep_:quantmod\n",
              "    </td>\n",
              "    \n",
              "</tr>\n",
              "        \n",
              "            <tr style=\"background-color: hsl(120, 100.00%, 94.78%); border: none;\">\n",
              "    <td style=\"padding: 0 1em 0 0.5em; text-align: right; border: none;\">\n",
              "        +0.106\n",
              "    </td>\n",
              "    <td style=\"padding: 0 0.5em 0 0.5em; text-align: left; border: none;\">\n",
              "        -1:morph_VerbForm:Fin\n",
              "    </td>\n",
              "    \n",
              "</tr>\n",
              "        \n",
              "            <tr style=\"background-color: hsl(120, 100.00%, 94.81%); border: none;\">\n",
              "    <td style=\"padding: 0 1em 0 0.5em; text-align: right; border: none;\">\n",
              "        +0.105\n",
              "    </td>\n",
              "    <td style=\"padding: 0 0.5em 0 0.5em; text-align: left; border: none;\">\n",
              "        -1:pos_:PRON\n",
              "    </td>\n",
              "    \n",
              "</tr>\n",
              "        \n",
              "            <tr style=\"background-color: hsl(120, 100.00%, 94.83%); border: none;\">\n",
              "    <td style=\"padding: 0 1em 0 0.5em; text-align: right; border: none;\">\n",
              "        +0.104\n",
              "    </td>\n",
              "    <td style=\"padding: 0 0.5em 0 0.5em; text-align: left; border: none;\">\n",
              "        -1:srl_V:B\n",
              "    </td>\n",
              "    \n",
              "</tr>\n",
              "        \n",
              "            <tr style=\"background-color: hsl(120, 100.00%, 94.84%); border: none;\">\n",
              "    <td style=\"padding: 0 1em 0 0.5em; text-align: right; border: none;\">\n",
              "        +0.104\n",
              "    </td>\n",
              "    <td style=\"padding: 0 0.5em 0 0.5em; text-align: left; border: none;\">\n",
              "        -1:morph_PunctType:Dash\n",
              "    </td>\n",
              "    \n",
              "</tr>\n",
              "        \n",
              "            <tr style=\"background-color: hsl(120, 100.00%, 94.84%); border: none;\">\n",
              "    <td style=\"padding: 0 1em 0 0.5em; text-align: right; border: none;\">\n",
              "        +0.104\n",
              "    </td>\n",
              "    <td style=\"padding: 0 0.5em 0 0.5em; text-align: left; border: none;\">\n",
              "        -1:tag_:HYPH\n",
              "    </td>\n",
              "    \n",
              "</tr>\n",
              "        \n",
              "            <tr style=\"background-color: hsl(120, 100.00%, 94.94%); border: none;\">\n",
              "    <td style=\"padding: 0 1em 0 0.5em; text-align: right; border: none;\">\n",
              "        +0.101\n",
              "    </td>\n",
              "    <td style=\"padding: 0 0.5em 0 0.5em; text-align: left; border: none;\">\n",
              "        -1:pos_:VERB\n",
              "    </td>\n",
              "    \n",
              "</tr>\n",
              "        \n",
              "            <tr style=\"background-color: hsl(120, 100.00%, 94.94%); border: none;\">\n",
              "    <td style=\"padding: 0 1em 0 0.5em; text-align: right; border: none;\">\n",
              "        +0.101\n",
              "    </td>\n",
              "    <td style=\"padding: 0 0.5em 0 0.5em; text-align: left; border: none;\">\n",
              "        1:pos_:PUNCT\n",
              "    </td>\n",
              "    \n",
              "</tr>\n",
              "        \n",
              "            <tr style=\"background-color: hsl(120, 100.00%, 95.05%); border: none;\">\n",
              "    <td style=\"padding: 0 1em 0 0.5em; text-align: right; border: none;\">\n",
              "        +0.098\n",
              "    </td>\n",
              "    <td style=\"padding: 0 0.5em 0 0.5em; text-align: left; border: none;\">\n",
              "        1:srl_iob:B\n",
              "    </td>\n",
              "    \n",
              "</tr>\n",
              "        \n",
              "            <tr style=\"background-color: hsl(120, 100.00%, 95.11%); border: none;\">\n",
              "    <td style=\"padding: 0 1em 0 0.5em; text-align: right; border: none;\">\n",
              "        +0.096\n",
              "    </td>\n",
              "    <td style=\"padding: 0 0.5em 0 0.5em; text-align: left; border: none;\">\n",
              "        0:suffix1:f\n",
              "    </td>\n",
              "    \n",
              "</tr>\n",
              "        \n",
              "            <tr style=\"background-color: hsl(120, 100.00%, 95.15%); border: none;\">\n",
              "    <td style=\"padding: 0 1em 0 0.5em; text-align: right; border: none;\">\n",
              "        +0.095\n",
              "    </td>\n",
              "    <td style=\"padding: 0 0.5em 0 0.5em; text-align: left; border: none;\">\n",
              "        0:word:%\n",
              "    </td>\n",
              "    \n",
              "</tr>\n",
              "        \n",
              "            <tr style=\"background-color: hsl(120, 100.00%, 95.19%); border: none;\">\n",
              "    <td style=\"padding: 0 1em 0 0.5em; text-align: right; border: none;\">\n",
              "        +0.094\n",
              "    </td>\n",
              "    <td style=\"padding: 0 0.5em 0 0.5em; text-align: left; border: none;\">\n",
              "        1:morph_PunctSide:Fin\n",
              "    </td>\n",
              "    \n",
              "</tr>\n",
              "        \n",
              "            <tr style=\"background-color: hsl(120, 100.00%, 95.22%); border: none;\">\n",
              "    <td style=\"padding: 0 1em 0 0.5em; text-align: right; border: none;\">\n",
              "        +0.093\n",
              "    </td>\n",
              "    <td style=\"padding: 0 0.5em 0 0.5em; text-align: left; border: none;\">\n",
              "        1:ent_iob_:O\n",
              "    </td>\n",
              "    \n",
              "</tr>\n",
              "        \n",
              "            <tr style=\"background-color: hsl(120, 100.00%, 95.32%); border: none;\">\n",
              "    <td style=\"padding: 0 1em 0 0.5em; text-align: right; border: none;\">\n",
              "        +0.090\n",
              "    </td>\n",
              "    <td style=\"padding: 0 0.5em 0 0.5em; text-align: left; border: none;\">\n",
              "        -1:word:-\n",
              "    </td>\n",
              "    \n",
              "</tr>\n",
              "        \n",
              "            <tr style=\"background-color: hsl(120, 100.00%, 95.42%); border: none;\">\n",
              "    <td style=\"padding: 0 1em 0 0.5em; text-align: right; border: none;\">\n",
              "        +0.088\n",
              "    </td>\n",
              "    <td style=\"padding: 0 0.5em 0 0.5em; text-align: left; border: none;\">\n",
              "        0:word:of\n",
              "    </td>\n",
              "    \n",
              "</tr>\n",
              "        \n",
              "            <tr style=\"background-color: hsl(120, 100.00%, 95.42%); border: none;\">\n",
              "    <td style=\"padding: 0 1em 0 0.5em; text-align: right; border: none;\">\n",
              "        +0.088\n",
              "    </td>\n",
              "    <td style=\"padding: 0 0.5em 0 0.5em; text-align: left; border: none;\">\n",
              "        0:tag_:HYPH\n",
              "    </td>\n",
              "    \n",
              "</tr>\n",
              "        \n",
              "            <tr style=\"background-color: hsl(120, 100.00%, 95.42%); border: none;\">\n",
              "    <td style=\"padding: 0 1em 0 0.5em; text-align: right; border: none;\">\n",
              "        +0.088\n",
              "    </td>\n",
              "    <td style=\"padding: 0 0.5em 0 0.5em; text-align: left; border: none;\">\n",
              "        0:morph_PunctType:Dash\n",
              "    </td>\n",
              "    \n",
              "</tr>\n",
              "        \n",
              "            <tr style=\"background-color: hsl(120, 100.00%, 95.68%); border: none;\">\n",
              "    <td style=\"padding: 0 1em 0 0.5em; text-align: right; border: none;\">\n",
              "        +0.080\n",
              "    </td>\n",
              "    <td style=\"padding: 0 0.5em 0 0.5em; text-align: left; border: none;\">\n",
              "        1:word:(\n",
              "    </td>\n",
              "    \n",
              "</tr>\n",
              "        \n",
              "            <tr style=\"background-color: hsl(120, 100.00%, 95.69%); border: none;\">\n",
              "    <td style=\"padding: 0 1em 0 0.5em; text-align: right; border: none;\">\n",
              "        +0.080\n",
              "    </td>\n",
              "    <td style=\"padding: 0 0.5em 0 0.5em; text-align: left; border: none;\">\n",
              "        1:tag_:-LRB-\n",
              "    </td>\n",
              "    \n",
              "</tr>\n",
              "        \n",
              "            <tr style=\"background-color: hsl(120, 100.00%, 95.70%); border: none;\">\n",
              "    <td style=\"padding: 0 1em 0 0.5em; text-align: right; border: none;\">\n",
              "        +0.080\n",
              "    </td>\n",
              "    <td style=\"padding: 0 0.5em 0 0.5em; text-align: left; border: none;\">\n",
              "        -1:dep_:amod\n",
              "    </td>\n",
              "    \n",
              "</tr>\n",
              "        \n",
              "            <tr style=\"background-color: hsl(120, 100.00%, 95.71%); border: none;\">\n",
              "    <td style=\"padding: 0 1em 0 0.5em; text-align: right; border: none;\">\n",
              "        +0.080\n",
              "    </td>\n",
              "    <td style=\"padding: 0 0.5em 0 0.5em; text-align: left; border: none;\">\n",
              "        0:word:-\n",
              "    </td>\n",
              "    \n",
              "</tr>\n",
              "        \n",
              "            <tr style=\"background-color: hsl(120, 100.00%, 95.85%); border: none;\">\n",
              "    <td style=\"padding: 0 1em 0 0.5em; text-align: right; border: none;\">\n",
              "        +0.076\n",
              "    </td>\n",
              "    <td style=\"padding: 0 0.5em 0 0.5em; text-align: left; border: none;\">\n",
              "        0:srl_I\n",
              "    </td>\n",
              "    \n",
              "</tr>\n",
              "        \n",
              "            <tr style=\"background-color: hsl(120, 100.00%, 95.87%); border: none;\">\n",
              "    <td style=\"padding: 0 1em 0 0.5em; text-align: right; border: none;\">\n",
              "        +0.075\n",
              "    </td>\n",
              "    <td style=\"padding: 0 0.5em 0 0.5em; text-align: left; border: none;\">\n",
              "        -1:suffix1:f\n",
              "    </td>\n",
              "    \n",
              "</tr>\n",
              "        \n",
              "            <tr style=\"background-color: hsl(120, 100.00%, 96.08%); border: none;\">\n",
              "    <td style=\"padding: 0 1em 0 0.5em; text-align: right; border: none;\">\n",
              "        +0.070\n",
              "    </td>\n",
              "    <td style=\"padding: 0 0.5em 0 0.5em; text-align: left; border: none;\">\n",
              "        0:dep_:dobj\n",
              "    </td>\n",
              "    \n",
              "</tr>\n",
              "        \n",
              "            <tr style=\"background-color: hsl(120, 100.00%, 96.16%); border: none;\">\n",
              "    <td style=\"padding: 0 1em 0 0.5em; text-align: right; border: none;\">\n",
              "        +0.068\n",
              "    </td>\n",
              "    <td style=\"padding: 0 0.5em 0 0.5em; text-align: left; border: none;\">\n",
              "        0:dep_:pobj\n",
              "    </td>\n",
              "    \n",
              "</tr>\n",
              "        \n",
              "            <tr style=\"background-color: hsl(120, 100.00%, 96.20%); border: none;\">\n",
              "    <td style=\"padding: 0 1em 0 0.5em; text-align: right; border: none;\">\n",
              "        +0.067\n",
              "    </td>\n",
              "    <td style=\"padding: 0 0.5em 0 0.5em; text-align: left; border: none;\">\n",
              "        -1:dep_:nmod\n",
              "    </td>\n",
              "    \n",
              "</tr>\n",
              "        \n",
              "            <tr style=\"background-color: hsl(120, 100.00%, 96.33%); border: none;\">\n",
              "    <td style=\"padding: 0 1em 0 0.5em; text-align: right; border: none;\">\n",
              "        +0.064\n",
              "    </td>\n",
              "    <td style=\"padding: 0 0.5em 0 0.5em; text-align: left; border: none;\">\n",
              "        -1:srl_type:V\n",
              "    </td>\n",
              "    \n",
              "</tr>\n",
              "        \n",
              "            <tr style=\"background-color: hsl(120, 100.00%, 96.35%); border: none;\">\n",
              "    <td style=\"padding: 0 1em 0 0.5em; text-align: right; border: none;\">\n",
              "        +0.063\n",
              "    </td>\n",
              "    <td style=\"padding: 0 0.5em 0 0.5em; text-align: left; border: none;\">\n",
              "        1:ent_type:GPE\n",
              "    </td>\n",
              "    \n",
              "</tr>\n",
              "        \n",
              "            <tr style=\"background-color: hsl(120, 100.00%, 96.51%); border: none;\">\n",
              "    <td style=\"padding: 0 1em 0 0.5em; text-align: right; border: none;\">\n",
              "        +0.060\n",
              "    </td>\n",
              "    <td style=\"padding: 0 0.5em 0 0.5em; text-align: left; border: none;\">\n",
              "        -1:morph_Case:Nom\n",
              "    </td>\n",
              "    \n",
              "</tr>\n",
              "        \n",
              "            <tr style=\"background-color: hsl(120, 100.00%, 96.62%); border: none;\">\n",
              "    <td style=\"padding: 0 1em 0 0.5em; text-align: right; border: none;\">\n",
              "        +0.057\n",
              "    </td>\n",
              "    <td style=\"padding: 0 0.5em 0 0.5em; text-align: left; border: none;\">\n",
              "        -1:morph_Person:3\n",
              "    </td>\n",
              "    \n",
              "</tr>\n",
              "        \n",
              "            <tr style=\"background-color: hsl(120, 100.00%, 96.63%); border: none;\">\n",
              "    <td style=\"padding: 0 1em 0 0.5em; text-align: right; border: none;\">\n",
              "        +0.056\n",
              "    </td>\n",
              "    <td style=\"padding: 0 0.5em 0 0.5em; text-align: left; border: none;\">\n",
              "        1:srl_ARGM-TMP:B\n",
              "    </td>\n",
              "    \n",
              "</tr>\n",
              "        \n",
              "            <tr style=\"background-color: hsl(120, 100.00%, 96.67%); border: none;\">\n",
              "    <td style=\"padding: 0 1em 0 0.5em; text-align: right; border: none;\">\n",
              "        +0.055\n",
              "    </td>\n",
              "    <td style=\"padding: 0 0.5em 0 0.5em; text-align: left; border: none;\">\n",
              "        0:pos_:PROPN\n",
              "    </td>\n",
              "    \n",
              "</tr>\n",
              "        \n",
              "            <tr style=\"background-color: hsl(120, 100.00%, 96.68%); border: none;\">\n",
              "    <td style=\"padding: 0 1em 0 0.5em; text-align: right; border: none;\">\n",
              "        +0.055\n",
              "    </td>\n",
              "    <td style=\"padding: 0 0.5em 0 0.5em; text-align: left; border: none;\">\n",
              "        0:morph_NounType:Prop\n",
              "    </td>\n",
              "    \n",
              "</tr>\n",
              "        \n",
              "        \n",
              "            <tr style=\"background-color: hsl(120, 100.00%, 96.68%); border: none;\">\n",
              "                <td colspan=\"2\" style=\"padding: 0 0.5em 0 0.5em; text-align: center; border: none; white-space: nowrap;\">\n",
              "                    <i>&hellip; 387 more positive &hellip;</i>\n",
              "                </td>\n",
              "            </tr>\n",
              "        \n",
              "\n",
              "        \n",
              "            <tr style=\"background-color: hsl(0, 100.00%, 96.66%); border: none;\">\n",
              "                <td colspan=\"2\" style=\"padding: 0 0.5em 0 0.5em; text-align: center; border: none; white-space: nowrap;\">\n",
              "                    <i>&hellip; 578 more negative &hellip;</i>\n",
              "                </td>\n",
              "            </tr>\n",
              "        \n",
              "        \n",
              "            <tr style=\"background-color: hsl(0, 100.00%, 96.66%); border: none;\">\n",
              "    <td style=\"padding: 0 1em 0 0.5em; text-align: right; border: none;\">\n",
              "        -0.056\n",
              "    </td>\n",
              "    <td style=\"padding: 0 0.5em 0 0.5em; text-align: left; border: none;\">\n",
              "        1:word:-\n",
              "    </td>\n",
              "    \n",
              "</tr>\n",
              "        \n",
              "            <tr style=\"background-color: hsl(0, 100.00%, 96.65%); border: none;\">\n",
              "    <td style=\"padding: 0 1em 0 0.5em; text-align: right; border: none;\">\n",
              "        -0.056\n",
              "    </td>\n",
              "    <td style=\"padding: 0 0.5em 0 0.5em; text-align: left; border: none;\">\n",
              "        -1:word:in\n",
              "    </td>\n",
              "    \n",
              "</tr>\n",
              "        \n",
              "            <tr style=\"background-color: hsl(0, 100.00%, 96.65%); border: none;\">\n",
              "    <td style=\"padding: 0 1em 0 0.5em; text-align: right; border: none;\">\n",
              "        -0.056\n",
              "    </td>\n",
              "    <td style=\"padding: 0 0.5em 0 0.5em; text-align: left; border: none;\">\n",
              "        -1:ent_type:LOC\n",
              "    </td>\n",
              "    \n",
              "</tr>\n",
              "        \n",
              "            <tr style=\"background-color: hsl(0, 100.00%, 96.64%); border: none;\">\n",
              "    <td style=\"padding: 0 1em 0 0.5em; text-align: right; border: none;\">\n",
              "        -0.056\n",
              "    </td>\n",
              "    <td style=\"padding: 0 0.5em 0 0.5em; text-align: left; border: none;\">\n",
              "        -1:morph_PunctType:Brck\n",
              "    </td>\n",
              "    \n",
              "</tr>\n",
              "        \n",
              "            <tr style=\"background-color: hsl(0, 100.00%, 96.62%); border: none;\">\n",
              "    <td style=\"padding: 0 1em 0 0.5em; text-align: right; border: none;\">\n",
              "        -0.057\n",
              "    </td>\n",
              "    <td style=\"padding: 0 0.5em 0 0.5em; text-align: left; border: none;\">\n",
              "        0:word:in\n",
              "    </td>\n",
              "    \n",
              "</tr>\n",
              "        \n",
              "            <tr style=\"background-color: hsl(0, 100.00%, 96.61%); border: none;\">\n",
              "    <td style=\"padding: 0 1em 0 0.5em; text-align: right; border: none;\">\n",
              "        -0.057\n",
              "    </td>\n",
              "    <td style=\"padding: 0 0.5em 0 0.5em; text-align: left; border: none;\">\n",
              "        0:dep_:advmod\n",
              "    </td>\n",
              "    \n",
              "</tr>\n",
              "        \n",
              "            <tr style=\"background-color: hsl(0, 100.00%, 96.56%); border: none;\">\n",
              "    <td style=\"padding: 0 1em 0 0.5em; text-align: right; border: none;\">\n",
              "        -0.058\n",
              "    </td>\n",
              "    <td style=\"padding: 0 0.5em 0 0.5em; text-align: left; border: none;\">\n",
              "        -1:srl_iob:I\n",
              "    </td>\n",
              "    \n",
              "</tr>\n",
              "        \n",
              "            <tr style=\"background-color: hsl(0, 100.00%, 96.51%); border: none;\">\n",
              "    <td style=\"padding: 0 1em 0 0.5em; text-align: right; border: none;\">\n",
              "        -0.059\n",
              "    </td>\n",
              "    <td style=\"padding: 0 0.5em 0 0.5em; text-align: left; border: none;\">\n",
              "        0:word:,\n",
              "    </td>\n",
              "    \n",
              "</tr>\n",
              "        \n",
              "            <tr style=\"background-color: hsl(0, 100.00%, 96.51%); border: none;\">\n",
              "    <td style=\"padding: 0 1em 0 0.5em; text-align: right; border: none;\">\n",
              "        -0.059\n",
              "    </td>\n",
              "    <td style=\"padding: 0 0.5em 0 0.5em; text-align: left; border: none;\">\n",
              "        1:srl_iob:I\n",
              "    </td>\n",
              "    \n",
              "</tr>\n",
              "        \n",
              "            <tr style=\"background-color: hsl(0, 100.00%, 96.51%); border: none;\">\n",
              "    <td style=\"padding: 0 1em 0 0.5em; text-align: right; border: none;\">\n",
              "        -0.060\n",
              "    </td>\n",
              "    <td style=\"padding: 0 0.5em 0 0.5em; text-align: left; border: none;\">\n",
              "        0:oov\n",
              "    </td>\n",
              "    \n",
              "</tr>\n",
              "        \n",
              "            <tr style=\"background-color: hsl(0, 100.00%, 96.51%); border: none;\">\n",
              "    <td style=\"padding: 0 1em 0 0.5em; text-align: right; border: none;\">\n",
              "        -0.060\n",
              "    </td>\n",
              "    <td style=\"padding: 0 0.5em 0 0.5em; text-align: left; border: none;\">\n",
              "        bias\n",
              "    </td>\n",
              "    \n",
              "</tr>\n",
              "        \n",
              "            <tr style=\"background-color: hsl(0, 100.00%, 96.47%); border: none;\">\n",
              "    <td style=\"padding: 0 1em 0 0.5em; text-align: right; border: none;\">\n",
              "        -0.060\n",
              "    </td>\n",
              "    <td style=\"padding: 0 0.5em 0 0.5em; text-align: left; border: none;\">\n",
              "        -1:tag_:IN\n",
              "    </td>\n",
              "    \n",
              "</tr>\n",
              "        \n",
              "            <tr style=\"background-color: hsl(0, 100.00%, 96.47%); border: none;\">\n",
              "    <td style=\"padding: 0 1em 0 0.5em; text-align: right; border: none;\">\n",
              "        -0.060\n",
              "    </td>\n",
              "    <td style=\"padding: 0 0.5em 0 0.5em; text-align: left; border: none;\">\n",
              "        1:srl_I\n",
              "    </td>\n",
              "    \n",
              "</tr>\n",
              "        \n",
              "            <tr style=\"background-color: hsl(0, 100.00%, 96.44%); border: none;\">\n",
              "    <td style=\"padding: 0 1em 0 0.5em; text-align: right; border: none;\">\n",
              "        -0.061\n",
              "    </td>\n",
              "    <td style=\"padding: 0 0.5em 0 0.5em; text-align: left; border: none;\">\n",
              "        0:morph_PunctType:Comm\n",
              "    </td>\n",
              "    \n",
              "</tr>\n",
              "        \n",
              "            <tr style=\"background-color: hsl(0, 100.00%, 96.43%); border: none;\">\n",
              "    <td style=\"padding: 0 1em 0 0.5em; text-align: right; border: none;\">\n",
              "        -0.061\n",
              "    </td>\n",
              "    <td style=\"padding: 0 0.5em 0 0.5em; text-align: left; border: none;\">\n",
              "        0:dep_:aux\n",
              "    </td>\n",
              "    \n",
              "</tr>\n",
              "        \n",
              "            <tr style=\"background-color: hsl(0, 100.00%, 96.41%); border: none;\">\n",
              "    <td style=\"padding: 0 1em 0 0.5em; text-align: right; border: none;\">\n",
              "        -0.062\n",
              "    </td>\n",
              "    <td style=\"padding: 0 0.5em 0 0.5em; text-align: left; border: none;\">\n",
              "        0:tag_:TO\n",
              "    </td>\n",
              "    \n",
              "</tr>\n",
              "        \n",
              "            <tr style=\"background-color: hsl(0, 100.00%, 96.28%); border: none;\">\n",
              "    <td style=\"padding: 0 1em 0 0.5em; text-align: right; border: none;\">\n",
              "        -0.065\n",
              "    </td>\n",
              "    <td style=\"padding: 0 0.5em 0 0.5em; text-align: left; border: none;\">\n",
              "        -1:prefix1:1\n",
              "    </td>\n",
              "    \n",
              "</tr>\n",
              "        \n",
              "            <tr style=\"background-color: hsl(0, 100.00%, 96.27%); border: none;\">\n",
              "    <td style=\"padding: 0 1em 0 0.5em; text-align: right; border: none;\">\n",
              "        -0.065\n",
              "    </td>\n",
              "    <td style=\"padding: 0 0.5em 0 0.5em; text-align: left; border: none;\">\n",
              "        1:ent_type:DATE\n",
              "    </td>\n",
              "    \n",
              "</tr>\n",
              "        \n",
              "            <tr style=\"background-color: hsl(0, 100.00%, 96.17%); border: none;\">\n",
              "    <td style=\"padding: 0 1em 0 0.5em; text-align: right; border: none;\">\n",
              "        -0.068\n",
              "    </td>\n",
              "    <td style=\"padding: 0 0.5em 0 0.5em; text-align: left; border: none;\">\n",
              "        0:morph_PunctType:Brck\n",
              "    </td>\n",
              "    \n",
              "</tr>\n",
              "        \n",
              "            <tr style=\"background-color: hsl(0, 100.00%, 96.08%); border: none;\">\n",
              "    <td style=\"padding: 0 1em 0 0.5em; text-align: right; border: none;\">\n",
              "        -0.070\n",
              "    </td>\n",
              "    <td style=\"padding: 0 0.5em 0 0.5em; text-align: left; border: none;\">\n",
              "        0:tag_:-LRB-\n",
              "    </td>\n",
              "    \n",
              "</tr>\n",
              "        \n",
              "            <tr style=\"background-color: hsl(0, 100.00%, 96.07%); border: none;\">\n",
              "    <td style=\"padding: 0 1em 0 0.5em; text-align: right; border: none;\">\n",
              "        -0.070\n",
              "    </td>\n",
              "    <td style=\"padding: 0 0.5em 0 0.5em; text-align: left; border: none;\">\n",
              "        0:word:(\n",
              "    </td>\n",
              "    \n",
              "</tr>\n",
              "        \n",
              "            <tr style=\"background-color: hsl(0, 100.00%, 96.06%); border: none;\">\n",
              "    <td style=\"padding: 0 1em 0 0.5em; text-align: right; border: none;\">\n",
              "        -0.071\n",
              "    </td>\n",
              "    <td style=\"padding: 0 0.5em 0 0.5em; text-align: left; border: none;\">\n",
              "        0:srl_type:V\n",
              "    </td>\n",
              "    \n",
              "</tr>\n",
              "        \n",
              "            <tr style=\"background-color: hsl(0, 100.00%, 95.88%); border: none;\">\n",
              "    <td style=\"padding: 0 1em 0 0.5em; text-align: right; border: none;\">\n",
              "        -0.075\n",
              "    </td>\n",
              "    <td style=\"padding: 0 0.5em 0 0.5em; text-align: left; border: none;\">\n",
              "        1:dep_:nmod\n",
              "    </td>\n",
              "    \n",
              "</tr>\n",
              "        \n",
              "            <tr style=\"background-color: hsl(0, 100.00%, 95.87%); border: none;\">\n",
              "    <td style=\"padding: 0 1em 0 0.5em; text-align: right; border: none;\">\n",
              "        -0.076\n",
              "    </td>\n",
              "    <td style=\"padding: 0 0.5em 0 0.5em; text-align: left; border: none;\">\n",
              "        1:alpha\n",
              "    </td>\n",
              "    \n",
              "</tr>\n",
              "        \n",
              "            <tr style=\"background-color: hsl(0, 100.00%, 95.83%); border: none;\">\n",
              "    <td style=\"padding: 0 1em 0 0.5em; text-align: right; border: none;\">\n",
              "        -0.077\n",
              "    </td>\n",
              "    <td style=\"padding: 0 0.5em 0 0.5em; text-align: left; border: none;\">\n",
              "        QuartilePos:1\n",
              "    </td>\n",
              "    \n",
              "</tr>\n",
              "        \n",
              "            <tr style=\"background-color: hsl(0, 100.00%, 95.75%); border: none;\">\n",
              "    <td style=\"padding: 0 1em 0 0.5em; text-align: right; border: none;\">\n",
              "        -0.079\n",
              "    </td>\n",
              "    <td style=\"padding: 0 0.5em 0 0.5em; text-align: left; border: none;\">\n",
              "        0:morph_PunctSide:Ini\n",
              "    </td>\n",
              "    \n",
              "</tr>\n",
              "        \n",
              "            <tr style=\"background-color: hsl(0, 100.00%, 95.70%); border: none;\">\n",
              "    <td style=\"padding: 0 1em 0 0.5em; text-align: right; border: none;\">\n",
              "        -0.080\n",
              "    </td>\n",
              "    <td style=\"padding: 0 0.5em 0 0.5em; text-align: left; border: none;\">\n",
              "        0:srl_iob:O\n",
              "    </td>\n",
              "    \n",
              "</tr>\n",
              "        \n",
              "            <tr style=\"background-color: hsl(0, 100.00%, 95.60%); border: none;\">\n",
              "    <td style=\"padding: 0 1em 0 0.5em; text-align: right; border: none;\">\n",
              "        -0.083\n",
              "    </td>\n",
              "    <td style=\"padding: 0 0.5em 0 0.5em; text-align: left; border: none;\">\n",
              "        -1:ent_iob_:B\n",
              "    </td>\n",
              "    \n",
              "</tr>\n",
              "        \n",
              "            <tr style=\"background-color: hsl(0, 100.00%, 95.54%); border: none;\">\n",
              "    <td style=\"padding: 0 1em 0 0.5em; text-align: right; border: none;\">\n",
              "        -0.084\n",
              "    </td>\n",
              "    <td style=\"padding: 0 0.5em 0 0.5em; text-align: left; border: none;\">\n",
              "        0:stop\n",
              "    </td>\n",
              "    \n",
              "</tr>\n",
              "        \n",
              "            <tr style=\"background-color: hsl(0, 100.00%, 95.37%); border: none;\">\n",
              "    <td style=\"padding: 0 1em 0 0.5em; text-align: right; border: none;\">\n",
              "        -0.089\n",
              "    </td>\n",
              "    <td style=\"padding: 0 0.5em 0 0.5em; text-align: left; border: none;\">\n",
              "        1:shape_reduced:d\n",
              "    </td>\n",
              "    \n",
              "</tr>\n",
              "        \n",
              "            <tr style=\"background-color: hsl(0, 100.00%, 95.31%); border: none;\">\n",
              "    <td style=\"padding: 0 1em 0 0.5em; text-align: right; border: none;\">\n",
              "        -0.091\n",
              "    </td>\n",
              "    <td style=\"padding: 0 0.5em 0 0.5em; text-align: left; border: none;\">\n",
              "        1:morph_Number:Sing\n",
              "    </td>\n",
              "    \n",
              "</tr>\n",
              "        \n",
              "            <tr style=\"background-color: hsl(0, 100.00%, 95.24%); border: none;\">\n",
              "    <td style=\"padding: 0 1em 0 0.5em; text-align: right; border: none;\">\n",
              "        -0.092\n",
              "    </td>\n",
              "    <td style=\"padding: 0 0.5em 0 0.5em; text-align: left; border: none;\">\n",
              "        1:dep_:amod\n",
              "    </td>\n",
              "    \n",
              "</tr>\n",
              "        \n",
              "            <tr style=\"background-color: hsl(0, 100.00%, 95.14%); border: none;\">\n",
              "    <td style=\"padding: 0 1em 0 0.5em; text-align: right; border: none;\">\n",
              "        -0.095\n",
              "    </td>\n",
              "    <td style=\"padding: 0 0.5em 0 0.5em; text-align: left; border: none;\">\n",
              "        -1:ent_type:CARDINAL\n",
              "    </td>\n",
              "    \n",
              "</tr>\n",
              "        \n",
              "            <tr style=\"background-color: hsl(0, 100.00%, 94.74%); border: none;\">\n",
              "    <td style=\"padding: 0 1em 0 0.5em; text-align: right; border: none;\">\n",
              "        -0.107\n",
              "    </td>\n",
              "    <td style=\"padding: 0 0.5em 0 0.5em; text-align: left; border: none;\">\n",
              "        0:dep_:ROOT\n",
              "    </td>\n",
              "    \n",
              "</tr>\n",
              "        \n",
              "            <tr style=\"background-color: hsl(0, 100.00%, 94.64%); border: none;\">\n",
              "    <td style=\"padding: 0 1em 0 0.5em; text-align: right; border: none;\">\n",
              "        -0.110\n",
              "    </td>\n",
              "    <td style=\"padding: 0 0.5em 0 0.5em; text-align: left; border: none;\">\n",
              "        1:ent_type:PERSON\n",
              "    </td>\n",
              "    \n",
              "</tr>\n",
              "        \n",
              "            <tr style=\"background-color: hsl(0, 100.00%, 94.63%); border: none;\">\n",
              "    <td style=\"padding: 0 1em 0 0.5em; text-align: right; border: none;\">\n",
              "        -0.110\n",
              "    </td>\n",
              "    <td style=\"padding: 0 0.5em 0 0.5em; text-align: left; border: none;\">\n",
              "        1:pos_:NUM\n",
              "    </td>\n",
              "    \n",
              "</tr>\n",
              "        \n",
              "            <tr style=\"background-color: hsl(0, 100.00%, 94.63%); border: none;\">\n",
              "    <td style=\"padding: 0 1em 0 0.5em; text-align: right; border: none;\">\n",
              "        -0.110\n",
              "    </td>\n",
              "    <td style=\"padding: 0 0.5em 0 0.5em; text-align: left; border: none;\">\n",
              "        1:tag_:CD\n",
              "    </td>\n",
              "    \n",
              "</tr>\n",
              "        \n",
              "            <tr style=\"background-color: hsl(0, 100.00%, 94.62%); border: none;\">\n",
              "    <td style=\"padding: 0 1em 0 0.5em; text-align: right; border: none;\">\n",
              "        -0.110\n",
              "    </td>\n",
              "    <td style=\"padding: 0 0.5em 0 0.5em; text-align: left; border: none;\">\n",
              "        1:morph_NumType:Card\n",
              "    </td>\n",
              "    \n",
              "</tr>\n",
              "        \n",
              "            <tr style=\"background-color: hsl(0, 100.00%, 94.62%); border: none;\">\n",
              "    <td style=\"padding: 0 1em 0 0.5em; text-align: right; border: none;\">\n",
              "        -0.110\n",
              "    </td>\n",
              "    <td style=\"padding: 0 0.5em 0 0.5em; text-align: left; border: none;\">\n",
              "        -1:word:%\n",
              "    </td>\n",
              "    \n",
              "</tr>\n",
              "        \n",
              "            <tr style=\"background-color: hsl(0, 100.00%, 94.28%); border: none;\">\n",
              "    <td style=\"padding: 0 1em 0 0.5em; text-align: right; border: none;\">\n",
              "        -0.120\n",
              "    </td>\n",
              "    <td style=\"padding: 0 0.5em 0 0.5em; text-align: left; border: none;\">\n",
              "        0:srl_ARGM-TMP:B\n",
              "    </td>\n",
              "    \n",
              "</tr>\n",
              "        \n",
              "            <tr style=\"background-color: hsl(0, 100.00%, 94.12%); border: none;\">\n",
              "    <td style=\"padding: 0 1em 0 0.5em; text-align: right; border: none;\">\n",
              "        -0.125\n",
              "    </td>\n",
              "    <td style=\"padding: 0 0.5em 0 0.5em; text-align: left; border: none;\">\n",
              "        0:tag_:VBD\n",
              "    </td>\n",
              "    \n",
              "</tr>\n",
              "        \n",
              "            <tr style=\"background-color: hsl(0, 100.00%, 94.10%); border: none;\">\n",
              "    <td style=\"padding: 0 1em 0 0.5em; text-align: right; border: none;\">\n",
              "        -0.126\n",
              "    </td>\n",
              "    <td style=\"padding: 0 0.5em 0 0.5em; text-align: left; border: none;\">\n",
              "        1:ent_iob_:I\n",
              "    </td>\n",
              "    \n",
              "</tr>\n",
              "        \n",
              "            <tr style=\"background-color: hsl(0, 100.00%, 93.98%); border: none;\">\n",
              "    <td style=\"padding: 0 1em 0 0.5em; text-align: right; border: none;\">\n",
              "        -0.129\n",
              "    </td>\n",
              "    <td style=\"padding: 0 0.5em 0 0.5em; text-align: left; border: none;\">\n",
              "        -1:dep_:dobj\n",
              "    </td>\n",
              "    \n",
              "</tr>\n",
              "        \n",
              "            <tr style=\"background-color: hsl(0, 100.00%, 93.75%); border: none;\">\n",
              "    <td style=\"padding: 0 1em 0 0.5em; text-align: right; border: none;\">\n",
              "        -0.137\n",
              "    </td>\n",
              "    <td style=\"padding: 0 0.5em 0 0.5em; text-align: left; border: none;\">\n",
              "        -1:dep_:nsubj\n",
              "    </td>\n",
              "    \n",
              "</tr>\n",
              "        \n",
              "            <tr style=\"background-color: hsl(0, 100.00%, 93.71%); border: none;\">\n",
              "    <td style=\"padding: 0 1em 0 0.5em; text-align: right; border: none;\">\n",
              "        -0.138\n",
              "    </td>\n",
              "    <td style=\"padding: 0 0.5em 0 0.5em; text-align: left; border: none;\">\n",
              "        QuartilePos:0\n",
              "    </td>\n",
              "    \n",
              "</tr>\n",
              "        \n",
              "            <tr style=\"background-color: hsl(0, 100.00%, 93.66%); border: none;\">\n",
              "    <td style=\"padding: 0 1em 0 0.5em; text-align: right; border: none;\">\n",
              "        -0.139\n",
              "    </td>\n",
              "    <td style=\"padding: 0 0.5em 0 0.5em; text-align: left; border: none;\">\n",
              "        0:ent_iob_:O\n",
              "    </td>\n",
              "    \n",
              "</tr>\n",
              "        \n",
              "            <tr style=\"background-color: hsl(0, 100.00%, 93.52%); border: none;\">\n",
              "    <td style=\"padding: 0 1em 0 0.5em; text-align: right; border: none;\">\n",
              "        -0.144\n",
              "    </td>\n",
              "    <td style=\"padding: 0 0.5em 0 0.5em; text-align: left; border: none;\">\n",
              "        -1:dep_:pobj\n",
              "    </td>\n",
              "    \n",
              "</tr>\n",
              "        \n",
              "            <tr style=\"background-color: hsl(0, 100.00%, 93.43%); border: none;\">\n",
              "    <td style=\"padding: 0 1em 0 0.5em; text-align: right; border: none;\">\n",
              "        -0.147\n",
              "    </td>\n",
              "    <td style=\"padding: 0 0.5em 0 0.5em; text-align: left; border: none;\">\n",
              "        1:ent_iob_:B\n",
              "    </td>\n",
              "    \n",
              "</tr>\n",
              "        \n",
              "            <tr style=\"background-color: hsl(0, 100.00%, 92.99%); border: none;\">\n",
              "    <td style=\"padding: 0 1em 0 0.5em; text-align: right; border: none;\">\n",
              "        -0.161\n",
              "    </td>\n",
              "    <td style=\"padding: 0 0.5em 0 0.5em; text-align: left; border: none;\">\n",
              "        0:srl_ARG0:B\n",
              "    </td>\n",
              "    \n",
              "</tr>\n",
              "        \n",
              "            <tr style=\"background-color: hsl(0, 100.00%, 92.16%); border: none;\">\n",
              "    <td style=\"padding: 0 1em 0 0.5em; text-align: right; border: none;\">\n",
              "        -0.189\n",
              "    </td>\n",
              "    <td style=\"padding: 0 0.5em 0 0.5em; text-align: left; border: none;\">\n",
              "        -1:ent_iob_:I\n",
              "    </td>\n",
              "    \n",
              "</tr>\n",
              "        \n",
              "            <tr style=\"background-color: hsl(0, 100.00%, 92.13%); border: none;\">\n",
              "    <td style=\"padding: 0 1em 0 0.5em; text-align: right; border: none;\">\n",
              "        -0.190\n",
              "    </td>\n",
              "    <td style=\"padding: 0 0.5em 0 0.5em; text-align: left; border: none;\">\n",
              "        0:dep_:compound\n",
              "    </td>\n",
              "    \n",
              "</tr>\n",
              "        \n",
              "            <tr style=\"background-color: hsl(0, 100.00%, 91.95%); border: none;\">\n",
              "    <td style=\"padding: 0 1em 0 0.5em; text-align: right; border: none;\">\n",
              "        -0.196\n",
              "    </td>\n",
              "    <td style=\"padding: 0 0.5em 0 0.5em; text-align: left; border: none;\">\n",
              "        1:dep_:compound\n",
              "    </td>\n",
              "    \n",
              "</tr>\n",
              "        \n",
              "            <tr style=\"background-color: hsl(0, 100.00%, 91.93%); border: none;\">\n",
              "    <td style=\"padding: 0 1em 0 0.5em; text-align: right; border: none;\">\n",
              "        -0.197\n",
              "    </td>\n",
              "    <td style=\"padding: 0 0.5em 0 0.5em; text-align: left; border: none;\">\n",
              "        0:morph_VerbForm:Fin\n",
              "    </td>\n",
              "    \n",
              "</tr>\n",
              "        \n",
              "            <tr style=\"background-color: hsl(0, 100.00%, 91.17%); border: none;\">\n",
              "    <td style=\"padding: 0 1em 0 0.5em; text-align: right; border: none;\">\n",
              "        -0.224\n",
              "    </td>\n",
              "    <td style=\"padding: 0 0.5em 0 0.5em; text-align: left; border: none;\">\n",
              "        0:ent_iob_:B\n",
              "    </td>\n",
              "    \n",
              "</tr>\n",
              "        \n",
              "            <tr style=\"background-color: hsl(0, 100.00%, 90.04%); border: none;\">\n",
              "    <td style=\"padding: 0 1em 0 0.5em; text-align: right; border: none;\">\n",
              "        -0.266\n",
              "    </td>\n",
              "    <td style=\"padding: 0 0.5em 0 0.5em; text-align: left; border: none;\">\n",
              "        0:srl_B\n",
              "    </td>\n",
              "    \n",
              "</tr>\n",
              "        \n",
              "            <tr style=\"background-color: hsl(0, 100.00%, 89.81%); border: none;\">\n",
              "    <td style=\"padding: 0 1em 0 0.5em; text-align: right; border: none;\">\n",
              "        -0.275\n",
              "    </td>\n",
              "    <td style=\"padding: 0 0.5em 0 0.5em; text-align: left; border: none;\">\n",
              "        0:pos_:PUNCT\n",
              "    </td>\n",
              "    \n",
              "</tr>\n",
              "        \n",
              "            <tr style=\"background-color: hsl(0, 100.00%, 87.14%); border: none;\">\n",
              "    <td style=\"padding: 0 1em 0 0.5em; text-align: right; border: none;\">\n",
              "        -0.383\n",
              "    </td>\n",
              "    <td style=\"padding: 0 0.5em 0 0.5em; text-align: left; border: none;\">\n",
              "        0:srl_iob:B\n",
              "    </td>\n",
              "    \n",
              "</tr>\n",
              "        \n",
              "            <tr style=\"background-color: hsl(0, 100.00%, 86.60%); border: none;\">\n",
              "    <td style=\"padding: 0 1em 0 0.5em; text-align: right; border: none;\">\n",
              "        -0.406\n",
              "    </td>\n",
              "    <td style=\"padding: 0 0.5em 0 0.5em; text-align: left; border: none;\">\n",
              "        0:morph_PunctType:Peri\n",
              "    </td>\n",
              "    \n",
              "</tr>\n",
              "        \n",
              "            <tr style=\"background-color: hsl(0, 100.00%, 86.32%); border: none;\">\n",
              "    <td style=\"padding: 0 1em 0 0.5em; text-align: right; border: none;\">\n",
              "        -0.418\n",
              "    </td>\n",
              "    <td style=\"padding: 0 0.5em 0 0.5em; text-align: left; border: none;\">\n",
              "        0:word:.\n",
              "    </td>\n",
              "    \n",
              "</tr>\n",
              "        \n",
              "            <tr style=\"background-color: hsl(0, 100.00%, 84.90%); border: none;\">\n",
              "    <td style=\"padding: 0 1em 0 0.5em; text-align: right; border: none;\">\n",
              "        -0.482\n",
              "    </td>\n",
              "    <td style=\"padding: 0 0.5em 0 0.5em; text-align: left; border: none;\">\n",
              "        1 EOS\n",
              "    </td>\n",
              "    \n",
              "</tr>\n",
              "        \n",
              "\n",
              "        </tbody>\n",
              "    </table>\n",
              "\n",
              "                                \n",
              "                            \n",
              "                        </td>\n",
              "                    \n",
              "                \n",
              "            </tr>\n",
              "        </table>\n",
              "    \n",
              "\n",
              "    \n",
              "        \n",
              "\n",
              "\n",
              "    \n",
              "        \n",
              "\n",
              "\n",
              "    \n",
              "        \n",
              "\n",
              "\n",
              "    \n",
              "\n",
              "\n",
              "    \n",
              "\n",
              "    \n",
              "\n",
              "    \n",
              "\n",
              "\n",
              "    \n",
              "\n",
              "    \n",
              "\n",
              "    \n",
              "\n",
              "    \n",
              "\n",
              "    \n",
              "\n",
              "    \n",
              "\n",
              "\n",
              "    \n",
              "\n",
              "    \n",
              "\n",
              "    \n",
              "\n",
              "    \n",
              "\n",
              "    \n",
              "\n",
              "    \n",
              "\n",
              "\n",
              "\n"
            ],
            "text/plain": [
              "<IPython.core.display.HTML object>"
            ]
          },
          "metadata": {
            "tags": []
          },
          "execution_count": 44
        }
      ]
    },
    {
      "cell_type": "markdown",
      "metadata": {
        "id": "iUFkh2zBylYo"
      },
      "source": [
        "## ......."
      ]
    },
    {
      "cell_type": "code",
      "metadata": {
        "id": "ew6dypoFy1Y1",
        "outputId": "1e5be9cc-d0c2-44a6-d974-6c12efe42f8d",
        "colab": {
          "base_uri": "https://localhost:8080/",
          "height": 36
        }
      },
      "source": [
        ""
      ],
      "execution_count": 32,
      "outputs": [
        {
          "output_type": "execute_result",
          "data": {
            "application/vnd.google.colaboratory.intrinsic+json": {
              "type": "string"
            },
            "text/plain": [
              "'I-Answer'"
            ]
          },
          "metadata": {
            "tags": []
          },
          "execution_count": 32
        }
      ]
    },
    {
      "cell_type": "code",
      "metadata": {
        "colab": {
          "base_uri": "https://localhost:8080/",
          "height": 1000
        },
        "id": "a9Jhw3hjsNn3",
        "outputId": "a0334082-3ee7-4f62-d5b4-439a4c709f88"
      },
      "source": [
        "for tokens, margials, y_pred, y in zip(token_test, y_pred_test_marginals, y_pred_test, y_test):\n",
        "  if not set(y_pred) == set([\"O\"]):\n",
        "    print()\n",
        "    print_annotated_text(tokens, margials, y)"
      ],
      "execution_count": 46,
      "outputs": [
        {
          "output_type": "stream",
          "text": [
            "\n"
          ],
          "name": "stdout"
        },
        {
          "output_type": "display_data",
          "data": {
            "text/html": [
              "<span title=\"0.10171209624388286\" style=\"background-color:rgba(255, 0, 0, 0.10171209624388286);\"> Richard</span><span title=\"0.016436387911925553\" style=\"background-color:rgba(255, 0, 0, 0.016436387911925553);\"> then</span><span title=\"0.01682690774659609\" style=\"background-color:rgba(255, 0, 0, 0.01682690774659609);\"> proceeded</span><span title=\"0.039014367524505135\" style=\"background-color:rgba(255, 0, 0, 0.039014367524505135);\"> to</span><span title=\"0.06757902795069105\" style=\"background-color:rgba(255, 0, 0, 0.06757902795069105);\"> conquer</span><span title=\"0.08772208398063198\" style=\"background-color:rgba(255, 0, 0, 0.08772208398063198);\"> the</span><span title=\"0.12237574739864426\" style=\"background-color:rgba(255, 0, 0, 0.12237574739864426);\"> whole</span><span title=\"0.12573909623132784\" style=\"background-color:rgba(255, 0, 0, 0.12573909623132784);\"> island</span><span title=\"0.02396811182981831\" style=\"background-color:rgba(255, 0, 0, 0.02396811182981831);\"> ,</span><span title=\"0.032607692116813705\" style=\"background-color:rgba(255, 0, 0, 0.032607692116813705);\"> his</span><span title=\"0.04502339494104238\" style=\"background-color:rgba(255, 0, 0, 0.04502339494104238);\"> troops</span><span title=\"0.02806864919440625\" style=\"background-color:rgba(255, 0, 0, 0.02806864919440625);\"> being</span><span title=\"0.0383070960740454\" style=\"background-color:rgba(255, 0, 0, 0.0383070960740454);\"> led</span><span title=\"0.061120310108073596\" style=\"background-color:rgba(255, 0, 0, 0.061120310108073596);\"> by</span><span title=\"0.5953189476029681\" style=\"background-color:rgba(255, 0, 0, 0.5953189476029681);text-decoration: underline\"> Guy</span><span title=\"0.5915059368698916\" style=\"background-color:rgba(255, 0, 0, 0.5915059368698916);text-decoration: underline\"> de</span><span title=\"0.5808566517605\" style=\"background-color:rgba(255, 0, 0, 0.5808566517605);text-decoration: underline\"> Lusignan</span><span title=\"0.05326078201041322\" style=\"background-color:rgba(255, 0, 0, 0.05326078201041322);\"> .</span>"
            ],
            "text/plain": [
              "<IPython.core.display.HTML object>"
            ]
          },
          "metadata": {
            "tags": []
          }
        },
        {
          "output_type": "stream",
          "text": [
            "\n"
          ],
          "name": "stdout"
        },
        {
          "output_type": "display_data",
          "data": {
            "text/html": [
              "<span title=\"0.03268470085909949\" style=\"background-color:rgba(255, 0, 0, 0.03268470085909949);\"> For</span><span title=\"0.0979354155563765\" style=\"background-color:rgba(255, 0, 0, 0.0979354155563765);\"> small</span><span title=\"0.10260975397164461\" style=\"background-color:rgba(255, 0, 0, 0.10260975397164461);\"> n</span><span title=\"0.02678055621013134\" style=\"background-color:rgba(255, 0, 0, 0.02678055621013134);\"> ,</span><span title=\"0.03899232539596349\" style=\"background-color:rgba(255, 0, 0, 0.03899232539596349);\"> say</span><span title=\"0.63368134672551\" style=\"background-color:rgba(255, 0, 0, 0.63368134672551);\"> 100</span><span title=\"0.09401253169101809\" style=\"background-color:rgba(255, 0, 0, 0.09401253169101809);\"> ,</span><span title=\"0.07970580792649619\" style=\"background-color:rgba(255, 0, 0, 0.07970580792649619);\"> and</span><span title=\"0.09478318978209596\" style=\"background-color:rgba(255, 0, 0, 0.09478318978209596);\"> assuming</span><span title=\"0.08383723498350489\" style=\"background-color:rgba(255, 0, 0, 0.08383723498350489);\"> for</span><span title=\"0.11476290461500316\" style=\"background-color:rgba(255, 0, 0, 0.11476290461500316);\"> the</span><span title=\"0.14588196050905017\" style=\"background-color:rgba(255, 0, 0, 0.14588196050905017);\"> sake</span><span title=\"0.09937343385131908\" style=\"background-color:rgba(255, 0, 0, 0.09937343385131908);\"> of</span><span title=\"0.1273659870773653\" style=\"background-color:rgba(255, 0, 0, 0.1273659870773653);\"> example</span><span title=\"0.06238308123589195\" style=\"background-color:rgba(255, 0, 0, 0.06238308123589195);\"> that</span><span title=\"0.08988418088933203\" style=\"background-color:rgba(255, 0, 0, 0.08988418088933203);\"> the</span><span title=\"0.10874392452754357\" style=\"background-color:rgba(255, 0, 0, 0.10874392452754357);\"> computer</span><span title=\"0.05503264638594109\" style=\"background-color:rgba(255, 0, 0, 0.05503264638594109);\"> does</span><span title=\"0.5467948834459921\" style=\"background-color:rgba(255, 0, 0, 0.5467948834459921);\"> 1012</span><span title=\"0.2464856854944699\" style=\"background-color:rgba(255, 0, 0, 0.2464856854944699);\"> operations</span><span title=\"0.15807839940539573\" style=\"background-color:rgba(255, 0, 0, 0.15807839940539573);\"> each</span><span title=\"0.16198205254210715\" style=\"background-color:rgba(255, 0, 0, 0.16198205254210715);\"> second</span><span title=\"0.05116268192371168\" style=\"background-color:rgba(255, 0, 0, 0.05116268192371168);\"> ,</span><span title=\"0.0704080633138732\" style=\"background-color:rgba(255, 0, 0, 0.0704080633138732);\"> the</span><span title=\"0.1020489129215775\" style=\"background-color:rgba(255, 0, 0, 0.1020489129215775);\"> program</span><span title=\"0.04194984826591033\" style=\"background-color:rgba(255, 0, 0, 0.04194984826591033);\"> would</span><span title=\"0.053959439969958035\" style=\"background-color:rgba(255, 0, 0, 0.053959439969958035);\"> run</span><span title=\"0.0574411422402296\" style=\"background-color:rgba(255, 0, 0, 0.0574411422402296);\"> for</span><span title=\"0.21617687177424103\" style=\"background-color:rgba(255, 0, 0, 0.21617687177424103);\"> about</span><span title=\"0.3927763890926895\" style=\"background-color:rgba(255, 0, 0, 0.3927763890926895);\"> 4</span><span title=\"0.21378758048233784\" style=\"background-color:rgba(255, 0, 0, 0.21378758048233784);\"> ×</span><span title=\"0.44474970747535075\" style=\"background-color:rgba(255, 0, 0, 0.44474970747535075);\"> 1010</span><span title=\"0.25972163912032364\" style=\"background-color:rgba(255, 0, 0, 0.25972163912032364);\"> years</span><span title=\"0.06996615246649242\" style=\"background-color:rgba(255, 0, 0, 0.06996615246649242);\"> ,</span><span title=\"0.05204223120227101\" style=\"background-color:rgba(255, 0, 0, 0.05204223120227101);\"> which</span><span title=\"0.04242598212214424\" style=\"background-color:rgba(255, 0, 0, 0.04242598212214424);\"> is</span><span title=\"0.0661186280012746\" style=\"background-color:rgba(255, 0, 0, 0.0661186280012746);\"> the</span><span title=\"0.09884833050545741\" style=\"background-color:rgba(255, 0, 0, 0.09884833050545741);\"> same</span><span title=\"0.10444005696573504\" style=\"background-color:rgba(255, 0, 0, 0.10444005696573504);\"> order</span><span title=\"0.08724691939063148\" style=\"background-color:rgba(255, 0, 0, 0.08724691939063148);\"> of</span><span title=\"0.12114716734572553\" style=\"background-color:rgba(255, 0, 0, 0.12114716734572553);\"> magnitude</span><span title=\"0.06766218217580974\" style=\"background-color:rgba(255, 0, 0, 0.06766218217580974);\"> as</span><span title=\"0.0955877377147738\" style=\"background-color:rgba(255, 0, 0, 0.0955877377147738);\"> the</span><span title=\"0.12506390722496152\" style=\"background-color:rgba(255, 0, 0, 0.12506390722496152);\"> age</span><span title=\"0.09419754612154435\" style=\"background-color:rgba(255, 0, 0, 0.09419754612154435);\"> of</span><span title=\"0.12202961356522568\" style=\"background-color:rgba(255, 0, 0, 0.12202961356522568);\"> the</span><span title=\"0.15316292573564597\" style=\"background-color:rgba(255, 0, 0, 0.15316292573564597);\"> universe</span><span title=\"0.029699317388041754\" style=\"background-color:rgba(255, 0, 0, 0.029699317388041754);\"> .</span>"
            ],
            "text/plain": [
              "<IPython.core.display.HTML object>"
            ]
          },
          "metadata": {
            "tags": []
          }
        },
        {
          "output_type": "stream",
          "text": [
            "\n"
          ],
          "name": "stdout"
        },
        {
          "output_type": "display_data",
          "data": {
            "text/html": [
              "<span title=\"0.04777404741933812\" style=\"background-color:rgba(255, 0, 0, 0.04777404741933812);\"> \"</span><span title=\"0.6824307879625084\" style=\"background-color:rgba(255, 0, 0, 0.6824307879625084);\"> Southern</span><span title=\"0.643441078816101\" style=\"background-color:rgba(255, 0, 0, 0.643441078816101);\"> California</span><span title=\"0.2131493916284045\" style=\"background-color:rgba(255, 0, 0, 0.2131493916284045);\"> \"</span><span title=\"0.08945206113678128\" style=\"background-color:rgba(255, 0, 0, 0.08945206113678128);\"> is</span><span title=\"0.10215873949857748\" style=\"background-color:rgba(255, 0, 0, 0.10215873949857748);\"> not</span><span title=\"0.14125198163349226\" style=\"background-color:rgba(255, 0, 0, 0.14125198163349226);\"> a</span><span title=\"0.25098804037597977\" style=\"background-color:rgba(255, 0, 0, 0.25098804037597977);\"> formal</span><span title=\"0.25988291223788157\" style=\"background-color:rgba(255, 0, 0, 0.25988291223788157);\"> geographic</span><span title=\"0.251247941138371\" style=\"background-color:rgba(255, 0, 0, 0.251247941138371);\"> designation</span><span title=\"0.08593585253937025\" style=\"background-color:rgba(255, 0, 0, 0.08593585253937025);\"> ,</span><span title=\"0.07554334023316094\" style=\"background-color:rgba(255, 0, 0, 0.07554334023316094);\"> and</span><span title=\"0.12155803103884827\" style=\"background-color:rgba(255, 0, 0, 0.12155803103884827);\"> definitions</span><span title=\"0.08720650801559668\" style=\"background-color:rgba(255, 0, 0, 0.08720650801559668);\"> of</span><span title=\"0.10518158010559099\" style=\"background-color:rgba(255, 0, 0, 0.10518158010559099);\"> what</span><span title=\"0.10959159682174295\" style=\"background-color:rgba(255, 0, 0, 0.10959159682174295);\"> constitutes</span><span title=\"0.20023322792531972\" style=\"background-color:rgba(255, 0, 0, 0.20023322792531972);\"> southern</span><span title=\"0.20757274163861017\" style=\"background-color:rgba(255, 0, 0, 0.20757274163861017);\"> California</span><span title=\"0.09395968449661042\" style=\"background-color:rgba(255, 0, 0, 0.09395968449661042);\"> vary</span><span title=\"0.05512789963981228\" style=\"background-color:rgba(255, 0, 0, 0.05512789963981228);\"> .</span>"
            ],
            "text/plain": [
              "<IPython.core.display.HTML object>"
            ]
          },
          "metadata": {
            "tags": []
          }
        },
        {
          "output_type": "stream",
          "text": [
            "\n"
          ],
          "name": "stdout"
        },
        {
          "output_type": "display_data",
          "data": {
            "text/html": [
              "<span title=\"0.02979441129911291\" style=\"background-color:rgba(255, 0, 0, 0.02979441129911291);\"> In</span><span title=\"0.06004740454350121\" style=\"background-color:rgba(255, 0, 0, 0.06004740454350121);\"> the</span><span title=\"0.10610388150671267\" style=\"background-color:rgba(255, 0, 0, 0.10610388150671267);\"> summers</span><span title=\"0.02040905317982518\" style=\"background-color:rgba(255, 0, 0, 0.02040905317982518);\"> ,</span><span title=\"0.14264228795404787\" style=\"background-color:rgba(255, 0, 0, 0.14264228795404787);\"> temperature</span><span title=\"0.14053805923945834\" style=\"background-color:rgba(255, 0, 0, 0.14053805923945834);\"> ranges</span><span title=\"0.042619000717658305\" style=\"background-color:rgba(255, 0, 0, 0.042619000717658305);\"> are</span><span title=\"0.7153825334751118\" style=\"background-color:rgba(255, 0, 0, 0.7153825334751118);\"> 90</span><span title=\"0.6169088658602228\" style=\"background-color:rgba(255, 0, 0, 0.6169088658602228);\"> -</span><span title=\"0.5879082824730857\" style=\"background-color:rgba(255, 0, 0, 0.5879082824730857);text-decoration: underline\"> 60</span><span title=\"0.21459962678835937\" style=\"background-color:rgba(255, 0, 0, 0.21459962678835937);text-decoration: underline\"> 's</span><span title=\"0.07151400804888863\" style=\"background-color:rgba(255, 0, 0, 0.07151400804888863);\"> while</span><span title=\"0.06914305843792906\" style=\"background-color:rgba(255, 0, 0, 0.06914305843792906);\"> as</span><span title=\"0.13408764337618018\" style=\"background-color:rgba(255, 0, 0, 0.13408764337618018);\"> winters</span><span title=\"0.09437605530836958\" style=\"background-color:rgba(255, 0, 0, 0.09437605530836958);\"> are</span><span title=\"0.6406725805778914\" style=\"background-color:rgba(255, 0, 0, 0.6406725805778914);text-decoration: underline\"> 70</span><span title=\"0.5610650548929165\" style=\"background-color:rgba(255, 0, 0, 0.5610650548929165);\"> -</span><span title=\"0.5464262220251664\" style=\"background-color:rgba(255, 0, 0, 0.5464262220251664);\"> 50</span><span title=\"0.2591974726103972\" style=\"background-color:rgba(255, 0, 0, 0.2591974726103972);\"> 's</span><span title=\"0.06245178731243743\" style=\"background-color:rgba(255, 0, 0, 0.06245178731243743);\"> ,</span><span title=\"0.05449194338905987\" style=\"background-color:rgba(255, 0, 0, 0.05449194338905987);\"> usually</span><span title=\"0.06337249043730775\" style=\"background-color:rgba(255, 0, 0, 0.06337249043730775);\"> all</span><span title=\"0.06515790278755709\" style=\"background-color:rgba(255, 0, 0, 0.06515790278755709);\"> of</span><span title=\"0.2693860727491737\" style=\"background-color:rgba(255, 0, 0, 0.2693860727491737);\"> Southern</span><span title=\"0.2419361531894314\" style=\"background-color:rgba(255, 0, 0, 0.2419361531894314);\"> California</span><span title=\"0.06571522335571461\" style=\"background-color:rgba(255, 0, 0, 0.06571522335571461);\"> have</span><span title=\"0.29376013089679043\" style=\"background-color:rgba(255, 0, 0, 0.29376013089679043);\"> Mediterranean</span><span title=\"0.25598394626161364\" style=\"background-color:rgba(255, 0, 0, 0.25598394626161364);\"> climate</span><span title=\"0.06074755783291266\" style=\"background-color:rgba(255, 0, 0, 0.06074755783291266);\"> .</span>"
            ],
            "text/plain": [
              "<IPython.core.display.HTML object>"
            ]
          },
          "metadata": {
            "tags": []
          }
        },
        {
          "output_type": "stream",
          "text": [
            "\n"
          ],
          "name": "stdout"
        },
        {
          "output_type": "display_data",
          "data": {
            "text/html": [
              "<span title=\"0.059370735304259965\" style=\"background-color:rgba(255, 0, 0, 0.059370735304259965);\"> The</span><span title=\"0.19622622389662517\" style=\"background-color:rgba(255, 0, 0, 0.19622622389662517);\"> United</span><span title=\"0.18278818767909913\" style=\"background-color:rgba(255, 0, 0, 0.18278818767909913);\"> Kingdom</span><span title=\"0.11887811111144096\" style=\"background-color:rgba(255, 0, 0, 0.11887811111144096);\"> operations</span><span title=\"0.03296229264204578\" style=\"background-color:rgba(255, 0, 0, 0.03296229264204578);\"> also</span><span title=\"0.027144074419898374\" style=\"background-color:rgba(255, 0, 0, 0.027144074419898374);\"> changed</span><span title=\"0.055457528398969724\" style=\"background-color:rgba(255, 0, 0, 0.055457528398969724);\"> the</span><span title=\"0.1102246083486641\" style=\"background-color:rgba(255, 0, 0, 0.1102246083486641);\"> company</span><span title=\"0.08174098981277823\" style=\"background-color:rgba(255, 0, 0, 0.08174098981277823);\"> name</span><span title=\"0.03776208566093843\" style=\"background-color:rgba(255, 0, 0, 0.03776208566093843);\"> from</span><span title=\"0.3726811099206352\" style=\"background-color:rgba(255, 0, 0, 0.3726811099206352);\"> British</span><span title=\"0.35096022388779036\" style=\"background-color:rgba(255, 0, 0, 0.35096022388779036);\"> Sky</span><span title=\"0.3277968568645468\" style=\"background-color:rgba(255, 0, 0, 0.3277968568645468);\"> Broadcasting</span><span title=\"0.26548677229277695\" style=\"background-color:rgba(255, 0, 0, 0.26548677229277695);\"> Limited</span><span title=\"0.06754736977922472\" style=\"background-color:rgba(255, 0, 0, 0.06754736977922472);\"> to</span><span title=\"0.6833589077491768\" style=\"background-color:rgba(255, 0, 0, 0.6833589077491768);text-decoration: underline\"> Sky</span><span title=\"0.6546442062908087\" style=\"background-color:rgba(255, 0, 0, 0.6546442062908087);text-decoration: underline\"> UK</span><span title=\"0.6157239773955749\" style=\"background-color:rgba(255, 0, 0, 0.6157239773955749);text-decoration: underline\"> Limited</span><span title=\"0.10704141663510915\" style=\"background-color:rgba(255, 0, 0, 0.10704141663510915);\"> ,</span><span title=\"0.08207438494937568\" style=\"background-color:rgba(255, 0, 0, 0.08207438494937568);\"> still</span><span title=\"0.07703643192831786\" style=\"background-color:rgba(255, 0, 0, 0.07703643192831786);\"> trading</span><span title=\"0.08336659798068204\" style=\"background-color:rgba(255, 0, 0, 0.08336659798068204);\"> as</span><span title=\"0.2677347503244304\" style=\"background-color:rgba(255, 0, 0, 0.2677347503244304);\"> Sky</span><span title=\"0.024536478723038428\" style=\"background-color:rgba(255, 0, 0, 0.024536478723038428);\"> .</span>"
            ],
            "text/plain": [
              "<IPython.core.display.HTML object>"
            ]
          },
          "metadata": {
            "tags": []
          }
        },
        {
          "output_type": "stream",
          "text": [
            "\n"
          ],
          "name": "stdout"
        },
        {
          "output_type": "display_data",
          "data": {
            "text/html": [
              "<span title=\"0.04007698559528213\" style=\"background-color:rgba(255, 0, 0, 0.04007698559528213);\"> When</span><span title=\"0.26397415606414854\" style=\"background-color:rgba(255, 0, 0, 0.26397415606414854);text-decoration: underline\"> Sky</span><span title=\"0.24130229211531484\" style=\"background-color:rgba(255, 0, 0, 0.24130229211531484);text-decoration: underline\"> Digital</span><span title=\"0.042450708123094094\" style=\"background-color:rgba(255, 0, 0, 0.042450708123094094);\"> was</span><span title=\"0.041932186045937805\" style=\"background-color:rgba(255, 0, 0, 0.041932186045937805);\"> launched</span><span title=\"0.03147139671014784\" style=\"background-color:rgba(255, 0, 0, 0.03147139671014784);\"> in</span><span title=\"0.35997456834472596\" style=\"background-color:rgba(255, 0, 0, 0.35997456834472596);text-decoration: underline\"> 1998</span><span title=\"0.05532796927303656\" style=\"background-color:rgba(255, 0, 0, 0.05532796927303656);\"> the</span><span title=\"0.10036612914094403\" style=\"background-color:rgba(255, 0, 0, 0.10036612914094403);\"> new</span><span title=\"0.08305204709316741\" style=\"background-color:rgba(255, 0, 0, 0.08305204709316741);\"> service</span><span title=\"0.03203448438326746\" style=\"background-color:rgba(255, 0, 0, 0.03203448438326746);\"> used</span><span title=\"0.09443784326273395\" style=\"background-color:rgba(255, 0, 0, 0.09443784326273395);text-decoration: underline\"> the</span><span title=\"0.3336329390199818\" style=\"background-color:rgba(255, 0, 0, 0.3336329390199818);text-decoration: underline\"> Astra</span><span title=\"0.2933010987025199\" style=\"background-color:rgba(255, 0, 0, 0.2933010987025199);text-decoration: underline\"> 2A</span><span title=\"0.21784349807239756\" style=\"background-color:rgba(255, 0, 0, 0.21784349807239756);\"> satellite</span><span title=\"0.08723720996158446\" style=\"background-color:rgba(255, 0, 0, 0.08723720996158446);\"> which</span><span title=\"0.0696301628076982\" style=\"background-color:rgba(255, 0, 0, 0.0696301628076982);\"> was</span><span title=\"0.08155776845777933\" style=\"background-color:rgba(255, 0, 0, 0.08155776845777933);\"> located</span><span title=\"0.08420938990057303\" style=\"background-color:rgba(255, 0, 0, 0.08420938990057303);\"> at</span><span title=\"0.1451508800429958\" style=\"background-color:rgba(255, 0, 0, 0.1451508800429958);\"> the</span><span title=\"0.45426957117082567\" style=\"background-color:rgba(255, 0, 0, 0.45426957117082567);\"> 28.5</span><span title=\"0.41112721353089743\" style=\"background-color:rgba(255, 0, 0, 0.41112721353089743);\"> °</span><span title=\"0.37386206401957334\" style=\"background-color:rgba(255, 0, 0, 0.37386206401957334);\"> E</span><span title=\"0.36075441639485345\" style=\"background-color:rgba(255, 0, 0, 0.36075441639485345);\"> orbital</span><span title=\"0.34715828006604715\" style=\"background-color:rgba(255, 0, 0, 0.34715828006604715);\"> position</span><span title=\"0.09575865127925168\" style=\"background-color:rgba(255, 0, 0, 0.09575865127925168);\"> ,</span><span title=\"0.07300819904720209\" style=\"background-color:rgba(255, 0, 0, 0.07300819904720209);\"> unlike</span><span title=\"0.11449422945612492\" style=\"background-color:rgba(255, 0, 0, 0.11449422945612492);\"> the</span><span title=\"0.14449040458750215\" style=\"background-color:rgba(255, 0, 0, 0.14449040458750215);\"> analogue</span><span title=\"0.13270728233037363\" style=\"background-color:rgba(255, 0, 0, 0.13270728233037363);\"> service</span><span title=\"0.06021282070992699\" style=\"background-color:rgba(255, 0, 0, 0.06021282070992699);\"> which</span><span title=\"0.04932830024118665\" style=\"background-color:rgba(255, 0, 0, 0.04932830024118665);\"> was</span><span title=\"0.0632891894359627\" style=\"background-color:rgba(255, 0, 0, 0.0632891894359627);\"> broadcast</span><span title=\"0.0817856877296318\" style=\"background-color:rgba(255, 0, 0, 0.0817856877296318);\"> from</span><span title=\"0.7370133787779742\" style=\"background-color:rgba(255, 0, 0, 0.7370133787779742);\"> 19.2</span><span title=\"0.6927659942085621\" style=\"background-color:rgba(255, 0, 0, 0.6927659942085621);\"> °</span><span title=\"0.6880938862807543\" style=\"background-color:rgba(255, 0, 0, 0.6880938862807543);\"> E.</span>"
            ],
            "text/plain": [
              "<IPython.core.display.HTML object>"
            ]
          },
          "metadata": {
            "tags": []
          }
        },
        {
          "output_type": "stream",
          "text": [
            "\n"
          ],
          "name": "stdout"
        },
        {
          "output_type": "display_data",
          "data": {
            "text/html": [
              "<span title=\"0.040876701060847766\" style=\"background-color:rgba(255, 0, 0, 0.040876701060847766);\"> The</span><span title=\"0.06528015462006302\" style=\"background-color:rgba(255, 0, 0, 0.06528015462006302);\"> first</span><span title=\"0.0645664703293419\" style=\"background-color:rgba(255, 0, 0, 0.0645664703293419);\"> settlement</span><span title=\"0.03374724699849121\" style=\"background-color:rgba(255, 0, 0, 0.03374724699849121);\"> in</span><span title=\"0.049968575143418514\" style=\"background-color:rgba(255, 0, 0, 0.049968575143418514);\"> the</span><span title=\"0.07405518608884609\" style=\"background-color:rgba(255, 0, 0, 0.07405518608884609);\"> area</span><span title=\"0.015322108291577758\" style=\"background-color:rgba(255, 0, 0, 0.015322108291577758);\"> occurred</span><span title=\"0.022954891778936195\" style=\"background-color:rgba(255, 0, 0, 0.022954891778936195);\"> in</span><span title=\"0.39684933139639267\" style=\"background-color:rgba(255, 0, 0, 0.39684933139639267);text-decoration: underline\"> 1803</span><span title=\"0.06217531899634846\" style=\"background-color:rgba(255, 0, 0, 0.06217531899634846);\"> at</span><span title=\"0.4647329037897023\" style=\"background-color:rgba(255, 0, 0, 0.4647329037897023);text-decoration: underline\"> Sullivan</span><span title=\"0.4417716516089497\" style=\"background-color:rgba(255, 0, 0, 0.4417716516089497);text-decoration: underline\"> Bay</span><span title=\"0.05512874124547159\" style=\"background-color:rgba(255, 0, 0, 0.05512874124547159);\"> ,</span><span title=\"0.0396981513206894\" style=\"background-color:rgba(255, 0, 0, 0.0396981513206894);\"> and</span><span title=\"0.05184693979267278\" style=\"background-color:rgba(255, 0, 0, 0.05184693979267278);\"> much</span><span title=\"0.04464942789302804\" style=\"background-color:rgba(255, 0, 0, 0.04464942789302804);\"> of</span><span title=\"0.04931756770822067\" style=\"background-color:rgba(255, 0, 0, 0.04931756770822067);\"> what</span><span title=\"0.03221075278601342\" style=\"background-color:rgba(255, 0, 0, 0.03221075278601342);\"> is</span><span title=\"0.03654308340792406\" style=\"background-color:rgba(255, 0, 0, 0.03654308340792406);\"> now</span><span title=\"0.10781883353734989\" style=\"background-color:rgba(255, 0, 0, 0.10781883353734989);\"> Victoria</span><span title=\"0.025944810996109225\" style=\"background-color:rgba(255, 0, 0, 0.025944810996109225);\"> was</span><span title=\"0.033970512975211566\" style=\"background-color:rgba(255, 0, 0, 0.033970512975211566);\"> included</span><span title=\"0.034130353548494\" style=\"background-color:rgba(255, 0, 0, 0.034130353548494);\"> in</span><span title=\"0.1311294337689909\" style=\"background-color:rgba(255, 0, 0, 0.1311294337689909);\"> the</span><span title=\"0.24766695364606783\" style=\"background-color:rgba(255, 0, 0, 0.24766695364606783);\"> Port</span><span title=\"0.23580591101575285\" style=\"background-color:rgba(255, 0, 0, 0.23580591101575285);\"> Phillip</span><span title=\"0.21721481251937952\" style=\"background-color:rgba(255, 0, 0, 0.21721481251937952);\"> District</span><span title=\"0.02919090936385297\" style=\"background-color:rgba(255, 0, 0, 0.02919090936385297);\"> in</span><span title=\"0.5739476095534287\" style=\"background-color:rgba(255, 0, 0, 0.5739476095534287);\"> 1836</span><span title=\"0.12336770548359786\" style=\"background-color:rgba(255, 0, 0, 0.12336770548359786);\"> ,</span><span title=\"0.12626409668626126\" style=\"background-color:rgba(255, 0, 0, 0.12626409668626126);\"> an</span><span title=\"0.1818324742010803\" style=\"background-color:rgba(255, 0, 0, 0.1818324742010803);\"> administrative</span><span title=\"0.19020701364623963\" style=\"background-color:rgba(255, 0, 0, 0.19020701364623963);\"> division</span><span title=\"0.15691117185909004\" style=\"background-color:rgba(255, 0, 0, 0.15691117185909004);\"> of</span><span title=\"0.4196863925505519\" style=\"background-color:rgba(255, 0, 0, 0.4196863925505519);text-decoration: underline\"> New</span><span title=\"0.42568702398048586\" style=\"background-color:rgba(255, 0, 0, 0.42568702398048586);text-decoration: underline\"> South</span><span title=\"0.41032692029346207\" style=\"background-color:rgba(255, 0, 0, 0.41032692029346207);text-decoration: underline\"> Wales</span><span title=\"0.03816327544099066\" style=\"background-color:rgba(255, 0, 0, 0.03816327544099066);\"> .</span>"
            ],
            "text/plain": [
              "<IPython.core.display.HTML object>"
            ]
          },
          "metadata": {
            "tags": []
          }
        },
        {
          "output_type": "stream",
          "text": [
            "\n"
          ],
          "name": "stdout"
        },
        {
          "output_type": "display_data",
          "data": {
            "text/html": [
              "<span title=\"0.056765330955185496\" style=\"background-color:rgba(255, 0, 0, 0.056765330955185496);\"> The</span><span title=\"0.0722206748879186\" style=\"background-color:rgba(255, 0, 0, 0.0722206748879186);\"> state</span><span title=\"0.02036959437243666\" style=\"background-color:rgba(255, 0, 0, 0.02036959437243666);\"> also</span><span title=\"0.02298193859237102\" style=\"background-color:rgba(255, 0, 0, 0.02298193859237102);\"> has</span><span title=\"0.7199770217544871\" style=\"background-color:rgba(255, 0, 0, 0.7199770217544871);\"> 2.4</span><span title=\"0.667131179692021\" style=\"background-color:rgba(255, 0, 0, 0.667131179692021);\"> million</span><span title=\"0.4765453137537604\" style=\"background-color:rgba(255, 0, 0, 0.4765453137537604);\"> beef</span><span title=\"0.43080181991395283\" style=\"background-color:rgba(255, 0, 0, 0.43080181991395283);\"> cattle</span><span title=\"0.10075429721669266\" style=\"background-color:rgba(255, 0, 0, 0.10075429721669266);\"> ,</span><span title=\"0.06778361414392053\" style=\"background-color:rgba(255, 0, 0, 0.06778361414392053);\"> with</span><span title=\"0.2717367377616162\" style=\"background-color:rgba(255, 0, 0, 0.2717367377616162);\"> more</span><span title=\"0.2799205951596445\" style=\"background-color:rgba(255, 0, 0, 0.2799205951596445);\"> than</span><span title=\"0.39277401383453625\" style=\"background-color:rgba(255, 0, 0, 0.39277401383453625);\"> 2.2</span><span title=\"0.3649235993707852\" style=\"background-color:rgba(255, 0, 0, 0.3649235993707852);\"> million</span><span title=\"0.2239986211716383\" style=\"background-color:rgba(255, 0, 0, 0.2239986211716383);\"> cattle</span><span title=\"0.18015879802537169\" style=\"background-color:rgba(255, 0, 0, 0.18015879802537169);\"> and</span><span title=\"0.17166357305472435\" style=\"background-color:rgba(255, 0, 0, 0.17166357305472435);\"> calves</span><span title=\"0.123494550640937\" style=\"background-color:rgba(255, 0, 0, 0.123494550640937);\"> slaughtered</span><span title=\"0.12220948577253074\" style=\"background-color:rgba(255, 0, 0, 0.12220948577253074);\"> each</span><span title=\"0.139117752578725\" style=\"background-color:rgba(255, 0, 0, 0.139117752578725);\"> year</span><span title=\"0.036545548778495814\" style=\"background-color:rgba(255, 0, 0, 0.036545548778495814);\"> .</span>"
            ],
            "text/plain": [
              "<IPython.core.display.HTML object>"
            ]
          },
          "metadata": {
            "tags": []
          }
        },
        {
          "output_type": "stream",
          "text": [
            "\n"
          ],
          "name": "stdout"
        },
        {
          "output_type": "display_data",
          "data": {
            "text/html": [
              "<span title=\"0.0973191470595402\" style=\"background-color:rgba(255, 0, 0, 0.0973191470595402);\"> The</span><span title=\"0.15545635968524776\" style=\"background-color:rgba(255, 0, 0, 0.15545635968524776);\"> current</span><span title=\"0.1754464454608534\" style=\"background-color:rgba(255, 0, 0, 0.1754464454608534);\"> Premier</span><span title=\"0.12845171965001964\" style=\"background-color:rgba(255, 0, 0, 0.12845171965001964);\"> of</span><span title=\"0.2874398675994106\" style=\"background-color:rgba(255, 0, 0, 0.2874398675994106);\"> Victoria</span><span title=\"0.030938097966757738\" style=\"background-color:rgba(255, 0, 0, 0.030938097966757738);\"> is</span><span title=\"0.6789999892367679\" style=\"background-color:rgba(255, 0, 0, 0.6789999892367679);text-decoration: underline\"> Daniel</span><span title=\"0.645875929473616\" style=\"background-color:rgba(255, 0, 0, 0.645875929473616);text-decoration: underline\"> Andrews</span><span title=\"0.07532293310982077\" style=\"background-color:rgba(255, 0, 0, 0.07532293310982077);\"> .</span>"
            ],
            "text/plain": [
              "<IPython.core.display.HTML object>"
            ]
          },
          "metadata": {
            "tags": []
          }
        },
        {
          "output_type": "stream",
          "text": [
            "\n"
          ],
          "name": "stdout"
        },
        {
          "output_type": "display_data",
          "data": {
            "text/html": [
              "<span title=\"0.06006252363062571\" style=\"background-color:rgba(255, 0, 0, 0.06006252363062571);\"> During</span><span title=\"0.20375960564992932\" style=\"background-color:rgba(255, 0, 0, 0.20375960564992932);\"> 2003–04</span><span title=\"0.0199009219410702\" style=\"background-color:rgba(255, 0, 0, 0.0199009219410702);\"> ,</span><span title=\"0.04960163951651429\" style=\"background-color:rgba(255, 0, 0, 0.04960163951651429);\"> the</span><span title=\"0.12103709772715966\" style=\"background-color:rgba(255, 0, 0, 0.12103709772715966);\"> gross</span><span title=\"0.10917258388234477\" style=\"background-color:rgba(255, 0, 0, 0.10917258388234477);\"> value</span><span title=\"0.07999342391945849\" style=\"background-color:rgba(255, 0, 0, 0.07999342391945849);\"> of</span><span title=\"0.1812829277081589\" style=\"background-color:rgba(255, 0, 0, 0.1812829277081589);\"> Victorian</span><span title=\"0.15875730593278303\" style=\"background-color:rgba(255, 0, 0, 0.15875730593278303);\"> agricultural</span><span title=\"0.15357420242413064\" style=\"background-color:rgba(255, 0, 0, 0.15357420242413064);\"> production</span><span title=\"0.031126473595290936\" style=\"background-color:rgba(255, 0, 0, 0.031126473595290936);\"> increased</span><span title=\"0.04939855145525651\" style=\"background-color:rgba(255, 0, 0, 0.04939855145525651);\"> by</span><span title=\"0.7208218172819552\" style=\"background-color:rgba(255, 0, 0, 0.7208218172819552);text-decoration: underline\"> 17</span><span title=\"0.5654858408632465\" style=\"background-color:rgba(255, 0, 0, 0.5654858408632465);text-decoration: underline\"> %</span><span title=\"0.2653492784282312\" style=\"background-color:rgba(255, 0, 0, 0.2653492784282312);\"> to</span><span title=\"0.5778357933995497\" style=\"background-color:rgba(255, 0, 0, 0.5778357933995497);text-decoration: underline\"> $</span><span title=\"0.696751591950882\" style=\"background-color:rgba(255, 0, 0, 0.696751591950882);text-decoration: underline\"> 8.7</span><span title=\"0.672886191608427\" style=\"background-color:rgba(255, 0, 0, 0.672886191608427);text-decoration: underline\"> billion</span><span title=\"0.061429910491644944\" style=\"background-color:rgba(255, 0, 0, 0.061429910491644944);\"> .</span>"
            ],
            "text/plain": [
              "<IPython.core.display.HTML object>"
            ]
          },
          "metadata": {
            "tags": []
          }
        },
        {
          "output_type": "stream",
          "text": [
            "\n"
          ],
          "name": "stdout"
        },
        {
          "output_type": "display_data",
          "data": {
            "text/html": [
              "<span title=\"0.034059195751091356\" style=\"background-color:rgba(255, 0, 0, 0.034059195751091356);\"> The</span><span title=\"0.058056505966223027\" style=\"background-color:rgba(255, 0, 0, 0.058056505966223027);\"> first</span><span title=\"0.08432843391623594\" style=\"background-color:rgba(255, 0, 0, 0.08432843391623594);\"> Huguenot</span><span title=\"0.038130129834630905\" style=\"background-color:rgba(255, 0, 0, 0.038130129834630905);\"> to</span><span title=\"0.04450879495106373\" style=\"background-color:rgba(255, 0, 0, 0.04450879495106373);\"> arrive</span><span title=\"0.04263709576853128\" style=\"background-color:rgba(255, 0, 0, 0.04263709576853128);\"> at</span><span title=\"0.11156232039668568\" style=\"background-color:rgba(255, 0, 0, 0.11156232039668568);\"> the</span><span title=\"0.19627600482153468\" style=\"background-color:rgba(255, 0, 0, 0.19627600482153468);\"> Cape</span><span title=\"0.13847879086195355\" style=\"background-color:rgba(255, 0, 0, 0.13847879086195355);\"> of</span><span title=\"0.23002313335453653\" style=\"background-color:rgba(255, 0, 0, 0.23002313335453653);\"> Good</span><span title=\"0.20898312053286297\" style=\"background-color:rgba(255, 0, 0, 0.20898312053286297);\"> Hope</span><span title=\"0.01822678994707208\" style=\"background-color:rgba(255, 0, 0, 0.01822678994707208);\"> was</span><span title=\"0.0468543868282409\" style=\"background-color:rgba(255, 0, 0, 0.0468543868282409);\"> however</span><span title=\"0.70176574680646\" style=\"background-color:rgba(255, 0, 0, 0.70176574680646);text-decoration: underline\"> Maria</span><span title=\"0.6880825812430288\" style=\"background-color:rgba(255, 0, 0, 0.6880825812430288);text-decoration: underline\"> de</span><span title=\"0.6669184634016041\" style=\"background-color:rgba(255, 0, 0, 0.6669184634016041);text-decoration: underline\"> la</span><span title=\"0.6353152112204489\" style=\"background-color:rgba(255, 0, 0, 0.6353152112204489);text-decoration: underline\"> Queillerie</span><span title=\"0.3044050661006196\" style=\"background-color:rgba(255, 0, 0, 0.3044050661006196);\"> ,</span><span title=\"0.31100848487328736\" style=\"background-color:rgba(255, 0, 0, 0.31100848487328736);\"> wife</span><span title=\"0.2563646038989415\" style=\"background-color:rgba(255, 0, 0, 0.2563646038989415);\"> of</span><span title=\"0.3645398157444436\" style=\"background-color:rgba(255, 0, 0, 0.3645398157444436);\"> commander</span><span title=\"0.48469745925426055\" style=\"background-color:rgba(255, 0, 0, 0.48469745925426055);text-decoration: underline\"> Jan</span><span title=\"0.4869525267075048\" style=\"background-color:rgba(255, 0, 0, 0.4869525267075048);text-decoration: underline\"> van</span><span title=\"0.4760549378872406\" style=\"background-color:rgba(255, 0, 0, 0.4760549378872406);text-decoration: underline\"> Riebeeck</span><span title=\"0.15149079806152532\" style=\"background-color:rgba(255, 0, 0, 0.15149079806152532);\"> (</span><span title=\"0.14718369817169974\" style=\"background-color:rgba(255, 0, 0, 0.14718369817169974);\"> and</span><span title=\"0.15711390153436375\" style=\"background-color:rgba(255, 0, 0, 0.15711390153436375);\"> daughter</span><span title=\"0.1157007489521402\" style=\"background-color:rgba(255, 0, 0, 0.1157007489521402);\"> of</span><span title=\"0.13283287415375866\" style=\"background-color:rgba(255, 0, 0, 0.13283287415375866);\"> a</span><span title=\"0.24302813710981097\" style=\"background-color:rgba(255, 0, 0, 0.24302813710981097);text-decoration: underline\"> Walloon</span><span title=\"0.2130429383490671\" style=\"background-color:rgba(255, 0, 0, 0.2130429383490671);text-decoration: underline\"> church</span><span title=\"0.21147108483160865\" style=\"background-color:rgba(255, 0, 0, 0.21147108483160865);text-decoration: underline\"> minister</span><span title=\"0.07736355449817706\" style=\"background-color:rgba(255, 0, 0, 0.07736355449817706);\"> )</span><span title=\"0.030273731248404948\" style=\"background-color:rgba(255, 0, 0, 0.030273731248404948);\"> ,</span><span title=\"0.030424063330319717\" style=\"background-color:rgba(255, 0, 0, 0.030424063330319717);\"> who</span><span title=\"0.031296611669209495\" style=\"background-color:rgba(255, 0, 0, 0.031296611669209495);\"> arrived</span><span title=\"0.036681923372945874\" style=\"background-color:rgba(255, 0, 0, 0.036681923372945874);\"> on</span><span title=\"0.41690622219423257\" style=\"background-color:rgba(255, 0, 0, 0.41690622219423257);\"> 6</span><span title=\"0.3628740633299582\" style=\"background-color:rgba(255, 0, 0, 0.3628740633299582);\"> April</span><span title=\"0.30910863965739627\" style=\"background-color:rgba(255, 0, 0, 0.30910863965739627);\"> 1652</span><span title=\"0.13388265020107856\" style=\"background-color:rgba(255, 0, 0, 0.13388265020107856);\"> to</span><span title=\"0.1385798806061763\" style=\"background-color:rgba(255, 0, 0, 0.1385798806061763);\"> establish</span><span title=\"0.14752991386147718\" style=\"background-color:rgba(255, 0, 0, 0.14752991386147718);\"> a</span><span title=\"0.1523671514820522\" style=\"background-color:rgba(255, 0, 0, 0.1523671514820522);\"> settlement</span><span title=\"0.08966881462101944\" style=\"background-color:rgba(255, 0, 0, 0.08966881462101944);\"> at</span><span title=\"0.12138624802588557\" style=\"background-color:rgba(255, 0, 0, 0.12138624802588557);\"> what</span><span title=\"0.11022481761852637\" style=\"background-color:rgba(255, 0, 0, 0.11022481761852637);\"> is</span><span title=\"0.16542830355434412\" style=\"background-color:rgba(255, 0, 0, 0.16542830355434412);\"> today</span><span title=\"0.30936673353282823\" style=\"background-color:rgba(255, 0, 0, 0.30936673353282823);text-decoration: underline\"> Cape</span><span title=\"0.30774388426995\" style=\"background-color:rgba(255, 0, 0, 0.30774388426995);text-decoration: underline\"> Town</span><span title=\"0.04087302437399926\" style=\"background-color:rgba(255, 0, 0, 0.04087302437399926);\"> .</span>"
            ],
            "text/plain": [
              "<IPython.core.display.HTML object>"
            ]
          },
          "metadata": {
            "tags": []
          }
        },
        {
          "output_type": "stream",
          "text": [
            "\n"
          ],
          "name": "stdout"
        },
        {
          "output_type": "display_data",
          "data": {
            "text/html": [
              "<span title=\"0.03343465123916985\" style=\"background-color:rgba(255, 0, 0, 0.03343465123916985);\"> Barred</span><span title=\"0.032716088628197484\" style=\"background-color:rgba(255, 0, 0, 0.032716088628197484);\"> by</span><span title=\"0.07056471302537312\" style=\"background-color:rgba(255, 0, 0, 0.07056471302537312);\"> the</span><span title=\"0.09397972623496004\" style=\"background-color:rgba(255, 0, 0, 0.09397972623496004);\"> government</span><span title=\"0.035982313159362546\" style=\"background-color:rgba(255, 0, 0, 0.035982313159362546);\"> from</span><span title=\"0.07269612455138147\" style=\"background-color:rgba(255, 0, 0, 0.07269612455138147);\"> settling</span><span title=\"0.0646888470716075\" style=\"background-color:rgba(255, 0, 0, 0.0646888470716075);\"> in</span><span title=\"0.3339873367266853\" style=\"background-color:rgba(255, 0, 0, 0.3339873367266853);\"> New</span><span title=\"0.3241333221250175\" style=\"background-color:rgba(255, 0, 0, 0.3241333221250175);\"> France</span><span title=\"0.021983945068586763\" style=\"background-color:rgba(255, 0, 0, 0.021983945068586763);\"> ,</span><span title=\"0.1440440988762028\" style=\"background-color:rgba(255, 0, 0, 0.1440440988762028);\"> Huguenots</span><span title=\"0.07975765153684376\" style=\"background-color:rgba(255, 0, 0, 0.07975765153684376);\"> led</span><span title=\"0.08948284787500327\" style=\"background-color:rgba(255, 0, 0, 0.08948284787500327);\"> by</span><span title=\"0.5972727314980962\" style=\"background-color:rgba(255, 0, 0, 0.5972727314980962);text-decoration: underline\"> Jessé</span><span title=\"0.5830077387023708\" style=\"background-color:rgba(255, 0, 0, 0.5830077387023708);text-decoration: underline\"> de</span><span title=\"0.5642777201121307\" style=\"background-color:rgba(255, 0, 0, 0.5642777201121307);text-decoration: underline\"> Forest</span><span title=\"0.04581922014572883\" style=\"background-color:rgba(255, 0, 0, 0.04581922014572883);\"> ,</span><span title=\"0.03072207943717381\" style=\"background-color:rgba(255, 0, 0, 0.03072207943717381);\"> sailed</span><span title=\"0.03796979680580319\" style=\"background-color:rgba(255, 0, 0, 0.03796979680580319);\"> to</span><span title=\"0.3083334704054009\" style=\"background-color:rgba(255, 0, 0, 0.3083334704054009);\"> North</span><span title=\"0.2700826666304147\" style=\"background-color:rgba(255, 0, 0, 0.2700826666304147);\"> America</span><span title=\"0.03562852655899822\" style=\"background-color:rgba(255, 0, 0, 0.03562852655899822);\"> in</span><span title=\"0.3762971818599569\" style=\"background-color:rgba(255, 0, 0, 0.3762971818599569);text-decoration: underline\"> 1624</span><span title=\"0.06800798288451686\" style=\"background-color:rgba(255, 0, 0, 0.06800798288451686);\"> and</span><span title=\"0.05278346725744858\" style=\"background-color:rgba(255, 0, 0, 0.05278346725744858);\"> settled</span><span title=\"0.04680931830678367\" style=\"background-color:rgba(255, 0, 0, 0.04680931830678367);\"> instead</span><span title=\"0.031290082099373874\" style=\"background-color:rgba(255, 0, 0, 0.031290082099373874);\"> in</span><span title=\"0.10029080050682339\" style=\"background-color:rgba(255, 0, 0, 0.10029080050682339);\"> the</span><span title=\"0.19850445535158426\" style=\"background-color:rgba(255, 0, 0, 0.19850445535158426);\"> Dutch</span><span title=\"0.176239334332947\" style=\"background-color:rgba(255, 0, 0, 0.176239334332947);\"> colony</span><span title=\"0.13447983385778717\" style=\"background-color:rgba(255, 0, 0, 0.13447983385778717);\"> of</span><span title=\"0.3225201935628608\" style=\"background-color:rgba(255, 0, 0, 0.3225201935628608);\"> New</span><span title=\"0.3086243266822113\" style=\"background-color:rgba(255, 0, 0, 0.3086243266822113);\"> Netherland</span><span title=\"0.04608124387632056\" style=\"background-color:rgba(255, 0, 0, 0.04608124387632056);\"> (</span><span title=\"0.0520619561798562\" style=\"background-color:rgba(255, 0, 0, 0.0520619561798562);\"> later</span><span title=\"0.05261456467637301\" style=\"background-color:rgba(255, 0, 0, 0.05261456467637301);\"> incorporated</span><span title=\"0.061742921048383206\" style=\"background-color:rgba(255, 0, 0, 0.061742921048383206);\"> into</span><span title=\"0.3423591890615243\" style=\"background-color:rgba(255, 0, 0, 0.3423591890615243);\"> New</span><span title=\"0.3218207255560981\" style=\"background-color:rgba(255, 0, 0, 0.3218207255560981);\"> York</span><span title=\"0.19588589264781386\" style=\"background-color:rgba(255, 0, 0, 0.19588589264781386);\"> and</span><span title=\"0.29903283589517354\" style=\"background-color:rgba(255, 0, 0, 0.29903283589517354);text-decoration: underline\"> New</span><span title=\"0.28690919500581935\" style=\"background-color:rgba(255, 0, 0, 0.28690919500581935);text-decoration: underline\"> Jersey</span><span title=\"0.06651895100502142\" style=\"background-color:rgba(255, 0, 0, 0.06651895100502142);\"> )</span><span title=\"0.034626074644364076\" style=\"background-color:rgba(255, 0, 0, 0.034626074644364076);\"> ;</span><span title=\"0.028985675031723928\" style=\"background-color:rgba(255, 0, 0, 0.028985675031723928);\"> as</span><span title=\"0.03314221625734311\" style=\"background-color:rgba(255, 0, 0, 0.03314221625734311);\"> well</span><span title=\"0.03272570937905066\" style=\"background-color:rgba(255, 0, 0, 0.03272570937905066);\"> as</span><span title=\"0.3340010818383286\" style=\"background-color:rgba(255, 0, 0, 0.3340010818383286);text-decoration: underline\"> Great</span><span title=\"0.3042969429541254\" style=\"background-color:rgba(255, 0, 0, 0.3042969429541254);text-decoration: underline\"> Britain</span><span title=\"0.23525398544200668\" style=\"background-color:rgba(255, 0, 0, 0.23525398544200668);\"> 's</span><span title=\"0.201012101048258\" style=\"background-color:rgba(255, 0, 0, 0.201012101048258);\"> colonies</span><span title=\"0.08751283158765716\" style=\"background-color:rgba(255, 0, 0, 0.08751283158765716);\"> ,</span><span title=\"0.11376376786282269\" style=\"background-color:rgba(255, 0, 0, 0.11376376786282269);\"> including</span><span title=\"0.2554161819143874\" style=\"background-color:rgba(255, 0, 0, 0.2554161819143874);\"> Nova</span><span title=\"0.271139355137506\" style=\"background-color:rgba(255, 0, 0, 0.271139355137506);\"> Scotia</span><span title=\"0.026899620417755787\" style=\"background-color:rgba(255, 0, 0, 0.026899620417755787);\"> .</span>"
            ],
            "text/plain": [
              "<IPython.core.display.HTML object>"
            ]
          },
          "metadata": {
            "tags": []
          }
        },
        {
          "output_type": "stream",
          "text": [
            "\n"
          ],
          "name": "stdout"
        },
        {
          "output_type": "display_data",
          "data": {
            "text/html": [
              "<span title=\"0.058948649937275104\" style=\"background-color:rgba(255, 0, 0, 0.058948649937275104);\"> The</span><span title=\"0.07159947285421508\" style=\"background-color:rgba(255, 0, 0, 0.07159947285421508);\"> warfare</span><span title=\"0.01468076133921869\" style=\"background-color:rgba(255, 0, 0, 0.01468076133921869);\"> was</span><span title=\"0.022584472282578524\" style=\"background-color:rgba(255, 0, 0, 0.022584472282578524);\"> definitively</span><span title=\"0.02304437134556759\" style=\"background-color:rgba(255, 0, 0, 0.02304437134556759);\"> quelled</span><span title=\"0.02612142162472978\" style=\"background-color:rgba(255, 0, 0, 0.02612142162472978);\"> in</span><span title=\"0.5523372372704609\" style=\"background-color:rgba(255, 0, 0, 0.5523372372704609);text-decoration: underline\"> 1598</span><span title=\"0.07625267566291097\" style=\"background-color:rgba(255, 0, 0, 0.07625267566291097);\"> ,</span><span title=\"0.08737866463329216\" style=\"background-color:rgba(255, 0, 0, 0.08737866463329216);\"> when</span><span title=\"0.24479720922198858\" style=\"background-color:rgba(255, 0, 0, 0.24479720922198858);text-decoration: underline\"> Henry</span><span title=\"0.19425214220816603\" style=\"background-color:rgba(255, 0, 0, 0.19425214220816603);text-decoration: underline\"> of</span><span title=\"0.29969390895482906\" style=\"background-color:rgba(255, 0, 0, 0.29969390895482906);text-decoration: underline\"> Navarre</span><span title=\"0.07313583030176596\" style=\"background-color:rgba(255, 0, 0, 0.07313583030176596);\"> ,</span><span title=\"0.0647618022254039\" style=\"background-color:rgba(255, 0, 0, 0.0647618022254039);\"> having</span><span title=\"0.060953363876780055\" style=\"background-color:rgba(255, 0, 0, 0.060953363876780055);\"> succeeded</span><span title=\"0.05613764483575636\" style=\"background-color:rgba(255, 0, 0, 0.05613764483575636);\"> to</span><span title=\"0.07445277456180863\" style=\"background-color:rgba(255, 0, 0, 0.07445277456180863);\"> the</span><span title=\"0.13836911454651468\" style=\"background-color:rgba(255, 0, 0, 0.13836911454651468);\"> French</span><span title=\"0.11847310254708521\" style=\"background-color:rgba(255, 0, 0, 0.11847310254708521);\"> throne</span><span title=\"0.07746402983713188\" style=\"background-color:rgba(255, 0, 0, 0.07746402983713188);\"> as</span><span title=\"0.2911097023327879\" style=\"background-color:rgba(255, 0, 0, 0.2911097023327879);\"> Henry</span><span title=\"0.2589252742769887\" style=\"background-color:rgba(255, 0, 0, 0.2589252742769887);\"> IV</span><span title=\"0.10882999963887499\" style=\"background-color:rgba(255, 0, 0, 0.10882999963887499);\"> ,</span><span title=\"0.10087336115999093\" style=\"background-color:rgba(255, 0, 0, 0.10087336115999093);\"> and</span><span title=\"0.10158989550563419\" style=\"background-color:rgba(255, 0, 0, 0.10158989550563419);\"> having</span><span title=\"0.09966874190528563\" style=\"background-color:rgba(255, 0, 0, 0.09966874190528563);\"> recanted</span><span title=\"0.1894520302452634\" style=\"background-color:rgba(255, 0, 0, 0.1894520302452634);text-decoration: underline\"> Protestantism</span><span title=\"0.08996502527751118\" style=\"background-color:rgba(255, 0, 0, 0.08996502527751118);\"> in</span><span title=\"0.13618604429318548\" style=\"background-color:rgba(255, 0, 0, 0.13618604429318548);\"> favour</span><span title=\"0.10424363172887813\" style=\"background-color:rgba(255, 0, 0, 0.10424363172887813);\"> of</span><span title=\"0.25257819774142615\" style=\"background-color:rgba(255, 0, 0, 0.25257819774142615);\"> Roman</span><span title=\"0.23611530252607624\" style=\"background-color:rgba(255, 0, 0, 0.23611530252607624);\"> Catholicism</span><span title=\"0.08058106708873357\" style=\"background-color:rgba(255, 0, 0, 0.08058106708873357);\"> ,</span><span title=\"0.08660878101140052\" style=\"background-color:rgba(255, 0, 0, 0.08660878101140052);\"> issued</span><span title=\"0.20787824936015276\" style=\"background-color:rgba(255, 0, 0, 0.20787824936015276);\"> the</span><span title=\"0.3225571678631124\" style=\"background-color:rgba(255, 0, 0, 0.3225571678631124);\"> Edict</span><span title=\"0.28267288289240133\" style=\"background-color:rgba(255, 0, 0, 0.28267288289240133);\"> of</span><span title=\"0.33792492685081243\" style=\"background-color:rgba(255, 0, 0, 0.33792492685081243);\"> Nantes</span><span title=\"0.029112828643978562\" style=\"background-color:rgba(255, 0, 0, 0.029112828643978562);\"> .</span>"
            ],
            "text/plain": [
              "<IPython.core.display.HTML object>"
            ]
          },
          "metadata": {
            "tags": []
          }
        },
        {
          "output_type": "stream",
          "text": [
            "\n"
          ],
          "name": "stdout"
        },
        {
          "output_type": "display_data",
          "data": {
            "text/html": [
              "<span title=\"0.40380664032702884\" style=\"background-color:rgba(255, 0, 0, 0.40380664032702884);text-decoration: underline\"> Paul</span><span title=\"0.3553674317994978\" style=\"background-color:rgba(255, 0, 0, 0.3553674317994978);text-decoration: underline\"> Revere</span><span title=\"0.040523109637768534\" style=\"background-color:rgba(255, 0, 0, 0.040523109637768534);\"> was</span><span title=\"0.037956851642572745\" style=\"background-color:rgba(255, 0, 0, 0.037956851642572745);\"> descended</span><span title=\"0.04662063719535792\" style=\"background-color:rgba(255, 0, 0, 0.04662063719535792);\"> from</span><span title=\"0.3201746675365216\" style=\"background-color:rgba(255, 0, 0, 0.3201746675365216);\"> Huguenot</span><span title=\"0.2225269210717527\" style=\"background-color:rgba(255, 0, 0, 0.2225269210717527);\"> refugees</span><span title=\"0.028597151061384482\" style=\"background-color:rgba(255, 0, 0, 0.028597151061384482);\"> ,</span><span title=\"0.01627661340896596\" style=\"background-color:rgba(255, 0, 0, 0.01627661340896596);\"> as</span><span title=\"0.03247161409300264\" style=\"background-color:rgba(255, 0, 0, 0.03247161409300264);\"> was</span><span title=\"0.5978191422979889\" style=\"background-color:rgba(255, 0, 0, 0.5978191422979889);text-decoration: underline\"> Henry</span><span title=\"0.5585668132062018\" style=\"background-color:rgba(255, 0, 0, 0.5585668132062018);text-decoration: underline\"> Laurens</span><span title=\"0.10061612659058757\" style=\"background-color:rgba(255, 0, 0, 0.10061612659058757);\"> ,</span><span title=\"0.0781300202951762\" style=\"background-color:rgba(255, 0, 0, 0.0781300202951762);\"> who</span><span title=\"0.07337789867468415\" style=\"background-color:rgba(255, 0, 0, 0.07337789867468415);\"> signed</span><span title=\"0.1452735569649766\" style=\"background-color:rgba(255, 0, 0, 0.1452735569649766);\"> the</span><span title=\"0.21923238336305098\" style=\"background-color:rgba(255, 0, 0, 0.21923238336305098);\"> Articles</span><span title=\"0.1660287197694032\" style=\"background-color:rgba(255, 0, 0, 0.1660287197694032);\"> of</span><span title=\"0.20844318399571943\" style=\"background-color:rgba(255, 0, 0, 0.20844318399571943);\"> Confederation</span><span title=\"0.08050085306982896\" style=\"background-color:rgba(255, 0, 0, 0.08050085306982896);\"> for</span><span title=\"0.27243248077293186\" style=\"background-color:rgba(255, 0, 0, 0.27243248077293186);\"> South</span><span title=\"0.2568922044781808\" style=\"background-color:rgba(255, 0, 0, 0.2568922044781808);\"> Carolina</span><span title=\"0.06921404771596884\" style=\"background-color:rgba(255, 0, 0, 0.06921404771596884);\"> ;</span><span title=\"0.3382981272071272\" style=\"background-color:rgba(255, 0, 0, 0.3382981272071272);\"> Jack</span><span title=\"0.32598749243962516\" style=\"background-color:rgba(255, 0, 0, 0.32598749243962516);\"> Jouett</span><span title=\"0.04824481702219853\" style=\"background-color:rgba(255, 0, 0, 0.04824481702219853);\"> ,</span><span title=\"0.033350562306049034\" style=\"background-color:rgba(255, 0, 0, 0.033350562306049034);\"> who</span><span title=\"0.024847252504612616\" style=\"background-color:rgba(255, 0, 0, 0.024847252504612616);\"> made</span><span title=\"0.04300418301004651\" style=\"background-color:rgba(255, 0, 0, 0.04300418301004651);\"> the</span><span title=\"0.061703387152855574\" style=\"background-color:rgba(255, 0, 0, 0.061703387152855574);\"> ride</span><span title=\"0.03385843214457978\" style=\"background-color:rgba(255, 0, 0, 0.03385843214457978);\"> from</span><span title=\"0.2702041753770642\" style=\"background-color:rgba(255, 0, 0, 0.2702041753770642);\"> Cuckoo</span><span title=\"0.2296897997945649\" style=\"background-color:rgba(255, 0, 0, 0.2296897997945649);\"> Tavern</span><span title=\"0.08358003103441525\" style=\"background-color:rgba(255, 0, 0, 0.08358003103441525);\"> to</span><span title=\"0.10317272967145848\" style=\"background-color:rgba(255, 0, 0, 0.10317272967145848);\"> warn</span><span title=\"0.35284805940968184\" style=\"background-color:rgba(255, 0, 0, 0.35284805940968184);\"> Thomas</span><span title=\"0.32060217920271133\" style=\"background-color:rgba(255, 0, 0, 0.32060217920271133);\"> Jefferson</span><span title=\"0.14758550145237198\" style=\"background-color:rgba(255, 0, 0, 0.14758550145237198);\"> and</span><span title=\"0.11937969953731394\" style=\"background-color:rgba(255, 0, 0, 0.11937969953731394);\"> others</span><span title=\"0.0624467499041801\" style=\"background-color:rgba(255, 0, 0, 0.0624467499041801);\"> that</span><span title=\"0.31240670052914876\" style=\"background-color:rgba(255, 0, 0, 0.31240670052914876);\"> Tarleton</span><span title=\"0.1772119761066704\" style=\"background-color:rgba(255, 0, 0, 0.1772119761066704);\"> and</span><span title=\"0.16551904154759783\" style=\"background-color:rgba(255, 0, 0, 0.16551904154759783);\"> his</span><span title=\"0.14840152603444004\" style=\"background-color:rgba(255, 0, 0, 0.14840152603444004);\"> men</span><span title=\"0.0707887487411699\" style=\"background-color:rgba(255, 0, 0, 0.0707887487411699);\"> were</span><span title=\"0.06959423434938317\" style=\"background-color:rgba(255, 0, 0, 0.06959423434938317);\"> on</span><span title=\"0.08282535385076252\" style=\"background-color:rgba(255, 0, 0, 0.08282535385076252);\"> their</span><span title=\"0.08688364707087139\" style=\"background-color:rgba(255, 0, 0, 0.08688364707087139);\"> way</span><span title=\"0.048097051249700526\" style=\"background-color:rgba(255, 0, 0, 0.048097051249700526);\"> to</span><span title=\"0.05456990400640668\" style=\"background-color:rgba(255, 0, 0, 0.05456990400640668);\"> arrest</span><span title=\"0.060190553292893446\" style=\"background-color:rgba(255, 0, 0, 0.060190553292893446);\"> him</span><span title=\"0.06200600728099187\" style=\"background-color:rgba(255, 0, 0, 0.06200600728099187);\"> for</span><span title=\"0.1030401135764149\" style=\"background-color:rgba(255, 0, 0, 0.1030401135764149);\"> crimes</span><span title=\"0.056296696150073114\" style=\"background-color:rgba(255, 0, 0, 0.056296696150073114);\"> against</span><span title=\"0.07983729962847302\" style=\"background-color:rgba(255, 0, 0, 0.07983729962847302);\"> the</span><span title=\"0.10925016079151698\" style=\"background-color:rgba(255, 0, 0, 0.10925016079151698);\"> king</span><span title=\"0.05752793816197195\" style=\"background-color:rgba(255, 0, 0, 0.05752793816197195);\"> ;</span><span title=\"0.2059135568426484\" style=\"background-color:rgba(255, 0, 0, 0.2059135568426484);\"> Francis</span><span title=\"0.20238167730480225\" style=\"background-color:rgba(255, 0, 0, 0.20238167730480225);\"> Marion</span><span title=\"0.06069930744346746\" style=\"background-color:rgba(255, 0, 0, 0.06069930744346746);\"> ,</span><span title=\"0.05892855574531646\" style=\"background-color:rgba(255, 0, 0, 0.05892855574531646);\"> and</span><span title=\"0.06762403634735911\" style=\"background-color:rgba(255, 0, 0, 0.06762403634735911);\"> a</span><span title=\"0.0794394595167471\" style=\"background-color:rgba(255, 0, 0, 0.0794394595167471);\"> number</span><span title=\"0.05811928201879562\" style=\"background-color:rgba(255, 0, 0, 0.05811928201879562);\"> of</span><span title=\"0.07679510661538456\" style=\"background-color:rgba(255, 0, 0, 0.07679510661538456);\"> other</span><span title=\"0.07999607642860976\" style=\"background-color:rgba(255, 0, 0, 0.07999607642860976);\"> leaders</span><span title=\"0.05221843710050572\" style=\"background-color:rgba(255, 0, 0, 0.05221843710050572);\"> of</span><span title=\"0.11326045202790791\" style=\"background-color:rgba(255, 0, 0, 0.11326045202790791);\"> the</span><span title=\"0.23208750835932915\" style=\"background-color:rgba(255, 0, 0, 0.23208750835932915);\"> American</span><span title=\"0.22174675537692076\" style=\"background-color:rgba(255, 0, 0, 0.22174675537692076);\"> Revolution</span><span title=\"0.1449705475495317\" style=\"background-color:rgba(255, 0, 0, 0.1449705475495317);\"> and</span><span title=\"0.15991289725953603\" style=\"background-color:rgba(255, 0, 0, 0.15991289725953603);\"> later</span><span title=\"0.16193257227342145\" style=\"background-color:rgba(255, 0, 0, 0.16193257227342145);\"> statesmen</span><span title=\"0.036977805849809635\" style=\"background-color:rgba(255, 0, 0, 0.036977805849809635);\"> .</span>"
            ],
            "text/plain": [
              "<IPython.core.display.HTML object>"
            ]
          },
          "metadata": {
            "tags": []
          }
        },
        {
          "output_type": "stream",
          "text": [
            "\n"
          ],
          "name": "stdout"
        },
        {
          "output_type": "display_data",
          "data": {
            "text/html": [
              "<span title=\"0.022401742138988094\" style=\"background-color:rgba(255, 0, 0, 0.022401742138988094);\"> In</span><span title=\"0.29240422755658313\" style=\"background-color:rgba(255, 0, 0, 0.29240422755658313);text-decoration: underline\"> 1565</span><span title=\"0.04440320681289953\" style=\"background-color:rgba(255, 0, 0, 0.04440320681289953);\"> the</span><span title=\"0.13489029750270248\" style=\"background-color:rgba(255, 0, 0, 0.13489029750270248);\"> Spanish</span><span title=\"0.023937953580989407\" style=\"background-color:rgba(255, 0, 0, 0.023937953580989407);\"> decided</span><span title=\"0.05387401934741767\" style=\"background-color:rgba(255, 0, 0, 0.05387401934741767);\"> to</span><span title=\"0.08947374172195373\" style=\"background-color:rgba(255, 0, 0, 0.08947374172195373);\"> enforce</span><span title=\"0.10970287804833687\" style=\"background-color:rgba(255, 0, 0, 0.10970287804833687);\"> their</span><span title=\"0.13217858087987822\" style=\"background-color:rgba(255, 0, 0, 0.13217858087987822);\"> claim</span><span title=\"0.09657253527287406\" style=\"background-color:rgba(255, 0, 0, 0.09657253527287406);\"> to</span><span title=\"0.4331386534829078\" style=\"background-color:rgba(255, 0, 0, 0.4331386534829078);\"> La</span><span title=\"0.4202544685707872\" style=\"background-color:rgba(255, 0, 0, 0.4202544685707872);\"> Florida</span><span title=\"0.05684263970066356\" style=\"background-color:rgba(255, 0, 0, 0.05684263970066356);\"> ,</span><span title=\"0.044510185968056074\" style=\"background-color:rgba(255, 0, 0, 0.044510185968056074);\"> and</span><span title=\"0.052409697152034695\" style=\"background-color:rgba(255, 0, 0, 0.052409697152034695);\"> sent</span><span title=\"0.6115180027754946\" style=\"background-color:rgba(255, 0, 0, 0.6115180027754946);text-decoration: underline\"> Pedro</span><span title=\"0.6149745539963223\" style=\"background-color:rgba(255, 0, 0, 0.6149745539963223);text-decoration: underline\"> Menéndez</span><span title=\"0.5887163643274702\" style=\"background-color:rgba(255, 0, 0, 0.5887163643274702);text-decoration: underline\"> de</span><span title=\"0.5532905431993194\" style=\"background-color:rgba(255, 0, 0, 0.5532905431993194);text-decoration: underline\"> Avilés</span><span title=\"0.1265075027792891\" style=\"background-color:rgba(255, 0, 0, 0.1265075027792891);\"> ,</span><span title=\"0.10625382928903072\" style=\"background-color:rgba(255, 0, 0, 0.10625382928903072);\"> who</span><span title=\"0.101089212227366\" style=\"background-color:rgba(255, 0, 0, 0.101089212227366);\"> established</span><span title=\"0.1294379895154312\" style=\"background-color:rgba(255, 0, 0, 0.1294379895154312);\"> the</span><span title=\"0.16410714310378482\" style=\"background-color:rgba(255, 0, 0, 0.16410714310378482);\"> settlement</span><span title=\"0.13262476883268393\" style=\"background-color:rgba(255, 0, 0, 0.13262476883268393);\"> of</span><span title=\"0.2811530993710569\" style=\"background-color:rgba(255, 0, 0, 0.2811530993710569);\"> St.</span><span title=\"0.2764095564135913\" style=\"background-color:rgba(255, 0, 0, 0.2764095564135913);\"> Augustine</span><span title=\"0.16146034741459492\" style=\"background-color:rgba(255, 0, 0, 0.16146034741459492);\"> near</span><span title=\"0.33615406644368695\" style=\"background-color:rgba(255, 0, 0, 0.33615406644368695);\"> Fort</span><span title=\"0.3336952213206159\" style=\"background-color:rgba(255, 0, 0, 0.3336952213206159);\"> Caroline</span><span title=\"0.03440151895696231\" style=\"background-color:rgba(255, 0, 0, 0.03440151895696231);\"> .</span>"
            ],
            "text/plain": [
              "<IPython.core.display.HTML object>"
            ]
          },
          "metadata": {
            "tags": []
          }
        },
        {
          "output_type": "stream",
          "text": [
            "\n"
          ],
          "name": "stdout"
        },
        {
          "output_type": "display_data",
          "data": {
            "text/html": [
              "<span title=\"0.6256784338609487\" style=\"background-color:rgba(255, 0, 0, 0.6256784338609487);text-decoration: underline\"> Andrew</span><span title=\"0.602414398470119\" style=\"background-color:rgba(255, 0, 0, 0.602414398470119);text-decoration: underline\"> Lortie</span><span title=\"0.10846707024192721\" style=\"background-color:rgba(255, 0, 0, 0.10846707024192721);\"> (</span><span title=\"0.11341009822809295\" style=\"background-color:rgba(255, 0, 0, 0.11341009822809295);\"> born</span><span title=\"0.41437348184001\" style=\"background-color:rgba(255, 0, 0, 0.41437348184001);\"> André</span><span title=\"0.4004767219823497\" style=\"background-color:rgba(255, 0, 0, 0.4004767219823497);\"> Lortie</span><span title=\"0.12210727667097993\" style=\"background-color:rgba(255, 0, 0, 0.12210727667097993);\"> )</span><span title=\"0.06564948529525293\" style=\"background-color:rgba(255, 0, 0, 0.06564948529525293);\"> ,</span><span title=\"0.07692004889950417\" style=\"background-color:rgba(255, 0, 0, 0.07692004889950417);\"> a</span><span title=\"0.13864928214574682\" style=\"background-color:rgba(255, 0, 0, 0.13864928214574682);\"> leading</span><span title=\"0.3381346442904648\" style=\"background-color:rgba(255, 0, 0, 0.3381346442904648);\"> Huguenot</span><span title=\"0.30946695055448387\" style=\"background-color:rgba(255, 0, 0, 0.30946695055448387);\"> theologian</span><span title=\"0.26446557602054854\" style=\"background-color:rgba(255, 0, 0, 0.26446557602054854);\"> and</span><span title=\"0.2594283765544278\" style=\"background-color:rgba(255, 0, 0, 0.2594283765544278);\"> writer</span><span title=\"0.1724272869581655\" style=\"background-color:rgba(255, 0, 0, 0.1724272869581655);\"> who</span><span title=\"0.14860360592806618\" style=\"background-color:rgba(255, 0, 0, 0.14860360592806618);\"> led</span><span title=\"0.1491765518794837\" style=\"background-color:rgba(255, 0, 0, 0.1491765518794837);\"> the</span><span title=\"0.1766747353217879\" style=\"background-color:rgba(255, 0, 0, 0.1766747353217879);\"> exiled</span><span title=\"0.17802684512910244\" style=\"background-color:rgba(255, 0, 0, 0.17802684512910244);\"> community</span><span title=\"0.11075626587662314\" style=\"background-color:rgba(255, 0, 0, 0.11075626587662314);\"> in</span><span title=\"0.2190908323466398\" style=\"background-color:rgba(255, 0, 0, 0.2190908323466398);\"> London</span><span title=\"0.020285634951857187\" style=\"background-color:rgba(255, 0, 0, 0.020285634951857187);\"> ,</span><span title=\"0.01657798696009398\" style=\"background-color:rgba(255, 0, 0, 0.01657798696009398);\"> became</span><span title=\"0.0719141810139768\" style=\"background-color:rgba(255, 0, 0, 0.0719141810139768);\"> known</span><span title=\"0.07660430564856138\" style=\"background-color:rgba(255, 0, 0, 0.07660430564856138);\"> for</span><span title=\"0.17464301812745597\" style=\"background-color:rgba(255, 0, 0, 0.17464301812745597);\"> articulating</span><span title=\"0.2136135547520731\" style=\"background-color:rgba(255, 0, 0, 0.2136135547520731);\"> their</span><span title=\"0.25451681735293896\" style=\"background-color:rgba(255, 0, 0, 0.25451681735293896);\"> criticism</span><span title=\"0.2145700071602748\" style=\"background-color:rgba(255, 0, 0, 0.2145700071602748);\"> of</span><span title=\"0.24821187398953032\" style=\"background-color:rgba(255, 0, 0, 0.24821187398953032);text-decoration: underline\"> the</span><span title=\"0.3379435925034113\" style=\"background-color:rgba(255, 0, 0, 0.3379435925034113);text-decoration: underline\"> Pope</span><span title=\"0.25540648162384644\" style=\"background-color:rgba(255, 0, 0, 0.25540648162384644);text-decoration: underline\"> and</span><span title=\"0.2631539290924721\" style=\"background-color:rgba(255, 0, 0, 0.2631539290924721);text-decoration: underline\"> the</span><span title=\"0.2812067711382525\" style=\"background-color:rgba(255, 0, 0, 0.2812067711382525);text-decoration: underline\"> doctrine</span><span title=\"0.2348649284945776\" style=\"background-color:rgba(255, 0, 0, 0.2348649284945776);text-decoration: underline\"> of</span><span title=\"0.2551567183980853\" style=\"background-color:rgba(255, 0, 0, 0.2551567183980853);text-decoration: underline\"> transubstantiation</span><span title=\"0.14799880362696544\" style=\"background-color:rgba(255, 0, 0, 0.14799880362696544);text-decoration: underline\"> during</span><span title=\"0.15821507416985878\" style=\"background-color:rgba(255, 0, 0, 0.15821507416985878);text-decoration: underline\"> Mass.</span>"
            ],
            "text/plain": [
              "<IPython.core.display.HTML object>"
            ]
          },
          "metadata": {
            "tags": []
          }
        },
        {
          "output_type": "stream",
          "text": [
            "\n"
          ],
          "name": "stdout"
        },
        {
          "output_type": "display_data",
          "data": {
            "text/html": [
              "<span title=\"0.03989478088553999\" style=\"background-color:rgba(255, 0, 0, 0.03989478088553999);\"> Beyond</span><span title=\"0.19217919566553301\" style=\"background-color:rgba(255, 0, 0, 0.19217919566553301);\"> Paris</span><span title=\"0.014002205285805607\" style=\"background-color:rgba(255, 0, 0, 0.014002205285805607);\"> ,</span><span title=\"0.04358045800365978\" style=\"background-color:rgba(255, 0, 0, 0.04358045800365978);\"> the</span><span title=\"0.07333754306855977\" style=\"background-color:rgba(255, 0, 0, 0.07333754306855977);\"> killings</span><span title=\"0.020179264593244577\" style=\"background-color:rgba(255, 0, 0, 0.020179264593244577);\"> continued</span><span title=\"0.04177133338235372\" style=\"background-color:rgba(255, 0, 0, 0.04177133338235372);\"> until</span><span title=\"0.6113348519856774\" style=\"background-color:rgba(255, 0, 0, 0.6113348519856774);\"> 3</span><span title=\"0.5666132521141614\" style=\"background-color:rgba(255, 0, 0, 0.5666132521141614);\"> October</span><span title=\"0.06313156000926283\" style=\"background-color:rgba(255, 0, 0, 0.06313156000926283);\"> .</span>"
            ],
            "text/plain": [
              "<IPython.core.display.HTML object>"
            ]
          },
          "metadata": {
            "tags": []
          }
        },
        {
          "output_type": "stream",
          "text": [
            "\n"
          ],
          "name": "stdout"
        },
        {
          "output_type": "display_data",
          "data": {
            "text/html": [
              "<span title=\"0.05258804033605691\" style=\"background-color:rgba(255, 0, 0, 0.05258804033605691);\"> A</span><span title=\"0.1006819393520478\" style=\"background-color:rgba(255, 0, 0, 0.1006819393520478);\"> rudimentary</span><span title=\"0.10531155921770204\" style=\"background-color:rgba(255, 0, 0, 0.10531155921770204);\"> steam</span><span title=\"0.10484504092942337\" style=\"background-color:rgba(255, 0, 0, 0.10484504092942337);\"> turbine</span><span title=\"0.09242985320270738\" style=\"background-color:rgba(255, 0, 0, 0.09242985320270738);\"> device</span><span title=\"0.02093648386690754\" style=\"background-color:rgba(255, 0, 0, 0.02093648386690754);\"> was</span><span title=\"0.02530721123464331\" style=\"background-color:rgba(255, 0, 0, 0.02530721123464331);\"> described</span><span title=\"0.05141485788993583\" style=\"background-color:rgba(255, 0, 0, 0.05141485788993583);\"> by</span><span title=\"0.6197366193585319\" style=\"background-color:rgba(255, 0, 0, 0.6197366193585319);\"> Taqi</span><span title=\"0.5885049707922314\" style=\"background-color:rgba(255, 0, 0, 0.5885049707922314);\"> al</span><span title=\"0.5168284641410309\" style=\"background-color:rgba(255, 0, 0, 0.5168284641410309);\"> -</span><span title=\"0.5027420513938622\" style=\"background-color:rgba(255, 0, 0, 0.5027420513938622);\"> Din</span><span title=\"0.0645594880073995\" style=\"background-color:rgba(255, 0, 0, 0.0645594880073995);\"> in</span><span title=\"0.38317351363370344\" style=\"background-color:rgba(255, 0, 0, 0.38317351363370344);\"> 1551</span><span title=\"0.0704131460216626\" style=\"background-color:rgba(255, 0, 0, 0.0704131460216626);\"> and</span><span title=\"0.07597692148936024\" style=\"background-color:rgba(255, 0, 0, 0.07597692148936024);\"> by</span><span title=\"0.493689482401363\" style=\"background-color:rgba(255, 0, 0, 0.493689482401363);text-decoration: underline\"> Giovanni</span><span title=\"0.4370537409525378\" style=\"background-color:rgba(255, 0, 0, 0.4370537409525378);text-decoration: underline\"> Branca</span><span title=\"0.1116776806986202\" style=\"background-color:rgba(255, 0, 0, 0.1116776806986202);\"> in</span><span title=\"0.45712967652451325\" style=\"background-color:rgba(255, 0, 0, 0.45712967652451325);\"> 1629</span><span title=\"0.03511013251998589\" style=\"background-color:rgba(255, 0, 0, 0.03511013251998589);\"> .</span>"
            ],
            "text/plain": [
              "<IPython.core.display.HTML object>"
            ]
          },
          "metadata": {
            "tags": []
          }
        },
        {
          "output_type": "stream",
          "text": [
            "\n"
          ],
          "name": "stdout"
        },
        {
          "output_type": "display_data",
          "data": {
            "text/html": [
              "<span title=\"0.17287649079059741\" style=\"background-color:rgba(255, 0, 0, 0.17287649079059741);\"> Early</span><span title=\"0.14843428833171957\" style=\"background-color:rgba(255, 0, 0, 0.14843428833171957);\"> versions</span><span title=\"0.027729410674376995\" style=\"background-color:rgba(255, 0, 0, 0.027729410674376995);\"> were</span><span title=\"0.035169591325484945\" style=\"background-color:rgba(255, 0, 0, 0.035169591325484945);\"> in</span><span title=\"0.09953120524817026\" style=\"background-color:rgba(255, 0, 0, 0.09953120524817026);\"> use</span><span title=\"0.024008424644563226\" style=\"background-color:rgba(255, 0, 0, 0.024008424644563226);\"> by</span><span title=\"0.5535217596376629\" style=\"background-color:rgba(255, 0, 0, 0.5535217596376629);text-decoration: underline\"> 1851</span><span title=\"0.03351686095269502\" style=\"background-color:rgba(255, 0, 0, 0.03351686095269502);\"> ,</span><span title=\"0.02779748043081978\" style=\"background-color:rgba(255, 0, 0, 0.02779748043081978);\"> but</span><span title=\"0.04699545590110163\" style=\"background-color:rgba(255, 0, 0, 0.04699545590110163);\"> the</span><span title=\"0.0604968640122949\" style=\"background-color:rgba(255, 0, 0, 0.0604968640122949);\"> most</span><span title=\"0.07987758227707506\" style=\"background-color:rgba(255, 0, 0, 0.07987758227707506);\"> successful</span><span title=\"0.07190603244535457\" style=\"background-color:rgba(255, 0, 0, 0.07190603244535457);\"> indicator</span><span title=\"0.03168068402012506\" style=\"background-color:rgba(255, 0, 0, 0.03168068402012506);\"> was</span><span title=\"0.040520381044126905\" style=\"background-color:rgba(255, 0, 0, 0.040520381044126905);\"> developed</span><span title=\"0.03925193913346679\" style=\"background-color:rgba(255, 0, 0, 0.03925193913346679);\"> for</span><span title=\"0.07429529249717699\" style=\"background-color:rgba(255, 0, 0, 0.07429529249717699);\"> the</span><span title=\"0.13171501524820292\" style=\"background-color:rgba(255, 0, 0, 0.13171501524820292);\"> high</span><span title=\"0.14985846260166627\" style=\"background-color:rgba(255, 0, 0, 0.14985846260166627);\"> speed</span><span title=\"0.16558277063979635\" style=\"background-color:rgba(255, 0, 0, 0.16558277063979635);\"> engine</span><span title=\"0.16498651799273925\" style=\"background-color:rgba(255, 0, 0, 0.16498651799273925);\"> inventor</span><span title=\"0.11626681592744442\" style=\"background-color:rgba(255, 0, 0, 0.11626681592744442);\"> and</span><span title=\"0.1346428276394984\" style=\"background-color:rgba(255, 0, 0, 0.1346428276394984);\"> manufacturer</span><span title=\"0.20823041556444127\" style=\"background-color:rgba(255, 0, 0, 0.20823041556444127);text-decoration: underline\"> Charles</span><span title=\"0.18679876508169668\" style=\"background-color:rgba(255, 0, 0, 0.18679876508169668);text-decoration: underline\"> Porter</span><span title=\"0.048895615915453106\" style=\"background-color:rgba(255, 0, 0, 0.048895615915453106);\"> by</span><span title=\"0.47206266621418136\" style=\"background-color:rgba(255, 0, 0, 0.47206266621418136);text-decoration: underline\"> Charles</span><span title=\"0.4046420171858428\" style=\"background-color:rgba(255, 0, 0, 0.4046420171858428);text-decoration: underline\"> Richard</span><span title=\"0.14941977861023042\" style=\"background-color:rgba(255, 0, 0, 0.14941977861023042);\"> and</span><span title=\"0.12735904973200607\" style=\"background-color:rgba(255, 0, 0, 0.12735904973200607);\"> exhibited</span><span title=\"0.10028408869662415\" style=\"background-color:rgba(255, 0, 0, 0.10028408869662415);\"> at</span><span title=\"0.3635366438410911\" style=\"background-color:rgba(255, 0, 0, 0.3635366438410911);text-decoration: underline\"> London</span><span title=\"0.3271659276569161\" style=\"background-color:rgba(255, 0, 0, 0.3271659276569161);text-decoration: underline\"> Exhibition</span><span title=\"0.0677568301242674\" style=\"background-color:rgba(255, 0, 0, 0.0677568301242674);\"> in</span><span title=\"0.46546343170534976\" style=\"background-color:rgba(255, 0, 0, 0.46546343170534976);\"> 1862</span><span title=\"0.03166343592020699\" style=\"background-color:rgba(255, 0, 0, 0.03166343592020699);\"> .</span>"
            ],
            "text/plain": [
              "<IPython.core.display.HTML object>"
            ]
          },
          "metadata": {
            "tags": []
          }
        },
        {
          "output_type": "stream",
          "text": [
            "\n"
          ],
          "name": "stdout"
        },
        {
          "output_type": "display_data",
          "data": {
            "text/html": [
              "<span title=\"0.039063847404237684\" style=\"background-color:rgba(255, 0, 0, 0.039063847404237684);\"> It</span><span title=\"0.016852892353150645\" style=\"background-color:rgba(255, 0, 0, 0.016852892353150645);\"> is</span><span title=\"0.026108622236001605\" style=\"background-color:rgba(255, 0, 0, 0.026108622236001605);\"> named</span><span title=\"0.05027228616088859\" style=\"background-color:rgba(255, 0, 0, 0.05027228616088859);\"> after</span><span title=\"0.6659336887407812\" style=\"background-color:rgba(255, 0, 0, 0.6659336887407812);\"> William</span><span title=\"0.6449617475281424\" style=\"background-color:rgba(255, 0, 0, 0.6449617475281424);\"> John</span><span title=\"0.6288428509464328\" style=\"background-color:rgba(255, 0, 0, 0.6288428509464328);\"> Macquorn</span><span title=\"0.5980686357218155\" style=\"background-color:rgba(255, 0, 0, 0.5980686357218155);\"> Rankine</span><span title=\"0.15247026223659468\" style=\"background-color:rgba(255, 0, 0, 0.15247026223659468);\"> ,</span><span title=\"0.14823836854877498\" style=\"background-color:rgba(255, 0, 0, 0.14823836854877498);\"> a</span><span title=\"0.24756737057894013\" style=\"background-color:rgba(255, 0, 0, 0.24756737057894013);text-decoration: underline\"> Scottish</span><span title=\"0.22636386253167462\" style=\"background-color:rgba(255, 0, 0, 0.22636386253167462);\"> polymath</span><span title=\"0.05877890806714094\" style=\"background-color:rgba(255, 0, 0, 0.05877890806714094);\"> .</span>"
            ],
            "text/plain": [
              "<IPython.core.display.HTML object>"
            ]
          },
          "metadata": {
            "tags": []
          }
        },
        {
          "output_type": "stream",
          "text": [
            "\n"
          ],
          "name": "stdout"
        },
        {
          "output_type": "display_data",
          "data": {
            "text/html": [
              "<span title=\"0.19891196756224627\" style=\"background-color:rgba(255, 0, 0, 0.19891196756224627);\"> Watt</span><span title=\"0.14326778645467048\" style=\"background-color:rgba(255, 0, 0, 0.14326778645467048);\"> 's</span><span title=\"0.17366802047414262\" style=\"background-color:rgba(255, 0, 0, 0.17366802047414262);\"> original</span><span title=\"0.18458584863740504\" style=\"background-color:rgba(255, 0, 0, 0.18458584863740504);\"> low</span><span title=\"0.16313162164468822\" style=\"background-color:rgba(255, 0, 0, 0.16313162164468822);\"> -</span><span title=\"0.1827887992588143\" style=\"background-color:rgba(255, 0, 0, 0.1827887992588143);\"> pressure</span><span title=\"0.16361530294808574\" style=\"background-color:rgba(255, 0, 0, 0.16361530294808574);\"> designs</span><span title=\"0.03847817925880081\" style=\"background-color:rgba(255, 0, 0, 0.03847817925880081);\"> were</span><span title=\"0.08661243078245172\" style=\"background-color:rgba(255, 0, 0, 0.08661243078245172);\"> able</span><span title=\"0.08021695533437678\" style=\"background-color:rgba(255, 0, 0, 0.08021695533437678);\"> to</span><span title=\"0.09167026504137005\" style=\"background-color:rgba(255, 0, 0, 0.09167026504137005);\"> deliver</span><span title=\"0.11586974230971195\" style=\"background-color:rgba(255, 0, 0, 0.11586974230971195);\"> duty</span><span title=\"0.07645596869316204\" style=\"background-color:rgba(255, 0, 0, 0.07645596869316204);\"> as</span><span title=\"0.0896269925450773\" style=\"background-color:rgba(255, 0, 0, 0.0896269925450773);\"> high</span><span title=\"0.07164715591154056\" style=\"background-color:rgba(255, 0, 0, 0.07164715591154056);\"> as</span><span title=\"0.6452889895106346\" style=\"background-color:rgba(255, 0, 0, 0.6452889895106346);\"> 25</span><span title=\"0.6062700632680236\" style=\"background-color:rgba(255, 0, 0, 0.6062700632680236);\"> million</span><span title=\"0.0495076963977829\" style=\"background-color:rgba(255, 0, 0, 0.0495076963977829);\"> ,</span><span title=\"0.040179078881076476\" style=\"background-color:rgba(255, 0, 0, 0.040179078881076476);\"> but</span><span title=\"0.040292619681510614\" style=\"background-color:rgba(255, 0, 0, 0.040292619681510614);\"> averaged</span><span title=\"0.07069284039429835\" style=\"background-color:rgba(255, 0, 0, 0.07069284039429835);\"> about</span><span title=\"0.45213543660500544\" style=\"background-color:rgba(255, 0, 0, 0.45213543660500544);text-decoration: underline\"> 17</span><span title=\"0.028333772587359758\" style=\"background-color:rgba(255, 0, 0, 0.028333772587359758);text-decoration: underline\"> .</span>"
            ],
            "text/plain": [
              "<IPython.core.display.HTML object>"
            ]
          },
          "metadata": {
            "tags": []
          }
        },
        {
          "output_type": "stream",
          "text": [
            "\n"
          ],
          "name": "stdout"
        },
        {
          "output_type": "display_data",
          "data": {
            "text/html": [
              "<span title=\"0.2747675394387497\" style=\"background-color:rgba(255, 0, 0, 0.2747675394387497);\"> Early</span><span title=\"0.2849996538679759\" style=\"background-color:rgba(255, 0, 0, 0.2849996538679759);\"> Watt</span><span title=\"0.2419316069228803\" style=\"background-color:rgba(255, 0, 0, 0.2419316069228803);\"> engines</span><span title=\"0.13775705428602855\" style=\"background-color:rgba(255, 0, 0, 0.13775705428602855);\"> equipped</span><span title=\"0.12708007223971943\" style=\"background-color:rgba(255, 0, 0, 0.12708007223971943);\"> with</span><span title=\"0.2304793958363417\" style=\"background-color:rgba(255, 0, 0, 0.2304793958363417);\"> high</span><span title=\"0.19004705787337822\" style=\"background-color:rgba(255, 0, 0, 0.19004705787337822);\"> -</span><span title=\"0.20171065881430272\" style=\"background-color:rgba(255, 0, 0, 0.20171065881430272);\"> pressure</span><span title=\"0.17537773473821106\" style=\"background-color:rgba(255, 0, 0, 0.17537773473821106);\"> steam</span><span title=\"0.036064293088808486\" style=\"background-color:rgba(255, 0, 0, 0.036064293088808486);\"> improved</span><span title=\"0.0397826092193092\" style=\"background-color:rgba(255, 0, 0, 0.0397826092193092);\"> this</span><span title=\"0.04478893985184917\" style=\"background-color:rgba(255, 0, 0, 0.04478893985184917);\"> to</span><span title=\"0.7120418676442749\" style=\"background-color:rgba(255, 0, 0, 0.7120418676442749);\"> 65</span><span title=\"0.6731185229673108\" style=\"background-color:rgba(255, 0, 0, 0.6731185229673108);\"> million</span><span title=\"0.050844150653719423\" style=\"background-color:rgba(255, 0, 0, 0.050844150653719423);\"> .</span>"
            ],
            "text/plain": [
              "<IPython.core.display.HTML object>"
            ]
          },
          "metadata": {
            "tags": []
          }
        },
        {
          "output_type": "stream",
          "text": [
            "\n"
          ],
          "name": "stdout"
        },
        {
          "output_type": "display_data",
          "data": {
            "text/html": [
              "<span title=\"0.0961111461494669\" style=\"background-color:rgba(255, 0, 0, 0.0961111461494669);\"> Oxygen</span><span title=\"0.014071912941927403\" style=\"background-color:rgba(255, 0, 0, 0.014071912941927403);\"> was</span><span title=\"0.019623730277118383\" style=\"background-color:rgba(255, 0, 0, 0.019623730277118383);\"> discovered</span><span title=\"0.03192847990347641\" style=\"background-color:rgba(255, 0, 0, 0.03192847990347641);\"> independently</span><span title=\"0.05404532295114058\" style=\"background-color:rgba(255, 0, 0, 0.05404532295114058);\"> by</span><span title=\"0.6719030351528466\" style=\"background-color:rgba(255, 0, 0, 0.6719030351528466);\"> Carl</span><span title=\"0.6453055530668376\" style=\"background-color:rgba(255, 0, 0, 0.6453055530668376);\"> Wilhelm</span><span title=\"0.611993258566634\" style=\"background-color:rgba(255, 0, 0, 0.611993258566634);\"> Scheele</span><span title=\"0.08701230722303373\" style=\"background-color:rgba(255, 0, 0, 0.08701230722303373);\"> ,</span><span title=\"0.06566233397980005\" style=\"background-color:rgba(255, 0, 0, 0.06566233397980005);\"> in</span><span title=\"0.2770067940231636\" style=\"background-color:rgba(255, 0, 0, 0.2770067940231636);\"> Uppsala</span><span title=\"0.03183099964199612\" style=\"background-color:rgba(255, 0, 0, 0.03183099964199612);\"> ,</span><span title=\"0.030308717117042215\" style=\"background-color:rgba(255, 0, 0, 0.030308717117042215);\"> in</span><span title=\"0.45807018105648195\" style=\"background-color:rgba(255, 0, 0, 0.45807018105648195);text-decoration: underline\"> 1773</span><span title=\"0.22146786501941318\" style=\"background-color:rgba(255, 0, 0, 0.22146786501941318);text-decoration: underline\"> or</span><span title=\"0.21939068914649432\" style=\"background-color:rgba(255, 0, 0, 0.21939068914649432);text-decoration: underline\"> earlier</span><span title=\"0.10020831598300611\" style=\"background-color:rgba(255, 0, 0, 0.10020831598300611);\"> ,</span><span title=\"0.08587251968909793\" style=\"background-color:rgba(255, 0, 0, 0.08587251968909793);\"> and</span><span title=\"0.24667921006838386\" style=\"background-color:rgba(255, 0, 0, 0.24667921006838386);\"> Joseph</span><span title=\"0.21888804643938128\" style=\"background-color:rgba(255, 0, 0, 0.21888804643938128);\"> Priestley</span><span title=\"0.07487140769915802\" style=\"background-color:rgba(255, 0, 0, 0.07487140769915802);\"> in</span><span title=\"0.21368840183585877\" style=\"background-color:rgba(255, 0, 0, 0.21368840183585877);\"> Wiltshire</span><span title=\"0.026362530853807586\" style=\"background-color:rgba(255, 0, 0, 0.026362530853807586);\"> ,</span><span title=\"0.02316959182823606\" style=\"background-color:rgba(255, 0, 0, 0.02316959182823606);\"> in</span><span title=\"0.40457856016649\" style=\"background-color:rgba(255, 0, 0, 0.40457856016649);text-decoration: underline\"> 1774</span><span title=\"0.025157773109407346\" style=\"background-color:rgba(255, 0, 0, 0.025157773109407346);\"> ,</span><span title=\"0.021708409914060384\" style=\"background-color:rgba(255, 0, 0, 0.021708409914060384);\"> but</span><span title=\"0.14348276211525673\" style=\"background-color:rgba(255, 0, 0, 0.14348276211525673);\"> Priestley</span><span title=\"0.03421884669782442\" style=\"background-color:rgba(255, 0, 0, 0.03421884669782442);\"> is</span><span title=\"0.03602501761962497\" style=\"background-color:rgba(255, 0, 0, 0.03602501761962497);\"> often</span><span title=\"0.04085338514509514\" style=\"background-color:rgba(255, 0, 0, 0.04085338514509514);\"> given</span><span title=\"0.052418636275811364\" style=\"background-color:rgba(255, 0, 0, 0.052418636275811364);\"> priority</span><span title=\"0.026527892517927153\" style=\"background-color:rgba(255, 0, 0, 0.026527892517927153);\"> because</span><span title=\"0.046978713056254756\" style=\"background-color:rgba(255, 0, 0, 0.046978713056254756);text-decoration: underline\"> his</span><span title=\"0.05078628316781174\" style=\"background-color:rgba(255, 0, 0, 0.05078628316781174);text-decoration: underline\"> work</span><span title=\"0.02055614203126189\" style=\"background-color:rgba(255, 0, 0, 0.02055614203126189);text-decoration: underline\"> was</span><span title=\"0.026942734005300457\" style=\"background-color:rgba(255, 0, 0, 0.026942734005300457);text-decoration: underline\"> published</span><span title=\"0.036210856265535094\" style=\"background-color:rgba(255, 0, 0, 0.036210856265535094);text-decoration: underline\"> first</span><span title=\"0.019914400348660904\" style=\"background-color:rgba(255, 0, 0, 0.019914400348660904);\"> .</span>"
            ],
            "text/plain": [
              "<IPython.core.display.HTML object>"
            ]
          },
          "metadata": {
            "tags": []
          }
        },
        {
          "output_type": "stream",
          "text": [
            "\n"
          ],
          "name": "stdout"
        },
        {
          "output_type": "display_data",
          "data": {
            "text/html": [
              "<span title=\"0.06823005012633805\" style=\"background-color:rgba(255, 0, 0, 0.06823005012633805);\"> The</span><span title=\"0.0808881053366286\" style=\"background-color:rgba(255, 0, 0, 0.0808881053366286);\"> name</span><span title=\"0.08098621312372033\" style=\"background-color:rgba(255, 0, 0, 0.08098621312372033);\"> oxygen</span><span title=\"0.014727459326021089\" style=\"background-color:rgba(255, 0, 0, 0.014727459326021089);\"> was</span><span title=\"0.019541688983224094\" style=\"background-color:rgba(255, 0, 0, 0.019541688983224094);\"> coined</span><span title=\"0.020599802311884834\" style=\"background-color:rgba(255, 0, 0, 0.020599802311884834);\"> in</span><span title=\"0.3481502761820284\" style=\"background-color:rgba(255, 0, 0, 0.3481502761820284);\"> 1777</span><span title=\"0.06369865558176158\" style=\"background-color:rgba(255, 0, 0, 0.06369865558176158);\"> by</span><span title=\"0.6286625096308534\" style=\"background-color:rgba(255, 0, 0, 0.6286625096308534);text-decoration: underline\"> Antoine</span><span title=\"0.590115785777994\" style=\"background-color:rgba(255, 0, 0, 0.590115785777994);text-decoration: underline\"> Lavoisier</span><span title=\"0.13203427757508535\" style=\"background-color:rgba(255, 0, 0, 0.13203427757508535);\"> ,</span><span title=\"0.12861433690016238\" style=\"background-color:rgba(255, 0, 0, 0.12861433690016238);\"> whose</span><span title=\"0.14925612991704001\" style=\"background-color:rgba(255, 0, 0, 0.14925612991704001);\"> experiments</span><span title=\"0.10572759234386181\" style=\"background-color:rgba(255, 0, 0, 0.10572759234386181);\"> with</span><span title=\"0.1419678756140097\" style=\"background-color:rgba(255, 0, 0, 0.1419678756140097);\"> oxygen</span><span title=\"0.0937262998389825\" style=\"background-color:rgba(255, 0, 0, 0.0937262998389825);\"> helped</span><span title=\"0.12266694876985978\" style=\"background-color:rgba(255, 0, 0, 0.12266694876985978);\"> to</span><span title=\"0.15816333372650096\" style=\"background-color:rgba(255, 0, 0, 0.15816333372650096);\"> discredit</span><span title=\"0.19441562721474998\" style=\"background-color:rgba(255, 0, 0, 0.19441562721474998);\"> the</span><span title=\"0.23574301846880635\" style=\"background-color:rgba(255, 0, 0, 0.23574301846880635);\"> then</span><span title=\"0.24973440601316485\" style=\"background-color:rgba(255, 0, 0, 0.24973440601316485);\"> -</span><span title=\"0.29658480317174696\" style=\"background-color:rgba(255, 0, 0, 0.29658480317174696);\"> popular</span><span title=\"0.3263667070952524\" style=\"background-color:rgba(255, 0, 0, 0.3263667070952524);text-decoration: underline\"> phlogiston</span><span title=\"0.3263108607907805\" style=\"background-color:rgba(255, 0, 0, 0.3263108607907805);text-decoration: underline\"> theory</span><span title=\"0.30212329607376254\" style=\"background-color:rgba(255, 0, 0, 0.30212329607376254);text-decoration: underline\"> of</span><span title=\"0.35671844518187135\" style=\"background-color:rgba(255, 0, 0, 0.35671844518187135);text-decoration: underline\"> combustion</span><span title=\"0.29285001629814505\" style=\"background-color:rgba(255, 0, 0, 0.29285001629814505);text-decoration: underline\"> and</span><span title=\"0.29615967393983683\" style=\"background-color:rgba(255, 0, 0, 0.29615967393983683);text-decoration: underline\"> corrosion</span><span title=\"0.0669699485192932\" style=\"background-color:rgba(255, 0, 0, 0.0669699485192932);\"> .</span>"
            ],
            "text/plain": [
              "<IPython.core.display.HTML object>"
            ]
          },
          "metadata": {
            "tags": []
          }
        },
        {
          "output_type": "stream",
          "text": [
            "\n"
          ],
          "name": "stdout"
        },
        {
          "output_type": "display_data",
          "data": {
            "text/html": [
              "<span title=\"0.07686151992688764\" style=\"background-color:rgba(255, 0, 0, 0.07686151992688764);text-decoration: underline\"> Oxygen</span><span title=\"0.04792552772163125\" style=\"background-color:rgba(255, 0, 0, 0.04792552772163125);\"> condenses</span><span title=\"0.05951977945609578\" style=\"background-color:rgba(255, 0, 0, 0.05951977945609578);\"> at</span><span title=\"0.4412428329274004\" style=\"background-color:rgba(255, 0, 0, 0.4412428329274004);text-decoration: underline\"> 90.20</span><span title=\"0.3742741801611893\" style=\"background-color:rgba(255, 0, 0, 0.3742741801611893);text-decoration: underline\"> K</span><span title=\"0.12493401461902115\" style=\"background-color:rgba(255, 0, 0, 0.12493401461902115);text-decoration: underline\"> (</span><span title=\"0.4531574265395014\" style=\"background-color:rgba(255, 0, 0, 0.4531574265395014);text-decoration: underline\"> −182.95</span><span title=\"0.4356484594713123\" style=\"background-color:rgba(255, 0, 0, 0.4356484594713123);text-decoration: underline\"> °</span><span title=\"0.43269251800329195\" style=\"background-color:rgba(255, 0, 0, 0.43269251800329195);text-decoration: underline\"> C</span><span title=\"0.22745977632255046\" style=\"background-color:rgba(255, 0, 0, 0.22745977632255046);text-decoration: underline\"> ,</span><span title=\"0.7668449397283512\" style=\"background-color:rgba(255, 0, 0, 0.7668449397283512);text-decoration: underline\"> −297.31</span>"
            ],
            "text/plain": [
              "<IPython.core.display.HTML object>"
            ]
          },
          "metadata": {
            "tags": []
          }
        },
        {
          "output_type": "stream",
          "text": [
            "\n"
          ],
          "name": "stdout"
        },
        {
          "output_type": "display_data",
          "data": {
            "text/html": [
              "<span title=\"0.06505787524521622\" style=\"background-color:rgba(255, 0, 0, 0.06505787524521622);\"> The</span><span title=\"0.09082713449244953\" style=\"background-color:rgba(255, 0, 0, 0.09082713449244953);\"> other</span><span title=\"0.1203439871737035\" style=\"background-color:rgba(255, 0, 0, 0.1203439871737035);text-decoration: underline\"> major</span><span title=\"0.12575411957755248\" style=\"background-color:rgba(255, 0, 0, 0.12575411957755248);text-decoration: underline\"> method</span><span title=\"0.10161992872451961\" style=\"background-color:rgba(255, 0, 0, 0.10161992872451961);\"> of</span><span title=\"0.16471257183333152\" style=\"background-color:rgba(255, 0, 0, 0.16471257183333152);\"> producing</span><span title=\"0.2907616980900567\" style=\"background-color:rgba(255, 0, 0, 0.2907616980900567);\"> O</span><span title=\"0.30802653872302377\" style=\"background-color:rgba(255, 0, 0, 0.30802653872302377);\"> <<LINEBREAK>></span><span title=\"0.35226609096274575\" style=\"background-color:rgba(255, 0, 0, 0.35226609096274575);\"> 2</span><span title=\"0.23718276642746058\" style=\"background-color:rgba(255, 0, 0, 0.23718276642746058);\"> gas</span><span title=\"0.1197534567264173\" style=\"background-color:rgba(255, 0, 0, 0.1197534567264173);\"> involves</span><span title=\"0.1915385242185369\" style=\"background-color:rgba(255, 0, 0, 0.1915385242185369);text-decoration: underline\"> passing</span><span title=\"0.24094096269986515\" style=\"background-color:rgba(255, 0, 0, 0.24094096269986515);text-decoration: underline\"> a</span><span title=\"0.2624318333462146\" style=\"background-color:rgba(255, 0, 0, 0.2624318333462146);text-decoration: underline\"> stream</span><span title=\"0.2072964901191758\" style=\"background-color:rgba(255, 0, 0, 0.2072964901191758);text-decoration: underline\"> of</span><span title=\"0.24108445412318052\" style=\"background-color:rgba(255, 0, 0, 0.24108445412318052);text-decoration: underline\"> clean</span><span title=\"0.16102898502036764\" style=\"background-color:rgba(255, 0, 0, 0.16102898502036764);text-decoration: underline\"> ,</span><span title=\"0.17934906475324303\" style=\"background-color:rgba(255, 0, 0, 0.17934906475324303);text-decoration: underline\"> dry</span><span title=\"0.1749010086660318\" style=\"background-color:rgba(255, 0, 0, 0.1749010086660318);text-decoration: underline\"> air</span><span title=\"0.1194346343235319\" style=\"background-color:rgba(255, 0, 0, 0.1194346343235319);text-decoration: underline\"> through</span><span title=\"0.20940512923940235\" style=\"background-color:rgba(255, 0, 0, 0.20940512923940235);text-decoration: underline\"> one</span><span title=\"0.17468546991458597\" style=\"background-color:rgba(255, 0, 0, 0.17468546991458597);text-decoration: underline\"> bed</span><span title=\"0.1353642615817734\" style=\"background-color:rgba(255, 0, 0, 0.1353642615817734);text-decoration: underline\"> of</span><span title=\"0.20154560772287577\" style=\"background-color:rgba(255, 0, 0, 0.20154560772287577);text-decoration: underline\"> a</span><span title=\"0.24445088837086548\" style=\"background-color:rgba(255, 0, 0, 0.24445088837086548);text-decoration: underline\"> pair</span><span title=\"0.198198889212847\" style=\"background-color:rgba(255, 0, 0, 0.198198889212847);text-decoration: underline\"> of</span><span title=\"0.2760014536763906\" style=\"background-color:rgba(255, 0, 0, 0.2760014536763906);text-decoration: underline\"> identical</span><span title=\"0.2762139484653601\" style=\"background-color:rgba(255, 0, 0, 0.2762139484653601);text-decoration: underline\"> zeolite</span><span title=\"0.27094422000684787\" style=\"background-color:rgba(255, 0, 0, 0.27094422000684787);text-decoration: underline\"> molecular</span><span title=\"0.2588846993235218\" style=\"background-color:rgba(255, 0, 0, 0.2588846993235218);text-decoration: underline\"> sieves</span><span title=\"0.07347630866236401\" style=\"background-color:rgba(255, 0, 0, 0.07347630866236401);text-decoration: underline\"> ,</span><span title=\"0.06252337629219165\" style=\"background-color:rgba(255, 0, 0, 0.06252337629219165);text-decoration: underline\"> which</span><span title=\"0.07393970003307226\" style=\"background-color:rgba(255, 0, 0, 0.07393970003307226);text-decoration: underline\"> absorbs</span><span title=\"0.11257717322604191\" style=\"background-color:rgba(255, 0, 0, 0.11257717322604191);text-decoration: underline\"> the</span><span title=\"0.15200266387414757\" style=\"background-color:rgba(255, 0, 0, 0.15200266387414757);text-decoration: underline\"> nitrogen</span><span title=\"0.11189435147878346\" style=\"background-color:rgba(255, 0, 0, 0.11189435147878346);\"> and</span><span title=\"0.11454633121480848\" style=\"background-color:rgba(255, 0, 0, 0.11454633121480848);\"> delivers</span><span title=\"0.1402570075996073\" style=\"background-color:rgba(255, 0, 0, 0.1402570075996073);\"> a</span><span title=\"0.19279199163574776\" style=\"background-color:rgba(255, 0, 0, 0.19279199163574776);\"> gas</span><span title=\"0.1690491285316878\" style=\"background-color:rgba(255, 0, 0, 0.1690491285316878);\"> stream</span><span title=\"0.12214603292382963\" style=\"background-color:rgba(255, 0, 0, 0.12214603292382963);\"> that</span><span title=\"0.12915522995288287\" style=\"background-color:rgba(255, 0, 0, 0.12915522995288287);\"> is</span><span title=\"0.7831772020777299\" style=\"background-color:rgba(255, 0, 0, 0.7831772020777299);text-decoration: underline\"> 90</span><span title=\"0.7615868405873516\" style=\"background-color:rgba(255, 0, 0, 0.7615868405873516);text-decoration: underline\"> %</span><span title=\"0.7138290179853685\" style=\"background-color:rgba(255, 0, 0, 0.7138290179853685);text-decoration: underline\"> to</span><span title=\"0.7971789299707974\" style=\"background-color:rgba(255, 0, 0, 0.7971789299707974);text-decoration: underline\"> 93</span><span title=\"0.7268009575880178\" style=\"background-color:rgba(255, 0, 0, 0.7268009575880178);text-decoration: underline\"> %</span><span title=\"0.6359237749275858\" style=\"background-color:rgba(255, 0, 0, 0.6359237749275858);\"> O</span><span title=\"0.5688559605250451\" style=\"background-color:rgba(255, 0, 0, 0.5688559605250451);\"> <<LINEBREAK>></span><span title=\"0.5190797200442017\" style=\"background-color:rgba(255, 0, 0, 0.5190797200442017);\"> 2</span><span title=\"0.09490834736466783\" style=\"background-color:rgba(255, 0, 0, 0.09490834736466783);\"> .</span>"
            ],
            "text/plain": [
              "<IPython.core.display.HTML object>"
            ]
          },
          "metadata": {
            "tags": []
          }
        },
        {
          "output_type": "stream",
          "text": [
            "\n"
          ],
          "name": "stdout"
        },
        {
          "output_type": "display_data",
          "data": {
            "text/html": [
              "<span title=\"0.04705037174428115\" style=\"background-color:rgba(255, 0, 0, 0.04705037174428115);\"> You</span><span title=\"0.02865385955505089\" style=\"background-color:rgba(255, 0, 0, 0.02865385955505089);\"> 've</span><span title=\"0.03686527885265096\" style=\"background-color:rgba(255, 0, 0, 0.03686527885265096);\"> [</span><span title=\"0.15349065017627242\" style=\"background-color:rgba(255, 0, 0, 0.15349065017627242);\"> Western</span><span title=\"0.11474108396358924\" style=\"background-color:rgba(255, 0, 0, 0.11474108396358924);\"> nations</span><span title=\"0.03592057344940582\" style=\"background-color:rgba(255, 0, 0, 0.03592057344940582);\"> ]</span><span title=\"0.03355461159953775\" style=\"background-color:rgba(255, 0, 0, 0.03355461159953775);\"> increased</span><span title=\"0.07914620888163677\" style=\"background-color:rgba(255, 0, 0, 0.07914620888163677);\"> the</span><span title=\"0.11492433926151913\" style=\"background-color:rgba(255, 0, 0, 0.11492433926151913);\"> price</span><span title=\"0.07622483762386871\" style=\"background-color:rgba(255, 0, 0, 0.07622483762386871);\"> of</span><span title=\"0.11940468743425356\" style=\"background-color:rgba(255, 0, 0, 0.11940468743425356);\"> the</span><span title=\"0.14496189622188604\" style=\"background-color:rgba(255, 0, 0, 0.14496189622188604);\"> wheat</span><span title=\"0.08821903699130004\" style=\"background-color:rgba(255, 0, 0, 0.08821903699130004);\"> you</span><span title=\"0.08787213694982886\" style=\"background-color:rgba(255, 0, 0, 0.08787213694982886);\"> sell</span><span title=\"0.0803514325376731\" style=\"background-color:rgba(255, 0, 0, 0.0803514325376731);\"> us</span><span title=\"0.07113731516228133\" style=\"background-color:rgba(255, 0, 0, 0.07113731516228133);\"> by</span><span title=\"0.6641309015097357\" style=\"background-color:rgba(255, 0, 0, 0.6641309015097357);text-decoration: underline\"> 300</span><span title=\"0.5310511980835506\" style=\"background-color:rgba(255, 0, 0, 0.5310511980835506);text-decoration: underline\"> percent</span><span title=\"0.12527222707135754\" style=\"background-color:rgba(255, 0, 0, 0.12527222707135754);\"> ,</span><span title=\"0.12440205261504597\" style=\"background-color:rgba(255, 0, 0, 0.12440205261504597);\"> and</span><span title=\"0.14080147509866486\" style=\"background-color:rgba(255, 0, 0, 0.14080147509866486);\"> the</span><span title=\"0.14845466022172157\" style=\"background-color:rgba(255, 0, 0, 0.14845466022172157);\"> same</span><span title=\"0.1410357624919727\" style=\"background-color:rgba(255, 0, 0, 0.1410357624919727);\"> for</span><span title=\"0.20419520634853167\" style=\"background-color:rgba(255, 0, 0, 0.20419520634853167);\"> sugar</span><span title=\"0.16640492702682125\" style=\"background-color:rgba(255, 0, 0, 0.16640492702682125);\"> and</span><span title=\"0.1795029830189618\" style=\"background-color:rgba(255, 0, 0, 0.1795029830189618);\"> cement</span><span title=\"0.08919569061793123\" style=\"background-color:rgba(255, 0, 0, 0.08919569061793123);\"> ...</span>"
            ],
            "text/plain": [
              "<IPython.core.display.HTML object>"
            ]
          },
          "metadata": {
            "tags": []
          }
        },
        {
          "output_type": "stream",
          "text": [
            "\n"
          ],
          "name": "stdout"
        },
        {
          "output_type": "display_data",
          "data": {
            "text/html": [
              "<span title=\"0.01838799882163937\" style=\"background-color:rgba(255, 0, 0, 0.01838799882163937);text-decoration: underline\"> In</span><span title=\"0.044489996986522326\" style=\"background-color:rgba(255, 0, 0, 0.044489996986522326);text-decoration: underline\"> response</span><span title=\"0.019127816752392907\" style=\"background-color:rgba(255, 0, 0, 0.019127816752392907);text-decoration: underline\"> to</span><span title=\"0.11755029051731992\" style=\"background-color:rgba(255, 0, 0, 0.11755029051731992);text-decoration: underline\"> American</span><span title=\"0.09416674536887454\" style=\"background-color:rgba(255, 0, 0, 0.09416674536887454);text-decoration: underline\"> aid</span><span title=\"0.0633692889259618\" style=\"background-color:rgba(255, 0, 0, 0.0633692889259618);text-decoration: underline\"> to</span><span title=\"0.22877964619920335\" style=\"background-color:rgba(255, 0, 0, 0.22877964619920335);text-decoration: underline\"> Israel</span><span title=\"0.03076010030166091\" style=\"background-color:rgba(255, 0, 0, 0.03076010030166091);\"> ,</span><span title=\"0.0400226510970514\" style=\"background-color:rgba(255, 0, 0, 0.0400226510970514);\"> on</span><span title=\"0.4582408538216665\" style=\"background-color:rgba(255, 0, 0, 0.4582408538216665);text-decoration: underline\"> October</span><span title=\"0.4528987201472049\" style=\"background-color:rgba(255, 0, 0, 0.4528987201472049);text-decoration: underline\"> 16</span><span title=\"0.27850254897558085\" style=\"background-color:rgba(255, 0, 0, 0.27850254897558085);text-decoration: underline\"> ,</span><span title=\"0.4106613312907888\" style=\"background-color:rgba(255, 0, 0, 0.4106613312907888);text-decoration: underline\"> 1973</span><span title=\"0.02496208286607676\" style=\"background-color:rgba(255, 0, 0, 0.02496208286607676);text-decoration: underline\"> ,</span><span title=\"0.08961565236369118\" style=\"background-color:rgba(255, 0, 0, 0.08961565236369118);text-decoration: underline\"> OPEC</span><span title=\"0.021171837670422897\" style=\"background-color:rgba(255, 0, 0, 0.021171837670422897);text-decoration: underline\"> raised</span><span title=\"0.04850527998542416\" style=\"background-color:rgba(255, 0, 0, 0.04850527998542416);text-decoration: underline\"> the</span><span title=\"0.09466331809669462\" style=\"background-color:rgba(255, 0, 0, 0.09466331809669462);text-decoration: underline\"> posted</span><span title=\"0.1264845498278609\" style=\"background-color:rgba(255, 0, 0, 0.1264845498278609);text-decoration: underline\"> price</span><span title=\"0.10616126239961375\" style=\"background-color:rgba(255, 0, 0, 0.10616126239961375);text-decoration: underline\"> of</span><span title=\"0.13032478097101577\" style=\"background-color:rgba(255, 0, 0, 0.13032478097101577);text-decoration: underline\"> oil</span><span title=\"0.05856774031740652\" style=\"background-color:rgba(255, 0, 0, 0.05856774031740652);text-decoration: underline\"> by</span><span title=\"0.7010312203322491\" style=\"background-color:rgba(255, 0, 0, 0.7010312203322491);text-decoration: underline\"> 70</span><span title=\"0.5918219537025291\" style=\"background-color:rgba(255, 0, 0, 0.5918219537025291);text-decoration: underline\"> %</span><span title=\"0.08688407871841959\" style=\"background-color:rgba(255, 0, 0, 0.08688407871841959);text-decoration: underline\"> ,</span><span title=\"0.0711741199553782\" style=\"background-color:rgba(255, 0, 0, 0.0711741199553782);text-decoration: underline\"> to</span><span title=\"0.17411933493541504\" style=\"background-color:rgba(255, 0, 0, 0.17411933493541504);text-decoration: underline\"> $</span><span title=\"0.25397711947288026\" style=\"background-color:rgba(255, 0, 0, 0.25397711947288026);text-decoration: underline\"> 5.11</span><span title=\"0.16634528655769543\" style=\"background-color:rgba(255, 0, 0, 0.16634528655769543);text-decoration: underline\"> a</span><span title=\"0.18622674444157936\" style=\"background-color:rgba(255, 0, 0, 0.18622674444157936);text-decoration: underline\"> barrel</span><span title=\"0.05082961286772248\" style=\"background-color:rgba(255, 0, 0, 0.05082961286772248);\"> .</span>"
            ],
            "text/plain": [
              "<IPython.core.display.HTML object>"
            ]
          },
          "metadata": {
            "tags": []
          }
        },
        {
          "output_type": "stream",
          "text": [
            "\n"
          ],
          "name": "stdout"
        },
        {
          "output_type": "display_data",
          "data": {
            "text/html": [
              "<span title=\"0.07269088354898581\" style=\"background-color:rgba(255, 0, 0, 0.07269088354898581);\"> His</span><span title=\"0.09605286207973399\" style=\"background-color:rgba(255, 0, 0, 0.09605286207973399);\"> successor</span><span title=\"0.048176846215606674\" style=\"background-color:rgba(255, 0, 0, 0.048176846215606674);\"> ,</span><span title=\"0.32980358900824164\" style=\"background-color:rgba(255, 0, 0, 0.32980358900824164);text-decoration: underline\"> Ted</span><span title=\"0.32397538780323576\" style=\"background-color:rgba(255, 0, 0, 0.32397538780323576);text-decoration: underline\"> Heath</span><span title=\"0.0645158836635947\" style=\"background-color:rgba(255, 0, 0, 0.0645158836635947);\"> ,</span><span title=\"0.03188582317686377\" style=\"background-color:rgba(255, 0, 0, 0.03188582317686377);\"> reversed</span><span title=\"0.05859018113040712\" style=\"background-color:rgba(255, 0, 0, 0.05859018113040712);\"> this</span><span title=\"0.08050835333919182\" style=\"background-color:rgba(255, 0, 0, 0.08050835333919182);\"> policy</span><span title=\"0.027123025293906092\" style=\"background-color:rgba(255, 0, 0, 0.027123025293906092);\"> in</span><span title=\"0.5339728888836255\" style=\"background-color:rgba(255, 0, 0, 0.5339728888836255);\"> 1970</span><span title=\"0.024714808861178137\" style=\"background-color:rgba(255, 0, 0, 0.024714808861178137);\"> ,</span><span title=\"0.027645124525057355\" style=\"background-color:rgba(255, 0, 0, 0.027645124525057355);\"> calling</span><span title=\"0.03740473795803144\" style=\"background-color:rgba(255, 0, 0, 0.03740473795803144);\"> for</span><span title=\"0.18095866861366627\" style=\"background-color:rgba(255, 0, 0, 0.18095866861366627);text-decoration: underline\"> Israel</span><span title=\"0.10325879273811003\" style=\"background-color:rgba(255, 0, 0, 0.10325879273811003);\"> to</span><span title=\"0.10887514154562296\" style=\"background-color:rgba(255, 0, 0, 0.10887514154562296);text-decoration: underline\"> withdraw</span><span title=\"0.10512655512684592\" style=\"background-color:rgba(255, 0, 0, 0.10512655512684592);text-decoration: underline\"> to</span><span title=\"0.12792524230295058\" style=\"background-color:rgba(255, 0, 0, 0.12792524230295058);text-decoration: underline\"> its</span><span title=\"0.16986715194469676\" style=\"background-color:rgba(255, 0, 0, 0.16986715194469676);text-decoration: underline\"> pre-1967</span><span title=\"0.17655438802229811\" style=\"background-color:rgba(255, 0, 0, 0.17655438802229811);text-decoration: underline\"> borders</span><span title=\"0.029355667901297552\" style=\"background-color:rgba(255, 0, 0, 0.029355667901297552);\"> .</span>"
            ],
            "text/plain": [
              "<IPython.core.display.HTML object>"
            ]
          },
          "metadata": {
            "tags": []
          }
        },
        {
          "output_type": "stream",
          "text": [
            "\n"
          ],
          "name": "stdout"
        },
        {
          "output_type": "display_data",
          "data": {
            "text/html": [
              "<span title=\"0.10379148660423604\" style=\"background-color:rgba(255, 0, 0, 0.10379148660423604);\"> Development</span><span title=\"0.061696836032261955\" style=\"background-color:rgba(255, 0, 0, 0.061696836032261955);\"> of</span><span title=\"0.11262137837218734\" style=\"background-color:rgba(255, 0, 0, 0.11262137837218734);\"> the</span><span title=\"0.2552787516848801\" style=\"background-color:rgba(255, 0, 0, 0.2552787516848801);\"> Strategic</span><span title=\"0.23911685327389887\" style=\"background-color:rgba(255, 0, 0, 0.23911685327389887);\"> Petroleum</span><span title=\"0.22453089695094233\" style=\"background-color:rgba(255, 0, 0, 0.22453089695094233);\"> Reserve</span><span title=\"0.027199388333589185\" style=\"background-color:rgba(255, 0, 0, 0.027199388333589185);\"> began</span><span title=\"0.03405375364227568\" style=\"background-color:rgba(255, 0, 0, 0.03405375364227568);\"> in</span><span title=\"0.538016351736224\" style=\"background-color:rgba(255, 0, 0, 0.538016351736224);\"> 1975</span><span title=\"0.03434252361653384\" style=\"background-color:rgba(255, 0, 0, 0.03434252361653384);\"> ,</span><span title=\"0.027204912440863715\" style=\"background-color:rgba(255, 0, 0, 0.027204912440863715);\"> and</span><span title=\"0.025515131652460943\" style=\"background-color:rgba(255, 0, 0, 0.025515131652460943);\"> in</span><span title=\"0.4149929704434616\" style=\"background-color:rgba(255, 0, 0, 0.4149929704434616);text-decoration: underline\"> 1977</span><span title=\"0.14051805124425099\" style=\"background-color:rgba(255, 0, 0, 0.14051805124425099);\"> the</span><span title=\"0.22132672943231224\" style=\"background-color:rgba(255, 0, 0, 0.22132672943231224);\"> cabinet</span><span title=\"0.1749033329335473\" style=\"background-color:rgba(255, 0, 0, 0.1749033329335473);\"> -</span><span title=\"0.18574216615289774\" style=\"background-color:rgba(255, 0, 0, 0.18574216615289774);\"> level</span><span title=\"0.19784151358516233\" style=\"background-color:rgba(255, 0, 0, 0.19784151358516233);\"> Department</span><span title=\"0.14354309192776152\" style=\"background-color:rgba(255, 0, 0, 0.14354309192776152);\"> of</span><span title=\"0.20135455010589315\" style=\"background-color:rgba(255, 0, 0, 0.20135455010589315);\"> Energy</span><span title=\"0.051619211116700175\" style=\"background-color:rgba(255, 0, 0, 0.051619211116700175);\"> was</span><span title=\"0.056821402778842484\" style=\"background-color:rgba(255, 0, 0, 0.056821402778842484);\"> created</span><span title=\"0.02426404313949222\" style=\"background-color:rgba(255, 0, 0, 0.02426404313949222);\"> ,</span><span title=\"0.027309278365089527\" style=\"background-color:rgba(255, 0, 0, 0.027309278365089527);\"> followed</span><span title=\"0.042422165557603635\" style=\"background-color:rgba(255, 0, 0, 0.042422165557603635);\"> by</span><span title=\"0.23708618792292224\" style=\"background-color:rgba(255, 0, 0, 0.23708618792292224);\"> the</span><span title=\"0.4184518682852596\" style=\"background-color:rgba(255, 0, 0, 0.4184518682852596);\"> National</span><span title=\"0.4079225726750038\" style=\"background-color:rgba(255, 0, 0, 0.4079225726750038);\"> Energy</span><span title=\"0.3899739358701851\" style=\"background-color:rgba(255, 0, 0, 0.3899739358701851);\"> Act</span><span title=\"0.30325410411515613\" style=\"background-color:rgba(255, 0, 0, 0.30325410411515613);\"> of</span><span title=\"0.2962635454594713\" style=\"background-color:rgba(255, 0, 0, 0.2962635454594713);\"> 1978.[citation</span><span title=\"0.2336534877916261\" style=\"background-color:rgba(255, 0, 0, 0.2336534877916261);\"> needed</span><span title=\"0.2098757628161032\" style=\"background-color:rgba(255, 0, 0, 0.2098757628161032);\"> ]</span>"
            ],
            "text/plain": [
              "<IPython.core.display.HTML object>"
            ]
          },
          "metadata": {
            "tags": []
          }
        },
        {
          "output_type": "stream",
          "text": [
            "\n"
          ],
          "name": "stdout"
        },
        {
          "output_type": "display_data",
          "data": {
            "text/html": [
              "<span title=\"0.20860208574426178\" style=\"background-color:rgba(255, 0, 0, 0.20860208574426178);\"> Federal</span><span title=\"0.20323601178965453\" style=\"background-color:rgba(255, 0, 0, 0.20323601178965453);\"> safety</span><span title=\"0.182496009220229\" style=\"background-color:rgba(255, 0, 0, 0.182496009220229);\"> standards</span><span title=\"0.04332891360423879\" style=\"background-color:rgba(255, 0, 0, 0.04332891360423879);\"> ,</span><span title=\"0.03690638155161301\" style=\"background-color:rgba(255, 0, 0, 0.03690638155161301);\"> such</span><span title=\"0.0307980116787694\" style=\"background-color:rgba(255, 0, 0, 0.0307980116787694);\"> as</span><span title=\"0.7492664903942367\" style=\"background-color:rgba(255, 0, 0, 0.7492664903942367);\"> NHTSA</span><span title=\"0.7830507369099368\" style=\"background-color:rgba(255, 0, 0, 0.7830507369099368);\"> Federal</span><span title=\"0.783835505035102\" style=\"background-color:rgba(255, 0, 0, 0.783835505035102);\"> Motor</span><span title=\"0.7820871891237777\" style=\"background-color:rgba(255, 0, 0, 0.7820871891237777);\"> Vehicle</span><span title=\"0.7780662370910796\" style=\"background-color:rgba(255, 0, 0, 0.7780662370910796);\"> Safety</span><span title=\"0.7606495459053134\" style=\"background-color:rgba(255, 0, 0, 0.7606495459053134);\"> Standard</span><span title=\"0.6977678859472302\" style=\"background-color:rgba(255, 0, 0, 0.6977678859472302);\"> 215</span><span title=\"0.1535855660000646\" style=\"background-color:rgba(255, 0, 0, 0.1535855660000646);\"> (</span><span title=\"0.1350382889696309\" style=\"background-color:rgba(255, 0, 0, 0.1350382889696309);\"> pertaining</span><span title=\"0.1325530849675986\" style=\"background-color:rgba(255, 0, 0, 0.1325530849675986);\"> to</span><span title=\"0.2337600621553002\" style=\"background-color:rgba(255, 0, 0, 0.2337600621553002);\"> safety</span><span title=\"0.22651125780998027\" style=\"background-color:rgba(255, 0, 0, 0.22651125780998027);\"> bumpers</span><span title=\"0.09250566797609784\" style=\"background-color:rgba(255, 0, 0, 0.09250566797609784);\"> )</span><span title=\"0.057754377375969966\" style=\"background-color:rgba(255, 0, 0, 0.057754377375969966);\"> ,</span><span title=\"0.05654345947612191\" style=\"background-color:rgba(255, 0, 0, 0.05654345947612191);\"> and</span><span title=\"0.06359605158013021\" style=\"background-color:rgba(255, 0, 0, 0.06359605158013021);\"> compacts</span><span title=\"0.032284921536533076\" style=\"background-color:rgba(255, 0, 0, 0.032284921536533076);\"> like</span><span title=\"0.03543746642433724\" style=\"background-color:rgba(255, 0, 0, 0.03543746642433724);text-decoration: underline\"> the</span><span title=\"0.2650444883419658\" style=\"background-color:rgba(255, 0, 0, 0.2650444883419658);text-decoration: underline\"> 1974</span><span title=\"0.17292069624170942\" style=\"background-color:rgba(255, 0, 0, 0.17292069624170942);text-decoration: underline\"> Mustang</span><span title=\"0.14733875787731635\" style=\"background-color:rgba(255, 0, 0, 0.14733875787731635);text-decoration: underline\"> I</span><span title=\"0.03182984949726268\" style=\"background-color:rgba(255, 0, 0, 0.03182984949726268);\"> were</span><span title=\"0.06597405426227697\" style=\"background-color:rgba(255, 0, 0, 0.06597405426227697);\"> a</span><span title=\"0.09876331202178386\" style=\"background-color:rgba(255, 0, 0, 0.09876331202178386);\"> prelude</span><span title=\"0.06341800786087645\" style=\"background-color:rgba(255, 0, 0, 0.06341800786087645);\"> to</span><span title=\"0.090831795885844\" style=\"background-color:rgba(255, 0, 0, 0.090831795885844);text-decoration: underline\"> the</span><span title=\"0.19329894460251637\" style=\"background-color:rgba(255, 0, 0, 0.19329894460251637);text-decoration: underline\"> DOT</span><span title=\"0.14664410335025554\" style=\"background-color:rgba(255, 0, 0, 0.14664410335025554);text-decoration: underline\"> \"</span><span title=\"0.21756114283836456\" style=\"background-color:rgba(255, 0, 0, 0.21756114283836456);text-decoration: underline\"> downsize</span><span title=\"0.1881349040432094\" style=\"background-color:rgba(255, 0, 0, 0.1881349040432094);text-decoration: underline\"> \"</span><span title=\"0.20036287248022064\" style=\"background-color:rgba(255, 0, 0, 0.20036287248022064);text-decoration: underline\"> revision</span><span title=\"0.1538566704250441\" style=\"background-color:rgba(255, 0, 0, 0.1538566704250441);\"> of</span><span title=\"0.22635973022577616\" style=\"background-color:rgba(255, 0, 0, 0.22635973022577616);\"> vehicle</span><span title=\"0.21284144502651092\" style=\"background-color:rgba(255, 0, 0, 0.21284144502651092);\"> categories</span><span title=\"0.0365585964650539\" style=\"background-color:rgba(255, 0, 0, 0.0365585964650539);\"> .</span>"
            ],
            "text/plain": [
              "<IPython.core.display.HTML object>"
            ]
          },
          "metadata": {
            "tags": []
          }
        },
        {
          "output_type": "stream",
          "text": [
            "\n"
          ],
          "name": "stdout"
        },
        {
          "output_type": "display_data",
          "data": {
            "text/html": [
              "<span title=\"0.1082300787755788\" style=\"background-color:rgba(255, 0, 0, 0.1082300787755788);\"> The</span><span title=\"0.17195846426423664\" style=\"background-color:rgba(255, 0, 0, 0.17195846426423664);\"> total</span><span title=\"0.17054502991824952\" style=\"background-color:rgba(255, 0, 0, 0.17054502991824952);\"> number</span><span title=\"0.14654132254074909\" style=\"background-color:rgba(255, 0, 0, 0.14654132254074909);\"> of</span><span title=\"0.21344238107582827\" style=\"background-color:rgba(255, 0, 0, 0.21344238107582827);\"> tree</span><span title=\"0.1904267577187066\" style=\"background-color:rgba(255, 0, 0, 0.1904267577187066);\"> species</span><span title=\"0.09813786214535808\" style=\"background-color:rgba(255, 0, 0, 0.09813786214535808);\"> in</span><span title=\"0.11569132393945106\" style=\"background-color:rgba(255, 0, 0, 0.11569132393945106);\"> the</span><span title=\"0.14345319888724142\" style=\"background-color:rgba(255, 0, 0, 0.14345319888724142);\"> region</span><span title=\"0.03552218071903953\" style=\"background-color:rgba(255, 0, 0, 0.03552218071903953);\"> is</span><span title=\"0.048477295591911\" style=\"background-color:rgba(255, 0, 0, 0.048477295591911);\"> estimated</span><span title=\"0.07016935528297434\" style=\"background-color:rgba(255, 0, 0, 0.07016935528297434);\"> at</span><span title=\"0.630479940893623\" style=\"background-color:rgba(255, 0, 0, 0.630479940893623);\"> 16,000</span><span title=\"0.03319216127968342\" style=\"background-color:rgba(255, 0, 0, 0.03319216127968342);\"> .</span>"
            ],
            "text/plain": [
              "<IPython.core.display.HTML object>"
            ]
          },
          "metadata": {
            "tags": []
          }
        },
        {
          "output_type": "stream",
          "text": [
            "\n"
          ],
          "name": "stdout"
        },
        {
          "output_type": "display_data",
          "data": {
            "text/html": [
              "<span title=\"0.03147408826470529\" style=\"background-color:rgba(255, 0, 0, 0.03147408826470529);\"> In</span><span title=\"0.4011649897089428\" style=\"background-color:rgba(255, 0, 0, 0.4011649897089428);text-decoration: underline\"> 1976</span><span title=\"0.017041261578195764\" style=\"background-color:rgba(255, 0, 0, 0.017041261578195764);\"> ,</span><span title=\"0.09468041894600854\" style=\"background-color:rgba(255, 0, 0, 0.09468041894600854);\"> BankAmericard</span><span title=\"0.020833223560005252\" style=\"background-color:rgba(255, 0, 0, 0.020833223560005252);\"> was</span><span title=\"0.03566442408007285\" style=\"background-color:rgba(255, 0, 0, 0.03566442408007285);\"> renamed</span><span title=\"0.03589822038848797\" style=\"background-color:rgba(255, 0, 0, 0.03589822038848797);\"> and</span><span title=\"0.042981002783700005\" style=\"background-color:rgba(255, 0, 0, 0.042981002783700005);\"> spun</span><span title=\"0.036520781803490894\" style=\"background-color:rgba(255, 0, 0, 0.036520781803490894);\"> off</span><span title=\"0.034067164600845856\" style=\"background-color:rgba(255, 0, 0, 0.034067164600845856);\"> into</span><span title=\"0.0991093058248234\" style=\"background-color:rgba(255, 0, 0, 0.0991093058248234);\"> a</span><span title=\"0.13061870523438707\" style=\"background-color:rgba(255, 0, 0, 0.13061870523438707);\"> separate</span><span title=\"0.11836795254984371\" style=\"background-color:rgba(255, 0, 0, 0.11836795254984371);\"> company</span><span title=\"0.0732376146470651\" style=\"background-color:rgba(255, 0, 0, 0.0732376146470651);\"> known</span><span title=\"0.11031814545938429\" style=\"background-color:rgba(255, 0, 0, 0.11031814545938429);\"> today</span><span title=\"0.09424929130474972\" style=\"background-color:rgba(255, 0, 0, 0.09424929130474972);\"> as</span><span title=\"0.7789723760616954\" style=\"background-color:rgba(255, 0, 0, 0.7789723760616954);text-decoration: underline\"> Visa</span><span title=\"0.7825897383578925\" style=\"background-color:rgba(255, 0, 0, 0.7825897383578925);text-decoration: underline\"> Inc.</span>"
            ],
            "text/plain": [
              "<IPython.core.display.HTML object>"
            ]
          },
          "metadata": {
            "tags": []
          }
        },
        {
          "output_type": "stream",
          "text": [
            "\n"
          ],
          "name": "stdout"
        },
        {
          "output_type": "display_data",
          "data": {
            "text/html": [
              "<span title=\"0.5841741522931824\" style=\"background-color:rgba(255, 0, 0, 0.5841741522931824);\"> Woodward</span><span title=\"0.5632259256955906\" style=\"background-color:rgba(255, 0, 0, 0.5632259256955906);\"> Park</span><span title=\"0.0980855915451023\" style=\"background-color:rgba(255, 0, 0, 0.0980855915451023);\"> ,</span><span title=\"0.06687342382952877\" style=\"background-color:rgba(255, 0, 0, 0.06687342382952877);\"> which</span><span title=\"0.06636004079749885\" style=\"background-color:rgba(255, 0, 0, 0.06636004079749885);\"> features</span><span title=\"0.14179905751966485\" style=\"background-color:rgba(255, 0, 0, 0.14179905751966485);\"> the</span><span title=\"0.3675390751051849\" style=\"background-color:rgba(255, 0, 0, 0.3675390751051849);text-decoration: underline\"> Shinzen</span><span title=\"0.36247278635492003\" style=\"background-color:rgba(255, 0, 0, 0.36247278635492003);text-decoration: underline\"> Japanese</span><span title=\"0.34652939757717843\" style=\"background-color:rgba(255, 0, 0, 0.34652939757717843);text-decoration: underline\"> Gardens</span><span title=\"0.15150662651172778\" style=\"background-color:rgba(255, 0, 0, 0.15150662651172778);\"> ,</span><span title=\"0.20316926531062507\" style=\"background-color:rgba(255, 0, 0, 0.20316926531062507);\"> numerous</span><span title=\"0.22644197017414294\" style=\"background-color:rgba(255, 0, 0, 0.22644197017414294);\"> picnic</span><span title=\"0.21929941170319167\" style=\"background-color:rgba(255, 0, 0, 0.21929941170319167);\"> areas</span><span title=\"0.17653909297484233\" style=\"background-color:rgba(255, 0, 0, 0.17653909297484233);\"> and</span><span title=\"0.22462935464571443\" style=\"background-color:rgba(255, 0, 0, 0.22462935464571443);text-decoration: underline\"> several</span><span title=\"0.23856189081734927\" style=\"background-color:rgba(255, 0, 0, 0.23856189081734927);text-decoration: underline\"> miles</span><span title=\"0.17812166207210692\" style=\"background-color:rgba(255, 0, 0, 0.17812166207210692);\"> of</span><span title=\"0.21912557072947106\" style=\"background-color:rgba(255, 0, 0, 0.21912557072947106);\"> trails</span><span title=\"0.047982973744417644\" style=\"background-color:rgba(255, 0, 0, 0.047982973744417644);\"> ,</span><span title=\"0.0234442277934729\" style=\"background-color:rgba(255, 0, 0, 0.0234442277934729);\"> is</span><span title=\"0.04022348023731419\" style=\"background-color:rgba(255, 0, 0, 0.04022348023731419);\"> in</span><span title=\"0.34236512767119887\" style=\"background-color:rgba(255, 0, 0, 0.34236512767119887);\"> North</span><span title=\"0.29777022805352427\" style=\"background-color:rgba(255, 0, 0, 0.29777022805352427);\"> Fresno</span><span title=\"0.11095809517533556\" style=\"background-color:rgba(255, 0, 0, 0.11095809517533556);\"> and</span><span title=\"0.08682510841761172\" style=\"background-color:rgba(255, 0, 0, 0.08682510841761172);\"> is</span><span title=\"0.10961369712143375\" style=\"background-color:rgba(255, 0, 0, 0.10961369712143375);\"> adjacent</span><span title=\"0.088737632381375\" style=\"background-color:rgba(255, 0, 0, 0.088737632381375);\"> to</span><span title=\"0.14892453058480637\" style=\"background-color:rgba(255, 0, 0, 0.14892453058480637);\"> the</span><span title=\"0.30134224945434507\" style=\"background-color:rgba(255, 0, 0, 0.30134224945434507);\"> San</span><span title=\"0.2978916572129047\" style=\"background-color:rgba(255, 0, 0, 0.2978916572129047);\"> Joaquin</span><span title=\"0.3054804585893875\" style=\"background-color:rgba(255, 0, 0, 0.3054804585893875);\"> River</span><span title=\"0.30227424937295816\" style=\"background-color:rgba(255, 0, 0, 0.30227424937295816);\"> Parkway</span><span title=\"0.03112654421790472\" style=\"background-color:rgba(255, 0, 0, 0.03112654421790472);\"> .</span>"
            ],
            "text/plain": [
              "<IPython.core.display.HTML object>"
            ]
          },
          "metadata": {
            "tags": []
          }
        },
        {
          "output_type": "stream",
          "text": [
            "\n"
          ],
          "name": "stdout"
        },
        {
          "output_type": "display_data",
          "data": {
            "text/html": [
              "<span title=\"0.04973107834556006\" style=\"background-color:rgba(255, 0, 0, 0.04973107834556006);\"> It</span><span title=\"0.014091237526981937\" style=\"background-color:rgba(255, 0, 0, 0.014091237526981937);\"> is</span><span title=\"0.029211533869812744\" style=\"background-color:rgba(255, 0, 0, 0.029211533869812744);\"> also</span><span title=\"0.05295193661487495\" style=\"background-color:rgba(255, 0, 0, 0.05295193661487495);\"> the</span><span title=\"0.09304289353025166\" style=\"background-color:rgba(255, 0, 0, 0.09304289353025166);\"> home</span><span title=\"0.06139666219102906\" style=\"background-color:rgba(255, 0, 0, 0.06139666219102906);\"> of</span><span title=\"0.22502656381467273\" style=\"background-color:rgba(255, 0, 0, 0.22502656381467273);\"> the</span><span title=\"0.46633756844427043\" style=\"background-color:rgba(255, 0, 0, 0.46633756844427043);text-decoration: underline\"> Sunnyside</span><span title=\"0.4574653513810977\" style=\"background-color:rgba(255, 0, 0, 0.4574653513810977);\"> Country</span><span title=\"0.44168762328636696\" style=\"background-color:rgba(255, 0, 0, 0.44168762328636696);\"> Club</span><span title=\"0.09138186657171654\" style=\"background-color:rgba(255, 0, 0, 0.09138186657171654);\"> ,</span><span title=\"0.07987553618244503\" style=\"background-color:rgba(255, 0, 0, 0.07987553618244503);\"> which</span><span title=\"0.09460369614848023\" style=\"background-color:rgba(255, 0, 0, 0.09460369614848023);\"> maintains</span><span title=\"0.14389022044893393\" style=\"background-color:rgba(255, 0, 0, 0.14389022044893393);\"> a</span><span title=\"0.19842297007422222\" style=\"background-color:rgba(255, 0, 0, 0.19842297007422222);\"> golf</span><span title=\"0.173757279874056\" style=\"background-color:rgba(255, 0, 0, 0.173757279874056);\"> course</span><span title=\"0.12630062601626213\" style=\"background-color:rgba(255, 0, 0, 0.12630062601626213);\"> designed</span><span title=\"0.1317840219468696\" style=\"background-color:rgba(255, 0, 0, 0.1317840219468696);\"> by</span><span title=\"0.6571713489867039\" style=\"background-color:rgba(255, 0, 0, 0.6571713489867039);text-decoration: underline\"> William</span><span title=\"0.6543393186231967\" style=\"background-color:rgba(255, 0, 0, 0.6543393186231967);text-decoration: underline\"> P.</span><span title=\"0.6431160564229512\" style=\"background-color:rgba(255, 0, 0, 0.6431160564229512);text-decoration: underline\"> Bell</span><span title=\"0.056120855564154346\" style=\"background-color:rgba(255, 0, 0, 0.056120855564154346);\"> .</span>"
            ],
            "text/plain": [
              "<IPython.core.display.HTML object>"
            ]
          },
          "metadata": {
            "tags": []
          }
        },
        {
          "output_type": "stream",
          "text": [
            "\n"
          ],
          "name": "stdout"
        },
        {
          "output_type": "display_data",
          "data": {
            "text/html": [
              "<span title=\"0.02540144474907234\" style=\"background-color:rgba(255, 0, 0, 0.02540144474907234);\"> Also</span><span title=\"0.02271832397833732\" style=\"background-color:rgba(255, 0, 0, 0.02271832397833732);\"> in</span><span title=\"0.15208699727747654\" style=\"background-color:rgba(255, 0, 0, 0.15208699727747654);\"> the</span><span title=\"0.3047284529856393\" style=\"background-color:rgba(255, 0, 0, 0.3047284529856393);\"> Tower</span><span title=\"0.2857091916760427\" style=\"background-color:rgba(255, 0, 0, 0.2857091916760427);\"> District</span><span title=\"0.029710771111124717\" style=\"background-color:rgba(255, 0, 0, 0.029710771111124717);\"> is</span><span title=\"0.7221670208465613\" style=\"background-color:rgba(255, 0, 0, 0.7221670208465613);\"> Good</span><span title=\"0.7201272837856627\" style=\"background-color:rgba(255, 0, 0, 0.7201272837856627);\"> Company</span><span title=\"0.6796998579393829\" style=\"background-color:rgba(255, 0, 0, 0.6796998579393829);\"> Players</span><span title=\"0.5987784084505139\" style=\"background-color:rgba(255, 0, 0, 0.5987784084505139);\"> '</span><span title=\"0.6349352937557617\" style=\"background-color:rgba(255, 0, 0, 0.6349352937557617);\"> 2nd</span><span title=\"0.6459857195831707\" style=\"background-color:rgba(255, 0, 0, 0.6459857195831707);\"> Space</span><span title=\"0.6184446249724417\" style=\"background-color:rgba(255, 0, 0, 0.6184446249724417);\"> Theatre</span><span title=\"0.08526318514212342\" style=\"background-color:rgba(255, 0, 0, 0.08526318514212342);\"> .</span>"
            ],
            "text/plain": [
              "<IPython.core.display.HTML object>"
            ]
          },
          "metadata": {
            "tags": []
          }
        },
        {
          "output_type": "stream",
          "text": [
            "\n"
          ],
          "name": "stdout"
        },
        {
          "output_type": "display_data",
          "data": {
            "text/html": [
              "<span title=\"0.11560635157630932\" style=\"background-color:rgba(255, 0, 0, 0.11560635157630932);\"> The</span><span title=\"0.14982213846202408\" style=\"background-color:rgba(255, 0, 0, 0.14982213846202408);\"> park</span><span title=\"0.042120382547395294\" style=\"background-color:rgba(255, 0, 0, 0.042120382547395294);\"> is</span><span title=\"0.14188888976761505\" style=\"background-color:rgba(255, 0, 0, 0.14188888976761505);\"> open</span><span title=\"0.3094311484844255\" style=\"background-color:rgba(255, 0, 0, 0.3094311484844255);text-decoration: underline\"> April</span><span title=\"0.2850214809894514\" style=\"background-color:rgba(255, 0, 0, 0.2850214809894514);text-decoration: underline\"> through</span><span title=\"0.37805528095388025\" style=\"background-color:rgba(255, 0, 0, 0.37805528095388025);text-decoration: underline\"> October</span><span title=\"0.1702344688856415\" style=\"background-color:rgba(255, 0, 0, 0.1702344688856415);text-decoration: underline\"> ,</span><span title=\"0.508505059697951\" style=\"background-color:rgba(255, 0, 0, 0.508505059697951);text-decoration: underline\"> 6</span><span title=\"0.47557133378491345\" style=\"background-color:rgba(255, 0, 0, 0.47557133378491345);text-decoration: underline\"> am</span><span title=\"0.4775101168711913\" style=\"background-color:rgba(255, 0, 0, 0.4775101168711913);text-decoration: underline\"> to</span><span title=\"0.765943150463199\" style=\"background-color:rgba(255, 0, 0, 0.765943150463199);text-decoration: underline\"> 10</span><span title=\"0.741221719676062\" style=\"background-color:rgba(255, 0, 0, 0.741221719676062);text-decoration: underline\"> pm</span>"
            ],
            "text/plain": [
              "<IPython.core.display.HTML object>"
            ]
          },
          "metadata": {
            "tags": []
          }
        },
        {
          "output_type": "stream",
          "text": [
            "\n"
          ],
          "name": "stdout"
        },
        {
          "output_type": "display_data",
          "data": {
            "text/html": [
              "<span title=\"0.023493325174294734\" style=\"background-color:rgba(255, 0, 0, 0.023493325174294734);\"> There</span><span title=\"0.014414662625211957\" style=\"background-color:rgba(255, 0, 0, 0.014414662625211957);\"> were</span><span title=\"0.5825612207117883\" style=\"background-color:rgba(255, 0, 0, 0.5825612207117883);text-decoration: underline\"> 12,843</span><span title=\"0.13251620761354727\" style=\"background-color:rgba(255, 0, 0, 0.13251620761354727);text-decoration: underline\"> (</span><span title=\"0.3935716850406395\" style=\"background-color:rgba(255, 0, 0, 0.3935716850406395);text-decoration: underline\"> 8.1</span><span title=\"0.3382926619349638\" style=\"background-color:rgba(255, 0, 0, 0.3382926619349638);text-decoration: underline\"> %</span><span title=\"0.15505593991390645\" style=\"background-color:rgba(255, 0, 0, 0.15505593991390645);text-decoration: underline\"> )</span><span title=\"0.1819277862229959\" style=\"background-color:rgba(255, 0, 0, 0.1819277862229959);\"> unmarried</span><span title=\"0.20283835511700124\" style=\"background-color:rgba(255, 0, 0, 0.20283835511700124);\"> opposite</span><span title=\"0.19406907958941516\" style=\"background-color:rgba(255, 0, 0, 0.19406907958941516);\"> -</span><span title=\"0.22206449592740313\" style=\"background-color:rgba(255, 0, 0, 0.22206449592740313);\"> sex</span><span title=\"0.21125153908868782\" style=\"background-color:rgba(255, 0, 0, 0.21125153908868782);\"> partnerships</span><span title=\"0.11839733100106958\" style=\"background-color:rgba(255, 0, 0, 0.11839733100106958);\"> ,</span><span title=\"0.12098305392758257\" style=\"background-color:rgba(255, 0, 0, 0.12098305392758257);\"> and</span><span title=\"0.3987338710402072\" style=\"background-color:rgba(255, 0, 0, 0.3987338710402072);text-decoration: underline\"> 1,388</span><span title=\"0.11366628757930292\" style=\"background-color:rgba(255, 0, 0, 0.11366628757930292);text-decoration: underline\"> (</span><span title=\"0.3565671843885753\" style=\"background-color:rgba(255, 0, 0, 0.3565671843885753);text-decoration: underline\"> 0.9</span><span title=\"0.3150145614509167\" style=\"background-color:rgba(255, 0, 0, 0.3150145614509167);text-decoration: underline\"> %</span><span title=\"0.125505789423974\" style=\"background-color:rgba(255, 0, 0, 0.125505789423974);text-decoration: underline\"> )</span><span title=\"0.134595060842053\" style=\"background-color:rgba(255, 0, 0, 0.134595060842053);\"> same</span><span title=\"0.13626097180250613\" style=\"background-color:rgba(255, 0, 0, 0.13626097180250613);\"> -</span><span title=\"0.1564910951864749\" style=\"background-color:rgba(255, 0, 0, 0.1564910951864749);\"> sex</span><span title=\"0.1624668821074686\" style=\"background-color:rgba(255, 0, 0, 0.1624668821074686);\"> married</span><span title=\"0.18117792345907763\" style=\"background-color:rgba(255, 0, 0, 0.18117792345907763);\"> couples</span><span title=\"0.16196484005331258\" style=\"background-color:rgba(255, 0, 0, 0.16196484005331258);\"> or</span><span title=\"0.1789976227106041\" style=\"background-color:rgba(255, 0, 0, 0.1789976227106041);\"> partnerships</span><span title=\"0.03640231774909076\" style=\"background-color:rgba(255, 0, 0, 0.03640231774909076);\"> .</span>"
            ],
            "text/plain": [
              "<IPython.core.display.HTML object>"
            ]
          },
          "metadata": {
            "tags": []
          }
        },
        {
          "output_type": "stream",
          "text": [
            "\n"
          ],
          "name": "stdout"
        },
        {
          "output_type": "display_data",
          "data": {
            "text/html": [
              "<span title=\"0.518215933903511\" style=\"background-color:rgba(255, 0, 0, 0.518215933903511);text-decoration: underline\"> State</span><span title=\"0.5475826208365302\" style=\"background-color:rgba(255, 0, 0, 0.5475826208365302);text-decoration: underline\"> Route</span><span title=\"0.6311886993805533\" style=\"background-color:rgba(255, 0, 0, 0.6311886993805533);text-decoration: underline\"> 41</span>"
            ],
            "text/plain": [
              "<IPython.core.display.HTML object>"
            ]
          },
          "metadata": {
            "tags": []
          }
        },
        {
          "output_type": "stream",
          "text": [
            "\n"
          ],
          "name": "stdout"
        },
        {
          "output_type": "display_data",
          "data": {
            "text/html": [
              "<span title=\"0.21121234703596858\" style=\"background-color:rgba(255, 0, 0, 0.21121234703596858);\"> Passenger</span><span title=\"0.19449382811637178\" style=\"background-color:rgba(255, 0, 0, 0.19449382811637178);\"> rail</span><span title=\"0.17063665055879215\" style=\"background-color:rgba(255, 0, 0, 0.17063665055879215);\"> service</span><span title=\"0.052011743780223496\" style=\"background-color:rgba(255, 0, 0, 0.052011743780223496);\"> is</span><span title=\"0.0540843689774602\" style=\"background-color:rgba(255, 0, 0, 0.0540843689774602);\"> provided</span><span title=\"0.07336340071327399\" style=\"background-color:rgba(255, 0, 0, 0.07336340071327399);\"> by</span><span title=\"0.6497178641100563\" style=\"background-color:rgba(255, 0, 0, 0.6497178641100563);text-decoration: underline\"> Amtrak</span><span title=\"0.6410384074082028\" style=\"background-color:rgba(255, 0, 0, 0.6410384074082028);text-decoration: underline\"> San</span><span title=\"0.6148334218571352\" style=\"background-color:rgba(255, 0, 0, 0.6148334218571352);text-decoration: underline\"> Joaquins</span><span title=\"0.06458993609015971\" style=\"background-color:rgba(255, 0, 0, 0.06458993609015971);\"> .</span>"
            ],
            "text/plain": [
              "<IPython.core.display.HTML object>"
            ]
          },
          "metadata": {
            "tags": []
          }
        },
        {
          "output_type": "stream",
          "text": [
            "\n"
          ],
          "name": "stdout"
        },
        {
          "output_type": "display_data",
          "data": {
            "text/html": [
              "<span title=\"0.07379777972713196\" style=\"background-color:rgba(255, 0, 0, 0.07379777972713196);\"> The</span><span title=\"0.14625466952415028\" style=\"background-color:rgba(255, 0, 0, 0.14625466952415028);\"> DECnet</span><span title=\"0.097752831891319\" style=\"background-color:rgba(255, 0, 0, 0.097752831891319);\"> protocols</span><span title=\"0.02477662605022113\" style=\"background-color:rgba(255, 0, 0, 0.02477662605022113);\"> were</span><span title=\"0.030367610282836677\" style=\"background-color:rgba(255, 0, 0, 0.030367610282836677);text-decoration: underline\"> designed</span><span title=\"0.047356872121231075\" style=\"background-color:rgba(255, 0, 0, 0.047356872121231075);text-decoration: underline\"> entirely</span><span title=\"0.06896962579794685\" style=\"background-color:rgba(255, 0, 0, 0.06896962579794685);text-decoration: underline\"> by</span><span title=\"0.680306498558072\" style=\"background-color:rgba(255, 0, 0, 0.680306498558072);text-decoration: underline\"> Digital</span><span title=\"0.6701363182607304\" style=\"background-color:rgba(255, 0, 0, 0.6701363182607304);text-decoration: underline\"> Equipment</span><span title=\"0.6455839386810732\" style=\"background-color:rgba(255, 0, 0, 0.6455839386810732);text-decoration: underline\"> Corporation</span><span title=\"0.06939008331701454\" style=\"background-color:rgba(255, 0, 0, 0.06939008331701454);\"> .</span>"
            ],
            "text/plain": [
              "<IPython.core.display.HTML object>"
            ]
          },
          "metadata": {
            "tags": []
          }
        },
        {
          "output_type": "stream",
          "text": [
            "\n"
          ],
          "name": "stdout"
        },
        {
          "output_type": "display_data",
          "data": {
            "text/html": [
              "<span title=\"0.030905764594322083\" style=\"background-color:rgba(255, 0, 0, 0.030905764594322083);\"> In</span><span title=\"0.08289145754956534\" style=\"background-color:rgba(255, 0, 0, 0.08289145754956534);\"> total</span><span title=\"0.01296577470190103\" style=\"background-color:rgba(255, 0, 0, 0.01296577470190103);\"> ,</span><span title=\"0.04147815794739131\" style=\"background-color:rgba(255, 0, 0, 0.04147815794739131);\"> the</span><span title=\"0.08111094273451697\" style=\"background-color:rgba(255, 0, 0, 0.08111094273451697);\"> plague</span><span title=\"0.024092935203138845\" style=\"background-color:rgba(255, 0, 0, 0.024092935203138845);\"> reduced</span><span title=\"0.06555914777459604\" style=\"background-color:rgba(255, 0, 0, 0.06555914777459604);\"> the</span><span title=\"0.13131638781771166\" style=\"background-color:rgba(255, 0, 0, 0.13131638781771166);\"> world</span><span title=\"0.11233842883114471\" style=\"background-color:rgba(255, 0, 0, 0.11233842883114471);\"> population</span><span title=\"0.037573955607204196\" style=\"background-color:rgba(255, 0, 0, 0.037573955607204196);\"> from</span><span title=\"0.0584400411444389\" style=\"background-color:rgba(255, 0, 0, 0.0584400411444389);\"> an</span><span title=\"0.09415349272934985\" style=\"background-color:rgba(255, 0, 0, 0.09415349272934985);\"> estimated</span><span title=\"0.35336280535202075\" style=\"background-color:rgba(255, 0, 0, 0.35336280535202075);\"> 450</span><span title=\"0.3083862407208495\" style=\"background-color:rgba(255, 0, 0, 0.3083862407208495);\"> million</span><span title=\"0.1354949195764286\" style=\"background-color:rgba(255, 0, 0, 0.1354949195764286);\"> down</span><span title=\"0.10242877424222555\" style=\"background-color:rgba(255, 0, 0, 0.10242877424222555);\"> to</span><span title=\"0.6703099925922632\" style=\"background-color:rgba(255, 0, 0, 0.6703099925922632);\"> 350–375</span><span title=\"0.6273238481248259\" style=\"background-color:rgba(255, 0, 0, 0.6273238481248259);\"> million</span><span title=\"0.09104723830265066\" style=\"background-color:rgba(255, 0, 0, 0.09104723830265066);\"> in</span><span title=\"0.20641252557608375\" style=\"background-color:rgba(255, 0, 0, 0.20641252557608375);\"> the</span><span title=\"0.37959680776516924\" style=\"background-color:rgba(255, 0, 0, 0.37959680776516924);\"> 14th</span><span title=\"0.3739148035405729\" style=\"background-color:rgba(255, 0, 0, 0.3739148035405729);\"> century</span><span title=\"0.04663204753825636\" style=\"background-color:rgba(255, 0, 0, 0.04663204753825636);\"> .</span>"
            ],
            "text/plain": [
              "<IPython.core.display.HTML object>"
            ]
          },
          "metadata": {
            "tags": []
          }
        },
        {
          "output_type": "stream",
          "text": [
            "\n"
          ],
          "name": "stdout"
        },
        {
          "output_type": "display_data",
          "data": {
            "text/html": [
              "<span title=\"0.06617431825162537\" style=\"background-color:rgba(255, 0, 0, 0.06617431825162537);\"> The</span><span title=\"0.09851071777603412\" style=\"background-color:rgba(255, 0, 0, 0.09851071777603412);\"> plague</span><span title=\"0.07896251516034053\" style=\"background-color:rgba(255, 0, 0, 0.07896251516034053);\"> theory</span><span title=\"0.012925925542495054\" style=\"background-color:rgba(255, 0, 0, 0.012925925542495054);\"> was</span><span title=\"0.019994479564503478\" style=\"background-color:rgba(255, 0, 0, 0.019994479564503478);\"> first</span><span title=\"0.028797165314672475\" style=\"background-color:rgba(255, 0, 0, 0.028797165314672475);\"> significantly</span><span title=\"0.030233040990102652\" style=\"background-color:rgba(255, 0, 0, 0.030233040990102652);\"> challenged</span><span title=\"0.04055263665739797\" style=\"background-color:rgba(255, 0, 0, 0.04055263665739797);\"> by</span><span title=\"0.08206944511255493\" style=\"background-color:rgba(255, 0, 0, 0.08206944511255493);\"> the</span><span title=\"0.10113531981134735\" style=\"background-color:rgba(255, 0, 0, 0.10113531981134735);\"> work</span><span title=\"0.0571639080985219\" style=\"background-color:rgba(255, 0, 0, 0.0571639080985219);\"> of</span><span title=\"0.3172620926654265\" style=\"background-color:rgba(255, 0, 0, 0.3172620926654265);text-decoration: underline\"> British</span><span title=\"0.3039072241335301\" style=\"background-color:rgba(255, 0, 0, 0.3039072241335301);text-decoration: underline\"> bacteriologist</span><span title=\"0.42851097201498284\" style=\"background-color:rgba(255, 0, 0, 0.42851097201498284);text-decoration: underline\"> J.</span><span title=\"0.4489654403013059\" style=\"background-color:rgba(255, 0, 0, 0.4489654403013059);text-decoration: underline\"> F.</span><span title=\"0.4399077671102325\" style=\"background-color:rgba(255, 0, 0, 0.4399077671102325);text-decoration: underline\"> D.</span><span title=\"0.41178880563532916\" style=\"background-color:rgba(255, 0, 0, 0.41178880563532916);text-decoration: underline\"> Shrewsbury</span><span title=\"0.04402330374126116\" style=\"background-color:rgba(255, 0, 0, 0.04402330374126116);\"> in</span><span title=\"0.6045904281076999\" style=\"background-color:rgba(255, 0, 0, 0.6045904281076999);\"> 1970</span><span title=\"0.06442619518243374\" style=\"background-color:rgba(255, 0, 0, 0.06442619518243374);\"> ,</span><span title=\"0.05303825268590287\" style=\"background-color:rgba(255, 0, 0, 0.05303825268590287);\"> who</span><span title=\"0.047454759492054924\" style=\"background-color:rgba(255, 0, 0, 0.047454759492054924);\"> noted</span><span title=\"0.05558139607612825\" style=\"background-color:rgba(255, 0, 0, 0.05558139607612825);\"> that</span><span title=\"0.09688795381698237\" style=\"background-color:rgba(255, 0, 0, 0.09688795381698237);text-decoration: underline\"> the</span><span title=\"0.14201248446657094\" style=\"background-color:rgba(255, 0, 0, 0.14201248446657094);text-decoration: underline\"> reported</span><span title=\"0.1621570366718945\" style=\"background-color:rgba(255, 0, 0, 0.1621570366718945);text-decoration: underline\"> rates</span><span title=\"0.1323073796485226\" style=\"background-color:rgba(255, 0, 0, 0.1323073796485226);text-decoration: underline\"> of</span><span title=\"0.1718463831700452\" style=\"background-color:rgba(255, 0, 0, 0.1718463831700452);text-decoration: underline\"> mortality</span><span title=\"0.09311464683993918\" style=\"background-color:rgba(255, 0, 0, 0.09311464683993918);text-decoration: underline\"> in</span><span title=\"0.14590863317619113\" style=\"background-color:rgba(255, 0, 0, 0.14590863317619113);text-decoration: underline\"> rural</span><span title=\"0.13378457608597175\" style=\"background-color:rgba(255, 0, 0, 0.13378457608597175);text-decoration: underline\"> areas</span><span title=\"0.08186781395397254\" style=\"background-color:rgba(255, 0, 0, 0.08186781395397254);text-decoration: underline\"> during</span><span title=\"0.1042988166123385\" style=\"background-color:rgba(255, 0, 0, 0.1042988166123385);text-decoration: underline\"> the</span><span title=\"0.3088547556627101\" style=\"background-color:rgba(255, 0, 0, 0.3088547556627101);text-decoration: underline\"> 14th</span><span title=\"0.27823443112316826\" style=\"background-color:rgba(255, 0, 0, 0.27823443112316826);text-decoration: underline\"> -</span><span title=\"0.27972763311817833\" style=\"background-color:rgba(255, 0, 0, 0.27972763311817833);text-decoration: underline\"> century</span><span title=\"0.23052836189889114\" style=\"background-color:rgba(255, 0, 0, 0.23052836189889114);text-decoration: underline\"> pandemic</span><span title=\"0.11229124455413754\" style=\"background-color:rgba(255, 0, 0, 0.11229124455413754);text-decoration: underline\"> were</span><span title=\"0.13235461247449468\" style=\"background-color:rgba(255, 0, 0, 0.13235461247449468);text-decoration: underline\"> inconsistent</span><span title=\"0.11065976573133345\" style=\"background-color:rgba(255, 0, 0, 0.11065976573133345);text-decoration: underline\"> with</span><span title=\"0.12533846309245528\" style=\"background-color:rgba(255, 0, 0, 0.12533846309245528);text-decoration: underline\"> the</span><span title=\"0.16606033375981738\" style=\"background-color:rgba(255, 0, 0, 0.16606033375981738);text-decoration: underline\"> modern</span><span title=\"0.17108954965516476\" style=\"background-color:rgba(255, 0, 0, 0.17108954965516476);text-decoration: underline\"> bubonic</span><span title=\"0.17018582640133267\" style=\"background-color:rgba(255, 0, 0, 0.17018582640133267);text-decoration: underline\"> plague</span><span title=\"0.04494383874581747\" style=\"background-color:rgba(255, 0, 0, 0.04494383874581747);\"> ,</span><span title=\"0.043799530370194524\" style=\"background-color:rgba(255, 0, 0, 0.043799530370194524);\"> leading</span><span title=\"0.05035811625194846\" style=\"background-color:rgba(255, 0, 0, 0.05035811625194846);\"> him</span><span title=\"0.058100529195848516\" style=\"background-color:rgba(255, 0, 0, 0.058100529195848516);\"> to</span><span title=\"0.07097536822752717\" style=\"background-color:rgba(255, 0, 0, 0.07097536822752717);\"> conclude</span><span title=\"0.07092226836437678\" style=\"background-color:rgba(255, 0, 0, 0.07092226836437678);\"> that</span><span title=\"0.17132200387951935\" style=\"background-color:rgba(255, 0, 0, 0.17132200387951935);text-decoration: underline\"> contemporary</span><span title=\"0.15487364142277754\" style=\"background-color:rgba(255, 0, 0, 0.15487364142277754);text-decoration: underline\"> accounts</span><span title=\"0.08814451989431961\" style=\"background-color:rgba(255, 0, 0, 0.08814451989431961);text-decoration: underline\"> were</span><span title=\"0.10880585437139957\" style=\"background-color:rgba(255, 0, 0, 0.10880585437139957);text-decoration: underline\"> exaggerations</span><span title=\"0.0272895703970578\" style=\"background-color:rgba(255, 0, 0, 0.0272895703970578);\"> .</span>"
            ],
            "text/plain": [
              "<IPython.core.display.HTML object>"
            ]
          },
          "metadata": {
            "tags": []
          }
        },
        {
          "output_type": "stream",
          "text": [
            "\n"
          ],
          "name": "stdout"
        },
        {
          "output_type": "display_data",
          "data": {
            "text/html": [
              "<span title=\"0.04793127952998862\" style=\"background-color:rgba(255, 0, 0, 0.04793127952998862);text-decoration: underline\"> The</span><span title=\"0.07666967405959207\" style=\"background-color:rgba(255, 0, 0, 0.07666967405959207);text-decoration: underline\"> first</span><span title=\"0.09161251104143037\" style=\"background-color:rgba(255, 0, 0, 0.09161251104143037);text-decoration: underline\"> geological</span><span title=\"0.09043077971982783\" style=\"background-color:rgba(255, 0, 0, 0.09043077971982783);text-decoration: underline\"> map</span><span title=\"0.066931340072747\" style=\"background-color:rgba(255, 0, 0, 0.066931340072747);text-decoration: underline\"> of</span><span title=\"0.07820900838814478\" style=\"background-color:rgba(255, 0, 0, 0.07820900838814478);text-decoration: underline\"> the</span><span title=\"0.13294707381690918\" style=\"background-color:rgba(255, 0, 0, 0.13294707381690918);text-decoration: underline\"> U.S.</span><span title=\"0.014356233250275427\" style=\"background-color:rgba(255, 0, 0, 0.014356233250275427);\"> was</span><span title=\"0.019765406906287652\" style=\"background-color:rgba(255, 0, 0, 0.019765406906287652);\"> produced</span><span title=\"0.021007456658167875\" style=\"background-color:rgba(255, 0, 0, 0.021007456658167875);text-decoration: underline\"> in</span><span title=\"0.34083478302034975\" style=\"background-color:rgba(255, 0, 0, 0.34083478302034975);text-decoration: underline\"> 1809</span><span title=\"0.07027707168584767\" style=\"background-color:rgba(255, 0, 0, 0.07027707168584767);\"> by</span><span title=\"0.6298183450508259\" style=\"background-color:rgba(255, 0, 0, 0.6298183450508259);text-decoration: underline\"> William</span><span title=\"0.6004754512430569\" style=\"background-color:rgba(255, 0, 0, 0.6004754512430569);text-decoration: underline\"> Maclure</span><span title=\"0.06283954436668292\" style=\"background-color:rgba(255, 0, 0, 0.06283954436668292);\"> .</span>"
            ],
            "text/plain": [
              "<IPython.core.display.HTML object>"
            ]
          },
          "metadata": {
            "tags": []
          }
        },
        {
          "output_type": "stream",
          "text": [
            "\n"
          ],
          "name": "stdout"
        },
        {
          "output_type": "display_data",
          "data": {
            "text/html": [
              "<span title=\"0.07736206773912033\" style=\"background-color:rgba(255, 0, 0, 0.07736206773912033);\"> The</span><span title=\"0.26410781208342365\" style=\"background-color:rgba(255, 0, 0, 0.26410781208342365);\"> Latin</span><span title=\"0.237985589650625\" style=\"background-color:rgba(255, 0, 0, 0.237985589650625);\"> translation</span><span title=\"0.5993436584207028\" style=\"background-color:rgba(255, 0, 0, 0.5993436584207028);text-decoration: underline\"> De</span><span title=\"0.6666357843982321\" style=\"background-color:rgba(255, 0, 0, 0.6666357843982321);text-decoration: underline\"> Materia</span><span title=\"0.6991302124261746\" style=\"background-color:rgba(255, 0, 0, 0.6991302124261746);text-decoration: underline\"> Medica</span>"
            ],
            "text/plain": [
              "<IPython.core.display.HTML object>"
            ]
          },
          "metadata": {
            "tags": []
          }
        },
        {
          "output_type": "stream",
          "text": [
            "\n"
          ],
          "name": "stdout"
        },
        {
          "output_type": "display_data",
          "data": {
            "text/html": [
              "<span title=\"0.1328784531823924\" style=\"background-color:rgba(255, 0, 0, 0.1328784531823924);\"> Percent</span><span title=\"0.10029244919374875\" style=\"background-color:rgba(255, 0, 0, 0.10029244919374875);\"> of</span><span title=\"0.14361711568368368\" style=\"background-color:rgba(255, 0, 0, 0.14361711568368368);\"> students</span><span title=\"0.07278836878109139\" style=\"background-color:rgba(255, 0, 0, 0.07278836878109139);\"> in</span><span title=\"0.1365660231013054\" style=\"background-color:rgba(255, 0, 0, 0.1365660231013054);\"> private</span><span title=\"0.14492406736624708\" style=\"background-color:rgba(255, 0, 0, 0.14492406736624708);\"> high</span><span title=\"0.1409020278211574\" style=\"background-color:rgba(255, 0, 0, 0.1409020278211574);\"> schools</span><span title=\"0.05016582650159743\" style=\"background-color:rgba(255, 0, 0, 0.05016582650159743);\"> reached</span><span title=\"0.695842530291765\" style=\"background-color:rgba(255, 0, 0, 0.695842530291765);text-decoration: underline\"> 11.1</span><span title=\"0.6143432953765837\" style=\"background-color:rgba(255, 0, 0, 0.6143432953765837);text-decoration: underline\"> %</span><span title=\"0.07939737204332929\" style=\"background-color:rgba(255, 0, 0, 0.07939737204332929);\"> .</span>"
            ],
            "text/plain": [
              "<IPython.core.display.HTML object>"
            ]
          },
          "metadata": {
            "tags": []
          }
        },
        {
          "output_type": "stream",
          "text": [
            "\n"
          ],
          "name": "stdout"
        },
        {
          "output_type": "display_data",
          "data": {
            "text/html": [
              "<span title=\"0.05627505335016841\" style=\"background-color:rgba(255, 0, 0, 0.05627505335016841);\"> The</span><span title=\"0.12374394930527152\" style=\"background-color:rgba(255, 0, 0, 0.12374394930527152);\"> Swedish</span><span title=\"0.09523689856556157\" style=\"background-color:rgba(255, 0, 0, 0.09523689856556157);\"> system</span><span title=\"0.03251029762013338\" style=\"background-color:rgba(255, 0, 0, 0.03251029762013338);\"> has</span><span title=\"0.03037220358869527\" style=\"background-color:rgba(255, 0, 0, 0.03037220358869527);\"> been</span><span title=\"0.033997308263894556\" style=\"background-color:rgba(255, 0, 0, 0.033997308263894556);\"> recommended</span><span title=\"0.06006143264331683\" style=\"background-color:rgba(255, 0, 0, 0.06006143264331683);\"> to</span><span title=\"0.6560823484559106\" style=\"background-color:rgba(255, 0, 0, 0.6560823484559106);\"> Barack</span><span title=\"0.6210217166617795\" style=\"background-color:rgba(255, 0, 0, 0.6210217166617795);\"> Obama</span><span title=\"0.06555534803040788\" style=\"background-color:rgba(255, 0, 0, 0.06555534803040788);\"> .</span>"
            ],
            "text/plain": [
              "<IPython.core.display.HTML object>"
            ]
          },
          "metadata": {
            "tags": []
          }
        },
        {
          "output_type": "stream",
          "text": [
            "\n"
          ],
          "name": "stdout"
        },
        {
          "output_type": "display_data",
          "data": {
            "text/html": [
              "<span title=\"0.035360534070619766\" style=\"background-color:rgba(255, 0, 0, 0.035360534070619766);\"> Established</span><span title=\"0.031047195562107513\" style=\"background-color:rgba(255, 0, 0, 0.031047195562107513);\"> originally</span><span title=\"0.030003067486363753\" style=\"background-color:rgba(255, 0, 0, 0.030003067486363753);\"> by</span><span title=\"0.06499435158365256\" style=\"background-color:rgba(255, 0, 0, 0.06499435158365256);\"> the</span><span title=\"0.20552010316983604\" style=\"background-color:rgba(255, 0, 0, 0.20552010316983604);\"> Massachusetts</span><span title=\"0.15567009322774458\" style=\"background-color:rgba(255, 0, 0, 0.15567009322774458);\"> legislature</span><span title=\"0.08567071549714969\" style=\"background-color:rgba(255, 0, 0, 0.08567071549714969);\"> and</span><span title=\"0.08016803725258403\" style=\"background-color:rgba(255, 0, 0, 0.08016803725258403);\"> soon</span><span title=\"0.06531197131144621\" style=\"background-color:rgba(255, 0, 0, 0.06531197131144621);\"> thereafter</span><span title=\"0.059957117312090115\" style=\"background-color:rgba(255, 0, 0, 0.059957117312090115);\"> named</span><span title=\"0.06636301311153983\" style=\"background-color:rgba(255, 0, 0, 0.06636301311153983);\"> for</span><span title=\"0.6078893727874866\" style=\"background-color:rgba(255, 0, 0, 0.6078893727874866);text-decoration: underline\"> John</span><span title=\"0.5611261003758792\" style=\"background-color:rgba(255, 0, 0, 0.5611261003758792);text-decoration: underline\"> Harvard</span><span title=\"0.08869079310867245\" style=\"background-color:rgba(255, 0, 0, 0.08869079310867245);\"> (</span><span title=\"0.07886192469819232\" style=\"background-color:rgba(255, 0, 0, 0.07886192469819232);\"> its</span><span title=\"0.10932116707204692\" style=\"background-color:rgba(255, 0, 0, 0.10932116707204692);\"> first</span><span title=\"0.1250451830887939\" style=\"background-color:rgba(255, 0, 0, 0.1250451830887939);\"> benefactor</span><span title=\"0.051320073872594144\" style=\"background-color:rgba(255, 0, 0, 0.051320073872594144);\"> )</span><span title=\"0.015729260125963148\" style=\"background-color:rgba(255, 0, 0, 0.015729260125963148);\"> ,</span><span title=\"0.17642300391599824\" style=\"background-color:rgba(255, 0, 0, 0.17642300391599824);\"> Harvard</span><span title=\"0.04793506111928007\" style=\"background-color:rgba(255, 0, 0, 0.04793506111928007);\"> is</span><span title=\"0.1784296134831547\" style=\"background-color:rgba(255, 0, 0, 0.1784296134831547);text-decoration: underline\"> the</span><span title=\"0.376813656526795\" style=\"background-color:rgba(255, 0, 0, 0.376813656526795);text-decoration: underline\"> United</span><span title=\"0.34695194177648225\" style=\"background-color:rgba(255, 0, 0, 0.34695194177648225);text-decoration: underline\"> States</span><span title=\"0.2864210930004198\" style=\"background-color:rgba(255, 0, 0, 0.2864210930004198);text-decoration: underline\"> '</span><span title=\"0.25836745344834877\" style=\"background-color:rgba(255, 0, 0, 0.25836745344834877);text-decoration: underline\"> oldest</span><span title=\"0.24912467833733062\" style=\"background-color:rgba(255, 0, 0, 0.24912467833733062);text-decoration: underline\"> institution</span><span title=\"0.20581257217313348\" style=\"background-color:rgba(255, 0, 0, 0.20581257217313348);text-decoration: underline\"> of</span><span title=\"0.2558655563410968\" style=\"background-color:rgba(255, 0, 0, 0.2558655563410968);text-decoration: underline\"> higher</span><span title=\"0.24689100563008165\" style=\"background-color:rgba(255, 0, 0, 0.24689100563008165);text-decoration: underline\"> learning</span><span title=\"0.0692291980162761\" style=\"background-color:rgba(255, 0, 0, 0.0692291980162761);\"> ,</span><span title=\"0.05951947653158687\" style=\"background-color:rgba(255, 0, 0, 0.05951947653158687);\"> and</span><span title=\"0.1758324980180215\" style=\"background-color:rgba(255, 0, 0, 0.1758324980180215);\"> the</span><span title=\"0.40373863973531043\" style=\"background-color:rgba(255, 0, 0, 0.40373863973531043);\"> Harvard</span><span title=\"0.3766932387008344\" style=\"background-color:rgba(255, 0, 0, 0.3766932387008344);\"> Corporation</span><span title=\"0.12944969941799853\" style=\"background-color:rgba(255, 0, 0, 0.12944969941799853);\"> (</span><span title=\"0.14310370442640324\" style=\"background-color:rgba(255, 0, 0, 0.14310370442640324);\"> formally</span><span title=\"0.11595135126048321\" style=\"background-color:rgba(255, 0, 0, 0.11595135126048321);\"> ,</span><span title=\"0.14173146175535223\" style=\"background-color:rgba(255, 0, 0, 0.14173146175535223);\"> the</span><span title=\"0.2647878969994828\" style=\"background-color:rgba(255, 0, 0, 0.2647878969994828);\"> President</span><span title=\"0.21334959646541693\" style=\"background-color:rgba(255, 0, 0, 0.21334959646541693);\"> and</span><span title=\"0.23439901250600909\" style=\"background-color:rgba(255, 0, 0, 0.23439901250600909);\"> Fellows</span><span title=\"0.1745848242911659\" style=\"background-color:rgba(255, 0, 0, 0.1745848242911659);\"> of</span><span title=\"0.39106824114487215\" style=\"background-color:rgba(255, 0, 0, 0.39106824114487215);\"> Harvard</span><span title=\"0.3745733565936163\" style=\"background-color:rgba(255, 0, 0, 0.3745733565936163);\"> College</span><span title=\"0.0634264418420928\" style=\"background-color:rgba(255, 0, 0, 0.0634264418420928);\"> )</span><span title=\"0.02775983319835735\" style=\"background-color:rgba(255, 0, 0, 0.02775983319835735);\"> is</span><span title=\"0.035230457288614236\" style=\"background-color:rgba(255, 0, 0, 0.035230457288614236);\"> its</span><span title=\"0.0589618643276873\" style=\"background-color:rgba(255, 0, 0, 0.0589618643276873);\"> first</span><span title=\"0.06465352422670073\" style=\"background-color:rgba(255, 0, 0, 0.06465352422670073);\"> chartered</span><span title=\"0.09658916407009488\" style=\"background-color:rgba(255, 0, 0, 0.09658916407009488);\"> corporation</span><span title=\"0.02595755449043534\" style=\"background-color:rgba(255, 0, 0, 0.02595755449043534);\"> .</span>"
            ],
            "text/plain": [
              "<IPython.core.display.HTML object>"
            ]
          },
          "metadata": {
            "tags": []
          }
        },
        {
          "output_type": "stream",
          "text": [
            "\n"
          ],
          "name": "stdout"
        },
        {
          "output_type": "display_data",
          "data": {
            "text/html": [
              "<span title=\"0.032297797135272574\" style=\"background-color:rgba(255, 0, 0, 0.032297797135272574);\"> However</span><span title=\"0.01420239912214299\" style=\"background-color:rgba(255, 0, 0, 0.01420239912214299);\"> ,</span><span title=\"0.03730590014521788\" style=\"background-color:rgba(255, 0, 0, 0.03730590014521788);\"> the</span><span title=\"0.07819628985029488\" style=\"background-color:rgba(255, 0, 0, 0.07819628985029488);\"> university</span><span title=\"0.020125333992835302\" style=\"background-color:rgba(255, 0, 0, 0.020125333992835302);\"> did</span><span title=\"0.03663674240637123\" style=\"background-color:rgba(255, 0, 0, 0.03663674240637123);\"> eventually</span><span title=\"0.04755494205427556\" style=\"background-color:rgba(255, 0, 0, 0.04755494205427556);\"> reduce</span><span title=\"0.07846806869555842\" style=\"background-color:rgba(255, 0, 0, 0.07846806869555842);\"> its</span><span title=\"0.20437981996825733\" style=\"background-color:rgba(255, 0, 0, 0.20437981996825733);\"> South</span><span title=\"0.19670262177444395\" style=\"background-color:rgba(255, 0, 0, 0.19670262177444395);\"> African</span><span title=\"0.15427379123054505\" style=\"background-color:rgba(255, 0, 0, 0.15427379123054505);\"> holdings</span><span title=\"0.11185568279433572\" style=\"background-color:rgba(255, 0, 0, 0.11185568279433572);\"> by</span><span title=\"0.6386398909891814\" style=\"background-color:rgba(255, 0, 0, 0.6386398909891814);text-decoration: underline\"> $</span><span title=\"0.7634459238085858\" style=\"background-color:rgba(255, 0, 0, 0.7634459238085858);text-decoration: underline\"> 230</span><span title=\"0.7231399533061692\" style=\"background-color:rgba(255, 0, 0, 0.7231399533061692);text-decoration: underline\"> million</span><span title=\"0.2052055992279767\" style=\"background-color:rgba(255, 0, 0, 0.2052055992279767);\"> (</span><span title=\"0.19807261481069413\" style=\"background-color:rgba(255, 0, 0, 0.19807261481069413);\"> out</span><span title=\"0.21330349360127077\" style=\"background-color:rgba(255, 0, 0, 0.21330349360127077);\"> of</span><span title=\"0.4908881724941466\" style=\"background-color:rgba(255, 0, 0, 0.4908881724941466);text-decoration: underline\"> $</span><span title=\"0.6479348490774097\" style=\"background-color:rgba(255, 0, 0, 0.6479348490774097);text-decoration: underline\"> 400</span><span title=\"0.6038154735204609\" style=\"background-color:rgba(255, 0, 0, 0.6038154735204609);text-decoration: underline\"> million</span><span title=\"0.09512706860304875\" style=\"background-color:rgba(255, 0, 0, 0.09512706860304875);\"> )</span><span title=\"0.05521468780359601\" style=\"background-color:rgba(255, 0, 0, 0.05521468780359601);\"> in</span><span title=\"0.09537533838729015\" style=\"background-color:rgba(255, 0, 0, 0.09537533838729015);\"> response</span><span title=\"0.05657124785158691\" style=\"background-color:rgba(255, 0, 0, 0.05657124785158691);\"> to</span><span title=\"0.08353508591619214\" style=\"background-color:rgba(255, 0, 0, 0.08353508591619214);\"> the</span><span title=\"0.12044918263217586\" style=\"background-color:rgba(255, 0, 0, 0.12044918263217586);\"> pressure</span><span title=\"0.02440832316080061\" style=\"background-color:rgba(255, 0, 0, 0.02440832316080061);\"> .</span>"
            ],
            "text/plain": [
              "<IPython.core.display.HTML object>"
            ]
          },
          "metadata": {
            "tags": []
          }
        },
        {
          "output_type": "stream",
          "text": [
            "\n"
          ],
          "name": "stdout"
        },
        {
          "output_type": "display_data",
          "data": {
            "text/html": [
              "<span title=\"0.03373328640957626\" style=\"background-color:rgba(255, 0, 0, 0.03373328640957626);\"> They</span><span title=\"0.02950949293131013\" style=\"background-color:rgba(255, 0, 0, 0.02950949293131013);\"> soon</span><span title=\"0.023844924062643734\" style=\"background-color:rgba(255, 0, 0, 0.023844924062643734);\"> named</span><span title=\"0.06661736742690373\" style=\"background-color:rgba(255, 0, 0, 0.06661736742690373);\"> the</span><span title=\"0.11218402409013939\" style=\"background-color:rgba(255, 0, 0, 0.11218402409013939);\"> town</span><span title=\"0.12131327438187631\" style=\"background-color:rgba(255, 0, 0, 0.12131327438187631);text-decoration: underline\"> Jacksonville</span><span title=\"0.03349874802308586\" style=\"background-color:rgba(255, 0, 0, 0.03349874802308586);\"> ,</span><span title=\"0.05622434593665054\" style=\"background-color:rgba(255, 0, 0, 0.05622434593665054);\"> after</span><span title=\"0.6566800630348723\" style=\"background-color:rgba(255, 0, 0, 0.6566800630348723);\"> Andrew</span><span title=\"0.6309210583994022\" style=\"background-color:rgba(255, 0, 0, 0.6309210583994022);\"> Jackson</span><span title=\"0.05600996024510049\" style=\"background-color:rgba(255, 0, 0, 0.05600996024510049);\"> .</span>"
            ],
            "text/plain": [
              "<IPython.core.display.HTML object>"
            ]
          },
          "metadata": {
            "tags": []
          }
        },
        {
          "output_type": "stream",
          "text": [
            "\n"
          ],
          "name": "stdout"
        },
        {
          "output_type": "display_data",
          "data": {
            "text/html": [
              "<span title=\"0.03636011677425667\" style=\"background-color:rgba(255, 0, 0, 0.03636011677425667);\"> Led</span><span title=\"0.0480136840091726\" style=\"background-color:rgba(255, 0, 0, 0.0480136840091726);\"> by</span><span title=\"0.6096874800267261\" style=\"background-color:rgba(255, 0, 0, 0.6096874800267261);\"> Isaiah</span><span title=\"0.5923111987384418\" style=\"background-color:rgba(255, 0, 0, 0.5923111987384418);\"> D.</span><span title=\"0.5758750631643076\" style=\"background-color:rgba(255, 0, 0, 0.5758750631643076);\"> Hart</span><span title=\"0.05403186547884193\" style=\"background-color:rgba(255, 0, 0, 0.05403186547884193);\"> ,</span><span title=\"0.0802640214976114\" style=\"background-color:rgba(255, 0, 0, 0.0802640214976114);\"> residents</span><span title=\"0.04057559415688167\" style=\"background-color:rgba(255, 0, 0, 0.04057559415688167);\"> wrote</span><span title=\"0.08712416411233924\" style=\"background-color:rgba(255, 0, 0, 0.08712416411233924);\"> a</span><span title=\"0.12025963569037514\" style=\"background-color:rgba(255, 0, 0, 0.12025963569037514);\"> charter</span><span title=\"0.08132210381888787\" style=\"background-color:rgba(255, 0, 0, 0.08132210381888787);\"> for</span><span title=\"0.11521341027349045\" style=\"background-color:rgba(255, 0, 0, 0.11521341027349045);\"> a</span><span title=\"0.16336284913592802\" style=\"background-color:rgba(255, 0, 0, 0.16336284913592802);\"> town</span><span title=\"0.16005544048470055\" style=\"background-color:rgba(255, 0, 0, 0.16005544048470055);\"> government</span><span title=\"0.039912591281147415\" style=\"background-color:rgba(255, 0, 0, 0.039912591281147415);\"> ,</span><span title=\"0.0284519564945549\" style=\"background-color:rgba(255, 0, 0, 0.0284519564945549);\"> which</span><span title=\"0.021072981719513918\" style=\"background-color:rgba(255, 0, 0, 0.021072981719513918);\"> was</span><span title=\"0.02955584053228871\" style=\"background-color:rgba(255, 0, 0, 0.02955584053228871);\"> approved</span><span title=\"0.039007926005773436\" style=\"background-color:rgba(255, 0, 0, 0.039007926005773436);\"> by</span><span title=\"0.13166033233063806\" style=\"background-color:rgba(255, 0, 0, 0.13166033233063806);\"> the</span><span title=\"0.287114864017217\" style=\"background-color:rgba(255, 0, 0, 0.287114864017217);\"> Florida</span><span title=\"0.2774880001927178\" style=\"background-color:rgba(255, 0, 0, 0.2774880001927178);\"> Legislative</span><span title=\"0.2629700867157748\" style=\"background-color:rgba(255, 0, 0, 0.2629700867157748);\"> Council</span><span title=\"0.11120011922868517\" style=\"background-color:rgba(255, 0, 0, 0.11120011922868517);\"> on</span><span title=\"0.38222250502148136\" style=\"background-color:rgba(255, 0, 0, 0.38222250502148136);text-decoration: underline\"> February</span><span title=\"0.3611604798287619\" style=\"background-color:rgba(255, 0, 0, 0.3611604798287619);text-decoration: underline\"> 9</span><span title=\"0.2281043560383058\" style=\"background-color:rgba(255, 0, 0, 0.2281043560383058);text-decoration: underline\"> ,</span><span title=\"0.3187895554537795\" style=\"background-color:rgba(255, 0, 0, 0.3187895554537795);text-decoration: underline\"> 1832</span><span title=\"0.028054717384969046\" style=\"background-color:rgba(255, 0, 0, 0.028054717384969046);text-decoration: underline\"> .</span>"
            ],
            "text/plain": [
              "<IPython.core.display.HTML object>"
            ]
          },
          "metadata": {
            "tags": []
          }
        },
        {
          "output_type": "stream",
          "text": [
            "\n"
          ],
          "name": "stdout"
        },
        {
          "output_type": "display_data",
          "data": {
            "text/html": [
              "<span title=\"0.031188677307945716\" style=\"background-color:rgba(255, 0, 0, 0.031188677307945716);\"> On</span><span title=\"0.2305887603058744\" style=\"background-color:rgba(255, 0, 0, 0.2305887603058744);\"> May</span><span title=\"0.24083266702912245\" style=\"background-color:rgba(255, 0, 0, 0.24083266702912245);\"> 28</span><span title=\"0.12343396925679949\" style=\"background-color:rgba(255, 0, 0, 0.12343396925679949);\"> ,</span><span title=\"0.2186754190759465\" style=\"background-color:rgba(255, 0, 0, 0.2186754190759465);\"> 2012</span><span title=\"0.015331877009923079\" style=\"background-color:rgba(255, 0, 0, 0.015331877009923079);\"> ,</span><span title=\"0.1347788583939168\" style=\"background-color:rgba(255, 0, 0, 0.1347788583939168);\"> Jacksonville</span><span title=\"0.01801789016437144\" style=\"background-color:rgba(255, 0, 0, 0.01801789016437144);\"> was</span><span title=\"0.024707429988508278\" style=\"background-color:rgba(255, 0, 0, 0.024707429988508278);\"> hit</span><span title=\"0.04827086726707617\" style=\"background-color:rgba(255, 0, 0, 0.04827086726707617);\"> by</span><span title=\"0.6423194312169339\" style=\"background-color:rgba(255, 0, 0, 0.6423194312169339);text-decoration: underline\"> Tropical</span><span title=\"0.6241811477309688\" style=\"background-color:rgba(255, 0, 0, 0.6241811477309688);text-decoration: underline\"> Storm</span><span title=\"0.5905423781814911\" style=\"background-color:rgba(255, 0, 0, 0.5905423781814911);text-decoration: underline\"> Beryl</span><span title=\"0.07650522980661092\" style=\"background-color:rgba(255, 0, 0, 0.07650522980661092);\"> ,</span><span title=\"0.07078664289630109\" style=\"background-color:rgba(255, 0, 0, 0.07078664289630109);\"> packing</span><span title=\"0.09602486164130128\" style=\"background-color:rgba(255, 0, 0, 0.09602486164130128);\"> winds</span><span title=\"0.04990387335506845\" style=\"background-color:rgba(255, 0, 0, 0.04990387335506845);\"> up</span><span title=\"0.04955764415615109\" style=\"background-color:rgba(255, 0, 0, 0.04955764415615109);\"> to</span><span title=\"0.4386236730355742\" style=\"background-color:rgba(255, 0, 0, 0.4386236730355742);\"> 70</span><span title=\"0.3466858275122312\" style=\"background-color:rgba(255, 0, 0, 0.3466858275122312);\"> miles</span><span title=\"0.2455244587866945\" style=\"background-color:rgba(255, 0, 0, 0.2455244587866945);\"> per</span><span title=\"0.26179966138128297\" style=\"background-color:rgba(255, 0, 0, 0.26179966138128297);\"> hour</span><span title=\"0.06115191593870145\" style=\"background-color:rgba(255, 0, 0, 0.06115191593870145);\"> (</span><span title=\"0.28704184184309\" style=\"background-color:rgba(255, 0, 0, 0.28704184184309);\"> 113</span><span title=\"0.21090088206040827\" style=\"background-color:rgba(255, 0, 0, 0.21090088206040827);\"> km</span><span title=\"0.16450983790898585\" style=\"background-color:rgba(255, 0, 0, 0.16450983790898585);\"> /</span><span title=\"0.1582188263164163\" style=\"background-color:rgba(255, 0, 0, 0.1582188263164163);\"> h</span><span title=\"0.052812561020714285\" style=\"background-color:rgba(255, 0, 0, 0.052812561020714285);\"> )</span><span title=\"0.030831919968842936\" style=\"background-color:rgba(255, 0, 0, 0.030831919968842936);\"> which</span><span title=\"0.03308106773050852\" style=\"background-color:rgba(255, 0, 0, 0.03308106773050852);\"> made</span><span title=\"0.08667089008290946\" style=\"background-color:rgba(255, 0, 0, 0.08667089008290946);\"> landfall</span><span title=\"0.07728111716425606\" style=\"background-color:rgba(255, 0, 0, 0.07728111716425606);\"> near</span><span title=\"0.23827693511714965\" style=\"background-color:rgba(255, 0, 0, 0.23827693511714965);\"> Jacksonville</span><span title=\"0.23903070879806\" style=\"background-color:rgba(255, 0, 0, 0.23903070879806);\"> Beach</span><span title=\"0.02357251677273481\" style=\"background-color:rgba(255, 0, 0, 0.02357251677273481);\"> .</span>"
            ],
            "text/plain": [
              "<IPython.core.display.HTML object>"
            ]
          },
          "metadata": {
            "tags": []
          }
        },
        {
          "output_type": "stream",
          "text": [
            "\n"
          ],
          "name": "stdout"
        },
        {
          "output_type": "display_data",
          "data": {
            "text/html": [
              "<span title=\"0.05926187795859457\" style=\"background-color:rgba(255, 0, 0, 0.05926187795859457);\"> The</span><span title=\"0.08357814950847658\" style=\"background-color:rgba(255, 0, 0, 0.08357814950847658);\"> combined</span><span title=\"0.08842109909853801\" style=\"background-color:rgba(255, 0, 0, 0.08842109909853801);\"> wealth</span><span title=\"0.05937333055345019\" style=\"background-color:rgba(255, 0, 0, 0.05937333055345019);\"> of</span><span title=\"0.07138935493245227\" style=\"background-color:rgba(255, 0, 0, 0.07138935493245227);text-decoration: underline\"> the</span><span title=\"0.08370984627596678\" style=\"background-color:rgba(255, 0, 0, 0.08370984627596678);text-decoration: underline\"> \"</span><span title=\"0.7171505141940049\" style=\"background-color:rgba(255, 0, 0, 0.7171505141940049);text-decoration: underline\"> 10</span><span title=\"0.6798768287753563\" style=\"background-color:rgba(255, 0, 0, 0.6798768287753563);text-decoration: underline\"> million</span><span title=\"0.6041421751447307\" style=\"background-color:rgba(255, 0, 0, 0.6041421751447307);text-decoration: underline\"> dollar</span><span title=\"0.540083557180894\" style=\"background-color:rgba(255, 0, 0, 0.540083557180894);text-decoration: underline\"> millionaires</span><span title=\"0.21492936341684232\" style=\"background-color:rgba(255, 0, 0, 0.21492936341684232);text-decoration: underline\"> \"</span><span title=\"0.12700125421994413\" style=\"background-color:rgba(255, 0, 0, 0.12700125421994413);text-decoration: underline\"> grew</span><span title=\"0.12581436993876638\" style=\"background-color:rgba(255, 0, 0, 0.12581436993876638);text-decoration: underline\"> to</span><span title=\"0.1996682723711588\" style=\"background-color:rgba(255, 0, 0, 0.1996682723711588);text-decoration: underline\"> nearly</span><span title=\"0.2644239548656029\" style=\"background-color:rgba(255, 0, 0, 0.2644239548656029);text-decoration: underline\"> $</span><span title=\"0.3717414000553956\" style=\"background-color:rgba(255, 0, 0, 0.3717414000553956);text-decoration: underline\"> 41</span><span title=\"0.3331225626143068\" style=\"background-color:rgba(255, 0, 0, 0.3331225626143068);text-decoration: underline\"> trillion</span><span title=\"0.07983609348477103\" style=\"background-color:rgba(255, 0, 0, 0.07983609348477103);text-decoration: underline\"> in</span><span title=\"0.3958675022832069\" style=\"background-color:rgba(255, 0, 0, 0.3958675022832069);text-decoration: underline\"> 2008</span><span title=\"0.02820198332331521\" style=\"background-color:rgba(255, 0, 0, 0.02820198332331521);\"> .</span>"
            ],
            "text/plain": [
              "<IPython.core.display.HTML object>"
            ]
          },
          "metadata": {
            "tags": []
          }
        },
        {
          "output_type": "stream",
          "text": [
            "\n"
          ],
          "name": "stdout"
        },
        {
          "output_type": "display_data",
          "data": {
            "text/html": [
              "<span title=\"0.18234797472817635\" style=\"background-color:rgba(255, 0, 0, 0.18234797472817635);\"> The</span><span title=\"0.25697815086901704\" style=\"background-color:rgba(255, 0, 0, 0.25697815086901704);\"> University</span><span title=\"0.20774731104127847\" style=\"background-color:rgba(255, 0, 0, 0.20774731104127847);\"> of</span><span title=\"0.2506620353868429\" style=\"background-color:rgba(255, 0, 0, 0.2506620353868429);\"> Chicago</span><span title=\"0.02497549892496384\" style=\"background-color:rgba(255, 0, 0, 0.02497549892496384);\"> was</span><span title=\"0.03729099002050524\" style=\"background-color:rgba(255, 0, 0, 0.03729099002050524);\"> created</span><span title=\"0.03532353783745136\" style=\"background-color:rgba(255, 0, 0, 0.03532353783745136);\"> and</span><span title=\"0.04058784374482727\" style=\"background-color:rgba(255, 0, 0, 0.04058784374482727);\"> incorporated</span><span title=\"0.0381487502077789\" style=\"background-color:rgba(255, 0, 0, 0.0381487502077789);\"> as</span><span title=\"0.08770936025852469\" style=\"background-color:rgba(255, 0, 0, 0.08770936025852469);\"> a</span><span title=\"0.12438822861791461\" style=\"background-color:rgba(255, 0, 0, 0.12438822861791461);\"> coeducational</span><span title=\"0.07995119999623669\" style=\"background-color:rgba(255, 0, 0, 0.07995119999623669);\"> ,</span><span title=\"0.10659561614686994\" style=\"background-color:rgba(255, 0, 0, 0.10659561614686994);\"> secular</span><span title=\"0.10280670928470571\" style=\"background-color:rgba(255, 0, 0, 0.10280670928470571);\"> institution</span><span title=\"0.02663259668097994\" style=\"background-color:rgba(255, 0, 0, 0.02663259668097994);\"> in</span><span title=\"0.35288888987397554\" style=\"background-color:rgba(255, 0, 0, 0.35288888987397554);text-decoration: underline\"> 1890</span><span title=\"0.05649497363868625\" style=\"background-color:rgba(255, 0, 0, 0.05649497363868625);\"> by</span><span title=\"0.17772228889711775\" style=\"background-color:rgba(255, 0, 0, 0.17772228889711775);\"> the</span><span title=\"0.31988594266187487\" style=\"background-color:rgba(255, 0, 0, 0.31988594266187487);\"> American</span><span title=\"0.30950800026504155\" style=\"background-color:rgba(255, 0, 0, 0.30950800026504155);\"> Baptist</span><span title=\"0.30538204282500786\" style=\"background-color:rgba(255, 0, 0, 0.30538204282500786);\"> Education</span><span title=\"0.2846085135139039\" style=\"background-color:rgba(255, 0, 0, 0.2846085135139039);\"> Society</span><span title=\"0.12679256018412408\" style=\"background-color:rgba(255, 0, 0, 0.12679256018412408);\"> and</span><span title=\"0.12454647186913945\" style=\"background-color:rgba(255, 0, 0, 0.12454647186913945);\"> a</span><span title=\"0.1296675785402465\" style=\"background-color:rgba(255, 0, 0, 0.1296675785402465);\"> donation</span><span title=\"0.07816735116013293\" style=\"background-color:rgba(255, 0, 0, 0.07816735116013293);\"> from</span><span title=\"0.12206969965639254\" style=\"background-color:rgba(255, 0, 0, 0.12206969965639254);\"> oil</span><span title=\"0.11331197029639362\" style=\"background-color:rgba(255, 0, 0, 0.11331197029639362);\"> magnate</span><span title=\"0.08259590883823109\" style=\"background-color:rgba(255, 0, 0, 0.08259590883823109);\"> and</span><span title=\"0.09768395495042333\" style=\"background-color:rgba(255, 0, 0, 0.09768395495042333);\"> philanthropist</span><span title=\"0.16625277400482255\" style=\"background-color:rgba(255, 0, 0, 0.16625277400482255);\"> John</span><span title=\"0.1568846440080296\" style=\"background-color:rgba(255, 0, 0, 0.1568846440080296);\"> D.</span><span title=\"0.14455315392217907\" style=\"background-color:rgba(255, 0, 0, 0.14455315392217907);\"> Rockefeller</span><span title=\"0.035259009479957686\" style=\"background-color:rgba(255, 0, 0, 0.035259009479957686);\"> on</span><span title=\"0.07388518204848797\" style=\"background-color:rgba(255, 0, 0, 0.07388518204848797);\"> land</span><span title=\"0.036903196828326594\" style=\"background-color:rgba(255, 0, 0, 0.036903196828326594);\"> donated</span><span title=\"0.054009218127596736\" style=\"background-color:rgba(255, 0, 0, 0.054009218127596736);\"> by</span><span title=\"0.6086934791282107\" style=\"background-color:rgba(255, 0, 0, 0.6086934791282107);text-decoration: underline\"> Marshall</span><span title=\"0.5737475038724527\" style=\"background-color:rgba(255, 0, 0, 0.5737475038724527);text-decoration: underline\"> Field</span><span title=\"0.060125746956552914\" style=\"background-color:rgba(255, 0, 0, 0.060125746956552914);\"> .</span>"
            ],
            "text/plain": [
              "<IPython.core.display.HTML object>"
            ]
          },
          "metadata": {
            "tags": []
          }
        },
        {
          "output_type": "stream",
          "text": [
            "\n"
          ],
          "name": "stdout"
        },
        {
          "output_type": "display_data",
          "data": {
            "text/html": [
              "<span title=\"0.07473135677374097\" style=\"background-color:rgba(255, 0, 0, 0.07473135677374097);\"> The</span><span title=\"0.091529270535309\" style=\"background-color:rgba(255, 0, 0, 0.091529270535309);\"> program</span><span title=\"0.028091264777817433\" style=\"background-color:rgba(255, 0, 0, 0.028091264777817433);text-decoration: underline\"> passed</span><span title=\"0.034912741396387025\" style=\"background-color:rgba(255, 0, 0, 0.034912741396387025);\"> into</span><span title=\"0.09196099455617954\" style=\"background-color:rgba(255, 0, 0, 0.09196099455617954);\"> history</span><span title=\"0.0338016154987043\" style=\"background-color:rgba(255, 0, 0, 0.0338016154987043);\"> by</span><span title=\"0.5757024040594962\" style=\"background-color:rgba(255, 0, 0, 0.5757024040594962);text-decoration: underline\"> 1910</span><span title=\"0.03254740524697786\" style=\"background-color:rgba(255, 0, 0, 0.03254740524697786);\"> .</span>"
            ],
            "text/plain": [
              "<IPython.core.display.HTML object>"
            ]
          },
          "metadata": {
            "tags": []
          }
        },
        {
          "output_type": "stream",
          "text": [
            "\n"
          ],
          "name": "stdout"
        },
        {
          "output_type": "display_data",
          "data": {
            "text/html": [
              "<span title=\"0.020365398579202987\" style=\"background-color:rgba(255, 0, 0, 0.020365398579202987);\"> As</span><span title=\"0.02995855861783972\" style=\"background-color:rgba(255, 0, 0, 0.02995855861783972);\"> of</span><span title=\"0.25711131350417676\" style=\"background-color:rgba(255, 0, 0, 0.25711131350417676);\"> August</span><span title=\"0.1751051554258284\" style=\"background-color:rgba(255, 0, 0, 0.1751051554258284);\"> 2009[update</span><span title=\"0.051684523744347635\" style=\"background-color:rgba(255, 0, 0, 0.051684523744347635);\"> ]</span><span title=\"0.0251790843012852\" style=\"background-color:rgba(255, 0, 0, 0.0251790843012852);\"> ,</span><span title=\"0.10342368503186236\" style=\"background-color:rgba(255, 0, 0, 0.10342368503186236);\"> the</span><span title=\"0.2462765704878453\" style=\"background-color:rgba(255, 0, 0, 0.2462765704878453);\"> Chairman</span><span title=\"0.17807732237543347\" style=\"background-color:rgba(255, 0, 0, 0.17807732237543347);\"> of</span><span title=\"0.21771888058053096\" style=\"background-color:rgba(255, 0, 0, 0.21771888058053096);\"> the</span><span title=\"0.3043831869697043\" style=\"background-color:rgba(255, 0, 0, 0.3043831869697043);\"> Board</span><span title=\"0.23115964063419914\" style=\"background-color:rgba(255, 0, 0, 0.23115964063419914);\"> of</span><span title=\"0.3132576824567297\" style=\"background-color:rgba(255, 0, 0, 0.3132576824567297);\"> Trustees</span><span title=\"0.05066304336768497\" style=\"background-color:rgba(255, 0, 0, 0.05066304336768497);\"> is</span><span title=\"0.6044664378119945\" style=\"background-color:rgba(255, 0, 0, 0.6044664378119945);text-decoration: underline\"> Andrew</span><span title=\"0.5747067107524076\" style=\"background-color:rgba(255, 0, 0, 0.5747067107524076);text-decoration: underline\"> Alper</span><span title=\"0.11312982175968772\" style=\"background-color:rgba(255, 0, 0, 0.11312982175968772);\"> ,</span><span title=\"0.09253133557066356\" style=\"background-color:rgba(255, 0, 0, 0.09253133557066356);\"> and</span><span title=\"0.13290713148722594\" style=\"background-color:rgba(255, 0, 0, 0.13290713148722594);\"> the</span><span title=\"0.22300103402357413\" style=\"background-color:rgba(255, 0, 0, 0.22300103402357413);\"> President</span><span title=\"0.14624521227171\" style=\"background-color:rgba(255, 0, 0, 0.14624521227171);\"> of</span><span title=\"0.15575460484092976\" style=\"background-color:rgba(255, 0, 0, 0.15575460484092976);\"> the</span><span title=\"0.16425828630797026\" style=\"background-color:rgba(255, 0, 0, 0.16425828630797026);\"> university</span><span title=\"0.07200324657342379\" style=\"background-color:rgba(255, 0, 0, 0.07200324657342379);\"> is</span><span title=\"0.5306346149982518\" style=\"background-color:rgba(255, 0, 0, 0.5306346149982518);text-decoration: underline\"> Robert</span><span title=\"0.5039311061001337\" style=\"background-color:rgba(255, 0, 0, 0.5039311061001337);text-decoration: underline\"> Zimmer</span><span title=\"0.065240547672265\" style=\"background-color:rgba(255, 0, 0, 0.065240547672265);\"> .</span>"
            ],
            "text/plain": [
              "<IPython.core.display.HTML object>"
            ]
          },
          "metadata": {
            "tags": []
          }
        },
        {
          "output_type": "stream",
          "text": [
            "\n"
          ],
          "name": "stdout"
        },
        {
          "output_type": "display_data",
          "data": {
            "text/html": [
              "<span title=\"0.15270209229407086\" style=\"background-color:rgba(255, 0, 0, 0.15270209229407086);text-decoration: underline\"> Isaacs</span><span title=\"0.01775540993679302\" style=\"background-color:rgba(255, 0, 0, 0.01775540993679302);\"> was</span><span title=\"0.02578860754105415\" style=\"background-color:rgba(255, 0, 0, 0.02578860754105415);\"> replaced</span><span title=\"0.037227687565178594\" style=\"background-color:rgba(255, 0, 0, 0.037227687565178594);\"> as</span><span title=\"0.18727694058798264\" style=\"background-color:rgba(255, 0, 0, 0.18727694058798264);\"> Provost</span><span title=\"0.027873384095988968\" style=\"background-color:rgba(255, 0, 0, 0.027873384095988968);\"> in</span><span title=\"0.27110123855247215\" style=\"background-color:rgba(255, 0, 0, 0.27110123855247215);\"> March</span><span title=\"0.20638316774740906\" style=\"background-color:rgba(255, 0, 0, 0.20638316774740906);\"> 2016</span><span title=\"0.0639699267412574\" style=\"background-color:rgba(255, 0, 0, 0.0639699267412574);\"> by</span><span title=\"0.6378254308225432\" style=\"background-color:rgba(255, 0, 0, 0.6378254308225432);text-decoration: underline\"> Daniel</span><span title=\"0.6063212921141996\" style=\"background-color:rgba(255, 0, 0, 0.6063212921141996);text-decoration: underline\"> Diermeier</span><span title=\"0.06437999071505814\" style=\"background-color:rgba(255, 0, 0, 0.06437999071505814);\"> .</span>"
            ],
            "text/plain": [
              "<IPython.core.display.HTML object>"
            ]
          },
          "metadata": {
            "tags": []
          }
        },
        {
          "output_type": "stream",
          "text": [
            "\n"
          ],
          "name": "stdout"
        },
        {
          "output_type": "display_data",
          "data": {
            "text/html": [
              "<span title=\"0.03445484640271221\" style=\"background-color:rgba(255, 0, 0, 0.03445484640271221);\"> It</span><span title=\"0.007754699350995417\" style=\"background-color:rgba(255, 0, 0, 0.007754699350995417);\"> was</span><span title=\"0.03309194539521749\" style=\"background-color:rgba(255, 0, 0, 0.03309194539521749);\"> the</span><span title=\"0.08334539851677265\" style=\"background-color:rgba(255, 0, 0, 0.08334539851677265);\"> first</span><span title=\"0.0867826676410681\" style=\"background-color:rgba(255, 0, 0, 0.0867826676410681);\"> foreign</span><span title=\"0.08312893993400418\" style=\"background-color:rgba(255, 0, 0, 0.08312893993400418);\"> dynasty</span><span title=\"0.059560447028204365\" style=\"background-color:rgba(255, 0, 0, 0.059560447028204365);\"> to</span><span title=\"0.07031684546416755\" style=\"background-color:rgba(255, 0, 0, 0.07031684546416755);\"> rule</span><span title=\"0.08025124203248796\" style=\"background-color:rgba(255, 0, 0, 0.08025124203248796);\"> all</span><span title=\"0.07540434931758358\" style=\"background-color:rgba(255, 0, 0, 0.07540434931758358);\"> of</span><span title=\"0.18723099899920112\" style=\"background-color:rgba(255, 0, 0, 0.18723099899920112);\"> China</span><span title=\"0.04490390880940076\" style=\"background-color:rgba(255, 0, 0, 0.04490390880940076);\"> and</span><span title=\"0.037086382991684666\" style=\"background-color:rgba(255, 0, 0, 0.037086382991684666);\"> lasted</span><span title=\"0.03866679029406592\" style=\"background-color:rgba(255, 0, 0, 0.03866679029406592);\"> until</span><span title=\"0.6123229321572632\" style=\"background-color:rgba(255, 0, 0, 0.6123229321572632);\"> 1368</span><span title=\"0.04517594899517737\" style=\"background-color:rgba(255, 0, 0, 0.04517594899517737);\"> ,</span><span title=\"0.02742136728604022\" style=\"background-color:rgba(255, 0, 0, 0.02742136728604022);\"> after</span><span title=\"0.030102428511959198\" style=\"background-color:rgba(255, 0, 0, 0.030102428511959198);\"> which</span><span title=\"0.036053976109175635\" style=\"background-color:rgba(255, 0, 0, 0.036053976109175635);\"> its</span><span title=\"0.10988344271081987\" style=\"background-color:rgba(255, 0, 0, 0.10988344271081987);\"> Genghisid</span><span title=\"0.07795725118586247\" style=\"background-color:rgba(255, 0, 0, 0.07795725118586247);\"> rulers</span><span title=\"0.03957913331105247\" style=\"background-color:rgba(255, 0, 0, 0.03957913331105247);\"> returned</span><span title=\"0.039055023444069824\" style=\"background-color:rgba(255, 0, 0, 0.039055023444069824);\"> to</span><span title=\"0.055110339986711235\" style=\"background-color:rgba(255, 0, 0, 0.055110339986711235);\"> their</span><span title=\"0.12009101038617245\" style=\"background-color:rgba(255, 0, 0, 0.12009101038617245);\"> Mongolian</span><span title=\"0.10293708736989016\" style=\"background-color:rgba(255, 0, 0, 0.10293708736989016);\"> homeland</span><span title=\"0.06453172228956541\" style=\"background-color:rgba(255, 0, 0, 0.06453172228956541);\"> and</span><span title=\"0.05833135610026745\" style=\"background-color:rgba(255, 0, 0, 0.05833135610026745);\"> continued</span><span title=\"0.06216581081031227\" style=\"background-color:rgba(255, 0, 0, 0.06216581081031227);\"> to</span><span title=\"0.07819285146144472\" style=\"background-color:rgba(255, 0, 0, 0.07819285146144472);\"> rule</span><span title=\"0.15529235215414114\" style=\"background-color:rgba(255, 0, 0, 0.15529235215414114);\"> the</span><span title=\"0.34736309486069117\" style=\"background-color:rgba(255, 0, 0, 0.34736309486069117);\"> Northern</span><span title=\"0.33463115172246016\" style=\"background-color:rgba(255, 0, 0, 0.33463115172246016);\"> Yuan</span><span title=\"0.30903065001325003\" style=\"background-color:rgba(255, 0, 0, 0.30903065001325003);\"> dynasty</span><span title=\"0.044440580818553385\" style=\"background-color:rgba(255, 0, 0, 0.044440580818553385);\"> .</span>"
            ],
            "text/plain": [
              "<IPython.core.display.HTML object>"
            ]
          },
          "metadata": {
            "tags": []
          }
        },
        {
          "output_type": "stream",
          "text": [
            "\n"
          ],
          "name": "stdout"
        },
        {
          "output_type": "display_data",
          "data": {
            "text/html": [
              "<span title=\"0.058673994812807544\" style=\"background-color:rgba(255, 0, 0, 0.058673994812807544);\"> The</span><span title=\"0.07293791455537205\" style=\"background-color:rgba(255, 0, 0, 0.07293791455537205);\"> dynasty</span><span title=\"0.014621501963259158\" style=\"background-color:rgba(255, 0, 0, 0.014621501963259158);\"> was</span><span title=\"0.020145560465724504\" style=\"background-color:rgba(255, 0, 0, 0.020145560465724504);\"> established</span><span title=\"0.048079894557065725\" style=\"background-color:rgba(255, 0, 0, 0.048079894557065725);\"> by</span><span title=\"0.6200292242109314\" style=\"background-color:rgba(255, 0, 0, 0.6200292242109314);\"> Kublai</span><span title=\"0.5710229698647208\" style=\"background-color:rgba(255, 0, 0, 0.5710229698647208);\"> Khan</span><span title=\"0.06059913911235415\" style=\"background-color:rgba(255, 0, 0, 0.06059913911235415);\"> ,</span><span title=\"0.04165669411285913\" style=\"background-color:rgba(255, 0, 0, 0.04165669411285913);\"> yet</span><span title=\"0.03866175047660517\" style=\"background-color:rgba(255, 0, 0, 0.03866175047660517);\"> he</span><span title=\"0.03333211288849804\" style=\"background-color:rgba(255, 0, 0, 0.03333211288849804);\"> placed</span><span title=\"0.04755531026386152\" style=\"background-color:rgba(255, 0, 0, 0.04755531026386152);\"> his</span><span title=\"0.11436432793495119\" style=\"background-color:rgba(255, 0, 0, 0.11436432793495119);\"> grandfather</span><span title=\"0.19177751906579776\" style=\"background-color:rgba(255, 0, 0, 0.19177751906579776);text-decoration: underline\"> Genghis</span><span title=\"0.1671995990074606\" style=\"background-color:rgba(255, 0, 0, 0.1671995990074606);text-decoration: underline\"> Khan</span><span title=\"0.05373409923613166\" style=\"background-color:rgba(255, 0, 0, 0.05373409923613166);\"> on</span><span title=\"0.08648142595797415\" style=\"background-color:rgba(255, 0, 0, 0.08648142595797415);\"> the</span><span title=\"0.11682013183131097\" style=\"background-color:rgba(255, 0, 0, 0.11682013183131097);\"> imperial</span><span title=\"0.10449384067117445\" style=\"background-color:rgba(255, 0, 0, 0.10449384067117445);\"> records</span><span title=\"0.046857831811390784\" style=\"background-color:rgba(255, 0, 0, 0.046857831811390784);\"> as</span><span title=\"0.09432715083354187\" style=\"background-color:rgba(255, 0, 0, 0.09432715083354187);\"> the</span><span title=\"0.1414368840739128\" style=\"background-color:rgba(255, 0, 0, 0.1414368840739128);\"> official</span><span title=\"0.1427985024802388\" style=\"background-color:rgba(255, 0, 0, 0.1427985024802388);\"> founder</span><span title=\"0.10529465702027269\" style=\"background-color:rgba(255, 0, 0, 0.10529465702027269);\"> of</span><span title=\"0.12953454445157947\" style=\"background-color:rgba(255, 0, 0, 0.12953454445157947);\"> the</span><span title=\"0.16017029974736935\" style=\"background-color:rgba(255, 0, 0, 0.16017029974736935);\"> dynasty</span><span title=\"0.12066894144085882\" style=\"background-color:rgba(255, 0, 0, 0.12066894144085882);\"> as</span><span title=\"0.22689781495623268\" style=\"background-color:rgba(255, 0, 0, 0.22689781495623268);\"> Taizu.[b</span><span title=\"0.12247358650615765\" style=\"background-color:rgba(255, 0, 0, 0.12247358650615765);\"> ]</span>"
            ],
            "text/plain": [
              "<IPython.core.display.HTML object>"
            ]
          },
          "metadata": {
            "tags": []
          }
        },
        {
          "output_type": "stream",
          "text": [
            "\n"
          ],
          "name": "stdout"
        },
        {
          "output_type": "display_data",
          "data": {
            "text/html": [
              "<span title=\"0.06713465069658939\" style=\"background-color:rgba(255, 0, 0, 0.06713465069658939);\"> The</span><span title=\"0.08253991682472972\" style=\"background-color:rgba(255, 0, 0, 0.08253991682472972);\"> counterpart</span><span title=\"0.03910725346542192\" style=\"background-color:rgba(255, 0, 0, 0.03910725346542192);\"> in</span><span title=\"0.16065558086536258\" style=\"background-color:rgba(255, 0, 0, 0.16065558086536258);\"> Mongolian</span><span title=\"0.13102865993359\" style=\"background-color:rgba(255, 0, 0, 0.13102865993359);\"> language</span><span title=\"0.018842080110944917\" style=\"background-color:rgba(255, 0, 0, 0.018842080110944917);\"> was</span><span title=\"0.6369410632252707\" style=\"background-color:rgba(255, 0, 0, 0.6369410632252707);text-decoration: underline\"> Dai</span><span title=\"0.6166739621669651\" style=\"background-color:rgba(255, 0, 0, 0.6166739621669651);text-decoration: underline\"> Ön</span><span title=\"0.556925113722286\" style=\"background-color:rgba(255, 0, 0, 0.556925113722286);text-decoration: underline\"> Ulus</span><span title=\"0.08256047039156755\" style=\"background-color:rgba(255, 0, 0, 0.08256047039156755);text-decoration: underline\"> ,</span><span title=\"0.05817725359442784\" style=\"background-color:rgba(255, 0, 0, 0.05817725359442784);text-decoration: underline\"> also</span><span title=\"0.05846343653047696\" style=\"background-color:rgba(255, 0, 0, 0.05846343653047696);text-decoration: underline\"> rendered</span><span title=\"0.0642886329355973\" style=\"background-color:rgba(255, 0, 0, 0.0642886329355973);text-decoration: underline\"> as</span><span title=\"0.6783966874364613\" style=\"background-color:rgba(255, 0, 0, 0.6783966874364613);text-decoration: underline\"> Ikh</span><span title=\"0.6692624746259065\" style=\"background-color:rgba(255, 0, 0, 0.6692624746259065);text-decoration: underline\"> Yuan</span><span title=\"0.6406350243697435\" style=\"background-color:rgba(255, 0, 0, 0.6406350243697435);text-decoration: underline\"> Üls</span><span title=\"0.5050461699119111\" style=\"background-color:rgba(255, 0, 0, 0.5050461699119111);text-decoration: underline\"> or</span><span title=\"0.7850879969434915\" style=\"background-color:rgba(255, 0, 0, 0.7850879969434915);text-decoration: underline\"> Yekhe</span><span title=\"0.8016353138329109\" style=\"background-color:rgba(255, 0, 0, 0.8016353138329109);text-decoration: underline\"> Yuan</span>"
            ],
            "text/plain": [
              "<IPython.core.display.HTML object>"
            ]
          },
          "metadata": {
            "tags": []
          }
        },
        {
          "output_type": "stream",
          "text": [
            "\n"
          ],
          "name": "stdout"
        },
        {
          "output_type": "display_data",
          "data": {
            "text/html": [
              "<span title=\"0.15118576637521994\" style=\"background-color:rgba(255, 0, 0, 0.15118576637521994);text-decoration: underline\"> Great</span><span title=\"0.14805620853136373\" style=\"background-color:rgba(255, 0, 0, 0.14805620853136373);text-decoration: underline\"> Mongol</span><span title=\"0.14360891677780013\" style=\"background-color:rgba(255, 0, 0, 0.14360891677780013);text-decoration: underline\"> State</span><span title=\"0.0717918371342925\" style=\"background-color:rgba(255, 0, 0, 0.0717918371342925);\"> \"</span><span title=\"0.043801182062188665\" style=\"background-color:rgba(255, 0, 0, 0.043801182062188665);\"> )</span><span title=\"0.018407934061762322\" style=\"background-color:rgba(255, 0, 0, 0.018407934061762322);\"> ,</span><span title=\"0.020017239003175917\" style=\"background-color:rgba(255, 0, 0, 0.020017239003175917);\"> resulting</span><span title=\"0.05608301499785733\" style=\"background-color:rgba(255, 0, 0, 0.05608301499785733);\"> in</span><span title=\"0.8237250764725925\" style=\"background-color:rgba(255, 0, 0, 0.8237250764725925);\"> Dai</span><span title=\"0.839351922726218\" style=\"background-color:rgba(255, 0, 0, 0.839351922726218);\"> Ön</span><span title=\"0.8522381173324011\" style=\"background-color:rgba(255, 0, 0, 0.8522381173324011);\"> Yeke</span><span title=\"0.8603792093398009\" style=\"background-color:rgba(255, 0, 0, 0.8603792093398009);\"> Mongghul</span>"
            ],
            "text/plain": [
              "<IPython.core.display.HTML object>"
            ]
          },
          "metadata": {
            "tags": []
          }
        },
        {
          "output_type": "stream",
          "text": [
            "\n"
          ],
          "name": "stdout"
        },
        {
          "output_type": "display_data",
          "data": {
            "text/html": [
              "<span title=\"0.5826873998161796\" style=\"background-color:rgba(255, 0, 0, 0.5826873998161796);\"> Zhang</span><span title=\"0.6078058202912352\" style=\"background-color:rgba(255, 0, 0, 0.6078058202912352);\"> Rou</span>"
            ],
            "text/plain": [
              "<IPython.core.display.HTML object>"
            ]
          },
          "metadata": {
            "tags": []
          }
        },
        {
          "output_type": "stream",
          "text": [
            "\n"
          ],
          "name": "stdout"
        },
        {
          "output_type": "display_data",
          "data": {
            "text/html": [
              "<span title=\"0.2091998265238727\" style=\"background-color:rgba(255, 0, 0, 0.2091998265238727);\"> Chagaan</span><span title=\"0.09097151356659194\" style=\"background-color:rgba(255, 0, 0, 0.09097151356659194);\"> (</span><span title=\"0.2031430513083563\" style=\"background-color:rgba(255, 0, 0, 0.2031430513083563);\"> Tsagaan</span><span title=\"0.09004926163613752\" style=\"background-color:rgba(255, 0, 0, 0.09004926163613752);\"> )</span><span title=\"0.09051897062000433\" style=\"background-color:rgba(255, 0, 0, 0.09051897062000433);\"> and</span><span title=\"0.18210043269664605\" style=\"background-color:rgba(255, 0, 0, 0.18210043269664605);\"> Zhang</span><span title=\"0.15898074026563783\" style=\"background-color:rgba(255, 0, 0, 0.15898074026563783);\"> Rou</span><span title=\"0.05785838352562793\" style=\"background-color:rgba(255, 0, 0, 0.05785838352562793);\"> jointly</span><span title=\"0.04009869315035938\" style=\"background-color:rgba(255, 0, 0, 0.04009869315035938);\"> launched</span><span title=\"0.061655049656846976\" style=\"background-color:rgba(255, 0, 0, 0.061655049656846976);\"> an</span><span title=\"0.08180109354465075\" style=\"background-color:rgba(255, 0, 0, 0.08180109354465075);\"> attack</span><span title=\"0.042414818912922786\" style=\"background-color:rgba(255, 0, 0, 0.042414818912922786);\"> on</span><span title=\"0.09439320772254871\" style=\"background-color:rgba(255, 0, 0, 0.09439320772254871);text-decoration: underline\"> the</span><span title=\"0.18800102033994073\" style=\"background-color:rgba(255, 0, 0, 0.18800102033994073);text-decoration: underline\"> Song</span><span title=\"0.13150231692324388\" style=\"background-color:rgba(255, 0, 0, 0.13150231692324388);text-decoration: underline\"> dynasty</span><span title=\"0.092607915632162\" style=\"background-color:rgba(255, 0, 0, 0.092607915632162);\"> ordered</span><span title=\"0.10859138714573717\" style=\"background-color:rgba(255, 0, 0, 0.10859138714573717);\"> by</span><span title=\"0.6004843635216991\" style=\"background-color:rgba(255, 0, 0, 0.6004843635216991);\"> Töregene</span><span title=\"0.5855663332579212\" style=\"background-color:rgba(255, 0, 0, 0.5855663332579212);\"> Khatun</span><span title=\"0.05180138060872415\" style=\"background-color:rgba(255, 0, 0, 0.05180138060872415);\"> .</span>"
            ],
            "text/plain": [
              "<IPython.core.display.HTML object>"
            ]
          },
          "metadata": {
            "tags": []
          }
        },
        {
          "output_type": "stream",
          "text": [
            "\n"
          ],
          "name": "stdout"
        },
        {
          "output_type": "display_data",
          "data": {
            "text/html": [
              "<span title=\"0.2624144960947548\" style=\"background-color:rgba(255, 0, 0, 0.2624144960947548);\"> Mongol</span><span title=\"0.18770067883567337\" style=\"background-color:rgba(255, 0, 0, 0.18770067883567337);\"> rule</span><span title=\"0.03903538341784466\" style=\"background-color:rgba(255, 0, 0, 0.03903538341784466);\"> was</span><span title=\"0.07000841476341363\" style=\"background-color:rgba(255, 0, 0, 0.07000841476341363);\"> cosmopolitan</span><span title=\"0.05577334704778998\" style=\"background-color:rgba(255, 0, 0, 0.05577334704778998);\"> under</span><span title=\"0.5953899622925964\" style=\"background-color:rgba(255, 0, 0, 0.5953899622925964);\"> Kublai</span><span title=\"0.5733139970360083\" style=\"background-color:rgba(255, 0, 0, 0.5733139970360083);\"> Khan</span><span title=\"0.05425309154679894\" style=\"background-color:rgba(255, 0, 0, 0.05425309154679894);\"> .</span>"
            ],
            "text/plain": [
              "<IPython.core.display.HTML object>"
            ]
          },
          "metadata": {
            "tags": []
          }
        },
        {
          "output_type": "stream",
          "text": [
            "\n"
          ],
          "name": "stdout"
        },
        {
          "output_type": "display_data",
          "data": {
            "text/html": [
              "<span title=\"0.031178528509085278\" style=\"background-color:rgba(255, 0, 0, 0.031178528509085278);\"> Afterwards</span><span title=\"0.012378079032555361\" style=\"background-color:rgba(255, 0, 0, 0.012378079032555361);\"> ,</span><span title=\"0.41095379761179934\" style=\"background-color:rgba(255, 0, 0, 0.41095379761179934);\"> Tugh</span><span title=\"0.3777650490563847\" style=\"background-color:rgba(255, 0, 0, 0.3777650490563847);\"> Temür</span><span title=\"0.05598323462624927\" style=\"background-color:rgba(255, 0, 0, 0.05598323462624927);\"> abdicated</span><span title=\"0.05638714566706246\" style=\"background-color:rgba(255, 0, 0, 0.05638714566706246);\"> in</span><span title=\"0.11214848311434703\" style=\"background-color:rgba(255, 0, 0, 0.11214848311434703);\"> favour</span><span title=\"0.05868512524619929\" style=\"background-color:rgba(255, 0, 0, 0.05868512524619929);\"> of</span><span title=\"0.09378473980559306\" style=\"background-color:rgba(255, 0, 0, 0.09378473980559306);\"> his</span><span title=\"0.1367203483826294\" style=\"background-color:rgba(255, 0, 0, 0.1367203483826294);\"> brother</span><span title=\"0.18763188212954784\" style=\"background-color:rgba(255, 0, 0, 0.18763188212954784);\"> Kusala</span><span title=\"0.04259863707960693\" style=\"background-color:rgba(255, 0, 0, 0.04259863707960693);\"> ,</span><span title=\"0.037980036481322865\" style=\"background-color:rgba(255, 0, 0, 0.037980036481322865);\"> who</span><span title=\"0.028967688047198896\" style=\"background-color:rgba(255, 0, 0, 0.028967688047198896);\"> was</span><span title=\"0.03828934724997812\" style=\"background-color:rgba(255, 0, 0, 0.03828934724997812);\"> backed</span><span title=\"0.057480446177986644\" style=\"background-color:rgba(255, 0, 0, 0.057480446177986644);\"> by</span><span title=\"0.6045626543983366\" style=\"background-color:rgba(255, 0, 0, 0.6045626543983366);\"> Chagatai</span><span title=\"0.5954306169410145\" style=\"background-color:rgba(255, 0, 0, 0.5954306169410145);\"> Khan</span><span title=\"0.5729865783415001\" style=\"background-color:rgba(255, 0, 0, 0.5729865783415001);\"> Eljigidey</span><span title=\"0.0674880762701722\" style=\"background-color:rgba(255, 0, 0, 0.0674880762701722);\"> ,</span><span title=\"0.04829628246009988\" style=\"background-color:rgba(255, 0, 0, 0.04829628246009988);\"> and</span><span title=\"0.043497768818798514\" style=\"background-color:rgba(255, 0, 0, 0.043497768818798514);\"> announced</span><span title=\"0.1649213566002238\" style=\"background-color:rgba(255, 0, 0, 0.1649213566002238);\"> Khanbaliq</span><span title=\"0.10765863127617574\" style=\"background-color:rgba(255, 0, 0, 0.10765863127617574);\"> 's</span><span title=\"0.10223969053320597\" style=\"background-color:rgba(255, 0, 0, 0.10223969053320597);\"> intent</span><span title=\"0.06610837644632678\" style=\"background-color:rgba(255, 0, 0, 0.06610837644632678);\"> to</span><span title=\"0.06629923039464089\" style=\"background-color:rgba(255, 0, 0, 0.06629923039464089);\"> welcome</span><span title=\"0.07015094094583739\" style=\"background-color:rgba(255, 0, 0, 0.07015094094583739);\"> him</span><span title=\"0.03318976728550077\" style=\"background-color:rgba(255, 0, 0, 0.03318976728550077);\"> .</span>"
            ],
            "text/plain": [
              "<IPython.core.display.HTML object>"
            ]
          },
          "metadata": {
            "tags": []
          }
        },
        {
          "output_type": "stream",
          "text": [
            "\n"
          ],
          "name": "stdout"
        },
        {
          "output_type": "display_data",
          "data": {
            "text/html": [
              "<span title=\"0.03182700452296884\" style=\"background-color:rgba(255, 0, 0, 0.03182700452296884);\"> He</span><span title=\"0.012347893771526303\" style=\"background-color:rgba(255, 0, 0, 0.012347893771526303);\"> was</span><span title=\"0.023368944310593456\" style=\"background-color:rgba(255, 0, 0, 0.023368944310593456);\"> supposedly</span><span title=\"0.02696815261517864\" style=\"background-color:rgba(255, 0, 0, 0.02696815261517864);\"> killed</span><span title=\"0.036902360072143106\" style=\"background-color:rgba(255, 0, 0, 0.036902360072143106);\"> with</span><span title=\"0.09343598805446021\" style=\"background-color:rgba(255, 0, 0, 0.09343598805446021);\"> poison</span><span title=\"0.038270922418892885\" style=\"background-color:rgba(255, 0, 0, 0.038270922418892885);\"> by</span><span title=\"0.6355076731808412\" style=\"background-color:rgba(255, 0, 0, 0.6355076731808412);text-decoration: underline\"> El</span><span title=\"0.589893814576511\" style=\"background-color:rgba(255, 0, 0, 0.589893814576511);text-decoration: underline\"> Temür</span><span title=\"0.07803589616200139\" style=\"background-color:rgba(255, 0, 0, 0.07803589616200139);\"> ,</span><span title=\"0.05908434156912897\" style=\"background-color:rgba(255, 0, 0, 0.05908434156912897);\"> and</span><span title=\"0.3851379676484048\" style=\"background-color:rgba(255, 0, 0, 0.3851379676484048);text-decoration: underline\"> Tugh</span><span title=\"0.34618623926918296\" style=\"background-color:rgba(255, 0, 0, 0.34618623926918296);text-decoration: underline\"> Temür</span><span title=\"0.10368943089360295\" style=\"background-color:rgba(255, 0, 0, 0.10368943089360295);\"> then</span><span title=\"0.09505196717401784\" style=\"background-color:rgba(255, 0, 0, 0.09505196717401784);\"> remounted</span><span title=\"0.1193630248953525\" style=\"background-color:rgba(255, 0, 0, 0.1193630248953525);\"> the</span><span title=\"0.15684427367011636\" style=\"background-color:rgba(255, 0, 0, 0.15684427367011636);\"> throne</span><span title=\"0.036772178293205976\" style=\"background-color:rgba(255, 0, 0, 0.036772178293205976);\"> .</span>"
            ],
            "text/plain": [
              "<IPython.core.display.HTML object>"
            ]
          },
          "metadata": {
            "tags": []
          }
        },
        {
          "output_type": "stream",
          "text": [
            "\n"
          ],
          "name": "stdout"
        },
        {
          "output_type": "display_data",
          "data": {
            "text/html": [
              "<span title=\"0.02564711821262558\" style=\"background-color:rgba(255, 0, 0, 0.02564711821262558);\"> Due</span><span title=\"0.03597803793997115\" style=\"background-color:rgba(255, 0, 0, 0.03597803793997115);\"> to</span><span title=\"0.05696033805333323\" style=\"background-color:rgba(255, 0, 0, 0.05696033805333323);\"> the</span><span title=\"0.08438435247687741\" style=\"background-color:rgba(255, 0, 0, 0.08438435247687741);\"> fact</span><span title=\"0.04529994106240547\" style=\"background-color:rgba(255, 0, 0, 0.04529994106240547);\"> that</span><span title=\"0.08295267500139801\" style=\"background-color:rgba(255, 0, 0, 0.08295267500139801);\"> the</span><span title=\"0.10862102750533709\" style=\"background-color:rgba(255, 0, 0, 0.10862102750533709);\"> bureaucracy</span><span title=\"0.04302961440147424\" style=\"background-color:rgba(255, 0, 0, 0.04302961440147424);\"> was</span><span title=\"0.05197567794352546\" style=\"background-color:rgba(255, 0, 0, 0.05197567794352546);\"> dominated</span><span title=\"0.07317441433830663\" style=\"background-color:rgba(255, 0, 0, 0.07317441433830663);\"> by</span><span title=\"0.6136964890622735\" style=\"background-color:rgba(255, 0, 0, 0.6136964890622735);\"> El</span><span title=\"0.5754625650254169\" style=\"background-color:rgba(255, 0, 0, 0.5754625650254169);\"> Temür</span><span title=\"0.06722635161965822\" style=\"background-color:rgba(255, 0, 0, 0.06722635161965822);\"> ,</span><span title=\"0.36263848663268566\" style=\"background-color:rgba(255, 0, 0, 0.36263848663268566);\"> Tugh</span><span title=\"0.3257794029582786\" style=\"background-color:rgba(255, 0, 0, 0.3257794029582786);\"> Temür</span><span title=\"0.06869570829592926\" style=\"background-color:rgba(255, 0, 0, 0.06869570829592926);\"> is</span><span title=\"0.06289262215155648\" style=\"background-color:rgba(255, 0, 0, 0.06289262215155648);\"> known</span><span title=\"0.056948245078972067\" style=\"background-color:rgba(255, 0, 0, 0.056948245078972067);\"> for</span><span title=\"0.08432423884150887\" style=\"background-color:rgba(255, 0, 0, 0.08432423884150887);text-decoration: underline\"> his</span><span title=\"0.10823301206094042\" style=\"background-color:rgba(255, 0, 0, 0.10823301206094042);text-decoration: underline\"> cultural</span><span title=\"0.10601309302683717\" style=\"background-color:rgba(255, 0, 0, 0.10601309302683717);text-decoration: underline\"> contribution</span><span title=\"0.056437620470253524\" style=\"background-color:rgba(255, 0, 0, 0.056437620470253524);\"> instead</span><span title=\"0.030472319110562578\" style=\"background-color:rgba(255, 0, 0, 0.030472319110562578);\"> .</span>"
            ],
            "text/plain": [
              "<IPython.core.display.HTML object>"
            ]
          },
          "metadata": {
            "tags": []
          }
        },
        {
          "output_type": "stream",
          "text": [
            "\n"
          ],
          "name": "stdout"
        },
        {
          "output_type": "display_data",
          "data": {
            "text/html": [
              "<span title=\"0.03160084963788999\" style=\"background-color:rgba(255, 0, 0, 0.03160084963788999);\"> Nevertheless</span><span title=\"0.011993177911257934\" style=\"background-color:rgba(255, 0, 0, 0.011993177911257934);\"> ,</span><span title=\"0.042677595425226686\" style=\"background-color:rgba(255, 0, 0, 0.042677595425226686);\"> a</span><span title=\"0.07536514813217692\" style=\"background-color:rgba(255, 0, 0, 0.07536514813217692);\"> few</span><span title=\"0.07614675408242139\" style=\"background-color:rgba(255, 0, 0, 0.07614675408242139);\"> other</span><span title=\"0.13789508900052816\" style=\"background-color:rgba(255, 0, 0, 0.13789508900052816);\"> Yuan</span><span title=\"0.10587782715687896\" style=\"background-color:rgba(255, 0, 0, 0.10587782715687896);\"> emperors</span><span title=\"0.054072462249299666\" style=\"background-color:rgba(255, 0, 0, 0.054072462249299666);\"> actively</span><span title=\"0.05685443961673504\" style=\"background-color:rgba(255, 0, 0, 0.05685443961673504);\"> sponsored</span><span title=\"0.16625623955659585\" style=\"background-color:rgba(255, 0, 0, 0.16625623955659585);\"> cultural</span><span title=\"0.16072099182353178\" style=\"background-color:rgba(255, 0, 0, 0.16072099182353178);\"> activities</span><span title=\"0.05022592828484673\" style=\"background-color:rgba(255, 0, 0, 0.05022592828484673);\"> ;</span><span title=\"0.07208170186836535\" style=\"background-color:rgba(255, 0, 0, 0.07208170186836535);\"> an</span><span title=\"0.1053782525730533\" style=\"background-color:rgba(255, 0, 0, 0.1053782525730533);\"> example</span><span title=\"0.033821910703562705\" style=\"background-color:rgba(255, 0, 0, 0.033821910703562705);\"> is</span><span title=\"0.6907300565991937\" style=\"background-color:rgba(255, 0, 0, 0.6907300565991937);text-decoration: underline\"> Tugh</span><span title=\"0.6589389776800731\" style=\"background-color:rgba(255, 0, 0, 0.6589389776800731);text-decoration: underline\"> Temur</span><span title=\"0.2547126006689109\" style=\"background-color:rgba(255, 0, 0, 0.2547126006689109);\"> (</span><span title=\"0.3808982457508485\" style=\"background-color:rgba(255, 0, 0, 0.3808982457508485);text-decoration: underline\"> Emperor</span><span title=\"0.35986650947567517\" style=\"background-color:rgba(255, 0, 0, 0.35986650947567517);text-decoration: underline\"> Wenzong</span><span title=\"0.1727814665598732\" style=\"background-color:rgba(255, 0, 0, 0.1727814665598732);\"> )</span><span title=\"0.08974926733649137\" style=\"background-color:rgba(255, 0, 0, 0.08974926733649137);\"> ,</span><span title=\"0.08337662485539785\" style=\"background-color:rgba(255, 0, 0, 0.08337662485539785);\"> who</span><span title=\"0.0889860317410547\" style=\"background-color:rgba(255, 0, 0, 0.0889860317410547);\"> wrote</span><span title=\"0.1324635109837269\" style=\"background-color:rgba(255, 0, 0, 0.1324635109837269);\"> poetry</span><span title=\"0.05969690112593748\" style=\"background-color:rgba(255, 0, 0, 0.05969690112593748);\"> ,</span><span title=\"0.05796284751404225\" style=\"background-color:rgba(255, 0, 0, 0.05796284751404225);\"> painted</span><span title=\"0.039655215075124144\" style=\"background-color:rgba(255, 0, 0, 0.039655215075124144);\"> ,</span><span title=\"0.046256123868970586\" style=\"background-color:rgba(255, 0, 0, 0.046256123868970586);\"> read</span><span title=\"0.19971405164493167\" style=\"background-color:rgba(255, 0, 0, 0.19971405164493167);\"> Chinese</span><span title=\"0.19883846698085728\" style=\"background-color:rgba(255, 0, 0, 0.19883846698085728);\"> classical</span><span title=\"0.19309479570848814\" style=\"background-color:rgba(255, 0, 0, 0.19309479570848814);\"> texts</span><span title=\"0.09542844506499015\" style=\"background-color:rgba(255, 0, 0, 0.09542844506499015);\"> ,</span><span title=\"0.09015788185130892\" style=\"background-color:rgba(255, 0, 0, 0.09015788185130892);\"> and</span><span title=\"0.0949892868510491\" style=\"background-color:rgba(255, 0, 0, 0.0949892868510491);\"> ordered</span><span title=\"0.11976865618148308\" style=\"background-color:rgba(255, 0, 0, 0.11976865618148308);\"> the</span><span title=\"0.16637576674437343\" style=\"background-color:rgba(255, 0, 0, 0.16637576674437343);\"> compilation</span><span title=\"0.13602520954062497\" style=\"background-color:rgba(255, 0, 0, 0.13602520954062497);\"> of</span><span title=\"0.17580585094901086\" style=\"background-color:rgba(255, 0, 0, 0.17580585094901086);\"> books</span><span title=\"0.029886425672274567\" style=\"background-color:rgba(255, 0, 0, 0.029886425672274567);\"> .</span>"
            ],
            "text/plain": [
              "<IPython.core.display.HTML object>"
            ]
          },
          "metadata": {
            "tags": []
          }
        },
        {
          "output_type": "stream",
          "text": [
            "\n"
          ],
          "name": "stdout"
        },
        {
          "output_type": "display_data",
          "data": {
            "text/html": [
              "<span title=\"0.030701891753917847\" style=\"background-color:rgba(255, 0, 0, 0.030701891753917847);\"> In</span><span title=\"0.11110655931108371\" style=\"background-color:rgba(255, 0, 0, 0.11110655931108371);\"> the</span><span title=\"0.19047779570688247\" style=\"background-color:rgba(255, 0, 0, 0.19047779570688247);\"> mid-1950s</span><span title=\"0.01899217654037151\" style=\"background-color:rgba(255, 0, 0, 0.01899217654037151);\"> ,</span><span title=\"0.6150583259947148\" style=\"background-color:rgba(255, 0, 0, 0.6150583259947148);text-decoration: underline\"> Frank</span><span title=\"0.5881885574545055\" style=\"background-color:rgba(255, 0, 0, 0.5881885574545055);text-decoration: underline\"> Burnet</span><span title=\"0.06064075436396916\" style=\"background-color:rgba(255, 0, 0, 0.06064075436396916);\"> ,</span><span title=\"0.03896797961088625\" style=\"background-color:rgba(255, 0, 0, 0.03896797961088625);\"> inspired</span><span title=\"0.037253387906284546\" style=\"background-color:rgba(255, 0, 0, 0.037253387906284546);\"> by</span><span title=\"0.09983771014012485\" style=\"background-color:rgba(255, 0, 0, 0.09983771014012485);\"> a</span><span title=\"0.11172235787858416\" style=\"background-color:rgba(255, 0, 0, 0.11172235787858416);\"> suggestion</span><span title=\"0.057307477781283235\" style=\"background-color:rgba(255, 0, 0, 0.057307477781283235);\"> made</span><span title=\"0.08296675590167721\" style=\"background-color:rgba(255, 0, 0, 0.08296675590167721);\"> by</span><span title=\"0.5876678198895492\" style=\"background-color:rgba(255, 0, 0, 0.5876678198895492);text-decoration: underline\"> Niels</span><span title=\"0.5591796033847808\" style=\"background-color:rgba(255, 0, 0, 0.5591796033847808);text-decoration: underline\"> Jerne</span><span title=\"0.07430384044208703\" style=\"background-color:rgba(255, 0, 0, 0.07430384044208703);\"> ,</span><span title=\"0.06592792087272109\" style=\"background-color:rgba(255, 0, 0, 0.06592792087272109);\"> formulated</span><span title=\"0.11725577303228098\" style=\"background-color:rgba(255, 0, 0, 0.11725577303228098);\"> the</span><span title=\"0.239322737730417\" style=\"background-color:rgba(255, 0, 0, 0.239322737730417);text-decoration: underline\"> clonal</span><span title=\"0.2539221071413248\" style=\"background-color:rgba(255, 0, 0, 0.2539221071413248);text-decoration: underline\"> selection</span><span title=\"0.24595995732122078\" style=\"background-color:rgba(255, 0, 0, 0.24595995732122078);text-decoration: underline\"> theory</span><span title=\"0.14420718021440274\" style=\"background-color:rgba(255, 0, 0, 0.14420718021440274);\"> (</span><span title=\"0.19124938082001514\" style=\"background-color:rgba(255, 0, 0, 0.19124938082001514);\"> CST</span><span title=\"0.10088015792083577\" style=\"background-color:rgba(255, 0, 0, 0.10088015792083577);\"> )</span><span title=\"0.09771179691844671\" style=\"background-color:rgba(255, 0, 0, 0.09771179691844671);\"> of</span><span title=\"0.1414507344539069\" style=\"background-color:rgba(255, 0, 0, 0.1414507344539069);\"> immunity</span><span title=\"0.027029216860379873\" style=\"background-color:rgba(255, 0, 0, 0.027029216860379873);\"> .</span>"
            ],
            "text/plain": [
              "<IPython.core.display.HTML object>"
            ]
          },
          "metadata": {
            "tags": []
          }
        },
        {
          "output_type": "stream",
          "text": [
            "\n"
          ],
          "name": "stdout"
        },
        {
          "output_type": "display_data",
          "data": {
            "text/html": [
              "<span title=\"0.06207187496777173\" style=\"background-color:rgba(255, 0, 0, 0.06207187496777173);\"> The</span><span title=\"0.09632239266103584\" style=\"background-color:rgba(255, 0, 0, 0.09632239266103584);\"> previous</span><span title=\"0.08470782539577275\" style=\"background-color:rgba(255, 0, 0, 0.08470782539577275);\"> chairs</span><span title=\"0.015109432957206792\" style=\"background-color:rgba(255, 0, 0, 0.015109432957206792);\"> were</span><span title=\"0.638096974426376\" style=\"background-color:rgba(255, 0, 0, 0.638096974426376);\"> Rajendra</span><span title=\"0.6116339525623218\" style=\"background-color:rgba(255, 0, 0, 0.6116339525623218);\"> K.</span><span title=\"0.5659712104143257\" style=\"background-color:rgba(255, 0, 0, 0.5659712104143257);\"> Pachauri</span><span title=\"0.10896072190415501\" style=\"background-color:rgba(255, 0, 0, 0.10896072190415501);\"> ,</span><span title=\"0.09038745491006872\" style=\"background-color:rgba(255, 0, 0, 0.09038745491006872);\"> elected</span><span title=\"0.06763563014822292\" style=\"background-color:rgba(255, 0, 0, 0.06763563014822292);\"> in</span><span title=\"0.24483216956889872\" style=\"background-color:rgba(255, 0, 0, 0.24483216956889872);\"> May</span><span title=\"0.23719515365215488\" style=\"background-color:rgba(255, 0, 0, 0.23719515365215488);\"> 2002</span><span title=\"0.07444758349454113\" style=\"background-color:rgba(255, 0, 0, 0.07444758349454113);\"> ;</span><span title=\"0.20672481946590598\" style=\"background-color:rgba(255, 0, 0, 0.20672481946590598);\"> Robert</span><span title=\"0.1906981490711517\" style=\"background-color:rgba(255, 0, 0, 0.1906981490711517);\"> Watson</span><span title=\"0.0669812942342512\" style=\"background-color:rgba(255, 0, 0, 0.0669812942342512);\"> in</span><span title=\"0.4089314791757026\" style=\"background-color:rgba(255, 0, 0, 0.4089314791757026);\"> 1997</span><span title=\"0.08617313194504359\" style=\"background-color:rgba(255, 0, 0, 0.08617313194504359);\"> ;</span><span title=\"0.08381709396115154\" style=\"background-color:rgba(255, 0, 0, 0.08381709396115154);\"> and</span><span title=\"0.2257160710149998\" style=\"background-color:rgba(255, 0, 0, 0.2257160710149998);text-decoration: underline\"> Bert</span><span title=\"0.21123652174794183\" style=\"background-color:rgba(255, 0, 0, 0.21123652174794183);text-decoration: underline\"> Bolin</span><span title=\"0.09346111205391558\" style=\"background-color:rgba(255, 0, 0, 0.09346111205391558);\"> in</span><span title=\"0.451395278216225\" style=\"background-color:rgba(255, 0, 0, 0.451395278216225);\"> 1988</span><span title=\"0.02514278229141625\" style=\"background-color:rgba(255, 0, 0, 0.02514278229141625);\"> .</span>"
            ],
            "text/plain": [
              "<IPython.core.display.HTML object>"
            ]
          },
          "metadata": {
            "tags": []
          }
        },
        {
          "output_type": "stream",
          "text": [
            "\n"
          ],
          "name": "stdout"
        },
        {
          "output_type": "display_data",
          "data": {
            "text/html": [
              "<span title=\"0.624133763045374\" style=\"background-color:rgba(255, 0, 0, 0.624133763045374);text-decoration: underline\"> John</span><span title=\"0.5917355641414048\" style=\"background-color:rgba(255, 0, 0, 0.5917355641414048);text-decoration: underline\"> Houghton</span><span title=\"0.10473130305582866\" style=\"background-color:rgba(255, 0, 0, 0.10473130305582866);text-decoration: underline\"> ,</span><span title=\"0.0844164891692441\" style=\"background-color:rgba(255, 0, 0, 0.0844164891692441);\"> who</span><span title=\"0.06456887221537862\" style=\"background-color:rgba(255, 0, 0, 0.06456887221537862);\"> was</span><span title=\"0.13781119711542913\" style=\"background-color:rgba(255, 0, 0, 0.13781119711542913);text-decoration: underline\"> a</span><span title=\"0.24700582202821086\" style=\"background-color:rgba(255, 0, 0, 0.24700582202821086);text-decoration: underline\"> co</span><span title=\"0.21511200312259743\" style=\"background-color:rgba(255, 0, 0, 0.21511200312259743);text-decoration: underline\"> -</span><span title=\"0.2202409945182735\" style=\"background-color:rgba(255, 0, 0, 0.2202409945182735);text-decoration: underline\"> chair</span><span title=\"0.18326528197048833\" style=\"background-color:rgba(255, 0, 0, 0.18326528197048833);text-decoration: underline\"> of</span><span title=\"0.4194373090295346\" style=\"background-color:rgba(255, 0, 0, 0.4194373090295346);text-decoration: underline\"> TAR</span><span title=\"0.40926098679583395\" style=\"background-color:rgba(255, 0, 0, 0.40926098679583395);text-decoration: underline\"> WGI</span><span title=\"0.06140281179209604\" style=\"background-color:rgba(255, 0, 0, 0.06140281179209604);\"> ,</span><span title=\"0.03267044895815549\" style=\"background-color:rgba(255, 0, 0, 0.03267044895815549);\"> has</span><span title=\"0.036358212012405196\" style=\"background-color:rgba(255, 0, 0, 0.036358212012405196);\"> responded</span><span title=\"0.04915923517835749\" style=\"background-color:rgba(255, 0, 0, 0.04915923517835749);\"> to</span><span title=\"0.20217653126448812\" style=\"background-color:rgba(255, 0, 0, 0.20217653126448812);\"> Lindzen</span><span title=\"0.11504664755594149\" style=\"background-color:rgba(255, 0, 0, 0.11504664755594149);\"> 's</span><span title=\"0.1193289607307777\" style=\"background-color:rgba(255, 0, 0, 0.1193289607307777);\"> criticisms</span><span title=\"0.0764763643552122\" style=\"background-color:rgba(255, 0, 0, 0.0764763643552122);\"> of</span><span title=\"0.09585782632587575\" style=\"background-color:rgba(255, 0, 0, 0.09585782632587575);\"> the</span><span title=\"0.1691607800646765\" style=\"background-color:rgba(255, 0, 0, 0.1691607800646765);\"> SPM</span><span title=\"0.021588232963369078\" style=\"background-color:rgba(255, 0, 0, 0.021588232963369078);\"> .</span>"
            ],
            "text/plain": [
              "<IPython.core.display.HTML object>"
            ]
          },
          "metadata": {
            "tags": []
          }
        },
        {
          "output_type": "stream",
          "text": [
            "\n"
          ],
          "name": "stdout"
        },
        {
          "output_type": "display_data",
          "data": {
            "text/html": [
              "<span title=\"0.07200530174161783\" style=\"background-color:rgba(255, 0, 0, 0.07200530174161783);\"> The</span><span title=\"0.13408084565662567\" style=\"background-color:rgba(255, 0, 0, 0.13408084565662567);\"> unproven</span><span title=\"0.19422736824508802\" style=\"background-color:rgba(255, 0, 0, 0.19422736824508802);\"> Riemann</span><span title=\"0.1588460892885965\" style=\"background-color:rgba(255, 0, 0, 0.1588460892885965);\"> hypothesis</span><span title=\"0.045828141071957644\" style=\"background-color:rgba(255, 0, 0, 0.045828141071957644);\"> ,</span><span title=\"0.03725166350800415\" style=\"background-color:rgba(255, 0, 0, 0.03725166350800415);\"> dating</span><span title=\"0.06165978665856296\" style=\"background-color:rgba(255, 0, 0, 0.06165978665856296);\"> from</span><span title=\"0.5797192666079165\" style=\"background-color:rgba(255, 0, 0, 0.5797192666079165);text-decoration: underline\"> 1859</span><span title=\"0.0570301919131348\" style=\"background-color:rgba(255, 0, 0, 0.0570301919131348);\"> ,</span><span title=\"0.05660125355673798\" style=\"background-color:rgba(255, 0, 0, 0.05660125355673798);\"> states</span><span title=\"0.08434715493902678\" style=\"background-color:rgba(255, 0, 0, 0.08434715493902678);\"> that</span><span title=\"0.11142633641250593\" style=\"background-color:rgba(255, 0, 0, 0.11142633641250593);\"> except</span><span title=\"0.134762005230575\" style=\"background-color:rgba(255, 0, 0, 0.134762005230575);\"> for</span><span title=\"0.21899790609607575\" style=\"background-color:rgba(255, 0, 0, 0.21899790609607575);text-decoration: underline\"> s</span><span title=\"0.21972397394108428\" style=\"background-color:rgba(255, 0, 0, 0.21972397394108428);text-decoration: underline\"> =</span><span title=\"0.31327820778280896\" style=\"background-color:rgba(255, 0, 0, 0.31327820778280896);text-decoration: underline\"> −2</span><span title=\"0.16535467942490914\" style=\"background-color:rgba(255, 0, 0, 0.16535467942490914);text-decoration: underline\"> ,</span><span title=\"0.23725336032797884\" style=\"background-color:rgba(255, 0, 0, 0.23725336032797884);text-decoration: underline\"> −4</span><span title=\"0.07237582256940114\" style=\"background-color:rgba(255, 0, 0, 0.07237582256940114);text-decoration: underline\"> ,</span><span title=\"0.05683637051007227\" style=\"background-color:rgba(255, 0, 0, 0.05683637051007227);text-decoration: underline\"> ...</span><span title=\"0.03446074058744085\" style=\"background-color:rgba(255, 0, 0, 0.03446074058744085);text-decoration: underline\"> ,</span><span title=\"0.056648659518445506\" style=\"background-color:rgba(255, 0, 0, 0.056648659518445506);\"> all</span><span title=\"0.08455523862295582\" style=\"background-color:rgba(255, 0, 0, 0.08455523862295582);\"> zeroes</span><span title=\"0.06468756162110112\" style=\"background-color:rgba(255, 0, 0, 0.06468756162110112);\"> of</span><span title=\"0.09180377748787324\" style=\"background-color:rgba(255, 0, 0, 0.09180377748787324);\"> the</span><span title=\"0.09692074013978413\" style=\"background-color:rgba(255, 0, 0, 0.09692074013978413);\"> ζ</span><span title=\"0.11212502834489699\" style=\"background-color:rgba(255, 0, 0, 0.11212502834489699);\"> -</span><span title=\"0.1230202823531965\" style=\"background-color:rgba(255, 0, 0, 0.1230202823531965);\"> function</span><span title=\"0.07858971484964028\" style=\"background-color:rgba(255, 0, 0, 0.07858971484964028);\"> have</span><span title=\"0.18269136373762812\" style=\"background-color:rgba(255, 0, 0, 0.18269136373762812);\"> real</span><span title=\"0.17403384416779802\" style=\"background-color:rgba(255, 0, 0, 0.17403384416779802);\"> part</span><span title=\"0.16842926293335064\" style=\"background-color:rgba(255, 0, 0, 0.16842926293335064);\"> equal</span><span title=\"0.1581119489712693\" style=\"background-color:rgba(255, 0, 0, 0.1581119489712693);\"> to</span><span title=\"0.32790087473214513\" style=\"background-color:rgba(255, 0, 0, 0.32790087473214513);\"> 1/2</span><span title=\"0.034990417280094346\" style=\"background-color:rgba(255, 0, 0, 0.034990417280094346);\"> .</span>"
            ],
            "text/plain": [
              "<IPython.core.display.HTML object>"
            ]
          },
          "metadata": {
            "tags": []
          }
        },
        {
          "output_type": "stream",
          "text": [
            "\n"
          ],
          "name": "stdout"
        },
        {
          "output_type": "display_data",
          "data": {
            "text/html": [
              "<span title=\"0.16421035866104794\" style=\"background-color:rgba(255, 0, 0, 0.16421035866104794);\"> The</span><span title=\"0.22413483396920836\" style=\"background-color:rgba(255, 0, 0, 0.22413483396920836);\"> Confederation</span><span title=\"0.16968640124847645\" style=\"background-color:rgba(255, 0, 0, 0.16968640124847645);\"> of</span><span title=\"0.1734686347331989\" style=\"background-color:rgba(255, 0, 0, 0.1734686347331989);\"> the</span><span title=\"0.20247410029847357\" style=\"background-color:rgba(255, 0, 0, 0.20247410029847357);\"> Rhine</span><span title=\"0.01656956159801627\" style=\"background-color:rgba(255, 0, 0, 0.01656956159801627);\"> was</span><span title=\"0.02435620649847818\" style=\"background-color:rgba(255, 0, 0, 0.02435620649847818);\"> established</span><span title=\"0.05318723586297691\" style=\"background-color:rgba(255, 0, 0, 0.05318723586297691);\"> by</span><span title=\"0.3453041821736688\" style=\"background-color:rgba(255, 0, 0, 0.3453041821736688);text-decoration: underline\"> Napoleon</span><span title=\"0.026872479971468747\" style=\"background-color:rgba(255, 0, 0, 0.026872479971468747);\"> ,</span><span title=\"0.024353731232199194\" style=\"background-color:rgba(255, 0, 0, 0.024353731232199194);\"> as</span><span title=\"0.0672345842931279\" style=\"background-color:rgba(255, 0, 0, 0.0672345842931279);\"> a</span><span title=\"0.15893594040493286\" style=\"background-color:rgba(255, 0, 0, 0.15893594040493286);\"> French</span><span title=\"0.15258476202894272\" style=\"background-color:rgba(255, 0, 0, 0.15258476202894272);\"> client</span><span title=\"0.15529335168053687\" style=\"background-color:rgba(255, 0, 0, 0.15529335168053687);\"> state</span><span title=\"0.03243136347813139\" style=\"background-color:rgba(255, 0, 0, 0.03243136347813139);\"> ,</span><span title=\"0.022451223741071023\" style=\"background-color:rgba(255, 0, 0, 0.022451223741071023);\"> in</span><span title=\"0.3761761471599564\" style=\"background-color:rgba(255, 0, 0, 0.3761761471599564);text-decoration: underline\"> 1806</span><span title=\"0.061860420641640344\" style=\"background-color:rgba(255, 0, 0, 0.061860420641640344);\"> and</span><span title=\"0.046094364434486355\" style=\"background-color:rgba(255, 0, 0, 0.046094364434486355);\"> lasted</span><span title=\"0.04345038771515092\" style=\"background-color:rgba(255, 0, 0, 0.04345038771515092);\"> until</span><span title=\"0.6214345110476555\" style=\"background-color:rgba(255, 0, 0, 0.6214345110476555);text-decoration: underline\"> 1814</span><span title=\"0.053100029256278124\" style=\"background-color:rgba(255, 0, 0, 0.053100029256278124);\"> ,</span><span title=\"0.03788629033081223\" style=\"background-color:rgba(255, 0, 0, 0.03788629033081223);\"> during</span><span title=\"0.04252001469445509\" style=\"background-color:rgba(255, 0, 0, 0.04252001469445509);\"> which</span><span title=\"0.05294736999186716\" style=\"background-color:rgba(255, 0, 0, 0.05294736999186716);\"> time</span><span title=\"0.03992134681650185\" style=\"background-color:rgba(255, 0, 0, 0.03992134681650185);\"> it</span><span title=\"0.0458139106273653\" style=\"background-color:rgba(255, 0, 0, 0.0458139106273653);\"> served</span><span title=\"0.058701678949110346\" style=\"background-color:rgba(255, 0, 0, 0.058701678949110346);\"> as</span><span title=\"0.11491930781942064\" style=\"background-color:rgba(255, 0, 0, 0.11491930781942064);\"> a</span><span title=\"0.16629704919423977\" style=\"background-color:rgba(255, 0, 0, 0.16629704919423977);\"> significant</span><span title=\"0.17612286431923113\" style=\"background-color:rgba(255, 0, 0, 0.17612286431923113);\"> source</span><span title=\"0.14648530499581666\" style=\"background-color:rgba(255, 0, 0, 0.14648530499581666);\"> of</span><span title=\"0.18855332420012938\" style=\"background-color:rgba(255, 0, 0, 0.18855332420012938);\"> resources</span><span title=\"0.13610412383287315\" style=\"background-color:rgba(255, 0, 0, 0.13610412383287315);\"> and</span><span title=\"0.15704073764506388\" style=\"background-color:rgba(255, 0, 0, 0.15704073764506388);\"> military</span><span title=\"0.1435138213889661\" style=\"background-color:rgba(255, 0, 0, 0.1435138213889661);\"> manpower</span><span title=\"0.09073013370905969\" style=\"background-color:rgba(255, 0, 0, 0.09073013370905969);\"> for</span><span title=\"0.10400095533433226\" style=\"background-color:rgba(255, 0, 0, 0.10400095533433226);\"> the</span><span title=\"0.16989670328674938\" style=\"background-color:rgba(255, 0, 0, 0.16989670328674938);\"> First</span><span title=\"0.18267281452798312\" style=\"background-color:rgba(255, 0, 0, 0.18267281452798312);\"> French</span><span title=\"0.1830979462146113\" style=\"background-color:rgba(255, 0, 0, 0.1830979462146113);\"> Empire</span><span title=\"0.028612462833947142\" style=\"background-color:rgba(255, 0, 0, 0.028612462833947142);\"> .</span>"
            ],
            "text/plain": [
              "<IPython.core.display.HTML object>"
            ]
          },
          "metadata": {
            "tags": []
          }
        },
        {
          "output_type": "stream",
          "text": [
            "\n"
          ],
          "name": "stdout"
        },
        {
          "output_type": "display_data",
          "data": {
            "text/html": [
              "<span title=\"0.03976770510357823\" style=\"background-color:rgba(255, 0, 0, 0.03976770510357823);\"> The</span><span title=\"0.06449922309478553\" style=\"background-color:rgba(255, 0, 0, 0.06449922309478553);\"> first</span><span title=\"0.06536253900234006\" style=\"background-color:rgba(255, 0, 0, 0.06536253900234006);\"> meeting</span><span title=\"0.04269721564028844\" style=\"background-color:rgba(255, 0, 0, 0.04269721564028844);\"> of</span><span title=\"0.05438514096026696\" style=\"background-color:rgba(255, 0, 0, 0.05438514096026696);\"> the</span><span title=\"0.08398719074549382\" style=\"background-color:rgba(255, 0, 0, 0.08398719074549382);text-decoration: underline\"> new</span><span title=\"0.11221022821118769\" style=\"background-color:rgba(255, 0, 0, 0.11221022821118769);text-decoration: underline\"> Parliament</span><span title=\"0.0237929911889383\" style=\"background-color:rgba(255, 0, 0, 0.0237929911889383);\"> took</span><span title=\"0.060216392056959556\" style=\"background-color:rgba(255, 0, 0, 0.060216392056959556);\"> place</span><span title=\"0.03058797434825851\" style=\"background-color:rgba(255, 0, 0, 0.03058797434825851);\"> on</span><span title=\"0.6413924089278003\" style=\"background-color:rgba(255, 0, 0, 0.6413924089278003);\"> 12</span><span title=\"0.5676900639550643\" style=\"background-color:rgba(255, 0, 0, 0.5676900639550643);\"> May</span><span title=\"0.5545567591656758\" style=\"background-color:rgba(255, 0, 0, 0.5545567591656758);\"> 1999</span><span title=\"0.052377416125192394\" style=\"background-color:rgba(255, 0, 0, 0.052377416125192394);\"> .</span>"
            ],
            "text/plain": [
              "<IPython.core.display.HTML object>"
            ]
          },
          "metadata": {
            "tags": []
          }
        },
        {
          "output_type": "stream",
          "text": [
            "\n"
          ],
          "name": "stdout"
        },
        {
          "output_type": "display_data",
          "data": {
            "text/html": [
              "<span title=\"0.27872067194857436\" style=\"background-color:rgba(255, 0, 0, 0.27872067194857436);text-decoration: underline\"> Queen</span><span title=\"0.29738145142427275\" style=\"background-color:rgba(255, 0, 0, 0.29738145142427275);text-decoration: underline\"> Elizabeth</span><span title=\"0.27538725803163105\" style=\"background-color:rgba(255, 0, 0, 0.27538725803163105);text-decoration: underline\"> II</span><span title=\"0.04875486164255269\" style=\"background-color:rgba(255, 0, 0, 0.04875486164255269);\"> opened</span><span title=\"0.07715865983327487\" style=\"background-color:rgba(255, 0, 0, 0.07715865983327487);\"> the</span><span title=\"0.1337975184164007\" style=\"background-color:rgba(255, 0, 0, 0.1337975184164007);\"> new</span><span title=\"0.12385606330889067\" style=\"background-color:rgba(255, 0, 0, 0.12385606330889067);\"> building</span><span title=\"0.059804455417084075\" style=\"background-color:rgba(255, 0, 0, 0.059804455417084075);\"> on</span><span title=\"0.6351360214490209\" style=\"background-color:rgba(255, 0, 0, 0.6351360214490209);text-decoration: underline\"> 9</span><span title=\"0.6000365580640769\" style=\"background-color:rgba(255, 0, 0, 0.6000365580640769);text-decoration: underline\"> October</span><span title=\"0.5612002256918128\" style=\"background-color:rgba(255, 0, 0, 0.5612002256918128);text-decoration: underline\"> 2004</span><span title=\"0.06132952601653988\" style=\"background-color:rgba(255, 0, 0, 0.06132952601653988);\"> .</span>"
            ],
            "text/plain": [
              "<IPython.core.display.HTML object>"
            ]
          },
          "metadata": {
            "tags": []
          }
        },
        {
          "output_type": "stream",
          "text": [
            "\n"
          ],
          "name": "stdout"
        },
        {
          "output_type": "display_data",
          "data": {
            "text/html": [
              "<span title=\"0.04987082997509967\" style=\"background-color:rgba(255, 0, 0, 0.04987082997509967);\"> Its</span><span title=\"0.0520306173219066\" style=\"background-color:rgba(255, 0, 0, 0.0520306173219066);\"> views</span><span title=\"0.011646890052979038\" style=\"background-color:rgba(255, 0, 0, 0.011646890052979038);\"> were</span><span title=\"0.018145593400846857\" style=\"background-color:rgba(255, 0, 0, 0.018145593400846857);\"> outlined</span><span title=\"0.02090428303592492\" style=\"background-color:rgba(255, 0, 0, 0.02090428303592492);\"> in</span><span title=\"0.0955878210622659\" style=\"background-color:rgba(255, 0, 0, 0.0955878210622659);\"> a</span><span title=\"0.11095911637368125\" style=\"background-color:rgba(255, 0, 0, 0.11095911637368125);\"> pamphlet</span><span title=\"0.06523027881442355\" style=\"background-color:rgba(255, 0, 0, 0.06523027881442355);\"> written</span><span title=\"0.08331513081433711\" style=\"background-color:rgba(255, 0, 0, 0.08331513081433711);\"> by</span><span title=\"0.7023085850716304\" style=\"background-color:rgba(255, 0, 0, 0.7023085850716304);text-decoration: underline\"> Muhammad</span><span title=\"0.7000826782428188\" style=\"background-color:rgba(255, 0, 0, 0.7000826782428188);text-decoration: underline\"> Abd</span><span title=\"0.6919999976417036\" style=\"background-color:rgba(255, 0, 0, 0.6919999976417036);text-decoration: underline\"> al</span><span title=\"0.6421463583379569\" style=\"background-color:rgba(255, 0, 0, 0.6421463583379569);text-decoration: underline\"> -</span><span title=\"0.6649720605615719\" style=\"background-color:rgba(255, 0, 0, 0.6649720605615719);text-decoration: underline\"> Salaam</span><span title=\"0.6299867015935043\" style=\"background-color:rgba(255, 0, 0, 0.6299867015935043);text-decoration: underline\"> Farag</span><span title=\"0.10980807122770431\" style=\"background-color:rgba(255, 0, 0, 0.10980807122770431);\"> ,</span><span title=\"0.07333900367619123\" style=\"background-color:rgba(255, 0, 0, 0.07333900367619123);\"> in</span><span title=\"0.07581841273536205\" style=\"background-color:rgba(255, 0, 0, 0.07581841273536205);\"> which</span><span title=\"0.08040150692268037\" style=\"background-color:rgba(255, 0, 0, 0.08040150692268037);\"> he</span><span title=\"0.10111950807362277\" style=\"background-color:rgba(255, 0, 0, 0.10111950807362277);\"> states</span><span title=\"0.12138802886939976\" style=\"background-color:rgba(255, 0, 0, 0.12138802886939976);\"> :</span>"
            ],
            "text/plain": [
              "<IPython.core.display.HTML object>"
            ]
          },
          "metadata": {
            "tags": []
          }
        },
        {
          "output_type": "stream",
          "text": [
            "\n"
          ],
          "name": "stdout"
        },
        {
          "output_type": "display_data",
          "data": {
            "text/html": [
              "<span title=\"0.030241693154762578\" style=\"background-color:rgba(255, 0, 0, 0.030241693154762578);\"> Founded</span><span title=\"0.018838303745290563\" style=\"background-color:rgba(255, 0, 0, 0.018838303745290563);\"> as</span><span title=\"0.05204380040460792\" style=\"background-color:rgba(255, 0, 0, 0.05204380040460792);\"> a</span><span title=\"0.08240429397193517\" style=\"background-color:rgba(255, 0, 0, 0.08240429397193517);\"> broad</span><span title=\"0.10835226927885896\" style=\"background-color:rgba(255, 0, 0, 0.10835226927885896);\"> Islamist</span><span title=\"0.10037736543287334\" style=\"background-color:rgba(255, 0, 0, 0.10037736543287334);\"> coalition</span><span title=\"0.02305278157451806\" style=\"background-color:rgba(255, 0, 0, 0.02305278157451806);\"> in</span><span title=\"0.33821681194874736\" style=\"background-color:rgba(255, 0, 0, 0.33821681194874736);text-decoration: underline\"> 1989</span><span title=\"0.03313179660804184\" style=\"background-color:rgba(255, 0, 0, 0.03313179660804184);\"> it</span><span title=\"0.02081601918748798\" style=\"background-color:rgba(255, 0, 0, 0.02081601918748798);\"> was</span><span title=\"0.028322304064573853\" style=\"background-color:rgba(255, 0, 0, 0.028322304064573853);\"> led</span><span title=\"0.060884256427782335\" style=\"background-color:rgba(255, 0, 0, 0.060884256427782335);\"> by</span><span title=\"0.6666642049825389\" style=\"background-color:rgba(255, 0, 0, 0.6666642049825389);\"> Abbassi</span><span title=\"0.6324601207018121\" style=\"background-color:rgba(255, 0, 0, 0.6324601207018121);\"> Madani</span><span title=\"0.20650779394960947\" style=\"background-color:rgba(255, 0, 0, 0.20650779394960947);\"> ,</span><span title=\"0.18993705647460044\" style=\"background-color:rgba(255, 0, 0, 0.18993705647460044);\"> and</span><span title=\"0.1945931277479589\" style=\"background-color:rgba(255, 0, 0, 0.1945931277479589);\"> a</span><span title=\"0.24084225581777033\" style=\"background-color:rgba(255, 0, 0, 0.24084225581777033);\"> charismatic</span><span title=\"0.27206850609931177\" style=\"background-color:rgba(255, 0, 0, 0.27206850609931177);\"> Islamist</span><span title=\"0.2668249941477083\" style=\"background-color:rgba(255, 0, 0, 0.2668249941477083);\"> young</span><span title=\"0.26429481818756423\" style=\"background-color:rgba(255, 0, 0, 0.26429481818756423);\"> preacher</span><span title=\"0.15214098009767488\" style=\"background-color:rgba(255, 0, 0, 0.15214098009767488);\"> ,</span><span title=\"0.4127947291297347\" style=\"background-color:rgba(255, 0, 0, 0.4127947291297347);\"> Ali</span><span title=\"0.4095884444522455\" style=\"background-color:rgba(255, 0, 0, 0.4095884444522455);\"> Belhadj</span><span title=\"0.05612562463001254\" style=\"background-color:rgba(255, 0, 0, 0.05612562463001254);\"> .</span>"
            ],
            "text/plain": [
              "<IPython.core.display.HTML object>"
            ]
          },
          "metadata": {
            "tags": []
          }
        },
        {
          "output_type": "stream",
          "text": [
            "\n"
          ],
          "name": "stdout"
        },
        {
          "output_type": "display_data",
          "data": {
            "text/html": [
              "<span title=\"0.18514448131562378\" style=\"background-color:rgba(255, 0, 0, 0.18514448131562378);\"> Orientalism</span><span title=\"0.024892147784581573\" style=\"background-color:rgba(255, 0, 0, 0.024892147784581573);\"> ,</span><span title=\"0.01802934401803092\" style=\"background-color:rgba(255, 0, 0, 0.01802934401803092);\"> as</span><span title=\"0.03802442280344982\" style=\"background-color:rgba(255, 0, 0, 0.03802442280344982);\"> theorized</span><span title=\"0.05603220850603066\" style=\"background-color:rgba(255, 0, 0, 0.05603220850603066);\"> by</span><span title=\"0.6008333174695308\" style=\"background-color:rgba(255, 0, 0, 0.6008333174695308);\"> Edward</span><span title=\"0.5740370900257855\" style=\"background-color:rgba(255, 0, 0, 0.5740370900257855);\"> Said</span><span title=\"0.05452008523368385\" style=\"background-color:rgba(255, 0, 0, 0.05452008523368385);\"> ,</span><span title=\"0.039143405051734005\" style=\"background-color:rgba(255, 0, 0, 0.039143405051734005);\"> refers</span><span title=\"0.03791679497841102\" style=\"background-color:rgba(255, 0, 0, 0.03791679497841102);\"> to</span><span title=\"0.06377062332952207\" style=\"background-color:rgba(255, 0, 0, 0.06377062332952207);\"> how</span><span title=\"0.0732446589177092\" style=\"background-color:rgba(255, 0, 0, 0.0732446589177092);\"> the</span><span title=\"0.14193238126650876\" style=\"background-color:rgba(255, 0, 0, 0.14193238126650876);\"> West</span><span title=\"0.07031899079343666\" style=\"background-color:rgba(255, 0, 0, 0.07031899079343666);\"> developed</span><span title=\"0.09761341553171743\" style=\"background-color:rgba(255, 0, 0, 0.09761341553171743);text-decoration: underline\"> an</span><span title=\"0.15324161735086564\" style=\"background-color:rgba(255, 0, 0, 0.15324161735086564);text-decoration: underline\"> imaginative</span><span title=\"0.14704000122205246\" style=\"background-color:rgba(255, 0, 0, 0.14704000122205246);text-decoration: underline\"> geography</span><span title=\"0.11277717394881646\" style=\"background-color:rgba(255, 0, 0, 0.11277717394881646);\"> of</span><span title=\"0.1302368133324563\" style=\"background-color:rgba(255, 0, 0, 0.1302368133324563);\"> the</span><span title=\"0.21576436185339948\" style=\"background-color:rgba(255, 0, 0, 0.21576436185339948);\"> East</span><span title=\"0.025288330621153085\" style=\"background-color:rgba(255, 0, 0, 0.025288330621153085);\"> .</span>"
            ],
            "text/plain": [
              "<IPython.core.display.HTML object>"
            ]
          },
          "metadata": {
            "tags": []
          }
        },
        {
          "output_type": "stream",
          "text": [
            "\n"
          ],
          "name": "stdout"
        },
        {
          "output_type": "display_data",
          "data": {
            "text/html": [
              "<span title=\"0.07483869783596107\" style=\"background-color:rgba(255, 0, 0, 0.07483869783596107);\"> Nearly</span><span title=\"0.0706956364635093\" style=\"background-color:rgba(255, 0, 0, 0.0706956364635093);\"> all</span><span title=\"0.06496332797229622\" style=\"background-color:rgba(255, 0, 0, 0.06496332797229622);\"> of</span><span title=\"0.17533011099370271\" style=\"background-color:rgba(255, 0, 0, 0.17533011099370271);\"> France</span><span title=\"0.11259782999202776\" style=\"background-color:rgba(255, 0, 0, 0.11259782999202776);\"> 's</span><span title=\"0.1255582622335915\" style=\"background-color:rgba(255, 0, 0, 0.1255582622335915);\"> colonies</span><span title=\"0.03293775708097629\" style=\"background-color:rgba(255, 0, 0, 0.03293775708097629);\"> gained</span><span title=\"0.07136212227636418\" style=\"background-color:rgba(255, 0, 0, 0.07136212227636418);\"> independence</span><span title=\"0.03530810632033331\" style=\"background-color:rgba(255, 0, 0, 0.03530810632033331);\"> by</span><span title=\"0.5930492828755115\" style=\"background-color:rgba(255, 0, 0, 0.5930492828755115);text-decoration: underline\"> 1960</span><span title=\"0.04683540372385788\" style=\"background-color:rgba(255, 0, 0, 0.04683540372385788);\"> ,</span><span title=\"0.04398161390098118\" style=\"background-color:rgba(255, 0, 0, 0.04398161390098118);\"> but</span><span title=\"0.16195104735988722\" style=\"background-color:rgba(255, 0, 0, 0.16195104735988722);\"> France</span><span title=\"0.10236076769338141\" style=\"background-color:rgba(255, 0, 0, 0.10236076769338141);\"> retained</span><span title=\"0.2290937762804168\" style=\"background-color:rgba(255, 0, 0, 0.2290937762804168);\"> great</span><span title=\"0.27242069956024895\" style=\"background-color:rgba(255, 0, 0, 0.27242069956024895);\"> financial</span><span title=\"0.26494488339279887\" style=\"background-color:rgba(255, 0, 0, 0.26494488339279887);\"> and</span><span title=\"0.2820480146005749\" style=\"background-color:rgba(255, 0, 0, 0.2820480146005749);\"> diplomatic</span><span title=\"0.2549223087538884\" style=\"background-color:rgba(255, 0, 0, 0.2549223087538884);\"> influence</span><span title=\"0.05972338895542347\" style=\"background-color:rgba(255, 0, 0, 0.05972338895542347);\"> .</span>"
            ],
            "text/plain": [
              "<IPython.core.display.HTML object>"
            ]
          },
          "metadata": {
            "tags": []
          }
        },
        {
          "output_type": "stream",
          "text": [
            "\n"
          ],
          "name": "stdout"
        },
        {
          "output_type": "display_data",
          "data": {
            "text/html": [
              "<span title=\"0.019332544785804734\" style=\"background-color:rgba(255, 0, 0, 0.019332544785804734);\"> Although</span><span title=\"0.02485925990714384\" style=\"background-color:rgba(255, 0, 0, 0.02485925990714384);\"> by</span><span title=\"0.6612102277063082\" style=\"background-color:rgba(255, 0, 0, 0.6612102277063082);\"> 1000</span><span title=\"0.4953649579353535\" style=\"background-color:rgba(255, 0, 0, 0.4953649579353535);\"> CE</span><span title=\"0.0685411063562945\" style=\"background-color:rgba(255, 0, 0, 0.0685411063562945);\"> ,</span><span title=\"0.08270411949676647\" style=\"background-color:rgba(255, 0, 0, 0.08270411949676647);\"> the</span><span title=\"0.2435807764586364\" style=\"background-color:rgba(255, 0, 0, 0.2435807764586364);\"> Germanic</span><span title=\"0.1941142843450008\" style=\"background-color:rgba(255, 0, 0, 0.1941142843450008);\"> conquest</span><span title=\"0.14482913559427416\" style=\"background-color:rgba(255, 0, 0, 0.14482913559427416);\"> of</span><span title=\"0.23673238346761272\" style=\"background-color:rgba(255, 0, 0, 0.23673238346761272);\"> central</span><span title=\"0.17550709899252978\" style=\"background-color:rgba(255, 0, 0, 0.17550709899252978);\"> ,</span><span title=\"0.1776164306129011\" style=\"background-color:rgba(255, 0, 0, 0.1776164306129011);\"> western</span><span title=\"0.12111759130019513\" style=\"background-color:rgba(255, 0, 0, 0.12111759130019513);\"> ,</span><span title=\"0.11842786149956136\" style=\"background-color:rgba(255, 0, 0, 0.11842786149956136);\"> and</span><span title=\"0.14490931412719824\" style=\"background-color:rgba(255, 0, 0, 0.14490931412719824);\"> southern</span><span title=\"0.19057492565766346\" style=\"background-color:rgba(255, 0, 0, 0.19057492565766346);\"> Europe</span><span title=\"0.052490102395949215\" style=\"background-color:rgba(255, 0, 0, 0.052490102395949215);\"> (</span><span title=\"0.07081895343550126\" style=\"background-color:rgba(255, 0, 0, 0.07081895343550126);\"> west</span><span title=\"0.07497877795683955\" style=\"background-color:rgba(255, 0, 0, 0.07497877795683955);\"> of</span><span title=\"0.08434634375497674\" style=\"background-color:rgba(255, 0, 0, 0.08434634375497674);\"> and</span><span title=\"0.09541570632360048\" style=\"background-color:rgba(255, 0, 0, 0.09541570632360048);\"> including</span><span title=\"0.1536389013026111\" style=\"background-color:rgba(255, 0, 0, 0.1536389013026111);\"> Italy</span><span title=\"0.033026729478079414\" style=\"background-color:rgba(255, 0, 0, 0.033026729478079414);\"> )</span><span title=\"0.015753237345277383\" style=\"background-color:rgba(255, 0, 0, 0.015753237345277383);\"> was</span><span title=\"0.05833944184323171\" style=\"background-color:rgba(255, 0, 0, 0.05833944184323171);\"> complete</span><span title=\"0.024208676098367913\" style=\"background-color:rgba(255, 0, 0, 0.024208676098367913);\"> ,</span><span title=\"0.03678816020132869\" style=\"background-color:rgba(255, 0, 0, 0.03678816020132869);\"> excluding</span><span title=\"0.07308261901619262\" style=\"background-color:rgba(255, 0, 0, 0.07308261901619262);\"> only</span><span title=\"0.222759422116863\" style=\"background-color:rgba(255, 0, 0, 0.222759422116863);text-decoration: underline\"> Muslim</span><span title=\"0.2156598261996667\" style=\"background-color:rgba(255, 0, 0, 0.2156598261996667);text-decoration: underline\"> Iberia</span><span title=\"0.03384506120086168\" style=\"background-color:rgba(255, 0, 0, 0.03384506120086168);\"> .</span>"
            ],
            "text/plain": [
              "<IPython.core.display.HTML object>"
            ]
          },
          "metadata": {
            "tags": []
          }
        },
        {
          "output_type": "stream",
          "text": [
            "\n"
          ],
          "name": "stdout"
        },
        {
          "output_type": "display_data",
          "data": {
            "text/html": [
              "<span title=\"0.18871589799162575\" style=\"background-color:rgba(255, 0, 0, 0.18871589799162575);text-decoration: underline\"> Bolshevik</span><span title=\"0.11675130247174102\" style=\"background-color:rgba(255, 0, 0, 0.11675130247174102);text-decoration: underline\"> leaders</span><span title=\"0.02615955766919306\" style=\"background-color:rgba(255, 0, 0, 0.02615955766919306);\"> had</span><span title=\"0.0366823863009649\" style=\"background-color:rgba(255, 0, 0, 0.0366823863009649);\"> effectively</span><span title=\"0.04280589504949685\" style=\"background-color:rgba(255, 0, 0, 0.04280589504949685);\"> reestablished</span><span title=\"0.06667643642883336\" style=\"background-color:rgba(255, 0, 0, 0.06667643642883336);\"> a</span><span title=\"0.08856509277177904\" style=\"background-color:rgba(255, 0, 0, 0.08856509277177904);\"> polity</span><span title=\"0.04209195221937455\" style=\"background-color:rgba(255, 0, 0, 0.04209195221937455);\"> with</span><span title=\"0.057878405251000874\" style=\"background-color:rgba(255, 0, 0, 0.057878405251000874);\"> roughly</span><span title=\"0.05202496942973473\" style=\"background-color:rgba(255, 0, 0, 0.05202496942973473);\"> the</span><span title=\"0.06563467001821172\" style=\"background-color:rgba(255, 0, 0, 0.06563467001821172);\"> same</span><span title=\"0.06863099383669531\" style=\"background-color:rgba(255, 0, 0, 0.06863099383669531);\"> extent</span><span title=\"0.03222359555402812\" style=\"background-color:rgba(255, 0, 0, 0.03222359555402812);\"> as</span><span title=\"0.04503987086647215\" style=\"background-color:rgba(255, 0, 0, 0.04503987086647215);\"> that</span><span title=\"0.055688577039738466\" style=\"background-color:rgba(255, 0, 0, 0.055688577039738466);\"> empire</span><span title=\"0.021597995837329777\" style=\"background-color:rgba(255, 0, 0, 0.021597995837329777);\"> by</span><span title=\"0.5343256209916576\" style=\"background-color:rgba(255, 0, 0, 0.5343256209916576);\"> 1921</span><span title=\"0.023133647636306275\" style=\"background-color:rgba(255, 0, 0, 0.023133647636306275);\"> ,</span><span title=\"0.020637037952735637\" style=\"background-color:rgba(255, 0, 0, 0.020637037952735637);\"> however</span><span title=\"0.020982422305927492\" style=\"background-color:rgba(255, 0, 0, 0.020982422305927492);\"> with</span><span title=\"0.03443657546050634\" style=\"background-color:rgba(255, 0, 0, 0.03443657546050634);\"> an</span><span title=\"0.0588153615138787\" style=\"background-color:rgba(255, 0, 0, 0.0588153615138787);\"> internationalist</span><span title=\"0.06058867165978319\" style=\"background-color:rgba(255, 0, 0, 0.06058867165978319);\"> ideology</span><span title=\"0.014276817879123964\" style=\"background-color:rgba(255, 0, 0, 0.014276817879123964);\"> :</span><span title=\"0.11627848157933784\" style=\"background-color:rgba(255, 0, 0, 0.11627848157933784);text-decoration: underline\"> Lenin</span><span title=\"0.027169466767819013\" style=\"background-color:rgba(255, 0, 0, 0.027169466767819013);\"> in</span><span title=\"0.04509090111969449\" style=\"background-color:rgba(255, 0, 0, 0.04509090111969449);\"> particular</span><span title=\"0.027422375280244805\" style=\"background-color:rgba(255, 0, 0, 0.027422375280244805);\"> asserted</span><span title=\"0.06497018341883504\" style=\"background-color:rgba(255, 0, 0, 0.06497018341883504);\"> the</span><span title=\"0.09772961375860964\" style=\"background-color:rgba(255, 0, 0, 0.09772961375860964);\"> right</span><span title=\"0.06712306820976453\" style=\"background-color:rgba(255, 0, 0, 0.06712306820976453);\"> to</span><span title=\"0.13877912874571272\" style=\"background-color:rgba(255, 0, 0, 0.13877912874571272);\"> limited</span><span title=\"0.15466412430178944\" style=\"background-color:rgba(255, 0, 0, 0.15466412430178944);\"> self</span><span title=\"0.13159091058699643\" style=\"background-color:rgba(255, 0, 0, 0.13159091058699643);\"> -</span><span title=\"0.13076996948899536\" style=\"background-color:rgba(255, 0, 0, 0.13076996948899536);\"> determination</span><span title=\"0.07192795250649542\" style=\"background-color:rgba(255, 0, 0, 0.07192795250649542);\"> for</span><span title=\"0.11016802034488987\" style=\"background-color:rgba(255, 0, 0, 0.11016802034488987);\"> national</span><span title=\"0.10032412921733974\" style=\"background-color:rgba(255, 0, 0, 0.10032412921733974);\"> minorities</span><span title=\"0.0507478668690239\" style=\"background-color:rgba(255, 0, 0, 0.0507478668690239);\"> within</span><span title=\"0.06590920993622784\" style=\"background-color:rgba(255, 0, 0, 0.06590920993622784);\"> the</span><span title=\"0.10211859466776825\" style=\"background-color:rgba(255, 0, 0, 0.10211859466776825);\"> new</span><span title=\"0.10950581368194998\" style=\"background-color:rgba(255, 0, 0, 0.10950581368194998);\"> territory</span><span title=\"0.02310062988714617\" style=\"background-color:rgba(255, 0, 0, 0.02310062988714617);\"> .</span>"
            ],
            "text/plain": [
              "<IPython.core.display.HTML object>"
            ]
          },
          "metadata": {
            "tags": []
          }
        },
        {
          "output_type": "stream",
          "text": [
            "\n"
          ],
          "name": "stdout"
        },
        {
          "output_type": "display_data",
          "data": {
            "text/html": [
              "<span title=\"0.070997118143554\" style=\"background-color:rgba(255, 0, 0, 0.070997118143554);text-decoration: underline\"> The</span><span title=\"0.1566069878839983\" style=\"background-color:rgba(255, 0, 0, 0.1566069878839983);text-decoration: underline\"> British</span><span title=\"0.1322683979067679\" style=\"background-color:rgba(255, 0, 0, 0.1322683979067679);text-decoration: underline\"> spirit</span><span title=\"0.1071578823628316\" style=\"background-color:rgba(255, 0, 0, 0.1071578823628316);text-decoration: underline\"> of</span><span title=\"0.14095910894248148\" style=\"background-color:rgba(255, 0, 0, 0.14095910894248148);text-decoration: underline\"> imperialism</span><span title=\"0.01998322948541127\" style=\"background-color:rgba(255, 0, 0, 0.01998322948541127);\"> was</span><span title=\"0.02506688368072621\" style=\"background-color:rgba(255, 0, 0, 0.02506688368072621);\"> expressed</span><span title=\"0.05436952657650555\" style=\"background-color:rgba(255, 0, 0, 0.05436952657650555);\"> by</span><span title=\"0.6041964512799218\" style=\"background-color:rgba(255, 0, 0, 0.6041964512799218);\"> Joseph</span><span title=\"0.5564886781563039\" style=\"background-color:rgba(255, 0, 0, 0.5564886781563039);\"> Chamberlain</span><span title=\"0.3405681133888245\" style=\"background-color:rgba(255, 0, 0, 0.3405681133888245);\"> and</span><span title=\"0.41930054891468715\" style=\"background-color:rgba(255, 0, 0, 0.41930054891468715);\"> Lord</span><span title=\"0.4006570006785885\" style=\"background-color:rgba(255, 0, 0, 0.4006570006785885);\"> Rosebury</span><span title=\"0.10162582158741884\" style=\"background-color:rgba(255, 0, 0, 0.10162582158741884);\"> ,</span><span title=\"0.07565975591111306\" style=\"background-color:rgba(255, 0, 0, 0.07565975591111306);\"> and</span><span title=\"0.06633651856780436\" style=\"background-color:rgba(255, 0, 0, 0.06633651856780436);\"> implemented</span><span title=\"0.043418199175622355\" style=\"background-color:rgba(255, 0, 0, 0.043418199175622355);\"> in</span><span title=\"0.1551603560947175\" style=\"background-color:rgba(255, 0, 0, 0.1551603560947175);\"> Africa</span><span title=\"0.04062677528799856\" style=\"background-color:rgba(255, 0, 0, 0.04062677528799856);\"> by</span><span title=\"0.6179829931118994\" style=\"background-color:rgba(255, 0, 0, 0.6179829931118994);\"> Cecil</span><span title=\"0.5862068613685174\" style=\"background-color:rgba(255, 0, 0, 0.5862068613685174);\"> Rhodes</span><span title=\"0.05369762811303044\" style=\"background-color:rgba(255, 0, 0, 0.05369762811303044);\"> .</span>"
            ],
            "text/plain": [
              "<IPython.core.display.HTML object>"
            ]
          },
          "metadata": {
            "tags": []
          }
        },
        {
          "output_type": "stream",
          "text": [
            "\n"
          ],
          "name": "stdout"
        },
        {
          "output_type": "display_data",
          "data": {
            "text/html": [
              "<span title=\"0.13045651834021882\" style=\"background-color:rgba(255, 0, 0, 0.13045651834021882);\"> American</span><span title=\"0.10659121146755646\" style=\"background-color:rgba(255, 0, 0, 0.10659121146755646);\"> foreign</span><span title=\"0.09580592538721866\" style=\"background-color:rgba(255, 0, 0, 0.09580592538721866);\"> policy</span><span title=\"0.0276890625997055\" style=\"background-color:rgba(255, 0, 0, 0.0276890625997055);\"> was</span><span title=\"0.03729553067570153\" style=\"background-color:rgba(255, 0, 0, 0.03729553067570153);\"> denounced</span><span title=\"0.05165824939801248\" style=\"background-color:rgba(255, 0, 0, 0.05165824939801248);\"> as</span><span title=\"0.1302141220798108\" style=\"background-color:rgba(255, 0, 0, 0.1302141220798108);text-decoration: underline\"> a</span><span title=\"0.136405481257302\" style=\"background-color:rgba(255, 0, 0, 0.136405481257302);text-decoration: underline\"> \"</span><span title=\"0.19797821811425168\" style=\"background-color:rgba(255, 0, 0, 0.19797821811425168);text-decoration: underline\"> racket</span><span title=\"0.059252698589084246\" style=\"background-color:rgba(255, 0, 0, 0.059252698589084246);text-decoration: underline\"> \"</span><span title=\"0.05942673462267515\" style=\"background-color:rgba(255, 0, 0, 0.05942673462267515);\"> by</span><span title=\"0.6186130491561037\" style=\"background-color:rgba(255, 0, 0, 0.6186130491561037);\"> Smedley</span><span title=\"0.5796472634599789\" style=\"background-color:rgba(255, 0, 0, 0.5796472634599789);\"> Butler</span><span title=\"0.14402920342673514\" style=\"background-color:rgba(255, 0, 0, 0.14402920342673514);\"> ,</span><span title=\"0.13699075721010606\" style=\"background-color:rgba(255, 0, 0, 0.13699075721010606);\"> an</span><span title=\"0.2336941549090122\" style=\"background-color:rgba(255, 0, 0, 0.2336941549090122);\"> American</span><span title=\"0.22084176298919556\" style=\"background-color:rgba(255, 0, 0, 0.22084176298919556);\"> general</span><span title=\"0.059663133834586005\" style=\"background-color:rgba(255, 0, 0, 0.059663133834586005);\"> .</span>"
            ],
            "text/plain": [
              "<IPython.core.display.HTML object>"
            ]
          },
          "metadata": {
            "tags": []
          }
        },
        {
          "output_type": "stream",
          "text": [
            "\n"
          ],
          "name": "stdout"
        },
        {
          "output_type": "display_data",
          "data": {
            "text/html": [
              "<span title=\"0.06285063657669955\" style=\"background-color:rgba(255, 0, 0, 0.06285063657669955);\"> Its</span><span title=\"0.07412009852632856\" style=\"background-color:rgba(255, 0, 0, 0.07412009852632856);\"> population</span><span title=\"0.016446123195677134\" style=\"background-color:rgba(255, 0, 0, 0.016446123195677134);\"> is</span><span title=\"0.0233166453098242\" style=\"background-color:rgba(255, 0, 0, 0.0233166453098242);\"> estimated</span><span title=\"0.03766661777794664\" style=\"background-color:rgba(255, 0, 0, 0.03766661777794664);\"> at</span><span title=\"0.7434462162402992\" style=\"background-color:rgba(255, 0, 0, 0.7434462162402992);\"> 1.740</span><span title=\"0.6255682361721939\" style=\"background-color:rgba(255, 0, 0, 0.6255682361721939);\"> million</span><span title=\"0.2940474876321651\" style=\"background-color:rgba(255, 0, 0, 0.2940474876321651);\"> residents</span><span title=\"0.13348314436565237\" style=\"background-color:rgba(255, 0, 0, 0.13348314436565237);\"> within</span><span title=\"0.2185185778931394\" style=\"background-color:rgba(255, 0, 0, 0.2185185778931394);\"> a</span><span title=\"0.2703618259117996\" style=\"background-color:rgba(255, 0, 0, 0.2703618259117996);\"> greater</span><span title=\"0.27540527397088643\" style=\"background-color:rgba(255, 0, 0, 0.27540527397088643);\"> metropolitan</span><span title=\"0.2634006837229169\" style=\"background-color:rgba(255, 0, 0, 0.2634006837229169);\"> area</span><span title=\"0.18894685698280195\" style=\"background-color:rgba(255, 0, 0, 0.18894685698280195);\"> of</span><span title=\"0.6594911981272987\" style=\"background-color:rgba(255, 0, 0, 0.6594911981272987);text-decoration: underline\"> 2.666</span><span title=\"0.6137123771758606\" style=\"background-color:rgba(255, 0, 0, 0.6137123771758606);text-decoration: underline\"> million</span><span title=\"0.3665887336136716\" style=\"background-color:rgba(255, 0, 0, 0.3665887336136716);text-decoration: underline\"> residents</span><span title=\"0.06366468804672716\" style=\"background-color:rgba(255, 0, 0, 0.06366468804672716);\"> ,</span><span title=\"0.04078346833406976\" style=\"background-color:rgba(255, 0, 0, 0.04078346833406976);\"> which</span><span title=\"0.049284539975104326\" style=\"background-color:rgba(255, 0, 0, 0.049284539975104326);\"> makes</span><span title=\"0.17911681215909953\" style=\"background-color:rgba(255, 0, 0, 0.17911681215909953);\"> Warsaw</span><span title=\"0.10223837169573635\" style=\"background-color:rgba(255, 0, 0, 0.10223837169573635);\"> the</span><span title=\"0.13490754204896813\" style=\"background-color:rgba(255, 0, 0, 0.13490754204896813);text-decoration: underline\"> 9th</span><span title=\"0.1207054559122721\" style=\"background-color:rgba(255, 0, 0, 0.1207054559122721);\"> most</span><span title=\"0.10631994077761144\" style=\"background-color:rgba(255, 0, 0, 0.10631994077761144);\"> -</span><span title=\"0.11213494636738454\" style=\"background-color:rgba(255, 0, 0, 0.11213494636738454);\"> populous</span><span title=\"0.11318341176391382\" style=\"background-color:rgba(255, 0, 0, 0.11318341176391382);\"> capital</span><span title=\"0.10389960214740916\" style=\"background-color:rgba(255, 0, 0, 0.10389960214740916);\"> city</span><span title=\"0.0726302239010897\" style=\"background-color:rgba(255, 0, 0, 0.0726302239010897);\"> in</span><span title=\"0.14095609257605055\" style=\"background-color:rgba(255, 0, 0, 0.14095609257605055);\"> the</span><span title=\"0.2857253850662781\" style=\"background-color:rgba(255, 0, 0, 0.2857253850662781);\"> European</span><span title=\"0.2775826102749402\" style=\"background-color:rgba(255, 0, 0, 0.2775826102749402);\"> Union</span><span title=\"0.027621762386023322\" style=\"background-color:rgba(255, 0, 0, 0.027621762386023322);\"> .</span>"
            ],
            "text/plain": [
              "<IPython.core.display.HTML object>"
            ]
          },
          "metadata": {
            "tags": []
          }
        },
        {
          "output_type": "stream",
          "text": [
            "\n"
          ],
          "name": "stdout"
        },
        {
          "output_type": "display_data",
          "data": {
            "text/html": [
              "<span title=\"0.015866434399442887\" style=\"background-color:rgba(255, 0, 0, 0.015866434399442887);\"> In</span><span title=\"0.05269275094634738\" style=\"background-color:rgba(255, 0, 0, 0.05269275094634738);\"> the</span><span title=\"0.14871414861563714\" style=\"background-color:rgba(255, 0, 0, 0.14871414861563714);\"> 19th</span><span title=\"0.11196229469731465\" style=\"background-color:rgba(255, 0, 0, 0.11196229469731465);\"> century</span><span title=\"0.0782665552215299\" style=\"background-color:rgba(255, 0, 0, 0.0782665552215299);\"> the</span><span title=\"0.262683706788167\" style=\"background-color:rgba(255, 0, 0, 0.262683706788167);\"> Krasiński</span><span title=\"0.23768313613006337\" style=\"background-color:rgba(255, 0, 0, 0.23768313613006337);\"> Palace</span><span title=\"0.21478906255471755\" style=\"background-color:rgba(255, 0, 0, 0.21478906255471755);\"> Garden</span><span title=\"0.030863008359530958\" style=\"background-color:rgba(255, 0, 0, 0.030863008359530958);\"> was</span><span title=\"0.034945346252501085\" style=\"background-color:rgba(255, 0, 0, 0.034945346252501085);\"> remodelled</span><span title=\"0.0702263653223197\" style=\"background-color:rgba(255, 0, 0, 0.0702263653223197);\"> by</span><span title=\"0.6296222092331768\" style=\"background-color:rgba(255, 0, 0, 0.6296222092331768);\"> Franciszek</span><span title=\"0.5986911098214971\" style=\"background-color:rgba(255, 0, 0, 0.5986911098214971);\"> Szanior</span><span title=\"0.06314606730518096\" style=\"background-color:rgba(255, 0, 0, 0.06314606730518096);\"> .</span>"
            ],
            "text/plain": [
              "<IPython.core.display.HTML object>"
            ]
          },
          "metadata": {
            "tags": []
          }
        },
        {
          "output_type": "stream",
          "text": [
            "\n"
          ],
          "name": "stdout"
        },
        {
          "output_type": "display_data",
          "data": {
            "text/html": [
              "<span title=\"0.07730507966241101\" style=\"background-color:rgba(255, 0, 0, 0.07730507966241101);\"> The</span><span title=\"0.1010167102951633\" style=\"background-color:rgba(255, 0, 0, 0.1010167102951633);\"> oldest</span><span title=\"0.10017333240688288\" style=\"background-color:rgba(255, 0, 0, 0.10017333240688288);\"> park</span><span title=\"0.06625971635017745\" style=\"background-color:rgba(255, 0, 0, 0.06625971635017745);\"> in</span><span title=\"0.22182164765305515\" style=\"background-color:rgba(255, 0, 0, 0.22182164765305515);\"> Praga</span><span title=\"0.04223226367772073\" style=\"background-color:rgba(255, 0, 0, 0.04223226367772073);\"> ,</span><span title=\"0.0799691810972342\" style=\"background-color:rgba(255, 0, 0, 0.0799691810972342);\"> the</span><span title=\"0.26176520937397113\" style=\"background-color:rgba(255, 0, 0, 0.26176520937397113);\"> Praga</span><span title=\"0.2424753362438777\" style=\"background-color:rgba(255, 0, 0, 0.2424753362438777);\"> Park</span><span title=\"0.03749289044255334\" style=\"background-color:rgba(255, 0, 0, 0.03749289044255334);\"> ,</span><span title=\"0.018789427722540875\" style=\"background-color:rgba(255, 0, 0, 0.018789427722540875);\"> was</span><span title=\"0.027870005811198965\" style=\"background-color:rgba(255, 0, 0, 0.027870005811198965);\"> established</span><span title=\"0.03521918377964046\" style=\"background-color:rgba(255, 0, 0, 0.03521918377964046);\"> in</span><span title=\"0.2621939481352451\" style=\"background-color:rgba(255, 0, 0, 0.2621939481352451);\"> 1865–1871</span><span title=\"0.07799487216771939\" style=\"background-color:rgba(255, 0, 0, 0.07799487216771939);\"> and</span><span title=\"0.0726277054986478\" style=\"background-color:rgba(255, 0, 0, 0.0726277054986478);\"> designed</span><span title=\"0.07705778385049965\" style=\"background-color:rgba(255, 0, 0, 0.07705778385049965);\"> by</span><span title=\"0.6076367381861595\" style=\"background-color:rgba(255, 0, 0, 0.6076367381861595);\"> Jan</span><span title=\"0.5753821887764671\" style=\"background-color:rgba(255, 0, 0, 0.5753821887764671);\"> Dobrowolski</span><span title=\"0.05890705670322246\" style=\"background-color:rgba(255, 0, 0, 0.05890705670322246);\"> .</span>"
            ],
            "text/plain": [
              "<IPython.core.display.HTML object>"
            ]
          },
          "metadata": {
            "tags": []
          }
        },
        {
          "output_type": "stream",
          "text": [
            "\n"
          ],
          "name": "stdout"
        },
        {
          "output_type": "display_data",
          "data": {
            "text/html": [
              "<span title=\"0.16914040631207566\" style=\"background-color:rgba(255, 0, 0, 0.16914040631207566);\"> Foreign</span><span title=\"0.14608008353589289\" style=\"background-color:rgba(255, 0, 0, 0.14608008353589289);\"> investors</span><span title=\"0.12340715563429192\" style=\"background-color:rgba(255, 0, 0, 0.12340715563429192);\"> '</span><span title=\"0.13505501505593082\" style=\"background-color:rgba(255, 0, 0, 0.13505501505593082);\"> financial</span><span title=\"0.12202057734253437\" style=\"background-color:rgba(255, 0, 0, 0.12202057734253437);\"> participation</span><span title=\"0.06579453596640282\" style=\"background-color:rgba(255, 0, 0, 0.06579453596640282);\"> in</span><span title=\"0.07235388087763596\" style=\"background-color:rgba(255, 0, 0, 0.07235388087763596);\"> the</span><span title=\"0.08849132098692498\" style=\"background-color:rgba(255, 0, 0, 0.08849132098692498);\"> city</span><span title=\"0.07438068500714035\" style=\"background-color:rgba(255, 0, 0, 0.07438068500714035);\"> 's</span><span title=\"0.08732455118914008\" style=\"background-color:rgba(255, 0, 0, 0.08732455118914008);\"> development</span><span title=\"0.014143986996062586\" style=\"background-color:rgba(255, 0, 0, 0.014143986996062586);\"> was</span><span title=\"0.02015926908515562\" style=\"background-color:rgba(255, 0, 0, 0.02015926908515562);\"> estimated</span><span title=\"0.022513863783255428\" style=\"background-color:rgba(255, 0, 0, 0.022513863783255428);\"> in</span><span title=\"0.2533879873851168\" style=\"background-color:rgba(255, 0, 0, 0.2533879873851168);\"> 2002</span><span title=\"0.06729024942492647\" style=\"background-color:rgba(255, 0, 0, 0.06729024942492647);\"> at</span><span title=\"0.13824870383904664\" style=\"background-color:rgba(255, 0, 0, 0.13824870383904664);\"> over</span><span title=\"0.6643523098207678\" style=\"background-color:rgba(255, 0, 0, 0.6643523098207678);\"> 650</span><span title=\"0.6462368541499688\" style=\"background-color:rgba(255, 0, 0, 0.6462368541499688);\"> million</span><span title=\"0.5533386148491053\" style=\"background-color:rgba(255, 0, 0, 0.5533386148491053);\"> euro</span><span title=\"0.07042345816785812\" style=\"background-color:rgba(255, 0, 0, 0.07042345816785812);\"> .</span>"
            ],
            "text/plain": [
              "<IPython.core.display.HTML object>"
            ]
          },
          "metadata": {
            "tags": []
          }
        },
        {
          "output_type": "stream",
          "text": [
            "\n"
          ],
          "name": "stdout"
        },
        {
          "output_type": "display_data",
          "data": {
            "text/html": [
              "<span title=\"0.18227903595978498\" style=\"background-color:rgba(255, 0, 0, 0.18227903595978498);\"> Total</span><span title=\"0.17666735410484383\" style=\"background-color:rgba(255, 0, 0, 0.17666735410484383);\"> nominal</span><span title=\"0.16657081921292646\" style=\"background-color:rgba(255, 0, 0, 0.16657081921292646);\"> GDP</span><span title=\"0.11381477760731736\" style=\"background-color:rgba(255, 0, 0, 0.11381477760731736);\"> of</span><span title=\"0.11888125307214217\" style=\"background-color:rgba(255, 0, 0, 0.11888125307214217);\"> the</span><span title=\"0.13348469151982403\" style=\"background-color:rgba(255, 0, 0, 0.13348469151982403);\"> city</span><span title=\"0.027885217185285957\" style=\"background-color:rgba(255, 0, 0, 0.027885217185285957);\"> in</span><span title=\"0.3007113807542777\" style=\"background-color:rgba(255, 0, 0, 0.3007113807542777);\"> 2010</span><span title=\"0.016094327668954564\" style=\"background-color:rgba(255, 0, 0, 0.016094327668954564);\"> amounted</span><span title=\"0.026633709320358065\" style=\"background-color:rgba(255, 0, 0, 0.026633709320358065);\"> to</span><span title=\"0.8846057175576981\" style=\"background-color:rgba(255, 0, 0, 0.8846057175576981);text-decoration: underline\"> 191.766</span><span title=\"0.8306456749721906\" style=\"background-color:rgba(255, 0, 0, 0.8306456749721906);text-decoration: underline\"> billion</span><span title=\"0.7338419895584705\" style=\"background-color:rgba(255, 0, 0, 0.7338419895584705);text-decoration: underline\"> PLN</span><span title=\"0.22856540505772005\" style=\"background-color:rgba(255, 0, 0, 0.22856540505772005);\"> ,</span><span title=\"0.44770162334502883\" style=\"background-color:rgba(255, 0, 0, 0.44770162334502883);\"> 111696</span><span title=\"0.35415777793989284\" style=\"background-color:rgba(255, 0, 0, 0.35415777793989284);\"> PLN</span><span title=\"0.2274459174447624\" style=\"background-color:rgba(255, 0, 0, 0.2274459174447624);\"> per</span><span title=\"0.24996224213801346\" style=\"background-color:rgba(255, 0, 0, 0.24996224213801346);\"> capita</span><span title=\"0.05724980364596577\" style=\"background-color:rgba(255, 0, 0, 0.05724980364596577);\"> ,</span><span title=\"0.042626083521711156\" style=\"background-color:rgba(255, 0, 0, 0.042626083521711156);\"> which</span><span title=\"0.04276918558731759\" style=\"background-color:rgba(255, 0, 0, 0.04276918558731759);\"> was</span><span title=\"0.38286131374795984\" style=\"background-color:rgba(255, 0, 0, 0.38286131374795984);\"> 301,1</span><span title=\"0.30523657979756347\" style=\"background-color:rgba(255, 0, 0, 0.30523657979756347);\"> %</span><span title=\"0.20061461466383781\" style=\"background-color:rgba(255, 0, 0, 0.20061461466383781);\"> of</span><span title=\"0.3132677141071768\" style=\"background-color:rgba(255, 0, 0, 0.3132677141071768);\"> Polish</span><span title=\"0.28581987174873147\" style=\"background-color:rgba(255, 0, 0, 0.28581987174873147);\"> average</span><span title=\"0.052750522409913785\" style=\"background-color:rgba(255, 0, 0, 0.052750522409913785);\"> .</span>"
            ],
            "text/plain": [
              "<IPython.core.display.HTML object>"
            ]
          },
          "metadata": {
            "tags": []
          }
        },
        {
          "output_type": "stream",
          "text": [
            "\n"
          ],
          "name": "stdout"
        },
        {
          "output_type": "display_data",
          "data": {
            "text/html": [
              "<span title=\"0.17989474702790362\" style=\"background-color:rgba(255, 0, 0, 0.17989474702790362);\"> The</span><span title=\"0.25344878964155027\" style=\"background-color:rgba(255, 0, 0, 0.25344878964155027);\"> University</span><span title=\"0.20387098957811514\" style=\"background-color:rgba(255, 0, 0, 0.20387098957811514);\"> of</span><span title=\"0.24288169891637293\" style=\"background-color:rgba(255, 0, 0, 0.24288169891637293);\"> Warsaw</span><span title=\"0.017999995728494488\" style=\"background-color:rgba(255, 0, 0, 0.017999995728494488);\"> was</span><span title=\"0.02248188050741383\" style=\"background-color:rgba(255, 0, 0, 0.02248188050741383);\"> established</span><span title=\"0.024795839771813634\" style=\"background-color:rgba(255, 0, 0, 0.024795839771813634);\"> in</span><span title=\"0.5647489962986082\" style=\"background-color:rgba(255, 0, 0, 0.5647489962986082);text-decoration: underline\"> 1816</span><span title=\"0.057562112001191656\" style=\"background-color:rgba(255, 0, 0, 0.057562112001191656);\"> ,</span><span title=\"0.053003138628988714\" style=\"background-color:rgba(255, 0, 0, 0.053003138628988714);\"> when</span><span title=\"0.08066311704298369\" style=\"background-color:rgba(255, 0, 0, 0.08066311704298369);\"> the</span><span title=\"0.1108055706386091\" style=\"background-color:rgba(255, 0, 0, 0.1108055706386091);\"> partitions</span><span title=\"0.07438545774103522\" style=\"background-color:rgba(255, 0, 0, 0.07438545774103522);\"> of</span><span title=\"0.16202221474584172\" style=\"background-color:rgba(255, 0, 0, 0.16202221474584172);\"> Poland</span><span title=\"0.05304769079921383\" style=\"background-color:rgba(255, 0, 0, 0.05304769079921383);\"> separated</span><span title=\"0.1336155126305678\" style=\"background-color:rgba(255, 0, 0, 0.1336155126305678);\"> Warsaw</span><span title=\"0.07142732601174741\" style=\"background-color:rgba(255, 0, 0, 0.07142732601174741);\"> from</span><span title=\"0.10637362445567874\" style=\"background-color:rgba(255, 0, 0, 0.10637362445567874);\"> the</span><span title=\"0.1318761018513699\" style=\"background-color:rgba(255, 0, 0, 0.1318761018513699);\"> oldest</span><span title=\"0.12085285689690098\" style=\"background-color:rgba(255, 0, 0, 0.12085285689690098);\"> and</span><span title=\"0.12222964761665787\" style=\"background-color:rgba(255, 0, 0, 0.12222964761665787);\"> most</span><span title=\"0.13894645753255294\" style=\"background-color:rgba(255, 0, 0, 0.13894645753255294);\"> influential</span><span title=\"0.164404897951429\" style=\"background-color:rgba(255, 0, 0, 0.164404897951429);\"> Polish</span><span title=\"0.16313332495874228\" style=\"background-color:rgba(255, 0, 0, 0.16313332495874228);\"> academic</span><span title=\"0.16732953199772985\" style=\"background-color:rgba(255, 0, 0, 0.16732953199772985);\"> center</span><span title=\"0.058941991557261667\" style=\"background-color:rgba(255, 0, 0, 0.058941991557261667);\"> ,</span><span title=\"0.053705966498781045\" style=\"background-color:rgba(255, 0, 0, 0.053705966498781045);\"> in</span><span title=\"0.20600982922556918\" style=\"background-color:rgba(255, 0, 0, 0.20600982922556918);\"> Kraków</span><span title=\"0.020328879784997103\" style=\"background-color:rgba(255, 0, 0, 0.020328879784997103);\"> .</span>"
            ],
            "text/plain": [
              "<IPython.core.display.HTML object>"
            ]
          },
          "metadata": {
            "tags": []
          }
        },
        {
          "output_type": "stream",
          "text": [
            "\n"
          ],
          "name": "stdout"
        },
        {
          "output_type": "display_data",
          "data": {
            "text/html": [
              "<span title=\"0.637457916898093\" style=\"background-color:rgba(255, 0, 0, 0.637457916898093);text-decoration: underline\"> Warsaw</span><span title=\"0.6238847771271553\" style=\"background-color:rgba(255, 0, 0, 0.6238847771271553);text-decoration: underline\"> University</span><span title=\"0.540438359176055\" style=\"background-color:rgba(255, 0, 0, 0.540438359176055);text-decoration: underline\"> of</span><span title=\"0.5680067385021829\" style=\"background-color:rgba(255, 0, 0, 0.5680067385021829);text-decoration: underline\"> Technology</span><span title=\"0.05766796875642693\" style=\"background-color:rgba(255, 0, 0, 0.05766796875642693);\"> is</span><span title=\"0.10158967087206136\" style=\"background-color:rgba(255, 0, 0, 0.10158967087206136);\"> the</span><span title=\"0.2253950827955948\" style=\"background-color:rgba(255, 0, 0, 0.2253950827955948);\"> second</span><span title=\"0.22552005130959155\" style=\"background-color:rgba(255, 0, 0, 0.22552005130959155);\"> academic</span><span title=\"0.22398021807604981\" style=\"background-color:rgba(255, 0, 0, 0.22398021807604981);\"> school</span><span title=\"0.18809289977958918\" style=\"background-color:rgba(255, 0, 0, 0.18809289977958918);\"> of</span><span title=\"0.22620107372133091\" style=\"background-color:rgba(255, 0, 0, 0.22620107372133091);\"> technology</span><span title=\"0.13145092476169554\" style=\"background-color:rgba(255, 0, 0, 0.13145092476169554);\"> in</span><span title=\"0.1555897313991939\" style=\"background-color:rgba(255, 0, 0, 0.1555897313991939);\"> the</span><span title=\"0.1948601992236394\" style=\"background-color:rgba(255, 0, 0, 0.1948601992236394);\"> country</span><span title=\"0.07242376738687935\" style=\"background-color:rgba(255, 0, 0, 0.07242376738687935);\"> ,</span><span title=\"0.06542494635851988\" style=\"background-color:rgba(255, 0, 0, 0.06542494635851988);\"> and</span><span title=\"0.10573528409420563\" style=\"background-color:rgba(255, 0, 0, 0.10573528409420563);\"> one</span><span title=\"0.05977255943795169\" style=\"background-color:rgba(255, 0, 0, 0.05977255943795169);\"> of</span><span title=\"0.07709785882569833\" style=\"background-color:rgba(255, 0, 0, 0.07709785882569833);\"> the</span><span title=\"0.09302458245168169\" style=\"background-color:rgba(255, 0, 0, 0.09302458245168169);\"> largest</span><span title=\"0.06381661558767857\" style=\"background-color:rgba(255, 0, 0, 0.06381661558767857);\"> in</span><span title=\"0.3761087951865191\" style=\"background-color:rgba(255, 0, 0, 0.3761087951865191);\"> East</span><span title=\"0.33134354728884463\" style=\"background-color:rgba(255, 0, 0, 0.33134354728884463);\"> -</span><span title=\"0.3756417327627727\" style=\"background-color:rgba(255, 0, 0, 0.3756417327627727);\"> Central</span><span title=\"0.3636958731961132\" style=\"background-color:rgba(255, 0, 0, 0.3636958731961132);\"> Europe</span><span title=\"0.04252872801198703\" style=\"background-color:rgba(255, 0, 0, 0.04252872801198703);\"> ,</span><span title=\"0.07979531657986266\" style=\"background-color:rgba(255, 0, 0, 0.07979531657986266);\"> employing</span><span title=\"0.5085412841376297\" style=\"background-color:rgba(255, 0, 0, 0.5085412841376297);text-decoration: underline\"> 2,000</span><span title=\"0.31272160158310486\" style=\"background-color:rgba(255, 0, 0, 0.31272160158310486);\"> professors</span><span title=\"0.060282178819603696\" style=\"background-color:rgba(255, 0, 0, 0.060282178819603696);\"> .</span>"
            ],
            "text/plain": [
              "<IPython.core.display.HTML object>"
            ]
          },
          "metadata": {
            "tags": []
          }
        },
        {
          "output_type": "stream",
          "text": [
            "\n"
          ],
          "name": "stdout"
        },
        {
          "output_type": "display_data",
          "data": {
            "text/html": [
              "<span title=\"0.030482667034987997\" style=\"background-color:rgba(255, 0, 0, 0.030482667034987997);\"> The</span><span title=\"0.02876773859119032\" style=\"background-color:rgba(255, 0, 0, 0.02876773859119032);\"> building</span><span title=\"0.01116074122750942\" style=\"background-color:rgba(255, 0, 0, 0.01116074122750942);\"> was</span><span title=\"0.019610933824578\" style=\"background-color:rgba(255, 0, 0, 0.019610933824578);\"> designed</span><span title=\"0.038731286618322466\" style=\"background-color:rgba(255, 0, 0, 0.038731286618322466);\"> by</span><span title=\"0.24004878905060603\" style=\"background-color:rgba(255, 0, 0, 0.24004878905060603);text-decoration: underline\"> architects</span><span title=\"0.35920065580272953\" style=\"background-color:rgba(255, 0, 0, 0.35920065580272953);\"> Marek</span><span title=\"0.3497050896020779\" style=\"background-color:rgba(255, 0, 0, 0.3497050896020779);\"> Budzyński</span><span title=\"0.19853847488293042\" style=\"background-color:rgba(255, 0, 0, 0.19853847488293042);\"> and</span><span title=\"0.3731730566290421\" style=\"background-color:rgba(255, 0, 0, 0.3731730566290421);\"> Zbigniew</span><span title=\"0.34943179133552377\" style=\"background-color:rgba(255, 0, 0, 0.34943179133552377);\"> Badowski</span><span title=\"0.17539693241478416\" style=\"background-color:rgba(255, 0, 0, 0.17539693241478416);\"> and</span><span title=\"0.15738794269732959\" style=\"background-color:rgba(255, 0, 0, 0.15738794269732959);\"> opened</span><span title=\"0.12766760414772022\" style=\"background-color:rgba(255, 0, 0, 0.12766760414772022);\"> on</span><span title=\"0.6545262266689776\" style=\"background-color:rgba(255, 0, 0, 0.6545262266689776);\"> 15</span><span title=\"0.5920857302643641\" style=\"background-color:rgba(255, 0, 0, 0.5920857302643641);\"> December</span><span title=\"0.5532116197030873\" style=\"background-color:rgba(255, 0, 0, 0.5532116197030873);\"> 1999</span><span title=\"0.0544070128373318\" style=\"background-color:rgba(255, 0, 0, 0.0544070128373318);\"> .</span>"
            ],
            "text/plain": [
              "<IPython.core.display.HTML object>"
            ]
          },
          "metadata": {
            "tags": []
          }
        },
        {
          "output_type": "stream",
          "text": [
            "\n"
          ],
          "name": "stdout"
        },
        {
          "output_type": "display_data",
          "data": {
            "text/html": [
              "<span title=\"0.1518334202041674\" style=\"background-color:rgba(255, 0, 0, 0.1518334202041674);\"> The</span><span title=\"0.26893527904576187\" style=\"background-color:rgba(255, 0, 0, 0.26893527904576187);\"> University</span><span title=\"0.24843950827792985\" style=\"background-color:rgba(255, 0, 0, 0.24843950827792985);\"> Library</span><span title=\"0.20064169945529275\" style=\"background-color:rgba(255, 0, 0, 0.20064169945529275);\"> garden</span><span title=\"0.07111587162097432\" style=\"background-color:rgba(255, 0, 0, 0.07111587162097432);\"> ,</span><span title=\"0.058521001962865624\" style=\"background-color:rgba(255, 0, 0, 0.058521001962865624);\"> designed</span><span title=\"0.07317343129891499\" style=\"background-color:rgba(255, 0, 0, 0.07317343129891499);\"> by</span><span title=\"0.6150053624962676\" style=\"background-color:rgba(255, 0, 0, 0.6150053624962676);text-decoration: underline\"> Irena</span><span title=\"0.5871106284342547\" style=\"background-color:rgba(255, 0, 0, 0.5871106284342547);text-decoration: underline\"> Bajerska</span><span title=\"0.0589252525961079\" style=\"background-color:rgba(255, 0, 0, 0.0589252525961079);\"> ,</span><span title=\"0.0318656522147635\" style=\"background-color:rgba(255, 0, 0, 0.0318656522147635);\"> was</span><span title=\"0.037240685317537145\" style=\"background-color:rgba(255, 0, 0, 0.037240685317537145);\"> opened</span><span title=\"0.04914183611238416\" style=\"background-color:rgba(255, 0, 0, 0.04914183611238416);\"> on</span><span title=\"0.6181315423408585\" style=\"background-color:rgba(255, 0, 0, 0.6181315423408585);\"> 12</span><span title=\"0.5526200440176058\" style=\"background-color:rgba(255, 0, 0, 0.5526200440176058);\"> June</span><span title=\"0.5025617997835174\" style=\"background-color:rgba(255, 0, 0, 0.5025617997835174);\"> 2002</span><span title=\"0.058631820774317285\" style=\"background-color:rgba(255, 0, 0, 0.058631820774317285);\"> .</span>"
            ],
            "text/plain": [
              "<IPython.core.display.HTML object>"
            ]
          },
          "metadata": {
            "tags": []
          }
        },
        {
          "output_type": "stream",
          "text": [
            "\n"
          ],
          "name": "stdout"
        },
        {
          "output_type": "display_data",
          "data": {
            "text/html": [
              "<span title=\"0.15763745017789454\" style=\"background-color:rgba(255, 0, 0, 0.15763745017789454);\"> One</span><span title=\"0.04996313783302625\" style=\"background-color:rgba(255, 0, 0, 0.04996313783302625);\"> of</span><span title=\"0.05945202447028278\" style=\"background-color:rgba(255, 0, 0, 0.05945202447028278);\"> the</span><span title=\"0.06457154310420309\" style=\"background-color:rgba(255, 0, 0, 0.06457154310420309);\"> most</span><span title=\"0.088899198868897\" style=\"background-color:rgba(255, 0, 0, 0.088899198868897);\"> famous</span><span title=\"0.0845926177680286\" style=\"background-color:rgba(255, 0, 0, 0.0845926177680286);\"> people</span><span title=\"0.039937410892307096\" style=\"background-color:rgba(255, 0, 0, 0.039937410892307096);\"> born</span><span title=\"0.03259930633606922\" style=\"background-color:rgba(255, 0, 0, 0.03259930633606922);\"> in</span><span title=\"0.14153694165585645\" style=\"background-color:rgba(255, 0, 0, 0.14153694165585645);\"> Warsaw</span><span title=\"0.01187117819146092\" style=\"background-color:rgba(255, 0, 0, 0.01187117819146092);\"> was</span><span title=\"0.8216311661764552\" style=\"background-color:rgba(255, 0, 0, 0.8216311661764552);text-decoration: underline\"> Maria</span><span title=\"0.8154380262286383\" style=\"background-color:rgba(255, 0, 0, 0.8154380262286383);text-decoration: underline\"> Skłodowska</span><span title=\"0.7265304279147506\" style=\"background-color:rgba(255, 0, 0, 0.7265304279147506);text-decoration: underline\"> -</span><span title=\"0.7026589945674135\" style=\"background-color:rgba(255, 0, 0, 0.7026589945674135);text-decoration: underline\"> Curie</span><span title=\"0.18107994646557432\" style=\"background-color:rgba(255, 0, 0, 0.18107994646557432);\"> ,</span><span title=\"0.14902368593637383\" style=\"background-color:rgba(255, 0, 0, 0.14902368593637383);\"> who</span><span title=\"0.1355083742800829\" style=\"background-color:rgba(255, 0, 0, 0.1355083742800829);\"> achieved</span><span title=\"0.20744955269049503\" style=\"background-color:rgba(255, 0, 0, 0.20744955269049503);\"> international</span><span title=\"0.19442278768635504\" style=\"background-color:rgba(255, 0, 0, 0.19442278768635504);\"> recognition</span><span title=\"0.12439775750887691\" style=\"background-color:rgba(255, 0, 0, 0.12439775750887691);\"> for</span><span title=\"0.13081326812100455\" style=\"background-color:rgba(255, 0, 0, 0.13081326812100455);\"> her</span><span title=\"0.13563608808358724\" style=\"background-color:rgba(255, 0, 0, 0.13563608808358724);\"> research</span><span title=\"0.08488832315343593\" style=\"background-color:rgba(255, 0, 0, 0.08488832315343593);\"> on</span><span title=\"0.11503534925831674\" style=\"background-color:rgba(255, 0, 0, 0.11503534925831674);\"> radioactivity</span><span title=\"0.05508881461138481\" style=\"background-color:rgba(255, 0, 0, 0.05508881461138481);\"> and</span><span title=\"0.04086077197170314\" style=\"background-color:rgba(255, 0, 0, 0.04086077197170314);\"> was</span><span title=\"0.051003766294385355\" style=\"background-color:rgba(255, 0, 0, 0.051003766294385355);\"> the</span><span title=\"0.0955124004532242\" style=\"background-color:rgba(255, 0, 0, 0.0955124004532242);\"> first</span><span title=\"0.1094053708553252\" style=\"background-color:rgba(255, 0, 0, 0.1094053708553252);\"> female</span><span title=\"0.11216771876665589\" style=\"background-color:rgba(255, 0, 0, 0.11216771876665589);\"> recipient</span><span title=\"0.09469410384992062\" style=\"background-color:rgba(255, 0, 0, 0.09469410384992062);\"> of</span><span title=\"0.18668159300189524\" style=\"background-color:rgba(255, 0, 0, 0.18668159300189524);\"> the</span><span title=\"0.3558051660219351\" style=\"background-color:rgba(255, 0, 0, 0.3558051660219351);text-decoration: underline\"> Nobel</span><span title=\"0.34301864156344064\" style=\"background-color:rgba(255, 0, 0, 0.34301864156344064);text-decoration: underline\"> Prize</span><span title=\"0.03719985374253338\" style=\"background-color:rgba(255, 0, 0, 0.03719985374253338);\"> .</span>"
            ],
            "text/plain": [
              "<IPython.core.display.HTML object>"
            ]
          },
          "metadata": {
            "tags": []
          }
        },
        {
          "output_type": "stream",
          "text": [
            "\n"
          ],
          "name": "stdout"
        },
        {
          "output_type": "display_data",
          "data": {
            "text/html": [
              "<span title=\"0.1317259341684419\" style=\"background-color:rgba(255, 0, 0, 0.1317259341684419);text-decoration: underline\"> Famous</span><span title=\"0.10728751457363564\" style=\"background-color:rgba(255, 0, 0, 0.10728751457363564);text-decoration: underline\"> musicians</span><span title=\"0.038787264930528836\" style=\"background-color:rgba(255, 0, 0, 0.038787264930528836);\"> include</span><span title=\"0.5807913688242919\" style=\"background-color:rgba(255, 0, 0, 0.5807913688242919);\"> Władysław</span><span title=\"0.5495547521282159\" style=\"background-color:rgba(255, 0, 0, 0.5495547521282159);\"> Szpilman</span><span title=\"0.38236653898288414\" style=\"background-color:rgba(255, 0, 0, 0.38236653898288414);\"> and</span><span title=\"0.5834267935602251\" style=\"background-color:rgba(255, 0, 0, 0.5834267935602251);\"> Frédéric</span><span title=\"0.5682719381407495\" style=\"background-color:rgba(255, 0, 0, 0.5682719381407495);\"> Chopin</span><span title=\"0.06669321311057362\" style=\"background-color:rgba(255, 0, 0, 0.06669321311057362);\"> .</span>"
            ],
            "text/plain": [
              "<IPython.core.display.HTML object>"
            ]
          },
          "metadata": {
            "tags": []
          }
        },
        {
          "output_type": "stream",
          "text": [
            "\n"
          ],
          "name": "stdout"
        },
        {
          "output_type": "display_data",
          "data": {
            "text/html": [
              "<span title=\"0.1620975871012176\" style=\"background-color:rgba(255, 0, 0, 0.1620975871012176);\"> Warsaw</span><span title=\"0.012942357473863748\" style=\"background-color:rgba(255, 0, 0, 0.012942357473863748);\"> was</span><span title=\"0.03331538226681324\" style=\"background-color:rgba(255, 0, 0, 0.03331538226681324);\"> the</span><span title=\"0.0763018968048923\" style=\"background-color:rgba(255, 0, 0, 0.0763018968048923);\"> beloved</span><span title=\"0.06228782794787436\" style=\"background-color:rgba(255, 0, 0, 0.06228782794787436);\"> city</span><span title=\"0.04219715923108124\" style=\"background-color:rgba(255, 0, 0, 0.04219715923108124);\"> of</span><span title=\"0.6428004893531936\" style=\"background-color:rgba(255, 0, 0, 0.6428004893531936);text-decoration: underline\"> Isaac</span><span title=\"0.6187389969605733\" style=\"background-color:rgba(255, 0, 0, 0.6187389969605733);text-decoration: underline\"> Bashevis</span><span title=\"0.5735755440433871\" style=\"background-color:rgba(255, 0, 0, 0.5735755440433871);text-decoration: underline\"> Singer</span><span title=\"0.0741041456877189\" style=\"background-color:rgba(255, 0, 0, 0.0741041456877189);\"> ,</span><span title=\"0.04725993760981024\" style=\"background-color:rgba(255, 0, 0, 0.04725993760981024);\"> which</span><span title=\"0.04488171027295694\" style=\"background-color:rgba(255, 0, 0, 0.04488171027295694);\"> he</span><span title=\"0.044070650315079354\" style=\"background-color:rgba(255, 0, 0, 0.044070650315079354);\"> described</span><span title=\"0.041220016320093\" style=\"background-color:rgba(255, 0, 0, 0.041220016320093);\"> in</span><span title=\"0.07103844684502127\" style=\"background-color:rgba(255, 0, 0, 0.07103844684502127);\"> many</span><span title=\"0.06145869462802658\" style=\"background-color:rgba(255, 0, 0, 0.06145869462802658);\"> of</span><span title=\"0.08855748162230972\" style=\"background-color:rgba(255, 0, 0, 0.08855748162230972);\"> his</span><span title=\"0.10770474673090515\" style=\"background-color:rgba(255, 0, 0, 0.10770474673090515);\"> novels</span><span title=\"0.06959061848795578\" style=\"background-color:rgba(255, 0, 0, 0.06959061848795578);\"> :</span>"
            ],
            "text/plain": [
              "<IPython.core.display.HTML object>"
            ]
          },
          "metadata": {
            "tags": []
          }
        },
        {
          "output_type": "stream",
          "text": [
            "\n"
          ],
          "name": "stdout"
        },
        {
          "output_type": "display_data",
          "data": {
            "text/html": [
              "<span title=\"0.07646417893525476\" style=\"background-color:rgba(255, 0, 0, 0.07646417893525476);\"> Orders</span><span title=\"0.04364896500432249\" style=\"background-color:rgba(255, 0, 0, 0.04364896500432249);\"> for</span><span title=\"0.060311196167221776\" style=\"background-color:rgba(255, 0, 0, 0.060311196167221776);\"> the</span><span title=\"0.08188240081633001\" style=\"background-color:rgba(255, 0, 0, 0.08188240081633001);text-decoration: underline\"> deportation</span><span title=\"0.013874376377669912\" style=\"background-color:rgba(255, 0, 0, 0.013874376377669912);\"> were</span><span title=\"0.02409930282833031\" style=\"background-color:rgba(255, 0, 0, 0.02409930282833031);\"> given</span><span title=\"0.06033339826718946\" style=\"background-color:rgba(255, 0, 0, 0.06033339826718946);\"> by</span><span title=\"0.7168621566873639\" style=\"background-color:rgba(255, 0, 0, 0.7168621566873639);\"> William</span><span title=\"0.6903963188327484\" style=\"background-color:rgba(255, 0, 0, 0.6903963188327484);\"> Shirley</span><span title=\"0.3499990793833893\" style=\"background-color:rgba(255, 0, 0, 0.3499990793833893);\"> ,</span><span title=\"0.4659710902494968\" style=\"background-color:rgba(255, 0, 0, 0.4659710902494968);\"> Commander</span><span title=\"0.36758442488014753\" style=\"background-color:rgba(255, 0, 0, 0.36758442488014753);\"> -</span><span title=\"0.34753297526075194\" style=\"background-color:rgba(255, 0, 0, 0.34753297526075194);\"> in</span><span title=\"0.360908778366235\" style=\"background-color:rgba(255, 0, 0, 0.360908778366235);\"> -</span><span title=\"0.39705656328534195\" style=\"background-color:rgba(255, 0, 0, 0.39705656328534195);\"> Chief</span><span title=\"0.17407762051682812\" style=\"background-color:rgba(255, 0, 0, 0.17407762051682812);\"> ,</span><span title=\"0.3484106242896901\" style=\"background-color:rgba(255, 0, 0, 0.3484106242896901);\"> North</span><span title=\"0.3435282161257435\" style=\"background-color:rgba(255, 0, 0, 0.3435282161257435);\"> America</span><span title=\"0.10604559114499854\" style=\"background-color:rgba(255, 0, 0, 0.10604559114499854);\"> ,</span><span title=\"0.0944285718472049\" style=\"background-color:rgba(255, 0, 0, 0.0944285718472049);\"> without</span><span title=\"0.1567420404848849\" style=\"background-color:rgba(255, 0, 0, 0.1567420404848849);\"> direction</span><span title=\"0.10634922064997163\" style=\"background-color:rgba(255, 0, 0, 0.10634922064997163);\"> from</span><span title=\"0.37028559573174735\" style=\"background-color:rgba(255, 0, 0, 0.37028559573174735);\"> Great</span><span title=\"0.362523711680282\" style=\"background-color:rgba(255, 0, 0, 0.362523711680282);\"> Britain</span><span title=\"0.03854833596993968\" style=\"background-color:rgba(255, 0, 0, 0.03854833596993968);\"> .</span>"
            ],
            "text/plain": [
              "<IPython.core.display.HTML object>"
            ]
          },
          "metadata": {
            "tags": []
          }
        },
        {
          "output_type": "stream",
          "text": [
            "\n"
          ],
          "name": "stdout"
        },
        {
          "output_type": "display_data",
          "data": {
            "text/html": [
              "<span title=\"0.03861950998022418\" style=\"background-color:rgba(255, 0, 0, 0.03861950998022418);\"> On</span><span title=\"0.34795279134990126\" style=\"background-color:rgba(255, 0, 0, 0.34795279134990126);\"> March</span><span title=\"0.3444638299068197\" style=\"background-color:rgba(255, 0, 0, 0.3444638299068197);\"> 17</span><span title=\"0.19973169703829347\" style=\"background-color:rgba(255, 0, 0, 0.19973169703829347);\"> ,</span><span title=\"0.33912341041973204\" style=\"background-color:rgba(255, 0, 0, 0.33912341041973204);\"> 1752</span><span title=\"0.04060181697700741\" style=\"background-color:rgba(255, 0, 0, 0.04060181697700741);\"> ,</span><span title=\"0.11583254090598853\" style=\"background-color:rgba(255, 0, 0, 0.11583254090598853);\"> the</span><span title=\"0.3729593249693762\" style=\"background-color:rgba(255, 0, 0, 0.3729593249693762);\"> Governor</span><span title=\"0.30132745136616224\" style=\"background-color:rgba(255, 0, 0, 0.30132745136616224);\"> -</span><span title=\"0.3319639639407146\" style=\"background-color:rgba(255, 0, 0, 0.3319639639407146);\"> General</span><span title=\"0.264844002793108\" style=\"background-color:rgba(255, 0, 0, 0.264844002793108);\"> of</span><span title=\"0.39228683541059434\" style=\"background-color:rgba(255, 0, 0, 0.39228683541059434);\"> New</span><span title=\"0.365090164971187\" style=\"background-color:rgba(255, 0, 0, 0.365090164971187);\"> France</span><span title=\"0.13726527990246762\" style=\"background-color:rgba(255, 0, 0, 0.13726527990246762);\"> ,</span><span title=\"0.23487161818799016\" style=\"background-color:rgba(255, 0, 0, 0.23487161818799016);text-decoration: underline\"> Marquis</span><span title=\"0.25435173429961344\" style=\"background-color:rgba(255, 0, 0, 0.25435173429961344);text-decoration: underline\"> de</span><span title=\"0.28663216124376645\" style=\"background-color:rgba(255, 0, 0, 0.28663216124376645);text-decoration: underline\"> la</span><span title=\"0.2882605665297426\" style=\"background-color:rgba(255, 0, 0, 0.2882605665297426);text-decoration: underline\"> Jonquière</span><span title=\"0.037049610372236905\" style=\"background-color:rgba(255, 0, 0, 0.037049610372236905);\"> ,</span><span title=\"0.02753751949199701\" style=\"background-color:rgba(255, 0, 0, 0.02753751949199701);\"> died</span><span title=\"0.025598130184804828\" style=\"background-color:rgba(255, 0, 0, 0.025598130184804828);\"> and</span><span title=\"0.0199615918413348\" style=\"background-color:rgba(255, 0, 0, 0.0199615918413348);\"> was</span><span title=\"0.03193396385292718\" style=\"background-color:rgba(255, 0, 0, 0.03193396385292718);\"> temporarily</span><span title=\"0.036408134345040526\" style=\"background-color:rgba(255, 0, 0, 0.036408134345040526);\"> replaced</span><span title=\"0.05127489110625674\" style=\"background-color:rgba(255, 0, 0, 0.05127489110625674);\"> by</span><span title=\"0.6246651854960702\" style=\"background-color:rgba(255, 0, 0, 0.6246651854960702);\"> Charles</span><span title=\"0.5935375857075681\" style=\"background-color:rgba(255, 0, 0, 0.5935375857075681);\"> le</span><span title=\"0.5804719671005274\" style=\"background-color:rgba(255, 0, 0, 0.5804719671005274);\"> Moyne</span><span title=\"0.5430071890225397\" style=\"background-color:rgba(255, 0, 0, 0.5430071890225397);\"> de</span><span title=\"0.5443396466604983\" style=\"background-color:rgba(255, 0, 0, 0.5443396466604983);\"> Longueuil</span><span title=\"0.05439330411592891\" style=\"background-color:rgba(255, 0, 0, 0.05439330411592891);\"> .</span>"
            ],
            "text/plain": [
              "<IPython.core.display.HTML object>"
            ]
          },
          "metadata": {
            "tags": []
          }
        },
        {
          "output_type": "stream",
          "text": [
            "\n"
          ],
          "name": "stdout"
        },
        {
          "output_type": "display_data",
          "data": {
            "text/html": [
              "<span title=\"0.5895029778432789\" style=\"background-color:rgba(255, 0, 0, 0.5895029778432789);text-decoration: underline\"> Jacques</span><span title=\"0.5934076742397475\" style=\"background-color:rgba(255, 0, 0, 0.5934076742397475);text-decoration: underline\"> Legardeur</span><span title=\"0.5759892337421108\" style=\"background-color:rgba(255, 0, 0, 0.5759892337421108);text-decoration: underline\"> de</span><span title=\"0.571223949922348\" style=\"background-color:rgba(255, 0, 0, 0.571223949922348);text-decoration: underline\"> Saint</span><span title=\"0.5117552382745837\" style=\"background-color:rgba(255, 0, 0, 0.5117552382745837);text-decoration: underline\"> -</span><span title=\"0.5172105151605451\" style=\"background-color:rgba(255, 0, 0, 0.5172105151605451);text-decoration: underline\"> Pierre</span><span title=\"0.09232114767642872\" style=\"background-color:rgba(255, 0, 0, 0.09232114767642872);\"> ,</span><span title=\"0.06709072014735719\" style=\"background-color:rgba(255, 0, 0, 0.06709072014735719);\"> who</span><span title=\"0.0534579763211745\" style=\"background-color:rgba(255, 0, 0, 0.0534579763211745);\"> succeeded</span><span title=\"0.17015587730748324\" style=\"background-color:rgba(255, 0, 0, 0.17015587730748324);\"> Marin</span><span title=\"0.0609510087624558\" style=\"background-color:rgba(255, 0, 0, 0.0609510087624558);\"> as</span><span title=\"0.13583741321199927\" style=\"background-color:rgba(255, 0, 0, 0.13583741321199927);\"> commander</span><span title=\"0.07331534092613695\" style=\"background-color:rgba(255, 0, 0, 0.07331534092613695);\"> of</span><span title=\"0.08627722530782816\" style=\"background-color:rgba(255, 0, 0, 0.08627722530782816);\"> the</span><span title=\"0.15656923247433002\" style=\"background-color:rgba(255, 0, 0, 0.15656923247433002);\"> French</span><span title=\"0.1259482589106349\" style=\"background-color:rgba(255, 0, 0, 0.1259482589106349);\"> forces</span><span title=\"0.030810674646227814\" style=\"background-color:rgba(255, 0, 0, 0.030810674646227814);\"> after</span><span title=\"0.057801102875194396\" style=\"background-color:rgba(255, 0, 0, 0.057801102875194396);\"> the</span><span title=\"0.06675155243519666\" style=\"background-color:rgba(255, 0, 0, 0.06675155243519666);\"> latter</span><span title=\"0.05743132330681504\" style=\"background-color:rgba(255, 0, 0, 0.05743132330681504);\"> died</span><span title=\"0.06472769799943204\" style=\"background-color:rgba(255, 0, 0, 0.06472769799943204);\"> on</span><span title=\"0.38053157832478546\" style=\"background-color:rgba(255, 0, 0, 0.38053157832478546);\"> October</span><span title=\"0.35964762526296057\" style=\"background-color:rgba(255, 0, 0, 0.35964762526296057);\"> 29</span><span title=\"0.031879697189862624\" style=\"background-color:rgba(255, 0, 0, 0.031879697189862624);\"> ,</span><span title=\"0.02015865140188023\" style=\"background-color:rgba(255, 0, 0, 0.02015865140188023);\"> invited</span><span title=\"0.11220209495169708\" style=\"background-color:rgba(255, 0, 0, 0.11220209495169708);\"> Washington</span><span title=\"0.04902588894026265\" style=\"background-color:rgba(255, 0, 0, 0.04902588894026265);\"> to</span><span title=\"0.07028910306940517\" style=\"background-color:rgba(255, 0, 0, 0.07028910306940517);\"> dine</span><span title=\"0.061275066602961815\" style=\"background-color:rgba(255, 0, 0, 0.061275066602961815);\"> with</span><span title=\"0.07554621595290731\" style=\"background-color:rgba(255, 0, 0, 0.07554621595290731);\"> him</span><span title=\"0.024843581712879922\" style=\"background-color:rgba(255, 0, 0, 0.024843581712879922);\"> .</span>"
            ],
            "text/plain": [
              "<IPython.core.display.HTML object>"
            ]
          },
          "metadata": {
            "tags": []
          }
        },
        {
          "output_type": "stream",
          "text": [
            "\n"
          ],
          "name": "stdout"
        },
        {
          "output_type": "display_data",
          "data": {
            "text/html": [
              "<span title=\"0.03359535959481666\" style=\"background-color:rgba(255, 0, 0, 0.03359535959481666);\"> He</span><span title=\"0.011475992388106255\" style=\"background-color:rgba(255, 0, 0, 0.011475992388106255);\"> was</span><span title=\"0.013225326345863233\" style=\"background-color:rgba(255, 0, 0, 0.013225326345863233);\"> then</span><span title=\"0.018224941340815946\" style=\"background-color:rgba(255, 0, 0, 0.018224941340815946);\"> ordered</span><span title=\"0.050738365840805086\" style=\"background-color:rgba(255, 0, 0, 0.050738365840805086);\"> by</span><span title=\"0.6390346662045844\" style=\"background-color:rgba(255, 0, 0, 0.6390346662045844);text-decoration: underline\"> William</span><span title=\"0.5981419090170709\" style=\"background-color:rgba(255, 0, 0, 0.5981419090170709);text-decoration: underline\"> Pitt</span><span title=\"0.16057356419229393\" style=\"background-color:rgba(255, 0, 0, 0.16057356419229393);\"> ,</span><span title=\"0.16123503327804156\" style=\"background-color:rgba(255, 0, 0, 0.16123503327804156);\"> the</span><span title=\"0.24148190264363195\" style=\"background-color:rgba(255, 0, 0, 0.24148190264363195);\"> Secretary</span><span title=\"0.1555920078329074\" style=\"background-color:rgba(255, 0, 0, 0.1555920078329074);\"> of</span><span title=\"0.27016492565670375\" style=\"background-color:rgba(255, 0, 0, 0.27016492565670375);\"> State</span><span title=\"0.1591498502540682\" style=\"background-color:rgba(255, 0, 0, 0.1591498502540682);\"> responsible</span><span title=\"0.13526587907473392\" style=\"background-color:rgba(255, 0, 0, 0.13526587907473392);\"> for</span><span title=\"0.1541750900828066\" style=\"background-color:rgba(255, 0, 0, 0.1541750900828066);\"> the</span><span title=\"0.18074064926348987\" style=\"background-color:rgba(255, 0, 0, 0.18074064926348987);\"> colonies</span><span title=\"0.03802231518700102\" style=\"background-color:rgba(255, 0, 0, 0.03802231518700102);\"> ,</span><span title=\"0.03103968231150641\" style=\"background-color:rgba(255, 0, 0, 0.03103968231150641);\"> to</span><span title=\"0.043855657321810196\" style=\"background-color:rgba(255, 0, 0, 0.043855657321810196);\"> attack</span><span title=\"0.10207720893103014\" style=\"background-color:rgba(255, 0, 0, 0.10207720893103014);\"> Louisbourg</span><span title=\"0.045470411315614835\" style=\"background-color:rgba(255, 0, 0, 0.045470411315614835);\"> first</span><span title=\"0.023448186990711033\" style=\"background-color:rgba(255, 0, 0, 0.023448186990711033);\"> .</span>"
            ],
            "text/plain": [
              "<IPython.core.display.HTML object>"
            ]
          },
          "metadata": {
            "tags": []
          }
        },
        {
          "output_type": "stream",
          "text": [
            "\n"
          ],
          "name": "stdout"
        },
        {
          "output_type": "display_data",
          "data": {
            "text/html": [
              "<span title=\"0.15746751039417167\" style=\"background-color:rgba(255, 0, 0, 0.15746751039417167);text-decoration: underline\"> Abercrombie</span><span title=\"0.025301586108821224\" style=\"background-color:rgba(255, 0, 0, 0.025301586108821224);text-decoration: underline\"> was</span><span title=\"0.03750108871338992\" style=\"background-color:rgba(255, 0, 0, 0.03750108871338992);text-decoration: underline\"> recalled</span><span title=\"0.036046973634560206\" style=\"background-color:rgba(255, 0, 0, 0.036046973634560206);text-decoration: underline\"> and</span><span title=\"0.04067996559928627\" style=\"background-color:rgba(255, 0, 0, 0.04067996559928627);text-decoration: underline\"> replaced</span><span title=\"0.05758230188577525\" style=\"background-color:rgba(255, 0, 0, 0.05758230188577525);text-decoration: underline\"> by</span><span title=\"0.6831168606002165\" style=\"background-color:rgba(255, 0, 0, 0.6831168606002165);text-decoration: underline\"> Jeffery</span><span title=\"0.6423630841800049\" style=\"background-color:rgba(255, 0, 0, 0.6423630841800049);text-decoration: underline\"> Amherst</span><span title=\"0.24360765745484442\" style=\"background-color:rgba(255, 0, 0, 0.24360765745484442);text-decoration: underline\"> ,</span><span title=\"0.25741078205075146\" style=\"background-color:rgba(255, 0, 0, 0.25741078205075146);text-decoration: underline\"> victor</span><span title=\"0.2032142079576601\" style=\"background-color:rgba(255, 0, 0, 0.2032142079576601);text-decoration: underline\"> at</span><span title=\"0.29414798519702146\" style=\"background-color:rgba(255, 0, 0, 0.29414798519702146);text-decoration: underline\"> Louisbourg</span><span title=\"0.04292685608961634\" style=\"background-color:rgba(255, 0, 0, 0.04292685608961634);text-decoration: underline\"> .</span>"
            ],
            "text/plain": [
              "<IPython.core.display.HTML object>"
            ]
          },
          "metadata": {
            "tags": []
          }
        },
        {
          "output_type": "stream",
          "text": [
            "\n"
          ],
          "name": "stdout"
        },
        {
          "output_type": "display_data",
          "data": {
            "text/html": [
              "<span title=\"0.09441375261660995\" style=\"background-color:rgba(255, 0, 0, 0.09441375261660995);\"> The</span><span title=\"0.1174696148005304\" style=\"background-color:rgba(255, 0, 0, 0.1174696148005304);\"> shortcomings</span><span title=\"0.09275584643443419\" style=\"background-color:rgba(255, 0, 0, 0.09275584643443419);\"> of</span><span title=\"0.18134362965584822\" style=\"background-color:rgba(255, 0, 0, 0.18134362965584822);\"> Aristotelian</span><span title=\"0.1590895536464737\" style=\"background-color:rgba(255, 0, 0, 0.1590895536464737);\"> physics</span><span title=\"0.038681258335639186\" style=\"background-color:rgba(255, 0, 0, 0.038681258335639186);\"> would</span><span title=\"0.04466404401182406\" style=\"background-color:rgba(255, 0, 0, 0.04466404401182406);\"> not</span><span title=\"0.040437513216372636\" style=\"background-color:rgba(255, 0, 0, 0.040437513216372636);\"> be</span><span title=\"0.04956070676947192\" style=\"background-color:rgba(255, 0, 0, 0.04956070676947192);\"> fully</span><span title=\"0.04743824967190509\" style=\"background-color:rgba(255, 0, 0, 0.04743824967190509);\"> corrected</span><span title=\"0.04578170622472739\" style=\"background-color:rgba(255, 0, 0, 0.04578170622472739);\"> until</span><span title=\"0.07626162221037013\" style=\"background-color:rgba(255, 0, 0, 0.07626162221037013);text-decoration: underline\"> the</span><span title=\"0.2833159353410134\" style=\"background-color:rgba(255, 0, 0, 0.2833159353410134);text-decoration: underline\"> 17th</span><span title=\"0.27623253318129076\" style=\"background-color:rgba(255, 0, 0, 0.27623253318129076);text-decoration: underline\"> century</span><span title=\"0.21890279634538057\" style=\"background-color:rgba(255, 0, 0, 0.21890279634538057);\"> work</span><span title=\"0.14064885585363673\" style=\"background-color:rgba(255, 0, 0, 0.14064885585363673);\"> of</span><span title=\"0.6928283645764722\" style=\"background-color:rgba(255, 0, 0, 0.6928283645764722);text-decoration: underline\"> Galileo</span><span title=\"0.659071186813846\" style=\"background-color:rgba(255, 0, 0, 0.659071186813846);text-decoration: underline\"> Galilei</span><span title=\"0.0997221907342165\" style=\"background-color:rgba(255, 0, 0, 0.0997221907342165);text-decoration: underline\"> ,</span><span title=\"0.07269383348875225\" style=\"background-color:rgba(255, 0, 0, 0.07269383348875225);\"> who</span><span title=\"0.04726112548759478\" style=\"background-color:rgba(255, 0, 0, 0.04726112548759478);\"> was</span><span title=\"0.04789681564193492\" style=\"background-color:rgba(255, 0, 0, 0.04789681564193492);\"> influenced</span><span title=\"0.04651339486914664\" style=\"background-color:rgba(255, 0, 0, 0.04651339486914664);\"> by</span><span title=\"0.07462637652504898\" style=\"background-color:rgba(255, 0, 0, 0.07462637652504898);\"> the</span><span title=\"0.17279172373711182\" style=\"background-color:rgba(255, 0, 0, 0.17279172373711182);\"> late</span><span title=\"0.19837379858454066\" style=\"background-color:rgba(255, 0, 0, 0.19837379858454066);\"> Medieval</span><span title=\"0.16221955020368917\" style=\"background-color:rgba(255, 0, 0, 0.16221955020368917);\"> idea</span><span title=\"0.0969875471175212\" style=\"background-color:rgba(255, 0, 0, 0.0969875471175212);\"> that</span><span title=\"0.1130304009703409\" style=\"background-color:rgba(255, 0, 0, 0.1130304009703409);\"> objects</span><span title=\"0.07309859313375551\" style=\"background-color:rgba(255, 0, 0, 0.07309859313375551);\"> in</span><span title=\"0.11855578665669687\" style=\"background-color:rgba(255, 0, 0, 0.11855578665669687);\"> forced</span><span title=\"0.14145210269648104\" style=\"background-color:rgba(255, 0, 0, 0.14145210269648104);\"> motion</span><span title=\"0.10003470014791147\" style=\"background-color:rgba(255, 0, 0, 0.10003470014791147);\"> carried</span><span title=\"0.14331095467237026\" style=\"background-color:rgba(255, 0, 0, 0.14331095467237026);text-decoration: underline\"> an</span><span title=\"0.21083632257186316\" style=\"background-color:rgba(255, 0, 0, 0.21083632257186316);text-decoration: underline\"> innate</span><span title=\"0.21375440360997813\" style=\"background-color:rgba(255, 0, 0, 0.21375440360997813);text-decoration: underline\"> force</span><span title=\"0.18801458891098108\" style=\"background-color:rgba(255, 0, 0, 0.18801458891098108);text-decoration: underline\"> of</span><span title=\"0.22263721865986677\" style=\"background-color:rgba(255, 0, 0, 0.22263721865986677);text-decoration: underline\"> impetus</span><span title=\"0.03683271382533451\" style=\"background-color:rgba(255, 0, 0, 0.03683271382533451);\"> .</span>"
            ],
            "text/plain": [
              "<IPython.core.display.HTML object>"
            ]
          },
          "metadata": {
            "tags": []
          }
        },
        {
          "output_type": "stream",
          "text": [
            "\n"
          ],
          "name": "stdout"
        },
        {
          "output_type": "display_data",
          "data": {
            "text/html": [
              "<span title=\"0.032921644404749234\" style=\"background-color:rgba(255, 0, 0, 0.032921644404749234);text-decoration: underline\"> The</span><span title=\"0.05743508928689355\" style=\"background-color:rgba(255, 0, 0, 0.05743508928689355);text-decoration: underline\"> stress</span><span title=\"0.04613014179530818\" style=\"background-color:rgba(255, 0, 0, 0.04613014179530818);text-decoration: underline\"> tensor</span><span title=\"0.02569181643918973\" style=\"background-color:rgba(255, 0, 0, 0.02569181643918973);\"> accounts</span><span title=\"0.02458978092926973\" style=\"background-color:rgba(255, 0, 0, 0.02458978092926973);\"> for</span><span title=\"0.11265634521964644\" style=\"background-color:rgba(255, 0, 0, 0.11265634521964644);\"> forces</span><span title=\"0.037588759049273446\" style=\"background-color:rgba(255, 0, 0, 0.037588759049273446);\"> that</span><span title=\"0.04731021875869343\" style=\"background-color:rgba(255, 0, 0, 0.04731021875869343);\"> cause</span><span title=\"0.10943432731969041\" style=\"background-color:rgba(255, 0, 0, 0.10943432731969041);\"> all</span><span title=\"0.1520481918199587\" style=\"background-color:rgba(255, 0, 0, 0.1520481918199587);\"> strains</span><span title=\"0.06124306233632097\" style=\"background-color:rgba(255, 0, 0, 0.06124306233632097);\"> (</span><span title=\"0.09185417875906732\" style=\"background-color:rgba(255, 0, 0, 0.09185417875906732);text-decoration: underline\"> deformations</span><span title=\"0.03592868877677906\" style=\"background-color:rgba(255, 0, 0, 0.03592868877677906);\"> )</span><span title=\"0.04076112926953286\" style=\"background-color:rgba(255, 0, 0, 0.04076112926953286);\"> including</span><span title=\"0.06828170607791821\" style=\"background-color:rgba(255, 0, 0, 0.06828170607791821);\"> also</span><span title=\"0.24016002507409717\" style=\"background-color:rgba(255, 0, 0, 0.24016002507409717);\"> tensile</span><span title=\"0.27469701594998797\" style=\"background-color:rgba(255, 0, 0, 0.27469701594998797);\"> stresses</span><span title=\"0.24997954217809645\" style=\"background-color:rgba(255, 0, 0, 0.24997954217809645);\"> and</span><span title=\"0.3467010322286654\" style=\"background-color:rgba(255, 0, 0, 0.3467010322286654);\"> compressions.:133–134:38</span><span title=\"0.2653742154599423\" style=\"background-color:rgba(255, 0, 0, 0.2653742154599423);\"> -</span><span title=\"0.41065148922507216\" style=\"background-color:rgba(255, 0, 0, 0.41065148922507216);\"> 1–38</span><span title=\"0.3204537536789413\" style=\"background-color:rgba(255, 0, 0, 0.3204537536789413);\"> -</span><span title=\"0.6676705502108674\" style=\"background-color:rgba(255, 0, 0, 0.6676705502108674);\"> 11</span>"
            ],
            "text/plain": [
              "<IPython.core.display.HTML object>"
            ]
          },
          "metadata": {
            "tags": []
          }
        }
      ]
    },
    {
      "cell_type": "code",
      "metadata": {
        "colab": {
          "base_uri": "https://localhost:8080/",
          "height": 319
        },
        "id": "jUsqpW98ylYp",
        "outputId": "dab8a3f9-7ef3-4801-f099-b07bd23f014a"
      },
      "source": [
        "# Print one example output\n",
        "paragraph = nlp(\"A Japan-exclusive manga series based on Twilight Princess, penned and illustrated by Akira Himekawa, was first released on February 8, 2016. The series is available solely via publisher Shogakukan's MangaOne mobile application. While the manga adaptation began almost ten years after the initial release of the game on which it is based, it launched only a month before the release of the high-definition remake.\")\n",
        "y_true = ['O', 'I', 'O', 'O', 'O', 'O', 'O', 'O', 'O', 'O', 'O', 'O', 'O', 'O', 'O', 'I', 'I', 'O', 'O', 'O', 'O', 'O', 'I', 'I', 'I', 'I', 'O', 'O', 'O', 'O', 'O', 'O', 'O', 'O', 'I', 'O', 'O', 'I', 'O', 'O', 'O', 'O', 'O', 'O', 'O', 'O', 'O', 'O', 'O', 'O', 'O', 'O', 'O', 'O', 'O', 'O', 'O', 'O', 'O', 'O', 'O', 'O', 'O', 'O', 'O', 'O', 'O', 'O', 'O', 'O', 'O', 'O', 'O', 'O', 'O', 'O']\n",
        "\n",
        "tokens =[token.text for token in paragraph]\n",
        "y_pred = model.predict_marginals_single(text2features(paragraph, pos_features=POS_FEATURES, ent_type_features=ENT_TYPE_FEATURES, lemma_features=LEMMA_FEATURES, is_features=IS_FEATURES, position_features=POSITION_FEATURES, bias=BIAS, begin=BEGIN, end=END))\n",
        "print_annotated_text(tokens, y_pred, y_trues=y_true)"
      ],
      "execution_count": 15,
      "outputs": [
        {
          "output_type": "error",
          "ename": "NameError",
          "evalue": "ignored",
          "traceback": [
            "\u001b[0;31m---------------------------------------------------------------------------\u001b[0m",
            "\u001b[0;31mNameError\u001b[0m                                 Traceback (most recent call last)",
            "\u001b[0;32m<ipython-input-15-6279ec041d82>\u001b[0m in \u001b[0;36m<module>\u001b[0;34m()\u001b[0m\n\u001b[1;32m      1\u001b[0m \u001b[0;31m# Print one example output\u001b[0m\u001b[0;34m\u001b[0m\u001b[0;34m\u001b[0m\u001b[0;34m\u001b[0m\u001b[0m\n\u001b[0;32m----> 2\u001b[0;31m \u001b[0mparagraph\u001b[0m \u001b[0;34m=\u001b[0m \u001b[0mnlp\u001b[0m\u001b[0;34m(\u001b[0m\u001b[0;34m\"A Japan-exclusive manga series based on Twilight Princess, penned and illustrated by Akira Himekawa, was first released on February 8, 2016. The series is available solely via publisher Shogakukan's MangaOne mobile application. While the manga adaptation began almost ten years after the initial release of the game on which it is based, it launched only a month before the release of the high-definition remake.\"\u001b[0m\u001b[0;34m)\u001b[0m\u001b[0;34m\u001b[0m\u001b[0;34m\u001b[0m\u001b[0m\n\u001b[0m\u001b[1;32m      3\u001b[0m \u001b[0my_true\u001b[0m \u001b[0;34m=\u001b[0m \u001b[0;34m[\u001b[0m\u001b[0;34m'O'\u001b[0m\u001b[0;34m,\u001b[0m \u001b[0;34m'I'\u001b[0m\u001b[0;34m,\u001b[0m \u001b[0;34m'O'\u001b[0m\u001b[0;34m,\u001b[0m \u001b[0;34m'O'\u001b[0m\u001b[0;34m,\u001b[0m \u001b[0;34m'O'\u001b[0m\u001b[0;34m,\u001b[0m \u001b[0;34m'O'\u001b[0m\u001b[0;34m,\u001b[0m \u001b[0;34m'O'\u001b[0m\u001b[0;34m,\u001b[0m \u001b[0;34m'O'\u001b[0m\u001b[0;34m,\u001b[0m \u001b[0;34m'O'\u001b[0m\u001b[0;34m,\u001b[0m \u001b[0;34m'O'\u001b[0m\u001b[0;34m,\u001b[0m \u001b[0;34m'O'\u001b[0m\u001b[0;34m,\u001b[0m \u001b[0;34m'O'\u001b[0m\u001b[0;34m,\u001b[0m \u001b[0;34m'O'\u001b[0m\u001b[0;34m,\u001b[0m \u001b[0;34m'O'\u001b[0m\u001b[0;34m,\u001b[0m \u001b[0;34m'O'\u001b[0m\u001b[0;34m,\u001b[0m \u001b[0;34m'I'\u001b[0m\u001b[0;34m,\u001b[0m \u001b[0;34m'I'\u001b[0m\u001b[0;34m,\u001b[0m \u001b[0;34m'O'\u001b[0m\u001b[0;34m,\u001b[0m \u001b[0;34m'O'\u001b[0m\u001b[0;34m,\u001b[0m \u001b[0;34m'O'\u001b[0m\u001b[0;34m,\u001b[0m \u001b[0;34m'O'\u001b[0m\u001b[0;34m,\u001b[0m \u001b[0;34m'O'\u001b[0m\u001b[0;34m,\u001b[0m \u001b[0;34m'I'\u001b[0m\u001b[0;34m,\u001b[0m \u001b[0;34m'I'\u001b[0m\u001b[0;34m,\u001b[0m \u001b[0;34m'I'\u001b[0m\u001b[0;34m,\u001b[0m \u001b[0;34m'I'\u001b[0m\u001b[0;34m,\u001b[0m \u001b[0;34m'O'\u001b[0m\u001b[0;34m,\u001b[0m \u001b[0;34m'O'\u001b[0m\u001b[0;34m,\u001b[0m \u001b[0;34m'O'\u001b[0m\u001b[0;34m,\u001b[0m \u001b[0;34m'O'\u001b[0m\u001b[0;34m,\u001b[0m \u001b[0;34m'O'\u001b[0m\u001b[0;34m,\u001b[0m \u001b[0;34m'O'\u001b[0m\u001b[0;34m,\u001b[0m \u001b[0;34m'O'\u001b[0m\u001b[0;34m,\u001b[0m \u001b[0;34m'O'\u001b[0m\u001b[0;34m,\u001b[0m \u001b[0;34m'I'\u001b[0m\u001b[0;34m,\u001b[0m \u001b[0;34m'O'\u001b[0m\u001b[0;34m,\u001b[0m \u001b[0;34m'O'\u001b[0m\u001b[0;34m,\u001b[0m \u001b[0;34m'I'\u001b[0m\u001b[0;34m,\u001b[0m \u001b[0;34m'O'\u001b[0m\u001b[0;34m,\u001b[0m \u001b[0;34m'O'\u001b[0m\u001b[0;34m,\u001b[0m \u001b[0;34m'O'\u001b[0m\u001b[0;34m,\u001b[0m \u001b[0;34m'O'\u001b[0m\u001b[0;34m,\u001b[0m \u001b[0;34m'O'\u001b[0m\u001b[0;34m,\u001b[0m \u001b[0;34m'O'\u001b[0m\u001b[0;34m,\u001b[0m \u001b[0;34m'O'\u001b[0m\u001b[0;34m,\u001b[0m \u001b[0;34m'O'\u001b[0m\u001b[0;34m,\u001b[0m \u001b[0;34m'O'\u001b[0m\u001b[0;34m,\u001b[0m \u001b[0;34m'O'\u001b[0m\u001b[0;34m,\u001b[0m \u001b[0;34m'O'\u001b[0m\u001b[0;34m,\u001b[0m \u001b[0;34m'O'\u001b[0m\u001b[0;34m,\u001b[0m \u001b[0;34m'O'\u001b[0m\u001b[0;34m,\u001b[0m \u001b[0;34m'O'\u001b[0m\u001b[0;34m,\u001b[0m \u001b[0;34m'O'\u001b[0m\u001b[0;34m,\u001b[0m \u001b[0;34m'O'\u001b[0m\u001b[0;34m,\u001b[0m \u001b[0;34m'O'\u001b[0m\u001b[0;34m,\u001b[0m \u001b[0;34m'O'\u001b[0m\u001b[0;34m,\u001b[0m \u001b[0;34m'O'\u001b[0m\u001b[0;34m,\u001b[0m \u001b[0;34m'O'\u001b[0m\u001b[0;34m,\u001b[0m \u001b[0;34m'O'\u001b[0m\u001b[0;34m,\u001b[0m \u001b[0;34m'O'\u001b[0m\u001b[0;34m,\u001b[0m \u001b[0;34m'O'\u001b[0m\u001b[0;34m,\u001b[0m \u001b[0;34m'O'\u001b[0m\u001b[0;34m,\u001b[0m \u001b[0;34m'O'\u001b[0m\u001b[0;34m,\u001b[0m \u001b[0;34m'O'\u001b[0m\u001b[0;34m,\u001b[0m \u001b[0;34m'O'\u001b[0m\u001b[0;34m,\u001b[0m \u001b[0;34m'O'\u001b[0m\u001b[0;34m,\u001b[0m \u001b[0;34m'O'\u001b[0m\u001b[0;34m,\u001b[0m \u001b[0;34m'O'\u001b[0m\u001b[0;34m,\u001b[0m \u001b[0;34m'O'\u001b[0m\u001b[0;34m,\u001b[0m \u001b[0;34m'O'\u001b[0m\u001b[0;34m,\u001b[0m \u001b[0;34m'O'\u001b[0m\u001b[0;34m,\u001b[0m \u001b[0;34m'O'\u001b[0m\u001b[0;34m,\u001b[0m \u001b[0;34m'O'\u001b[0m\u001b[0;34m,\u001b[0m \u001b[0;34m'O'\u001b[0m\u001b[0;34m,\u001b[0m \u001b[0;34m'O'\u001b[0m\u001b[0;34m,\u001b[0m \u001b[0;34m'O'\u001b[0m\u001b[0;34m]\u001b[0m\u001b[0;34m\u001b[0m\u001b[0;34m\u001b[0m\u001b[0m\n\u001b[1;32m      4\u001b[0m \u001b[0;34m\u001b[0m\u001b[0m\n\u001b[1;32m      5\u001b[0m \u001b[0mtokens\u001b[0m \u001b[0;34m=\u001b[0m\u001b[0;34m[\u001b[0m\u001b[0mtoken\u001b[0m\u001b[0;34m.\u001b[0m\u001b[0mtext\u001b[0m \u001b[0;32mfor\u001b[0m \u001b[0mtoken\u001b[0m \u001b[0;32min\u001b[0m \u001b[0mparagraph\u001b[0m\u001b[0;34m]\u001b[0m\u001b[0;34m\u001b[0m\u001b[0;34m\u001b[0m\u001b[0m\n",
            "\u001b[0;31mNameError\u001b[0m: name 'nlp' is not defined"
          ]
        }
      ]
    },
    {
      "cell_type": "code",
      "metadata": {
        "id": "eakqMsl1ylYp"
      },
      "source": [
        "# Print 100 randomly sampled text\n",
        "from IPython.display import Latex\n",
        "for index, row in df_askable_paragraph_test.iterrows(): #.sample(n=100, random_state=1)\n",
        "    if nlp(row[\"paragraph_context\"])[:3].text == \"The Norman dynasty\":\n",
        "        paragraph = nlp(row[\"paragraph_context\"])\n",
        "        y_true = row[\"askable_tokens\"]\n",
        "        tokens =[token.text for token in paragraph]\n",
        "        y_pred = model.predict_marginals_single(text2features(paragraph, pos_features=POS_FEATURES, ent_type_features=ENT_TYPE_FEATURES, lemma_features=LEMMA_FEATURES, is_features=IS_FEATURES, position_features=POSITION_FEATURES, bias=BIAS, begin=BEGIN, end=END))\n",
        "\n",
        "        print_annotated_text(tokens, y_pred, y_trues=y_true)\n",
        "        Latex(print_annotated_text_latex(tokens, y_pred, y_trues=y_true))"
      ],
      "execution_count": null,
      "outputs": []
    },
    {
      "cell_type": "code",
      "metadata": {
        "id": "kkDyCc7bylYq"
      },
      "source": [
        ""
      ],
      "execution_count": null,
      "outputs": []
    }
  ]
}