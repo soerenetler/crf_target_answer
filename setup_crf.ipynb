{
  "nbformat": 4,
  "nbformat_minor": 0,
  "metadata": {
    "colab": {
      "name": "setup_crf.ipynb",
      "provenance": [],
      "authorship_tag": "ABX9TyNSCLquERnWDLZbmthZcOu1",
      "include_colab_link": true
    },
    "kernelspec": {
      "name": "python3",
      "display_name": "Python 3"
    },
    "language_info": {
      "name": "python"
    }
  },
  "cells": [
    {
      "cell_type": "markdown",
      "metadata": {
        "id": "view-in-github",
        "colab_type": "text"
      },
      "source": [
        "<a href=\"https://colab.research.google.com/github/soerenetler/crf_target_answer/blob/main/setup_crf.ipynb\" target=\"_parent\"><img src=\"https://colab.research.google.com/assets/colab-badge.svg\" alt=\"Open In Colab\"/></a>"
      ]
    },
    {
      "cell_type": "code",
      "metadata": {
        "colab": {
          "base_uri": "https://localhost:8080/"
        },
        "id": "oNcMK4O0_c_K",
        "outputId": "28f6405e-6eb4-4a79-cb72-3fcecb32b2cf"
      },
      "source": [
        "import os\n",
        "os.system(\"git clone https://github.com/soerenetler/squad-question-generation.git\")\n",
        "os.system(\"git clone https://github.com/soerenetler/spacy_target_answer.git\")\n",
        "os.system(\"git clone https://github.com/soerenetler/crf_target_answer.git\")\n",
        "\n",
        "from google.colab import drive\n",
        "drive.mount('/content/gdrive')"
      ],
      "execution_count": 1,
      "outputs": [
        {
          "output_type": "stream",
          "text": [
            "Mounted at /content/gdrive\n"
          ],
          "name": "stdout"
        }
      ]
    },
    {
      "cell_type": "code",
      "metadata": {
        "colab": {
          "base_uri": "https://localhost:8080/"
        },
        "id": "QENe59M_AlrZ",
        "outputId": "11cf05e2-f000-4292-f15e-cdf1c5196659"
      },
      "source": [
        "!(cd squad-question-generation/; git pull)\n",
        "!(cd crf_target_answer/; git pull)"
      ],
      "execution_count": 25,
      "outputs": [
        {
          "output_type": "stream",
          "text": [
            "Already up to date.\n",
            "remote: Enumerating objects: 5, done.\u001b[K\n",
            "remote: Counting objects: 100% (5/5), done.\u001b[K\n",
            "remote: Compressing objects: 100% (1/1), done.\u001b[K\n",
            "remote: Total 3 (delta 2), reused 3 (delta 2), pack-reused 0\u001b[K\n",
            "Unpacking objects: 100% (3/3), done.\n",
            "From https://github.com/soerenetler/crf_target_answer\n",
            "   27be9ec..f3b6fe7  main       -> origin/main\n",
            "Updating 27be9ec..f3b6fe7\n",
            "Fast-forward\n",
            " parameter_tuning.py | 4 \u001b[32m++\u001b[m\u001b[31m--\u001b[m\n",
            " 1 file changed, 2 insertions(+), 2 deletions(-)\n"
          ],
          "name": "stdout"
        }
      ]
    },
    {
      "cell_type": "code",
      "metadata": {
        "id": "QUgfEI1dGAWX"
      },
      "source": [
        "!pip install -r crf_target_answer/requirements.txt --quiet"
      ],
      "execution_count": 9,
      "outputs": []
    },
    {
      "cell_type": "code",
      "metadata": {
        "colab": {
          "base_uri": "https://localhost:8080/"
        },
        "id": "xKz4bJjXHvIM",
        "outputId": "02cd006a-7a02-4ae2-9a0e-527d6cc2743c"
      },
      "source": [
        "!pip install allennlp allennlp-models -U --quiet"
      ],
      "execution_count": 33,
      "outputs": [
        {
          "output_type": "stream",
          "text": [
            "\u001b[?25l\r\u001b[K     |██▏                             | 10 kB 23.2 MB/s eta 0:00:01\r\u001b[K     |████▎                           | 20 kB 28.6 MB/s eta 0:00:01\r\u001b[K     |██████▍                         | 30 kB 13.7 MB/s eta 0:00:01\r\u001b[K     |████████▌                       | 40 kB 10.8 MB/s eta 0:00:01\r\u001b[K     |██████████▊                     | 51 kB 5.1 MB/s eta 0:00:01\r\u001b[K     |████████████▉                   | 61 kB 5.7 MB/s eta 0:00:01\r\u001b[K     |███████████████                 | 71 kB 5.2 MB/s eta 0:00:01\r\u001b[K     |█████████████████               | 81 kB 5.6 MB/s eta 0:00:01\r\u001b[K     |███████████████████▎            | 92 kB 6.2 MB/s eta 0:00:01\r\u001b[K     |█████████████████████▍          | 102 kB 5.0 MB/s eta 0:00:01\r\u001b[K     |███████████████████████▌        | 112 kB 5.0 MB/s eta 0:00:01\r\u001b[K     |█████████████████████████▋      | 122 kB 5.0 MB/s eta 0:00:01\r\u001b[K     |███████████████████████████▉    | 133 kB 5.0 MB/s eta 0:00:01\r\u001b[K     |██████████████████████████████  | 143 kB 5.0 MB/s eta 0:00:01\r\u001b[K     |████████████████████████████████| 153 kB 5.0 MB/s \n",
            "\u001b[?25h\u001b[?25l\r\u001b[K     |██▋                             | 10 kB 24.4 MB/s eta 0:00:01\r\u001b[K     |█████▏                          | 20 kB 28.1 MB/s eta 0:00:01\r\u001b[K     |███████▊                        | 30 kB 32.6 MB/s eta 0:00:01\r\u001b[K     |██████████▎                     | 40 kB 27.2 MB/s eta 0:00:01\r\u001b[K     |████████████▉                   | 51 kB 14.4 MB/s eta 0:00:01\r\u001b[K     |███████████████▍                | 61 kB 13.1 MB/s eta 0:00:01\r\u001b[K     |██████████████████              | 71 kB 11.2 MB/s eta 0:00:01\r\u001b[K     |████████████████████▌           | 81 kB 8.1 MB/s eta 0:00:01\r\u001b[K     |███████████████████████         | 92 kB 8.3 MB/s eta 0:00:01\r\u001b[K     |█████████████████████████▋      | 102 kB 8.2 MB/s eta 0:00:01\r\u001b[K     |████████████████████████████▏   | 112 kB 8.2 MB/s eta 0:00:01\r\u001b[K     |██████████████████████████████▊ | 122 kB 8.2 MB/s eta 0:00:01\r\u001b[K     |████████████████████████████████| 127 kB 8.2 MB/s \n",
            "\u001b[?25h  Building wheel for overrides (setup.py) ... \u001b[?25l\u001b[?25hdone\n",
            "\u001b[31mERROR: pip's dependency resolver does not currently take into account all the packages that are installed. This behaviour is the source of the following dependency conflicts.\n",
            "torchtext 0.9.0 requires torch==1.8.0, but you have torch 1.7.1 which is incompatible.\n",
            "datascience 0.10.6 requires folium==0.2.1, but you have folium 0.8.3 which is incompatible.\u001b[0m\n"
          ],
          "name": "stdout"
        }
      ]
    },
    {
      "cell_type": "code",
      "metadata": {
        "colab": {
          "base_uri": "https://localhost:8080/"
        },
        "id": "4XClTogKIApU",
        "outputId": "86f60145-989b-4cdb-dbed-f69ffa0e3c28"
      },
      "source": [
        "!pip install --quiet -U pip setuptools wheel"
      ],
      "execution_count": 27,
      "outputs": [
        {
          "output_type": "stream",
          "text": [
            "\u001b[?25l\r\u001b[K     |▏                               | 10kB 15.9MB/s eta 0:00:01\r\u001b[K     |▍                               | 20kB 20.7MB/s eta 0:00:01\r\u001b[K     |▋                               | 30kB 9.6MB/s eta 0:00:01\r\u001b[K     |▉                               | 40kB 8.9MB/s eta 0:00:01\r\u001b[K     |█                               | 51kB 5.8MB/s eta 0:00:01\r\u001b[K     |█▎                              | 61kB 4.8MB/s eta 0:00:01\r\u001b[K     |█▌                              | 71kB 5.4MB/s eta 0:00:01\r\u001b[K     |█▊                              | 81kB 5.9MB/s eta 0:00:01\r\u001b[K     |██                              | 92kB 6.2MB/s eta 0:00:01\r\u001b[K     |██▏                             | 102kB 5.3MB/s eta 0:00:01\r\u001b[K     |██▍                             | 112kB 5.3MB/s eta 0:00:01\r\u001b[K     |██▌                             | 122kB 5.3MB/s eta 0:00:01\r\u001b[K     |██▊                             | 133kB 5.3MB/s eta 0:00:01\r\u001b[K     |███                             | 143kB 5.3MB/s eta 0:00:01\r\u001b[K     |███▏                            | 153kB 5.3MB/s eta 0:00:01\r\u001b[K     |███▍                            | 163kB 5.3MB/s eta 0:00:01\r\u001b[K     |███▋                            | 174kB 5.3MB/s eta 0:00:01\r\u001b[K     |███▉                            | 184kB 5.3MB/s eta 0:00:01\r\u001b[K     |████                            | 194kB 5.3MB/s eta 0:00:01\r\u001b[K     |████▎                           | 204kB 5.3MB/s eta 0:00:01\r\u001b[K     |████▌                           | 215kB 5.3MB/s eta 0:00:01\r\u001b[K     |████▊                           | 225kB 5.3MB/s eta 0:00:01\r\u001b[K     |█████                           | 235kB 5.3MB/s eta 0:00:01\r\u001b[K     |█████                           | 245kB 5.3MB/s eta 0:00:01\r\u001b[K     |█████▎                          | 256kB 5.3MB/s eta 0:00:01\r\u001b[K     |█████▌                          | 266kB 5.3MB/s eta 0:00:01\r\u001b[K     |█████▊                          | 276kB 5.3MB/s eta 0:00:01\r\u001b[K     |██████                          | 286kB 5.3MB/s eta 0:00:01\r\u001b[K     |██████▏                         | 296kB 5.3MB/s eta 0:00:01\r\u001b[K     |██████▍                         | 307kB 5.3MB/s eta 0:00:01\r\u001b[K     |██████▋                         | 317kB 5.3MB/s eta 0:00:01\r\u001b[K     |██████▉                         | 327kB 5.3MB/s eta 0:00:01\r\u001b[K     |███████                         | 337kB 5.3MB/s eta 0:00:01\r\u001b[K     |███████▎                        | 348kB 5.3MB/s eta 0:00:01\r\u001b[K     |███████▌                        | 358kB 5.3MB/s eta 0:00:01\r\u001b[K     |███████▋                        | 368kB 5.3MB/s eta 0:00:01\r\u001b[K     |███████▉                        | 378kB 5.3MB/s eta 0:00:01\r\u001b[K     |████████                        | 389kB 5.3MB/s eta 0:00:01\r\u001b[K     |████████▎                       | 399kB 5.3MB/s eta 0:00:01\r\u001b[K     |████████▌                       | 409kB 5.3MB/s eta 0:00:01\r\u001b[K     |████████▊                       | 419kB 5.3MB/s eta 0:00:01\r\u001b[K     |█████████                       | 430kB 5.3MB/s eta 0:00:01\r\u001b[K     |█████████▏                      | 440kB 5.3MB/s eta 0:00:01\r\u001b[K     |█████████▍                      | 450kB 5.3MB/s eta 0:00:01\r\u001b[K     |█████████▋                      | 460kB 5.3MB/s eta 0:00:01\r\u001b[K     |█████████▉                      | 471kB 5.3MB/s eta 0:00:01\r\u001b[K     |██████████                      | 481kB 5.3MB/s eta 0:00:01\r\u001b[K     |██████████▏                     | 491kB 5.3MB/s eta 0:00:01\r\u001b[K     |██████████▍                     | 501kB 5.3MB/s eta 0:00:01\r\u001b[K     |██████████▋                     | 512kB 5.3MB/s eta 0:00:01\r\u001b[K     |██████████▉                     | 522kB 5.3MB/s eta 0:00:01\r\u001b[K     |███████████                     | 532kB 5.3MB/s eta 0:00:01\r\u001b[K     |███████████▎                    | 542kB 5.3MB/s eta 0:00:01\r\u001b[K     |███████████▌                    | 552kB 5.3MB/s eta 0:00:01\r\u001b[K     |███████████▊                    | 563kB 5.3MB/s eta 0:00:01\r\u001b[K     |████████████                    | 573kB 5.3MB/s eta 0:00:01\r\u001b[K     |████████████▏                   | 583kB 5.3MB/s eta 0:00:01\r\u001b[K     |████████████▍                   | 593kB 5.3MB/s eta 0:00:01\r\u001b[K     |████████████▋                   | 604kB 5.3MB/s eta 0:00:01\r\u001b[K     |████████████▊                   | 614kB 5.3MB/s eta 0:00:01\r\u001b[K     |█████████████                   | 624kB 5.3MB/s eta 0:00:01\r\u001b[K     |█████████████▏                  | 634kB 5.3MB/s eta 0:00:01\r\u001b[K     |█████████████▍                  | 645kB 5.3MB/s eta 0:00:01\r\u001b[K     |█████████████▋                  | 655kB 5.3MB/s eta 0:00:01\r\u001b[K     |█████████████▉                  | 665kB 5.3MB/s eta 0:00:01\r\u001b[K     |██████████████                  | 675kB 5.3MB/s eta 0:00:01\r\u001b[K     |██████████████▎                 | 686kB 5.3MB/s eta 0:00:01\r\u001b[K     |██████████████▌                 | 696kB 5.3MB/s eta 0:00:01\r\u001b[K     |██████████████▊                 | 706kB 5.3MB/s eta 0:00:01\r\u001b[K     |███████████████                 | 716kB 5.3MB/s eta 0:00:01\r\u001b[K     |███████████████▏                | 727kB 5.3MB/s eta 0:00:01\r\u001b[K     |███████████████▎                | 737kB 5.3MB/s eta 0:00:01\r\u001b[K     |███████████████▌                | 747kB 5.3MB/s eta 0:00:01\r\u001b[K     |███████████████▊                | 757kB 5.3MB/s eta 0:00:01\r\u001b[K     |████████████████                | 768kB 5.3MB/s eta 0:00:01\r\u001b[K     |████████████████▏               | 778kB 5.3MB/s eta 0:00:01\r\u001b[K     |████████████████▍               | 788kB 5.3MB/s eta 0:00:01\r\u001b[K     |████████████████▋               | 798kB 5.3MB/s eta 0:00:01\r\u001b[K     |████████████████▉               | 808kB 5.3MB/s eta 0:00:01\r\u001b[K     |█████████████████               | 819kB 5.3MB/s eta 0:00:01\r\u001b[K     |█████████████████▎              | 829kB 5.3MB/s eta 0:00:01\r\u001b[K     |█████████████████▌              | 839kB 5.3MB/s eta 0:00:01\r\u001b[K     |█████████████████▊              | 849kB 5.3MB/s eta 0:00:01\r\u001b[K     |█████████████████▉              | 860kB 5.3MB/s eta 0:00:01\r\u001b[K     |██████████████████              | 870kB 5.3MB/s eta 0:00:01\r\u001b[K     |██████████████████▎             | 880kB 5.3MB/s eta 0:00:01\r\u001b[K     |██████████████████▌             | 890kB 5.3MB/s eta 0:00:01\r\u001b[K     |██████████████████▊             | 901kB 5.3MB/s eta 0:00:01\r\u001b[K     |███████████████████             | 911kB 5.3MB/s eta 0:00:01\r\u001b[K     |███████████████████▏            | 921kB 5.3MB/s eta 0:00:01\r\u001b[K     |███████████████████▍            | 931kB 5.3MB/s eta 0:00:01\r\u001b[K     |███████████████████▋            | 942kB 5.3MB/s eta 0:00:01\r\u001b[K     |███████████████████▉            | 952kB 5.3MB/s eta 0:00:01\r\u001b[K     |████████████████████            | 962kB 5.3MB/s eta 0:00:01\r\u001b[K     |████████████████████▎           | 972kB 5.3MB/s eta 0:00:01\r\u001b[K     |████████████████████▍           | 983kB 5.3MB/s eta 0:00:01\r\u001b[K     |████████████████████▋           | 993kB 5.3MB/s eta 0:00:01\r\u001b[K     |████████████████████▉           | 1.0MB 5.3MB/s eta 0:00:01\r\u001b[K     |█████████████████████           | 1.0MB 5.3MB/s eta 0:00:01\r\u001b[K     |█████████████████████▎          | 1.0MB 5.3MB/s eta 0:00:01\r\u001b[K     |█████████████████████▌          | 1.0MB 5.3MB/s eta 0:00:01\r\u001b[K     |█████████████████████▊          | 1.0MB 5.3MB/s eta 0:00:01\r\u001b[K     |██████████████████████          | 1.1MB 5.3MB/s eta 0:00:01\r\u001b[K     |██████████████████████▏         | 1.1MB 5.3MB/s eta 0:00:01\r\u001b[K     |██████████████████████▍         | 1.1MB 5.3MB/s eta 0:00:01\r\u001b[K     |██████████████████████▋         | 1.1MB 5.3MB/s eta 0:00:01\r\u001b[K     |██████████████████████▉         | 1.1MB 5.3MB/s eta 0:00:01\r\u001b[K     |███████████████████████         | 1.1MB 5.3MB/s eta 0:00:01\r\u001b[K     |███████████████████████▏        | 1.1MB 5.3MB/s eta 0:00:01\r\u001b[K     |███████████████████████▍        | 1.1MB 5.3MB/s eta 0:00:01\r\u001b[K     |███████████████████████▋        | 1.1MB 5.3MB/s eta 0:00:01\r\u001b[K     |███████████████████████▉        | 1.1MB 5.3MB/s eta 0:00:01\r\u001b[K     |████████████████████████        | 1.2MB 5.3MB/s eta 0:00:01\r\u001b[K     |████████████████████████▎       | 1.2MB 5.3MB/s eta 0:00:01\r\u001b[K     |████████████████████████▌       | 1.2MB 5.3MB/s eta 0:00:01\r\u001b[K     |████████████████████████▊       | 1.2MB 5.3MB/s eta 0:00:01\r\u001b[K     |█████████████████████████       | 1.2MB 5.3MB/s eta 0:00:01\r\u001b[K     |█████████████████████████▏      | 1.2MB 5.3MB/s eta 0:00:01\r\u001b[K     |█████████████████████████▍      | 1.2MB 5.3MB/s eta 0:00:01\r\u001b[K     |█████████████████████████▌      | 1.2MB 5.3MB/s eta 0:00:01\r\u001b[K     |█████████████████████████▊      | 1.2MB 5.3MB/s eta 0:00:01\r\u001b[K     |██████████████████████████      | 1.2MB 5.3MB/s eta 0:00:01\r\u001b[K     |██████████████████████████▏     | 1.3MB 5.3MB/s eta 0:00:01\r\u001b[K     |██████████████████████████▍     | 1.3MB 5.3MB/s eta 0:00:01\r\u001b[K     |██████████████████████████▋     | 1.3MB 5.3MB/s eta 0:00:01\r\u001b[K     |██████████████████████████▉     | 1.3MB 5.3MB/s eta 0:00:01\r\u001b[K     |███████████████████████████     | 1.3MB 5.3MB/s eta 0:00:01\r\u001b[K     |███████████████████████████▎    | 1.3MB 5.3MB/s eta 0:00:01\r\u001b[K     |███████████████████████████▌    | 1.3MB 5.3MB/s eta 0:00:01\r\u001b[K     |███████████████████████████▊    | 1.3MB 5.3MB/s eta 0:00:01\r\u001b[K     |███████████████████████████▉    | 1.3MB 5.3MB/s eta 0:00:01\r\u001b[K     |████████████████████████████    | 1.4MB 5.3MB/s eta 0:00:01\r\u001b[K     |████████████████████████████▎   | 1.4MB 5.3MB/s eta 0:00:01\r\u001b[K     |████████████████████████████▌   | 1.4MB 5.3MB/s eta 0:00:01\r\u001b[K     |████████████████████████████▊   | 1.4MB 5.3MB/s eta 0:00:01\r\u001b[K     |█████████████████████████████   | 1.4MB 5.3MB/s eta 0:00:01\r\u001b[K     |█████████████████████████████▏  | 1.4MB 5.3MB/s eta 0:00:01\r\u001b[K     |█████████████████████████████▍  | 1.4MB 5.3MB/s eta 0:00:01\r\u001b[K     |█████████████████████████████▋  | 1.4MB 5.3MB/s eta 0:00:01\r\u001b[K     |█████████████████████████████▉  | 1.4MB 5.3MB/s eta 0:00:01\r\u001b[K     |██████████████████████████████  | 1.4MB 5.3MB/s eta 0:00:01\r\u001b[K     |██████████████████████████████▎ | 1.5MB 5.3MB/s eta 0:00:01\r\u001b[K     |██████████████████████████████▍ | 1.5MB 5.3MB/s eta 0:00:01\r\u001b[K     |██████████████████████████████▋ | 1.5MB 5.3MB/s eta 0:00:01\r\u001b[K     |██████████████████████████████▉ | 1.5MB 5.3MB/s eta 0:00:01\r\u001b[K     |███████████████████████████████ | 1.5MB 5.3MB/s eta 0:00:01\r\u001b[K     |███████████████████████████████▎| 1.5MB 5.3MB/s eta 0:00:01\r\u001b[K     |███████████████████████████████▌| 1.5MB 5.3MB/s eta 0:00:01\r\u001b[K     |███████████████████████████████▊| 1.5MB 5.3MB/s eta 0:00:01\r\u001b[K     |████████████████████████████████| 1.5MB 5.3MB/s eta 0:00:01\r\u001b[K     |████████████████████████████████| 1.5MB 5.3MB/s \n",
            "\u001b[?25h"
          ],
          "name": "stdout"
        }
      ]
    },
    {
      "cell_type": "code",
      "metadata": {
        "colab": {
          "base_uri": "https://localhost:8080/"
        },
        "id": "Pz3AByHFOB-3",
        "outputId": "66baab2c-2786-4b91-fbd2-563d7603ea1e"
      },
      "source": [
        "!pip install --quiet -U spacy[cuda110,transformers,lookups]"
      ],
      "execution_count": 29,
      "outputs": [
        {
          "output_type": "stream",
          "text": [
            "\u001b[K     |████████████████████████████████| 12.8 MB 323 kB/s \n",
            "\u001b[K     |████████████████████████████████| 1.1 MB 54.3 MB/s \n",
            "\u001b[K     |████████████████████████████████| 9.1 MB 49.5 MB/s \n",
            "\u001b[K     |████████████████████████████████| 456 kB 47.2 MB/s \n",
            "\u001b[K     |████████████████████████████████| 93.4 MB 41 kB/s \n",
            "\u001b[K     |████████████████████████████████| 165.3 MB 35 kB/s \n",
            "\u001b[K     |████████████████████████████████| 113 kB 65.7 MB/s \n",
            "\u001b[K     |████████████████████████████████| 1.8 MB 58.8 MB/s \n",
            "\u001b[K     |████████████████████████████████| 977 kB 58.8 MB/s \n",
            "\u001b[K     |████████████████████████████████| 2.9 MB 45.5 MB/s \n",
            "\u001b[?25h  Building wheel for smart-open (setup.py) ... \u001b[?25l\u001b[?25hdone\n",
            "  Building wheel for torchcontrib (setup.py) ... \u001b[?25l\u001b[?25hdone\n",
            "\u001b[31mERROR: pip's dependency resolver does not currently take into account all the packages that are installed. This behaviour is the source of the following dependency conflicts.\n",
            "allennlp 1.0.0 requires spacy<2.3,>=2.1.0, but you have spacy 3.0.5 which is incompatible.\n",
            "allennlp 1.0.0 requires transformers<2.12,>=2.9, but you have transformers 4.2.2 which is incompatible.\u001b[0m\n"
          ],
          "name": "stdout"
        }
      ]
    },
    {
      "cell_type": "code",
      "metadata": {
        "colab": {
          "base_uri": "https://localhost:8080/"
        },
        "id": "g3x5DKJ-N5En",
        "outputId": "122864ae-0cc4-4035-b00c-083b5512a910"
      },
      "source": [
        "!python -m spacy download en_core_web_sm --quiet\n",
        "!python -m spacy download en_core_web_trf --quiet"
      ],
      "execution_count": 30,
      "outputs": [
        {
          "output_type": "stream",
          "text": [
            "2021-03-20 19:59:51.360220: I tensorflow/stream_executor/platform/default/dso_loader.cc:49] Successfully opened dynamic library libcudart.so.11.0\n",
            "\u001b[K     |████████████████████████████████| 13.7 MB 103 kB/s \n",
            "\u001b[?25h\u001b[38;5;2m✔ Download and installation successful\u001b[0m\n",
            "You can now load the package via spacy.load('en_core_web_sm')\n",
            "2021-03-20 20:00:01.167084: I tensorflow/stream_executor/platform/default/dso_loader.cc:49] Successfully opened dynamic library libcudart.so.11.0\n",
            "\u001b[K     |████████████████████████████████| 459.7 MB 14 kB/s \n",
            "\u001b[?25h\u001b[38;5;2m✔ Download and installation successful\u001b[0m\n",
            "You can now load the package via spacy.load('en_core_web_trf')\n"
          ],
          "name": "stdout"
        }
      ]
    },
    {
      "cell_type": "code",
      "metadata": {
        "colab": {
          "base_uri": "https://localhost:8080/"
        },
        "id": "3VzqXDlRN-8r",
        "outputId": "d745a118-7f26-4b1a-e6e2-84a72b40a4bf"
      },
      "source": [
        "!spacy validate"
      ],
      "execution_count": 31,
      "outputs": [
        {
          "output_type": "stream",
          "text": [
            "2021-03-20 20:00:44.709683: I tensorflow/stream_executor/platform/default/dso_loader.cc:49] Successfully opened dynamic library libcudart.so.11.0\n",
            "\u001b[2K\u001b[38;5;2m✔ Loaded compatibility table\u001b[0m\n",
            "\u001b[1m\n",
            "================= Installed pipeline packages (spaCy v3.0.5) =================\u001b[0m\n",
            "\u001b[38;5;4mℹ spaCy installation: /usr/local/lib/python3.7/dist-packages/spacy\u001b[0m\n",
            "\n",
            "NAME              SPACY            VERSION                            \n",
            "en_core_web_sm    >=3.0.0,<3.1.0   \u001b[38;5;2m3.0.0\u001b[0m   \u001b[38;5;2m✔\u001b[0m\n",
            "en_core_web_trf   >=3.0.0,<3.1.0   \u001b[38;5;2m3.0.0\u001b[0m   \u001b[38;5;2m✔\u001b[0m\n",
            "\n"
          ],
          "name": "stdout"
        }
      ]
    },
    {
      "cell_type": "code",
      "metadata": {
        "colab": {
          "base_uri": "https://localhost:8080/"
        },
        "id": "n_MvYbw7FkBV",
        "outputId": "f19752fc-bb27-42e5-b8fd-377e963716cf"
      },
      "source": [
        "!python crf_target_answer/parameter_tuning.py --samples 100 --data-folder /content/gdrive/MyDrive/mt-qg-data/01_data/preprocessedData/ --dataset quac"
      ],
      "execution_count": 32,
      "outputs": [
        {
          "output_type": "stream",
          "text": [
            "2021-03-20 20:02:10.408712: I tensorflow/stream_executor/platform/default/dso_loader.cc:49] Successfully opened dynamic library libcudart.so.11.0\n",
            "Traceback (most recent call last):\n",
            "  File \"crf_target_answer/parameter_tuning.py\", line 18, in <module>\n",
            "    from FeatureTransformer import FeatureTransformer\n",
            "  File \"/content/crf_target_answer/FeatureTransformer.py\", line 7, in <module>\n",
            "    from allennlp.predictors.predictor import Predictor\n",
            "  File \"/usr/local/lib/python3.7/dist-packages/allennlp/predictors/__init__.py\", line 9, in <module>\n",
            "    from allennlp.predictors.predictor import Predictor\n",
            "  File \"/usr/local/lib/python3.7/dist-packages/allennlp/predictors/predictor.py\", line 12, in <module>\n",
            "    from allennlp.data import DatasetReader, Instance\n",
            "  File \"/usr/local/lib/python3.7/dist-packages/allennlp/data/__init__.py\", line 1, in <module>\n",
            "    from allennlp.data.dataloader import DataLoader, allennlp_collate\n",
            "  File \"/usr/local/lib/python3.7/dist-packages/allennlp/data/dataloader.py\", line 9, in <module>\n",
            "    from allennlp.data.instance import Instance\n",
            "  File \"/usr/local/lib/python3.7/dist-packages/allennlp/data/instance.py\", line 3, in <module>\n",
            "    from allennlp.data.fields.field import DataArray, Field\n",
            "  File \"/usr/local/lib/python3.7/dist-packages/allennlp/data/fields/__init__.py\", line 15, in <module>\n",
            "    from allennlp.data.fields.namespace_swapping_field import NamespaceSwappingField\n",
            "  File \"/usr/local/lib/python3.7/dist-packages/allennlp/data/fields/namespace_swapping_field.py\", line 8, in <module>\n",
            "    from allennlp.data.tokenizers.token import Token\n",
            "  File \"/usr/local/lib/python3.7/dist-packages/allennlp/data/tokenizers/__init__.py\", line 9, in <module>\n",
            "    from allennlp.data.tokenizers.pretrained_transformer_tokenizer import PretrainedTransformerTokenizer\n",
            "  File \"/usr/local/lib/python3.7/dist-packages/allennlp/data/tokenizers/pretrained_transformer_tokenizer.py\", line 6, in <module>\n",
            "    from transformers.tokenization_auto import AutoTokenizer\n",
            "ModuleNotFoundError: No module named 'transformers.tokenization_auto'\n"
          ],
          "name": "stdout"
        }
      ]
    },
    {
      "cell_type": "code",
      "metadata": {
        "colab": {
          "base_uri": "https://localhost:8080/"
        },
        "id": "TExnXa4qF8aJ",
        "outputId": "c9c0f147-324c-403d-eedb-007038005640"
      },
      "source": [
        "!python --version"
      ],
      "execution_count": 5,
      "outputs": [
        {
          "output_type": "stream",
          "text": [
            "Python 3.7.10\n"
          ],
          "name": "stdout"
        }
      ]
    },
    {
      "cell_type": "code",
      "metadata": {
        "id": "nlDRHZoLG-0B"
      },
      "source": [
        ""
      ],
      "execution_count": null,
      "outputs": []
    }
  ]
}