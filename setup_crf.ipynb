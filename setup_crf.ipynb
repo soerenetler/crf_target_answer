{
  "nbformat": 4,
  "nbformat_minor": 0,
  "metadata": {
    "colab": {
      "name": "setup_crf.ipynb",
      "provenance": [],
      "collapsed_sections": [],
      "machine_shape": "hm",
      "authorship_tag": "ABX9TyPW1KXHuYjxud/viiTRx1D7",
      "include_colab_link": true
    },
    "kernelspec": {
      "name": "python3",
      "display_name": "Python 3"
    },
    "language_info": {
      "name": "python"
    },
    "accelerator": "GPU"
  },
  "cells": [
    {
      "cell_type": "markdown",
      "metadata": {
        "id": "view-in-github",
        "colab_type": "text"
      },
      "source": [
        "<a href=\"https://colab.research.google.com/github/soerenetler/crf_target_answer/blob/main/setup_crf.ipynb\" target=\"_parent\"><img src=\"https://colab.research.google.com/assets/colab-badge.svg\" alt=\"Open In Colab\"/></a>"
      ]
    },
    {
      "cell_type": "code",
      "metadata": {
        "colab": {
          "base_uri": "https://localhost:8080/"
        },
        "id": "oNcMK4O0_c_K",
        "outputId": "2b182356-97b0-4eac-a4da-01e3e19c35ab"
      },
      "source": [
        "import os\n",
        "os.system(\"git clone https://github.com/soerenetler/squad-question-generation.git\")\n",
        "os.system(\"git clone https://github.com/soerenetler/spacy_target_answer.git\")\n",
        "os.system(\"git clone https://github.com/soerenetler/crf_target_answer.git\")\n",
        "\n",
        "from google.colab import drive\n",
        "drive.mount('/content/gdrive')"
      ],
      "execution_count": 3,
      "outputs": [
        {
          "output_type": "stream",
          "text": [
            "Mounted at /content/gdrive\n"
          ],
          "name": "stdout"
        }
      ]
    },
    {
      "cell_type": "code",
      "metadata": {
        "colab": {
          "base_uri": "https://localhost:8080/"
        },
        "id": "QENe59M_AlrZ",
        "outputId": "8d8d6b0c-7510-44d7-df6e-f1647177b602"
      },
      "source": [
        "!(cd squad-question-generation/; git pull)\n",
        "!(cd crf_target_answer/; git pull)"
      ],
      "execution_count": 4,
      "outputs": [
        {
          "output_type": "stream",
          "text": [
            "Already up to date.\n",
            "Already up to date.\n"
          ],
          "name": "stdout"
        }
      ]
    },
    {
      "cell_type": "code",
      "metadata": {
        "colab": {
          "base_uri": "https://localhost:8080/"
        },
        "id": "QUgfEI1dGAWX",
        "outputId": "d7f9ba68-e9a9-463e-d110-01a2a02a1be9"
      },
      "source": [
        "!pip install -r crf_target_answer/requirements.txt --quiet"
      ],
      "execution_count": 5,
      "outputs": [
        {
          "output_type": "stream",
          "text": [
            "\u001b[K     |████████████████████████████████| 4.9MB 8.7MB/s \n",
            "\u001b[K     |████████████████████████████████| 112kB 72.2MB/s \n",
            "\u001b[K     |████████████████████████████████| 747kB 67.5MB/s \n",
            "\u001b[31mERROR: yellowbrick 0.9.1 has requirement scikit-learn>=0.20, but you'll have scikit-learn 0.19.2 which is incompatible.\u001b[0m\n",
            "\u001b[31mERROR: imbalanced-learn 0.4.3 has requirement scikit-learn>=0.20, but you'll have scikit-learn 0.19.2 which is incompatible.\u001b[0m\n",
            "\u001b[31mERROR: eli5 0.11.0 has requirement scikit-learn>=0.20, but you'll have scikit-learn 0.19.2 which is incompatible.\u001b[0m\n",
            "\u001b[?25h"
          ],
          "name": "stdout"
        }
      ]
    },
    {
      "cell_type": "code",
      "metadata": {
        "colab": {
          "base_uri": "https://localhost:8080/"
        },
        "id": "xKz4bJjXHvIM",
        "outputId": "67a997a0-80b5-4dc7-dd49-baa71cf4d51a"
      },
      "source": [
        "!pip install allennlp allennlp-models -U --quiet"
      ],
      "execution_count": 6,
      "outputs": [
        {
          "output_type": "stream",
          "text": [
            "\u001b[K     |████████████████████████████████| 604kB 8.5MB/s \n",
            "\u001b[K     |████████████████████████████████| 419kB 18.9MB/s \n",
            "\u001b[K     |████████████████████████████████| 1.2MB 28.6MB/s \n",
            "\u001b[K     |████████████████████████████████| 133kB 58.0MB/s \n",
            "\u001b[K     |████████████████████████████████| 2.1MB 55.9MB/s \n",
            "\u001b[K     |████████████████████████████████| 2.0MB 61.6MB/s \n",
            "\u001b[K     |████████████████████████████████| 317kB 60.9MB/s \n",
            "\u001b[K     |████████████████████████████████| 266kB 52.8MB/s \n",
            "\u001b[K     |████████████████████████████████| 71kB 8.2MB/s \n",
            "\u001b[K     |████████████████████████████████| 61kB 9.4MB/s \n",
            "\u001b[K     |████████████████████████████████| 7.4MB 69.2MB/s \n",
            "\u001b[K     |████████████████████████████████| 81kB 10.1MB/s \n",
            "\u001b[K     |████████████████████████████████| 163kB 75.0MB/s \n",
            "\u001b[K     |████████████████████████████████| 133kB 74.8MB/s \n",
            "\u001b[K     |████████████████████████████████| 102kB 13.0MB/s \n",
            "\u001b[K     |████████████████████████████████| 3.2MB 66.4MB/s \n",
            "\u001b[K     |████████████████████████████████| 890kB 60.4MB/s \n",
            "\u001b[K     |████████████████████████████████| 71kB 10.6MB/s \n",
            "\u001b[?25h  Building wheel for overrides (setup.py) ... \u001b[?25l\u001b[?25hdone\n",
            "  Building wheel for jsonnet (setup.py) ... \u001b[?25l\u001b[?25hdone\n",
            "  Building wheel for word2number (setup.py) ... \u001b[?25l\u001b[?25hdone\n",
            "  Building wheel for ftfy (setup.py) ... \u001b[?25l\u001b[?25hdone\n",
            "  Building wheel for pathtools (setup.py) ... \u001b[?25l\u001b[?25hdone\n",
            "  Building wheel for subprocess32 (setup.py) ... \u001b[?25l\u001b[?25hdone\n",
            "  Building wheel for sacremoses (setup.py) ... \u001b[?25l\u001b[?25hdone\n",
            "\u001b[31mERROR: botocore 1.20.42 has requirement urllib3<1.27,>=1.25.4, but you'll have urllib3 1.24.3 which is incompatible.\u001b[0m\n"
          ],
          "name": "stdout"
        }
      ]
    },
    {
      "cell_type": "code",
      "metadata": {
        "id": "g3x5DKJ-N5En",
        "outputId": "ea3293ba-8825-4614-979f-4bec60b028d3",
        "colab": {
          "base_uri": "https://localhost:8080/"
        }
      },
      "source": [
        "!pip install --quiet -U pip setuptools wheel"
      ],
      "execution_count": 7,
      "outputs": [
        {
          "output_type": "stream",
          "text": [
            "\u001b[?25l\r\u001b[K     |▏                               | 10kB 26.4MB/s eta 0:00:01\r\u001b[K     |▍                               | 20kB 17.4MB/s eta 0:00:01\r\u001b[K     |▋                               | 30kB 14.0MB/s eta 0:00:01\r\u001b[K     |▉                               | 40kB 12.8MB/s eta 0:00:01\r\u001b[K     |█                               | 51kB 8.1MB/s eta 0:00:01\r\u001b[K     |█▎                              | 61kB 7.6MB/s eta 0:00:01\r\u001b[K     |█▌                              | 71kB 8.7MB/s eta 0:00:01\r\u001b[K     |█▊                              | 81kB 9.5MB/s eta 0:00:01\r\u001b[K     |██                              | 92kB 8.8MB/s eta 0:00:01\r\u001b[K     |██▏                             | 102kB 7.7MB/s eta 0:00:01\r\u001b[K     |██▍                             | 112kB 7.7MB/s eta 0:00:01\r\u001b[K     |██▌                             | 122kB 7.7MB/s eta 0:00:01\r\u001b[K     |██▊                             | 133kB 7.7MB/s eta 0:00:01\r\u001b[K     |███                             | 143kB 7.7MB/s eta 0:00:01\r\u001b[K     |███▏                            | 153kB 7.7MB/s eta 0:00:01\r\u001b[K     |███▍                            | 163kB 7.7MB/s eta 0:00:01\r\u001b[K     |███▋                            | 174kB 7.7MB/s eta 0:00:01\r\u001b[K     |███▉                            | 184kB 7.7MB/s eta 0:00:01\r\u001b[K     |████                            | 194kB 7.7MB/s eta 0:00:01\r\u001b[K     |████▎                           | 204kB 7.7MB/s eta 0:00:01\r\u001b[K     |████▌                           | 215kB 7.7MB/s eta 0:00:01\r\u001b[K     |████▊                           | 225kB 7.7MB/s eta 0:00:01\r\u001b[K     |█████                           | 235kB 7.7MB/s eta 0:00:01\r\u001b[K     |█████                           | 245kB 7.7MB/s eta 0:00:01\r\u001b[K     |█████▎                          | 256kB 7.7MB/s eta 0:00:01\r\u001b[K     |█████▌                          | 266kB 7.7MB/s eta 0:00:01\r\u001b[K     |█████▊                          | 276kB 7.7MB/s eta 0:00:01\r\u001b[K     |██████                          | 286kB 7.7MB/s eta 0:00:01\r\u001b[K     |██████▏                         | 296kB 7.7MB/s eta 0:00:01\r\u001b[K     |██████▍                         | 307kB 7.7MB/s eta 0:00:01\r\u001b[K     |██████▋                         | 317kB 7.7MB/s eta 0:00:01\r\u001b[K     |██████▉                         | 327kB 7.7MB/s eta 0:00:01\r\u001b[K     |███████                         | 337kB 7.7MB/s eta 0:00:01\r\u001b[K     |███████▎                        | 348kB 7.7MB/s eta 0:00:01\r\u001b[K     |███████▌                        | 358kB 7.7MB/s eta 0:00:01\r\u001b[K     |███████▋                        | 368kB 7.7MB/s eta 0:00:01\r\u001b[K     |███████▉                        | 378kB 7.7MB/s eta 0:00:01\r\u001b[K     |████████                        | 389kB 7.7MB/s eta 0:00:01\r\u001b[K     |████████▎                       | 399kB 7.7MB/s eta 0:00:01\r\u001b[K     |████████▌                       | 409kB 7.7MB/s eta 0:00:01\r\u001b[K     |████████▊                       | 419kB 7.7MB/s eta 0:00:01\r\u001b[K     |█████████                       | 430kB 7.7MB/s eta 0:00:01\r\u001b[K     |█████████▏                      | 440kB 7.7MB/s eta 0:00:01\r\u001b[K     |█████████▍                      | 450kB 7.7MB/s eta 0:00:01\r\u001b[K     |█████████▋                      | 460kB 7.7MB/s eta 0:00:01\r\u001b[K     |█████████▉                      | 471kB 7.7MB/s eta 0:00:01\r\u001b[K     |██████████                      | 481kB 7.7MB/s eta 0:00:01\r\u001b[K     |██████████▏                     | 491kB 7.7MB/s eta 0:00:01\r\u001b[K     |██████████▍                     | 501kB 7.7MB/s eta 0:00:01\r\u001b[K     |██████████▋                     | 512kB 7.7MB/s eta 0:00:01\r\u001b[K     |██████████▉                     | 522kB 7.7MB/s eta 0:00:01\r\u001b[K     |███████████                     | 532kB 7.7MB/s eta 0:00:01\r\u001b[K     |███████████▎                    | 542kB 7.7MB/s eta 0:00:01\r\u001b[K     |███████████▌                    | 552kB 7.7MB/s eta 0:00:01\r\u001b[K     |███████████▊                    | 563kB 7.7MB/s eta 0:00:01\r\u001b[K     |████████████                    | 573kB 7.7MB/s eta 0:00:01\r\u001b[K     |████████████▏                   | 583kB 7.7MB/s eta 0:00:01\r\u001b[K     |████████████▍                   | 593kB 7.7MB/s eta 0:00:01\r\u001b[K     |████████████▋                   | 604kB 7.7MB/s eta 0:00:01\r\u001b[K     |████████████▊                   | 614kB 7.7MB/s eta 0:00:01\r\u001b[K     |█████████████                   | 624kB 7.7MB/s eta 0:00:01\r\u001b[K     |█████████████▏                  | 634kB 7.7MB/s eta 0:00:01\r\u001b[K     |█████████████▍                  | 645kB 7.7MB/s eta 0:00:01\r\u001b[K     |█████████████▋                  | 655kB 7.7MB/s eta 0:00:01\r\u001b[K     |█████████████▉                  | 665kB 7.7MB/s eta 0:00:01\r\u001b[K     |██████████████                  | 675kB 7.7MB/s eta 0:00:01\r\u001b[K     |██████████████▎                 | 686kB 7.7MB/s eta 0:00:01\r\u001b[K     |██████████████▌                 | 696kB 7.7MB/s eta 0:00:01\r\u001b[K     |██████████████▊                 | 706kB 7.7MB/s eta 0:00:01\r\u001b[K     |███████████████                 | 716kB 7.7MB/s eta 0:00:01\r\u001b[K     |███████████████▏                | 727kB 7.7MB/s eta 0:00:01\r\u001b[K     |███████████████▎                | 737kB 7.7MB/s eta 0:00:01\r\u001b[K     |███████████████▌                | 747kB 7.7MB/s eta 0:00:01\r\u001b[K     |███████████████▊                | 757kB 7.7MB/s eta 0:00:01\r\u001b[K     |████████████████                | 768kB 7.7MB/s eta 0:00:01\r\u001b[K     |████████████████▏               | 778kB 7.7MB/s eta 0:00:01\r\u001b[K     |████████████████▍               | 788kB 7.7MB/s eta 0:00:01\r\u001b[K     |████████████████▋               | 798kB 7.7MB/s eta 0:00:01\r\u001b[K     |████████████████▉               | 808kB 7.7MB/s eta 0:00:01\r\u001b[K     |█████████████████               | 819kB 7.7MB/s eta 0:00:01\r\u001b[K     |█████████████████▎              | 829kB 7.7MB/s eta 0:00:01\r\u001b[K     |█████████████████▌              | 839kB 7.7MB/s eta 0:00:01\r\u001b[K     |█████████████████▊              | 849kB 7.7MB/s eta 0:00:01\r\u001b[K     |█████████████████▉              | 860kB 7.7MB/s eta 0:00:01\r\u001b[K     |██████████████████              | 870kB 7.7MB/s eta 0:00:01\r\u001b[K     |██████████████████▎             | 880kB 7.7MB/s eta 0:00:01\r\u001b[K     |██████████████████▌             | 890kB 7.7MB/s eta 0:00:01\r\u001b[K     |██████████████████▊             | 901kB 7.7MB/s eta 0:00:01\r\u001b[K     |███████████████████             | 911kB 7.7MB/s eta 0:00:01\r\u001b[K     |███████████████████▏            | 921kB 7.7MB/s eta 0:00:01\r\u001b[K     |███████████████████▍            | 931kB 7.7MB/s eta 0:00:01\r\u001b[K     |███████████████████▋            | 942kB 7.7MB/s eta 0:00:01\r\u001b[K     |███████████████████▉            | 952kB 7.7MB/s eta 0:00:01\r\u001b[K     |████████████████████            | 962kB 7.7MB/s eta 0:00:01\r\u001b[K     |████████████████████▎           | 972kB 7.7MB/s eta 0:00:01\r\u001b[K     |████████████████████▍           | 983kB 7.7MB/s eta 0:00:01\r\u001b[K     |████████████████████▋           | 993kB 7.7MB/s eta 0:00:01\r\u001b[K     |████████████████████▉           | 1.0MB 7.7MB/s eta 0:00:01\r\u001b[K     |█████████████████████           | 1.0MB 7.7MB/s eta 0:00:01\r\u001b[K     |█████████████████████▎          | 1.0MB 7.7MB/s eta 0:00:01\r\u001b[K     |█████████████████████▌          | 1.0MB 7.7MB/s eta 0:00:01\r\u001b[K     |█████████████████████▊          | 1.0MB 7.7MB/s eta 0:00:01\r\u001b[K     |██████████████████████          | 1.1MB 7.7MB/s eta 0:00:01\r\u001b[K     |██████████████████████▏         | 1.1MB 7.7MB/s eta 0:00:01\r\u001b[K     |██████████████████████▍         | 1.1MB 7.7MB/s eta 0:00:01\r\u001b[K     |██████████████████████▋         | 1.1MB 7.7MB/s eta 0:00:01\r\u001b[K     |██████████████████████▉         | 1.1MB 7.7MB/s eta 0:00:01\r\u001b[K     |███████████████████████         | 1.1MB 7.7MB/s eta 0:00:01\r\u001b[K     |███████████████████████▏        | 1.1MB 7.7MB/s eta 0:00:01\r\u001b[K     |███████████████████████▍        | 1.1MB 7.7MB/s eta 0:00:01\r\u001b[K     |███████████████████████▋        | 1.1MB 7.7MB/s eta 0:00:01\r\u001b[K     |███████████████████████▉        | 1.1MB 7.7MB/s eta 0:00:01\r\u001b[K     |████████████████████████        | 1.2MB 7.7MB/s eta 0:00:01\r\u001b[K     |████████████████████████▎       | 1.2MB 7.7MB/s eta 0:00:01\r\u001b[K     |████████████████████████▌       | 1.2MB 7.7MB/s eta 0:00:01\r\u001b[K     |████████████████████████▊       | 1.2MB 7.7MB/s eta 0:00:01\r\u001b[K     |█████████████████████████       | 1.2MB 7.7MB/s eta 0:00:01\r\u001b[K     |█████████████████████████▏      | 1.2MB 7.7MB/s eta 0:00:01\r\u001b[K     |█████████████████████████▍      | 1.2MB 7.7MB/s eta 0:00:01\r\u001b[K     |█████████████████████████▌      | 1.2MB 7.7MB/s eta 0:00:01\r\u001b[K     |█████████████████████████▊      | 1.2MB 7.7MB/s eta 0:00:01\r\u001b[K     |██████████████████████████      | 1.2MB 7.7MB/s eta 0:00:01\r\u001b[K     |██████████████████████████▏     | 1.3MB 7.7MB/s eta 0:00:01\r\u001b[K     |██████████████████████████▍     | 1.3MB 7.7MB/s eta 0:00:01\r\u001b[K     |██████████████████████████▋     | 1.3MB 7.7MB/s eta 0:00:01\r\u001b[K     |██████████████████████████▉     | 1.3MB 7.7MB/s eta 0:00:01\r\u001b[K     |███████████████████████████     | 1.3MB 7.7MB/s eta 0:00:01\r\u001b[K     |███████████████████████████▎    | 1.3MB 7.7MB/s eta 0:00:01\r\u001b[K     |███████████████████████████▌    | 1.3MB 7.7MB/s eta 0:00:01\r\u001b[K     |███████████████████████████▊    | 1.3MB 7.7MB/s eta 0:00:01\r\u001b[K     |███████████████████████████▉    | 1.3MB 7.7MB/s eta 0:00:01\r\u001b[K     |████████████████████████████    | 1.4MB 7.7MB/s eta 0:00:01\r\u001b[K     |████████████████████████████▎   | 1.4MB 7.7MB/s eta 0:00:01\r\u001b[K     |████████████████████████████▌   | 1.4MB 7.7MB/s eta 0:00:01\r\u001b[K     |████████████████████████████▊   | 1.4MB 7.7MB/s eta 0:00:01\r\u001b[K     |█████████████████████████████   | 1.4MB 7.7MB/s eta 0:00:01\r\u001b[K     |█████████████████████████████▏  | 1.4MB 7.7MB/s eta 0:00:01\r\u001b[K     |█████████████████████████████▍  | 1.4MB 7.7MB/s eta 0:00:01\r\u001b[K     |█████████████████████████████▋  | 1.4MB 7.7MB/s eta 0:00:01\r\u001b[K     |█████████████████████████████▉  | 1.4MB 7.7MB/s eta 0:00:01\r\u001b[K     |██████████████████████████████  | 1.4MB 7.7MB/s eta 0:00:01\r\u001b[K     |██████████████████████████████▎ | 1.5MB 7.7MB/s eta 0:00:01\r\u001b[K     |██████████████████████████████▍ | 1.5MB 7.7MB/s eta 0:00:01\r\u001b[K     |██████████████████████████████▋ | 1.5MB 7.7MB/s eta 0:00:01\r\u001b[K     |██████████████████████████████▉ | 1.5MB 7.7MB/s eta 0:00:01\r\u001b[K     |███████████████████████████████ | 1.5MB 7.7MB/s eta 0:00:01\r\u001b[K     |███████████████████████████████▎| 1.5MB 7.7MB/s eta 0:00:01\r\u001b[K     |███████████████████████████████▌| 1.5MB 7.7MB/s eta 0:00:01\r\u001b[K     |███████████████████████████████▊| 1.5MB 7.7MB/s eta 0:00:01\r\u001b[K     |████████████████████████████████| 1.5MB 7.7MB/s eta 0:00:01\r\u001b[K     |████████████████████████████████| 1.5MB 7.7MB/s \n",
            "\u001b[?25h"
          ],
          "name": "stdout"
        }
      ]
    },
    {
      "cell_type": "code",
      "metadata": {
        "id": "XHoJyGkb9ZyA",
        "outputId": "8cc789c0-0e9e-428c-b2ce-629bafd5ab00",
        "colab": {
          "base_uri": "https://localhost:8080/"
        }
      },
      "source": [
        "!pip install --quiet -U spacy[cuda110,transformers,lookups]"
      ],
      "execution_count": 8,
      "outputs": [
        {
          "output_type": "stream",
          "text": [
            "\u001b[K     |████████████████████████████████| 12.8 MB 9.3 MB/s \n",
            "\u001b[K     |████████████████████████████████| 456 kB 90.9 MB/s \n",
            "\u001b[K     |████████████████████████████████| 9.1 MB 70.6 MB/s \n",
            "\u001b[K     |████████████████████████████████| 1.1 MB 81.1 MB/s \n",
            "\u001b[K     |████████████████████████████████| 165.3 MB 26 kB/s \n",
            "\u001b[K     |████████████████████████████████| 93.4 MB 32 kB/s \n",
            "\u001b[K     |████████████████████████████████| 113 kB 98.8 MB/s \n",
            "\u001b[K     |████████████████████████████████| 1.8 MB 88.0 MB/s \n",
            "\u001b[K     |████████████████████████████████| 977 kB 62.9 MB/s \n",
            "\u001b[K     |████████████████████████████████| 2.9 MB 64.2 MB/s \n",
            "\u001b[?25h  Building wheel for smart-open (setup.py) ... \u001b[?25l\u001b[?25hdone\n",
            "  Building wheel for torchcontrib (setup.py) ... \u001b[?25l\u001b[?25hdone\n"
          ],
          "name": "stdout"
        }
      ]
    },
    {
      "cell_type": "code",
      "metadata": {
        "colab": {
          "base_uri": "https://localhost:8080/"
        },
        "id": "zdyV7cqd9coW",
        "outputId": "3af2e3a0-e5d7-4cc7-9254-9c075a9036a0"
      },
      "source": [
        "!python -m spacy download en_core_web_sm --quiet\n",
        "!python -m spacy download en_core_web_trf --quiet"
      ],
      "execution_count": 9,
      "outputs": [
        {
          "output_type": "stream",
          "text": [
            "2021-04-01 18:56:27.764157: I tensorflow/stream_executor/platform/default/dso_loader.cc:49] Successfully opened dynamic library libcudart.so.11.0\n",
            "\u001b[K     |████████████████████████████████| 13.7 MB 8.4 MB/s \n",
            "\u001b[?25h\u001b[38;5;2m✔ Download and installation successful\u001b[0m\n",
            "You can now load the package via spacy.load('en_core_web_sm')\n",
            "2021-04-01 18:56:35.548482: I tensorflow/stream_executor/platform/default/dso_loader.cc:49] Successfully opened dynamic library libcudart.so.11.0\n",
            "\u001b[K     |████████████████████████████████| 459.7 MB 14 kB/s \n",
            "\u001b[?25h\u001b[38;5;2m✔ Download and installation successful\u001b[0m\n",
            "You can now load the package via spacy.load('en_core_web_trf')\n"
          ],
          "name": "stdout"
        }
      ]
    },
    {
      "cell_type": "code",
      "metadata": {
        "colab": {
          "base_uri": "https://localhost:8080/"
        },
        "id": "3VzqXDlRN-8r",
        "outputId": "885f2d7f-ef65-4ae5-854b-e9266687f8dd"
      },
      "source": [
        "!spacy validate"
      ],
      "execution_count": 10,
      "outputs": [
        {
          "output_type": "stream",
          "text": [
            "2021-04-01 18:57:03.348588: I tensorflow/stream_executor/platform/default/dso_loader.cc:49] Successfully opened dynamic library libcudart.so.11.0\n",
            "\u001b[2K\u001b[38;5;2m✔ Loaded compatibility table\u001b[0m\n",
            "\u001b[1m\n",
            "================= Installed pipeline packages (spaCy v3.0.5) =================\u001b[0m\n",
            "\u001b[38;5;4mℹ spaCy installation: /usr/local/lib/python3.7/dist-packages/spacy\u001b[0m\n",
            "\n",
            "NAME              SPACY            VERSION                            \n",
            "en_core_web_trf   >=3.0.0,<3.1.0   \u001b[38;5;2m3.0.0\u001b[0m   \u001b[38;5;2m✔\u001b[0m\n",
            "en_core_web_sm    >=3.0.0,<3.1.0   \u001b[38;5;2m3.0.0\u001b[0m   \u001b[38;5;2m✔\u001b[0m\n",
            "\n"
          ],
          "name": "stdout"
        }
      ]
    },
    {
      "cell_type": "code",
      "metadata": {
        "id": "3EMx9PeN91l5"
      },
      "source": [
        "!sed -i 's/.cpu()//g' /usr/local/lib/python3.7/dist-packages/allennlp_models/structured_prediction/models/srl_bert.py"
      ],
      "execution_count": 11,
      "outputs": []
    },
    {
      "cell_type": "code",
      "metadata": {
        "colab": {
          "base_uri": "https://localhost:8080/"
        },
        "id": "n_MvYbw7FkBV",
        "outputId": "d0b3ff33-0bfe-41bc-c482-388ac70b5c80"
      },
      "source": [
        "!python crf_target_answer/preprocess.py --samples 10000 --data-folder /content/gdrive/MyDrive/mt-qg-data/01_data/preprocessedData/ --dataset squad --output /content/gdrive/MyDrive/mt-qg-data/00_models/"
      ],
      "execution_count": 12,
      "outputs": [
        {
          "output_type": "stream",
          "text": [
            "2021-04-01 18:57:06.946983: I tensorflow/stream_executor/platform/default/dso_loader.cc:49] Successfully opened dynamic library libcudart.so.11.0\n",
            "/usr/local/lib/python3.7/dist-packages/sklearn/feature_extraction/text.py:17: DeprecationWarning: Using or importing the ABCs from 'collections' instead of from 'collections.abc' is deprecated since Python 3.3,and in 3.9 it will stop working\n",
            "  from collections import Mapping, defaultdict\n",
            "10000\n",
            "/content/gdrive/MyDrive/mt-qg-data/01_data/preprocessedData/\n",
            "[nltk_data] Downloading package punkt to /root/nltk_data...\n",
            "[nltk_data]   Unzipping tokenizers/punkt.zip.\n",
            "[nltk_data] Downloading package wordnet to /root/nltk_data...\n",
            "[nltk_data]   Unzipping corpora/wordnet.zip.\n",
            "Plugin allennlp_models could not be loaded: No module named 'nltk.translate.meteor_score'\n",
            "downloading: 100%|##########| 405972254/405972254 [00:06<00:00, 66321702.61B/s]\n",
            "Downloading: 100% 433/433 [00:00<00:00, 556kB/s]\n",
            "Downloading: 100% 232k/232k [00:00<00:00, 912kB/s]\n",
            "Downloading: 100% 466k/466k [00:00<00:00, 1.49MB/s]\n",
            "Downloading: 100% 440M/440M [00:05<00:00, 75.7MB/s]\n",
            "10000it [26:17,  6.34it/s]\n",
            "2000it [05:17,  6.30it/s]\n"
          ],
          "name": "stdout"
        }
      ]
    },
    {
      "cell_type": "code",
      "metadata": {
        "id": "TExnXa4qF8aJ"
      },
      "source": [
        ""
      ],
      "execution_count": null,
      "outputs": []
    },
    {
      "cell_type": "code",
      "metadata": {
        "id": "nlDRHZoLG-0B",
        "colab": {
          "base_uri": "https://localhost:8080/"
        },
        "outputId": "4823086b-73d4-4657-8682-20ddd66e6f1c"
      },
      "source": [
        "%timeit\n",
        "!python crf_target_answer/parameter_tuning.py --data-folder /content/gdrive/MyDrive/mt-qg-data/01_data/preprocessedData/ --samples 10000 --dataset squad --output /content/gdrive/MyDrive/mt-qg-data/00_models/"
      ],
      "execution_count": null,
      "outputs": [
        {
          "output_type": "stream",
          "text": [
            "2021-03-30 10:07:11.526187: I tensorflow/stream_executor/platform/default/dso_loader.cc:49] Successfully opened dynamic library libcudart.so.11.0\n",
            "/usr/local/lib/python3.7/dist-packages/sklearn/feature_extraction/text.py:17: DeprecationWarning: Using or importing the ABCs from 'collections' instead of from 'collections.abc' is deprecated since Python 3.3,and in 3.9 it will stop working\n",
            "  from collections import Mapping, defaultdict\n",
            "Fitting 5 folds for each of 36 candidates, totalling 180 fits\n",
            "[CV] c1=0.001, c2=0.001 ..............................................\n",
            "[CV] c1=0.001, c2=0.001 ..............................................\n",
            "[CV] c1=0.001, c2=0.001 ..............................................\n",
            "[CV] c1=0.001, c2=0.001 ..............................................\n",
            "[CV]  c1=0.001, c2=0.001, roc_auc=0.6432361656842089, log_loss=0.5833461798894795, total= 1.6min\n",
            "[CV] c1=0.001, c2=0.001 ..............................................\n",
            "[CV]  c1=0.001, c2=0.001, roc_auc=0.6393281618443475, log_loss=0.5600473573474318, total= 1.7min\n",
            "[CV]  c1=0.001, c2=0.001, roc_auc=0.6430462616704705, log_loss=0.572288581021687, total= 1.7min\n",
            "[CV] c1=0.001, c2=0.01 ...............................................\n",
            "[CV]  c1=0.001, c2=0.001, roc_auc=0.6490953308212968, log_loss=0.570522860197029, total= 1.6min\n",
            "[CV] c1=0.001, c2=0.01 ...............................................\n",
            "[CV] c1=0.001, c2=0.01 ...............................................\n",
            "[CV]  c1=0.001, c2=0.001, roc_auc=0.6085208023338464, log_loss=0.8153955402851965, total= 1.8min\n",
            "[Parallel(n_jobs=-1)]: Done   5 tasks      | elapsed:  4.9min\n",
            "[CV] c1=0.001, c2=0.01 ...............................................\n",
            "[CV]  c1=0.001, c2=0.01, roc_auc=0.6501434526012331, log_loss=0.5435662241989393, total= 1.7min\n",
            "[CV] c1=0.001, c2=0.01 ...............................................\n",
            "[CV]  c1=0.001, c2=0.01, roc_auc=0.6455923942432301, log_loss=0.5216621933653526, total= 1.8min\n",
            "[CV]  c1=0.001, c2=0.01, roc_auc=0.6527334552674979, log_loss=0.5293455720532054, total= 1.7min\n",
            "[CV] c1=0.001, c2=0.1 ................................................\n",
            "[CV] c1=0.001, c2=0.1 ................................................\n",
            "[CV]  c1=0.001, c2=0.01, roc_auc=0.6606031666396877, log_loss=0.5179934632015054, total= 1.8min\n",
            "[CV] c1=0.001, c2=0.1 ................................................\n",
            "[CV]  c1=0.001, c2=0.01, roc_auc=0.6171139963363091, log_loss=0.7405984811168093, total= 1.8min\n",
            "[Parallel(n_jobs=-1)]: Done  10 tasks      | elapsed:  7.8min\n",
            "[CV]  c1=0.001, c2=0.1, roc_auc=0.6638382295229255, log_loss=0.4801181671656914, total= 1.7min\n",
            "[CV] c1=0.001, c2=0.1 ................................................\n",
            "[CV] c1=0.001, c2=0.1 ................................................\n",
            "[CV]  c1=0.001, c2=0.1, roc_auc=0.6634602907379323, log_loss=0.4640067382864179, total= 1.7min\n",
            "[CV] c1=0.001, c2=1 ..................................................\n",
            "[CV]  c1=0.001, c2=0.1, roc_auc=0.6660769793047415, log_loss=0.47456502532646055, total= 1.8min\n",
            "[CV] c1=0.001, c2=1 ..................................................\n",
            "[CV]  c1=0.001, c2=0.1, roc_auc=0.6734322997341803, log_loss=0.4645951805155492, total= 1.7min\n",
            "[CV] c1=0.001, c2=1 ..................................................\n",
            "[CV]  c1=0.001, c2=0.1, roc_auc=0.631914707198084, log_loss=0.6419025170585138, total= 1.8min\n",
            "[CV] c1=0.001, c2=1 ..................................................\n",
            "[CV]  c1=0.001, c2=1, roc_auc=0.6869376944957475, log_loss=0.4179471966348193, total= 1.7min\n",
            "[CV] c1=0.001, c2=1 ..................................................\n",
            "[CV]  c1=0.001, c2=1, roc_auc=0.6868788571599983, log_loss=0.40796691514892536, total= 1.7min\n",
            "[Parallel(n_jobs=-1)]: Done  17 tasks      | elapsed: 12.6min\n",
            "[CV] c1=0.001, c2=10 .................................................\n",
            "[CV]  c1=0.001, c2=1, roc_auc=0.6893682190204646, log_loss=0.4131054516137017, total= 1.9min\n",
            "[CV] c1=0.001, c2=10 .................................................\n",
            "[CV]  c1=0.001, c2=1, roc_auc=0.6885658132725008, log_loss=0.4110612055729344, total= 1.8min\n",
            "[CV] c1=0.001, c2=10 .................................................\n",
            "[CV]  c1=0.001, c2=1, roc_auc=0.6551735848590574, log_loss=0.5597785046505492, total= 1.7min\n",
            "[CV] c1=0.001, c2=10 .................................................\n",
            "[CV]  c1=0.001, c2=10, roc_auc=0.7021872870714002, log_loss=0.38404085041713076, total= 1.8min\n",
            "[CV] c1=0.001, c2=10 .................................................\n",
            "[CV]  c1=0.001, c2=10, roc_auc=0.7086827002189862, log_loss=0.37125597656391124, total= 1.7min\n",
            "[CV] c1=0.001, c2=100 ................................................\n",
            "[CV]  c1=0.001, c2=10, roc_auc=0.7075237633036683, log_loss=0.37869158123780566, total= 1.7min\n",
            "[CV] c1=0.001, c2=100 ................................................\n",
            "[CV]  c1=0.001, c2=10, roc_auc=0.7042249173186759, log_loss=0.3758672994619338, total= 1.7min\n",
            "[Parallel(n_jobs=-1)]: Done  24 tasks      | elapsed: 15.9min\n",
            "[CV] c1=0.001, c2=100 ................................................\n",
            "[CV]  c1=0.001, c2=10, roc_auc=0.6755263578940982, log_loss=0.506015521433053, total= 1.9min\n",
            "[CV] c1=0.001, c2=100 ................................................\n",
            "[CV]  c1=0.001, c2=100, roc_auc=0.7100939226303005, log_loss=0.3708859612233011, total= 1.9min\n",
            "[CV]  c1=0.001, c2=100, roc_auc=0.7145921697105121, log_loss=0.35956082042227877, total= 1.8min\n",
            "[CV] c1=0.001, c2=100 ................................................\n",
            "[CV] c1=0.01, c2=0.001 ...............................................\n",
            "[CV]  c1=0.001, c2=100, roc_auc=0.7153557317868358, log_loss=0.364511245515672, total= 1.8min\n",
            "[CV] c1=0.01, c2=0.001 ...............................................\n",
            "[CV]  c1=0.001, c2=100, roc_auc=0.7117656203194924, log_loss=0.3607354946105747, total= 1.8min\n",
            "[CV] c1=0.01, c2=0.001 ...............................................\n",
            "[CV]  c1=0.01, c2=0.001, roc_auc=0.6450496417249294, log_loss=0.5668362230424988, total= 1.7min\n",
            "[CV]  c1=0.001, c2=100, roc_auc=0.6821000390375935, log_loss=0.4880038180679879, total= 1.9min\n",
            "[CV] c1=0.01, c2=0.001 ...............................................\n",
            "[CV]  c1=0.01, c2=0.001, roc_auc=0.6397583922438621, log_loss=0.5417836224546984, total= 1.7min\n",
            "[CV] c1=0.01, c2=0.001 ...............................................\n",
            "[CV] c1=0.01, c2=0.01 ................................................\n",
            "[CV]  c1=0.01, c2=0.001, roc_auc=0.6465874763983546, log_loss=0.5532763252170392, total= 1.7min\n",
            "[Parallel(n_jobs=-1)]: Done  33 tasks      | elapsed: 22.8min\n",
            "[CV] c1=0.01, c2=0.01 ................................................\n",
            "[CV]  c1=0.01, c2=0.001, roc_auc=0.6548393511278018, log_loss=0.538055924938437, total= 1.8min\n",
            "[CV] c1=0.01, c2=0.01 ................................................\n",
            "[CV]  c1=0.01, c2=0.001, roc_auc=0.6112759837732318, log_loss=0.7804722519289313, total= 1.8min\n",
            "[CV] c1=0.01, c2=0.01 ................................................\n",
            "[CV]  c1=0.01, c2=0.01, roc_auc=0.6501051958264443, log_loss=0.53816109295859, total= 1.8min\n",
            "[CV] c1=0.01, c2=0.01 ................................................\n",
            "[CV]  c1=0.01, c2=0.01, roc_auc=0.645281757634355, log_loss=0.5148821835225438, total= 1.8min\n",
            "[CV] c1=0.01, c2=0.1 .................................................\n",
            "[CV]  c1=0.01, c2=0.01, roc_auc=0.6545205699678098, log_loss=0.5168359937937704, total= 1.8min\n",
            "[CV]  c1=0.01, c2=0.01, roc_auc=0.6619773831632149, log_loss=0.5071905233059009, total= 1.8min\n",
            "[CV] c1=0.01, c2=0.1 .................................................\n",
            "[CV]  c1=0.01, c2=0.01, roc_auc=0.6188419440115429, log_loss=0.7287258294291673, total= 1.8min\n",
            "[CV] c1=0.01, c2=0.1 .................................................\n",
            "[CV] c1=0.01, c2=0.1 .................................................\n",
            "[CV]  c1=0.01, c2=0.1, roc_auc=0.6637612363585419, log_loss=0.4790966419903596, total= 1.8min\n",
            "[CV] c1=0.01, c2=0.1 .................................................\n",
            "[CV]  c1=0.01, c2=0.1, roc_auc=0.661533006430837, log_loss=0.4642343971351621, total= 1.7min\n",
            "[Parallel(n_jobs=-1)]: Done  42 tasks      | elapsed: 28.5min\n",
            "[CV] c1=0.01, c2=1 ...................................................\n",
            "[CV]  c1=0.01, c2=0.1, roc_auc=0.6676815188388677, log_loss=0.47084452790348774, total= 1.7min\n",
            "[CV] c1=0.01, c2=1 ...................................................\n",
            "[CV]  c1=0.01, c2=0.1, roc_auc=0.6729832500367222, log_loss=0.4606427127927694, total= 1.8min\n",
            "[CV] c1=0.01, c2=1 ...................................................\n",
            "[CV]  c1=0.01, c2=0.1, roc_auc=0.6325854915773039, log_loss=0.6424143598252674, total= 1.8min\n",
            "[CV] c1=0.01, c2=1 ...................................................\n",
            "[CV]  c1=0.01, c2=1, roc_auc=0.6868070313104349, log_loss=0.41697108561578183, total= 1.8min\n",
            "[CV] c1=0.01, c2=1 ...................................................\n",
            "[CV]  c1=0.01, c2=1, roc_auc=0.6841139231064784, log_loss=0.41015774021384477, total= 1.8min\n",
            "[CV] c1=0.01, c2=10 ..................................................\n",
            "[CV]  c1=0.01, c2=1, roc_auc=0.6898730532855055, log_loss=0.41212905483866547, total= 1.8min\n",
            "[CV] c1=0.01, c2=10 ..................................................\n",
            "[CV]  c1=0.01, c2=1, roc_auc=0.6879665600151603, log_loss=0.41036033269312416, total= 1.8min\n",
            "[CV] c1=0.01, c2=10 ..................................................\n",
            "[CV]  c1=0.01, c2=10, roc_auc=0.7031611280742583, log_loss=0.3831839699629042, total= 1.8min\n",
            "[CV]  c1=0.01, c2=1, roc_auc=0.6552643507174294, log_loss=0.5609858459458792, total= 1.9min\n",
            "[CV] c1=0.01, c2=10 ..................................................\n",
            "[CV] c1=0.01, c2=10 ..................................................\n",
            "[CV]  c1=0.01, c2=10, roc_auc=0.7040588442685699, log_loss=0.37538066485059624, total= 1.8min\n",
            "[CV] c1=0.01, c2=100 .................................................\n",
            "[CV]  c1=0.01, c2=10, roc_auc=0.7068092178664793, log_loss=0.37829739478402036, total= 1.9min\n",
            "[Parallel(n_jobs=-1)]: Done  53 tasks      | elapsed: 35.4min\n",
            "[CV] c1=0.01, c2=100 .................................................\n",
            "[CV]  c1=0.01, c2=10, roc_auc=0.7043351851004875, log_loss=0.3752727111389652, total= 1.8min\n",
            "[CV] c1=0.01, c2=100 .................................................\n",
            "[CV]  c1=0.01, c2=10, roc_auc=0.6745845102322816, log_loss=0.5073101223964214, total= 1.8min\n",
            "[CV] c1=0.01, c2=100 .................................................\n",
            "[CV]  c1=0.01, c2=100, roc_auc=0.7111127574971804, log_loss=0.3701762938705797, total= 1.7min\n",
            "[CV] c1=0.01, c2=100 .................................................\n",
            "[CV]  c1=0.01, c2=100, roc_auc=0.7140770967491026, log_loss=0.3596195555921216, total= 1.9min\n",
            "[CV] c1=0.1, c2=0.001 ................................................\n",
            "[CV]  c1=0.01, c2=100, roc_auc=0.7173804748168912, log_loss=0.3623275221366333, total= 1.8min\n",
            "[CV]  c1=0.01, c2=100, roc_auc=0.7115094319226789, log_loss=0.36042552735765315, total= 1.8min\n",
            "[CV] c1=0.1, c2=0.001 ................................................\n",
            "[CV] c1=0.1, c2=0.001 ................................................\n",
            "[CV]  c1=0.01, c2=100, roc_auc=0.6841296997603377, log_loss=0.4845680997722427, total= 1.7min\n",
            "[CV] c1=0.1, c2=0.001 ................................................\n",
            "[CV]  c1=0.1, c2=0.001, roc_auc=0.6588209040937691, log_loss=0.5047912223513169, total= 1.7min\n",
            "[CV] c1=0.1, c2=0.001 ................................................\n",
            "[CV]  c1=0.1, c2=0.001, roc_auc=0.6535771035408737, log_loss=0.4953065906670176, total= 1.7min\n",
            "[CV] c1=0.1, c2=0.01 .................................................\n",
            "[CV]  c1=0.1, c2=0.001, roc_auc=0.6718027104270333, log_loss=0.4782461330957473, total= 1.6min\n",
            "[CV]  c1=0.1, c2=0.001, roc_auc=0.6623537161872857, log_loss=0.48817744871076735, total= 1.9min\n",
            "[CV] c1=0.1, c2=0.01 .................................................\n",
            "[Parallel(n_jobs=-1)]: Done  64 tasks      | elapsed: 41.8min\n",
            "[CV] c1=0.1, c2=0.01 .................................................\n",
            "[CV]  c1=0.1, c2=0.001, roc_auc=0.6286280666147123, log_loss=0.6667440162496587, total= 1.9min\n",
            "[CV] c1=0.1, c2=0.01 .................................................\n",
            "[CV]  c1=0.1, c2=0.01, roc_auc=0.6610336988041873, log_loss=0.49546135380586137, total= 1.7min\n",
            "[CV] c1=0.1, c2=0.01 .................................................\n",
            "[CV]  c1=0.1, c2=0.01, roc_auc=0.6581746413783156, log_loss=0.48366975743957735, total= 1.7min\n",
            "[CV] c1=0.1, c2=0.1 ..................................................\n",
            "[CV]  c1=0.1, c2=0.01, roc_auc=0.6628991322811429, log_loss=0.49037077319624967, total= 1.7min\n",
            "[CV] c1=0.1, c2=0.1 ..................................................\n"
          ],
          "name": "stdout"
        }
      ]
    },
    {
      "cell_type": "code",
      "metadata": {
        "id": "unPmdssg3iq1"
      },
      "source": [
        ""
      ],
      "execution_count": null,
      "outputs": []
    }
  ]
}