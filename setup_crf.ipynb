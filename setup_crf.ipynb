{
  "nbformat": 4,
  "nbformat_minor": 0,
  "metadata": {
    "colab": {
      "name": "setup_crf.ipynb",
      "provenance": [],
      "collapsed_sections": [],
      "machine_shape": "hm",
      "authorship_tag": "ABX9TyOfeGlG/YrfVlGJPHnl5LVf",
      "include_colab_link": true
    },
    "kernelspec": {
      "name": "python3",
      "display_name": "Python 3"
    },
    "language_info": {
      "name": "python"
    },
    "accelerator": "GPU"
  },
  "cells": [
    {
      "cell_type": "markdown",
      "metadata": {
        "id": "view-in-github",
        "colab_type": "text"
      },
      "source": [
        "<a href=\"https://colab.research.google.com/github/soerenetler/crf_target_answer/blob/main/setup_crf.ipynb\" target=\"_parent\"><img src=\"https://colab.research.google.com/assets/colab-badge.svg\" alt=\"Open In Colab\"/></a>"
      ]
    },
    {
      "cell_type": "code",
      "metadata": {
        "colab": {
          "base_uri": "https://localhost:8080/"
        },
        "id": "oNcMK4O0_c_K",
        "outputId": "2450d714-201c-4c95-fcf0-d0d3d738239a"
      },
      "source": [
        "import os\n",
        "os.system(\"git clone https://github.com/soerenetler/squad-question-generation.git\")\n",
        "os.system(\"git clone https://github.com/soerenetler/spacy_target_answer.git\")\n",
        "os.system(\"git clone https://github.com/soerenetler/crf_target_answer.git\")\n",
        "\n",
        "from google.colab import drive\n",
        "drive.mount('/content/gdrive')"
      ],
      "execution_count": 10,
      "outputs": [
        {
          "output_type": "stream",
          "text": [
            "Drive already mounted at /content/gdrive; to attempt to forcibly remount, call drive.mount(\"/content/gdrive\", force_remount=True).\n"
          ],
          "name": "stdout"
        }
      ]
    },
    {
      "cell_type": "code",
      "metadata": {
        "colab": {
          "base_uri": "https://localhost:8080/"
        },
        "id": "QENe59M_AlrZ",
        "outputId": "59163bdf-0e3a-4ed5-9c0d-179a6c4e88ad"
      },
      "source": [
        "!(cd squad-question-generation/; git pull)\n",
        "!(cd crf_target_answer/; git pull)"
      ],
      "execution_count": 37,
      "outputs": [
        {
          "output_type": "stream",
          "text": [
            "Already up to date.\n",
            "remote: Enumerating objects: 9, done.\u001b[K\n",
            "remote: Counting objects: 100% (9/9), done.\u001b[K\n",
            "remote: Compressing objects: 100% (2/2), done.\u001b[K\n",
            "remote: Total 6 (delta 4), reused 6 (delta 4), pack-reused 0\u001b[K\n",
            "Unpacking objects: 100% (6/6), done.\n",
            "From https://github.com/soerenetler/crf_target_answer\n",
            "   0ea2169..4fadf7f  main       -> origin/main\n",
            "Updating 0ea2169..4fadf7f\n",
            "Fast-forward\n",
            " FeatureTransformer.py |  35 \u001b[31m-------------\u001b[m\n",
            " ngrams.py             | 136 \u001b[31m--------------------------------------------------\u001b[m\n",
            " parameter_tuning.py   |   1 \u001b[32m+\u001b[m\n",
            " 3 files changed, 1 insertion(+), 171 deletions(-)\n",
            " delete mode 100644 ngrams.py\n"
          ],
          "name": "stdout"
        }
      ]
    },
    {
      "cell_type": "code",
      "metadata": {
        "colab": {
          "base_uri": "https://localhost:8080/"
        },
        "id": "QUgfEI1dGAWX",
        "outputId": "53b0f790-159d-4a82-cca6-c00ffb3bafbd"
      },
      "source": [
        "!pip install -r crf_target_answer/requirements.txt --quiet"
      ],
      "execution_count": 12,
      "outputs": [
        {
          "output_type": "stream",
          "text": [
            "\u001b[?25l\r\u001b[K     |███                             | 10 kB 31.3 MB/s eta 0:00:01\r\u001b[K     |██████▏                         | 20 kB 41.3 MB/s eta 0:00:01\r\u001b[K     |█████████▎                      | 30 kB 25.8 MB/s eta 0:00:01\r\u001b[K     |████████████▍                   | 40 kB 19.4 MB/s eta 0:00:01\r\u001b[K     |███████████████▌                | 51 kB 16.4 MB/s eta 0:00:01\r\u001b[K     |██████████████████▋             | 61 kB 14.6 MB/s eta 0:00:01\r\u001b[K     |█████████████████████▊          | 71 kB 16.4 MB/s eta 0:00:01\r\u001b[K     |████████████████████████▊       | 81 kB 15.9 MB/s eta 0:00:01\r\u001b[K     |███████████████████████████▉    | 92 kB 14.7 MB/s eta 0:00:01\r\u001b[K     |███████████████████████████████ | 102 kB 16.0 MB/s eta 0:00:01\r\u001b[K     |████████████████████████████████| 105 kB 16.0 MB/s \n",
            "\u001b[?25h"
          ],
          "name": "stdout"
        }
      ]
    },
    {
      "cell_type": "code",
      "metadata": {
        "colab": {
          "base_uri": "https://localhost:8080/"
        },
        "id": "xKz4bJjXHvIM",
        "outputId": "68b2b836-ee12-4a1b-da97-b3f9c60bf5a8"
      },
      "source": [
        "!pip install allennlp allennlp-models -U --quiet"
      ],
      "execution_count": 13,
      "outputs": [
        {
          "output_type": "stream",
          "text": [
            "\u001b[?25l\r\u001b[K     |██▏                             | 10 kB 31.2 MB/s eta 0:00:01\r\u001b[K     |████▎                           | 20 kB 38.9 MB/s eta 0:00:01\r\u001b[K     |██████▍                         | 30 kB 26.1 MB/s eta 0:00:01\r\u001b[K     |████████▌                       | 40 kB 17.9 MB/s eta 0:00:01\r\u001b[K     |██████████▊                     | 51 kB 16.1 MB/s eta 0:00:01\r\u001b[K     |████████████▉                   | 61 kB 14.3 MB/s eta 0:00:01\r\u001b[K     |███████████████                 | 71 kB 15.9 MB/s eta 0:00:01\r\u001b[K     |█████████████████               | 81 kB 16.0 MB/s eta 0:00:01\r\u001b[K     |███████████████████▎            | 92 kB 14.3 MB/s eta 0:00:01\r\u001b[K     |█████████████████████▍          | 102 kB 13.0 MB/s eta 0:00:01\r\u001b[K     |███████████████████████▌        | 112 kB 13.0 MB/s eta 0:00:01\r\u001b[K     |█████████████████████████▋      | 122 kB 13.0 MB/s eta 0:00:01\r\u001b[K     |███████████████████████████▉    | 133 kB 13.0 MB/s eta 0:00:01\r\u001b[K     |██████████████████████████████  | 143 kB 13.0 MB/s eta 0:00:01\r\u001b[K     |████████████████████████████████| 153 kB 13.0 MB/s \n",
            "\u001b[?25h\u001b[?25l\r\u001b[K     |██▋                             | 10 kB 35.8 MB/s eta 0:00:01\r\u001b[K     |█████▏                          | 20 kB 43.2 MB/s eta 0:00:01\r\u001b[K     |███████▊                        | 30 kB 49.2 MB/s eta 0:00:01\r\u001b[K     |██████████▎                     | 40 kB 47.2 MB/s eta 0:00:01\r\u001b[K     |████████████▉                   | 51 kB 30.6 MB/s eta 0:00:01\r\u001b[K     |███████████████▍                | 61 kB 33.7 MB/s eta 0:00:01\r\u001b[K     |██████████████████              | 71 kB 19.6 MB/s eta 0:00:01\r\u001b[K     |████████████████████▌           | 81 kB 21.2 MB/s eta 0:00:01\r\u001b[K     |███████████████████████         | 92 kB 20.3 MB/s eta 0:00:01\r\u001b[K     |█████████████████████████▋      | 102 kB 21.8 MB/s eta 0:00:01\r\u001b[K     |████████████████████████████▏   | 112 kB 21.8 MB/s eta 0:00:01\r\u001b[K     |██████████████████████████████▊ | 122 kB 21.8 MB/s eta 0:00:01\r\u001b[K     |████████████████████████████████| 127 kB 21.8 MB/s \n",
            "\u001b[31mERROR: pip's dependency resolver does not currently take into account all the packages that are installed. This behaviour is the source of the following dependency conflicts.\n",
            "datascience 0.10.6 requires folium==0.2.1, but you have folium 0.8.3 which is incompatible.\u001b[0m\n",
            "\u001b[?25h"
          ],
          "name": "stdout"
        }
      ]
    },
    {
      "cell_type": "code",
      "metadata": {
        "id": "g3x5DKJ-N5En"
      },
      "source": [
        "!pip install --quiet -U pip setuptools wheel"
      ],
      "execution_count": 14,
      "outputs": []
    },
    {
      "cell_type": "code",
      "metadata": {
        "id": "XHoJyGkb9ZyA"
      },
      "source": [
        "!pip install --quiet -U spacy[cuda110,transformers,lookups]"
      ],
      "execution_count": 15,
      "outputs": []
    },
    {
      "cell_type": "code",
      "metadata": {
        "colab": {
          "base_uri": "https://localhost:8080/"
        },
        "id": "zdyV7cqd9coW",
        "outputId": "f1d184b5-562f-47a4-9f80-e105d1941a0a"
      },
      "source": [
        "!python -m spacy download en_core_web_sm --quiet\n",
        "!python -m spacy download en_core_web_trf --quiet"
      ],
      "execution_count": 16,
      "outputs": [
        {
          "output_type": "stream",
          "text": [
            "2021-03-28 12:45:07.871744: I tensorflow/stream_executor/platform/default/dso_loader.cc:49] Successfully opened dynamic library libcudart.so.11.0\n",
            "\u001b[K     |████████████████████████████████| 13.7 MB 14.7 MB/s \n",
            "\u001b[?25h\u001b[38;5;2m✔ Download and installation successful\u001b[0m\n",
            "You can now load the package via spacy.load('en_core_web_sm')\n",
            "2021-03-28 12:45:15.639423: I tensorflow/stream_executor/platform/default/dso_loader.cc:49] Successfully opened dynamic library libcudart.so.11.0\n",
            "\u001b[K     |████████████████████████████████| 459.7 MB 15 kB/s \n",
            "\u001b[?25h\u001b[38;5;2m✔ Download and installation successful\u001b[0m\n",
            "You can now load the package via spacy.load('en_core_web_trf')\n"
          ],
          "name": "stdout"
        }
      ]
    },
    {
      "cell_type": "code",
      "metadata": {
        "colab": {
          "base_uri": "https://localhost:8080/"
        },
        "id": "3VzqXDlRN-8r",
        "outputId": "6f03b6fe-ec41-46ab-df80-39172ad1c51c"
      },
      "source": [
        "!spacy validate"
      ],
      "execution_count": 17,
      "outputs": [
        {
          "output_type": "stream",
          "text": [
            "2021-03-28 12:45:41.416010: I tensorflow/stream_executor/platform/default/dso_loader.cc:49] Successfully opened dynamic library libcudart.so.11.0\n",
            "\u001b[2K\u001b[38;5;2m✔ Loaded compatibility table\u001b[0m\n",
            "\u001b[1m\n",
            "================= Installed pipeline packages (spaCy v3.0.5) =================\u001b[0m\n",
            "\u001b[38;5;4mℹ spaCy installation: /usr/local/lib/python3.7/dist-packages/spacy\u001b[0m\n",
            "\n",
            "NAME              SPACY            VERSION                            \n",
            "en_core_web_trf   >=3.0.0,<3.1.0   \u001b[38;5;2m3.0.0\u001b[0m   \u001b[38;5;2m✔\u001b[0m\n",
            "en_core_web_sm    >=3.0.0,<3.1.0   \u001b[38;5;2m3.0.0\u001b[0m   \u001b[38;5;2m✔\u001b[0m\n",
            "\n"
          ],
          "name": "stdout"
        }
      ]
    },
    {
      "cell_type": "code",
      "metadata": {
        "id": "3EMx9PeN91l5"
      },
      "source": [
        "!sed -i 's/.cpu()//g' /usr/local/lib/python3.7/dist-packages/allennlp_models/structured_prediction/models/srl_bert.py"
      ],
      "execution_count": 18,
      "outputs": []
    },
    {
      "cell_type": "code",
      "metadata": {
        "colab": {
          "base_uri": "https://localhost:8080/"
        },
        "id": "n_MvYbw7FkBV",
        "outputId": "1c96b348-81d4-48ba-90e6-acd2d0523e95"
      },
      "source": [
        "!python crf_target_answer/preprocess.py --data-folder /content/gdrive/MyDrive/mt-qg-data/01_data/preprocessedData/ --dataset squad --output /content/gdrive/MyDrive/mt-qg-data/00_models/"
      ],
      "execution_count": null,
      "outputs": [
        {
          "output_type": "stream",
          "text": [
            "2021-03-27 18:40:02.735908: I tensorflow/stream_executor/platform/default/dso_loader.cc:49] Successfully opened dynamic library libcudart.so.11.0\n",
            "/usr/local/lib/python3.7/dist-packages/sklearn/feature_extraction/text.py:17: DeprecationWarning: Using or importing the ABCs from 'collections' instead of from 'collections.abc' is deprecated since Python 3.3,and in 3.9 it will stop working\n",
            "  from collections import Mapping, defaultdict\n",
            "None\n",
            "/content/gdrive/MyDrive/mt-qg-data/01_data/preprocessedData/\n",
            "Plugin allennlp_models could not be loaded: No module named 'nltk.translate.meteor_score'\n",
            "74099it [08:20, 148.01it/s]\n",
            "57107it [4:19:45, 72.22s/it]"
          ],
          "name": "stdout"
        }
      ]
    },
    {
      "cell_type": "code",
      "metadata": {
        "id": "TExnXa4qF8aJ"
      },
      "source": [
        ""
      ],
      "execution_count": null,
      "outputs": []
    },
    {
      "cell_type": "code",
      "metadata": {
        "id": "nlDRHZoLG-0B",
        "colab": {
          "base_uri": "https://localhost:8080/"
        },
        "outputId": "61ec68a1-f004-4568-9912-c2ab9da1b8f1"
      },
      "source": [
        "%timeit\n",
        "!python crf_target_answer/parameter_tuning.py --data-folder /content/gdrive/MyDrive/mt-qg-data/01_data/preprocessedData/ --samples 100 --dataset quac --output /content/gdrive/MyDrive/mt-qg-data/00_models/"
      ],
      "execution_count": 38,
      "outputs": [
        {
          "output_type": "stream",
          "text": [
            "2021-03-28 13:07:05.954638: I tensorflow/stream_executor/platform/default/dso_loader.cc:49] Successfully opened dynamic library libcudart.so.11.0\n",
            "/usr/local/lib/python3.7/dist-packages/sklearn/feature_extraction/text.py:17: DeprecationWarning: Using or importing the ABCs from 'collections' instead of from 'collections.abc' is deprecated since Python 3.3,and in 3.9 it will stop working\n",
            "  from collections import Mapping, defaultdict\n",
            "Fitting 5 folds for each of 36 candidates, totalling 180 fits\n",
            "[CV] c1=0.001, c2=0.001 ..............................................\n",
            "[CV] c1=0.001, c2=0.001 ..............................................\n",
            "[CV] c1=0.001, c2=0.001 ..............................................\n",
            "[CV] c1=0.001, c2=0.001 ..............................................\n",
            "[CV]  c1=0.001, c2=0.001, roc_auc=0.6383741277169903, log_loss=1.0352805135006997, total=   0.8s\n",
            "[CV]  c1=0.001, c2=0.001, roc_auc=0.3347744774477448, log_loss=4.406243608358026, total=   0.7s\n",
            "[CV] c1=0.001, c2=0.001 ..............................................\n",
            "[CV] c1=0.001, c2=0.01 ...............................................\n",
            "[CV]  c1=0.001, c2=0.001, roc_auc=0.36451851070562175, log_loss=2.562774196619591, total=   0.8s\n",
            "[CV]  c1=0.001, c2=0.001, roc_auc=0.5098007246376812, log_loss=1.302858413324401, total=   0.7s\n",
            "[CV] c1=0.001, c2=0.01 ...............................................\n",
            "[CV] c1=0.001, c2=0.01 ...............................................\n",
            "[CV]  c1=0.001, c2=0.001, roc_auc=0.42422626897499927, log_loss=2.8425868028189476, total=   0.8s\n",
            "[Parallel(n_jobs=-1)]: Done   5 tasks      | elapsed:    2.3s\n",
            "[CV]  c1=0.001, c2=0.01, roc_auc=0.6403137056479666, log_loss=0.8557266233743336, total=   0.8s\n",
            "[CV]  c1=0.001, c2=0.01, roc_auc=0.3473267326732673, log_loss=3.801960990271122, total=   0.7s\n",
            "[CV] c1=0.001, c2=0.01 ...............................................\n",
            "[CV] c1=0.001, c2=0.01 ...............................................\n",
            "[CV]  c1=0.001, c2=0.01, roc_auc=0.3722783913692046, log_loss=2.313579151859484, total=   0.7s\n",
            "[CV] c1=0.001, c2=0.1 ................................................\n",
            "[CV] c1=0.001, c2=0.1 ................................................\n",
            "[CV]  c1=0.001, c2=0.01, roc_auc=0.41105072463768116, log_loss=1.5952798519657387, total=   0.8s\n",
            "[CV]  c1=0.001, c2=0.01, roc_auc=0.3928561407446898, log_loss=2.4966944991387745, total=   0.8s\n",
            "[Parallel(n_jobs=-1)]: Done  10 tasks      | elapsed:    3.6s\n",
            "[CV] c1=0.001, c2=0.1 ................................................\n",
            "[CV]  c1=0.001, c2=0.1, roc_auc=0.6625134400101196, log_loss=0.7976798182081468, total=   0.8s\n",
            "[CV] c1=0.001, c2=0.1 ................................................\n",
            "[CV] c1=0.001, c2=0.1 ................................................\n",
            "[CV]  c1=0.001, c2=0.1, roc_auc=0.3884268426842684, log_loss=2.7790774411957146, total=   0.8s\n",
            "[CV] c1=0.001, c2=1 ..................................................\n",
            "[CV]  c1=0.001, c2=0.1, roc_auc=0.44782608695652176, log_loss=1.0341487354628767, total=   0.8s\n",
            "[CV]  c1=0.001, c2=0.1, roc_auc=0.4206910060722949, log_loss=1.6984095458409716, total=   0.9s\n",
            "[CV]  c1=0.001, c2=0.1, roc_auc=0.4010353825864923, log_loss=1.8217523124408657, total=   0.8s\n",
            "[CV] c1=0.001, c2=1 ..................................................\n",
            "[CV] c1=0.001, c2=1 ..................................................\n",
            "[CV] c1=0.001, c2=1 ..................................................\n",
            "[CV]  c1=0.001, c2=1, roc_auc=0.6460902747032657, log_loss=0.5389823576242938, total=   0.8s\n",
            "[CV] c1=0.001, c2=1 ..................................................\n",
            "[CV]  c1=0.001, c2=1, roc_auc=0.35247524752475246, log_loss=1.734364406239904, total=   0.8s\n",
            "[Parallel(n_jobs=-1)]: Done  17 tasks      | elapsed:    6.0s\n",
            "[CV] c1=0.001, c2=10 .................................................\n",
            "[CV]  c1=0.001, c2=1, roc_auc=0.4346437235373002, log_loss=1.1837235281768688, total=   0.8s\n",
            "[CV]  c1=0.001, c2=1, roc_auc=0.3728985507246377, log_loss=0.6925757650933353, total=   0.8s\n",
            "[CV] c1=0.001, c2=10 .................................................\n",
            "[CV] c1=0.001, c2=10 .................................................\n",
            "[CV]  c1=0.001, c2=1, roc_auc=0.35236678919161596, log_loss=1.5524361714893256, total=   0.8s\n",
            "[CV] c1=0.001, c2=10 .................................................\n",
            "[CV]  c1=0.001, c2=10, roc_auc=0.7108131469651929, log_loss=0.41549351023610315, total=   0.8s\n",
            "[CV] c1=0.001, c2=10 .................................................\n",
            "[CV]  c1=0.001, c2=10, roc_auc=0.4713637801919629, log_loss=0.7922666193936335, total=   0.8s\n",
            "[CV]  c1=0.001, c2=10, roc_auc=0.34030803080308036, log_loss=1.187910516848634, total=   1.0s\n",
            "[CV] c1=0.001, c2=100 ................................................\n",
            "[CV]  c1=0.001, c2=10, roc_auc=0.31271739130434784, log_loss=0.5327800370743067, total=   0.8s\n",
            "[CV] c1=0.001, c2=100 ................................................\n",
            "[Parallel(n_jobs=-1)]: Done  24 tasks      | elapsed:    7.5s\n",
            "[CV] c1=0.001, c2=100 ................................................\n",
            "[CV]  c1=0.001, c2=10, roc_auc=0.31128819551614806, log_loss=1.119951350441447, total=   0.8s\n",
            "[CV] c1=0.001, c2=100 ................................................\n",
            "[CV]  c1=0.001, c2=100, roc_auc=0.3423322332233223, log_loss=0.7545591171204533, total=   0.8s\n",
            "[CV] c1=0.001, c2=100 ................................................\n",
            "[CV]  c1=0.001, c2=100, roc_auc=0.5776779878987203, log_loss=0.44780649482293605, total=   1.0s\n",
            "[CV]  c1=0.001, c2=100, roc_auc=0.37402624798469114, log_loss=0.5833918414191479, total=   0.9s\n",
            "[CV] c1=0.01, c2=0.001 ...............................................\n",
            "[CV] c1=0.01, c2=0.001 ...............................................\n",
            "[CV]  c1=0.001, c2=100, roc_auc=0.37565217391304345, log_loss=0.43591470909122726, total=   0.8s\n",
            "[CV] c1=0.01, c2=0.001 ...............................................\n",
            "[CV]  c1=0.001, c2=100, roc_auc=0.33294985830129914, log_loss=0.7212091186155764, total=   0.9s\n",
            "[CV]  c1=0.01, c2=0.001, roc_auc=0.5956401661290662, log_loss=0.9815626764567302, total=   0.8s\n",
            "[CV] c1=0.01, c2=0.001 ...............................................\n",
            "[CV]  c1=0.01, c2=0.001, roc_auc=0.37227722772277233, log_loss=4.066622717546738, total=   0.8s\n",
            "[CV] c1=0.01, c2=0.001 ...............................................\n",
            "[CV] c1=0.01, c2=0.01 ................................................\n",
            "[CV]  c1=0.01, c2=0.001, roc_auc=0.3902391248662738, log_loss=2.274761437411659, total=   0.8s\n",
            "[Parallel(n_jobs=-1)]: Done  33 tasks      | elapsed:   10.9s\n",
            "[CV] c1=0.01, c2=0.01 ................................................\n",
            "[CV]  c1=0.01, c2=0.001, roc_auc=0.4342572463768116, log_loss=1.725105980196053, total=   0.8s\n",
            "[CV]  c1=0.01, c2=0.001, roc_auc=0.42210780324924946, log_loss=2.5986192318509773, total=   0.8s\n",
            "[CV] c1=0.01, c2=0.01 ................................................\n",
            "[CV] c1=0.01, c2=0.01 ................................................\n",
            "[CV]  c1=0.01, c2=0.01, roc_auc=0.6132650264583728, log_loss=0.9110634143210029, total=   0.8s\n",
            "[CV] c1=0.01, c2=0.01 ................................................\n",
            "[CV]  c1=0.01, c2=0.01, roc_auc=0.370990099009901, log_loss=3.365798142444795, total=   0.8s\n",
            "[CV] c1=0.01, c2=0.1 .................................................\n",
            "[CV]  c1=0.01, c2=0.01, roc_auc=0.5384601449275362, log_loss=1.5747273435581628, total=   0.8s\n",
            "[CV]  c1=0.01, c2=0.01, roc_auc=0.3813642322238462, log_loss=2.145133855966571, total=   0.8s\n",
            "[CV] c1=0.01, c2=0.1 .................................................\n",
            "[CV] c1=0.01, c2=0.1 .................................................\n",
            "[CV]  c1=0.01, c2=0.01, roc_auc=0.41503689778052133, log_loss=2.3483077186128027, total=   0.8s\n",
            "[CV] c1=0.01, c2=0.1 .................................................\n",
            "[CV]  c1=0.01, c2=0.1, roc_auc=0.654881622499104, log_loss=0.7374182812373652, total=   0.9s\n",
            "[CV] c1=0.01, c2=0.1 .................................................\n",
            "[CV]  c1=0.01, c2=0.1, roc_auc=0.37918591859185924, log_loss=2.57594308560891, total=   0.8s\n",
            "[Parallel(n_jobs=-1)]: Done  42 tasks      | elapsed:   13.6s\n",
            "[CV] c1=0.01, c2=1 ...................................................\n",
            "[CV]  c1=0.01, c2=0.1, roc_auc=0.3968086549037925, log_loss=1.7367614245526908, total=   0.9s\n",
            "[CV]  c1=0.01, c2=0.1, roc_auc=0.4368840579710145, log_loss=1.025748147281639, total=   0.8s\n",
            "[CV] c1=0.01, c2=1 ...................................................\n",
            "[CV] c1=0.01, c2=1 ...................................................\n",
            "[CV]  c1=0.01, c2=0.1, roc_auc=0.3874547546227447, log_loss=2.0270433529494594, total=   0.8s\n",
            "[CV] c1=0.01, c2=1 ...................................................\n",
            "[CV]  c1=0.01, c2=1, roc_auc=0.642253283578943, log_loss=0.6128535514379096, total=   0.8s\n",
            "[CV] c1=0.01, c2=1 ...................................................\n",
            "[CV]  c1=0.01, c2=1, roc_auc=0.356952695269527, log_loss=1.7734930256481354, total=   0.8s\n",
            "[CV] c1=0.01, c2=10 ..................................................\n",
            "[CV]  c1=0.01, c2=1, roc_auc=0.4413337954103696, log_loss=1.0829818017313049, total=   0.8s\n",
            "[CV] c1=0.01, c2=10 ..................................................\n",
            "[CV]  c1=0.01, c2=1, roc_auc=0.4598188405797101, log_loss=0.6947069971761286, total=   0.8s\n",
            "[CV] c1=0.01, c2=10 ..................................................\n",
            "[CV]  c1=0.01, c2=1, roc_auc=0.34992564325598363, log_loss=1.559560470489464, total=   0.8s\n",
            "[CV] c1=0.01, c2=10 ..................................................\n",
            "[CV]  c1=0.01, c2=10, roc_auc=0.7072502266354648, log_loss=0.41960455359178706, total=   0.9s\n",
            "[CV] c1=0.01, c2=10 ..................................................\n",
            "[CV]  c1=0.01, c2=10, roc_auc=0.3418151815181518, log_loss=1.1890061913861534, total=   0.9s\n",
            "[CV] c1=0.01, c2=100 .................................................\n",
            "[CV]  c1=0.01, c2=10, roc_auc=0.4784305453011286, log_loss=0.7831128906834145, total=   0.9s\n",
            "[Parallel(n_jobs=-1)]: Done  53 tasks      | elapsed:   17.1s\n",
            "[CV] c1=0.01, c2=100 .................................................\n",
            "[CV]  c1=0.01, c2=10, roc_auc=0.30715579710144925, log_loss=0.5413853727008784, total=   0.9s\n",
            "[CV] c1=0.01, c2=100 .................................................\n",
            "[CV]  c1=0.01, c2=10, roc_auc=0.3124105614635652, log_loss=1.138163523467964, total=   0.8s\n",
            "[CV] c1=0.01, c2=100 .................................................\n",
            "[CV]  c1=0.01, c2=100, roc_auc=0.5770665992030864, log_loss=0.4483322634616951, total=   0.9s\n",
            "[CV] c1=0.01, c2=100 .................................................\n",
            "[CV]  c1=0.01, c2=100, roc_auc=0.34229922992299233, log_loss=0.7543229568558145, total=   0.9s\n",
            "[CV] c1=0.1, c2=0.001 ................................................\n",
            "[CV]  c1=0.01, c2=100, roc_auc=0.3716455467325629, log_loss=0.5835337461577462, total=   0.9s\n",
            "[CV] c1=0.1, c2=0.001 ................................................\n",
            "[CV]  c1=0.01, c2=100, roc_auc=0.37278985507246376, log_loss=0.43584460509381057, total=   0.9s\n",
            "[CV] c1=0.1, c2=0.001 ................................................\n",
            "[CV]  c1=0.01, c2=100, roc_auc=0.3345632593507113, log_loss=0.7171010103877079, total=   0.8s\n",
            "[CV] c1=0.1, c2=0.001 ................................................\n",
            "[CV]  c1=0.1, c2=0.001, roc_auc=0.7085784158708073, log_loss=0.7593876138404484, total=   0.8s\n",
            "[CV] c1=0.1, c2=0.001 ................................................\n",
            "[CV]  c1=0.1, c2=0.001, roc_auc=0.3574587458745875, log_loss=3.123257980444113, total=   0.8s\n",
            "[CV] c1=0.1, c2=0.01 .................................................\n",
            "[CV]  c1=0.1, c2=0.001, roc_auc=0.4802537405638344, log_loss=1.7619181613872326, total=   0.8s\n",
            "[CV] c1=0.1, c2=0.01 .................................................\n",
            "[CV]  c1=0.1, c2=0.001, roc_auc=0.4183514492753624, log_loss=1.0897518532195913, total=   0.7s\n",
            "[Parallel(n_jobs=-1)]: Done  64 tasks      | elapsed:   20.1s\n",
            "[CV] c1=0.1, c2=0.01 .................................................\n",
            "[CV]  c1=0.1, c2=0.001, roc_auc=0.3999691349364461, log_loss=1.9639095598002718, total=   0.8s\n",
            "[CV] c1=0.1, c2=0.01 .................................................\n",
            "[CV]  c1=0.1, c2=0.01, roc_auc=0.6562941412097064, log_loss=0.7066143583054972, total=   0.8s\n",
            "[CV] c1=0.1, c2=0.01 .................................................\n",
            "[CV]  c1=0.1, c2=0.01, roc_auc=0.3528932893289329, log_loss=2.8284110437130794, total=   0.8s\n",
            "[CV] c1=0.1, c2=0.1 ..................................................\n",
            "[CV]  c1=0.1, c2=0.01, roc_auc=0.42231832085223076, log_loss=1.9867272672866103, total=   0.8s\n",
            "[CV] c1=0.1, c2=0.1 ..................................................\n",
            "[CV]  c1=0.1, c2=0.01, roc_auc=0.3633876811594203, log_loss=1.164346857549567, total=   0.8s\n",
            "[CV] c1=0.1, c2=0.1 ..................................................\n",
            "[CV]  c1=0.1, c2=0.01, roc_auc=0.39298240691377423, log_loss=1.8049448669115122, total=   0.8s\n",
            "[CV] c1=0.1, c2=0.1 ..................................................\n",
            "[CV]  c1=0.1, c2=0.1, roc_auc=0.6254295532646048, log_loss=0.7140752542764929, total=   0.8s\n",
            "[CV]  c1=0.1, c2=0.1, roc_auc=0.3807810781078108, log_loss=2.2824636696582097, total=   0.8s\n",
            "[CV] c1=0.1, c2=0.1 ..................................................\n",
            "[CV] c1=0.1, c2=1 ....................................................\n",
            "[CV]  c1=0.1, c2=0.1, roc_auc=0.36792381755993186, log_loss=1.6984967298956497, total=   0.8s\n",
            "[CV] c1=0.1, c2=1 ....................................................\n",
            "[CV]  c1=0.1, c2=0.1, roc_auc=0.466195652173913, log_loss=0.8552873607470725, total=   0.8s\n",
            "[CV]  c1=0.1, c2=0.1, roc_auc=0.4098038665506888, log_loss=1.8711895297133248, total=   0.8s\n",
            "[CV] c1=0.1, c2=1 ....................................................\n",
            "[CV] c1=0.1, c2=1 ....................................................\n",
            "[CV]  c1=0.1, c2=1, roc_auc=0.6393228343136634, log_loss=0.5330741858318419, total=   0.8s\n",
            "[CV] c1=0.1, c2=1 ....................................................\n",
            "[CV]  c1=0.1, c2=1, roc_auc=0.35874587458745877, log_loss=1.7377898645219232, total=   0.8s\n",
            "[Parallel(n_jobs=-1)]: Done  77 tasks      | elapsed:   24.2s\n",
            "[CV] c1=0.1, c2=10 ...................................................\n",
            "[CV]  c1=0.1, c2=1, roc_auc=0.4181596275257282, log_loss=1.1558394804824002, total=   0.9s\n",
            "[CV]  c1=0.1, c2=1, roc_auc=0.3905253623188406, log_loss=0.6751394222789584, total=   0.9s\n",
            "[CV]  c1=0.1, c2=1, roc_auc=0.3481158281657734, log_loss=1.5490997762904095, total=   0.8s\n",
            "[CV] c1=0.1, c2=10 ...................................................\n",
            "[CV] c1=0.1, c2=10 ...................................................\n",
            "[CV] c1=0.1, c2=10 ...................................................\n",
            "[CV]  c1=0.1, c2=10, roc_auc=0.7298083612674722, log_loss=0.4140810044747118, total=   0.8s\n",
            "[CV] c1=0.1, c2=10 ...................................................\n",
            "[CV]  c1=0.1, c2=10, roc_auc=0.46111772417014474, log_loss=0.8056095948139037, total=   0.8s\n",
            "[CV]  c1=0.1, c2=10, roc_auc=0.34035203520352036, log_loss=1.1566197254837725, total=   0.9s\n",
            "[CV] c1=0.1, c2=100 ..................................................\n",
            "[CV]  c1=0.1, c2=10, roc_auc=0.335036231884058, log_loss=0.5292766267052816, total=   0.8s\n",
            "[CV] c1=0.1, c2=100 ..................................................\n",
            "[CV] c1=0.1, c2=100 ..................................................\n",
            "[CV]  c1=0.1, c2=10, roc_auc=0.31751732652431325, log_loss=1.0629741265195591, total=   0.9s\n",
            "[CV] c1=0.1, c2=100 ..................................................\n",
            "[CV]  c1=0.1, c2=100, roc_auc=0.34228822882288223, log_loss=0.7536860394292245, total=   0.8s\n",
            "[CV] c1=0.1, c2=100 ..................................................\n",
            "[CV]  c1=0.1, c2=100, roc_auc=0.5764341281386377, log_loss=0.4478798056745984, total=   0.9s\n",
            "[CV] c1=1, c2=0.001 ..................................................\n",
            "[CV]  c1=0.1, c2=100, roc_auc=0.3739659770669158, log_loss=0.583006829454576, total=   0.9s\n",
            "[CV] c1=1, c2=0.001 ..................................................\n",
            "[CV]  c1=0.1, c2=100, roc_auc=0.3758876811594203, log_loss=0.43543512244503835, total=   0.8s\n",
            "[CV] c1=1, c2=0.001 ..................................................\n",
            "[CV]  c1=0.1, c2=100, roc_auc=0.33485788041190834, log_loss=0.7217494454078327, total=   0.9s\n",
            "[Parallel(n_jobs=-1)]: Done  90 tasks      | elapsed:   28.6s\n",
            "[CV]  c1=1, c2=0.001, roc_auc=0.6776505808192608, log_loss=0.49145515528239103, total=   0.8s\n",
            "[CV] c1=1, c2=0.001 ..................................................\n",
            "[CV]  c1=1, c2=0.001, roc_auc=0.36359735973597357, log_loss=1.6630363403392834, total=   0.8s\n",
            "[CV] c1=1, c2=0.001 ..................................................\n",
            "[CV] c1=1, c2=0.01 ...................................................\n",
            "[CV]  c1=1, c2=0.001, roc_auc=0.506938689408893, log_loss=1.142971121851044, total=   0.8s\n",
            "[CV] c1=1, c2=0.01 ...................................................\n",
            "[CV]  c1=1, c2=0.001, roc_auc=0.421213768115942, log_loss=0.5989007603080806, total=   0.8s\n",
            "[CV]  c1=1, c2=0.001, roc_auc=0.3317012261847976, log_loss=1.607365625025113, total=   0.8s\n",
            "[CV] c1=1, c2=0.01 ...................................................\n",
            "[CV]  c1=1, c2=0.01, roc_auc=0.6724221533531507, log_loss=0.49334830492782, total=   0.8s\n",
            "[CV] c1=1, c2=0.01 ...................................................\n",
            "[CV] c1=1, c2=0.01 ...................................................\n",
            "[CV]  c1=1, c2=0.01, roc_auc=0.3914961496149615, log_loss=1.549489040270458, total=   0.8s\n",
            "[CV] c1=1, c2=0.1 ....................................................\n",
            "[CV]  c1=1, c2=0.01, roc_auc=0.4975966971537059, log_loss=1.1291639301359233, total=   0.8s\n",
            "[CV] c1=1, c2=0.1 ....................................................\n",
            "[CV]  c1=1, c2=0.01, roc_auc=0.4120108695652174, log_loss=0.6407632489936289, total=   0.8s\n",
            "[CV] c1=1, c2=0.1 ....................................................\n",
            "[CV]  c1=1, c2=0.01, roc_auc=0.33511041275007714, log_loss=1.6069704286640834, total=   0.9s\n",
            "[CV] c1=1, c2=0.1 ....................................................\n",
            "[CV]  c1=1, c2=0.1, roc_auc=0.6803702063963908, log_loss=0.47898700601936106, total=   0.8s\n",
            "[CV] c1=1, c2=0.1 ....................................................\n",
            "[CV]  c1=1, c2=0.1, roc_auc=0.40568756875687567, log_loss=1.485647977712265, total=   0.8s\n",
            "[CV] c1=1, c2=1 ......................................................\n",
            "[CV]  c1=1, c2=0.1, roc_auc=0.4943119321349466, log_loss=1.1795014818811291, total=   0.8s\n",
            "[CV]  c1=1, c2=0.1, roc_auc=0.4302173913043479, log_loss=0.6016950491089403, total=   0.8s\n",
            "[CV] c1=1, c2=1 ......................................................\n",
            "[CV] c1=1, c2=1 ......................................................\n",
            "[CV]  c1=1, c2=0.1, roc_auc=0.3142764948511462, log_loss=1.5913892017096336, total=   0.8s\n",
            "[Parallel(n_jobs=-1)]: Done 105 tasks      | elapsed:   32.8s\n",
            "[CV] c1=1, c2=1 ......................................................\n",
            "[CV]  c1=1, c2=1, roc_auc=0.7268146648957476, log_loss=0.4416798634855774, total=   0.8s\n",
            "[CV] c1=1, c2=1 ......................................................\n",
            "[CV]  c1=1, c2=1, roc_auc=0.38217821782178213, log_loss=1.3845111237231431, total=   0.8s\n",
            "[CV] c1=1, c2=10 .....................................................\n",
            "[CV]  c1=1, c2=1, roc_auc=0.4669489354649148, log_loss=1.0334767090142918, total=   0.8s\n",
            "[CV] c1=1, c2=10 .....................................................\n",
            "[CV]  c1=1, c2=1, roc_auc=0.3898731884057971, log_loss=0.6036592987389738, total=   0.8s\n",
            "[CV] c1=1, c2=10 .....................................................\n",
            "[CV]  c1=1, c2=1, roc_auc=0.32705743707735907, log_loss=1.4204841174859177, total=   0.8s\n",
            "[CV] c1=1, c2=10 .....................................................\n",
            "[CV]  c1=1, c2=10, roc_auc=0.7217548963801572, log_loss=0.4175972505230787, total=   0.9s\n",
            "[CV] c1=1, c2=10 .....................................................\n",
            "[CV]  c1=1, c2=10, roc_auc=0.3342024202420242, log_loss=1.109336330823521, total=   1.0s\n",
            "[CV]  c1=1, c2=10, roc_auc=0.4446185604291289, log_loss=0.7763585410577457, total=   0.8s\n",
            "[CV] c1=1, c2=100 ....................................................\n",
            "[CV] c1=1, c2=100 ....................................................\n",
            "[CV]  c1=1, c2=10, roc_auc=0.34695652173913044, log_loss=0.5095775986047821, total=   0.8s\n",
            "[CV] c1=1, c2=100 ....................................................\n",
            "[CV]  c1=1, c2=10, roc_auc=0.3025898594236651, log_loss=1.0503263600762285, total=   0.8s\n",
            "[CV] c1=1, c2=100 ....................................................\n",
            "[CV]  c1=1, c2=100, roc_auc=0.565155060822634, log_loss=0.450258575806185, total=   0.8s\n",
            "[CV] c1=1, c2=100 ....................................................\n",
            "[CV]  c1=1, c2=100, roc_auc=0.3455885588558856, log_loss=0.7479375101683037, total=   0.9s\n",
            "[CV] c1=10, c2=0.001 .................................................\n",
            "[CV]  c1=1, c2=100, roc_auc=0.3738002320430334, log_loss=0.5787905202303484, total=   0.9s\n",
            "[CV] c1=10, c2=0.001 .................................................\n",
            "[CV]  c1=1, c2=100, roc_auc=0.379945652173913, log_loss=0.4339078985816871, total=   0.9s\n",
            "[CV] c1=10, c2=0.001 .................................................\n",
            "[CV]  c1=1, c2=100, roc_auc=0.333693425741463, log_loss=0.7048057999089791, total=   0.8s\n",
            "[Parallel(n_jobs=-1)]: Done 120 tasks      | elapsed:   37.6s\n",
            "[CV] c1=10, c2=0.001 .................................................\n",
            "[CV]  c1=10, c2=0.001, roc_auc=0.6870111525731031, log_loss=0.4291981364251497, total=   0.8s\n",
            "[CV] c1=10, c2=0.001 .................................................\n",
            "[CV]  c1=10, c2=0.001, roc_auc=0.3418811881188119, log_loss=0.8121761864591348, total=   0.9s\n",
            "[CV] c1=10, c2=0.01 ..................................................\n",
            "[CV]  c1=10, c2=0.001, roc_auc=0.4090436512121988, log_loss=0.5871075130629826, total=   1.0s\n",
            "[CV] c1=10, c2=0.01 ..................................................\n",
            "[CV]  c1=10, c2=0.001, roc_auc=0.35199275362318844, log_loss=0.4472507594998952, total=   0.9s\n",
            "[CV] c1=10, c2=0.01 ..................................................\n",
            "[CV]  c1=10, c2=0.001, roc_auc=0.2830326327899212, log_loss=0.805695459881084, total=   0.9s\n",
            "[CV] c1=10, c2=0.01 ..................................................\n",
            "[CV]  c1=10, c2=0.01, roc_auc=0.6784095460965994, log_loss=0.4262639240161704, total=   0.8s\n",
            "[CV] c1=10, c2=0.01 ..................................................\n",
            "[CV]  c1=10, c2=0.01, roc_auc=0.3503960396039604, log_loss=0.8128339960346155, total=   0.9s\n",
            "[CV] c1=10, c2=0.1 ...................................................\n",
            "[CV]  c1=10, c2=0.01, roc_auc=0.41641177091024156, log_loss=0.5846891749337575, total=   0.9s\n",
            "[CV] c1=10, c2=0.1 ...................................................\n",
            "[CV]  c1=10, c2=0.01, roc_auc=0.35054347826086957, log_loss=0.4534862247287518, total=   0.8s\n",
            "[CV] c1=10, c2=0.1 ...................................................\n",
            "[CV]  c1=10, c2=0.01, roc_auc=0.30120093156373634, log_loss=0.7708588271771103, total=   0.9s\n",
            "[CV] c1=10, c2=0.1 ...................................................\n",
            "[CV]  c1=10, c2=0.1, roc_auc=0.703413235511142, log_loss=0.4277821729067308, total=   0.9s\n",
            "[CV] c1=10, c2=0.1 ...................................................\n",
            "[CV]  c1=10, c2=0.1, roc_auc=0.3551595159515952, log_loss=0.8080606671315236, total=   0.9s\n",
            "[CV] c1=10, c2=1 .....................................................\n",
            "[CV]  c1=10, c2=0.1, roc_auc=0.422092304910573, log_loss=0.5941956954749659, total=   0.8s\n",
            "[CV] c1=10, c2=1 .....................................................\n",
            "[CV]  c1=10, c2=0.1, roc_auc=0.35233695652173913, log_loss=0.4476093979476625, total=   0.9s\n",
            "[CV] c1=10, c2=1 .....................................................\n",
            "[CV]  c1=10, c2=0.1, roc_auc=0.29546283565756615, log_loss=0.8353461787043142, total=   1.0s\n",
            "[CV] c1=10, c2=1 .....................................................\n",
            "[CV]  c1=10, c2=1, roc_auc=0.6930407100541818, log_loss=0.4297513387354575, total=   0.9s\n",
            "[CV] c1=10, c2=1 .....................................................\n",
            "[CV]  c1=10, c2=1, roc_auc=0.3561496149614961, log_loss=0.7987813831635074, total=   0.9s\n",
            "[Parallel(n_jobs=-1)]: Done 137 tasks      | elapsed:   42.8s\n",
            "[CV] c1=10, c2=10 ....................................................\n",
            "[CV]  c1=10, c2=1, roc_auc=0.37482483764521524, log_loss=0.6083927511657511, total=   0.9s\n",
            "[CV] c1=10, c2=10 ....................................................\n",
            "[CV]  c1=10, c2=1, roc_auc=0.3542572463768116, log_loss=0.45382508028215895, total=   0.9s\n",
            "[CV] c1=10, c2=10 ....................................................\n",
            "[CV]  c1=10, c2=1, roc_auc=0.2962204326720727, log_loss=0.7624733496089563, total=   0.9s\n",
            "[CV] c1=10, c2=10 ....................................................\n",
            "[CV]  c1=10, c2=10, roc_auc=0.6561676469968166, log_loss=0.43748209763324103, total=   0.9s\n",
            "[CV] c1=10, c2=10 ....................................................\n",
            "[CV]  c1=10, c2=10, roc_auc=0.3842684268426843, log_loss=0.7791026197901227, total=   1.0s\n",
            "[CV] c1=10, c2=100 ...................................................\n",
            "[CV]  c1=10, c2=10, roc_auc=0.41347356366869076, log_loss=0.5831711103342422, total=   1.0s\n",
            "[CV] c1=10, c2=100 ...................................................\n",
            "[CV]  c1=10, c2=10, roc_auc=0.3653442028985507, log_loss=0.4434338845498183, total=   1.0s\n",
            "[CV] c1=10, c2=100 ...................................................\n",
            "[CV]  c1=10, c2=10, roc_auc=0.3304946827913241, log_loss=0.7331392362521912, total=   0.9s\n",
            "[CV] c1=10, c2=100 ...................................................\n",
            "[CV]  c1=10, c2=100, roc_auc=0.55935740939852, log_loss=0.45529002199753804, total=   0.7s\n",
            "[CV] c1=10, c2=100 ...................................................\n",
            "[CV]  c1=10, c2=100, roc_auc=0.4035423542354236, log_loss=0.7060279358476321, total=   0.9s\n",
            "[CV] c1=100, c2=0.001 ................................................\n",
            "[CV]  c1=10, c2=100, roc_auc=0.3612186779574186, log_loss=0.5567777428570304, total=   0.9s\n",
            "[CV] c1=100, c2=0.001 ................................................\n",
            "[CV]  c1=10, c2=100, roc_auc=0.402427536231884, log_loss=0.43897522865597577, total=   0.8s\n",
            "[CV] c1=100, c2=0.001 ................................................\n",
            "[CV]  c1=10, c2=100, roc_auc=0.3998989870647324, log_loss=0.6065599747252589, total=   0.9s\n",
            "[CV] c1=100, c2=0.001 ................................................\n",
            "[CV]  c1=100, c2=0.001, roc_auc=0.4827282728272827, log_loss=0.6647032949954317, total=   0.5s\n",
            "[CV] c1=100, c2=0.001 ................................................\n",
            "[CV]  c1=100, c2=0.001, roc_auc=0.4553015806048186, log_loss=0.5245515567460489, total=   0.5s\n",
            "[CV]  c1=100, c2=0.001, roc_auc=0.641157000400565, log_loss=0.4543783253903175, total=   0.8s\n",
            "[CV] c1=100, c2=0.01 .................................................\n",
            "[CV] c1=100, c2=0.01 .................................................\n",
            "[CV]  c1=100, c2=0.001, roc_auc=0.48971014492753623, log_loss=0.4417543335557366, total=   0.6s\n",
            "[Parallel(n_jobs=-1)]: Done 154 tasks      | elapsed:   48.0s\n",
            "[CV] c1=100, c2=0.01 .................................................\n",
            "[CV]  c1=100, c2=0.001, roc_auc=0.48220348494626675, log_loss=0.5854356822744679, total=   0.5s\n",
            "[CV]  c1=100, c2=0.01, roc_auc=0.4827832783278328, log_loss=0.664688776349868, total=   0.5s\n",
            "[CV] c1=100, c2=0.01 .................................................\n",
            "[CV] c1=100, c2=0.01 .................................................\n",
            "[CV]  c1=100, c2=0.01, roc_auc=0.6407353530242659, log_loss=0.45401434676580354, total=   0.8s\n",
            "[CV] c1=100, c2=0.1 ..................................................\n",
            "[CV]  c1=100, c2=0.01, roc_auc=0.4553769192520379, log_loss=0.5245485330787657, total=   0.5s\n",
            "[CV] c1=100, c2=0.1 ..................................................\n",
            "[CV]  c1=100, c2=0.01, roc_auc=0.48969202898550723, log_loss=0.4417546706396736, total=   0.6s\n",
            "[CV] c1=100, c2=0.1 ..................................................\n",
            "[CV]  c1=100, c2=0.01, roc_auc=0.48225960324363765, log_loss=0.5854322384672621, total=   0.6s\n",
            "[CV] c1=100, c2=0.1 ..................................................\n",
            "[CV]  c1=100, c2=0.1, roc_auc=0.4825962596259626, log_loss=0.6644848926744911, total=   0.5s\n",
            "[CV]  c1=100, c2=0.1, roc_auc=0.640714270655451, log_loss=0.4543010456288673, total=   0.8s\n",
            "[CV] c1=100, c2=0.1 ..................................................\n",
            "[CV] c1=100, c2=1 ....................................................\n",
            "[CV]  c1=100, c2=0.1, roc_auc=0.4557536124881341, log_loss=0.5245234902832769, total=   0.5s\n",
            "[CV] c1=100, c2=1 ....................................................\n",
            "[CV]  c1=100, c2=0.1, roc_auc=0.4896376811594203, log_loss=0.4417554766508304, total=   0.7s\n",
            "[CV] c1=100, c2=1 ....................................................\n",
            "[CV]  c1=100, c2=0.1, roc_auc=0.4823016919666657, log_loss=0.5853966075454764, total=   0.6s\n",
            "[CV] c1=100, c2=1 ....................................................\n",
            "[CV]  c1=100, c2=1, roc_auc=0.6398077287964075, log_loss=0.45416474463590867, total=   0.7s\n",
            "[CV] c1=100, c2=1 ....................................................\n",
            "[CV]  c1=100, c2=1, roc_auc=0.45640152485421975, log_loss=0.5243295874393988, total=   0.8s\n",
            "[CV]  c1=100, c2=1, roc_auc=0.48218921892189215, log_loss=0.6649164256874033, total=   1.1s\n",
            "[CV] c1=100, c2=10 ...................................................\n",
            "[CV]  c1=100, c2=1, roc_auc=0.4897282608695653, log_loss=0.4416209616060637, total=   0.6s\n",
            "[CV] c1=100, c2=10 ...................................................\n",
            "[CV] c1=100, c2=10 ...................................................\n",
            "[CV]  c1=100, c2=1, roc_auc=0.48249810600746373, log_loss=0.5855131871061484, total=   0.8s\n",
            "[CV] c1=100, c2=10 ...................................................\n",
            "[CV]  c1=100, c2=10, roc_auc=0.6308055573124197, log_loss=0.4558436441418375, total=   0.7s\n",
            "[CV] c1=100, c2=10 ...................................................\n",
            "[CV]  c1=100, c2=10, roc_auc=0.48361936193619365, log_loss=0.6631299628943269, total=   1.0s\n",
            "[CV] c1=100, c2=100 ..................................................\n",
            "[CV]  c1=100, c2=10, roc_auc=0.49201086956521745, log_loss=0.44286243198832814, total=   0.6s\n",
            "[Parallel(n_jobs=-1)]: Done 173 tasks      | elapsed:   53.2s\n",
            "[CV] c1=100, c2=100 ..................................................\n",
            "[CV]  c1=100, c2=10, roc_auc=0.46245875209064746, log_loss=0.5235276964694692, total=   1.1s\n",
            "[CV] c1=100, c2=100 ..................................................\n",
            "[CV]  c1=100, c2=100, roc_auc=0.6038412075980857, log_loss=0.4656144074714461, total=   0.5s\n",
            "[CV]  c1=100, c2=10, roc_auc=0.48373270854962264, log_loss=0.5837699254110852, total=   0.9s\n",
            "[CV] c1=100, c2=100 ..................................................\n",
            "[CV] c1=100, c2=100 ..................................................\n",
            "[CV]  c1=100, c2=100, roc_auc=0.48423542354235427, log_loss=0.6538664188032001, total=   0.5s\n",
            "[CV]  c1=100, c2=100, roc_auc=0.503021079753492, log_loss=0.5210410466227806, total=   0.5s\n",
            "[CV]  c1=100, c2=100, roc_auc=0.5006702898550726, log_loss=0.4495111429764581, total=   0.3s\n",
            "[CV]  c1=100, c2=100, roc_auc=0.4853601391733775, log_loss=0.5771043163309437, total=   0.3s\n",
            "[Parallel(n_jobs=-1)]: Done 180 out of 180 | elapsed:   54.5s finished\n"
          ],
          "name": "stdout"
        }
      ]
    },
    {
      "cell_type": "code",
      "metadata": {
        "id": "unPmdssg3iq1"
      },
      "source": [
        ""
      ],
      "execution_count": null,
      "outputs": []
    }
  ]
}