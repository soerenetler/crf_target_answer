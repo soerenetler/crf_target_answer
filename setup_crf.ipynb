{
  "nbformat": 4,
  "nbformat_minor": 0,
  "metadata": {
    "colab": {
      "name": "setup_crf.ipynb",
      "provenance": [],
      "collapsed_sections": [],
      "machine_shape": "hm",
      "authorship_tag": "ABX9TyM7EI4xe0o7RrdAQ81VRNPM",
      "include_colab_link": true
    },
    "kernelspec": {
      "name": "python3",
      "display_name": "Python 3"
    },
    "language_info": {
      "name": "python"
    },
    "accelerator": "GPU"
  },
  "cells": [
    {
      "cell_type": "markdown",
      "metadata": {
        "id": "view-in-github",
        "colab_type": "text"
      },
      "source": [
        "<a href=\"https://colab.research.google.com/github/soerenetler/crf_target_answer/blob/main/setup_crf.ipynb\" target=\"_parent\"><img src=\"https://colab.research.google.com/assets/colab-badge.svg\" alt=\"Open In Colab\"/></a>"
      ]
    },
    {
      "cell_type": "code",
      "metadata": {
        "colab": {
          "base_uri": "https://localhost:8080/"
        },
        "id": "oNcMK4O0_c_K",
        "outputId": "e5e47216-40ae-43df-ff23-8a73e7746ab9"
      },
      "source": [
        "import os\n",
        "os.system(\"git clone https://github.com/soerenetler/squad-question-generation.git\")\n",
        "os.system(\"git clone https://github.com/soerenetler/spacy_target_answer.git\")\n",
        "os.system(\"git clone https://github.com/soerenetler/crf_target_answer.git\")\n",
        "\n",
        "from google.colab import drive\n",
        "drive.mount('/content/gdrive')"
      ],
      "execution_count": 2,
      "outputs": [
        {
          "output_type": "stream",
          "text": [
            "Mounted at /content/gdrive\n"
          ],
          "name": "stdout"
        }
      ]
    },
    {
      "cell_type": "code",
      "metadata": {
        "colab": {
          "base_uri": "https://localhost:8080/"
        },
        "id": "QENe59M_AlrZ",
        "outputId": "2c40239f-aaa2-4619-d66e-2b90ee0b3616"
      },
      "source": [
        "!(cd squad-question-generation/; git pull)\n",
        "!(cd crf_target_answer/; git pull)"
      ],
      "execution_count": 3,
      "outputs": [
        {
          "output_type": "stream",
          "text": [
            "Already up to date.\n",
            "Already up to date.\n"
          ],
          "name": "stdout"
        }
      ]
    },
    {
      "cell_type": "code",
      "metadata": {
        "colab": {
          "base_uri": "https://localhost:8080/"
        },
        "id": "QUgfEI1dGAWX",
        "outputId": "c8f7897a-661e-40ee-b5f1-af94b3762959"
      },
      "source": [
        "!pip install -r crf_target_answer/requirements.txt --quiet"
      ],
      "execution_count": 4,
      "outputs": [
        {
          "output_type": "stream",
          "text": [
            "\u001b[K     |████████████████████████████████| 4.9MB 7.4MB/s \n",
            "\u001b[K     |████████████████████████████████| 112kB 47.7MB/s \n",
            "\u001b[K     |████████████████████████████████| 747kB 44.5MB/s \n",
            "\u001b[31mERROR: yellowbrick 0.9.1 has requirement scikit-learn>=0.20, but you'll have scikit-learn 0.19.2 which is incompatible.\u001b[0m\n",
            "\u001b[31mERROR: umap-learn 0.5.1 has requirement scikit-learn>=0.22, but you'll have scikit-learn 0.19.2 which is incompatible.\u001b[0m\n",
            "\u001b[31mERROR: imbalanced-learn 0.4.3 has requirement scikit-learn>=0.20, but you'll have scikit-learn 0.19.2 which is incompatible.\u001b[0m\n",
            "\u001b[31mERROR: eli5 0.11.0 has requirement scikit-learn>=0.20, but you'll have scikit-learn 0.19.2 which is incompatible.\u001b[0m\n",
            "\u001b[?25h"
          ],
          "name": "stdout"
        }
      ]
    },
    {
      "cell_type": "code",
      "metadata": {
        "colab": {
          "base_uri": "https://localhost:8080/"
        },
        "id": "xKz4bJjXHvIM",
        "outputId": "a877dce7-0265-4027-849e-d30545a80ab0"
      },
      "source": [
        "!pip install allennlp allennlp-models -U --quiet"
      ],
      "execution_count": 5,
      "outputs": [
        {
          "output_type": "stream",
          "text": [
            "\u001b[K     |████████████████████████████████| 604kB 8.5MB/s \n",
            "\u001b[K     |████████████████████████████████| 419kB 17.8MB/s \n",
            "\u001b[K     |████████████████████████████████| 266kB 13.4MB/s \n",
            "\u001b[K     |████████████████████████████████| 1.2MB 23.8MB/s \n",
            "\u001b[K     |████████████████████████████████| 317kB 46.7MB/s \n",
            "\u001b[K     |████████████████████████████████| 2.0MB 43.1MB/s \n",
            "\u001b[K     |████████████████████████████████| 102kB 837kB/s \n",
            "\u001b[K     |████████████████████████████████| 2.0MB 43.8MB/s \n",
            "\u001b[K     |████████████████████████████████| 71kB 6.9MB/s \n",
            "\u001b[K     |████████████████████████████████| 61kB 7.1MB/s \n",
            "\u001b[K     |████████████████████████████████| 133kB 48.7MB/s \n",
            "\u001b[K     |████████████████████████████████| 102kB 11.3MB/s \n",
            "\u001b[K     |████████████████████████████████| 163kB 48.0MB/s \n",
            "\u001b[K     |████████████████████████████████| 7.3MB 48.1MB/s \n",
            "\u001b[K     |████████████████████████████████| 81kB 9.1MB/s \n",
            "\u001b[K     |████████████████████████████████| 3.2MB 51.5MB/s \n",
            "\u001b[K     |████████████████████████████████| 890kB 33.8MB/s \n",
            "\u001b[K     |████████████████████████████████| 71kB 8.4MB/s \n",
            "\u001b[?25h  Building wheel for jsonnet (setup.py) ... \u001b[?25l\u001b[?25hdone\n",
            "  Building wheel for overrides (setup.py) ... \u001b[?25l\u001b[?25hdone\n",
            "  Building wheel for boto3 (setup.py) ... \u001b[?25l\u001b[?25hdone\n",
            "  Building wheel for ftfy (setup.py) ... \u001b[?25l\u001b[?25hdone\n",
            "  Building wheel for word2number (setup.py) ... \u001b[?25l\u001b[?25hdone\n",
            "  Building wheel for subprocess32 (setup.py) ... \u001b[?25l\u001b[?25hdone\n",
            "  Building wheel for pathtools (setup.py) ... \u001b[?25l\u001b[?25hdone\n",
            "  Building wheel for sacremoses (setup.py) ... \u001b[?25l\u001b[?25hdone\n",
            "\u001b[31mERROR: botocore 1.20.39 has requirement urllib3<1.27,>=1.25.4, but you'll have urllib3 1.24.3 which is incompatible.\u001b[0m\n"
          ],
          "name": "stdout"
        }
      ]
    },
    {
      "cell_type": "code",
      "metadata": {
        "colab": {
          "base_uri": "https://localhost:8080/"
        },
        "id": "g3x5DKJ-N5En",
        "outputId": "e28d0e21-4a1a-4cf3-985f-3f9b13fb1637"
      },
      "source": [
        "!pip install --quiet -U pip setuptools wheel"
      ],
      "execution_count": 9,
      "outputs": [
        {
          "output_type": "stream",
          "text": [
            "\u001b[K     |████████████████████████████████| 1.5MB 8.8MB/s \n",
            "\u001b[K     |████████████████████████████████| 788kB 29.0MB/s \n",
            "\u001b[31mERROR: datascience 0.10.6 has requirement folium==0.2.1, but you'll have folium 0.8.3 which is incompatible.\u001b[0m\n",
            "\u001b[?25h"
          ],
          "name": "stdout"
        }
      ]
    },
    {
      "cell_type": "code",
      "metadata": {
        "id": "XHoJyGkb9ZyA",
        "outputId": "e9f5650c-6d56-4700-80bb-2a7b03602362",
        "colab": {
          "base_uri": "https://localhost:8080/"
        }
      },
      "source": [
        "!pip install --quiet -U spacy[cuda110,transformers,lookups]"
      ],
      "execution_count": 10,
      "outputs": [
        {
          "output_type": "stream",
          "text": [
            "\u001b[K     |████████████████████████████████| 12.8 MB 8.2 MB/s \n",
            "\u001b[K     |████████████████████████████████| 1.1 MB 53.8 MB/s \n",
            "\u001b[K     |████████████████████████████████| 9.1 MB 46.9 MB/s \n",
            "\u001b[K     |████████████████████████████████| 456 kB 50.5 MB/s \n",
            "\u001b[K     |████████████████████████████████| 165.3 MB 15 kB/s \n",
            "\u001b[K     |████████████████████████████████| 93.4 MB 32 kB/s \n",
            "\u001b[K     |████████████████████████████████| 113 kB 51.3 MB/s \n",
            "\u001b[K     |████████████████████████████████| 1.8 MB 48.2 MB/s \n",
            "\u001b[K     |████████████████████████████████| 977 kB 50.1 MB/s \n",
            "\u001b[K     |████████████████████████████████| 2.9 MB 45.2 MB/s \n",
            "\u001b[?25h  Building wheel for smart-open (setup.py) ... \u001b[?25l\u001b[?25hdone\n",
            "  Building wheel for torchcontrib (setup.py) ... \u001b[?25l\u001b[?25hdone\n"
          ],
          "name": "stdout"
        }
      ]
    },
    {
      "cell_type": "code",
      "metadata": {
        "id": "zdyV7cqd9coW",
        "outputId": "f32b9b7f-e67e-49a6-ef65-1ce9278f96fa",
        "colab": {
          "base_uri": "https://localhost:8080/"
        }
      },
      "source": [
        "!python -m spacy download en_core_web_sm --quiet\n",
        "!python -m spacy download en_core_web_trf --quiet"
      ],
      "execution_count": 11,
      "outputs": [
        {
          "output_type": "stream",
          "text": [
            "2021-03-27 18:33:56.645938: I tensorflow/stream_executor/platform/default/dso_loader.cc:49] Successfully opened dynamic library libcudart.so.11.0\n",
            "\u001b[K     |████████████████████████████████| 13.7 MB 7.0 MB/s \n",
            "\u001b[?25h\u001b[38;5;2m✔ Download and installation successful\u001b[0m\n",
            "You can now load the package via spacy.load('en_core_web_sm')\n",
            "2021-03-27 18:34:05.960940: I tensorflow/stream_executor/platform/default/dso_loader.cc:49] Successfully opened dynamic library libcudart.so.11.0\n",
            "\u001b[K     |████████████████████████████████| 459.7 MB 16 kB/s \n",
            "\u001b[?25h\u001b[38;5;2m✔ Download and installation successful\u001b[0m\n",
            "You can now load the package via spacy.load('en_core_web_trf')\n"
          ],
          "name": "stdout"
        }
      ]
    },
    {
      "cell_type": "code",
      "metadata": {
        "colab": {
          "base_uri": "https://localhost:8080/"
        },
        "id": "3VzqXDlRN-8r",
        "outputId": "fbfafc76-7fd5-4a54-9822-9d8d0b51d865"
      },
      "source": [
        "!spacy validate"
      ],
      "execution_count": 12,
      "outputs": [
        {
          "output_type": "stream",
          "text": [
            "2021-03-27 18:34:43.309476: I tensorflow/stream_executor/platform/default/dso_loader.cc:49] Successfully opened dynamic library libcudart.so.11.0\n",
            "\u001b[2K\u001b[38;5;2m✔ Loaded compatibility table\u001b[0m\n",
            "\u001b[1m\n",
            "================= Installed pipeline packages (spaCy v3.0.5) =================\u001b[0m\n",
            "\u001b[38;5;4mℹ spaCy installation: /usr/local/lib/python3.7/dist-packages/spacy\u001b[0m\n",
            "\n",
            "NAME              SPACY            VERSION                            \n",
            "en_core_web_trf   >=3.0.0,<3.1.0   \u001b[38;5;2m3.0.0\u001b[0m   \u001b[38;5;2m✔\u001b[0m\n",
            "en_core_web_sm    >=3.0.0,<3.1.0   \u001b[38;5;2m3.0.0\u001b[0m   \u001b[38;5;2m✔\u001b[0m\n",
            "\n"
          ],
          "name": "stdout"
        }
      ]
    },
    {
      "cell_type": "code",
      "metadata": {
        "id": "3EMx9PeN91l5"
      },
      "source": [
        "!sed -i 's/.cpu()//g' /usr/local/lib/python3.7/dist-packages/allennlp_models/structured_prediction/models/srl_bert.py"
      ],
      "execution_count": 13,
      "outputs": []
    },
    {
      "cell_type": "code",
      "metadata": {
        "colab": {
          "base_uri": "https://localhost:8080/"
        },
        "id": "n_MvYbw7FkBV",
        "outputId": "1c96b348-81d4-48ba-90e6-acd2d0523e95"
      },
      "source": [
        "!python crf_target_answer/preprocess.py --data-folder /content/gdrive/MyDrive/mt-qg-data/01_data/preprocessedData/ --dataset squad --output /content/gdrive/MyDrive/mt-qg-data/00_models/"
      ],
      "execution_count": null,
      "outputs": [
        {
          "output_type": "stream",
          "text": [
            "2021-03-27 18:40:02.735908: I tensorflow/stream_executor/platform/default/dso_loader.cc:49] Successfully opened dynamic library libcudart.so.11.0\n",
            "/usr/local/lib/python3.7/dist-packages/sklearn/feature_extraction/text.py:17: DeprecationWarning: Using or importing the ABCs from 'collections' instead of from 'collections.abc' is deprecated since Python 3.3,and in 3.9 it will stop working\n",
            "  from collections import Mapping, defaultdict\n",
            "None\n",
            "/content/gdrive/MyDrive/mt-qg-data/01_data/preprocessedData/\n",
            "Plugin allennlp_models could not be loaded: No module named 'nltk.translate.meteor_score'\n",
            "74099it [08:20, 148.01it/s]\n",
            "57107it [4:19:45, 72.22s/it]"
          ],
          "name": "stdout"
        }
      ]
    },
    {
      "cell_type": "code",
      "metadata": {
        "id": "TExnXa4qF8aJ"
      },
      "source": [
        ""
      ],
      "execution_count": null,
      "outputs": []
    },
    {
      "cell_type": "code",
      "metadata": {
        "id": "nlDRHZoLG-0B"
      },
      "source": [
        ""
      ],
      "execution_count": null,
      "outputs": []
    }
  ]
}