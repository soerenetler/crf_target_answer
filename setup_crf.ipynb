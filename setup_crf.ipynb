{
  "nbformat": 4,
  "nbformat_minor": 0,
  "metadata": {
    "colab": {
      "name": "setup_crf.ipynb",
      "provenance": [],
      "collapsed_sections": [],
      "machine_shape": "hm",
      "authorship_tag": "ABX9TyNr9oG/wT/+EwIT337maz4v",
      "include_colab_link": true
    },
    "kernelspec": {
      "name": "python3",
      "display_name": "Python 3"
    },
    "language_info": {
      "name": "python"
    },
    "accelerator": "GPU"
  },
  "cells": [
    {
      "cell_type": "markdown",
      "metadata": {
        "id": "view-in-github",
        "colab_type": "text"
      },
      "source": [
        "<a href=\"https://colab.research.google.com/github/soerenetler/crf_target_answer/blob/main/setup_crf.ipynb\" target=\"_parent\"><img src=\"https://colab.research.google.com/assets/colab-badge.svg\" alt=\"Open In Colab\"/></a>"
      ]
    },
    {
      "cell_type": "code",
      "metadata": {
        "colab": {
          "base_uri": "https://localhost:8080/"
        },
        "id": "oNcMK4O0_c_K",
        "outputId": "233e3442-09c2-45d9-9b81-97a511d10012"
      },
      "source": [
        "import os\n",
        "os.system(\"git clone https://github.com/soerenetler/squad-question-generation.git\")\n",
        "os.system(\"git clone https://github.com/soerenetler/spacy_target_answer.git\")\n",
        "os.system(\"git clone https://github.com/soerenetler/crf_target_answer.git\")\n",
        "\n",
        "from google.colab import drive\n",
        "drive.mount('/content/gdrive')"
      ],
      "execution_count": 1,
      "outputs": [
        {
          "output_type": "stream",
          "text": [
            "Mounted at /content/gdrive\n"
          ],
          "name": "stdout"
        }
      ]
    },
    {
      "cell_type": "code",
      "metadata": {
        "colab": {
          "base_uri": "https://localhost:8080/"
        },
        "id": "QENe59M_AlrZ",
        "outputId": "5a4cb89e-164d-44cc-82c8-5b2fdaa6a169"
      },
      "source": [
        "!(cd squad-question-generation/; git pull)\n",
        "!(cd crf_target_answer/; git pull)"
      ],
      "execution_count": 12,
      "outputs": [
        {
          "output_type": "stream",
          "text": [
            "Already up to date.\n",
            "remote: Enumerating objects: 5, done.\u001b[K\n",
            "remote: Counting objects: 100% (5/5), done.\u001b[K\n",
            "remote: Compressing objects: 100% (1/1), done.\u001b[K\n",
            "remote: Total 3 (delta 2), reused 3 (delta 2), pack-reused 0\u001b[K\n",
            "Unpacking objects: 100% (3/3), done.\n",
            "From https://github.com/soerenetler/crf_target_answer\n",
            "   21a6cd4..20fab00  main       -> origin/main\n",
            "Updating 21a6cd4..20fab00\n",
            "Fast-forward\n",
            " preprocess.py | 1 \u001b[31m-\u001b[m\n",
            " 1 file changed, 1 deletion(-)\n"
          ],
          "name": "stdout"
        }
      ]
    },
    {
      "cell_type": "code",
      "metadata": {
        "colab": {
          "base_uri": "https://localhost:8080/"
        },
        "id": "QUgfEI1dGAWX",
        "outputId": "35b5afc5-b2dc-42ee-cac3-01ff4d04b356"
      },
      "source": [
        "!pip install -r crf_target_answer/requirements.txt --quiet"
      ],
      "execution_count": 3,
      "outputs": [
        {
          "output_type": "stream",
          "text": [
            "\u001b[K     |████████████████████████████████| 4.9MB 4.4MB/s \n",
            "\u001b[K     |████████████████████████████████| 747kB 39.1MB/s \n",
            "\u001b[31mERROR: yellowbrick 0.9.1 has requirement scikit-learn>=0.20, but you'll have scikit-learn 0.19.2 which is incompatible.\u001b[0m\n",
            "\u001b[31mERROR: umap-learn 0.5.1 has requirement scikit-learn>=0.22, but you'll have scikit-learn 0.19.2 which is incompatible.\u001b[0m\n",
            "\u001b[31mERROR: imbalanced-learn 0.4.3 has requirement scikit-learn>=0.20, but you'll have scikit-learn 0.19.2 which is incompatible.\u001b[0m\n",
            "\u001b[?25h"
          ],
          "name": "stdout"
        }
      ]
    },
    {
      "cell_type": "code",
      "metadata": {
        "colab": {
          "base_uri": "https://localhost:8080/"
        },
        "id": "xKz4bJjXHvIM",
        "outputId": "b4a8b6b5-f700-4f80-c69c-3493ac7efe8a"
      },
      "source": [
        "!pip install allennlp allennlp-models -U --quiet"
      ],
      "execution_count": 4,
      "outputs": [
        {
          "output_type": "stream",
          "text": [
            "\u001b[K     |████████████████████████████████| 593kB 6.0MB/s \n",
            "\u001b[K     |████████████████████████████████| 409kB 7.5MB/s \n",
            "\u001b[K     |████████████████████████████████| 266kB 13.0MB/s \n",
            "\u001b[K     |████████████████████████████████| 12.8MB 15.2MB/s \n",
            "\u001b[K     |████████████████████████████████| 133kB 45.7MB/s \n",
            "\u001b[K     |████████████████████████████████| 317kB 44.4MB/s \n",
            "\u001b[K     |████████████████████████████████| 776.8MB 24kB/s \n",
            "\u001b[K     |████████████████████████████████| 1.9MB 45.4MB/s \n",
            "\u001b[K     |████████████████████████████████| 1.2MB 40.7MB/s \n",
            "\u001b[K     |████████████████████████████████| 61kB 7.1MB/s \n",
            "\u001b[K     |████████████████████████████████| 71kB 7.3MB/s \n",
            "\u001b[K     |████████████████████████████████| 7.3MB 40.0MB/s \n",
            "\u001b[K     |████████████████████████████████| 81kB 8.3MB/s \n",
            "\u001b[K     |████████████████████████████████| 3.2MB 52.1MB/s \n",
            "\u001b[K     |████████████████████████████████| 890kB 36.7MB/s \n",
            "\u001b[?25h  Building wheel for jsonnet (setup.py) ... \u001b[?25l\u001b[?25hdone\n",
            "  Building wheel for overrides (setup.py) ... \u001b[?25l\u001b[?25hdone\n",
            "  Building wheel for word2number (setup.py) ... \u001b[?25l\u001b[?25hdone\n",
            "  Building wheel for ftfy (setup.py) ... \u001b[?25l\u001b[?25hdone\n",
            "  Building wheel for sacremoses (setup.py) ... \u001b[?25l\u001b[?25hdone\n",
            "\u001b[31mERROR: torchtext 0.9.0 has requirement torch==1.8.0, but you'll have torch 1.7.1 which is incompatible.\u001b[0m\n",
            "\u001b[31mERROR: botocore 1.20.34 has requirement urllib3<1.27,>=1.25.4, but you'll have urllib3 1.24.3 which is incompatible.\u001b[0m\n"
          ],
          "name": "stdout"
        }
      ]
    },
    {
      "cell_type": "code",
      "metadata": {
        "colab": {
          "base_uri": "https://localhost:8080/"
        },
        "id": "g3x5DKJ-N5En",
        "outputId": "939613f5-22ec-4a56-baf4-b74747a02868"
      },
      "source": [
        "!python -m spacy download en_core_web_sm --quiet\n",
        "!python -m spacy download en_core_web_md --quiet\n",
        "!python -m spacy download en_core_web_lg --quiet"
      ],
      "execution_count": 5,
      "outputs": [
        {
          "output_type": "stream",
          "text": [
            "\u001b[38;5;2m✔ Download and installation successful\u001b[0m\n",
            "You can now load the model via spacy.load('en_core_web_sm')\n",
            "\u001b[K     |████████████████████████████████| 96.4MB 51.7MB/s \n",
            "\u001b[?25h  Building wheel for en-core-web-md (setup.py) ... \u001b[?25l\u001b[?25hdone\n",
            "\u001b[38;5;2m✔ Download and installation successful\u001b[0m\n",
            "You can now load the model via spacy.load('en_core_web_md')\n",
            "\u001b[K     |████████████████████████████████| 827.9MB 1.2MB/s \n",
            "\u001b[?25h  Building wheel for en-core-web-lg (setup.py) ... \u001b[?25l\u001b[?25hdone\n",
            "\u001b[38;5;2m✔ Download and installation successful\u001b[0m\n",
            "You can now load the model via spacy.load('en_core_web_lg')\n"
          ],
          "name": "stdout"
        }
      ]
    },
    {
      "cell_type": "code",
      "metadata": {
        "colab": {
          "base_uri": "https://localhost:8080/"
        },
        "id": "3VzqXDlRN-8r",
        "outputId": "cb61ebbe-924f-4fe3-c933-82eaf5c6371e"
      },
      "source": [
        "!spacy validate"
      ],
      "execution_count": 6,
      "outputs": [
        {
          "output_type": "stream",
          "text": [
            "\r⠙ Loading compatibility table...\r⠹ Loading compatibility table...\r\u001b[2K\u001b[38;5;2m✔ Loaded compatibility table\u001b[0m\n",
            "\u001b[1m\n",
            "====================== Installed models (spaCy v2.2.4) ======================\u001b[0m\n",
            "\u001b[38;5;4mℹ spaCy installation: /usr/local/lib/python3.7/dist-packages/spacy\u001b[0m\n",
            "\n",
            "TYPE      NAME             MODEL            VERSION                            \n",
            "package   en-core-web-sm   en_core_web_sm   \u001b[38;5;2m2.2.5\u001b[0m   \u001b[38;5;2m✔\u001b[0m\n",
            "package   en-core-web-md   en_core_web_md   \u001b[38;5;2m2.2.5\u001b[0m   \u001b[38;5;2m✔\u001b[0m\n",
            "package   en-core-web-lg   en_core_web_lg   \u001b[38;5;2m2.2.5\u001b[0m   \u001b[38;5;2m✔\u001b[0m\n",
            "link      en               en_core_web_sm   \u001b[38;5;2m2.2.5\u001b[0m   \u001b[38;5;2m✔\u001b[0m\n",
            "\n"
          ],
          "name": "stdout"
        }
      ]
    },
    {
      "cell_type": "code",
      "metadata": {
        "colab": {
          "base_uri": "https://localhost:8080/"
        },
        "id": "n_MvYbw7FkBV",
        "outputId": "d7cf337b-a3f0-4b04-d422-fa9cd913b192"
      },
      "source": [
        "!python crf_target_answer/preprocess.py --samples 10 --data-folder /content/gdrive/MyDrive/mt-qg-data/01_data/preprocessedData/ --dataset quac --output /content/gdrive/MyDrive/mt-qg-data/00_models/"
      ],
      "execution_count": 13,
      "outputs": [
        {
          "output_type": "stream",
          "text": [
            "/usr/local/lib/python3.7/dist-packages/sklearn/feature_extraction/text.py:17: DeprecationWarning: Using or importing the ABCs from 'collections' instead of from 'collections.abc' is deprecated since Python 3.3,and in 3.9 it will stop working\n",
            "  from collections import Mapping, defaultdict\n",
            "10\n",
            "/content/gdrive/MyDrive/mt-qg-data/01_data/preprocessedData/\n",
            "Plugin allennlp_models could not be loaded: No module named 'nltk.translate.meteor_score'\n",
            "10it [00:00, 250.11it/s]\n",
            "0it [00:00, ?it/s]['Film', 'critic', 'Roger', 'Ebert', 'has', 'credited', 'the', 'movie', \"'s\", 'success', '\"', 'to', 'the', 'performance', 'by', 'Sissy', 'Spacek', 'as', 'Loretta', 'Lynn', '.']\n",
            "1it [00:00,  1.93it/s]['<<WHITESPACE>>']\n",
            "['Cellier', 'owed', 'much', 'to', 'the', 'influence', 'of', 'Sullivan', '.']\n",
            "3it [00:00,  2.46it/s]['It', 'was', 'made', 'available', 'on', 'iTunes', 'starting', 'February', '5', ',', '2013', ',', 'and', 'reached', 'number', 'one', 'on', 'the', 'Country', 'Airplay', 'chart', 'in', 'April', '2013', '.']\n",
            "4it [00:01,  1.97it/s]['Christy', 'then', 'relocated', 'from', 'Florida', 'to', 'New', 'York', 'City', ',', 'where', 'the', 'show', 'is', 'based', '.']\n",
            "5it [00:02,  2.02it/s]['Buck', 'and', 'Stipe', 'started', 'writing', 'music', 'together', ';', 'at', 'the', 'time', 'Stipe', 'also', 'spent', 'time', 'in', 'a', 'local', 'group', 'named', 'Gangster', '.']\n",
            "6it [00:02,  1.76it/s]['After', 'cutting', 'ties', 'with', 'Universum', ',', 'the', 'WBA', 'issued', 'an', 'interim', 'title', 'fight', 'between', 'Golovkin', ',', 'ranked', '#', '1', 'at', 'the', 'time', ',', 'and', 'Milton', 'Nunez', '.']\n",
            "7it [00:03,  1.63it/s]['The', 'revolt', 'did', 'not', 'go', 'as', 'planned', ',', '\"', 'mainly', 'because', 'the', 'call', 'to', 'revolution', 'received', 'no', 'immediate', ',', 'spontaneous', 'support', 'from', 'the', 'masses', '.']\n",
            "8it [00:04,  1.53it/s]['Albini', 'formed', 'Shellac', 'in', '1992', '.']\n",
            "9it [00:04,  1.83it/s]['A', 'month', 'after', 'joining', 'Menudo', ',', 'he', 'made', 'his', 'debut', 'performance', 'with', 'the', 'group', 'at', 'the', 'Luis', 'A.', 'Ferre', 'Performing', 'Arts', 'Center', 'in', 'San', 'Juan', '.']\n",
            "10it [00:05,  1.97it/s]\n",
            "0it [00:00, ?it/s]['That', \"'s\", 'what', 'you', \"'re\", 'going', 'to', 'wear', '.', '\"']\n",
            "1it [00:00,  1.87it/s]['He', 'updated', 'and', 'revised', 'his', 'post', '-', 'show', 'routines', 'as', 'diligently', 'as', 'those', 'for', 'his', 'radio', 'program', '.']\n",
            "2it [00:01,  1.99it/s]\n"
          ],
          "name": "stdout"
        }
      ]
    },
    {
      "cell_type": "code",
      "metadata": {
        "id": "TExnXa4qF8aJ"
      },
      "source": [
        ""
      ],
      "execution_count": 19,
      "outputs": []
    },
    {
      "cell_type": "code",
      "metadata": {
        "id": "nlDRHZoLG-0B"
      },
      "source": [
        ""
      ],
      "execution_count": null,
      "outputs": []
    }
  ]
}